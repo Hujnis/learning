{
 "cells": [
  {
   "cell_type": "markdown",
   "metadata": {
    "colab_type": "text",
    "id": "view-in-github"
   },
   "source": [
    "<a href=\"https://colab.research.google.com/github/hrbolek/learning/blob/master/itsystems/01_intro.ipynb\" target=\"_parent\"><img src=\"https://colab.research.google.com/assets/colab-badge.svg\" alt=\"Open In Colab\"/></a>"
   ]
  },
  {
   "cell_type": "markdown",
   "metadata": {
    "id": "AaO91qs9r-Ow"
   },
   "source": [
    "# Úvodní hodina"
   ]
  },
  {
   "cell_type": "markdown",
   "metadata": {
    "id": "_OoldAuZr-O7"
   },
   "source": [
    "Cílem předmětu je poskytnou vám v některých oblastech jen přehledovou informaci, zatímco v jiných půjdeme do hloubky. Pokud jste nadšenci do tvorby informačních systémů či webových aplikací, je možné, že již dávno jste si některými částmi předmětu prošli, že jste shlédli desítky hodin videí na youtube jako je např. \n",
    "\n",
    "> **Doporučené video**\n",
    "> \n",
    "> [Web Development In 2021 - A Practical Guide 1h 5min](https://www.youtube.com/watch?v=VfGW0Qiy2I0). \n",
    "\n",
    "Podotýkám, že velmi často se jedná o vysoce kvalitní videa, někdy i natočená v rámci konferenčních vystoupení. V rámci textů naleznete celou řadu odkazů na taková videa a dokonce u některých z nich po vás vyžaduji, abyste je shlédli.\n"
   ]
  },
  {
   "cell_type": "markdown",
   "metadata": {
    "id": "VVUiEHEIr-O9"
   },
   "source": [
    "## Struktura semestru"
   ]
  },
  {
   "cell_type": "markdown",
   "metadata": {
    "id": "NQhkCVOwr-O_"
   },
   "source": [
    "Následující odrážky specifikují (ne nutně ve správném pořadí), s čím se v semestru setkáte.\n",
    "\n",
    "- Základní techniky\n",
    "    - GIT\n",
    "    - Docker\n",
    "    - pojmy CI a CD\n",
    "        - testování\n",
    "    - Nástroje pro vývoj\n",
    "\n",
    "- Architektura webové aplikace\n",
    "    - Koncepty\n",
    "        - MVC\n",
    "        - Microservices\n",
    "        - Microfrontends\n",
    "    - Protokoly\n",
    "        - http\n",
    "        - ws\n",
    "        - secure connection\n",
    "    \n",
    "- Klient webové aplikace\n",
    "    - Značkovací jazyky\n",
    "    - Prvky webové stránky\n",
    "    - UI vs. Data\n",
    "         - CSS\n",
    "         - Bootstrap\n",
    "         - Responzivní web\n",
    "         \n",
    "    - Jazyky třídy Javascript\n",
    "        - Type Script\n",
    "        - Coffee Script\n",
    "        - Babel\n",
    "    - Web Assembly\n",
    "    \n",
    "    - Knihovny a nástroje\n",
    "        - npm\n",
    "        - jQuery\n",
    "        - React\n",
    "        - Redux\n",
    "\n",
    "- Server webové aplikace\n",
    "    - .Net\n",
    "    - PHP\n",
    "    - Python\n",
    "        - Tornado\n",
    "        - Flask\n",
    "\n",
    "- Podpůrné prvky webové aplikace\n",
    "    - Autentizace\n",
    "        - OAuth\n",
    "        - Keycloak\n",
    "    - Datové struktury\n",
    "        - JSON\n",
    "        - XML\n",
    "    - API\n",
    "        - Swagger\n",
    "        - OData\n",
    "        - GraphQL"
   ]
  },
  {
   "cell_type": "code",
   "execution_count": null,
   "metadata": {
    "id": "3MFsvJh3r-PA"
   },
   "outputs": [],
   "source": []
  }
 ],
 "metadata": {
  "colab": {
   "include_colab_link": true,
   "name": "01_intro.ipynb",
   "provenance": [],
   "toc_visible": true
  },
  "kernelspec": {
   "display_name": "Python 3 (ipykernel)",
   "language": "python",
   "name": "python3"
  },
  "language_info": {
   "codemirror_mode": {
    "name": "ipython",
    "version": 3
   },
   "file_extension": ".py",
   "mimetype": "text/x-python",
   "name": "python",
   "nbconvert_exporter": "python",
   "pygments_lexer": "ipython3",
   "version": "3.9.12"
  }
 },
 "nbformat": 4,
 "nbformat_minor": 4
}
