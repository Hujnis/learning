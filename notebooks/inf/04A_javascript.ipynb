{
 "cells": [
  {
   "cell_type": "markdown",
   "id": "fdea0b1b-eeb6-4c4a-93bd-0e06658b72b2",
   "metadata": {},
   "source": [
    "# Javascript"
   ]
  },
  {
   "cell_type": "markdown",
   "id": "b9ab7aef-467b-4dc3-82cc-8f494f5ec2ed",
   "metadata": {},
   "source": [
    "## Datové struktury"
   ]
  },
  {
   "cell_type": "markdown",
   "id": "41c41d10-a06b-4965-91ed-ffad05882a8f",
   "metadata": {
    "slideshow": {
     "slide_type": "fragment"
    }
   },
   "source": [
    "Javascript rozlišuje pouze datové typy ```number```, ```string```, ```boolean``` a vše ostatní je ```object```.\n",
    "Proměnné, pole, dictionary,\n",
    "cykly (for in, for of) a podmínky\n",
    "funkce\n",
    "třídy"
   ]
  },
  {
   "cell_type": "markdown",
   "id": "34e5cda6-8b9c-42f8-b6a7-df05ddce0fc9",
   "metadata": {
    "slideshow": {
     "slide_type": "subslide"
    }
   },
   "source": [
    "### Proměnné"
   ]
  },
  {
   "cell_type": "markdown",
   "id": "0decc2c6-004b-47ee-92cd-7575d86c027f",
   "metadata": {
    "slideshow": {
     "slide_type": "fragment"
    }
   },
   "source": [
    "Proměnnou zavádíte pomocí klíčových slov ```let``` nebo ```const```. Ve starších kódech se lze setkat s ```var```, případně jsou proměnné použity k uložení výsledků výrazů, aniž by byly uvozeny klíčovým slovem. Takové proměnné mohou mít v některých verzích jazyka specifický význam a silně se nedoporučuje je používat. Proto jiné verze jazyka mohou považovat za chybu je-li proměnná použita pro uložení hodnoty aniž by předtím byla uvozena pomocí klíčového slova ```let```.\n",
    "\n",
    "Klíčové slovo ```const``` se používá pro uložení výsledků výrazů, které již nesmí být přepsány (koncept immutable)."
   ]
  },
  {
   "cell_type": "markdown",
   "id": "8d1b8693-1c1d-424e-a4b1-06f2c0ce993f",
   "metadata": {
    "slideshow": {
     "slide_type": "subslide"
    }
   },
   "source": [
    "Základní datové typy"
   ]
  },
  {
   "cell_type": "code",
   "execution_count": 65,
   "id": "6f757223-8626-48aa-86fb-95c765488579",
   "metadata": {
    "slideshow": {
     "slide_type": "fragment"
    }
   },
   "outputs": [
    {
     "name": "stdout",
     "output_type": "stream",
     "text": [
      "\u001b[33m12\u001b[39m\n"
     ]
    }
   ],
   "source": [
    "const cislo = 12; //proměnná typu number\n",
    "console.log(cislo);"
   ]
  },
  {
   "cell_type": "code",
   "execution_count": 70,
   "id": "88fd412a-c596-4751-8996-6f66750f4146",
   "metadata": {},
   "outputs": [
    {
     "name": "stdout",
     "output_type": "stream",
     "text": [
      "text\n",
      "text v uvozovkach\n",
      "text v backquote\n"
     ]
    }
   ],
   "source": [
    "const retezec = 'text'; //proměnná typu string\n",
    "console.log(retezec);\n",
    "const retezec2 = \"text v uvozovkach\";\n",
    "console.log(retezec2);\n",
    "const retezec3 = `text v backquote`;\n",
    "console.log(retezec3);"
   ]
  },
  {
   "cell_type": "code",
   "execution_count": 71,
   "id": "905e62a2-6a60-4b0d-9170-b27306ec3eb2",
   "metadata": {},
   "outputs": [
    {
     "name": "stdout",
     "output_type": "stream",
     "text": [
      "\u001b[33mtrue\u001b[39m\n",
      "\u001b[33mfalse\u001b[39m\n"
     ]
    }
   ],
   "source": [
    "const pravda = true; //proměnná typu boolean\n",
    "console.log(pravda);\n",
    "const nepravda = false; //proměnná typu boolean\n",
    "console.log(nepravda);"
   ]
  },
  {
   "cell_type": "markdown",
   "id": "10842bc3-549f-43bd-a64f-88642e17d2e6",
   "metadata": {},
   "source": [
    "### Operátory"
   ]
  },
  {
   "cell_type": "markdown",
   "id": "5180680d-c61b-4240-a9f2-0708bd2fe1a0",
   "metadata": {},
   "source": [
    "Mezi operátory řadíme \n",
    "- +, součet\n",
    "- -, rozdíl\n",
    "- \\*, součin\n",
    "- /. podíl\n",
    "\n",
    "Tyto považujme za základní. Můžete se setkat i sa dalšími, např. \n",
    "- \\>\\>, bitový posun doprava\n",
    "- \\<\\<, bitový posun doleva\n",
    "- ===, rovnost\n",
    "- !==, nerovnost\n",
    "- \\>, větší\n",
    "- \\< menší\n",
    "- & and\n",
    "- | or. "
   ]
  },
  {
   "cell_type": "code",
   "execution_count": 77,
   "id": "7c6d56b9-688b-4a13-8413-4f872f769d9d",
   "metadata": {},
   "outputs": [
    {
     "name": "stdout",
     "output_type": "stream",
     "text": [
      "\u001b[33m8\u001b[39m\n"
     ]
    }
   ],
   "source": [
    "const a = 5;\n",
    "const b = 2;\n",
    "let c = a + b;\n",
    "c = c + 1;\n",
    "console.log(c);"
   ]
  },
  {
   "cell_type": "code",
   "execution_count": 78,
   "id": "8cfc71e2-0726-4058-a0ce-b07d768d1677",
   "metadata": {},
   "outputs": [
    {
     "name": "stdout",
     "output_type": "stream",
     "text": [
      "\u001b[33m48.8\u001b[39m\n"
     ]
    }
   ],
   "source": [
    "const a = 5e+1; //50\n",
    "const b = 2.2;\n",
    "let c = a - b;\n",
    "c = c + 1;\n",
    "console.log(c);"
   ]
  },
  {
   "cell_type": "code",
   "execution_count": 63,
   "id": "8b155465-12f2-4883-8e33-a8bedaf6fed6",
   "metadata": {},
   "outputs": [
    {
     "name": "stdout",
     "output_type": "stream",
     "text": [
      "\u001b[33m12.594095010923853\u001b[39m\n",
      "\u001b[33m5.010923853632221\u001b[39m\n"
     ]
    }
   ],
   "source": [
    "const a = 5.12345678901;\n",
    "const b = 2.45697897987;\n",
    "let c = a * b;\n",
    "console.log(c);\n",
    "c = (c - 12.59409) * 1000000;\n",
    "console.log(c);"
   ]
  },
  {
   "cell_type": "code",
   "execution_count": 80,
   "id": "c141d412-c2fb-49e8-8a6c-17b0bfa802fb",
   "metadata": {},
   "outputs": [
    {
     "name": "stdout",
     "output_type": "stream",
     "text": [
      "a2\n",
      "2a\n"
     ]
    }
   ],
   "source": [
    "const a = 'a';\n",
    "const b = 2;\n",
    "let c = a + b; //automaticka konverze\n",
    "console.log(c);\n",
    "c = b + a; //automaticka konverze\n",
    "console.log(c);"
   ]
  },
  {
   "cell_type": "markdown",
   "id": "741e0892-bfe2-4689-b60b-beb3af7f1303",
   "metadata": {},
   "source": [
    ".\n",
    "**Příklad**\n",
    "---\n",
    "\n",
    "V následující buňce definujte proměnnou představující tíhové zrychlení g, uložte do ní hodnotu 9.81 a spočítejte, jako silou přitahuje Země předmět o hmotnosti m = 10 kg a to podle vzorce\n",
    "\n",
    "$$F=mg$$\n",
    "\n",
    "Výsledek vypište v konzoli.\n",
    "\n",
    "---"
   ]
  },
  {
   "cell_type": "code",
   "execution_count": 81,
   "id": "86e98e16-e418-4513-8cea-b10738514a79",
   "metadata": {},
   "outputs": [
    {
     "name": "stdout",
     "output_type": "stream",
     "text": [
      "Předmět je přitahován silou 98.10000000000001 [N]\n"
     ]
    }
   ],
   "source": []
  },
  {
   "cell_type": "markdown",
   "id": "51f1a12f-3dca-476f-aac9-5071f1ba7abc",
   "metadata": {},
   "source": [
    "### Další datové typy"
   ]
  },
  {
   "cell_type": "markdown",
   "id": "4fda0813-743a-4177-b713-45764d5afbb2",
   "metadata": {},
   "source": [
    "Proměnná v jazyce Javascript nemusí mít definovánu hodnotu."
   ]
  },
  {
   "cell_type": "code",
   "execution_count": 82,
   "id": "eb7b99fb-0415-49b9-9dd7-14947d16226c",
   "metadata": {},
   "outputs": [
    {
     "name": "stdout",
     "output_type": "stream",
     "text": [
      "\u001b[90mundefined\u001b[39m\n",
      "UNDEFINED\n"
     ]
    }
   ],
   "source": [
    "let c; //undefined\n",
    "console.log(c);\n",
    "if (typeof c === 'undefined') {\n",
    "    console.log('UNDEFINED');\n",
    "}"
   ]
  },
  {
   "cell_type": "code",
   "execution_count": 83,
   "id": "847595ae-08aa-4c19-a632-462a867ef049",
   "metadata": {},
   "outputs": [
    {
     "name": "stdout",
     "output_type": "stream",
     "text": [
      "\u001b[1mnull\u001b[22m\n",
      "NULL\n"
     ]
    }
   ],
   "source": [
    "let c = null; //definovaně prázdný\n",
    "console.log(c);\n",
    "//*\n",
    "if (c === null) {\n",
    "    console.log('NULL');\n",
    "}\n",
    "//*/"
   ]
  },
  {
   "cell_type": "markdown",
   "id": "d26a10e4-52ae-4b0f-bd65-85c1a82b0e37",
   "metadata": {},
   "source": [
    "#### Pole / Array"
   ]
  },
  {
   "cell_type": "markdown",
   "id": "e8e71b2e-9ace-44a8-9c04-8a3fb88805d9",
   "metadata": {},
   "source": [
    "Kompletní definici funkcí pro datový typ Array je dostupný zde:\n",
    "\n",
    "https://developer.mozilla.org/en-US/docs/Web/JavaScript/Reference/Global_Objects/Array"
   ]
  },
  {
   "cell_type": "code",
   "execution_count": 84,
   "id": "ad6a9a6b-9ee1-4912-8b26-aa0d68cc5354",
   "metadata": {},
   "outputs": [
    {
     "name": "stdout",
     "output_type": "stream",
     "text": [
      "[ \u001b[33m1\u001b[39m, \u001b[33m2\u001b[39m, \u001b[33m3\u001b[39m ]\n"
     ]
    }
   ],
   "source": [
    "const pole = [1, 2, 3];\n",
    "console.log(pole);"
   ]
  },
  {
   "cell_type": "code",
   "execution_count": 85,
   "id": "c36bf715-f40d-40d1-a079-80b34b746452",
   "metadata": {},
   "outputs": [
    {
     "name": "stdout",
     "output_type": "stream",
     "text": [
      "[ \u001b[32m'mrkev'\u001b[39m, \u001b[32m'brukev'\u001b[39m, \u001b[32m'cibule'\u001b[39m ]\n"
     ]
    }
   ],
   "source": [
    "const poleStr = ['mrkev', 'brukev', 'cibule'];\n",
    "console.log(poleStr);"
   ]
  },
  {
   "cell_type": "markdown",
   "id": "a7fe856d-0538-4a3e-9b06-ad41bb62f7f6",
   "metadata": {},
   "source": [
    "Získání prvku pole"
   ]
  },
  {
   "cell_type": "code",
   "execution_count": 88,
   "id": "c9e98f13-4dea-4078-a073-674a919876f4",
   "metadata": {},
   "outputs": [
    {
     "name": "stdout",
     "output_type": "stream",
     "text": [
      "mrkev\n"
     ]
    }
   ],
   "source": [
    "const poleStr = ['mrkev', 'brukev', 'cibule'];\n",
    "console.log(poleStr[0]);"
   ]
  },
  {
   "cell_type": "markdown",
   "id": "0d94ebf7-1cf2-4606-88f1-df03e3b93e55",
   "metadata": {},
   "source": [
    "Vkládání prvku do pole"
   ]
  },
  {
   "cell_type": "code",
   "execution_count": 89,
   "id": "8459c28a-713f-4493-9dad-7317a94ae539",
   "metadata": {},
   "outputs": [
    {
     "name": "stdout",
     "output_type": "stream",
     "text": [
      "[ \u001b[32m'mrkev'\u001b[39m, \u001b[32m'brukev'\u001b[39m, \u001b[32m'cibule'\u001b[39m, \u001b[32m'kedlubna'\u001b[39m ]\n"
     ]
    }
   ],
   "source": [
    "const poleStr = ['mrkev', 'brukev', 'cibule'];\n",
    "poleStr.push('kedlubna');\n",
    "console.log(poleStr);"
   ]
  },
  {
   "cell_type": "markdown",
   "id": "7ec3a142-2e81-4fcd-b021-fd3d9b7f3176",
   "metadata": {},
   "source": [
    "Odstranění prvku z pole"
   ]
  },
  {
   "cell_type": "code",
   "execution_count": 90,
   "id": "26ecebed-1933-480e-9e70-49225b9153cd",
   "metadata": {},
   "outputs": [
    {
     "name": "stdout",
     "output_type": "stream",
     "text": [
      "[ \u001b[32m'mrkev'\u001b[39m, \u001b[32m'brukev'\u001b[39m ]\n",
      "cibule\n"
     ]
    }
   ],
   "source": [
    "const poleStr = ['mrkev', 'brukev', 'cibule'];\n",
    "const item = poleStr.pop();\n",
    "console.log(poleStr);\n",
    "console.log(item);"
   ]
  },
  {
   "cell_type": "markdown",
   "id": "70c3ecca-9266-4ea4-bec5-458e5d95a93f",
   "metadata": {},
   "source": [
    "Zjištění, zda v poli je prvek."
   ]
  },
  {
   "cell_type": "code",
   "execution_count": 91,
   "id": "e56ae6e8-3f61-41ca-8b24-6477b7444e37",
   "metadata": {},
   "outputs": [
    {
     "name": "stdout",
     "output_type": "stream",
     "text": [
      "\u001b[33m1\u001b[39m\n",
      "\u001b[33m-1\u001b[39m\n"
     ]
    }
   ],
   "source": [
    "const poleStr = ['mrkev', 'brukev', 'cibule'];\n",
    "const indexA = poleStr.indexOf('brukev');\n",
    "const indexB = poleStr.indexOf('kedlubna');\n",
    "console.log(indexA);\n",
    "console.log(indexB);"
   ]
  },
  {
   "cell_type": "markdown",
   "id": "2fa1059c-1f9a-402b-9bcc-732a66fc52e8",
   "metadata": {},
   "source": [
    "---\n",
    "\n",
    "V následující buňce vytvořte pole obsahující názvy dnů v týdnu (podle jejich pořadí).\n",
    "Do proměnné `cisloDne` uložte takovou hodnotu, abyste ji mohli použít pro získání jména třetího dne v týdnu (středa).\n",
    "Výsledek vypište do konzole.\n",
    "\n",
    "---"
   ]
  },
  {
   "cell_type": "code",
   "execution_count": 118,
   "id": "af1fc226-4735-4647-b360-65a879b09f6f",
   "metadata": {},
   "outputs": [
    {
     "name": "stdout",
     "output_type": "stream",
     "text": [
      "streda\n"
     ]
    }
   ],
   "source": [
    "const dny = ['pondeli', 'utery', 'streda', 'ctvrtek', 'patek', 'sobota', 'nedele'];\n",
    "const index = 2;\n",
    "const nazev = dny[index];\n",
    "console.log(nazev);"
   ]
  },
  {
   "cell_type": "markdown",
   "id": "cf6a01c4-1dca-4c93-99dc-bd79ae3d7337",
   "metadata": {},
   "source": [
    "#### Dictionary"
   ]
  },
  {
   "cell_type": "markdown",
   "id": "0b4f7643-44d7-4827-a3be-d19674345375",
   "metadata": {},
   "source": [
    "Detailní popis dictionary naleznete zde:\n",
    "\n",
    "https://developer.mozilla.org/en-US/docs/Mozilla/Add-ons/WebExtensions/manifest.json/dictionaries"
   ]
  },
  {
   "cell_type": "code",
   "execution_count": 92,
   "id": "413c1aaa-2b42-47c5-8b13-0963cfc68467",
   "metadata": {},
   "outputs": [
    {
     "name": "stdout",
     "output_type": "stream",
     "text": [
      "{ name: \u001b[32m'jmeno'\u001b[39m, value: \u001b[32m'hodnota'\u001b[39m }\n"
     ]
    }
   ],
   "source": [
    "const data = {name: 'jmeno', value: 'hodnota'};\n",
    "console.log(data);"
   ]
  },
  {
   "cell_type": "code",
   "execution_count": 93,
   "id": "58966f9e-110f-4dcb-a558-487bbe73a301",
   "metadata": {},
   "outputs": [
    {
     "name": "stdout",
     "output_type": "stream",
     "text": [
      "{ name: \u001b[32m'jmeno'\u001b[39m, value: \u001b[32m'hodnota'\u001b[39m }\n"
     ]
    }
   ],
   "source": [
    "const data = {'name': 'jmeno', 'value': 'hodnota'};\n",
    "console.log(data);"
   ]
  },
  {
   "cell_type": "code",
   "execution_count": 94,
   "id": "70f55d53-7262-458d-8a5d-aaf3aa5b44dd",
   "metadata": {},
   "outputs": [
    {
     "name": "stdout",
     "output_type": "stream",
     "text": [
      "jmeno\n"
     ]
    }
   ],
   "source": [
    "const data = {'name': 'jmeno', 'value': 'hodnota'};\n",
    "console.log(data.name);"
   ]
  },
  {
   "cell_type": "code",
   "execution_count": 95,
   "id": "403fd251-0497-4858-b3cf-3979801f7810",
   "metadata": {},
   "outputs": [
    {
     "name": "stdout",
     "output_type": "stream",
     "text": [
      "jmeno\n"
     ]
    }
   ],
   "source": [
    "const data = {'name': 'jmeno', 'value': 'hodnota'};\n",
    "console.log(data['name']);"
   ]
  },
  {
   "cell_type": "code",
   "execution_count": 96,
   "id": "ab7423c8-fb78-4cb7-b608-370b36dcc9d3",
   "metadata": {},
   "outputs": [
    {
     "name": "stdout",
     "output_type": "stream",
     "text": [
      "Josef\n"
     ]
    }
   ],
   "source": [
    "const data = {'name': 'jmeno', 'value': 'hodnota'};\n",
    "data.name = 'Josef'\n",
    "console.log(data.name);"
   ]
  },
  {
   "cell_type": "code",
   "execution_count": 107,
   "id": "80216251-1755-41c0-b7a6-977daf94b16f",
   "metadata": {},
   "outputs": [
    {
     "name": "stdout",
     "output_type": "stream",
     "text": [
      "Josef\n"
     ]
    }
   ],
   "source": [
    "const data = {'name': 'jmeno', 'value': 'hodnota'};\n",
    "data['name'] = 'Josef'\n",
    "console.log(data.name);"
   ]
  },
  {
   "cell_type": "markdown",
   "id": "a5617302-fba3-4463-a2fe-5769936f48a4",
   "metadata": {},
   "source": [
    "### Operace a funkce nad řetězci"
   ]
  },
  {
   "cell_type": "code",
   "execution_count": 98,
   "id": "70258cbc-1307-420a-aed9-18439502fcdb",
   "metadata": {},
   "outputs": [
    {
     "name": "stdout",
     "output_type": "stream",
     "text": [
      "h\n",
      "\u001b[33m4\u001b[39m\n"
     ]
    }
   ],
   "source": [
    "const pozdrav = \"Ahoj\";\n",
    "console.log(pozdrav[1]);\n",
    "console.log(pozdrav.length);"
   ]
  },
  {
   "cell_type": "code",
   "execution_count": 99,
   "id": "4fae2753-9d06-4158-8544-9a481970b882",
   "metadata": {},
   "outputs": [
    {
     "name": "stdout",
     "output_type": "stream",
     "text": [
      "ahoj\n"
     ]
    }
   ],
   "source": [
    "let pozdrav = \"Ahoj\";\n",
    "pozdrav = pozdrav.replace('A', 'a')\n",
    "console.log(pozdrav);"
   ]
  },
  {
   "cell_type": "code",
   "execution_count": 100,
   "id": "9ea854dd-d83d-4dbc-94b4-ae2c88983d16",
   "metadata": {},
   "outputs": [
    {
     "name": "stdout",
     "output_type": "stream",
     "text": [
      "AHOJ\n"
     ]
    }
   ],
   "source": [
    "let pozdrav = \"Ahoj\";\n",
    "pozdrav = pozdrav.toUpperCase()\n",
    "console.log(pozdrav);"
   ]
  },
  {
   "cell_type": "code",
   "execution_count": 101,
   "id": "43358945-8e0b-41f3-bf0f-dbf7b514f3aa",
   "metadata": {},
   "outputs": [
    {
     "name": "stdout",
     "output_type": "stream",
     "text": [
      "ahoj\n"
     ]
    }
   ],
   "source": [
    "let pozdrav = \"Ahoj\";\n",
    "pozdrav = pozdrav.toLowerCase()\n",
    "console.log(pozdrav);"
   ]
  },
  {
   "cell_type": "code",
   "execution_count": 102,
   "id": "652ad95b-20ab-431e-81dd-90289178b6b4",
   "metadata": {},
   "outputs": [
    {
     "name": "stdout",
     "output_type": "stream",
     "text": [
      "Ahoj Hrbolek\n",
      "Ahoj Hrbolek\n"
     ]
    }
   ],
   "source": [
    "let jmeno = 'Hrbolek';\n",
    "let pozdrav = \"Ahoj\";\n",
    "pozdrav = pozdrav + ' ' + jmeno;\n",
    "console.log(pozdrav);\n",
    "\n",
    "pozdrav = \"Ahoj\";\n",
    "pozdrav = pozdrav.concat(' ', jmeno);\n",
    "console.log(pozdrav);"
   ]
  },
  {
   "cell_type": "code",
   "execution_count": 76,
   "id": "b02543ed-e3e5-4aeb-be93-04b26f8a7509",
   "metadata": {},
   "outputs": [
    {
     "name": "stdout",
     "output_type": "stream",
     "text": [
      "zdar\n",
      "zd\n"
     ]
    }
   ],
   "source": [
    "let pozdrav = \"Nazdar světe\";\n",
    "console.log(pozdrav.substr(2, 4)); //od 2. znaku 4 znaky\n",
    "console.log(pozdrav.substring(2, 4)); //od 2. znaku do 4. znaku"
   ]
  },
  {
   "cell_type": "code",
   "execution_count": 77,
   "id": "6067069c-6a01-4db2-9256-5d684f228aba",
   "metadata": {},
   "outputs": [
    {
     "name": "stdout",
     "output_type": "stream",
     "text": [
      "[ \u001b[32m'Nazdar'\u001b[39m, \u001b[32m'světe'\u001b[39m ]\n"
     ]
    }
   ],
   "source": [
    "let pozdrav = \"Nazdar světe\";\n",
    "console.log(pozdrav.split(' ')); //použít mezery jako oddělovací znak"
   ]
  },
  {
   "cell_type": "code",
   "execution_count": 78,
   "id": "ca2d0664-910d-49eb-9728-fdbc025eb9bf",
   "metadata": {},
   "outputs": [
    {
     "name": "stdout",
     "output_type": "stream",
     "text": [
      "\u001b[33m7\u001b[39m\n"
     ]
    }
   ],
   "source": [
    "let pozdrav = \"Nazdar světe\";\n",
    "console.log(pozdrav.indexOf('sv')); //nalézt index výskytu řetězce 'sv'"
   ]
  },
  {
   "cell_type": "code",
   "execution_count": 79,
   "id": "3692ebc0-aaed-4a0a-8ba0-7db8bb8a9aa7",
   "metadata": {},
   "outputs": [
    {
     "name": "stdout",
     "output_type": "stream",
     "text": [
      "\u001b[33m1\u001b[39m\n",
      "\u001b[33m4\u001b[39m\n"
     ]
    }
   ],
   "source": [
    "let pozdrav = \"Nazdar světe\";\n",
    "console.log(pozdrav.indexOf('a')); //index prvního výskytu\n",
    "console.log(pozdrav.lastIndexOf('a')); //index posledního výskytu"
   ]
  },
  {
   "cell_type": "code",
   "execution_count": 80,
   "id": "6921cf15-801b-4889-9d3d-2ad940d4e5ca",
   "metadata": {},
   "outputs": [
    {
     "name": "stdout",
     "output_type": "stream",
     "text": [
      "Nazdar%20sv%u011Bte\n"
     ]
    }
   ],
   "source": [
    "let pozdrav = \"Nazdar světe\";\n",
    "console.log(escape(pozdrav)); "
   ]
  },
  {
   "cell_type": "code",
   "execution_count": 81,
   "id": "bd517cd0-b0ba-49ac-8cdb-0e3a66f903c1",
   "metadata": {},
   "outputs": [
    {
     "name": "stdout",
     "output_type": "stream",
     "text": [
      "Nazdar světe\n"
     ]
    }
   ],
   "source": [
    "let pozdravEsc = \"Nazdar%20sv%u011Bte\";\n",
    "console.log(unescape(pozdravEsc)); "
   ]
  },
  {
   "cell_type": "code",
   "execution_count": 82,
   "id": "0111f604-6c1b-431c-aab5-45dc89281dfa",
   "metadata": {},
   "outputs": [
    {
     "name": "stdout",
     "output_type": "stream",
     "text": [
      "\u001b[33m1.25\u001b[39m\n",
      "\u001b[33m1.25\u001b[39m\n"
     ]
    }
   ],
   "source": [
    "let text = '1.25';\n",
    "let value = parseFloat(text);\n",
    "console.log(value);\n",
    "let value2 = Number(text);\n",
    "console.log(value2);"
   ]
  },
  {
   "cell_type": "code",
   "execution_count": 84,
   "id": "a390cdb8-3a97-4905-aa14-cb61fc9403e6",
   "metadata": {},
   "outputs": [
    {
     "name": "stdout",
     "output_type": "stream",
     "text": [
      "\u001b[33m1\u001b[39m\n"
     ]
    }
   ],
   "source": [
    "let text = '1.25';\n",
    "let value = parseInt(text);\n",
    "console.log(value);"
   ]
  },
  {
   "cell_type": "markdown",
   "id": "07a78325-fed8-4336-a5aa-7b6433f78b79",
   "metadata": {},
   "source": [
    "---\n",
    "\n",
    "V následující buňce uložte do proměnné `greet` hodnotu `Nazdar`. Do proměnné `name` uložte Vaše jméno v pátém pádě. Součtěte obě proměnné a do součtu přidejte znaky, výsledek odpovídal pravidlům českého jazyka. Výsledek vypište do konzole.\n",
    "\n",
    "---"
   ]
  },
  {
   "cell_type": "code",
   "execution_count": 119,
   "id": "6036ff7f-3cb1-4331-a3f7-46c4c7629125",
   "metadata": {},
   "outputs": [
    {
     "name": "stdout",
     "output_type": "stream",
     "text": [
      "Nazdar Alexandře\n"
     ]
    }
   ],
   "source": [
    "const greet = 'Nazdar';\n",
    "const name = 'Alexandře';\n",
    "const fullGreet = greet + ' ' + name;\n",
    "console.log(fullGreet);"
   ]
  },
  {
   "cell_type": "markdown",
   "id": "79f1a92b-4272-4673-8702-45212d7e38fc",
   "metadata": {},
   "source": [
    "---\n",
    "\n",
    "V následující buňce definujte proměnnou `inputStr` s obsahem `1;2;5`. Pomocí patřičné funkce zjistěte, zda proměnná obsahuje znak `;`. Alternativně zobrazte počet výskytů znaku `;`; v proměnné `inputStr`.\n",
    "\n",
    "---"
   ]
  },
  {
   "cell_type": "code",
   "execution_count": 121,
   "id": "9d75e844-b8c0-4b07-8034-8b913273e90f",
   "metadata": {},
   "outputs": [],
   "source": [
    "const inputStr = '1;2;5';\n",
    "if (inputStr.indexOf(';') > -1) {\n",
    "    console.log('Ano')\n",
    "} else {\n",
    "    console.log('Ne')\n",
    "}"
   ]
  },
  {
   "cell_type": "code",
   "execution_count": 123,
   "id": "c04d1ed6-89d8-4f07-b8da-d3176b63b1c3",
   "metadata": {},
   "outputs": [
    {
     "name": "stdout",
     "output_type": "stream",
     "text": [
      "\u001b[33mtrue\u001b[39m\n"
     ]
    }
   ],
   "source": [
    "const inputStr = '1;2;5';\n",
    "const vyskyt = inputStr.indexOf(';') > -1;\n",
    "console.log(vyskyt);"
   ]
  },
  {
   "cell_type": "markdown",
   "id": "526292cb-9ecc-47a0-9b48-dea6f4487347",
   "metadata": {},
   "source": [
    "### Operace a funkce nad čísly"
   ]
  },
  {
   "cell_type": "code",
   "execution_count": 105,
   "id": "bd577a49-46df-4b9d-99fb-f7aac2aa4752",
   "metadata": {},
   "outputs": [
    {
     "name": "stdout",
     "output_type": "stream",
     "text": [
      "\u001b[33mInfinity\u001b[39m\n",
      "\u001b[33mfalse\u001b[39m\n"
     ]
    }
   ],
   "source": [
    "let a = 5;\n",
    "let b = 0;\n",
    "let c = a / b;\n",
    "console.log(c);\n",
    "console.log(isFinite(c));"
   ]
  },
  {
   "cell_type": "code",
   "execution_count": 86,
   "id": "51200588-ea0a-49f9-b372-8355bdba34bf",
   "metadata": {},
   "outputs": [
    {
     "name": "stdout",
     "output_type": "stream",
     "text": [
      "\u001b[33mNaN\u001b[39m\n",
      "\u001b[33mtrue\u001b[39m\n"
     ]
    }
   ],
   "source": [
    "let a = 0;\n",
    "let b = 0;\n",
    "let c = a / b;\n",
    "console.log(c);\n",
    "console.log(isNaN(c));"
   ]
  },
  {
   "cell_type": "code",
   "execution_count": 106,
   "id": "90c0f1da-26c7-4ba2-8d6c-0b9ecc6c3f85",
   "metadata": {},
   "outputs": [
    {
     "name": "stdout",
     "output_type": "stream",
     "text": [
      "\u001b[33m1\u001b[39m\n",
      "\u001b[33m1.1428571428571428\u001b[39m\n"
     ]
    }
   ],
   "source": [
    "let a = 8 % 7;\n",
    "let b = 8 / 7;\n",
    "console.log(a);\n",
    "console.log(b);"
   ]
  },
  {
   "cell_type": "code",
   "execution_count": 88,
   "id": "f2fa72e8-8ac1-492d-ad8b-a3870e5b922a",
   "metadata": {},
   "outputs": [
    {
     "name": "stdout",
     "output_type": "stream",
     "text": [
      "\u001b[33m2\u001b[39m\n",
      "\u001b[33m32\u001b[39m\n"
     ]
    }
   ],
   "source": [
    "let a = 8 >> 2;\n",
    "let b = 8 << 2;\n",
    "console.log(a);\n",
    "console.log(b);"
   ]
  },
  {
   "cell_type": "code",
   "execution_count": 89,
   "id": "54a2aefe-3126-4943-b625-ededc7821a27",
   "metadata": {},
   "outputs": [
    {
     "name": "stdout",
     "output_type": "stream",
     "text": [
      "\u001b[33m1.7976931348623157e+308\u001b[39m\n",
      "\u001b[33m5e-324\u001b[39m\n"
     ]
    }
   ],
   "source": [
    "console.log(Number.MAX_VALUE);\n",
    "console.log(Number.MIN_VALUE);"
   ]
  },
  {
   "cell_type": "code",
   "execution_count": 107,
   "id": "895ffad1-f1f0-4404-8eab-b1e6b8e62c8d",
   "metadata": {},
   "outputs": [
    {
     "name": "stdout",
     "output_type": "stream",
     "text": [
      "\u001b[33m3.141592653589793\u001b[39m\n",
      "\u001b[33m1\u001b[39m\n",
      "\u001b[33m-1\u001b[39m\n"
     ]
    }
   ],
   "source": [
    "console.log(Math.PI);\n",
    "console.log(Math.sin(Math.PI / 2));\n",
    "console.log(Math.cos(Math.PI));"
   ]
  },
  {
   "cell_type": "markdown",
   "id": "a12e39d7-b61d-465c-af69-c2f237fbf5e2",
   "metadata": {},
   "source": [
    "---\n",
    "\n",
    "V následující buňce uložte do proměnné `uhelStupne` hodnotu 45. Vytvořte proměnnou `uhelRadiany`, ve které bude výsledek převodu na radiány. Do proměnných `sinUhel` a `cosUhel` uložte `sin`, resp. `cos` úhlu. Přesvědčte se, zda jsou jejich hodnoty rovny.\n",
    "\n",
    "---"
   ]
  },
  {
   "cell_type": "code",
   "execution_count": 127,
   "id": "13551d2d-84e4-4ac3-b15c-52173b2cfed1",
   "metadata": {},
   "outputs": [
    {
     "name": "stdout",
     "output_type": "stream",
     "text": [
      "\u001b[33m0.7071067811865475\u001b[39m\n",
      "\u001b[33m0.7071067811865476\u001b[39m\n",
      "\u001b[33mfalse\u001b[39m\n",
      "\u001b[33mtrue\u001b[39m\n"
     ]
    }
   ],
   "source": [
    "const uhelStupne = 45;\n",
    "const uhelRadiany = uhelStupne / 180 * Math.PI;\n",
    "const sinUhel = Math.sin(uhelRadiany);\n",
    "const cosUhel = Math.cos(uhelRadiany);\n",
    "console.log(sinUhel);\n",
    "console.log(cosUhel);\n",
    "console.log(sinUhel === cosUhel);\n",
    "const eps = 1e-10;\n",
    "const rovno = Math.abs(sinUhel - cosUhel) < eps;\n",
    "console.log(rovno);"
   ]
  },
  {
   "cell_type": "markdown",
   "id": "4fbe6719-a9c7-4223-a1d7-f95602c34d23",
   "metadata": {},
   "source": [
    "### Definice funkcí"
   ]
  },
  {
   "cell_type": "code",
   "execution_count": 91,
   "id": "1488136b-cb42-41ad-a743-3c76a1451927",
   "metadata": {},
   "outputs": [
    {
     "name": "stdout",
     "output_type": "stream",
     "text": [
      "\u001b[33m21\u001b[39m\n"
     ]
    }
   ],
   "source": [
    "function secti(a, b) {\n",
    "    return a + b;\n",
    "}\n",
    "\n",
    "const c = secti(1, 20);\n",
    "console.log(c);"
   ]
  },
  {
   "cell_type": "markdown",
   "id": "4fbee9f2-95c9-4ff8-aebd-3632e6bbbf20",
   "metadata": {},
   "source": [
    "Předdefinované parametry funkcí"
   ]
  },
  {
   "cell_type": "code",
   "execution_count": 61,
   "id": "c2f1f6ff-dbe0-4896-b703-cdd7e4bdd044",
   "metadata": {},
   "outputs": [
    {
     "name": "stdout",
     "output_type": "stream",
     "text": [
      "\u001b[33m2\u001b[39m\n"
     ]
    }
   ],
   "source": [
    "function pricti(a, b=1) {\n",
    "    return a + b;\n",
    "}\n",
    "\n",
    "const c = pricti(1);\n",
    "console.log(c);"
   ]
  },
  {
   "cell_type": "markdown",
   "id": "a44de1d3-52f1-4d7c-ac17-3a0c9d1945a5",
   "metadata": {},
   "source": [
    "Dekonstrukce u parametrů funkcí"
   ]
  },
  {
   "cell_type": "code",
   "execution_count": 108,
   "id": "d18d3bb7-ce96-4ba3-b6fd-25fa86da67ed",
   "metadata": {},
   "outputs": [
    {
     "name": "stdout",
     "output_type": "stream",
     "text": [
      "jablko\n",
      "mrkev\n",
      "brukev\n"
     ]
    }
   ],
   "source": [
    "//like Python\n",
    "//def mojeFce(*args, **kwargs):\n",
    "//    return args\n",
    "\n",
    "\n",
    "function tiskniPole(...params) {\n",
    "    for(const param of params) {\n",
    "        console.log(param)\n",
    "    }\n",
    "}\n",
    "\n",
    "tiskniPole('jablko', 'mrkev', 'brukev')"
   ]
  },
  {
   "cell_type": "code",
   "execution_count": 110,
   "id": "0c6c9376-71ae-468f-8937-6d8ed81865d4",
   "metadata": {},
   "outputs": [
    {
     "name": "stdout",
     "output_type": "stream",
     "text": [
      "weight =  \u001b[33m10\u001b[39m\n"
     ]
    }
   ],
   "source": [
    "function render({name, value}) {\n",
    "    console.log(name + ' = ', value)\n",
    "}\n",
    "\n",
    "render({'name': 'weight', 'value': 10})"
   ]
  },
  {
   "cell_type": "markdown",
   "id": "5908e00e-656f-4614-b0e9-84555bb805e4",
   "metadata": {},
   "source": [
    "---\n",
    "\n",
    "V následující buňce vytvořte funkci `pocet`, se dvěma parametry, první je řetezec (string), druhý je také řetezec. Funkce vrátí počet výskytů druhého řetezce v prvním řetezci.\n",
    "Otestujte funkčnost na následujících případech:\n",
    "\n",
    "- `result = pocet('1;2;3', ';');`\n",
    "- `result = pocet('xx;xxx;xxxx', 'xx');`\n",
    "\n",
    "---"
   ]
  },
  {
   "cell_type": "code",
   "execution_count": 129,
   "id": "0b4581bc-9e74-4b5a-a5cb-0300fa6fe3ad",
   "metadata": {},
   "outputs": [],
   "source": [
    "function pocet(str, znak) {\n",
    "    const pozice = str.indexOf(znak);\n",
    "    if (pozice === -1) {\n",
    "        return 0;\n",
    "    } else {\n",
    "        return 1 + pocet(str.substr(pozice + 1), znak);\n",
    "    }\n",
    "}\n",
    "\n",
    "let result = pocet('1;2;3', ';');\n",
    "console.log(result);\n",
    "result = pocet('xx;xxx;xxxx', 'xx');\n",
    "console.log(result);"
   ]
  },
  {
   "cell_type": "code",
   "execution_count": 134,
   "id": "785984a7-daf2-45b5-96c5-75a90a5a0076",
   "metadata": {},
   "outputs": [
    {
     "name": "stdout",
     "output_type": "stream",
     "text": [
      "\u001b[33mtrue\u001b[39m\n"
     ]
    }
   ],
   "source": [
    "const rovno = (1.0 === 1)\n",
    "console.log(rovno);"
   ]
  },
  {
   "cell_type": "markdown",
   "id": "6462f290-e82c-472d-b390-f98dc93b01e7",
   "metadata": {},
   "source": [
    "### Anonymní Funkce"
   ]
  },
  {
   "cell_type": "code",
   "execution_count": 117,
   "id": "afe21115-166e-4e7f-b7dc-3ba18aac5aea",
   "metadata": {},
   "outputs": [
    {
     "name": "stdout",
     "output_type": "stream",
     "text": [
      "call with a=1\n",
      "\u001b[33m2\u001b[39m\n",
      "\u001b[33m0.8414709848078965\u001b[39m\n"
     ]
    }
   ],
   "source": [
    "function specFunc(a, f) {\n",
    "    console.log('call with a=' + a)\n",
    "    return f(a);\n",
    "}\n",
    "\n",
    "//const c = specFunc(1, Math.sin)\n",
    "const c = specFunc(1, value => value + 1)\n",
    "const c2 = Math.sin(1)\n",
    "console.log(c)\n",
    "console.log(c2)"
   ]
  },
  {
   "cell_type": "code",
   "execution_count": 136,
   "id": "c69e0e53-98e2-4d2d-8983-40f4fc61d1a3",
   "metadata": {},
   "outputs": [],
   "source": [
    "function add(a, b) {\n",
    "    return a + b;\n",
    "}\n",
    "\n",
    "const add2 = (a, b) => a + b;"
   ]
  },
  {
   "cell_type": "code",
   "execution_count": 137,
   "id": "8f95daa4-67db-4bb8-9f97-202c77af97db",
   "metadata": {},
   "outputs": [
    {
     "name": "stdout",
     "output_type": "stream",
     "text": [
      "\u001b[33m101\u001b[39m\n",
      "\u001b[33m101\u001b[39m\n"
     ]
    }
   ],
   "source": [
    "function add2(a, b) {\n",
    "    return a + b;\n",
    "}\n",
    "\n",
    "const c = add(1, 100);\n",
    "console.log(c);\n",
    "const c2 = add2(1, 100);\n",
    "console.log(c2);"
   ]
  },
  {
   "cell_type": "markdown",
   "id": "e7d3c8c8-a328-44af-854f-41fd5846fcfd",
   "metadata": {},
   "source": [
    "---\n",
    "\n",
    "V následující buňce vytvořte anonymní funkci s jedním parametrem, jehož návratovou hodnotou je parametr zvýšený o 2.\n",
    "\n",
    "---"
   ]
  },
  {
   "cell_type": "code",
   "execution_count": 138,
   "id": "4426b57e-842f-4e59-861e-f163322a8fba",
   "metadata": {},
   "outputs": [
    {
     "name": "stdout",
     "output_type": "stream",
     "text": [
      "\u001b[33m2\u001b[39m\n"
     ]
    }
   ],
   "source": [
    "const add2 = (a) => a + 2;\n",
    "console.log(add2(0));"
   ]
  },
  {
   "cell_type": "markdown",
   "id": "b846f1ba-7644-420a-bb04-d643cc9e0000",
   "metadata": {},
   "source": [
    "### Třídy"
   ]
  },
  {
   "cell_type": "markdown",
   "id": "e36b4106-a778-4251-a7d0-66fc6e5f42c5",
   "metadata": {},
   "source": [
    "#### Třída \"po staru\""
   ]
  },
  {
   "cell_type": "code",
   "execution_count": 92,
   "id": "83736080-fc81-4616-a946-97245912f8fa",
   "metadata": {},
   "outputs": [
    {
     "name": "stdout",
     "output_type": "stream",
     "text": [
      "\u001b[33m10\u001b[39m\n"
     ]
    }
   ],
   "source": [
    "function Rect(height, width) {\n",
    "    this.height = height;\n",
    "    this.width = width;\n",
    "}\n",
    "\n",
    "const r = new Rect(10, 20);\n",
    "console.log(r.height);"
   ]
  },
  {
   "cell_type": "markdown",
   "id": "baab80a5-440a-48b0-a327-956870d8a7a6",
   "metadata": {},
   "source": [
    "#### Třída podle nové specifikace"
   ]
  },
  {
   "cell_type": "code",
   "execution_count": 93,
   "id": "7c75e794-452d-449f-9ba4-8a75a133e5d8",
   "metadata": {},
   "outputs": [
    {
     "name": "stdout",
     "output_type": "stream",
     "text": [
      "\u001b[33m10\u001b[39m\n",
      "\u001b[33m20\u001b[39m\n",
      "\u001b[33m70\u001b[39m\n"
     ]
    }
   ],
   "source": [
    "class Rectangle {\n",
    "    constructor(height, width) {\n",
    "        this.height = height;\n",
    "        this.width = width;\n",
    "    }\n",
    "    \n",
    "    MakeItWider(delta) {\n",
    "        this.width += delta;\n",
    "    }\n",
    "}\n",
    "\n",
    "const r = new Rectangle(10, 20);\n",
    "console.log(r.height);\n",
    "console.log(r.width);\n",
    "r.MakeItWider(50);\n",
    "console.log(r.width);"
   ]
  },
  {
   "cell_type": "markdown",
   "id": "1d41cf94-a8d5-4bed-ac2d-1375d59baa78",
   "metadata": {},
   "source": [
    "---\n",
    "\n",
    "V následující buňce vytvořte třídu `Rectangle` (použijte vzor výše, je-li třeba), s bezparametrickými metodami `plocha` a `obvod`, které vrací plochu a obvod obdélníku.\n",
    "\n",
    "---"
   ]
  },
  {
   "cell_type": "code",
   "execution_count": null,
   "id": "d35ba88a-8f42-44bb-9f1d-48f1d0799bc4",
   "metadata": {},
   "outputs": [
    {
     "name": "stdout",
     "output_type": "stream",
     "text": [
      "\u001b[33m200\u001b[39m\n",
      "\u001b[33m60\u001b[39m\n"
     ]
    }
   ],
   "source": [
    "class Rectangle {\n",
    "    constructor(height, width) {\n",
    "        this.height = height;\n",
    "        this.width = width;\n",
    "    }\n",
    "    \n",
    "    MakeItWider(delta) {\n",
    "        this.width += delta;\n",
    "    }\n",
    "    \n",
    "    plocha() {\n",
    "        return this.width * this.height\n",
    "    }\n",
    "    \n",
    "    obvod() {\n",
    "        return 2 * (this.width + this.height)\n",
    "    }\n",
    "}\n",
    "\n",
    "const r = new Rectangle(10, 20);\n",
    "console.log(r.plocha());\n",
    "console.log(r.obvod());"
   ]
  },
  {
   "cell_type": "markdown",
   "id": "ab54eef3-e0f1-4ccc-a67d-f19fa318a446",
   "metadata": {},
   "source": [
    "## Statements"
   ]
  },
  {
   "cell_type": "markdown",
   "id": "071d0c97-3e94-4042-bcd4-652a238f6b6b",
   "metadata": {},
   "source": [
    "### Cyklus for"
   ]
  },
  {
   "cell_type": "code",
   "execution_count": 94,
   "id": "b4113d33-6cba-4c5b-8aba-be25f1b352bd",
   "metadata": {},
   "outputs": [
    {
     "name": "stdout",
     "output_type": "stream",
     "text": [
      "\u001b[33m0\u001b[39m\n",
      "\u001b[33m1\u001b[39m\n",
      "\u001b[33m2\u001b[39m\n",
      "\u001b[33m3\u001b[39m\n",
      "\u001b[33m4\u001b[39m\n"
     ]
    }
   ],
   "source": [
    "for(let i = 0; i < 5; i++) {\n",
    "    console.log(i);\n",
    "}"
   ]
  },
  {
   "cell_type": "markdown",
   "id": "9c7f6610-2e26-41b6-91f8-262e282bbece",
   "metadata": {},
   "source": [
    "---\n",
    "\n",
    "V následující buňce vytvořte funkci se dvěma parametry, prvním parametrem je funkce představující matematickou funkci $\\mathbb{R} \\to \\mathbb{R}$. Druhým parametrem je pole. Návratovou hodnotou jsou funkční hodnoty v bodech, které jsou představeny parametrem pole.\n",
    "\n",
    "---"
   ]
  },
  {
   "cell_type": "code",
   "execution_count": null,
   "id": "e1f80009-b916-4b5e-a260-f4056fa6d291",
   "metadata": {},
   "outputs": [],
   "source": [
    "function dvaParametry(func, arr) {\n",
    "    return result;\n",
    "}"
   ]
  },
  {
   "cell_type": "markdown",
   "id": "1c2d0e9b-e84a-4cbd-aab9-b1713a55dafe",
   "metadata": {},
   "source": [
    "### Cyklus for in"
   ]
  },
  {
   "cell_type": "code",
   "execution_count": 31,
   "id": "f768c9a1-4c23-4a0b-a889-31f1d1012d60",
   "metadata": {},
   "outputs": [
    {
     "name": "stdout",
     "output_type": "stream",
     "text": [
      "0\n",
      "1\n",
      "2\n"
     ]
    }
   ],
   "source": [
    "const poleStr = ['mrkev', 'brukev', 'cibule'];\n",
    "for(let s in poleStr) {\n",
    "    console.log(s);\n",
    "}"
   ]
  },
  {
   "cell_type": "code",
   "execution_count": 32,
   "id": "e641c573-c300-46d6-a371-0c38a84041c5",
   "metadata": {},
   "outputs": [
    {
     "name": "stdout",
     "output_type": "stream",
     "text": [
      "name\n",
      "value\n"
     ]
    }
   ],
   "source": [
    "const data = {name: 'jmeno', value: 'hodnota'};\n",
    "for(let s in data) {\n",
    "    console.log(s);\n",
    "}"
   ]
  },
  {
   "cell_type": "markdown",
   "id": "547db30e-d535-4481-8dc7-de19d6181db0",
   "metadata": {},
   "source": [
    "### Cyklus for of"
   ]
  },
  {
   "cell_type": "markdown",
   "id": "5179dcd7-93c2-410a-b10c-81421e74846d",
   "metadata": {},
   "source": [
    "```of``` volá iterator, takže prvek jej musí mít."
   ]
  },
  {
   "cell_type": "code",
   "execution_count": 33,
   "id": "e185a05a-e53a-493d-82ad-5286c72bd42e",
   "metadata": {},
   "outputs": [
    {
     "name": "stdout",
     "output_type": "stream",
     "text": [
      "mrkev\n",
      "brukev\n",
      "cibule\n"
     ]
    }
   ],
   "source": [
    "const poleStr = ['mrkev', 'brukev', 'cibule'];\n",
    "for(let s of poleStr) {\n",
    "    console.log(s);\n",
    "}"
   ]
  },
  {
   "cell_type": "markdown",
   "id": "517f1c8d-c1e8-4b73-800d-a2427b5b9015",
   "metadata": {},
   "source": [
    "### Cyklus while"
   ]
  },
  {
   "cell_type": "code",
   "execution_count": 140,
   "id": "635fc121-6ddb-4f99-a797-01ce61a5fcba",
   "metadata": {},
   "outputs": [
    {
     "name": "stdout",
     "output_type": "stream",
     "text": [
      "\u001b[33m0\u001b[39m\n",
      "\u001b[33m1\u001b[39m\n",
      "\u001b[33m2\u001b[39m\n",
      "\u001b[33m3\u001b[39m\n",
      "\u001b[33m4\u001b[39m\n"
     ]
    }
   ],
   "source": [
    "let i = 0;\n",
    "while (true) {\n",
    "    if (i >= 5) {\n",
    "        break;\n",
    "    }\n",
    "    console.log(i);\n",
    "    i = i + 1;\n",
    "}"
   ]
  },
  {
   "cell_type": "markdown",
   "id": "f2a7257a-7a78-4106-af16-e73ba795763c",
   "metadata": {},
   "source": [
    "### Podmínky"
   ]
  },
  {
   "cell_type": "code",
   "execution_count": 34,
   "id": "e2a075b3-174c-4718-b487-18153b6ccfeb",
   "metadata": {},
   "outputs": [
    {
     "name": "stdout",
     "output_type": "stream",
     "text": [
      "Pravda\n"
     ]
    }
   ],
   "source": [
    "const cond = true;\n",
    "if (cond) {\n",
    "    console.log('Pravda');\n",
    "} else {\n",
    "    console.log('Nepravda');\n",
    "}"
   ]
  },
  {
   "cell_type": "code",
   "execution_count": 35,
   "id": "71428741-1f02-4dfa-beb7-c5a4db692580",
   "metadata": {},
   "outputs": [
    {
     "name": "stdout",
     "output_type": "stream",
     "text": [
      "Dobrý večer\n"
     ]
    }
   ],
   "source": [
    "const cas = 18;\n",
    "if (cas < 12) {\n",
    "    console.log('Dobré ráno');\n",
    "} else if (cas < 20) {\n",
    "    console.log('Dobrý večer');\n",
    "} else {\n",
    "    console.log('Dobrou noc');\n",
    "}"
   ]
  },
  {
   "cell_type": "code",
   "execution_count": 141,
   "id": "9e31f568-40dc-4563-a6d6-67e2a6259343",
   "metadata": {},
   "outputs": [
    {
     "name": "stdout",
     "output_type": "stream",
     "text": [
      "Five\n",
      "Six\n"
     ]
    }
   ],
   "source": [
    "const denVTydnu = '5'; //https://stackoverflow.com/questions/14910760/switch-case-as-string\n",
    "switch(String(denVTydnu)) {\n",
    "    case '5':\n",
    "        console.log('Five');\n",
    "        break;\n",
    "    case '6':\n",
    "        console.log('Six');\n",
    "        break;\n",
    "    default:\n",
    "        console.log('Not five nor six');\n",
    "} "
   ]
  },
  {
   "cell_type": "markdown",
   "id": "967088e7-a5df-4f36-8b42-fe8266347a4f",
   "metadata": {},
   "source": [
    "---\n",
    "\n",
    "V následující buňce vytvořte funkci `jeNezaporne`, která vrátí hodny `true` nebo `false` podle toho, zda funkci byl předán parametr nezáporné číslo.\n",
    "Funkčnost ověřte na následujících voláních \n",
    "\n",
    "- `jeNezaporne(0)`\n",
    "- `jeNezaporne(1)`\n",
    "- `jeNezaporne(-1)`\n",
    "- `jeNezaporne('A')`\n",
    "\n",
    "---"
   ]
  },
  {
   "cell_type": "code",
   "execution_count": null,
   "id": "edb5ddd3-7f5f-4e34-a5d6-193ee787b40c",
   "metadata": {},
   "outputs": [],
   "source": []
  },
  {
   "cell_type": "markdown",
   "id": "0cccda87-abe6-439c-bd9b-40c2a9bfb112",
   "metadata": {},
   "source": [
    "## Pokročilé prvky jazyka Javascript"
   ]
  },
  {
   "cell_type": "markdown",
   "id": "3db4ebde-d2ab-4995-9630-b862f72b97ac",
   "metadata": {},
   "source": [
    "### Ternary operator"
   ]
  },
  {
   "cell_type": "code",
   "execution_count": 142,
   "id": "b53e3649-3059-4562-9391-1ba05587d0c1",
   "metadata": {},
   "outputs": [
    {
     "name": "stdout",
     "output_type": "stream",
     "text": [
      "Ano\n"
     ]
    }
   ],
   "source": [
    "let a = true;\n",
    "let result = a ? 'Ano' : 'Ne';\n",
    "console.log(result);"
   ]
  },
  {
   "cell_type": "markdown",
   "id": "b6aceb8d-e43a-454a-9ed3-b1f6b65f9980",
   "metadata": {},
   "source": [
    "Ternary operator v Javascriptu\n",
    "https://developer.mozilla.org/en-US/docs/Web/JavaScript/Reference/Operators/Conditional_Operator\n",
    "\n",
    "---\n",
    "```javascript\n",
    "condition ? valueIfTrue : valueIfFalse\n",
    "```\n",
    "---"
   ]
  },
  {
   "cell_type": "markdown",
   "id": "3d8e1a25-cfb5-4d20-8549-6bf8e26e3c6f",
   "metadata": {},
   "source": [
    "### Three Dots"
   ]
  },
  {
   "cell_type": "code",
   "execution_count": 143,
   "id": "a63a61fc-583c-4b21-b85a-07949bf07b2a",
   "metadata": {},
   "outputs": [
    {
     "name": "stdout",
     "output_type": "stream",
     "text": [
      "{ name: \u001b[32m'prijmeni'\u001b[39m, value: \u001b[32m'hodnota'\u001b[39m }\n",
      "{ name: \u001b[32m'jmeno'\u001b[39m, value: \u001b[32m'hodnota'\u001b[39m }\n"
     ]
    }
   ],
   "source": [
    "const data = {name: 'jmeno', value: 'hodnota'};\n",
    "const data2 = {...data, name: 'prijmeni'};\n",
    "console.log(data2);\n",
    "const data3 = {name: 'prijmeni', ...data};\n",
    "console.log(data3);"
   ]
  },
  {
   "cell_type": "code",
   "execution_count": 144,
   "id": "9367965a-0ec4-4e63-b5ef-749ec918c9d4",
   "metadata": {},
   "outputs": [
    {
     "name": "stdout",
     "output_type": "stream",
     "text": [
      "[ \u001b[32m'mrkev'\u001b[39m, \u001b[32m'brukev'\u001b[39m, \u001b[32m'cibule'\u001b[39m ]\n",
      "[ \u001b[32m'mrkev'\u001b[39m, \u001b[32m'brukev'\u001b[39m, \u001b[32m'cibule'\u001b[39m, \u001b[32m'jablko'\u001b[39m ]\n"
     ]
    }
   ],
   "source": [
    "const pole = ['mrkev', 'brukev', 'cibule'];\n",
    "const pole2 = [...pole, 'jablko'];\n",
    "console.log(pole);\n",
    "console.log(pole2);"
   ]
  },
  {
   "cell_type": "markdown",
   "id": "150c15e6-358a-4877-8461-6c660e74696c",
   "metadata": {},
   "source": [
    "### Destrukturalizace"
   ]
  },
  {
   "cell_type": "markdown",
   "id": "b2a55a15-ebc4-4971-a96e-b9443fa2b0a0",
   "metadata": {},
   "source": [
    "Destrukturalizace\n",
    "\n",
    "```javascript\n",
    "{value, name} = props\n",
    "[value0, value1] = array\n",
    "```\n"
   ]
  },
  {
   "cell_type": "code",
   "execution_count": 145,
   "id": "8a14fd9f-c048-4343-af09-a8f457623df2",
   "metadata": {},
   "outputs": [
    {
     "name": "stdout",
     "output_type": "stream",
     "text": [
      "jmeno\n",
      "hodnota\n"
     ]
    }
   ],
   "source": [
    "const data = {name: 'jmeno', value: 'hodnota', description: 'description'};\n",
    "const {name, value} = data;\n",
    "console.log(name);\n",
    "console.log(value);"
   ]
  },
  {
   "cell_type": "code",
   "execution_count": 49,
   "id": "19d45bc1-f528-4d52-a686-b04ae202258e",
   "metadata": {},
   "outputs": [
    {
     "name": "stdout",
     "output_type": "stream",
     "text": [
      "jmeno\n",
      "hodnota\n"
     ]
    }
   ],
   "source": [
    "const data = {name: 'jmeno', value: 'hodnota', description: 'description'};\n",
    "const {name, value} = data;\n",
    "console.log(name);\n",
    "console.log(value);"
   ]
  },
  {
   "cell_type": "code",
   "execution_count": 50,
   "id": "1a7023a4-ff34-402d-9140-1e8c9d458bba",
   "metadata": {},
   "outputs": [
    {
     "name": "stdout",
     "output_type": "stream",
     "text": [
      "Praha\n",
      "Brno\n"
     ]
    }
   ],
   "source": [
    "const a = ['Praha', 'Brno', 'Ostrava'];\n",
    "const [x, y] = a\n",
    "console.log(x);\n",
    "console.log(y);"
   ]
  },
  {
   "cell_type": "code",
   "execution_count": 51,
   "id": "b2029651-7adb-469f-992b-e0daff96199c",
   "metadata": {},
   "outputs": [
    {
     "name": "stdout",
     "output_type": "stream",
     "text": [
      "Praha\n",
      "Brno\n",
      "[ \u001b[32m'Ostrava'\u001b[39m, \u001b[32m'Bratislava'\u001b[39m ]\n"
     ]
    }
   ],
   "source": [
    "const a = ['Praha', 'Brno', 'Ostrava', 'Bratislava'];\n",
    "const [x, y, ...z] = a\n",
    "console.log(x);\n",
    "console.log(y);\n",
    "console.log(z);"
   ]
  },
  {
   "cell_type": "code",
   "execution_count": 108,
   "id": "c0e27fa4-44b6-4515-86d4-3466340b576b",
   "metadata": {},
   "outputs": [
    {
     "name": "stdout",
     "output_type": "stream",
     "text": [
      "John -> 5\n"
     ]
    }
   ],
   "source": [
    "function run({name, value}) {\n",
    "    return name + ' -> ' + value;\n",
    "}\n",
    "\n",
    "console.log(run({'name': 'John', 'value': 5}));"
   ]
  },
  {
   "cell_type": "markdown",
   "id": "e1b81b78-d2dd-4e80-bea5-a6c4013f2f7f",
   "metadata": {},
   "source": [
    "### Asynchronnous Code"
   ]
  },
  {
   "cell_type": "markdown",
   "id": "3f212b41-16b4-4279-8117-6f5af58f2688",
   "metadata": {},
   "source": [
    "Asynchonní funkce vrací tzv. [Promise](https://developer.mozilla.org/en-US/docs/Web/JavaScript/Reference/Global_Objects/Promise). Návratová hodnota je tedy zabalena a pro její vyčíslení je  nutné udělat některé operace navíc. Můžete využít tzv. [Callbacku](https://developer.mozilla.org/en-US/docs/Glossary/Callback_function) pomocí metody `then` nebo s pomocí klíčového slova `await` vykonávání kódu pozastavíte do doby, dokud není Promise ve stavu [Resolved](https://developer.mozilla.org/en-US/docs/Web/JavaScript/Reference/Global_Objects/Promise/resolve)."
   ]
  },
  {
   "cell_type": "code",
   "execution_count": 146,
   "id": "d03dc638-42f1-4217-b0ce-07e7d0bff8d8",
   "metadata": {},
   "outputs": [
    {
     "name": "stdout",
     "output_type": "stream",
     "text": [
      "\u001b[33m1\u001b[39m\n",
      "\u001b[33m1\u001b[39m\n",
      "Promise { \u001b[33m1\u001b[39m }\n"
     ]
    }
   ],
   "source": [
    "async function f() {\n",
    "  return 1;\n",
    "}\n",
    "\n",
    "const print = console.log\n",
    "\n",
    "f().then(print);\n",
    "const result = await f()\n",
    "print(result)\n",
    "print(f())"
   ]
  },
  {
   "cell_type": "markdown",
   "id": "8c01e2a0-3dc5-4bc6-9aa8-42fa947a584f",
   "metadata": {},
   "source": [
    "### Generators"
   ]
  },
  {
   "cell_type": "markdown",
   "id": "51c6698b-fa8e-4b5a-9cf2-842fd06372e7",
   "metadata": {},
   "source": [
    "[Generator](https://developer.mozilla.org/en-US/docs/Web/JavaScript/Reference/Global_Objects/Generator) je funkce, která ve svém těle využívá klířového slova `yield`. Javascript vyžaduje současně, aby funkce s `yield` byla explicitně označena (znak \\*). Taková funkce vrací speciální objekt, který řídí vykonávání částí kódu uvnitř těla funkce. Běh je vždy po `yield` pozastaven až do doby, kdy je vyžádána další hodnota.\n",
    "\n",
    "Výsledky z generátoru lze získat např. v cyklu `for` pomocí klíčového slova `of`."
   ]
  },
  {
   "cell_type": "code",
   "execution_count": 150,
   "id": "e3817cc9-9e9c-438c-b412-3ba0ffca8f58",
   "metadata": {},
   "outputs": [
    {
     "name": "stdout",
     "output_type": "stream",
     "text": [
      "lets do it\n",
      "working on result 1\n",
      "Ahoj\n",
      "working on result 2\n",
      "[ \u001b[33m2\u001b[39m, \u001b[33m5\u001b[39m ]\n",
      "working on result 3\n",
      "\u001b[33m3\u001b[39m\n"
     ]
    }
   ],
   "source": [
    "const print = console.log\n",
    "\n",
    "function* genFunc() {\n",
    "    print('working on result 1');\n",
    "    yield 'Ahoj';\n",
    "    print('working on result 2');\n",
    "    yield [2, 5];\n",
    "    print('working on result 3');\n",
    "    yield 3;\n",
    "}\n",
    "\n",
    "const iteratorValue = genFunc();\n",
    "print('lets do it')\n",
    "for(const item of iteratorValue) {\n",
    "    print(item)\n",
    "}"
   ]
  }
 ],
 "metadata": {
  "kernelspec": {
   "display_name": "JavaScript",
   "language": "javascript",
   "name": "jslab"
  },
  "language_info": {
   "file_extension": ".js",
   "mimetype": "text/javascript",
   "name": "javascript",
   "version": ""
  }
 },
 "nbformat": 4,
 "nbformat_minor": 5
}
