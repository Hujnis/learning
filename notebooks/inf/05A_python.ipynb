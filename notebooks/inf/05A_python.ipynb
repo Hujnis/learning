{
 "cells": [
  {
   "cell_type": "code",
   "execution_count": null,
   "id": "ef77355d-bd61-4b9b-bc75-d8fca73bbbb7",
   "metadata": {},
   "outputs": [],
   "source": []
  },
  {
   "cell_type": "markdown",
   "id": "ad583ffc-eb98-4523-a159-d51bda62f3cb",
   "metadata": {},
   "source": [
    "# Vybrané aspekty programovacího jazyka Python"
   ]
  },
  {
   "cell_type": "markdown",
   "id": "9ba7d70f-1b87-4163-be68-78738ec881f6",
   "metadata": {},
   "source": [
    "## Ternary operator"
   ]
  },
  {
   "cell_type": "code",
   "execution_count": 51,
   "id": "0ea09a50-9a62-40d6-b446-4bceca5a2cac",
   "metadata": {},
   "outputs": [
    {
     "name": "stdout",
     "output_type": "stream",
     "text": [
      "pravda\n",
      "lez\n"
     ]
    }
   ],
   "source": [
    "pravda = True\n",
    "hodnota = 'pravda' if pravda else 'lez'\n",
    "print(hodnota)\n",
    "hodnota = 'pravda' if not pravda else 'lez'\n",
    "print(hodnota)"
   ]
  },
  {
   "cell_type": "markdown",
   "id": "7ba2e2c9-efdc-4f2c-877b-4f823e14bf6a",
   "metadata": {},
   "source": [
    "## Lambda výraz"
   ]
  },
  {
   "cell_type": "markdown",
   "id": "0c9d5b0c-f31e-41b6-bea4-778699731d0f",
   "metadata": {},
   "source": [
    "> **Doporučené video**\n",
    "> \n",
    "> [#42 Python Tutorial for Beginners | Anonymous Functions | Lambda 4 minuty](https://www.youtube.com/watch?v=hYzwCsKGRrg)\n",
    "> \n",
    "> [Lambda Expressions & Anonymous Functions || Python Tutorial || Learn Python Programming 6 minut](https://www.youtube.com/watch?v=25ovCm9jKfA)\n",
    ">\n",
    "> [Python Lambda Function | Anonymous Function In Python | Python Tutorial | Edureka 21 minut](https://youtu.be/RQRCWDK9UkA?t=34)\n",
    "\n",
    "\n",
    "Lambda výraz je výraz jehož výsledkem je funkce. Příklad je uveden níže."
   ]
  },
  {
   "cell_type": "code",
   "execution_count": 52,
   "id": "038f3617-0db9-4b6c-b2b1-ab656a1196b0",
   "metadata": {},
   "outputs": [
    {
     "name": "stdout",
     "output_type": "stream",
     "text": [
      "7\n"
     ]
    }
   ],
   "source": [
    "func = lambda x: x + 5\n",
    "print(func(2))"
   ]
  },
  {
   "cell_type": "markdown",
   "id": "a23ff7b0-a6e4-456b-9401-735b467aaa9f",
   "metadata": {},
   "source": [
    "Jestliže je v lambda výrazu použita nelokální proměnná a tato je změněna, projeví se tato změna při volání vzniklé funkce. Příklad je uveden níže. V cyklu jsou vytvářeny funkce. Volání  libovolné funkce vrátí vždy stejnou hodnotu, což je v rozporu s očekáváním."
   ]
  },
  {
   "cell_type": "code",
   "execution_count": 53,
   "id": "6471023c-4ade-4a2d-8f06-c072e117ed64",
   "metadata": {},
   "outputs": [
    {
     "name": "stdout",
     "output_type": "stream",
     "text": [
      "10\n",
      "10\n"
     ]
    }
   ],
   "source": [
    "def createFuncs(count=5):\n",
    "    result = []\n",
    "    for i in range(count):\n",
    "        result.append(lambda x: x + i)\n",
    "    return result\n",
    "        \n",
    "funcs = createFuncs(10)\n",
    "print(funcs[0](1))\n",
    "print(funcs[1](1))"
   ]
  },
  {
   "cell_type": "markdown",
   "id": "95ba5dd6-fa02-431f-bb97-095aeadfe40c",
   "metadata": {},
   "source": [
    "Chování odpovídá vlastnostem **[closure](https://www.learnpython.org/en/Closures)**."
   ]
  },
  {
   "cell_type": "markdown",
   "id": "04cd0f94-a825-4a37-81f1-70e7f9033505",
   "metadata": {},
   "source": [
    "## Closure"
   ]
  },
  {
   "cell_type": "markdown",
   "id": "9d11dcd8-321a-4daa-81c5-0e917eae17d7",
   "metadata": {},
   "source": [
    "> **Doporučené video**\n",
    ">\n",
    "> [Python Closures - Python Advanced Tutorial #6 4,5 minuty](https://www.youtube.com/watch?v=p3z0ATbDR-U)\n",
    "\n",
    "Closure lze chápat jako funkci ve funkci. Vychází ze skutečnosti, že parametrem funkce a tedy i návratovou hodnotou může být nejen datový prvek, ale i funkce.\n"
   ]
  },
  {
   "cell_type": "code",
   "execution_count": 54,
   "id": "527f64fe-0da0-4709-81b8-a40b490538f3",
   "metadata": {},
   "outputs": [],
   "source": [
    "def createInc(amount):\n",
    "    def result(value):\n",
    "        return amount + value\n",
    "    #result2 = lambda value: amount + value\n",
    "    return result"
   ]
  },
  {
   "cell_type": "code",
   "execution_count": 55,
   "id": "a071cdc7-e0f2-4c64-ad8e-c59e539498d1",
   "metadata": {},
   "outputs": [
    {
     "name": "stdout",
     "output_type": "stream",
     "text": [
      "7\n"
     ]
    }
   ],
   "source": [
    "inc5 = createInc(5)\n",
    "print(inc5(2))"
   ]
  },
  {
   "cell_type": "markdown",
   "id": "86804ffe-36da-4190-8806-0870c6580be3",
   "metadata": {},
   "source": [
    "Příklad uvedený v části **lambda výraz** lze upravit do tvaru, kdy chování odpovídá očekávanému."
   ]
  },
  {
   "cell_type": "code",
   "execution_count": 56,
   "id": "b7353255-2cf1-4323-86fc-fb3efb9407a3",
   "metadata": {},
   "outputs": [
    {
     "name": "stdout",
     "output_type": "stream",
     "text": [
      "1\n",
      "2\n"
     ]
    }
   ],
   "source": [
    "def createFuncs(count=5):\n",
    "    def createLambda(i):\n",
    "        return lambda x: x + i\n",
    "    \n",
    "    result = []\n",
    "    for i in range(count):\n",
    "        result.append(createLambda(i))\n",
    "    return result\n",
    "        \n",
    "funcs = createFuncs(10)\n",
    "print(funcs[0](1))\n",
    "print(funcs[1](1))"
   ]
  },
  {
   "cell_type": "markdown",
   "id": "84e482fe-d2e5-4549-9b55-44756b0006b5",
   "metadata": {},
   "source": [
    "## Dekorátory"
   ]
  },
  {
   "cell_type": "markdown",
   "id": "5f074fce-9e0f-4a8d-9660-e60497282ead",
   "metadata": {},
   "source": [
    "> **Doporučené video**\n",
    ">\n",
    "> [#44 Python Tutorial for Beginners | Decorators 8 minut](https://www.youtube.com/watch?v=yNzxXZfkLUA)\n",
    "\n",
    "Jako dekorátor lze použít funkci, jejímž parametrem je funkce. Příklad je uveden níže."
   ]
  },
  {
   "cell_type": "code",
   "execution_count": 57,
   "id": "4b276d80-9605-4f66-8a6a-685ca6a75223",
   "metadata": {},
   "outputs": [],
   "source": [
    "def logIt(func, logger=print):\n",
    "    def result(data):\n",
    "        logger(f'input: \\t {data}')\n",
    "        output = func(data)\n",
    "        logger(f'input: \\t {data} \\t-> output:\\t {output}')\n",
    "        return output\n",
    "    return result"
   ]
  },
  {
   "cell_type": "code",
   "execution_count": 58,
   "id": "185feddb-d4ba-49a4-a69d-6687fb871395",
   "metadata": {},
   "outputs": [
    {
     "name": "stdout",
     "output_type": "stream",
     "text": [
      "input: \t 2\n",
      "input: \t 2 \t-> output:\t 7\n",
      "7\n"
     ]
    }
   ],
   "source": [
    "inc5WithLog = logIt(inc5)\n",
    "print(inc5WithLog(2))"
   ]
  },
  {
   "cell_type": "markdown",
   "id": "a9741f58-8a90-43aa-bd22-dcf47e432e3a",
   "metadata": {},
   "source": [
    "Dekorátor je spole se symbolem `@` předřazen definici funkce.\n",
    "Při využití funkce jako dekorátoru vzniká prvek, jehož název je shodný s názvem deklarované funkce, ale hodnota je dána návratovou hodnotou dekorátoru."
   ]
  },
  {
   "cell_type": "code",
   "execution_count": 59,
   "id": "78751d69-d166-4a3f-8504-d932fc35e75b",
   "metadata": {},
   "outputs": [],
   "source": [
    "@logIt\n",
    "def getData(address):\n",
    "    return f'data from {address}'"
   ]
  },
  {
   "cell_type": "code",
   "execution_count": 60,
   "id": "7fe4762c-cf33-4291-aad5-29661f6e9cc6",
   "metadata": {},
   "outputs": [
    {
     "name": "stdout",
     "output_type": "stream",
     "text": [
      "input: \t www.unob.cz\n",
      "input: \t www.unob.cz \t-> output:\t data from www.unob.cz\n",
      "data from www.unob.cz\n"
     ]
    }
   ],
   "source": [
    "print(getData('www.unob.cz'))"
   ]
  },
  {
   "cell_type": "code",
   "execution_count": 61,
   "id": "826b896b-791d-4b59-aea3-058360022b82",
   "metadata": {},
   "outputs": [],
   "source": [
    "def logIt2(paramA, paramB, logger=print):\n",
    "    def wrapper(func):\n",
    "        def wrapped(data):\n",
    "            logger(paramA.format(data))\n",
    "            output = func(data)\n",
    "            logger(paramB.format(data, output))\n",
    "            return output\n",
    "        return wrapped\n",
    "    return wrapper"
   ]
  },
  {
   "cell_type": "code",
   "execution_count": 64,
   "id": "84da4676-aab0-4d28-b149-0325997671c3",
   "metadata": {},
   "outputs": [],
   "source": [
    "@logIt2('!!! input is \"{0}\"', '!!! output is \"{1}\"')\n",
    "def getData2(address):\n",
    "    return f'data from {address}'"
   ]
  },
  {
   "cell_type": "code",
   "execution_count": 65,
   "id": "af2fa490-c862-4612-9756-7f5ecff94f87",
   "metadata": {},
   "outputs": [
    {
     "name": "stdout",
     "output_type": "stream",
     "text": [
      "!!! input is \"www.unob.cz\"\n",
      "!!! output is \"data from www.unob.cz\"\n",
      "data from www.unob.cz\n"
     ]
    }
   ],
   "source": [
    "print(getData2('www.unob.cz'))"
   ]
  },
  {
   "cell_type": "markdown",
   "id": "7691f433-6779-42e6-9f98-635c3fe737f5",
   "metadata": {},
   "source": [
    "## Generátory"
   ]
  },
  {
   "cell_type": "markdown",
   "id": "09ec0155-0964-45fb-b1c9-965a4ff86add",
   "metadata": {},
   "source": [
    "> **Doporučené video**\n",
    ">\n",
    "> [#62 Python Tutorial for Beginners | Generators 6 minut](https://www.youtube.com/watch?v=mziIj4M_uwk)\n",
    "\n",
    "Generátory jsou výstupem funkce, v jejímž těle se používá klíčové slovo `yield`. `yield` se používá pro vrácení výsledku na vyžádání. Do doby vyžádání dalšího výsledku je běh funkce pozastaven. Znamená to, že funkce, která vrací generátor není ukončena po jejím volání. Části kódu ve funkci se vykonávají vyžádáním si výsledku."
   ]
  },
  {
   "cell_type": "code",
   "execution_count": 67,
   "id": "7af2333e-0f99-4899-9554-6ab2c6c46ff7",
   "metadata": {},
   "outputs": [
    {
     "name": "stdout",
     "output_type": "stream",
     "text": [
      "<generator object func at 0x7f1eba7c4970>\n",
      "0\n",
      "1\n",
      "2\n"
     ]
    }
   ],
   "source": [
    "def func():\n",
    "    yield 0\n",
    "    yield 1\n",
    "    yield 2\n",
    "    \n",
    "print(func())\n",
    "for item in func():\n",
    "    print(item)"
   ]
  },
  {
   "cell_type": "markdown",
   "id": "8236f217-add9-4def-9cf5-6bc7a1cc1849",
   "metadata": {},
   "source": [
    "Všimněte si prolínání tisků z cyklu a z těla funkce."
   ]
  },
  {
   "cell_type": "code",
   "execution_count": 71,
   "id": "4e1b83f6-1c5c-41c8-867b-7103fc720431",
   "metadata": {},
   "outputs": [
    {
     "name": "stdout",
     "output_type": "stream",
     "text": [
      "pocitam vystup A\n",
      "0 hodnota\n",
      "pocitam vystup B\n",
      "1 {'name': 'Josef'}\n",
      "2 {'name': 'Pepa'}\n",
      "pocitam vystup C\n",
      "3 ['jablko', 'broskev']\n"
     ]
    }
   ],
   "source": [
    "def func():\n",
    "    print('pocitam vystup A')\n",
    "    yield 'hodnota'\n",
    "    print('pocitam vystup B')\n",
    "    \n",
    "    data = {'name': 'Josef'}\n",
    "    yield data\n",
    "    \n",
    "    yield data\n",
    "    print('pocitam vystup C')\n",
    "    yield ['jablko', 'broskev']\n",
    "    \n",
    "data = func()\n",
    "for index, item in enumerate(data):\n",
    "    print(index, item)\n",
    "    if index == 1:\n",
    "        item['name'] = 'Pepa'"
   ]
  },
  {
   "cell_type": "markdown",
   "id": "9a7c64e7-1468-446b-8c4b-0a5c2be186fb",
   "metadata": {},
   "source": [
    "> **Pozor**\n",
    "> \n",
    "> Generátory lze vyčerpat. Jednou přečtená hodnota je generátorem zapomenuta. **Generátor není List**."
   ]
  },
  {
   "cell_type": "markdown",
   "id": "d9db5b07-27a7-440e-9051-7f4c6cd6f4a4",
   "metadata": {},
   "source": [
    "## Map, Filter, Reduce"
   ]
  },
  {
   "cell_type": "markdown",
   "id": "96877c2b-babe-4aa6-a325-0e8a2caafbdb",
   "metadata": {},
   "source": [
    "> **Doporučené video**\n",
    ">\n",
    "> [Map, Filter, Reduce Functions in Python | Python Built-in Functions | Python Tutorial | Edureka 17 minut](https://www.youtube.com/watch?v=QxpbE5hDPws)"
   ]
  },
  {
   "cell_type": "code",
   "execution_count": 72,
   "id": "497eed6e-f374-4436-9b10-db268354be5a",
   "metadata": {},
   "outputs": [
    {
     "name": "stdout",
     "output_type": "stream",
     "text": [
      "[0, 1, 4, 9]\n"
     ]
    }
   ],
   "source": [
    "data = [0, 1, 2, 3]\n",
    "data2 = list(map(lambda item: item * item, data))\n",
    "print(data2)"
   ]
  },
  {
   "cell_type": "code",
   "execution_count": 73,
   "id": "710e7b6b-f86f-400f-bb59-1cbcbccd8585",
   "metadata": {},
   "outputs": [
    {
     "name": "stdout",
     "output_type": "stream",
     "text": [
      "['mrkev', 'kedlubna']\n"
     ]
    }
   ],
   "source": [
    "data = ['mrkev', 'brukev', 'kedlubna']\n",
    "dataF = list(filter(lambda item: item > 'c', data))\n",
    "print(dataF)"
   ]
  },
  {
   "cell_type": "code",
   "execution_count": 80,
   "id": "239ec24f-fb67-4273-ae90-ca19418ab5d5",
   "metadata": {},
   "outputs": [
    {
     "name": "stdout",
     "output_type": "stream",
     "text": [
      "6\n"
     ]
    }
   ],
   "source": [
    "from functools import reduce\n",
    "data = [0, 1, 2, 3]\n",
    "data2 = reduce(lambda acc, item: acc + item, data)\n",
    "print(data2)"
   ]
  },
  {
   "cell_type": "markdown",
   "id": "3bf5fddc-8dc2-43eb-a0c4-604ebce28fe7",
   "metadata": {},
   "source": [
    "## Comprehensions / Lists"
   ]
  },
  {
   "cell_type": "markdown",
   "id": "803d9df9-587b-44a5-a7f7-58da306569ae",
   "metadata": {},
   "source": [
    "> **Doporučené video**\n",
    ">\n",
    "> [List Comprehension || Python Tutorial || Learn Python Programming 8 minut](https://www.youtube.com/watch?v=AhSvKGTh28Q)\n",
    "\n",
    "Comprehension je výraz v Pythonu, který má úzkou vazbu na cykly. V takovém výrazu uvidíte klíčové slovo `for`."
   ]
  },
  {
   "cell_type": "code",
   "execution_count": 74,
   "id": "ab645055-db99-43e5-9598-0050afcc2b8e",
   "metadata": {},
   "outputs": [
    {
     "name": "stdout",
     "output_type": "stream",
     "text": [
      "[1, 2, 3, 4, 5]\n"
     ]
    }
   ],
   "source": [
    "listData = [i + 1 for i in range(5)]\n",
    "print(listData)"
   ]
  },
  {
   "cell_type": "markdown",
   "id": "b26744f3-e6da-4873-a708-1f900f0c4de4",
   "metadata": {},
   "source": [
    "## Comprehensions / Generators"
   ]
  },
  {
   "cell_type": "markdown",
   "id": "5049d50b-d97f-47a4-a49a-0b09c448d1c8",
   "metadata": {},
   "source": [
    "Na rozdíl od listů se uvádějí v kulatých závorkách a jejich vyhodnocení proběhne až při získávání dat, typicky v cyklu nebo při transformaci na list."
   ]
  },
  {
   "cell_type": "code",
   "execution_count": 83,
   "id": "f824ab16-c0ec-4a2e-84c6-2e004c281847",
   "metadata": {},
   "outputs": [
    {
     "name": "stdout",
     "output_type": "stream",
     "text": [
      "result of comprehension in () <generator object <genexpr> at 0x7f1eb87a1eb0>\n",
      "1\n",
      "2\n",
      "3\n",
      "4\n",
      "5\n"
     ]
    }
   ],
   "source": [
    "listData = (i + 1 for i in range(5))\n",
    "print('result of comprehension in ()', listData)\n",
    "for item in listData:\n",
    "    print(item)"
   ]
  },
  {
   "cell_type": "markdown",
   "id": "b8271c36-a43b-423d-ae6f-2495a9e5ba62",
   "metadata": {},
   "source": [
    "## Dekompozice"
   ]
  },
  {
   "cell_type": "code",
   "execution_count": 84,
   "id": "050afa6f-d20c-4619-9e47-890f6abca6e9",
   "metadata": {},
   "outputs": [
    {
     "name": "stdout",
     "output_type": "stream",
     "text": [
      "mrkev brukev [] kedlubna\n"
     ]
    }
   ],
   "source": [
    "data = ['mrkev', 'brukev', 'kedlubna']\n",
    "a, b, *c, d = data\n",
    "print(a, b, c, d)"
   ]
  },
  {
   "cell_type": "code",
   "execution_count": 16,
   "id": "d3fb76b1-9e86-4878-a6ff-2a517507cc1d",
   "metadata": {},
   "outputs": [
    {
     "name": "stdout",
     "output_type": "stream",
     "text": [
      "('name', 'Josef') ('age', 35)\n"
     ]
    }
   ],
   "source": [
    "data = {'name': 'Josef', 'age': 35}\n",
    "a, b = data.items()\n",
    "print(a, b)"
   ]
  },
  {
   "cell_type": "code",
   "execution_count": 85,
   "id": "fa1447b3-7c85-435e-a7fe-c3902908e7dc",
   "metadata": {},
   "outputs": [
    {
     "name": "stdout",
     "output_type": "stream",
     "text": [
      "name age\n"
     ]
    }
   ],
   "source": [
    "data = {'name': 'Josef', 'age': 35}\n",
    "a, b = data.keys()\n",
    "print(a, b)"
   ]
  },
  {
   "cell_type": "code",
   "execution_count": 86,
   "id": "4e71f6bf-59ec-4687-b928-b49180ddfabc",
   "metadata": {},
   "outputs": [
    {
     "name": "stdout",
     "output_type": "stream",
     "text": [
      "Josef 35\n"
     ]
    }
   ],
   "source": [
    "data = {'name': 'Josef', 'age': 35}\n",
    "a, b = data.values()\n",
    "print(a, b)"
   ]
  },
  {
   "cell_type": "markdown",
   "id": "aede3c61-ef1e-4339-a294-1638ef0ec2de",
   "metadata": {},
   "source": [
    "## Stars"
   ]
  },
  {
   "cell_type": "code",
   "execution_count": 90,
   "id": "2d06f93f-82fe-49d1-b668-6f2810c3712c",
   "metadata": {},
   "outputs": [
    {
     "name": "stdout",
     "output_type": "stream",
     "text": [
      "['mrkev', 'brukev', 'kedlubna']\n",
      "['mrkev', 'brukev', 'kedlubna', 'brambor']\n",
      "False\n",
      "True\n",
      "['mrkev', 'brukev', 'kedlubna']\n",
      "['mrkev', 'brukev', 'kedlubna', 'brambor']\n",
      "False\n"
     ]
    }
   ],
   "source": [
    "data = ['mrkev', 'brukev', 'kedlubna']\n",
    "data2 = [*data, 'brambor']\n",
    "data3 = [*data]\n",
    "print(data)\n",
    "print(data2)\n",
    "print(data == data2)\n",
    "print(data == data3)\n",
    "data3.append('brambor')\n",
    "print(data)\n",
    "print(data3)\n",
    "print(data == data3)"
   ]
  },
  {
   "cell_type": "code",
   "execution_count": 92,
   "id": "7377ac1a-5d88-4148-8f69-3e58919d4bcf",
   "metadata": {},
   "outputs": [
    {
     "name": "stdout",
     "output_type": "stream",
     "text": [
      "{'name': 'Josef', 'age': 35}\n",
      "{'name': 'Josef', 'age': 36}\n",
      "{'name': 'Josef', 'age': 35}\n",
      "False\n",
      "True\n",
      "{'name': 'Josef', 'age': 35}\n",
      "{'name': 'Josef', 'age': 36}\n",
      "False\n",
      "True\n"
     ]
    }
   ],
   "source": [
    "data = {'name': 'Josef', 'age': 35}\n",
    "data2 = {**data, 'age': 36}\n",
    "data3 = {**data}\n",
    "print(data)\n",
    "print(data2)\n",
    "print(data3)\n",
    "print(data == data2)\n",
    "print(data == data3)\n",
    "data3['age'] = 36\n",
    "print(data)\n",
    "print(data3)\n",
    "print(data == data3)\n",
    "print(data3 == data2)"
   ]
  },
  {
   "cell_type": "code",
   "execution_count": 93,
   "id": "42ab453a-62a3-4cd0-a54d-5db204135594",
   "metadata": {},
   "outputs": [
    {
     "name": "stdout",
     "output_type": "stream",
     "text": [
      "('brukev', 'kedlubna')\n"
     ]
    }
   ],
   "source": [
    "def starFunc(i, *a):\n",
    "    print(a)\n",
    "    \n",
    "starFunc('mrkev', 'brukev', 'kedlubna')"
   ]
  },
  {
   "cell_type": "code",
   "execution_count": 96,
   "id": "2061387c-0d62-412d-98de-8973a59302cf",
   "metadata": {},
   "outputs": [
    {
     "name": "stdout",
     "output_type": "stream",
     "text": [
      "{'name': 'Josef', 'age': 35}\n"
     ]
    }
   ],
   "source": [
    "def star2Func(i, **a):\n",
    "    print(a)\n",
    "\n",
    "\n",
    "star2Func(1, name='Josef', age=35)"
   ]
  },
  {
   "cell_type": "code",
   "execution_count": 98,
   "id": "ae68eab1-c8d5-4012-b8ae-fdf02216d605",
   "metadata": {},
   "outputs": [
    {
     "name": "stdout",
     "output_type": "stream",
     "text": [
      "() {}\n",
      "(2, 3) {'name': 'Josef', 'age': 35}\n"
     ]
    }
   ],
   "source": [
    "def star3Func(i, *a, **d):\n",
    "    print(a, d)\n",
    "\n",
    "star3Func(1)\n",
    "star3Func(1, 2, 3, name='Josef', age=35)"
   ]
  },
  {
   "cell_type": "markdown",
   "id": "59e7c6dd-1c47-4850-b21c-6389396100bc",
   "metadata": {},
   "source": [
    "## Asynchronní kód"
   ]
  },
  {
   "cell_type": "markdown",
   "id": "0cb3cae5-96fd-4a5a-95df-e543c63314ba",
   "metadata": {},
   "source": [
    "> **Doporučené video**\n",
    ">\n",
    "> [Async Python Tutorial: Foundations for those with no prior async experience 17 minut](https://www.youtube.com/watch?v=6kNzG0T44SI)\n",
    "\n",
    "Asynchronní kód je část programu, pro jehož běh je nezbytný zdroj a dokud tento zdroj není k dispozici, je běh programu pozastaven a procesorový čas je poskytnut jiné části kódu.\n",
    "\n",
    "Základní formou asynchronního kódu je funkce. Tato je definována následujícím způsobem:\n",
    "```python\n",
    "async def func(params):\n",
    "```\n",
    "\n",
    "Taková funkce vrací tzv. awaitable, s jejíž pomocí lze identifikovat, zda pozastavený běh byl ukončen a jaký výsledek byl vrácen.\n",
    "\n",
    "S pomocí asynchronního kódu lze v jednom threadu zpracovávat paralelně více algoritmů (**[Concurent computing](https://en.wikipedia.org/wiki/Concurrent_computinghttps://en.wikipedia.org/wiki/Concurrent_computing)**, **[cooperative multitasking](https://en.wikipedia.org/wiki/Cooperative_multitaskinghttps://en.wikipedia.org/wiki/Cooperative_multitasking)**). Školní příkladem budiž načítání dat z více serverů / více požadavků na jeden server.\n",
    "\n",
    "V jazyku Python je podpora pro asynchronní programování zavedena od verze 3.5 pomocí knihovny **[asyncio](https://docs.python.org/3.8/library/asyncio.htmlhttps://docs.python.org/3.8/library/asyncio.html)**.\n",
    "\n",
    "Mezi knihovny používající asynchronní programování patří **[aiohttp](https://docs.aiohttp.org/en/stable/client_quickstart.html#make-a-request)**."
   ]
  },
  {
   "cell_type": "code",
   "execution_count": 99,
   "id": "7518c793-ecb6-4880-be36-527cab6a1eb1",
   "metadata": {},
   "outputs": [
    {
     "name": "stdout",
     "output_type": "stream",
     "text": [
      "Requirement already satisfied: aiohttp in /opt/conda/lib/python3.8/site-packages (3.7.4.post0)\n",
      "Requirement already satisfied: multidict<7.0,>=4.5 in /opt/conda/lib/python3.8/site-packages (from aiohttp) (5.1.0)\n",
      "Requirement already satisfied: attrs>=17.3.0 in /opt/conda/lib/python3.8/site-packages (from aiohttp) (20.3.0)\n",
      "Requirement already satisfied: typing-extensions>=3.6.5 in /opt/conda/lib/python3.8/site-packages (from aiohttp) (3.7.4.3)\n",
      "Requirement already satisfied: yarl<2.0,>=1.0 in /opt/conda/lib/python3.8/site-packages (from aiohttp) (1.6.3)\n",
      "Requirement already satisfied: chardet<5.0,>=2.0 in /opt/conda/lib/python3.8/site-packages (from aiohttp) (4.0.0)\n",
      "Requirement already satisfied: async-timeout<4.0,>=3.0 in /opt/conda/lib/python3.8/site-packages (from aiohttp) (3.0.1)\n",
      "Requirement already satisfied: idna>=2.0 in /opt/conda/lib/python3.8/site-packages (from yarl<2.0,>=1.0->aiohttp) (2.10)\n"
     ]
    }
   ],
   "source": [
    "!pip install aiohttp"
   ]
  },
  {
   "cell_type": "code",
   "execution_count": 100,
   "id": "d28a6635-5221-4193-8e40-482f3c81b6fd",
   "metadata": {},
   "outputs": [
    {
     "name": "stdout",
     "output_type": "stream",
     "text": [
      "330 µs\n",
      "\n",
      "<!DOCTYPE html PUBLIC \"-//W3C//DTD XHTML 1.0 Strict//EN\"\n",
      "\t\"http://www.w3.org/TR/xhtml1/DTD/xhtml1-strict.dtd\">\n",
      "<html dir=\"ltr\" class=\"ms-isBot\" lang=\"cs-CZ\">\n",
      "    <head><meta name=\"GENERATOR\" content=\"Microsoft SharePoint\" /><meta http-equiv=\"Content-type\" content=\"text/html; charset=utf-8\" /><meta http-equiv=\"X-UA-Compatible\" content=\"IE=10\" /><meta http-equiv=\"Expires\" content=\"0\" /><meta name=\"author\" content=\"Konica Minolta / ECM\" /><meta name=\"msapplication-TileImage\" content=\"/_layouts/15/images/SharePointMetroAppTile.png\" /><meta name=\"msapplication-TileColor\" content=\"#0072C6\" /><title>\n",
      "\t\n",
      "\tÚvodní stránka Univerzity obrany\n",
      " - Univerzita obrany\n",
      "</title><link rel=\"shortcut icon\" href=\"/Style Library/Unob/Images/favicon.png\" type=\"image/vnd.microsoft.icon\" id=\"favicon\" /><link rel=\"stylesheet\" type=\"text/css\" href=\"/_layouts/15/1029/styles/Themable/corev15.css?rev=5vp110qy5WkHsLKRExBWFg%3D%3D\"/>\n",
      "<link rel=\"stylesheet\" type=\"text/css\" href=\"/Style%20Library/Unob/Css/unob-hot\n"
     ]
    }
   ],
   "source": [
    "import time\n",
    "\n",
    "def mS(start=0):\n",
    "    return round(time.time() * 1000) - start\n",
    "\n",
    "import aiohttp\n",
    "async def getHttp(url):\n",
    "    async with aiohttp.ClientSession() as session:\n",
    "        async with session.get(url) as resp:\n",
    "            return await resp.text()\n",
    "        \n",
    "start = mS()\n",
    "text = await getHttp('http://www.unob.cz')\n",
    "print(mS(start), 'µs')\n",
    "print(text[:1000])"
   ]
  },
  {
   "cell_type": "code",
   "execution_count": 101,
   "id": "6fe92a7f-e80d-417e-8515-059ba784321d",
   "metadata": {},
   "outputs": [
    {
     "name": "stdout",
     "output_type": "stream",
     "text": [
      "594 µs\n",
      "\n",
      "<!DOCTYPE html PUBLIC \"-//W3C//DTD XHTML 1.0 Strict//EN\"\n",
      "\t\"http://www.w3.org/TR/xhtml1/DTD/xhtml1-strict.dtd\">\n",
      "<html dir=\"ltr\" class=\"ms-isBot\" lang=\"cs-CZ\">\n",
      "    <head><meta name=\"GENERATOR\" content=\"Microsoft SharePoint\" /><meta http-equiv=\"Content-type\" content=\"text/html; charset=utf-8\" /><meta http-equiv=\"X-UA-Compatible\" content=\"IE=10\" /><meta http-equiv=\"Expires\" content=\"0\" /><meta name=\"author\" content=\"Konica Minolta / ECM\" /><meta name=\"msapplication-TileImage\" content=\"/_layouts/15/images/SharePointMetroAppTile.png\" /><meta name=\"msapplication-TileColor\" content=\"#0072C6\" /><title>\n",
      "\t\n",
      "\tÚvodní stránka Univerzity obrany\n",
      " - Univerzita obrany\n",
      "</title><link rel=\"shortcut icon\" href=\"/Style Library/Unob/Images/favicon.png\" type=\"image/vnd.microsoft.icon\" id=\"favicon\" /><link rel=\"stylesheet\" type=\"text/css\" href=\"/_layouts/15/1029/styles/Themable/corev15.css?rev=5vp110qy5WkHsLKRExBWFg%3D%3D\"/>\n",
      "<link rel=\"stylesheet\" type=\"text/css\" href=\"/Style%20Library/Unob/Css/unob-hot\n",
      "******************************\n",
      "\n",
      "<!DOCTYPE html PUBLIC \"-//W3C//DTD XHTML 1.0 Strict//EN\"\n",
      "\t\"http://www.w3.org/TR/xhtml1/DTD/xhtml1-strict.dtd\">\n",
      "<html dir=\"ltr\" class=\"ms-isBot\" lang=\"cs-CZ\">\n",
      "    <head><meta name=\"GENERATOR\" content=\"Microsoft SharePoint\" /><meta http-equiv=\"Content-type\" content=\"text/html; charset=utf-8\" /><meta http-equiv=\"X-UA-Compatible\" content=\"IE=10\" /><meta http-equiv=\"Expires\" content=\"0\" /><meta name=\"author\" content=\"Konica Minolta / ECM\" /><meta name=\"msapplication-TileImage\" content=\"/_layouts/15/images/SharePointMetroAppTile.png\" /><meta name=\"msapplication-TileColor\" content=\"#0072C6\" /><title>\n",
      "\t\n",
      "\tÚvodní stránka Univerzity obrany\n",
      " - Univerzita obrany\n",
      "</title><link rel=\"shortcut icon\" href=\"/Style Library/Unob/Images/favicon.png\" type=\"image/vnd.microsoft.icon\" id=\"favicon\" /><link rel=\"stylesheet\" type=\"text/css\" href=\"/_layouts/15/1029/styles/Themable/corev15.css?rev=5vp110qy5WkHsLKRExBWFg%3D%3D\"/>\n",
      "<link rel=\"stylesheet\" type=\"text/css\" href=\"/Style%20Library/Unob/Css/unob-hot\n",
      "******************************\n",
      "\n",
      "<!DOCTYPE html PUBLIC \"-//W3C//DTD XHTML 1.0 Strict//EN\"\n",
      "\t\"http://www.w3.org/TR/xhtml1/DTD/xhtml1-strict.dtd\">\n",
      "<html dir=\"ltr\" class=\"ms-isBot\" lang=\"cs-CZ\">\n",
      "    <head><meta name=\"GENERATOR\" content=\"Microsoft SharePoint\" /><meta http-equiv=\"Content-type\" content=\"text/html; charset=utf-8\" /><meta http-equiv=\"X-UA-Compatible\" content=\"IE=10\" /><meta http-equiv=\"Expires\" content=\"0\" /><meta name=\"author\" content=\"Konica Minolta / ECM\" /><meta name=\"msapplication-TileImage\" content=\"/_layouts/15/images/SharePointMetroAppTile.png\" /><meta name=\"msapplication-TileColor\" content=\"#0072C6\" /><title>\n",
      "\t\n",
      "\tÚvodní stránka Univerzity obrany\n",
      " - Univerzita obrany\n",
      "</title><link rel=\"shortcut icon\" href=\"/Style Library/Unob/Images/favicon.png\" type=\"image/vnd.microsoft.icon\" id=\"favicon\" /><link rel=\"stylesheet\" type=\"text/css\" href=\"/_layouts/15/1029/styles/Themable/corev15.css?rev=5vp110qy5WkHsLKRExBWFg%3D%3D\"/>\n",
      "<link rel=\"stylesheet\" type=\"text/css\" href=\"/Style%20Library/Unob/Css/unob-hot\n",
      "******************************\n",
      "\n",
      "<!DOCTYPE html PUBLIC \"-//W3C//DTD XHTML 1.0 Strict//EN\"\n",
      "\t\"http://www.w3.org/TR/xhtml1/DTD/xhtml1-strict.dtd\">\n",
      "<html dir=\"ltr\" class=\"ms-isBot\" lang=\"cs-CZ\">\n",
      "    <head><meta name=\"GENERATOR\" content=\"Microsoft SharePoint\" /><meta http-equiv=\"Content-type\" content=\"text/html; charset=utf-8\" /><meta http-equiv=\"X-UA-Compatible\" content=\"IE=10\" /><meta http-equiv=\"Expires\" content=\"0\" /><meta name=\"author\" content=\"Konica Minolta / ECM\" /><meta name=\"msapplication-TileImage\" content=\"/_layouts/15/images/SharePointMetroAppTile.png\" /><meta name=\"msapplication-TileColor\" content=\"#0072C6\" /><title>\n",
      "\t\n",
      "\tÚvodní stránka Univerzity obrany\n",
      " - Univerzita obrany\n",
      "</title><link rel=\"shortcut icon\" href=\"/Style Library/Unob/Images/favicon.png\" type=\"image/vnd.microsoft.icon\" id=\"favicon\" /><link rel=\"stylesheet\" type=\"text/css\" href=\"/_layouts/15/1029/styles/Themable/corev15.css?rev=5vp110qy5WkHsLKRExBWFg%3D%3D\"/>\n",
      "<link rel=\"stylesheet\" type=\"text/css\" href=\"/Style%20Library/Unob/Css/unob-hot\n",
      "******************************\n",
      "\n",
      "<!DOCTYPE html PUBLIC \"-//W3C//DTD XHTML 1.0 Strict//EN\"\n",
      "\t\"http://www.w3.org/TR/xhtml1/DTD/xhtml1-strict.dtd\">\n",
      "<html dir=\"ltr\" class=\"ms-isBot\" lang=\"cs-CZ\">\n",
      "    <head><meta name=\"GENERATOR\" content=\"Microsoft SharePoint\" /><meta http-equiv=\"Content-type\" content=\"text/html; charset=utf-8\" /><meta http-equiv=\"X-UA-Compatible\" content=\"IE=10\" /><meta http-equiv=\"Expires\" content=\"0\" /><meta name=\"author\" content=\"Konica Minolta / ECM\" /><meta name=\"msapplication-TileImage\" content=\"/_layouts/15/images/SharePointMetroAppTile.png\" /><meta name=\"msapplication-TileColor\" content=\"#0072C6\" /><title>\n",
      "\t\n",
      "\tÚvodní stránka Univerzity obrany\n",
      " - Univerzita obrany\n",
      "</title><link rel=\"shortcut icon\" href=\"/Style Library/Unob/Images/favicon.png\" type=\"image/vnd.microsoft.icon\" id=\"favicon\" /><link rel=\"stylesheet\" type=\"text/css\" href=\"/_layouts/15/1029/styles/Themable/corev15.css?rev=5vp110qy5WkHsLKRExBWFg%3D%3D\"/>\n",
      "<link rel=\"stylesheet\" type=\"text/css\" href=\"/Style%20Library/Unob/Css/unob-hot\n",
      "******************************\n",
      "\n",
      "<!DOCTYPE html PUBLIC \"-//W3C//DTD XHTML 1.0 Strict//EN\"\n",
      "\t\"http://www.w3.org/TR/xhtml1/DTD/xhtml1-strict.dtd\">\n",
      "<html dir=\"ltr\" class=\"ms-isBot\" lang=\"cs-CZ\">\n",
      "    <head><meta name=\"GENERATOR\" content=\"Microsoft SharePoint\" /><meta http-equiv=\"Content-type\" content=\"text/html; charset=utf-8\" /><meta http-equiv=\"X-UA-Compatible\" content=\"IE=10\" /><meta http-equiv=\"Expires\" content=\"0\" /><meta name=\"author\" content=\"Konica Minolta / ECM\" /><meta name=\"msapplication-TileImage\" content=\"/_layouts/15/images/SharePointMetroAppTile.png\" /><meta name=\"msapplication-TileColor\" content=\"#0072C6\" /><title>\n",
      "\t\n",
      "\tÚvodní stránka Univerzity obrany\n",
      " - Univerzita obrany\n",
      "</title><link rel=\"shortcut icon\" href=\"/Style Library/Unob/Images/favicon.png\" type=\"image/vnd.microsoft.icon\" id=\"favicon\" /><link rel=\"stylesheet\" type=\"text/css\" href=\"/_layouts/15/1029/styles/Themable/corev15.css?rev=5vp110qy5WkHsLKRExBWFg%3D%3D\"/>\n",
      "<link rel=\"stylesheet\" type=\"text/css\" href=\"/Style%20Library/Unob/Css/unob-hot\n",
      "******************************\n",
      "\n",
      "<!DOCTYPE html PUBLIC \"-//W3C//DTD XHTML 1.0 Strict//EN\"\n",
      "\t\"http://www.w3.org/TR/xhtml1/DTD/xhtml1-strict.dtd\">\n",
      "<html dir=\"ltr\" class=\"ms-isBot\" lang=\"cs-CZ\">\n",
      "    <head><meta name=\"GENERATOR\" content=\"Microsoft SharePoint\" /><meta http-equiv=\"Content-type\" content=\"text/html; charset=utf-8\" /><meta http-equiv=\"X-UA-Compatible\" content=\"IE=10\" /><meta http-equiv=\"Expires\" content=\"0\" /><meta name=\"author\" content=\"Konica Minolta / ECM\" /><meta name=\"msapplication-TileImage\" content=\"/_layouts/15/images/SharePointMetroAppTile.png\" /><meta name=\"msapplication-TileColor\" content=\"#0072C6\" /><title>\n",
      "\t\n",
      "\tÚvodní stránka Univerzity obrany\n",
      " - Univerzita obrany\n",
      "</title><link rel=\"shortcut icon\" href=\"/Style Library/Unob/Images/favicon.png\" type=\"image/vnd.microsoft.icon\" id=\"favicon\" /><link rel=\"stylesheet\" type=\"text/css\" href=\"/_layouts/15/1029/styles/Themable/corev15.css?rev=5vp110qy5WkHsLKRExBWFg%3D%3D\"/>\n",
      "<link rel=\"stylesheet\" type=\"text/css\" href=\"/Style%20Library/Unob/Css/unob-hot\n",
      "******************************\n",
      "\n",
      "<!DOCTYPE html PUBLIC \"-//W3C//DTD XHTML 1.0 Strict//EN\"\n",
      "\t\"http://www.w3.org/TR/xhtml1/DTD/xhtml1-strict.dtd\">\n",
      "<html dir=\"ltr\" class=\"ms-isBot\" lang=\"cs-CZ\">\n",
      "    <head><meta name=\"GENERATOR\" content=\"Microsoft SharePoint\" /><meta http-equiv=\"Content-type\" content=\"text/html; charset=utf-8\" /><meta http-equiv=\"X-UA-Compatible\" content=\"IE=10\" /><meta http-equiv=\"Expires\" content=\"0\" /><meta name=\"author\" content=\"Konica Minolta / ECM\" /><meta name=\"msapplication-TileImage\" content=\"/_layouts/15/images/SharePointMetroAppTile.png\" /><meta name=\"msapplication-TileColor\" content=\"#0072C6\" /><title>\n",
      "\t\n",
      "\tÚvodní stránka Univerzity obrany\n",
      " - Univerzita obrany\n",
      "</title><link rel=\"shortcut icon\" href=\"/Style Library/Unob/Images/favicon.png\" type=\"image/vnd.microsoft.icon\" id=\"favicon\" /><link rel=\"stylesheet\" type=\"text/css\" href=\"/_layouts/15/1029/styles/Themable/corev15.css?rev=5vp110qy5WkHsLKRExBWFg%3D%3D\"/>\n",
      "<link rel=\"stylesheet\" type=\"text/css\" href=\"/Style%20Library/Unob/Css/unob-hot\n",
      "******************************\n",
      "\n",
      "<!DOCTYPE html PUBLIC \"-//W3C//DTD XHTML 1.0 Strict//EN\"\n",
      "\t\"http://www.w3.org/TR/xhtml1/DTD/xhtml1-strict.dtd\">\n",
      "<html dir=\"ltr\" class=\"ms-isBot\" lang=\"cs-CZ\">\n",
      "    <head><meta name=\"GENERATOR\" content=\"Microsoft SharePoint\" /><meta http-equiv=\"Content-type\" content=\"text/html; charset=utf-8\" /><meta http-equiv=\"X-UA-Compatible\" content=\"IE=10\" /><meta http-equiv=\"Expires\" content=\"0\" /><meta name=\"author\" content=\"Konica Minolta / ECM\" /><meta name=\"msapplication-TileImage\" content=\"/_layouts/15/images/SharePointMetroAppTile.png\" /><meta name=\"msapplication-TileColor\" content=\"#0072C6\" /><title>\n",
      "\t\n",
      "\tÚvodní stránka Univerzity obrany\n",
      " - Univerzita obrany\n",
      "</title><link rel=\"shortcut icon\" href=\"/Style Library/Unob/Images/favicon.png\" type=\"image/vnd.microsoft.icon\" id=\"favicon\" /><link rel=\"stylesheet\" type=\"text/css\" href=\"/_layouts/15/1029/styles/Themable/corev15.css?rev=5vp110qy5WkHsLKRExBWFg%3D%3D\"/>\n",
      "<link rel=\"stylesheet\" type=\"text/css\" href=\"/Style%20Library/Unob/Css/unob-hot\n",
      "******************************\n",
      "\n",
      "<!DOCTYPE html PUBLIC \"-//W3C//DTD XHTML 1.0 Strict//EN\"\n",
      "\t\"http://www.w3.org/TR/xhtml1/DTD/xhtml1-strict.dtd\">\n",
      "<html dir=\"ltr\" class=\"ms-isBot\" lang=\"cs-CZ\">\n",
      "    <head><meta name=\"GENERATOR\" content=\"Microsoft SharePoint\" /><meta http-equiv=\"Content-type\" content=\"text/html; charset=utf-8\" /><meta http-equiv=\"X-UA-Compatible\" content=\"IE=10\" /><meta http-equiv=\"Expires\" content=\"0\" /><meta name=\"author\" content=\"Konica Minolta / ECM\" /><meta name=\"msapplication-TileImage\" content=\"/_layouts/15/images/SharePointMetroAppTile.png\" /><meta name=\"msapplication-TileColor\" content=\"#0072C6\" /><title>\n",
      "\t\n",
      "\tÚvodní stránka Univerzity obrany\n",
      " - Univerzita obrany\n",
      "</title><link rel=\"shortcut icon\" href=\"/Style Library/Unob/Images/favicon.png\" type=\"image/vnd.microsoft.icon\" id=\"favicon\" /><link rel=\"stylesheet\" type=\"text/css\" href=\"/_layouts/15/1029/styles/Themable/corev15.css?rev=5vp110qy5WkHsLKRExBWFg%3D%3D\"/>\n",
      "<link rel=\"stylesheet\" type=\"text/css\" href=\"/Style%20Library/Unob/Css/unob-hot\n",
      "******************************\n"
     ]
    }
   ],
   "source": [
    "import asyncio\n",
    "\n",
    "async def getHttpMulti(urls):\n",
    "    results = await asyncio.gather(*[getHttp(url) for url in urls])\n",
    "    return results\n",
    "\n",
    "start = mS()\n",
    "allResults = await getHttpMulti(['http://www.unob.cz'] * 10)\n",
    "print(mS(start), 'µs')\n",
    "for item in allResults:\n",
    "    print(item[:1000])\n",
    "    print('*'*30)"
   ]
  },
  {
   "cell_type": "code",
   "execution_count": 125,
   "id": "28873163-b431-4fa5-bd6f-c501f528ba21",
   "metadata": {},
   "outputs": [
    {
     "name": "stdout",
     "output_type": "stream",
     "text": [
      "<coroutine object getData at 0x7f1eb8750bc0>\n"
     ]
    }
   ],
   "source": [
    "import asyncio\n",
    "import time\n",
    "\n",
    "def mS(start=0):\n",
    "    return round(time.time() * 1000) - start\n",
    "\n",
    "async def getData(param):\n",
    "    start = mS() \n",
    "    print('start', 0)\n",
    "    await asyncio.sleep(1) # neblokující verze\n",
    "    #time.sleep(1) # blokující verze\n",
    "    end = mS(start)\n",
    "    print('end', end)\n",
    "    return param + 1\n",
    "\n",
    "result = getData(2)\n",
    "print(result)"
   ]
  },
  {
   "cell_type": "code",
   "execution_count": 126,
   "id": "c2e9e826-4b91-4389-a493-35a1a5033bfc",
   "metadata": {},
   "outputs": [
    {
     "name": "stdout",
     "output_type": "stream",
     "text": [
      "start 0\n",
      "end 1001\n",
      "3\n"
     ]
    }
   ],
   "source": [
    "resultAwaited = await result\n",
    "print(resultAwaited)"
   ]
  },
  {
   "cell_type": "markdown",
   "id": "f844b422-237c-4f26-8f2f-9c2a8897cbc2",
   "metadata": {},
   "source": [
    "Příklad Poštovní přepážka, podací lístek"
   ]
  },
  {
   "cell_type": "code",
   "execution_count": 113,
   "id": "e85243a1-b29c-44cf-b593-ca31cc1a41ee",
   "metadata": {},
   "outputs": [
    {
     "name": "stdout",
     "output_type": "stream",
     "text": [
      "start 0\n",
      "end 1001\n",
      "start 0\n",
      "end 1001\n",
      "[2, 3]\n"
     ]
    }
   ],
   "source": [
    "data1 = getData(1)\n",
    "data2 = getData(2)\n",
    "resultedData = [await data1, await data2]\n",
    "print(resultedData)"
   ]
  },
  {
   "cell_type": "code",
   "execution_count": 118,
   "id": "1657ad5e-f2a8-458b-9d59-ba77fb2a9cc9",
   "metadata": {},
   "outputs": [
    {
     "name": "stdout",
     "output_type": "stream",
     "text": [
      "start 0\n",
      "start 0\n",
      "end 1004\n",
      "end 1003\n",
      "[2, 3]\n"
     ]
    }
   ],
   "source": [
    "data1 = getData(1)\n",
    "data2 = getData(2)\n",
    "resultedData = await asyncio.gather(data1, data2)\n",
    "print(resultedData)"
   ]
  },
  {
   "cell_type": "markdown",
   "id": "bead442f-1088-47a0-b952-b6b6558d0d79",
   "metadata": {},
   "source": [
    "## React hooks in Python?"
   ]
  },
  {
   "cell_type": "markdown",
   "id": "4ccf67bc-6d04-4468-bed7-bcab90bd7101",
   "metadata": {},
   "source": [
    "https://www.netlify.com/blog/2019/03/11/deep-dive-how-do-react-hooks-really-work/"
   ]
  },
  {
   "cell_type": "code",
   "execution_count": 4,
   "id": "5452a9ff-3e94-4cee-9084-f713bf8fd6ec",
   "metadata": {},
   "outputs": [],
   "source": [
    "def PythonReactFunc(logger=None):\n",
    "    hooks = []\n",
    "    currentHook = 0\n",
    "    \n",
    "    def render(Component):\n",
    "        nonlocal currentHook\n",
    "        Comp = Component()\n",
    "        Comp['render']()\n",
    "        currentHook = 0\n",
    "        #print('render', currentHook, hooks)\n",
    "        return Comp\n",
    "    \n",
    "    def useEffect(func, depArray=[]):\n",
    "        nonlocal currentHook\n",
    "        hasNoDeps = len(depArray) == 0\n",
    "        if len(hooks) < currentHook + 1:\n",
    "            hooks.append([*depArray])\n",
    "            hasChangedDeps = True\n",
    "        else:\n",
    "            deps = hooks[currentHook]\n",
    "            #hasChangedDeps = any(map(lambda t : t[0] != t[1], zip(depArray, deps)))\n",
    "            hasChangedDeps = any((currentValue != previousValue for currentValue, previousValue in zip(depArray, deps)))\n",
    "        if (hasNoDeps or hasChangedDeps):\n",
    "            func()\n",
    "            hooks[currentHook] = depArray\n",
    "        currentHook = currentHook + 1\n",
    "        \n",
    "    def useState(initialValue=None):\n",
    "        nonlocal currentHook\n",
    "        if len(hooks) < currentHook + 1:\n",
    "            hooks.append(initialValue)\n",
    "        #hooks[currentHook] = hooks[currentHook] || initialValue #// type: any\n",
    "        setStateHookIndex = currentHook #// for setState's closure!\n",
    "        def setState(newState):\n",
    "            hooks[setStateHookIndex] = newState\n",
    "        \n",
    "        #print('useState', currentHook, hooks)\n",
    "        currentValue = hooks[currentHook]\n",
    "        currentHook = currentHook + 1\n",
    "        return [currentValue, setState]\n",
    "    \n",
    "    return [render, useEffect, useState]\n",
    "        \n",
    "[render, useEffect, useState] = PythonReactFunc()"
   ]
  },
  {
   "cell_type": "code",
   "execution_count": 5,
   "id": "dce24029-c499-490e-b5d2-44985ee58331",
   "metadata": {},
   "outputs": [
    {
     "name": "stdout",
     "output_type": "stream",
     "text": [
      "effect 0 foo\n",
      "{'count': 0, 'text': 'foo'}\n",
      "------------------------------\n",
      "effect 1 foo\n",
      "{'count': 1, 'text': 'foo'}\n",
      "------------------------------\n",
      "effect 1 bar\n",
      "{'count': 1, 'text': 'bar'}\n",
      "------------------------------\n",
      "{'count': 1, 'text': 'bar'}\n",
      "------------------------------\n"
     ]
    }
   ],
   "source": [
    "def Counter():\n",
    "    [count, setCount] = useState(0)\n",
    "    [text, setText] = useState('foo')\n",
    "    useEffect(lambda: print('effect', count, text), [count, text])\n",
    "    return {\n",
    "        'click': lambda : setCount(count + 1),\n",
    "        'type': lambda txt : setText(txt),\n",
    "        'noop': lambda : setCount(count),\n",
    "        'render': lambda : print({'count': count, 'text': text})\n",
    "    }\n",
    "                               \n",
    "app = render(Counter)\n",
    "print('-'*30)\n",
    "app['click']()\n",
    "app = render(Counter)\n",
    "print('-'*30)\n",
    "app['type']('bar')\n",
    "app = render(Counter)\n",
    "print('-'*30)\n",
    "app['noop']()\n",
    "app = render(Counter)\n",
    "print('-'*30)"
   ]
  },
  {
   "cell_type": "code",
   "execution_count": 1,
   "id": "e87179e8-340e-4655-8861-ff15bfa307fb",
   "metadata": {},
   "outputs": [
    {
     "name": "stdout",
     "output_type": "stream",
     "text": [
      "c\n",
      "c\n",
      "['a', 'b', 'x', 'd']\n"
     ]
    }
   ],
   "source": [
    "data = ['a', 'b', 'c', 'd']\n",
    "def get2():\n",
    "    return [data[2]]\n",
    "[item] = get2()\n",
    "print(item)\n",
    "data[2] = 'x'\n",
    "print(item)\n",
    "print(data)"
   ]
  },
  {
   "cell_type": "code",
   "execution_count": null,
   "id": "940058c3-9447-41a4-964f-3af9a9dde8cb",
   "metadata": {},
   "outputs": [],
   "source": []
  }
 ],
 "metadata": {
  "kernelspec": {
   "display_name": "Python 3 (ipykernel)",
   "language": "python",
   "name": "python3"
  },
  "language_info": {
   "codemirror_mode": {
    "name": "ipython",
    "version": 3
   },
   "file_extension": ".py",
   "mimetype": "text/x-python",
   "name": "python",
   "nbconvert_exporter": "python",
   "pygments_lexer": "ipython3",
   "version": "3.10.6"
  },
  "toc-autonumbering": true
 },
 "nbformat": 4,
 "nbformat_minor": 5
}
