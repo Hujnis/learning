{
 "cells": [
  {
   "cell_type": "code",
   "execution_count": 1,
   "id": "79a4b848-c986-4e1a-847e-755856698e1b",
   "metadata": {},
   "outputs": [
    {
     "name": "stdout",
     "output_type": "stream",
     "text": [
      "Requirement already satisfied: starlette in /opt/conda/lib/python3.9/site-packages (0.17.1)\n",
      "Requirement already satisfied: anyio<4,>=3.0.0 in /opt/conda/lib/python3.9/site-packages (from starlette) (3.3.3)\n",
      "Requirement already satisfied: sniffio>=1.1 in /opt/conda/lib/python3.9/site-packages (from anyio<4,>=3.0.0->starlette) (1.2.0)\n",
      "Requirement already satisfied: idna>=2.8 in /opt/conda/lib/python3.9/site-packages (from anyio<4,>=3.0.0->starlette) (3.1)\n"
     ]
    }
   ],
   "source": [
    "!pip install starlette"
   ]
  },
  {
   "cell_type": "code",
   "execution_count": 2,
   "id": "66521bbe-1124-416c-816d-e6f489ebe520",
   "metadata": {},
   "outputs": [],
   "source": [
    "# Code in this cell is just for (re)starting the API on a Process, and other compatibility stuff with Jupyter cells.\n",
    "# Just ignore it!\n",
    "import uvicorn\n",
    "from multiprocessing import Process\n",
    "\n",
    "servers = {}\n",
    "_api_process = None\n",
    "\n",
    "def start_api(app=None, port=9992, runNew=True):\n",
    "    \"\"\"Stop the API if running; Start the API; Wait until API (port) is available (reachable)\"\"\"\n",
    "    assert port in [9991, 9992, 9993, 9994], f'port has unexpected value {port}'\n",
    "    def run():\n",
    "        uvicorn.run(app, port=port, host='0.0.0.0', root_path='')    \n",
    "        \n",
    "    _api_process = servers.get(port, None)\n",
    "    if _api_process:\n",
    "        _api_process.terminate()\n",
    "        _api_process.join()\n",
    "        del servers[port]\n",
    "    \n",
    "    if runNew:\n",
    "        assert (not app is None), 'app is None'\n",
    "        _api_process = Process(target=run, daemon=True)\n",
    "        _api_process.start()\n",
    "        servers[port] = _api_process"
   ]
  },
  {
   "cell_type": "code",
   "execution_count": 5,
   "id": "dc5122c6-a507-4373-8f3d-1d239d7a245c",
   "metadata": {},
   "outputs": [
    {
     "name": "stderr",
     "output_type": "stream",
     "text": [
      "INFO:     Started server process [1415]\n",
      "INFO:     Waiting for application startup.\n",
      "INFO:     Application startup complete.\n",
      "INFO:     Uvicorn running on http://0.0.0.0:9992 (Press CTRL+C to quit)\n"
     ]
    },
    {
     "name": "stdout",
     "output_type": "stream",
     "text": [
      "INFO:     172.21.0.1:47350 - \"GET /user/me HTTP/1.1\" 200 OK\n"
     ]
    },
    {
     "name": "stderr",
     "output_type": "stream",
     "text": [
      "INFO:     ('172.21.0.1', 47354) - \"WebSocket /gql/\" 403\n",
      "INFO:     connection failed (403 Forbidden)\n",
      "INFO:     connection closed\n"
     ]
    },
    {
     "name": "stdout",
     "output_type": "stream",
     "text": [
      "INFO:     172.21.0.1:47362 - \"GET /user/me HTTP/1.1\" 200 OK\n",
      "INFO:     172.21.0.1:47362 - \"GET /user/me HTTP/1.1\" 200 OK\n",
      "INFO:     172.21.0.1:47362 - \"GET /user/me HTTP/1.1\" 200 OK\n",
      "INFO:     172.21.0.1:47362 - \"GET /user/me HTTP/1.1\" 200 OK\n",
      "INFO:     172.21.0.1:47362 - \"GET /user/me HTTP/1.1\" 200 OK\n",
      "INFO:     172.21.0.1:47362 - \"GET /user/me HTTP/1.1\" 200 OK\n",
      "INFO:     172.21.0.1:47362 - \"GET /user/me HTTP/1.1\" 200 OK\n",
      "INFO:     172.21.0.1:47362 - \"GET /user/me HTTP/1.1\" 200 OK\n",
      "INFO:     172.21.0.1:47362 - \"GET /user/me HTTP/1.1\" 200 OK\n",
      "INFO:     172.21.0.1:47362 - \"GET /user/me HTTP/1.1\" 200 OK\n",
      "INFO:     172.21.0.1:47362 - \"GET /user/me HTTP/1.1\" 200 OK\n",
      "INFO:     172.21.0.1:47362 - \"GET /user/me HTTP/1.1\" 200 OK\n",
      "INFO:     172.21.0.1:47362 - \"GET /user/me HTTP/1.1\" 200 OK\n",
      "INFO:     172.21.0.1:47362 - \"GET /user/me HTTP/1.1\" 200 OK\n",
      "INFO:     172.21.0.1:47362 - \"GET /user/me HTTP/1.1\" 200 OK\n",
      "INFO:     172.21.0.1:47362 - \"GET /user/me HTTP/1.1\" 200 OK\n",
      "INFO:     172.21.0.1:47362 - \"GET /user/me HTTP/1.1\" 200 OK\n",
      "INFO:     172.21.0.1:47362 - \"GET /user/me HTTP/1.1\" 200 OK\n",
      "INFO:     172.21.0.1:47362 - \"GET /user/me HTTP/1.1\" 200 OK\n",
      "INFO:     172.21.0.1:47362 - \"GET /user/me HTTP/1.1\" 200 OK\n",
      "INFO:     172.21.0.1:47362 - \"GET /user/me HTTP/1.1\" 200 OK\n",
      "INFO:     172.21.0.1:47362 - \"GET /user/me HTTP/1.1\" 200 OK\n",
      "INFO:     172.21.0.1:47362 - \"GET /user/me HTTP/1.1\" 200 OK\n",
      "INFO:     172.21.0.1:47362 - \"GET /user/me HTTP/1.1\" 200 OK\n",
      "INFO:     172.21.0.1:47362 - \"GET /user/me HTTP/1.1\" 200 OK\n",
      "INFO:     172.21.0.1:47362 - \"GET /user/me HTTP/1.1\" 200 OK\n",
      "INFO:     172.21.0.1:47362 - \"GET /user/me HTTP/1.1\" 200 OK\n",
      "INFO:     172.21.0.1:47362 - \"GET /user/me HTTP/1.1\" 200 OK\n",
      "INFO:     172.21.0.1:47362 - \"GET /user/me HTTP/1.1\" 200 OK\n"
     ]
    },
    {
     "name": "stderr",
     "output_type": "stream",
     "text": [
      "INFO:     ('172.21.0.1', 47422) - \"WebSocket /gql/\" 403\n",
      "INFO:     connection failed (403 Forbidden)\n",
      "INFO:     connection closed\n",
      "INFO:     Shutting down\n",
      "INFO:     Waiting for application shutdown.\n",
      "INFO:     Application shutdown complete.\n",
      "INFO:     Finished server process [1415]\n"
     ]
    }
   ],
   "source": [
    "from starlette.applications import Starlette\n",
    "from starlette.responses import PlainTextResponse\n",
    "from starlette.routing import Route, Mount, WebSocketRoute\n",
    "from starlette.staticfiles import StaticFiles\n",
    "\n",
    "\n",
    "def homepage(request):\n",
    "    return PlainTextResponse('Hello, world!')\n",
    "\n",
    "def user_me(request):\n",
    "    username = \"John Doe\"\n",
    "    return PlainTextResponse(f'Hello, {username}, {data}')\n",
    "\n",
    "def user(request):\n",
    "    username = request.path_params['username']\n",
    "    return PlainTextResponse(f'Hello, {username}, {data}')\n",
    "\n",
    "async def websocket_endpoint(websocket):\n",
    "    await websocket.accept()\n",
    "    await websocket.send_text('Hello, websocket!')\n",
    "    await websocket.close()\n",
    "\n",
    "data = {'initialized': False, 'counter': 0}\n",
    "def startup():\n",
    "    data['initialized'] = True\n",
    "    data['counter'] = data['counter'] + 1\n",
    "\n",
    "def on_shutdown():\n",
    "    data['initialized'] = False\n",
    "    \n",
    "routes = [\n",
    "    Route('/', homepage),\n",
    "    Route('/user/me', user_me),\n",
    "    Route('/user/{username}', user),\n",
    "    WebSocketRoute('/ws', websocket_endpoint)\n",
    "]\n",
    "\n",
    "app = Starlette(debug=True, routes=routes, on_startup=[startup])\n",
    "\n",
    "start_api(app=app, port=9992, runNew=True)"
   ]
  },
  {
   "cell_type": "code",
   "execution_count": 7,
   "id": "d6854b09-8055-47e6-a6ed-476b9a2db97f",
   "metadata": {},
   "outputs": [],
   "source": [
    "start_api(app=app, port=9992, runNew=False)"
   ]
  },
  {
   "cell_type": "code",
   "execution_count": 8,
   "id": "350c01ec-cfd3-483b-8822-ea14fea6f89d",
   "metadata": {},
   "outputs": [
    {
     "name": "stdout",
     "output_type": "stream",
     "text": [
      "{'initialized': False, 'counter': 0}\n"
     ]
    }
   ],
   "source": [
    "print(data)"
   ]
  },
  {
   "cell_type": "code",
   "execution_count": null,
   "id": "8b01a2ad-ba5c-4480-8de0-09b1fabd61dc",
   "metadata": {},
   "outputs": [],
   "source": []
  }
 ],
 "metadata": {
  "kernelspec": {
   "display_name": "Python 3 (ipykernel)",
   "language": "python",
   "name": "python3"
  },
  "language_info": {
   "codemirror_mode": {
    "name": "ipython",
    "version": 3
   },
   "file_extension": ".py",
   "mimetype": "text/x-python",
   "name": "python",
   "nbconvert_exporter": "python",
   "pygments_lexer": "ipython3",
   "version": "3.10.6"
  }
 },
 "nbformat": 4,
 "nbformat_minor": 5
}
