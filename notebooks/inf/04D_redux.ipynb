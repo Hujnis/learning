{
  "cells": [
    {
      "cell_type": "markdown",
      "metadata": {
        "id": "view-in-github",
        "colab_type": "text"
      },
      "source": [
        "<a href=\"https://colab.research.google.com/github/hrbolek/learning/blob/with_stack/notebooks/inf/04D_redux.ipynb\" target=\"_parent\"><img src=\"https://colab.research.google.com/assets/colab-badge.svg\" alt=\"Open In Colab\"/></a>"
      ]
    },
    {
      "cell_type": "code",
      "execution_count": null,
      "id": "a3319e4d-8992-437d-803c-4d476de846a7",
      "metadata": {
        "id": "a3319e4d-8992-437d-803c-4d476de846a7"
      },
      "outputs": [],
      "source": [
        "def addRow(state, row):\n",
        "    return [*state, row]\n",
        "\n",
        "def removeRow(state, row):\n",
        "    id = row['id']\n",
        "    return [item for item in state if item['id'] != id]"
      ]
    },
    {
      "cell_type": "code",
      "execution_count": null,
      "id": "416d54a4-5e13-4542-a8dc-709a476b7640",
      "metadata": {
        "id": "416d54a4-5e13-4542-a8dc-709a476b7640",
        "outputId": "0dd2a3fb-62af-4b00-a78d-33a44644bd58",
        "colab": {
          "base_uri": "https://localhost:8080/"
        }
      },
      "outputs": [
        {
          "output_type": "stream",
          "name": "stdout",
          "text": [
            "[]\n",
            "[{'id': 1, 'name': 'John'}]\n"
          ]
        }
      ],
      "source": [
        "data = []\n",
        "print(data)\n",
        "data = addRow(data, {'id': 1, 'name': 'John'})\n",
        "print(data)"
      ]
    },
    {
      "cell_type": "code",
      "execution_count": null,
      "id": "e223fe63-78c7-4d7e-8291-1fd40d13f6ba",
      "metadata": {
        "id": "e223fe63-78c7-4d7e-8291-1fd40d13f6ba",
        "outputId": "7f78b201-0f8b-49d3-b308-6561b6259f68",
        "colab": {
          "base_uri": "https://localhost:8080/"
        }
      },
      "outputs": [
        {
          "output_type": "stream",
          "name": "stdout",
          "text": [
            "[]\n"
          ]
        }
      ],
      "source": [
        "data = removeRow(data, {'id': 1, 'name': 'John'})\n",
        "print(data)"
      ]
    },
    {
      "cell_type": "markdown",
      "source": [
        "## Stavová funkce\n",
        "\n",
        "Stavová funkce je funkce, která na základě vstupu a aktuálního stavu generuje následující stav."
      ],
      "metadata": {
        "id": "3iwEaAfsOHaW"
      },
      "id": "3iwEaAfsOHaW"
    },
    {
      "cell_type": "code",
      "source": [
        "def stateFunction(state, input):\n",
        "    return [*state, input]"
      ],
      "metadata": {
        "id": "8CScVVGbOVZG"
      },
      "id": "8CScVVGbOVZG",
      "execution_count": null,
      "outputs": []
    },
    {
      "cell_type": "markdown",
      "source": [
        "Stavová funkce výše přidává do stavové proměnné (listu) nový řádek."
      ],
      "metadata": {
        "id": "5Y2ermVeOfom"
      },
      "id": "5Y2ermVeOfom"
    },
    {
      "cell_type": "markdown",
      "source": [
        "Stavových funkcí pro danou datovou strukturu je možné mít více."
      ],
      "metadata": {
        "id": "Gk3U5FjiPK5Y"
      },
      "id": "Gk3U5FjiPK5Y"
    },
    {
      "cell_type": "code",
      "source": [
        "def addRow(state, input):\n",
        "    return [*state, input]\n",
        "\n",
        "def removeRow(state, row):\n",
        "    id = row['id']\n",
        "    return [item for item in state if item['id'] != id]\n",
        "\n",
        "def updateRow(state, row):\n",
        "    id = row['id']\n",
        "    return [{**item, **row} if item['id'] == id else item for item in state]"
      ],
      "metadata": {
        "id": "jL_xYjsxPRl3"
      },
      "id": "jL_xYjsxPRl3",
      "execution_count": null,
      "outputs": []
    },
    {
      "cell_type": "markdown",
      "source": [
        "Takto definované funkce jsou funkce, jejichž chování nezáleží na stavu žádné proměnné definované mimo funkci.\n",
        "\n",
        "Významnou výhodou je, že tyto funkce lze snadno testovat."
      ],
      "metadata": {
        "id": "zpqG2tKHRfcY"
      },
      "id": "zpqG2tKHRfcY"
    },
    {
      "cell_type": "markdown",
      "source": [
        "Test stavových funkcí"
      ],
      "metadata": {
        "id": "VU3VfyriQu0A"
      },
      "id": "VU3VfyriQu0A"
    },
    {
      "cell_type": "code",
      "source": [
        "data = []\n",
        "print(data)\n",
        "data = addRow(data, {'id': 1, 'name': 'John'})\n",
        "print(data)\n",
        "data = updateRow(data, {'id': 1, 'name': 'Julia'})\n",
        "print(data)\n",
        "data = removeRow(data, {'id': 1})\n",
        "print(data)"
      ],
      "metadata": {
        "id": "bCVW7cobQwzb",
        "outputId": "0d50e85c-e73e-49c1-8991-83caadd626fb",
        "colab": {
          "base_uri": "https://localhost:8080/"
        }
      },
      "id": "bCVW7cobQwzb",
      "execution_count": null,
      "outputs": [
        {
          "output_type": "stream",
          "name": "stdout",
          "text": [
            "[]\n",
            "[{'id': 1, 'name': 'John'}]\n",
            "[{'id': 1, 'name': 'Julia'}]\n",
            "[]\n"
          ]
        }
      ]
    },
    {
      "cell_type": "markdown",
      "source": [
        "## Příklad\n",
        "Mějme simulaci komponenty, která pro přístup k datům poskytuje dvě funkce. Funkci pro čtení dat a funkci pro změnu dat.\n",
        "\n",
        "Funkce pro čtení dat je bezparametrická.\n",
        "\n",
        "Funkce pro změnu dat očekává jako parametr stavovou jednoparametrickou funkci. To je v rozporu se skutečností, že stavová funkce je dvouparametrická."
      ],
      "metadata": {
        "id": "b5o931BjNcMN"
      },
      "id": "b5o931BjNcMN"
    },
    {
      "cell_type": "code",
      "execution_count": null,
      "id": "25711a09-c0d7-4d96-ab17-b601a6c00e88",
      "metadata": {
        "id": "25711a09-c0d7-4d96-ab17-b601a6c00e88"
      },
      "outputs": [],
      "source": [
        "def createAccess(initialData):\n",
        "    data = {'data': initialData}\n",
        "    def dispatch(reducer):\n",
        "        data['data'] = reducer(data['data'])\n",
        "    def getData():\n",
        "        return data['data']\n",
        "    return (dispatch, getData)"
      ]
    },
    {
      "cell_type": "code",
      "source": [
        ""
      ],
      "metadata": {
        "id": "yVueYp9LRKRu"
      },
      "id": "yVueYp9LRKRu",
      "execution_count": null,
      "outputs": []
    },
    {
      "cell_type": "markdown",
      "source": [
        ""
      ],
      "metadata": {
        "id": "CpP_0-WJRH0O"
      },
      "id": "CpP_0-WJRH0O"
    },
    {
      "cell_type": "markdown",
      "source": [
        "Test stavových funkcí"
      ],
      "metadata": {
        "id": "T-uqzAx5QSaR"
      },
      "id": "T-uqzAx5QSaR"
    },
    {
      "cell_type": "code",
      "source": [
        "(dispatch, getData) = createAccess([])\n",
        "print(getData())\n",
        "dispatch(lambda state: addRow(state, {'id': 1, 'name': 'John'}))\n",
        "print(getData())\n",
        "dispatch(lambda state: addRow(state, {'id': 2, 'name': 'Julia'}))\n",
        "print(getData())\n",
        "dispatch(lambda state: removeRow(state, {'id': 1}))\n",
        "print(getData())\n"
      ],
      "metadata": {
        "id": "jjMCRQedIEdP",
        "outputId": "a216fcc1-9a10-4667-8e80-2cdf9ac6502e",
        "colab": {
          "base_uri": "https://localhost:8080/"
        }
      },
      "id": "jjMCRQedIEdP",
      "execution_count": null,
      "outputs": [
        {
          "output_type": "stream",
          "name": "stdout",
          "text": [
            "[]\n",
            "[{'id': 1, 'name': 'John'}]\n",
            "[]\n"
          ]
        }
      ]
    },
    {
      "cell_type": "code",
      "source": [
        "def execute(dispatch, reducer=None, action=None):\n",
        "    def justReducer(reducer):\n",
        "        return execute(dispatch, reducer, action)\n",
        "    def justAction(action):\n",
        "        return execute(dispatch, reducer, action)\n",
        "\n",
        "    def twoParams(reducer=None, action=None):\n",
        "        def justReducer(reducer):\n",
        "            return execute(dispatch, reducer, action)\n",
        "        def justAction(action):\n",
        "            return execute(dispatch, reducer, action)\n",
        "        if reducer is None:\n",
        "            return justReducer\n",
        "        else:\n",
        "           return justAction\n",
        "\n",
        "    if ((reducer is None) & (action is None)):\n",
        "        return twoParams\n",
        "    elif (reducer is None):\n",
        "        return justReducer\n",
        "    elif (action is None):\n",
        "        return justAction\n",
        "\n",
        "    if callable(reducer):\n",
        "        return dispatch(lambda state: reducer(state, action))\n",
        "    else:\n",
        "        # reducer and action are swapped\n",
        "        return dispatch(lambda state: action(state, reducer))\n"
      ],
      "metadata": {
        "id": "45j8VfbvIR0X"
      },
      "id": "45j8VfbvIR0X",
      "execution_count": null,
      "outputs": []
    },
    {
      "cell_type": "code",
      "source": [
        "(dispatch, getData) = createAccess([])\n",
        "print(getData())\n",
        "execute(dispatch)(addRow)({'id': 1, 'name': 'John'})\n",
        "print(getData())\n",
        "execute(dispatch, addRow)({'id': 2, 'name': 'John'})\n",
        "print(getData())\n",
        "execute(dispatch, addRow, {'id': 3, 'name': 'John'})\n",
        "print(getData())"
      ],
      "metadata": {
        "id": "R-AnhSS4KaxM",
        "outputId": "19f5b403-da81-4c03-ebc6-4eb0103b632c",
        "colab": {
          "base_uri": "https://localhost:8080/"
        }
      },
      "id": "R-AnhSS4KaxM",
      "execution_count": null,
      "outputs": [
        {
          "output_type": "stream",
          "name": "stdout",
          "text": [
            "[]\n",
            "[{'id': 1, 'name': 'John'}]\n",
            "[{'id': 1, 'name': 'John'}, {'id': 2, 'name': 'John'}]\n",
            "[{'id': 1, 'name': 'John'}, {'id': 2, 'name': 'John'}, {'id': 3, 'name': 'John'}]\n"
          ]
        }
      ]
    },
    {
      "cell_type": "code",
      "source": [
        "def executeAction(dispatch, getState):\n",
        "    def askForAction(action):\n",
        "        action(dispatch, getState)\n",
        "    return askForAction"
      ],
      "metadata": {
        "id": "_RFBBHDjKpBy"
      },
      "id": "_RFBBHDjKpBy",
      "execution_count": null,
      "outputs": []
    },
    {
      "cell_type": "code",
      "source": [
        "PSPData = {\n",
        "    'db': {\n",
        "      'id': 1,\n",
        "      'subjectA': {'id': 3, 'name': ''},\n",
        "      'lessons': [\n",
        "          {'id': 4, 'name': 'SQL', 'order': 1, 'teachers': [], 'rooms': [], 'integrations': []}\n",
        "      ]\n",
        "    },\n",
        "    'ui': {\n",
        "        'header': {\n",
        "          'teachers': [],\n",
        "          'rooms': [],\n",
        "          'duration': 2,\n",
        "          'lessonType': {'id': 2, 'name': 'P'}\n",
        "        }\n",
        "    }\n",
        "}"
      ],
      "metadata": {
        "id": "pW1hah56WZ2b"
      },
      "id": "pW1hah56WZ2b",
      "execution_count": null,
      "outputs": []
    },
    {
      "cell_type": "code",
      "source": [
        "def createFunc(data):\n",
        "    localData = {}\n",
        "    def result():\n",
        "        return data, localData\n",
        "    return result\n",
        "\n",
        "nF = createFunc([])\n",
        "print(dir(nF))\n",
        "print(nF.__kwdefaults__)"
      ],
      "metadata": {
        "id": "U8aR7m2FKW9l",
        "outputId": "a166a051-65bb-4a1c-d6e8-6b03c1c91e6d",
        "colab": {
          "base_uri": "https://localhost:8080/"
        }
      },
      "id": "U8aR7m2FKW9l",
      "execution_count": 9,
      "outputs": [
        {
          "output_type": "stream",
          "name": "stdout",
          "text": [
            "['__annotations__', '__call__', '__class__', '__closure__', '__code__', '__defaults__', '__delattr__', '__dict__', '__dir__', '__doc__', '__eq__', '__format__', '__ge__', '__get__', '__getattribute__', '__globals__', '__gt__', '__hash__', '__init__', '__init_subclass__', '__kwdefaults__', '__le__', '__lt__', '__module__', '__name__', '__ne__', '__new__', '__qualname__', '__reduce__', '__reduce_ex__', '__repr__', '__setattr__', '__sizeof__', '__str__', '__subclasshook__']\n",
            "None\n"
          ]
        }
      ]
    },
    {
      "cell_type": "code",
      "source": [
        ""
      ],
      "metadata": {
        "id": "p835qCTFKide"
      },
      "id": "p835qCTFKide",
      "execution_count": null,
      "outputs": []
    }
  ],
  "metadata": {
    "kernelspec": {
      "display_name": "Python 3 (ipykernel)",
      "language": "python",
      "name": "python3"
    },
    "language_info": {
      "codemirror_mode": {
        "name": "ipython",
        "version": 3
      },
      "file_extension": ".py",
      "mimetype": "text/x-python",
      "name": "python",
      "nbconvert_exporter": "python",
      "pygments_lexer": "ipython3",
      "version": "3.9.12"
    },
    "colab": {
      "name": "04D_redux.ipynb",
      "provenance": [],
      "include_colab_link": true
    }
  },
  "nbformat": 4,
  "nbformat_minor": 5
}