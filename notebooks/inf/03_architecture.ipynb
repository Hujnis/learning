{
 "cells": [
  {
   "cell_type": "markdown",
   "metadata": {
    "colab_type": "text",
    "id": "view-in-github"
   },
   "source": [
    "<a href=\"https://colab.research.google.com/github/hrbolek/learning/blob/master/itsystems/03_architecture.ipynb\" target=\"_parent\"><img src=\"https://colab.research.google.com/assets/colab-badge.svg\" alt=\"Open In Colab\"/></a>"
   ]
  },
  {
   "cell_type": "markdown",
   "metadata": {
    "id": "a0KpjX_rtSst"
   },
   "source": [
    "# Architektura webové aplikace"
   ]
  },
  {
   "cell_type": "markdown",
   "metadata": {
    "id": "RsV0C1cMtSsx"
   },
   "source": [
    "\n",
    "\n",
    "![Architektura](https://developer.ibm.com/developer/default/patterns/create-backend-for-frontend-application-architecture/images/backend-for-frontend-arch-diagram2.png)\n",
    "\n",
    "převzato z https://developer.ibm.com/depmodels/microservices/patterns/create-backend-for-frontend-application-architecture/\n",
    "\n",
    "![Architektura](https://cdn.vskilled.com/wp-content/uploads/2019/03/Serverless_Web_App_LP.png)\n",
    "\n",
    "převzato z https://www.vskilled.com/2019/03/serverless-wordpress/"
   ]
  },
  {
   "cell_type": "markdown",
   "metadata": {
    "id": "VibRyeo4tSsy"
   },
   "source": [
    "## Protokoly"
   ]
  },
  {
   "cell_type": "markdown",
   "metadata": {
    "id": "SfjgsRh7tSsz"
   },
   "source": [
    "### http/1.x "
   ]
  },
  {
   "cell_type": "markdown",
   "metadata": {
    "id": "XYSyf3kYtSs0"
   },
   "source": [
    "http/1.x je protokol založený na předávání textových informací. Příklad jednoho paketu:\n",
    "\n",
    "```sh\n",
    "GET /hello.htm HTTP/1.1\n",
    "User-Agent: Mozilla/4.0 (compatible; MSIE5.01; Windows NT)\n",
    "Host: www.somewhere.com\n",
    "Accept-Language: en-us\n",
    "Accept-Encoding: gzip, deflate\n",
    "Connection: Keep-Alive\n",
    "```\n",
    "\n",
    "Z paketu můžeme vyčíst:\n",
    "\n",
    "- jaký zdroj je vyžadován (```/hello.html```),\n",
    "- metodu / verb (```GET```),\n",
    "- po kom (host) je vyžadován (```www.somewhere.com```).\n",
    "\n",
    "Zdroj a host jsou jasné informace.\n",
    "\n",
    "Verbs jsou obvykle následující:\n",
    "\n",
    "- GET\n",
    "- POST\n",
    "- PUT\n",
    "- DELETE\n",
    "- HEAD\n",
    "- OPTIONS\n",
    "- CONNECT\n",
    "- TRACE\n",
    "\n",
    "> **Další zdroje**\n",
    "> \n",
    "> https://developer.mozilla.org/en-US/docs/Web/HTTP/Methods\n",
    ">\n",
    "> https://developer.mozilla.org/en-US/docs/Web/HTTP/Messages\n",
    "\n",
    "Existuje http/2 protokol, který transparentně umožňuje \"obalit\" http/1.x. Zlepšuje tak některé parametry, například rychlost přenosu.\n",
    "\n",
    "http je protokol intenzivně použivaný webovými prohlížeči. Tato skutečnost vyžaduje, mimo jiné, bezpečnostní opatření, které zamezuje přesunu dat mezi servery. Jedná se o problematiku  **[CORS (Cross-origin resource sharing)](https://developer.mozilla.org/en-US/docs/Web/HTTP/CORS)**, kdy zdroj dat musí explicitně povolit sdílení dat, která poskytuje. Je na prohlížeči, aby zabezpečil, že data z domény alfa.com nemohou být požadována stránkou z domény beta.com."
   ]
  },
  {
   "cell_type": "markdown",
   "metadata": {
    "id": "d61FHLZrtSs1"
   },
   "source": [
    "### ws"
   ]
  },
  {
   "cell_type": "markdown",
   "metadata": {
    "id": "iF9KecMZtSs4"
   },
   "source": [
    "Websocket, oproti http umožňuje \"živé spojení\", podpora např. pro chatbots, simultaneous cooperation apod."
   ]
  },
  {
   "cell_type": "markdown",
   "metadata": {
    "id": "GlYB_ZEvtSs5"
   },
   "source": [
    "### secure"
   ]
  },
  {
   "cell_type": "markdown",
   "metadata": {
    "id": "o5SJqCp1tSs7"
   },
   "source": [
    "Problematika certikátů (asymetrické šifrování). Existují poskytovatelé certifikátů, jejichž validitu lze ověřovat a s nimiž lze šifrovat data. "
   ]
  },
  {
   "cell_type": "markdown",
   "metadata": {
    "id": "kBSfZiCEtSs7"
   },
   "source": [
    "## Vybrané koncepty"
   ]
  },
  {
   "cell_type": "markdown",
   "metadata": {
    "id": "jaE9Vin7tSs8"
   },
   "source": [
    "### REST"
   ]
  },
  {
   "cell_type": "markdown",
   "metadata": {
    "id": "lF3kYqXKtSs-"
   },
   "source": [
    "REST je primárně založeno na čtyřech operacích nad daty, souhrnně tyto operace nazýváme CRUD, což je zkratka z:\n",
    "\n",
    "- Create / POST\n",
    "- Read / GET\n",
    "- Update / PUT\n",
    "- Delete / DELETE\n",
    "\n",
    "REST je zamýšleno jako strojové rozhranní, tedy API (application program interface), kde komunikace probíhá přes http(s).\n",
    "\n",
    "\n",
    "Zdroj, https://www.restapitutorial.com/lessons/httpmethods.html\n",
    "\n",
    "| Verb | CRUD | Collection | Item |\n",
    "|:----:|:----:|:-----------|:-----|\n",
    "|POST  |Create| 201 (Created), 'Location' header with link to /customers/{id} containing new ID.|404 (Not Found), 409 (Conflict) if resource already exists.|\n",
    "|GET   |Read  | 200 (OK), list of customers. Use pagination, sorting and filtering to navigate big lists.|200 (OK), single customer. 404 (Not Found), if ID not found or invalid.|\n",
    "|PUT   |Update| 405 (Method Not Allowed), unless you want to update/replace every resource in the entire collection.|200 (OK) or 204 (No Content). 404 (Not Found), if ID not found or invalid.|\n",
    "|DELETE|Delete| 405 (Method Not Allowed), unless you want to delete the whole collection—not often desirable. | 200 (OK). 404 (Not Found), if ID not found or invalid.|\n",
    "\n",
    "\n",
    "> **Povinné shlédnutí**\n",
    ">\n",
    "> [IBM Talk o REST 9 min](https://www.youtube.com/watch?v=lsMQRaeKNDk)\n",
    "\n",
    "> **Další zdroje**\n",
    ">\n",
    "> https://www.codecademy.com/articles/what-is-crud"
   ]
  },
  {
   "cell_type": "markdown",
   "metadata": {
    "id": "5R5q1tCJtSs-"
   },
   "source": [
    "### MVC"
   ]
  },
  {
   "cell_type": "markdown",
   "metadata": {
    "id": "pGMHoJJntSs_"
   },
   "source": [
    "MVC pattern, Model-View-Controller, Klíčovou myšlenkou je oddělení prvků (data, zpracování dat, prezentace dat). \n",
    "\n",
    "> **Povinné shlédnutí**\n",
    ">\n",
    "> [MVC Explained in 4 Minutes](https://www.youtube.com/watch?v=DUg2SWWK18I)\n",
    "\n",
    "> **Další zdroje**\n",
    ">\n",
    "> https://dotnet.microsoft.com/apps/aspnet/mvc\n",
    "> https://docs.microsoft.com/cs-cz/aspnet/core/mvc/overview?view=aspnetcore-5.0"
   ]
  },
  {
   "cell_type": "markdown",
   "metadata": {
    "id": "2g0DB9ootSs_"
   },
   "source": [
    "### Microservices"
   ]
  },
  {
   "cell_type": "markdown",
   "metadata": {
    "id": "f42bcTD9tSs_"
   },
   "source": [
    "Backend webové aplikace je rozdělen na logické celky, které jsou obhospodařovány (poskytovaná služba, ale i vývoj)  samostatně. Je definován pevný interface - API (REST / GraphQL), na který spoléhá consumer a který poskytuje provider. Je tak možné providera vyměnit. Díky tomu lze i microservice vyvíjet odděleně. \n",
    "\n",
    "> **Povinné shlédnutí**\n",
    ">\n",
    "> [IBM talk 6 min](https://www.youtube.com/watch?v=CdBtNQZH8a4)\n",
    "\n",
    "\n",
    "> **Doporučené shlédnutí**\n",
    ">\n",
    "> [Introduction to Microservices, Docker, and Kubernetes](https://www.youtube.com/watch?v=1xo-0gCVhTU)\n",
    ">\n",
    "> [What is Kubernetes | Kubernetes explained in 15 mins TechWorld with Nana](https://www.youtube.com/watch?v=VnvRFRk_51k)\n",
    ">\n",
    "> [Docker Tutorial for Beginners [FULL COURSE in 3 Hours] TechWorld with Nana](https://www.youtube.com/watch?v=3c-iBn73dDE)\n",
    "\n",
    "> **Další zdroje**\n",
    ">\n",
    "> https://microservices.io/"
   ]
  },
  {
   "cell_type": "markdown",
   "metadata": {
    "id": "PV3cf2BRtStA"
   },
   "source": [
    "### Microfrondends"
   ]
  },
  {
   "cell_type": "markdown",
   "metadata": {
    "id": "iJlPnkR0tStB"
   },
   "source": [
    "Podstata principu monolitická aplikace je rozdělena na \"podaplikace\", které jsou hostovány na stejné doméně, ale v jiném adresním stromu. S pomocí tohoto principu lze rozklad provést do větší hloubky až na úroveň komponent. Je ovšem potřeba vyvážit rozdělování a rozdrobování.\n",
    "\n",
    "\n",
    "> **Povinné shlédnutí**\n",
    ">\n",
    "> [Micro-Frontends: What, why and how 9 min](https://www.youtube.com/watch?v=w58aZjACETQ)\n",
    "\n",
    "> **Doporučené shlédnutí** (konference)\n",
    ">\n",
    "> [MicroFrontends w/ ReactJS](https://youtu.be/vO8HgsfKHIU?t=487)\n",
    ">\n",
    "> [Scaling your projects with Micro-frontends - talk by Luca Mezzalira](https://www.youtube.com/watch?v=9q5gTmKYQuw)\n",
    ">\n",
    "> [Micro Frontend Architecture Building an Extensible UI Platform by Erik Grijzen](https://www.youtube.com/watch?v=9Xo-rGUq-6E)\n",
    "\n",
    "> **Další zdroje**\n",
    "> \n",
    "> https://micro-frontends.org/\n",
    ">\n",
    "> https://podium-lib.io/\n",
    "\n",
    "Obdobný přístupem, jako je microfrontends je komponentní přístup. Jedním z nejznámějších frameworků principiálně podporující komponentní přístup je [React od Facebooku](https://reactjs.org).\n",
    "Někdy jsou pojmy komponenty a microfrondends slučovány, což není principiální chyba, oboje spolu úzce souvisí.\n",
    "\n",
    "> **Doporučené shlédnutí**\n",
    ">\n",
    "> [Bootcamp 2020 (English) : Component Driven Development (CDD)](https://youtu.be/ors4hsRJ8uM?t=225)"
   ]
  },
  {
   "cell_type": "markdown",
   "metadata": {
    "id": "5aLyPCx_tStB"
   },
   "source": [
    "### Koncept centralizovaného úložiště"
   ]
  },
  {
   "cell_type": "markdown",
   "metadata": {
    "id": "LpvHjz2_tStB"
   },
   "source": [
    "**[Redux](https://redux.js.org/)** jako jediný zdroj dat ve webové aplikaci. Odvozování struktury komponent a jejich atributů od datových struktur.\n",
    "\n",
    "Redux nabízí řešení problému roztříštěnosti zdrojů dat tím, že definuje centralizované úložiště. Současně nabízí využití stavových automatů pro správu úložiště.\n",
    "\n",
    "$State_{n+1} = reducer(State_n, action)$\n",
    "\n",
    "Redux je účelné kombinovat s ReactJS. Při vhodné konfiguraci dochází k automatické obnově UI na základě změny stavu úložiště."
   ]
  },
  {
   "cell_type": "markdown",
   "metadata": {
    "id": "jbR7WpfztStC"
   },
   "source": [
    "## Failover, Scaling, Loadbalancing, Reverse proxy"
   ]
  },
  {
   "cell_type": "markdown",
   "metadata": {
    "id": "c9xCfPzWtStC"
   },
   "source": [
    "Řešení pomocí aplikací 3. stran, např. **[NGINX](https://www.nginx.com/)** nebo **[Traefik](https://doc.traefik.io/)**\n",
    "\n",
    "Nasazení v Docker pomocí docker-compose automaticky vytváří virtuální vnitřní síť, po které jednotlivé prvky (kontejnery) komunikují a které není dostupná z vnějšího prostředí. Jestliže kontejner nemapuje svůj port vně docker stacku, lze jednoduše provést v docker-compose scaling, následkem kterého běží kontejner v několika replikách. Tyto repliky jsou oslovovány v cyklu, což zabezpečuje vnitřní mechanismus Dockeru (převod hostname na IP adresu). Toto je možné jen pro stateles kontejnery. Nelze využít pro databáze. Nasazení microservice je typickým případem, kdy scaling skvěle funguje.\n",
    "\n",
    "Pro failover potřebuje implementovat hearth beat (zprávu \"ještě žiji\")."
   ]
  },
  {
   "cell_type": "markdown",
   "metadata": {
    "id": "L_pecZxXtStD",
    "tags": []
   },
   "source": []
  }
 ],
 "metadata": {
  "colab": {
   "include_colab_link": true,
   "name": "03_architecture.ipynb",
   "provenance": [],
   "toc_visible": true
  },
  "kernelspec": {
   "display_name": "Python 3 (ipykernel)",
   "language": "python",
   "name": "python3"
  },
  "language_info": {
   "codemirror_mode": {
    "name": "ipython",
    "version": 3
   },
   "file_extension": ".py",
   "mimetype": "text/x-python",
   "name": "python",
   "nbconvert_exporter": "python",
   "pygments_lexer": "ipython3",
   "version": "3.9.7"
  },
  "toc-autonumbering": true
 },
 "nbformat": 4,
 "nbformat_minor": 4
}
