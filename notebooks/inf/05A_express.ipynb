{
 "cells": [
  {
   "cell_type": "markdown",
   "id": "af5e859e-5849-414e-b9f0-ad9326a0d378",
   "metadata": {},
   "source": [
    "# NodeJS server"
   ]
  },
  {
   "cell_type": "markdown",
   "id": "fea0b076-9178-4d2e-9805-29e24a290438",
   "metadata": {},
   "source": [
    "Tento notebook slouží pro experimentální online spouštění single page html s podporou knihovny React.\n",
    "Implementovaný server (express.js) vezme prvky - buňky z odkazovaného notebooku, filtruje buňky s kódem a s hlavičkou `import React from 'react'`. Tyto transpiluje pomocí knihovny Babel a výsledný skript vloží do html template a výsledek pošle jako html response."
   ]
  },
  {
   "cell_type": "markdown",
   "id": "39eeb17e-4742-4b93-a061-c614596b094e",
   "metadata": {},
   "source": [
    "## Základní knihovny"
   ]
  },
  {
   "cell_type": "markdown",
   "id": "5b5b45ff-bd1a-4f99-8747-cd8570abb64b",
   "metadata": {},
   "source": [
    "/*\n",
    "!npm install @babel/standalone\n",
    "!npm install @babel/preset-react\n",
    "!npm install react\n",
    "!npm install expressnpm install express\n",
    "*/"
   ]
  },
  {
   "cell_type": "markdown",
   "id": "053e04b3-185c-4e95-862e-e8275b90feca",
   "metadata": {},
   "source": [
    "Knihovny uvedené výše importujte v konzoli v adresáři Home"
   ]
  },
  {
   "cell_type": "markdown",
   "id": "f07fe46f-702b-4f59-b593-fc1b4f2ec0d0",
   "metadata": {},
   "source": [
    "Část tohoto notebooku tvoří zdrojový kód stránky, která je poskytována severem `expressjs`. Zdrojový kód je psán ve verzi jazyka, který nemusí být podporován prohlížečem. Proto se provádí transpilace pomocí knihovny Babel."
   ]
  },
  {
   "cell_type": "code",
   "execution_count": 1,
   "id": "21cd11bb-adc2-4d18-b0be-44883771fcbe",
   "metadata": {},
   "outputs": [
    {
     "name": "stdout",
     "output_type": "stream",
     "text": [
      "[\n",
      "  'env',\n",
      "  'es2015',\n",
      "  'es2016',\n",
      "  'es2017',\n",
      "  'react',\n",
      "  'stage-0',\n",
      "  'stage-1',\n",
      "  'stage-2',\n",
      "  'stage-3',\n",
      "  'es2015-loose',\n",
      "  'es2015-no-commonjs',\n",
      "  'typescript',\n",
      "  'flow'\n",
      "]\n"
     ]
    }
   ],
   "source": [
    "import * as Babel from '@babel/standalone'\n",
    "\n",
    "console.log(Object.keys(Babel.availablePresets))"
   ]
  },
  {
   "cell_type": "markdown",
   "id": "423a5520-9bbc-4139-9904-d7ae7fbc8b8b",
   "metadata": {},
   "source": [
    "Všimněte si, jak vypadá zdrojový kód po transpilaci."
   ]
  },
  {
   "cell_type": "code",
   "execution_count": 2,
   "id": "82ef146d-d2fb-4bba-a400-c7f0a9a8b79a",
   "metadata": {},
   "outputs": [
    {
     "name": "stdout",
     "output_type": "stream",
     "text": [
      "\"use strict\";\n",
      "\n",
      "function gen(props) {\n",
      "  return /*#__PURE__*/React.createElement(\"div\", null, \"A\");\n",
      "}\n"
     ]
    }
   ],
   "source": [
    "import * as Babel from '@babel/standalone'\n",
    "\n",
    "const output = Babel.transform(`\n",
    "function gen(props) { \n",
    "    return (<div>A</div>) \n",
    "}\n",
    "`, \n",
    "    { presets: [Babel.availablePresets[\"react\"], Babel.availablePresets[\"es2015\"], ] });\n",
    "console.log(output.code)"
   ]
  },
  {
   "cell_type": "markdown",
   "id": "d9bc499c-1885-484c-99a3-4479d8596513",
   "metadata": {},
   "source": [
    "Jako součást html kódu je \"napevno\" renderování hlavní komponenty `App` do `root`. Příslušný kód je transpilován níže."
   ]
  },
  {
   "cell_type": "code",
   "execution_count": 3,
   "id": "f3a4779c-3b26-4f4a-a7ce-6b90f07e8677",
   "metadata": {},
   "outputs": [
    {
     "name": "stdout",
     "output_type": "stream",
     "text": [
      "\"use strict\";\n",
      "\n",
      "ReactDOM.render( /*#__PURE__*/React.createElement(App, null), document.getElementById('root'));\n"
     ]
    }
   ],
   "source": [
    "import * as Babel from '@babel/standalone'\n",
    "\n",
    "const output = Babel.transform(`\n",
    "ReactDOM.render(\n",
    "      <App />,\n",
    "      document.getElementById('root')\n",
    "    );\n",
    "`, \n",
    "    { presets: [Babel.availablePresets[\"react\"], Babel.availablePresets[\"es2015\"], ] });\n",
    "console.log(output.code)"
   ]
  },
  {
   "cell_type": "markdown",
   "id": "48b478ca-23eb-42bb-9fe2-a9a148c51c55",
   "metadata": {},
   "source": [
    "Ukázka, jak komplexní může být výsledek transpilace."
   ]
  },
  {
   "cell_type": "code",
   "execution_count": 4,
   "id": "461275ab-e803-4c02-be6e-f5934922d6d5",
   "metadata": {},
   "outputs": [
    {
     "name": "stdout",
     "output_type": "stream",
     "text": [
      "\"use strict\";\n",
      "\n",
      "function _typeof(obj) { \"@babel/helpers - typeof\"; return _typeof = \"function\" == typeof Symbol && \"symbol\" == typeof Symbol.iterator ? function (obj) { return typeof obj; } : function (obj) { return obj && \"function\" == typeof Symbol && obj.constructor === Symbol && obj !== Symbol.prototype ? \"symbol\" : typeof obj; }, _typeof(obj); }\n",
      "\n",
      "function _instanceof(left, right) { if (right != null && typeof Symbol !== \"undefined\" && right[Symbol.hasInstance]) { return !!right[Symbol.hasInstance](left); } else { return left instanceof right; } }\n",
      "\n",
      "function _regeneratorRuntime() { \"use strict\"; /*! regenerator-runtime -- Copyright (c) 2014-present, Facebook, Inc. -- license (MIT): https://github.com/facebook/regenerator/blob/main/LICENSE */ _regeneratorRuntime = function _regeneratorRuntime() { return exports; }; var exports = {}, Op = Object.prototype, hasOwn = Op.hasOwnProperty, $Symbol = \"function\" == typeof Symbol ? Symbol : {}, iteratorSymbol = $Symbol.iterator || \"@@iterator\", asyncIteratorSymbol = $Symbol.asyncIterator || \"@@asyncIterator\", toStringTagSymbol = $Symbol.toStringTag || \"@@toStringTag\"; function define(obj, key, value) { return Object.defineProperty(obj, key, { value: value, enumerable: !0, configurable: !0, writable: !0 }), obj[key]; } try { define({}, \"\"); } catch (err) { define = function define(obj, key, value) { return obj[key] = value; }; } function wrap(innerFn, outerFn, self, tryLocsList) { var protoGenerator = outerFn && _instanceof(outerFn.prototype, Generator) ? outerFn : Generator, generator = Object.create(protoGenerator.prototype), context = new Context(tryLocsList || []); return generator._invoke = function (innerFn, self, context) { var state = \"suspendedStart\"; return function (method, arg) { if (\"executing\" === state) throw new Error(\"Generator is already running\"); if (\"completed\" === state) { if (\"throw\" === method) throw arg; return doneResult(); } for (context.method = method, context.arg = arg;;) { var delegate = context.delegate; if (delegate) { var delegateResult = maybeInvokeDelegate(delegate, context); if (delegateResult) { if (delegateResult === ContinueSentinel) continue; return delegateResult; } } if (\"next\" === context.method) context.sent = context._sent = context.arg;else if (\"throw\" === context.method) { if (\"suspendedStart\" === state) throw state = \"completed\", context.arg; context.dispatchException(context.arg); } else \"return\" === context.method && context.abrupt(\"return\", context.arg); state = \"executing\"; var record = tryCatch(innerFn, self, context); if (\"normal\" === record.type) { if (state = context.done ? \"completed\" : \"suspendedYield\", record.arg === ContinueSentinel) continue; return { value: record.arg, done: context.done }; } \"throw\" === record.type && (state = \"completed\", context.method = \"throw\", context.arg = record.arg); } }; }(innerFn, self, context), generator; } function tryCatch(fn, obj, arg) { try { return { type: \"normal\", arg: fn.call(obj, arg) }; } catch (err) { return { type: \"throw\", arg: err }; } } exports.wrap = wrap; var ContinueSentinel = {}; function Generator() {} function GeneratorFunction() {} function GeneratorFunctionPrototype() {} var IteratorPrototype = {}; define(IteratorPrototype, iteratorSymbol, function () { return this; }); var getProto = Object.getPrototypeOf, NativeIteratorPrototype = getProto && getProto(getProto(values([]))); NativeIteratorPrototype && NativeIteratorPrototype !== Op && hasOwn.call(NativeIteratorPrototype, iteratorSymbol) && (IteratorPrototype = NativeIteratorPrototype); var Gp = GeneratorFunctionPrototype.prototype = Generator.prototype = Object.create(IteratorPrototype); function defineIteratorMethods(prototype) { [\"next\", \"throw\", \"return\"].forEach(function (method) { define(prototype, method, function (arg) { return this._invoke(method, arg); }); }); } function AsyncIterator(generator, PromiseImpl) { function invoke(method, arg, resolve, reject) { var record = tryCatch(generator[method], generator, arg); if (\"throw\" !== record.type) { var result = record.arg, value = result.value; return value && \"object\" == _typeof(value) && hasOwn.call(value, \"__await\") ? PromiseImpl.resolve(value.__await).then(function (value) { invoke(\"next\", value, resolve, reject); }, function (err) { invoke(\"throw\", err, resolve, reject); }) : PromiseImpl.resolve(value).then(function (unwrapped) { result.value = unwrapped, resolve(result); }, function (error) { return invoke(\"throw\", error, resolve, reject); }); } reject(record.arg); } var previousPromise; this._invoke = function (method, arg) { function callInvokeWithMethodAndArg() { return new PromiseImpl(function (resolve, reject) { invoke(method, arg, resolve, reject); }); } return previousPromise = previousPromise ? previousPromise.then(callInvokeWithMethodAndArg, callInvokeWithMethodAndArg) : callInvokeWithMethodAndArg(); }; } function maybeInvokeDelegate(delegate, context) { var method = delegate.iterator[context.method]; if (undefined === method) { if (context.delegate = null, \"throw\" === context.method) { if (delegate.iterator.return && (context.method = \"return\", context.arg = undefined, maybeInvokeDelegate(delegate, context), \"throw\" === context.method)) return ContinueSentinel; context.method = \"throw\", context.arg = new TypeError(\"The iterator does not provide a 'throw' method\"); } return ContinueSentinel; } var record = tryCatch(method, delegate.iterator, context.arg); if (\"throw\" === record.type) return context.method = \"throw\", context.arg = record.arg, context.delegate = null, ContinueSentinel; var info = record.arg; return info ? info.done ? (context[delegate.resultName] = info.value, context.next = delegate.nextLoc, \"return\" !== context.method && (context.method = \"next\", context.arg = undefined), context.delegate = null, ContinueSentinel) : info : (context.method = \"throw\", context.arg = new TypeError(\"iterator result is not an object\"), context.delegate = null, ContinueSentinel); } function pushTryEntry(locs) { var entry = { tryLoc: locs[0] }; 1 in locs && (entry.catchLoc = locs[1]), 2 in locs && (entry.finallyLoc = locs[2], entry.afterLoc = locs[3]), this.tryEntries.push(entry); } function resetTryEntry(entry) { var record = entry.completion || {}; record.type = \"normal\", delete record.arg, entry.completion = record; } function Context(tryLocsList) { this.tryEntries = [{ tryLoc: \"root\" }], tryLocsList.forEach(pushTryEntry, this), this.reset(!0); } function values(iterable) { if (iterable) { var iteratorMethod = iterable[iteratorSymbol]; if (iteratorMethod) return iteratorMethod.call(iterable); if (\"function\" == typeof iterable.next) return iterable; if (!isNaN(iterable.length)) { var i = -1, next = function next() { for (; ++i < iterable.length;) { if (hasOwn.call(iterable, i)) return next.value = iterable[i], next.done = !1, next; } return next.value = undefined, next.done = !0, next; }; return next.next = next; } } return { next: doneResult }; } function doneResult() { return { value: undefined, done: !0 }; } return GeneratorFunction.prototype = GeneratorFunctionPrototype, define(Gp, \"constructor\", GeneratorFunctionPrototype), define(GeneratorFunctionPrototype, \"constructor\", GeneratorFunction), GeneratorFunction.displayName = define(GeneratorFunctionPrototype, toStringTagSymbol, \"GeneratorFunction\"), exports.isGeneratorFunction = function (genFun) { var ctor = \"function\" == typeof genFun && genFun.constructor; return !!ctor && (ctor === GeneratorFunction || \"GeneratorFunction\" === (ctor.displayName || ctor.name)); }, exports.mark = function (genFun) { return Object.setPrototypeOf ? Object.setPrototypeOf(genFun, GeneratorFunctionPrototype) : (genFun.__proto__ = GeneratorFunctionPrototype, define(genFun, toStringTagSymbol, \"GeneratorFunction\")), genFun.prototype = Object.create(Gp), genFun; }, exports.awrap = function (arg) { return { __await: arg }; }, defineIteratorMethods(AsyncIterator.prototype), define(AsyncIterator.prototype, asyncIteratorSymbol, function () { return this; }), exports.AsyncIterator = AsyncIterator, exports.async = function (innerFn, outerFn, self, tryLocsList, PromiseImpl) { void 0 === PromiseImpl && (PromiseImpl = Promise); var iter = new AsyncIterator(wrap(innerFn, outerFn, self, tryLocsList), PromiseImpl); return exports.isGeneratorFunction(outerFn) ? iter : iter.next().then(function (result) { return result.done ? result.value : iter.next(); }); }, defineIteratorMethods(Gp), define(Gp, toStringTagSymbol, \"Generator\"), define(Gp, iteratorSymbol, function () { return this; }), define(Gp, \"toString\", function () { return \"[object Generator]\"; }), exports.keys = function (object) { var keys = []; for (var key in object) { keys.push(key); } return keys.reverse(), function next() { for (; keys.length;) { var key = keys.pop(); if (key in object) return next.value = key, next.done = !1, next; } return next.done = !0, next; }; }, exports.values = values, Context.prototype = { constructor: Context, reset: function reset(skipTempReset) { if (this.prev = 0, this.next = 0, this.sent = this._sent = undefined, this.done = !1, this.delegate = null, this.method = \"next\", this.arg = undefined, this.tryEntries.forEach(resetTryEntry), !skipTempReset) for (var name in this) { \"t\" === name.charAt(0) && hasOwn.call(this, name) && !isNaN(+name.slice(1)) && (this[name] = undefined); } }, stop: function stop() { this.done = !0; var rootRecord = this.tryEntries[0].completion; if (\"throw\" === rootRecord.type) throw rootRecord.arg; return this.rval; }, dispatchException: function dispatchException(exception) { if (this.done) throw exception; var context = this; function handle(loc, caught) { return record.type = \"throw\", record.arg = exception, context.next = loc, caught && (context.method = \"next\", context.arg = undefined), !!caught; } for (var i = this.tryEntries.length - 1; i >= 0; --i) { var entry = this.tryEntries[i], record = entry.completion; if (\"root\" === entry.tryLoc) return handle(\"end\"); if (entry.tryLoc <= this.prev) { var hasCatch = hasOwn.call(entry, \"catchLoc\"), hasFinally = hasOwn.call(entry, \"finallyLoc\"); if (hasCatch && hasFinally) { if (this.prev < entry.catchLoc) return handle(entry.catchLoc, !0); if (this.prev < entry.finallyLoc) return handle(entry.finallyLoc); } else if (hasCatch) { if (this.prev < entry.catchLoc) return handle(entry.catchLoc, !0); } else { if (!hasFinally) throw new Error(\"try statement without catch or finally\"); if (this.prev < entry.finallyLoc) return handle(entry.finallyLoc); } } } }, abrupt: function abrupt(type, arg) { for (var i = this.tryEntries.length - 1; i >= 0; --i) { var entry = this.tryEntries[i]; if (entry.tryLoc <= this.prev && hasOwn.call(entry, \"finallyLoc\") && this.prev < entry.finallyLoc) { var finallyEntry = entry; break; } } finallyEntry && (\"break\" === type || \"continue\" === type) && finallyEntry.tryLoc <= arg && arg <= finallyEntry.finallyLoc && (finallyEntry = null); var record = finallyEntry ? finallyEntry.completion : {}; return record.type = type, record.arg = arg, finallyEntry ? (this.method = \"next\", this.next = finallyEntry.finallyLoc, ContinueSentinel) : this.complete(record); }, complete: function complete(record, afterLoc) { if (\"throw\" === record.type) throw record.arg; return \"break\" === record.type || \"continue\" === record.type ? this.next = record.arg : \"return\" === record.type ? (this.rval = this.arg = record.arg, this.method = \"return\", this.next = \"end\") : \"normal\" === record.type && afterLoc && (this.next = afterLoc), ContinueSentinel; }, finish: function finish(finallyLoc) { for (var i = this.tryEntries.length - 1; i >= 0; --i) { var entry = this.tryEntries[i]; if (entry.finallyLoc === finallyLoc) return this.complete(entry.completion, entry.afterLoc), resetTryEntry(entry), ContinueSentinel; } }, catch: function _catch(tryLoc) { for (var i = this.tryEntries.length - 1; i >= 0; --i) { var entry = this.tryEntries[i]; if (entry.tryLoc === tryLoc) { var record = entry.completion; if (\"throw\" === record.type) { var thrown = record.arg; resetTryEntry(entry); } return thrown; } } throw new Error(\"illegal catch attempt\"); }, delegateYield: function delegateYield(iterable, resultName, nextLoc) { return this.delegate = { iterator: values(iterable), resultName: resultName, nextLoc: nextLoc }, \"next\" === this.method && (this.arg = undefined), ContinueSentinel; } }, exports; }\n",
      "\n",
      "var _marked = /*#__PURE__*/_regeneratorRuntime().mark(gen);\n",
      "\n",
      "function gen(props) {\n",
      "  return _regeneratorRuntime().wrap(function gen$(_context) {\n",
      "    while (1) {\n",
      "      switch (_context.prev = _context.next) {\n",
      "        case 0:\n",
      "          _context.next = 2;\n",
      "          return 2;\n",
      "\n",
      "        case 2:\n",
      "        case \"end\":\n",
      "          return _context.stop();\n",
      "      }\n",
      "    }\n",
      "  }, _marked);\n",
      "}\n"
     ]
    }
   ],
   "source": [
    "import * as Babel from '@babel/standalone'\n",
    "const output = Babel.transform(\"function* gen(props) { yield 2 }\", \n",
    "    { presets: [Babel.availablePresets[\"react\"], Babel.availablePresets[\"es2015\"], ] });\n",
    "\n",
    "console.log(output.code)"
   ]
  },
  {
   "cell_type": "markdown",
   "id": "70a1350d-90b1-46c4-a1ca-8f81ca3e4990",
   "metadata": {},
   "source": [
    "## Server"
   ]
  },
  {
   "cell_type": "markdown",
   "id": "03fcac8c-d855-4d60-95f1-f5b3afc9ac64",
   "metadata": {},
   "source": [
    "### Html template"
   ]
  },
  {
   "cell_type": "markdown",
   "id": "cacb0b4f-04ef-49b5-9a1f-ab5460d343ae",
   "metadata": {},
   "source": [
    "Níže je definován htmlTemplate, který je založen na Bootstrap knihovně a obsahuje importy pro podporu aplikace s využitím knihovny React.\n",
    "\n",
    "Jako extra import je proveden import bootstrap ikon."
   ]
  },
  {
   "cell_type": "code",
   "execution_count": 5,
   "id": "cd4e16c1-cf4e-4e05-8407-5899f1e595ca",
   "metadata": {},
   "outputs": [],
   "source": [
    "const htmlTemplate = `\n",
    "<!DOCTYPE html>\n",
    "<html lang=\"en\">\n",
    "<head>\n",
    "  <title>Bootstrap 5 Example</title>\n",
    "  <meta charset=\"utf-8\">\n",
    "  <meta name=\"viewport\" content=\"width=device-width, initial-scale=1\">\n",
    "  <link href=\"https://cdn.jsdelivr.net/npm/bootstrap@5.1.3/dist/css/bootstrap.min.css\" rel=\"stylesheet\">\n",
    "  <script src=\"https://cdn.jsdelivr.net/npm/bootstrap@5.1.3/dist/js/bootstrap.bundle.min.js\"></script>\n",
    "\n",
    "  <script src=\"https://ajax.googleapis.com/ajax/libs/jquery/3.5.1/jquery.min.js\"></script>\n",
    "  <script src=\"https://cdnjs.cloudflare.com/ajax/libs/popper.js/1.16.0/umd/popper.min.js\"></script>\n",
    "  <script src=\"https://unpkg.com/react@17/umd/react.development.js\"></script>\n",
    "  <script src=\"https://unpkg.com/react-dom@17/umd/react-dom.development.js\"></script>\n",
    "\n",
    "  <script src=\"https://unpkg.com/@reduxjs/toolkit@1.8.2/dist/redux-toolkit.modern.js\"></script>\n",
    "\n",
    "  <link rel=\"stylesheet\" href=\"https://cdn.jsdelivr.net/npm/bootstrap-icons@1.8.3/font/bootstrap-icons.css\">\n",
    "</head>\n",
    "<body>\n",
    "\n",
    "<div class=\"container-fluid mt-5\">\n",
    "    <div id=\"root\"></div>\n",
    "</div>\n",
    "\n",
    "\n",
    "</body>\n",
    "\n",
    "<script>\n",
    "###HERE\n",
    "</script>\n",
    "\n",
    "<script>\n",
    "    ReactDOM.render( /*#__PURE__*/React.createElement(App, null), document.getElementById('root'));\n",
    "</script>\n",
    "`"
   ]
  },
  {
   "cell_type": "markdown",
   "id": "a4e2d6d8-5172-41b3-ab43-5a6c21456df9",
   "metadata": {},
   "source": [
    "Funkce pro získání html template z definovaného notebooku (souboru). Využívá skutečnosti, že notebook je json file."
   ]
  },
  {
   "cell_type": "code",
   "execution_count": 7,
   "id": "5297c6ee-ad03-4ea1-b3e5-bcf589f5f473",
   "metadata": {},
   "outputs": [
    {
     "name": "stdout",
     "output_type": "stream",
     "text": [
      "<!DOCTYPE html>\n",
      "<html lang=\"en\">\n",
      "<head>\n",
      "  <title>Bootstrap 5 Example</title>\n",
      "  <meta charset=\"utf-8\">\n",
      "  <meta name=\"viewport\" content=\"width=device-width, initial-scale=1\">\n",
      "  <link href=\"https://cdn.jsdelivr.net/npm/bootstrap@5.1.3/dist/css/bootstrap.min.css\" rel=\"stylesheet\">\n",
      "  <script src=\"https://cdn.jsdelivr.net/npm/bootstrap@5.1.3/dist/js/bootstrap.bundle.min.js\"></script>\n",
      "\n",
      "  <script src=\"https://ajax.googleapis.com/ajax/libs/jquery/3.5.1/jquery.min.js\"></script>\n",
      "  <script src=\"https://cdnjs.cloudflare.com/ajax/libs/popper.js/1.16.0/umd/popper.min.js\"></script>\n",
      "  <script src=\"https://unpkg.com/react@17/umd/react.development.js\"></script>\n",
      "  <script src=\"https://unpkg.com/react-dom@17/umd/react-dom.development.js\"></script>\n",
      "\n",
      "  <link rel=\"stylesheet\" href=\"https://cdn.jsdelivr.net/npm/bootstrap-icons@1.8.3/font/bootstrap-icons.css\">\n",
      "</head>\n",
      "<body>\n",
      "\n",
      "<div class=\"container-fluid mt-5\">\n",
      "    <div id=\"root\"></div>\n",
      "</div>\n",
      "\n",
      "\n",
      "</body>\n",
      "\n",
      "<script>\n",
      "###HERE\n",
      "</script>\n",
      "\n",
      "<script>\n",
      "    ReactDOM.render( /*#__PURE__*/React.createElement(App, null), document.getElementById('root'));\n",
      "</script>\n",
      "\n"
     ]
    }
   ],
   "source": [
    "import fs from 'fs'\n",
    "\n",
    "const findHtmlTemplate = (fileName) => {\n",
    "    //nacte data ze souboru\n",
    "    const rawData = fs.readFileSync(fileName, 'utf8')\n",
    "    \n",
    "    //z dat udela dictionary\n",
    "    const jsonData = JSON.parse(rawData)\n",
    "    \n",
    "    //filtrovani tech casti, ktere jsou oznaceny jako code\n",
    "    const justCodeCells = jsonData.cells.filter(cell => cell.cell_type === 'code')\n",
    "    \n",
    "    //filtrovani tech bunek, kde je definovan html template\n",
    "    const justHtmlTemplateCells = justCodeCells.filter(cell => ((cell.source.length > 0) && (cell.source[0]) && (cell.source[0].startsWith('const htmlTemplate'))))\n",
    "    \n",
    "    //vybrani pouze te casti datove struktur (bunky), ktera obsahuje zrdojovy kod\n",
    "    const rows = justHtmlTemplateCells.map(cell => cell.source)\n",
    "\n",
    "    //pokud je v souboru vice template, vybrani posledniho\n",
    "    const lastTemplate = rows[rows.length - 1]\n",
    "    \n",
    "    //ignorovani prvniho a posledniho radku kodu\n",
    "    const htmlTemplate = lastTemplate.slice(1, -1)\n",
    "    \n",
    "    //vraceni jedinneho retezce\n",
    "    return htmlTemplate.join('')\n",
    "}\n",
    "\n",
    "console.log(findHtmlTemplate('./05A_express.ipynb'))"
   ]
  },
  {
   "cell_type": "markdown",
   "id": "fd21ba48-7844-4a4c-8d07-1495b0628022",
   "metadata": {},
   "source": [
    "### Konverzní funkce"
   ]
  },
  {
   "cell_type": "markdown",
   "id": "b42cb38c-b818-4413-ae48-44d01c6f868f",
   "metadata": {},
   "source": [
    "Konverzní funkce převede definovaný soubor, který je notebookem do jediného souvislého řetězce. V úvahu jsou brány jen buňky, které jsou zdrojovým kódem a mají na prvním řádku uvedený import knihovny React. Tento řádek je vynechán."
   ]
  },
  {
   "cell_type": "code",
   "execution_count": 9,
   "id": "817665bd-8052-4927-8ab0-9180c4fe9e0e",
   "metadata": {},
   "outputs": [
    {
     "name": "stdout",
     "output_type": "stream",
     "text": [
      "\n",
      "const Card = (props) => <div className='card'>{props.children}</div>\n",
      "const CardHeader = (props) => <div className='card-header'>{props.children}</div>\n",
      "const CardBody = (props) => <div className='card-body'>{props.children}</div>\n",
      "const App = (props) => (\n",
      "    <Card>\n",
      "        <CardHeader>Greetings</CardHeader>\n",
      "        <CardBody>Hello world</CardBody>\n",
      "    </Card>)\n"
     ]
    }
   ],
   "source": [
    "import fs from 'fs'\n",
    "\n",
    "const convertToJs = (fileName) => {\n",
    "    const rawData = fs.readFileSync(fileName, 'utf8')\n",
    "    const jsonData = JSON.parse(rawData)\n",
    "    const justCodeCells = jsonData.cells.filter(cell => cell.cell_type === 'code')\n",
    "    const justReactCells = justCodeCells.filter(cell => ((cell.source.length > 0) && (cell.source[0]) && (cell.source[0].startsWith('import React'))))\n",
    "    const rows = justReactCells.map(cell => cell.source).map(rowGroup => rowGroup.slice(1, rowGroup.length))\n",
    "    let allLines = rows.flat().join('')\n",
    "    return allLines\n",
    "}\n",
    "\n",
    "const sourceCode = convertToJs('./05A_express.ipynb')\n",
    "console.log(sourceCode)"
   ]
  },
  {
   "cell_type": "markdown",
   "id": "a2eb1a69-c2a7-4a30-a8a6-bfe0147ee7a2",
   "metadata": {},
   "source": [
    "### Konverzní funkce s transpilací"
   ]
  },
  {
   "cell_type": "markdown",
   "id": "a4e76de2-6f41-48b2-8512-4a86f4b26318",
   "metadata": {},
   "source": [
    "Prohlížeče nepodporují všechny aspekty jazyka Javascript. Provádí se tedy překlad z novějšího Javascriptu do staršího Javascriptu, tedy transpilace. Knihovan Babel je knihovnou, která toto umožňuje a je velmi široce využívanou."
   ]
  },
  {
   "cell_type": "code",
   "execution_count": 10,
   "id": "acb7c940-a3a6-422b-a5ac-6969d9319fbc",
   "metadata": {},
   "outputs": [
    {
     "name": "stdout",
     "output_type": "stream",
     "text": [
      "\"use strict\";\n",
      "\n",
      "var Card = function Card(props) {\n",
      "  return /*#__PURE__*/React.createElement(\"div\", {\n",
      "    className: \"card\"\n",
      "  }, props.children);\n",
      "};\n",
      "\n",
      "var CardHeader = function CardHeader(props) {\n",
      "  return /*#__PURE__*/React.createElement(\"div\", {\n",
      "    className: \"card-header\"\n",
      "  }, props.children);\n",
      "};\n",
      "\n",
      "var CardBody = function CardBody(props) {\n",
      "  return /*#__PURE__*/React.createElement(\"div\", {\n",
      "    className: \"card-body\"\n",
      "  }, props.children);\n",
      "};\n",
      "\n",
      "var App = function App(props) {\n",
      "  return /*#__PURE__*/React.createElement(Card, null, /*#__PURE__*/React.createElement(CardHeader, null, \"Greetings\"), /*#__PURE__*/React.createElement(CardBody, null, \"Hello world\"));\n",
      "};\n"
     ]
    }
   ],
   "source": [
    "import * as Babel from '@babel/standalone'\n",
    "const babeledSourceCode = (fileName) => Babel.transform(convertToJs(fileName), \n",
    "    { presets: [Babel.availablePresets[\"react\"], Babel.availablePresets[\"es2015\"], ] }).code;\n",
    "\n",
    "console.log(babeledSourceCode('./05A_express.ipynb'))"
   ]
  },
  {
   "cell_type": "markdown",
   "id": "6728d0aa-c17d-4369-a70f-8eb07c30e299",
   "metadata": {},
   "source": [
    "### Implementace serveru a jeho spuštění"
   ]
  },
  {
   "cell_type": "markdown",
   "id": "30233f18-863e-4585-9ddb-9e2ba1f2ab94",
   "metadata": {},
   "source": [
    "Implementace umožňuje rozložení aplikace do více notebooků."
   ]
  },
  {
   "cell_type": "code",
   "execution_count": 27,
   "id": "19815eed-59f5-4024-9755-aa29ab919ebe",
   "metadata": {},
   "outputs": [
    {
     "name": "stdout",
     "output_type": "stream",
     "text": [
      "Server listening on port 9992\n"
     ]
    }
   ],
   "source": [
    "const express = require('express')\n",
    "const app = express()\n",
    "const port = 9992\n",
    "\n",
    "let servers = {}\n",
    "const startServer = (port, stop) => {\n",
    "    const startIt = (typeof stop !== 'undefined') ? stop : true\n",
    "\n",
    "    if (servers[port]) {\n",
    "        const result = servers[port].close(() => {\n",
    "            console.log('Server closed')\n",
    "        });\n",
    "        servers[port] = 0\n",
    "    } \n",
    "    \n",
    "    if (startIt) {\n",
    "        app.get('/:file', (req, res) => {\n",
    "            if (req.params.file === 'favicon.ico') {\n",
    "            res.send('')}\n",
    "            \n",
    "            const fileName = './' + req.params.file + '.ipynb'\n",
    "            const htmlResponse = htmlTemplate.replace('###HERE', babeledSourceCode(fileName))\n",
    "            res.send(htmlResponse)\n",
    "        })\n",
    "\n",
    "        app.get('/', (req, res) => {\n",
    "            const htmlResponse = htmlTemplate.replace('###HERE', babeledSourceCode('./05A_express.ipynb'))\n",
    "            res.send(htmlResponse)\n",
    "        })\n",
    "\n",
    "        servers[port] = app.listen(port, () => {\n",
    "          console.log(`Server listening on port ${port}`)\n",
    "        })\n",
    "    } \n",
    "}\n",
    "startServer(9992)"
   ]
  },
  {
   "cell_type": "markdown",
   "id": "72378e31-7760-40be-bf05-dac0135f6dae",
   "metadata": {},
   "source": [
    "### Ukončení serveru"
   ]
  },
  {
   "cell_type": "code",
   "execution_count": 28,
   "id": "95a665e1-b92c-4e6e-b53f-a57d53e1c25a",
   "metadata": {},
   "outputs": [
    {
     "name": "stdout",
     "output_type": "stream",
     "text": [
      "Server closed\n"
     ]
    },
    {
     "name": "stderr",
     "output_type": "stream",
     "text": [
      "unknown msg_type: comm_open\n",
      "unknown msg_type: comm_msg\n"
     ]
    }
   ],
   "source": [
    "startServer(9992, false)"
   ]
  },
  {
   "cell_type": "markdown",
   "id": "e46f4939-8dce-4f6e-adbb-e352d4d05fcc",
   "metadata": {},
   "source": [
    "## Zdrojový kód komponent"
   ]
  },
  {
   "cell_type": "markdown",
   "id": "2491ea6d-8185-4d13-82e7-0f9fbfdb14ff",
   "metadata": {},
   "source": [
    "V další části jsou uvedeny prvky - komponenty definované pomocí jazyk JSX. Tyto komponenty definují vzhled výsledné html stránky.\n",
    "\n",
    "Změnou v definici, uložením změny a obnovením html stránky dojde k aktualizaci vizuální reprezentace aplikace.\n",
    "Nutný kód je integrován do html, tím dochází k obcházení mechanismů cache.\n",
    "\n",
    "Neopomeňte server spustit, chcete-li provádět experimenty!"
   ]
  },
  {
   "cell_type": "markdown",
   "id": "5256ab4a-d5aa-472c-9e8a-1f605c7e2260",
   "metadata": {},
   "source": [
    "### Komponenty pro `Card`"
   ]
  },
  {
   "cell_type": "code",
   "execution_count": 104,
   "id": "843184f4-cb99-4fc3-ba82-226beec9c763",
   "metadata": {},
   "outputs": [],
   "source": [
    "import React from 'react'\n",
    "\n",
    "const Card = (props) => <div className='card'>{props.children}</div>\n",
    "const CardHeader = (props) => <div className='card-header'>{props.children}</div>\n",
    "const CardBody = (props) => <div className='card-body'>{props.children}</div>"
   ]
  },
  {
   "cell_type": "markdown",
   "id": "cad15bd6-3fab-41a7-9f64-7cd09223dac7",
   "metadata": {},
   "source": [
    "### Hlavní komponenta `App`"
   ]
  },
  {
   "cell_type": "code",
   "execution_count": 113,
   "id": "412361c1-0453-4624-a1e1-8bcdf16653d1",
   "metadata": {},
   "outputs": [],
   "source": [
    "import React from 'react'\n",
    "\n",
    "const App = (props) => (\n",
    "    <Card>\n",
    "        <CardHeader>Greetings</CardHeader>\n",
    "        <CardBody>Hello world</CardBody>\n",
    "    </Card>)"
   ]
  },
  {
   "cell_type": "code",
   "execution_count": null,
   "id": "235aba87-1235-46c8-8504-157b7fd65462",
   "metadata": {},
   "outputs": [],
   "source": []
  }
 ],
 "metadata": {
  "kernelspec": {
   "display_name": "JavaScript",
   "language": "javascript",
   "name": "jslab"
  },
  "language_info": {
   "file_extension": ".js",
   "mimetype": "text/javascript",
   "name": "javascript",
   "version": ""
  }
 },
 "nbformat": 4,
 "nbformat_minor": 5
}
