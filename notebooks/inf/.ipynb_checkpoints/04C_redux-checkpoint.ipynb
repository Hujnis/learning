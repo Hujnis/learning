{
 "cells": [
  {
   "cell_type": "markdown",
   "id": "e7a9b8f6-3972-49e3-b028-314acfe1e722",
   "metadata": {},
   "source": [
    "# Redux"
   ]
  },
  {
   "cell_type": "markdown",
   "id": "ea589245-eaa9-41aa-ac3d-0a0a716c525b",
   "metadata": {},
   "source": [
    "## Instalace"
   ]
  },
  {
   "cell_type": "markdown",
   "id": "478a822a-903d-4a50-8cbd-750bf3d408d6",
   "metadata": {},
   "source": [
    "!npm install @reduxjs/toolkit"
   ]
  },
  {
   "cell_type": "markdown",
   "id": "d285b875-c35b-4d34-8e12-83f03a3a92ae",
   "metadata": {},
   "source": [
    "## Základní principy"
   ]
  },
  {
   "cell_type": "code",
   "execution_count": 1,
   "id": "17bf9623-1ba9-437f-a49b-0bf3142e9765",
   "metadata": {},
   "outputs": [],
   "source": [
    "const addRow = (state, {row}) => [...state, row];"
   ]
  },
  {
   "cell_type": "code",
   "execution_count": 6,
   "id": "e0f926d4-cf0a-4f56-a9e8-1fdb23bfa19f",
   "metadata": {},
   "outputs": [
    {
     "name": "stdout",
     "output_type": "stream",
     "text": [
      "[]\n",
      "[ { id: 0, name: 'John' } ]\n"
     ]
    }
   ],
   "source": [
    "let data = []\n",
    "const row = {'id': 0, 'name': 'John'}\n",
    "console.log(data)\n",
    "data = addRow(data, {row})\n",
    "console.log(data)"
   ]
  },
  {
   "cell_type": "code",
   "execution_count": 9,
   "id": "8604955e-dbc7-4f61-b862-823e65973658",
   "metadata": {},
   "outputs": [
    {
     "name": "stdout",
     "output_type": "stream",
     "text": [
      "[ { id: 0, name: 'John' }, { id: 0 } ]\n",
      "[]\n"
     ]
    }
   ],
   "source": [
    "console.log(data)\n",
    "const removeRow = (state, {row}) => state.filter((item) => item.id !== row.id);\n",
    "data = removeRow(data, {row: {'id': 0}})\n",
    "console.log(data)"
   ]
  },
  {
   "cell_type": "markdown",
   "id": "638c426e-17e4-4854-a131-243ee66fd6e1",
   "metadata": {},
   "source": [
    "## Redux toolkit"
   ]
  },
  {
   "cell_type": "markdown",
   "id": "76de22a1-6592-498a-a701-86f29bf473c9",
   "metadata": {},
   "source": [
    "Redux toolkit obsahuje funkce s jejichž pomocí lze stavové funkce a související záležitosti implementovat jednodušeji."
   ]
  },
  {
   "cell_type": "code",
   "execution_count": 32,
   "id": "88b062bc-dd3a-47d4-a8b8-80eab88cc040",
   "metadata": {},
   "outputs": [],
   "source": [
    "import { createSlice } from '@reduxjs/toolkit'\n",
    "const slice = createSlice({\n",
    "  name: 'data',\n",
    "  initialState: {'items': []},\n",
    "  reducers: {\n",
    "    createItem(state, {payload}) {        \n",
    "        state.items.push(payload)\n",
    "    },\n",
    "    updateItem(state, {payload}) {\n",
    "        const newItemList = state.items.map(row => row.id === payload.id? {...row, ...payload} : row)\n",
    "        state.items = newItemList\n",
    "    },\n",
    "    deleteItem(state, {payload}) {\n",
    "        state.items = state.items.filter(row => row.id !== payload.id)\n",
    "    },\n",
    "  },\n",
    "})"
   ]
  },
  {
   "cell_type": "code",
   "execution_count": 48,
   "id": "e9cab2f3-4c91-4a8b-a448-4497b9f1a3da",
   "metadata": {},
   "outputs": [
    {
     "name": "stdout",
     "output_type": "stream",
     "text": [
      "{ type: 'data/createItem', payload: { id: 1, name: 'John' } }\n"
     ]
    }
   ],
   "source": [
    "// Extract the action creators object and the reducer\n",
    "const { actions, reducer } = slice\n",
    "// Extract and export each action creator by name\n",
    "const { createItem, updateItem, deleteItem } = actions\n",
    "// Export the reducer, either as a default or named export\n",
    "\n",
    "const action = createItem({'id': 1, 'name': 'John'})\n",
    "console.log(action)"
   ]
  },
  {
   "cell_type": "code",
   "execution_count": 47,
   "id": "e43a14ab-f68c-4dcd-a5bc-55c401ace5ba",
   "metadata": {},
   "outputs": [
    {
     "name": "stdout",
     "output_type": "stream",
     "text": [
      "{ items: [ { id: 1, name: 'John' } ] }\n",
      "{ items: [ { id: 1, name: 'John' }, { id: 2, name: 'John' } ] }\n",
      "{ items: [ { id: 1, name: 'John' }, { id: 2, name: 'Julia' } ] }\n",
      "{ items: [ { id: 1, name: 'John' } ] }\n",
      "{ items: [] }\n"
     ]
    }
   ],
   "source": [
    "let newData = {\n",
    "    'items': []\n",
    "}\n",
    "\n",
    "newData = reducer(newData, createItem({'id': 1, 'name': 'John'}))\n",
    "console.log(newData)\n",
    "\n",
    "newData = reducer(newData, createItem({'id': 2, 'name': 'John'}))\n",
    "console.log(newData)\n",
    "\n",
    "newData = reducer(newData, updateItem({'id': 2, 'name': 'Julia'}))\n",
    "console.log(newData)\n",
    "\n",
    "newData = reducer(newData, deleteItem({'id': 2}))\n",
    "console.log(newData)\n",
    "\n",
    "newData = reducer(newData, deleteItem({'id': 1}))\n",
    "console.log(newData)"
   ]
  },
  {
   "cell_type": "markdown",
   "id": "086589c7-8b19-4c5d-aef6-836783c1e6ef",
   "metadata": {},
   "source": [
    "## Komplexní data"
   ]
  },
  {
   "cell_type": "markdown",
   "id": "60e31067-1054-4560-940d-32666b6263a1",
   "metadata": {},
   "source": [
    "### Datová struktura"
   ]
  },
  {
   "cell_type": "markdown",
   "id": "04ef28a5-78f0-410e-8e53-44070babf4c8",
   "metadata": {},
   "source": [
    "Datová struktura má tři základní prvky:\n",
    "- data z akreditace\n",
    "- data vytvářená\n",
    "- data pomocná"
   ]
  },
  {
   "cell_type": "code",
   "execution_count": 63,
   "id": "651e1ea0-672f-4a00-a009-046bc5183844",
   "metadata": {},
   "outputs": [],
   "source": [
    "const getData = () => ({\n",
    "    subject: {\n",
    "        id: 12, name: 'Databases', garants: [\n",
    "            {id: 658, name: 'John', surname: 'Scientist'},\n",
    "            {id: 656, name: 'Julia', surname: 'Teacher'}\n",
    "        ],\n",
    "        acreditation: {\n",
    "            topics: [\n",
    "                {id: 41, name: 'Introduction', type: {id: 1, name: 'P'}, duration: 2, order: 1},\n",
    "                {id: 42, name: 'SQL Databases', type: {id: 1, name: 'P'}, duration: 2, order: 2},\n",
    "                {id: 43, name: 'SQL Databases', type: {id: 1, name: 'C'}, duration: 4, order: 3},\n",
    "                {id: 44, name: 'Doc Databases', type: {id: 1, name: 'P'}, duration: 2, order: 4},\n",
    "                {id: 44, name: 'Doc Databases', type: {id: 1, name: 'C'}, duration: 4, order: 5},\n",
    "                {id: 45, name: 'Graph Databases', type: {id: 1, name: 'P'}, duration: 2, order: 6},\n",
    "                {id: 45, name: 'Graph Databases', type: {id: 1, name: 'C'}, duration: 4, order: 7},\n",
    "            ],\n",
    "        }\n",
    "    },\n",
    "    items: [\n",
    "        {id: 1, name: 'Introduction', teachers: [\n",
    "            {id: 658, name: 'John', surname: 'Scientist'}\n",
    "        ], rooms: [\n",
    "            {id: 478, name: 'KD3/210'}\n",
    "        ], order: 1, checked: false, subject: {id: 12, name: 'Databases'}, duration: 2, type: {id: 1, name: 'P'}},\n",
    "    ],\n",
    "    header: {\n",
    "        types: [\n",
    "            {id: 1, name: 'P'},\n",
    "            {id: 2, name: 'C'},\n",
    "            {id: 3, name: 'LC'},\n",
    "            {id: 4, name: 'S'}\n",
    "        ],\n",
    "        teachers: [\n",
    "            {id: 658, name: 'John', surname: 'Scientist'}\n",
    "        ],\n",
    "        rooms: [\n",
    "            {id: 478, name: 'KD3/210'}\n",
    "        ],\n",
    "    }\n",
    "})\n"
   ]
  },
  {
   "cell_type": "code",
   "execution_count": 64,
   "id": "bfe9c11a-fded-42c4-a002-9dcda57e3ac1",
   "metadata": {},
   "outputs": [
    {
     "name": "stdout",
     "output_type": "stream",
     "text": [
      "{\n",
      "  subject: {\n",
      "    id: 12,\n",
      "    name: 'Databases',\n",
      "    garants: [ [Object], [Object] ],\n",
      "    acreditation: { topics: [Array] }\n",
      "  },\n",
      "  items: [\n",
      "    {\n",
      "      id: 1,\n",
      "      name: 'Introduction',\n",
      "      teachers: [Array],\n",
      "      rooms: [Array],\n",
      "      order: 1,\n",
      "      checked: false,\n",
      "      subject: [Object],\n",
      "      duration: 2,\n",
      "      type: [Object]\n",
      "    }\n",
      "  ],\n",
      "  header: {\n",
      "    types: [ [Object], [Object], [Object], [Object] ],\n",
      "    teachers: [ [Object] ],\n",
      "    rooms: [ [Object] ]\n",
      "  }\n",
      "}\n"
     ]
    }
   ],
   "source": [
    "console.log(getData())"
   ]
  },
  {
   "cell_type": "markdown",
   "id": "9ab6fc32-eaeb-4be6-a510-0f41b6572646",
   "metadata": {},
   "source": [
    "### Operace nad datovou strukturou"
   ]
  },
  {
   "cell_type": "markdown",
   "id": "b42fe0f8-6f57-49bc-8f05-d4255fab8de9",
   "metadata": {},
   "source": [
    "- Přidání učitele do řádku (items)\n",
    "- Přidání učitele do řádku (items) z header\n",
    "- Odebrání učitele z řádku (items)\n",
    "- Přidání místnosti do řádku (items)\n",
    "- Odebrání místnosti z řádku (items)\n",
    "- Odebrání místnosti z řádku (items) z header\n",
    "- Nastavení délky u řádku\n",
    "- Nastavení typu lekce u řádku\n"
   ]
  },
  {
   "cell_type": "code",
   "execution_count": 67,
   "id": "b68df602-94bb-4ed3-b152-b0add8d89c20",
   "metadata": {},
   "outputs": [
    {
     "name": "stdout",
     "output_type": "stream",
     "text": [
      "[ { id: 658, name: 'John', surname: 'Scientist' } ]\n",
      "[\n",
      "  { id: 658, name: 'John', surname: 'Scientist' },\n",
      "  { id: 112, name: 'Julie', surname: 'Sunny' }\n",
      "]\n",
      "[\n",
      "  { id: 658, name: 'John', surname: 'Scientist' },\n",
      "  { id: 112, name: 'Julie', surname: 'Sunny' }\n",
      "]\n"
     ]
    },
    {
     "name": "stderr",
     "output_type": "stream",
     "text": [
      "Nenalezen radek s id = 11\n"
     ]
    },
    {
     "name": "stdout",
     "output_type": "stream",
     "text": [
      "[\n",
      "  { id: 658, name: 'John', surname: 'Scientist' },\n",
      "  { id: 112, name: 'Julie', surname: 'Sunny' }\n",
      "]\n"
     ]
    }
   ],
   "source": [
    "const PushTeacherToRow = (state, {payload}) => {\n",
    "    const teacher = payload.teacher\n",
    "    const rowId = payload.rowId\n",
    "    const teacherId = teacher.id\n",
    "    const rowToUpdate = state.items.find(row => row.id === rowId)\n",
    "    if (rowToUpdate) {\n",
    "        const hasTeacher = rowToUpdate.teachers.find(currentTeacher => currentTeacher.id === teacherId)\n",
    "        if (hasTeacher) {\n",
    "        } else {\n",
    "            rowToUpdate.teachers.push(teacher)\n",
    "        }\n",
    "    } else {\n",
    "        console.error(`Nenalezen radek s id = ${rowId}`)\n",
    "    }\n",
    "    return state\n",
    "}\n",
    "\n",
    "let newData = getData()\n",
    "console.log(newData.items[0].teachers)\n",
    "newData = PushTeacherToRow(newData, {payload: {rowId: 1, teacher: {id: 112, name: 'Julie', surname: 'Sunny'}}})\n",
    "console.log(newData.items[0].teachers)\n",
    "newData = PushTeacherToRow(newData, {payload: {rowId: 1, teacher: {id: 112, name: 'Julie', surname: 'Sunny'}}})\n",
    "console.log(newData.items[0].teachers)\n",
    "newData = PushTeacherToRow(newData, {payload: {rowId: 11, teacher: {id: 112, name: 'Julie', surname: 'Sunny'}}})\n",
    "console.log(newData.items[0].teachers)"
   ]
  },
  {
   "cell_type": "code",
   "execution_count": 68,
   "id": "73958b0b-ee35-4ebd-b2fc-c17de11542ac",
   "metadata": {},
   "outputs": [
    {
     "name": "stdout",
     "output_type": "stream",
     "text": [
      "[ { id: 658, name: 'John', surname: 'Scientist' } ]\n",
      "[\n",
      "  { id: 658, name: 'John', surname: 'Scientist' },\n",
      "  { id: 112, name: 'Julie', surname: 'Sunny' }\n",
      "]\n",
      "[ { id: 658, name: 'John', surname: 'Scientist' } ]\n"
     ]
    }
   ],
   "source": [
    "const RemoveTeacherFromRow = (state, {payload}) => {\n",
    "    const teacher = payload.teacher\n",
    "    const rowId = payload.rowId\n",
    "    const teacherId = teacher.id\n",
    "    const rowToUpdate = state.items.find(row => row.id === rowId)\n",
    "    if (rowToUpdate) {\n",
    "        const filteredTeachers = rowToUpdate.teachers.filter(teacher => teacher.id !== teacherId)\n",
    "        rowToUpdate.teachers = filteredTeachers\n",
    "    } else {\n",
    "        console.error(`Nenalezen radek s id = ${rowId}`)\n",
    "    }\n",
    "    return state\n",
    "}\n",
    "\n",
    "let newData = getData()\n",
    "console.log(newData.items[0].teachers)\n",
    "newData = PushTeacherToRow(newData, {payload: {rowId: 1, teacher: {id: 112, name: 'Julie', surname: 'Sunny'}}})\n",
    "console.log(newData.items[0].teachers)\n",
    "newData = RemoveTeacherFromRow(newData, {payload: {rowId: 1, teacher: {id: 112, name: 'Julie', surname: 'Sunny'}}})\n",
    "console.log(newData.items[0].teachers)\n"
   ]
  },
  {
   "cell_type": "code",
   "execution_count": 73,
   "id": "f6364f1f-a796-4fbe-a0dc-8992b7206f59",
   "metadata": {},
   "outputs": [
    {
     "name": "stdout",
     "output_type": "stream",
     "text": [
      "[ { id: 478, name: 'KD3/210' } ]\n",
      "[ { id: 478, name: 'KD3/210' }, { id: 112, name: 'KD3/589' } ]\n",
      "[ { id: 478, name: 'KD3/210' }, { id: 112, name: 'KD3/589' } ]\n"
     ]
    },
    {
     "name": "stderr",
     "output_type": "stream",
     "text": [
      "Nenalezen radek s id = 11\n"
     ]
    },
    {
     "name": "stdout",
     "output_type": "stream",
     "text": [
      "[ { id: 478, name: 'KD3/210' }, { id: 112, name: 'KD3/589' } ]\n"
     ]
    }
   ],
   "source": [
    "const PushRoomToRow = (state, {payload}) => {\n",
    "    const room = payload.room\n",
    "    const rowId = payload.rowId\n",
    "    const roomId = room.id\n",
    "    const rowToUpdate = state.items.find(row => row.id === rowId)\n",
    "    if (rowToUpdate) {\n",
    "        const hasRoom = rowToUpdate.rooms.find(currentRoom => currentRoom.id === roomId)\n",
    "        if (hasRoom) {\n",
    "        } else {\n",
    "            rowToUpdate.rooms.push(room)\n",
    "        }\n",
    "    } else {\n",
    "        console.error(`Nenalezen radek s id = ${rowId}`)\n",
    "    }\n",
    "    return state\n",
    "}\n",
    "\n",
    "let newData = getData()\n",
    "console.log(newData.items[0].rooms)\n",
    "newData = PushRoomToRow(newData, {payload: {rowId: 1, room: {id: 112, name: 'KD3/589'}}})\n",
    "console.log(newData.items[0].rooms)\n",
    "newData = PushRoomToRow(newData, {payload: {rowId: 1, room: {id: 112, name: 'KD3/589'}}})\n",
    "console.log(newData.items[0].rooms)\n",
    "newData = PushRoomToRow(newData, {payload: {rowId: 11, room: {id: 112, name: 'KD3/589'}}})\n",
    "console.log(newData.items[0].rooms)"
   ]
  },
  {
   "cell_type": "code",
   "execution_count": 74,
   "id": "55fb9902-cad4-40e3-ba49-92ee203076af",
   "metadata": {},
   "outputs": [
    {
     "name": "stdout",
     "output_type": "stream",
     "text": [
      "[ { id: 478, name: 'KD3/210' } ]\n",
      "[ { id: 478, name: 'KD3/210' }, { id: 112, name: 'KD3/589' } ]\n",
      "[ { id: 478, name: 'KD3/210' } ]\n",
      "[ { id: 478, name: 'KD3/210' } ]\n"
     ]
    }
   ],
   "source": [
    "const RemoveRoomFromRow = (state, {payload}) => {\n",
    "    const room = payload.room\n",
    "    const rowId = payload.rowId\n",
    "    const roomId = room.id\n",
    "    const rowToUpdate = state.items.find(row => row.id === rowId)\n",
    "    if (rowToUpdate) {\n",
    "        const filteredRooms = rowToUpdate.rooms.filter(room => room.id !== roomId)\n",
    "        rowToUpdate.rooms = filteredRooms\n",
    "    } else {\n",
    "        console.error(`Nenalezen radek s id = ${rowId}`)\n",
    "    }\n",
    "    return state\n",
    "}\n",
    "\n",
    "let newData = getData()\n",
    "console.log(newData.items[0].rooms)\n",
    "newData = PushRoomToRow(newData, {payload: {rowId: 1, room: {id: 112, name: 'KD3/589'}}})\n",
    "console.log(newData.items[0].rooms)\n",
    "newData = RemoveRoomFromRow(newData, {payload: {rowId: 1, room: {id: 112, name: 'KD3/589'}}})\n",
    "console.log(newData.items[0].rooms)\n",
    "newData = RemoveRoomFromRow(newData, {payload: {rowId: 1, room: {id: 112, name: 'KD3/589'}}})\n",
    "console.log(newData.items[0].rooms)\n"
   ]
  },
  {
   "cell_type": "code",
   "execution_count": null,
   "id": "4543f48d-0b55-443e-8cab-bc62de5d6bc3",
   "metadata": {},
   "outputs": [],
   "source": []
  },
  {
   "cell_type": "code",
   "execution_count": null,
   "id": "14f707ab-4060-4f48-b46f-9e60cc573f08",
   "metadata": {},
   "outputs": [],
   "source": []
  },
  {
   "cell_type": "markdown",
   "id": "cd36853f-53e7-425f-9f5f-7458e9112841",
   "metadata": {},
   "source": [
    "## Data pro server"
   ]
  },
  {
   "cell_type": "markdown",
   "id": "4352ad84-7508-41df-99bf-18dc91a4a626",
   "metadata": {},
   "source": [
    "### Html template"
   ]
  },
  {
   "cell_type": "code",
   "execution_count": null,
   "id": "615537dc-9206-4597-a660-bc69be4104d6",
   "metadata": {},
   "outputs": [],
   "source": [
    "const htmlTemplate = `\n",
    "<!DOCTYPE html>\n",
    "<html lang=\"en\">\n",
    "<head>\n",
    "  <title>Bootstrap 5 Example</title>\n",
    "  <meta charset=\"utf-8\">\n",
    "  <meta name=\"viewport\" content=\"width=device-width, initial-scale=1\">\n",
    "  <link href=\"https://cdn.jsdelivr.net/npm/bootstrap@5.1.3/dist/css/bootstrap.min.css\" rel=\"stylesheet\">\n",
    "  <script src=\"https://cdn.jsdelivr.net/npm/bootstrap@5.1.3/dist/js/bootstrap.bundle.min.js\"></script>\n",
    "\n",
    "  <script src=\"https://ajax.googleapis.com/ajax/libs/jquery/3.5.1/jquery.min.js\"></script>\n",
    "  <script src=\"https://cdnjs.cloudflare.com/ajax/libs/popper.js/1.16.0/umd/popper.min.js\"></script>\n",
    "  <script src=\"https://unpkg.com/react@17/umd/react.development.js\"></script>\n",
    "  <script src=\"https://unpkg.com/react-dom@17/umd/react-dom.development.js\"></script>\n",
    "\n",
    "  <script src=\"https://unpkg.com/@reduxjs/toolkit@1.8.2/dist/redux-toolkit.modern.js\"></script>\n",
    "\n",
    "  <link rel=\"stylesheet\" href=\"https://cdn.jsdelivr.net/npm/bootstrap-icons@1.8.3/font/bootstrap-icons.css\">\n",
    "</head>\n",
    "<body>\n",
    "\n",
    "<div class=\"container-fluid mt-5\">\n",
    "    <div id=\"root\"></div>\n",
    "</div>\n",
    "\n",
    "\n",
    "</body>\n",
    "\n",
    "<script>\n",
    "###HERE\n",
    "</script>\n",
    "\n",
    "<script>\n",
    "    ReactDOM.render( /*#__PURE__*/React.createElement(App, null), document.getElementById('root'));\n",
    "</script>\n",
    "`"
   ]
  },
  {
   "cell_type": "markdown",
   "id": "2fa0283b-bdb8-4473-acb9-81f064632663",
   "metadata": {},
   "source": [
    "### Pomocné komponenty"
   ]
  },
  {
   "cell_type": "code",
   "execution_count": null,
   "id": "64bbec5d-505d-4be7-b669-1be575054cb2",
   "metadata": {},
   "outputs": [],
   "source": [
    "import React from 'react'\n",
    "\n",
    "const Card = (props) => (<div className='card'>{props.children}</div>);\n",
    "const CardHeader = (props) => (<div className='card-header'>{props.children}</div>);\n",
    "const CardTitle = (props) => (<div className='card-title h5'>{props.children}</div>);\n",
    "const CardBody = (props) => (<div className=\"card-body\">{props.children}</div>);\n",
    "const Row = (props) => (<div className=\"row\">{props.children}</div>)\n",
    "const Col6 = (props) => (<div className=\"col-md-6\">{props.children}</div>)"
   ]
  },
  {
   "cell_type": "code",
   "execution_count": null,
   "id": "e19c83a6-acc0-4359-89e1-6f88facfa9bf",
   "metadata": {},
   "outputs": [],
   "source": [
    "import React from 'react'\n",
    "\n",
    "const TwoClickButton = (props) => {\n",
    "    const [clickCount, setClickCount] = React.useState(0)\n",
    "    if (clickCount === 0) {\n",
    "        return <button className={props.className + \" btn-warning\"} onClick={()=>setClickCount(clickCount+1)}>{props.children}</button>\n",
    "    } else {\n",
    "        return (\n",
    "            <>\n",
    "            <button className={props.className + \" btn-warning\"} onClick={()=>setClickCount(0)}>{props.children}</button>                \n",
    "            <button className={props.className + \" btn-danger\"} onClick={props.onClick}>{props.children}</button>\n",
    "            </>\n",
    "            )\n",
    "    }\n",
    "}\n",
    "\n",
    "const ValueWithInput = (props) => {\n",
    "    const [editing, setEditing] = React.useState(false)\n",
    "    const [currentValue, setCurrentValue] = React.useState(props.value)\n",
    "\n",
    "    if (editing) {\n",
    "        const onChange = (e) => setCurrentValue(e.target.value)\n",
    "        const onClick = () => {\n",
    "            if (props.onChange) {\n",
    "                props.onChange(currentValue)\n",
    "            }\n",
    "            setEditing(false)\n",
    "        }\n",
    "        const onDiscard = () => {\n",
    "            setCurrentValue(props.value)\n",
    "            setEditing(false)\n",
    "        }\n",
    "        return (\n",
    "            <div className=\"input-group\">\n",
    "                <input className=\"form-control\" value={currentValue} onChange={onChange} />\n",
    "                <button className=\"btn btn-sm btn-success\" onClick={onClick} ><i className=\"bi bi-check-lg\"></i></button>\n",
    "                <TwoClickButton className=\"btn btn-sm \" onClick={onDiscard} ><i className=\"bi bi-x-lg\"></i></TwoClickButton>\n",
    "            </div>\n",
    "        )\n",
    "    } else {\n",
    "        return (<span onClick={() => setEditing(true)}>{props.value}</span>)\n",
    "    }\n",
    "}\n",
    "\n",
    "const AddButton = (props) => {\n",
    "    const [expanded, setExpanded] = React.useState(false)\n",
    "    const [threeLetters, setThreeLetters] = React.useState('')\n",
    "    const [serverData, setServerData] = React.useState([])\n",
    "    React.useEffect(\n",
    "        () => {\n",
    "            if (threeLetters.length >= 3) {\n",
    "                props.readFromServer(threeLetters).then((data) => setServerData(data))                    \n",
    "            }\n",
    "        }, [threeLetters]\n",
    "    )\n",
    "\n",
    "    const onItemClick = (item) => {\n",
    "        props.onAdd(item)\n",
    "    }\n",
    "\n",
    "    const onDone = () => {\n",
    "        setExpanded(!expanded)\n",
    "        setThreeLetters('')\n",
    "        setServerData([])\n",
    "    }\n",
    "\n",
    "    if (expanded) {\n",
    "        return (\n",
    "            <>\n",
    "            <div className=\"input-group\">\n",
    "                <input className=\"form-control\" value={threeLetters} onChange={(e) => setThreeLetters(e.target.value)} />\n",
    "                <button className=\"btn btn-sm btn-success\" onClick={onDone}><i className=\"bi bi-check-lg\"></i></button>\n",
    "            </div>\n",
    "            <p>\n",
    "                {serverData.map((item) => (\n",
    "                    <React.Fragment key={item.id}>\n",
    "                        <button className=\"btn btn-outline-primary\" onClick={()=>onItemClick(item)}>{item.name}</button>\n",
    "                        <br/>\n",
    "                    </React.Fragment>))}\n",
    "            </p>\n",
    "            </>\n",
    "        )\n",
    "    } else {\n",
    "        return (\n",
    "            <button className=\"btn btn-sm btn-success\" onClick={()=>setExpanded(true)}><i className=\"bi bi-person-plus\"></i></button>\n",
    "        )\n",
    "    }\n",
    "}\n",
    "\n"
   ]
  },
  {
   "cell_type": "markdown",
   "id": "f82b3d79-72ab-4108-bcaf-30e3db2e4733",
   "metadata": {},
   "source": [
    "### Podřízené komponenty"
   ]
  },
  {
   "cell_type": "code",
   "execution_count": null,
   "id": "7e7f347c-13e3-4297-b7c0-38cd2fcef1f5",
   "metadata": {},
   "outputs": [],
   "source": []
  },
  {
   "cell_type": "markdown",
   "id": "fa2d1027-a6f0-4a40-b0c0-a19344e2e4e8",
   "metadata": {},
   "source": [
    "### Hlavní komponenta"
   ]
  },
  {
   "cell_type": "code",
   "execution_count": null,
   "id": "25ad09be-a585-42ca-87b0-7b6a52f5c76d",
   "metadata": {},
   "outputs": [],
   "source": [
    "import React from 'react'\n",
    "\n",
    "const PSPPage = (props) => {\n",
    "\n",
    "    const [stateData, setStateData] = React.useState([]);\n",
    "\n",
    "    const onExecute = (actionFunc) => {\n",
    "        //console.log('PSPPage.Begin')\n",
    "        const newData = actionFunc(stateData)\n",
    "        //console.log(newData)\n",
    "        setStateData(newData)\n",
    "        //console.log('PSPPage.End')\n",
    "    }\n",
    "\n",
    "    React.useEffect(\n",
    "        () => props.serverQuery().then((data) => {\n",
    "            setStateData(data)            \n",
    "        }), \n",
    "        [props.serverQuery]);\n",
    "\n",
    "    return (\n",
    "        <Card>\n",
    "            <CardHeader>PSP předmětu</CardHeader>\n",
    "            <CardBody>\n",
    "                <table className='table table-bordered table-striped'>\n",
    "                    <PSPHeader onExecute={onExecute} data={stateData} />\n",
    "                    <tbody>\n",
    "                        {stateData.map((item) => <PSPRow key={item.id} onExecute={onExecute} data={item} />)}\n",
    "                    </tbody>\n",
    "                    <PSPFoot onExecute={onExecute} data={stateData}/>\n",
    "                </table>\n",
    "            </CardBody>\n",
    "        </Card>\n",
    "    )\n",
    "}\n"
   ]
  },
  {
   "cell_type": "code",
   "execution_count": null,
   "id": "4af98124-134d-4e95-8bb1-6b558dadbf77",
   "metadata": {},
   "outputs": [],
   "source": [
    "import React from 'react'\n",
    "\n",
    "const createSlice = RTK.createSlice\n",
    "//import { createSlice } from '@reduxjs/toolkit'\n",
    "\n",
    "const PSPSlice = createSlice({\n",
    "  name: 'PSP',\n",
    "  initialState: {\n",
    "      subject: {acreditation: {topics: []}}, \n",
    "      items: [],\n",
    "      header: {types: [], rooms: [], teachers: []}\n",
    "  },\n",
    "  reducers: {\n",
    "    teacherToRow(state, {payload}) {        \n",
    "        state.items.find()(payload)\n",
    "    },\n",
    "    updateItem(state, {payload}) {\n",
    "        const newItemList = state.items.map(row => row.id === payload.id? {...row, ...payload} : row)\n",
    "        state.items = newItemList\n",
    "    },\n",
    "    deleteItem(state, {payload}) {\n",
    "        state.items = state.items.filter(row => row.id !== payload.id)\n",
    "    },\n",
    "  },\n",
    "})"
   ]
  },
  {
   "cell_type": "code",
   "execution_count": 11,
   "id": "a3a9bf13-e722-43c8-a82b-6d398cc22900",
   "metadata": {},
   "outputs": [
    {
     "name": "stdout",
     "output_type": "stream",
     "text": [
      "[]\n",
      "[ { id: 1, name: 'John' } ]\n"
     ]
    }
   ],
   "source": [
    "const createGetAndDispatch = (startData) => {\n",
    "    let localData = startData;\n",
    "    const dispatch = (reducer) => {\n",
    "        localData = reducer(localData)\n",
    "    }\n",
    "    const getData = () => {\n",
    "        return localData\n",
    "    }\n",
    "    return [dispatch, getData]\n",
    "}\n",
    "\n",
    "const [dispatch, getData] = createGetAndDispatch([])\n",
    "console.log(getData())\n",
    "dispatch((state) => addRow(state, {row: {'id': 1, 'name': 'John'}}))\n",
    "console.log(getData())"
   ]
  },
  {
   "cell_type": "code",
   "execution_count": 12,
   "id": "1edb4cfa-fafb-4ef6-8472-845138ad5123",
   "metadata": {},
   "outputs": [
    {
     "name": "stdout",
     "output_type": "stream",
     "text": [
      "[]\n",
      "[ { id: 1, name: 'John' } ]\n"
     ]
    }
   ],
   "source": [
    "const execute = (dispatch, reducer, action) => dispatch((state) => reducer(state, action))\n",
    "const [dispatch, getData] = createGetAndDispatch([])\n",
    "console.log(getData())\n",
    "execute(dispatch, addRow, {row: {'id': 1, 'name': 'John'}})\n",
    "console.log(getData())"
   ]
  },
  {
   "cell_type": "code",
   "execution_count": null,
   "id": "5f0e39e0-da14-4c7a-92df-5711e5aa424a",
   "metadata": {},
   "outputs": [],
   "source": []
  },
  {
   "cell_type": "code",
   "execution_count": 15,
   "id": "bc2249e8-45da-43ab-82ce-1d19c87b2410",
   "metadata": {},
   "outputs": [
    {
     "name": "stderr",
     "output_type": "stream",
     "text": [
      "9:9 - Cannot find name 'arguments'.\n",
      "12:21 - Cannot find name 'arguments'.\n",
      "22:21 - Cannot find name 'arguments'.\n",
      "30:9 - Cannot find name 'arguments'.\n"
     ]
    }
   ],
   "source": [
    "/**\n",
    " * This is a special function which can be called partially.\n",
    " * If a parameter is missing, the function is returned to gather missing parameters. And this behaviour is chained.\n",
    " * dispatch is expected being a function, order of the reducer and the action parameters can be swapped. \n",
    " * Swapping is detected by type check as action should not be a function.\n",
    " */ \n",
    "const execute = (dispatch, reducer, action) => {\n",
    "    //it is supposed that dispatch is always a function\n",
    "    if (arguments.length === 1) {\n",
    "        return (reducer, action) => {\n",
    "            if (typeof reducer === \"function\") {\n",
    "                if (arguments.length === 1) {\n",
    "                    return (action) => (state) => dispatch(reducer(state, action))\n",
    "                } else {\n",
    "                    return (state) => dispatch(reducer(state, action))\n",
    "                }\n",
    "            } else {\n",
    "                //type of second parameters is not function, it is an action (dictionary type?)\n",
    "                //reducer and action parameters are swapped\n",
    "                const localAction = reducer\n",
    "                const localReducer = action\n",
    "                if (arguments.length === 1) {\n",
    "                    return (reducer) => (state) => dispatch(reducer(state, localAction))\n",
    "                } else {\n",
    "                    return (state) => dispatch(localReducer(state, localAction))\n",
    "                }\n",
    "            }\n",
    "        }\n",
    "    }\n",
    "    if (arguments.length === 2) {\n",
    "        if (typeof reducer === \"function\") {\n",
    "            // we miss an action\n",
    "            return (action) => (state) => dispatch(reducer(state, action))\n",
    "        } else {\n",
    "            //we miss a reducer\n",
    "            const localAction = reducer\n",
    "            return (reducer) => (state) => dispatch(reducer(state, localAction))\n",
    "        }\n",
    "    } else {\n",
    "        if (typeof reducer === \"function\") {\n",
    "            //reducer is a function\n",
    "            return (state) => dispatch(reducer(state, action))\n",
    "        } else {\n",
    "            //reducer and action are swapped\n",
    "            const localAction = reducer\n",
    "            const localReducer = action\n",
    "            return (state) => dispatch(localReducer(state, localAction))\n",
    "        }\n",
    "    }\n",
    "}"
   ]
  },
  {
   "cell_type": "code",
   "execution_count": null,
   "id": "42044072-f0b6-4475-a26c-955f77fd3d96",
   "metadata": {},
   "outputs": [],
   "source": []
  },
  {
   "cell_type": "markdown",
   "id": "573dc6a7-52c0-4b17-9706-691356603d73",
   "metadata": {},
   "source": []
  }
 ],
 "metadata": {
  "kernelspec": {
   "display_name": "JavaScript",
   "language": "javascript",
   "name": "jslab"
  },
  "language_info": {
   "file_extension": ".js",
   "mimetype": "text/javascript",
   "name": "javascript",
   "version": ""
  }
 },
 "nbformat": 4,
 "nbformat_minor": 5
}
