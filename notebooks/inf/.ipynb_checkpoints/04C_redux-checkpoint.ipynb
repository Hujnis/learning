{
 "cells": [
  {
   "cell_type": "code",
   "execution_count": null,
   "id": "3aded7c3-8e16-4e31-9e32-23e5e28d2041",
   "metadata": {},
   "outputs": [],
   "source": []
  },
  {
   "cell_type": "code",
   "execution_count": 1,
   "id": "17bf9623-1ba9-437f-a49b-0bf3142e9765",
   "metadata": {},
   "outputs": [],
   "source": [
    "const addRow = (state, {row}) => [...state, row];"
   ]
  },
  {
   "cell_type": "code",
   "execution_count": 6,
   "id": "e0f926d4-cf0a-4f56-a9e8-1fdb23bfa19f",
   "metadata": {},
   "outputs": [
    {
     "name": "stdout",
     "output_type": "stream",
     "text": [
      "[]\n",
      "[ { id: 0, name: 'John' } ]\n"
     ]
    }
   ],
   "source": [
    "let data = []\n",
    "const row = {'id': 0, 'name': 'John'}\n",
    "console.log(data)\n",
    "data = addRow(data, {row})\n",
    "console.log(data)"
   ]
  },
  {
   "cell_type": "code",
   "execution_count": 9,
   "id": "8604955e-dbc7-4f61-b862-823e65973658",
   "metadata": {},
   "outputs": [
    {
     "name": "stdout",
     "output_type": "stream",
     "text": [
      "[ { id: 0, name: 'John' }, { id: 0 } ]\n",
      "[]\n"
     ]
    }
   ],
   "source": [
    "console.log(data)\n",
    "const removeRow = (state, {row}) => state.filter((item) => item.id !== row.id);\n",
    "data = removeRow(data, {row: {'id': 0}})\n",
    "console.log(data)"
   ]
  },
  {
   "cell_type": "code",
   "execution_count": 11,
   "id": "a3a9bf13-e722-43c8-a82b-6d398cc22900",
   "metadata": {},
   "outputs": [
    {
     "name": "stdout",
     "output_type": "stream",
     "text": [
      "[]\n",
      "[ { id: 1, name: 'John' } ]\n"
     ]
    }
   ],
   "source": [
    "const createGetAndDispatch = (startData) => {\n",
    "    let localData = startData;\n",
    "    const dispatch = (reducer) => {\n",
    "        localData = reducer(localData)\n",
    "    }\n",
    "    const getData = () => {\n",
    "        return localData\n",
    "    }\n",
    "    return [dispatch, getData]\n",
    "}\n",
    "\n",
    "const [dispatch, getData] = createGetAndDispatch([])\n",
    "console.log(getData())\n",
    "dispatch((state) => addRow(state, {row: {'id': 1, 'name': 'John'}}))\n",
    "console.log(getData())"
   ]
  },
  {
   "cell_type": "code",
   "execution_count": 12,
   "id": "1edb4cfa-fafb-4ef6-8472-845138ad5123",
   "metadata": {},
   "outputs": [
    {
     "name": "stdout",
     "output_type": "stream",
     "text": [
      "[]\n",
      "[ { id: 1, name: 'John' } ]\n"
     ]
    }
   ],
   "source": [
    "const execute = (dispatch, reducer, action) => dispatch((state) => reducer(state, action))\n",
    "const [dispatch, getData] = createGetAndDispatch([])\n",
    "console.log(getData())\n",
    "execute(dispatch, addRow, {row: {'id': 1, 'name': 'John'}})\n",
    "console.log(getData())"
   ]
  },
  {
   "cell_type": "code",
   "execution_count": null,
   "id": "5f0e39e0-da14-4c7a-92df-5711e5aa424a",
   "metadata": {},
   "outputs": [],
   "source": []
  },
  {
   "cell_type": "code",
   "execution_count": 15,
   "id": "bc2249e8-45da-43ab-82ce-1d19c87b2410",
   "metadata": {},
   "outputs": [
    {
     "name": "stderr",
     "output_type": "stream",
     "text": [
      "9:9 - Cannot find name 'arguments'.\n",
      "12:21 - Cannot find name 'arguments'.\n",
      "22:21 - Cannot find name 'arguments'.\n",
      "30:9 - Cannot find name 'arguments'.\n"
     ]
    }
   ],
   "source": [
    "/**\n",
    " * This is a special function which can be called partially.\n",
    " * If a parameter is missing, the function is returned to gather missing parameters. And this behaviour is chained.\n",
    " * dispatch is expected being a function, order of the reducer and the action parameters can be swapped. \n",
    " * Swapping is detected by type check as action should not be a function.\n",
    " */ \n",
    "const execute = (dispatch, reducer, action) => {\n",
    "    //it is supposed that dispatch is always a function\n",
    "    if (arguments.length === 1) {\n",
    "        return (reducer, action) => {\n",
    "            if (typeof reducer === \"function\") {\n",
    "                if (arguments.length === 1) {\n",
    "                    return (action) => (state) => dispatch(reducer(state, action))\n",
    "                } else {\n",
    "                    return (state) => dispatch(reducer(state, action))\n",
    "                }\n",
    "            } else {\n",
    "                //type of second parameters is not function, it is an action (dictionary type?)\n",
    "                //reducer and action parameters are swapped\n",
    "                const localAction = reducer\n",
    "                const localReducer = action\n",
    "                if (arguments.length === 1) {\n",
    "                    return (reducer) => (state) => dispatch(reducer(state, localAction))\n",
    "                } else {\n",
    "                    return (state) => dispatch(localReducer(state, localAction))\n",
    "                }\n",
    "            }\n",
    "        }\n",
    "    }\n",
    "    if (arguments.length === 2) {\n",
    "        if (typeof reducer === \"function\") {\n",
    "            // we miss an action\n",
    "            return (action) => (state) => dispatch(reducer(state, action))\n",
    "        } else {\n",
    "            //we miss a reducer\n",
    "            const localAction = reducer\n",
    "            return (reducer) => (state) => dispatch(reducer(state, localAction))\n",
    "        }\n",
    "    } else {\n",
    "        if (typeof reducer === \"function\") {\n",
    "            //reducer is a function\n",
    "            return (state) => dispatch(reducer(state, action))\n",
    "        } else {\n",
    "            //reducer and action are swapped\n",
    "            const localAction = reducer\n",
    "            const localReducer = action\n",
    "            return (state) => dispatch(localReducer(state, localAction))\n",
    "        }\n",
    "    }\n",
    "}"
   ]
  },
  {
   "cell_type": "code",
   "execution_count": null,
   "id": "42044072-f0b6-4475-a26c-955f77fd3d96",
   "metadata": {},
   "outputs": [],
   "source": []
  }
 ],
 "metadata": {
  "kernelspec": {
   "display_name": "JavaScript",
   "language": "javascript",
   "name": "jslab"
  },
  "language_info": {
   "file_extension": ".js",
   "mimetype": "text/javascript",
   "name": "javascript",
   "version": ""
  }
 },
 "nbformat": 4,
 "nbformat_minor": 5
}
