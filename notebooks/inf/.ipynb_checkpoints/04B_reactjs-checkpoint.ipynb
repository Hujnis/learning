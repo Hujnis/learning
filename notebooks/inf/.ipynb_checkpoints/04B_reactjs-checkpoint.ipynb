{
 "cells": [
  {
   "cell_type": "markdown",
   "id": "c4266476-a870-459b-b6bb-2d7a5af0e18a",
   "metadata": {},
   "source": [
    "# JSX / React"
   ]
  },
  {
   "cell_type": "markdown",
   "id": "e53a5902-5a06-4bc4-9d72-3b6c75775189",
   "metadata": {},
   "source": [
    "JSX je extension, který do jazyka přinesl React. JSX umožňuje psát částo kódu jako by se jednalo o HTML kód. Mezi tagy HTML je možné do složených závorek vložit Javascriptový kód.\n",
    "JSX vyžaduje, aby tagy byly uzavřeny. Javascript překládá JSX do objektu, jehož prvkem může být funkce."
   ]
  },
  {
   "cell_type": "markdown",
   "id": "070d610c-cc1e-4689-95e0-e4aa305e8b33",
   "metadata": {},
   "source": [
    "## Pomocné prvky"
   ]
  },
  {
   "cell_type": "markdown",
   "id": "fbc98821-d46d-498c-bf8a-4cf972645aa4",
   "metadata": {},
   "source": [
    "Pro řádné fungování následující části je nezbytné, aby byly instalovány knihovny react a react-dom. Knihovny nainstalujete spuštěním následujících příkazů na příkazovém řádku v příslušném kontejneru. Instalaci lze provést i prostřednictvím terminálu v jupyteru.\n",
    "```\n",
    "npm install react\n",
    "npm install react-dom\n",
    "```\n",
    "\n",
    "> Pozor, nespouštět s přepínačem `-g`, nebylo by funkční."
   ]
  },
  {
   "cell_type": "markdown",
   "id": "57d24140-6084-4708-abd2-4afbae3dc71f",
   "metadata": {},
   "source": [
    "Následující funkce `DisplayReact` usnadní demonstraci některých principů v tomto notebooku. Očekávaný parametrem této funkce je komponenta."
   ]
  },
  {
   "cell_type": "code",
   "execution_count": 2,
   "id": "582c0ada-f173-4e99-98cd-947ee7b1b72c",
   "metadata": {},
   "outputs": [],
   "source": [
    "import ReactDOMServer from 'react-dom/server';\n",
    "import * as tslab from 'tslab';\n",
    "\n",
    "function DisplayReact(element) {\n",
    "    const html = ReactDOMServer.renderToString(element);\n",
    "    tslab.display.html(html);\n",
    "}"
   ]
  },
  {
   "cell_type": "markdown",
   "id": "c23c00f4-f41f-408b-9f23-4b3098e8667d",
   "metadata": {},
   "source": [
    "Demonstrace použití funkce `DisplayReact`."
   ]
  },
  {
   "cell_type": "code",
   "execution_count": 4,
   "id": "36d287ab-82f4-4b31-9fcd-2be46b0f5541",
   "metadata": {},
   "outputs": [
    {
     "data": {
      "text/html": [
       "<div><hr/>Hello <!-- -->World<hr/></div>"
      ]
     },
     "metadata": {},
     "output_type": "display_data"
    }
   ],
   "source": [
    "import React from 'react';\n",
    "\n",
    "const Hello = (props) => <div><hr />Hello {props.name}<hr /></div>;\n",
    "DisplayReact(<Hello name='World' />);"
   ]
  },
  {
   "cell_type": "markdown",
   "id": "436e38ac-8b2c-4c94-952d-48e2f1780f6a",
   "metadata": {},
   "source": [
    "## Rychlý rozbor výstupů funkcí"
   ]
  },
  {
   "cell_type": "markdown",
   "id": "8f0f801b-7df7-4929-8c98-928264993ed5",
   "metadata": {},
   "source": [
    "Komponenta v reactjs je definována jako funkce. Je možné definovat komponentu jako třídu. Je silně doporučováno definovat komponenty jako funkce. Nutnost definovat vnitřní stav komponenty (případně další skutečnosti) je možno realizovat pomocí tzv hooks.\n",
    "\n",
    "Je vhodné vědět, co vlastně funkce vrací. Níže je ukázáno, že se jedná o speciální datovou strukturu."
   ]
  },
  {
   "cell_type": "code",
   "execution_count": 5,
   "id": "2b4ac855-65ec-4605-8f0f-14aeb19fe656",
   "metadata": {},
   "outputs": [
    {
     "name": "stdout",
     "output_type": "stream",
     "text": [
      "{\n",
      "  '$$typeof': Symbol(react.element),\n",
      "  type: 'div',\n",
      "  key: null,\n",
      "  ref: null,\n",
      "  props: { children: [ 'Hello ', 'Hrbolek' ] },\n",
      "  _owner: null,\n",
      "  _store: {}\n",
      "}\n"
     ]
    }
   ],
   "source": [
    "import React from 'react';\n",
    "\n",
    "const NameElement = (props) =>\n",
    "    <div>Hello {props.name ? props.name : ''}</div>;\n",
    "\n",
    "console.log(NameElement({name: 'Hrbolek'}));"
   ]
  },
  {
   "cell_type": "markdown",
   "id": "abce4133-dad0-40c5-a437-67b984d41d28",
   "metadata": {},
   "source": [
    "V případě, kdy použijeme výraz, dostaneme odlišný výsledek. Tento výsledek lze chápat jako lazy value."
   ]
  },
  {
   "cell_type": "code",
   "execution_count": 6,
   "id": "f5a95ef4-674e-4c0a-8adb-a5446c01b006",
   "metadata": {},
   "outputs": [
    {
     "name": "stdout",
     "output_type": "stream",
     "text": [
      "{\n",
      "  '$$typeof': Symbol(react.element),\n",
      "  type: [Function: NameElement],\n",
      "  key: null,\n",
      "  ref: null,\n",
      "  props: { name: 'Hrbolek' },\n",
      "  _owner: null,\n",
      "  _store: {}\n",
      "}\n"
     ]
    }
   ],
   "source": [
    "import React from 'react';\n",
    "\n",
    "const htmlElement = <NameElement name='Hrbolek'/>;\n",
    "console.log(htmlElement);"
   ]
  },
  {
   "cell_type": "markdown",
   "id": "1baf9b56-5ffc-4891-b9e9-0d8ae619ef1c",
   "metadata": {},
   "source": [
    "Pro získání výstupu je nutné \"převést lazy value na value\". Toto lze udělat voláním funkce, která lazy value představuje."
   ]
  },
  {
   "cell_type": "code",
   "execution_count": 12,
   "id": "3854fa10-830c-4436-a3bf-5205bdf57133",
   "metadata": {},
   "outputs": [
    {
     "name": "stdout",
     "output_type": "stream",
     "text": [
      "{\n",
      "  '$$typeof': Symbol(react.element),\n",
      "  type: 'div',\n",
      "  key: null,\n",
      "  ref: null,\n",
      "  props: { children: [ 'Hello ', 'Hrbolek' ] },\n",
      "  _owner: null,\n",
      "  _store: {}\n",
      "}\n"
     ]
    }
   ],
   "source": [
    "import React from 'react';\n",
    "\n",
    "const htmlElement = <NameElement name='Hrbolek'/>;\n",
    "const result = htmlElement.type(htmlElement.props)\n",
    "console.log(result);"
   ]
  },
  {
   "cell_type": "markdown",
   "id": "7f4b9f4b-4127-4b4d-94dd-65ab16e57836",
   "metadata": {},
   "source": [
    "Dříve definovaná funkce `DisplayReact` si dokáže poradit s oběma typy výstupů. V případě, kdy je předaná lazy value, je nejdříve provedeno vyhodnocení. Funkce `DisplayReact` toto zabezpečuje voláním funkce `ReactDOMServer.renderToString`. V případě, kdy se provádí vizualizace na klientovi (prohlížeč), používá se jiná funkce, která zabezpečuje synchronizaci s aktuálně zobrazeným DOM (document object model)."
   ]
  },
  {
   "cell_type": "code",
   "execution_count": 14,
   "id": "96b1ce02-4de9-42bf-aab3-542b285afd4b",
   "metadata": {},
   "outputs": [
    {
     "data": {
      "text/html": [
       "<div>Hello <!-- -->Hrbolek</div>"
      ]
     },
     "metadata": {},
     "output_type": "display_data"
    },
    {
     "data": {
      "text/html": [
       "<div>Hello <!-- -->Hrbolek</div>"
      ]
     },
     "metadata": {},
     "output_type": "display_data"
    }
   ],
   "source": [
    "DisplayReact(result)\n",
    "DisplayReact(htmlElement)"
   ]
  },
  {
   "cell_type": "markdown",
   "id": "c83868f2-1da9-4f3e-8892-0308b5ef6cac",
   "metadata": {},
   "source": [
    "## Parametry pro komponenty"
   ]
  },
  {
   "cell_type": "markdown",
   "id": "8c961c9a-f20f-4ae2-8764-046a4152c4ad",
   "metadata": {},
   "source": [
    "Komponenta má jediný parametr a ten bývá formálně pojmenováván jako `props`. V případě, kdy je komponenta použita (ekvivalent html), je struktura `props` odvozena od atributů (`id={2}`)."
   ]
  },
  {
   "cell_type": "code",
   "execution_count": 15,
   "id": "4bab4fd0-b5bd-4a2a-87e0-8a8149118ea1",
   "metadata": {},
   "outputs": [
    {
     "data": {
      "text/html": [
       "<div>Page <!-- -->2</div>"
      ]
     },
     "metadata": {},
     "output_type": "display_data"
    }
   ],
   "source": [
    "import React from 'react';\n",
    "\n",
    "const Page = (props) => <div>Page {props.id}</div>;\n",
    "DisplayReact(<Page id={2} />);"
   ]
  },
  {
   "cell_type": "markdown",
   "id": "cd00be9e-21b4-490f-b608-689626a10c1e",
   "metadata": {},
   "source": [
    "Toto platí i v případě, kdy je atributů více."
   ]
  },
  {
   "cell_type": "code",
   "execution_count": 16,
   "id": "587b5789-1966-4c56-8c28-bb45bb78a346",
   "metadata": {},
   "outputs": [
    {
     "data": {
      "text/html": [
       "<div>John<!-- --> <!-- -->Winkl</div>"
      ]
     },
     "metadata": {},
     "output_type": "display_data"
    }
   ],
   "source": [
    "import React from 'react';\n",
    "\n",
    "const UserSmall = (props) => <div>{props.name} {props.surname}</div>;\n",
    "DisplayReact(<UserSmall name='John' surname='Winkl' />);"
   ]
  },
  {
   "cell_type": "markdown",
   "id": "3b60b701-001d-40ce-9064-7f4d6eae032d",
   "metadata": {},
   "source": [
    "Speciálním případem je skutečnost, kdy komponenta obaluje další komponenty. Tyto vnořené komponenty jsou uloženy v `props.children`. Tato skutečnost umožňuje provádět kompozici komponent a řešit tím celou řadu problémů."
   ]
  },
  {
   "cell_type": "code",
   "execution_count": 18,
   "id": "bc78b4e8-587d-4a7c-99ae-de57dcf3b1c5",
   "metadata": {},
   "outputs": [
    {
     "data": {
      "text/html": [
       "<div><hr/><div>Page <!-- -->2</div><hr/></div>"
      ]
     },
     "metadata": {},
     "output_type": "display_data"
    }
   ],
   "source": [
    "import React from 'react';\n",
    "\n",
    "const Container = (props) => <div><hr />{props.children}<hr /></div>;\n",
    "DisplayReact(<Container><Page id={2} /></Container>);"
   ]
  },
  {
   "cell_type": "markdown",
   "id": "697284cc-78f5-42fe-903b-50cf221aa5cc",
   "metadata": {},
   "source": [
    "Prostřednictvím `props` je možné předat funkci, případně komplecní datové struktury či cokoliv, co může být v jazyku Javascript uloženo do proměnné. Funkce je demonstrována níže."
   ]
  },
  {
   "cell_type": "code",
   "execution_count": 20,
   "id": "a826fad3-0d80-4cb4-bcab-64117c9d9c76",
   "metadata": {},
   "outputs": [
    {
     "data": {
      "text/html": [
       "<div>AX</div>"
      ]
     },
     "metadata": {},
     "output_type": "display_data"
    }
   ],
   "source": [
    "import React from 'react';\n",
    "\n",
    "const addX = (value) => value + 'X';\n",
    "\n",
    "const Visualiser = (props) => <div>{props.func(props.data)}</div>;\n",
    "DisplayReact(<Visualiser data={'A'} func={addX}/>);"
   ]
  },
  {
   "cell_type": "markdown",
   "id": "0854c985-085b-4070-977b-82ac30916c5b",
   "metadata": {},
   "source": [
    "Funkce představující komponentu nemusí být jen \"arrow function\". Je možné syntakticky použít všechny funkce."
   ]
  },
  {
   "cell_type": "code",
   "execution_count": 23,
   "id": "7a126735-c9b9-4612-9109-17ba40347f6e",
   "metadata": {},
   "outputs": [
    {
     "data": {
      "text/html": [
       "<div>A</div>"
      ]
     },
     "metadata": {},
     "output_type": "display_data"
    }
   ],
   "source": [
    "import React from 'react';\n",
    "\n",
    "function Visualiser(props) {\n",
    "    return <div>{props.data}</div>;\n",
    "}\n",
    "\n",
    "DisplayReact(<Visualiser data={'A'} />);"
   ]
  },
  {
   "cell_type": "markdown",
   "id": "5fb9618c-336b-4a36-b763-44f9f77928c1",
   "metadata": {},
   "source": [
    "## Strukturalizace webové stránky v ReactJS"
   ]
  },
  {
   "cell_type": "markdown",
   "id": "424bc9f9-0aea-4f76-9048-48c975f28930",
   "metadata": {},
   "source": [
    "### Layout"
   ]
  },
  {
   "cell_type": "markdown",
   "id": "ce7f05cb-7af5-4b58-864b-b96496db47a9",
   "metadata": {},
   "source": [
    "Velmi často má webová aplikace společný layout. Typicky je součástí tohoto layoutu menu."
   ]
  },
  {
   "cell_type": "code",
   "execution_count": 24,
   "id": "3914870b-d59d-4e41-b907-7d4eea89f7ad",
   "metadata": {},
   "outputs": [
    {
     "data": {
      "text/html": [
       "<div><hr/>Menu<hr/> <hr/></div>"
      ]
     },
     "metadata": {},
     "output_type": "display_data"
    }
   ],
   "source": [
    "import React from 'react';\n",
    "\n",
    "function Layout(props) {\n",
    "    return <div><hr />Menu<hr />{props.children} <hr/></div>;\n",
    "}\n",
    "\n",
    "DisplayReact(<Layout />);"
   ]
  },
  {
   "cell_type": "markdown",
   "id": "331fc677-1618-48de-bcdb-8c062ff5a237",
   "metadata": {},
   "source": [
    "### Container"
   ]
  },
  {
   "cell_type": "markdown",
   "id": "caad0046-25d5-45c3-8d42-9cf0e01e19bb",
   "metadata": {},
   "source": [
    "Dalším prvkem je kontejner, do kterého se vkládá vlastní obsah stránky."
   ]
  },
  {
   "cell_type": "code",
   "execution_count": 31,
   "id": "8420025e-b7e5-4190-ab0f-bc43c7a86218",
   "metadata": {},
   "outputs": [
    {
     "data": {
      "text/html": [
       "<div><hr/>Menu<hr/><div style=\"background-color:#c6ecc6\">Hello World<!-- --> </div> <hr/></div>"
      ]
     },
     "metadata": {},
     "output_type": "display_data"
    }
   ],
   "source": [
    "import React from 'react';\n",
    "\n",
    "function Container(props) {\n",
    "    return <div style={{'backgroundColor': '#c6ecc6'}}>{props.children} </div>;\n",
    "}\n",
    "\n",
    "DisplayReact(<Layout><Container>Hello World</Container></Layout>);"
   ]
  },
  {
   "cell_type": "markdown",
   "id": "2f1d8322-103c-459d-bbaa-b24e9ae0827e",
   "metadata": {},
   "source": [
    "### Elementární datové prvky"
   ]
  },
  {
   "cell_type": "markdown",
   "id": "3327775b-fa83-485d-85d8-e5e010d696f2",
   "metadata": {},
   "source": [
    "Uživatel chce, aby na stránce, která mu poskytuje informace, byly jednotlivé prvky, o kterých je na stránce zmínka, provázány na jiné stránky, které k těmto prvků poskytují komplexní popis (informace o skupině - member - informace o uživateli).\n",
    "\n",
    "Takové prvky je vhodné vytvářet ve formě komponent a jejich obsah upravovat v souladu s potřebou směrovat v uživatelském prostředí navigaci na \"cílovou informaci\". V implementaci níže by bylo vhodné do prvku `<a />`, doplnit atribut href, který by zabezpečil požadované navedení."
   ]
  },
  {
   "cell_type": "code",
   "execution_count": 45,
   "id": "012c9138-7f62-41c8-a099-aa095867ddbf",
   "metadata": {},
   "outputs": [
    {
     "data": {
      "text/html": [
       "<div><hr/>Menu<hr/><div style=\"background-color:#c6ecc6\"><a>John<!-- --> <!-- -->Winkl</a> </div> <hr/></div>"
      ]
     },
     "metadata": {},
     "output_type": "display_data"
    }
   ],
   "source": [
    "import React from 'react';\n",
    "\n",
    "function UserSmall(props) {\n",
    "    return <a>{props.name} {props.surname}</a>;\n",
    "}\n",
    "\n",
    "DisplayReact(\n",
    "    (\n",
    "    <Layout>\n",
    "        <Container>\n",
    "            <UserSmall name={'John'} surname={'Winkl'} />\n",
    "        </Container>\n",
    "    </Layout>\n",
    "));"
   ]
  },
  {
   "cell_type": "markdown",
   "id": "467778ac-a3c7-45ab-a30c-df9d0dc6c518",
   "metadata": {},
   "source": [
    "Níže uvedená komponenta slouží ke zobrazení seznamu (user list). Všimněte si použití metody `map` u datového typu `Array` pro vytvoření vizuálních prvků."
   ]
  },
  {
   "cell_type": "code",
   "execution_count": 47,
   "id": "705280db-c3c6-4075-9739-13fb5c7f22de",
   "metadata": {},
   "outputs": [
    {
     "data": {
      "text/html": [
       "<div><hr/>Menu<hr/><div style=\"background-color:#c6ecc6\"><ul><li><a>John<!-- --> <!-- -->Winkl</a><br/></li><li><a>Peter<!-- --> <!-- -->Wild</a><br/></li><li><a>Will<!-- --> <!-- -->Sword</a><br/></li></ul> </div> <hr/></div>"
      ]
     },
     "metadata": {},
     "output_type": "display_data"
    }
   ],
   "source": [
    "import React from 'react';\n",
    "\n",
    "function UserList(props) {\n",
    "    return (<ul>{props.members.map(\n",
    "               (user, index) => (\n",
    "                    <li key={index}>\n",
    "                        <UserSmall key={1} {...user} />\n",
    "                        <br key={'b'}/>\n",
    "                    </li>)\n",
    "               )}</ul>)\n",
    "}\n",
    "\n",
    "const members = [\n",
    "    {'name': 'John', 'surname': 'Winkl'},\n",
    "    {'name': 'Peter', 'surname': 'Wild'},\n",
    "    {'name': 'Will', 'surname': 'Sword'}\n",
    "]\n",
    "\n",
    "DisplayReact(\n",
    "    (\n",
    "    <Layout>\n",
    "        <Container>\n",
    "            <UserList members={members} />\n",
    "        </Container>\n",
    "    </Layout>\n",
    "));"
   ]
  },
  {
   "cell_type": "markdown",
   "id": "cbbc58ba-05e7-4bf5-bbac-f320dca375bf",
   "metadata": {},
   "source": [
    "Složitou komponentu (`DepartmentLarge`) je vhodné rozložit do menších komponent (`DepartmentMembers`, `DepartmentTitle`). Tímto rozkladem jednak zvyšujeme čitelnost výsledného kódu a jednak zabezpečujeme vyšší flexibilitu při vývoji uživatelského rozhraní."
   ]
  },
  {
   "cell_type": "code",
   "execution_count": 48,
   "id": "2f58fa43-ebec-4df7-8cf2-ad66acd1731d",
   "metadata": {},
   "outputs": [
    {
     "data": {
      "text/html": [
       "<div><hr/>Menu<hr/><div style=\"background-color:#c6ecc6\"><b>Name</b><br/>KIT<br/><b>Member List</b><br/><ul><li><a>John<!-- --> <!-- -->Winkl</a><br/></li><li><a>Peter<!-- --> <!-- -->Wild</a><br/></li><li><a>Will<!-- --> <!-- -->Sword</a><br/></li></ul><br/> </div> <hr/></div>"
      ]
     },
     "metadata": {},
     "output_type": "display_data"
    }
   ],
   "source": [
    "import React from 'react';\n",
    "\n",
    "const DeparmentTitle = (props) => (\n",
    "    <>\n",
    "        <b>Name</b><br />\n",
    "        {props.name}<br />\n",
    "    </>\n",
    ")\n",
    "\n",
    "const DeparmentMembers = (props) => (\n",
    "    <>\n",
    "        <b>Member List</b><br />\n",
    "        <UserList {...props} /><br />\n",
    "    </>\n",
    ")\n",
    "\n",
    "function DeparmentLarge(props) {\n",
    "    return (\n",
    "        <>\n",
    "            <DeparmentTitle {...props} />\n",
    "            <DeparmentMembers {...props} />\n",
    "        </>);\n",
    "}\n",
    "\n",
    "DisplayReact(\n",
    "    (\n",
    "    <Layout>\n",
    "        <Container>\n",
    "            <DeparmentLarge name={'KIT'} members={members} />\n",
    "        </Container>\n",
    "    </Layout>\n",
    "));"
   ]
  },
  {
   "cell_type": "markdown",
   "id": "f2ae9b99-6171-4736-bd81-dbf5980e0827",
   "metadata": {},
   "source": [
    "### Stories a final"
   ]
  },
  {
   "cell_type": "markdown",
   "id": "8588ccfe-1285-4a46-8f1f-8e6ff2c1fa4a",
   "metadata": {},
   "source": [
    "Existují nástroje, s jejichž pomocí lze vytvářet katalogy komponent (`Story book`). Zajistit si komponentu (`DepartmentStoryBook`), která může do tohot katalogu být zařazena a která současně poskytuje implicitní datové struktury pro vizualizaci vnořených komponent, lze považovat za dobrou praxi.\n",
    "\n",
    "Komunikaci se serverem je nutné zajistit (v nejjedodušší variantě) pomocí `useState` a `useEffect`, což jsou tzv. hooks, které slouží k provedení asynchronního kódu a uložení výsledku (result of `fetch`). Tato komunikace je zapouzdřena v komponentě `DepartmentFecthing`. Pozor, vlastní `fetch` (obsah `useEffect`) zde není implementován.\n",
    "\n",
    "Komponenta `DepartmentPage` poslouží v případě, že jsou používány technologie `router` pro single page application, či podobné."
   ]
  },
  {
   "cell_type": "code",
   "execution_count": 44,
   "id": "023aa358-dea1-4d58-bac3-bce9f08fee62",
   "metadata": {},
   "outputs": [
    {
     "data": {
      "text/html": [
       "<div><hr/>Menu<hr/><div style=\"background-color:#c6ecc6\"><b>Name</b><br/>KIT<br/><b>Member List</b><br/>John<!-- --> <!-- -->Winkl<br/>Peter<!-- --> <!-- -->Wild<br/>Will<!-- --> <!-- -->Sword<br/><br/> </div> <hr/></div>"
      ]
     },
     "metadata": {},
     "output_type": "display_data"
    }
   ],
   "source": [
    "import React from 'react';\n",
    "import { useState, useEffect } from \"react\";\n",
    "\n",
    "const DeparmentStoryBook = (props) => {\n",
    "    const extraProps = {\n",
    "        'name': 'KIT',\n",
    "        'members': [\n",
    "            {'name': 'John', 'surname': 'Winkl'},\n",
    "            {'name': 'Peter', 'surname': 'Wild'},\n",
    "            {'name': 'Will', 'surname': 'Sword'}        \n",
    "        ]\n",
    "    }\n",
    "    return <DeparmentLarge {...extraProps} {...props} />\n",
    "}\n",
    "    \n",
    "const DepartmentFetching = (props) => {\n",
    "    const [state, setState] = useState(props);\n",
    "    useEffect(\n",
    "        () => {}, [props.id]);\n",
    "    return <DeparmentStoryBook {...state} />\n",
    "}\n",
    "    \n",
    "const DepartmentPage = (props) => {\n",
    "    return <DepartmentFetching id={3} />\n",
    "}\n",
    "    \n",
    "DisplayReact(\n",
    "    (\n",
    "    <Layout>\n",
    "        <Container>\n",
    "            <DepartmentPage />\n",
    "        </Container>\n",
    "    </Layout>\n",
    "));"
   ]
  },
  {
   "cell_type": "markdown",
   "id": "f7ab9efe-6f6e-45d9-ad5e-b88c52915707",
   "metadata": {},
   "source": [
    "## Cvičení"
   ]
  },
  {
   "cell_type": "markdown",
   "id": "7d63a225-5072-4ba2-b493-4000c8f31152",
   "metadata": {},
   "source": [
    "Inspirujte se následující komponentou a upravte předcházející s cílem vizuálně oddělit jednotlivé prvky stránky zobrazující informace o skupině."
   ]
  },
  {
   "cell_type": "code",
   "execution_count": 58,
   "id": "e0164b7d-3379-4957-930c-7fb4a5ea5c26",
   "metadata": {},
   "outputs": [
    {
     "data": {
      "text/html": [
       "<div style=\"background-color:#ff8c1a\"><br/></div><div style=\"background-color:#ffcc99\">Hello<br/></div><div style=\"background-color:#ff8c1a\"><br/></div>"
      ]
     },
     "metadata": {},
     "output_type": "display_data"
    }
   ],
   "source": [
    "import React from 'react';\n",
    "\n",
    "const ColorBar = (props) => <div style={{'backgroundColor': props.color}}>{props.children}<br/></div>\n",
    "\n",
    "DisplayReact(\n",
    "    (\n",
    "    <>\n",
    "        <ColorBar color='#ff8c1a'/>\n",
    "        <ColorBar color='#ffcc99'>Hello</ColorBar>\n",
    "        <ColorBar color='#ff8c1a'/>\n",
    "    </>)\n",
    ")"
   ]
  },
  {
   "cell_type": "code",
   "execution_count": null,
   "id": "c39ec749-eba9-45fc-8bb9-1385ff88b736",
   "metadata": {},
   "outputs": [],
   "source": []
  }
 ],
 "metadata": {
  "kernelspec": {
   "display_name": "JavaScript",
   "language": "javascript",
   "name": "jslab"
  },
  "language_info": {
   "file_extension": ".js",
   "mimetype": "text/javascript",
   "name": "javascript",
   "version": ""
  }
 },
 "nbformat": 4,
 "nbformat_minor": 5
}
