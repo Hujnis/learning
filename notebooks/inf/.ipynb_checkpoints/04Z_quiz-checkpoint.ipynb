{
 "cells": [
  {
   "cell_type": "markdown",
   "id": "3a1c6ec6-545e-46fd-9942-513cde4ef7ec",
   "metadata": {},
   "source": [
    "# Kvíz"
   ]
  },
  {
   "cell_type": "markdown",
   "id": "165808da-6ee9-41d0-8c39-78a6190bf6f2",
   "metadata": {},
   "source": [
    "## Pokročilé prvky jazyka Javascript"
   ]
  },
  {
   "cell_type": "markdown",
   "id": "590e6026-6698-459d-bf7a-df05cfdff09f",
   "metadata": {},
   "source": [
    "### Změna tvaru parametru"
   ]
  },
  {
   "cell_type": "markdown",
   "id": "0e256f34-1da7-478c-9472-933c8ee405f1",
   "metadata": {},
   "source": [
    "**Zadání**\n",
    "\n",
    "V následujícímu kódu dodefinujte funkci `onChangeEx`, která má zabezpečit změnu `currentItem` prostřednictvím volání funkce `onChangeItem`, s parametrem `newName`. Funkce `onChangeEx` má parametr `newName`, který definuje novou požadovanou hodnotu `currentItem`."
   ]
  },
  {
   "cell_type": "code",
   "execution_count": 1,
   "id": "375b54fa-f2cf-4d5e-af13-562347e52d9a",
   "metadata": {},
   "outputs": [],
   "source": [
    "let currentItem = {name: 'Unknown'}\n",
    "const changeItemReceiver = (item) => currentItem = item\n",
    "\n",
    "const onChangeItem = (item) => changeItemReceiver(item)\n",
    "\n",
    "//const onChangeEx = (name)"
   ]
  },
  {
   "cell_type": "markdown",
   "id": "160ebad1-54de-493c-8eb4-c18df765341e",
   "metadata": {},
   "source": [
    "**Řešení**"
   ]
  },
  {
   "cell_type": "code",
   "execution_count": 2,
   "id": "0053104d-c9c1-41a2-97c8-e306bfa9b9a6",
   "metadata": {},
   "outputs": [
    {
     "name": "stdout",
     "output_type": "stream",
     "text": [
      "{ name: 'Unknown' }\n",
      "{ name: 'Me' }\n"
     ]
    }
   ],
   "source": [
    "let currentItem = {name: 'Unknown'}\n",
    "const changeItemReceiver = (item) => currentItem = item\n",
    "\n",
    "const onChangeItem = (item) => changeItemReceiver(item)\n",
    "\n",
    "const onChangeEx = (newName) => onChangeItem({name: newName})\n",
    "\n",
    "console.log(currentItem)\n",
    "onChangeEx('Me')\n",
    "console.log(currentItem)"
   ]
  },
  {
   "cell_type": "markdown",
   "id": "6e6493db-4d81-4750-a41c-93d07ee67e8f",
   "metadata": {},
   "source": [
    "### Odstranění parametru funkce - fixace parametru"
   ]
  },
  {
   "cell_type": "markdown",
   "id": "2eb3df4a-7ad1-4db1-941c-63d601f438a6",
   "metadata": {},
   "source": [
    "**Zadání**\n",
    "\n",
    "V následujícímu kódu dodefinujte funkci `onChangeMe`, při jejímž volání je volána funkce `onChangeItem`, s parametrem nabývajícím hodnoty `me`. Funkce `onChangeMe` nechť je bezparametrickou funkcí."
   ]
  },
  {
   "cell_type": "code",
   "execution_count": 3,
   "id": "3474ab05-9dd3-48cb-b407-8ba78f9ca837",
   "metadata": {},
   "outputs": [],
   "source": [
    "let currentItem = {}\n",
    "const changeItemReceiver = (item) => currentItem = item\n",
    "\n",
    "const onChangeItem = (item) => changeItemReceiver(item)\n",
    "\n",
    "const me = {name: 'Me'}\n",
    "//const onChangeMe = "
   ]
  },
  {
   "cell_type": "markdown",
   "id": "a471f1ef-ee55-4521-ba1a-971fae89bef1",
   "metadata": {},
   "source": [
    "**Řešení**"
   ]
  },
  {
   "cell_type": "code",
   "execution_count": 4,
   "id": "dad130fd-9c00-46c9-a150-5e75ccdc5e9e",
   "metadata": {},
   "outputs": [
    {
     "name": "stdout",
     "output_type": "stream",
     "text": [
      "{ name: 'Unknown' }\n",
      "{ name: 'Me' }\n"
     ]
    }
   ],
   "source": [
    "let currentItem = {name: 'Unknown'}\n",
    "const changeItemReceiver = (item) => currentItem = item\n",
    "\n",
    "const onChangeItem = (item) => changeItemReceiver(item)\n",
    "\n",
    "const me = {name: 'Me'}\n",
    "const onChangeMe = () => onChangeItem(me)\n",
    "\n",
    "console.log(currentItem)\n",
    "onChangeMe()\n",
    "console.log(currentItem)"
   ]
  },
  {
   "cell_type": "markdown",
   "id": "d1dade9e-79e0-4be9-9004-967309f649df",
   "metadata": {},
   "source": [
    "### Promise"
   ]
  },
  {
   "cell_type": "code",
   "execution_count": 5,
   "id": "48518fad-2173-4483-b261-40e9c33e3dae",
   "metadata": {},
   "outputs": [],
   "source": [
    "const readFromServer = (query) => {\n",
    "    const fakeServerData = [\n",
    "        {id: 0, name: 'John'},\n",
    "        {id: 1, name: 'Julia'},\n",
    "    ]\n",
    "    return new Promise((resolve, reject) => {\n",
    "        resolve(fakeServerData)\n",
    "    })\n",
    "}"
   ]
  },
  {
   "cell_type": "code",
   "execution_count": 6,
   "id": "d8fc6555-50bf-4313-b89a-8acef626f99e",
   "metadata": {},
   "outputs": [
    {
     "name": "stdout",
     "output_type": "stream",
     "text": [
      "Promise { <pending> }\n",
      "[ { id: 0, name: 'John' }, { id: 1, name: 'Julia' } ]\n"
     ]
    }
   ],
   "source": [
    "readFromServer().then(data => console.log(data))"
   ]
  },
  {
   "cell_type": "code",
   "execution_count": 7,
   "id": "161c7a2a-02da-4bc8-ac70-0acf086fc210",
   "metadata": {},
   "outputs": [
    {
     "name": "stdout",
     "output_type": "stream",
     "text": [
      "[ { id: 0, name: 'John' }, { id: 1, name: 'Julia' } ]\n"
     ]
    }
   ],
   "source": [
    "const awaitedResult = await readFromServer()\n",
    "console.log(awaitedResult)"
   ]
  },
  {
   "cell_type": "code",
   "execution_count": 8,
   "id": "1922a482-0e92-4b7c-8dcd-16cefa8142dd",
   "metadata": {},
   "outputs": [],
   "source": [
    "const readFromServer = async (query) => {\n",
    "    const fakeServerData = [\n",
    "        {id: 0, name: 'John'},\n",
    "        {id: 1, name: 'Julia'},\n",
    "    ]\n",
    "    return fakeServerData\n",
    "}"
   ]
  },
  {
   "cell_type": "code",
   "execution_count": 9,
   "id": "506f5890-eb77-4986-9f26-0b2727a1c97b",
   "metadata": {},
   "outputs": [
    {
     "name": "stdout",
     "output_type": "stream",
     "text": [
      "Promise { <pending> }\n",
      "[ { id: 0, name: 'John' }, { id: 1, name: 'Julia' } ]\n"
     ]
    }
   ],
   "source": [
    "readFromServer().then(data => console.log(data))"
   ]
  },
  {
   "cell_type": "code",
   "execution_count": 10,
   "id": "d8780f70-756e-4730-92ba-c9d6ab86e899",
   "metadata": {},
   "outputs": [
    {
     "name": "stdout",
     "output_type": "stream",
     "text": [
      "[ { id: 0, name: 'John' }, { id: 1, name: 'Julia' } ]\n"
     ]
    }
   ],
   "source": [
    "const awaitedResult = await readFromServer()\n",
    "console.log(awaitedResult)"
   ]
  },
  {
   "cell_type": "markdown",
   "id": "349ada1a-9b12-45fb-b941-5dec99d96e03",
   "metadata": {},
   "source": [
    "## Stavové funkce a koncept Redux"
   ]
  },
  {
   "cell_type": "markdown",
   "id": "03cdcff5-6c42-4499-92e4-46f2c1622904",
   "metadata": {},
   "source": [
    "### Koncept Immutable"
   ]
  },
  {
   "cell_type": "markdown",
   "id": "1c9ee8b0-3cc8-4bed-a591-dc05eb630dd5",
   "metadata": {},
   "source": [
    "**Příklad**\n",
    "\n",
    "Vysvětlete rozdíl mezi funkcemi `addItem1` a `addItem2`. "
   ]
  },
  {
   "cell_type": "code",
   "execution_count": 11,
   "id": "9621a05c-0b24-4a64-b1c2-1bb4833b3788",
   "metadata": {},
   "outputs": [],
   "source": [
    "const data = []\n",
    "const addItem1 = (state, value) => {\n",
    "    state.push(value)\n",
    "    return state\n",
    "}\n",
    "\n",
    "const addItem2 = (state, value) => {\n",
    "    const newState = [...state, value]\n",
    "    return newState\n",
    "}    "
   ]
  },
  {
   "cell_type": "markdown",
   "id": "3afd1381-0090-49f7-931c-f16d0785c4d4",
   "metadata": {},
   "source": [
    "**Příklad**\n",
    "\n",
    "Analyzujte testy funkcí `addItem1` a `addItem2` a odvoďte očekávané výstupy"
   ]
  },
  {
   "cell_type": "code",
   "execution_count": 12,
   "id": "6874c991-aafb-4012-ba0a-007ce8bb787f",
   "metadata": {},
   "outputs": [
    {
     "name": "stdout",
     "output_type": "stream",
     "text": [
      "[]\n",
      "true\n",
      "[ { id: 1, name: 'First Item' } ]\n",
      "[ { id: 1, name: 'First Item' } ]\n",
      "false\n",
      "[ { id: 1, name: 'First Item' } ]\n",
      "[ { id: 1, name: 'First Item' }, { id: 2, name: 'Another Item' } ]\n"
     ]
    }
   ],
   "source": [
    "const data = []\n",
    "const addItem1 = (state, value) => {\n",
    "    state.push(value)\n",
    "    return state\n",
    "}\n",
    "\n",
    "const addItem2 = (state, value) => {\n",
    "    const newState = [...state, value]\n",
    "    return newState\n",
    "}    \n",
    "\n",
    "console.log(data)\n",
    "const newData1 = addItem1(data, {id: 1, name: 'First Item'})\n",
    "console.log(newData1 === data)\n",
    "console.log(data)\n",
    "console.log(newData1)\n",
    "\n",
    "const newData2 = addItem2(data, {id: 2, name: 'Another Item'})\n",
    "console.log(newData2 === data)\n",
    "console.log(data)\n",
    "console.log(newData2)"
   ]
  },
  {
   "cell_type": "markdown",
   "id": "824d4bcc-8d95-434b-8017-47b687f09318",
   "metadata": {},
   "source": [
    "**Poznámka**\n",
    "\n",
    "Knihovna `immer` byla vyhodnocena jako jedna z knihoven, která přináší zásadní převrat v konceptu immutable a jeho implementaci."
   ]
  },
  {
   "cell_type": "markdown",
   "id": "f912c668-6cad-4ff7-83cd-07b937306e1b",
   "metadata": {},
   "source": [
    "### Množina stavových funkcí"
   ]
  },
  {
   "cell_type": "markdown",
   "id": "7a74d744-b180-4b8b-a71b-def0691dd4b3",
   "metadata": {},
   "source": [
    "**Příklad**\n",
    "\n",
    "Popište, co realizují funkce `addItem`, `removeItem` a `updateItem`"
   ]
  },
  {
   "cell_type": "code",
   "execution_count": 13,
   "id": "5a03d463-1f40-4a58-b052-a1ce3572f310",
   "metadata": {},
   "outputs": [],
   "source": [
    "const addItem = (state, {value}) => [...state, value]\n",
    "const removeItem = (state, {value}) => state.filter(item => item.id !== value.id)\n",
    "const updateItem = (state, {value}) => state.map(item => item.id === value.id ? {...item, ...value} : item)"
   ]
  },
  {
   "cell_type": "markdown",
   "id": "0487a21e-7a05-476c-96b9-6f1fa5cb28b7",
   "metadata": {},
   "source": [
    "**Řešení?**"
   ]
  },
  {
   "cell_type": "code",
   "execution_count": 14,
   "id": "ab104d0e-736b-4042-8694-dd4344cb4406",
   "metadata": {},
   "outputs": [
    {
     "name": "stdout",
     "output_type": "stream",
     "text": [
      "[]\n",
      "[ { id: 0, name: 'First Item' } ]\n",
      "[ { id: 0, name: 'First', surname: 'Item' } ]\n",
      "[]\n"
     ]
    }
   ],
   "source": [
    "let newData = []\n",
    "console.log(newData)\n",
    "newData = addItem(newData, {value: {id: 0, name: 'First Item'}})\n",
    "console.log(newData)\n",
    "newData = updateItem(newData, {value: {id: 0, name: 'First', surname: 'Item'}})\n",
    "console.log(newData)\n",
    "newData = removeItem(newData, {value: {id: 0}})\n",
    "console.log(newData)"
   ]
  },
  {
   "cell_type": "markdown",
   "id": "04e3b791-3df2-4b48-9905-dbbb8b4c827f",
   "metadata": {},
   "source": [
    "### Kompozitní stavová funkce"
   ]
  },
  {
   "cell_type": "markdown",
   "id": "08e7f1e4-0c6c-4c4e-ac06-02138708f829",
   "metadata": {},
   "source": [
    "**Příklad**\n",
    "\n",
    "Popište, co dělá funkce `combineReducers`"
   ]
  },
  {
   "cell_type": "code",
   "execution_count": 15,
   "id": "c28e983d-c4e3-4632-9aed-61ada7d28e7a",
   "metadata": {},
   "outputs": [],
   "source": [
    "const addItem = (state, {value}) => [...state, value]\n",
    "const removeItem = (state, {value}) => state.filter(item => item.id !== value.id)\n",
    "const updateItem = (state, {value}) => state.map(item => item.id === value.id ? {...item, ...value} : item)\n",
    "\n",
    "const combineReducers = (reducers) => (state, action) => reducers[action.type](state, action)\n",
    "\n",
    "const reducer = combineReducers({addItem, removeItem, updateItem})"
   ]
  },
  {
   "cell_type": "markdown",
   "id": "cdbd8f34-7518-4061-a613-baf0d3dcad7f",
   "metadata": {},
   "source": [
    "**Řešení?**"
   ]
  },
  {
   "cell_type": "code",
   "execution_count": 16,
   "id": "a9f35dad-2c12-48a6-9e1a-d301b6545072",
   "metadata": {},
   "outputs": [
    {
     "name": "stdout",
     "output_type": "stream",
     "text": [
      "[]\n",
      "[ { id: 0, name: 'First Item' } ]\n",
      "[ { id: 0, name: 'First', surname: 'Item' } ]\n",
      "[]\n"
     ]
    }
   ],
   "source": [
    "let newData = []\n",
    "console.log(newData)\n",
    "newData = reducer(newData, {type: 'addItem', value: {id: 0, name: 'First Item'}})\n",
    "console.log(newData)\n",
    "newData = reducer(newData, {type: 'updateItem', value: {id: 0, name: 'First', surname: 'Item'}})\n",
    "console.log(newData)\n",
    "newData = reducer(newData, {type: 'removeItem', value: {id: 0}})\n",
    "console.log(newData)"
   ]
  },
  {
   "cell_type": "markdown",
   "id": "e8b44ddb-b9c8-4f5a-8610-8d1a752ec731",
   "metadata": {},
   "source": [
    "### Action creators"
   ]
  },
  {
   "cell_type": "markdown",
   "id": "6c92eb55-74d3-4b1f-85b3-19dd748c4b85",
   "metadata": {},
   "source": [
    "**Příklad**\n",
    "\n",
    "Popište, co dělá funkce `createActionCreators`"
   ]
  },
  {
   "cell_type": "code",
   "execution_count": 17,
   "id": "32d73d06-bf2f-454e-8534-613712c3706e",
   "metadata": {},
   "outputs": [],
   "source": [
    "const addItem = (state, {value}) => [...state, value]\n",
    "const removeItem = (state, {value}) => state.filter(item => item.id !== value.id)\n",
    "const updateItem = (state, {value}) => state.map(item => item.id === value.id ? {...item, ...value} : item)\n",
    "\n",
    "const createActionCreators = (reducers) => {\n",
    "    let result = {}\n",
    "    Object.keys(reducers).forEach(key => result[key] = (value) => ({type: key, value: value}))\n",
    "    return result\n",
    "}\n",
    "\n",
    "const actions = createActionCreators({addItem, removeItem, updateItem})"
   ]
  },
  {
   "cell_type": "markdown",
   "id": "19b67e82-b83f-4fed-a71f-5e6ff2ddafc2",
   "metadata": {},
   "source": [
    "**Řešení?**"
   ]
  },
  {
   "cell_type": "code",
   "execution_count": 18,
   "id": "52384382-4e46-43da-8fbf-1e0cfdc4af63",
   "metadata": {},
   "outputs": [
    {
     "name": "stdout",
     "output_type": "stream",
     "text": [
      "[]\n",
      "[ { id: 0, name: 'First Item' } ]\n",
      "[ { id: 0, name: 'First', surname: 'Item' } ]\n",
      "[]\n"
     ]
    }
   ],
   "source": [
    "let newData = []\n",
    "console.log(newData)\n",
    "newData = reducer(newData, actions['addItem']({id: 0, name: 'First Item'}))\n",
    "console.log(newData)\n",
    "newData = reducer(newData, actions['updateItem']({id: 0, name: 'First', surname: 'Item'}))\n",
    "console.log(newData)\n",
    "newData = reducer(newData, actions['removeItem']({id: 0}))\n",
    "console.log(newData)"
   ]
  },
  {
   "cell_type": "markdown",
   "id": "0c5109d9-ec2b-4516-95a2-69ad36e357bc",
   "metadata": {},
   "source": [
    "### Dispatch"
   ]
  },
  {
   "cell_type": "markdown",
   "id": "ca98d584-2f99-4b10-ba75-29bc8f0d0133",
   "metadata": {},
   "source": [
    "**Příklad**\n",
    "\n",
    "Určete význam funkce `createStorage`"
   ]
  },
  {
   "cell_type": "code",
   "execution_count": 19,
   "id": "1f9966c9-397a-476d-9d70-fb56a268ed32",
   "metadata": {},
   "outputs": [],
   "source": [
    "const createStorage = (reducer, initialData) => {\n",
    "    let localData = initialData\n",
    "    const getData = () => localData\n",
    "    const dispatch = (action) => {\n",
    "        localData = reducer(localData, action)\n",
    "    }\n",
    "    return {getData, dispatch}\n",
    "}"
   ]
  },
  {
   "cell_type": "markdown",
   "id": "84780319-522a-4156-8810-940521de3cf3",
   "metadata": {},
   "source": [
    "**Řešení?**"
   ]
  },
  {
   "cell_type": "code",
   "execution_count": 20,
   "id": "c881bc19-a9f7-47bb-a422-9f91ab03a7d7",
   "metadata": {},
   "outputs": [
    {
     "name": "stdout",
     "output_type": "stream",
     "text": [
      "[]\n",
      "[ { id: 0, name: 'First Item' } ]\n",
      "[ { id: 0, name: 'First', surname: 'Item' } ]\n",
      "[]\n"
     ]
    }
   ],
   "source": [
    "const {getData, dispatch} = createStorage(reducer, [])\n",
    "console.log(getData())\n",
    "dispatch(actions['addItem']({id: 0, name: 'First Item'}))\n",
    "console.log(getData())\n",
    "dispatch(actions['updateItem']({id: 0, name: 'First', surname: 'Item'}))\n",
    "console.log(getData())\n",
    "dispatch(actions['removeItem']({id: 0}))\n",
    "console.log(getData())"
   ]
  },
  {
   "cell_type": "markdown",
   "id": "19bfe93f-0782-430a-bb65-4ed40f18c08d",
   "metadata": {},
   "source": [
    "### Function Bindings"
   ]
  },
  {
   "cell_type": "markdown",
   "id": "732e896f-3f0c-4cb0-9df4-6efbfe39f7eb",
   "metadata": {},
   "source": [
    "**Příklad**\n",
    "\n",
    "Co dělá funkce `bindDispatch`?"
   ]
  },
  {
   "cell_type": "code",
   "execution_count": 21,
   "id": "0aafd037-6c8b-4a8a-9eff-c2062d65bef9",
   "metadata": {},
   "outputs": [],
   "source": [
    "const bindDispatch = (dispatch, actions) => {\n",
    "    let result = {}\n",
    "    Object.keys(actions).forEach(key => result[key] = (value) => dispatch(actions[key](value)))\n",
    "    return result\n",
    "}"
   ]
  },
  {
   "cell_type": "markdown",
   "id": "e7ffd712-5f97-409b-9f30-e810db47b486",
   "metadata": {},
   "source": [
    "**Řešení?**"
   ]
  },
  {
   "cell_type": "code",
   "execution_count": 22,
   "id": "d93912b6-eb3a-48cc-a6d0-124bd67694ca",
   "metadata": {},
   "outputs": [
    {
     "name": "stdout",
     "output_type": "stream",
     "text": [
      "[]\n",
      "[ { id: 0, name: 'First Item' } ]\n",
      "[ { id: 0, name: 'First', surname: 'Item' } ]\n",
      "[]\n"
     ]
    }
   ],
   "source": [
    "const bindedActions = bindDispatch(dispatch, actions)\n",
    "\n",
    "console.log(getData())\n",
    "bindedActions['addItem']({id: 0, name: 'First Item'})\n",
    "console.log(getData())\n",
    "bindedActions['updateItem']({id: 0, name: 'First', surname: 'Item'})\n",
    "console.log(getData())\n",
    "bindedActions['removeItem']({id: 0})\n",
    "console.log(getData())"
   ]
  },
  {
   "cell_type": "markdown",
   "id": "2c5b7ec7-c062-4cf6-a932-4b3b528aba35",
   "metadata": {},
   "source": [
    "### AllInOne"
   ]
  },
  {
   "cell_type": "markdown",
   "id": "b428c468-77ee-4abf-8049-f8571dba7947",
   "metadata": {},
   "source": [
    "**Příklad?**\n",
    "    \n",
    "Výše uvedené prvky na jednom místě, zopakujte si!"
   ]
  },
  {
   "cell_type": "code",
   "execution_count": 23,
   "id": "f4c34bd9-f6d0-4380-9ba4-e05fe8b3e8a4",
   "metadata": {},
   "outputs": [],
   "source": [
    "const addItem = (state, {value}) => [...state, value]\n",
    "const removeItem = (state, {value}) => state.filter(item => item.id !== value.id)\n",
    "const updateItem = (state, {value}) => state.map(item => item.id === value.id ? {...item, ...value} : item)\n",
    "\n",
    "const combineReducers = (reducers) => (state, action) => reducers[action.type](state, action)\n",
    "\n",
    "const createActionCreators = (reducers) => {\n",
    "    let result = {}\n",
    "    Object.keys(reducers).forEach(key => result[key] = (value) => ({type: key, value: value}))\n",
    "    return result\n",
    "}\n",
    "\n",
    "const createStorage = (reducer, initialData) => {\n",
    "    let localData = initialData\n",
    "    const getData = () => localData\n",
    "    const dispatch = (action) => {\n",
    "        localData = reducer(localData, action)\n",
    "    }\n",
    "    return {getData, dispatch}\n",
    "}\n",
    "\n",
    "const bindDispatch = (dispatch, actions) => {\n",
    "    let result = {}\n",
    "    Object.keys(actions).forEach(key => result[key] = (value) => dispatch(actions[key](value)))\n",
    "    return result\n",
    "}"
   ]
  },
  {
   "cell_type": "markdown",
   "id": "21f5c8ad-cee5-4697-896b-cfab7d2838cb",
   "metadata": {},
   "source": [
    "**Řešení?**"
   ]
  },
  {
   "cell_type": "code",
   "execution_count": 24,
   "id": "5711419d-b1ff-4da5-96d7-6f2c32a073ff",
   "metadata": {},
   "outputs": [
    {
     "name": "stdout",
     "output_type": "stream",
     "text": [
      "[]\n",
      "[ { id: 0, name: 'First Item' } ]\n",
      "[ { id: 0, name: 'First', surname: 'Item' } ]\n",
      "[]\n"
     ]
    }
   ],
   "source": [
    "const addItem = (state, {value}) => [...state, value]\n",
    "const removeItem = (state, {value}) => state.filter(item => item.id !== value.id)\n",
    "const updateItem = (state, {value}) => state.map(item => item.id === value.id ? {...item, ...value} : item)\n",
    "\n",
    "const actions = createActionCreators({addItem, removeItem, updateItem})\n",
    "const reducer = combineReducers({addItem, removeItem, updateItem})\n",
    "const {getData, dispatch} = createStorage(reducer, [])\n",
    "const bindedActions = bindDispatch(dispatch, actions)\n",
    "\n",
    "console.log(getData())\n",
    "bindedActions['addItem']({id: 0, name: 'First Item'})\n",
    "console.log(getData())\n",
    "bindedActions['updateItem']({id: 0, name: 'First', surname: 'Item'})\n",
    "console.log(getData())\n",
    "bindedActions['removeItem']({id: 0})\n",
    "console.log(getData())"
   ]
  },
  {
   "cell_type": "markdown",
   "id": "a6aadfe0-cf64-4891-a0ad-aecfed479d45",
   "metadata": {},
   "source": [
    "### Koncept Slice"
   ]
  },
  {
   "cell_type": "markdown",
   "id": "5916f059-11ca-4bd2-8ccb-fd4d0ff41c7e",
   "metadata": {},
   "source": [
    "**Příklad**\n",
    "\n",
    "Popište význam funkce `createSlice`."
   ]
  },
  {
   "cell_type": "code",
   "execution_count": 25,
   "id": "b2255c63-49dc-4d9f-94d1-dd0d7357c21f",
   "metadata": {},
   "outputs": [],
   "source": [
    "const createSlice = ({reducers, name}) => {\n",
    "    const indexedReducers = {}\n",
    "    \n",
    "    const createActionCreators = (reducers) => {\n",
    "        let result = {}\n",
    "        Object.keys(reducers).forEach(key => result[key] = (value) => ({type: name + '_' + key, value: value}))\n",
    "        return result\n",
    "    }\n",
    "    \n",
    "    const combineReducers = (reducers) => (state, action) => {\n",
    "        let result = {...state}\n",
    "        result[name] = indexedReducers[action.type](state[name], action)\n",
    "        return result\n",
    "    }\n",
    "    \n",
    "    Object.keys(reducers).forEach(key => indexedReducers[name + '_' + key] = reducers[key])\n",
    "    \n",
    "    return {actions: createActionCreators(reducers), reducer: combineReducers(reducers)}\n",
    "}"
   ]
  },
  {
   "cell_type": "markdown",
   "id": "8fadb1d5-46f7-4c28-aec1-afa7710099c6",
   "metadata": {},
   "source": [
    "**Mezietapa**"
   ]
  },
  {
   "cell_type": "code",
   "execution_count": 26,
   "id": "09353045-54ec-4956-9e3b-775f3733b1eb",
   "metadata": {},
   "outputs": [],
   "source": [
    "const createStorage = (reducer, initialData) => {\n",
    "    let localData = initialData\n",
    "    const getData = () => localData\n",
    "    const dispatch = (action) => {\n",
    "        localData = reducer(localData, action)\n",
    "    }\n",
    "    return {getData, dispatch}\n",
    "}\n",
    "\n",
    "const bindDispatch = (dispatch, actions) => {\n",
    "    let result = {}\n",
    "    Object.keys(actions).forEach(key => result[key] = (value) => dispatch(actions[key](value)))\n",
    "    return result\n",
    "}"
   ]
  },
  {
   "cell_type": "markdown",
   "id": "c038ef6e-9ffd-431b-935d-da81213b43d0",
   "metadata": {},
   "source": [
    "**Řešení?**"
   ]
  },
  {
   "cell_type": "code",
   "execution_count": 27,
   "id": "4280d93d-5082-4bf1-b108-dbc3754275c2",
   "metadata": {},
   "outputs": [
    {
     "name": "stdout",
     "output_type": "stream",
     "text": [
      "{ items: [] }\n",
      "{ items: [ { id: 0, name: 'First Item' } ] }\n",
      "{ items: [ { id: 0, name: 'First', surname: 'Item' } ] }\n",
      "{ items: [] }\n"
     ]
    }
   ],
   "source": [
    "/*\n",
    "****************************************\n",
    "* Kopie \n",
    "****************************************\n",
    "*/\n",
    "const createStorage = (reducer, initialData) => {\n",
    "    let localData = initialData\n",
    "    const getData = () => localData\n",
    "    const dispatch = (action) => {\n",
    "        localData = reducer(localData, action)\n",
    "    }\n",
    "    return {getData, dispatch}\n",
    "}\n",
    "\n",
    "const bindDispatch = (dispatch, actions) => {\n",
    "    let result = {}\n",
    "    Object.keys(actions).forEach(key => result[key] = (value) => dispatch(actions[key](value)))\n",
    "    return result\n",
    "}\n",
    "\n",
    "/*\n",
    "****************************************\n",
    "* Konec\n",
    "****************************************\n",
    "*/\n",
    "\n",
    "\n",
    "const sliceDefinition = {\n",
    "    name: 'items',\n",
    "    reducers: {\n",
    "        addItem: (state, {value}) => [...state, value],\n",
    "        removeItem: (state, {value}) => state.filter(item => item.id !== value.id),\n",
    "        updateItem: (state, {value}) => state.map(item => item.id === value.id ? {...item, ...value} : item)\n",
    "    }, \n",
    "}\n",
    "\n",
    "const {actions, reducer} = createSlice(sliceDefinition)\n",
    "const {getData, dispatch} = createStorage(reducer, {items: []})\n",
    "const bindedActions = bindDispatch(dispatch, actions)\n",
    "\n",
    "const {addItem, updateItem, removeItem} = bindedActions\n",
    "\n",
    "console.log(getData())\n",
    "addItem({id: 0, name: 'First Item'})\n",
    "console.log(getData())\n",
    "updateItem({id: 0, name: 'First', surname: 'Item'})\n",
    "console.log(getData())\n",
    "removeItem({id: 0})\n",
    "console.log(getData())"
   ]
  },
  {
   "cell_type": "markdown",
   "id": "ef752b9d-8600-4578-bbe0-d44457bf4328",
   "metadata": {},
   "source": [
    "## Vizuální prvky - React"
   ]
  },
  {
   "cell_type": "markdown",
   "id": "72dc5aa0-6ffc-43e8-9063-9b836641c64b",
   "metadata": {},
   "source": [
    "### TwoClickButton"
   ]
  },
  {
   "cell_type": "markdown",
   "id": "ab40b201-1392-443a-a3d5-b4af85cac9dc",
   "metadata": {},
   "source": [
    "**Příklad**\n",
    "\n",
    "Vysvětlete, jakou funkci má komponenta `TwoClickButton`"
   ]
  },
  {
   "cell_type": "code",
   "execution_count": 28,
   "id": "2da5abc3-6857-499c-baf5-38d7ab12ce1a",
   "metadata": {},
   "outputs": [],
   "source": [
    "import React from 'react'\n",
    "\n",
    "const TwoClickButton = (props) => {\n",
    "    const [clickCount, setClickCount] = React.useState(0)\n",
    "    if (clickCount === 0) {\n",
    "        return <button className={props.className + \" btn-warning\"} onClick={()=>setClickCount(1)}>{props.children}</button>\n",
    "    } else {\n",
    "        return (\n",
    "            <>\n",
    "            <button className={props.className + \" btn-warning\"} onClick={()=>setClickCount(0)}>{props.children}</button>                \n",
    "            <button className={props.className + \" btn-danger\"} onClick={props.onClick}>{props.children}</button>\n",
    "            </>\n",
    "            )\n",
    "    }\n",
    "}\n",
    "\n",
    "const App = (props) => {\n",
    "    return (\n",
    "        <div>\n",
    "            Položka 5\n",
    "            <TwoClickButton>🗑</TwoClickButton>\n",
    "        </div>\n",
    "    )\n",
    "}"
   ]
  },
  {
   "cell_type": "markdown",
   "id": "87a56cc8-739a-44a3-a191-97f80235fa60",
   "metadata": {},
   "source": [
    "### Value with Input"
   ]
  },
  {
   "cell_type": "markdown",
   "id": "a565b12b-df6c-4de1-8e2a-ccc36a402d9c",
   "metadata": {},
   "source": [
    "**Příklad**\n",
    "\n",
    "Vysvětlete funkci komponenty `ValueWithInput`"
   ]
  },
  {
   "cell_type": "code",
   "execution_count": 29,
   "id": "447d0e0b-9c0d-4a15-ae1f-fe594c218f68",
   "metadata": {},
   "outputs": [],
   "source": [
    "import React from 'react'\n",
    "\n",
    "const ValueWithInput = (props) => {\n",
    "    const [editing, setEditing] = React.useState(false)\n",
    "    const [currentValue, setCurrentValue] = React.useState(props.value)\n",
    "\n",
    "    if (editing) {\n",
    "        const onChange = (e) => setCurrentValue(e.target.value)\n",
    "        const onClick = () => {\n",
    "            if (props.onChange) {\n",
    "                props.onChange(currentValue)\n",
    "            }\n",
    "            setEditing(false)\n",
    "        }\n",
    "        const onDiscard = () => {\n",
    "            setCurrentValue(props.value)\n",
    "            setEditing(false)\n",
    "        }\n",
    "        return (\n",
    "            <div className=\"input-group\">\n",
    "                <input className=\"form-control\" value={currentValue} onChange={onChange} />\n",
    "                <button className=\"btn btn-sm btn-success\" onClick={onClick} ><i className=\"bi bi-check-lg\"></i></button>\n",
    "                <TwoClickButton className=\"btn btn-sm \" onClick={onDiscard} ><i className=\"bi bi-x-lg\"></i></TwoClickButton>\n",
    "            </div>\n",
    "        )\n",
    "    } else {\n",
    "        return (<span onClick={() => setEditing(true)}>{props.value}</span>)\n",
    "    }\n",
    "}\n",
    "\n",
    "const App = (props) => {\n",
    "    const [value, setValue] = React.useState('Hello world')\n",
    "    return (\n",
    "        <ValueWithInput onChange={setValue} value={value} />\n",
    "    )\n",
    "}"
   ]
  }
 ],
 "metadata": {
  "kernelspec": {
   "display_name": "JavaScript",
   "language": "javascript",
   "name": "jslab"
  },
  "language_info": {
   "file_extension": ".js",
   "mimetype": "text/javascript",
   "name": "javascript",
   "version": ""
  }
 },
 "nbformat": 4,
 "nbformat_minor": 5
}
