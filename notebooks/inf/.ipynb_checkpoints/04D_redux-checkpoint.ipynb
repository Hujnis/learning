{
 "cells": [
  {
   "cell_type": "code",
   "execution_count": 2,
   "id": "a3319e4d-8992-437d-803c-4d476de846a7",
   "metadata": {},
   "outputs": [],
   "source": [
    "def addRow(state, row):\n",
    "    return [*state, row]\n",
    "\n",
    "def removeRow(state, row):\n",
    "    id = row['id']\n",
    "    return [item for item in state if item['id'] != id]"
   ]
  },
  {
   "cell_type": "code",
   "execution_count": 5,
   "id": "416d54a4-5e13-4542-a8dc-709a476b7640",
   "metadata": {},
   "outputs": [
    {
     "name": "stdout",
     "output_type": "stream",
     "text": [
      "[]\n",
      "[{'id': 1, 'name': 'John'}]\n"
     ]
    }
   ],
   "source": [
    "data = []\n",
    "print(data)\n",
    "data = addRow(data, {'id': 1, 'name': 'John'})\n",
    "print(data)"
   ]
  },
  {
   "cell_type": "code",
   "execution_count": 6,
   "id": "e223fe63-78c7-4d7e-8291-1fd40d13f6ba",
   "metadata": {},
   "outputs": [
    {
     "name": "stdout",
     "output_type": "stream",
     "text": [
      "[]\n"
     ]
    }
   ],
   "source": [
    "data = removeRow(data, {'id': 1, 'name': 'John'})\n",
    "print(data)"
   ]
  },
  {
   "cell_type": "code",
   "execution_count": null,
   "id": "25711a09-c0d7-4d96-ab17-b601a6c00e88",
   "metadata": {},
   "outputs": [],
   "source": []
  }
 ],
 "metadata": {
  "kernelspec": {
   "display_name": "Python 3 (ipykernel)",
   "language": "python",
   "name": "python3"
  },
  "language_info": {
   "codemirror_mode": {
    "name": "ipython",
    "version": 3
   },
   "file_extension": ".py",
   "mimetype": "text/x-python",
   "name": "python",
   "nbconvert_exporter": "python",
   "pygments_lexer": "ipython3",
   "version": "3.9.12"
  }
 },
 "nbformat": 4,
 "nbformat_minor": 5
}
