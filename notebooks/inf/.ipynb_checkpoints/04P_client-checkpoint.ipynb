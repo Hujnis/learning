{
 "cells": [
  {
   "cell_type": "markdown",
   "id": "extensive-roman",
   "metadata": {},
   "source": [
    "# Komponenty v ReactJS"
   ]
  },
  {
   "cell_type": "markdown",
   "id": "colored-manual",
   "metadata": {},
   "source": [
    "## Jumbotron"
   ]
  },
  {
   "cell_type": "markdown",
   "id": "double-initial",
   "metadata": {},
   "source": [
    "Jumbotron je prvek, který se používá jako výrazný prvek na stránce - hlavička / nadpis"
   ]
  },
  {
   "cell_type": "code",
   "execution_count": null,
   "id": "seeing-retrieval",
   "metadata": {},
   "outputs": [],
   "source": [
    "import React from 'react';\n",
    "function Jumbotron(props) {\n",
    "    return (\n",
    "        <div className=\"jumbotron text-center\">\n",
    "            <h1>{props.title}</h1>\n",
    "        </div>\n",
    "    );\n",
    "}"
   ]
  },
  {
   "cell_type": "markdown",
   "id": "academic-checklist",
   "metadata": {},
   "source": [
    "## Container"
   ]
  },
  {
   "cell_type": "markdown",
   "id": "solved-healing",
   "metadata": {},
   "source": [
    "Container - kontejner je prvek, který definuje plochu dostupno pro obsah stránky."
   ]
  },
  {
   "cell_type": "code",
   "execution_count": null,
   "id": "treated-stevens",
   "metadata": {},
   "outputs": [],
   "source": [
    "import React from 'react';\n",
    "function Container(props) {\n",
    "    return (\n",
    "        <div className=\"container\">\n",
    "            {props.children}\n",
    "        </div>\n",
    "    );\n",
    "}"
   ]
  },
  {
   "cell_type": "markdown",
   "id": "ancient-parts",
   "metadata": {},
   "source": [
    "## Card"
   ]
  },
  {
   "cell_type": "markdown",
   "id": "material-words",
   "metadata": {},
   "source": [
    "Card je prvek zavedený v Bootstrap 4.0, představuje \"kartu\", kterých může být na stránce více."
   ]
  },
  {
   "cell_type": "code",
   "execution_count": 27,
   "id": "persistent-winning",
   "metadata": {},
   "outputs": [],
   "source": [
    "import React from 'react';\n",
    "function Card(props) {\n",
    "    return (\n",
    "        <div className='card'>\n",
    "            <div className={'card-header ' + props.color?props.color:''}>\n",
    "                Hlavicka\n",
    "            </div>\n",
    "            <div className='card-body '>\n",
    "                {props.children}\n",
    "            </div>\n",
    "            <div className='card-footer '>\n",
    "                Paticka\n",
    "            </div>\n",
    "        </div>\n",
    "    );\n",
    "}"
   ]
  },
  {
   "cell_type": "markdown",
   "id": "computational-circus",
   "metadata": {},
   "source": [
    "## Col"
   ]
  },
  {
   "cell_type": "markdown",
   "id": "crucial-toronto",
   "metadata": {},
   "source": [
    "col-4-sm je prvek definující tzv. grid na webové stránce."
   ]
  },
  {
   "cell_type": "code",
   "execution_count": 28,
   "id": "indirect-finland",
   "metadata": {},
   "outputs": [],
   "source": [
    "import React from 'react';\n",
    "function Col4(props) {\n",
    "    return (\n",
    "        <div className='col-4-sm'>\n",
    "            {props.children}\n",
    "        </div>\n",
    "    );\n",
    "}"
   ]
  },
  {
   "cell_type": "markdown",
   "id": "removed-exhibition",
   "metadata": {},
   "source": [
    "## Row"
   ]
  },
  {
   "cell_type": "markdown",
   "id": "generous-knowing",
   "metadata": {},
   "source": [
    "Row - řádek je další prvek gridu, který definuje vzájemné poměry nezi prvky webové stránky."
   ]
  },
  {
   "cell_type": "code",
   "execution_count": 29,
   "id": "random-deadline",
   "metadata": {},
   "outputs": [],
   "source": [
    "import React from 'react';\n",
    "function Row(props) {\n",
    "    return (\n",
    "        <div className='row'>\n",
    "            {props.children}\n",
    "        </div>\n",
    "    );\n",
    "}"
   ]
  },
  {
   "cell_type": "markdown",
   "id": "aboriginal-ebony",
   "metadata": {},
   "source": [
    "## Greet"
   ]
  },
  {
   "cell_type": "markdown",
   "id": "statistical-greek",
   "metadata": {},
   "source": [
    "Greet je uživatelsky / programátorsky definovaná komponenta zobrazující pozdrav pro osobu uvedenou v properties (atributech) pod jménem who"
   ]
  },
  {
   "cell_type": "code",
   "execution_count": 30,
   "id": "stainless-station",
   "metadata": {},
   "outputs": [],
   "source": [
    "import React from 'react';\n",
    "function Greet(props) {\n",
    "    return (\n",
    "        <div>\n",
    "            Hello {props.who}\n",
    "        </div>\n",
    "    );\n",
    "}"
   ]
  },
  {
   "cell_type": "markdown",
   "id": "stopped-fifty",
   "metadata": {},
   "source": [
    "## Data Reader"
   ]
  },
  {
   "cell_type": "markdown",
   "id": "iraqi-contamination",
   "metadata": {},
   "source": [
    "DataReader je komponenta se stavovým automatem"
   ]
  },
  {
   "cell_type": "code",
   "execution_count": null,
   "id": "adolescent-macintosh",
   "metadata": {},
   "outputs": [],
   "source": [
    "import React from 'react';\n",
    "//import { useState, useEffect } from 'react';\n",
    "const useState = React.useState;\n",
    "const useEffect = React.useEffect;\n",
    "const useMemo =  React.useMemo;\n",
    "\n",
    "function DataReader(props) {\n",
    "    const [data, setData] = useState(false);\n",
    "    \n",
    "    //https://reactjs.org/docs/hooks-effect.html\n",
    "    useEffect(() => {\n",
    "        //https://developer.mozilla.org/en-US/docs/Web/API/Fetch_API/Using_Fetch\n",
    "        fetch('/api/students/' + props.id)\n",
    "            .then(response => response.json())\n",
    "            .then(jsonData => setData(jsonData))\n",
    "            .catch(error => setData('An error occured'));\n",
    "        \n",
    "    }, [props.id]);\n",
    "    \n",
    "    if (data === false) {\n",
    "        return (\n",
    "            <Card>\n",
    "                Loading...\n",
    "            </Card>\n",
    "        );\n",
    "    } else {\n",
    "        return (\n",
    "            <Card>\n",
    "                {JSON.stringify(data)}\n",
    "            </Card>\n",
    "        )\n",
    "    }\n",
    "}"
   ]
  },
  {
   "cell_type": "markdown",
   "id": "accompanied-mongolia",
   "metadata": {},
   "source": [
    "## Data Writer"
   ]
  },
  {
   "cell_type": "markdown",
   "id": "downtown-stylus",
   "metadata": {},
   "source": [
    "### Zpoždění volání funkce"
   ]
  },
  {
   "cell_type": "code",
   "execution_count": 61,
   "id": "naughty-driver",
   "metadata": {},
   "outputs": [],
   "source": [
    "import React from 'react';\n",
    "\n",
    "function createDelayer(delay=1) {\n",
    "    let timer = null;\n",
    "    \n",
    "    function callIt(func) {\n",
    "        timer = null;\n",
    "        func();\n",
    "    }\n",
    "    \n",
    "    function delayIt(func) {\n",
    "        if (timer != null) {\n",
    "            clearTimeout(timer);\n",
    "        }\n",
    "        timer = setTimeout(() => callIt(func), delay);\n",
    "    }\n",
    "    \n",
    "    return delayIt;\n",
    "}"
   ]
  },
  {
   "cell_type": "code",
   "execution_count": 95,
   "id": "terminal-ethnic",
   "metadata": {},
   "outputs": [
    {
     "name": "stdout",
     "output_type": "stream",
     "text": [
      "\u001b[33m1617045447607\u001b[39m\n",
      "try D\n",
      "\u001b[33m1617045448608\u001b[39m\n",
      "\u001b[33m258\u001b[39m\n",
      "/api/data got {\"name\":\"Johnfds\",\"familyname\":\"Walker\"}\n",
      "/api/data got {\"name\":\"Johnfdsg\",\"familyname\":\"Walker\"}\n"
     ]
    }
   ],
   "source": [
    "function mS(start=0) {\n",
    "    return Date.now() - start;\n",
    "}    \n",
    "\n",
    "function printMS() {\n",
    "    console.log(mS());\n",
    "}\n",
    "\n",
    "function print(msg) {\n",
    "    console.log(msg);\n",
    "}\n",
    "\n",
    "const delayFunc = createDelayer(1000);\n",
    "printMS()\n",
    "delayFunc(printMS)\n",
    "\n",
    "const delayFunc2 = createDelayer(100);\n",
    "delayFunc2(() => print('try A'))\n",
    "delayFunc2(() => print('try B'))\n",
    "delayFunc2(() => print('try C'))\n",
    "delayFunc2(() => print('try D'))"
   ]
  },
  {
   "cell_type": "markdown",
   "id": "coordinated-being",
   "metadata": {},
   "source": [
    "### Komponenta Input"
   ]
  },
  {
   "cell_type": "code",
   "execution_count": null,
   "id": "exceptional-juvenile",
   "metadata": {},
   "outputs": [],
   "source": [
    "import React from 'react';\n",
    "\n",
    "function Input(props) {\n",
    "    const [value, setValue] = useState(props.value);\n",
    "    \n",
    "    function onChange(event) {\n",
    "        console.log(event.target.value);\n",
    "        if (props.onChange) {\n",
    "            props.onChange(props.id, event.target.value)\n",
    "        }\n",
    "        event.preventDefault();\n",
    "        setValue(event.target.value);\n",
    "    }\n",
    "    \n",
    "    const id = props.id;\n",
    "    return (\n",
    "        <div className='form-group'>\n",
    "            <label htmlFor='inputText'>{props.label}</label>\n",
    "            <input className='form-control' id={id + 'inputText'} type='text' value={value} onChange={onChange} placeholder={props.placeholder}/>\n",
    "            <small id={id + 'value'} className='form-text text-muted'>{value}</small>\n",
    "        </div>\n",
    "    );\n",
    "}"
   ]
  },
  {
   "cell_type": "markdown",
   "id": "finnish-philippines",
   "metadata": {},
   "source": [
    "### Komponenta Formulář (lokální)"
   ]
  },
  {
   "cell_type": "code",
   "execution_count": null,
   "id": "maritime-julian",
   "metadata": {},
   "outputs": [],
   "source": [
    "import React from 'react';\n",
    "\n",
    "function Form(props) {\n",
    "    const [formData, setData] = useState(\n",
    "        {'name': props.name?props.name:'John', \n",
    "         'familyname': props.familyname?props.familyname:'Walker'}\n",
    "    );\n",
    "    \n",
    "    function onChange(id, value) {\n",
    "        const newData = {...formData};\n",
    "        newData[id] = value;\n",
    "\n",
    "        if (props.onChange) {\n",
    "            props.onChange(newData)\n",
    "        }\n",
    "        setData(newData);\n",
    "    }\n",
    "    \n",
    "    return (\n",
    "        <form>\n",
    "            <Input label='Jméno' value={formData['name']} id='name' placeholder='Zadejte jméno' onChange={onChange}>\n",
    "            </Input>\n",
    "            <Input label='Příjmení' value={formData['familyname']} id='familyname' placeholder='Zadejte příjmení' onChange={onChange}>\n",
    "            </Input>\n",
    "        </form>\n",
    "    )\n",
    "}"
   ]
  },
  {
   "cell_type": "markdown",
   "id": "jewish-entrepreneur",
   "metadata": {},
   "source": [
    "### Komponenta Formulář (předávající data)"
   ]
  },
  {
   "cell_type": "code",
   "execution_count": null,
   "id": "separate-planning",
   "metadata": {},
   "outputs": [],
   "source": [
    "import React from 'react';\n",
    "\n",
    "function FormWithServer(props) {\n",
    "    const [formData, setData] = useState(\n",
    "        {'name': props.name?props.name:'John', \n",
    "         'familyname': props.familyname?props.familyname:'Walker'}\n",
    "    );\n",
    "\n",
    "    const delayer = useMemo(() => createDelayer(1000), []);\n",
    "                            \n",
    "    function writeToServer(formData) {\n",
    "        fetch(props.putUrl, \n",
    "              {'method': 'PUT',\n",
    "               'headers': {\n",
    "                   'Content-Type': 'application/json',\n",
    "                },\n",
    "               'body': JSON.stringify(formData)\n",
    "              })\n",
    "    }\n",
    "    \n",
    "    function onChange(newData) {\n",
    "        if (props.putUrl) {\n",
    "            delayer(() => writeToServer(newData));\n",
    "            //writeToServer(newData);\n",
    "        }\n",
    "        setData(newData)\n",
    "    }\n",
    "    \n",
    "    if (props.putUrl) {\n",
    "        console.log('I have address')\n",
    "    }\n",
    "    \n",
    "    return (\n",
    "        <Form onChange={onChange} {...formData}>\n",
    "        </Form>\n",
    "    )\n",
    "}\n"
   ]
  },
  {
   "cell_type": "markdown",
   "id": "funky-outreach",
   "metadata": {},
   "source": [
    "## Hlavní aplikace"
   ]
  },
  {
   "cell_type": "code",
   "execution_count": 32,
   "id": "brazilian-attribute",
   "metadata": {},
   "outputs": [],
   "source": [
    "import React from 'react';\n",
    "function App(props) {\n",
    "    return ( \n",
    "        <Container>\n",
    "            <Jumbotron title='Hello 22-5KB'></Jumbotron>\n",
    "            <Row>\n",
    "                <Col4>\n",
    "                    <Card color='bg-primary'>\n",
    "                        <Greet who='22-5KB'></Greet>\n",
    "                    </Card>\n",
    "                    <DataReader id='258'>\n",
    "                    </DataReader>\n",
    "                </Col4>\n",
    "            </Row>\n",
    "            <Row>\n",
    "                <Col4>\n",
    "                    <Input label='Jméno' value='' placeholder='Zadejte ...'>\n",
    "                    </Input>\n",
    "                </Col4>\n",
    "                <Col4>\n",
    "                    <Form>\n",
    "                    </Form>\n",
    "                </Col4>\n",
    "                <Col4>\n",
    "                    <FormWithServer putUrl='/api/data/'>\n",
    "                    </FormWithServer>\n",
    "                </Col4>\n",
    "        </Row>\n",
    "        </Container>\n",
    "    );\n",
    "}"
   ]
  },
  {
   "cell_type": "markdown",
   "id": "northern-october",
   "metadata": {},
   "source": [
    "# Server"
   ]
  },
  {
   "cell_type": "markdown",
   "id": "south-shape",
   "metadata": {},
   "source": [
    "## Čtení"
   ]
  },
  {
   "cell_type": "code",
   "execution_count": 1,
   "id": "presidential-copying",
   "metadata": {},
   "outputs": [],
   "source": [
    "import fs from 'fs';\n",
    "const mainTemplate = `\n",
    "<!DOCTYPE html>\n",
    "<html lang=\"en\"><head>\n",
    "    <title>{{TITLE}}</title>\n",
    "    <meta charset=\"utf-8\">\n",
    "    <meta name=\"viewport\" content=\"width=device-width, initial-scale=1\">\n",
    "    <link rel=\"stylesheet\" href=\"https://maxcdn.bootstrapcdn.com/bootstrap/4.5.2/css/bootstrap.min.css\">\n",
    "    <script src=\"https://ajax.googleapis.com/ajax/libs/jquery/3.5.1/jquery.min.js\"></script>\n",
    "    <script src=\"https://cdnjs.cloudflare.com/ajax/libs/popper.js/1.16.0/umd/popper.min.js\"></script>\n",
    "    <script src=\"https://maxcdn.bootstrapcdn.com/bootstrap/4.5.2/js/bootstrap.min.js\"></script>\n",
    "    <script src=\"https://unpkg.com/react@17/umd/react.development.js\"></script>\n",
    "    <script src=\"https://unpkg.com/react-dom@17/umd/react-dom.development.js\"></script>\n",
    "\n",
    "    <!-- Don't use this in production: -->\n",
    "    <script src=\"https://unpkg.com/@babel/standalone/babel.min.js\"></script>\n",
    "\n",
    "</head>\n",
    "<body>\n",
    "    <div class=\"container\">\n",
    "        <div id='root'>\n",
    "        </div>\n",
    "    </div>\n",
    "    {{SCRIPTS}}\n",
    "    <script type=\"text/babel\">\n",
    "      ReactDOM.render(\n",
    "        <App />,\n",
    "        document.getElementById('root')\n",
    "      );\n",
    "    </script>\n",
    "</body>\n",
    "</html>\n",
    "`\n",
    "\n",
    "function createHtml(title='Bootstrap Demo', extraScripts='') {\n",
    "    const extraScriptsEnv = '<script type=\"text/babel\">' + extraScripts + '</script>';\n",
    "    const withTitle = mainTemplate.replace('{{TITLE}}', title);\n",
    "    const withScripts = withTitle.replace('{{SCRIPTS}}', extraScriptsEnv);\n",
    "    return withScripts;\n",
    "}\n",
    "\n",
    "function createJS(notebookFileName='04A_client.ipynb') {\n",
    "    const result = [];\n",
    "    try {  \n",
    "        const data = fs.readFileSync(notebookFileName, 'utf8');\n",
    "        const dataJSON = JSON.parse(data)\n",
    "        //console.log(dataJSON);\n",
    "\n",
    "        for(const cell of dataJSON.cells) {\n",
    "            if (cell['cell_type'] === 'markdown') {\n",
    "                continue;\n",
    "            }\n",
    "            const source = cell['source'];\n",
    "            if (source.length == 0) {\n",
    "                continue;\n",
    "            }\n",
    "            if (source[0].startsWith('import React from')) {\n",
    "                source.shift() //remove first element\n",
    "                result.push('\\n', ...source, '\\n') //append source\n",
    "            }\n",
    "            \n",
    "        }\n",
    "    } catch(e) {\n",
    "        console.log('Error:', e.stack);\n",
    "    }\n",
    "    return result.join('');\n",
    "    \n",
    "}"
   ]
  },
  {
   "cell_type": "code",
   "execution_count": 2,
   "id": "qualified-nightlife",
   "metadata": {},
   "outputs": [],
   "source": [
    "const studentTable = [\n",
    "    {'id': 258, 'fullname': 'George Burden', 'city': 'Prague', 'lledu': false},\n",
    "    {'id': 263, 'fullname': 'Julia Seven', 'city': 'Brno', 'lledu': false},\n",
    "    {'id': 396, 'fullname': 'Anthony Previous', 'city': 'Prague', 'lledu': true},\n",
    "]\n",
    "\n",
    "class studentController {\n",
    "    constructor(data) {\n",
    "        this.data = data;\n",
    "    }\n",
    "    \n",
    "    get(id=-1) {\n",
    "        if (id === -1) {\n",
    "            return this.data;\n",
    "        } else {\n",
    "            for(const item of this.data) {\n",
    "                if (item['id'] === id) {\n",
    "                    return item;\n",
    "                }\n",
    "            }\n",
    "            return null;\n",
    "        }\n",
    "        \n",
    "    }\n",
    "}"
   ]
  },
  {
   "cell_type": "code",
   "execution_count": 97,
   "id": "bright-alabama",
   "metadata": {},
   "outputs": [
    {
     "name": "stdout",
     "output_type": "stream",
     "text": [
      "Server is running\n",
      "/api/data got {\"name\":\"Johnfdssd\",\"familyname\":\"Walker\"}\n",
      "/api/data got {\"name\":\"Johnfdssdf\",\"familyname\":\"Walker\"}\n",
      "/api/data got {\"name\":\"Johnfdssd\",\"familyname\":\"Walker\"}\n",
      "\u001b[33m258\u001b[39m\n",
      "/api/data got {\"name\":\"John\",\"familyname\":\"Walker\"}\n",
      "/api/data got {\"name\":\"Johnt\",\"familyname\":\"Walker\"}\n",
      "/api/data got {\"name\":\"Johntr\",\"familyname\":\"Walker\"}\n",
      "/api/data got {\"name\":\"Johntry\",\"familyname\":\"Walker\"}\n",
      "/api/data got {\"name\":\"Johntry \",\"familyname\":\"Walker\"}\n",
      "\u001b[33m258\u001b[39m\n",
      "/api/data got {\"name\":\"John\",\"familyname\":\"Walker\"}\n",
      "/api/data got {\"name\":\"Johnj\",\"familyname\":\"Walker\"}\n",
      "\u001b[33m258\u001b[39m\n",
      "/api/data got {\"name\":\"John\",\"familyname\":\"Walker\"}\n",
      "/api/data got {\"name\":\"Johnu\",\"familyname\":\"Walker\"}\n",
      "\u001b[33m258\u001b[39m\n",
      "/api/data got {\"name\":\"John\",\"familyname\":\"Walker\"}\n",
      "/api/data got {\"name\":\"Johnu\",\"familyname\":\"Walker\"}\n",
      "/api/data got {\"name\":\"John\",\"familyname\":\"Walker\"}\n",
      "/api/data got {\"name\":\"John\",\"familyname\":\"Walker\"}\n",
      "/api/data got {\"name\":\"John\",\"familyname\":\"Walkerj\"}\n",
      "\u001b[33m258\u001b[39m\n",
      "/api/data got {\"name\":\"John\",\"familyname\":\"Walker\"}\n",
      "\u001b[33m258\u001b[39m\n",
      "/api/data got {\"name\":\"Johnj\",\"familyname\":\"Walker\"}\n",
      "\u001b[33m258\u001b[39m\n",
      "/api/data got {\"name\":\"John\",\"familyname\":\"Walker\"}\n",
      "/api/data got {\"name\":\"Johnf\",\"familyname\":\"Walker\"}\n"
     ]
    }
   ],
   "source": [
    "import express from 'express';\n",
    "\n",
    "const app = express();\n",
    "\n",
    "app.use(express.json()) // for parsing application/json\n",
    "\n",
    "const students = new studentController(studentTable);\n",
    "\n",
    "app.get('/api/students/:id', (req, res) => {\n",
    "    const idInt = parseInt(req.params.id);\n",
    "    const studentItem = students.get(idInt);\n",
    "    if (studentItem === null) {\n",
    "        res.status(404).send('Nenalezeno');\n",
    "    } else {\n",
    "        res.json(studentItem);\n",
    "    }\n",
    "});\n",
    "\n",
    "app.get('/api/students', (req, res) => {\n",
    "    res.json(students.get());\n",
    "});\n",
    "\n",
    "app.put('/api/data/', (req, res) => {\n",
    "    console.log('/api/data got ' + JSON.stringify(req.body));\n",
    "    res.send('Ok');\n",
    "});\n",
    "\n",
    "app.get('/', (req, res) => {\n",
    "    const html = createHtml('Demo', createJS());\n",
    "    res.send(html);\n",
    "});\n",
    "\n",
    "const srv = app.listen(9992, () =>{console.log('Server is running')});"
   ]
  },
  {
   "cell_type": "code",
   "execution_count": 96,
   "id": "adapted-holocaust",
   "metadata": {},
   "outputs": [
    {
     "name": "stdout",
     "output_type": "stream",
     "text": [
      "Server stopped\n"
     ]
    }
   ],
   "source": [
    "const serverResponse = srv.close(()=>{console.log('Server stopped')});"
   ]
  },
  {
   "cell_type": "markdown",
   "id": "severe-contract",
   "metadata": {},
   "source": [
    "## Čtení i zápis"
   ]
  },
  {
   "cell_type": "code",
   "execution_count": null,
   "id": "another-scout",
   "metadata": {},
   "outputs": [],
   "source": []
  },
  {
   "cell_type": "markdown",
   "id": "lasting-platform",
   "metadata": {},
   "source": [
    "# Pokusy"
   ]
  },
  {
   "cell_type": "code",
   "execution_count": null,
   "id": "royal-beads",
   "metadata": {},
   "outputs": [],
   "source": [
    "const formDesc = [\n",
    "    {'name': 'prvniPolozka', 'label': 'Jméno', 'type': 'edit', 'hint': 'Zadejte jméno'},\n",
    "    {'name': 'polDva', 'label': 'Příjmení', 'type': 'edit', 'hint': 'Zadejte příjmení'},\n",
    "]\n",
    "\n",
    "const dataFromUser = {\n",
    "    'prvniPolozka': 'Josef',\n",
    "    'polDva': 'Novák',    \n",
    "}"
   ]
  }
 ],
 "metadata": {
  "kernelspec": {
   "display_name": "JavaScript",
   "language": "javascript",
   "name": "jslab"
  },
  "language_info": {
   "file_extension": ".js",
   "mimetype": "text/javascript",
   "name": "javascript",
   "version": ""
  }
 },
 "nbformat": 4,
 "nbformat_minor": 5
}
