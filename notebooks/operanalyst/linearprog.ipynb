{
  "nbformat": 4,
  "nbformat_minor": 0,
  "metadata": {
    "celltoolbar": "Slideshow",
    "colab": {
      "name": "LinearProg.ipynb",
      "provenance": [],
      "toc_visible": true,
      "include_colab_link": true
    },
    "kernelspec": {
      "display_name": "Python 3",
      "language": "python",
      "name": "python3"
    },
    "language_info": {
      "codemirror_mode": {
        "name": "ipython",
        "version": 3
      },
      "file_extension": ".py",
      "mimetype": "text/x-python",
      "name": "python",
      "nbconvert_exporter": "python",
      "pygments_lexer": "ipython3",
      "version": "3.7.6"
    },
    "toc-autonumbering": true
  },
  "cells": [
    {
      "cell_type": "markdown",
      "metadata": {
        "id": "view-in-github",
        "colab_type": "text"
      },
      "source": [
        "<a href=\"https://colab.research.google.com/github/hrbolek/learning/blob/master/operanalyst/linearprog.ipynb\" target=\"_parent\"><img src=\"https://colab.research.google.com/assets/colab-badge.svg\" alt=\"Open In Colab\"/></a>"
      ]
    },
    {
      "cell_type": "markdown",
      "metadata": {
        "id": "DjI7Wb_dcleK"
      },
      "source": [
        "# Lineární programování"
      ]
    },
    {
      "cell_type": "markdown",
      "metadata": {
        "id": "F6WkcPkhxm-R"
      },
      "source": [
        "![obrazek.png](data:image/png;base64,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)"
      ]
    },
    {
      "cell_type": "markdown",
      "metadata": {
        "id": "715DPCZm4hAy"
      },
      "source": [
        "Lineární programování je matematická úloha, při které hledáme optimální řešení. Množina přípustných řešení (**feasible solutions**) je definována lineárními omezeními. Účelová funkce (**fitness function**) je lineární funkcí.\n",
        "\n",
        "Matematickým vyjádřením je\n",
        "\n",
        "$max\\{c^Tx:Ax\\le b\\}$\n",
        "\n",
        "https://www.youtube.com/watch?v=8IRrgDoV8Eo"
      ]
    },
    {
      "cell_type": "markdown",
      "metadata": {
        "id": "IrEXprUrJG_D"
      },
      "source": [
        "https://math.feld.cvut.cz/bohata/oth/p6.pdf\n",
        "http://labe.felk.cvut.cz/~tkrajnik/sdu/slides/slides9.pdf"
      ]
    },
    {
      "cell_type": "markdown",
      "metadata": {
        "id": "BL4KQ2rusoua"
      },
      "source": [
        "https://www.youtube.com/watch?v=8IRrgDoV8Eo\n"
      ]
    },
    {
      "cell_type": "markdown",
      "metadata": {
        "id": "QTEHo2FmcGlK"
      },
      "source": [
        "## Kanonický tvar úlohy lineárního programování"
      ]
    },
    {
      "cell_type": "markdown",
      "metadata": {
        "id": "J90AeBjO2F5W"
      },
      "source": [
        "$max\\{c^Tx:Ax = b, x \\le 0\\}$"
      ]
    },
    {
      "cell_type": "markdown",
      "metadata": {
        "id": "KulpdYzRymf4"
      },
      "source": [
        "#### Příklad\n",
        "$$f(x)=3x_1+2x_2 \\to max$$\n",
        "$$2x_1+x_2+x_3 = 100$$\n",
        "$$x_1+x_2 + x_4 = 80$$\n",
        "$$x_1 +x_5 = 40$$\n",
        "\n",
        "$$x_1\\ge 0, x_2\\ge 0, x_3\\ge 0, x_4\\ge 0, x_5\\ge 0$$"
      ]
    },
    {
      "cell_type": "markdown",
      "metadata": {
        "id": "_T1cmAfBy45M"
      },
      "source": [
        "#### Maticový tvar\n",
        "$$\\begin{pmatrix}\n",
        "2 & 1 & 1 & 0 & 0\\\\\n",
        "1 & 1 & 0 & 1 & 0\\\\\n",
        "1 & 0 & 0 & 0 & 1\n",
        "\\end{pmatrix} \\cdot \n",
        "\\begin{pmatrix}\n",
        "x_1\\\\\n",
        "x_2\\\\\n",
        "x_3\\\\\n",
        "x_4\\\\\n",
        "x_5\n",
        "\\end{pmatrix} =\n",
        "\\begin{pmatrix}\n",
        "100\\\\\n",
        "80\\\\\n",
        "40\n",
        "\\end{pmatrix}$$"
      ]
    },
    {
      "cell_type": "markdown",
      "metadata": {
        "id": "ONxPPb8KcL77"
      },
      "source": [
        "## Převedení úlohy lineárního programování na kanonický tvar"
      ]
    },
    {
      "cell_type": "markdown",
      "metadata": {
        "id": "i7Gnj8yT2RE0"
      },
      "source": [
        "### Úloha na maximum na úlohu na maximum (a naopak)"
      ]
    },
    {
      "cell_type": "markdown",
      "metadata": {
        "id": "0pBfNE9r2XA0"
      },
      "source": [
        "$min\\{c^Tx:Ax\\le b\\}$\n",
        "\n",
        "$max\\{-c^Tx:Ax\\le b\\}$\n",
        "\n"
      ]
    },
    {
      "cell_type": "markdown",
      "metadata": {
        "id": "2kl_TH86yBJt"
      },
      "source": [
        "#### Příklad\n",
        "$$f(x)=x_1+3x_2 \\to max$$\n",
        "$$-2x_1+x_2\\le 5$$\n",
        "$$-3x_1+x_2=7$$\n",
        "$$x_1\\ge 0, x_2\\ge 0$$\n",
        "\n"
      ]
    },
    {
      "cell_type": "markdown",
      "metadata": {
        "id": "-KDDG4nJyNRv"
      },
      "source": [
        "#### Řešení\n",
        "$$f(x)=-x_1-3x_2 \\to min$$\n",
        "$$-2x_1+x_2\\le 5$$\n",
        "$$-3x_1+x_2=7$$\n",
        "$$x_1\\ge 0, x_2\\ge 0$$"
      ]
    },
    {
      "cell_type": "markdown",
      "metadata": {
        "id": "qW-VCM9C2gz3"
      },
      "source": [
        "### Úloha s nerovnostmi na úlohu s rovnostmi"
      ]
    },
    {
      "cell_type": "markdown",
      "metadata": {
        "id": "l_-tSBe0cgGa"
      },
      "source": [
        "#### Příklad\n",
        "\n",
        "$$f(x)=x_1+3x_2 \\to max$$\n",
        "$$-2x_1+x_2\\le 5$$\n",
        "$$-3x_1+x_2=7$$\n",
        "$$x_1\\ge 0, x_2\\ge 0$$"
      ]
    },
    {
      "cell_type": "markdown",
      "metadata": {
        "id": "aQ5TFlhcdlD8"
      },
      "source": [
        "#### Řešení\n",
        "$$f(x)=x_1+3x_2 \\to max$$\n",
        "$$-2x_1+x_2+x_3= 5$$\n",
        "$$-3x_1+x_2=7$$\n",
        "$$x_1\\ge 0, x_2\\ge 0, x_3\\ge 0$$\n",
        "\n"
      ]
    },
    {
      "cell_type": "markdown",
      "metadata": {
        "id": "873GhizBxDpH"
      },
      "source": [
        "#### Maticový zápis\n",
        "$$\\begin{pmatrix}\n",
        "-2 & 1 & 1\\\\\n",
        "-3 & 1 & 0\n",
        "\\end{pmatrix} \\cdot \n",
        "\\begin{pmatrix}\n",
        "x_1\\\\\n",
        "x_2\\\\\n",
        "x_3\n",
        "\\end{pmatrix} =\n",
        "\\begin{pmatrix}\n",
        "5\\\\\n",
        "7\n",
        "\\end{pmatrix}$$"
      ]
    },
    {
      "cell_type": "markdown",
      "metadata": {
        "id": "HpoqRBGz_bcZ"
      },
      "source": [
        "#### Příklad\n",
        "$$f(x)=x_1+x_2 \\to min$$\n",
        "$$x_1-x_2 \\ge 1$$\n",
        "$$x_1+2x_2 \\ge 4$$\n",
        "$$x_1\\ge 0, x_2\\ge 0$$"
      ]
    },
    {
      "cell_type": "markdown",
      "metadata": {
        "id": "D-5HAQZ3_e3n"
      },
      "source": [
        "#### Řešení\n",
        "$$f(x)=x_1+x_2 \\to min$$\n",
        "$$x_1-x_2 -x_3 = 1$$\n",
        "$$x_1+2x_2 -x_4 = 4$$\n",
        "$$x_1\\ge 0, x_2\\ge 0, x_3 \\ge 0, x_4 \\ge 0$$"
      ]
    },
    {
      "cell_type": "markdown",
      "metadata": {
        "id": "-uMDQLQtzvOM"
      },
      "source": [
        "### Chybějící podmínka nezápornosti u proměnné"
      ]
    },
    {
      "cell_type": "markdown",
      "metadata": {
        "id": "bBjB-rb8z18R"
      },
      "source": [
        "#### Příklad\n",
        "\n",
        "$$f(x)=x_1+3x_2 \\to max$$\n",
        "$$-2x_1+x_2\\le 5$$\n",
        "$$-3x_1+x_2=7$$\n",
        "$$x_1\\ge 0$$"
      ]
    },
    {
      "cell_type": "markdown",
      "metadata": {
        "id": "J8fxBMAS0FMb"
      },
      "source": [
        "#### Řešení\n",
        "\n",
        "$$x_2=x_4-x_5$$\n",
        "$$x_4 \\ge 0, x_5 \\ge 0$$\n",
        "\n",
        "$$f(x)=x_1+3x_4-3x_5 \\to max$$\n",
        "$$-2x_1+x_4-x_5\\le 5$$\n",
        "$$-3x_1+x_4-x_5=7$$\n",
        "$$x_1\\ge 0, x_4 \\ge 0, x_5 \\ge 0$$"
      ]
    },
    {
      "cell_type": "markdown",
      "metadata": {
        "id": "ccclK7GA2rjI"
      },
      "source": [
        "## Grafické znázornění"
      ]
    },
    {
      "cell_type": "markdown",
      "metadata": {
        "id": "eUIG51Eje3Kz"
      },
      "source": [
        "#### Příklad\n",
        "$$f(x)=3x_1+2x_2 \\to max$$\n",
        "$$2x_1+x_2\\le 100$$\n",
        "$$x_1+x_2\\le 80$$\n",
        "$$x_1 \\le 40$$\n",
        "$$x_1\\ge 0, x_2\\ge 0$$"
      ]
    },
    {
      "cell_type": "code",
      "metadata": {
        "id": "GIxnlCRLgIbE"
      },
      "source": [
        "import numpy as np\n",
        "import matplotlib.pyplot as plt\n",
        "\n",
        "def plotf2D(a1, a2, b, xmin=0, xmax=10, ymin=0, ymax=10, label = ''):\n",
        "  # a1 * x1 + a2 * x2 = b\n",
        "  def byx(x):\n",
        "    result = (a1 * x - b) / (-a2)\n",
        "    return result\n",
        "  def byy(y):\n",
        "    result = (a2 * y - b) / (-a1)\n",
        "    return result\n",
        "\n",
        "  if abs(a1) < abs(a2):\n",
        "    x = np.linspace(xmin, xmax)\n",
        "    y = byx(x)\n",
        "    plt.plot(x, y, label=label)\n",
        "  else:\n",
        "    y = np.linspace(ymin, ymax)\n",
        "    x = byy(y)\n",
        "    plt.plot(x, y, label=label)"
      ],
      "execution_count": null,
      "outputs": []
    },
    {
      "cell_type": "code",
      "metadata": {
        "id": "dEq-WtwPw6oq",
        "colab": {
          "base_uri": "https://localhost:8080/",
          "height": 265
        },
        "outputId": "efcfb54d-233f-4c19-e770-9e555888bc46"
      },
      "source": [
        "plotf2D(2, 1, 100, xmax=80,ymax=80, label='$2x_1+x_2=100$')\n",
        "plotf2D(1, 1, 80, xmax=80,ymax=80, label='$x_1+x_2=80$')\n",
        "plotf2D(1, 0, 40, xmax=80,ymax=80, label='$x_1=40$')\n",
        "plotf2D(1, 0, 0, xmax=80,ymax=80, label='$x_1=0$')\n",
        "plotf2D(0, 1, 0, xmax=80,ymax=80, label='$x_2=0$')\n",
        "plt.grid(which='both')\n",
        "plt.legend()\n",
        "#plt.gca()\n",
        "plt.show()  "
      ],
      "execution_count": null,
      "outputs": [
        {
          "output_type": "display_data",
          "data": {
            "image/png": "[encoded data removed]",
            "text/plain": [
              "<Figure size 432x288 with 1 Axes>"
            ]
          },
          "metadata": {
            "tags": [],
            "needs_background": "light"
          }
        }
      ]
    },
    {
      "cell_type": "markdown",
      "metadata": {
        "id": "9sb9QraW3gyg"
      },
      "source": [
        "## Etapy řešení úlohy lineárního programování"
      ]
    },
    {
      "cell_type": "markdown",
      "metadata": {
        "id": "rpkABVZaxWT4"
      },
      "source": [
        "### Jednotková matice v řešení"
      ]
    },
    {
      "cell_type": "markdown",
      "metadata": {
        "id": "Y3yNiCY0xeAh"
      },
      "source": [
        "Je-li v matici $A$ jednotková submatice, lze přímo psát přípustné řešení."
      ]
    },
    {
      "cell_type": "markdown",
      "metadata": {
        "id": "kf_U0Jlm3uP3"
      },
      "source": [
        "#### Příklad\n",
        "$$f(x)=3x_1+2x_2 \\to max$$\n",
        "$$2x_1+x_2+x_3 = 100$$\n",
        "$$x_1+x_2 + x_4 = 80$$\n",
        "$$x_1 +x_5 = 40$$\n",
        "$$x_1\\ge 0, x_2\\ge 0, x_3\\ge 0, x_4\\ge 0, x_5\\ge 0$$"
      ]
    },
    {
      "cell_type": "markdown",
      "metadata": {
        "id": "L6h0F7N-3z2w"
      },
      "source": [
        "#### Maticový zápis\n",
        "$$\\begin{pmatrix}\n",
        "2 & 1 & 1 & 0 & 0\\\\\n",
        "1 & 1 & 0 & 1 & 0\\\\\n",
        "1 & 0 & 0 & 0 & 1\n",
        "\\end{pmatrix} \\cdot \n",
        "\\begin{pmatrix}\n",
        "x_1\\\\\n",
        "x_2\\\\\n",
        "x_3\\\\\n",
        "x_4\\\\\n",
        "x_5\n",
        "\\end{pmatrix} =\n",
        "\\begin{pmatrix}\n",
        "100\\\\\n",
        "80\\\\\n",
        "40\n",
        "\\end{pmatrix}$$"
      ]
    },
    {
      "cell_type": "markdown",
      "metadata": {
        "id": "DQgKBSpJ3230"
      },
      "source": [
        "Přípustným řešením je\n",
        "\n",
        "$$\\begin{pmatrix}\n",
        "x_1\\\\\n",
        "x_2\\\\\n",
        "x_3\\\\\n",
        "x_4\\\\\n",
        "x_5\n",
        "\\end{pmatrix} =\n",
        "\\begin{pmatrix}\n",
        "0\\\\\n",
        "0\\\\\n",
        "100\\\\\n",
        "80\\\\\n",
        "40\n",
        "\\end{pmatrix}$$\n",
        "\n",
        "Hodnota kriteriální funkce je\n",
        "$$f(x)=0$$"
      ]
    },
    {
      "cell_type": "markdown",
      "metadata": {
        "id": "3_RJ_hdh-GGm"
      },
      "source": [
        "## Jednotková matice v řešení není\n",
        "\n",
        "Nelze tedy ihned psát přípustné řešení."
      ]
    },
    {
      "cell_type": "markdown",
      "metadata": {
        "id": "RCO7KE04-QDQ"
      },
      "source": [
        "#### Příklad\n",
        "$$f(x)=x_1+x_2 \\to min$$\n",
        "$$x_1-x_2 \\ge 1$$\n",
        "$$x_1+2x_2 \\ge 4$$\n",
        "$$x_1\\ge 0, x_2\\ge 0$$"
      ]
    },
    {
      "cell_type": "markdown",
      "metadata": {
        "id": "NhFVEasu-vSJ"
      },
      "source": [
        "#### Kanonický tvar\n",
        "$$f(x)=x_1+x_2 \\to min$$\n",
        "$$x_1-x_2 -x_3 = 1$$\n",
        "$$x_1+2x_2 -x_4 = 4$$\n",
        "$$x_1\\ge 0, x_2\\ge 0, x_3 \\ge 0, x_4 \\ge 0$$"
      ]
    },
    {
      "cell_type": "markdown",
      "metadata": {
        "id": "rS6fJTtS_Ip2"
      },
      "source": [
        "#### Maticový zápis\n",
        "$$\\begin{pmatrix}\n",
        "1 & -1 & -1 & 0 \\\\\n",
        "1 & 2 & 0 & -1\\\\\n",
        "\\end{pmatrix} \\cdot \n",
        "\\begin{pmatrix}\n",
        "x_1\\\\\n",
        "x_2\\\\\n",
        "x_3\\\\\n",
        "x_4\n",
        "\\end{pmatrix} =\n",
        "\\begin{pmatrix}\n",
        "1\\\\\n",
        "4\n",
        "\\end{pmatrix}$$"
      ]
    },
    {
      "cell_type": "markdown",
      "metadata": {
        "id": "fJVZ61reDQhA"
      },
      "source": [
        "#### Kanonický tvar II\n",
        "$$f(x,u)=x_1+x_2 +Mu_5+Mu_6 \\to min$$\n",
        "$$x_1-x_2 -x_3 +u_5= 1$$\n",
        "$$x_1+2x_2 -x_4 +u_6= 4$$\n",
        "$$x_1\\ge 0, x_2\\ge 0, x_3 \\ge 0, x_4 \\ge 0, u_5 \\ge 0, u_6 \\ge 0$$"
      ]
    },
    {
      "cell_type": "markdown",
      "metadata": {
        "id": "A6A5JU58DdDJ"
      },
      "source": [
        "#### Maticový zápis II\n",
        "$$\\begin{pmatrix}\n",
        "1 & -1 & -1 & 0 & 1 & 0\\\\\n",
        "1 & 2 & 0 & -1 & 0 & 1\\\\\n",
        "\\end{pmatrix} \\cdot \n",
        "\\begin{pmatrix}\n",
        "x_1\\\\\n",
        "x_2\\\\\n",
        "x_3\\\\\n",
        "x_4\\\\\n",
        "u_5\\\\\n",
        "u_6\n",
        "\\end{pmatrix} =\n",
        "\\begin{pmatrix}\n",
        "1\\\\\n",
        "4\n",
        "\\end{pmatrix}$$"
      ]
    },
    {
      "cell_type": "markdown",
      "metadata": {
        "id": "TyA3P7XwD1N-"
      },
      "source": [
        "Přípustným řešením je \n",
        "$$\\begin{pmatrix}\n",
        "x_1\\\\\n",
        "x_2\\\\\n",
        "x_3\\\\\n",
        "x_4\\\\\n",
        "u_5\\\\\n",
        "u_6\n",
        "\\end{pmatrix} =\n",
        "\\begin{pmatrix}\n",
        "0\\\\\n",
        "0\\\\\n",
        "0\\\\\n",
        "0\\\\\n",
        "1\\\\\n",
        "4\n",
        "\\end{pmatrix}$$\n",
        "Hodnota kriteriální funkce je\n",
        "$$f(x,u)=M+4M=5M$$"
      ]
    },
    {
      "cell_type": "markdown",
      "metadata": {
        "id": "6fW_3u2htiRJ"
      },
      "source": [
        "## Vzorová úloha"
      ]
    },
    {
      "cell_type": "markdown",
      "metadata": {
        "id": "6r2P6y7Otnuw"
      },
      "source": [
        "### Zadání"
      ]
    },
    {
      "cell_type": "markdown",
      "metadata": {
        "id": "s9_GYV9Qtxh3"
      },
      "source": [
        "$$f(x)=-8x_1-10x_2-7x_3 \\to min$$\n",
        "$$x_1+3x_2+2x_3 \\le 10$$\n",
        "$$-x_1-5x_2-x_3 \\ge -8$$\n",
        "$$x_1 \\le 0, x_2 \\le 0, x_3 \\le 0$$"
      ]
    },
    {
      "cell_type": "markdown",
      "metadata": {
        "id": "x7ZXr_k7tt6g"
      },
      "source": [
        "### Převedení na úlohu na maximum"
      ]
    },
    {
      "cell_type": "markdown",
      "metadata": {
        "id": "woBQLHvct9Xk"
      },
      "source": [
        "$$f(x)=8x_1+10x_2+7x_3 \\to max$$\n",
        "$$x_1+3x_2+2x_3 \\le 10$$\n",
        "$$x_1+5x_2+x_3 \\le 8$$\n",
        "$$x_1 \\le 0, x_2 \\le 0, x_3 \\le 0$$"
      ]
    },
    {
      "cell_type": "markdown",
      "metadata": {
        "id": "Mq2LsTqot-Y9"
      },
      "source": [
        "### Odstranění nerovností"
      ]
    },
    {
      "cell_type": "markdown",
      "metadata": {
        "id": "JAoTFDwvuBPQ"
      },
      "source": [
        "$$f(x)=8x_1+10x_2+7x_3 \\to max$$\n",
        "$$x_1+3x_2+2x_3+x_4 = 10$$\n",
        "$$x_1+5x_2+x_3+x_5 = 8$$\n",
        "$$x_1 \\le 0, x_2 \\le 0, x_3 \\le 0, x_4 \\le 0, x_5 \\le 0$$"
      ]
    },
    {
      "cell_type": "markdown",
      "metadata": {
        "id": "U-uzzSjiuDeU"
      },
      "source": [
        "### Vytvoření simplexové tabulky"
      ]
    },
    {
      "cell_type": "markdown",
      "metadata": {
        "id": "1b0uWwvluHDA"
      },
      "source": [
        "|$x_1$|$x_2$|$x_3$|$x_4$|$x_5$| |$b$|\n",
        "|:---:|:---:|:---:|:---:|:---:|:----:|:--:|\n",
        "|  1  |  3  |  2  |  1  |  0  |      | 10 |\n",
        "|  1  |  5  |  1  |  0  |  1  |      | 8  |\n",
        "|  -8 | -10 |  -7 |  0  |  0  |      | 0  |"
      ]
    },
    {
      "cell_type": "markdown",
      "metadata": {
        "id": "aYrMwVCAuLTO"
      },
      "source": [
        "### Aktuální řešení přečtené ze simplexové tabulky "
      ]
    },
    {
      "cell_type": "markdown",
      "metadata": {
        "id": "Igid7Tq0uOKz"
      },
      "source": [
        "$$x_1=0, x_2=0, x_3=0, x_4=10, x_5=8$$\n",
        "$$f(x)=0$$"
      ]
    },
    {
      "cell_type": "markdown",
      "metadata": {
        "id": "M9SsMvoYuQn0"
      },
      "source": [
        "### Ověření optimality řešení"
      ]
    },
    {
      "cell_type": "markdown",
      "metadata": {
        "id": "eBLkEbW8uS4n"
      },
      "source": [
        "|$x_1$|$x_2$|$x_3$|$x_4$|$x_5$| |$b$|\n",
        "|:---:|:---:|:---:|:---:|:---:|:----:|:--:|\n",
        "|  1  |  3  |  2  |  1  |  0  |      | 10 |\n",
        "|  1  |  5  |  1  |  0  |  1  |      | 8  |\n",
        "|  **-8** | **-10** |  **-7** |  0   |  0  |      | 0  |\n",
        "| ⬆ | ⬆ |   ⬆  |     |     |      |    |\n",
        "| záporná | záporná | záporná  |     |     |      |    |\n",
        "\n",
        "Tučné hodnoty jsou záporné, jejich existence potvrzuje skutečnost, že je nutné provést další kroky k dosažení optimálního řešení."
      ]
    },
    {
      "cell_type": "markdown",
      "metadata": {
        "id": "4Y1uB5D1uU0t"
      },
      "source": [
        "### Nalezení proměnné jdoucí do báze"
      ]
    },
    {
      "cell_type": "markdown",
      "metadata": {
        "id": "Kt2hkvvQubgs"
      },
      "source": [
        "|$x_1$|$x_2$|$x_3$|$x_4$|$x_5$| |$b$|\n",
        "|:---:|:---:|:---:|:---:|:---:|:----:|:--:|\n",
        "|  1  |  3  |  2  |  1  |  0  |      | 10 |\n",
        "|  1  |  5  |  1  |  0  |  1  |      | 8  |\n",
        "|  -8 | **-10** |  -7 |  0  |  0  |      | 0  |\n",
        "|  | ⬆ |     |     |     |      |    |\n",
        "\n",
        "Nejmenší záporná hodnota (-10) ukazuje proměnnou, která půjde do báze.\n"
      ]
    },
    {
      "cell_type": "markdown",
      "metadata": {
        "id": "W5GByJFDufGL"
      },
      "source": [
        "### Nalezení proměnné, která bude v bázi nahrazena"
      ]
    },
    {
      "cell_type": "markdown",
      "metadata": {
        "id": "p2f6fdF1uhd_"
      },
      "source": [
        "|$x_1$|$x_2$|$x_3$|$x_4$|$x_5$| |$b$| | | |\n",
        "|:---:|:---:|:---:|:---:|:---:|:----:|:--:| | | |\n",
        "|  1  |  3  |  2  |  1  |  0  |      | 10 | | $$\\frac{10}{3}$$ | |\n",
        "|  1  |  5  |  1  |  0  |  1  |      | 8  | | $$\\frac{8}{5}$$ | ⬅ / nejmenší |\n",
        "|  -8 | **-10** |  -7 |  0  |  0  |      | 0  | | | |"
      ]
    },
    {
      "cell_type": "markdown",
      "metadata": {
        "id": "DIRxOTPgulTL"
      },
      "source": [
        "### Vytvoření nové tabulky / Předvyplnění \"vybraného řádku\""
      ]
    },
    {
      "cell_type": "markdown",
      "metadata": {
        "id": "aSwS_wuPupgB"
      },
      "source": [
        "|$x_1$|$x_2$|$x_3$|$x_4$|$x_5$| |$b$| | | \n",
        "|:---:|:---:|:---:|:---:|:---:|:----:|:--:| | | \n",
        "|     |     |     |     |     |      |    | |  | \n",
        "|  1  |  5  |  1  |  0  |  1  |      | 8  | | $$\\frac{8}{5}$$ | \n",
        "|     |     |     |     |     |      |    | | | "
      ]
    },
    {
      "cell_type": "markdown",
      "metadata": {
        "id": "9aLUqrEVusu9"
      },
      "source": [
        "### Vytvoření nové tabulky / Doplnění tabulky"
      ]
    },
    {
      "cell_type": "markdown",
      "metadata": {
        "id": "U_o1jG8LuxNu"
      },
      "source": [
        "|$x_1$|$x_2$|$x_3$|$x_4$|$x_5$| |$b$| | \n",
        "|:---:|:---:|:---:|:---:|:---:|:----:|:--:| | \n",
        "|  $$\\frac{2}{5}$$   |  0  | $$\\frac{7}{5}$$  |  1   | $$-\\frac{3}{5}$$ |      | $$\\frac{26}{5}$$   | |   \n",
        "|  $$\\frac{1}{5}$$  |  1  |  $$\\frac{1}{5}$$  |  0  |  $$\\frac{1}{5}$$  |      | $$\\frac{8}{5}$$  | | \n",
        "|   -6  | 0    |  -5   | 0    |  2   |       |  16  | | "
      ]
    },
    {
      "cell_type": "markdown",
      "metadata": {
        "id": "IzdQejyluzYU"
      },
      "source": [
        "### Aktuální řešení přečtené ze simplexové tabulky "
      ]
    },
    {
      "cell_type": "markdown",
      "metadata": {
        "id": "CbfnkMFgu335"
      },
      "source": [
        "$$x_1=0, x_2=\\frac{8}{5}, x_3=0, x_4=\\frac{26}{5}, x_5=0$$\n",
        "$$f(x)=16$$"
      ]
    },
    {
      "cell_type": "markdown",
      "metadata": {
        "id": "hnJB_Wfpu57Z"
      },
      "source": [
        "### Srovnání původní a nové tabulky"
      ]
    },
    {
      "cell_type": "markdown",
      "metadata": {
        "id": "ks3EK3hWu8ie"
      },
      "source": [
        "Původní\n",
        "\n",
        "|$x_1$|$x_2$|$x_3$|$x_4$|$x_5$| |$b$|\n",
        "|:---:|:---:|:---:|:---:|:---:|:----:|:--:|\n",
        "|  1  |  3  |  2  |  1  |  0  |      | 10 |\n",
        "|  1  |  5  |  1  |  0  |  1  |      | 8  |\n",
        "|  -8 | -10 |  -7 |  0  |  0  |      | 0  |\n",
        "\n",
        "Nová\n",
        "\n",
        "|$x_1$|$x_2$|$x_3$|$x_4$|$x_5$| |$b$| | \n",
        "|:---:|:---:|:---:|:---:|:---:|:----:|:--:| | \n",
        "|  $$\\frac{2}{5}$$   |  0  | $$\\frac{7}{5}$$  |  1   | $$-\\frac{3}{5}$$ |      | $$\\frac{26}{5}$$   | |   \n",
        "|  $$\\frac{1}{5}$$  |  1  |  $$\\frac{1}{5}$$  |  0  |  $$\\frac{1}{5}$$  |      | $$\\frac{8}{5}$$  | | \n",
        "|   -6  | 0    |  -5   | 0    |  2   |       |  16  | | "
      ]
    },
    {
      "cell_type": "markdown",
      "metadata": {
        "id": "rlKM-Hd4vFOV"
      },
      "source": [
        "### Ověření optimality řešení"
      ]
    },
    {
      "cell_type": "markdown",
      "metadata": {
        "id": "qDKYi4RWvMhL"
      },
      "source": [
        "|$x_1$|$x_2$|$x_3$|$x_4$|$x_5$| |$b$| | \n",
        "|:---:|:---:|:---:|:---:|:---:|:----:|:--:| | \n",
        "|  $$\\frac{2}{5}$$   |  0  | $$\\frac{7}{5}$$  |  1   | $$-\\frac{3}{5}$$ |      | $$\\frac{26}{5}$$   | |   \n",
        "|  $$\\frac{1}{5}$$  |  1  |  $$\\frac{1}{5}$$  |  0  |  $$\\frac{1}{5}$$  |      | $$\\frac{8}{5}$$  | | \n",
        "|   -6  | 0    |  -5   | 0    |  2   |       |  16  | | \n",
        "|    ⬆ <br/>nejmenší  |      |       |      |      |       |      |\n"
      ]
    },
    {
      "cell_type": "markdown",
      "metadata": {
        "id": "A8ZQLjkcvO0C"
      },
      "source": [
        "### Identifikace proměnné jdoucí z báze"
      ]
    },
    {
      "cell_type": "markdown",
      "metadata": {
        "id": "uu20Zo8cvRL5"
      },
      "source": [
        "|$x_1$|$x_2$|$x_3$|$x_4$|$x_5$| |$b$| | |\n",
        "|:---:|:---:|:---:|:---:|:---:|:----:|:--:| | |\n",
        "|  $$\\frac{2}{5}$$   |  0  | $$\\frac{7}{5}$$  |  1   | $$-\\frac{3}{5}$$ |      | $$\\frac{26}{5}$$   | |   $$\\frac{\\frac{26}{5}}{\\frac{2}{5}}=13$$|\n",
        "|  $$\\frac{1}{5}$$  |  1  |  $$\\frac{1}{5}$$  |  0  |  $$\\frac{1}{5}$$  |      | $$\\frac{8}{5}$$  | | $$\\frac{\\frac{8}{5}}{\\frac{1}{5}}=8$$|\n",
        "|   -6  | 0    |  -5   | 0    |  2   |       |  16  | | |\n",
        "|    ⬆ <br/>nejmenší  |      |       |      |      |       |      ||"
      ]
    },
    {
      "cell_type": "markdown",
      "metadata": {
        "id": "fxvPKPFyvWoV"
      },
      "source": [
        "### Vytvoření nové tabulky / Předvyplnění řádku"
      ]
    },
    {
      "cell_type": "markdown",
      "metadata": {
        "id": "sZwCQfcAvd9I"
      },
      "source": [
        "|$x_1$|$x_2$|$x_3$|$x_4$|$x_5$| |$b$ |||\n",
        "|:---:|:---:|:---:|:---:|:---:|:------:|:--:|||\n",
        "|     |     |     |     |     |        |    |||\n",
        "|  1  |  5  |  1  |  0  |  1  |        | 8  |||\n",
        "|     |     |     |     |     |        |    |||"
      ]
    },
    {
      "cell_type": "markdown",
      "metadata": {
        "id": "OT1hY9jXvn23"
      },
      "source": [
        "### Vytvoření nové tabulky / Doplnění tabulky"
      ]
    },
    {
      "cell_type": "markdown",
      "metadata": {
        "id": "lYSC5FWsvo7y"
      },
      "source": [
        "|$x_1$|$x_2$|$x_3$|$x_4$|$x_5$| |$b$ |||\n",
        "|:---:|:---:|:---:|:---:|:---:|:------:|:--:|||\n",
        "|  0  |  -2 |  1  |  1  |  -1 |        | 2  |||\n",
        "|  1  |  5  |  1  |  0  |  1  |        | 8  |||\n",
        "|  0  |  30 |  1  |  0  |  8  |        | 64 |||"
      ]
    },
    {
      "cell_type": "markdown",
      "metadata": {
        "id": "Iua2Q1DAvrEd"
      },
      "source": [
        "### Aktuální řešení přečtené ze simplexové tabulky"
      ]
    },
    {
      "cell_type": "markdown",
      "metadata": {
        "id": "eXMqWzZSvvwd"
      },
      "source": [
        "$$x_1=8, x_2=0, x_3=0, x_4=2, x_5=0$$\n",
        "$$f(x)=64$$"
      ]
    },
    {
      "cell_type": "markdown",
      "metadata": {
        "id": "jYxETSZ6vwv4"
      },
      "source": [
        "### Řešení původní úlohy"
      ]
    },
    {
      "cell_type": "markdown",
      "metadata": {
        "id": "2ByY4PDcv1FN"
      },
      "source": [
        "$$f(x)=-8x_1-10x_2-7x_3 \\to min$$\n",
        "$$x_1+3x_2+2x_3 \\le 10$$\n",
        "$$-x_1-5x_2-x_3 \\ge -8$$\n",
        "$$x_1 \\le 0, x_2 \\le 0, x_3 \\le 0$$\n",
        "Přečtené ze simplexové tabulky\n",
        "$$x_1=8, x_2=0, x_3=0$$\n",
        "$$f(x)=-64$$"
      ]
    },
    {
      "cell_type": "markdown",
      "metadata": {
        "id": "mfTYM49Wt1Mx"
      },
      "source": [
        "## Duální úloha lineárního programování"
      ]
    },
    {
      "cell_type": "markdown",
      "metadata": {
        "id": "P_-351DpInXj"
      },
      "source": [
        "$$max\\{c^Tx:Ax \\le b, x \\ge 0\\}$$\n",
        "$$min\\{b^Tu:A^Tu \\ge c, u \\ge 0\\}$$"
      ]
    },
    {
      "cell_type": "markdown",
      "metadata": {
        "id": "s0GYXY1oJMu2"
      },
      "source": [
        "Má-li jedna z dvojice duálních sdružených úloh lineárního programování optimální řešení, pak má i druhá úloha optimální řešení a hodnoty účelových funkcí (pro tato optimální řešení) jsou stejné."
      ]
    },
    {
      "cell_type": "code",
      "metadata": {
        "id": "0j8PfuDr3wKP"
      },
      "source": [
        ""
      ],
      "execution_count": null,
      "outputs": []
    },
    {
      "cell_type": "markdown",
      "metadata": {
        "id": "xcLlDhJKHKgQ"
      },
      "source": [
        "# Python"
      ]
    },
    {
      "cell_type": "markdown",
      "metadata": {
        "id": "EYslp8YEI9yB"
      },
      "source": [
        "## Použití Pythonu při řešení úlohy LP"
      ]
    },
    {
      "cell_type": "markdown",
      "metadata": {
        "id": "i1gXLccnOlfz"
      },
      "source": [
        "### Příklad\n",
        "$$f(x)=4x_1+10x_2 \\to min$$\n",
        "$$x_1+x_2 \\le 3$$\n",
        "$$2x_1+5x_2 = 12$$\n",
        "$$x_1 \\ge 0, x_2 \\ge 0$$"
      ]
    },
    {
      "cell_type": "markdown",
      "metadata": {
        "id": "T3TVYWgCLTBk"
      },
      "source": [
        "### Knihovna ```scipy```"
      ]
    },
    {
      "cell_type": "code",
      "metadata": {
        "id": "_u8qd3DoJQ6j"
      },
      "source": [
        "from scipy.optimize import linprog as lp"
      ],
      "execution_count": null,
      "outputs": []
    },
    {
      "cell_type": "code",
      "metadata": {
        "id": "XfN04KP_JYCW",
        "colab": {
          "base_uri": "https://localhost:8080/",
          "height": 182
        },
        "outputId": "b710eaed-4e07-4232-b1ac-2d9bdaa6b35f"
      },
      "source": [
        "c = [4, 10]\n",
        "Ane = [[1, 1]]\n",
        "bne = [3]\n",
        "Ae = [[2, 5]]\n",
        "be = [12]\n",
        "result = lp(c=c, A_ub=Ane, b_ub=bne, A_eq=Ae, b_eq=be, bounds=((0, None), (0, None)), method='simplex')\n",
        "print(f'Solution found at {result.x} where f(x) = {result.fun}. That\\'s {result.success}.')\n",
        "print(result)"
      ],
      "execution_count": null,
      "outputs": [
        {
          "output_type": "stream",
          "text": [
            "Solution found at [0.  2.4] where f(x) = 24.0. That's True.\n",
            "     con: array([0.])\n",
            "     fun: 24.0\n",
            " message: 'Optimization terminated successfully.'\n",
            "     nit: 2\n",
            "   slack: array([0.6])\n",
            "  status: 0\n",
            " success: True\n",
            "       x: array([0. , 2.4])\n"
          ],
          "name": "stdout"
        }
      ]
    },
    {
      "cell_type": "markdown",
      "metadata": {
        "id": "jPf9KNL6LP8-"
      },
      "source": [
        "### Knihovna ```pulp```"
      ]
    },
    {
      "cell_type": "code",
      "metadata": {
        "id": "lhzdh2b-HhCc",
        "colab": {
          "base_uri": "https://localhost:8080/",
          "height": 90
        },
        "outputId": "73cb5777-dbf0-4d4d-cc47-4a4714b6af9b"
      },
      "source": [
        "!pip install pulp"
      ],
      "execution_count": null,
      "outputs": [
        {
          "output_type": "stream",
          "text": [
            "Requirement already satisfied: pulp in /usr/local/lib/python3.6/dist-packages (2.3)\n",
            "Requirement already satisfied: amply>=0.1.2 in /usr/local/lib/python3.6/dist-packages (from pulp) (0.1.4)\n",
            "Requirement already satisfied: pyparsing in /usr/local/lib/python3.6/dist-packages (from amply>=0.1.2->pulp) (2.4.7)\n",
            "Requirement already satisfied: docutils>=0.3 in /usr/local/lib/python3.6/dist-packages (from amply>=0.1.2->pulp) (0.16)\n"
          ],
          "name": "stdout"
        }
      ]
    },
    {
      "cell_type": "code",
      "metadata": {
        "id": "EnsQ2KjSHNNe",
        "colab": {
          "base_uri": "https://localhost:8080/",
          "height": 90
        },
        "outputId": "503c8192-5057-43ff-d389-f99664007f1f"
      },
      "source": [
        "from pulp import *\n",
        "prob = LpProblem(\"School problem\", LpMinimize)\n",
        "x1 = LpVariable(\"x1\", 0, 1000)\n",
        "x2 = LpVariable(\"x2\", 0, 1000)\n",
        "prob += (x1 + x2 <= 3)\n",
        "prob += (2 * x1 + 5 * x2 == 12)\n",
        "prob += (4 * x1 + 10 * x2)\n",
        "status = prob.solve()\n",
        "\n",
        "print(f'x1={value(x1)}, x2={value(x2)}')\n",
        "print(LpStatus[status])"
      ],
      "execution_count": null,
      "outputs": [
        {
          "output_type": "stream",
          "text": [
            "x1=0.0, x2=2.4\n",
            "Optimal\n"
          ],
          "name": "stdout"
        },
        {
          "output_type": "stream",
          "text": [
            "/usr/local/lib/python3.6/dist-packages/pulp/pulp.py:1195: UserWarning: Spaces are not permitted in the name. Converted to '_'\n",
            "  warnings.warn(\"Spaces are not permitted in the name. Converted to '_'\")\n"
          ],
          "name": "stderr"
        }
      ]
    },
    {
      "cell_type": "markdown",
      "metadata": {
        "id": "YcCe4d0cvyHQ"
      },
      "source": [
        "## Příklady"
      ]
    },
    {
      "cell_type": "markdown",
      "metadata": {
        "id": "RDJH01TyEzc8"
      },
      "source": [
        "### Příklad\n",
        "$$f(x)=5x_1+6x_2 \\to min$$\n",
        "$$x_1+2x_2 \\ge 10$$\n",
        "$$2x_1+3x_2 \\ge 17$$\n",
        "$$x_1 \\ge 0, x_2 \\ge 0$$"
      ]
    },
    {
      "cell_type": "markdown",
      "metadata": {
        "id": "sWdKpez3FQ6R"
      },
      "source": [
        "### Řešení"
      ]
    },
    {
      "cell_type": "code",
      "metadata": {
        "id": "Q8YnAGU3FU0x"
      },
      "source": [
        ""
      ],
      "execution_count": null,
      "outputs": []
    },
    {
      "cell_type": "markdown",
      "metadata": {
        "id": "CEnmjQN1FV1z"
      },
      "source": [
        "### Příklad\n",
        "$$f(x)=3x_1+5x_2 \\to min$$\n",
        "$$x_1+2x_2 \\ge 10$$\n",
        "$$2x_1+3x_2 \\ge 17$$\n",
        "$$x_1 \\ge 0, x_2 \\ge 0$$"
      ]
    },
    {
      "cell_type": "markdown",
      "metadata": {
        "id": "c4_pez1sFgrO"
      },
      "source": [
        "### Řešení"
      ]
    },
    {
      "cell_type": "code",
      "metadata": {
        "id": "XScVuP13FhRK"
      },
      "source": [
        ""
      ],
      "execution_count": null,
      "outputs": []
    },
    {
      "cell_type": "markdown",
      "metadata": {
        "id": "8iYlkmn7Fl4M"
      },
      "source": [
        "### Příklad\n",
        "$$f(x)=4x_1+10x_2 \\to min$$\n",
        "$$x_1+x_2 \\le 3$$\n",
        "$$2x_1+5x_2 = 12$$\n",
        "$$x_1 \\ge 0, x_2 \\ge 0$$"
      ]
    },
    {
      "cell_type": "markdown",
      "metadata": {
        "id": "ndo8UMECFi4U"
      },
      "source": [
        "### Řešení"
      ]
    },
    {
      "cell_type": "code",
      "metadata": {
        "id": "1Lp5NNbFFjad"
      },
      "source": [
        ""
      ],
      "execution_count": null,
      "outputs": []
    },
    {
      "cell_type": "markdown",
      "metadata": {
        "id": "3yxGZd44v1gV"
      },
      "source": [
        "### Příklad 1"
      ]
    },
    {
      "cell_type": "markdown",
      "metadata": {
        "id": "mZGIzCEVv5jl"
      },
      "source": [
        "Surový materiál je dodáván v délce 7 m. Požadavek je produkovat délky 2.3 m (A), 1.9 m (B) a 0.8 m (C) v počtech A 60 ks, B 90 ks a C 320 ks. Stanovte minimální počet kusů surového materiálu."
      ]
    },
    {
      "cell_type": "code",
      "metadata": {
        "id": "HtoI84V9LVw0"
      },
      "source": [
        "delkaZdroje = 7\n",
        "delkyVysledku = (2.3, 1.9, 0.8) \n",
        "poctyVysledku = (60, 90, 320)"
      ],
      "execution_count": null,
      "outputs": []
    },
    {
      "cell_type": "code",
      "metadata": {
        "id": "Ewu3eDat2lQt",
        "colab": {
          "base_uri": "https://localhost:8080/"
        },
        "outputId": "03887eb4-6218-49f1-f31d-00c6e1fa5b78"
      },
      "source": [
        "def cutIt(source, results):\n",
        "  '''\n",
        "  Pocita mozne rozrezani materialu, \n",
        "  zdrojovy material je source, results cilove delky\n",
        "  '''\n",
        "  \n",
        "  noyield = True # zadny vysledek nebyl vygenerovan\n",
        "  for current in results:\n",
        "    \n",
        "    if current <= source: # rez lze provest jen tehdy, pokud je surovina delsi nez vysledek\n",
        "      \n",
        "      # zjistime mozne rezy ze zbytku\n",
        "      for cutting in cutIt(source - current, results):\n",
        "        if len(cutting) == 0:\n",
        "          # rez je \"nerez\", vracena prazdna konfigurace\n",
        "          noyield = False\n",
        "          yield [current] # vysledna konfigurace rezu tedy obsahuje jen jeden prvek\n",
        "          continue\n",
        "        if current >= max(cutting):\n",
        "          # vraceny cutting je serazen podle velikost, tedy zastupuje vsechny ekvivalentni kombinace \n",
        "          noyield = False\n",
        "          yield [current, *cutting]\n",
        "  if noyield:\n",
        "    # zadna konfigurace rezu nebyla vracena, musime vratit prazdnou konfiguraci\n",
        "    yield []\n",
        "\n",
        "for index, possibleCut in enumerate(cutIt(delkaZdroje, delkyVysledku)):\n",
        "  print(index, '.\\tcut:', possibleCut, '\\tΣ', sum(possibleCut))"
      ],
      "execution_count": null,
      "outputs": [
        {
          "output_type": "stream",
          "text": [
            "0 .\tcut: [2.3, 2.3, 2.3] \tΣ 6.8999999999999995\n",
            "1 .\tcut: [2.3, 2.3, 1.9] \tΣ 6.5\n",
            "2 .\tcut: [2.3, 2.3, 0.8, 0.8, 0.8] \tΣ 6.999999999999999\n",
            "3 .\tcut: [2.3, 1.9, 1.9, 0.8] \tΣ 6.8999999999999995\n",
            "4 .\tcut: [2.3, 1.9, 0.8, 0.8, 0.8] \tΣ 6.599999999999999\n",
            "5 .\tcut: [2.3, 0.8, 0.8, 0.8, 0.8, 0.8] \tΣ 6.299999999999999\n",
            "6 .\tcut: [1.9, 1.9, 1.9, 0.8] \tΣ 6.499999999999999\n",
            "7 .\tcut: [1.9, 1.9, 0.8, 0.8, 0.8] \tΣ 6.199999999999999\n",
            "8 .\tcut: [1.9, 0.8, 0.8, 0.8, 0.8, 0.8, 0.8] \tΣ 6.699999999999999\n",
            "9 .\tcut: [0.8, 0.8, 0.8, 0.8, 0.8, 0.8, 0.8, 0.8] \tΣ 6.3999999999999995\n"
          ],
          "name": "stdout"
        }
      ]
    },
    {
      "cell_type": "code",
      "metadata": {
        "id": "92lOo9ET9Oae",
        "colab": {
          "base_uri": "https://localhost:8080/"
        },
        "outputId": "aa69e975-8146-4acf-aded-b8f9e5d8db11"
      },
      "source": [
        "def countIt(configuration, results):\n",
        "  result = {}\n",
        "  for item in results:\n",
        "    result[item] = 0\n",
        "  for item in configuration:\n",
        "    result[item] += 1\n",
        "  return result\n",
        "\n",
        "def countAll(configurations, results):\n",
        "  for configuration in configurations:\n",
        "    yield countIt(configuration, results)\n",
        "\n",
        "variants = list(countAll(cutIt(delkaZdroje, delkyVysledku), delkyVysledku))\n",
        "\n",
        "for index, possibleCut in enumerate(variants):\n",
        "  print(index, '.\\tcut:', possibleCut, '\\tΣ', sum(map(lambda x: x[0] * x[1], possibleCut.items())))"
      ],
      "execution_count": null,
      "outputs": [
        {
          "output_type": "stream",
          "text": [
            "0 .\tcut: {2.3: 3, 1.9: 0, 0.8: 0} \tΣ 6.8999999999999995\n",
            "1 .\tcut: {2.3: 2, 1.9: 1, 0.8: 0} \tΣ 6.5\n",
            "2 .\tcut: {2.3: 2, 1.9: 0, 0.8: 3} \tΣ 7.0\n",
            "3 .\tcut: {2.3: 1, 1.9: 2, 0.8: 1} \tΣ 6.8999999999999995\n",
            "4 .\tcut: {2.3: 1, 1.9: 1, 0.8: 3} \tΣ 6.6\n",
            "5 .\tcut: {2.3: 1, 1.9: 0, 0.8: 5} \tΣ 6.3\n",
            "6 .\tcut: {2.3: 0, 1.9: 3, 0.8: 1} \tΣ 6.499999999999999\n",
            "7 .\tcut: {2.3: 0, 1.9: 2, 0.8: 3} \tΣ 6.2\n",
            "8 .\tcut: {2.3: 0, 1.9: 1, 0.8: 6} \tΣ 6.700000000000001\n",
            "9 .\tcut: {2.3: 0, 1.9: 0, 0.8: 8} \tΣ 6.4\n"
          ],
          "name": "stdout"
        }
      ]
    },
    {
      "cell_type": "code",
      "metadata": {
        "id": "N0db3Jm6KNwu",
        "colab": {
          "base_uri": "https://localhost:8080/"
        },
        "outputId": "7388bdab-3830-4376-a5ac-3ed6bb56f726"
      },
      "source": [
        "for result, count in zip(delkyVysledku, poctyVysledku):\n",
        "  for index, variant in enumerate(variants):\n",
        "    if (variant[result] == 0):\n",
        "      print('\\t\\t', end='')\n",
        "    else:\n",
        "      print('\\t + ', variant[result], ' * x', index, sep='', end='')\n",
        "  print('\\t >=', count)\n",
        "  \n",
        "for index, variant in enumerate(variants):\n",
        "  print(' + x', index, sep='', end='')\n",
        "print(' -> min')\n"
      ],
      "execution_count": null,
      "outputs": [
        {
          "output_type": "stream",
          "text": [
            "\t + 3 * x0\t + 2 * x1\t + 2 * x2\t + 1 * x3\t + 1 * x4\t + 1 * x5\t\t\t\t\t\t\t\t\t >= 60\n",
            "\t\t\t + 1 * x1\t\t\t + 2 * x3\t + 1 * x4\t\t\t + 3 * x6\t + 2 * x7\t + 1 * x8\t\t\t >= 90\n",
            "\t\t\t\t\t + 3 * x2\t + 1 * x3\t + 3 * x4\t + 5 * x5\t + 1 * x6\t + 3 * x7\t + 6 * x8\t + 8 * x9\t >= 320\n",
            " + x0 + x1 + x2 + x3 + x4 + x5 + x6 + x7 + x8 + x9 -> min\n"
          ],
          "name": "stdout"
        }
      ]
    },
    {
      "cell_type": "code",
      "metadata": {
        "id": "8ogTKTuvPBnF",
        "colab": {
          "base_uri": "https://localhost:8080/"
        },
        "outputId": "2960f732-972d-4503-fa54-3151b9f8dae0"
      },
      "source": [
        "#https://docs.scipy.org/doc/scipy/reference/generated/scipy.optimize.linprog.html\n",
        "from scipy.optimize import linprog\n",
        "c = [1] * len(variants)\n",
        "bounds=[(0, None)] * len(variants)\n",
        "Ax = [0] * len(variants)\n",
        "A = [[*Ax] for item in delkyVysledku]\n",
        "print(A)\n",
        "for i, result, count in zip(range(1000), delkyVysledku, poctyVysledku):\n",
        "  for j, variant in enumerate(variants):\n",
        "    A[i][j] = -variant[result]\n",
        "\n",
        "b = [-value for value in delkyVysledku]\n",
        "\n",
        "print(A)\n",
        "print(b)\n",
        "print(c)\n",
        "print(bounds)\n",
        "res = linprog(c, A_ub=A, b_ub=b, bounds=bounds, method='revised simplex')\n",
        "print(res)"
      ],
      "execution_count": null,
      "outputs": [
        {
          "output_type": "stream",
          "text": [
            "[[0, 0, 0, 0, 0, 0, 0, 0, 0, 0], [0, 0, 0, 0, 0, 0, 0, 0, 0, 0], [0, 0, 0, 0, 0, 0, 0, 0, 0, 0]]\n",
            "[[-3, -2, -2, -1, -1, -1, 0, 0, 0, 0], [0, -1, 0, -2, -1, 0, -3, -2, -1, 0], [0, 0, -3, -1, -3, -5, -1, -3, -6, -8]]\n",
            "[-2.3, -1.9, -0.8]\n",
            "[1, 1, 1, 1, 1, 1, 1, 1, 1, 1]\n",
            "[(0, None), (0, None), (0, None), (0, None), (0, None), (0, None), (0, None), (0, None), (0, None), (0, None)]\n",
            "     con: array([], dtype=float64)\n",
            "     fun: 1.4\n",
            " message: 'Optimization terminated successfully.'\n",
            "     nit: 2\n",
            "   slack: array([0., 0., 0.])\n",
            "  status: 0\n",
            " success: True\n",
            "       x: array([6.00000000e-01, 0.00000000e+00, 0.00000000e+00, 5.00000000e-01,\n",
            "       0.00000000e+00, 0.00000000e+00, 3.00000000e-01, 0.00000000e+00,\n",
            "       0.00000000e+00, 3.46944695e-18])\n"
          ],
          "name": "stdout"
        }
      ]
    },
    {
      "cell_type": "code",
      "metadata": {
        "id": "jO-61g8eZecu",
        "colab": {
          "base_uri": "https://localhost:8080/"
        },
        "outputId": "968f70a4-bb0c-4f16-d206-2742dff8be75"
      },
      "source": [
        "c = [-1, 4, 1]\n",
        "A = [[-3, 1, 1], [1, 2, 1]]\n",
        "b = [6, 4]\n",
        "x0_bounds = (None, None)\n",
        "x1_bounds = (-3, None)\n",
        "x2_bounds = (None, None)\n",
        "from scipy.optimize import linprog\n",
        "res = linprog(c, A_ub=A, b_ub=b, bounds=[x0_bounds, x1_bounds, x2_bounds], method='revised simplex')\n",
        "print(res)"
      ],
      "execution_count": null,
      "outputs": [
        {
          "output_type": "stream",
          "text": [
            "     con: array([], dtype=float64)\n",
            "     fun: -22.0\n",
            " message: 'The problem is unbounded, as the simplex algorithm found a basic feasible solution from which there is a direction with negative reduced cost in which all decision variables increase.'\n",
            "     nit: 1\n",
            "   slack: array([39.,  0.])\n",
            "  status: 3\n",
            " success: False\n",
            "       x: array([10., -3.,  0.])\n"
          ],
          "name": "stdout"
        }
      ]
    },
    {
      "cell_type": "code",
      "metadata": {
        "id": "PSyF5IpgeJMN"
      },
      "source": [
        ""
      ],
      "execution_count": null,
      "outputs": []
    },
    {
      "cell_type": "markdown",
      "metadata": {
        "id": "7Gzpib0SejSG"
      },
      "source": [
        ""
      ]
    },
    {
      "cell_type": "code",
      "metadata": {
        "id": "CVpmaG0rqFbP"
      },
      "source": [
        "def check(a1, x1, a2, x2, relation = 'eq', b = 0): \n",
        "  leftside = a1 * x1 + a2 * x2\n",
        "  result = false\n",
        "  if relation == 'eq':\n",
        "    result = leftside == b\n",
        "  elif relation == 'le':\n",
        "    result = leftside <= b\n",
        "  elif relation == 'qe':\n",
        "    result = leftside >= b\n",
        "  return result\n",
        "\n",
        "def plotline(a1, x1, a2, x2, b, xmin, xmax, ymin, ymax):\n",
        "  xx = []\n",
        "  yy = []\n",
        "  def include(xp, yp):\n",
        "    if check(a1, x1, a2, x2, b = b):\n",
        "      xx.append(xp)\n",
        "      yy.append(yp)\n",
        "  \n",
        "  include(xmin, ymin)\n",
        "  include(xmax, ymin)\n",
        "  include(xmax, ymax)\n",
        "  include(xmin, ymax)\n",
        "  include(xmin, ymin)\n"
      ],
      "execution_count": null,
      "outputs": []
    },
    {
      "cell_type": "markdown",
      "metadata": {
        "id": "0_M5sCKYtH3X"
      },
      "source": [
        "![obrazek.png](data:image/png;base64,iVBORw0KGgoAAAANSUhEUgAAAMUAAACSCAYAAAD1sw6/AAALtUlEQVR4nO2d709T9x7Hz7/S50vMjfHe7Aj00LItm0tuNBpcd8HJzjlQCiJTErdlC1nikhuNdkpE2XSVn/KryKqFweBqcdfrmN5rgpEFwx4wl6gxRsODBh6874OurD20lB9tv+f0vF/J+4m0HOn5vPr9dc73SCCEJCGJ/g8QYjYoBSEGKAUhBigFIQYoBSEGKAUhBigFIQYoBSEGKAUhBigFIQYoBSEGKAUhBigFIQYohcn44Ugpgh4HIyg/HCmlFGYj6HHg+Wd/YQQl6HFQCrNBKWwtxRz8sgRJkuGfs8Nx1weloBSUwgCloBSUwgClsKkUYV2CJKWOHk5+7VzYD11OfI0M3R9GUj3P+SFLEiRJh+HtQFiPvU8Pb+i4oqAUNpViLuyHrut/FLIEWdeh6zp03Y9wQrXP+eUVEeKvib9Hkv1JYqwUfFJ1h6EnyLLe44qEUthUihgZujHxb39D8QNzKwIkf7vHBfjz31O/jt0nxqJSpC7o+Fv/EMb4w3hXSfYjnNBt2shxRUMpKEWa4oz/LLGLkxg5ZRcKMI5XUowxKAVjdSnWTAopEE4Yd6RuZigFY2UpNlq4q2Va7QWlYCwpRYYxRbrf+MdsleyfSxpfGAfqlIIxqRQZCj9tUceYCxumUVOsVcR/v2yo/s0Ily8ohc2lSFyH0HUduiwnFWrioFmWDYPspKL+s9uUepo2uVXIdFyRUAqbSwEA4YQilyR9VZdmLqxDNqxoy7KO8Nxc0mvSDaxXBNDDhsW+tY8rCkpBKYgBSkEpiAFKQSmIAUpBKYgBSkEpiAFKQSmIAUpBKYgBSkEpiAFKQSmIAUpBKYgBSkEpiAFKQSmIAUpBKYgBSkEpiAFKQSmIAUpBKYgBSkEpiAFKQSmIAUpBKTLy+MlLTM8s4OLgT/isZRzlTT0Zc/RkGK1XbuPWvV8x/9tz0X/ChqAUlGIV0zMLONU+hd0Nndi25zTkivNQ1ACK1F7s1IJw1o5kTJF+FXJVH0rVdhQf+Brb9pzGLl8Ax9smMXnnEaJLy6L/zLRQCkqBV4tR9I3eR+Un/di25zQUNQC5qh9O3yjKPrqVtSh1Y9ipDkJRO7B93xnsbuhEZ+geHj95KfojSIJS2FSK6NIyRqZmoTUPYcf+Fji1HpR4r2dVgkxx+kZRrF6BXHEe5U09GJ58gFeLUREfRxKUwmZSRJeWcXn4LpwftEHRulBScy2vIqQVpHYEitaN4gMX8FXnj0LloBQ2kSJJBr0XroZ/CRchVdyHb0LRB4TKQSlsIMXI1KzpZVhLjsvDd3P9ESVBKQpYivnfnqO8qQeK1mUZGVLL0YtdvgCmZxZy9VElQSkKVIqz3bdRfOBrOGtHhBd2NqLUjUFRA/joRDjn07mUosCkiC4tw3f8O5TVDggv5JzI4R3G3iPdePZiMZsfWxKUooCkePZiEX+v74DiDQkv3lzG6RvFO952zM4/zdZHlwSlKBAp7v/yO8r0S1DqxoQXbT5SemgCLjWAsX9nf6tySlEAUoRuPIRbv2zZwfRm426MwKV14mz37Wy4sAKlsLgUzecm4K7ugrsxIrxIhaV2AL7j32VtAE4pLCyF1jwEl3dIfFGaIIo3hAOfDmZFDEphUSmaz01QCENcvuv48PMgpbB4NiVF6MZDuKu7hBehKVM7sOUxBqWwmBT3f/kdbv2yvccQGeLSOrc0K0UpLCTF4ycv8VaN/WaZNhp3YwQuNbDpdQxKYREpokvLsYU5m6xDbDWlhybwjrd9UyvflMIiUnz4eRAuX35vArJ6nL5R7D3SveEZKUphASnOdt8u2GuZch1X7VUc839PKSyUjFLMzj9FycFvhBeXlaOoHZi884hSWCQZpdjd0Jn1DQTsltJDEyhTL667G0UpTCzF4A8zcOndwouqEOKuGcSp9luUwgJJK0V0aRnOD9o4/ZotKRojKKq8sK7ZKEphUikuD9+FovcKL6ZCSokexBfnJyiFyZNSCrYSucl6WwtKYUIp2ErkLutpLSiFyaRgK5HbrKe1oBQmk2J48gEUjTNOuUyxOoATgQilMGlWSVHe1FMw29KYNaWHJqAcbKMUJk2SFM9eLOJ1T6vworFDFDX95mqUwkRScICdvxTpV3H0ZJhSmDBJUvCSjvzFffgm/vZeC6UwYVakeLUYxY79LcKLxU4pOfhNyhuRKIVJpJi88wiK2iG8UOyUYvUKOkP3KIXJsiLF8bZJ7FQHhReKnVJScw1a8xClMFlWpNjlC/BW0zwn3biCUphAiujSMrbvOyO8SOyY4gNfr3qkMaUwgRS8u05cUt2VRylMIMXI1CwUjZubiUiR2ouLgz9RChMl6HFAujj4E4pULtqJyE4tiM9aximFiRL0OCDVfxlCcfWw8AKxY5y+Uexu6KQUJkrQ44DEiwDFJdXFgZSCUtg6lMJ8CXockN7ULkGpHxdeIHaMuzGC7fvOUAoTJehxQFIOtsX2JjJBkdgx2/acphQmStDjgFRUcZ63n1IKJlEKthSUgqEUpgqlMFc4+yQ4nH0yXygFpWBSSaE1D6Gk5prwArFjlLox7PIFKIWJEvQ4IJ1qn4Jc1S+8QOyY4uph1H8ZohQmStDjgNQ3eh9OrUd4gdgxclU/TrVPUQoTJehxQLr/y+9Qqr4VXiB2jKJ1YWRqllKYKEGPAxJ38hCXVDt6UAoTSAEAXKvIf9yNEfz1vZZVj/2iFCaR4ujJMIr0q8ILxU5x1o6gvKkHRiiFSaTgbuP5T6pBNqUQnxUpHj95CbnivPBCsVPSPUo4VPUagh4HIyihqtf+3EuW44r8Zsf+FrxajK6SgohnRYoTgQiK1QHhxWKHlHivo/KTfpHnnazBihTc/yl/SbU+QcxD0pOMeGtq7pNuKpaYhyQp2vrvwKn3CS+cQs5aD2wh5iBJimcvFlFUeQHuxojw4inUpHsuBTEPq56j/cX5CZToQeHFU4hJt/0+MRerpGBrkUMp2EpYglVSAGwtciIEWwnLkFIKthY5kIKthGVIKQUA/PPSTSjVfORXNqJ4Q/Ad/y6f55VsgbRSRJeW4fygjRulbTHuxgiKKi/g2YvFfJ5XsgXSSgEAoRsP4a7mA122ktKafrRe+U++zifJAmtKAQDcAmfzUerH8bY3wNVri5FRileLUbxV/S2voN1g3IdvwqVewuMnL/NxHkkWySgFAMz/9hxv6AG4D98UXmxWiLsxgjK9A9MzC7k+fyQHrEsKALgxPQ+X1iG84CyRml50hP6by/NGcsi6pQCAi8Gf4arhBYNrxeUdQvO5iVydL5IHNiQFABzzfw9XLTc5SClEXRgVH/PmIauzYSmiS8t4/1gfZ6QMUerH8a6vg7eYFgAblgKIzUi97Q3A6RsVXoxmiFI/jl11HZxpKhA2JQUQE2PvkW7bd6VcdWG866MQhcSmpQBiXalj/u9tO/h2eYdQ8XE/u0wFxpakiHMx+DMU1T7rGO7GCMpqejnLVKBkRQoAmJ5ZwBt6oOA3PnAfvokyvYPrEAVM1qQAYivf7/o64KoLCy/eXESpH4dLvcSV6gInq1IAsQF4xcf9cFVfKZjulLsxAkUfwNveAAfUNiDrUsTpDv8PxQcuwFk9JLyot5KSmmsoqryArzp/5NWuNiFnUgCxVuPTM2MoOfiN5R426awdgaIGoDUP8QYhm5FTKeLMzj+F1jxkCTniMpQ39XDsYFPyIkWcRDmK9KumGXO4GyMorh6mDARAnqWIMzv/FEdPhrHzH61QtC5hrYfTNwpF64b8fivqvwxRBgJAkBRxokvLGJmahdY8hO37zqBUbYdc1Z+za6qUujHsVAehaF143dOK3Q2dGJ58wBVpkoRQKRKJLi3j1r1fcap9CrsbOrF93xkoaiD2TV7VhxLv9XUvDJYemoCzdiQmmNYDRQ1gx/4W7PIFcLxtEiNTsxw8k7SYRgoj0aVlTM8sYHjyAVqv3EblJ/14U7uEbXtOZ4xysA3lTT041T6FvtH7mJ5ZYGtA1s3/AYRBVfIxwfnNAAAAAElFTkSuQmCC)"
      ]
    }
  ]
}