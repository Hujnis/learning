{
  "nbformat": 4,
  "nbformat_minor": 0,
  "metadata": {
    "celltoolbar": "Slideshow",
    "colab": {
      "name": "LinearProg.ipynb",
      "provenance": [],
      "toc_visible": true,
      "include_colab_link": true
    },
    "kernelspec": {
      "display_name": "Python 3",
      "language": "python",
      "name": "python3"
    },
    "language_info": {
      "codemirror_mode": {
        "name": "ipython",
        "version": 3
      },
      "file_extension": ".py",
      "mimetype": "text/x-python",
      "name": "python",
      "nbconvert_exporter": "python",
      "pygments_lexer": "ipython3",
      "version": "3.7.6"
    },
    "toc-autonumbering": true
  },
  "cells": [
    {
      "cell_type": "markdown",
      "metadata": {
        "id": "view-in-github",
        "colab_type": "text"
      },
      "source": [
        "<a href=\"https://colab.research.google.com/github/hrbolek/learning/blob/master/operanalyst/linearprog2.ipynb\" target=\"_parent\"><img src=\"https://colab.research.google.com/assets/colab-badge.svg\" alt=\"Open In Colab\"/></a>"
      ]
    },
    {
      "cell_type": "markdown",
      "metadata": {
        "id": "DjI7Wb_dcleK"
      },
      "source": [
        "# Lineární programování"
      ]
    },
    {
      "cell_type": "markdown",
      "metadata": {
        "id": "F6WkcPkhxm-R"
      },
      "source": [
        "![obrazek.png](data:image/png;base64,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)"
      ]
    },
    {
      "cell_type": "markdown",
      "metadata": {
        "id": "6fW_3u2htiRJ"
      },
      "source": [
        "## Vzorová úloha se startováním"
      ]
    },
    {
      "cell_type": "markdown",
      "metadata": {
        "id": "6r2P6y7Otnuw"
      },
      "source": [
        "### Zadání"
      ]
    },
    {
      "cell_type": "markdown",
      "metadata": {
        "id": "s9_GYV9Qtxh3"
      },
      "source": [
        "\n",
        "$$f(x)=-180u_1-210u_2-120u_3 \\to max$$\n",
        "\n",
        "$$u_1+2u_2+0.5u_3 \\ge 10$$\n",
        "\n",
        "$$u_1+2u_2+2u_3 \\ge 15$$\n",
        "\n",
        "$$u_1+3u_2 \\ge 20$$\n",
        "\n",
        "$$u_1 \\ge 0,u_2 \\ge 0,u_3 \\ge 0$$\n"
      ]
    },
    {
      "cell_type": "markdown",
      "metadata": {
        "id": "Mq2LsTqot-Y9"
      },
      "source": [
        "### Odstranění nerovností"
      ]
    },
    {
      "cell_type": "markdown",
      "metadata": {
        "id": "JAoTFDwvuBPQ"
      },
      "source": [
        "\n",
        "$$f(x)=-180u_1-210u_2-120u_3 \\to max$$\n",
        "\n",
        "$$u_1+2u_2+0.5u_3 -v_1 = 10$$\n",
        "\n",
        "$$u_1+2u_2+2u_3 -v_2 = 15$$\n",
        "\n",
        "$$u_1+3u_2 -v_3 = 20$$\n",
        "\n",
        "$$u_1 \\ge 0,u_2 \\ge 0,u_3 \\ge 0, v_1 \\ge 0, v_2 \\ge 0,v_3 \\ge 0$$"
      ]
    },
    {
      "cell_type": "markdown",
      "metadata": {
        "id": "4NykvJpImMPp"
      },
      "source": [
        "### Vytvoření jednotkové submatice"
      ]
    },
    {
      "cell_type": "markdown",
      "metadata": {
        "id": "1AQbTjyAmRDP"
      },
      "source": [
        "$$f(x)=-180u_1-210u_2-120u_3 -\\infty w_1 -\\infty w_2 - \\infty w_3 \\to max$$\n",
        "\n",
        "$$u_1+2u_2+0.5u_3 -v_1 +w_1= 10$$\n",
        "\n",
        "$$u_1+2u_2+2u_3 -v_2 +w_2= 15$$\n",
        "\n",
        "$$u_1+3u_2 -v_3 +w_3= 20$$\n",
        "\n",
        "$$u_1 \\ge 0,u_2 \\ge 0,u_3 \\ge 0, v_1 \\ge 0, v_2 \\ge 0,v_3 \\ge 0$$"
      ]
    },
    {
      "cell_type": "markdown",
      "metadata": {
        "id": "U-uzzSjiuDeU"
      },
      "source": [
        "### Vytvoření simplexové tabulky"
      ]
    },
    {
      "cell_type": "markdown",
      "metadata": {
        "id": "1b0uWwvluHDA"
      },
      "source": [
        "\n",
        "\n",
        "\n",
        "|$u_1$|$u_2$|$u_3$|$v_1$|$v_2$|$v_3$|$w_1$|$w_2$|$w_3$|     | $b$ |\n",
        "|:---:|:---:|:---:|:---:|:---:|:---:|:---:|:---:|:---:|:---:|:---:|\n",
        "|  1  |  2  |  0.5|  -1 |  0  |  0  |  1  |  0  |  0  |     |  10 |\n",
        "|  1  |  2  |  2  |  0  |  -1 |  0  |  0  |  1  |  0  |     |  15 |\n",
        "|  1  |  3  |  0  |  0  |  0  |  -1 |  0  |  0  |  1  |     |  20 | \n",
        "| -180| -201| -120|  0  |  0  |  0  |$-\\infty$|$-\\infty$|$-\\infty$|     |$-45\\infty$|\n",
        "\n",
        "\n",
        "\n"
      ]
    },
    {
      "cell_type": "markdown",
      "metadata": {
        "id": "aYrMwVCAuLTO"
      },
      "source": [
        "### Aktuální řešení přečtené ze simplexové tabulky "
      ]
    },
    {
      "cell_type": "markdown",
      "metadata": {
        "id": "Igid7Tq0uOKz"
      },
      "source": [
        "\n",
        "$$u_1=0,u_2=0,u_3=0,v_1=0,v_2=0,v_3=0,w_1=10,w_2=15,w_3=20$$\n",
        "\n",
        "$$f(u,v,w)=-\\infty \\cdot 10-\\infty \\cdot 15-\\infty \\cdot 20=-\\infty \\cdot 45$$"
      ]
    },
    {
      "cell_type": "markdown",
      "metadata": {
        "id": "M9SsMvoYuQn0"
      },
      "source": [
        "### Ověření optimality řešení"
      ]
    },
    {
      "cell_type": "markdown",
      "metadata": {
        "id": "eBLkEbW8uS4n"
      },
      "source": [
        "Cílem je odstranit startovací proměnné, v příslušných sloupcích jsou symboly $\\infty$.\n",
        "\n",
        "|$u_1$|$u_2$|$u_3$|$v_1$|$v_2$|$v_3$|$w_1$|$w_2$|$w_3$|     | $b$ |\n",
        "|:---:|:---:|:---:|:---:|:---:|:---:|:---:|:---:|:---:|:---:|:---:|\n",
        "|  1  |  2  |  0.5|  -1 |  0  |  0  |  1  |  0  |  0  |     |  10 |\n",
        "|  1  |  2  |  2  |  0  |  -1 |  0  |  0  |  1  |  0  |     |  15 |\n",
        "|  1  |  3  |  0  |  0  |  0  |  -1 |  0  |  0  |  1  |     |  20 | \n",
        "| -180| -201| -120|  0  |  0  |  0  |$-\\infty$|$-\\infty$|$-\\infty$|     |$-45\\infty$|\n",
        "|     |     |     |     |     |     |  ⬆  |     |     |     |   | \n",
        "\n"
      ]
    },
    {
      "cell_type": "markdown",
      "metadata": {
        "id": "4Y1uB5D1uU0t"
      },
      "source": [
        "### Nalezení proměnné jdoucí do báze"
      ]
    },
    {
      "cell_type": "markdown",
      "metadata": {
        "id": "Kt2hkvvQubgs"
      },
      "source": [
        "$w_1$ vyřadíme z báze a do báze dáme některou z proměnných $u_1$, $u_2$, $u_3$. V tomto případě se vybírá maximální z kladných hodnot v příslušném řádku, kde má proměnná jdoucí z báze jedničku, tedy 1, 2 a 0.5.\n",
        "\n",
        "|$u_1$|$u_2$|$u_3$|$v_1$|$v_2$|$v_3$|$w_1$|$w_2$|$w_3$|     | $b$ |\n",
        "|:---:|:---:|:---:|:---:|:---:|:---:|:---:|:---:|:---:|:---:|:---:|\n",
        "|  1  |  2  |  0.5|  -1 |  0  |  0  |  1  |  0  |  0  |     |  10 |\n",
        "|  1  |  2  |  2  |  0  |  -1 |  0  |  0  |  1  |  0  |     |  15 |\n",
        "|  1  |  3  |  0  |  0  |  0  |  -1 |  0  |  0  |  1  |     |  20 | \n",
        "| -180| -210| -120|  0  |  0  |  0  |$-\\infty$|$-\\infty$|$-\\infty$|     |$-45\\infty$|\n",
        "|     |     |     |     |     |     |  ⬆  |     |     |     |   | \n"
      ]
    },
    {
      "cell_type": "markdown",
      "metadata": {
        "id": "DIRxOTPgulTL"
      },
      "source": [
        "### Vytvoření nové tabulky"
      ]
    },
    {
      "cell_type": "markdown",
      "metadata": {
        "id": "AksUG0XBM_dq"
      },
      "source": [
        "Protože $w_1$ opustila bázi, nemuseli bychom s tímto sloupcem počítat."
      ]
    },
    {
      "cell_type": "markdown",
      "metadata": {
        "id": "aSwS_wuPupgB"
      },
      "source": [
        "\n",
        "\n",
        "|$u_1$|$u_2$|$u_3$|$v_1$|$v_2$|$v_3$|$w_1$|$w_2$|$w_3$|     | $b$ |\n",
        "|:---:|:---:|:---:|:---:|:---:|:---:|:---:|:---:|:---:|:---:|:---:|\n",
        "|  1/2|  1  |  1/4| -1/2|  0  |  0  |  1/2|  0  |  0  |     |  5  |\n",
        "|  0  |  0  |  3/2|  1  |  -1 |  0  |  -1 |  1  |  0  |     |  5  |\n",
        "| -1/2|  0  | -3/4|  3/2|  0  |  -1 | -3/2|  0  |  1  |     |  5  | \n",
        "|-159/2| 0  |-39/2|-201/2| 0  |  0  |201/2$-\\infty$|$-\\infty$|$-\\infty$|     |$$1050-45\\infty$$|\n",
        "|     |     |     |     |     |     |     |  ⬆  |     |     |   | \n",
        "\n",
        "$$u_1=0,u_2=5,u_3=0,v_1=0,v_2=0,v_3=0,w_1=0,w_2=5,w_3=5$$\n",
        "\n",
        "$$f(u,v,w)=-1050-10\\infty$$"
      ]
    },
    {
      "cell_type": "markdown",
      "metadata": {
        "id": "9aLUqrEVusu9"
      },
      "source": [
        "### Vytvoření nové tabulky"
      ]
    },
    {
      "cell_type": "markdown",
      "metadata": {
        "id": "Rcrs2wSnLx-5"
      },
      "source": [
        "Do báze jde $w_2$, ve druhém řádku (viz jednotková submatice) vybíráme maximum z nezáporných hodnot, tedy 3/2 a 1. Protože vyberem 3/2 a to je ve sloupci $u_3$, tato proměnná půjde tedy do báze."
      ]
    },
    {
      "cell_type": "markdown",
      "metadata": {
        "id": "U_o1jG8LuxNu"
      },
      "source": [
        "\n",
        "|$u_1$|$u_2$|$u_3$|$v_1$|$v_2$|$v_3$|$w_1$|$w_2$|$w_3$|     | $b$ |\n",
        "|:---:|:---:|:---:|:---:|:---:|:---:|:---:|:---:|:---:|:---:|:---:|\n",
        "|  1/2|  1  |  0  | -2/3|  1/6|  0  |  2/3| -1/6|  0  |     | 25/6|\n",
        "|  0  |  0  |  1  |  3/2| -3/2|  0  | -3/2|  2/3|  0  |     | 10/3|\n",
        "| -1/2|  0  | 0   |  2  | -1/2|  -1 | -2  |  1/2|  1  |     | 15/2| \n",
        "|-159/2| 0  | 0   |-201/2| 0  |  0  |201/2$-\\infty$|$-\\infty$|$-\\infty$|     |$$1050-45\\infty$$|\n",
        "|     |     |     |     |     |     |     |  ⬆  |     |     |   | \n"
      ]
    },
    {
      "cell_type": "markdown",
      "metadata": {
        "id": "OsJQEaB9N3DS"
      },
      "source": [
        "$$f(x)=-180u_1-210u_2-120u_3 -\\infty w_1 -\\infty w_2 - \\infty w_3 \\to max$$"
      ]
    },
    {
      "cell_type": "markdown",
      "metadata": {
        "id": "GOuwSxdRNIxC"
      },
      "source": [
        "$$u_1=0,u_2=25/6,u_3=10/3,v_1=0,v_2=0,v_3=0,w_1=0,w_2=0,w_3=15/2$$\n",
        "\n",
        "$$f(u,v,w)=-1277-15/2 \\infty$$"
      ]
    },
    {
      "cell_type": "markdown",
      "metadata": {
        "id": "glP2dA0CA0Ov"
      },
      "source": [
        "|$u_1$|$u_2$|$u_3$|$v_1$|$v_2$|$v_3$|$w_1$|$w_2$|$w_3$|     | $b$ |\n",
        "|:---:|:---:|:---:|:---:|:---:|:---:|:---:|:---:|:---:|:---:|:---:|\n",
        "|  2/3|  1  |  0  |  0  |  1/3|  0  | 4/3 | -1/3|  0  |     | 5/4 |\n",
        "|  3/8|  0  |  1  |  0  | -9/8|  0  |  0  | 7/24|-3/16|     |55/24|\n",
        "| -1/4|  0  | 0   |  1  | -1/4| -1/2| -1  |  1/4|  1/2|     | 15/4| \n",
        "|-837/8| 0  | 0   |  0  |  0  |  0  |?$-\\infty$|?$-\\infty$|?$-\\infty$|     |$$100854/8-45\\infty$$|\n",
        "|     |     |     |     |     |     |     |  ⬆  |     |     |   | "
      ]
    },
    {
      "cell_type": "markdown",
      "metadata": {
        "id": "ZyQLxPfkPnrM"
      },
      "source": [
        "$$u_1=0,u_2=5/4,u_3=55/24,v_1=15/4,v_2=0,v_3=0,w_1=0,w_2=0,w_3=0$$\n",
        "\n",
        "$$f(u,v,w)=-1075/2$$"
      ]
    },
    {
      "cell_type": "markdown",
      "metadata": {
        "id": "_Dw41V5QNv1l"
      },
      "source": [
        "Úloha je nastartována, dále můžeme řešit \"klasickým\" algoritmem a s proměnnými, které nám umožnily start, se dále nezabývat."
      ]
    },
    {
      "cell_type": "markdown",
      "metadata": {
        "id": "5GVHz7MEE2BD"
      },
      "source": [
        "|$u_1$|$u_2$|$u_3$|$v_1$|$v_2$|$v_3$|     |     |     |     | $b$ |\n",
        "|:---:|:---:|:---:|:---:|:---:|:---:|:---:|:---:|:---:|:---:|:---:|\n",
        "|  2/3|  1  |  0  |  0  |  1/3|  0  |     |     |     |     | 5/4 |\n",
        "|  3/8|  0  |  1  |  0  | -9/8|  0  |     |     |     |     |55/24|\n",
        "| -1/4|  0  | 0   |  1  | -1/4|  0  |     |     |     |     | 15/4| \n",
        "|-837/8| 0  | 0   |  0  |  0  |  0  |     |     |     |     |$$100854/8-45\\infty$$|\n",
        "|     |     |     |     |     |     |     |     |     |     |   | "
      ]
    }
  ]
}