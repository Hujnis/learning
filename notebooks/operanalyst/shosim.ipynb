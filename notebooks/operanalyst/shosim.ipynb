{
  "nbformat": 4,
  "nbformat_minor": 0,
  "metadata": {
    "colab": {
      "name": "SHOSimulace.ipynb",
      "provenance": [],
      "toc_visible": true,
      "authorship_tag": "ABX9TyMuE0WigOJe+g396UUDNIfK",
      "include_colab_link": true
    },
    "kernelspec": {
      "name": "python3",
      "display_name": "Python 3"
    },
    "widgets": {
      "application/vnd.jupyter.widget-state+json": {
        "c102a8d1b3c3409c803ec5b46f909195": {
          "model_module": "@jupyter-widgets/controls",
          "model_name": "VBoxModel",
          "state": {
            "_view_name": "VBoxView",
            "_dom_classes": [
              "widget-interact"
            ],
            "_model_name": "VBoxModel",
            "_view_module": "@jupyter-widgets/controls",
            "_model_module_version": "1.5.0",
            "_view_count": null,
            "_view_module_version": "1.5.0",
            "box_style": "",
            "layout": "IPY_MODEL_39341cf8e8a14e38ab2985975f622b3d",
            "_model_module": "@jupyter-widgets/controls",
            "children": [
              "IPY_MODEL_7713cb36574a4e4db697cb6c51454eb7",
              "IPY_MODEL_1eb4e6d862cd4ba5beeadeec8bdbe234"
            ]
          }
        },
        "39341cf8e8a14e38ab2985975f622b3d": {
          "model_module": "@jupyter-widgets/base",
          "model_name": "LayoutModel",
          "state": {
            "_view_name": "LayoutView",
            "grid_template_rows": null,
            "right": null,
            "justify_content": null,
            "_view_module": "@jupyter-widgets/base",
            "overflow": null,
            "_model_module_version": "1.2.0",
            "_view_count": null,
            "flex_flow": null,
            "width": null,
            "min_width": null,
            "border": null,
            "align_items": null,
            "bottom": null,
            "_model_module": "@jupyter-widgets/base",
            "top": null,
            "grid_column": null,
            "overflow_y": null,
            "overflow_x": null,
            "grid_auto_flow": null,
            "grid_area": null,
            "grid_template_columns": null,
            "flex": null,
            "_model_name": "LayoutModel",
            "justify_items": null,
            "grid_row": null,
            "max_height": null,
            "align_content": null,
            "visibility": null,
            "align_self": null,
            "height": null,
            "min_height": null,
            "padding": null,
            "grid_auto_rows": null,
            "grid_gap": null,
            "max_width": null,
            "order": null,
            "_view_module_version": "1.2.0",
            "grid_template_areas": null,
            "object_position": null,
            "object_fit": null,
            "grid_auto_columns": null,
            "margin": null,
            "display": null,
            "left": null
          }
        },
        "7713cb36574a4e4db697cb6c51454eb7": {
          "model_module": "@jupyter-widgets/controls",
          "model_name": "FloatSliderModel",
          "state": {
            "_view_name": "FloatSliderView",
            "style": "IPY_MODEL_4741d6f5c85a4ccbaddf698def09037c",
            "_dom_classes": [],
            "description": "lam",
            "step": 0.1,
            "_model_name": "FloatSliderModel",
            "orientation": "horizontal",
            "max": 2,
            "_view_module": "@jupyter-widgets/controls",
            "_model_module_version": "1.5.0",
            "value": 1,
            "_view_count": null,
            "disabled": false,
            "_view_module_version": "1.5.0",
            "min": 0.01,
            "continuous_update": true,
            "readout_format": ".2f",
            "description_tooltip": null,
            "readout": true,
            "_model_module": "@jupyter-widgets/controls",
            "layout": "IPY_MODEL_2d79722d5f8c46818da9d2375f5216f3"
          }
        },
        "1eb4e6d862cd4ba5beeadeec8bdbe234": {
          "model_module": "@jupyter-widgets/output",
          "model_name": "OutputModel",
          "state": {
            "_view_name": "OutputView",
            "msg_id": "",
            "_dom_classes": [],
            "_model_name": "OutputModel",
            "outputs": [
              {
                "output_type": "display_data",
                "metadata": {
                  "tags": [],
                  "needs_background": "light"
                },
                "image/png": "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\n",
                "text/plain": "<Figure size 1080x720 with 1 Axes>"
              }
            ],
            "_view_module": "@jupyter-widgets/output",
            "_model_module_version": "1.0.0",
            "_view_count": null,
            "_view_module_version": "1.0.0",
            "layout": "IPY_MODEL_a0d3edd5caaa4b3893ba716f3db30e4b",
            "_model_module": "@jupyter-widgets/output"
          }
        },
        "4741d6f5c85a4ccbaddf698def09037c": {
          "model_module": "@jupyter-widgets/controls",
          "model_name": "SliderStyleModel",
          "state": {
            "_view_name": "StyleView",
            "handle_color": null,
            "_model_name": "SliderStyleModel",
            "description_width": "",
            "_view_module": "@jupyter-widgets/base",
            "_model_module_version": "1.5.0",
            "_view_count": null,
            "_view_module_version": "1.2.0",
            "_model_module": "@jupyter-widgets/controls"
          }
        },
        "2d79722d5f8c46818da9d2375f5216f3": {
          "model_module": "@jupyter-widgets/base",
          "model_name": "LayoutModel",
          "state": {
            "_view_name": "LayoutView",
            "grid_template_rows": null,
            "right": null,
            "justify_content": null,
            "_view_module": "@jupyter-widgets/base",
            "overflow": null,
            "_model_module_version": "1.2.0",
            "_view_count": null,
            "flex_flow": null,
            "width": null,
            "min_width": null,
            "border": null,
            "align_items": null,
            "bottom": null,
            "_model_module": "@jupyter-widgets/base",
            "top": null,
            "grid_column": null,
            "overflow_y": null,
            "overflow_x": null,
            "grid_auto_flow": null,
            "grid_area": null,
            "grid_template_columns": null,
            "flex": null,
            "_model_name": "LayoutModel",
            "justify_items": null,
            "grid_row": null,
            "max_height": null,
            "align_content": null,
            "visibility": null,
            "align_self": null,
            "height": null,
            "min_height": null,
            "padding": null,
            "grid_auto_rows": null,
            "grid_gap": null,
            "max_width": null,
            "order": null,
            "_view_module_version": "1.2.0",
            "grid_template_areas": null,
            "object_position": null,
            "object_fit": null,
            "grid_auto_columns": null,
            "margin": null,
            "display": null,
            "left": null
          }
        },
        "a0d3edd5caaa4b3893ba716f3db30e4b": {
          "model_module": "@jupyter-widgets/base",
          "model_name": "LayoutModel",
          "state": {
            "_view_name": "LayoutView",
            "grid_template_rows": null,
            "right": null,
            "justify_content": null,
            "_view_module": "@jupyter-widgets/base",
            "overflow": null,
            "_model_module_version": "1.2.0",
            "_view_count": null,
            "flex_flow": null,
            "width": null,
            "min_width": null,
            "border": null,
            "align_items": null,
            "bottom": null,
            "_model_module": "@jupyter-widgets/base",
            "top": null,
            "grid_column": null,
            "overflow_y": null,
            "overflow_x": null,
            "grid_auto_flow": null,
            "grid_area": null,
            "grid_template_columns": null,
            "flex": null,
            "_model_name": "LayoutModel",
            "justify_items": null,
            "grid_row": null,
            "max_height": null,
            "align_content": null,
            "visibility": null,
            "align_self": null,
            "height": null,
            "min_height": null,
            "padding": null,
            "grid_auto_rows": null,
            "grid_gap": null,
            "max_width": null,
            "order": null,
            "_view_module_version": "1.2.0",
            "grid_template_areas": null,
            "object_position": null,
            "object_fit": null,
            "grid_auto_columns": null,
            "margin": null,
            "display": null,
            "left": null
          }
        },
        "d24611b285524ad59c21b6ad3f6de107": {
          "model_module": "@jupyter-widgets/controls",
          "model_name": "VBoxModel",
          "state": {
            "_view_name": "VBoxView",
            "_dom_classes": [
              "widget-interact"
            ],
            "_model_name": "VBoxModel",
            "_view_module": "@jupyter-widgets/controls",
            "_model_module_version": "1.5.0",
            "_view_count": null,
            "_view_module_version": "1.5.0",
            "box_style": "",
            "layout": "IPY_MODEL_b6f5c37852be40bebf7f7ee07d507669",
            "_model_module": "@jupyter-widgets/controls",
            "children": [
              "IPY_MODEL_e329b0b088d34e1db5ae70231fffc29c",
              "IPY_MODEL_0040f6c3d5b148dd8146d29c7d413ad6",
              "IPY_MODEL_a41df7d49a2e4cd79968ec69c77b2064"
            ]
          }
        },
        "b6f5c37852be40bebf7f7ee07d507669": {
          "model_module": "@jupyter-widgets/base",
          "model_name": "LayoutModel",
          "state": {
            "_view_name": "LayoutView",
            "grid_template_rows": null,
            "right": null,
            "justify_content": null,
            "_view_module": "@jupyter-widgets/base",
            "overflow": null,
            "_model_module_version": "1.2.0",
            "_view_count": null,
            "flex_flow": null,
            "width": null,
            "min_width": null,
            "border": null,
            "align_items": null,
            "bottom": null,
            "_model_module": "@jupyter-widgets/base",
            "top": null,
            "grid_column": null,
            "overflow_y": null,
            "overflow_x": null,
            "grid_auto_flow": null,
            "grid_area": null,
            "grid_template_columns": null,
            "flex": null,
            "_model_name": "LayoutModel",
            "justify_items": null,
            "grid_row": null,
            "max_height": null,
            "align_content": null,
            "visibility": null,
            "align_self": null,
            "height": null,
            "min_height": null,
            "padding": null,
            "grid_auto_rows": null,
            "grid_gap": null,
            "max_width": null,
            "order": null,
            "_view_module_version": "1.2.0",
            "grid_template_areas": null,
            "object_position": null,
            "object_fit": null,
            "grid_auto_columns": null,
            "margin": null,
            "display": null,
            "left": null
          }
        },
        "e329b0b088d34e1db5ae70231fffc29c": {
          "model_module": "@jupyter-widgets/controls",
          "model_name": "FloatSliderModel",
          "state": {
            "_view_name": "FloatSliderView",
            "style": "IPY_MODEL_53aeb2d289934851a0c62db05ef6ec62",
            "_dom_classes": [],
            "description": "intervalA",
            "step": 0.1,
            "_model_name": "FloatSliderModel",
            "orientation": "horizontal",
            "max": 2,
            "_view_module": "@jupyter-widgets/controls",
            "_model_module_version": "1.5.0",
            "value": 1,
            "_view_count": null,
            "disabled": false,
            "_view_module_version": "1.5.0",
            "min": 0.01,
            "continuous_update": true,
            "readout_format": ".2f",
            "description_tooltip": null,
            "readout": true,
            "_model_module": "@jupyter-widgets/controls",
            "layout": "IPY_MODEL_8d16433c04d343868d4a58b69168bdf8"
          }
        },
        "0040f6c3d5b148dd8146d29c7d413ad6": {
          "model_module": "@jupyter-widgets/controls",
          "model_name": "FloatSliderModel",
          "state": {
            "_view_name": "FloatSliderView",
            "style": "IPY_MODEL_5dc7fe666bac45b3bd96f2700205a56a",
            "_dom_classes": [],
            "description": "intervalB",
            "step": 0.1,
            "_model_name": "FloatSliderModel",
            "orientation": "horizontal",
            "max": 2,
            "_view_module": "@jupyter-widgets/controls",
            "_model_module_version": "1.5.0",
            "value": 1,
            "_view_count": null,
            "disabled": false,
            "_view_module_version": "1.5.0",
            "min": 0.01,
            "continuous_update": true,
            "readout_format": ".2f",
            "description_tooltip": null,
            "readout": true,
            "_model_module": "@jupyter-widgets/controls",
            "layout": "IPY_MODEL_eb8890536b25426894c5126bce2c315c"
          }
        },
        "a41df7d49a2e4cd79968ec69c77b2064": {
          "model_module": "@jupyter-widgets/output",
          "model_name": "OutputModel",
          "state": {
            "_view_name": "OutputView",
            "msg_id": "",
            "_dom_classes": [],
            "_model_name": "OutputModel",
            "outputs": [
              {
                "output_type": "display_data",
                "metadata": {
                  "tags": [],
                  "needs_background": "light"
                },
                "image/png": "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\n",
                "text/plain": "<Figure size 1080x720 with 1 Axes>"
              }
            ],
            "_view_module": "@jupyter-widgets/output",
            "_model_module_version": "1.0.0",
            "_view_count": null,
            "_view_module_version": "1.0.0",
            "layout": "IPY_MODEL_e543a303882d4ac2847488e1fa114524",
            "_model_module": "@jupyter-widgets/output"
          }
        },
        "53aeb2d289934851a0c62db05ef6ec62": {
          "model_module": "@jupyter-widgets/controls",
          "model_name": "SliderStyleModel",
          "state": {
            "_view_name": "StyleView",
            "handle_color": null,
            "_model_name": "SliderStyleModel",
            "description_width": "",
            "_view_module": "@jupyter-widgets/base",
            "_model_module_version": "1.5.0",
            "_view_count": null,
            "_view_module_version": "1.2.0",
            "_model_module": "@jupyter-widgets/controls"
          }
        },
        "8d16433c04d343868d4a58b69168bdf8": {
          "model_module": "@jupyter-widgets/base",
          "model_name": "LayoutModel",
          "state": {
            "_view_name": "LayoutView",
            "grid_template_rows": null,
            "right": null,
            "justify_content": null,
            "_view_module": "@jupyter-widgets/base",
            "overflow": null,
            "_model_module_version": "1.2.0",
            "_view_count": null,
            "flex_flow": null,
            "width": null,
            "min_width": null,
            "border": null,
            "align_items": null,
            "bottom": null,
            "_model_module": "@jupyter-widgets/base",
            "top": null,
            "grid_column": null,
            "overflow_y": null,
            "overflow_x": null,
            "grid_auto_flow": null,
            "grid_area": null,
            "grid_template_columns": null,
            "flex": null,
            "_model_name": "LayoutModel",
            "justify_items": null,
            "grid_row": null,
            "max_height": null,
            "align_content": null,
            "visibility": null,
            "align_self": null,
            "height": null,
            "min_height": null,
            "padding": null,
            "grid_auto_rows": null,
            "grid_gap": null,
            "max_width": null,
            "order": null,
            "_view_module_version": "1.2.0",
            "grid_template_areas": null,
            "object_position": null,
            "object_fit": null,
            "grid_auto_columns": null,
            "margin": null,
            "display": null,
            "left": null
          }
        },
        "5dc7fe666bac45b3bd96f2700205a56a": {
          "model_module": "@jupyter-widgets/controls",
          "model_name": "SliderStyleModel",
          "state": {
            "_view_name": "StyleView",
            "handle_color": null,
            "_model_name": "SliderStyleModel",
            "description_width": "",
            "_view_module": "@jupyter-widgets/base",
            "_model_module_version": "1.5.0",
            "_view_count": null,
            "_view_module_version": "1.2.0",
            "_model_module": "@jupyter-widgets/controls"
          }
        },
        "eb8890536b25426894c5126bce2c315c": {
          "model_module": "@jupyter-widgets/base",
          "model_name": "LayoutModel",
          "state": {
            "_view_name": "LayoutView",
            "grid_template_rows": null,
            "right": null,
            "justify_content": null,
            "_view_module": "@jupyter-widgets/base",
            "overflow": null,
            "_model_module_version": "1.2.0",
            "_view_count": null,
            "flex_flow": null,
            "width": null,
            "min_width": null,
            "border": null,
            "align_items": null,
            "bottom": null,
            "_model_module": "@jupyter-widgets/base",
            "top": null,
            "grid_column": null,
            "overflow_y": null,
            "overflow_x": null,
            "grid_auto_flow": null,
            "grid_area": null,
            "grid_template_columns": null,
            "flex": null,
            "_model_name": "LayoutModel",
            "justify_items": null,
            "grid_row": null,
            "max_height": null,
            "align_content": null,
            "visibility": null,
            "align_self": null,
            "height": null,
            "min_height": null,
            "padding": null,
            "grid_auto_rows": null,
            "grid_gap": null,
            "max_width": null,
            "order": null,
            "_view_module_version": "1.2.0",
            "grid_template_areas": null,
            "object_position": null,
            "object_fit": null,
            "grid_auto_columns": null,
            "margin": null,
            "display": null,
            "left": null
          }
        },
        "e543a303882d4ac2847488e1fa114524": {
          "model_module": "@jupyter-widgets/base",
          "model_name": "LayoutModel",
          "state": {
            "_view_name": "LayoutView",
            "grid_template_rows": null,
            "right": null,
            "justify_content": null,
            "_view_module": "@jupyter-widgets/base",
            "overflow": null,
            "_model_module_version": "1.2.0",
            "_view_count": null,
            "flex_flow": null,
            "width": null,
            "min_width": null,
            "border": null,
            "align_items": null,
            "bottom": null,
            "_model_module": "@jupyter-widgets/base",
            "top": null,
            "grid_column": null,
            "overflow_y": null,
            "overflow_x": null,
            "grid_auto_flow": null,
            "grid_area": null,
            "grid_template_columns": null,
            "flex": null,
            "_model_name": "LayoutModel",
            "justify_items": null,
            "grid_row": null,
            "max_height": null,
            "align_content": null,
            "visibility": null,
            "align_self": null,
            "height": null,
            "min_height": null,
            "padding": null,
            "grid_auto_rows": null,
            "grid_gap": null,
            "max_width": null,
            "order": null,
            "_view_module_version": "1.2.0",
            "grid_template_areas": null,
            "object_position": null,
            "object_fit": null,
            "grid_auto_columns": null,
            "margin": null,
            "display": null,
            "left": null
          }
        },
        "5618f58bbb53474c86f00278c134b2e2": {
          "model_module": "@jupyter-widgets/controls",
          "model_name": "VBoxModel",
          "state": {
            "_view_name": "VBoxView",
            "_dom_classes": [
              "widget-interact"
            ],
            "_model_name": "VBoxModel",
            "_view_module": "@jupyter-widgets/controls",
            "_model_module_version": "1.5.0",
            "_view_count": null,
            "_view_module_version": "1.5.0",
            "box_style": "",
            "layout": "IPY_MODEL_b50b932c0b374899a3186e78028a37dc",
            "_model_module": "@jupyter-widgets/controls",
            "children": [
              "IPY_MODEL_e0069145382f4988afb0ce344a8cb62b",
              "IPY_MODEL_da2b7fa5768d40ac94dac572911f0352",
              "IPY_MODEL_393206bcdc7a4174b515d6d6c4c6f236"
            ]
          }
        },
        "b50b932c0b374899a3186e78028a37dc": {
          "model_module": "@jupyter-widgets/base",
          "model_name": "LayoutModel",
          "state": {
            "_view_name": "LayoutView",
            "grid_template_rows": null,
            "right": null,
            "justify_content": null,
            "_view_module": "@jupyter-widgets/base",
            "overflow": null,
            "_model_module_version": "1.2.0",
            "_view_count": null,
            "flex_flow": null,
            "width": null,
            "min_width": null,
            "border": null,
            "align_items": null,
            "bottom": null,
            "_model_module": "@jupyter-widgets/base",
            "top": null,
            "grid_column": null,
            "overflow_y": null,
            "overflow_x": null,
            "grid_auto_flow": null,
            "grid_area": null,
            "grid_template_columns": null,
            "flex": null,
            "_model_name": "LayoutModel",
            "justify_items": null,
            "grid_row": null,
            "max_height": null,
            "align_content": null,
            "visibility": null,
            "align_self": null,
            "height": null,
            "min_height": null,
            "padding": null,
            "grid_auto_rows": null,
            "grid_gap": null,
            "max_width": null,
            "order": null,
            "_view_module_version": "1.2.0",
            "grid_template_areas": null,
            "object_position": null,
            "object_fit": null,
            "grid_auto_columns": null,
            "margin": null,
            "display": null,
            "left": null
          }
        },
        "e0069145382f4988afb0ce344a8cb62b": {
          "model_module": "@jupyter-widgets/controls",
          "model_name": "FloatSliderModel",
          "state": {
            "_view_name": "FloatSliderView",
            "style": "IPY_MODEL_b6480590f0fa4b7a9dfc333392e33837",
            "_dom_classes": [],
            "description": "λ",
            "step": 0.1,
            "_model_name": "FloatSliderModel",
            "orientation": "horizontal",
            "max": 5,
            "_view_module": "@jupyter-widgets/controls",
            "_model_module_version": "1.5.0",
            "value": 1.5,
            "_view_count": null,
            "disabled": false,
            "_view_module_version": "1.5.0",
            "min": 0.1,
            "continuous_update": true,
            "readout_format": ".2f",
            "description_tooltip": null,
            "readout": true,
            "_model_module": "@jupyter-widgets/controls",
            "layout": "IPY_MODEL_7f6308f1fbfb4165ba81322552568446"
          }
        },
        "da2b7fa5768d40ac94dac572911f0352": {
          "model_module": "@jupyter-widgets/controls",
          "model_name": "FloatSliderModel",
          "state": {
            "_view_name": "FloatSliderView",
            "style": "IPY_MODEL_d0c3f89e56944c69863eaa26e36cfc1a",
            "_dom_classes": [],
            "description": "μ",
            "step": 0.1,
            "_model_name": "FloatSliderModel",
            "orientation": "horizontal",
            "max": 5,
            "_view_module": "@jupyter-widgets/controls",
            "_model_module_version": "1.5.0",
            "value": 1.8,
            "_view_count": null,
            "disabled": false,
            "_view_module_version": "1.5.0",
            "min": 0.1,
            "continuous_update": true,
            "readout_format": ".2f",
            "description_tooltip": null,
            "readout": true,
            "_model_module": "@jupyter-widgets/controls",
            "layout": "IPY_MODEL_94b6da486ff64f39a83c739a86055615"
          }
        },
        "393206bcdc7a4174b515d6d6c4c6f236": {
          "model_module": "@jupyter-widgets/output",
          "model_name": "OutputModel",
          "state": {
            "_view_name": "OutputView",
            "msg_id": "",
            "_dom_classes": [],
            "_model_name": "OutputModel",
            "outputs": [
              {
                "output_type": "display_data",
                "metadata": {
                  "tags": [],
                  "needs_background": "light"
                },
                "image/png": "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\n",
                "text/plain": "<Figure size 1080x720 with 2 Axes>"
              }
            ],
            "_view_module": "@jupyter-widgets/output",
            "_model_module_version": "1.0.0",
            "_view_count": null,
            "_view_module_version": "1.0.0",
            "layout": "IPY_MODEL_d1dec57b29aa46769409a3bfcacc67d3",
            "_model_module": "@jupyter-widgets/output"
          }
        },
        "b6480590f0fa4b7a9dfc333392e33837": {
          "model_module": "@jupyter-widgets/controls",
          "model_name": "SliderStyleModel",
          "state": {
            "_view_name": "StyleView",
            "handle_color": null,
            "_model_name": "SliderStyleModel",
            "description_width": "",
            "_view_module": "@jupyter-widgets/base",
            "_model_module_version": "1.5.0",
            "_view_count": null,
            "_view_module_version": "1.2.0",
            "_model_module": "@jupyter-widgets/controls"
          }
        },
        "7f6308f1fbfb4165ba81322552568446": {
          "model_module": "@jupyter-widgets/base",
          "model_name": "LayoutModel",
          "state": {
            "_view_name": "LayoutView",
            "grid_template_rows": null,
            "right": null,
            "justify_content": null,
            "_view_module": "@jupyter-widgets/base",
            "overflow": null,
            "_model_module_version": "1.2.0",
            "_view_count": null,
            "flex_flow": null,
            "width": null,
            "min_width": null,
            "border": null,
            "align_items": null,
            "bottom": null,
            "_model_module": "@jupyter-widgets/base",
            "top": null,
            "grid_column": null,
            "overflow_y": null,
            "overflow_x": null,
            "grid_auto_flow": null,
            "grid_area": null,
            "grid_template_columns": null,
            "flex": null,
            "_model_name": "LayoutModel",
            "justify_items": null,
            "grid_row": null,
            "max_height": null,
            "align_content": null,
            "visibility": null,
            "align_self": null,
            "height": null,
            "min_height": null,
            "padding": null,
            "grid_auto_rows": null,
            "grid_gap": null,
            "max_width": null,
            "order": null,
            "_view_module_version": "1.2.0",
            "grid_template_areas": null,
            "object_position": null,
            "object_fit": null,
            "grid_auto_columns": null,
            "margin": null,
            "display": null,
            "left": null
          }
        },
        "d0c3f89e56944c69863eaa26e36cfc1a": {
          "model_module": "@jupyter-widgets/controls",
          "model_name": "SliderStyleModel",
          "state": {
            "_view_name": "StyleView",
            "handle_color": null,
            "_model_name": "SliderStyleModel",
            "description_width": "",
            "_view_module": "@jupyter-widgets/base",
            "_model_module_version": "1.5.0",
            "_view_count": null,
            "_view_module_version": "1.2.0",
            "_model_module": "@jupyter-widgets/controls"
          }
        },
        "94b6da486ff64f39a83c739a86055615": {
          "model_module": "@jupyter-widgets/base",
          "model_name": "LayoutModel",
          "state": {
            "_view_name": "LayoutView",
            "grid_template_rows": null,
            "right": null,
            "justify_content": null,
            "_view_module": "@jupyter-widgets/base",
            "overflow": null,
            "_model_module_version": "1.2.0",
            "_view_count": null,
            "flex_flow": null,
            "width": null,
            "min_width": null,
            "border": null,
            "align_items": null,
            "bottom": null,
            "_model_module": "@jupyter-widgets/base",
            "top": null,
            "grid_column": null,
            "overflow_y": null,
            "overflow_x": null,
            "grid_auto_flow": null,
            "grid_area": null,
            "grid_template_columns": null,
            "flex": null,
            "_model_name": "LayoutModel",
            "justify_items": null,
            "grid_row": null,
            "max_height": null,
            "align_content": null,
            "visibility": null,
            "align_self": null,
            "height": null,
            "min_height": null,
            "padding": null,
            "grid_auto_rows": null,
            "grid_gap": null,
            "max_width": null,
            "order": null,
            "_view_module_version": "1.2.0",
            "grid_template_areas": null,
            "object_position": null,
            "object_fit": null,
            "grid_auto_columns": null,
            "margin": null,
            "display": null,
            "left": null
          }
        },
        "d1dec57b29aa46769409a3bfcacc67d3": {
          "model_module": "@jupyter-widgets/base",
          "model_name": "LayoutModel",
          "state": {
            "_view_name": "LayoutView",
            "grid_template_rows": null,
            "right": null,
            "justify_content": null,
            "_view_module": "@jupyter-widgets/base",
            "overflow": null,
            "_model_module_version": "1.2.0",
            "_view_count": null,
            "flex_flow": null,
            "width": null,
            "min_width": null,
            "border": null,
            "align_items": null,
            "bottom": null,
            "_model_module": "@jupyter-widgets/base",
            "top": null,
            "grid_column": null,
            "overflow_y": null,
            "overflow_x": null,
            "grid_auto_flow": null,
            "grid_area": null,
            "grid_template_columns": null,
            "flex": null,
            "_model_name": "LayoutModel",
            "justify_items": null,
            "grid_row": null,
            "max_height": null,
            "align_content": null,
            "visibility": null,
            "align_self": null,
            "height": null,
            "min_height": null,
            "padding": null,
            "grid_auto_rows": null,
            "grid_gap": null,
            "max_width": null,
            "order": null,
            "_view_module_version": "1.2.0",
            "grid_template_areas": null,
            "object_position": null,
            "object_fit": null,
            "grid_auto_columns": null,
            "margin": null,
            "display": null,
            "left": null
          }
        },
        "4238740f29fb42ec8bf30fee35ca220b": {
          "model_module": "@jupyter-widgets/controls",
          "model_name": "VBoxModel",
          "state": {
            "_view_name": "VBoxView",
            "_dom_classes": [
              "widget-interact"
            ],
            "_model_name": "VBoxModel",
            "_view_module": "@jupyter-widgets/controls",
            "_model_module_version": "1.5.0",
            "_view_count": null,
            "_view_module_version": "1.5.0",
            "box_style": "",
            "layout": "IPY_MODEL_5264de586dcf4c8792942584b18ce128",
            "_model_module": "@jupyter-widgets/controls",
            "children": [
              "IPY_MODEL_e6a60b0e9ecd4de1a80f9bec8170558e",
              "IPY_MODEL_0d9b9dc41d354811bf4eee9370e21c46",
              "IPY_MODEL_4f1988d5e27441b3a668fea571a2e1ff",
              "IPY_MODEL_7d29dc16c36644b3b0caac3a85d6c300"
            ]
          }
        },
        "5264de586dcf4c8792942584b18ce128": {
          "model_module": "@jupyter-widgets/base",
          "model_name": "LayoutModel",
          "state": {
            "_view_name": "LayoutView",
            "grid_template_rows": null,
            "right": null,
            "justify_content": null,
            "_view_module": "@jupyter-widgets/base",
            "overflow": null,
            "_model_module_version": "1.2.0",
            "_view_count": null,
            "flex_flow": null,
            "width": null,
            "min_width": null,
            "border": null,
            "align_items": null,
            "bottom": null,
            "_model_module": "@jupyter-widgets/base",
            "top": null,
            "grid_column": null,
            "overflow_y": null,
            "overflow_x": null,
            "grid_auto_flow": null,
            "grid_area": null,
            "grid_template_columns": null,
            "flex": null,
            "_model_name": "LayoutModel",
            "justify_items": null,
            "grid_row": null,
            "max_height": null,
            "align_content": null,
            "visibility": null,
            "align_self": null,
            "height": null,
            "min_height": null,
            "padding": null,
            "grid_auto_rows": null,
            "grid_gap": null,
            "max_width": null,
            "order": null,
            "_view_module_version": "1.2.0",
            "grid_template_areas": null,
            "object_position": null,
            "object_fit": null,
            "grid_auto_columns": null,
            "margin": null,
            "display": null,
            "left": null
          }
        },
        "e6a60b0e9ecd4de1a80f9bec8170558e": {
          "model_module": "@jupyter-widgets/controls",
          "model_name": "FloatSliderModel",
          "state": {
            "_view_name": "FloatSliderView",
            "style": "IPY_MODEL_d96128bcb864407d899604ef88e512aa",
            "_dom_classes": [],
            "description": "λ",
            "step": 0.1,
            "_model_name": "FloatSliderModel",
            "orientation": "horizontal",
            "max": 5,
            "_view_module": "@jupyter-widgets/controls",
            "_model_module_version": "1.5.0",
            "value": 4,
            "_view_count": null,
            "disabled": false,
            "_view_module_version": "1.5.0",
            "min": 0.1,
            "continuous_update": true,
            "readout_format": ".2f",
            "description_tooltip": null,
            "readout": true,
            "_model_module": "@jupyter-widgets/controls",
            "layout": "IPY_MODEL_4206c15939044ff1beee78af346b20ef"
          }
        },
        "0d9b9dc41d354811bf4eee9370e21c46": {
          "model_module": "@jupyter-widgets/controls",
          "model_name": "FloatSliderModel",
          "state": {
            "_view_name": "FloatSliderView",
            "style": "IPY_MODEL_049aa813d322498e9debc381b1301802",
            "_dom_classes": [],
            "description": "μ",
            "step": 0.1,
            "_model_name": "FloatSliderModel",
            "orientation": "horizontal",
            "max": 5,
            "_view_module": "@jupyter-widgets/controls",
            "_model_module_version": "1.5.0",
            "value": 1.5,
            "_view_count": null,
            "disabled": false,
            "_view_module_version": "1.5.0",
            "min": 0.1,
            "continuous_update": true,
            "readout_format": ".2f",
            "description_tooltip": null,
            "readout": true,
            "_model_module": "@jupyter-widgets/controls",
            "layout": "IPY_MODEL_57dac0b38e724a89ac924089b22964a3"
          }
        },
        "4f1988d5e27441b3a668fea571a2e1ff": {
          "model_module": "@jupyter-widgets/controls",
          "model_name": "IntSliderModel",
          "state": {
            "_view_name": "IntSliderView",
            "style": "IPY_MODEL_6de81dc401134009964cdacf4acbe278",
            "_dom_classes": [],
            "description": "n",
            "step": 1,
            "_model_name": "IntSliderModel",
            "orientation": "horizontal",
            "max": 10,
            "_view_module": "@jupyter-widgets/controls",
            "_model_module_version": "1.5.0",
            "value": 3,
            "_view_count": null,
            "disabled": false,
            "_view_module_version": "1.5.0",
            "min": 1,
            "continuous_update": true,
            "readout_format": "d",
            "description_tooltip": null,
            "readout": true,
            "_model_module": "@jupyter-widgets/controls",
            "layout": "IPY_MODEL_7aa3c51b0d5e47b7af02bc3b7535722c"
          }
        },
        "7d29dc16c36644b3b0caac3a85d6c300": {
          "model_module": "@jupyter-widgets/output",
          "model_name": "OutputModel",
          "state": {
            "_view_name": "OutputView",
            "msg_id": "",
            "_dom_classes": [],
            "_model_name": "OutputModel",
            "outputs": [
              {
                "output_type": "stream",
                "metadata": {
                  "tags": []
                },
                "text": "M/M/3\n",
                "stream": "stdout"
              },
              {
                "output_type": "display_data",
                "metadata": {
                  "tags": [],
                  "needs_background": "light"
                },
                "image/png": "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\n",
                "text/plain": "<Figure size 1080x720 with 2 Axes>"
              }
            ],
            "_view_module": "@jupyter-widgets/output",
            "_model_module_version": "1.0.0",
            "_view_count": null,
            "_view_module_version": "1.0.0",
            "layout": "IPY_MODEL_8d2aab5a096449909beca22131fda7f7",
            "_model_module": "@jupyter-widgets/output"
          }
        },
        "d96128bcb864407d899604ef88e512aa": {
          "model_module": "@jupyter-widgets/controls",
          "model_name": "SliderStyleModel",
          "state": {
            "_view_name": "StyleView",
            "handle_color": null,
            "_model_name": "SliderStyleModel",
            "description_width": "",
            "_view_module": "@jupyter-widgets/base",
            "_model_module_version": "1.5.0",
            "_view_count": null,
            "_view_module_version": "1.2.0",
            "_model_module": "@jupyter-widgets/controls"
          }
        },
        "4206c15939044ff1beee78af346b20ef": {
          "model_module": "@jupyter-widgets/base",
          "model_name": "LayoutModel",
          "state": {
            "_view_name": "LayoutView",
            "grid_template_rows": null,
            "right": null,
            "justify_content": null,
            "_view_module": "@jupyter-widgets/base",
            "overflow": null,
            "_model_module_version": "1.2.0",
            "_view_count": null,
            "flex_flow": null,
            "width": null,
            "min_width": null,
            "border": null,
            "align_items": null,
            "bottom": null,
            "_model_module": "@jupyter-widgets/base",
            "top": null,
            "grid_column": null,
            "overflow_y": null,
            "overflow_x": null,
            "grid_auto_flow": null,
            "grid_area": null,
            "grid_template_columns": null,
            "flex": null,
            "_model_name": "LayoutModel",
            "justify_items": null,
            "grid_row": null,
            "max_height": null,
            "align_content": null,
            "visibility": null,
            "align_self": null,
            "height": null,
            "min_height": null,
            "padding": null,
            "grid_auto_rows": null,
            "grid_gap": null,
            "max_width": null,
            "order": null,
            "_view_module_version": "1.2.0",
            "grid_template_areas": null,
            "object_position": null,
            "object_fit": null,
            "grid_auto_columns": null,
            "margin": null,
            "display": null,
            "left": null
          }
        },
        "049aa813d322498e9debc381b1301802": {
          "model_module": "@jupyter-widgets/controls",
          "model_name": "SliderStyleModel",
          "state": {
            "_view_name": "StyleView",
            "handle_color": null,
            "_model_name": "SliderStyleModel",
            "description_width": "",
            "_view_module": "@jupyter-widgets/base",
            "_model_module_version": "1.5.0",
            "_view_count": null,
            "_view_module_version": "1.2.0",
            "_model_module": "@jupyter-widgets/controls"
          }
        },
        "57dac0b38e724a89ac924089b22964a3": {
          "model_module": "@jupyter-widgets/base",
          "model_name": "LayoutModel",
          "state": {
            "_view_name": "LayoutView",
            "grid_template_rows": null,
            "right": null,
            "justify_content": null,
            "_view_module": "@jupyter-widgets/base",
            "overflow": null,
            "_model_module_version": "1.2.0",
            "_view_count": null,
            "flex_flow": null,
            "width": null,
            "min_width": null,
            "border": null,
            "align_items": null,
            "bottom": null,
            "_model_module": "@jupyter-widgets/base",
            "top": null,
            "grid_column": null,
            "overflow_y": null,
            "overflow_x": null,
            "grid_auto_flow": null,
            "grid_area": null,
            "grid_template_columns": null,
            "flex": null,
            "_model_name": "LayoutModel",
            "justify_items": null,
            "grid_row": null,
            "max_height": null,
            "align_content": null,
            "visibility": null,
            "align_self": null,
            "height": null,
            "min_height": null,
            "padding": null,
            "grid_auto_rows": null,
            "grid_gap": null,
            "max_width": null,
            "order": null,
            "_view_module_version": "1.2.0",
            "grid_template_areas": null,
            "object_position": null,
            "object_fit": null,
            "grid_auto_columns": null,
            "margin": null,
            "display": null,
            "left": null
          }
        },
        "6de81dc401134009964cdacf4acbe278": {
          "model_module": "@jupyter-widgets/controls",
          "model_name": "SliderStyleModel",
          "state": {
            "_view_name": "StyleView",
            "handle_color": null,
            "_model_name": "SliderStyleModel",
            "description_width": "",
            "_view_module": "@jupyter-widgets/base",
            "_model_module_version": "1.5.0",
            "_view_count": null,
            "_view_module_version": "1.2.0",
            "_model_module": "@jupyter-widgets/controls"
          }
        },
        "7aa3c51b0d5e47b7af02bc3b7535722c": {
          "model_module": "@jupyter-widgets/base",
          "model_name": "LayoutModel",
          "state": {
            "_view_name": "LayoutView",
            "grid_template_rows": null,
            "right": null,
            "justify_content": null,
            "_view_module": "@jupyter-widgets/base",
            "overflow": null,
            "_model_module_version": "1.2.0",
            "_view_count": null,
            "flex_flow": null,
            "width": null,
            "min_width": null,
            "border": null,
            "align_items": null,
            "bottom": null,
            "_model_module": "@jupyter-widgets/base",
            "top": null,
            "grid_column": null,
            "overflow_y": null,
            "overflow_x": null,
            "grid_auto_flow": null,
            "grid_area": null,
            "grid_template_columns": null,
            "flex": null,
            "_model_name": "LayoutModel",
            "justify_items": null,
            "grid_row": null,
            "max_height": null,
            "align_content": null,
            "visibility": null,
            "align_self": null,
            "height": null,
            "min_height": null,
            "padding": null,
            "grid_auto_rows": null,
            "grid_gap": null,
            "max_width": null,
            "order": null,
            "_view_module_version": "1.2.0",
            "grid_template_areas": null,
            "object_position": null,
            "object_fit": null,
            "grid_auto_columns": null,
            "margin": null,
            "display": null,
            "left": null
          }
        },
        "8d2aab5a096449909beca22131fda7f7": {
          "model_module": "@jupyter-widgets/base",
          "model_name": "LayoutModel",
          "state": {
            "_view_name": "LayoutView",
            "grid_template_rows": null,
            "right": null,
            "justify_content": null,
            "_view_module": "@jupyter-widgets/base",
            "overflow": null,
            "_model_module_version": "1.2.0",
            "_view_count": null,
            "flex_flow": null,
            "width": null,
            "min_width": null,
            "border": null,
            "align_items": null,
            "bottom": null,
            "_model_module": "@jupyter-widgets/base",
            "top": null,
            "grid_column": null,
            "overflow_y": null,
            "overflow_x": null,
            "grid_auto_flow": null,
            "grid_area": null,
            "grid_template_columns": null,
            "flex": null,
            "_model_name": "LayoutModel",
            "justify_items": null,
            "grid_row": null,
            "max_height": null,
            "align_content": null,
            "visibility": null,
            "align_self": null,
            "height": null,
            "min_height": null,
            "padding": null,
            "grid_auto_rows": null,
            "grid_gap": null,
            "max_width": null,
            "order": null,
            "_view_module_version": "1.2.0",
            "grid_template_areas": null,
            "object_position": null,
            "object_fit": null,
            "grid_auto_columns": null,
            "margin": null,
            "display": null,
            "left": null
          }
        }
      }
    }
  },
  "cells": [
    {
      "cell_type": "markdown",
      "metadata": {
        "id": "view-in-github",
        "colab_type": "text"
      },
      "source": [
        "<a href=\"https://colab.research.google.com/github/hrbolek/learning/blob/master/operanalyst/shosim.ipynb\" target=\"_parent\"><img src=\"https://colab.research.google.com/assets/colab-badge.svg\" alt=\"Open In Colab\"/></a>"
      ]
    },
    {
      "cell_type": "markdown",
      "metadata": {
        "id": "s1ri0sOJPP1M"
      },
      "source": [
        "# Teorie hromadné obsluhy\n",
        "\n",
        "odkaz [Wiki](https://en.wikipedia.org/wiki/Queueing_theory)\n",
        "\n",
        "příbuzný problém [Markovovské procesy](https://cs.wikipedia.org/wiki/Markov%C5%AFv_%C5%99et%C4%9Bzec)\n",
        "\n",
        "Miroslav Horký, [Modely hromadné obsluhy](https://core.ac.uk/download/pdf/30309597.pdf), Diplomová práce, VUT Brno, 2015,  \n"
      ]
    },
    {
      "cell_type": "markdown",
      "metadata": {
        "id": "Xwvnm5uC2f5R"
      },
      "source": [
        "## Teorie"
      ]
    },
    {
      "cell_type": "markdown",
      "metadata": {
        "id": "_8XOIHPS3M8W"
      },
      "source": [
        "### Otázky k vyřešení"
      ]
    },
    {
      "cell_type": "markdown",
      "metadata": {
        "id": "bgDf3eSO3Sqi"
      },
      "source": [
        "- Jak dlouhá bude fronta?\n",
        "- Jak dlouho se ve frontě čeká?\n",
        "- Jaká je pravděpodobnost, že obsluha je volná / nepracuje?"
      ]
    },
    {
      "cell_type": "markdown",
      "metadata": {
        "id": "iS3Uqj4dHA4J"
      },
      "source": [
        "### Základní pojmy"
      ]
    },
    {
      "cell_type": "markdown",
      "metadata": {
        "id": "V3hAlsJPHDdm"
      },
      "source": [
        "- Požadavek, někdy také zákazník, je subjekt, který vyžaduje vyřízení \n",
        "- Obslužná linka je zařízení, případně osoba, či jejich množina, které zabezpečuje uspokojení požadavku.\n",
        "- Obsluha je činnost, která vede k uspokojení požadavku.\n",
        "- Vstupní proud je posloupnost přícházejících požadavků\n",
        "- Výstupní proud je posloupnost odccházejících požadavků\n",
        "- Neuspokojené požadavky jsou řazeny do fronty podle typu systému hromadné obsluhy\n",
        "  - FIFO - first in first out, \"klasická\" fronta, první přišel, první půjde\n",
        "  - LIFO - last in first out, \"zásobník\", poslední přišel, první půjde\n",
        "  - SIRO - service in random order, obsluha v náhodném pořadí\n",
        "  - PRI - priority, obsluha podle priorit"
      ]
    },
    {
      "cell_type": "markdown",
      "metadata": {
        "id": "n4pqlvA32h3E"
      },
      "source": [
        "### Rozdělení"
      ]
    },
    {
      "cell_type": "markdown",
      "metadata": {
        "id": "B5yaQW0b2kMd"
      },
      "source": [
        "Podle typu modelu\n",
        "- Markovovské modely, časové intervaly mají exponenciální rozdělení\n",
        "- Semimarkovovské modely, časové intervaly mají Erlangovo rozdělení\n",
        "- Ostatní, časové intervaly mají jiná rozdělení\n",
        "\n",
        "Podle počtu požadavků\n",
        "- systémy s omezeným množstvím požadavků\n",
        "- systémy s neomezeným množstvím požadavků\n",
        "\n",
        "Podle čekání na obsluhu\n",
        "- Systémy s čekáním. Požadavek, zákazník, letoun, apod. se zařadí do fronty a čeká na obsluhu.\n",
        "- Systémy s odmítnutím. Požadavek otestuje dostupnost obsluhy a jestliže není obsloužen, systém opouští (letoun).\n",
        "\n",
        "- Systémy s odchodem. Po určité době požadavek systém opouští, aniž by byl obsloužen."
      ]
    },
    {
      "cell_type": "markdown",
      "metadata": {
        "id": "GWFs2L7IPQQI"
      },
      "source": [
        "## Kendalova notace"
      ]
    },
    {
      "cell_type": "markdown",
      "metadata": {
        "id": "-kFQlrdzMSEj"
      },
      "source": [
        "Systém je popsán symboly $A/B/c$ nebo $A/B/c/d/e$"
      ]
    },
    {
      "cell_type": "markdown",
      "metadata": {
        "id": "xIZZ8NE1JkuR"
      },
      "source": [
        "### $A/B/c$"
      ]
    },
    {
      "cell_type": "markdown",
      "metadata": {
        "id": "ZkLu-J0IJ2Ub"
      },
      "source": [
        "$A$, $B$ představují hodnoty\n",
        "- $M$, pokud se jedná o exponenciální rozdělení dob\n",
        "- $E_k$, pokud se jedná o Erlangovo rozdělení dob, přičemž $k$ je parametrem\n",
        "- $D$, pokud doby jsou deterministické\n",
        "- $G$, pro ostatní rozdělení\n",
        "\n",
        "$c$ je počet linek obsluhy"
      ]
    },
    {
      "cell_type": "markdown",
      "metadata": {
        "id": "gLLnxjSCKbcF"
      },
      "source": [
        "### $A/B/c/d/e$\n",
        "\n",
        "$d$ je kapacita systému\n",
        "$e$ určuje frontový režim (FIFO, LIFO, ...)"
      ]
    },
    {
      "cell_type": "markdown",
      "metadata": {
        "id": "dgGQePifuFui"
      },
      "source": [
        "### Veličiny"
      ]
    },
    {
      "cell_type": "markdown",
      "metadata": {
        "id": "9RfMxUntuHYR"
      },
      "source": [
        "$L$ je průměrná počet požadavků v systému\n",
        "\n",
        "$L_q$ je průměrná délka fronty\n",
        "\n",
        "$\\lambda$ je intenzita toku požadavků\n",
        "\n",
        "$\\mu$ je intenzita obsluhy\n",
        "\n",
        "$\\rho$ je intenzita provozu\n",
        "\n",
        "$W$ je průměrná doba setrvání v systému\n",
        "\n",
        "$W_q$ je průměrná doba setrvání ve frontě\n",
        "\n",
        "\n",
        "\n",
        "\n",
        "Pro stabilní systém je nutné, aby $\\rho \\le 1$.\n"
      ]
    },
    {
      "cell_type": "markdown",
      "metadata": {
        "id": "J_fclzXDup4s"
      },
      "source": [
        "### Obecné Littlovy vzorce "
      ]
    },
    {
      "cell_type": "markdown",
      "metadata": {
        "id": "N8F6a7iZuld8"
      },
      "source": [
        "\n",
        "\n",
        "$$L=\\lambda W$$\n",
        "\n",
        "$$L_q = \\lambda W_q$$"
      ]
    },
    {
      "cell_type": "markdown",
      "metadata": {
        "id": "B9aW7cIEKuUf"
      },
      "source": [
        "### $M/M/1$"
      ]
    },
    {
      "cell_type": "markdown",
      "metadata": {
        "id": "zne3vCbpK-DK"
      },
      "source": [
        "Systémy M/M/1, M/M/n\n",
        "\n",
        "Pravděpodobnost, že v systému není žádný požadavek\n",
        "\n",
        "$$P_0= \\frac{1}{ \\left[ \\sum_{m=0}^{n-1}\\frac{(n \\rho)^m}{m!} + \\frac{n \\rho^n}{n!(1-\\rho)} \\right] }$$\n",
        "\n",
        "Rovnice o průměrné délce fronty pro M/M/1\n",
        "\n",
        "$$L_q = \\frac{\\lambda}{\\mu}$$\n",
        "\n",
        "$$L_q = Opravit$$\n",
        "\n",
        "\n",
        "Rovnice o průměrné délce fronty pro M/M/n\n",
        "\n",
        "$$L_q = \\frac{P_0(\\frac{\\lambda}{\\mu})^n \\rho}{n!(1-\\rho)}$$\n",
        "\n",
        "Vztah mezi dobou, kterou požadavek průměrně stráví v systému a ve frontě\n",
        "\n",
        "$$W=W_q + \\frac{1}{\\mu}$$\n",
        "\n",
        "Intenzita provozu\n",
        "$$\\rho=\\frac{\\lambda}{n \\cdot \\mu}$$\n",
        "\n",
        "Pravděpodobnost, že obsluha je volná\n",
        "$$P_i=1-\\rho$$"
      ]
    },
    {
      "cell_type": "markdown",
      "metadata": {
        "id": "jKgaFMd2PdhU"
      },
      "source": [
        "## Simulace toku požadavků"
      ]
    },
    {
      "cell_type": "markdown",
      "metadata": {
        "id": "cT8rQFS6PiC-"
      },
      "source": [
        "### Poisonův tok"
      ]
    },
    {
      "cell_type": "markdown",
      "metadata": {
        "id": "c60mgWOsPokb"
      },
      "source": [
        "Poisonův tok je model např. příchodu zákazníků k přepážce, kde jsou obsluhováni. Pro modelování potřebujeme generovat posloupnost příchodů. Interval mezi jednotlivými příchody lze generovat podle následujícího vztahu\n",
        "\n",
        "$$r'=-\\frac{1}{\\lambda}ln(r)$$\n",
        "\n",
        "kde $r$ je náhodné číslo s rovnoměrným rozložením a $r'$ je náhodný interval mezi dvěma příchody.\n",
        "\n",
        "Stejným vztahem lze vypočítat náhodnou délku obsluhy (pro systémy M/M/1 nebo M/M/n)\n",
        "\n",
        "https://preshing.com/20111007/how-to-generate-random-timings-for-a-poisson-process/"
      ]
    },
    {
      "cell_type": "code",
      "metadata": {
        "id": "fSNsN8NVcx3I"
      },
      "source": [
        "import numpy as np\n",
        "from numpy.random import Generator, exponential\n",
        "\n",
        "import ipywidgets as widgets\n",
        "\n",
        "import matplotlib.pyplot as plt\n",
        "from pylab import rcParams\n",
        "rcParams['figure.figsize'] = 15, 10"
      ],
      "execution_count": null,
      "outputs": []
    },
    {
      "cell_type": "code",
      "metadata": {
        "id": "yr5btoT4Pyni"
      },
      "source": [
        "from random import random\n",
        "from math import log as ln\n",
        "\n",
        "def rndEx(rnd, lam):\n",
        "  x = rnd()\n",
        "  result = (-1 / lam) * ln(x) #https://preshing.com/20111007/how-to-generate-random-timings-for-a-poisson-process/\n",
        "  return result"
      ],
      "execution_count": null,
      "outputs": []
    },
    {
      "cell_type": "markdown",
      "metadata": {
        "id": "1e5k7NzNeMbW"
      },
      "source": [
        "### Graf četností"
      ]
    },
    {
      "cell_type": "markdown",
      "metadata": {
        "id": "bWb44NRfdwEu"
      },
      "source": [
        "Graf četností ukazuje rozložení generovaných náhodných veličin."
      ]
    },
    {
      "cell_type": "code",
      "metadata": {
        "id": "jk7yHHuCceEs",
        "colab": {
          "base_uri": "https://localhost:8080/",
          "height": 656,
          "referenced_widgets": [
            "c102a8d1b3c3409c803ec5b46f909195",
            "39341cf8e8a14e38ab2985975f622b3d",
            "7713cb36574a4e4db697cb6c51454eb7",
            "1eb4e6d862cd4ba5beeadeec8bdbe234",
            "4741d6f5c85a4ccbaddf698def09037c",
            "2d79722d5f8c46818da9d2375f5216f3",
            "a0d3edd5caaa4b3893ba716f3db30e4b"
          ]
        },
        "outputId": "b62638e9-ebfd-425a-eb1e-a575c335941f"
      },
      "source": [
        "def plotIt(lam = 0.5):\n",
        "  data = exponential(1 / lam, 1000)\n",
        "  plt.hist(data)\n",
        "  plt.grid('both')\n",
        "  plt.xlabel('Hodnota')\n",
        "  plt.ylabel('Četnost');\n",
        "  plt.xlim(0, 10)\n",
        "  plt.ylim(0, 550)\n",
        "\n",
        "widgets.interact(plotIt, lam=widgets.FloatSlider(1, min=0.01, max=2))"
      ],
      "execution_count": null,
      "outputs": [
        {
          "output_type": "display_data",
          "data": {
            "application/vnd.jupyter.widget-view+json": {
              "model_id": "c102a8d1b3c3409c803ec5b46f909195",
              "version_minor": 0,
              "version_major": 2
            },
            "text/plain": [
              "interactive(children=(FloatSlider(value=1.0, description='lam', max=2.0, min=0.01), Output()), _dom_classes=('…"
            ]
          },
          "metadata": {
            "tags": []
          }
        },
        {
          "output_type": "execute_result",
          "data": {
            "text/plain": [
              "<function __main__.plotIt>"
            ]
          },
          "metadata": {
            "tags": []
          },
          "execution_count": 14
        }
      ]
    },
    {
      "cell_type": "markdown",
      "metadata": {
        "id": "5vCoNH48buFI"
      },
      "source": [
        "### Časová posloupnost / vznik požadavků"
      ]
    },
    {
      "cell_type": "markdown",
      "metadata": {
        "id": "m0ogmlfhd62N"
      },
      "source": [
        "Pokud kumulativně sčítáme generované hodnoty, dostáváme okamžiky příchodů. Níže je zobrazena časová synchronizace dvou různých zdrojů."
      ]
    },
    {
      "cell_type": "code",
      "metadata": {
        "id": "D_eG7uL0P5f4",
        "colab": {
          "base_uri": "https://localhost:8080/",
          "height": 622
        },
        "outputId": "c0237af1-7bda-42d8-fad9-604fdee5b7c4"
      },
      "source": [
        "def plotFlow(maxTime, lam, color):\n",
        "  currentTime = 0\n",
        "  while currentTime < maxTime:\n",
        "    currentTime = currentTime + rndEx(random, lam)\n",
        "    plt.axvline(x = currentTime, color =color)\n",
        "\n",
        "plotFlow(30, 0.5, color='red')    \n",
        "plotFlow(30, 1, color='green')    \n",
        "plt.title('Dva toky s různou intenzitou')\n",
        "plt.xlabel('Čas');"
      ],
      "execution_count": null,
      "outputs": [
        {
          "output_type": "display_data",
          "data": {
            "image/png": "[encoded data removed]",
            "text/plain": [
              "<Figure size 1080x720 with 1 Axes>"
            ]
          },
          "metadata": {
            "tags": [],
            "needs_background": "light"
          }
        }
      ]
    },
    {
      "cell_type": "code",
      "metadata": {
        "id": "GBB1n3xTSLYu",
        "colab": {
          "base_uri": "https://localhost:8080/",
          "height": 704,
          "referenced_widgets": [
            "d24611b285524ad59c21b6ad3f6de107",
            "b6f5c37852be40bebf7f7ee07d507669",
            "e329b0b088d34e1db5ae70231fffc29c",
            "0040f6c3d5b148dd8146d29c7d413ad6",
            "a41df7d49a2e4cd79968ec69c77b2064",
            "53aeb2d289934851a0c62db05ef6ec62",
            "8d16433c04d343868d4a58b69168bdf8",
            "5dc7fe666bac45b3bd96f2700205a56a",
            "eb8890536b25426894c5126bce2c315c",
            "e543a303882d4ac2847488e1fa114524"
          ]
        },
        "outputId": "e270b4af-4362-4e3d-b1f2-9d6d4c117e3f"
      },
      "source": [
        "def twoSequences(intervalA, intervalB):\n",
        "  plotFlow(30, intervalA, color='red')    \n",
        "  plotFlow(30, intervalB, color='green')    \n",
        "  plt.title('Dva toky s různou intenzitou')\n",
        "  plt.xlabel('Čas');\n",
        "\n",
        "widgets.interact(twoSequences, intervalA=widgets.FloatSlider(1, min=0.01, max=2), intervalB=widgets.FloatSlider(1, min=0.01, max=2))"
      ],
      "execution_count": null,
      "outputs": [
        {
          "output_type": "display_data",
          "data": {
            "application/vnd.jupyter.widget-view+json": {
              "model_id": "d24611b285524ad59c21b6ad3f6de107",
              "version_minor": 0,
              "version_major": 2
            },
            "text/plain": [
              "interactive(children=(FloatSlider(value=1.0, description='intervalA', max=2.0, min=0.01), FloatSlider(value=1.…"
            ]
          },
          "metadata": {
            "tags": []
          }
        },
        {
          "output_type": "execute_result",
          "data": {
            "text/plain": [
              "<function __main__.twoSequences>"
            ]
          },
          "metadata": {
            "tags": []
          },
          "execution_count": 16
        }
      ]
    },
    {
      "cell_type": "markdown",
      "metadata": {
        "id": "Vn4bBljWb_3I"
      },
      "source": [
        ""
      ]
    },
    {
      "cell_type": "code",
      "metadata": {
        "id": "NhyiZqoDcB79"
      },
      "source": [
        "def generateSequenceX(maxTime, lam):\n",
        "  result = []\n",
        "  currentTime = 0\n",
        "  while currentTime < maxTime:\n",
        "    currentTime = currentTime + rndEx(random, lam)\n",
        "    result.append(currentTime)\n",
        "  return result"
      ],
      "execution_count": null,
      "outputs": []
    },
    {
      "cell_type": "markdown",
      "metadata": {
        "id": "TwSsPJ6y0Nb3"
      },
      "source": [
        "## Událostní kalendář pro událostní simulaci"
      ]
    },
    {
      "cell_type": "markdown",
      "metadata": {
        "id": "qnYy24QHesJM"
      },
      "source": [
        "Třída pro událostní simulaci. Událostní simulace umožňuje spouštění událostí - akcí v časové souslednosti bez ohledu na souslednost plánování. \n",
        "\n",
        "Akce jsou v tomto případě popsány funkcemi, které jsou v simulaci volány s předpřipravenými parametry. "
      ]
    },
    {
      "cell_type": "code",
      "metadata": {
        "id": "kNdFHrQuYr9P"
      },
      "source": [
        "class EventCalendar:\n",
        "  def __init__(self):\n",
        "    self._queue = []\n",
        "    pass\n",
        "\n",
        "  #Metoda pro vykonání jednoho kroku simulace\n",
        "  def Step(self):\n",
        "    #z fronty odstraň nejstarší událost\n",
        "    currentEvent = self._queue.pop(0)\n",
        "\n",
        "    #vyvolej funkci, která je spojena s danou událostí\n",
        "    func = currentEvent['executor']\n",
        "    time = currentEvent['time']\n",
        "    result = func(time, **currentEvent['kwargs'])\n",
        "    \n",
        "    currentEvent['result'] = result\n",
        "    #vrať událost, která byla zpracována\n",
        "    return currentEvent\n",
        "\n",
        "  #Metoda pro získání informace o času nejstarší události, \n",
        "  #tj. události, která bude zpracována jako první\n",
        "  def PrepareNext(self):\n",
        "    #vrať čas nejstarší události\n",
        "    return self._queue[0]['time']\n",
        "\n",
        "  #Vložení události do fronty událostí, \n",
        "  #futureTime - čas, kdy bude událost vyvolána\n",
        "  #f - funkce, která bude v čase události vykonána / volána\n",
        "  def AddEvent(self, futureTime, f, **kwargs):\n",
        "    self._queue.append({'time': futureTime, 'executor': f, 'kwargs': kwargs})\n",
        "    #setřídit frontu / list událostí podle položky time / čas\n",
        "    self._queue.sort(key = lambda item: item['time'])\n",
        "    return self\n",
        "\n",
        "  def __iter__(self):  # we can return self here, because __next__ is implemented\n",
        "      return self\n",
        "\n",
        "  def __next__(self):\n",
        "    return self.Step()\n"
      ],
      "execution_count": null,
      "outputs": []
    },
    {
      "cell_type": "markdown",
      "metadata": {
        "id": "zoX54i_Bf3aX"
      },
      "source": [
        "### Použití událostní simulace"
      ]
    },
    {
      "cell_type": "markdown",
      "metadata": {
        "id": "A97_tVaFeupj"
      },
      "source": [
        "Níže je definována funkce ```eventPrinter```, která vytiskne informaci o stavu simulace a naplánuje další událost."
      ]
    },
    {
      "cell_type": "code",
      "metadata": {
        "id": "2adGO-SSf6hm"
      },
      "source": [
        "def eventPrinter(time, calendar, value):\n",
        "  print(f'At time\\t{time}\\tvalue is\\t{value}')\n",
        "  calendar.AddEvent(time + random(), eventPrinter, calendar = calendar, value = value + 1)"
      ],
      "execution_count": null,
      "outputs": []
    },
    {
      "cell_type": "markdown",
      "metadata": {
        "id": "LtXk_CSlfRYx"
      },
      "source": [
        "Na základě třídy ```EventCalendar``` je v náhodných čase volána funkce ```eventPrinter```. Tato funkce vytiskne informaci o stavu simulace a naplánuje další událost."
      ]
    },
    {
      "cell_type": "code",
      "metadata": {
        "id": "_hHuJJqHfHOT",
        "colab": {
          "base_uri": "https://localhost:8080/"
        },
        "outputId": "f3706e63-6e8b-46a1-cdc6-4beda3decc83"
      },
      "source": [
        "calendar = EventCalendar()\n",
        "calendar.AddEvent(0, eventPrinter, calendar = calendar, value = 0)\n",
        "\n",
        "for event in calendar:\n",
        "  print(f\"> At {event['time']} I have served an event\")\n",
        "  if event['time'] > 3:\n",
        "    break"
      ],
      "execution_count": null,
      "outputs": [
        {
          "output_type": "stream",
          "text": [
            "At time\t0\tvalue is\t0\n",
            "> At 0 I have served an event\n",
            "At time\t0.009475946835194482\tvalue is\t1\n",
            "> At 0.009475946835194482 I have served an event\n",
            "At time\t0.6811328088656344\tvalue is\t2\n",
            "> At 0.6811328088656344 I have served an event\n",
            "At time\t1.0514839193601548\tvalue is\t3\n",
            "> At 1.0514839193601548 I have served an event\n",
            "At time\t1.4563631511879804\tvalue is\t4\n",
            "> At 1.4563631511879804 I have served an event\n",
            "At time\t1.5968411376025307\tvalue is\t5\n",
            "> At 1.5968411376025307 I have served an event\n",
            "At time\t1.767203721872673\tvalue is\t6\n",
            "> At 1.767203721872673 I have served an event\n",
            "At time\t2.1527849569868476\tvalue is\t7\n",
            "> At 2.1527849569868476 I have served an event\n",
            "At time\t2.8904260348411897\tvalue is\t8\n",
            "> At 2.8904260348411897 I have served an event\n",
            "At time\t2.991749853059456\tvalue is\t9\n",
            "> At 2.991749853059456 I have served an event\n",
            "At time\t3.9143859319023666\tvalue is\t10\n",
            "> At 3.9143859319023666 I have served an event\n"
          ],
          "name": "stdout"
        }
      ]
    },
    {
      "cell_type": "markdown",
      "metadata": {
        "id": "SB-03vFkg_GY"
      },
      "source": [
        "## Simulace SHO M/M/1"
      ]
    },
    {
      "cell_type": "code",
      "metadata": {
        "id": "d91IS5KQha8m"
      },
      "source": [
        "λ = 1\n",
        "µ = 2"
      ],
      "execution_count": null,
      "outputs": []
    },
    {
      "cell_type": "markdown",
      "metadata": {
        "id": "RTirtXE1hIcI"
      },
      "source": [
        "### Příchod požadavku"
      ]
    },
    {
      "cell_type": "markdown",
      "metadata": {
        "id": "F6ADNRCjgGPP"
      },
      "source": [
        "Ve chvíli, kdy požadavek vstupuje do systému, je tento zařazen do fronty, je naplánován příchod dalšího požadavku a je realizován pokus o zahájení obsluhy požadavku."
      ]
    },
    {
      "cell_type": "code",
      "metadata": {
        "id": "To6tYAD1hF9s"
      },
      "source": [
        "queue = []\n",
        "def customerArrived(time, calendar):\n",
        "\n",
        "  # zařazení požadavku do fronty\n",
        "  newCustomer = {'enterTime': time}\n",
        "  queue.append(newCustomer)\n",
        "\n",
        "  # naplánování dalšího příchodu\n",
        "  deltaTime = exponential(1 / λ, 1)[0] # čas \n",
        "  calendar.AddEvent(time + deltaTime, customerArrived, calendar=calendar)\n",
        "\n",
        "  # pokus o zahájení obsluhy\n",
        "  calendar.AddEvent(time, tryBeginService, calendar=calendar)"
      ],
      "execution_count": null,
      "outputs": []
    },
    {
      "cell_type": "markdown",
      "metadata": {
        "id": "Khe5ZQvOh9ML"
      },
      "source": [
        "### Obsluha požadavku"
      ]
    },
    {
      "cell_type": "markdown",
      "metadata": {
        "id": "iufaxlJWg5UH"
      },
      "source": [
        "Pokus o zahájení obsluhy znamená, že pokud je systém obsluhy volný a fronta není prázdná, je zahájena obsluha. Součástí je také naplánování konce obsluhy."
      ]
    },
    {
      "cell_type": "code",
      "metadata": {
        "id": "NDHW9Zagh9Wc"
      },
      "source": [
        "servicePlace = {'inService': None}\n",
        "\n",
        "def tryBeginService(time, calendar):\n",
        "  if servicePlace['inService'] is None:\n",
        "    if len(queue) > 0:\n",
        "      customer = queue.pop()\n",
        "      timeOfEnd = exponential(1 / µ, 1)[0] #jeden čas\n",
        "      customer['beginService'] = time\n",
        "      customer['endService'] = time + timeOfEnd\n",
        "      servicePlace['inService'] = customer\n",
        "\n",
        "      # Naplánování konce obsluhy\n",
        "      calendar.AddEvent(time + timeOfEnd, endService, calendar=calendar)"
      ],
      "execution_count": null,
      "outputs": []
    },
    {
      "cell_type": "markdown",
      "metadata": {
        "id": "FCD4f8XWhIZn"
      },
      "source": [
        "Konec obsluhy uvolní obsluhu a pokusí se o zahájení obsluhy."
      ]
    },
    {
      "cell_type": "code",
      "metadata": {
        "id": "RxGFHm8RhGLS"
      },
      "source": [
        "def endService(time, calendar):\n",
        "  finishedCustomer = servicePlace['inService']\n",
        "  servicePlace['inService'] = None\n",
        "  calendar.AddEvent(time, tryBeginService, calendar=calendar)\n",
        "  return finishedCustomer"
      ],
      "execution_count": null,
      "outputs": []
    },
    {
      "cell_type": "markdown",
      "metadata": {
        "id": "wBUT5Edyk736"
      },
      "source": [
        "### Sběr statistických ukazatelů"
      ]
    },
    {
      "cell_type": "markdown",
      "metadata": {
        "id": "Vp-mHqUlhhfr"
      },
      "source": [
        "Nezbytnou součástí simulace je sběr statistických ukazatelů. Ty mohou být principiálně dvojího typu:\n",
        "- číslo (např. délka fronty)\n",
        "- logická hodnota (např. zda je obsluha volná)\n",
        "\n",
        "V případě logických hodnot se tyto převádí na hodnoty 0 a 1. Interpretace statistických ukazatelů je poté jako pravděpodobnost, že výrok spojený s logickou hodnotou je pravdivý. Např. pravděpodobnost, že obsluha je volná.\n",
        "\n",
        "Ke každému statistickému údaji potřebujeme dvě operace:\n",
        "- zápis (sběr ukazatele a kumulace hodnot)\n",
        "- čtení hodnoty ukazatele"
      ]
    },
    {
      "cell_type": "markdown",
      "metadata": {
        "id": "UUfbielxjugP"
      },
      "source": [
        "Pro výpočet hodnoty statistického ukazetele se využívá průměrné hodnoty funkce v daném časovém intervalu.\n",
        "\n",
        "$$\\overline f = \\frac{\\int_{t_a}^{t_b}f(t)dt}{t_b-t_a}$$\n",
        "\n",
        "diskrétní tvar této rovnice je\n",
        "\n",
        "$$\\overline f = \\frac{\\sum_{i=0}^n f(x) \\Delta t_i}{\\sum_{i=0}^n \\Delta t_i}$$\n",
        "\n",
        "dá se tedy tvrdit, že\n",
        "\n",
        "$$ f_i^* = f_{i-1}^* + f(t) \\Delta t_i$$\n",
        "\n",
        "spolu s \n",
        "\n",
        "$$t_i^* = t_{i-1}^* + \\Delta t_i$$\n",
        "\n",
        "umožňuje spočítat\n",
        "\n",
        "$$\\overline f = \\frac{f_i^*}{t_i^*}$$\n",
        "\n",
        "\n"
      ]
    },
    {
      "cell_type": "markdown",
      "metadata": {
        "id": "IMwIrnmOjvK8"
      },
      "source": [
        "Při simulaci je nezbytné si uvědomit:\n",
        "- libovolný ukazatel se může změnit v libovolném kroku simulace a tedy je nutné v každém kroku simulace sledovat všechny statistické ukazatele\n",
        "- je nutné si před následujícím krokem simulace (neboli na konci kroku simulace) uložit hodnotu parametru $f(t)$ a po realizaci kroku o délce $\\Delta t_i$ kumulovat součin do pomocné proměnné $f_i^* = f_{i-1}^* +f(t) \\Delta t_i$."
      ]
    },
    {
      "cell_type": "markdown",
      "metadata": {
        "id": "BTIsF2CklZaz"
      },
      "source": [
        "#### Délka fronty"
      ]
    },
    {
      "cell_type": "code",
      "metadata": {
        "id": "wvh4oHzSlh7M"
      },
      "source": [
        "queueStatistic = {'cumulativeValue': 0, 'value': 0, 'time': 0}\n",
        "def checkQueueLength(time):\n",
        "  deltaTime = time - queueStatistic['time']\n",
        "  queueStatistic['time'] = time\n",
        "  queueStatistic['cumulativeValue'] += deltaTime * queueStatistic['value']\n",
        "  queueStatistic['value'] = len(queue) \n",
        "\n",
        "def getAvgLength():\n",
        "  if queueStatistic['time'] > 0:\n",
        "    return queueStatistic['cumulativeValue'] / queueStatistic['time']\n",
        "  else:\n",
        "    return 0"
      ],
      "execution_count": null,
      "outputs": []
    },
    {
      "cell_type": "markdown",
      "metadata": {
        "id": "phwmFfgKlbpf"
      },
      "source": [
        "#### Obsluha je volná"
      ]
    },
    {
      "cell_type": "code",
      "metadata": {
        "id": "_04n8kmGlJ4Z"
      },
      "source": [
        "serviceFull = {'cumulativeValue': 0, 'value': 0, 'time': 0}\n",
        "def checkServiceFull(time):\n",
        "  deltaTime = time - serviceFull['time']\n",
        "  serviceFull['time'] = time\n",
        "  serviceFull['cumulativeValue'] += deltaTime * serviceFull['value']\n",
        "  serviceFull['value'] = 0\n",
        "  if servicePlace['inService'] is None:\n",
        "    serviceFull['value'] = 1\n",
        "\n",
        "def getServiceAvailableProbability():\n",
        "  if serviceFull['time'] > 0:  \n",
        "    return serviceFull['cumulativeValue'] / serviceFull['time']    \n",
        "  else:\n",
        "    return 0"
      ],
      "execution_count": null,
      "outputs": []
    },
    {
      "cell_type": "markdown",
      "metadata": {
        "id": "Ov8_4diQzptY"
      },
      "source": [
        "#### Obecný tvar pro libovolnou statistiku"
      ]
    },
    {
      "cell_type": "markdown",
      "metadata": {
        "id": "nYtFZmSyid8O"
      },
      "source": [
        "Jak bylo výše uvedeno, ke každému statistickému údaji potřebujeme dvě operace:\n",
        "- zápis (sběr ukazatele a kumulace hodnot)\n",
        "- čtení hodnoty ukazatele\n",
        "\n",
        "Níže je uvedena obecná implementace, která tuto potřebu uspokojí. Funkce ```createStatistic``` vrací dvě funkce, které slouží ke sběru údajů a k výpočtu průměrné hodnoty. Parametr ```valueGetter``` je funkce, která vrací aktuální hodnotu sledovaného ukazatele."
      ]
    },
    {
      "cell_type": "code",
      "metadata": {
        "id": "qKhTYDrwzp_Y"
      },
      "source": [
        "def createStatistic(valueGetter):\n",
        "  data = {'cumulativeValue': 0, 'value': 0, 'time': 0}\n",
        "  def collectData(time):\n",
        "    deltaTime = time - data['time']\n",
        "    data['time'] = time\n",
        "    data['cumulativeValue'] += deltaTime * data['value']\n",
        "    data['value'] = valueGetter()\n",
        "\n",
        "  def getValue():\n",
        "    if data['time'] > 0:  \n",
        "      return data['cumulativeValue'] / data['time']    \n",
        "    else:\n",
        "      return 0  \n",
        "  return collectData, getValue"
      ],
      "execution_count": null,
      "outputs": []
    },
    {
      "cell_type": "markdown",
      "metadata": {
        "id": "oXDG8Z7XjldF"
      },
      "source": [
        "Jako příklad lze uvést statistiku, která sleduje, zda délka fronty je větší než 5."
      ]
    },
    {
      "cell_type": "code",
      "metadata": {
        "id": "2L79FRN11SSf"
      },
      "source": [
        "def decideIfLengthGT5():\n",
        "  if len(queue) > 5:\n",
        "    return 1\n",
        "  else:\n",
        "    return 0\n",
        "\n",
        "updateLengthGT5, getLengthGT5 = createStatistic(decideIfLengthGT5)"
      ],
      "execution_count": null,
      "outputs": []
    },
    {
      "cell_type": "markdown",
      "metadata": {
        "id": "zYQH66G1kbjs"
      },
      "source": [
        "### Běh simulace"
      ]
    },
    {
      "cell_type": "code",
      "metadata": {
        "id": "EC88MN-4hqu3"
      },
      "source": [
        "calendar = EventCalendar()\n",
        "\n",
        "times = []\n",
        "lengths = []\n",
        "probability = []\n",
        "\n",
        "calendar.AddEvent(0, customerArrived, calendar=calendar)\n",
        "for event in calendar:\n",
        "  #print(event)\n",
        "  currentTime = event['time']\n",
        "  checkQueueLength(currentTime)\n",
        "  checkServiceFull(currentTime)\n",
        "\n",
        "  times.append(currentTime)\n",
        "  lengths.append(getAvgLength())\n",
        "  probability.append(getServiceAvailableProbability())\n",
        "\n",
        "  finishedCustomer = event['result']\n",
        "  if not finishedCustomer is None:\n",
        "    pass\n",
        "  if event['time'] > 10000:\n",
        "    break"
      ],
      "execution_count": null,
      "outputs": []
    },
    {
      "cell_type": "markdown",
      "metadata": {
        "id": "Vm40leS6oVhC"
      },
      "source": [
        "### Výsledek simulace"
      ]
    },
    {
      "cell_type": "markdown",
      "metadata": {
        "id": "KkwfODg6y-Uo"
      },
      "source": [
        "#### Textový výstup"
      ]
    },
    {
      "cell_type": "code",
      "metadata": {
        "id": "vz8DMETFy-kN",
        "colab": {
          "base_uri": "https://localhost:8080/"
        },
        "outputId": "d609688a-4e64-42f3-c301-141ed83d1959"
      },
      "source": [
        "print(f'Průměrná délka fronty je {getAvgLength()}')\n",
        "print(f'Pravděpodobnost, že obsluha bude volná {getServiceAvailableProbability()}')"
      ],
      "execution_count": null,
      "outputs": [
        {
          "output_type": "stream",
          "text": [
            "Průměrná délka fronty je 0.4845132319716638\n",
            "Pravděpodobnost, že obsluha bude volná 0.5122497838396257\n"
          ],
          "name": "stdout"
        }
      ]
    },
    {
      "cell_type": "markdown",
      "metadata": {
        "id": "zYlbDZisyeXc"
      },
      "source": [
        "#### Délka fronty"
      ]
    },
    {
      "cell_type": "code",
      "metadata": {
        "id": "6mRJpF60oZfR",
        "colab": {
          "base_uri": "https://localhost:8080/",
          "height": 592
        },
        "outputId": "fd6a2ec7-85b0-4e4f-a9dd-87a1f3511465"
      },
      "source": [
        "plt.plot(times, lengths)\n",
        "plt.grid()"
      ],
      "execution_count": null,
      "outputs": [
        {
          "output_type": "display_data",
          "data": {
            "image/png": "[encoded data removed]",
            "text/plain": [
              "<Figure size 1080x720 with 1 Axes>"
            ]
          },
          "metadata": {
            "tags": [],
            "needs_background": "light"
          }
        }
      ]
    },
    {
      "cell_type": "markdown",
      "metadata": {
        "id": "9xm_nEmkyfZw"
      },
      "source": [
        "#### Pravděpodobnost, že obsluha je volná"
      ]
    },
    {
      "cell_type": "code",
      "metadata": {
        "id": "949uS9j6yft9",
        "colab": {
          "base_uri": "https://localhost:8080/",
          "height": 592
        },
        "outputId": "063bd54c-68f7-469a-e65f-4240f004d7f1"
      },
      "source": [
        "plt.plot(times, probability)\n",
        "plt.grid()"
      ],
      "execution_count": null,
      "outputs": [
        {
          "output_type": "display_data",
          "data": {
            "image/png": "[encoded data removed]",
            "text/plain": [
              "<Figure size 1080x720 with 1 Axes>"
            ]
          },
          "metadata": {
            "tags": [],
            "needs_background": "light"
          }
        }
      ]
    },
    {
      "cell_type": "markdown",
      "metadata": {
        "id": "HlM4zhqLVWsg"
      },
      "source": [
        "### Interaktivní simulace"
      ]
    },
    {
      "cell_type": "code",
      "metadata": {
        "id": "vsuCsNgsVbvP",
        "colab": {
          "base_uri": "https://localhost:8080/",
          "height": 793,
          "referenced_widgets": [
            "5618f58bbb53474c86f00278c134b2e2",
            "b50b932c0b374899a3186e78028a37dc",
            "e0069145382f4988afb0ce344a8cb62b",
            "da2b7fa5768d40ac94dac572911f0352",
            "393206bcdc7a4174b515d6d6c4c6f236",
            "b6480590f0fa4b7a9dfc333392e33837",
            "7f6308f1fbfb4165ba81322552568446",
            "d0c3f89e56944c69863eaa26e36cfc1a",
            "94b6da486ff64f39a83c739a86055615",
            "d1dec57b29aa46769409a3bfcacc67d3"
          ]
        },
        "outputId": "7e351d3d-0fb7-4e2f-ead8-5b96de094885"
      },
      "source": [
        "def simIt(λ = 1, µ = 2):\n",
        "  queueSim = []\n",
        "  def customerArrived(time, calendar):\n",
        "\n",
        "    # zařazení požadavku do fronty\n",
        "    newCustomer = {'enterTime': time}\n",
        "    queueSim.append(newCustomer)\n",
        "\n",
        "    # naplánování dalšího příchodu\n",
        "    deltaTime = exponential(1 / λ, 1)[0] # čas \n",
        "    calendar.AddEvent(time + deltaTime, customerArrived, calendar=calendar)\n",
        "\n",
        "    # pokus o zahájení obsluhy\n",
        "    calendar.AddEvent(time, tryBeginService, calendar=calendar)\n",
        "\n",
        "  servicePlaceSim = {'inService': None}\n",
        "\n",
        "  def tryBeginService(time, calendar):\n",
        "    if servicePlaceSim['inService'] is None:\n",
        "      if len(queueSim) > 0:\n",
        "        customer = queueSim.pop()\n",
        "        timeOfEnd = exponential(1 / µ, 1)[0] #jeden čas\n",
        "        customer['beginService'] = time\n",
        "        customer['endService'] = time + timeOfEnd\n",
        "        servicePlaceSim['inService'] = customer\n",
        "\n",
        "        # Naplánování konce obsluhy\n",
        "        calendar.AddEvent(time + timeOfEnd, endService, calendar=calendar)\n",
        "\n",
        "  def endService(time, calendar):\n",
        "    finishedCustomer = servicePlaceSim['inService']\n",
        "    servicePlaceSim['inService'] = None\n",
        "    calendar.AddEvent(time, tryBeginService, calendar=calendar)\n",
        "    return finishedCustomer\n",
        "\n",
        "  times = []\n",
        "  lengths = []\n",
        "  probability = []\n",
        "\n",
        "  def queueLength():\n",
        "    return len(queueSim)\n",
        "\n",
        "  checkQueueLength, getQueueLength = createStatistic(queueLength)\n",
        "\n",
        "  def serviceIsBusy():\n",
        "    if not servicePlaceSim['inService'] is None:\n",
        "      return 1\n",
        "    else:\n",
        "      return 0\n",
        "\n",
        "  checkServiceIsBusy, getServiceIsBusy = createStatistic(serviceIsBusy)\n",
        "\n",
        "  calendar = EventCalendar()\n",
        "  calendar.AddEvent(0, customerArrived, calendar=calendar)\n",
        "\n",
        "\n",
        "\n",
        "  for event in calendar:\n",
        "    #print(event)\n",
        "    currentTime = event['time']\n",
        "    checkQueueLength(currentTime)\n",
        "    checkServiceIsBusy(currentTime)\n",
        "\n",
        "    times.append(currentTime)\n",
        "    lengths.append(getQueueLength())\n",
        "    probability.append(getServiceIsBusy())\n",
        "\n",
        "    finishedCustomer = event['result']\n",
        "    if not finishedCustomer is None:\n",
        "      pass\n",
        "    if event['time'] > 10000:\n",
        "      break\n",
        "\n",
        "  t = times\n",
        "  data1 = lengths\n",
        "  data2 = probability\n",
        "\n",
        "  fig, ax1 = plt.subplots()\n",
        "\n",
        "  color = 'tab:red'\n",
        "  ax1.set_xlabel('Čas')\n",
        "  ax1.set_ylabel('Délka', color=color)\n",
        "  ax1.plot(t, data1, color=color)\n",
        "  ax1.tick_params(axis='y', labelcolor=color)\n",
        "\n",
        "  ax2 = ax1.twinx()  # instantiate a second axes that shares the same x-axis\n",
        "\n",
        "  color = 'tab:blue'\n",
        "  ax2.set_ylabel('P', color=color)  # we already handled the x-label with ax1\n",
        "  ax2.plot(t, data2, color=color)\n",
        "  ax2.tick_params(axis='y', labelcolor=color)\n",
        "\n",
        "  fig.tight_layout()  # otherwise the right y-label is slightly clipped\n",
        "  plt.grid()\n",
        "  plt.show()\n",
        "\n",
        "widgets.interact(simIt, λ=widgets.FloatSlider(1, min=0.1, max=5), µ = widgets.FloatSlider(2, min=0.1, max=5));\n",
        "#simIt(1, 2)"
      ],
      "execution_count": null,
      "outputs": [
        {
          "output_type": "display_data",
          "data": {
            "application/vnd.jupyter.widget-view+json": {
              "model_id": "5618f58bbb53474c86f00278c134b2e2",
              "version_minor": 0,
              "version_major": 2
            },
            "text/plain": [
              "interactive(children=(FloatSlider(value=1.0, description='λ', max=5.0, min=0.1), FloatSlider(value=2.0, descri…"
            ]
          },
          "metadata": {
            "tags": []
          }
        }
      ]
    },
    {
      "cell_type": "markdown",
      "metadata": {
        "id": "oJN4tLZhzVNb"
      },
      "source": [
        "### Příklad"
      ]
    },
    {
      "cell_type": "markdown",
      "metadata": {
        "id": "7_bwo3OtzXS7"
      },
      "source": [
        "Předpokládejte, že systém hromadné obsluhy má střední dobu obsluhy 8 minut. Do systému přicházejí požadavky se střední dobou mezi příchody 10 minut.  Spočítejte:\n",
        "- průměrnou délku fronty,\n",
        "- průměrnou dobu čekání ve frontě,\n",
        "- průměrnou dobu v systému,\n",
        "- průměrný počet požadavků v systému,\n",
        "- pravděpodobnost, že obsluha je volná."
      ]
    },
    {
      "cell_type": "markdown",
      "metadata": {
        "id": "xm5F1kBM0Qc6"
      },
      "source": [
        "Navrhněte, na základě částí kódu pro simulaci výše:\n",
        "- vyjádření funkce pro sběr informace o průměrném počtu prvků v systému,\n",
        "- způsob výpočtu průměrné doby setrvání ve frontě,\n",
        "- způsob výpočtu průměrné doby setrvání v systému."
      ]
    },
    {
      "cell_type": "markdown",
      "metadata": {
        "id": "03JjdqhJ5PKH"
      },
      "source": [
        "## Simulace SHO M/M/n"
      ]
    },
    {
      "cell_type": "code",
      "metadata": {
        "id": "Rh9GvIge5R44"
      },
      "source": [
        "λ = 4\n",
        "µ = 2\n",
        "n = 3"
      ],
      "execution_count": null,
      "outputs": []
    },
    {
      "cell_type": "markdown",
      "metadata": {
        "id": "yo7PuFNl5lxn"
      },
      "source": [
        "### Příchod požadavku"
      ]
    },
    {
      "cell_type": "code",
      "metadata": {
        "id": "AXwd8NoF5lxq"
      },
      "source": [
        "queue = []\n",
        "def customerArrived(time, calendar):\n",
        "  deltaTime = exponential(1 / λ, 1)[0] #jeden čas\n",
        "  calendar.AddEvent(time + deltaTime, customerArrived, calendar=calendar)\n",
        "  calendar.AddEvent(time, tryBeginService, calendar=calendar)\n",
        "  newCustomer = {'enterTime': time}\n",
        "  queue.append(newCustomer)"
      ],
      "execution_count": null,
      "outputs": []
    },
    {
      "cell_type": "markdown",
      "metadata": {
        "id": "9Y99wKMP5lx9"
      },
      "source": [
        "### Obsluha požadavku"
      ]
    },
    {
      "cell_type": "code",
      "metadata": {
        "id": "iKF5DkY-5lx_"
      },
      "source": [
        "servedRequests = []\n",
        "\n",
        "def tryBeginService(time, calendar):\n",
        "  if len(servedRequests) < n:\n",
        "    if len(queue) > 0:\n",
        "      customer = queue.pop()\n",
        "      timeOfEnd = exponential(1 / µ, 1)[0] #jeden čas\n",
        "      calendar.AddEvent(time + timeOfEnd, endService, calendar=calendar, customer=customer)\n",
        "      customer['beginService'] = time\n",
        "      customer['endService'] = time + timeOfEnd\n",
        "      servedRequests.append(customer)\n",
        "\n",
        "def endService(time, calendar, customer):\n",
        "  servedRequests.remove(customer)\n",
        "  calendar.AddEvent(time, tryBeginService, calendar=calendar)\n",
        "  return customer"
      ],
      "execution_count": null,
      "outputs": []
    },
    {
      "cell_type": "markdown",
      "metadata": {
        "id": "wrsLlvgR6wmF"
      },
      "source": [
        "### Sběr statistických ukazatelů"
      ]
    },
    {
      "cell_type": "markdown",
      "metadata": {
        "id": "54eo543h6wmT"
      },
      "source": [
        "#### Délka fronty"
      ]
    },
    {
      "cell_type": "code",
      "metadata": {
        "id": "KoQ8sEpo6wme"
      },
      "source": [
        "def statQueueLength():\n",
        "  return len(queue)\n",
        "\n",
        "updateStatQueueLength, getStatQueueLength = createStatistic(statQueueLength)"
      ],
      "execution_count": null,
      "outputs": []
    },
    {
      "cell_type": "markdown",
      "metadata": {
        "id": "e7HdVOG86wnI"
      },
      "source": [
        "#### Obsluha volná"
      ]
    },
    {
      "cell_type": "code",
      "metadata": {
        "id": "ZsP23jaL6wnN"
      },
      "source": [
        "def statServiceFull():\n",
        "  if len(servedRequests) >= n:\n",
        "    return 1\n",
        "  else:\n",
        "    return 0\n",
        "\n",
        "updateStatServiceFull, getStatServiceFull = createStatistic(statServiceFull)"
      ],
      "execution_count": null,
      "outputs": []
    },
    {
      "cell_type": "markdown",
      "metadata": {
        "id": "ACZ2XA_o6kzp"
      },
      "source": [
        "### Běh simulace"
      ]
    },
    {
      "cell_type": "code",
      "metadata": {
        "id": "zpXyEGxo6kz3"
      },
      "source": [
        "calendar = EventCalendar()\n",
        "\n",
        "times = []\n",
        "lengths = []\n",
        "probability = []\n",
        "\n",
        "calendar.AddEvent(0, customerArrived, calendar=calendar)\n",
        "for event in calendar:\n",
        "  currentTime = event['time']\n",
        "  updateStatQueueLength(currentTime)\n",
        "  updateStatServiceFull(currentTime)\n",
        "\n",
        "  times.append(currentTime)\n",
        "  lengths.append(getStatQueueLength())\n",
        "  probability.append(getStatServiceFull())\n",
        "\n",
        "  finishedCustomer = event['result']\n",
        "  if not finishedCustomer is None:\n",
        "    pass\n",
        "  if event['time'] > 10000:\n",
        "    break"
      ],
      "execution_count": null,
      "outputs": []
    },
    {
      "cell_type": "markdown",
      "metadata": {
        "id": "JsZekoZg6k0Z"
      },
      "source": [
        "### Výsledek simulace"
      ]
    },
    {
      "cell_type": "markdown",
      "metadata": {
        "id": "386IzMJl6k0c"
      },
      "source": [
        "#### Textový výstup"
      ]
    },
    {
      "cell_type": "code",
      "metadata": {
        "id": "VrYSUYBK6k0g",
        "colab": {
          "base_uri": "https://localhost:8080/"
        },
        "outputId": "f6802b5c-9816-4fff-df53-29af790c40ca"
      },
      "source": [
        "print(f'Průměrná délka fronty je {getStatQueueLength()}')\n",
        "print(f'Pravděpodobnost, že obsluha bude volná {getStatServiceFull()}')"
      ],
      "execution_count": null,
      "outputs": [
        {
          "output_type": "stream",
          "text": [
            "Průměrná délka fronty je 0.8894097538398815\n",
            "Pravděpodobnost, že obsluha bude volná 0.44547307802322345\n"
          ],
          "name": "stdout"
        }
      ]
    },
    {
      "cell_type": "markdown",
      "metadata": {
        "id": "ER4yMP1g6k0x"
      },
      "source": [
        "#### Délka fronty"
      ]
    },
    {
      "cell_type": "code",
      "metadata": {
        "id": "QgAlXh-46k0y",
        "colab": {
          "base_uri": "https://localhost:8080/",
          "height": 592
        },
        "outputId": "07f09ccf-7d76-4f26-d9e1-9c9c91e05b09"
      },
      "source": [
        "plt.plot(times, lengths)\n",
        "plt.grid()"
      ],
      "execution_count": null,
      "outputs": [
        {
          "output_type": "display_data",
          "data": {
            "image/png": "[encoded data removed]",
            "text/plain": [
              "<Figure size 1080x720 with 1 Axes>"
            ]
          },
          "metadata": {
            "tags": [],
            "needs_background": "light"
          }
        }
      ]
    },
    {
      "cell_type": "markdown",
      "metadata": {
        "id": "7aFFNV7H6k0_"
      },
      "source": [
        "#### Pravděpodobnost obsluha je volná"
      ]
    },
    {
      "cell_type": "code",
      "metadata": {
        "id": "-OEjg9Bk6k1A",
        "colab": {
          "base_uri": "https://localhost:8080/",
          "height": 592
        },
        "outputId": "6a1d326e-65e1-419a-f6bf-d76c34413d5d"
      },
      "source": [
        "plt.plot(times, probability)\n",
        "plt.grid()"
      ],
      "execution_count": null,
      "outputs": [
        {
          "output_type": "display_data",
          "data": {
            "image/png": "[encoded data removed]",
            "text/plain": [
              "<Figure size 1080x720 with 1 Axes>"
            ]
          },
          "metadata": {
            "tags": [],
            "needs_background": "light"
          }
        }
      ]
    },
    {
      "cell_type": "markdown",
      "metadata": {
        "id": "EsUmYr5UiDoU"
      },
      "source": [
        "### Interaktivní simulace"
      ]
    },
    {
      "cell_type": "code",
      "metadata": {
        "id": "0ixVqUKhiJ9M",
        "colab": {
          "base_uri": "https://localhost:8080/",
          "height": 843,
          "referenced_widgets": [
            "4238740f29fb42ec8bf30fee35ca220b",
            "5264de586dcf4c8792942584b18ce128",
            "e6a60b0e9ecd4de1a80f9bec8170558e",
            "0d9b9dc41d354811bf4eee9370e21c46",
            "4f1988d5e27441b3a668fea571a2e1ff",
            "7d29dc16c36644b3b0caac3a85d6c300",
            "d96128bcb864407d899604ef88e512aa",
            "4206c15939044ff1beee78af346b20ef",
            "049aa813d322498e9debc381b1301802",
            "57dac0b38e724a89ac924089b22964a3",
            "6de81dc401134009964cdacf4acbe278",
            "7aa3c51b0d5e47b7af02bc3b7535722c",
            "8d2aab5a096449909beca22131fda7f7"
          ]
        },
        "outputId": "c21f50f3-e09e-4225-b90a-967f9e42a29e"
      },
      "source": [
        "def simIt(λ = 1, µ = 2, n = 5):\n",
        "  queueSim = []\n",
        "  def customerArrived(time, calendar):\n",
        "\n",
        "    # zařazení požadavku do fronty\n",
        "    newCustomer = {'enterTime': time}\n",
        "    queueSim.append(newCustomer)\n",
        "\n",
        "    # naplánování dalšího příchodu\n",
        "    deltaTime = exponential(1 / λ, 1)[0] # čas \n",
        "    calendar.AddEvent(time + deltaTime, customerArrived, calendar=calendar)\n",
        "\n",
        "    # pokus o zahájení obsluhy\n",
        "    calendar.AddEvent(time, tryBeginService, calendar=calendar)\n",
        "\n",
        "  services = []\n",
        "  def tryBeginService(time, calendar):\n",
        "    if len(services) < n:\n",
        "      if len(queueSim) > 0:\n",
        "        customer = queueSim.pop()\n",
        "        timeOfEnd = exponential(1 / µ, 1)[0] #jeden čas\n",
        "        customer['beginService'] = time\n",
        "        customer['endService'] = time + timeOfEnd\n",
        "        services.append(customer)\n",
        "\n",
        "        # Naplánování konce obsluhy\n",
        "        calendar.AddEvent(time + timeOfEnd, endService, calendar=calendar, customer=customer)\n",
        "\n",
        "  def endService(time, calendar, customer):\n",
        "    services.remove(customer)\n",
        "    calendar.AddEvent(time, tryBeginService, calendar=calendar)\n",
        "    return customer\n",
        "\n",
        "  times = []\n",
        "  lengths = []\n",
        "  probability = []\n",
        "\n",
        "  def queueLength():\n",
        "    return len(queueSim)\n",
        "\n",
        "  checkQueueLength, getQueueLength = createStatistic(queueLength)\n",
        "\n",
        "  def serviceIsBusy():\n",
        "    if len(services) == n:\n",
        "      return 1\n",
        "    else:\n",
        "      return 0\n",
        "\n",
        "  checkServiceIsBusy, getServiceIsBusy = createStatistic(serviceIsBusy)\n",
        "\n",
        "  calendar = EventCalendar()\n",
        "  calendar.AddEvent(0, customerArrived, calendar=calendar)\n",
        "\n",
        "  for event in calendar:\n",
        "    #print(event)\n",
        "    currentTime = event['time']\n",
        "    checkQueueLength(currentTime)\n",
        "    checkServiceIsBusy(currentTime)\n",
        "\n",
        "    times.append(currentTime)\n",
        "    lengths.append(getQueueLength())\n",
        "    probability.append(getServiceIsBusy())\n",
        "\n",
        "    finishedCustomer = event['result']\n",
        "    if not finishedCustomer is None:\n",
        "      pass\n",
        "    if event['time'] > 10000:\n",
        "      break\n",
        "\n",
        "  t = times\n",
        "  data1 = lengths\n",
        "  data2 = probability\n",
        "\n",
        "  print(f'M/M/{n}')\n",
        "  fig, ax1 = plt.subplots()\n",
        "\n",
        "  color = 'tab:red'\n",
        "  ax1.set_xlabel('Čas')\n",
        "  ax1.set_ylabel('Délka', color=color)\n",
        "  ax1.plot(t, data1, color=color)\n",
        "  ax1.tick_params(axis='y', labelcolor=color)\n",
        "\n",
        "  ax2 = ax1.twinx()  # instantiate a second axes that shares the same x-axis\n",
        "\n",
        "  color = 'tab:blue'\n",
        "  ax2.set_ylabel('P', color=color)  # we already handled the x-label with ax1\n",
        "  ax2.plot(t, data2, color=color)\n",
        "  ax2.tick_params(axis='y', labelcolor=color)\n",
        "\n",
        "  fig.tight_layout()  # otherwise the right y-label is slightly clipped\n",
        "  plt.grid()\n",
        "  plt.show()\n",
        "\n",
        "widgets.interact(simIt, \n",
        "  λ = widgets.FloatSlider(4, min=0.1, max=5), \n",
        "  µ = widgets.FloatSlider(2, min=0.1, max=5),\n",
        "  n = widgets.IntSlider(3, min=1, max=10));\n",
        "#simIt(1, 2)"
      ],
      "execution_count": null,
      "outputs": [
        {
          "output_type": "display_data",
          "data": {
            "application/vnd.jupyter.widget-view+json": {
              "model_id": "4238740f29fb42ec8bf30fee35ca220b",
              "version_minor": 0,
              "version_major": 2
            },
            "text/plain": [
              "interactive(children=(FloatSlider(value=4.0, description='λ', max=5.0, min=0.1), FloatSlider(value=2.0, descri…"
            ]
          },
          "metadata": {
            "tags": []
          }
        }
      ]
    }
  ]
}