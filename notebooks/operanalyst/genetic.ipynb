{
  "nbformat": 4,
  "nbformat_minor": 0,
  "metadata": {
    "colab": {
      "name": "genetic.ipynb",
      "provenance": [],
      "authorship_tag": "ABX9TyN7Yf2Pwa6PZ/VToFh+P13L",
      "include_colab_link": true
    },
    "kernelspec": {
      "name": "python3",
      "display_name": "Python 3"
    }
  },
  "cells": [
    {
      "cell_type": "markdown",
      "metadata": {
        "id": "view-in-github",
        "colab_type": "text"
      },
      "source": [
        "<a href=\"https://colab.research.google.com/github/hrbolek/learning/blob/master/operanalyst/genetic.ipynb\" target=\"_parent\"><img src=\"https://colab.research.google.com/assets/colab-badge.svg\" alt=\"Open In Colab\"/></a>"
      ]
    },
    {
      "cell_type": "markdown",
      "metadata": {
        "id": "158AH686Q3dr",
        "colab_type": "text"
      },
      "source": [
        "# Optimalizace s využitím genetických algoritmů\n",
        "\n",
        "Využití principů genetiky - výběr nejlepších pro umělý vývoj generací.\n",
        "\n",
        "Wiki:\n",
        "https://cs.wikipedia.org/wiki/Genetick%C3%BD_algoritmus\n",
        "\n",
        "Youtube:\n",
        "https://www.youtube.com/watch?v=uCXm6avugCo\n"
      ]
    },
    {
      "cell_type": "code",
      "metadata": {
        "id": "RT9L6OP9RWW9",
        "colab_type": "code",
        "colab": {}
      },
      "source": [
        "import matplotlib.pyplot as plt\n",
        "from random import random as rnd"
      ],
      "execution_count": 0,
      "outputs": []
    },
    {
      "cell_type": "markdown",
      "metadata": {
        "id": "Vzq2bYfRyETB",
        "colab_type": "text"
      },
      "source": [
        "## Funkce pro vytvoření jedince"
      ]
    },
    {
      "cell_type": "code",
      "metadata": {
        "id": "gNQKo_S-RLrA",
        "colab_type": "code",
        "colab": {}
      },
      "source": [
        "def create():\n",
        "  result = {}\n",
        "  result['x'] = rnd() * 10 - 5\n",
        "  result['y'] = rnd() * 10 - 5\n",
        "  return result"
      ],
      "execution_count": 0,
      "outputs": []
    },
    {
      "cell_type": "markdown",
      "metadata": {
        "id": "dcDpI6OByKhq",
        "colab_type": "text"
      },
      "source": [
        "## Funkce pro vyhodnocení jedince\n",
        "Definuje kriteriální funkci. Implementované algoritmy optimalizují na maximum."
      ]
    },
    {
      "cell_type": "code",
      "metadata": {
        "id": "y4P63aviQiaq",
        "colab_type": "code",
        "colab": {}
      },
      "source": [
        "def evaluate(member):\n",
        "  return -(member['x'] * member['x'] + member['y'] * member['y'])"
      ],
      "execution_count": 0,
      "outputs": []
    },
    {
      "cell_type": "markdown",
      "metadata": {
        "id": "6SDEQZBRy3Vv",
        "colab_type": "text"
      },
      "source": [
        "## Funkce pro křížení dvou jedinců\n",
        "\n",
        "funkce \n",
        "```python\n",
        "def cross\n",
        "```\n",
        "je jednodušší a vždy vyžaduje, aby dítě mělo vlastnosti od obou rodičů. Funkce\n",
        "```python\n",
        "def cross2\n",
        "```\n",
        "umožňuje dědění od jediného rodiče."
      ]
    },
    {
      "cell_type": "code",
      "metadata": {
        "id": "UtgFxcfBSRto",
        "colab_type": "code",
        "colab": {}
      },
      "source": [
        "def cross(memberA, memberB):\n",
        "  result = {}\n",
        "  weight = rnd()\n",
        "  if (weight < 0.5):\n",
        "    result['x'] = memberA['x']\n",
        "    result['y'] = memberB['y']\n",
        "  else: \n",
        "    result['x'] = memberB['x']\n",
        "    result['y'] = memberA['y']\n",
        "  return result"
      ],
      "execution_count": 0,
      "outputs": []
    },
    {
      "cell_type": "code",
      "metadata": {
        "id": "CY6qvC3gXkBs",
        "colab_type": "code",
        "colab": {}
      },
      "source": [
        "def cross2(memberA, memberB):\n",
        "  result = {}\n",
        "  weight = rnd()\n",
        "  if (weight < 0.25):\n",
        "    result['x'] = memberA['x']\n",
        "    result['y'] = memberA['y']\n",
        "  elif (weight < 0.5): \n",
        "    result['x'] = memberA['x']\n",
        "    result['y'] = memberB['y']\n",
        "  elif (weight < 0.75): \n",
        "    result['x'] = memberB['x']\n",
        "    result['y'] = memberA['y']\n",
        "  else:\n",
        "    result['x'] = memberB['x']\n",
        "    result['y'] = memberB['y']\n",
        "  return result"
      ],
      "execution_count": 0,
      "outputs": []
    },
    {
      "cell_type": "markdown",
      "metadata": {
        "id": "6AjfQcjAzc5Q",
        "colab_type": "text"
      },
      "source": [
        "## Mutace\n",
        "Mutace je funkce, která mění jedince. Vychází z jevu, kdy dítě má některé vlastnosti odlišné od obou rodičů a to ty, které získalo díky mutaci."
      ]
    },
    {
      "cell_type": "code",
      "metadata": {
        "id": "LdjEfhPfV8gg",
        "colab_type": "code",
        "colab": {}
      },
      "source": [
        "def mutate(member):\n",
        "  result = {**member}\n",
        "  weight = rnd()\n",
        "  randomPos = create()\n",
        "  result['x'] = weight * result['x'] + (1 - weight) * randomPos['x']\n",
        "  result['y'] = weight * result['y'] + (1 - weight) * randomPos['y']\n",
        "  return result"
      ],
      "execution_count": 0,
      "outputs": []
    },
    {
      "cell_type": "markdown",
      "metadata": {
        "id": "FC8zcV7Sz12E",
        "colab_type": "text"
      },
      "source": [
        "## Výběr jednoho rodiče\n",
        "Rodič je vybírán s pravděpodobností, která je přímo úměrná hodnotě kriteriální funkce.\n",
        "\n",
        "$p_i=\\frac{f_i}{\\sum f_i}$"
      ]
    },
    {
      "cell_type": "code",
      "metadata": {
        "id": "hh7aFFeU0TI8",
        "colab_type": "code",
        "colab": {}
      },
      "source": [
        "def selectParent(generation, sumValue):\n",
        "  rnumber = rnd() * sumValue\n",
        "  for member in generation:\n",
        "    memberValue = member['value']\n",
        "    if (rnumber < memberValue):\n",
        "      return member\n",
        "    rnumber = rnumber - memberValue\n",
        "  return generation[-1]"
      ],
      "execution_count": 0,
      "outputs": []
    },
    {
      "cell_type": "markdown",
      "metadata": {
        "id": "hhmpaj6C0ZRk",
        "colab_type": "text"
      },
      "source": [
        "## Vytvoření nové generace \n",
        "Nová generace je vytvořena na základě existující generace a v souladu s definovanými parametry (cross, mutation, evaluate)."
      ]
    },
    {
      "cell_type": "code",
      "metadata": {
        "id": "tfyIvJmiTOJ3",
        "colab_type": "code",
        "colab": {}
      },
      "source": [
        "def evaluateGeneration(generation, evaluateF):\n",
        "  for member in generation:\n",
        "    member['value'] = evaluateF(member)\n",
        "\n",
        "  generation.sort(reverse=True, key = lambda member: member['value']) # setrid podle hodnoty\n",
        "  return generation\n",
        "\n",
        "def newGeneration(generation, evaluateF, crossF, mutationF, mutationProbability):\n",
        "  result = []\n",
        "  sumValue = 0\n",
        "  for member in generation:\n",
        "    sumValue = sumValue + member['value']\n",
        "\n",
        "  for index in range(0, len(generation)):\n",
        "    parentA = selectParent(generation, sumValue) #vyber rodice A\n",
        "    parentB = selectParent(generation, sumValue) #vyber rodice B\n",
        "    child = crossF(parentA, parentB) # krizeni\n",
        "\n",
        "    p = rnd()\n",
        "    if (p < mutationProbability):\n",
        "      child = mutationF(child) # mutace\n",
        "    result.append(child)\n",
        "  \n",
        "  evaluateGeneration(result, evaluateF)\n",
        "  return result"
      ],
      "execution_count": 0,
      "outputs": []
    },
    {
      "cell_type": "markdown",
      "metadata": {
        "id": "y--6Vaer1IQS",
        "colab_type": "text"
      },
      "source": [
        "## Zobrazení generace"
      ]
    },
    {
      "cell_type": "code",
      "metadata": {
        "id": "8BXH89ZJ1Hnp",
        "colab_type": "code",
        "colab": {}
      },
      "source": [
        "def plotGeneration(generation, title):\n",
        "  x = []\n",
        "  y = []\n",
        "  for member in generation:\n",
        "    x.append(member['x'])\n",
        "    y.append(member['y'])\n",
        "\n",
        "  plt.plot(x, y, 'ko', ms=3)\n",
        "  plt.title(title)\n",
        "  plt.show()"
      ],
      "execution_count": 0,
      "outputs": []
    },
    {
      "cell_type": "markdown",
      "metadata": {
        "id": "cJsfzAnl0x8l",
        "colab_type": "text"
      },
      "source": [
        "## Simulace\n",
        "Postupně jsou generovány nové generace. Výraz\n",
        "```python\n",
        "yield nextGeneration\n",
        "```\n",
        "vrací jednotlivé generace ze simulace a umožňuje jejich další zpracování."
      ]
    },
    {
      "cell_type": "code",
      "metadata": {
        "id": "MKSRd60eUsrY",
        "colab_type": "code",
        "colab": {}
      },
      "source": [
        "def simulate(generationSize, createF, evaluateF, crossF, mutationF, mutationProbability):\n",
        "  firstGeneration = []\n",
        "  for index in range(0, generationSize):\n",
        "    firstGeneration.append(createF())\n",
        "\n",
        "  evaluateGeneration(firstGeneration, evaluateF)\n",
        "  currentGeneration = firstGeneration\n",
        "  while True:\n",
        "    nextGeneration = newGeneration(currentGeneration, evaluateF, crossF, mutationF, mutationProbability)\n",
        "    yield nextGeneration\n",
        "    currentGeneration = nextGeneration\n",
        "\n",
        "  pass\n"
      ],
      "execution_count": 0,
      "outputs": []
    },
    {
      "cell_type": "markdown",
      "metadata": {
        "id": "22INlmaK15Ih",
        "colab_type": "text"
      },
      "source": [
        "### Využití simulace"
      ]
    },
    {
      "cell_type": "code",
      "metadata": {
        "id": "aWvW_oGIuO4p",
        "colab_type": "code",
        "colab": {
          "base_uri": "https://localhost:8080/",
          "height": 1000
        },
        "outputId": "eeab63b6-745c-4bae-9cd7-49f408e0e41a"
      },
      "source": [
        "steps = 1000\n",
        "keys = [0, 5, steps // 2, steps - 1]\n",
        "\n",
        "createF = create\n",
        "evaluateF = evaluate\n",
        "crossF = cross\n",
        "mutationF = mutate\n",
        "mutationProbability = 0.1\n",
        "generationSize = 100\n",
        "solver = simulate(generationSize, createF, evaluateF, crossF, mutationF, mutationProbability)\n",
        "for i in range(0, steps):\n",
        "  currentGeneration = next(solver)\n",
        "  if (i in keys):\n",
        "    plotGeneration(currentGeneration, 'stav v kroku ' + str(i))\n",
        "print('Nejlepší řešení: ', str(currentGeneration[0]))"
      ],
      "execution_count": 107,
      "outputs": [
        {
          "output_type": "display_data",
          "data": {
            "image/png": "[encoded data removed]",
            "text/plain": [
              "<Figure size 432x288 with 1 Axes>"
            ]
          },
          "metadata": {
            "tags": []
          }
        },
        {
          "output_type": "display_data",
          "data": {
            "image/png": "[encoded data removed]",
            "text/plain": [
              "<Figure size 432x288 with 1 Axes>"
            ]
          },
          "metadata": {
            "tags": []
          }
        },
        {
          "output_type": "display_data",
          "data": {
            "image/png": "[encoded data removed]",
            "text/plain": [
              "<Figure size 432x288 with 1 Axes>"
            ]
          },
          "metadata": {
            "tags": []
          }
        },
        {
          "output_type": "display_data",
          "data": {
            "image/png": "[encoded data removed]",
            "text/plain": [
              "<Figure size 432x288 with 1 Axes>"
            ]
          },
          "metadata": {
            "tags": []
          }
        },
        {
          "output_type": "stream",
          "text": [
            "Solution:  {'x': -0.00014758314508862293, 'y': -0.0004102500416186378, 'value': -1.9008588136234359e-07}\n"
          ],
          "name": "stdout"
        }
      ]
    }
  ]
}