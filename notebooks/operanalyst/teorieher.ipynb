{
  "nbformat": 4,
  "nbformat_minor": 0,
  "metadata": {
    "colab": {
      "name": "TeorieHer.ipynb",
      "provenance": [],
      "toc_visible": true,
      "authorship_tag": "ABX9TyMKbukJ8FIVNJY3p9oeinhl",
      "include_colab_link": true
    },
    "kernelspec": {
      "name": "python3",
      "display_name": "Python 3"
    }
  },
  "cells": [
    {
      "cell_type": "markdown",
      "metadata": {
        "id": "view-in-github",
        "colab_type": "text"
      },
      "source": [
        "<a href=\"https://colab.research.google.com/github/hrbolek/learning/blob/master/operanalyst/teorieher.ipynb\" target=\"_parent\"><img src=\"https://colab.research.google.com/assets/colab-badge.svg\" alt=\"Open In Colab\"/></a>"
      ]
    },
    {
      "cell_type": "markdown",
      "metadata": {
        "id": "8TNZCcYEGJnZ"
      },
      "source": [
        "# Teorie her (Game Theory)"
      ]
    },
    {
      "cell_type": "markdown",
      "metadata": {
        "id": "62Z1WyhODGIg"
      },
      "source": [
        "Další online zdroje můžete nalézt [zde](http://euler.fd.cvut.cz/predmety/teorie_her/) či v angličtině [zde](http://euler.fd.cvut.cz/predmety/game_theory/)."
      ]
    },
    {
      "cell_type": "markdown",
      "metadata": {
        "id": "4AL8RghsGMej"
      },
      "source": [
        "## Rozdělení"
      ]
    },
    {
      "cell_type": "markdown",
      "metadata": {
        "id": "B5DEFjNLGWEP"
      },
      "source": [
        "Podle ceny\n",
        "- hry s nulovým součtem\n",
        "- hry s nenulovým součtem\n",
        "\n",
        "Podle vzahu hráčů\n",
        "- hry antagonistické\n",
        "- hry kooperativní\n",
        "- hry proti přírodě\n",
        "\n",
        "Podle počtu strategií\n",
        "- konečné hry\n",
        "- nekonečné hry"
      ]
    },
    {
      "cell_type": "markdown",
      "metadata": {
        "id": "6Qmk3tadGQOc"
      },
      "source": [
        "## Maticové hry"
      ]
    },
    {
      "cell_type": "markdown",
      "metadata": {
        "id": "4OykJaPwG9jg"
      },
      "source": [
        "Hra \"Kámen-nůžky-papír\"\n",
        "\n",
        "3 strategie obou hráčů \n",
        "- kámen\n",
        "- nůžky\n",
        "- papír\n",
        "\n",
        "Výsledek hry\n",
        "- kámen vs. kámen = 0\n",
        "- kámen vs. nůžky = 1\n",
        "- kámen vs. papír = -1\n",
        "- nůžky vs. kámen = -1\n",
        "- nůžky vs. nůžky = 0\n",
        "- nůžky vs. papír = 1\n",
        "- papír vs. kámen = 1\n",
        "- papír vs. nůžky = -1\n",
        "- papír vs. papír = 0\n",
        "\n",
        "Vyjádřeno v matici výher (odtud maticová hra)\n",
        "\n",
        "$$H=\\begin{pmatrix}\n",
        "0 & 1 & -1 \\\\\n",
        "-1 & 0 & 1 \\\\\n",
        "1 & -1 & 0 \n",
        "\\end{pmatrix}$$\n",
        "\n",
        "Strategie hráče A je představena řádky\n",
        "$$h_1=\\begin{pmatrix}\n",
        "0 & 1 & -1\n",
        "\\end{pmatrix}$$\n",
        "\n",
        "$$h_2=\\begin{pmatrix}\n",
        "-1 & 0 & 1\n",
        "\\end{pmatrix}$$\n",
        "\n",
        "$$h_3=\\begin{pmatrix}\n",
        "1 & -1 & 0\n",
        "\\end{pmatrix}$$\n",
        "\n",
        "Strategie hráče B je představena sloupci\n",
        "\n",
        "$$g_1=\\begin{pmatrix}\n",
        "0 \\\\\n",
        "-1 \\\\\n",
        "1\n",
        "\\end{pmatrix}$$\n",
        "\n",
        "$$g_2=\\begin{pmatrix}\n",
        "1 \\\\\n",
        "0 \\\\\n",
        "-1 \n",
        "\\end{pmatrix}$$\n",
        "\n",
        "$$g_3=\\begin{pmatrix}\n",
        "-1 \\\\\n",
        "1 \\\\\n",
        "0\n",
        "\\end{pmatrix}$$\n",
        "\n",
        "matice výher pro hráče B je zápornou transponovanou maticí matice výher pro hráče A\n",
        "\n",
        "$$G=-H^T=\\begin{pmatrix}\n",
        "0 & 1 & -1 \\\\\n",
        "-1 & 0 & 1 \\\\\n",
        "1 & -1 & 0 \n",
        "\\end{pmatrix}$$\n",
        "\n",
        "Všimněte si, že $H=G$.\n",
        "\n",
        "Jestliže hráč A volí strategii $i$ a hráč B volí strategii $j$, potom výhra hráče A je dána prvkem $h_{ij}$ a výhra hráče B je dána prvkem $g_{ij}$. Protože $g_{ij} +h_{ij}=0$, klasifikujeme tuto hru jako hru s nulovým součtem.\n",
        "\n"
      ]
    },
    {
      "cell_type": "markdown",
      "metadata": {
        "id": "s8xx0IPnU9sV"
      },
      "source": [
        "## Čisté strategie"
      ]
    },
    {
      "cell_type": "markdown",
      "metadata": {
        "id": "wU9qd_TtppVK"
      },
      "source": [
        "$$A=\\begin{pmatrix}\n",
        "4 & 3 & 2 & 5 \\\\\n",
        "-10 & 2 & 0 & -1 \\\\\n",
        "7 & 5 & 2 & 3 \\\\\n",
        "0 & 8  & -4 & -5\n",
        "\\end{pmatrix}$$\n",
        "V jednotlivých řádcích hledáme maximum a z takto získaných maxim vybereme minimum.\n",
        "$$\\overline v =\\min_i \\max_j a_{ij}=2$$\n",
        "V jednotlivých sloupcích hledáme minimum a z takto získaných minim vybereme maximum.\n",
        "$$\\underline v = \\max_i \\min_j a_{ij}=2$$\n",
        "Protože\n",
        "$$\\underline v = \\overline v$$\n",
        "má hra sedlový bod, cena hry je \n",
        "$$v=\\underline v = \\overline v$$\n",
        "a optimální strategie pro prvního hráče je strategie č. 1, alternativně č. 3 \n",
        "$$\\begin{pmatrix}\n",
        "4 & 3 & 2 & 6\n",
        "\\end{pmatrix}$$\n",
        "pro druhého hráče je optimální strategií strategie č. 3\n",
        "$$\\begin{pmatrix}\n",
        "2 \\\\\n",
        "0 \\\\\n",
        "2 \\\\\n",
        "-4\n",
        "\\end{pmatrix}$$\n",
        "\n",
        "Existence sedlového bodu znamená, že změnou strategie si žádný z hráčů nepolepší.\n"
      ]
    },
    {
      "cell_type": "markdown",
      "metadata": {
        "id": "tDnhyew4oqcp"
      },
      "source": [
        "$$A=\\begin{pmatrix}\n",
        "5 & 1 \\\\\n",
        "3 & 4\n",
        "\\end{pmatrix}$$\n",
        "\n",
        "$$\\overline v=\\min_i \\max_j a_{ij}=4$$\n",
        "\n",
        "$$\\underline v = \\max_i \\min_j a_{ij}=3$$\n",
        "\n",
        "Hra nemá sedlový bod a nemá řešení v čistých strategiích."
      ]
    },
    {
      "cell_type": "markdown",
      "metadata": {
        "id": "Lu921qMCVA30"
      },
      "source": [
        "## Smíšené strategie"
      ]
    },
    {
      "cell_type": "markdown",
      "metadata": {
        "id": "zxx1Rmc4VDTB"
      },
      "source": [
        "### Optimální řešení ve smíšených strategiích"
      ]
    },
    {
      "cell_type": "markdown",
      "metadata": {
        "id": "0jDryUvVVILZ"
      },
      "source": [
        "Hráč A volí smíšenou strategii $s^A=(s_1^A, s_2^A, ..., s_n^A)$. Hráč B volí smíšenou strategii $s^B=(s_1^B, s_2^B, ..., s_n^B)$.\n",
        "\n",
        "\n",
        "$$max\\{v:A^Ts^A- \\begin{pmatrix}v \\\\\n",
        "v \\\\\n",
        "\\vdots \\\\\n",
        "v\n",
        "\\end{pmatrix} \\ge 0, \\sum_{i=1}^ns_i^A=1,s^A \\ge 0, v \\in R\\}$$\n",
        "\n",
        "$$min\\{w:As^B- \\begin{pmatrix}w \\\\\n",
        "w \\\\\n",
        "\\vdots \\\\\n",
        "w\n",
        "\\end{pmatrix} \\le 0, \\sum_{i=1}^ns_i^B=1,s^B \\ge 0, w \\in R\\}$$\n",
        "\n",
        "\n",
        "\n"
      ]
    },
    {
      "cell_type": "markdown",
      "metadata": {
        "id": "kZMHCPuX9BR7"
      },
      "source": [
        "### Příklad"
      ]
    },
    {
      "cell_type": "markdown",
      "metadata": {
        "id": "RIb2gsZ5lIz6"
      },
      "source": [
        "Vyřešte hru kámen-nůžky-papír\n",
        "\n",
        "$$H=\\begin{pmatrix}\n",
        "0 & 1 & -1 \\\\\n",
        "-1 & 0 & 1 \\\\\n",
        "1 & -1 & 0 \n",
        "\\end{pmatrix}$$\n",
        "\n",
        "$$f(s^A)=v \\to max$$\n",
        "\n",
        "$$\\begin{matrix}\n",
        " & -s_2^A & +s_3^A & -v & \\ge & 0 \\\\\n",
        " s_1^A & & -s_3^A & -v & \\ge & 0 \\\\\n",
        " -s_1^A & +s_2^A & & -v & \\ge & 0 \\\\\n",
        " s_1^A & +s_2^A & +s_3^A & &=& 1\n",
        "\\end{matrix}\n",
        "$$\n",
        "\n",
        "\n",
        "$$g(s^B)=w \\to min$$\n",
        "\n",
        "$$\\begin{matrix}\n",
        " & s_2^B & -s_3^B & -w & \\le & 0 \\\\\n",
        " -s_1^B & & +s_3^B & -w & \\le & 0 \\\\\n",
        " s_1^B & -s_2^B & & -w & \\le & 0 \\\\\n",
        " s_1^B & +s_2^B & +s_3^B & &=& 1\n",
        "\\end{matrix}\n",
        "$$\n"
      ]
    },
    {
      "cell_type": "markdown",
      "metadata": {
        "id": "xhAGkVQU_Qj-"
      },
      "source": [
        "### Řešení s využitím Pythonu"
      ]
    },
    {
      "cell_type": "markdown",
      "metadata": {
        "id": "D_3sUNIhEFqf"
      },
      "source": [
        "Příklad byl už v zadání popsán jako úloha lineárního programování, proto úlohu budeme takto řešit.\n",
        "\n",
        "Uživatelsky velmi přívětivou knihovnou je knihovna ```pulp```. Níže uvedený řádek provede její instalaci."
      ]
    },
    {
      "cell_type": "code",
      "metadata": {
        "id": "11jX_sSQ_StK",
        "outputId": "1f06792c-45df-40ed-c48f-63cf79f783ce",
        "colab": {
          "base_uri": "https://localhost:8080/"
        }
      },
      "source": [
        "!pip install pulp"
      ],
      "execution_count": 91,
      "outputs": [
        {
          "output_type": "stream",
          "text": [
            "Requirement already satisfied: pulp in /usr/local/lib/python3.6/dist-packages (2.3.1)\n",
            "Requirement already satisfied: amply>=0.1.2 in /usr/local/lib/python3.6/dist-packages (from pulp) (0.1.4)\n",
            "Requirement already satisfied: pyparsing in /usr/local/lib/python3.6/dist-packages (from amply>=0.1.2->pulp) (2.4.7)\n",
            "Requirement already satisfied: docutils>=0.3 in /usr/local/lib/python3.6/dist-packages (from amply>=0.1.2->pulp) (0.16)\n"
          ],
          "name": "stdout"
        }
      ]
    },
    {
      "cell_type": "markdown",
      "metadata": {
        "id": "offaed8yEpf8"
      },
      "source": [
        "Dále je třeba knihovnu do programu naimportovat."
      ]
    },
    {
      "cell_type": "code",
      "metadata": {
        "id": "Gse_MzxkEvIr"
      },
      "source": [
        "from pulp import *"
      ],
      "execution_count": 92,
      "outputs": []
    },
    {
      "cell_type": "markdown",
      "metadata": {
        "id": "ThwDFpnHEwc2"
      },
      "source": [
        "Prvním krokem je definice problému. V tomto případě budeme hledat maximum."
      ]
    },
    {
      "cell_type": "code",
      "metadata": {
        "id": "dANwLQNTE2Aq"
      },
      "source": [
        "probA = LpProblem(\"Game\", LpMaximize)"
      ],
      "execution_count": 93,
      "outputs": []
    },
    {
      "cell_type": "markdown",
      "metadata": {
        "id": "jhE7HvNbE34-"
      },
      "source": [
        "Dále nadefinujeme proměnné problému. Tři proměnné představují hledanou smíšenou strategii, čtvrtá proměnná představuje cenu hry. U jednotlivých proměnných určujeme interval, který definuje přípustné řešení. Pro prvku vektoru smíšení strategie je to interval $\\lt 0;1\\gt$. Pro hodnotu hry to bude interval $<-1; 1>$, což vyplývá z matice hry."
      ]
    },
    {
      "cell_type": "code",
      "metadata": {
        "id": "AN73qbnhE9B_"
      },
      "source": [
        "sA1 = LpVariable(\"sA1\", 0, 1)\n",
        "sA2 = LpVariable(\"sA2\", 0, 1)\n",
        "sA3 = LpVariable(\"sA3\", 0, 1)\n",
        "v = LpVariable(\"v\", -1, 1)"
      ],
      "execution_count": 94,
      "outputs": []
    },
    {
      "cell_type": "markdown",
      "metadata": {
        "id": "rF9ppfqlF6AL"
      },
      "source": [
        "Nadefinujeme omezující podmínky. Zde vynikne uživatelská přívětivost knihovnu ```pulp``` nejvíce, neboť podmínky jsou zapisovány v intuitivním tvaru. "
      ]
    },
    {
      "cell_type": "code",
      "metadata": {
        "id": "0FIB8hfQF8_D"
      },
      "source": [
        "probA += (-sA2+sA3-v >= 0)\n",
        "probA += (sA1-sA3-v >= 0)\n",
        "probA += (-sA1+sA2-v >= 0)\n",
        "probA += (sA1+sA2+sA3 == 1)\n",
        "probA += (v)"
      ],
      "execution_count": 95,
      "outputs": []
    },
    {
      "cell_type": "markdown",
      "metadata": {
        "id": "TsCdwbZTFzjG"
      },
      "source": [
        "Následně spustíme řešení."
      ]
    },
    {
      "cell_type": "code",
      "metadata": {
        "id": "S_Ass3i2F4sU"
      },
      "source": [
        "status = probA.solve()"
      ],
      "execution_count": 96,
      "outputs": []
    },
    {
      "cell_type": "markdown",
      "metadata": {
        "id": "LPas7cdSGWrh"
      },
      "source": [
        "A získáme hodnoty výpočtu."
      ]
    },
    {
      "cell_type": "code",
      "metadata": {
        "id": "F-8YL9M9Hii8",
        "outputId": "3d310ea1-8b28-49d8-e0ed-e686bfded9f7",
        "colab": {
          "base_uri": "https://localhost:8080/"
        }
      },
      "source": [
        "print(f'sA1={value(sA1)}, sA2={value(sA2)}, sA3={value(sA3)}, v={value(v)}')\n",
        "print(LpStatus[status])"
      ],
      "execution_count": 97,
      "outputs": [
        {
          "output_type": "stream",
          "text": [
            "sA1=0.33333333, sA2=0.33333333, sA3=0.33333333, v=0.0\n",
            "Optimal\n"
          ],
          "name": "stdout"
        }
      ]
    },
    {
      "cell_type": "markdown",
      "metadata": {
        "id": "g1Eu3SQBGdmW"
      },
      "source": [
        "Vidíme, že hledanou smíšenou strategií je \n",
        "\n",
        "$$s^A=\\left (\\frac{1}{3}, \\frac{1}{3}, \\frac{1}{3} \\right )$$\n",
        "\n",
        "a že hodnota hry je\n",
        "\n",
        "$$v=0$$"
      ]
    },
    {
      "cell_type": "markdown",
      "metadata": {
        "id": "ZRPsHYhdG0iO"
      },
      "source": [
        "### Příklad II"
      ]
    },
    {
      "cell_type": "markdown",
      "metadata": {
        "id": "YCkjZTwoHBdr"
      },
      "source": [
        "Tento příklad je zamýšlen jako misto, kde v interaktivním módu tohoto textu můžete vyřešit jakoukoliv maticovou hru."
      ]
    },
    {
      "cell_type": "markdown",
      "metadata": {
        "id": "YtXEzFS1ZtIN"
      },
      "source": [
        "$$A=\\begin{pmatrix}\n",
        "4 & 3 & 2 & 5 \\\\\n",
        "-10 & 2 & 0 & -1 \\\\\n",
        "7 & 5 & 2 & 3 \\\\\n",
        "0 & 8  & -4 & -5\n",
        "\\end{pmatrix}$$"
      ]
    },
    {
      "cell_type": "code",
      "metadata": {
        "id": "cFv42BmyZtmD",
        "outputId": "defc95c8-96f8-41d5-abbb-4eacb7457e62",
        "colab": {
          "base_uri": "https://localhost:8080/"
        }
      },
      "source": [
        "from pulp import *\n",
        "probA = LpProblem(\"Game\", LpMaximize)\n",
        "sA1 = LpVariable(\"sA1\", 0, 1)\n",
        "sA2 = LpVariable(\"sA2\", 0, 1)\n",
        "sA3 = LpVariable(\"sA3\", 0, 1)\n",
        "sA4 = LpVariable(\"sA4\", 0, 1)\n",
        "v = LpVariable(\"v\", -10, 10)\n",
        "probA += (4*sA1-10*sA2+7*sA3-v >= 0)\n",
        "probA += (3*sA1+2*sA3+5*sA3+8*sA4-v >= 0)\n",
        "probA += (2*sA1+0*sA2+2*sA3-4*sA4-v >= 0)\n",
        "probA += (5*sA1-1*sA2+3*sA3-5*sA4-v >= 0)\n",
        "probA += (sA1+sA2+sA3+sA4 == 1)\n",
        "probA += (v)\n",
        "status = probA.solve()\n",
        "\n",
        "print(f'sA1={value(sA1)}, sA2={value(sA2)}, sA3={value(sA3)}, sA4={value(sA4)}, v={value(v)}')\n",
        "print(LpStatus[status])"
      ],
      "execution_count": 98,
      "outputs": [
        {
          "output_type": "stream",
          "text": [
            "sA1=1.0, sA2=0.0, sA3=0.0, sA4=0.0, v=2.0\n",
            "Optimal\n"
          ],
          "name": "stdout"
        }
      ]
    },
    {
      "cell_type": "markdown",
      "metadata": {
        "id": "QX8TA1-_bmKG"
      },
      "source": [
        "## Hra plukovníka Blotta"
      ]
    },
    {
      "cell_type": "markdown",
      "metadata": {
        "id": "8a8DjO6qbpsl"
      },
      "source": [
        "Plukovník Blotto a jeho protivník chtějí zaujmout dvě pozice a za tím účelem mají možnost provést rozložení svých sil určitým způsobem.\n",
        "\n",
        "Jedná se o \"starou\" [hru](https://en.wikipedia.org/wiki/Blotto_game). Její řešení v obecné podobě dlouho nebylo známo. V roce 2016 se podařilo hru obecně vyřešit viz [článek](https://sciencemag.cz/problem-plukovnika-blotta-vyresen/).\n",
        "\n",
        "Předpokládejme, že plukovník Blotto má 4 pluky a jeho protivník 3 pluky. Oba mohou své pluky rozdělit mezi dvě pozice, které chtějí zaujmout. Výplata (odměna, či výhra) je určena následujícím způsobem. Jestliže počet pluků $x$ plukovníka Blotta je na dané pozici větší než počet pluků protivníka $y$, pak výplata je $y+1$. Jestliže počet pluků $x$ plukovníka Blotta je na dané pozici menší než počet pluků protivníka $y$, pak výplata je $-x-1$. Celková výplata je dána součtem výplat pro jednotlivé pozice.\n",
        "\n",
        "Plukovník Blotto má možnost rozmístit své pluky 5 způsoby, zatímco protivník 4 způsoby. Výplaty pro plukovníka Blotta lze uspořádat do matice (tabulky)"
      ]
    },
    {
      "cell_type": "markdown",
      "metadata": {
        "id": "GNBR2S5Cbt_P"
      },
      "source": [
        "$$\\begin{matrix}\n",
        "      & (3,0) & (0,3) & (2,1) & (1,2) \\\\\n",
        "(4,0) & 4     & 0     & 2     & 1 \\\\\n",
        "(0,4) & 0     & 4     & 1     & 2 \\\\\n",
        "(3,1) & 1     & -1    & 3     & 0 \\\\\n",
        "(1,3) & -1    & 1     & 0     & 3 \\\\\n",
        "(2,2) & -2    & -2    & 2     & 2 \n",
        "\\end{matrix}$$"
      ]
    },
    {
      "cell_type": "markdown",
      "metadata": {
        "id": "0dV3oLvNbukH"
      },
      "source": [
        "Předpokládejte, že plukovník Blotto bude své strategie volit náhodně s pravděpodobnostmi $x^B=(x_1^B,x_2^B,x_3^B,x_4^B,x_5^B)$ a protivník bude volit své strategie také náhodně s pravděpodobnostmi $x^P=(x_1^P,x_2^P,x_3^P,x_4^P)$.\n",
        "\n",
        "Najděte strategii $x^B$, která maximalizuje výplatu $v$.\n",
        "\n",
        "Najděte strategii $x^P$, která minimalizuje výplatu $w$."
      ]
    },
    {
      "cell_type": "code",
      "metadata": {
        "id": "lsw9W7IFbzae",
        "outputId": "ecf81229-a7da-4d68-e453-eb82ae8514bf",
        "colab": {
          "base_uri": "https://localhost:8080/"
        }
      },
      "source": [
        "from pulp import *\n",
        "probA = LpProblem(\"Game\", LpMaximize)\n",
        "sA1 = LpVariable(\"sA1\", 0, 1000)\n",
        "sA2 = LpVariable(\"sA2\", 0, 1000)\n",
        "sA3 = LpVariable(\"sA3\", 0, 1000)\n",
        "sA4 = LpVariable(\"sA4\", 0, 1000)\n",
        "sA5 = LpVariable(\"sA5\", 0, 1000)\n",
        "v = LpVariable(\"v\", -10, 10)\n",
        "probA += (4*sA1+0*sA2+1*sA3-1*sA4-2*sA5-v >= 0)\n",
        "probA += (0*sA1+4*sA2-1*sA3+1*sA4-2*sA5-v >= 0)\n",
        "probA += (2*sA1+1*sA2+3*sA3+0*sA4+2*sA5-v >= 0)\n",
        "probA += (1*sA1+2*sA2+0*sA3+3*sA4+2*sA5-v >= 0)\n",
        "probA += (sA1+sA2+sA3+sA4+sA5 == 1)\n",
        "probA += (v)\n",
        "status = probA.solve()\n",
        "\n",
        "print(f'sA1={value(sA1)}, sA2={value(sA2)}, sA3={value(sA3)}, sA4={value(sA4)}, sA5={value(sA5)}, v={value(v)}')\n",
        "print(LpStatus[status])"
      ],
      "execution_count": 99,
      "outputs": [
        {
          "output_type": "stream",
          "text": [
            "sA1=0.44444444, sA2=0.44444444, sA3=0.0, sA4=0.0, sA5=0.11111111, v=1.5555556\n",
            "Optimal\n"
          ],
          "name": "stdout"
        }
      ]
    },
    {
      "cell_type": "markdown",
      "metadata": {
        "id": "4TqozlXSFxQz"
      },
      "source": [
        "## Algoritmus řešení hry s pomocí iterací"
      ]
    },
    {
      "cell_type": "markdown",
      "metadata": {
        "id": "vAw_CkdhHYMs"
      },
      "source": [
        "Přestože v dnešní době, kdy máme k dispozici nástroje, které trivializují řešení her metodami lineárního programování, jeví se, že ostatní metody nedávají příliš smysl. Metoda iterací ovšem demonstruje, jak jednokroková hra může být převedea na hru vícekrokovou a jak takové řešení lze využít i pro jednokrokovou variantu."
      ]
    },
    {
      "cell_type": "code",
      "metadata": {
        "id": "7jIiFs2rMUZf"
      },
      "source": [
        "import numpy as np\n",
        "from numpy import argmax, array"
      ],
      "execution_count": 100,
      "outputs": []
    },
    {
      "cell_type": "markdown",
      "metadata": {
        "id": "FzFrqHcUJSVq"
      },
      "source": [
        "### Pomocné funkce na hledání min a max"
      ]
    },
    {
      "cell_type": "markdown",
      "metadata": {
        "id": "lpln2otyItZw"
      },
      "source": [
        "Tato funkce ze seznamu hodnot najde maximum a současně s ním vrátí i polohu (index) tohoto maxima."
      ]
    },
    {
      "cell_type": "code",
      "metadata": {
        "id": "hc3XXWEPJRtT"
      },
      "source": [
        "def finMax(data):\n",
        "  index = argmax(data)\n",
        "  return data[index], index"
      ],
      "execution_count": 101,
      "outputs": []
    },
    {
      "cell_type": "markdown",
      "metadata": {
        "id": "QWt2B4frQVqB"
      },
      "source": [
        "### Výpočet matice výher protihráče"
      ]
    },
    {
      "cell_type": "markdown",
      "metadata": {
        "id": "zkR13Bo6I52i"
      },
      "source": [
        "Předpokládá se při řešení hry jsou známy jak matice cen pro hráče $A$ tak i pro hráče $B$ a to i přesto, že se může jednat o hru s nulovým součtem, kde platí již dříve zmíněné\n",
        "\n",
        "$$G=-H^T$$\n",
        "\n",
        "Právě tento vztah je využit pro následující funkci."
      ]
    },
    {
      "cell_type": "code",
      "metadata": {
        "id": "2LlqNsvBQYj_"
      },
      "source": [
        "def deriveMatrix(H):\n",
        "  result = H.T * (-1)\n",
        "  return result"
      ],
      "execution_count": 102,
      "outputs": []
    },
    {
      "cell_type": "markdown",
      "metadata": {
        "id": "d8I5uq9-Jeeo"
      },
      "source": [
        "Ověření na matici hry Kámen, nůžky, papír je jednoduché."
      ]
    },
    {
      "cell_type": "code",
      "metadata": {
        "id": "D4VzysS_Jma8",
        "outputId": "ccc752bf-294b-42e1-8b96-e38441f031d2",
        "colab": {
          "base_uri": "https://localhost:8080/"
        }
      },
      "source": [
        "H = array([[0, 1, -1], [-1, 0, 1], [1, -1, 0]])\n",
        "G = array([[0, 1, -1], [-1, 0, 1], [1, -1, 0]])\n",
        "\n",
        "G2 = deriveMatrix(H)\n",
        "print(H)\n",
        "print(G)\n",
        "print('G2:', '-'*10)\n",
        "print(G2)"
      ],
      "execution_count": 103,
      "outputs": [
        {
          "output_type": "stream",
          "text": [
            "[[ 0  1 -1]\n",
            " [-1  0  1]\n",
            " [ 1 -1  0]]\n",
            "[[ 0  1 -1]\n",
            " [-1  0  1]\n",
            " [ 1 -1  0]]\n",
            "G2: ----------\n",
            "[[ 0  1 -1]\n",
            " [-1  0  1]\n",
            " [ 1 -1  0]]\n"
          ],
          "name": "stdout"
        }
      ]
    },
    {
      "cell_type": "markdown",
      "metadata": {
        "id": "vceM7jhv954-"
      },
      "source": [
        "### Normalizace strategie"
      ]
    },
    {
      "cell_type": "markdown",
      "metadata": {
        "id": "4Lybba_Z98Rz"
      },
      "source": [
        "Postup, při kterém z četností vypočítáme pravděpodobnosti. Při iterativní metodě jsou sumarizovány celkové výhry vyplývající ze zvolených strategií (sumarizace vektorů výher přislušných zvoleným strategiím) a také jsou udržovány četnosti volených strategií. Právě na základě četností je následně počítána smíšená strategie."
      ]
    },
    {
      "cell_type": "code",
      "metadata": {
        "id": "PDAM8nXbKWUh"
      },
      "source": [
        "def normalizeStrategy(strategy):\n",
        "  return strategy / sum(strategy) "
      ],
      "execution_count": 104,
      "outputs": []
    },
    {
      "cell_type": "markdown",
      "metadata": {
        "id": "I0-6WF_7XpFu"
      },
      "source": [
        "### Cena hry"
      ]
    },
    {
      "cell_type": "markdown",
      "metadata": {
        "id": "j1crd3BGK7he"
      },
      "source": [
        "Pokud známe smíšené strategie obou hráčů \n",
        "\n",
        "$$s^A=(s_1^A, s_2^A, ..., s_n^A)$$\n",
        "\n",
        "$$s^B=(s_1^B, s_2^B, ..., s_n^B)$$\n",
        "\n",
        "a známe matici hry\n",
        "\n",
        "$$A$$\n",
        "\n",
        "potom\n",
        "\n",
        "$$v=s^{A} \\cdot A \\cdot s^{BT}$$\n",
        "\n",
        "Tuto hodnotu počítá následující funkce z četností strategií volených v průběhu iterativního výpočtu."
      ]
    },
    {
      "cell_type": "code",
      "metadata": {
        "id": "YCogTwNYXpQe"
      },
      "source": [
        "def gameValue(strategies, gameMatrices):\n",
        "  strategyA = normalizeStrategy(strategies[0])\n",
        "  strategyB = normalizeStrategy(strategies[1])\n",
        "  gameA = gameMatrices[0]\n",
        "  gameB = gameMatrices[1]\n",
        "  return (strategyA @ gameA @ strategyB.T, strategyB @ gameB @ strategyA.T)"
      ],
      "execution_count": 105,
      "outputs": []
    },
    {
      "cell_type": "code",
      "metadata": {
        "id": "6Q6-IEGKRj1j",
        "outputId": "ef115e53-fd5f-4207-f035-c334838adbc6",
        "colab": {
          "base_uri": "https://localhost:8080/"
        }
      },
      "source": [
        "strategyA = array([1/3, 1/3, 1/3])\n",
        "strategyB = array([1/3, 1/3, 1/3])\n",
        "gameValue((strategyA, strategyB), (H, G))"
      ],
      "execution_count": 106,
      "outputs": [
        {
          "output_type": "execute_result",
          "data": {
            "text/plain": [
              "(0.0, 0.0)"
            ]
          },
          "metadata": {
            "tags": []
          },
          "execution_count": 106
        }
      ]
    },
    {
      "cell_type": "markdown",
      "metadata": {
        "id": "nDu50Z9BBgqu"
      },
      "source": [
        "### Výstup informace o hře, včetně smíšených strategií"
      ]
    },
    {
      "cell_type": "code",
      "metadata": {
        "id": "qE0JXoJa-OvO"
      },
      "source": [
        "def printGame(strategies, gameMatrices):\n",
        "  strategyA = normalizeStrategy(strategies[0])\n",
        "  strategyB = normalizeStrategy(strategies[1])\n",
        "  gameA = gameMatrices[0]\n",
        "  gameB = gameMatrices[1]\n",
        "\n",
        "  print('\\t', end='')\n",
        "  for item in strategyB:\n",
        "    print(f'{item:.2f}\\t', end='')\n",
        "  print()\n",
        "  for index, value in enumerate(strategyA):\n",
        "    print(f'{value:.2f}\\t', end='')\n",
        "    for mItem in gameA[index]:\n",
        "      print(f'{mItem}\\t', end='')\n",
        "    print()"
      ],
      "execution_count": 107,
      "outputs": []
    },
    {
      "cell_type": "markdown",
      "metadata": {
        "id": "z_CtUaH2SDMM"
      },
      "source": [
        "#### Příklad použití"
      ]
    },
    {
      "cell_type": "code",
      "metadata": {
        "id": "D9kR-6TWR7eV",
        "outputId": "3a4c4279-ff91-40e1-c3ac-5100fc7da499",
        "colab": {
          "base_uri": "https://localhost:8080/"
        }
      },
      "source": [
        "printGame((strategyA, strategyB), (H, G))"
      ],
      "execution_count": 108,
      "outputs": [
        {
          "output_type": "stream",
          "text": [
            "\t0.33\t0.33\t0.33\t\n",
            "0.33\t0\t1\t-1\t\n",
            "0.33\t-1\t0\t1\t\n",
            "0.33\t1\t-1\t0\t\n"
          ],
          "name": "stdout"
        }
      ]
    },
    {
      "cell_type": "markdown",
      "metadata": {
        "id": "ScpOOBmrBvcp"
      },
      "source": [
        "### Krok hráče"
      ]
    },
    {
      "cell_type": "markdown",
      "metadata": {
        "id": "1Gf7kh8QC1nD"
      },
      "source": [
        "Hráč na základě předchozích tahů protihráče volí čistou strategii, která mu maximalizuje zisk. Tedy hledá strategii, která by mu přinesla celkově největší zisk, kdyby ji volil jako odpověď na všechny zaznamenané tahy soupeře.\n",
        "\n",
        "Celkové zisky jsou dány\n",
        "\n",
        "$$ \\vec v = s^A \\cdot G$$\n",
        "\n",
        "$$s_A$$\n",
        "\n",
        "je četnost strategií hráče $A$\n",
        "\n",
        "$$G$$\n",
        "\n",
        "je matice výher hráče $B$\n",
        "\n",
        "strategie maximalizující zisk pro hráče $B$ je potom \n",
        "\n",
        "$$i: v^* = \\max_i v_i$$"
      ]
    },
    {
      "cell_type": "code",
      "metadata": {
        "id": "OhSj8NK3B040"
      },
      "source": [
        "def playerStep(mixedStrategy, gameMatrix):\n",
        "  costs = mixedStrategy @ gameMatrix\n",
        "  maxValue, maxIndex = findMax(costs)\n",
        "  return maxIndex"
      ],
      "execution_count": 109,
      "outputs": []
    },
    {
      "cell_type": "code",
      "metadata": {
        "id": "qsJYCn5pTZoa",
        "outputId": "d91a09a3-78a8-4364-caa7-023caf8ebbd6",
        "colab": {
          "base_uri": "https://localhost:8080/"
        }
      },
      "source": [
        "strategyCount = array([1, 1, 1])\n",
        "print(playerStep(strategyCount, H))"
      ],
      "execution_count": 110,
      "outputs": [
        {
          "output_type": "stream",
          "text": [
            "0\n"
          ],
          "name": "stdout"
        }
      ]
    },
    {
      "cell_type": "markdown",
      "metadata": {
        "id": "puctxswfDNYJ"
      },
      "source": [
        "### Jeden krok v iteraci hry"
      ]
    },
    {
      "cell_type": "markdown",
      "metadata": {
        "id": "rSIMdNHMDQjB"
      },
      "source": [
        "Jeden krok se skládá z tahů obou hráčů."
      ]
    },
    {
      "cell_type": "code",
      "metadata": {
        "id": "tvbkJtQnB4ER"
      },
      "source": [
        "def gameStep(strategies, gameMatrices):\n",
        "  strategyA = strategies[0]\n",
        "  strategyB = strategies[1]\n",
        "\n",
        "  gameA = gameMatrices[0]\n",
        "  gameB = gameMatrices[1]\n",
        "\n",
        "  #najdi strategii\n",
        "  pureStrategyA = playerStep(strategyB, gameB)\n",
        "  #poznamenej ji jako pouzitou\n",
        "  strategyA[pureStrategyA] += 1\n",
        "\n",
        "  #najdi strategii\n",
        "  pureStrategyB = playerStep(strategyB, gameB)\n",
        "  #poznamenej ji jako pouzitou\n",
        "  strategyB[pureStrategyB] += 1\n",
        "\n",
        "  return strategyA, strategyB"
      ],
      "execution_count": 111,
      "outputs": []
    },
    {
      "cell_type": "markdown",
      "metadata": {
        "id": "4EmYZm0-CCS-"
      },
      "source": [
        "### Řešení hry"
      ]
    },
    {
      "cell_type": "markdown",
      "metadata": {
        "id": "uvpvZK_TL2VA"
      },
      "source": [
        "Matice hry Kámen, nůžky, papír pro oba hráče je\n",
        "\n",
        "$$H=G=\\begin{pmatrix}\n",
        "0 & 1 & -1 \\\\\n",
        "-1 & 0 & 1 \\\\\n",
        "1 & -1 & 0\n",
        "\\end{pmatrix}$$\n",
        "\n"
      ]
    },
    {
      "cell_type": "code",
      "metadata": {
        "id": "4AHrQAOm1Kfn",
        "outputId": "6c32b156-d61a-49e0-8223-ab3cf1ac8294",
        "colab": {
          "base_uri": "https://localhost:8080/"
        }
      },
      "source": [
        "H = array([[0, 1, -1], [-1, 0, 1], [1, -1, 0]])\n",
        "G = array([[0, 1, -1], [-1, 0, 1], [1, -1, 0]])\n",
        "\n",
        "strategyA = array([1, 1, 1])\n",
        "strategyB = array([1, 1, 1])\n",
        "for index in range(1000):\n",
        "  strategyA, strategyB = gameStep((strategyA, strategyB), (H, G))\n",
        "  if index % 100 == 0:\n",
        "    printGame((strategyA, strategyB), (H, G))\n",
        "    print('-'*30)"
      ],
      "execution_count": 112,
      "outputs": [
        {
          "output_type": "stream",
          "text": [
            "\t0.50\t0.25\t0.25\t\n",
            "0.50\t0\t1\t-1\t\n",
            "0.25\t-1\t0\t1\t\n",
            "0.25\t1\t-1\t0\t\n",
            "------------------------------\n",
            "\t0.39\t0.28\t0.33\t\n",
            "0.39\t0\t1\t-1\t\n",
            "0.28\t-1\t0\t1\t\n",
            "0.33\t1\t-1\t0\t\n",
            "------------------------------\n",
            "\t0.32\t0.37\t0.30\t\n",
            "0.32\t0\t1\t-1\t\n",
            "0.37\t-1\t0\t1\t\n",
            "0.30\t1\t-1\t0\t\n",
            "------------------------------\n",
            "\t0.32\t0.36\t0.32\t\n",
            "0.32\t0\t1\t-1\t\n",
            "0.36\t-1\t0\t1\t\n",
            "0.32\t1\t-1\t0\t\n",
            "------------------------------\n",
            "\t0.33\t0.37\t0.30\t\n",
            "0.33\t0\t1\t-1\t\n",
            "0.37\t-1\t0\t1\t\n",
            "0.30\t1\t-1\t0\t\n",
            "------------------------------\n",
            "\t0.35\t0.33\t0.32\t\n",
            "0.35\t0\t1\t-1\t\n",
            "0.33\t-1\t0\t1\t\n",
            "0.32\t1\t-1\t0\t\n",
            "------------------------------\n",
            "\t0.33\t0.32\t0.35\t\n",
            "0.33\t0\t1\t-1\t\n",
            "0.32\t-1\t0\t1\t\n",
            "0.35\t1\t-1\t0\t\n",
            "------------------------------\n",
            "\t0.32\t0.35\t0.33\t\n",
            "0.32\t0\t1\t-1\t\n",
            "0.35\t-1\t0\t1\t\n",
            "0.33\t1\t-1\t0\t\n",
            "------------------------------\n",
            "\t0.35\t0.32\t0.33\t\n",
            "0.35\t0\t1\t-1\t\n",
            "0.32\t-1\t0\t1\t\n",
            "0.33\t1\t-1\t0\t\n",
            "------------------------------\n",
            "\t0.31\t0.33\t0.36\t\n",
            "0.31\t0\t1\t-1\t\n",
            "0.33\t-1\t0\t1\t\n",
            "0.36\t1\t-1\t0\t\n",
            "------------------------------\n"
          ],
          "name": "stdout"
        }
      ]
    },
    {
      "cell_type": "markdown",
      "metadata": {
        "id": "RIpXvUojZBnc"
      },
      "source": [
        "### Obecná funkce pro řešení hry"
      ]
    },
    {
      "cell_type": "code",
      "metadata": {
        "id": "GDNrdxHcJ0sx"
      },
      "source": [
        "def solveMatrixGame(gameMatrices, iterations = 10000):\n",
        "  gameA = gameMatrices[0]\n",
        "  gameB = gameMatrices[1]  \n",
        "  strategyA = array([1] * len(gameA))\n",
        "  strategyB = array([1] * len(gameB))\n",
        "  for index in range(iterations):\n",
        "    strategyA, strategyB = gameStep((strategyA, strategyB), (gameA, gameB))\n",
        "  return strategyA, strategyB"
      ],
      "execution_count": 113,
      "outputs": []
    },
    {
      "cell_type": "markdown",
      "metadata": {
        "id": "_93UDlsiZRHI"
      },
      "source": [
        "#### Příklad použití"
      ]
    },
    {
      "cell_type": "code",
      "metadata": {
        "id": "LQlhPRmwI5qh",
        "outputId": "964d4cf6-1c2a-4aef-9383-cdac7ea9e8f8",
        "colab": {
          "base_uri": "https://localhost:8080/"
        }
      },
      "source": [
        "H = array([[0, 1, -1], [-1, 0, 1], [1, -1, 0]])\n",
        "G = deriveMatrix(H)\n",
        "\n",
        "strategyA, strategyB = solveMatrixGame((H, G))\n",
        "printGame((strategyA, strategyB), (H, G))\n",
        "v = gameValue((strategyA, strategyB), (H, G))\n",
        "print(v)"
      ],
      "execution_count": 116,
      "outputs": [
        {
          "output_type": "stream",
          "text": [
            "\t0.34\t0.33\t0.33\t\n",
            "0.34\t0\t1\t-1\t\n",
            "0.33\t-1\t0\t1\t\n",
            "0.33\t1\t-1\t0\t\n",
            "(-8.673617379884035e-19, -8.673617379884035e-19)\n"
          ],
          "name": "stdout"
        }
      ]
    },
    {
      "cell_type": "markdown",
      "metadata": {
        "id": "8exdATiaK0HX"
      },
      "source": [
        "## Řešení maticové hry se sedlovým bodem"
      ]
    },
    {
      "cell_type": "markdown",
      "metadata": {
        "id": "OwUKE8XdLCQC"
      },
      "source": [
        "$$A=\\begin{pmatrix}\n",
        "4 & 3 & 2 & 5 \\\\\n",
        "-10 & 2 & 0 & -1 \\\\\n",
        "7 & 5 & 2 & 3 \\\\\n",
        "0 & 8  & -4 & -5\n",
        "\\end{pmatrix}$$"
      ]
    },
    {
      "cell_type": "code",
      "metadata": {
        "id": "EHxnJ9_QK7dl",
        "outputId": "a9fc9082-3c38-4aab-c5f1-60bad49fc9c9",
        "colab": {
          "base_uri": "https://localhost:8080/"
        }
      },
      "source": [
        "H = array([[4, 3, 2, 5], [-10, 2, 0, -1], [7, 5, 2, 3], [0, 8, -4, -5]])\n",
        "G = deriveMatrix(H)\n",
        "\n",
        "strategyA, strategyB = solveMatrixGame((H, G))\n",
        "printGame((strategyA, strategyB), (H, G))\n",
        "v = gameValue((strategyA, strategyB), (H, G))\n",
        "print(v)"
      ],
      "execution_count": 115,
      "outputs": [
        {
          "output_type": "stream",
          "text": [
            "\t0.00\t1.00\t0.00\t0.00\t\n",
            "0.00\t4\t3\t2\t5\t\n",
            "1.00\t-10\t2\t0\t-1\t\n",
            "0.00\t7\t5\t2\t3\t\n",
            "0.00\t0\t8\t-4\t-5\t\n",
            "(1.9993004497521267, -1.9993004497521263)\n"
          ],
          "name": "stdout"
        }
      ]
    }
  ]
}