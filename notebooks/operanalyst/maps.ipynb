{
  "nbformat": 4,
  "nbformat_minor": 0,
  "metadata": {
    "colab": {
      "name": "maps.ipynb",
      "provenance": [],
      "authorship_tag": "ABX9TyOkgrK1ZbL/MXA8JTAl6j1r",
      "include_colab_link": true
    },
    "kernelspec": {
      "name": "python3",
      "display_name": "Python 3"
    }
  },
  "cells": [
    {
      "cell_type": "markdown",
      "metadata": {
        "id": "view-in-github",
        "colab_type": "text"
      },
      "source": [
        "<a href=\"https://colab.research.google.com/github/hrbolek/learning/blob/master/operanalyst/maps.ipynb\" target=\"_parent\"><img src=\"https://colab.research.google.com/assets/colab-badge.svg\" alt=\"Open In Colab\"/></a>"
      ]
    },
    {
      "cell_type": "markdown",
      "metadata": {
        "id": "RJMQsMRYLQ5N",
        "colab_type": "text"
      },
      "source": [
        "# Základy práce s mapami v prostředí Google Colab / Jupyter"
      ]
    },
    {
      "cell_type": "markdown",
      "metadata": {
        "id": "bZRxEI32L1Uo",
        "colab_type": "text"
      },
      "source": [
        "## Nevyhnutelné importy"
      ]
    },
    {
      "cell_type": "code",
      "metadata": {
        "id": "8IJ7ycNNL5G0",
        "colab_type": "code",
        "colab": {}
      },
      "source": [
        "import folium\n",
        "import folium.plugins"
      ],
      "execution_count": 0,
      "outputs": []
    },
    {
      "cell_type": "markdown",
      "metadata": {
        "id": "WYcBDDhyLUO9",
        "colab_type": "text"
      },
      "source": [
        "## Vytvoření mapového podkladu"
      ]
    },
    {
      "cell_type": "code",
      "metadata": {
        "id": "jFrknZEQLey-",
        "colab_type": "code",
        "colab": {
          "base_uri": "https://localhost:8080/",
          "height": 912
        },
        "outputId": "4e782d3f-8616-4439-c189-101dc364fcc8"
      },
      "source": [
        "# definice promenne uchovavajici mapu\n",
        "m = folium.Map(location=[49.1687516,16.6725822], zoom_start=12 )\n",
        "\n",
        "# zobrazeni mapy\n",
        "display(m)"
      ],
      "execution_count": 3,
      "outputs": [
        {
          "output_type": "display_data",
          "data": {
            "text/html": [
              "<div style=\"width:100%;\"><div style=\"position:relative;width:100%;height:0;padding-bottom:60%;\"><span style=\"color:#565656\">Make this Notebook Trusted to load map: File -> Trust Notebook</span><iframe src=\"about:blank\" style=\"position:absolute;width:100%;height:100%;left:0;top:0;border:none !important;\" data-html=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 onload=\"this.contentDocument.open();this.contentDocument.write(atob(this.getAttribute('data-html')));this.contentDocument.close();\" allowfullscreen webkitallowfullscreen mozallowfullscreen></iframe></div></div>"
            ],
            "text/plain": [
              "<folium.folium.Map at 0x7fa9891afb70>"
            ]
          },
          "metadata": {
            "tags": []
          }
        }
      ]
    },
    {
      "cell_type": "markdown",
      "metadata": {
        "id": "DlzzzhvFMDU3",
        "colab_type": "text"
      },
      "source": [
        "## Definice mapových vrstev (otevřená data)"
      ]
    },
    {
      "cell_type": "code",
      "metadata": {
        "id": "SaFGZYCeMK9Z",
        "colab_type": "code",
        "colab": {
          "base_uri": "https://localhost:8080/",
          "height": 912
        },
        "outputId": "e33833ed-1951-48f9-cd36-94b0b2af58a0"
      },
      "source": [
        "# definice promenne uchovavajici mapu\n",
        "m = folium.Map(location=[49.1687516,16.6725822], zoom_start=12 )\n",
        "\n",
        "# sada otevrenych map\n",
        "urlhead = 'http://services.arcgisonline.com/arcgis/rest/services'\n",
        "urltail = '/MapServer/tile/{z}/{y}/{x}'\n",
        "maps = {\n",
        "  'World_Imagery': '/World_Imagery/MapServer',\n",
        "  'World_Shaded_Relief': '/World_Shaded_Relief/MapServer',\n",
        "  'World_Street_Map': '/World_Street_Map/MapServer',\n",
        "  'World_Topo_Map': '/World_Topo_Map/MapServer'\n",
        "}\n",
        "\n",
        "# pridani do volitelnych vrstev\n",
        "for tile_name, tile_url in maps.items():\n",
        "  wl = folium.WmsTileLayer(url = urlhead + tile_url + urltail, name = tile_name, show = False)\n",
        "  wl.add_to(m)\n",
        "\n",
        "# pridani ovladaciho prvku pro zapinani vrstev (objevi se v pravem hornim rohu)\n",
        "folium.LayerControl().add_to(m)\n",
        "\n",
        "# zobrazeni mapy\n",
        "display(m)"
      ],
      "execution_count": 4,
      "outputs": [
        {
          "output_type": "display_data",
          "data": {
            "text/html": [
              "<div style=\"width:100%;\"><div style=\"position:relative;width:100%;height:0;padding-bottom:60%;\"><span style=\"color:#565656\">Make this Notebook Trusted to load map: File -> Trust Notebook</span><iframe src=\"about:blank\" style=\"position:absolute;width:100%;height:100%;left:0;top:0;border:none !important;\" data-html=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 onload=\"this.contentDocument.open();this.contentDocument.write(atob(this.getAttribute('data-html')));this.contentDocument.close();\" allowfullscreen webkitallowfullscreen mozallowfullscreen></iframe></div></div>"
            ],
            "text/plain": [
              "<folium.folium.Map at 0x7fa9891b50f0>"
            ]
          },
          "metadata": {
            "tags": []
          }
        }
      ]
    },
    {
      "cell_type": "markdown",
      "metadata": {
        "id": "mtFhY7rpN5E9",
        "colab_type": "text"
      },
      "source": [
        "## Metoda pro přípravu základní mapy"
      ]
    },
    {
      "cell_type": "code",
      "metadata": {
        "id": "Fb-6aembILqO",
        "colab_type": "code",
        "colab": {}
      },
      "source": [
        "def prepareMap(location=[49.1687516,16.6725822], zoom = 12):\n",
        "  m = folium.Map(\n",
        "      location=location,\n",
        "      zoom_start=zoom,\n",
        "  #    tiles='Stamen Terrain'\n",
        "  )\n",
        "\n",
        "  urlhead = 'http://services.arcgisonline.com/arcgis/rest/services'\n",
        "  urltail = '/MapServer/tile/{z}/{y}/{x}'\n",
        "  maps = {\n",
        "    'World_Imagery': '/World_Imagery/MapServer',\n",
        "    'World_Shaded_Relief': '/World_Shaded_Relief/MapServer',\n",
        "    'World_Street_Map': '/World_Street_Map/MapServer',\n",
        "    'World_Topo_Map': '/World_Topo_Map/MapServer'\n",
        "  }\n",
        "\n",
        "  for tile_name, tile_url in maps.items():\n",
        "    wl = folium.WmsTileLayer(url = urlhead + tile_url + urltail, name = tile_name, show = False)\n",
        "    wl.add_to(m)\n",
        "\n",
        "  folium.LayerControl().add_to(m)\n",
        "\n",
        "#  fs = folium.plugins.Fullscreen()\n",
        "#  m.add_child(fs)\n",
        "\n",
        "  minimap = folium.plugins.MiniMap()\n",
        "  minimap.add_to(m)\n",
        "\n",
        "  return m"
      ],
      "execution_count": 0,
      "outputs": []
    },
    {
      "cell_type": "code",
      "metadata": {
        "id": "qxSL5iupOD8i",
        "colab_type": "code",
        "colab": {
          "base_uri": "https://localhost:8080/",
          "height": 912
        },
        "outputId": "1403430b-b367-4701-8058-1b61d814a7d3"
      },
      "source": [
        "# pouziti\n",
        "m = prepareMap()\n",
        "display(m)"
      ],
      "execution_count": 9,
      "outputs": [
        {
          "output_type": "display_data",
          "data": {
            "text/html": [
              "<div style=\"width:100%;\"><div style=\"position:relative;width:100%;height:0;padding-bottom:60%;\"><span style=\"color:#565656\">Make this Notebook Trusted to load map: File -> Trust Notebook</span><iframe src=\"about:blank\" style=\"position:absolute;width:100%;height:100%;left:0;top:0;border:none !important;\" data-html=PCFET0NUWVBFIGh0bWw+CjxoZWFkPiAgICAKICAgIDxtZXRhIGh0dHAtZXF1aXY9ImNvbnRlbnQtdHlwZSIgY29udGVudD0idGV4dC9odG1sOyBjaGFyc2V0PVVURi04IiAvPgogICAgPHNjcmlwdD5MX1BSRUZFUl9DQU5WQVM9ZmFsc2U7IExfTk9fVE9VQ0g9ZmFsc2U7IExfRElTQUJMRV8zRD1mYWxzZTs8L3NjcmlwdD4KICAgIDxzY3JpcHQgc3JjPSJodHRwczovL2Nkbi5qc2RlbGl2ci5uZXQvbnBtL2xlYWZsZXRAMS40LjAvZGlzdC9sZWFmbGV0LmpzIj48L3NjcmlwdD4KICAgIDxzY3JpcHQgc3JjPSJodHRwczovL2NvZGUuanF1ZXJ5LmNvbS9qcXVlcnktMS4xMi40Lm1pbi5qcyI+PC9zY3JpcHQ+CiAgICA8c2NyaXB0IHNyYz0iaHR0cHM6Ly9tYXhjZG4uYm9vdHN0cmFwY2RuLmNvbS9ib290c3RyYXAvMy4yLjAvanMvYm9vdHN0cmFwLm1pbi5qcyI+PC9zY3JpcHQ+CiAgICA8c2NyaXB0IHNyYz0iaHR0cHM6Ly9jZG5qcy5jbG91ZGZsYXJlLmNvbS9hamF4L2xpYnMvTGVhZmxldC5hd2Vzb21lLW1hcmtlcnMvMi4wLjIvbGVhZmxldC5hd2Vzb21lLW1hcmtlcnMuanMiPjwvc2NyaXB0PgogICAgPGxpbmsgcmVsPSJzdHlsZXNoZWV0IiBocmVmPSJodHRwczovL2Nkbi5qc2RlbGl2ci5uZXQvbnBtL2xlYWZsZXRAMS40LjAvZGlzdC9sZWFmbGV0LmNzcyIvPgogICAgPGxpbmsgcmVsPSJzdHlsZXNoZWV0IiBocmVmPSJodHRwczovL21heGNkbi5ib290c3RyYXBjZG4uY29tL2Jvb3RzdHJhcC8zLjIuMC9jc3MvYm9vdHN0cmFwLm1pbi5jc3MiLz4KICAgIDxsaW5rIHJlbD0ic3R5bGVzaGVldCIgaHJlZj0iaHR0cHM6Ly9tYXhjZG4uYm9vdHN0cmFwY2RuLmNvbS9ib290c3RyYXAvMy4yLjAvY3NzL2Jvb3RzdHJhcC10aGVtZS5taW4uY3NzIi8+CiAgICA8bGluayByZWw9InN0eWxlc2hlZXQiIGhyZWY9Imh0dHBzOi8vbWF4Y2RuLmJvb3RzdHJhcGNkbi5jb20vZm9udC1hd2Vzb21lLzQuNi4zL2Nzcy9mb250LWF3ZXNvbWUubWluLmNzcyIvPgogICAgPGxpbmsgcmVsPSJzdHlsZXNoZWV0IiBocmVmPSJodHRwczovL2NkbmpzLmNsb3VkZmxhcmUuY29tL2FqYXgvbGlicy9MZWFmbGV0LmF3ZXNvbWUtbWFya2Vycy8yLjAuMi9sZWFmbGV0LmF3ZXNvbWUtbWFya2Vycy5jc3MiLz4KICAgIDxsaW5rIHJlbD0ic3R5bGVzaGVldCIgaHJlZj0iaHR0cHM6Ly9yYXdjZG4uZ2l0aGFjay5jb20vcHl0aG9uLXZpc3VhbGl6YXRpb24vZm9saXVtL21hc3Rlci9mb2xpdW0vdGVtcGxhdGVzL2xlYWZsZXQuYXdlc29tZS5yb3RhdGUuY3NzIi8+CiAgICA8c3R5bGU+aHRtbCwgYm9keSB7d2lkdGg6IDEwMCU7aGVpZ2h0OiAxMDAlO21hcmdpbjogMDtwYWRkaW5nOiAwO308L3N0eWxlPgogICAgPHN0eWxlPiNtYXAge3Bvc2l0aW9uOmFic29sdXRlO3RvcDowO2JvdHRvbTowO3JpZ2h0OjA7bGVmdDowO308L3N0eWxlPgogICAgCiAgICA8bWV0YSBuYW1lPSJ2aWV3cG9ydCIgY29udGVudD0id2lkdGg9ZGV2aWNlLXdpZHRoLAogICAgICAgIGluaXRpYWwtc2NhbGU9MS4wLCBtYXhpbXVtLXNjYWxlPTEuMCwgdXNlci1zY2FsYWJsZT1ubyIgLz4KICAgIDxzdHlsZT4jbWFwX2E0ZGM3Y2VhYzhkMzRhYjliYjYzMzNiN2Q3MmMxZGQwIHsKICAgICAgICBwb3NpdGlvbjogcmVsYXRpdmU7CiAgICAgICAgd2lkdGg6IDEwMC4wJTsKICAgICAgICBoZWlnaHQ6IDEwMC4wJTsKICAgICAgICBsZWZ0OiAwLjAlOwogICAgICAgIHRvcDogMC4wJTsKICAgICAgICB9CiAgICA8L3N0eWxlPgogICAgPHNjcmlwdCBzcmM9Imh0dHBzOi8vY2RuanMuY2xvdWRmbGFyZS5jb20vYWpheC9saWJzL2xlYWZsZXQtbWluaW1hcC8zLjYuMS9Db250cm9sLk1pbmlNYXAuanMiPjwvc2NyaXB0PgogICAgPGxpbmsgcmVsPSJzdHlsZXNoZWV0IiBocmVmPSJodHRwczovL2NkbmpzLmNsb3VkZmxhcmUuY29tL2FqYXgvbGlicy9sZWFmbGV0LW1pbmltYXAvMy42LjEvQ29udHJvbC5NaW5pTWFwLmNzcyIvPgo8L2hlYWQ+Cjxib2R5PiAgICAKICAgIAogICAgPGRpdiBjbGFzcz0iZm9saXVtLW1hcCIgaWQ9Im1hcF9hNGRjN2NlYWM4ZDM0YWI5YmI2MzMzYjdkNzJjMWRkMCIgPjwvZGl2Pgo8L2JvZHk+CjxzY3JpcHQ+ICAgIAogICAgCiAgICAKICAgICAgICB2YXIgYm91bmRzID0gbnVsbDsKICAgIAoKICAgIHZhciBtYXBfYTRkYzdjZWFjOGQzNGFiOWJiNjMzM2I3ZDcyYzFkZDAgPSBMLm1hcCgKICAgICAgICAnbWFwX2E0ZGM3Y2VhYzhkMzRhYjliYjYzMzNiN2Q3MmMxZGQwJywgewogICAgICAgIGNlbnRlcjogWzQ5LjE2ODc1MTYsIDE2LjY3MjU4MjJdLAogICAgICAgIHpvb206IDEyLAogICAgICAgIG1heEJvdW5kczogYm91bmRzLAogICAgICAgIGxheWVyczogW10sCiAgICAgICAgd29ybGRDb3B5SnVtcDogZmFsc2UsCiAgICAgICAgY3JzOiBMLkNSUy5FUFNHMzg1NywKICAgICAgICB6b29tQ29udHJvbDogdHJ1ZSwKICAgICAgICB9KTsKCgogICAgCiAgICB2YXIgdGlsZV9sYXllcl85NTUxMzczYTE1MDk0ZDJkODg4ODExMzE5NGY3YzRjNyA9IEwudGlsZUxheWVyKAogICAgICAgICdodHRwczovL3tzfS50aWxlLm9wZW5zdHJlZXRtYXAub3JnL3t6fS97eH0ve3l9LnBuZycsCiAgICAgICAgewogICAgICAgICJhdHRyaWJ1dGlvbiI6IG51bGwsCiAgICAgICAgImRldGVjdFJldGluYSI6IGZhbHNlLAogICAgICAgICJtYXhOYXRpdmVab29tIjogMTgsCiAgICAgICAgIm1heFpvb20iOiAxOCwKICAgICAgICAibWluWm9vbSI6IDAsCiAgICAgICAgIm5vV3JhcCI6IGZhbHNlLAogICAgICAgICJvcGFjaXR5IjogMSwKICAgICAgICAic3ViZG9tYWlucyI6ICJhYmMiLAogICAgICAgICJ0bXMiOiBmYWxzZQp9KS5hZGRUbyhtYXBfYTRkYzdjZWFjOGQzNGFiOWJiNjMzM2I3ZDcyYzFkZDApOwogICAgCiAgICAgICAgICAgIHZhciBtYWNyb19lbGVtZW50XzRhMzA4YjA1MjlkNDQyYmRiN2ZkYTNiOGIwMzZlN2MxID0gTC50aWxlTGF5ZXIud21zKAogICAgICAgICAgICAgICAgJ2h0dHA6Ly9zZXJ2aWNlcy5hcmNnaXNvbmxpbmUuY29tL2FyY2dpcy9yZXN0L3NlcnZpY2VzL1dvcmxkX0ltYWdlcnkvTWFwU2VydmVyL01hcFNlcnZlci90aWxlL3t6fS97eX0ve3h9JywKICAgICAgICAgICAgICAgIHsKICAiYXR0cmlidXRpb24iOiAiIiwKICAiZm9ybWF0IjogImltYWdlL2pwZWciLAogICJsYXllcnMiOiAiIiwKICAic3R5bGVzIjogIiIsCiAgInRyYW5zcGFyZW50IjogZmFsc2UsCiAgInZlcnNpb24iOiAiMS4xLjEiCn0KICAgICAgICAgICAgICAgICkuYWRkVG8obWFwX2E0ZGM3Y2VhYzhkMzRhYjliYjYzMzNiN2Q3MmMxZGQwKTsKCiAgICAgICAgCiAgICAKICAgICAgICAgICAgdmFyIG1hY3JvX2VsZW1lbnRfNWU5OWE3YWRhZWRkNGUwOGIwOGViMjc4OGNlZmIyYmUgPSBMLnRpbGVMYXllci53bXMoCiAgICAgICAgICAgICAgICAnaHR0cDovL3NlcnZpY2VzLmFyY2dpc29ubGluZS5jb20vYXJjZ2lzL3Jlc3Qvc2VydmljZXMvV29ybGRfU2hhZGVkX1JlbGllZi9NYXBTZXJ2ZXIvTWFwU2VydmVyL3RpbGUve3p9L3t5fS97eH0nLAogICAgICAgICAgICAgICAgewogICJhdHRyaWJ1dGlvbiI6ICIiLAogICJmb3JtYXQiOiAiaW1hZ2UvanBlZyIsCiAgImxheWVycyI6ICIiLAogICJzdHlsZXMiOiAiIiwKICAidHJhbnNwYXJlbnQiOiBmYWxzZSwKICAidmVyc2lvbiI6ICIxLjEuMSIKfQogICAgICAgICAgICAgICAgKS5hZGRUbyhtYXBfYTRkYzdjZWFjOGQzNGFiOWJiNjMzM2I3ZDcyYzFkZDApOwoKICAgICAgICAKICAgIAogICAgICAgICAgICB2YXIgbWFjcm9fZWxlbWVudF85M2M3YjNiMWQ1Y2M0MDUwOGNiNzhjYmU2ODk2NjE3MCA9IEwudGlsZUxheWVyLndtcygKICAgICAgICAgICAgICAgICdodHRwOi8vc2VydmljZXMuYXJjZ2lzb25saW5lLmNvbS9hcmNnaXMvcmVzdC9zZXJ2aWNlcy9Xb3JsZF9TdHJlZXRfTWFwL01hcFNlcnZlci9NYXBTZXJ2ZXIvdGlsZS97en0ve3l9L3t4fScsCiAgICAgICAgICAgICAgICB7CiAgImF0dHJpYnV0aW9uIjogIiIsCiAgImZvcm1hdCI6ICJpbWFnZS9qcGVnIiwKICAibGF5ZXJzIjogIiIsCiAgInN0eWxlcyI6ICIiLAogICJ0cmFuc3BhcmVudCI6IGZhbHNlLAogICJ2ZXJzaW9uIjogIjEuMS4xIgp9CiAgICAgICAgICAgICAgICApLmFkZFRvKG1hcF9hNGRjN2NlYWM4ZDM0YWI5YmI2MzMzYjdkNzJjMWRkMCk7CgogICAgICAgIAogICAgCiAgICAgICAgICAgIHZhciBtYWNyb19lbGVtZW50XzdmYWY2ZmIzZWJkMDQ4NWRiMjY2MTE4Zjg1NGI3YjBiID0gTC50aWxlTGF5ZXIud21zKAogICAgICAgICAgICAgICAgJ2h0dHA6Ly9zZXJ2aWNlcy5hcmNnaXNvbmxpbmUuY29tL2FyY2dpcy9yZXN0L3NlcnZpY2VzL1dvcmxkX1RvcG9fTWFwL01hcFNlcnZlci9NYXBTZXJ2ZXIvdGlsZS97en0ve3l9L3t4fScsCiAgICAgICAgICAgICAgICB7CiAgImF0dHJpYnV0aW9uIjogIiIsCiAgImZvcm1hdCI6ICJpbWFnZS9qcGVnIiwKICAibGF5ZXJzIjogIiIsCiAgInN0eWxlcyI6ICIiLAogICJ0cmFuc3BhcmVudCI6IGZhbHNlLAogICJ2ZXJzaW9uIjogIjEuMS4xIgp9CiAgICAgICAgICAgICAgICApLmFkZFRvKG1hcF9hNGRjN2NlYWM4ZDM0YWI5YmI2MzMzYjdkNzJjMWRkMCk7CgogICAgICAgIAogICAgCiAgICAgICAgICAgIHZhciBsYXllcl9jb250cm9sXzQ3MmM4ODM4YWVkMjQ1MGFhN2E4OThkZDc3NjY0ZTBiID0gewogICAgICAgICAgICAgICAgYmFzZV9sYXllcnMgOiB7ICJvcGVuc3RyZWV0bWFwIiA6IHRpbGVfbGF5ZXJfOTU1MTM3M2ExNTA5NGQyZDg4ODgxMTMxOTRmN2M0YzcsIH0sCiAgICAgICAgICAgICAgICBvdmVybGF5cyA6IHsgIldvcmxkX0ltYWdlcnkiIDogbWFjcm9fZWxlbWVudF80YTMwOGIwNTI5ZDQ0MmJkYjdmZGEzYjhiMDM2ZTdjMSwiV29ybGRfU2hhZGVkX1JlbGllZiIgOiBtYWNyb19lbGVtZW50XzVlOTlhN2FkYWVkZDRlMDhiMDhlYjI3ODhjZWZiMmJlLCJXb3JsZF9TdHJlZXRfTWFwIiA6IG1hY3JvX2VsZW1lbnRfOTNjN2IzYjFkNWNjNDA1MDhjYjc4Y2JlNjg5NjYxNzAsIldvcmxkX1RvcG9fTWFwIiA6IG1hY3JvX2VsZW1lbnRfN2ZhZjZmYjNlYmQwNDg1ZGIyNjYxMThmODU0YjdiMGIsIH0KICAgICAgICAgICAgICAgIH07CiAgICAgICAgICAgIEwuY29udHJvbC5sYXllcnMoCiAgICAgICAgICAgICAgICBsYXllcl9jb250cm9sXzQ3MmM4ODM4YWVkMjQ1MGFhN2E4OThkZDc3NjY0ZTBiLmJhc2VfbGF5ZXJzLAogICAgICAgICAgICAgICAgbGF5ZXJfY29udHJvbF80NzJjODgzOGFlZDI0NTBhYTdhODk4ZGQ3NzY2NGUwYi5vdmVybGF5cywKICAgICAgICAgICAgICAgIHtwb3NpdGlvbjogJ3RvcHJpZ2h0JywKICAgICAgICAgICAgICAgICBjb2xsYXBzZWQ6IHRydWUsCiAgICAgICAgICAgICAgICAgYXV0b1pJbmRleDogdHJ1ZQogICAgICAgICAgICAgICAgfSkuYWRkVG8obWFwX2E0ZGM3Y2VhYzhkMzRhYjliYjYzMzNiN2Q3MmMxZGQwKTsKICAgICAgICAgICAgCiAgICAgICAgICAgICAgICBtYWNyb19lbGVtZW50XzRhMzA4YjA1MjlkNDQyYmRiN2ZkYTNiOGIwMzZlN2MxLnJlbW92ZSgpOwogICAgICAgICAgICAgICAgbWFjcm9fZWxlbWVudF81ZTk5YTdhZGFlZGQ0ZTA4YjA4ZWIyNzg4Y2VmYjJiZS5yZW1vdmUoKTsKICAgICAgICAgICAgICAgIG1hY3JvX2VsZW1lbnRfOTNjN2IzYjFkNWNjNDA1MDhjYjc4Y2JlNjg5NjYxNzAucmVtb3ZlKCk7CiAgICAgICAgICAgICAgICBtYWNyb19lbGVtZW50XzdmYWY2ZmIzZWJkMDQ4NWRiMjY2MTE4Zjg1NGI3YjBiLnJlbW92ZSgpOwogICAgICAgIAogICAgCgogICAgICAgIHZhciB0aWxlX2xheWVyXzYyYjQ5YzYyOTY2ZDRjYTZiNjMzNDZkNGNiMGQzZWIzID0gTC50aWxlTGF5ZXIoCiAgICAgICAgJ2h0dHBzOi8ve3N9LnRpbGUub3BlbnN0cmVldG1hcC5vcmcve3p9L3t4fS97eX0ucG5nJywKICAgICAgICB7CiAgICAgICAgImF0dHJpYnV0aW9uIjogbnVsbCwKICAgICAgICAiZGV0ZWN0UmV0aW5hIjogZmFsc2UsCiAgICAgICAgIm1heE5hdGl2ZVpvb20iOiAxOCwKICAgICAgICAibWF4Wm9vbSI6IDE4LAogICAgICAgICJtaW5ab29tIjogMCwKICAgICAgICAibm9XcmFwIjogZmFsc2UsCiAgICAgICAgIm9wYWNpdHkiOiAxLAogICAgICAgICJzdWJkb21haW5zIjogImFiYyIsCiAgICAgICAgInRtcyI6IGZhbHNlCn0gKTsKCiAgICAgICAgdmFyIG1pbmlfbWFwX2YyMTdhYjNkOGNiOTQ4YWE5MWRmMjczM2I5NTcwNTIzID0gbmV3IEwuQ29udHJvbC5NaW5pTWFwKCB0aWxlX2xheWVyXzYyYjQ5YzYyOTY2ZDRjYTZiNjMzNDZkNGNiMGQzZWIzLAogICAgICAgICB7CiAgImF1dG9Ub2dnbGVEaXNwbGF5IjogZmFsc2UsCiAgImNlbnRlckZpeGVkIjogZmFsc2UsCiAgImNvbGxhcHNlZEhlaWdodCI6IDI1LAogICJjb2xsYXBzZWRXaWR0aCI6IDI1LAogICJoZWlnaHQiOiAxNTAsCiAgIm1pbmltaXplZCI6IGZhbHNlLAogICJwb3NpdGlvbiI6ICJib3R0b21yaWdodCIsCiAgInRvZ2dsZURpc3BsYXkiOiBmYWxzZSwKICAid2lkdGgiOiAxNTAsCiAgInpvb21BbmltYXRpb24iOiBmYWxzZSwKICAiem9vbUxldmVsRml4ZWQiOiBudWxsLAogICJ6b29tTGV2ZWxPZmZzZXQiOiAtNQp9KTsKICAgICAgICBtYXBfYTRkYzdjZWFjOGQzNGFiOWJiNjMzM2I3ZDcyYzFkZDAuYWRkQ29udHJvbChtaW5pX21hcF9mMjE3YWIzZDhjYjk0OGFhOTFkZjI3MzNiOTU3MDUyMyk7CgogICAgICAgIAo8L3NjcmlwdD4= onload=\"this.contentDocument.open();this.contentDocument.write(atob(this.getAttribute('data-html')));this.contentDocument.close();\" allowfullscreen webkitallowfullscreen mozallowfullscreen></iframe></div></div>"
            ],
            "text/plain": [
              "<folium.folium.Map at 0x7fa989019be0>"
            ]
          },
          "metadata": {
            "tags": []
          }
        }
      ]
    },
    {
      "cell_type": "markdown",
      "metadata": {
        "id": "ALFoStLoOhWf",
        "colab_type": "text"
      },
      "source": [
        "## Zákres základních prvků do mapy"
      ]
    },
    {
      "cell_type": "code",
      "metadata": {
        "id": "3kygrfu7Onc7",
        "colab_type": "code",
        "colab": {
          "base_uri": "https://localhost:8080/",
          "height": 912
        },
        "outputId": "0f2d9f4b-a86f-4e43-91e3-7cb4875278c3"
      },
      "source": [
        "m = prepareMap()\n",
        "\n",
        "# cara - Polyline\n",
        "rocketpath = [[49.1687516,16.6725822], [49.1, 16.7]]\n",
        "tooltip = 'Tooltip'\n",
        "folium.PolyLine(locations = rocketpath, color=\"red\", weight=2.5, opacity=0.8, popup = 'Rocket', tooltip = tooltip).add_to(m)\n",
        "\n",
        "# oblast - Polygon\n",
        "region = [[49.1,16.7], [49.2, 16.6], [49.2, 16.8]]\n",
        "folium.Polygon(locations = region, color=\"blue\", weight=2, opacity=0.8, fill_color='blue', fill_opacity=0.25).add_to(m)\n",
        "\n",
        "\n",
        "# bod / Custom Icon\n",
        "url = 'https://upload.wikimedia.org/wikipedia/commons/thumb/0/0f/APP-6_Radar.svg/200px-APP-6_Radar.svg.png'\n",
        "url = 'https://upload.wikimedia.org/wikipedia/commons/thumb/9/9d/NATO_Map_Symbol_-_Radar.svg/320px-NATO_Map_Symbol_-_Radar.svg.png'\n",
        "icon = folium.features.CustomIcon(url,icon_size=(66, 44))\n",
        "folium.Marker([49.15, 16.7], popup='Radar', icon=icon).add_to(m) \n",
        "\n",
        "display(m)"
      ],
      "execution_count": 19,
      "outputs": [
        {
          "output_type": "display_data",
          "data": {
            "text/html": [
              "<div style=\"width:100%;\"><div style=\"position:relative;width:100%;height:0;padding-bottom:60%;\"><span style=\"color:#565656\">Make this Notebook Trusted to load map: File -> Trust Notebook</span><iframe src=\"about:blank\" style=\"position:absolute;width:100%;height:100%;left:0;top:0;border:none !important;\" data-html=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 onload=\"this.contentDocument.open();this.contentDocument.write(atob(this.getAttribute('data-html')));this.contentDocument.close();\" allowfullscreen webkitallowfullscreen mozallowfullscreen></iframe></div></div>"
            ],
            "text/plain": [
              "<folium.folium.Map at 0x7fa988fb1128>"
            ]
          },
          "metadata": {
            "tags": []
          }
        }
      ]
    },
    {
      "cell_type": "markdown",
      "metadata": {
        "id": "6BsrqHwqVGXc",
        "colab_type": "text"
      },
      "source": [
        "## Převod souřadnic"
      ]
    },
    {
      "cell_type": "code",
      "metadata": {
        "id": "J30jFI-pVLEa",
        "colab_type": "code",
        "colab": {
          "base_uri": "https://localhost:8080/",
          "height": 109
        },
        "outputId": "72ccf743-278c-4f75-e9ff-b2144d6c3753"
      },
      "source": [
        "!pip install pyproj"
      ],
      "execution_count": 20,
      "outputs": [
        {
          "output_type": "stream",
          "text": [
            "Collecting pyproj\n",
            "\u001b[?25l  Downloading https://files.pythonhosted.org/packages/e5/c3/071e080230ac4b6c64f1a2e2f9161c9737a2bc7b683d2c90b024825000c0/pyproj-2.6.1.post1-cp36-cp36m-manylinux2010_x86_64.whl (10.9MB)\n",
            "\u001b[K     |████████████████████████████████| 10.9MB 4.5MB/s \n",
            "\u001b[?25hInstalling collected packages: pyproj\n",
            "Successfully installed pyproj-2.6.1.post1\n"
          ],
          "name": "stdout"
        }
      ]
    },
    {
      "cell_type": "code",
      "metadata": {
        "id": "Oot6cq6vVSZ3",
        "colab_type": "code",
        "colab": {
          "base_uri": "https://localhost:8080/",
          "height": 35
        },
        "outputId": "d2fc4158-79f6-4030-b9c1-9fc1df9412cb"
      },
      "source": [
        "from pyproj import Proj\n",
        "\n",
        "Wgs84Bl = Proj(\"+proj=utm +zone=33, +south +ellps=WGS84 +datum=WGS84 +units=m +no_defs\")\n",
        "coordsBL = (49.15, 16.7)\n",
        "coordsXY = Wgs84Bl(coordsBL[0], coordsBL[1], inverse=False)\n",
        "print(coordsBL, '=>', coordsXY)"
      ],
      "execution_count": 23,
      "outputs": [
        {
          "output_type": "stream",
          "text": [
            "(49.15, 16.7) => (4333504.151088663, 2206171.932909475)\n"
          ],
          "name": "stdout"
        }
      ]
    },
    {
      "cell_type": "markdown",
      "metadata": {
        "id": "AfOMHJUETxr0",
        "colab_type": "text"
      },
      "source": [
        "## Další zdroje\n",
        "\n",
        "Základní dokumentace\n",
        "\n",
        "https://python-visualization.github.io/folium/index.html\n",
        "\n",
        "Příklady notebooků\n",
        "\n",
        "https://github.com/python-visualization/folium/tree/master/examples\n",
        "\n"
      ]
    }
  ]
}