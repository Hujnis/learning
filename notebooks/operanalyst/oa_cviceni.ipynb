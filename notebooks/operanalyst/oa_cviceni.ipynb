{
  "nbformat": 4,
  "nbformat_minor": 0,
  "metadata": {
    "colab": {
      "name": "OAcviceni.ipynb",
      "provenance": [],
      "authorship_tag": "ABX9TyNluJOT+SRNzr2xRtaozgH5",
      "include_colab_link": true
    },
    "kernelspec": {
      "name": "python3",
      "display_name": "Python 3"
    },
    "language_info": {
      "name": "python"
    }
  },
  "cells": [
    {
      "cell_type": "markdown",
      "metadata": {
        "id": "view-in-github",
        "colab_type": "text"
      },
      "source": [
        "<a href=\"https://colab.research.google.com/github/hrbolek/learning/blob/master/operanalyst/oa_cviceni.ipynb\" target=\"_parent\"><img src=\"https://colab.research.google.com/assets/colab-badge.svg\" alt=\"Open In Colab\"/></a>"
      ]
    },
    {
      "cell_type": "markdown",
      "metadata": {
        "id": "Vz-4d9PfKfJV"
      },
      "source": [
        "# Příprava pro výpočty"
      ]
    },
    {
      "cell_type": "markdown",
      "metadata": {
        "id": "Nt_E6_JiMKgp"
      },
      "source": [
        "Pro výpočty použijeme knihovnu `pulp`. Je samozřejmě možné využít celé řady další knihoven. Výhodou knihovny `pulp` je jednoduchá formulace úlohy.\n",
        "\n",
        "Návod k použití knihovny `pulp` lze nalézt zde https://coin-or.github.io/pulp/."
      ]
    },
    {
      "cell_type": "code",
      "metadata": {
        "colab": {
          "base_uri": "https://localhost:8080/"
        },
        "id": "ENJmSdSjKd7z",
        "outputId": "5d7140ff-33cc-4a24-de48-5c1782d7f783"
      },
      "source": [
        "!pip install pulp"
      ],
      "execution_count": 1,
      "outputs": [
        {
          "output_type": "stream",
          "text": [
            "Collecting pulp\n",
            "\u001b[?25l  Downloading https://files.pythonhosted.org/packages/14/c4/0eec14a0123209c261de6ff154ef3be5cad3fd557c084f468356662e0585/PuLP-2.4-py3-none-any.whl (40.6MB)\n",
            "\u001b[K     |████████████████████████████████| 40.6MB 98kB/s \n",
            "\u001b[?25hCollecting amply>=0.1.2\n",
            "  Downloading https://files.pythonhosted.org/packages/f3/c5/dfa09dd2595a2ab2ab4e6fa7bebef9565812722e1980d04b0edce5032066/amply-0.1.4-py3-none-any.whl\n",
            "Requirement already satisfied: pyparsing in /usr/local/lib/python3.7/dist-packages (from amply>=0.1.2->pulp) (2.4.7)\n",
            "Requirement already satisfied: docutils>=0.3 in /usr/local/lib/python3.7/dist-packages (from amply>=0.1.2->pulp) (0.17)\n",
            "Installing collected packages: amply, pulp\n",
            "Successfully installed amply-0.1.4 pulp-2.4\n"
          ],
          "name": "stdout"
        }
      ]
    },
    {
      "cell_type": "markdown",
      "metadata": {
        "id": "eMh6gTuzLKN0"
      },
      "source": [
        "## Rychlý návod"
      ]
    },
    {
      "cell_type": "markdown",
      "metadata": {
        "id": "KbDJR-81LPEK"
      },
      "source": [
        "Každá úloha se skládá z definice:\n",
        "- proměnných\n",
        "- kriteriální funkce\n",
        "- omezujících podmínek\n",
        "\n",
        "Adekvátně tomu musíme pomocí knihovny pulp :\n",
        "- vytvořit model úlohy\n",
        "- definovat proměnné\n",
        "- definovat kriteriální funkci\n",
        "- určit omezující podmínky\n",
        "\n",
        "Následně stačí spustit řešení úlohy"
      ]
    },
    {
      "cell_type": "code",
      "metadata": {
        "id": "8aAQMPgIPiyh"
      },
      "source": [
        "import pulp\n",
        "#dir(pulp)"
      ],
      "execution_count": 9,
      "outputs": []
    },
    {
      "cell_type": "code",
      "metadata": {
        "colab": {
          "base_uri": "https://localhost:8080/",
          "height": 293
        },
        "id": "49XHzJwELPir",
        "outputId": "4ea37d2c-4409-48b3-fd6d-c40002bb0ef1"
      },
      "source": [
        "from pulp import LpMaximize, LpProblem, LpStatus, lpSum, LpVariable\n",
        "\n",
        "# Create the model\n",
        "model = LpProblem(name=\"small-problem\", sense=LpMaximize)\n",
        "\n",
        "# Initialize the decision variables\n",
        "x = LpVariable(name=\"x\", lowBound=0) \n",
        "y = LpVariable(name=\"y\", lowBound=0)\n",
        "\n",
        "#if x is from N set\n",
        "#x = LpVariable(name=\"x\", lowBound=0, cat=\"Integer\")\n",
        "\n",
        "\n",
        "model += x + 2 * y\n",
        "\n",
        "# Add the constraints to the model\n",
        "model += (2 * x + y <= 20, \"red_constraint\")\n",
        "model += (4 * x - 5 * y >= -10, \"blue_constraint\")\n",
        "model += (-x + 2 * y >= -2, \"yellow_constraint\")\n",
        "model += (-x + 5 * y == 15, \"green_constraint\")\n",
        "\n",
        "\n",
        "display(model)"
      ],
      "execution_count": 5,
      "outputs": [
        {
          "output_type": "display_data",
          "data": {
            "text/plain": [
              "small-problem:\n",
              "MAXIMIZE\n",
              "1*x + 2*y + 0\n",
              "SUBJECT TO\n",
              "red_constraint: 2 x + y <= 20\n",
              "\n",
              "blue_constraint: 4 x - 5 y >= -10\n",
              "\n",
              "yellow_constraint: - x + 2 y >= -2\n",
              "\n",
              "green_constraint: - x + 5 y = 15\n",
              "\n",
              "VARIABLES\n",
              "x Continuous\n",
              "y Continuous"
            ]
          },
          "metadata": {
            "tags": []
          }
        }
      ]
    },
    {
      "cell_type": "code",
      "metadata": {
        "colab": {
          "base_uri": "https://localhost:8080/"
        },
        "id": "wA6hdYuxN8Jk",
        "outputId": "bfcae4c5-168f-4535-ab9e-09967e532483"
      },
      "source": [
        "# Solve the problem\n",
        "status = model.solve()\n",
        "\n",
        "print(f\"status: {model.status}, {LpStatus[model.status]}\")\n",
        "print(f\"objective: {model.objective.value()}\")\n",
        "for var in model.variables():\n",
        "    print(f\"{var.name}: {var.value()}\")\n",
        "\n",
        "for name, constraint in model.constraints.items():\n",
        "    print(f\"{name}: {constraint.value()}\")"
      ],
      "execution_count": 7,
      "outputs": [
        {
          "output_type": "stream",
          "text": [
            "status: 1, Optimal\n",
            "objective: 16.8181817\n",
            "x: 7.7272727\n",
            "y: 4.5454545\n",
            "red_constraint: -9.99999993922529e-08\n",
            "blue_constraint: 18.181818300000003\n",
            "yellow_constraint: 3.3636362999999996\n",
            "green_constraint: -2.0000000233721948e-07\n"
          ],
          "name": "stdout"
        }
      ]
    },
    {
      "cell_type": "markdown",
      "metadata": {
        "id": "XQmfH_0gKPvI"
      },
      "source": [
        "# Úloha A"
      ]
    },
    {
      "cell_type": "markdown",
      "metadata": {
        "id": "XQTfdsWULCcs"
      },
      "source": [
        "## Zadání"
      ]
    },
    {
      "cell_type": "markdown",
      "metadata": {
        "id": "TD534AMFLBlz"
      },
      "source": [
        "Společnost vyrábí 3 druhy balených čajů (A, B a C), každý se skládá ze tří\n",
        "surovin (čaje S1, S2 a S3). Formulujte úlohu jako úlohu lineárního\n",
        "programování a určete, kolik kusů čaje A, B a C se má vyrobit, abychom\n",
        "maximalizovali zisk z prodeje s respektem na skladové zásoby surovin S1, S2 a\n",
        "S3. Určete zisk z prodeje.\n",
        "\n",
        "|      | S1       | S2       | S3       | Cena      |\n",
        "|:----:|:--------:|:--------:|:--------:|:---------:|\n",
        "|Čaj A | 10 g/kus | 20 g/kus | 10 g/kus | 4 Kč/kus  |\n",
        "|Čaj B | 10 g/kus | 10 g/kus | 30 g/kus | 7 Kč/kus  |\n",
        "|Čaj C | 20 g/kus | 20 g/kus | 20 g/kus | 8 Kč/kus  |\n",
        "|Sklad | 40 kg    | 50 kg    | 60 kg    |           |"
      ]
    },
    {
      "cell_type": "code",
      "metadata": {
        "id": "7e-locKYJ2qb"
      },
      "source": [
        ""
      ],
      "execution_count": null,
      "outputs": []
    },
    {
      "cell_type": "markdown",
      "metadata": {
        "id": "g_-s88VFLXva"
      },
      "source": [
        "# Úloha B"
      ]
    },
    {
      "cell_type": "markdown",
      "metadata": {
        "id": "vyd0ier8LaEn"
      },
      "source": [
        "## Zadání"
      ]
    },
    {
      "cell_type": "markdown",
      "metadata": {
        "id": "AYOZIRqgLbl5"
      },
      "source": [
        "Ze tří složek je třeba namíchat 20 kg směsi. První složka stojí 10 Kč/kg, druhá\n",
        "10 Kč/kg a třetí 30 Kč/kg. Přitom směs musí obsahovat alespoň 50 procent druhé\n",
        "složky, maximálně 60 procent druhé složky a minimálně 15 procent třetí složky.\n",
        "Formulujte úlohu jako úlohu lineárního programování a určete hmotnostní podíl\n",
        "složek ve směsi tak, aby byly surovinové náklady minimální."
      ]
    },
    {
      "cell_type": "code",
      "metadata": {
        "id": "dWORXpN_LrPg"
      },
      "source": [
        ""
      ],
      "execution_count": null,
      "outputs": []
    },
    {
      "cell_type": "markdown",
      "metadata": {
        "id": "1h8Yun8xLrnq"
      },
      "source": [
        "# Úloha C"
      ]
    },
    {
      "cell_type": "markdown",
      "metadata": {
        "id": "agt73nSpLtfo"
      },
      "source": [
        "## Zadání"
      ]
    },
    {
      "cell_type": "markdown",
      "metadata": {
        "id": "zSS5HTtRLvJo"
      },
      "source": [
        "Na obrázku níže jsou uvedeny propustnosti cest mezi uzlovými body. Vyřešte, které cesty a jak budou využity s cílem optimalizovat (najít maximum) přesun jednotek mezi vrcholy A a G."
      ]
    },
    {
      "cell_type": "markdown",
      "metadata": {
        "id": "Ea51on0sLz4K"
      },
      "source": [
        "![obrazek.png](data:image/png;base64,iVBORw0KGgoAAAANSUhEUgAAAcQAAAEwCAYAAAApXAEQAAAgAElEQVR4nO3dX2wUV74n8H664o6udpHursTLKl7pPvAWELoI9Wg1ZB7AozsbkWhWJmPuHTu7KryTyYRoBTFjR2B2wQNCcqOEaf70jJFJ1NhDbDmEbgKEVmIiDxDiIDnAuCd0dj2sRbKoBVgqC3T13Yfjcne7/9WfU1Wnqr4fqTQ3yQ2pbh+f76lzfudUDERERISY3zdARESkAgYiERERGIhEREQAGIhEREQAGIhEREQAGIhEREQAGIhEREQAGIhEREQAGIhEREQAGIhEREQAGIhEREQAGIhEREQAGIhEREQAGIgkyf0HjzBy4RaSZybR2TtSdR157yreO/cl7j945PetEhHVxEAk2x7PL+D3H1zHz948jU1aCm8NfIz9Jz7FWG6m6jr4h6voeecSNmkpvPjaKSTPTOL74rzfH4FCgIMxkoWBSJYtPH2G1Nlr2KylsDd5BRcnv8XM7BPTV+6LWew/+Sk2aSkMnL6Kx/MLfn8kBeSR0eKIxWKIaRm/b0Z5HIyRGxiIZMnEzQI2ayn0HcthauahpSBcfk0Xijg0eBWbtRQyn931+6P5J5+BFo+JMGQgNsTBGLmJgUimnf7wJl59+yyu3X7gKAiXX1MzD/H6gXP4bSrn90f0XD6x+FQYi0PTNAZiAxyMkdsYiNTUwtNn+M2RC+h957LUIFx+Jd77E7b3jWLh6TO/P7JHMtBiMcS1BPIAkGEg1sPBGHmBgUhN7Tx8HidHv3Q1DI1r5NJtvL5/PDKhmM/nS3/BQKzCwRh5iYFIDZ3+8KbrnVGtzimSI3YGYhUOxshLDESqa+JmAa++fdbTMDSutxIfYzj7ld9fgbcYiBU4GCOvMRCppoWnz7BZS0lfszF7TReK2KSlolUez0BcwsEY+YGBSDUdTU+iP/WZLx2ScR09cx37kpf9/iq8w0AEwMEY+YeBSFW+L85jk5bCdKFoogMZRVusbA9d2bV2XSd6hm456pxeemMId+995/dX4g0GIgAOxsg/DESqkjwzif0nPzXZeRiBuB5r2zvRZlzrSsHYNmS/YzrxwZfoOXLB76/EGwxEi4OxxgMyp+0vUoMxAsBApBpefO0Ucl/MWuyQOpFa9s8uDXWKTmndQVyyGYhTMw/xQufxaFT+MRAtDsYaDMjKrtQEB2NkDgORKtz760P89JenbHRI1YHY+J+Zv7btHsaN6Vm/vxr3MRAtDsbktbHID8YIAAORlkmdvY6+YzmlAvHd9HXsO/aJ31+NKzIJDZq2eMUXj3GLx0t/LxGdcLQ+GHM3ECM1GCMADERapufIBZz4wMpG6AZTpnvXiw6+fdRRpzSWm0Fn74jfX40L8kjEG69/xeKLx7pFgPXBmPuBGObBGFVjIFKFzt4RjOVmbHRItYtq1rbbXz80rs9vzWHz9pTfXw25zPpgzP1ADO9gjGphIFIF+2s49a71aNvrbOvFdKGIf2x7x++vhlxmfTDWYEC2ePU4qHDmYCx6GIhRVCwC2SywZw/Q0QFs3Lh0vfmT/2FxQ3TjKtO1ErZezMw+wY1//w9ALGbuWrGi4jMpe+3YIX4Gja5kEsjlnF/Foletyzbrg7HmA7K1HIyRBQzEqJicBLq6gDVrgJUrgdZW0eEODlZ0nJu3p/D5rTkpgTgz+wQzErZezMw+wfMvD5j/rLouJ0TcvgYGmgdiV5ec8F250vyAwsfr//30ZZuB6M6U6czsE4w/t770PW7dKn4u2az59kiBwUAMs0IB6O8HWlqADRvE08bUVMN/xf4aYp0OaeLg4lOi/Q6L01YhMTYmZiRWrqwMlz17gFwOO//zTlz/xOoTnfuB+JPWt0uDmHRa3G9rqwjx1lbxexWAJ3BqjoEYRoWC6HhaWoDubvHXJu08fB6D418pFYgfTXyD9l1p174uclEuVwrBLVvEjESd8HC2huhOIDYdjGWz4il+1SrxOScnXfkayRsMxDApD8LBQVt/ROL0VRwavCqpQ7qFVHvM8daLwfGvsPPwealfFbkslytNMzYIwXLWB2PuB6LpwZiui8+5YYN4arQwCCV1MBDDQNfFk6CDIDTcmJ7Ftt3DNjqk6io/o6Amts5ZZ/WrA+eQnbgr57sid01OloIwl7P0r1ofjLkfiLYGY9kssHq1+J3UdWv/LvmKgRh0k5OiUKa/X9of+ePOExYqTRtU+a1bj7a9o46KaaYLRbzQeRyP5xekfT5ywZ07Ykp0wwbLQWiwPhhrPCBb2nox4cNgTNfF7+Tq1ZxGDRAGYlAZT4UbNojOSKJ9xz7Bu+nr0kfbdq7hi7fR1Tcq9fORZMmkGJSNjTn+o6wNxpoMyBxuvZAyGCsUxO+oxAEruYeBGERzc2JKyqVfsrv3vsNLbwz5HoYzs0+wvW8MV679xZXPSQ4Vi6JStKtL2tRgaAdj3d3id5bVqEpjIAaNMUXq8jSMvQIHuRePzVKY0Q7Tcqt/Qz0YMwqNWHCjLAZikCST4hdqbs71/5T1F7XKv/iCVkX194tpQJc69lAPxqamGIoKYyAGhXFqiYdVayf/eA37jlt9+4Cc6+jwdexLXvbss5JJHR1i+s9FoR+MFQri6brJIRnkPQZiEBinefjAj9H6WG4G2/tG+WJWlei6WC90uK3HrNAPxopF8aTIUFQKA1F1PoYhACw8fYaf70rj4uS3nnRGn9+awys70/i+OO/bZ6ZldF1sqZC8XthM6AdjhQKnTxXDQFSZz2FouP/gEX7RM4L3M9OudkYfTXyDV3amcf/BI78/MhmMJxkfDrOOxGDszh2xHsvqUyUwEFWVTIo1Q0U8nl/A6wfGcfiU1ZNEzE9TdfSO8MlQJUYY+rixPBKDsakpEYo81cZ3DEQVZbPiPEQFDQxN4KU3hjB88ba0jmjb7mHsS17mmqFKikVlCj8iMRgbHBQFS+QrBqJqAjBavHvvO3T1jWLb7mHbwSjWasbQviuNG9Ozfn8kKqfrYkBm8wg2t4R+MNbVJWaGyDcMRJUYxzx5sM9QhhvTs+jqG8UPt/0Obx4SBRD1Xt/z0cQ3eD8zjTcPnccLHcfR2TvCE2hUtXWr5wU0ZoV6MKbrvk9RRx0DUSU23hCggsfzCxi/8jV2Hj6Pzt4RPP/yAHZseBXPvzywdLXvSuPXB8YxfuVrrhOqrLs7EOduhnYwViiIA8EVniEKMwaiKhQronGM6yHBE8A2WGswtvwK3GBsYADYscPvu4gkBqIKwjgqZCAGSzYr9hqGqQ0Gla6LpRMFCpqihoGogoBOlTbEQAwO7oVTj3EQOHmKgei3AE5TmcJADAZdF9srJL9TkyRQuLgprBiIfgrjVKmBgRgMO3aINStSz9wc0NISzv5BUQxEP4VxqtTAQFTf2JhYNyR1scDGUwxEv4R1qtTAQFTb3JyYKg3IntfIYoGNpxiIfojCVAgDUW1hnp0IGxbYeIaB6IcoHNHEQFSXIm9RIQu2bBFT3OQqBqLXpqbEVFXYMRDVFICzcqkGrvd6goHotaiM9BiIatqwgWdlBlVLC18m7DIGopei8nQIMBBVFPZCrrDr7xdnzZJrGIheisrTIcBAVA2rSoMvCsV4PmMgAkA+g4QWRzwWQ8y44hoSmby8/8bcHLBqlbw/T3UMRLVEoZArCnh6jasYiJnEUhDG4xo0TYMWLwVjPCEpFAPyWh1pGIjqiNJUfdhNTop1YHIFAzGjIa4lsPxhMJ+ILz4pJuA4EnVdTHVEabqKgaiONWu4sTtM+PN0DQOxnrzx5Kgh4/TPimLJNANRDTz6K3xYHOUaBmI9RiDKeEKM4qkgDET/RXFmIgp0HVi5ksU1LmAg1pRHIi5pDbFYFMU0UWu8DET/8ekwvDo6gMFBv+8idBiIAIAMEtpiQY22uHYYi0OTUVAzOBjNcIjiZ1YJS/TDLar9issYiEDZemHlVavYxrLWViCblXKbgWLqlzWPjDEA0Ryv1FI5vucw3IpFMW1KUjEQa8jnM2VbLxwU1UR1uhRoHogV3zEDUSo+HUZDFGsTXMZArEvCOmKUpzUafO6lLS2xODRNYyDKxqfDaOBbS6RjIDaw1HHb7ayjfDpI3UDMQFucjs4DQIaBKFXNp8PS4C4Wi4FfddDU+flxk750DMQGMprD6bwob6Bt9ISYL3viZiDKVevp0PiOGYjBVO/np+vAihW+3lrYRDwQ80jE49BqVc6UFdrY6kCivuhtdqqYgShPw6dDDZrGQAyeJj+/KA+6XRDxQCx7CozFENdqnGVqt/eI4uk05RiI3qtxXq4x7a9lSm2dX3VwNP35cT+iVJEPRCCPfCYBLR6vmJaIO33bRdQLGxiI3qp5Ko1YrzVOW2IgBo2Jnx8PX5CKgeiWqO4/NDAQvVXjfEvRgcZhFEkzEIPF1M+PhTVSMRDd0tICFAp+34V/GIjeWr6WZKyBl32vDMQAMfvzi9p7Vl3GQHQDq78YiF6qWq8uFWKUf6sMxKCw+PNbsYKHMEjCQHQDX8jKQPTSli0iFA2L3+nyAyUYiAFh9ee3ejVw54539xdiDEQ3RL3CFGAgeqVq8LVYiFHjyEEGYhDY+PlFvV5BIgaiG/r7RQl8lDUIxEzCeLOIVqrujcdLfy/BHtu05dXMxgAjXvYdL17xeKmCWtM0yHiZC0lm5+cX5ROxJGMguoFnDDYIxMpjqGpeMl7KHAU1XhRbOie2+eX4XZ8kna2fH/sbaRiIbmADje6h5l5Kp4GtW03/v3PKNNjq/vzY30jDQHQDT4/gGqoXLK4dMRCDre7Pr8YeVLKHgegGBqJ4Vxu5x8b+MwZisNX9+UX5NXOSMRDdsHWrmM6KMgaiu3hkFxkYiNIwEN3AN1kzEN22YYM4tosol+PvmyQMRDcwEPkL6qY7d8RmbCKAgSgRA9ENfEcZf0HdxKpCKscDvqVhILoh6gd7AwxEN7F9UblCQbQJcoyB6AZ2WAxEt3B6jJZjIErDQHRDjF8rO22XcLqUlisWxYlF5Bh7btlY8CAwEN3B9WmqZdUqsTeVHGEgysY3XQgMRPk4NUb1cBuOFAxE2bhhWmAgyscjuqgeHgYiBQNRNr6KRWAgyrf8RcBEhu5u8do5coSBKBunLgQGolw1XvVEtISzB1IwEGVip1XCQJQrmxVvtyCqZWpKFFyRIwxEmXhiRAkDUS5OxVMjHIxLwUCUiQU1JQxEuXjYAzXDLTmOMRBlYtFDCQNRHu5tJTM4i+AYA1GmlSvFqRHEQJSJ77sjM1hY4xgDURauH1ZiIMrT0SFCkagRHtzgGANRFu4DqsTTeuTh2hCZxbVmRxiIsrAhVuIUnxw8uJms2LFDFPeRLQxEGThdWo2BKAfPxiUr+HowRxiIMnC6tBoDUQ62LbKC+xEdYSDKwFevVGMgyrFxoxj1E5nFIizbGIhOcUqrNgaicxztkx1cwrGNgehUa6s4Z5IqMRCdY8dGdrEy2RYGohPc91MfA9E5HgVIdnGTvi0MRCdY4lwfA9E5HsVFdum6qG3gyVmWMBDtmpsTT4dc36mNgegc361JTnDAbhkD0S42tsYYiM7xbFxygofCW8ZAtINPh80xEJ3hCTUkA7ftWMJAtINPh80xEJ1hhSnJwG1hljAQreLToTkMRGdYJUgy6Lror3hwiCkMRKt83XeYR0aLIxaLIaZlfLoHkxiIznAWgmTh+zRNYyBa4WfDymegxWMiDBmI4ccDH0gmViybwkA0a25OVGz5UPWXTyw+Fcbi0DSNgRgFPB+XZJqaEqfXUEMMRLN8G7FnoMViiGsJ5AEgw0AMPVaYkhs4Dd8UA9EMnwsc8vl86S8YiOHH/WPkhmJRtCvOPNTFQGymUBCNSJWqUgZi+PElr+QWFtg0xEBsRrWNrQzE8GOnRW4KUIHN/QePMHLhFpJnJtHZO1J1HXnvKt479yXuP3gk5b8nJRC9vmnPqLgXTNFAXN4GfvPfB8LRBvzQ3w90d/t9FxRWihfYPJ5fwO8/uI6fvXkam7QU3hr4GPtPfIqx3EzVdfAPV9HzziVs0lJ48bVTSJ6ZxPfFedv/bduB6OdNe0K1qVKDQoEY+jbgFxY/kNu6u8XASyELT58hdfYaNmsp7E1ewcXJbzEz+8T0lftiFvtPfopNWgoDp6/i8fyC5XuwHIgq3LTrikUxgioU/L6TagoEYiTagJ+2bgXSab/vgsJM18VykCJTpxM3C9ispdB3LIepmYeW+pPl13ShiEODV7FZSyHz2V1L92EpEFW5aVcp1lCq+ByIkWgDflNt3ZrCqVAQA3+f36hy+sObePXts7h2+4Gj/mT5NTXzEK8fOIffpnKm78V0IKp0067askUciKsqHwMxMm3Aby0tas5OUPj4ePj3wtNn+M2RC+h957LU/mT5lXjvT9jeN4qFp8+a3lPTQFTxpl3T0SEq/FTmQyBGqg2oYMUK9dauKbz27BGXx3YePo+To1+62qcY18il23h9/3jTvqVpIKp4065QOAwzCQ2atnjFF49xi8dLfy/hbjhGpg2ogKfUkB887v9Of3jT9QF2rQF3s1mohoGo6k1Lp3AYAnkkyg/1rnXFF491c0Fk2oAqCgUxZUrkNY+WiyZuFvDq22c97VOM663ExxjOflX33uoGoso3LY2uKx6G/opEG1ANj20jv+i662c2Lzx9hs1aSnodgtlrulDEJi1Vd8tXzUBU/aalmJsT1XwMw5oi0QZUxGPbyE/FonhSdGnbz9H0JPpTn/nSpxjX0TPXsS95ueb91QxE1W/asclJUW6s6tYKBYS+DaiKgUh+03WxFzaZlPrHfl+cxyYthelC0UZ/cAuXhg6ibd36yuWideuxtv0gUhO3LP15L70xhLv3vqu6x6pAdHbTT3Bpb+mG24acdYj1btqRZFJ0ODzxvS7bbWBiFD3t67G2ZoNVqA2ojIFIqujqEqcmSZI8M4n9Jz+13g9MHKzsU2LrsXbdeqxdV1lLYSVvTnzwJXqOXKi6x6pAtH3TiyneU36T7aOOArHeTdtSKIj58a4ulrQ3YacNlA+EYrHYYoMt/3udSPndBoIgnRajcyIVDAyIw8Al7It98bVTyH0xazsM6w6sFwfiPRYCcWrmIV7oPF5VzV4ViLZuevnNt3eizUEn2OymLevvF4UKvrzgN3gst4GhzrJRWvXUxaWJUbStO2irLUhrA0HBN12QaowlJgfrivf++hA//eUpi7//o4s5EsPavdamRM1c23YP48b0bMV9xpzfdFnHt/iU0Db0BKl2OdOmtW7atFxOjG66u/lUaJL1NlBqtE5/1q60gaBhIJKKikUxc9HaautpMXX2OvqO5az97hsD7XUHccmFfuXd9HXsO/ZJxX3GHN/00mVMly4+FUr6MLVuuiljHUblM0kVZbkNuNxobbeBoFLxlWNEhmxWzLZZfMjoOXIBJz6wdriH8VDlxtPhzOwTjOVm0Nk7UnGfMac3XdUxLq0bGgG5Hj0Tcm+6Jl0Xj/RGEPJwZFustgG3G62lNhAGPh2jRWSarotlqJYWEYwmnhg7e0cwlpux8Htfqkdxa+bp81tz2Lw9VXGfMWc3vbxjrAw/YwrVSWdZ66Yr5HJiimnVKvFIzyB0xFobcL/RmmoDYcJApKCYmysFY2ureCCpU71vvTbFWIqpfqBaXsBnd1fDdKGIf2x7p+I+Y85uetnNL582M4psHEynVdy0rovA27NHPAWuWFHaXO/zK0zCwlob8CYQazXc0GIgUhBls+KBZNUqUYDT1gZs3iyCcs0a/PnfPYf/3f0/LfzeN5hhHDqItvbOpWutgz7o+ZcrX8RdEYg/7jxh72SSxenS6idBZx3mv/7tD4BYzNnV0lKaRvXyMjq2gF0vticstAFvAnFm9gnGn1tf/R3v2CHuO5kUA6UwDIq6uqRviCbyhPEqqb/5G+C550RB4+rVwJo1+Obv/wO+uHDDRiA2n2F0UsDZMBA3b0/h81tzlv/QpXWkdZ0Vyd3W3ok2Y1+ijT2Js6MX8X9PvI//+p9eEyOQPXtEh7F6tXgjQGtr86fDQkF0ll5fCoSbnetffv5bS23AizXEmdkn+Enr29Xf8cBAqU1s3CjahDFr0NXVcApHWTxbl4KkWBQDuJaW0uHgNYpt7CzHLU2NNplhtBuI7qwhVp0iUO+ytyex7vpRsShCsnz9kPsMHbPaBsw2WieXpTVEY1o9maycwtmxo+4vq1IYiBQU6bR4OOnqalpYs/PweQyOf2Xxd9/cPkS7gfjRxDdo31W5tzLm9KabF844m1arddNVjArTxflqpd94rzjLbaBsQOTWtKmpNtDI1JR4mtyyRTxFbt3q2uHFjql8b0SAeCPLxo2irZqcgUmcvopDg1et//6XHfqxtn0UlyZq5IvNQBwc/wo7D5+vuM+Ys5s2t7Vi6SnCxrRprZtuaGpKdHwMRlvsNFxjhBaLra95Us3MxCja1nXaPs/UchtoxBg8bd0qwrGjQ63KZG4ZIpUlk6JvtdhGb0zPYtvuYVu//5eGOmufZeqwyvRXB84hO3G34j5jjm7adBVp/RJaOzdtihGMra3BW0fykb2Gewup9mZnmdrfj2q7DTRTLIrpyY0bxdTP4KD/U6oMRFKR8e5YB2dB2y7aNPqYvZ1VB3rH1q1H217rLw+YLhTxQudxPJ5fqLjHqrNMrdy0lX2Gdoov6t20JcbJClyXMc1uw238ehZ7YSilDZhx5474hW9pEXur/KpYZSCSagoFUTHqsA/dd+wTvJu+bjMQ5V7DF2+jq2+06h6rAjEIN21ZsSg6u9bWcJTmuyyUbcCsuTlx+saqVeJ/vW4vq1eLcCZSQaEgBmlTU47/qLv3vsNLbwz53qfMzD7B9r4xXLn2l6p7rArEINy0bdmsmP+W8MMNs1C3AbOM46lWr/Z2X2BLi5RX7RA5ZoShxPZor9pU7tXoKMiqQAzCTTtiPP6zkq+hULcBK+bmxLqJjUICW1at4po3+W9qSnoYAs5fQC/javTS8ZqBqPpNO6brospQ4tugwyb0bcAqo4PYssXdwIrV/JUk8o4LT4blTv7xGvYdt/tWJWfX0eHr2Je8XPfe6v72qXzT0gwM8N1zDUSiDVg1NuZekVahIKZMifyi62IGzeVlJT9moMZyM9jeN9rwZeMNh6Oq3rRUfCFrQ5FoA1aVF2nJfFqcnBSdEZFfWls9OfFr4ekz/HxXGhcnv/WkT/n81hxe2ZnG98X5hvfVMBBVvWnpGIp1RaYN2GFs6ZG1Hm0cjkzkhx07xKyZR+4/eIRf9Izg/cy0q33KRxPf4JWdadx/8KjpPTVdsFDxpl3BN5XXFZk2YEexKG89mm2Q/OLTYOzx/AJePzCOw6dsHOtm4jo6fB0dvSOmB9imVvBVu2nXdHeLUnuqEpk2YNfAgChEcLJvke9CJD8UCqKK2sc92gNDE3jpjSEMX7wtbXC9bfcw9iUvW1p6sVTSpspNu4pvG2goEm3ArlzO2T5Xtj3ymq6LgdzkpN93grv3vkNX3yi27R623b+I+oMxtO9K48b0rOV7sFzjrcJNu0rXxdQBXyVVV+jbgBNO9rl6VNBAtETBWYkb07Po6hvFD7f9Dm8eEkV99V5J99HEN3g/M403D53HCx3H0dk74uggD9ubnvy8adcVi6JYghukGwp1G3DC2Odq9WmPpyiRl+bmxDYfvw+0r+Px/ALGr3yNnYfPo7N3BM+/PFB1te9K49cHxjF+5Wspyy2OdwH7cdOeyGbFiJ2aCm0bcMrqFOjKlTxrl7zDd29W4bEYjXBNh5zq6DBXqFUsikAk8sLUlJiRoAoMxEY4dUoydHc3X6fhpnzyEqfna2IgNsOpU5Kh2aZn7kEkr6TTYrqUqjAQzeDUKcmwZYvYAF2Lx6eEUETpuiik4axXTQxEM3RdTJ3yPXXkhK6L2YZar5HilgvygoLbLFTCQDQrlxMbWImcKBbFWuGdO5V/n+9BJLcpvs1CBQxEK7q6vH17OoXT8qOyWGFKXhgY4Dtgm2AgWsERFslSfpgyK0zJC6tXV89MUAUGolUsfiBZjLbEClNyG5d8TGEgWsWnRJLFOFi5rY2DLHIXT6UxhYFoB58SSZZCAfi7vwPOnfP7TiisOIg3jYFoBxsYyaLrwA9+APzzP/t9JxRWLKYxjYFoFzfrkwzGmZIbNijxTjoKIRbTmMZAtIuH45IMxuid7YncwGIaSxiITvCAXHKq/Dg3rk2TbCymsYSB6MTgoJg6JbKrpaV0JCDfrkIy6bo4AYnv2DSNgehEsSgaHItryI5CQQRiuf5+8booIqc4XWoZA9EpHspMdtWaYWAFM8nCg7wtYyA6xWlTsqvemiHXEkkG1jhYxkB0itOmZFe9DotPieQUD4y3hYEoA6dNyapmHRb3uZIT5YfHk2kMRBl4EgRZ1WyqPZsVAy0iO7h+aAsDUQZuqiarmu0PY8k8OVG+v5VMYyDKoOti+otrPmTWypXNw47TpmRX+f5WMo2BKMvGjWLfD1EzZveHcdqU7GBBjW0MRFk4Z09mdXeLDfjNcNqU7OCGfNsYiLKk02JdiKgZK28f4FoQWcW90bYxEGVhYQ2ZUeu4tkY480BWmZ2BoCoMRFk4b09mWN2iw/1kEZZHRosjFoshpmXM/2t8w4VtDMQqNhshINZ7+KYCasTqIQ4caEVTPgMtHhP9kNW+iC+bto2BWM5JIwTYEKkxu0eysYQ+UvKJxQF5LA5N06z3RWwvtjEQFzluhAD3jVFjySTQ1WX93+OWngjJQIvFENcSyANAhoHoJQYiACmNEGAgUmN2ZxBYaRop+Xy+9Bd2+qIYu3W7+M0tctwIAb62h+q7c0dst7CDA63oYiB6it9cLXYDkSXyVI+TtsEy+uhiIHqK31wtDESSzcm6DttVdFnti1iV7AgDsRa7gWi3aILCzelRWnZPHslnkNDiiMfKKqfjGhKZfPN/l9RgtS+yevADVWAg1mI3EHlkEtXS1SUGS3bZOQqiEacAAA0SSURBVBYwk1gKwnhcg6ZpFVuK4gmGYiAwED3FQKzFbiDyPFNaTsYB3XaeMDMa4loCyx8Gl7YXxRcrqkltDERPMRBrsRuIPGWelpMxSJJ5Tm7eeHLUYLF1kx+s9kXsgxxhINbCQCRZ1qwRgeaEzFG/EYh8QgwGBqKnGIi12A1EvvGCyk1Ois34Tum6qBy0euRblTwSca4hqi6TWFzz1TRocWOKO176e4kG/RKXbRxhIC5y1AgNug6sWOH+zVIwyDxhxtaTZgYJo/1qZUcTMgwVVhq01L0aPd1zi44jDEQAjhthOZ4jSIA4yHvVKnl/np1TkPKJyi0XRoVpjWIbCgmeauQIA1E2q6/3oXCSfYyfhC09+Yq3ubCoJpR4ELwjDETZnO45o+CTsdViOWnr01xHDDW+k9URBqJsVt+ITuHjVhtYuVJKyC7tRbRaNEZq47FtjjEQZZNVWUjB5dY6sqT1oYxm8wXYpLZsVizZkG0MRNmklchTII2NiepSN5ju8PJIxOPQalXOlBXaMA9Dpr9fvBmFbGMguoEL29ElYyN+PRbWJpeeAmMxxLUaZ5kyDcNn61axD5FsYyC6gXuBosmL9WPT06Z55DOJ0p7asoO++baLkFq9WryImmxjILqBxydFj66LtUO3K/y4TkS1yN73GlEMRDe4UXZPavOyutjNaVkKJr56TgoGolt4YkR0ePV0aHCzcIeCif2NFAxEt/CQ3ejwY+8pnxKpnKQ9qlHHQHQLt19Eg9dPh4ZkUpyKRMS37EjDQHQTy6DDz6+KYl0XVYU8SJ66u8UeRHKMgegmVpuGW6EgQsmvWQCuJZJfMxQhxUB0G9d6wkuFN5vIfOciBQ8HRVIxEN3Gw77DSZWOyO+nVPKXCoOyEGEguo3FNeGj2jQVT0aKpkJBtEOShoHoBdkviyV/qVbEoOtirXpy0u87IS+p1g5DgIHohbk5MZLjU2LwTU2J13up9rMsFMR6NfeiRYNqsxQhwUD0Cp8Sw0HlN5mosq5J7uPP2hUMRK/wKTH4glAgxYFXNLCYxhUMRC+xswquyUnxdKj6gIbrieHHk2lcw0D0Ek8XCSZdFx1QUN41Nzcn1jnZzsKJe09dw0D0Gk+vCZ4gvkngzh0RiiyyCRe+D9NVDEQ/sFw6OIL8nrmgTPOSeTz5ylUMRD8EbQouqsKwlYHViOERhKKugGMg+mVyUkxpkZrCVJwyOCjevMInxeAqFkX9AfcduoqB6CceuaWusL26K50WT4oMxWBihbonGIh+0nXxlBjANYH7Dx5h5MItJM9MorN3pOo68t5VvHfuS9x/8MjvW7UurAMVoyAjyFPAFoSmjd65I6buOZhxHQPRb6oeBVbD4/kF/P6D6/jZm6exSUvhrYGPsf/EpxjLzVRdB/9wFT3vXMImLYUXXzuF5JlJfF+c9/sjNBfkIhozjCrnkE69hbKNcpuFZxiIKujvF5Wnilp4+gyps9ewWUthb/IKLk5+i5nZJ6av3Bez2H/yU2zSUhg4fRWP5xf8/ki15XLiCSoAgxNHjI3dAZyZqCe0bTTsAzTFMBBV0dUFJJN+30WViZsFbNZS6DuWw9TMQ0udzPJrulDEocGr2KylkPnsrt8frVLU9u0Zm/dDsE4a2jbKqVLPMRBVotj5hKc/vIlX3z6La7cfOOpkll9TMw/x+oFz+G0q5/dHFAoFMY0YtZNddF0UDwW4lD+0bZRbs3zBQFSJIkU2C0+f4TdHLqD3nctSO5nlV+K9P2F73ygWnj7z78NGNQzLDQwEbl0x9G00bFXOAcFAVE2h4Hso7jx8HidHv3S1ozGukUu38fr+cX9C0VhLi3IYGnI5sc8tIEfUhbqNhrXKOQAYiCoqFsWI3YdQPP3hTddH3bVG4Z5PTRnVllFZMzSjWBQFHK2tSj8thrqNsojGVwxEVfkQihM3C3j17bOedjTG9VbiYwxnv/Lmg0ZsP55l2ayyT4uhbqPZLA9P8BkDUWXFomeVgAtPn2GzlpJenGD2mi4UsUlLub8PLJlkp2OG8bS4YYMyx9eFuo0yDJXAQFSdR5WAR9OT6E995ktHY1xHz1zHvuRldz5gsSg6nK4udjpWGGfubt3q+zRqaNsow1AZDMSgGBgQvzQuTPN9X5zHJi2F6ULRZMcwirZYDLEa19p169G2dxSXbHY4L70xhLv3vpP7AY2CEZ72YV86DbS0iGIPH6aarbXR+u1TXJ1IOQhFqW10cJBhqBAGYpCMjYmOXfJexeSZSew/+amFTsHocNZjbXsn2oxr3fqyTmc92oZuWe5sTnzwJXqOXJD34bq7A7elQFm6LgJx1SrxpO1hda61NloWiOvWY23VddBRIEppo7ouvsOODoahQhiIQTM3JwpCOjqkjdRffO0Ucl/M2gjEWiPtW0jtLQVj25C1zmZq5iFe6DzuvMTdOCOWL2KWT9fFWmxLi5hK9WCN0VobbdQ+nV+O26ixtUrBk6mijoEYVIODUqYB7/31IX76y1MWO4XmHc4lIxTXHbQ8fbpt9zBuTM/a+0BTU2IKas0aZYpBQi2dFp37mjWig3fhSdx6G3U3EG23UV0XA7TVq30/fINqYyAG2dxcqfO3GYyps9fRdywnPRDLp62sPiW+m76Ofcc+sfZBCgXH3wU5MDUlpgBXrRIzGIOD0mYwrLdR9wPRchvNZkXb7O7mFKnCGIhhUP5UNDho6Reu58gFnPjA6okf5jqcVPtioc1ea2uJY7kZdPaOmPsAY2Ni+rilhUGoimxW/EyMcOzvd/REZL2Nuh+IpttoOi3WsFtbeS5pADAQw2RqSnREK1eK/83lmv4rnb0jGMvNuBKIS9Om7aOW/vzPb81h8/ZU/Zs2QnDlSjEQUHADOUEMzLJZ8VS0Zk3p55VMirZp8gnSehutU/RlXDaKvSy10akpUXxkrLGa+D0kNTAQw0jXRUhs3Cg6IWOUXuMX03pBjfuBOF0o4scvHxL3m8uJe9+zpzoEedJMsBSLYjDT1VVqmytWiP+7q0v8jAcGSj/3xeu//cthm0VfdS6L7bFeG/0vP+kV92icPbp1q/hMa9aIv+YZuYHDQAy7YrE0St+4EYjFxLXYEX24+kc2Tv5wNxD/9d/829J9unEZnXAQru7uUocbxqunB/jFL4B/+ifgRz8SBTotLRXXn//+OdyY+j/S26fTa+Q/xsXPyPgs6TQHaQHHQIwqXRej77b/hc9vzbkSiHbXEGdmn+D5lwdc/+yBuIyn4whfp9e9iGtX/6xcILraRskXDMSIc28NsbSO0zNhraNpuoZIkWJ/DdG9QGQbDScGYsTtPHweg+NfSQ9EJ/sQP5r4Bu27+HJUEqy3UfcDkW00nBiIEZc4fRWHBq/KC8SJW0i1GyfVWH86nJl9gsHxr7Dz8Hm/vxpShPU26n4gso2GEwMx4m5Mz2Lb7mGbgbjsrMiKaj57YTgz+wS/OnAO2Ym7fn81pAjrbdT9QGQbDScGIuHHnScsVpo2ettFJ3qGbtl+28V0oYgXOo/j8fyC318LKcRaG3U3ENlGw4uBSNh37BO8m77uykja6jV88Ta6+kb9/kpIMWyj5AUGIuHuve/w0htDvnc0M7NPsL1vDFeu/cXvr0RBeSTipSdxLeP3/XiLbZS8wEAkAHarTeVels4wjZqMVjE1HbVABNhGyX0MRAJg9Y3k7lxS30QeKsbToQZNi24gso2S2xiItOTkH69h33Grr4KScx0dvo59yct+fwVKyifiSyGYiXAgAmyj5C4GIlXwY1pqLDeD7X2j9t9AHmoZaLEYYvEE8mAgAmyj5B4GIlVYePoMP9+VxsXJbz3paD6/NYdXdqbxfXHe74+uJBGAcSTy5X8d7UBkGyW3MBCpyv0Hj/CLnhG8n5l2taP5aOIbvLIzjfsPHvn9kdWUTyAeiyFWln4MRIFtlNzAQKSaHs8v4PUD4zh8yuqxbuauo8PX0dE7wlF3XaVCmvLsYyCWsI2SbAxEamhgaAIvvTGE4Yu3pY24t+0exr7kZa7HNLK4zSJuzJUu/W0G4nJsoyQLA5GaunvvO3T1jWLb7mHbnY4oShhD+640bkzP+v2RFLdYSLPs6RBgINbDNkoyMBDJtBvTs+jqG8UPt/0Obx4SlX713lP30cQ3eD8zjTcPnccLHcfR2TvC0z3MMjbhxzVoWuUVXzytJr74z5Y9QEYe2yg5wUAkyx7PL2D8ytfYefg8OntH8PzLA1VX+640fn1gHONXvuYajEXGvkMz1/IpVRLYRskOBiJRgHDKlMg9DESiAGEgErmHgUgUIAxEIvcwEImIiMBAJCIiAsBAJCIiAsBAJCIiAsBAJCIiAsBAJCIiAsBAJCIiAsBAJCIiAsBAJCIiAsBAJCIiAsBAJCIiAsBAJCIiAsBAJCIiAsBAJCIiAsBAJCIiAsBAJCIiAsBAJCIiAsBAJCIiAsBAJCIiAsBAJCIiAsBAJCIiAgD8f7w+TQ2pKW5RAAAAAElFTkSuQmCC)"
      ]
    },
    {
      "cell_type": "code",
      "metadata": {
        "id": "DVx8xKZ9L4Cl"
      },
      "source": [
        ""
      ],
      "execution_count": null,
      "outputs": []
    },
    {
      "cell_type": "markdown",
      "metadata": {
        "id": "2WsTY6yOMBEC"
      },
      "source": [
        "# Úloha D"
      ]
    },
    {
      "cell_type": "markdown",
      "metadata": {
        "id": "hwb-vtvBMCvi"
      },
      "source": [
        "## Zadání"
      ]
    },
    {
      "cell_type": "markdown",
      "metadata": {
        "id": "iBkVRiOOMFkx"
      },
      "source": [
        "Malujete obrázky a karty, které následně prodáváte a to za cenu 500 Kč (obrázek) a 200 Kč (karta). K namalování obrázku potřebujete 2 hodiny, zatímco k namalování karty potřebujete 45 minut. Zisk z obrázku je 250 Kč a z karty je 150 Kč. Protože máte i hlavní zaměstnání a toto realizujete ve svém volném čase, nemůžete malování věnovat týdně více než 15 hodin. Také nemůžete zvládnout vytvořit více 10 produktů týdně. Jakým způsobem maximalizujete svůj zisk z této činnosti."
      ]
    },
    {
      "cell_type": "code",
      "metadata": {
        "id": "ioJx_M1oMEhF"
      },
      "source": [
        ""
      ],
      "execution_count": null,
      "outputs": []
    }
  ]
}