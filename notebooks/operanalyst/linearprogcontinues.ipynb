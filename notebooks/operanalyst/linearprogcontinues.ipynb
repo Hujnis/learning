{
  "nbformat": 4,
  "nbformat_minor": 0,
  "metadata": {
    "celltoolbar": "Slideshow",
    "colab": {
      "name": "LinearProgContinues.ipynb",
      "provenance": [],
      "toc_visible": true,
      "include_colab_link": true
    },
    "kernelspec": {
      "display_name": "Python 3",
      "language": "python",
      "name": "python3"
    },
    "language_info": {
      "codemirror_mode": {
        "name": "ipython",
        "version": 3
      },
      "file_extension": ".py",
      "mimetype": "text/x-python",
      "name": "python",
      "nbconvert_exporter": "python",
      "pygments_lexer": "ipython3",
      "version": "3.7.6"
    }
  },
  "cells": [
    {
      "cell_type": "markdown",
      "metadata": {
        "id": "view-in-github",
        "colab_type": "text"
      },
      "source": [
        "<a href=\"https://colab.research.google.com/github/hrbolek/learning/blob/master/operanalyst/linearprogcontinues.ipynb\" target=\"_parent\"><img src=\"https://colab.research.google.com/assets/colab-badge.svg\" alt=\"Open In Colab\"/></a>"
      ]
    },
    {
      "cell_type": "markdown",
      "metadata": {
        "id": "Vu-0OKRFONHl"
      },
      "source": [
        "# Speciální úlohy lineárního programování"
      ]
    },
    {
      "cell_type": "markdown",
      "metadata": {
        "id": "ZScOkcWJOPu0"
      },
      "source": [
        "## Dopravní problém (vyrovnaný)"
      ]
    },
    {
      "cell_type": "markdown",
      "metadata": {
        "id": "EhFCp1-AOSOg"
      },
      "source": [
        "https://www.youtube.com/watch?v=kFd8WgNwokQ\n",
        "\n",
        "https://www.youtube.com/watch?v=Jr7LI-sUEmo\n",
        "\n",
        "Přednáška z konference ESRI v roce 2019:\n",
        "\n",
        "https://www.youtube.com/watch?v=DaB7J3rm_3M\n",
        "\n",
        "https://econweb.ucsd.edu/~jsobel/172aw02/notes8.pdf"
      ]
    },
    {
      "cell_type": "markdown",
      "metadata": {
        "id": "MUCS8zj-75U4"
      },
      "source": [
        "### Matematický model"
      ]
    },
    {
      "cell_type": "markdown",
      "metadata": {
        "id": "_5EIjsQROUSJ"
      },
      "source": [
        "$$min \\sum_{i=1}^{m} \\sum_{j=1}^{n} c_{ij}x_{ij}$$\n",
        "$$ \\sum_{j=1}^{n} x_{ij} = S_i,  i=1,...,m$$\n",
        "$$ \\sum_{i=1}^{m} x_{ij} = D_j, j=1,...,n$$"
      ]
    },
    {
      "cell_type": "markdown",
      "metadata": {
        "id": "3l6y_BjZn1H4"
      },
      "source": [
        "Je důležité ověřit si, že $\\sum_{i=1}^{m} S_i = \\sum_{j=1}^{n} D_j$. Pokud tato podmínka neplatí (požadavky nejsou v rovnováze s možnostmi), je potřeba úlohu doplnit."
      ]
    },
    {
      "cell_type": "markdown",
      "metadata": {
        "id": "yNxCwEXXOhnY"
      },
      "source": [
        "### Příklad"
      ]
    },
    {
      "cell_type": "markdown",
      "metadata": {
        "id": "mfxlPIerOWhA"
      },
      "source": [
        "| $D_i \\setminus S_i$ | $S_1$ | $S_2$ | $S_3$ | $S_4$ | $d_i$ |\n",
        "|:--:|:--:|:--:|:--:|:--:|:--:|\n",
        "| $D_1$ | 5 | 6 | 10 | 15 | 10 |\n",
        "| $D_2$ | 7 | 6 | 3 | 10 | 10 |\n",
        "| $D_3$ | 8 | 5 | 15 | 20 | 10 |\n",
        "| $D_4$ | 10 | 20 | 30 | 30 | 10 |\n",
        "| $s_j$ | 3 | 8 | 4 | 25 | 40 |"
      ]
    },
    {
      "cell_type": "markdown",
      "metadata": {
        "id": "IQI30AKqObVK"
      },
      "source": [
        "$$C=\\begin{pmatrix} \n",
        "5 & 6 & 10 & 15\\\\\n",
        "7 & 6 & 3 & 10\\\\\n",
        "8 & 5 & 15 & 20\\\\\n",
        "10 & 20 & 30 & 30\n",
        "\\end{pmatrix}$$\n",
        "$$D=\\begin{pmatrix}\n",
        "10\\\\\n",
        "10\\\\\n",
        "10\\\\\n",
        "10\n",
        "\\end{pmatrix}$$\n",
        "$$S=\\begin{pmatrix}\n",
        "3\\\\\n",
        "8\\\\\n",
        "4\\\\\n",
        "28\n",
        "\\end{pmatrix}$$"
      ]
    },
    {
      "cell_type": "markdown",
      "metadata": {
        "id": "pOUgiFAeOddg"
      },
      "source": [
        "### Řešení v Python"
      ]
    },
    {
      "cell_type": "markdown",
      "metadata": {
        "id": "xBAzYtnaPn5a"
      },
      "source": [
        "#### Implementace Vogelovy aproximační metody"
      ]
    },
    {
      "cell_type": "markdown",
      "metadata": {
        "id": "XHgJwCZ1P2Jx"
      },
      "source": [
        "https://www.youtube.com/watch?v=HVHPBAKTZWw"
      ]
    },
    {
      "cell_type": "code",
      "metadata": {
        "id": "dpFao-DlPviL"
      },
      "source": [
        "from collections import defaultdict\n",
        " \n",
        "def Vogel(costs, demand, supply, debug=False):\n",
        "    cols = sorted(demand.keys())\n",
        "    res = dict((k, defaultdict(int)) for k in costs)\n",
        "    g = {}\n",
        "    for x in supply:\n",
        "        g[x] = sorted(costs[x].keys(), key=lambda g: costs[x][g])\n",
        "    for x in demand:\n",
        "        g[x] = sorted(costs.keys(), key=lambda g: costs[g][x])\n",
        "\n",
        "    while g:\n",
        "        d = {}\n",
        "        for x in demand:\n",
        "            d[x] = (costs[g[x][1]][x] - costs[g[x][0]][x]) if len(g[x]) > 1 else costs[g[x][0]][x]\n",
        "        s = {}\n",
        "        for x in supply:\n",
        "            s[x] = (costs[x][g[x][1]] - costs[x][g[x][0]]) if len(g[x]) > 1 else costs[x][g[x][0]]\n",
        "        f = max(d, key=lambda n: d[n])\n",
        "        t = max(s, key=lambda n: s[n])\n",
        "        t, f = (f, g[f][0]) if d[f] > s[t] else (g[t][0], t)\n",
        "        v = min(supply[f], demand[t])\n",
        "        res[f][t] += v\n",
        "        demand[t] -= v\n",
        "        if demand[t] == 0:\n",
        "            for k, n in supply.items():\n",
        "                if n != 0:\n",
        "                    g[k].remove(t)\n",
        "            del g[t]\n",
        "            del demand[t]\n",
        "        supply[f] -= v\n",
        "        if supply[f] == 0:\n",
        "            for k, n in demand.items():\n",
        "                if n != 0:\n",
        "                    g[k].remove(f)\n",
        "            del g[f]\n",
        "            del supply[f]\n",
        "    return res"
      ],
      "execution_count": null,
      "outputs": []
    },
    {
      "cell_type": "code",
      "metadata": {
        "id": "aKZWdnonOoKU"
      },
      "source": [
        "import numpy as np\n",
        "\n",
        "C = {\n",
        "    'd1':{'s1': 5, 's2': 6, 's3': 10, 's4': 15},\n",
        "    'd2':{'s1': 7, 's2': 6, 's3': 3, 's4': 10},\n",
        "    'd3':{'s1': 8, 's2': 5, 's3': 15, 's4': 20},\n",
        "    'd4':{'s1': 10, 's2': 20, 's3': 30, 's4': 30},\n",
        "     }\n",
        "\n",
        "S = {'s1': 3, 's2': 8, 's3': 4, 's4': 25}\n",
        "D = {'d1': 10, 'd2': 10, 'd3': 10, 'd4': 10}"
      ],
      "execution_count": null,
      "outputs": []
    },
    {
      "cell_type": "code",
      "metadata": {
        "id": "xIqJ_t_3P8gD",
        "outputId": "3ed80b4f-2f1d-4211-a291-7e4b80f2a8e4",
        "colab": {
          "base_uri": "https://localhost:8080/",
          "height": 164
        }
      },
      "source": [
        "res = Vogel({**C}, {**S}, {**D})\n",
        "cols = sorted(S.keys())\n",
        "for n in cols:\n",
        "    print(\"\\t\", n, end='')\n",
        "print()\n",
        "cost = 0\n",
        "for g in sorted(C):\n",
        "    print(g, \"\\t\", end='')\n",
        "    for n in cols:\n",
        "        y = res[g][n]\n",
        "        if y != 0:\n",
        "            #print(y, ',', C[g][n], end='')\n",
        "            print(y, end='')\n",
        "        cost += y * C[g][n]\n",
        "        print(\"\\t\", end='')\n",
        "    print()\n",
        "print(\"\\n\\nTotal Cost = \", cost)"
      ],
      "execution_count": null,
      "outputs": [
        {
          "output_type": "stream",
          "text": [
            "\t s1\t s2\t s3\t s4\n",
            "d1 \t\t\t\t10\t\n",
            "d2 \t\t\t4\t6\t\n",
            "d3 \t\t8\t\t2\t\n",
            "d4 \t3\t\t\t7\t\n",
            "\n",
            "\n",
            "Total Cost =  542\n"
          ],
          "name": "stdout"
        }
      ]
    },
    {
      "cell_type": "markdown",
      "metadata": {
        "id": "2RXt2wL5iQAA"
      },
      "source": [
        "### Příklad"
      ]
    },
    {
      "cell_type": "markdown",
      "metadata": {
        "id": "FHM3XTeOiT29"
      },
      "source": [
        "| $A_i \\setminus B_i$ | $B_1$ | $B_2$ | $B_3$ | $B_4$ | $B_5$ | $a_1$ |\n",
        "|:--:|:--:|:--:|:--:|:--:|:--:|:--:|\n",
        "| $A_1$ | 12 | 8 | 10 | 4 | 9 | 10 |\n",
        "| $A_2$ | 3 | 3 | 2 | 6 | 10 | 10 |\n",
        "| $A_3$ | 3 | 7 | 10 | 3 | 2 | 10 |\n",
        "| $A_4$ | 8 | 5 | 4 | 3 | 5 | 10 |\n",
        "| $b_j$ | 11 | 8 | 7 | 4 | 10 | 40 |"
      ]
    },
    {
      "cell_type": "markdown",
      "metadata": {
        "id": "OfpoSDpHiY1Y"
      },
      "source": [
        "$$C=\n",
        "\\begin{pmatrix}\n",
        "12 & 8 & 10 & 4 & 9 \\\\\n",
        "3 & 3 & 2 & 6 & 10 \\\\\n",
        "3 & 7 & 10 & 3 & 2 \\\\\n",
        "8 & 5 & 4 & 3 & 5\n",
        "\\end{pmatrix}$$\n",
        "$$D=\n",
        "\\begin{pmatrix}\n",
        "10 \\\\\n",
        "10 \\\\\n",
        "10 \\\\\n",
        "10\n",
        "\\end{pmatrix}$$\n",
        "$$S=\n",
        "\\begin{pmatrix}\n",
        "11 \\\\\n",
        "8 \\\\\n",
        "7 \\\\\n",
        "4 \\\\\n",
        "10\n",
        "\\end{pmatrix}$$"
      ]
    },
    {
      "cell_type": "markdown",
      "metadata": {
        "id": "MVSAvQxOqHG1"
      },
      "source": [
        "### Řešení v Python"
      ]
    },
    {
      "cell_type": "markdown",
      "metadata": {
        "id": "n57OHCRwqM9l"
      },
      "source": [
        "#### Převod matice na dictionary"
      ]
    },
    {
      "cell_type": "code",
      "metadata": {
        "id": "uRThU_ikjGol",
        "outputId": "6dbd372a-c479-4073-a0cc-3d6ab752ef43",
        "colab": {
          "base_uri": "https://localhost:8080/",
          "height": 55
        }
      },
      "source": [
        "def matrix2dict(matrix, dnames, snames):\n",
        "  result = {}\n",
        "  for i, dname in enumerate(dnames):\n",
        "    result[dname] = dict(zip(snames, matrix[i]))\n",
        "  return result\n",
        "      \n",
        "CM = [[12, 8, 10, 4, 9], [3, 3, 2, 6, 10], [3, 7, 10, 3, 2], [8, 5, 4, 3, 5]]      \n",
        "dnames = ['dod1', 'dod2', 'dod3', 'dod4']\n",
        "snames = ['spo1', 'spo2', 'spo3', 'spo4', 'spo5']\n",
        "C = matrix2dict(CM, dnames, snames)\n",
        "print(C)"
      ],
      "execution_count": null,
      "outputs": [
        {
          "output_type": "stream",
          "text": [
            "{'dod1': {'spo1': 12, 'spo2': 8, 'spo3': 10, 'spo4': 4, 'spo5': 9}, 'dod2': {'spo1': 3, 'spo2': 3, 'spo3': 2, 'spo4': 6, 'spo5': 10}, 'dod3': {'spo1': 3, 'spo2': 7, 'spo3': 10, 'spo4': 3, 'spo5': 2}, 'dod4': {'spo1': 8, 'spo2': 5, 'spo3': 4, 'spo4': 3, 'spo5': 5}}\n"
          ],
          "name": "stdout"
        }
      ]
    },
    {
      "cell_type": "markdown",
      "metadata": {
        "id": "Bk5TjP37qUL5"
      },
      "source": [
        "#### Převod vektoru na dictionary"
      ]
    },
    {
      "cell_type": "code",
      "metadata": {
        "id": "KbWcJeKPkNnZ",
        "outputId": "bad55a08-5eb6-4c12-b504-c6a43993ad93",
        "colab": {
          "base_uri": "https://localhost:8080/",
          "height": 54
        }
      },
      "source": [
        "DM = [10, 10, 10, 10]\n",
        "D = dict(zip(dnames, DM))\n",
        "print(D)\n",
        "SM = [11, 8, 7, 4, 10]\n",
        "S = dict(zip(snames, SM))\n",
        "print(S)"
      ],
      "execution_count": null,
      "outputs": [
        {
          "output_type": "stream",
          "text": [
            "{'dod1': 10, 'dod2': 10, 'dod3': 10, 'dod4': 10}\n",
            "{'spo1': 11, 'spo2': 8, 'spo3': 7, 'spo4': 4, 'spo5': 10}\n"
          ],
          "name": "stdout"
        }
      ]
    },
    {
      "cell_type": "markdown",
      "metadata": {
        "id": "D_Ck3hLWqY7f"
      },
      "source": [
        "#### Vlastní řešení"
      ]
    },
    {
      "cell_type": "code",
      "metadata": {
        "id": "stAMhXlPlrwV",
        "outputId": "69f76e0d-95c6-4cf3-9e4b-728bb17c9753",
        "colab": {
          "base_uri": "https://localhost:8080/",
          "height": 164
        }
      },
      "source": [
        "res = Vogel({**C}, {**S}, {**D})\n",
        "cols = sorted(S.keys())\n",
        "for n in cols:\n",
        "    print(\"\\t\", n, end='')\n",
        "print()\n",
        "cost = 0\n",
        "for g in sorted(C):\n",
        "    print(g, \"\\t\", end='')\n",
        "    for n in cols:\n",
        "        y = res[g][n]\n",
        "        if y != 0:\n",
        "            #print(y, ',', C[g][n], end='')\n",
        "            print(y, end='')\n",
        "        cost += y * C[g][n]\n",
        "        print(\"\\t\", end='')\n",
        "    print()\n",
        "print(\"\\n\\nTotal Cost = \", cost)"
      ],
      "execution_count": null,
      "outputs": [
        {
          "output_type": "stream",
          "text": [
            "\t spo1\t spo2\t spo3\t spo4\t spo5\n",
            "dod1 \t\t6\t\t4\t\t\n",
            "dod2 \t10\t\t\t\t\t\n",
            "dod3 \t\t\t\t\t10\t\n",
            "dod4 \t1\t2\t7\t\t\t\n",
            "\n",
            "\n",
            "Total Cost =  160\n"
          ],
          "name": "stdout"
        }
      ]
    },
    {
      "cell_type": "markdown",
      "metadata": {
        "id": "zLv3-6VkqdZp"
      },
      "source": [
        "### Příklad"
      ]
    },
    {
      "cell_type": "markdown",
      "metadata": {
        "id": "D2bSsSLiqn9_"
      },
      "source": [
        "$$C=\n",
        "\\begin{pmatrix}\n",
        "30 & 10 & 5 \\\\\n",
        "15 & 20 & 12\n",
        "\\end{pmatrix}$$"
      ]
    },
    {
      "cell_type": "code",
      "metadata": {
        "id": "sJJxxCtZqgw2",
        "outputId": "fe0c6674-1cfa-471f-a8c4-cc4834c79e67",
        "colab": {
          "base_uri": "https://localhost:8080/",
          "height": 72
        }
      },
      "source": [
        "CM = [[30, 10, 5], [15, 20, 12]]\n",
        "DM = [800, 1200]\n",
        "SM = [600, 900, 500]\n",
        "dnames = ['D1', 'D2']\n",
        "snames = ['S1', 'S2', 'S3']\n",
        "C = matrix2dict(CM, dnames, snames)\n",
        "D = dict(zip(dnames, DM))\n",
        "S = dict(zip(snames, SM))\n",
        "print(C)\n",
        "print(D)\n",
        "print(S)"
      ],
      "execution_count": null,
      "outputs": [
        {
          "output_type": "stream",
          "text": [
            "{'D1': {'S1': 30, 'S2': 10, 'S3': 5}, 'D2': {'S1': 15, 'S2': 20, 'S3': 12}}\n",
            "{'D1': 800, 'D2': 1200}\n",
            "{'S1': 600, 'S2': 900, 'S3': 500}\n"
          ],
          "name": "stdout"
        }
      ]
    },
    {
      "cell_type": "code",
      "metadata": {
        "id": "tpFjpnuerWNy",
        "outputId": "4a2d29cb-9d7d-4392-bd47-374810bbefd0",
        "colab": {
          "base_uri": "https://localhost:8080/",
          "height": 127
        }
      },
      "source": [
        "res = Vogel({**C}, {**S}, {**D})\n",
        "cols = sorted(S.keys())\n",
        "for n in cols:\n",
        "    print(\"\\t\", n, end='')\n",
        "print()\n",
        "cost = 0\n",
        "for g in sorted(C):\n",
        "    print(g, \"\\t\", end='')\n",
        "    for n in cols:\n",
        "        y = res[g][n]\n",
        "        if y != 0:\n",
        "            #print(y, ',', C[g][n], end='')\n",
        "            print(y, end='')\n",
        "        cost += y * C[g][n]\n",
        "        print(\"\\t\", end='')\n",
        "    print()\n",
        "print(\"\\n\\nTotal Cost = \", cost)"
      ],
      "execution_count": null,
      "outputs": [
        {
          "output_type": "stream",
          "text": [
            "\t S1\t S2\t S3\n",
            "D1 \t\t800\t\t\n",
            "D2 \t600\t100\t500\t\n",
            "\n",
            "\n",
            "Total Cost =  25000\n"
          ],
          "name": "stdout"
        }
      ]
    },
    {
      "cell_type": "markdown",
      "metadata": {
        "id": "DESHbx2nsKKh"
      },
      "source": [
        "## Nevyrovnaný dopravní problém"
      ]
    },
    {
      "cell_type": "markdown",
      "metadata": {
        "id": "uaTa3Y9QsTiw"
      },
      "source": [
        "Nevyrovnaným dopravním problémem myslíme dopravní problém, u kterého součet požadavků spotřebitelů není roven součtu kapacit dodavatelů.\n",
        "$$\\sum_i D_i \\ne \\sum_j S_j$$\n",
        "\n",
        "Mohou nastat dvě možnosti. \n",
        "- Součet požadavků spotřebitelů přesahuje možnosti dodavatelů\n",
        "- Součet požadavků spotřebitelů je menší než možnosti dodavatelů"
      ]
    },
    {
      "cell_type": "markdown",
      "metadata": {
        "id": "EcDmmoQUv3js"
      },
      "source": [
        "### Požadavky přesahují dodávky"
      ]
    },
    {
      "cell_type": "markdown",
      "metadata": {
        "id": "rV2Qdxs-v9Ws"
      },
      "source": [
        "V takovém případě lze úlohu rozšířit o dalšího dodavatele, který vykrývá chybějící poptávku. Sazby za přepravu od tohoto dodavatele stanovíme nulové."
      ]
    },
    {
      "cell_type": "markdown",
      "metadata": {
        "id": "PB70PCjawVsL"
      },
      "source": [
        "### Požadavky nevyčerpají možnosti dodavatelů"
      ]
    },
    {
      "cell_type": "markdown",
      "metadata": {
        "id": "ifQmsTrFwaRR"
      },
      "source": [
        "V tomto případě úlohu rozšíříme o fiktivního odběratele, který spotřebuje nadbytečné kapacity dodavatelů. Sazby za přepravu k tomuto spotřebiteli stanovíme nulové."
      ]
    },
    {
      "cell_type": "markdown",
      "metadata": {
        "id": "NLWz37fvHlqb"
      },
      "source": [
        "## Přiřazovací problém"
      ]
    },
    {
      "cell_type": "markdown",
      "metadata": {
        "id": "nM6oyjhMHqpx"
      },
      "source": [
        "$$f(x)=min \\sum_{i=1}^{n} \\sum_{j=1}^{n} c_{ij}x_{ij}$$\n",
        "$$ \\sum_{j=1}^{n} x_{ij} = 1, i=1,...,n $$\n",
        "$$ \\sum_{i=1}^{n} x_{ij} = 1, j=1,...,n $$"
      ]
    },
    {
      "cell_type": "markdown",
      "metadata": {
        "id": "jbH4vjYoH0Ns"
      },
      "source": [
        "### Příklad"
      ]
    },
    {
      "cell_type": "markdown",
      "metadata": {
        "id": "zRgua_wdH1q3"
      },
      "source": [
        "$$\n",
        "C=\\begin{pmatrix}\n",
        "5 & 6 & 10 & 15 \\\\\n",
        "7 & 6 & 3 & 10 \\\\\n",
        "8 & 5 & 15 & 20 \\\\\n",
        "10 & 20 & 30 & 30\n",
        "\\end{pmatrix}\n",
        "$$"
      ]
    },
    {
      "cell_type": "markdown",
      "metadata": {
        "id": "Mwo3pLP5HvyN"
      },
      "source": [
        "### Řešení v Python"
      ]
    },
    {
      "cell_type": "code",
      "metadata": {
        "id": "bIoBJg7uHzHK"
      },
      "source": [
        "import numpy as np\n",
        "from scipy.optimize import linear_sum_assignment"
      ],
      "execution_count": null,
      "outputs": []
    },
    {
      "cell_type": "code",
      "metadata": {
        "id": "9MMb1o--IcH_",
        "outputId": "726813cf-0e8f-49d8-ef2b-ab55f6d6deaf",
        "colab": {
          "base_uri": "https://localhost:8080/",
          "height": 54
        }
      },
      "source": [
        "costs = np.array([[5, 6, 10, 15], [7, 6, 3, 10], [8, 5, 15, 20], [10, 20, 30, 30]])\n",
        "row_ind, col_ind = linear_sum_assignment(costs)\n",
        "print(row_ind, col_ind)\n",
        "print(costs[row_ind, col_ind].sum())"
      ],
      "execution_count": null,
      "outputs": [
        {
          "output_type": "stream",
          "text": [
            "[0 1 2 3] [3 2 1 0]\n",
            "33\n"
          ],
          "name": "stdout"
        }
      ]
    },
    {
      "cell_type": "markdown",
      "metadata": {
        "id": "3FO3QerRUAHQ"
      },
      "source": [
        "Interpretace řešení\n",
        "$$\n",
        "C=\\begin{pmatrix}\n",
        "5 & 6 & 10 & 15 \\\\\n",
        "7 & 6 & 3 & 10 \\\\\n",
        "8 & 5 & 15 & 20 \\\\\n",
        "10 & 20 & 30 & 30\n",
        "\\end{pmatrix}\n",
        "\\Rightarrow\n",
        "\\begin{pmatrix}\n",
        "0 & 0 & 0 & 15 \\\\\n",
        "0 & 0 & 3 & 0 \\\\\n",
        "0 & 5 & 0 & 0 \\\\\n",
        "10 & 0 & 0 & 0 \n",
        "\\end{pmatrix}\n",
        "$$"
      ]
    },
    {
      "cell_type": "markdown",
      "metadata": {
        "id": "d1jcKRPbImIT"
      },
      "source": [
        "### Příklad"
      ]
    },
    {
      "cell_type": "markdown",
      "metadata": {
        "id": "Nsi-O_Hb75Zu"
      },
      "source": [
        "![obrazek.png](data:image/png;base64,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)"
      ]
    },
    {
      "cell_type": "markdown",
      "metadata": {
        "id": "UDXSlhlMIoaW"
      },
      "source": [
        "### Řešení v Python"
      ]
    },
    {
      "cell_type": "code",
      "metadata": {
        "id": "t7iicd5JItYV",
        "outputId": "b1ec263b-e38b-4d0e-dd03-8d317d48b961",
        "colab": {
          "base_uri": "https://localhost:8080/",
          "height": 90
        }
      },
      "source": [
        "!pip install hungarian-algorithm"
      ],
      "execution_count": null,
      "outputs": [
        {
          "output_type": "stream",
          "text": [
            "Requirement already satisfied: hungarian-algorithm in /opt/conda/lib/python3.7/site-packages (0.1.11)\r\n"
          ],
          "name": "stdout"
        }
      ]
    },
    {
      "cell_type": "code",
      "metadata": {
        "id": "VBWeYJejIvNb",
        "outputId": "c5e3903d-44ac-4770-95e6-1dba1bcc78e4",
        "colab": {
          "base_uri": "https://localhost:8080/",
          "height": 55
        }
      },
      "source": [
        "from hungarian_algorithm import algorithm\n",
        "G = {\n",
        "\t'Ann': {'RB': 3, 'CAM': 2, 'GK': 1},\n",
        "\t'Ben': {'LW': 3, 'S': 2, 'CM': 1},\n",
        "\t'Cal': {'CAM': 3, 'RW': 2, 'SWP': 1},\n",
        "\t'Dan': {'S': 3, 'LW': 2, 'GK': 1},\n",
        "\t'Ela': {'GK': 3, 'LW': 2, 'F': 1},\n",
        "\t'Fae': {'CM': 3, 'GK': 2, 'CAM': 1},\n",
        "\t'Gio': {'GK': 3, 'CM': 2, 'S': 1},\n",
        "\t'Hol': {'CAM': 3, 'F': 2, 'SWP': 1},\n",
        "\t'Ian': {'S': 3, 'RW': 2, 'RB': 1},\n",
        "\t'Jon': {'F': 3, 'LW': 2, 'CB': 1},\n",
        "\t'Kay': {'GK': 3, 'RW': 2, 'LW': 1, 'LB': 0}\n",
        "}\n",
        "result = algorithm.find_matching(G, matching_type = 'max', return_type = 'list' )\n",
        "print(result)"
      ],
      "execution_count": null,
      "outputs": [
        {
          "output_type": "stream",
          "text": [
            "[(('Ann', 'RB'), 3), (('Gio', 'GK'), 3), (('Hol', 'SWP'), 1), (('Ben', 'LW'), 3), (('Ian', 'CB'), 0), (('Dan', 'S'), 3), (('Kay', 'RW'), 2), (('Jon', 'F'), 3), (('Cal', 'CAM'), 3), (('Ela', 'LB'), 0), (('Fae', 'CM'), 3)]\n"
          ],
          "name": "stdout"
        }
      ]
    },
    {
      "cell_type": "markdown",
      "metadata": {
        "id": "OPaENPdRIy8H"
      },
      "source": [
        "### Příklad"
      ]
    },
    {
      "cell_type": "markdown",
      "metadata": {
        "id": "One7kKZdUaqb"
      },
      "source": [
        "\n",
        "('#191', '#122', '#173', '#121', '#128', '#104')  \n",
        "('A', 'B', 'C', 'D', 'E', 'F')\n",
        "$$C = \\begin{pmatrix} \n",
        "22 & 14 & 120 & 21 & 4 & 51 \\\\\n",
        "19 & 12 & 172 & 21 & 28 & 43 \\\\\n",
        "161 & 122 & 2 & 50 &128 & 39 \\\\\n",
        "1 & 30 & 113 & 14 & 28 & 86 \\\\\n",
        "60 & 70 & 170 & 28 & 68 & 104\n",
        "\\end{pmatrix}$$"
      ]
    },
    {
      "cell_type": "markdown",
      "metadata": {
        "id": "7jJgiSjbI0dw"
      },
      "source": [
        "### Řešení v Python"
      ]
    },
    {
      "cell_type": "code",
      "metadata": {
        "id": "DQ_ZapTRI2xN",
        "outputId": "b4eee6d5-d2ac-4299-8134-fa01d14e86aa",
        "colab": {
          "base_uri": "https://localhost:8080/",
          "height": 35
        }
      },
      "source": [
        "H = {\n",
        "\t'A': { '#191': 22, '#122': 14, '#173': 120, '#121': 21, '#128': 4, '#104': 51 },\n",
        "\t'B': { '#191': 19, '#122': 12, '#173': 172, '#121': 21, '#128': 28, '#104': 43 },\n",
        "\t'C': { '#191': 161, '#122': 122, '#173': 2, '#121': 50, '#128': 128, '#104': 39 },\n",
        "\t'D': { '#191': 19, '#122': 22, '#173': 90, '#121': 11, '#128': 28, '#104': 4 },\n",
        "\t'E': { '#191': 1, '#122': 30, '#173': 113, '#121': 14, '#128': 28, '#104': 86 },\n",
        "\t'F': { '#191': 60, '#122': 70, '#173': 170, '#121': 28, '#128': 68, '#104': 104 },\n",
        "}\n",
        "result = algorithm.find_matching(H, matching_type = 'min', return_type = 'list' )\n",
        "print(result)"
      ],
      "execution_count": null,
      "outputs": [
        {
          "output_type": "stream",
          "text": [
            "[(('F', '#121'), 28), (('B', '#122'), 12), (('E', '#191'), 1), (('D', '#104'), 4), (('A', '#128'), 4), (('C', '#173'), 2)]\n"
          ],
          "name": "stdout"
        }
      ]
    },
    {
      "cell_type": "markdown",
      "metadata": {
        "id": "_v5c5iGdni7w"
      },
      "source": [
        "### Příklad"
      ]
    },
    {
      "cell_type": "markdown",
      "metadata": {
        "id": "-Vlx8lI7nlLu"
      },
      "source": [
        "$$C=\\begin{pmatrix}\n",
        "1 & 2 & 3 & 4 \\\\\n",
        "2 & 4 & 6 & 8 \\\\\n",
        "3 & 6 & 9 & 12  \\\\\n",
        "4 & 8 & 12 & 16\n",
        "\\end{pmatrix}$$"
      ]
    },
    {
      "cell_type": "markdown",
      "metadata": {
        "id": "xiakTVgGoCBp"
      },
      "source": [
        "### Řešení v Python"
      ]
    },
    {
      "cell_type": "code",
      "metadata": {
        "id": "_r0fV4hUoGRX",
        "outputId": "b2d17c1b-ca85-446e-fc4e-eaabc6767e00",
        "colab": {
          "base_uri": "https://localhost:8080/",
          "height": 35
        }
      },
      "source": [
        "CM = [[1, 2, 3, 4], [2, 4, 6, 8], [3, 6, 9, 12], [4, 8, 12, 16]]\n",
        "dnames = ['worker1', 'worker2', 'worker3', 'worker4']\n",
        "snames = ['job1', 'job2', 'job3', 'job4', 'job5']\n",
        "\n",
        "C = matrix2dict(CM, dnames, snames)\n",
        "result = algorithm.find_matching(C, matching_type = 'min', return_type = 'list' )\n",
        "print(result)"
      ],
      "execution_count": null,
      "outputs": [
        {
          "output_type": "stream",
          "text": [
            "[(('worker3', 'job2'), 6), (('worker2', 'job3'), 6), (('worker1', 'job4'), 4), (('worker4', 'job1'), 4)]\n"
          ],
          "name": "stdout"
        }
      ]
    },
    {
      "cell_type": "markdown",
      "metadata": {
        "id": "Nhcj_bLFpXCS"
      },
      "source": [
        "### Zdroje"
      ]
    },
    {
      "cell_type": "markdown",
      "metadata": {
        "id": "WMxyua2OpZf2"
      },
      "source": [
        "https://brc2.com/the-algorithm-workshop/\n",
        "\n",
        "https://www.youtube.com/watch?v=kFd8WgNwokQ\n",
        "\n",
        "https://www.youtube.com/watch?v=Jr7LI-sUEmo\n",
        "\n",
        "Přednáška z konference ESRI v roce 2019:\n",
        "\n",
        "https://www.youtube.com/watch?v=DaB7J3rm_3M\n",
        "\n",
        "https://econweb.ucsd.edu/~jsobel/172aw02/notes8.pdf"
      ]
    }
  ]
}