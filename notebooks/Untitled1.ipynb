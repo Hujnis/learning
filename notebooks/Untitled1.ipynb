{
 "cells": [
  {
   "cell_type": "code",
   "execution_count": 2,
   "id": "524ae957-51bf-43bb-af99-d5291a6c2710",
   "metadata": {},
   "outputs": [
    {
     "data": {
      "text/plain": [
       "posix.uname_result(sysname='Linux', nodename='c14344b9b726', release='5.10.102.1-microsoft-standard-WSL2', version='#1 SMP Wed Mar 2 00:30:59 UTC 2022', machine='x86_64')"
      ]
     },
     "execution_count": 2,
     "metadata": {},
     "output_type": "execute_result"
    }
   ],
   "source": [
    "import os\n",
    "\n",
    "os.uname()"
   ]
  },
  {
   "cell_type": "code",
   "execution_count": 9,
   "id": "8e075cfc-9577-4e7e-9086-15e31c979256",
   "metadata": {},
   "outputs": [
    {
     "data": {
      "text/plain": [
       "{'id_token': 'IDT-ArATGsKd3ESuUYnuFlSUxdwE75X70jf9',\n",
       " 'access_token': 'ACCT-hmtnOGECbJNNDdhjzteghkWzPBq84FWy',\n",
       " 'date_of_creation': '2023-12-03T18:55:51.991445+00:00',\n",
       " 'expires_in': 3600,\n",
       " 'refresh_token': 'REFT-BBpUunCoBSwmJCABKQ9OqiNieBgGKLht',\n",
       " 'refresh_token_expires_in': '2260-06-23T18:55:51.991445+00:00',\n",
       " 'code': 'C-NqMtDDJISa6l1LamO9929e0Lmt9nfQdj',\n",
       " 'state': '',\n",
       " 'token_type': 'Bearer',\n",
       " 'exp': 1701633351,\n",
       " 'iss': 'http://localhost:8000/publickey'}"
      ]
     },
     "execution_count": 9,
     "metadata": {},
     "output_type": "execute_result"
    }
   ],
   "source": [
    "import jwt\n",
    "from cryptography.hazmat.primitives.asymmetric import rsa\n",
    "from cryptography.hazmat.primitives import serialization\n",
    "import random\n",
    "import string\n",
    "import datetime\n",
    "\n",
    "def randomString(size=32):\n",
    "    return ''.join((random.choice(string.ascii_letters + string.digits) for _ in range(size)))\n",
    "key = rsa.generate_private_key(\n",
    "    public_exponent=65537,\n",
    "    key_size=2048\n",
    ")\n",
    "\n",
    "pem_private_key = encrypted_pem_private_key = key.private_bytes(\n",
    "    encoding=serialization.Encoding.PEM,\n",
    "    format=serialization.PrivateFormat.TraditionalOpenSSL,\n",
    "    encryption_algorithm=serialization.NoEncryption()\n",
    ")\n",
    "\n",
    "pem_public_key = key.public_key().public_bytes(\n",
    "  encoding=serialization.Encoding.PEM,\n",
    "  format=serialization.PublicFormat.SubjectPublicKeyInfo\n",
    ")\n",
    "def createToken(client_state='', expires_in=3600, refresh_token_expires_in=24*3600, iss=\"http://localhost:8000/publickey\"):\n",
    "    code = \"C-\" + randomString()\n",
    "    accesstoken = \"ACCT-\" + randomString()\n",
    "    refreshtoken = \"REFT-\" + randomString()\n",
    "    id_token = \"IDT-\" + randomString()\n",
    "    date_of_creation = datetime.datetime.now(tz=datetime.timezone.utc)\n",
    "    result = {\n",
    "        'id_token': id_token,\n",
    "\n",
    "        'access_token': accesstoken,\n",
    "        'date_of_creation': date_of_creation.isoformat(),\n",
    "        'expires_in': expires_in,\n",
    "\n",
    "        'refresh_token': refreshtoken,\n",
    "        'refresh_token_expires_in': (date_of_creation + datetime.timedelta(refresh_token_expires_in)).isoformat(),\n",
    "\n",
    "        'code': code,\n",
    "        'state': client_state,\n",
    "        'token_type': \"Bearer\",\n",
    "\n",
    "        'exp': date_of_creation + datetime.timedelta(seconds=expires_in)\n",
    "    }\n",
    "    if iss:\n",
    "        result[\"iss\"] = iss\n",
    "\n",
    "    return result\n",
    "\n",
    "    \n",
    "def asJWT(data={}):\n",
    "    result = jwt.encode(data, pem_private_key, algorithm=\"RS256\")\n",
    "    return result\n",
    "token = createToken()\n",
    "jwtstr = asJWT(token)\n",
    "\n",
    "jwtdecoded = jwt.decode(jwt=jwtstr, key=pem_public_key, algorithms=[\"RS256\"])\n",
    "jwtdecoded"
   ]
  },
  {
   "cell_type": "code",
   "execution_count": 1,
   "id": "fd067f41-1a72-4ef3-adb0-b66d7abc50fc",
   "metadata": {},
   "outputs": [
    {
     "name": "stdout",
     "output_type": "stream",
     "text": [
      "Interactive namespace is empty.\n"
     ]
    }
   ],
   "source": [
    "%whos"
   ]
  },
  {
   "cell_type": "code",
   "execution_count": 2,
   "id": "743b9a7a-b953-4dbd-87ca-21d02b94b09a",
   "metadata": {},
   "outputs": [
    {
     "data": {
      "text/plain": [
       "{'__name__': '__main__',\n",
       " '__doc__': 'Automatically created module for IPython interactive environment',\n",
       " '__package__': None,\n",
       " '__loader__': None,\n",
       " '__spec__': None,\n",
       " '__builtin__': <module 'builtins' (built-in)>,\n",
       " '__builtins__': <module 'builtins' (built-in)>,\n",
       " '_ih': ['', \"get_ipython().run_line_magic('whos', '')\", 'globals()'],\n",
       " '_oh': {},\n",
       " '_dh': [PosixPath('/home/jovyan/work')],\n",
       " 'In': ['', \"get_ipython().run_line_magic('whos', '')\", 'globals()'],\n",
       " 'Out': {},\n",
       " 'get_ipython': <bound method InteractiveShell.get_ipython of <ipykernel.zmqshell.ZMQInteractiveShell object at 0x7f68e54d54b0>>,\n",
       " 'exit': <IPython.core.autocall.ZMQExitAutocall at 0x7f68e54d61d0>,\n",
       " 'quit': <IPython.core.autocall.ZMQExitAutocall at 0x7f68e54d61d0>,\n",
       " '_': '',\n",
       " '__': '',\n",
       " '___': '',\n",
       " '_i': '%whos',\n",
       " '_ii': '',\n",
       " '_iii': '',\n",
       " '_i1': '%whos',\n",
       " '_i2': 'globals()'}"
      ]
     },
     "execution_count": 2,
     "metadata": {},
     "output_type": "execute_result"
    }
   ],
   "source": [
    "globals()"
   ]
  },
  {
   "cell_type": "code",
   "execution_count": 7,
   "id": "0d9f531f-089b-4947-b872-7260a688a4fa",
   "metadata": {},
   "outputs": [
    {
     "name": "stdout",
     "output_type": "stream",
     "text": [
      "['Completer', 'CustomTB', 'InteractiveTB', 'SyntaxTB', '__annotations__', '__class__', '__delattr__', '__dict__', '__dir__', '__doc__', '__eq__', '__format__', '__ge__', '__getattribute__', '__getstate__', '__gt__', '__hash__', '__init__', '__init_subclass__', '__le__', '__lt__', '__module__', '__ne__', '__new__', '__reduce__', '__reduce_ex__', '__repr__', '__setattr__', '__setstate__', '__sizeof__', '__str__', '__subclasshook__', '__weakref__', '_add_notifiers', '_atexit_once', '_call_pdb', '_clear_warning_registry', '_config_changed', '_cross_validation_lock', '_default_banner1', '_default_exiter', '_default_loop_runner', '_defining_class', '_enable_html_pager_changed', '_exiter_default', '_find_my_config', '_find_with_lazy_load', '_format_user_obj', '_get_call_pdb', '_get_exc_info', '_get_log_handler', '_get_trait_default_generator', '_getattr_property', '_import_runner', '_indent_current_str', '_inspect', '_instance', '_ipython_dir_changed', '_last_input_line', '_last_traceback', '_load_config', '_log_default', '_main_mod_cache', '_notify_observers', '_notify_trait', '_object_find', '_ofind', '_orig_sys_module_state', '_orig_sys_modules_main_mod', '_orig_sys_modules_main_name', '_post_execute', '_register_validator', '_remove_notifiers', '_run_cell', '_set_call_pdb', '_showtraceback', '_sphinxify_docstring_changed', '_sys_modules_keys', '_trait_default_generators', '_trait_notifiers', '_trait_validators', '_trait_values', '_update_exit_now', '_user_obj_error', '_validate_log', '_walk_mro', 'active_eventloop', 'add_traits', 'alias_manager', 'all_ns_refs', 'ask_exit', 'ask_yes_no', 'ast_node_interactivity', 'ast_transformers', 'atexit_operations', 'auto_rewrite_input', 'autoawait', 'autocall', 'autoindent', 'automagic', 'banner', 'banner1', 'banner2', 'builtin_trap', 'cache_size', 'call_pdb', 'check_complete', 'class_config_rst_doc', 'class_config_section', 'class_get_help', 'class_get_trait_help', 'class_own_trait_events', 'class_own_traits', 'class_print_help', 'class_trait_names', 'class_traits', 'cleanup', 'clear_instance', 'clear_main_mod_cache', 'color_info', 'colors', 'compile', 'compiler_class', 'complete', 'config', 'configurables', 'cross_validation_lock', 'custom_exceptions', 'data_pub', 'data_pub_class', 'db', 'debug', 'debugger', 'debugger_cls', 'default_user_namespaces', 'define_macro', 'del_var', 'dir_stack', 'disable_failing_post_execute', 'display_formatter', 'display_page', 'display_pub', 'display_pub_class', 'display_trap', 'displayhook', 'displayhook_class', 'drop_by_id', 'enable_gui', 'enable_html_pager', 'enable_matplotlib', 'enable_pylab', 'ev', 'events', 'ex', 'excepthook', 'execution_count', 'exit_now', 'exiter', 'extension_manager', 'extract_input_lines', 'filename', 'find_cell_magic', 'find_line_magic', 'find_magic', 'find_user_code', 'get_exception_only', 'get_ipython', 'get_local_scope', 'get_parent', 'get_path_links', 'getoutput', 'has_trait', 'history_length', 'history_load_length', 'history_manager', 'hold_trait_notifications', 'home_dir', 'hooks', 'indent_current_nsp', 'init_alias', 'init_builtins', 'init_completer', 'init_create_namespaces', 'init_data_pub', 'init_display_formatter', 'init_display_pub', 'init_displayhook', 'init_encoding', 'init_environment', 'init_events', 'init_extension_manager', 'init_history', 'init_hooks', 'init_inspector', 'init_instance_attrs', 'init_io', 'init_ipython_dir', 'init_logger', 'init_logstart', 'init_magics', 'init_payload', 'init_pdb', 'init_prefilter', 'init_profile_dir', 'init_prompts', 'init_pushd_popd_magic', 'init_syntax_highlighting', 'init_sys_modules', 'init_traceback_handlers', 'init_user_ns', 'init_virtualenv', 'initialized', 'input_splitter', 'input_transformer_manager', 'input_transformers_cleanup', 'input_transformers_post', 'inspector', 'instance', 'ipython_dir', 'keepkernel_on_exit', 'kernel', 'last_execution_result', 'last_execution_succeeded', 'log', 'logappend', 'logfile', 'logger', 'logstart', 'loop_runner', 'loop_runner_map', 'magic', 'magics_manager', 'meta', 'mktempfile', 'more', 'new_main_mod', 'notify_change', 'ns_table', 'object_info_string_level', 'object_inspect', 'object_inspect_mime', 'object_inspect_text', 'observe', 'on_trait_change', 'parent', 'parent_header', 'payload_manager', 'pdb', 'prefilter', 'prefilter_manager', 'prepare_user_module', 'profile', 'profile_dir', 'push', 'pycolorize', 'pylab_gui_select', 'quiet', 'raw_input_original', 'readline_use', 'refresh_style', 'register_magic_function', 'register_magics', 'register_post_execute', 'reset', 'reset_selective', 'restore_sys_module_state', 'run_ast_nodes', 'run_cell', 'run_cell_async', 'run_cell_magic', 'run_code', 'run_line_magic', 'runcode', 'safe_execfile', 'safe_execfile_ipy', 'safe_run_module', 'save_sys_module_state', 'section_names', 'separate_in', 'separate_out', 'separate_out2', 'set_autoindent', 'set_completer_frame', 'set_custom_completer', 'set_custom_exc', 'set_hook', 'set_next_input', 'set_parent', 'set_trait', 'set_trio_runner', 'setup_instance', 'should_run_async', 'show_banner', 'show_rewritten_input', 'show_usage', 'show_usage_error', 'showindentationerror', 'showsyntaxerror', 'showtraceback', 'sphinxify_docstring', 'starting_dir', 'stdin_encoding', 'strdispatchers', 'switch_doctest_mode', 'sys_excepthook', 'system', 'system_piped', 'system_raw', 'tempdirs', 'tempfiles', 'trait_defaults', 'trait_events', 'trait_has_value', 'trait_metadata', 'trait_names', 'trait_values', 'traits', 'transform_ast', 'transform_cell', 'trio_runner', 'unobserve', 'unobserve_all', 'update_config', 'user_expressions', 'user_global_ns', 'user_module', 'user_ns', 'user_ns_hidden', 'var_expand', 'warn_venv', 'wildcards_case_sensitive', 'xmode']\n"
     ]
    }
   ],
   "source": [
    "p = get_ipython()\n",
    "print(dir(p))"
   ]
  },
  {
   "cell_type": "code",
   "execution_count": 8,
   "id": "8a78cb26-7ce5-436e-8bd3-154079925fff",
   "metadata": {},
   "outputs": [
    {
     "name": "stdout",
     "output_type": "stream",
     "text": [
      "{'__name__': '__main__', '__doc__': 'Automatically created module for IPython interactive environment', '__package__': None, '__loader__': None, '__spec__': None, '__builtin__': <module 'builtins' (built-in)>, '__builtins__': <module 'builtins' (built-in)>, '_ih': ['', \"get_ipython().run_line_magic('whos', '')\", 'globals()', 'p = get_ipython()', 'p = get_ipython()\\np', 'p = get_ipython()\\ndir(p)', 'p.user_ns', 'p = get_ipython()\\nprint(dir(p))', 'print(p.user_ns)'], '_oh': {2: {...}, 4: <ipykernel.zmqshell.ZMQInteractiveShell object at 0x7f68e54d54b0>, 5: ['Completer', 'CustomTB', 'InteractiveTB', 'SyntaxTB', '__annotations__', '__class__', '__delattr__', '__dict__', '__dir__', '__doc__', '__eq__', '__format__', '__ge__', '__getattribute__', '__getstate__', '__gt__', '__hash__', '__init__', '__init_subclass__', '__le__', '__lt__', '__module__', '__ne__', '__new__', '__reduce__', '__reduce_ex__', '__repr__', '__setattr__', '__setstate__', '__sizeof__', '__str__', '__subclasshook__', '__weakref__', '_add_notifiers', '_atexit_once', '_call_pdb', '_clear_warning_registry', '_config_changed', '_cross_validation_lock', '_default_banner1', '_default_exiter', '_default_loop_runner', '_defining_class', '_enable_html_pager_changed', '_exiter_default', '_find_my_config', '_find_with_lazy_load', '_format_user_obj', '_get_call_pdb', '_get_exc_info', '_get_log_handler', '_get_trait_default_generator', '_getattr_property', '_import_runner', '_indent_current_str', '_inspect', '_instance', '_ipython_dir_changed', '_last_input_line', '_last_traceback', '_load_config', '_log_default', '_main_mod_cache', '_notify_observers', '_notify_trait', '_object_find', '_ofind', '_orig_sys_module_state', '_orig_sys_modules_main_mod', '_orig_sys_modules_main_name', '_post_execute', '_register_validator', '_remove_notifiers', '_run_cell', '_set_call_pdb', '_showtraceback', '_sphinxify_docstring_changed', '_sys_modules_keys', '_trait_default_generators', '_trait_notifiers', '_trait_validators', '_trait_values', '_update_exit_now', '_user_obj_error', '_validate_log', '_walk_mro', 'active_eventloop', 'add_traits', 'alias_manager', 'all_ns_refs', 'ask_exit', 'ask_yes_no', 'ast_node_interactivity', 'ast_transformers', 'atexit_operations', 'auto_rewrite_input', 'autoawait', 'autocall', 'autoindent', 'automagic', 'banner', 'banner1', 'banner2', 'builtin_trap', 'cache_size', 'call_pdb', 'check_complete', 'class_config_rst_doc', 'class_config_section', 'class_get_help', 'class_get_trait_help', 'class_own_trait_events', 'class_own_traits', 'class_print_help', 'class_trait_names', 'class_traits', 'cleanup', 'clear_instance', 'clear_main_mod_cache', 'color_info', 'colors', 'compile', 'compiler_class', 'complete', 'config', 'configurables', 'cross_validation_lock', 'custom_exceptions', 'data_pub', 'data_pub_class', 'db', 'debug', 'debugger', 'debugger_cls', 'default_user_namespaces', 'define_macro', 'del_var', 'dir_stack', 'disable_failing_post_execute', 'display_formatter', 'display_page', 'display_pub', 'display_pub_class', 'display_trap', 'displayhook', 'displayhook_class', 'drop_by_id', 'enable_gui', 'enable_html_pager', 'enable_matplotlib', 'enable_pylab', 'ev', 'events', 'ex', 'excepthook', 'execution_count', 'exit_now', 'exiter', 'extension_manager', 'extract_input_lines', 'filename', 'find_cell_magic', 'find_line_magic', 'find_magic', 'find_user_code', 'get_exception_only', 'get_ipython', 'get_local_scope', 'get_parent', 'get_path_links', 'getoutput', 'has_trait', 'history_length', 'history_load_length', 'history_manager', 'hold_trait_notifications', 'home_dir', 'hooks', 'indent_current_nsp', 'init_alias', 'init_builtins', 'init_completer', 'init_create_namespaces', 'init_data_pub', 'init_display_formatter', 'init_display_pub', 'init_displayhook', 'init_encoding', 'init_environment', 'init_events', 'init_extension_manager', 'init_history', 'init_hooks', 'init_inspector', 'init_instance_attrs', 'init_io', 'init_ipython_dir', 'init_logger', 'init_logstart', 'init_magics', 'init_payload', 'init_pdb', 'init_prefilter', 'init_profile_dir', 'init_prompts', 'init_pushd_popd_magic', 'init_syntax_highlighting', 'init_sys_modules', 'init_traceback_handlers', 'init_user_ns', 'init_virtualenv', 'initialized', 'input_splitter', 'input_transformer_manager', 'input_transformers_cleanup', 'input_transformers_post', 'inspector', 'instance', 'ipython_dir', 'keepkernel_on_exit', 'kernel', 'last_execution_result', 'last_execution_succeeded', 'log', 'logappend', 'logfile', 'logger', 'logstart', 'loop_runner', 'loop_runner_map', 'magic', 'magics_manager', 'meta', 'mktempfile', 'more', 'new_main_mod', 'notify_change', 'ns_table', 'object_info_string_level', 'object_inspect', 'object_inspect_mime', 'object_inspect_text', 'observe', 'on_trait_change', 'parent', 'parent_header', 'payload_manager', 'pdb', 'prefilter', 'prefilter_manager', 'prepare_user_module', 'profile', 'profile_dir', 'push', 'pycolorize', 'pylab_gui_select', 'quiet', 'raw_input_original', 'readline_use', 'refresh_style', 'register_magic_function', 'register_magics', 'register_post_execute', 'reset', 'reset_selective', 'restore_sys_module_state', 'run_ast_nodes', 'run_cell', 'run_cell_async', 'run_cell_magic', 'run_code', 'run_line_magic', 'runcode', 'safe_execfile', 'safe_execfile_ipy', 'safe_run_module', 'save_sys_module_state', 'section_names', 'separate_in', 'separate_out', 'separate_out2', 'set_autoindent', 'set_completer_frame', 'set_custom_completer', 'set_custom_exc', 'set_hook', 'set_next_input', 'set_parent', 'set_trait', 'set_trio_runner', 'setup_instance', 'should_run_async', 'show_banner', 'show_rewritten_input', 'show_usage', 'show_usage_error', 'showindentationerror', 'showsyntaxerror', 'showtraceback', 'sphinxify_docstring', 'starting_dir', 'stdin_encoding', 'strdispatchers', 'switch_doctest_mode', 'sys_excepthook', 'system', 'system_piped', 'system_raw', 'tempdirs', 'tempfiles', 'trait_defaults', 'trait_events', 'trait_has_value', 'trait_metadata', 'trait_names', 'trait_values', 'traits', 'transform_ast', 'transform_cell', 'trio_runner', 'unobserve', 'unobserve_all', 'update_config', 'user_expressions', 'user_global_ns', 'user_module', 'user_ns', 'user_ns_hidden', 'var_expand', 'warn_venv', 'wildcards_case_sensitive', 'xmode'], 6: {...}}, '_dh': [PosixPath('/home/jovyan/work')], 'In': ['', \"get_ipython().run_line_magic('whos', '')\", 'globals()', 'p = get_ipython()', 'p = get_ipython()\\np', 'p = get_ipython()\\ndir(p)', 'p.user_ns', 'p = get_ipython()\\nprint(dir(p))', 'print(p.user_ns)'], 'Out': {2: {...}, 4: <ipykernel.zmqshell.ZMQInteractiveShell object at 0x7f68e54d54b0>, 5: ['Completer', 'CustomTB', 'InteractiveTB', 'SyntaxTB', '__annotations__', '__class__', '__delattr__', '__dict__', '__dir__', '__doc__', '__eq__', '__format__', '__ge__', '__getattribute__', '__getstate__', '__gt__', '__hash__', '__init__', '__init_subclass__', '__le__', '__lt__', '__module__', '__ne__', '__new__', '__reduce__', '__reduce_ex__', '__repr__', '__setattr__', '__setstate__', '__sizeof__', '__str__', '__subclasshook__', '__weakref__', '_add_notifiers', '_atexit_once', '_call_pdb', '_clear_warning_registry', '_config_changed', '_cross_validation_lock', '_default_banner1', '_default_exiter', '_default_loop_runner', '_defining_class', '_enable_html_pager_changed', '_exiter_default', '_find_my_config', '_find_with_lazy_load', '_format_user_obj', '_get_call_pdb', '_get_exc_info', '_get_log_handler', '_get_trait_default_generator', '_getattr_property', '_import_runner', '_indent_current_str', '_inspect', '_instance', '_ipython_dir_changed', '_last_input_line', '_last_traceback', '_load_config', '_log_default', '_main_mod_cache', '_notify_observers', '_notify_trait', '_object_find', '_ofind', '_orig_sys_module_state', '_orig_sys_modules_main_mod', '_orig_sys_modules_main_name', '_post_execute', '_register_validator', '_remove_notifiers', '_run_cell', '_set_call_pdb', '_showtraceback', '_sphinxify_docstring_changed', '_sys_modules_keys', '_trait_default_generators', '_trait_notifiers', '_trait_validators', '_trait_values', '_update_exit_now', '_user_obj_error', '_validate_log', '_walk_mro', 'active_eventloop', 'add_traits', 'alias_manager', 'all_ns_refs', 'ask_exit', 'ask_yes_no', 'ast_node_interactivity', 'ast_transformers', 'atexit_operations', 'auto_rewrite_input', 'autoawait', 'autocall', 'autoindent', 'automagic', 'banner', 'banner1', 'banner2', 'builtin_trap', 'cache_size', 'call_pdb', 'check_complete', 'class_config_rst_doc', 'class_config_section', 'class_get_help', 'class_get_trait_help', 'class_own_trait_events', 'class_own_traits', 'class_print_help', 'class_trait_names', 'class_traits', 'cleanup', 'clear_instance', 'clear_main_mod_cache', 'color_info', 'colors', 'compile', 'compiler_class', 'complete', 'config', 'configurables', 'cross_validation_lock', 'custom_exceptions', 'data_pub', 'data_pub_class', 'db', 'debug', 'debugger', 'debugger_cls', 'default_user_namespaces', 'define_macro', 'del_var', 'dir_stack', 'disable_failing_post_execute', 'display_formatter', 'display_page', 'display_pub', 'display_pub_class', 'display_trap', 'displayhook', 'displayhook_class', 'drop_by_id', 'enable_gui', 'enable_html_pager', 'enable_matplotlib', 'enable_pylab', 'ev', 'events', 'ex', 'excepthook', 'execution_count', 'exit_now', 'exiter', 'extension_manager', 'extract_input_lines', 'filename', 'find_cell_magic', 'find_line_magic', 'find_magic', 'find_user_code', 'get_exception_only', 'get_ipython', 'get_local_scope', 'get_parent', 'get_path_links', 'getoutput', 'has_trait', 'history_length', 'history_load_length', 'history_manager', 'hold_trait_notifications', 'home_dir', 'hooks', 'indent_current_nsp', 'init_alias', 'init_builtins', 'init_completer', 'init_create_namespaces', 'init_data_pub', 'init_display_formatter', 'init_display_pub', 'init_displayhook', 'init_encoding', 'init_environment', 'init_events', 'init_extension_manager', 'init_history', 'init_hooks', 'init_inspector', 'init_instance_attrs', 'init_io', 'init_ipython_dir', 'init_logger', 'init_logstart', 'init_magics', 'init_payload', 'init_pdb', 'init_prefilter', 'init_profile_dir', 'init_prompts', 'init_pushd_popd_magic', 'init_syntax_highlighting', 'init_sys_modules', 'init_traceback_handlers', 'init_user_ns', 'init_virtualenv', 'initialized', 'input_splitter', 'input_transformer_manager', 'input_transformers_cleanup', 'input_transformers_post', 'inspector', 'instance', 'ipython_dir', 'keepkernel_on_exit', 'kernel', 'last_execution_result', 'last_execution_succeeded', 'log', 'logappend', 'logfile', 'logger', 'logstart', 'loop_runner', 'loop_runner_map', 'magic', 'magics_manager', 'meta', 'mktempfile', 'more', 'new_main_mod', 'notify_change', 'ns_table', 'object_info_string_level', 'object_inspect', 'object_inspect_mime', 'object_inspect_text', 'observe', 'on_trait_change', 'parent', 'parent_header', 'payload_manager', 'pdb', 'prefilter', 'prefilter_manager', 'prepare_user_module', 'profile', 'profile_dir', 'push', 'pycolorize', 'pylab_gui_select', 'quiet', 'raw_input_original', 'readline_use', 'refresh_style', 'register_magic_function', 'register_magics', 'register_post_execute', 'reset', 'reset_selective', 'restore_sys_module_state', 'run_ast_nodes', 'run_cell', 'run_cell_async', 'run_cell_magic', 'run_code', 'run_line_magic', 'runcode', 'safe_execfile', 'safe_execfile_ipy', 'safe_run_module', 'save_sys_module_state', 'section_names', 'separate_in', 'separate_out', 'separate_out2', 'set_autoindent', 'set_completer_frame', 'set_custom_completer', 'set_custom_exc', 'set_hook', 'set_next_input', 'set_parent', 'set_trait', 'set_trio_runner', 'setup_instance', 'should_run_async', 'show_banner', 'show_rewritten_input', 'show_usage', 'show_usage_error', 'showindentationerror', 'showsyntaxerror', 'showtraceback', 'sphinxify_docstring', 'starting_dir', 'stdin_encoding', 'strdispatchers', 'switch_doctest_mode', 'sys_excepthook', 'system', 'system_piped', 'system_raw', 'tempdirs', 'tempfiles', 'trait_defaults', 'trait_events', 'trait_has_value', 'trait_metadata', 'trait_names', 'trait_values', 'traits', 'transform_ast', 'transform_cell', 'trio_runner', 'unobserve', 'unobserve_all', 'update_config', 'user_expressions', 'user_global_ns', 'user_module', 'user_ns', 'user_ns_hidden', 'var_expand', 'warn_venv', 'wildcards_case_sensitive', 'xmode'], 6: {...}}, 'get_ipython': <bound method InteractiveShell.get_ipython of <ipykernel.zmqshell.ZMQInteractiveShell object at 0x7f68e54d54b0>>, 'exit': <IPython.core.autocall.ZMQExitAutocall object at 0x7f68e54d61d0>, 'quit': <IPython.core.autocall.ZMQExitAutocall object at 0x7f68e54d61d0>, '_': {...}, '__': ['Completer', 'CustomTB', 'InteractiveTB', 'SyntaxTB', '__annotations__', '__class__', '__delattr__', '__dict__', '__dir__', '__doc__', '__eq__', '__format__', '__ge__', '__getattribute__', '__getstate__', '__gt__', '__hash__', '__init__', '__init_subclass__', '__le__', '__lt__', '__module__', '__ne__', '__new__', '__reduce__', '__reduce_ex__', '__repr__', '__setattr__', '__setstate__', '__sizeof__', '__str__', '__subclasshook__', '__weakref__', '_add_notifiers', '_atexit_once', '_call_pdb', '_clear_warning_registry', '_config_changed', '_cross_validation_lock', '_default_banner1', '_default_exiter', '_default_loop_runner', '_defining_class', '_enable_html_pager_changed', '_exiter_default', '_find_my_config', '_find_with_lazy_load', '_format_user_obj', '_get_call_pdb', '_get_exc_info', '_get_log_handler', '_get_trait_default_generator', '_getattr_property', '_import_runner', '_indent_current_str', '_inspect', '_instance', '_ipython_dir_changed', '_last_input_line', '_last_traceback', '_load_config', '_log_default', '_main_mod_cache', '_notify_observers', '_notify_trait', '_object_find', '_ofind', '_orig_sys_module_state', '_orig_sys_modules_main_mod', '_orig_sys_modules_main_name', '_post_execute', '_register_validator', '_remove_notifiers', '_run_cell', '_set_call_pdb', '_showtraceback', '_sphinxify_docstring_changed', '_sys_modules_keys', '_trait_default_generators', '_trait_notifiers', '_trait_validators', '_trait_values', '_update_exit_now', '_user_obj_error', '_validate_log', '_walk_mro', 'active_eventloop', 'add_traits', 'alias_manager', 'all_ns_refs', 'ask_exit', 'ask_yes_no', 'ast_node_interactivity', 'ast_transformers', 'atexit_operations', 'auto_rewrite_input', 'autoawait', 'autocall', 'autoindent', 'automagic', 'banner', 'banner1', 'banner2', 'builtin_trap', 'cache_size', 'call_pdb', 'check_complete', 'class_config_rst_doc', 'class_config_section', 'class_get_help', 'class_get_trait_help', 'class_own_trait_events', 'class_own_traits', 'class_print_help', 'class_trait_names', 'class_traits', 'cleanup', 'clear_instance', 'clear_main_mod_cache', 'color_info', 'colors', 'compile', 'compiler_class', 'complete', 'config', 'configurables', 'cross_validation_lock', 'custom_exceptions', 'data_pub', 'data_pub_class', 'db', 'debug', 'debugger', 'debugger_cls', 'default_user_namespaces', 'define_macro', 'del_var', 'dir_stack', 'disable_failing_post_execute', 'display_formatter', 'display_page', 'display_pub', 'display_pub_class', 'display_trap', 'displayhook', 'displayhook_class', 'drop_by_id', 'enable_gui', 'enable_html_pager', 'enable_matplotlib', 'enable_pylab', 'ev', 'events', 'ex', 'excepthook', 'execution_count', 'exit_now', 'exiter', 'extension_manager', 'extract_input_lines', 'filename', 'find_cell_magic', 'find_line_magic', 'find_magic', 'find_user_code', 'get_exception_only', 'get_ipython', 'get_local_scope', 'get_parent', 'get_path_links', 'getoutput', 'has_trait', 'history_length', 'history_load_length', 'history_manager', 'hold_trait_notifications', 'home_dir', 'hooks', 'indent_current_nsp', 'init_alias', 'init_builtins', 'init_completer', 'init_create_namespaces', 'init_data_pub', 'init_display_formatter', 'init_display_pub', 'init_displayhook', 'init_encoding', 'init_environment', 'init_events', 'init_extension_manager', 'init_history', 'init_hooks', 'init_inspector', 'init_instance_attrs', 'init_io', 'init_ipython_dir', 'init_logger', 'init_logstart', 'init_magics', 'init_payload', 'init_pdb', 'init_prefilter', 'init_profile_dir', 'init_prompts', 'init_pushd_popd_magic', 'init_syntax_highlighting', 'init_sys_modules', 'init_traceback_handlers', 'init_user_ns', 'init_virtualenv', 'initialized', 'input_splitter', 'input_transformer_manager', 'input_transformers_cleanup', 'input_transformers_post', 'inspector', 'instance', 'ipython_dir', 'keepkernel_on_exit', 'kernel', 'last_execution_result', 'last_execution_succeeded', 'log', 'logappend', 'logfile', 'logger', 'logstart', 'loop_runner', 'loop_runner_map', 'magic', 'magics_manager', 'meta', 'mktempfile', 'more', 'new_main_mod', 'notify_change', 'ns_table', 'object_info_string_level', 'object_inspect', 'object_inspect_mime', 'object_inspect_text', 'observe', 'on_trait_change', 'parent', 'parent_header', 'payload_manager', 'pdb', 'prefilter', 'prefilter_manager', 'prepare_user_module', 'profile', 'profile_dir', 'push', 'pycolorize', 'pylab_gui_select', 'quiet', 'raw_input_original', 'readline_use', 'refresh_style', 'register_magic_function', 'register_magics', 'register_post_execute', 'reset', 'reset_selective', 'restore_sys_module_state', 'run_ast_nodes', 'run_cell', 'run_cell_async', 'run_cell_magic', 'run_code', 'run_line_magic', 'runcode', 'safe_execfile', 'safe_execfile_ipy', 'safe_run_module', 'save_sys_module_state', 'section_names', 'separate_in', 'separate_out', 'separate_out2', 'set_autoindent', 'set_completer_frame', 'set_custom_completer', 'set_custom_exc', 'set_hook', 'set_next_input', 'set_parent', 'set_trait', 'set_trio_runner', 'setup_instance', 'should_run_async', 'show_banner', 'show_rewritten_input', 'show_usage', 'show_usage_error', 'showindentationerror', 'showsyntaxerror', 'showtraceback', 'sphinxify_docstring', 'starting_dir', 'stdin_encoding', 'strdispatchers', 'switch_doctest_mode', 'sys_excepthook', 'system', 'system_piped', 'system_raw', 'tempdirs', 'tempfiles', 'trait_defaults', 'trait_events', 'trait_has_value', 'trait_metadata', 'trait_names', 'trait_values', 'traits', 'transform_ast', 'transform_cell', 'trio_runner', 'unobserve', 'unobserve_all', 'update_config', 'user_expressions', 'user_global_ns', 'user_module', 'user_ns', 'user_ns_hidden', 'var_expand', 'warn_venv', 'wildcards_case_sensitive', 'xmode'], '___': <ipykernel.zmqshell.ZMQInteractiveShell object at 0x7f68e54d54b0>, '_i': 'p = get_ipython()\\nprint(dir(p))', '_ii': 'p.user_ns', '_iii': 'p = get_ipython()\\ndir(p)', '_i1': '%whos', '_i2': 'globals()', '_2': {...}, '_i3': 'p = get_ipython()', 'p': <ipykernel.zmqshell.ZMQInteractiveShell object at 0x7f68e54d54b0>, '_i4': 'p = get_ipython()\\np', '_4': <ipykernel.zmqshell.ZMQInteractiveShell object at 0x7f68e54d54b0>, '_i5': 'p = get_ipython()\\ndir(p)', '_5': ['Completer', 'CustomTB', 'InteractiveTB', 'SyntaxTB', '__annotations__', '__class__', '__delattr__', '__dict__', '__dir__', '__doc__', '__eq__', '__format__', '__ge__', '__getattribute__', '__getstate__', '__gt__', '__hash__', '__init__', '__init_subclass__', '__le__', '__lt__', '__module__', '__ne__', '__new__', '__reduce__', '__reduce_ex__', '__repr__', '__setattr__', '__setstate__', '__sizeof__', '__str__', '__subclasshook__', '__weakref__', '_add_notifiers', '_atexit_once', '_call_pdb', '_clear_warning_registry', '_config_changed', '_cross_validation_lock', '_default_banner1', '_default_exiter', '_default_loop_runner', '_defining_class', '_enable_html_pager_changed', '_exiter_default', '_find_my_config', '_find_with_lazy_load', '_format_user_obj', '_get_call_pdb', '_get_exc_info', '_get_log_handler', '_get_trait_default_generator', '_getattr_property', '_import_runner', '_indent_current_str', '_inspect', '_instance', '_ipython_dir_changed', '_last_input_line', '_last_traceback', '_load_config', '_log_default', '_main_mod_cache', '_notify_observers', '_notify_trait', '_object_find', '_ofind', '_orig_sys_module_state', '_orig_sys_modules_main_mod', '_orig_sys_modules_main_name', '_post_execute', '_register_validator', '_remove_notifiers', '_run_cell', '_set_call_pdb', '_showtraceback', '_sphinxify_docstring_changed', '_sys_modules_keys', '_trait_default_generators', '_trait_notifiers', '_trait_validators', '_trait_values', '_update_exit_now', '_user_obj_error', '_validate_log', '_walk_mro', 'active_eventloop', 'add_traits', 'alias_manager', 'all_ns_refs', 'ask_exit', 'ask_yes_no', 'ast_node_interactivity', 'ast_transformers', 'atexit_operations', 'auto_rewrite_input', 'autoawait', 'autocall', 'autoindent', 'automagic', 'banner', 'banner1', 'banner2', 'builtin_trap', 'cache_size', 'call_pdb', 'check_complete', 'class_config_rst_doc', 'class_config_section', 'class_get_help', 'class_get_trait_help', 'class_own_trait_events', 'class_own_traits', 'class_print_help', 'class_trait_names', 'class_traits', 'cleanup', 'clear_instance', 'clear_main_mod_cache', 'color_info', 'colors', 'compile', 'compiler_class', 'complete', 'config', 'configurables', 'cross_validation_lock', 'custom_exceptions', 'data_pub', 'data_pub_class', 'db', 'debug', 'debugger', 'debugger_cls', 'default_user_namespaces', 'define_macro', 'del_var', 'dir_stack', 'disable_failing_post_execute', 'display_formatter', 'display_page', 'display_pub', 'display_pub_class', 'display_trap', 'displayhook', 'displayhook_class', 'drop_by_id', 'enable_gui', 'enable_html_pager', 'enable_matplotlib', 'enable_pylab', 'ev', 'events', 'ex', 'excepthook', 'execution_count', 'exit_now', 'exiter', 'extension_manager', 'extract_input_lines', 'filename', 'find_cell_magic', 'find_line_magic', 'find_magic', 'find_user_code', 'get_exception_only', 'get_ipython', 'get_local_scope', 'get_parent', 'get_path_links', 'getoutput', 'has_trait', 'history_length', 'history_load_length', 'history_manager', 'hold_trait_notifications', 'home_dir', 'hooks', 'indent_current_nsp', 'init_alias', 'init_builtins', 'init_completer', 'init_create_namespaces', 'init_data_pub', 'init_display_formatter', 'init_display_pub', 'init_displayhook', 'init_encoding', 'init_environment', 'init_events', 'init_extension_manager', 'init_history', 'init_hooks', 'init_inspector', 'init_instance_attrs', 'init_io', 'init_ipython_dir', 'init_logger', 'init_logstart', 'init_magics', 'init_payload', 'init_pdb', 'init_prefilter', 'init_profile_dir', 'init_prompts', 'init_pushd_popd_magic', 'init_syntax_highlighting', 'init_sys_modules', 'init_traceback_handlers', 'init_user_ns', 'init_virtualenv', 'initialized', 'input_splitter', 'input_transformer_manager', 'input_transformers_cleanup', 'input_transformers_post', 'inspector', 'instance', 'ipython_dir', 'keepkernel_on_exit', 'kernel', 'last_execution_result', 'last_execution_succeeded', 'log', 'logappend', 'logfile', 'logger', 'logstart', 'loop_runner', 'loop_runner_map', 'magic', 'magics_manager', 'meta', 'mktempfile', 'more', 'new_main_mod', 'notify_change', 'ns_table', 'object_info_string_level', 'object_inspect', 'object_inspect_mime', 'object_inspect_text', 'observe', 'on_trait_change', 'parent', 'parent_header', 'payload_manager', 'pdb', 'prefilter', 'prefilter_manager', 'prepare_user_module', 'profile', 'profile_dir', 'push', 'pycolorize', 'pylab_gui_select', 'quiet', 'raw_input_original', 'readline_use', 'refresh_style', 'register_magic_function', 'register_magics', 'register_post_execute', 'reset', 'reset_selective', 'restore_sys_module_state', 'run_ast_nodes', 'run_cell', 'run_cell_async', 'run_cell_magic', 'run_code', 'run_line_magic', 'runcode', 'safe_execfile', 'safe_execfile_ipy', 'safe_run_module', 'save_sys_module_state', 'section_names', 'separate_in', 'separate_out', 'separate_out2', 'set_autoindent', 'set_completer_frame', 'set_custom_completer', 'set_custom_exc', 'set_hook', 'set_next_input', 'set_parent', 'set_trait', 'set_trio_runner', 'setup_instance', 'should_run_async', 'show_banner', 'show_rewritten_input', 'show_usage', 'show_usage_error', 'showindentationerror', 'showsyntaxerror', 'showtraceback', 'sphinxify_docstring', 'starting_dir', 'stdin_encoding', 'strdispatchers', 'switch_doctest_mode', 'sys_excepthook', 'system', 'system_piped', 'system_raw', 'tempdirs', 'tempfiles', 'trait_defaults', 'trait_events', 'trait_has_value', 'trait_metadata', 'trait_names', 'trait_values', 'traits', 'transform_ast', 'transform_cell', 'trio_runner', 'unobserve', 'unobserve_all', 'update_config', 'user_expressions', 'user_global_ns', 'user_module', 'user_ns', 'user_ns_hidden', 'var_expand', 'warn_venv', 'wildcards_case_sensitive', 'xmode'], '_i6': 'p.user_ns', '_6': {...}, '_i7': 'p = get_ipython()\\nprint(dir(p))', '_i8': 'print(p.user_ns)'}\n"
     ]
    }
   ],
   "source": [
    "print(p.user_ns)"
   ]
  },
  {
   "cell_type": "code",
   "execution_count": 4,
   "id": "d6d660da-573d-43e4-8d94-2a04f192ac7f",
   "metadata": {},
   "outputs": [
    {
     "data": {
      "text/plain": [
       "'%7B%22name%22%3A+%7B%22_ilike%22%3A+%22%25-5%25%22%7D%7D'"
      ]
     },
     "execution_count": 4,
     "metadata": {},
     "output_type": "execute_result"
    }
   ],
   "source": [
    "import urllib.parse\n",
    "import json\n",
    "safe_string = urllib.parse.quote_plus('string_of_characters_like_these:$#@=?%^Q^$')\n",
    "safe_string\n",
    "data = {\"name\": {\"_ilike\": \"%-5%\"}}\n",
    "jsondata = json.dumps(data)\n",
    "urllib.parse.quote_plus(jsondata)"
   ]
  },
  {
   "cell_type": "code",
   "execution_count": 7,
   "id": "d9c209e7-fd26-4b48-a571-dc3a4f82cb8a",
   "metadata": {},
   "outputs": [
    {
     "data": {
      "text/plain": [
       "'eyJuYW1lIjogeyJfaWxpa2UiOiAiJS01JSJ9fQ=='"
      ]
     },
     "execution_count": 7,
     "metadata": {},
     "output_type": "execute_result"
    }
   ],
   "source": [
    "import base64\n",
    "data = {\"name\": {\"_ilike\": \"%-5%\"}}\n",
    "jsondata = json.dumps(data)\n",
    "jsonbin = jsondata.encode(\"utf-8\")\n",
    "\n",
    "encoded_data = base64.b64encode(jsonbin)\n",
    "encoded_data\n",
    "encoded_data.decode(\"ascii\")"
   ]
  },
  {
   "cell_type": "code",
   "execution_count": 19,
   "id": "98264f60-be2e-4af7-b0ff-94b2829f19ce",
   "metadata": {},
   "outputs": [
    {
     "name": "stdout",
     "output_type": "stream",
     "text": [
      "proxy for http://gql_ug:8000/gql created\n",
      "with http://gql_ug:8000/gql query for QUERY WO authorization\n",
      "sync {'data': 'QUERY', 'errors': None}\n",
      "definition of connection\n",
      "ENTER\n",
      "with http://gql_ug:8000/gql and token TOKEN query for QUERY\n",
      "async {'data': 'QUERY', 'errors': None}\n",
      "EXIT\n",
      "with http://gql_ug:8000/gql and token TOKEN query for QUERY\n",
      "conn.async {'data': 'QUERY', 'errors': None}\n",
      "SECOND RUN\n",
      "with http://gql_ug:8000/gql query for QUERY WO authorization\n",
      "sync {'data': 'QUERY', 'errors': None}\n",
      "ENTER\n",
      "with http://gql_ug:8000/gql and token TOKEN query for QUERY\n",
      "async {'data': 'QUERY', 'errors': None}\n",
      "EXIT\n",
      "with http://gql_ug:8000/gql and token TOKEN query for QUERY\n",
      "conn.async {'data': 'QUERY', 'errors': None}\n"
     ]
    }
   ],
   "source": [
    "from contextlib import asynccontextmanager\n",
    "from functools import cache\n",
    "\n",
    "@cache\n",
    "def createProxy(url):\n",
    "    print(f\"proxy for {url} created\")\n",
    "    class _Session:\n",
    "        def __init__(self, authorizationToken):\n",
    "            self.authorizationToken = authorizationToken\n",
    "            \n",
    "        async def asyncpost(self, query, variables={}):\n",
    "            print(f\"with {url} and token {self.authorizationToken} query for {query}\")\n",
    "            return {\"data\": query, \"errors\": None}\n",
    "        \n",
    "    class Proxy:\n",
    "        @asynccontextmanager\n",
    "        async def Session(self, authorizationToken):\n",
    "            result = self.connection(authorizationToken=authorizationToken)\n",
    "            print(\"ENTER\")\n",
    "            yield result\n",
    "            print(\"EXIT\")\n",
    "            pass\n",
    "            \n",
    "        @cache\n",
    "        def connection(self, authorizationToken):\n",
    "            print(\"definition of connection\")\n",
    "            result = _Session(authorizationToken=authorizationToken)\n",
    "            return result\n",
    "        \n",
    "        def post(self, query, variables={}):\n",
    "            print(f\"with {url} query for {query} WO authorization\")\n",
    "            return {\"data\": query, \"errors\": None}\n",
    "        \n",
    "        pass\n",
    "    return Proxy()\n",
    "\n",
    "proxy = createProxy(\"http://gql_ug:8000/gql\")\n",
    "response = proxy.post(query=\"QUERY\", variables={\"id\": \"00000000\"})\n",
    "print(\"sync\", response)\n",
    "\n",
    "async with proxy.Session(authorizationToken=\"TOKEN\") as session:\n",
    "    response = await session.asyncpost(query=\"QUERY\", variables={\"id\": \"00000000\"})\n",
    "    print(\"async\", response)\n",
    "\n",
    "conn = proxy.connection(authorizationToken=\"TOKEN\")\n",
    "response = await conn.asyncpost(query=\"QUERY\", variables={\"id\": \"00000000\"})\n",
    "print(\"conn.async\", response)\n",
    "    \n",
    "print(\"SECOND RUN\")\n",
    "proxy = createProxy(\"http://gql_ug:8000/gql\")\n",
    "response = proxy.post(query=\"QUERY\", variables={\"id\": \"00000000\"})\n",
    "print(\"sync\", response)\n",
    "\n",
    "async with proxy.Session(authorizationToken=\"TOKEN\") as session:\n",
    "    response = await session.asyncpost(query=\"QUERY\", variables={\"id\": \"00000000\"})\n",
    "    print(\"async\", response)\n",
    "\n",
    "conn = proxy.connection(authorizationToken=\"TOKEN\")\n",
    "response = await conn.asyncpost(query=\"QUERY\", variables={\"id\": \"00000000\"})\n",
    "print(\"conn.async\", response)\n"
   ]
  },
  {
   "cell_type": "code",
   "execution_count": 75,
   "id": "ff25b466-c456-4d2a-8b6b-8a5181bf57fe",
   "metadata": {},
   "outputs": [
    {
     "name": "stdout",
     "output_type": "stream",
     "text": [
      "something {'info': <class 'str'>, 'where': <class 'str'>, 'return': <class 'str'>}\n",
      "something => <class 'type'>\n",
      "something => (self, info: str, where: str) -> str\n",
      "something2 {'info': <class 'str'>, 'return': 'str'}\n",
      "something2 => <class 'str'>\n",
      "something2 => (self, info: str) -> 'str'\n",
      "somethingList {'info': <class 'str'>, 'return': typing.List[str]}\n",
      "somethingList => <class 'typing._GenericAlias'>\n",
      "somethingList => (self, info: str) -> List[str]\n",
      "somethingOptional {'info': <class 'str'>, 'return': typing.Optional[__main__.UserGQLModel]}\n",
      "somethingOptional => <class 'typing._UnionGenericAlias'>\n",
      "somethingOptional => (self, info: str) -> Optional[__main__.UserGQLModel]\n",
      "somethingOptional1 {'info': <class 'str'>, 'skip': <class 'int'>, 'limit': <class 'int'>, 'return': typing.Optional[ForwardRef('UserGQLModel')]}\n",
      "somethingOptional1 => <class 'typing._UnionGenericAlias'>\n",
      "somethingOptional1 => (self, info: str, skip: int = 0, limit: int = 0) -> Optional[ForwardRef('UserGQLModel')]\n",
      "typing.Optional[ForwardRef('UserGQLModel')]\n"
     ]
    },
    {
     "data": {
      "text/plain": [
       "['__args__',\n",
       " '__call__',\n",
       " '__class__',\n",
       " '__delattr__',\n",
       " '__dict__',\n",
       " '__dir__',\n",
       " '__doc__',\n",
       " '__eq__',\n",
       " '__format__',\n",
       " '__ge__',\n",
       " '__getattr__',\n",
       " '__getattribute__',\n",
       " '__getitem__',\n",
       " '__gt__',\n",
       " '__hash__',\n",
       " '__init__',\n",
       " '__init_subclass__',\n",
       " '__instancecheck__',\n",
       " '__le__',\n",
       " '__lt__',\n",
       " '__module__',\n",
       " '__mro_entries__',\n",
       " '__ne__',\n",
       " '__new__',\n",
       " '__or__',\n",
       " '__origin__',\n",
       " '__parameters__',\n",
       " '__reduce__',\n",
       " '__reduce_ex__',\n",
       " '__repr__',\n",
       " '__ror__',\n",
       " '__setattr__',\n",
       " '__sizeof__',\n",
       " '__slots__',\n",
       " '__str__',\n",
       " '__subclasscheck__',\n",
       " '__subclasshook__',\n",
       " '__weakref__',\n",
       " '_getitem',\n",
       " '_inst',\n",
       " '_name',\n",
       " '_paramspec_tvars',\n",
       " '_typevar_types',\n",
       " 'copy_with']"
      ]
     },
     "execution_count": 75,
     "metadata": {},
     "output_type": "execute_result"
    }
   ],
   "source": [
    "import typing\n",
    "from typing import Optional, List, _GenericAlias, _UnionGenericAlias\n",
    "from inspect import signature\n",
    "import strawberry\n",
    "\n",
    "class UserGQLModel:\n",
    "    @classmethod\n",
    "    async def resolve_reference(cls, info, id):\n",
    "        return {\"id\": id, \"cls\": \"UserGQLModel\"}\n",
    "\n",
    "def asField(*, foreignKeyName: str, scalarType=Optional[str]):\n",
    "    assert foreignKeyName is not None, \"foreignKeyName must be defined\"\n",
    "    ltype = List[\"str\"]\n",
    "    def decorator(field):\n",
    "        print(field.__name__, field.__annotations__)\n",
    "        returnType = field.__annotations__[\"return\"]\n",
    "        whereType = field.__annotations__.get(\"where\", None)\n",
    "        signatureField = signature(field)\n",
    "        skipParameter = signatureField.parameters.get(\"skip\", None)\n",
    "        skipParameterDefault = 0\n",
    "        if skipParameter:\n",
    "            skipParameterDefault = skipParameter.default\n",
    "        limitParameter = signatureField.parameters.get(\"limit\", None)\n",
    "        limitParameterDefault = 0\n",
    "        if limitParameter:\n",
    "            limitParameterDefault = limitParameter.default\n",
    "        whereParameter = signatureField.parameters.get(\"where\", None)\n",
    "        whereParameterDefault = None\n",
    "        whereParameterAnnotation = str\n",
    "        if whereParameter:\n",
    "            whereParameterDefault = whereParameter.default\n",
    "            whereParameterAnnotation = whereParameter.annotation\n",
    "        # print(field.__name__, \"=>\", dir(returnType))\n",
    "        print(field.__name__, \"=>\", type(signature(field).return_annotation))\n",
    "        print(field.__name__, \"=>\", signature(field))\n",
    "        # print(field.__name__, \"=>\", isinstance(signature(field).return_annotation, List))\n",
    "        # print(field.__name__, \"=>\", isinstance(signature(field).return_annotation, _GenericAlias))\n",
    "        # print(field.__name__, \"=>\", isinstance(signature(field).return_annotation, _UnionGenericAlias))\n",
    "        # print(field.__name__, \"=>\", isinstance(returnType, ltype))\n",
    "        async def foreignkeyScalar(\n",
    "            self, info: strawberry.types.Info\n",
    "        ) -> signature(field).return_annotation:\n",
    "            # 👇 self must have an attribute, otherwise it is fail of definition\n",
    "            assert hasattr(self, foreignKeyName)\n",
    "            id = getattr(self, foreignKeyName, None)\n",
    "            result = None if id is None else await scalarType.resolve_reference(info=info, id=id)\n",
    "            return result\n",
    "\n",
    "        async def foreignkeyVectorSimple(\n",
    "            self, info: strawberry.types.Info,\n",
    "            skip: Optional[int] = skipParameterDefault,\n",
    "            limit: Optional[int] = limitParameterDefault\n",
    "        ) -> signature(field).return_annotation:\n",
    "            extendedfilter = {}\n",
    "            extendedfilter[foreignKeyName] = self.id\n",
    "            loader = field(self, info)\n",
    "            results = await loader.page(skip=skip, limit=limit, extendedfilter=extendedfilter)\n",
    "            return results\n",
    "\n",
    "        async def foreignkeyVectorComplex(\n",
    "            self, info: strawberry.types.Info, \n",
    "            where: whereParameterAnnotation = whereParameterDefault, \n",
    "            orderby: Optional[str] = None, \n",
    "            desc: Optional[bool] = None, \n",
    "            skip: Optional[int] = skipParameterDefault,\n",
    "            limit: Optional[int] = limitParameterDefault\n",
    "        ) -> signatureField.return_annotation:\n",
    "            extendedfilter = {}\n",
    "            extendedfilter[foreignKeyName] = self.id\n",
    "            loader = field(self, info)\n",
    "            \n",
    "            wf = None if where is None else strawberry.asdict(where)\n",
    "            results = await loader.page(skip=skip, limit=limit, where=wf, desc=desc, extendedfilter=extendedfilter)\n",
    "            return result\n",
    "        if return_annotation._name == \"List\":\n",
    "            if whereParameterAnnotation:\n",
    "                return foreignkeyVectorComplex\n",
    "            else:\n",
    "                return foreignkeyVectorSimple\n",
    "        else:\n",
    "            return foreignkeyScalar\n",
    "\n",
    "    return decorator\n",
    "\n",
    "@asField(foreignKeyName = \"user_id\")\n",
    "def something(self, info: str, where: str) -> str:\n",
    "    return info\n",
    "\n",
    "@asField(foreignKeyName = \"user_id\")\n",
    "def something2(self, info: str) -> \"str\":\n",
    "    return info\n",
    "\n",
    "@asField(foreignKeyName = \"user_id\")\n",
    "def somethingList(self, info: str) -> List[str]:\n",
    "    return info\n",
    "\n",
    "@asField(foreignKeyName = \"user_id\")\n",
    "def somethingOptional(self, info: str) -> Optional[UserGQLModel]:\n",
    "    return info\n",
    "\n",
    "@asField(foreignKeyName = \"user_id\")\n",
    "def somethingOptional1(self, info: str, skip:int=0, limit:int=0) -> Optional[\"UserGQLModel\"]:\n",
    "    return info\n",
    "\n",
    "return_annotation = signature(somethingOptional1).return_annotation\n",
    "# (signature(return_annotation))\n",
    "print(return_annotation)\n",
    "dir(return_annotation)\n",
    "#dir(return_annotation._typevar_types)\n",
    "#return_annotation._name"
   ]
  },
  {
   "cell_type": "code",
   "execution_count": 80,
   "id": "88d6bab6-5d76-4080-8112-ed3ea83846d4",
   "metadata": {},
   "outputs": [
    {
     "name": "stdout",
     "output_type": "stream",
     "text": [
      "somethingOptional1 {'info': <class 'str'>, 'skip': <class 'int'>, 'limit': <class 'int'>, 'return': typing.Optional[ForwardRef('UserGQLModel')]}\n",
      "somethingOptional1 => <class 'typing._UnionGenericAlias'>\n",
      "somethingOptional1 => (self, info: str, skip: int = 0, limit: int = 0) -> Optional[ForwardRef('UserGQLModel')]\n",
      "somethingOptional3 {'info': <class 'str'>, 'skip': <class 'int'>, 'limit': <class 'int'>, 'return': typing.Optional[ForwardRef('UserGQLModel')]}\n",
      "somethingOptional3 => <class 'typing._UnionGenericAlias'>\n",
      "somethingOptional3 => (self, info: str, skip: int = 0, limit: int = 0) -> Optional[ForwardRef('UserGQLModel')]\n"
     ]
    },
    {
     "data": {
      "text/plain": [
       "True"
      ]
     },
     "execution_count": 80,
     "metadata": {},
     "output_type": "execute_result"
    }
   ],
   "source": [
    "@asField(foreignKeyName = \"user_id\")\n",
    "def somethingOptional1(self, info: str, skip:int=0, limit:int=0) -> Optional[\"UserGQLModel\"]:\n",
    "    return info\n",
    "\n",
    "signatureField = signature(somethingOptional1)\n",
    "signatureField.return_annotation == Optional[\"UserGQLModel\"]\n",
    "\n",
    "@asField(foreignKeyName = \"user_id\")\n",
    "def somethingOptional3(self, info: str, skip:int=0, limit:int=0) -> signatureField.return_annotation:\n",
    "    return info\n",
    "\n",
    "signatureField2 = signature(somethingOptional3)\n",
    "signatureField2.return_annotation\n",
    "signatureField.return_annotation == signatureField2.return_annotation"
   ]
  },
  {
   "cell_type": "code",
   "execution_count": 77,
   "id": "2e9776fc-04ad-4c57-8172-f7ed9b08d491",
   "metadata": {},
   "outputs": [
    {
     "name": "stdout",
     "output_type": "stream",
     "text": [
      "\n",
      "<div className=\"card\" id=\"main\">\n",
      "\t<div className=\"card-header\">\n",
      "\t\tHello\n",
      "\t</div>\n",
      "\t<div className=\"card-body\">\n",
      "\t\tsome data\n",
      "\t</div>\n",
      "</div>\n",
      "\n"
     ]
    }
   ],
   "source": [
    "def rejoin(children):\n",
    "    children = children.split(\"\\n\")\n",
    "    result = \"\"\n",
    "    level = 0\n",
    "    for item in children:\n",
    "        if item.startswith(\"</\"):\n",
    "            level = level - 1\n",
    "        \n",
    "        result = result + \"\\n\" +  level * \"\\t\" + item\n",
    "        if (not item.startswith(\"</\")) and item.startswith(\"<\"):\n",
    "            level = level + 1\n",
    "    return result + \"\\n\"\n",
    "\n",
    "class Component:\n",
    "    def __init__(self, tag=\"div\", **kwargs):\n",
    "        self.tag=tag\n",
    "        self.children = []\n",
    "        self.attributes = {\"className\": \"\"}\n",
    "        self.__call__(**kwargs)\n",
    "        pass\n",
    "    \n",
    "    def result(self, **kwargs):\n",
    "        attrs = \" \".join([f'{key}=\"{value}\"' for key, value in self.attributes.items()])\n",
    "        opentag = f'<{self.tag} {attrs}>'\n",
    "        childtags = self.execute(**kwargs)\n",
    "        closetag = f'</{self.tag}>'\n",
    "        return f'{opentag}\\n{childtags}\\n{closetag}'\n",
    "        \n",
    "    def execute(self, **kwargs):\n",
    "        # print(\"execute\", kwargs)\n",
    "        childtest = [callable(child) for child in self.children]\n",
    "        # print(\"execute\", childtest)\n",
    "        childcontent = [child(executeKwargs=kwargs) if callable(child) else child for child in self.children]\n",
    "        # print(\"execute\", childcontent)\n",
    "        childtags = '\\n'.join(childcontent)\n",
    "        # childtags = join(childcontent)\n",
    "        return childtags\n",
    "    \n",
    "    def __call__(self, executeKwargs=None, **kwargs):\n",
    "        # print(f\"{self.tag}.__call_({executeKwargs}, {kwargs})\")\n",
    "        if kwargs == {}:\n",
    "            if executeKwargs is None:\n",
    "                return self.result()\n",
    "            else:\n",
    "                return self.result(**executeKwargs)\n",
    "        for key, value in kwargs.items():\n",
    "            if key == \"children\":\n",
    "                self.children.extend(value)\n",
    "                continue\n",
    "            self.attributes[key] = value\n",
    "        if (executeKwargs is None):\n",
    "            return self.__call__\n",
    "        else:\n",
    "            return self.__call__(executeKwargs=executeKwargs)\n",
    "\n",
    "Card = Component(className=\"card\")\n",
    "CardHeader = Component(className=\"card-header\")\n",
    "CardBody = Component(className=\"card-body\")\n",
    "\n",
    "html = Card(id=\"main\")(\n",
    "    children=[\n",
    "        CardHeader(children=[\"Hello\"]),\n",
    "        CardBody(children=[\"some data\"])\n",
    "    ]\n",
    ")\n",
    "\n",
    "htmlcode = html()\n",
    "htmlcode = rejoin(htmlcode)\n",
    "print(htmlcode)         "
   ]
  },
  {
   "cell_type": "code",
   "execution_count": 37,
   "id": "8037a999-a5ff-4e72-88e2-e4df076aaf56",
   "metadata": {},
   "outputs": [
    {
     "name": "stdout",
     "output_type": "stream",
     "text": [
      "1\n"
     ]
    }
   ],
   "source": [
    "def f(*, k):\n",
    "    print(k)\n",
    "    \n",
    "f(k=1)"
   ]
  },
  {
   "cell_type": "code",
   "execution_count": 40,
   "id": "df3c28b1-81cb-4834-80bf-0ee74ac04656",
   "metadata": {},
   "outputs": [
    {
     "data": {
      "text/plain": [
       "{'properties': {'id': {'title': 'Id', 'type': 'integer'},\n",
       "  'name': {'title': 'Name', 'type': 'string'}},\n",
       " 'required': ['id', 'name'],\n",
       " 'title': 'Q',\n",
       " 'type': 'object'}"
      ]
     },
     "execution_count": 40,
     "metadata": {},
     "output_type": "execute_result"
    }
   ],
   "source": [
    "import pydantic\n",
    "\n",
    "class Q(pydantic.BaseModel):\n",
    "    id: int\n",
    "    name: str\n",
    "    \n",
    "Q.model_json_schema()"
   ]
  },
  {
   "cell_type": "code",
   "execution_count": null,
   "id": "38d8a137-464c-4e6f-bbdf-221e6e199ead",
   "metadata": {},
   "outputs": [],
   "source": []
  }
 ],
 "metadata": {
  "kernelspec": {
   "display_name": "Python 3 (ipykernel)",
   "language": "python",
   "name": "python3"
  },
  "language_info": {
   "codemirror_mode": {
    "name": "ipython",
    "version": 3
   },
   "file_extension": ".py",
   "mimetype": "text/x-python",
   "name": "python",
   "nbconvert_exporter": "python",
   "pygments_lexer": "ipython3",
   "version": "3.10.6"
  }
 },
 "nbformat": 4,
 "nbformat_minor": 5
}
