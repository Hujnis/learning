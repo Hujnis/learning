{
 "cells": [
  {
   "cell_type": "markdown",
   "id": "31be383b-2c35-4430-a57b-7528726563ee",
   "metadata": {},
   "source": [
    "# Mongo DB + API"
   ]
  },
  {
   "cell_type": "markdown",
   "id": "889067fb-fddd-49cd-b049-54c9f04f7235",
   "metadata": {},
   "source": [
    "## MongoDB"
   ]
  },
  {
   "cell_type": "markdown",
   "id": "5ac929dc-756a-4e12-90d2-625c6aeea1fe",
   "metadata": {},
   "source": [
    "https://motor.readthedocs.io/en/stable/tutorial-asyncio.html\n",
    "\n",
    "> **Dopo video**\n",
    ">\n",
    "> [MongoDB with Python Crash Course - Tutorial for Beginners 2h](https://www.youtube.com/watch?v=E-1xI85Zog8)"
   ]
  },
  {
   "cell_type": "code",
   "execution_count": 1,
   "id": "d8c7fd28-0c53-47d9-88cd-c904b4ab26b2",
   "metadata": {},
   "outputs": [
    {
     "name": "stdout",
     "output_type": "stream",
     "text": [
      "Collecting motor\n",
      "  Downloading motor-2.5.1-py3-none-any.whl (55 kB)\n",
      "     |████████████████████████████████| 55 kB 433 kB/s            \n",
      "\u001b[?25hCollecting pymongo<4,>=3.12\n",
      "  Downloading pymongo-3.12.3-cp39-cp39-manylinux_2_17_x86_64.manylinux2014_x86_64.whl (516 kB)\n",
      "     |████████████████████████████████| 516 kB 1.1 MB/s            \n",
      "\u001b[?25hInstalling collected packages: pymongo, motor\n",
      "Successfully installed motor-2.5.1 pymongo-3.12.3\n"
     ]
    }
   ],
   "source": [
    "!pip install motor"
   ]
  },
  {
   "cell_type": "code",
   "execution_count": 2,
   "id": "8d97e9b7-3c63-45d1-9f56-bc8fc4978492",
   "metadata": {},
   "outputs": [
    {
     "name": "stdout",
     "output_type": "stream",
     "text": [
      "Requirement already satisfied: pymongo in /opt/conda/lib/python3.9/site-packages (3.12.3)\n"
     ]
    }
   ],
   "source": [
    "!pip install pymongo"
   ]
  },
  {
   "cell_type": "code",
   "execution_count": 3,
   "id": "95131cdd-7420-40d0-9914-d5325d3ebdcb",
   "metadata": {},
   "outputs": [],
   "source": [
    "import pandas as pd\n",
    "\n",
    "def displayData(data):\n",
    "    df = pd.DataFrame(data)\n",
    "    display(df)"
   ]
  },
  {
   "cell_type": "markdown",
   "id": "3ca405aa-43cb-4f14-ba18-bf7137c6537f",
   "metadata": {},
   "source": [
    "### Connection"
   ]
  },
  {
   "cell_type": "code",
   "execution_count": 4,
   "id": "1e7c7850-90c6-46fc-badb-f672930532bb",
   "metadata": {},
   "outputs": [],
   "source": [
    "user = 'root'\n",
    "password = 'example'\n",
    "host = 'mongo'\n",
    "port = '27017'"
   ]
  },
  {
   "cell_type": "code",
   "execution_count": 6,
   "id": "95c71768-c8e8-4a63-844e-047ad4d7f64f",
   "metadata": {},
   "outputs": [],
   "source": [
    "connectionString = f'mongodb://{user}:{password}@{host}:{port}'"
   ]
  },
  {
   "cell_type": "markdown",
   "id": "3ef78760-1dd9-412e-9e91-213cc5cbd964",
   "metadata": {},
   "source": [
    "### Connection Async"
   ]
  },
  {
   "cell_type": "code",
   "execution_count": 7,
   "id": "b75c038e-0154-403f-9bba-d2dc391fca7c",
   "metadata": {},
   "outputs": [
    {
     "name": "stdout",
     "output_type": "stream",
     "text": [
      "AsyncIOMotorClient(MongoClient(host=['mongo:27017'], document_class=dict, tz_aware=False, connect=False, driver=DriverInfo(name='Motor', version='2.5.1', platform='asyncio')))\n",
      "['admin', 'config', 'local']\n"
     ]
    }
   ],
   "source": [
    "#should be used inside of Tornado library\n",
    "#import motor.motor_asyncio\n",
    "#client = motor.motor_tornado.MotorClient(connectionString)\n",
    "\n",
    "from motor.motor_asyncio import AsyncIOMotorClient\n",
    "client = AsyncIOMotorClient(connectionString)\n",
    "\n",
    "print(client)\n",
    "dbs = list(await client.list_database_names())\n",
    "print(dbs)"
   ]
  },
  {
   "cell_type": "code",
   "execution_count": 10,
   "id": "3f41d734-b3fb-4109-98fe-1d6ea399b272",
   "metadata": {},
   "outputs": [],
   "source": [
    "db = client['test_database']"
   ]
  },
  {
   "cell_type": "code",
   "execution_count": 11,
   "id": "026e51c5-1ec6-4d8d-83a2-bc801eff5a63",
   "metadata": {},
   "outputs": [],
   "source": [
    "#result = await db.create_collection('test_collection')\n",
    "#print(result)"
   ]
  },
  {
   "cell_type": "markdown",
   "id": "681cede7-02e7-4c54-8c1f-5c0a61a9a50f",
   "metadata": {},
   "source": [
    "## Random Data"
   ]
  },
  {
   "cell_type": "code",
   "execution_count": 8,
   "id": "6b1c086e-5da7-4740-8f6c-5f0669adc9c1",
   "metadata": {},
   "outputs": [],
   "source": [
    "import random \n",
    "\n",
    "def randomUser(mod='main'):\n",
    "    surNames = [\n",
    "        'Novák', 'Nováková', 'Svobodová', 'Svoboda', 'Novotná',\n",
    "        'Novotný', 'Dvořáková', 'Dvořák', 'Černá', 'Černý', \n",
    "        'Procházková', 'Procházka', 'Kučerová', 'Kučera', 'Veselá',\n",
    "        'Veselý', 'Horáková', 'Krejčí', 'Horák', 'Němcová', \n",
    "        'Marková', 'Němec', 'Pokorná', 'Pospíšilová','Marek'\n",
    "    ]\n",
    "\n",
    "    names = [\n",
    "        'Jiří', 'Jan', 'Petr', 'Jana', 'Marie', 'Josef',\n",
    "        'Pavel', 'Martin', 'Tomáš', 'Jaroslav', 'Eva',\n",
    "        'Miroslav', 'Hana', 'Anna', 'Zdeněk', 'Václav',\n",
    "        'Michal', 'František', 'Lenka', 'Kateřina',\n",
    "        'Lucie', 'Jakub', 'Milan', 'Věra', 'Alena'\n",
    "    ]\n",
    "\n",
    "    name1 = random.choice(names)\n",
    "    name2 = random.choice(names)\n",
    "    name3 = random.choice(surNames)\n",
    "    email = f'{name1}.{name2}.{name3}@{mod}.university.world'\n",
    "    return {'name': f'{name1} {name2}', 'surname': name3, 'email': email}\n",
    "\n",
    "def randomDepartment(mod='1', index=0, teachersCount=10):\n",
    "    name = f\"K{mod}{index+1}_{random.choice(['B', 'C', 'K'])}{random.choice(['A', 'E', 'I'])}\"\n",
    "    result = {\n",
    "        'name': name,\n",
    "        'teachers': [randomUser() for _ in range(teachersCount)]\n",
    "    }\n",
    "    return result\n",
    "    "
   ]
  },
  {
   "cell_type": "markdown",
   "id": "e9e265d7-7041-4994-8366-fa34c8b42be0",
   "metadata": {},
   "source": [
    "## CRUD Ops"
   ]
  },
  {
   "cell_type": "markdown",
   "id": "047add60-6aa0-4441-bb21-56f6ba2ff4f3",
   "metadata": {},
   "source": [
    "https://motor.readthedocs.io/en/stable/tutorial-asyncio.html\n",
    "\n",
    "Bez ohledu na typ databáze jsou operace CRUD vždy základním prvkem."
   ]
  },
  {
   "cell_type": "markdown",
   "id": "7cf53366-40e1-4acb-9351-acb3417924f1",
   "metadata": {},
   "source": [
    "### Create"
   ]
  },
  {
   "cell_type": "code",
   "execution_count": 95,
   "id": "2882aeef-8b92-418b-89fc-9b22713f08f6",
   "metadata": {},
   "outputs": [],
   "source": [
    "from bson.objectid import ObjectId\n",
    "\n",
    "async def mongoCreateDoc(collection, doc):\n",
    "    result = await collection.insert_one(doc)\n",
    "    return result.inserted_id\n",
    "\n",
    "async def mongoCreateDocAndReturn(collection, doc):\n",
    "    result = await collection.insert_one(doc)\n",
    "    result = await collection.find_one({'_id': {'$eq': ObjectId(result.inserted_id)}})\n",
    "    return result"
   ]
  },
  {
   "cell_type": "code",
   "execution_count": 79,
   "id": "0f578265-ca59-4784-b5b0-a51a1be5ac91",
   "metadata": {},
   "outputs": [],
   "source": [
    "async def mongoCreateDocs(collection, *docs):\n",
    "    result = await collection.insert_many(docs)\n",
    "    return result.inserted_ids\n",
    "\n",
    "async def mongoCreateDocsAndReturn(collection, *docs):\n",
    "    result = await collection.insert_many(docs)\n",
    "    results = [collection.find_one({'_id': {'$eq': ObjectId(inserted_id)}}) for inserted_id in result.inserted_ids]\n",
    "    return await asyncio.gather(*results)"
   ]
  },
  {
   "cell_type": "code",
   "execution_count": 82,
   "id": "aefc9d5f-7890-4f48-a9f4-9bcf361c605c",
   "metadata": {},
   "outputs": [
    {
     "name": "stdout",
     "output_type": "stream",
     "text": [
      "625682de4015779cfa898381\n",
      "{'_id': ObjectId('625682de4015779cfa898381'), 'name': 'Martin Věra', 'surname': 'Pokorná', 'email': 'Martin.Věra.Pokorná@main.university.world'}\n"
     ]
    }
   ],
   "source": [
    "collection = client['test_database']['users']\n",
    "newUser = await mongoCreateDocAndReturn(collection, randomUser())\n",
    "print(newUser)"
   ]
  },
  {
   "cell_type": "code",
   "execution_count": 83,
   "id": "97626be4-f7b3-441e-b832-89593414753d",
   "metadata": {},
   "outputs": [
    {
     "name": "stdout",
     "output_type": "stream",
     "text": [
      "0 {'_id': ObjectId('625682df4015779cfa898382'), 'name': 'Marie Jakub', 'surname': 'Kučerová', 'email': 'Marie.Jakub.Kučerová@main.university.world'}\n",
      "1 {'_id': ObjectId('625682df4015779cfa898383'), 'name': 'Kateřina Lenka', 'surname': 'Nováková', 'email': 'Kateřina.Lenka.Nováková@main.university.world'}\n",
      "2 {'_id': ObjectId('625682df4015779cfa898384'), 'name': 'Václav Josef', 'surname': 'Marek', 'email': 'Václav.Josef.Marek@main.university.world'}\n",
      "3 {'_id': ObjectId('625682df4015779cfa898385'), 'name': 'Jan Martin', 'surname': 'Svobodová', 'email': 'Jan.Martin.Svobodová@main.university.world'}\n",
      "4 {'_id': ObjectId('625682df4015779cfa898386'), 'name': 'Lenka Lucie', 'surname': 'Horák', 'email': 'Lenka.Lucie.Horák@main.university.world'}\n",
      "5 {'_id': ObjectId('625682df4015779cfa898387'), 'name': 'Jaroslav Alena', 'surname': 'Němcová', 'email': 'Jaroslav.Alena.Němcová@main.university.world'}\n",
      "6 {'_id': ObjectId('625682df4015779cfa898388'), 'name': 'Josef Jana', 'surname': 'Marková', 'email': 'Josef.Jana.Marková@main.university.world'}\n",
      "7 {'_id': ObjectId('625682df4015779cfa898389'), 'name': 'Petr Zdeněk', 'surname': 'Němec', 'email': 'Petr.Zdeněk.Němec@main.university.world'}\n",
      "8 {'_id': ObjectId('625682df4015779cfa89838a'), 'name': 'Alena Alena', 'surname': 'Dvořák', 'email': 'Alena.Alena.Dvořák@main.university.world'}\n",
      "9 {'_id': ObjectId('625682df4015779cfa89838b'), 'name': 'Lucie Miroslav', 'surname': 'Černý', 'email': 'Lucie.Miroslav.Černý@main.university.world'}\n"
     ]
    }
   ],
   "source": [
    "tenUsers = [randomUser() for _ in range(10)]\n",
    "insertedUsers = await mongoCreateDocsAndReturn(collection, *tenUsers)\n",
    "for index, user in enumerate(insertedUsers):\n",
    "    print(index, user)"
   ]
  },
  {
   "cell_type": "markdown",
   "id": "98cd1e92-1aa4-4973-9322-0b4947b8c2b5",
   "metadata": {},
   "source": [
    "### Read Multi"
   ]
  },
  {
   "cell_type": "code",
   "execution_count": 84,
   "id": "5c8f1ea9-22c9-45b7-b5e8-f242fd1f07c8",
   "metadata": {},
   "outputs": [],
   "source": [
    "async def mongoReadDocs(collection, query={}, skip=0, limit=100):\n",
    "    cursor = collection.find(query).skip(skip).limit(limit)\n",
    "    documents = await cursor.to_list(limit)\n",
    "    return documents"
   ]
  },
  {
   "cell_type": "code",
   "execution_count": 85,
   "id": "be4d6f03-d74f-4d79-85e1-aa812474238c",
   "metadata": {},
   "outputs": [
    {
     "name": "stdout",
     "output_type": "stream",
     "text": [
      "0 {'_id': ObjectId('625673224015779cfa89834f'), 'name': 'Josef Jan', 'surname': 'Nowak', 'email': 'Josef.Jan.Němcová@main.university.world'}\n",
      "1 {'_id': ObjectId('625673224015779cfa898350'), 'name': 'Tomáš Anna', 'surname': 'Veselá', 'email': 'Tomáš.Anna.Veselá@main.university.world'}\n",
      "2 {'_id': ObjectId('625673224015779cfa898351'), 'name': 'Miroslav Lenka', 'surname': 'Pospíšilová', 'email': 'Miroslav.Lenka.Pospíšilová@main.university.world'}\n",
      "3 {'_id': ObjectId('625673224015779cfa898352'), 'name': 'Eva Věra', 'surname': 'Veselá', 'email': 'Eva.Věra.Veselá@main.university.world'}\n",
      "4 {'_id': ObjectId('625673224015779cfa898353'), 'name': 'Pavel Zdeněk', 'surname': 'Pospíšilová', 'email': 'Pavel.Zdeněk.Pospíšilová@main.university.world'}\n",
      "5 {'_id': ObjectId('625673224015779cfa898354'), 'name': 'Jaroslav Marie', 'surname': 'Marek', 'email': 'Jaroslav.Marie.Marek@main.university.world'}\n",
      "6 {'_id': ObjectId('625673224015779cfa898355'), 'name': 'Michal Václav', 'surname': 'Svoboda', 'email': 'Michal.Václav.Svoboda@main.university.world'}\n",
      "7 {'_id': ObjectId('625673224015779cfa898356'), 'name': 'Věra Pavel', 'surname': 'Procházka', 'email': 'Věra.Pavel.Procházka@main.university.world'}\n",
      "8 {'_id': ObjectId('6256808b4015779cfa898357'), 'name': 'Jiří Jakub', 'surname': 'Veselý', 'email': 'Jiří.Jakub.Veselý@main.university.world'}\n",
      "9 {'_id': ObjectId('625680b94015779cfa898358'), 'name': 'Jiří Miroslav', 'surname': 'Nováková', 'email': 'Jiří.Miroslav.Nováková@main.university.world'}\n",
      "10 {'_id': ObjectId('625680ce4015779cfa898359'), 'name': 'Jan Tomáš', 'surname': 'Kučerová', 'email': 'Jan.Tomáš.Kučerová@main.university.world'}\n",
      "11 {'_id': ObjectId('625681614015779cfa89835a'), 'name': 'František Petr', 'surname': 'Novotný', 'email': 'František.Petr.Novotný@main.university.world'}\n",
      "12 {'_id': ObjectId('625681794015779cfa89835b'), 'name': 'Lenka Anna', 'surname': 'Svobodová', 'email': 'Lenka.Anna.Svobodová@main.university.world'}\n",
      "13 {'_id': ObjectId('625681864015779cfa89835c'), 'name': 'Jaroslav Alena', 'surname': 'Horák', 'email': 'Jaroslav.Alena.Horák@main.university.world'}\n",
      "14 {'_id': ObjectId('625682544015779cfa89835d'), 'name': 'Lenka Tomáš', 'surname': 'Horák', 'email': 'Lenka.Tomáš.Horák@main.university.world'}\n",
      "15 {'_id': ObjectId('625682974015779cfa89835e'), 'name': 'Jan Hana', 'surname': 'Černá', 'email': 'Jan.Hana.Černá@main.university.world'}\n",
      "16 {'_id': ObjectId('625682a44015779cfa89835f'), 'name': 'Věra Hana', 'surname': 'Horáková', 'email': 'Věra.Hana.Horáková@main.university.world'}\n",
      "17 {'_id': ObjectId('625682ad4015779cfa898360'), 'name': 'Jaroslav Václav', 'surname': 'Horáková', 'email': 'Jaroslav.Václav.Horáková@main.university.world'}\n",
      "18 {'_id': ObjectId('625682ad4015779cfa898361'), 'name': 'Lucie Jan', 'surname': 'Kučerová', 'email': 'Lucie.Jan.Kučerová@main.university.world'}\n",
      "19 {'_id': ObjectId('625682ad4015779cfa898362'), 'name': 'Milan Lucie', 'surname': 'Kučera', 'email': 'Milan.Lucie.Kučera@main.university.world'}\n",
      "20 {'_id': ObjectId('625682ad4015779cfa898363'), 'name': 'Martin Martin', 'surname': 'Novák', 'email': 'Martin.Martin.Novák@main.university.world'}\n",
      "21 {'_id': ObjectId('625682ad4015779cfa898364'), 'name': 'František Pavel', 'surname': 'Černá', 'email': 'František.Pavel.Černá@main.university.world'}\n",
      "22 {'_id': ObjectId('625682ad4015779cfa898365'), 'name': 'Pavel Alena', 'surname': 'Marková', 'email': 'Pavel.Alena.Marková@main.university.world'}\n",
      "23 {'_id': ObjectId('625682ad4015779cfa898366'), 'name': 'Pavel Jiří', 'surname': 'Procházková', 'email': 'Pavel.Jiří.Procházková@main.university.world'}\n",
      "24 {'_id': ObjectId('625682ad4015779cfa898367'), 'name': 'Jan Michal', 'surname': 'Pokorná', 'email': 'Jan.Michal.Pokorná@main.university.world'}\n",
      "25 {'_id': ObjectId('625682ad4015779cfa898368'), 'name': 'Michal Tomáš', 'surname': 'Veselá', 'email': 'Michal.Tomáš.Veselá@main.university.world'}\n",
      "26 {'_id': ObjectId('625682ad4015779cfa898369'), 'name': 'Jana Zdeněk', 'surname': 'Němec', 'email': 'Jana.Zdeněk.Němec@main.university.world'}\n",
      "27 {'_id': ObjectId('625682ad4015779cfa89836a'), 'name': 'Marie Kateřina', 'surname': 'Horáková', 'email': 'Marie.Kateřina.Horáková@main.university.world'}\n",
      "28 {'_id': ObjectId('625682ba4015779cfa89836b'), 'name': 'Tomáš Petr', 'surname': 'Novák', 'email': 'Tomáš.Petr.Novák@main.university.world'}\n",
      "29 {'_id': ObjectId('625682ba4015779cfa89836c'), 'name': 'Zdeněk Alena', 'surname': 'Nováková', 'email': 'Zdeněk.Alena.Nováková@main.university.world'}\n",
      "30 {'_id': ObjectId('625682ba4015779cfa89836d'), 'name': 'Josef Věra', 'surname': 'Pokorná', 'email': 'Josef.Věra.Pokorná@main.university.world'}\n",
      "31 {'_id': ObjectId('625682ba4015779cfa89836e'), 'name': 'Milan Tomáš', 'surname': 'Svobodová', 'email': 'Milan.Tomáš.Svobodová@main.university.world'}\n",
      "32 {'_id': ObjectId('625682ba4015779cfa89836f'), 'name': 'Marie Hana', 'surname': 'Veselá', 'email': 'Marie.Hana.Veselá@main.university.world'}\n",
      "33 {'_id': ObjectId('625682ba4015779cfa898370'), 'name': 'Pavel Zdeněk', 'surname': 'Černý', 'email': 'Pavel.Zdeněk.Černý@main.university.world'}\n",
      "34 {'_id': ObjectId('625682ba4015779cfa898371'), 'name': 'Petr Martin', 'surname': 'Pospíšilová', 'email': 'Petr.Martin.Pospíšilová@main.university.world'}\n",
      "35 {'_id': ObjectId('625682ba4015779cfa898372'), 'name': 'Hana Jiří', 'surname': 'Procházka', 'email': 'Hana.Jiří.Procházka@main.university.world'}\n",
      "36 {'_id': ObjectId('625682ba4015779cfa898373'), 'name': 'Josef Lucie', 'surname': 'Svobodová', 'email': 'Josef.Lucie.Svobodová@main.university.world'}\n",
      "37 {'_id': ObjectId('625682ba4015779cfa898374'), 'name': 'Josef Tomáš', 'surname': 'Marek', 'email': 'Josef.Tomáš.Marek@main.university.world'}\n",
      "38 {'_id': ObjectId('625682ba4015779cfa898375'), 'name': 'Pavel Jakub', 'surname': 'Svobodová', 'email': 'Pavel.Jakub.Svobodová@main.university.world'}\n",
      "39 {'_id': ObjectId('625682d04015779cfa898376'), 'name': 'Eva Věra', 'surname': 'Nováková', 'email': 'Eva.Věra.Nováková@main.university.world'}\n",
      "40 {'_id': ObjectId('625682d04015779cfa898377'), 'name': 'Jaroslav Jana', 'surname': 'Novotná', 'email': 'Jaroslav.Jana.Novotná@main.university.world'}\n",
      "41 {'_id': ObjectId('625682d04015779cfa898378'), 'name': 'Pavel Tomáš', 'surname': 'Němec', 'email': 'Pavel.Tomáš.Němec@main.university.world'}\n",
      "42 {'_id': ObjectId('625682d04015779cfa898379'), 'name': 'Pavel Václav', 'surname': 'Němec', 'email': 'Pavel.Václav.Němec@main.university.world'}\n",
      "43 {'_id': ObjectId('625682d04015779cfa89837a'), 'name': 'Miroslav Pavel', 'surname': 'Pokorná', 'email': 'Miroslav.Pavel.Pokorná@main.university.world'}\n",
      "44 {'_id': ObjectId('625682d04015779cfa89837b'), 'name': 'Martin Michal', 'surname': 'Novotný', 'email': 'Martin.Michal.Novotný@main.university.world'}\n",
      "45 {'_id': ObjectId('625682d04015779cfa89837c'), 'name': 'Milan Zdeněk', 'surname': 'Novotná', 'email': 'Milan.Zdeněk.Novotná@main.university.world'}\n",
      "46 {'_id': ObjectId('625682d04015779cfa89837d'), 'name': 'Alena Eva', 'surname': 'Černá', 'email': 'Alena.Eva.Černá@main.university.world'}\n",
      "47 {'_id': ObjectId('625682d04015779cfa89837e'), 'name': 'Kateřina Pavel', 'surname': 'Veselý', 'email': 'Kateřina.Pavel.Veselý@main.university.world'}\n",
      "48 {'_id': ObjectId('625682d04015779cfa89837f'), 'name': 'Jiří Josef', 'surname': 'Černá', 'email': 'Jiří.Josef.Černá@main.university.world'}\n",
      "49 {'_id': ObjectId('625682d04015779cfa898380'), 'name': 'Věra Lucie', 'surname': 'Černý', 'email': 'Věra.Lucie.Černý@main.university.world'}\n",
      "50 {'_id': ObjectId('625682de4015779cfa898381'), 'name': 'Martin Věra', 'surname': 'Pokorná', 'email': 'Martin.Věra.Pokorná@main.university.world'}\n",
      "51 {'_id': ObjectId('625682df4015779cfa898382'), 'name': 'Marie Jakub', 'surname': 'Kučerová', 'email': 'Marie.Jakub.Kučerová@main.university.world'}\n",
      "52 {'_id': ObjectId('625682df4015779cfa898383'), 'name': 'Kateřina Lenka', 'surname': 'Nováková', 'email': 'Kateřina.Lenka.Nováková@main.university.world'}\n",
      "53 {'_id': ObjectId('625682df4015779cfa898384'), 'name': 'Václav Josef', 'surname': 'Marek', 'email': 'Václav.Josef.Marek@main.university.world'}\n",
      "54 {'_id': ObjectId('625682df4015779cfa898385'), 'name': 'Jan Martin', 'surname': 'Svobodová', 'email': 'Jan.Martin.Svobodová@main.university.world'}\n",
      "55 {'_id': ObjectId('625682df4015779cfa898386'), 'name': 'Lenka Lucie', 'surname': 'Horák', 'email': 'Lenka.Lucie.Horák@main.university.world'}\n",
      "56 {'_id': ObjectId('625682df4015779cfa898387'), 'name': 'Jaroslav Alena', 'surname': 'Němcová', 'email': 'Jaroslav.Alena.Němcová@main.university.world'}\n",
      "57 {'_id': ObjectId('625682df4015779cfa898388'), 'name': 'Josef Jana', 'surname': 'Marková', 'email': 'Josef.Jana.Marková@main.university.world'}\n",
      "58 {'_id': ObjectId('625682df4015779cfa898389'), 'name': 'Petr Zdeněk', 'surname': 'Němec', 'email': 'Petr.Zdeněk.Němec@main.university.world'}\n",
      "59 {'_id': ObjectId('625682df4015779cfa89838a'), 'name': 'Alena Alena', 'surname': 'Dvořák', 'email': 'Alena.Alena.Dvořák@main.university.world'}\n",
      "60 {'_id': ObjectId('625682df4015779cfa89838b'), 'name': 'Lucie Miroslav', 'surname': 'Černý', 'email': 'Lucie.Miroslav.Černý@main.university.world'}\n"
     ]
    }
   ],
   "source": [
    "collection = client['test_database']['users']\n",
    "for index, doc in enumerate(await mongoReadDocs(collection)):\n",
    "    print(index, doc)"
   ]
  },
  {
   "cell_type": "markdown",
   "id": "dd475f2f-38fd-4a68-a547-aae7428b66fa",
   "metadata": {
    "tags": []
   },
   "source": [
    "### Read"
   ]
  },
  {
   "cell_type": "code",
   "execution_count": 24,
   "id": "ee9efe62-5a86-42ce-9140-b126254e4d85",
   "metadata": {},
   "outputs": [],
   "source": [
    "async def mongoReadDoc(collection, doc):\n",
    "    return await collection.find_one({'_id': doc['_id']})"
   ]
  },
  {
   "cell_type": "code",
   "execution_count": 27,
   "id": "8f00f2a0-0f7b-43ed-9c72-a3131e39c6bf",
   "metadata": {},
   "outputs": [
    {
     "name": "stdout",
     "output_type": "stream",
     "text": [
      "{'_id': ObjectId('625673224015779cfa89834d'), 'name': 'Marie Kateřina', 'surname': 'Svobodová', 'email': 'Marie.Kateřina.Svobodová@main.university.world'}\n",
      "{'_id': ObjectId('625673224015779cfa89834d'), 'name': 'Marie Kateřina', 'surname': 'Svobodová', 'email': 'Marie.Kateřina.Svobodová@main.university.world'}\n"
     ]
    }
   ],
   "source": [
    "collection = client['test_database']['users']\n",
    "firstUser = (await mongoReadDocs(collection, limit=1))[0]\n",
    "print(firstUser)\n",
    "firstUserId = firstUser['_id']\n",
    "user = await mongoReadDoc(collection, {'_id': firstUserId})\n",
    "print(user)"
   ]
  },
  {
   "cell_type": "markdown",
   "id": "5e16efbc-fc92-4551-95ec-809529ce45c1",
   "metadata": {},
   "source": [
    "### Update"
   ]
  },
  {
   "cell_type": "markdown",
   "id": "1d7ef1b0-5906-4341-9124-7b6fdc7af120",
   "metadata": {},
   "source": [
    "Mongo podporuje dva typy změn:\n",
    "- replacement\n",
    "- klasický update"
   ]
  },
  {
   "cell_type": "code",
   "execution_count": 36,
   "id": "19e6275e-93a4-4e57-9b05-082b84de628e",
   "metadata": {},
   "outputs": [],
   "source": [
    "async def mongoReplaceDoc(collection, doc):\n",
    "    replacementDoc = {**doc}\n",
    "    del replacementDoc['_id']\n",
    "    result = await collection.replace_one({'_id': doc['_id']}, replacementDoc)\n",
    "    return result"
   ]
  },
  {
   "cell_type": "code",
   "execution_count": 37,
   "id": "d7b80aaa-551a-40fa-a84b-1166fe3a733b",
   "metadata": {},
   "outputs": [],
   "source": [
    "async def mongoReplaceDocAndReturn(collection, doc):\n",
    "    replacementDoc = {**doc}\n",
    "    del replacementDoc['_id']\n",
    "    result = await collection.replace_one({'_id': doc['_id']}, replacementDoc)\n",
    "    return replacementDoc"
   ]
  },
  {
   "cell_type": "code",
   "execution_count": 45,
   "id": "400a9eef-c0d9-4424-9ef1-2a14cd33d1be",
   "metadata": {},
   "outputs": [],
   "source": [
    "async def mongoUpdateDoc(collection, doc):\n",
    "    updatingDoc = {**doc}\n",
    "    del updatingDoc['_id']\n",
    "    result = await collection.update_one({'_id': doc['_id']}, {'$set': updatingDoc})\n",
    "    return result"
   ]
  },
  {
   "cell_type": "code",
   "execution_count": 46,
   "id": "8443e8b8-c150-402e-9d2e-c11b70e916a1",
   "metadata": {},
   "outputs": [],
   "source": [
    "async def mongoUpdateDocAndReturn(collection, doc):\n",
    "    updatingDoc = {**doc}\n",
    "    del updatingDoc['_id']\n",
    "    result = await collection.update_one({'_id': doc['_id']}, {'$set': updatingDoc})\n",
    "    return await collection.find_one({'_id': doc['_id']})"
   ]
  },
  {
   "cell_type": "code",
   "execution_count": 47,
   "id": "c16db3d2-113a-46ce-8bb7-770bf40658b5",
   "metadata": {},
   "outputs": [
    {
     "name": "stdout",
     "output_type": "stream",
     "text": [
      "{'_id': ObjectId('625673224015779cfa89834f'), 'name': 'Josef Jan', 'surname': 'Němcová', 'email': 'Josef.Jan.Němcová@main.university.world'}\n",
      "{'_id': ObjectId('625673224015779cfa89834f'), 'name': 'Josef Jan', 'surname': 'Nowak', 'email': 'Josef.Jan.Němcová@main.university.world'}\n"
     ]
    }
   ],
   "source": [
    "collection = client['test_database']['users']\n",
    "firstUser = (await mongoReadDocs(collection, limit=3))[2]\n",
    "print(firstUser)\n",
    "firstUserId = firstUser['_id']\n",
    "\n",
    "collection = client['test_database']['users']\n",
    "result = await mongoUpdateDocAndReturn(collection, {'_id': firstUserId, 'surname': 'Nowak'})\n",
    "print(result)"
   ]
  },
  {
   "cell_type": "markdown",
   "id": "872435a2-aa19-4dc7-b2f3-a11d04031f09",
   "metadata": {},
   "source": [
    "### Delete"
   ]
  },
  {
   "cell_type": "code",
   "execution_count": 52,
   "id": "b1e329a9-f011-4cd6-b1dc-4c58c026d7bf",
   "metadata": {},
   "outputs": [],
   "source": [
    "async def mongoDeleteDoc(collection, doc):\n",
    "    result = await collection.delete_many(doc)\n",
    "    return {'ok': True}"
   ]
  },
  {
   "cell_type": "code",
   "execution_count": 54,
   "id": "8cddacf8-5860-4d92-976c-9484a1ac89ff",
   "metadata": {},
   "outputs": [
    {
     "name": "stdout",
     "output_type": "stream",
     "text": [
      "{'_id': ObjectId('625673224015779cfa89834e'), 'surname': 'Nowak'}\n",
      "{'_id': ObjectId('625673224015779cfa89834f'), 'name': 'Josef Jan', 'surname': 'Nowak', 'email': 'Josef.Jan.Němcová@main.university.world'}\n"
     ]
    }
   ],
   "source": [
    "collection = client['test_database']['users']\n",
    "firstUser = (await mongoReadDocs(collection, limit=1))[0]\n",
    "print(firstUser)\n",
    "firstUserId = firstUser['_id']\n",
    "\n",
    "deleted = await mongoDeleteDoc(collection, firstUser)\n",
    "nextUser = (await mongoReadDocs(collection, limit=1))[0]\n",
    "print(nextUser)"
   ]
  },
  {
   "cell_type": "markdown",
   "id": "a48b5243-75f1-4cd7-855a-c858faee5a22",
   "metadata": {},
   "source": [
    "## Relace?"
   ]
  },
  {
   "cell_type": "markdown",
   "id": "601c52b9-d08c-49fd-86d2-a6671e10afad",
   "metadata": {},
   "source": [
    "Relace v databázi, která není relační zní tak trochu jako nesmysl. Faktem ale zůstává, že i v mongoDB uložené dokumenty (dokumentová databáze) musí být identifikovatelné, aby byly jednotlivé dokumenty dohledatelné. Znamená to, že v databázích, které uchovávají \"vnější\" odkazy musí být uložen identifikátor. Pokud je takový \"vnější\" identifikátor uložen v mongoDB a má být optimalizováno vyhledávání dokumentů podle tohoto identifikátoru, musí existovat index (obecný princip).\n",
    "\n",
    "Příklad z relačních databází, kdy máme dokument o skupině (katedra) a dokumenty o uživatelech (učitelích - příslušnících katedry)."
   ]
  },
  {
   "cell_type": "code",
   "execution_count": 100,
   "id": "f5eaa52e-a609-4e2e-ba08-365825b1bb31",
   "metadata": {},
   "outputs": [
    {
     "name": "stdout",
     "output_type": "stream",
     "text": [
      "{'name': 'K11_BE', 'teachers': [{'name': 'František Jakub', 'surname': 'Kučerová', 'email': 'František.Jakub.Kučerová@main.university.world'}, {'name': 'Jaroslav Alena', 'surname': 'Marková', 'email': 'Jaroslav.Alena.Marková@main.university.world'}, {'name': 'Tomáš Michal', 'surname': 'Veselý', 'email': 'Tomáš.Michal.Veselý@main.university.world'}, {'name': 'Václav Alena', 'surname': 'Kučera', 'email': 'Václav.Alena.Kučera@main.university.world'}, {'name': 'Lucie Jana', 'surname': 'Dvořák', 'email': 'Lucie.Jana.Dvořák@main.university.world'}, {'name': 'Michal Anna', 'surname': 'Dvořáková', 'email': 'Michal.Anna.Dvořáková@main.university.world'}, {'name': 'Jakub Alena', 'surname': 'Marková', 'email': 'Jakub.Alena.Marková@main.university.world'}, {'name': 'Jaroslav Jiří', 'surname': 'Marek', 'email': 'Jaroslav.Jiří.Marek@main.university.world'}, {'name': 'Hana Věra', 'surname': 'Veselá', 'email': 'Hana.Věra.Veselá@main.university.world'}, {'name': 'Kateřina Hana', 'surname': 'Černá', 'email': 'Kateřina.Hana.Černá@main.university.world'}]}\n"
     ]
    }
   ],
   "source": [
    "groupCollection = client['test_database']['groups']\n",
    "department = randomDepartment()\n",
    "print(department)"
   ]
  },
  {
   "cell_type": "markdown",
   "id": "fb84e809-4e4d-4986-8879-fb652d14303f",
   "metadata": {},
   "source": [
    "Lze samozřejmě uložit kompletní dokument, ale jak budeme pracovat s jednotlivými uživateli?"
   ]
  },
  {
   "cell_type": "code",
   "execution_count": 101,
   "id": "e429a1da-00d8-4cd2-92df-f0f35a311664",
   "metadata": {},
   "outputs": [
    {
     "name": "stdout",
     "output_type": "stream",
     "text": [
      "{'_id': ObjectId('625689ec4015779cfa8983b9'), 'name': 'K11_BE'}\n"
     ]
    }
   ],
   "source": [
    "departmentDoc = await mongoCreateDocAndReturn(groupCollection, {'name': department['name']})\n",
    "print(departmentDoc)"
   ]
  },
  {
   "cell_type": "code",
   "execution_count": 97,
   "id": "37416147-bc54-43a8-92c4-766445308360",
   "metadata": {},
   "outputs": [
    {
     "name": "stdout",
     "output_type": "stream",
     "text": [
      "0 {'_id': ObjectId('6256868b4015779cfa8983af'), 'name': 'Václav Lenka', 'surname': 'Nováková', 'email': 'Václav.Lenka.Nováková@main.university.world', 'groups': [{'_id': ObjectId('625686894015779cfa8983ae')}]}\n",
      "1 {'_id': ObjectId('6256868b4015779cfa8983b0'), 'name': 'Hana Lenka', 'surname': 'Němec', 'email': 'Hana.Lenka.Němec@main.university.world', 'groups': [{'_id': ObjectId('625686894015779cfa8983ae')}]}\n",
      "2 {'_id': ObjectId('6256868b4015779cfa8983b1'), 'name': 'Pavel Miroslav', 'surname': 'Dvořáková', 'email': 'Pavel.Miroslav.Dvořáková@main.university.world', 'groups': [{'_id': ObjectId('625686894015779cfa8983ae')}]}\n",
      "3 {'_id': ObjectId('6256868b4015779cfa8983b2'), 'name': 'Věra Kateřina', 'surname': 'Černá', 'email': 'Věra.Kateřina.Černá@main.university.world', 'groups': [{'_id': ObjectId('625686894015779cfa8983ae')}]}\n",
      "4 {'_id': ObjectId('6256868b4015779cfa8983b3'), 'name': 'Zdeněk Hana', 'surname': 'Procházka', 'email': 'Zdeněk.Hana.Procházka@main.university.world', 'groups': [{'_id': ObjectId('625686894015779cfa8983ae')}]}\n",
      "5 {'_id': ObjectId('6256868b4015779cfa8983b4'), 'name': 'Petr Jaroslav', 'surname': 'Novotná', 'email': 'Petr.Jaroslav.Novotná@main.university.world', 'groups': [{'_id': ObjectId('625686894015779cfa8983ae')}]}\n",
      "6 {'_id': ObjectId('6256868b4015779cfa8983b5'), 'name': 'Jakub Miroslav', 'surname': 'Krejčí', 'email': 'Jakub.Miroslav.Krejčí@main.university.world', 'groups': [{'_id': ObjectId('625686894015779cfa8983ae')}]}\n",
      "7 {'_id': ObjectId('6256868b4015779cfa8983b6'), 'name': 'Jaroslav Marie', 'surname': 'Novotná', 'email': 'Jaroslav.Marie.Novotná@main.university.world', 'groups': [{'_id': ObjectId('625686894015779cfa8983ae')}]}\n",
      "8 {'_id': ObjectId('6256868b4015779cfa8983b7'), 'name': 'Hana Jaroslav', 'surname': 'Svobodová', 'email': 'Hana.Jaroslav.Svobodová@main.university.world', 'groups': [{'_id': ObjectId('625686894015779cfa8983ae')}]}\n",
      "9 {'_id': ObjectId('6256868b4015779cfa8983b8'), 'name': 'Pavel Josef', 'surname': 'Novák', 'email': 'Pavel.Josef.Novák@main.university.world', 'groups': [{'_id': ObjectId('625686894015779cfa8983ae')}]}\n"
     ]
    }
   ],
   "source": [
    "userCollection = client['test_database']['groups']\n",
    "teachers = [{**teacher, 'groups': [{'_id': departmentDoc['_id']}]} for teacher in department['teachers']]\n",
    "teachersDocs = await mongoCreateDocsAndReturn(userCollection, *teachers)\n",
    "for index, teacher in enumerate(teachersDocs):\n",
    "    print(index, teacher)   "
   ]
  },
  {
   "cell_type": "code",
   "execution_count": 98,
   "id": "6fd1881d-8cb2-4702-844a-e9e15e83dc2b",
   "metadata": {},
   "outputs": [
    {
     "name": "stdout",
     "output_type": "stream",
     "text": [
      "{'_id': ObjectId('625686894015779cfa8983ae'), 'name': 'K11_BE', 'teachers': [ObjectId('6256868b4015779cfa8983af'), ObjectId('6256868b4015779cfa8983b0'), ObjectId('6256868b4015779cfa8983b1'), ObjectId('6256868b4015779cfa8983b2'), ObjectId('6256868b4015779cfa8983b3'), ObjectId('6256868b4015779cfa8983b4'), ObjectId('6256868b4015779cfa8983b5'), ObjectId('6256868b4015779cfa8983b6'), ObjectId('6256868b4015779cfa8983b7'), ObjectId('6256868b4015779cfa8983b8')]}\n"
     ]
    }
   ],
   "source": [
    "teachersIds = [teacher['_id'] for teacher in teachersDocs]\n",
    "newDepartmentDoc = await mongoUpdateDocAndReturn(groupCollection, {**departmentDoc, 'teachers': teachersIds})\n",
    "print(newDepartmentDoc)"
   ]
  },
  {
   "cell_type": "markdown",
   "id": "19bd798e-af9c-4ac0-84c8-58717c37adbd",
   "metadata": {},
   "source": [
    "Všimněte si duplicity dat, u uživatelů je seznam skupin, jichž jsou členem, obdobně u skupiny je seznam uživatelů. Jak provedem operaci změny seznamu uživatelů u skupiny?"
   ]
  },
  {
   "cell_type": "markdown",
   "id": "1c846082-123b-42d6-9165-fd8c08e08047",
   "metadata": {},
   "source": [
    "## Local Tests"
   ]
  },
  {
   "cell_type": "code",
   "execution_count": 18,
   "id": "3e3dedc9-8924-40fe-9401-a3bcdcae9bd8",
   "metadata": {},
   "outputs": [
    {
     "name": "stdout",
     "output_type": "stream",
     "text": [
      "[{'_id': ObjectId('6080497757e0faf209cefc60'), 'name': 'user_QHXQNTPD', 'group': 'group_HWAXFSQG', 'phone': 649929595, 'age': 60, 'incomeY': 986565, 'actualDebt': 73058}]\n",
      "{'_id': ObjectId('606ec05c6b84c76e2a73545f'), 'key': 'value'}\n"
     ]
    },
    {
     "data": {
      "text/html": [
       "<div>\n",
       "<style scoped>\n",
       "    .dataframe tbody tr th:only-of-type {\n",
       "        vertical-align: middle;\n",
       "    }\n",
       "\n",
       "    .dataframe tbody tr th {\n",
       "        vertical-align: top;\n",
       "    }\n",
       "\n",
       "    .dataframe thead th {\n",
       "        text-align: right;\n",
       "    }\n",
       "</style>\n",
       "<table border=\"1\" class=\"dataframe\">\n",
       "  <thead>\n",
       "    <tr style=\"text-align: right;\">\n",
       "      <th></th>\n",
       "      <th>_id</th>\n",
       "      <th>key</th>\n",
       "      <th>i</th>\n",
       "      <th>name</th>\n",
       "      <th>group</th>\n",
       "      <th>phone</th>\n",
       "      <th>age</th>\n",
       "      <th>incomeY</th>\n",
       "      <th>actualDebt</th>\n",
       "      <th>street</th>\n",
       "      <th>city</th>\n",
       "      <th>secondarySchool</th>\n",
       "      <th>primarySchool</th>\n",
       "    </tr>\n",
       "  </thead>\n",
       "  <tbody>\n",
       "    <tr>\n",
       "      <th>0</th>\n",
       "      <td>606ec05c6b84c76e2a73545f</td>\n",
       "      <td>value</td>\n",
       "      <td>NaN</td>\n",
       "      <td>NaN</td>\n",
       "      <td>NaN</td>\n",
       "      <td>NaN</td>\n",
       "      <td>NaN</td>\n",
       "      <td>NaN</td>\n",
       "      <td>NaN</td>\n",
       "      <td>NaN</td>\n",
       "      <td>NaN</td>\n",
       "      <td>NaN</td>\n",
       "      <td>NaN</td>\n",
       "    </tr>\n",
       "    <tr>\n",
       "      <th>1</th>\n",
       "      <td>606ec09a6b84c76e2a735460</td>\n",
       "      <td>value</td>\n",
       "      <td>128.0</td>\n",
       "      <td>NaN</td>\n",
       "      <td>NaN</td>\n",
       "      <td>NaN</td>\n",
       "      <td>NaN</td>\n",
       "      <td>NaN</td>\n",
       "      <td>NaN</td>\n",
       "      <td>NaN</td>\n",
       "      <td>NaN</td>\n",
       "      <td>NaN</td>\n",
       "      <td>NaN</td>\n",
       "    </tr>\n",
       "    <tr>\n",
       "      <th>2</th>\n",
       "      <td>606ec0a26b84c76e2a735461</td>\n",
       "      <td>value</td>\n",
       "      <td>0.0</td>\n",
       "      <td>NaN</td>\n",
       "      <td>NaN</td>\n",
       "      <td>NaN</td>\n",
       "      <td>NaN</td>\n",
       "      <td>NaN</td>\n",
       "      <td>NaN</td>\n",
       "      <td>NaN</td>\n",
       "      <td>NaN</td>\n",
       "      <td>NaN</td>\n",
       "      <td>NaN</td>\n",
       "    </tr>\n",
       "    <tr>\n",
       "      <th>3</th>\n",
       "      <td>606ecb166b84c76e2a735462</td>\n",
       "      <td>value</td>\n",
       "      <td>0.0</td>\n",
       "      <td>NaN</td>\n",
       "      <td>NaN</td>\n",
       "      <td>NaN</td>\n",
       "      <td>NaN</td>\n",
       "      <td>NaN</td>\n",
       "      <td>NaN</td>\n",
       "      <td>NaN</td>\n",
       "      <td>NaN</td>\n",
       "      <td>NaN</td>\n",
       "      <td>NaN</td>\n",
       "    </tr>\n",
       "    <tr>\n",
       "      <th>4</th>\n",
       "      <td>606ecb4f6b84c76e2a735463</td>\n",
       "      <td>value</td>\n",
       "      <td>0.0</td>\n",
       "      <td>NaN</td>\n",
       "      <td>NaN</td>\n",
       "      <td>NaN</td>\n",
       "      <td>NaN</td>\n",
       "      <td>NaN</td>\n",
       "      <td>NaN</td>\n",
       "      <td>NaN</td>\n",
       "      <td>NaN</td>\n",
       "      <td>NaN</td>\n",
       "      <td>NaN</td>\n",
       "    </tr>\n",
       "    <tr>\n",
       "      <th>5</th>\n",
       "      <td>606ecb4f6b84c76e2a735464</td>\n",
       "      <td>value</td>\n",
       "      <td>1.0</td>\n",
       "      <td>NaN</td>\n",
       "      <td>NaN</td>\n",
       "      <td>NaN</td>\n",
       "      <td>NaN</td>\n",
       "      <td>NaN</td>\n",
       "      <td>NaN</td>\n",
       "      <td>NaN</td>\n",
       "      <td>NaN</td>\n",
       "      <td>NaN</td>\n",
       "      <td>NaN</td>\n",
       "    </tr>\n",
       "    <tr>\n",
       "      <th>6</th>\n",
       "      <td>606ecb4f6b84c76e2a735465</td>\n",
       "      <td>value</td>\n",
       "      <td>2.0</td>\n",
       "      <td>NaN</td>\n",
       "      <td>NaN</td>\n",
       "      <td>NaN</td>\n",
       "      <td>NaN</td>\n",
       "      <td>NaN</td>\n",
       "      <td>NaN</td>\n",
       "      <td>NaN</td>\n",
       "      <td>NaN</td>\n",
       "      <td>NaN</td>\n",
       "      <td>NaN</td>\n",
       "    </tr>\n",
       "    <tr>\n",
       "      <th>7</th>\n",
       "      <td>606ecb4f6b84c76e2a735466</td>\n",
       "      <td>value</td>\n",
       "      <td>3.0</td>\n",
       "      <td>NaN</td>\n",
       "      <td>NaN</td>\n",
       "      <td>NaN</td>\n",
       "      <td>NaN</td>\n",
       "      <td>NaN</td>\n",
       "      <td>NaN</td>\n",
       "      <td>NaN</td>\n",
       "      <td>NaN</td>\n",
       "      <td>NaN</td>\n",
       "      <td>NaN</td>\n",
       "    </tr>\n",
       "    <tr>\n",
       "      <th>8</th>\n",
       "      <td>606ecb4f6b84c76e2a735467</td>\n",
       "      <td>value</td>\n",
       "      <td>4.0</td>\n",
       "      <td>NaN</td>\n",
       "      <td>NaN</td>\n",
       "      <td>NaN</td>\n",
       "      <td>NaN</td>\n",
       "      <td>NaN</td>\n",
       "      <td>NaN</td>\n",
       "      <td>NaN</td>\n",
       "      <td>NaN</td>\n",
       "      <td>NaN</td>\n",
       "      <td>NaN</td>\n",
       "    </tr>\n",
       "    <tr>\n",
       "      <th>9</th>\n",
       "      <td>606ecb4f6b84c76e2a735468</td>\n",
       "      <td>value</td>\n",
       "      <td>5.0</td>\n",
       "      <td>NaN</td>\n",
       "      <td>NaN</td>\n",
       "      <td>NaN</td>\n",
       "      <td>NaN</td>\n",
       "      <td>NaN</td>\n",
       "      <td>NaN</td>\n",
       "      <td>NaN</td>\n",
       "      <td>NaN</td>\n",
       "      <td>NaN</td>\n",
       "      <td>NaN</td>\n",
       "    </tr>\n",
       "    <tr>\n",
       "      <th>10</th>\n",
       "      <td>606ecb4f6b84c76e2a735469</td>\n",
       "      <td>value</td>\n",
       "      <td>6.0</td>\n",
       "      <td>NaN</td>\n",
       "      <td>NaN</td>\n",
       "      <td>NaN</td>\n",
       "      <td>NaN</td>\n",
       "      <td>NaN</td>\n",
       "      <td>NaN</td>\n",
       "      <td>NaN</td>\n",
       "      <td>NaN</td>\n",
       "      <td>NaN</td>\n",
       "      <td>NaN</td>\n",
       "    </tr>\n",
       "    <tr>\n",
       "      <th>11</th>\n",
       "      <td>606ecb4f6b84c76e2a73546a</td>\n",
       "      <td>value</td>\n",
       "      <td>7.0</td>\n",
       "      <td>NaN</td>\n",
       "      <td>NaN</td>\n",
       "      <td>NaN</td>\n",
       "      <td>NaN</td>\n",
       "      <td>NaN</td>\n",
       "      <td>NaN</td>\n",
       "      <td>NaN</td>\n",
       "      <td>NaN</td>\n",
       "      <td>NaN</td>\n",
       "      <td>NaN</td>\n",
       "    </tr>\n",
       "    <tr>\n",
       "      <th>12</th>\n",
       "      <td>606ecb4f6b84c76e2a73546b</td>\n",
       "      <td>replacedValue</td>\n",
       "      <td>8.0</td>\n",
       "      <td>NaN</td>\n",
       "      <td>NaN</td>\n",
       "      <td>NaN</td>\n",
       "      <td>NaN</td>\n",
       "      <td>NaN</td>\n",
       "      <td>NaN</td>\n",
       "      <td>NaN</td>\n",
       "      <td>NaN</td>\n",
       "      <td>NaN</td>\n",
       "      <td>NaN</td>\n",
       "    </tr>\n",
       "    <tr>\n",
       "      <th>13</th>\n",
       "      <td>606ecb4f6b84c76e2a73546c</td>\n",
       "      <td>newValue</td>\n",
       "      <td>NaN</td>\n",
       "      <td>NaN</td>\n",
       "      <td>NaN</td>\n",
       "      <td>NaN</td>\n",
       "      <td>NaN</td>\n",
       "      <td>NaN</td>\n",
       "      <td>NaN</td>\n",
       "      <td>NaN</td>\n",
       "      <td>NaN</td>\n",
       "      <td>NaN</td>\n",
       "      <td>NaN</td>\n",
       "    </tr>\n",
       "    <tr>\n",
       "      <th>14</th>\n",
       "      <td>606ecb586b84c76e2a73546d</td>\n",
       "      <td>value</td>\n",
       "      <td>0.0</td>\n",
       "      <td>NaN</td>\n",
       "      <td>NaN</td>\n",
       "      <td>NaN</td>\n",
       "      <td>NaN</td>\n",
       "      <td>NaN</td>\n",
       "      <td>NaN</td>\n",
       "      <td>NaN</td>\n",
       "      <td>NaN</td>\n",
       "      <td>NaN</td>\n",
       "      <td>NaN</td>\n",
       "    </tr>\n",
       "    <tr>\n",
       "      <th>15</th>\n",
       "      <td>60768df56b84c76e2a735470</td>\n",
       "      <td>value</td>\n",
       "      <td>0.0</td>\n",
       "      <td>NaN</td>\n",
       "      <td>NaN</td>\n",
       "      <td>NaN</td>\n",
       "      <td>NaN</td>\n",
       "      <td>NaN</td>\n",
       "      <td>NaN</td>\n",
       "      <td>NaN</td>\n",
       "      <td>NaN</td>\n",
       "      <td>NaN</td>\n",
       "      <td>NaN</td>\n",
       "    </tr>\n",
       "    <tr>\n",
       "      <th>16</th>\n",
       "      <td>60768df56b84c76e2a735471</td>\n",
       "      <td>value</td>\n",
       "      <td>1.0</td>\n",
       "      <td>NaN</td>\n",
       "      <td>NaN</td>\n",
       "      <td>NaN</td>\n",
       "      <td>NaN</td>\n",
       "      <td>NaN</td>\n",
       "      <td>NaN</td>\n",
       "      <td>NaN</td>\n",
       "      <td>NaN</td>\n",
       "      <td>NaN</td>\n",
       "      <td>NaN</td>\n",
       "    </tr>\n",
       "    <tr>\n",
       "      <th>17</th>\n",
       "      <td>60768df56b84c76e2a735472</td>\n",
       "      <td>value</td>\n",
       "      <td>2.0</td>\n",
       "      <td>NaN</td>\n",
       "      <td>NaN</td>\n",
       "      <td>NaN</td>\n",
       "      <td>NaN</td>\n",
       "      <td>NaN</td>\n",
       "      <td>NaN</td>\n",
       "      <td>NaN</td>\n",
       "      <td>NaN</td>\n",
       "      <td>NaN</td>\n",
       "      <td>NaN</td>\n",
       "    </tr>\n",
       "    <tr>\n",
       "      <th>18</th>\n",
       "      <td>60768df56b84c76e2a735473</td>\n",
       "      <td>value</td>\n",
       "      <td>3.0</td>\n",
       "      <td>NaN</td>\n",
       "      <td>NaN</td>\n",
       "      <td>NaN</td>\n",
       "      <td>NaN</td>\n",
       "      <td>NaN</td>\n",
       "      <td>NaN</td>\n",
       "      <td>NaN</td>\n",
       "      <td>NaN</td>\n",
       "      <td>NaN</td>\n",
       "      <td>NaN</td>\n",
       "    </tr>\n",
       "    <tr>\n",
       "      <th>19</th>\n",
       "      <td>60768df56b84c76e2a735474</td>\n",
       "      <td>value</td>\n",
       "      <td>4.0</td>\n",
       "      <td>NaN</td>\n",
       "      <td>NaN</td>\n",
       "      <td>NaN</td>\n",
       "      <td>NaN</td>\n",
       "      <td>NaN</td>\n",
       "      <td>NaN</td>\n",
       "      <td>NaN</td>\n",
       "      <td>NaN</td>\n",
       "      <td>NaN</td>\n",
       "      <td>NaN</td>\n",
       "    </tr>\n",
       "    <tr>\n",
       "      <th>20</th>\n",
       "      <td>60768df56b84c76e2a735475</td>\n",
       "      <td>value</td>\n",
       "      <td>5.0</td>\n",
       "      <td>NaN</td>\n",
       "      <td>NaN</td>\n",
       "      <td>NaN</td>\n",
       "      <td>NaN</td>\n",
       "      <td>NaN</td>\n",
       "      <td>NaN</td>\n",
       "      <td>NaN</td>\n",
       "      <td>NaN</td>\n",
       "      <td>NaN</td>\n",
       "      <td>NaN</td>\n",
       "    </tr>\n",
       "    <tr>\n",
       "      <th>21</th>\n",
       "      <td>60768df56b84c76e2a735476</td>\n",
       "      <td>value</td>\n",
       "      <td>6.0</td>\n",
       "      <td>NaN</td>\n",
       "      <td>NaN</td>\n",
       "      <td>NaN</td>\n",
       "      <td>NaN</td>\n",
       "      <td>NaN</td>\n",
       "      <td>NaN</td>\n",
       "      <td>NaN</td>\n",
       "      <td>NaN</td>\n",
       "      <td>NaN</td>\n",
       "      <td>NaN</td>\n",
       "    </tr>\n",
       "    <tr>\n",
       "      <th>22</th>\n",
       "      <td>60768df56b84c76e2a735477</td>\n",
       "      <td>value</td>\n",
       "      <td>7.0</td>\n",
       "      <td>NaN</td>\n",
       "      <td>NaN</td>\n",
       "      <td>NaN</td>\n",
       "      <td>NaN</td>\n",
       "      <td>NaN</td>\n",
       "      <td>NaN</td>\n",
       "      <td>NaN</td>\n",
       "      <td>NaN</td>\n",
       "      <td>NaN</td>\n",
       "      <td>NaN</td>\n",
       "    </tr>\n",
       "    <tr>\n",
       "      <th>23</th>\n",
       "      <td>60768df56b84c76e2a735478</td>\n",
       "      <td>value</td>\n",
       "      <td>8.0</td>\n",
       "      <td>NaN</td>\n",
       "      <td>NaN</td>\n",
       "      <td>NaN</td>\n",
       "      <td>NaN</td>\n",
       "      <td>NaN</td>\n",
       "      <td>NaN</td>\n",
       "      <td>NaN</td>\n",
       "      <td>NaN</td>\n",
       "      <td>NaN</td>\n",
       "      <td>NaN</td>\n",
       "    </tr>\n",
       "    <tr>\n",
       "      <th>24</th>\n",
       "      <td>60768df56b84c76e2a735479</td>\n",
       "      <td>newValue</td>\n",
       "      <td>NaN</td>\n",
       "      <td>NaN</td>\n",
       "      <td>NaN</td>\n",
       "      <td>NaN</td>\n",
       "      <td>NaN</td>\n",
       "      <td>NaN</td>\n",
       "      <td>NaN</td>\n",
       "      <td>NaN</td>\n",
       "      <td>NaN</td>\n",
       "      <td>NaN</td>\n",
       "      <td>NaN</td>\n",
       "    </tr>\n",
       "    <tr>\n",
       "      <th>25</th>\n",
       "      <td>6080497757e0faf209cefc60</td>\n",
       "      <td>NaN</td>\n",
       "      <td>NaN</td>\n",
       "      <td>user_QHXQNTPD</td>\n",
       "      <td>group_HWAXFSQG</td>\n",
       "      <td>649929595.0</td>\n",
       "      <td>60.0</td>\n",
       "      <td>986565.0</td>\n",
       "      <td>73058.0</td>\n",
       "      <td>NaN</td>\n",
       "      <td>NaN</td>\n",
       "      <td>NaN</td>\n",
       "      <td>NaN</td>\n",
       "    </tr>\n",
       "    <tr>\n",
       "      <th>26</th>\n",
       "      <td>6080497757e0faf209cefc61</td>\n",
       "      <td>NaN</td>\n",
       "      <td>NaN</td>\n",
       "      <td>user_ZGZREBJX</td>\n",
       "      <td>group_RQSQJVFP</td>\n",
       "      <td>755276379.0</td>\n",
       "      <td>39.0</td>\n",
       "      <td>937108.0</td>\n",
       "      <td>4960078.0</td>\n",
       "      <td>street_JLFGTQLT</td>\n",
       "      <td>city_AWKREGGU</td>\n",
       "      <td>NaN</td>\n",
       "      <td>NaN</td>\n",
       "    </tr>\n",
       "    <tr>\n",
       "      <th>27</th>\n",
       "      <td>6080497757e0faf209cefc62</td>\n",
       "      <td>NaN</td>\n",
       "      <td>NaN</td>\n",
       "      <td>user_ODBCNOPF</td>\n",
       "      <td>group_ZLVNVXZN</td>\n",
       "      <td>617074854.0</td>\n",
       "      <td>47.0</td>\n",
       "      <td>347058.0</td>\n",
       "      <td>4635306.0</td>\n",
       "      <td>street_IXQSNYZO</td>\n",
       "      <td>NaN</td>\n",
       "      <td>secondarySchool_TILAZHIE</td>\n",
       "      <td>NaN</td>\n",
       "    </tr>\n",
       "    <tr>\n",
       "      <th>28</th>\n",
       "      <td>6080497757e0faf209cefc63</td>\n",
       "      <td>NaN</td>\n",
       "      <td>NaN</td>\n",
       "      <td>user_LRFOCIVL</td>\n",
       "      <td>group_CVKSVNMX</td>\n",
       "      <td>735316036.0</td>\n",
       "      <td>49.0</td>\n",
       "      <td>942431.0</td>\n",
       "      <td>3276299.0</td>\n",
       "      <td>NaN</td>\n",
       "      <td>NaN</td>\n",
       "      <td>secondarySchool_XIEHYUZR</td>\n",
       "      <td>primarySchool_HDJKYSUC</td>\n",
       "    </tr>\n",
       "    <tr>\n",
       "      <th>29</th>\n",
       "      <td>6080497757e0faf209cefc64</td>\n",
       "      <td>NaN</td>\n",
       "      <td>NaN</td>\n",
       "      <td>user_PRGWSQKY</td>\n",
       "      <td>group_WEADHHQR</td>\n",
       "      <td>729883630.0</td>\n",
       "      <td>76.0</td>\n",
       "      <td>812819.0</td>\n",
       "      <td>6767986.0</td>\n",
       "      <td>NaN</td>\n",
       "      <td>NaN</td>\n",
       "      <td>secondarySchool_PGPWFNOD</td>\n",
       "      <td>primarySchool_KYOJAOYC</td>\n",
       "    </tr>\n",
       "    <tr>\n",
       "      <th>30</th>\n",
       "      <td>6080497757e0faf209cefc65</td>\n",
       "      <td>NaN</td>\n",
       "      <td>NaN</td>\n",
       "      <td>user_DOEXNAUD</td>\n",
       "      <td>group_TBWJFLNG</td>\n",
       "      <td>668213027.0</td>\n",
       "      <td>46.0</td>\n",
       "      <td>860399.0</td>\n",
       "      <td>8551921.0</td>\n",
       "      <td>street_NALEXIPW</td>\n",
       "      <td>NaN</td>\n",
       "      <td>secondarySchool_KRPEDGJB</td>\n",
       "      <td>NaN</td>\n",
       "    </tr>\n",
       "    <tr>\n",
       "      <th>31</th>\n",
       "      <td>6080497757e0faf209cefc66</td>\n",
       "      <td>NaN</td>\n",
       "      <td>NaN</td>\n",
       "      <td>user_JTBESTZG</td>\n",
       "      <td>group_REGOUKHT</td>\n",
       "      <td>686074221.0</td>\n",
       "      <td>79.0</td>\n",
       "      <td>1212245.0</td>\n",
       "      <td>4843805.0</td>\n",
       "      <td>NaN</td>\n",
       "      <td>city_PGPLWTLV</td>\n",
       "      <td>secondarySchool_NOSDPUTQ</td>\n",
       "      <td>NaN</td>\n",
       "    </tr>\n",
       "    <tr>\n",
       "      <th>32</th>\n",
       "      <td>6080497757e0faf209cefc67</td>\n",
       "      <td>NaN</td>\n",
       "      <td>NaN</td>\n",
       "      <td>user_BQGMDAMG</td>\n",
       "      <td>group_KNREERBL</td>\n",
       "      <td>604222544.0</td>\n",
       "      <td>35.0</td>\n",
       "      <td>918628.0</td>\n",
       "      <td>452189.0</td>\n",
       "      <td>NaN</td>\n",
       "      <td>city_BGHJNAJH</td>\n",
       "      <td>NaN</td>\n",
       "      <td>NaN</td>\n",
       "    </tr>\n",
       "    <tr>\n",
       "      <th>33</th>\n",
       "      <td>6080497757e0faf209cefc68</td>\n",
       "      <td>NaN</td>\n",
       "      <td>NaN</td>\n",
       "      <td>user_OZHLECMA</td>\n",
       "      <td>group_XBSBZDTZ</td>\n",
       "      <td>629978660.0</td>\n",
       "      <td>24.0</td>\n",
       "      <td>510878.0</td>\n",
       "      <td>9466912.0</td>\n",
       "      <td>street_ASWONQTI</td>\n",
       "      <td>city_UZZSFFRE</td>\n",
       "      <td>secondarySchool_VYGQHYDK</td>\n",
       "      <td>primarySchool_KKMQNKLQ</td>\n",
       "    </tr>\n",
       "    <tr>\n",
       "      <th>34</th>\n",
       "      <td>6080497757e0faf209cefc69</td>\n",
       "      <td>NaN</td>\n",
       "      <td>NaN</td>\n",
       "      <td>user_RGZEFOAB</td>\n",
       "      <td>group_JMKIJYMZ</td>\n",
       "      <td>647097734.0</td>\n",
       "      <td>68.0</td>\n",
       "      <td>456370.0</td>\n",
       "      <td>9095640.0</td>\n",
       "      <td>NaN</td>\n",
       "      <td>city_PCFNLMPH</td>\n",
       "      <td>NaN</td>\n",
       "      <td>NaN</td>\n",
       "    </tr>\n",
       "    <tr>\n",
       "      <th>35</th>\n",
       "      <td>60811b2857e0faf209cefc6b</td>\n",
       "      <td>NaN</td>\n",
       "      <td>NaN</td>\n",
       "      <td>user_OZZEZVWS</td>\n",
       "      <td>group_INMREGWH</td>\n",
       "      <td>631490211.0</td>\n",
       "      <td>33.0</td>\n",
       "      <td>555589.0</td>\n",
       "      <td>4146690.0</td>\n",
       "      <td>street_YWSMKSZF</td>\n",
       "      <td>NaN</td>\n",
       "      <td>secondarySchool_CJEBLZBL</td>\n",
       "      <td>primarySchool_AJRXFNFD</td>\n",
       "    </tr>\n",
       "    <tr>\n",
       "      <th>36</th>\n",
       "      <td>60811b2857e0faf209cefc6c</td>\n",
       "      <td>NaN</td>\n",
       "      <td>NaN</td>\n",
       "      <td>user_WHPCLTKZ</td>\n",
       "      <td>group_KORZHAAK</td>\n",
       "      <td>608991457.0</td>\n",
       "      <td>39.0</td>\n",
       "      <td>381079.0</td>\n",
       "      <td>668047.0</td>\n",
       "      <td>street_FZONCMYY</td>\n",
       "      <td>NaN</td>\n",
       "      <td>NaN</td>\n",
       "      <td>primarySchool_JEXIASEF</td>\n",
       "    </tr>\n",
       "    <tr>\n",
       "      <th>37</th>\n",
       "      <td>60811b2857e0faf209cefc6d</td>\n",
       "      <td>NaN</td>\n",
       "      <td>NaN</td>\n",
       "      <td>user_PMWUUHEL</td>\n",
       "      <td>group_COHLCHGX</td>\n",
       "      <td>691863043.0</td>\n",
       "      <td>29.0</td>\n",
       "      <td>390925.0</td>\n",
       "      <td>6129474.0</td>\n",
       "      <td>NaN</td>\n",
       "      <td>city_BMMJBUSU</td>\n",
       "      <td>NaN</td>\n",
       "      <td>NaN</td>\n",
       "    </tr>\n",
       "    <tr>\n",
       "      <th>38</th>\n",
       "      <td>60811b2857e0faf209cefc6e</td>\n",
       "      <td>newValue</td>\n",
       "      <td>NaN</td>\n",
       "      <td>NaN</td>\n",
       "      <td>NaN</td>\n",
       "      <td>NaN</td>\n",
       "      <td>NaN</td>\n",
       "      <td>NaN</td>\n",
       "      <td>NaN</td>\n",
       "      <td>NaN</td>\n",
       "      <td>NaN</td>\n",
       "      <td>NaN</td>\n",
       "      <td>NaN</td>\n",
       "    </tr>\n",
       "    <tr>\n",
       "      <th>39</th>\n",
       "      <td>60811b2857e0faf209cefc6f</td>\n",
       "      <td>NaN</td>\n",
       "      <td>NaN</td>\n",
       "      <td>user_OLGOKOCQ</td>\n",
       "      <td>group_ISIRGMTZ</td>\n",
       "      <td>736294639.0</td>\n",
       "      <td>37.0</td>\n",
       "      <td>706688.0</td>\n",
       "      <td>1177189.0</td>\n",
       "      <td>street_KXVOZSYH</td>\n",
       "      <td>city_GWBORQVV</td>\n",
       "      <td>secondarySchool_POJZHMQP</td>\n",
       "      <td>NaN</td>\n",
       "    </tr>\n",
       "    <tr>\n",
       "      <th>40</th>\n",
       "      <td>60811b2857e0faf209cefc70</td>\n",
       "      <td>NaN</td>\n",
       "      <td>NaN</td>\n",
       "      <td>user_LRFQDHNJ</td>\n",
       "      <td>group_FPDWCEBA</td>\n",
       "      <td>650505663.0</td>\n",
       "      <td>20.0</td>\n",
       "      <td>340812.0</td>\n",
       "      <td>8599144.0</td>\n",
       "      <td>NaN</td>\n",
       "      <td>city_QHHWATIX</td>\n",
       "      <td>secondarySchool_VRTTNSBK</td>\n",
       "      <td>NaN</td>\n",
       "    </tr>\n",
       "    <tr>\n",
       "      <th>41</th>\n",
       "      <td>60811b2857e0faf209cefc71</td>\n",
       "      <td>replacedValue</td>\n",
       "      <td>NaN</td>\n",
       "      <td>user_MZZGMAMF</td>\n",
       "      <td>group_CPIXPJGV</td>\n",
       "      <td>706433785.0</td>\n",
       "      <td>43.0</td>\n",
       "      <td>466731.0</td>\n",
       "      <td>1772388.0</td>\n",
       "      <td>street_YYDRUKLR</td>\n",
       "      <td>city_IRVGRIMB</td>\n",
       "      <td>NaN</td>\n",
       "      <td>primarySchool_FNTEPNCG</td>\n",
       "    </tr>\n",
       "    <tr>\n",
       "      <th>42</th>\n",
       "      <td>60811b2857e0faf209cefc72</td>\n",
       "      <td>NaN</td>\n",
       "      <td>NaN</td>\n",
       "      <td>user_MIAKDLVJ</td>\n",
       "      <td>group_BGURZBAK</td>\n",
       "      <td>695860363.0</td>\n",
       "      <td>43.0</td>\n",
       "      <td>843874.0</td>\n",
       "      <td>3153444.0</td>\n",
       "      <td>NaN</td>\n",
       "      <td>city_NNGPSMRO</td>\n",
       "      <td>secondarySchool_JKAWOGFE</td>\n",
       "      <td>primarySchool_XBYSALJW</td>\n",
       "    </tr>\n",
       "    <tr>\n",
       "      <th>43</th>\n",
       "      <td>60811b2857e0faf209cefc73</td>\n",
       "      <td>NaN</td>\n",
       "      <td>NaN</td>\n",
       "      <td>user_RMIHYXJG</td>\n",
       "      <td>group_ITHQZSGP</td>\n",
       "      <td>650438624.0</td>\n",
       "      <td>54.0</td>\n",
       "      <td>356410.0</td>\n",
       "      <td>5566541.0</td>\n",
       "      <td>NaN</td>\n",
       "      <td>NaN</td>\n",
       "      <td>NaN</td>\n",
       "      <td>primarySchool_AJYOTJDU</td>\n",
       "    </tr>\n",
       "    <tr>\n",
       "      <th>44</th>\n",
       "      <td>60811b2857e0faf209cefc74</td>\n",
       "      <td>NaN</td>\n",
       "      <td>NaN</td>\n",
       "      <td>user_IJSMYFGX</td>\n",
       "      <td>group_FHKBJUJR</td>\n",
       "      <td>770138638.0</td>\n",
       "      <td>33.0</td>\n",
       "      <td>1228036.0</td>\n",
       "      <td>8681746.0</td>\n",
       "      <td>NaN</td>\n",
       "      <td>city_DMNASQRD</td>\n",
       "      <td>NaN</td>\n",
       "      <td>primarySchool_NSUBRPFE</td>\n",
       "    </tr>\n",
       "  </tbody>\n",
       "</table>\n",
       "</div>"
      ],
      "text/plain": [
       "                         _id            key      i           name  \\\n",
       "0   606ec05c6b84c76e2a73545f          value    NaN            NaN   \n",
       "1   606ec09a6b84c76e2a735460          value  128.0            NaN   \n",
       "2   606ec0a26b84c76e2a735461          value    0.0            NaN   \n",
       "3   606ecb166b84c76e2a735462          value    0.0            NaN   \n",
       "4   606ecb4f6b84c76e2a735463          value    0.0            NaN   \n",
       "5   606ecb4f6b84c76e2a735464          value    1.0            NaN   \n",
       "6   606ecb4f6b84c76e2a735465          value    2.0            NaN   \n",
       "7   606ecb4f6b84c76e2a735466          value    3.0            NaN   \n",
       "8   606ecb4f6b84c76e2a735467          value    4.0            NaN   \n",
       "9   606ecb4f6b84c76e2a735468          value    5.0            NaN   \n",
       "10  606ecb4f6b84c76e2a735469          value    6.0            NaN   \n",
       "11  606ecb4f6b84c76e2a73546a          value    7.0            NaN   \n",
       "12  606ecb4f6b84c76e2a73546b  replacedValue    8.0            NaN   \n",
       "13  606ecb4f6b84c76e2a73546c       newValue    NaN            NaN   \n",
       "14  606ecb586b84c76e2a73546d          value    0.0            NaN   \n",
       "15  60768df56b84c76e2a735470          value    0.0            NaN   \n",
       "16  60768df56b84c76e2a735471          value    1.0            NaN   \n",
       "17  60768df56b84c76e2a735472          value    2.0            NaN   \n",
       "18  60768df56b84c76e2a735473          value    3.0            NaN   \n",
       "19  60768df56b84c76e2a735474          value    4.0            NaN   \n",
       "20  60768df56b84c76e2a735475          value    5.0            NaN   \n",
       "21  60768df56b84c76e2a735476          value    6.0            NaN   \n",
       "22  60768df56b84c76e2a735477          value    7.0            NaN   \n",
       "23  60768df56b84c76e2a735478          value    8.0            NaN   \n",
       "24  60768df56b84c76e2a735479       newValue    NaN            NaN   \n",
       "25  6080497757e0faf209cefc60            NaN    NaN  user_QHXQNTPD   \n",
       "26  6080497757e0faf209cefc61            NaN    NaN  user_ZGZREBJX   \n",
       "27  6080497757e0faf209cefc62            NaN    NaN  user_ODBCNOPF   \n",
       "28  6080497757e0faf209cefc63            NaN    NaN  user_LRFOCIVL   \n",
       "29  6080497757e0faf209cefc64            NaN    NaN  user_PRGWSQKY   \n",
       "30  6080497757e0faf209cefc65            NaN    NaN  user_DOEXNAUD   \n",
       "31  6080497757e0faf209cefc66            NaN    NaN  user_JTBESTZG   \n",
       "32  6080497757e0faf209cefc67            NaN    NaN  user_BQGMDAMG   \n",
       "33  6080497757e0faf209cefc68            NaN    NaN  user_OZHLECMA   \n",
       "34  6080497757e0faf209cefc69            NaN    NaN  user_RGZEFOAB   \n",
       "35  60811b2857e0faf209cefc6b            NaN    NaN  user_OZZEZVWS   \n",
       "36  60811b2857e0faf209cefc6c            NaN    NaN  user_WHPCLTKZ   \n",
       "37  60811b2857e0faf209cefc6d            NaN    NaN  user_PMWUUHEL   \n",
       "38  60811b2857e0faf209cefc6e       newValue    NaN            NaN   \n",
       "39  60811b2857e0faf209cefc6f            NaN    NaN  user_OLGOKOCQ   \n",
       "40  60811b2857e0faf209cefc70            NaN    NaN  user_LRFQDHNJ   \n",
       "41  60811b2857e0faf209cefc71  replacedValue    NaN  user_MZZGMAMF   \n",
       "42  60811b2857e0faf209cefc72            NaN    NaN  user_MIAKDLVJ   \n",
       "43  60811b2857e0faf209cefc73            NaN    NaN  user_RMIHYXJG   \n",
       "44  60811b2857e0faf209cefc74            NaN    NaN  user_IJSMYFGX   \n",
       "\n",
       "             group        phone   age    incomeY  actualDebt           street  \\\n",
       "0              NaN          NaN   NaN        NaN         NaN              NaN   \n",
       "1              NaN          NaN   NaN        NaN         NaN              NaN   \n",
       "2              NaN          NaN   NaN        NaN         NaN              NaN   \n",
       "3              NaN          NaN   NaN        NaN         NaN              NaN   \n",
       "4              NaN          NaN   NaN        NaN         NaN              NaN   \n",
       "5              NaN          NaN   NaN        NaN         NaN              NaN   \n",
       "6              NaN          NaN   NaN        NaN         NaN              NaN   \n",
       "7              NaN          NaN   NaN        NaN         NaN              NaN   \n",
       "8              NaN          NaN   NaN        NaN         NaN              NaN   \n",
       "9              NaN          NaN   NaN        NaN         NaN              NaN   \n",
       "10             NaN          NaN   NaN        NaN         NaN              NaN   \n",
       "11             NaN          NaN   NaN        NaN         NaN              NaN   \n",
       "12             NaN          NaN   NaN        NaN         NaN              NaN   \n",
       "13             NaN          NaN   NaN        NaN         NaN              NaN   \n",
       "14             NaN          NaN   NaN        NaN         NaN              NaN   \n",
       "15             NaN          NaN   NaN        NaN         NaN              NaN   \n",
       "16             NaN          NaN   NaN        NaN         NaN              NaN   \n",
       "17             NaN          NaN   NaN        NaN         NaN              NaN   \n",
       "18             NaN          NaN   NaN        NaN         NaN              NaN   \n",
       "19             NaN          NaN   NaN        NaN         NaN              NaN   \n",
       "20             NaN          NaN   NaN        NaN         NaN              NaN   \n",
       "21             NaN          NaN   NaN        NaN         NaN              NaN   \n",
       "22             NaN          NaN   NaN        NaN         NaN              NaN   \n",
       "23             NaN          NaN   NaN        NaN         NaN              NaN   \n",
       "24             NaN          NaN   NaN        NaN         NaN              NaN   \n",
       "25  group_HWAXFSQG  649929595.0  60.0   986565.0     73058.0              NaN   \n",
       "26  group_RQSQJVFP  755276379.0  39.0   937108.0   4960078.0  street_JLFGTQLT   \n",
       "27  group_ZLVNVXZN  617074854.0  47.0   347058.0   4635306.0  street_IXQSNYZO   \n",
       "28  group_CVKSVNMX  735316036.0  49.0   942431.0   3276299.0              NaN   \n",
       "29  group_WEADHHQR  729883630.0  76.0   812819.0   6767986.0              NaN   \n",
       "30  group_TBWJFLNG  668213027.0  46.0   860399.0   8551921.0  street_NALEXIPW   \n",
       "31  group_REGOUKHT  686074221.0  79.0  1212245.0   4843805.0              NaN   \n",
       "32  group_KNREERBL  604222544.0  35.0   918628.0    452189.0              NaN   \n",
       "33  group_XBSBZDTZ  629978660.0  24.0   510878.0   9466912.0  street_ASWONQTI   \n",
       "34  group_JMKIJYMZ  647097734.0  68.0   456370.0   9095640.0              NaN   \n",
       "35  group_INMREGWH  631490211.0  33.0   555589.0   4146690.0  street_YWSMKSZF   \n",
       "36  group_KORZHAAK  608991457.0  39.0   381079.0    668047.0  street_FZONCMYY   \n",
       "37  group_COHLCHGX  691863043.0  29.0   390925.0   6129474.0              NaN   \n",
       "38             NaN          NaN   NaN        NaN         NaN              NaN   \n",
       "39  group_ISIRGMTZ  736294639.0  37.0   706688.0   1177189.0  street_KXVOZSYH   \n",
       "40  group_FPDWCEBA  650505663.0  20.0   340812.0   8599144.0              NaN   \n",
       "41  group_CPIXPJGV  706433785.0  43.0   466731.0   1772388.0  street_YYDRUKLR   \n",
       "42  group_BGURZBAK  695860363.0  43.0   843874.0   3153444.0              NaN   \n",
       "43  group_ITHQZSGP  650438624.0  54.0   356410.0   5566541.0              NaN   \n",
       "44  group_FHKBJUJR  770138638.0  33.0  1228036.0   8681746.0              NaN   \n",
       "\n",
       "             city           secondarySchool           primarySchool  \n",
       "0             NaN                       NaN                     NaN  \n",
       "1             NaN                       NaN                     NaN  \n",
       "2             NaN                       NaN                     NaN  \n",
       "3             NaN                       NaN                     NaN  \n",
       "4             NaN                       NaN                     NaN  \n",
       "5             NaN                       NaN                     NaN  \n",
       "6             NaN                       NaN                     NaN  \n",
       "7             NaN                       NaN                     NaN  \n",
       "8             NaN                       NaN                     NaN  \n",
       "9             NaN                       NaN                     NaN  \n",
       "10            NaN                       NaN                     NaN  \n",
       "11            NaN                       NaN                     NaN  \n",
       "12            NaN                       NaN                     NaN  \n",
       "13            NaN                       NaN                     NaN  \n",
       "14            NaN                       NaN                     NaN  \n",
       "15            NaN                       NaN                     NaN  \n",
       "16            NaN                       NaN                     NaN  \n",
       "17            NaN                       NaN                     NaN  \n",
       "18            NaN                       NaN                     NaN  \n",
       "19            NaN                       NaN                     NaN  \n",
       "20            NaN                       NaN                     NaN  \n",
       "21            NaN                       NaN                     NaN  \n",
       "22            NaN                       NaN                     NaN  \n",
       "23            NaN                       NaN                     NaN  \n",
       "24            NaN                       NaN                     NaN  \n",
       "25            NaN                       NaN                     NaN  \n",
       "26  city_AWKREGGU                       NaN                     NaN  \n",
       "27            NaN  secondarySchool_TILAZHIE                     NaN  \n",
       "28            NaN  secondarySchool_XIEHYUZR  primarySchool_HDJKYSUC  \n",
       "29            NaN  secondarySchool_PGPWFNOD  primarySchool_KYOJAOYC  \n",
       "30            NaN  secondarySchool_KRPEDGJB                     NaN  \n",
       "31  city_PGPLWTLV  secondarySchool_NOSDPUTQ                     NaN  \n",
       "32  city_BGHJNAJH                       NaN                     NaN  \n",
       "33  city_UZZSFFRE  secondarySchool_VYGQHYDK  primarySchool_KKMQNKLQ  \n",
       "34  city_PCFNLMPH                       NaN                     NaN  \n",
       "35            NaN  secondarySchool_CJEBLZBL  primarySchool_AJRXFNFD  \n",
       "36            NaN                       NaN  primarySchool_JEXIASEF  \n",
       "37  city_BMMJBUSU                       NaN                     NaN  \n",
       "38            NaN                       NaN                     NaN  \n",
       "39  city_GWBORQVV  secondarySchool_POJZHMQP                     NaN  \n",
       "40  city_QHHWATIX  secondarySchool_VRTTNSBK                     NaN  \n",
       "41  city_IRVGRIMB                       NaN  primarySchool_FNTEPNCG  \n",
       "42  city_NNGPSMRO  secondarySchool_JKAWOGFE  primarySchool_XBYSALJW  \n",
       "43            NaN                       NaN  primarySchool_AJYOTJDU  \n",
       "44  city_DMNASQRD                       NaN  primarySchool_NSUBRPFE  "
      ]
     },
     "metadata": {},
     "output_type": "display_data"
    },
    {
     "data": {
      "text/html": [
       "<div>\n",
       "<style scoped>\n",
       "    .dataframe tbody tr th:only-of-type {\n",
       "        vertical-align: middle;\n",
       "    }\n",
       "\n",
       "    .dataframe tbody tr th {\n",
       "        vertical-align: top;\n",
       "    }\n",
       "\n",
       "    .dataframe thead th {\n",
       "        text-align: right;\n",
       "    }\n",
       "</style>\n",
       "<table border=\"1\" class=\"dataframe\">\n",
       "  <thead>\n",
       "    <tr style=\"text-align: right;\">\n",
       "      <th></th>\n",
       "      <th>_id</th>\n",
       "      <th>name</th>\n",
       "      <th>group</th>\n",
       "      <th>phone</th>\n",
       "      <th>age</th>\n",
       "      <th>incomeY</th>\n",
       "      <th>actualDebt</th>\n",
       "      <th>street</th>\n",
       "      <th>city</th>\n",
       "    </tr>\n",
       "  </thead>\n",
       "  <tbody>\n",
       "    <tr>\n",
       "      <th>0</th>\n",
       "      <td>6080497757e0faf209cefc60</td>\n",
       "      <td>user_QHXQNTPD</td>\n",
       "      <td>group_HWAXFSQG</td>\n",
       "      <td>649929595</td>\n",
       "      <td>60</td>\n",
       "      <td>986565</td>\n",
       "      <td>73058</td>\n",
       "      <td>NaN</td>\n",
       "      <td>NaN</td>\n",
       "    </tr>\n",
       "    <tr>\n",
       "      <th>1</th>\n",
       "      <td>6080497757e0faf209cefc61</td>\n",
       "      <td>user_ZGZREBJX</td>\n",
       "      <td>group_RQSQJVFP</td>\n",
       "      <td>755276379</td>\n",
       "      <td>39</td>\n",
       "      <td>937108</td>\n",
       "      <td>4960078</td>\n",
       "      <td>street_JLFGTQLT</td>\n",
       "      <td>city_AWKREGGU</td>\n",
       "    </tr>\n",
       "  </tbody>\n",
       "</table>\n",
       "</div>"
      ],
      "text/plain": [
       "                        _id           name           group      phone  age  \\\n",
       "0  6080497757e0faf209cefc60  user_QHXQNTPD  group_HWAXFSQG  649929595   60   \n",
       "1  6080497757e0faf209cefc61  user_ZGZREBJX  group_RQSQJVFP  755276379   39   \n",
       "\n",
       "   incomeY  actualDebt           street           city  \n",
       "0   986565       73058              NaN            NaN  \n",
       "1   937108     4960078  street_JLFGTQLT  city_AWKREGGU  "
      ]
     },
     "metadata": {},
     "output_type": "display_data"
    }
   ],
   "source": [
    "from bson.objectid import ObjectId\n",
    "collection = client['test_database']['test_collection']\n",
    "\n",
    "documents = await mongoReadDocs(collection, query={'name': 'user_QHXQNTPD'})\n",
    "print(documents)\n",
    "\n",
    "documents = await mongoReadDoc(collection, doc={'_id': ObjectId('606ec05c6b84c76e2a73545f')})\n",
    "print(documents)\n",
    "\n",
    "documents = await mongoReadDocs(collection)\n",
    "displayData(documents)\n",
    "\n",
    "documents = await mongoReadDocs(collection, skip=25, limit=2)\n",
    "displayData(documents)"
   ]
  },
  {
   "cell_type": "markdown",
   "id": "6a14f60c-ca31-4ad5-905c-6fa9918a2924",
   "metadata": {},
   "source": [
    "## GraphQL API"
   ]
  },
  {
   "cell_type": "markdown",
   "id": "ae3980f7-2e90-497d-bd6d-7853f6502bdf",
   "metadata": {},
   "source": [
    "### Resolvery"
   ]
  },
  {
   "cell_type": "markdown",
   "id": "2f95ef33-f113-4472-8b61-0d017247ddae",
   "metadata": {},
   "source": [
    "Jak vypadají root resolvery?"
   ]
  },
  {
   "cell_type": "code",
   "execution_count": 102,
   "id": "3a9a437c-fc0b-401a-8c39-d24d53d3d336",
   "metadata": {},
   "outputs": [],
   "source": [
    "def root_resolve_user(parent, info, id):\n",
    "    return None\n",
    "\n",
    "def root_resolve_group(parent, info, id):\n",
    "    return None"
   ]
  },
  {
   "cell_type": "markdown",
   "id": "e29c04ca-d1c3-4236-bd58-05ef2a45957d",
   "metadata": {},
   "source": [
    "Jak vypadají ostatní resolvery?"
   ]
  },
  {
   "cell_type": "code",
   "execution_count": 103,
   "id": "6fcf9870-4e11-4b0c-9f3f-b458e1a492cd",
   "metadata": {},
   "outputs": [],
   "source": [
    "def resolver_users_fromGroup(parent, info):\n",
    "    return []\n",
    "\n",
    "def resolve_groups_fromUser(parent, info):\n",
    "    return []"
   ]
  },
  {
   "cell_type": "markdown",
   "id": "9165c723-99f6-41b5-978b-08caf2caaafc",
   "metadata": {},
   "source": [
    "### Datové typy"
   ]
  },
  {
   "cell_type": "code",
   "execution_count": 5,
   "id": "e1e2b3c0-862e-4453-a231-005fdf56aaa7",
   "metadata": {},
   "outputs": [],
   "source": [
    "import graphene\n",
    "\n",
    "class UserGQL(graphene.ObjectType):\n",
    "    \"\"\"Represents an user. User can be connected to several groups where the user is member. Also the user can play several roles.\"\"\"\n",
    "    id = graphene.ID()\n",
    "    name = graphene.String()\n",
    "    surname = graphene.String()\n",
    "    email = graphene.String()\n",
    "    \n",
    "    groups = graphene.Field(graphene.List(lambda: GroupGQL))\n",
    "    \n",
    "    def resolve_groups(parent, info):\n",
    "        return []\n",
    "    \n",
    "    roles = graphene.Field(graphene.List(lambda: RoleGQL))\n",
    "    \n",
    "    def resolve_roles(parent, info):\n",
    "        return []\n",
    "    \n",
    "class GroupTypeGQL(graphene.ObjectType): \n",
    "    \"\"\"\"Represents a type of group such as \"faculty\" or \"department\". \"\"\"\n",
    "    id = graphene.ID()\n",
    "    name = graphene.String()\n",
    "    \n",
    "    groups = graphene.List(lambda: GroupGQL)   \n",
    "    \n",
    "    def resolve_groups(parent, info):\n",
    "        return []\n",
    "    \n",
    "class GroupGQL(graphene.ObjectType):\n",
    "    \"\"\"\"Represents a group which has several members - users. Group is defined by its type, also it has a parent and children.\"\"\"\n",
    "    id = graphene.ID()\n",
    "    name = graphene.String()\n",
    "    users = graphene.List(UserGQL)\n",
    "    \n",
    "    def resolve_users(parent, info):\n",
    "        return []\n",
    "\n",
    "    parent = graphene.Field(lambda: GroupGQL)\n",
    "    \n",
    "    def resolve_parent(parent, info):\n",
    "        return None\n",
    "        \n",
    "    children = graphene.Field(graphene.List(lambda: GroupGQL))\n",
    "    \n",
    "    def resolve_children(parent, info):\n",
    "        return []\n",
    "    \n",
    "    grouptype = graphene.Field(lambda: GroupTypeGQL)\n",
    "    \n",
    "    def resolve_grouptype(parent, info):\n",
    "        return None\n",
    "    \n",
    "class RoleTypeGQL(graphene.ObjectType):\n",
    "    \"\"\"Represents a role type such as \"dean\" or \"chief\" \"\"\"\n",
    "    id = graphene.ID()\n",
    "    name = graphene.String()\n",
    "    roles = graphene.List(lambda: RoleGQL)\n",
    "    \n",
    "    def resolve_roles(parent, info):\n",
    "        return []\n",
    "                      \n",
    "    \n",
    "class RoleGQL(graphene.ObjectType):\n",
    "    \"\"\"\"An user could have a role in a group.\"\"\"\n",
    "    user = graphene.Field(UserGQL)\n",
    "    group = graphene.Field(GroupGQL)\n",
    "    roletype = graphene.Field(RoleTypeGQL)"
   ]
  },
  {
   "cell_type": "markdown",
   "id": "19aa8d0c-0f6d-4b48-9687-d32327e7d132",
   "metadata": {},
   "source": [
    "### Mongoke"
   ]
  },
  {
   "cell_type": "markdown",
   "id": "d8f0452c-defb-4802-9e33-f11762fa9cd3",
   "metadata": {},
   "source": [
    "https://github.com/remorses/mongoke"
   ]
  },
  {
   "cell_type": "markdown",
   "id": "10ef0dd3-b2eb-408f-a7fd-a92543d32b69",
   "metadata": {},
   "source": [
    "## Mongo jako persistentní cache"
   ]
  },
  {
   "cell_type": "markdown",
   "id": "f495c15c-5551-48f6-9e72-d6f75e08942f",
   "metadata": {},
   "source": [
    "Persistentní cache je cache, kde uložená data přetrvají při přerušení (ukončení běhu) programu. Typickým příkladem může být automatická analýza webových textů, nebo analýza textů obecně."
   ]
  },
  {
   "cell_type": "code",
   "execution_count": 41,
   "id": "7e8dd745-69ac-421c-ab4c-fb76fff9622c",
   "metadata": {},
   "outputs": [
    {
     "name": "stdout",
     "output_type": "stream",
     "text": [
      "going to read www.unob.cz\n",
      "html page\n",
      "html page\n"
     ]
    }
   ],
   "source": [
    "from functools import cache\n",
    "\n",
    "@cache\n",
    "def getData(url):\n",
    "    print(f'going to read {url}')\n",
    "    return 'html page'\n",
    "\n",
    "print(getData('www.unob.cz'))\n",
    "print(getData('www.unob.cz'))"
   ]
  },
  {
   "cell_type": "markdown",
   "id": "d327b81b-8582-4b3f-8d90-3a90f88ea4e6",
   "metadata": {},
   "source": [
    "Implementace dekorátoru cache je principiálně uvedena níže."
   ]
  },
  {
   "cell_type": "code",
   "execution_count": 46,
   "id": "567778cc-c081-4db1-b5da-fc22123e455c",
   "metadata": {},
   "outputs": [],
   "source": [
    "database = {}\n",
    "def cacheInDatabase(func):\n",
    "    def decorated(param):\n",
    "        result = database.get(param, None)\n",
    "        if result is None:\n",
    "            result = func(param)\n",
    "            database[param] = result\n",
    "        return result\n",
    "    return decorated"
   ]
  },
  {
   "cell_type": "code",
   "execution_count": 47,
   "id": "62f79c1a-ad3c-4397-883d-f9009cdcd7f3",
   "metadata": {},
   "outputs": [
    {
     "name": "stdout",
     "output_type": "stream",
     "text": [
      "going to read www.unob.cz\n",
      "html page\n",
      "html page\n"
     ]
    }
   ],
   "source": [
    "@cacheInDatabase\n",
    "def getData(url):\n",
    "    print(f'going to read {url}')\n",
    "    return 'html page'\n",
    "\n",
    "print(getData('www.unob.cz'))\n",
    "print(getData('www.unob.cz'))"
   ]
  },
  {
   "cell_type": "markdown",
   "id": "076c30af-1487-432f-b3ad-db319d81e759",
   "metadata": {},
   "source": [
    "Na zcela stejném principu lze založit ukládání do databáze Mongo.\n",
    "\n",
    "> **Příklad**\n",
    ">\n",
    "> Implementujte dekorátor (parametrický) pro ukládání skenovaných dat (html) do db Mongo"
   ]
  },
  {
   "cell_type": "code",
   "execution_count": null,
   "id": "a5748f89-5d6a-4477-a35e-befe7b0a8e56",
   "metadata": {},
   "outputs": [],
   "source": [
    "def cacheWithMongo(collection):\n",
    "    def decorator(func):\n",
    "        async def decorated(url):\n",
    "            doc = await collection.find_one({'url': url})\n",
    "            if doc is None:\n",
    "                result = await func(url)\n",
    "                newDoc = await collection.insert_one({'url': url, 'html': html})\n",
    "            else:\n",
    "                result = doc.html\n",
    "            return result\n",
    "        return decorated\n",
    "    return decorator"
   ]
  },
  {
   "cell_type": "code",
   "execution_count": null,
   "id": "acbafe73-d20e-4d8e-9550-b982b9197f82",
   "metadata": {},
   "outputs": [],
   "source": [
    "@cacheWithMongo(collection=None)\n",
    "async def readHtml(url):\n",
    "    return 'html'"
   ]
  },
  {
   "cell_type": "markdown",
   "id": "cb34863c-0589-4f2e-bd63-db85e3f2cb2c",
   "metadata": {},
   "source": [
    "## Mongo Map+Reduce"
   ]
  },
  {
   "cell_type": "markdown",
   "id": "94d03cfc-49c3-46e2-a4fe-fd571c573cba",
   "metadata": {},
   "source": [
    "### Map"
   ]
  },
  {
   "cell_type": "markdown",
   "id": "5e8ca99a-ef18-4b3d-aca5-b78ed27ec1f8",
   "metadata": {},
   "source": [
    "Map, tedy \"mapování\" je jednou ze základním metod zpracování data obecně. Vychází se ze skutečnosti, že na základě poskytnutých dat vzniká hodnota. V mnoha jazycích je speciální funkce, která provádí mapování nad polem (array, list apod.) a je buď přímo metodou třídy reprezentující odpovídající datovou strukturu (Javascript Array) nebo je dostupná jako speciální funkce (Python).\n",
    "\n",
    "V obou zmíněných případech je parametrem funkce, která bere každý jeden prvek (pole, listu) a vrací výstupní hodnotu. Touto hodnotou může být elementární datová struktura (číslo, text) nebo komplexní datová struktura (slovník/dictionary/json, JSX item v React)."
   ]
  },
  {
   "cell_type": "code",
   "execution_count": 2,
   "id": "d6769dae-6b60-43c1-92f5-5594633f632d",
   "metadata": {},
   "outputs": [
    {
     "name": "stdout",
     "output_type": "stream",
     "text": [
      "{'from': datetime.datetime(2022, 4, 12, 11, 40), 'to': datetime.datetime(2022, 4, 12, 13, 10), 'length': 1}\n",
      "[{'from': datetime.datetime(2022, 4, 22, 9, 50), 'to': datetime.datetime(2022, 4, 22, 13, 10), 'length': 2, 'teacherId': None}, {'from': datetime.datetime(2022, 4, 24, 11, 40), 'to': datetime.datetime(2022, 4, 24, 13, 10), 'length': 1, 'teacherId': None}, {'from': datetime.datetime(2022, 4, 25, 9, 50), 'to': datetime.datetime(2022, 4, 25, 13, 10), 'length': 2, 'teacherId': None}, {'from': datetime.datetime(2022, 4, 13, 14, 30), 'to': datetime.datetime(2022, 4, 13, 16, 0), 'length': 1, 'teacherId': None}, {'from': datetime.datetime(2022, 4, 2, 14, 30), 'to': datetime.datetime(2022, 4, 2, 16, 0), 'length': 1, 'teacherId': None}]\n"
     ]
    }
   ],
   "source": [
    "import datetime\n",
    "import random\n",
    "\n",
    "def randomDay(year=2022, month=4):\n",
    "    result = datetime.datetime(year=year, month=month, day=random.randint(1, 27))\n",
    "    return result\n",
    "    \n",
    "def randomLesson(day):\n",
    "    startEnd = [\n",
    "        (datetime.timedelta(hours=8, minutes=0), datetime.timedelta(hours=9, minutes=30), 1),\n",
    "        (datetime.timedelta(hours=9, minutes=50), datetime.timedelta(hours=11, minutes=20), 1),\n",
    "        (datetime.timedelta(hours=11, minutes=40), datetime.timedelta(hours=13, minutes=10), 1),\n",
    "        (datetime.timedelta(hours=14, minutes=30), datetime.timedelta(hours=16, minutes=0), 1),\n",
    "\n",
    "        (datetime.timedelta(hours=8, minutes=0), datetime.timedelta(hours=11, minutes=20), 2),\n",
    "        (datetime.timedelta(hours=9, minutes=50), datetime.timedelta(hours=13, minutes=10), 2),\n",
    "    ]\n",
    "    choosen = random.choice(startEnd)\n",
    "    return {'from': day + choosen[0], 'to': day + choosen[1], 'length': choosen[2]}\n",
    "    \n",
    "def randomEvents(teacherId=None):\n",
    "    return [{**randomLesson(randomDay()), 'teacherId': teacherId} for _ in range(random.randint(5, 20))]\n",
    "    \n",
    "print(randomLesson(randomDay()))\n",
    "print(randomEvents())"
   ]
  },
  {
   "cell_type": "markdown",
   "id": "cfa163fa-8bc2-431f-b465-d595899600e5",
   "metadata": {},
   "source": [
    "Zde jsou mapovací funkce, které vezmou datovou strukturu a přidají do ní položku."
   ]
  },
  {
   "cell_type": "code",
   "execution_count": 5,
   "id": "edd12897-365e-4e76-9a81-f4bd23c947ac",
   "metadata": {},
   "outputs": [
    {
     "name": "stdout",
     "output_type": "stream",
     "text": [
      "[{'from': datetime.datetime(2022, 4, 25, 11, 40), 'to': datetime.datetime(2022, 4, 25, 13, 10), 'length': 1, 'teacherId': None, 'date': datetime.date(2022, 4, 25), 'deltaDays': 24}, {'from': datetime.datetime(2022, 4, 11, 8, 0), 'to': datetime.datetime(2022, 4, 11, 9, 30), 'length': 1, 'teacherId': None, 'date': datetime.date(2022, 4, 11), 'deltaDays': 10}, {'from': datetime.datetime(2022, 4, 9, 8, 0), 'to': datetime.datetime(2022, 4, 9, 11, 20), 'length': 2, 'teacherId': None, 'date': datetime.date(2022, 4, 9), 'deltaDays': 8}, {'from': datetime.datetime(2022, 4, 8, 8, 0), 'to': datetime.datetime(2022, 4, 8, 11, 20), 'length': 2, 'teacherId': None, 'date': datetime.date(2022, 4, 8), 'deltaDays': 7}, {'from': datetime.datetime(2022, 4, 12, 8, 0), 'to': datetime.datetime(2022, 4, 12, 9, 30), 'length': 1, 'teacherId': None, 'date': datetime.date(2022, 4, 12), 'deltaDays': 11}, {'from': datetime.datetime(2022, 4, 1, 8, 0), 'to': datetime.datetime(2022, 4, 1, 11, 20), 'length': 2, 'teacherId': None, 'date': datetime.date(2022, 4, 1), 'deltaDays': 0}, {'from': datetime.datetime(2022, 4, 25, 9, 50), 'to': datetime.datetime(2022, 4, 25, 11, 20), 'length': 1, 'teacherId': None, 'date': datetime.date(2022, 4, 25), 'deltaDays': 24}, {'from': datetime.datetime(2022, 4, 25, 9, 50), 'to': datetime.datetime(2022, 4, 25, 13, 10), 'length': 2, 'teacherId': None, 'date': datetime.date(2022, 4, 25), 'deltaDays': 24}]\n"
     ]
    }
   ],
   "source": [
    "def AddDate(item):\n",
    "    return {**item, 'date': item['from'].date()}\n",
    "\n",
    "def AddDeltaFromReference(item, referenceDate):\n",
    "    return {**item, 'deltaDays': (item['date'] - referenceDate).days}\n",
    "\n",
    "eventList = randomEvents()\n",
    "eventList = list(map(AddDate, eventList))\n",
    "eventList = list(map(lambda item: AddDeltaFromReference(item, datetime.date(year=2022, month=4, day=1)), eventList))\n",
    "print(eventList)"
   ]
  },
  {
   "cell_type": "markdown",
   "id": "221aa68c-ecc1-447b-a8d1-e5c52d3df59d",
   "metadata": {},
   "source": [
    "Pokud je výstupem elementární datová struktura, lze ji jednoduchým způsobem včlenit do původní datové struktury."
   ]
  },
  {
   "cell_type": "code",
   "execution_count": 6,
   "id": "7c18c3b0-d720-47e9-a945-3362ccf7958a",
   "metadata": {},
   "outputs": [
    {
     "name": "stdout",
     "output_type": "stream",
     "text": [
      "[{'from': datetime.datetime(2022, 4, 11, 14, 30), 'to': datetime.datetime(2022, 4, 11, 16, 0), 'length': 1, 'teacherId': None, 'date': datetime.date(2022, 4, 11)}, {'from': datetime.datetime(2022, 4, 18, 8, 0), 'to': datetime.datetime(2022, 4, 18, 11, 20), 'length': 2, 'teacherId': None, 'date': datetime.date(2022, 4, 18)}, {'from': datetime.datetime(2022, 4, 9, 8, 0), 'to': datetime.datetime(2022, 4, 9, 11, 20), 'length': 2, 'teacherId': None, 'date': datetime.date(2022, 4, 9)}, {'from': datetime.datetime(2022, 4, 16, 9, 50), 'to': datetime.datetime(2022, 4, 16, 13, 10), 'length': 2, 'teacherId': None, 'date': datetime.date(2022, 4, 16)}, {'from': datetime.datetime(2022, 4, 11, 9, 50), 'to': datetime.datetime(2022, 4, 11, 13, 10), 'length': 2, 'teacherId': None, 'date': datetime.date(2022, 4, 11)}, {'from': datetime.datetime(2022, 4, 11, 9, 50), 'to': datetime.datetime(2022, 4, 11, 11, 20), 'length': 1, 'teacherId': None, 'date': datetime.date(2022, 4, 11)}, {'from': datetime.datetime(2022, 4, 24, 8, 0), 'to': datetime.datetime(2022, 4, 24, 11, 20), 'length': 2, 'teacherId': None, 'date': datetime.date(2022, 4, 24)}, {'from': datetime.datetime(2022, 4, 2, 8, 0), 'to': datetime.datetime(2022, 4, 2, 9, 30), 'length': 1, 'teacherId': None, 'date': datetime.date(2022, 4, 2)}, {'from': datetime.datetime(2022, 4, 19, 8, 0), 'to': datetime.datetime(2022, 4, 19, 9, 30), 'length': 1, 'teacherId': None, 'date': datetime.date(2022, 4, 19)}, {'from': datetime.datetime(2022, 4, 11, 8, 0), 'to': datetime.datetime(2022, 4, 11, 11, 20), 'length': 2, 'teacherId': None, 'date': datetime.date(2022, 4, 11)}, {'from': datetime.datetime(2022, 4, 22, 9, 50), 'to': datetime.datetime(2022, 4, 22, 13, 10), 'length': 2, 'teacherId': None, 'date': datetime.date(2022, 4, 22)}, {'from': datetime.datetime(2022, 4, 26, 11, 40), 'to': datetime.datetime(2022, 4, 26, 13, 10), 'length': 1, 'teacherId': None, 'date': datetime.date(2022, 4, 26)}]\n"
     ]
    }
   ],
   "source": [
    "def decoratePrimitiveMapper(outName):\n",
    "    def decorator(mapperFunc):\n",
    "        def decorated(item):\n",
    "            return {**item, outName: mapperFunc(item)}\n",
    "        return decorated\n",
    "    return decorator\n",
    "\n",
    "@decoratePrimitiveMapper(outName='date')\n",
    "def getDate(item):\n",
    "    return item['from'].date()\n",
    "\n",
    "eventList = randomEvents()\n",
    "eventList = list(map(getDate, eventList))\n",
    "print(eventList)"
   ]
  },
  {
   "cell_type": "markdown",
   "id": "a1e8dfcd-b000-4c11-97a4-b2ea8209928f",
   "metadata": {},
   "source": [
    "Z principu je výstupem mapování vždy seznam (list, array). Pokud je prvkem výstupu slovník (dictionary), je fakticky kompatibilní se vstupem a je tak možné provést řetězení mapovacích funkcí."
   ]
  },
  {
   "cell_type": "code",
   "execution_count": 18,
   "id": "993bcdc8-2a22-4c63-a614-b1a680779db4",
   "metadata": {},
   "outputs": [
    {
     "name": "stdout",
     "output_type": "stream",
     "text": [
      "[{'from': datetime.datetime(2022, 4, 9, 8, 0), 'to': datetime.datetime(2022, 4, 9, 11, 20), 'length': 2, 'teacherId': None, 'date': datetime.date(2022, 4, 9), 'from700': 28800}, {'from': datetime.datetime(2022, 4, 16, 9, 50), 'to': datetime.datetime(2022, 4, 16, 13, 10), 'length': 2, 'teacherId': None, 'date': datetime.date(2022, 4, 16), 'from700': 35400}, {'from': datetime.datetime(2022, 4, 20, 14, 30), 'to': datetime.datetime(2022, 4, 20, 16, 0), 'length': 1, 'teacherId': None, 'date': datetime.date(2022, 4, 20), 'from700': 52200}, {'from': datetime.datetime(2022, 4, 5, 8, 0), 'to': datetime.datetime(2022, 4, 5, 11, 20), 'length': 2, 'teacherId': None, 'date': datetime.date(2022, 4, 5), 'from700': 28800}, {'from': datetime.datetime(2022, 4, 13, 11, 40), 'to': datetime.datetime(2022, 4, 13, 13, 10), 'length': 1, 'teacherId': None, 'date': datetime.date(2022, 4, 13), 'from700': 42000}, {'from': datetime.datetime(2022, 4, 27, 14, 30), 'to': datetime.datetime(2022, 4, 27, 16, 0), 'length': 1, 'teacherId': None, 'date': datetime.date(2022, 4, 27), 'from700': 52200}, {'from': datetime.datetime(2022, 4, 9, 11, 40), 'to': datetime.datetime(2022, 4, 9, 13, 10), 'length': 1, 'teacherId': None, 'date': datetime.date(2022, 4, 9), 'from700': 42000}, {'from': datetime.datetime(2022, 4, 27, 11, 40), 'to': datetime.datetime(2022, 4, 27, 13, 10), 'length': 1, 'teacherId': None, 'date': datetime.date(2022, 4, 27), 'from700': 42000}, {'from': datetime.datetime(2022, 4, 12, 11, 40), 'to': datetime.datetime(2022, 4, 12, 13, 10), 'length': 1, 'teacherId': None, 'date': datetime.date(2022, 4, 12), 'from700': 42000}, {'from': datetime.datetime(2022, 4, 12, 8, 0), 'to': datetime.datetime(2022, 4, 12, 9, 30), 'length': 1, 'teacherId': None, 'date': datetime.date(2022, 4, 12), 'from700': 28800}, {'from': datetime.datetime(2022, 4, 19, 11, 40), 'to': datetime.datetime(2022, 4, 19, 13, 10), 'length': 1, 'teacherId': None, 'date': datetime.date(2022, 4, 19), 'from700': 42000}, {'from': datetime.datetime(2022, 4, 8, 14, 30), 'to': datetime.datetime(2022, 4, 8, 16, 0), 'length': 1, 'teacherId': None, 'date': datetime.date(2022, 4, 8), 'from700': 52200}, {'from': datetime.datetime(2022, 4, 9, 9, 50), 'to': datetime.datetime(2022, 4, 9, 13, 10), 'length': 2, 'teacherId': None, 'date': datetime.date(2022, 4, 9), 'from700': 35400}, {'from': datetime.datetime(2022, 4, 1, 8, 0), 'to': datetime.datetime(2022, 4, 1, 11, 20), 'length': 2, 'teacherId': None, 'date': datetime.date(2022, 4, 1), 'from700': 28800}, {'from': datetime.datetime(2022, 4, 4, 9, 50), 'to': datetime.datetime(2022, 4, 4, 13, 10), 'length': 2, 'teacherId': None, 'date': datetime.date(2022, 4, 4), 'from700': 35400}, {'from': datetime.datetime(2022, 4, 19, 9, 50), 'to': datetime.datetime(2022, 4, 19, 11, 20), 'length': 1, 'teacherId': None, 'date': datetime.date(2022, 4, 19), 'from700': 35400}, {'from': datetime.datetime(2022, 4, 3, 11, 40), 'to': datetime.datetime(2022, 4, 3, 13, 10), 'length': 1, 'teacherId': None, 'date': datetime.date(2022, 4, 3), 'from700': 42000}]\n"
     ]
    }
   ],
   "source": [
    "def ChainFuncs(*funcs):\n",
    "    def resultFunc(item):\n",
    "        result = item\n",
    "        for f in funcs:\n",
    "            result = f(result)\n",
    "        return result\n",
    "    return resultFunc\n",
    "\n",
    "@decoratePrimitiveMapper(outName='date')\n",
    "def getDate(item):\n",
    "    return item['from'].date()\n",
    "\n",
    "@decoratePrimitiveMapper(outName='from700')\n",
    "def getSeconds(item):\n",
    "    justDate = item['from'].date()\n",
    "    return (item['from'] - datetime.datetime(year=justDate.year, month=justDate.month, day=justDate.day)).seconds\n",
    "\n",
    "allMappers = ChainFuncs(getDate, getSeconds)\n",
    "\n",
    "eventList = randomEvents()\n",
    "eventList = list(map(allMappers, eventList))\n",
    "print(eventList)"
   ]
  },
  {
   "cell_type": "code",
   "execution_count": 27,
   "id": "a09e21d0-2fe7-498f-9f02-90dc211f1927",
   "metadata": {},
   "outputs": [
    {
     "name": "stdout",
     "output_type": "stream",
     "text": [
      "[{'from': datetime.datetime(2022, 4, 26, 8, 0), 'to': datetime.datetime(2022, 4, 26, 11, 20), 'length': 2, 'teacherId': None, 'secondsStart': 28800, 'secondsEnd': 40800, 'days': 40800, 'left': 100.0, 'width': 333.33333333333337, 'top': 2500, 'height': 100, 'svg': '<rect x=\"100.0\" y=\"2500\" width=\"333.33333333333337\" height=\"100\" style=\"fill:rgb(170, 189, 226);stroke-width:1;stroke:rgb(0,0,0)\" />'}, {'from': datetime.datetime(2022, 4, 21, 9, 50), 'to': datetime.datetime(2022, 4, 21, 13, 10), 'length': 2, 'teacherId': None, 'secondsStart': 35400, 'secondsEnd': 47400, 'days': 47400, 'left': 283.3333333333333, 'width': 333.33333333333337, 'top': 2000, 'height': 100, 'svg': '<rect x=\"283.3333333333333\" y=\"2000\" width=\"333.33333333333337\" height=\"100\" style=\"fill:rgb(128, 131, 150);stroke-width:1;stroke:rgb(0,0,0)\" />'}, {'from': datetime.datetime(2022, 4, 25, 8, 0), 'to': datetime.datetime(2022, 4, 25, 11, 20), 'length': 2, 'teacherId': None, 'secondsStart': 28800, 'secondsEnd': 40800, 'days': 40800, 'left': 100.0, 'width': 333.33333333333337, 'top': 2400, 'height': 100, 'svg': '<rect x=\"100.0\" y=\"2400\" width=\"333.33333333333337\" height=\"100\" style=\"fill:rgb(187, 217, 194);stroke-width:1;stroke:rgb(0,0,0)\" />'}, {'from': datetime.datetime(2022, 4, 16, 8, 0), 'to': datetime.datetime(2022, 4, 16, 11, 20), 'length': 2, 'teacherId': None, 'secondsStart': 28800, 'secondsEnd': 40800, 'days': 40800, 'left': 100.0, 'width': 333.33333333333337, 'top': 1500, 'height': 100, 'svg': '<rect x=\"100.0\" y=\"1500\" width=\"333.33333333333337\" height=\"100\" style=\"fill:rgb(136, 148, 195);stroke-width:1;stroke:rgb(0,0,0)\" />'}, {'from': datetime.datetime(2022, 4, 11, 9, 50), 'to': datetime.datetime(2022, 4, 11, 13, 10), 'length': 2, 'teacherId': None, 'secondsStart': 35400, 'secondsEnd': 47400, 'days': 47400, 'left': 283.3333333333333, 'width': 333.33333333333337, 'top': 1000, 'height': 100, 'svg': '<rect x=\"283.3333333333333\" y=\"1000\" width=\"333.33333333333337\" height=\"100\" style=\"fill:rgb(128, 239, 208);stroke-width:1;stroke:rgb(0,0,0)\" />'}, {'from': datetime.datetime(2022, 4, 26, 14, 30), 'to': datetime.datetime(2022, 4, 26, 16, 0), 'length': 1, 'teacherId': None, 'secondsStart': 52200, 'secondsEnd': 57600, 'days': 57600, 'left': 750.0, 'width': 150.0, 'top': 2500, 'height': 100, 'svg': '<rect x=\"750.0\" y=\"2500\" width=\"150.0\" height=\"100\" style=\"fill:rgb(227, 171, 193);stroke-width:1;stroke:rgb(0,0,0)\" />'}, {'from': datetime.datetime(2022, 4, 11, 11, 40), 'to': datetime.datetime(2022, 4, 11, 13, 10), 'length': 1, 'teacherId': None, 'secondsStart': 42000, 'secondsEnd': 47400, 'days': 47400, 'left': 466.66666666666663, 'width': 150.0, 'top': 1000, 'height': 100, 'svg': '<rect x=\"466.66666666666663\" y=\"1000\" width=\"150.0\" height=\"100\" style=\"fill:rgb(174, 236, 206);stroke-width:1;stroke:rgb(0,0,0)\" />'}, {'from': datetime.datetime(2022, 4, 5, 9, 50), 'to': datetime.datetime(2022, 4, 5, 11, 20), 'length': 1, 'teacherId': None, 'secondsStart': 35400, 'secondsEnd': 40800, 'days': 40800, 'left': 283.3333333333333, 'width': 150.0, 'top': 400, 'height': 100, 'svg': '<rect x=\"283.3333333333333\" y=\"400\" width=\"150.0\" height=\"100\" style=\"fill:rgb(131, 209, 170);stroke-width:1;stroke:rgb(0,0,0)\" />'}, {'from': datetime.datetime(2022, 4, 20, 9, 50), 'to': datetime.datetime(2022, 4, 20, 11, 20), 'length': 1, 'teacherId': None, 'secondsStart': 35400, 'secondsEnd': 40800, 'days': 40800, 'left': 283.3333333333333, 'width': 150.0, 'top': 1900, 'height': 100, 'svg': '<rect x=\"283.3333333333333\" y=\"1900\" width=\"150.0\" height=\"100\" style=\"fill:rgb(219, 171, 247);stroke-width:1;stroke:rgb(0,0,0)\" />'}, {'from': datetime.datetime(2022, 4, 7, 14, 30), 'to': datetime.datetime(2022, 4, 7, 16, 0), 'length': 1, 'teacherId': None, 'secondsStart': 52200, 'secondsEnd': 57600, 'days': 57600, 'left': 750.0, 'width': 150.0, 'top': 600, 'height': 100, 'svg': '<rect x=\"750.0\" y=\"600\" width=\"150.0\" height=\"100\" style=\"fill:rgb(191, 218, 226);stroke-width:1;stroke:rgb(0,0,0)\" />'}, {'from': datetime.datetime(2022, 4, 23, 8, 0), 'to': datetime.datetime(2022, 4, 23, 11, 20), 'length': 2, 'teacherId': None, 'secondsStart': 28800, 'secondsEnd': 40800, 'days': 40800, 'left': 100.0, 'width': 333.33333333333337, 'top': 2200, 'height': 100, 'svg': '<rect x=\"100.0\" y=\"2200\" width=\"333.33333333333337\" height=\"100\" style=\"fill:rgb(167, 186, 174);stroke-width:1;stroke:rgb(0,0,0)\" />'}, {'from': datetime.datetime(2022, 4, 5, 9, 50), 'to': datetime.datetime(2022, 4, 5, 13, 10), 'length': 2, 'teacherId': None, 'secondsStart': 35400, 'secondsEnd': 47400, 'days': 47400, 'left': 283.3333333333333, 'width': 333.33333333333337, 'top': 400, 'height': 100, 'svg': '<rect x=\"283.3333333333333\" y=\"400\" width=\"333.33333333333337\" height=\"100\" style=\"fill:rgb(250, 237, 239);stroke-width:1;stroke:rgb(0,0,0)\" />'}, {'from': datetime.datetime(2022, 4, 3, 8, 0), 'to': datetime.datetime(2022, 4, 3, 11, 20), 'length': 2, 'teacherId': None, 'secondsStart': 28800, 'secondsEnd': 40800, 'days': 40800, 'left': 100.0, 'width': 333.33333333333337, 'top': 200, 'height': 100, 'svg': '<rect x=\"100.0\" y=\"200\" width=\"333.33333333333337\" height=\"100\" style=\"fill:rgb(145, 142, 184);stroke-width:1;stroke:rgb(0,0,0)\" />'}, {'from': datetime.datetime(2022, 4, 19, 9, 50), 'to': datetime.datetime(2022, 4, 19, 11, 20), 'length': 1, 'teacherId': None, 'secondsStart': 35400, 'secondsEnd': 40800, 'days': 40800, 'left': 283.3333333333333, 'width': 150.0, 'top': 1800, 'height': 100, 'svg': '<rect x=\"283.3333333333333\" y=\"1800\" width=\"150.0\" height=\"100\" style=\"fill:rgb(226, 233, 161);stroke-width:1;stroke:rgb(0,0,0)\" />'}, {'from': datetime.datetime(2022, 4, 25, 8, 0), 'to': datetime.datetime(2022, 4, 25, 11, 20), 'length': 2, 'teacherId': None, 'secondsStart': 28800, 'secondsEnd': 40800, 'days': 40800, 'left': 100.0, 'width': 333.33333333333337, 'top': 2400, 'height': 100, 'svg': '<rect x=\"100.0\" y=\"2400\" width=\"333.33333333333337\" height=\"100\" style=\"fill:rgb(158, 189, 129);stroke-width:1;stroke:rgb(0,0,0)\" />'}, {'from': datetime.datetime(2022, 4, 6, 9, 50), 'to': datetime.datetime(2022, 4, 6, 13, 10), 'length': 2, 'teacherId': None, 'secondsStart': 35400, 'secondsEnd': 47400, 'days': 47400, 'left': 283.3333333333333, 'width': 333.33333333333337, 'top': 500, 'height': 100, 'svg': '<rect x=\"283.3333333333333\" y=\"500\" width=\"333.33333333333337\" height=\"100\" style=\"fill:rgb(165, 205, 248);stroke-width:1;stroke:rgb(0,0,0)\" />'}, {'from': datetime.datetime(2022, 4, 24, 9, 50), 'to': datetime.datetime(2022, 4, 24, 11, 20), 'length': 1, 'teacherId': None, 'secondsStart': 35400, 'secondsEnd': 40800, 'days': 40800, 'left': 283.3333333333333, 'width': 150.0, 'top': 2300, 'height': 100, 'svg': '<rect x=\"283.3333333333333\" y=\"2300\" width=\"150.0\" height=\"100\" style=\"fill:rgb(143, 247, 133);stroke-width:1;stroke:rgb(0,0,0)\" />'}]\n"
     ]
    }
   ],
   "source": [
    "@decoratePrimitiveMapper(outName='secondsStart')\n",
    "def getSecondsFrom(item):\n",
    "    justDate = item['from'].date()\n",
    "    return (item['from'] - datetime.datetime(year=justDate.year, month=justDate.month, day=justDate.day)).seconds\n",
    "\n",
    "@decoratePrimitiveMapper(outName='secondsEnd')\n",
    "def getSecondsTo(item):\n",
    "    justDate = item['to'].date()\n",
    "    return (item['to'] - datetime.datetime(year=justDate.year, month=justDate.month, day=justDate.day)).seconds\n",
    "\n",
    "@decoratePrimitiveMapper(outName='days')\n",
    "def getDays(item):\n",
    "    justDate = item['to'].date()\n",
    "    return (item['to'] - datetime.datetime(year=justDate.year, month=justDate.month, day=justDate.day)).seconds\n",
    "\n",
    "@decoratePrimitiveMapper(outName='left')\n",
    "def getLeft(item):\n",
    "    return (item['secondsStart'] - 7 * 60 * 60) / 108 * 3\n",
    "\n",
    "@decoratePrimitiveMapper(outName='width')\n",
    "def getWidth(item):\n",
    "    return (item['secondsEnd'] - item['secondsStart']) / 108 * 3 \n",
    "\n",
    "@decoratePrimitiveMapper(outName='top')\n",
    "def getTop(item):\n",
    "    justDate = item['to'].date()\n",
    "    return (datetime.datetime(year=justDate.year, month=justDate.month, day=justDate.day) - datetime.datetime(year=justDate.year, month=4, day=1)).days * 100\n",
    "\n",
    "@decoratePrimitiveMapper(outName='height')\n",
    "def getHeight(item):\n",
    "    return 100\n",
    "\n",
    "import random\n",
    "@decoratePrimitiveMapper(outName='svg')\n",
    "def getSVGRect(item):\n",
    "    top = item['top']\n",
    "    left = item['left']\n",
    "    width = item['width']\n",
    "    height = item['height']\n",
    "    r = random.randint(128, 255)\n",
    "    g = random.randint(128, 255)\n",
    "    b = random.randint(128, 255)\n",
    "    return f'<rect x=\"{left}\" y=\"{top}\" width=\"{width}\" height=\"{height}\" style=\"fill:rgb({r}, {g}, {b});stroke-width:1;stroke:rgb(0,0,0)\" />'\n",
    "\n",
    "\n",
    "allMappers = ChainFuncs(getSecondsFrom, getSecondsTo, getDays, getLeft, getWidth, getTop, getHeight, getSVGRect)\n",
    "\n",
    "eventList = randomEvents()\n",
    "eventList = list(map(allMappers, eventList))\n",
    "print(eventList)"
   ]
  },
  {
   "cell_type": "markdown",
   "id": "77b1debe-0465-405d-8817-304e8a370c07",
   "metadata": {},
   "source": [
    "### Reduce"
   ]
  },
  {
   "cell_type": "markdown",
   "id": "69f21e92-e2f5-40e4-b987-05504e18abd0",
   "metadata": {},
   "source": [
    "Reduce je proces, který typicky následuje po map. V některých případech jej lze použít bez map. V Pythonu jsou některé vestavěné funkce reduce (sum, max, min)"
   ]
  },
  {
   "cell_type": "code",
   "execution_count": 29,
   "id": "ce349574-84ce-4f85-b32a-d00e81d5dd6a",
   "metadata": {},
   "outputs": [
    {
     "name": "stdout",
     "output_type": "stream",
     "text": [
      "15\n",
      "5\n",
      "1\n"
     ]
    }
   ],
   "source": [
    "data = [1, 2, 3, 4, 5]\n",
    "print(sum(data))\n",
    "print(max(data))\n",
    "print(min(data))"
   ]
  },
  {
   "cell_type": "code",
   "execution_count": 32,
   "id": "5d6bd45c-5f7d-4f15-b2e2-608fbb53cac8",
   "metadata": {},
   "outputs": [
    {
     "name": "stdout",
     "output_type": "stream",
     "text": [
      "15\n",
      "15\n"
     ]
    }
   ],
   "source": [
    "def makeSum(accumulator, newValue):\n",
    "    return accumulator + newValue\n",
    "\n",
    "from functools import reduce\n",
    "data = [1, 2, 3, 4, 5]\n",
    "result = reduce(makeSum, data)\n",
    "print(result)\n",
    "result = reduce(lambda acc, val: acc + val, data)\n",
    "print(result)"
   ]
  },
  {
   "cell_type": "code",
   "execution_count": 33,
   "id": "6b47ea22-7727-411b-a63e-2ecf035dedff",
   "metadata": {},
   "outputs": [
    {
     "name": "stdout",
     "output_type": "stream",
     "text": [
      "ahojsvěte\n"
     ]
    }
   ],
   "source": [
    "data = ['ahoj', 'světe']\n",
    "result = reduce(makeSum, data)\n",
    "print(result)"
   ]
  },
  {
   "cell_type": "code",
   "execution_count": 34,
   "id": "97af0ecf-4535-4a93-a6ae-238a02e2def0",
   "metadata": {},
   "outputs": [
    {
     "name": "stdout",
     "output_type": "stream",
     "text": [
      "<rect x=\"100.0\" y=\"1000\" width=\"333.33333333333337\" height=\"100\" style=\"fill:rgb(239, 205, 227);stroke-width:1;stroke:rgb(0,0,0)\" />\n",
      "<rect x=\"466.66666666666663\" y=\"2600\" width=\"150.0\" height=\"100\" style=\"fill:rgb(154, 201, 154);stroke-width:1;stroke:rgb(0,0,0)\" />\n",
      "<rect x=\"466.66666666666663\" y=\"2100\" width=\"150.0\" height=\"100\" style=\"fill:rgb(178, 237, 215);stroke-width:1;stroke:rgb(0,0,0)\" />\n",
      "<rect x=\"466.66666666666663\" y=\"2500\" width=\"150.0\" height=\"100\" style=\"fill:rgb(226, 174, 211);stroke-width:1;stroke:rgb(0,0,0)\" />\n",
      "<rect x=\"100.0\" y=\"500\" width=\"150.0\" height=\"100\" style=\"fill:rgb(180, 148, 230);stroke-width:1;stroke:rgb(0,0,0)\" />\n",
      "<rect x=\"750.0\" y=\"1300\" width=\"150.0\" height=\"100\" style=\"fill:rgb(164, 153, 208);stroke-width:1;stroke:rgb(0,0,0)\" />\n",
      "<rect x=\"100.0\" y=\"1400\" width=\"150.0\" height=\"100\" style=\"fill:rgb(162, 210, 232);stroke-width:1;stroke:rgb(0,0,0)\" />\n",
      "<rect x=\"283.3333333333333\" y=\"500\" width=\"150.0\" height=\"100\" style=\"fill:rgb(252, 160, 224);stroke-width:1;stroke:rgb(0,0,0)\" />\n",
      "<rect x=\"100.0\" y=\"300\" width=\"333.33333333333337\" height=\"100\" style=\"fill:rgb(136, 149, 180);stroke-width:1;stroke:rgb(0,0,0)\" />\n",
      "<rect x=\"750.0\" y=\"1000\" width=\"150.0\" height=\"100\" style=\"fill:rgb(235, 204, 193);stroke-width:1;stroke:rgb(0,0,0)\" />\n",
      "<rect x=\"750.0\" y=\"1700\" width=\"150.0\" height=\"100\" style=\"fill:rgb(180, 239, 156);stroke-width:1;stroke:rgb(0,0,0)\" />\n",
      "<rect x=\"100.0\" y=\"1800\" width=\"333.33333333333337\" height=\"100\" style=\"fill:rgb(207, 128, 224);stroke-width:1;stroke:rgb(0,0,0)\" />\n",
      "<rect x=\"466.66666666666663\" y=\"400\" width=\"150.0\" height=\"100\" style=\"fill:rgb(233, 255, 234);stroke-width:1;stroke:rgb(0,0,0)\" />\n"
     ]
    }
   ],
   "source": [
    "def svgExtractor(item):\n",
    "    return item['svg']\n",
    "\n",
    "allMappers = ChainFuncs(getSecondsFrom, getSecondsTo, getDays, getLeft, getWidth, getTop, getHeight, getSVGRect, svgExtractor)\n",
    "\n",
    "def lineReducer(acc, line):\n",
    "    return acc + '\\n' + line\n",
    "\n",
    "eventList = randomEvents()\n",
    "svgBody = reduce(lineReducer, map(allMappers, eventList))\n",
    "print(svgBody)"
   ]
  },
  {
   "cell_type": "code",
   "execution_count": 38,
   "id": "1b24f343-d6d6-499d-93f9-b3b41c57fc42",
   "metadata": {},
   "outputs": [
    {
     "data": {
      "image/svg+xml": [
       "<svg width=\"1000\" height=\"3000\"><rect x=\"100.0\" y=\"1000\" width=\"333.33333333333337\" height=\"100\" style=\"fill:rgb(239, 205, 227);stroke-width:1;stroke:rgb(0,0,0)\"/>\n",
       "<rect x=\"466.66666666666663\" y=\"2600\" width=\"150.0\" height=\"100\" style=\"fill:rgb(154, 201, 154);stroke-width:1;stroke:rgb(0,0,0)\"/>\n",
       "<rect x=\"466.66666666666663\" y=\"2100\" width=\"150.0\" height=\"100\" style=\"fill:rgb(178, 237, 215);stroke-width:1;stroke:rgb(0,0,0)\"/>\n",
       "<rect x=\"466.66666666666663\" y=\"2500\" width=\"150.0\" height=\"100\" style=\"fill:rgb(226, 174, 211);stroke-width:1;stroke:rgb(0,0,0)\"/>\n",
       "<rect x=\"100.0\" y=\"500\" width=\"150.0\" height=\"100\" style=\"fill:rgb(180, 148, 230);stroke-width:1;stroke:rgb(0,0,0)\"/>\n",
       "<rect x=\"750.0\" y=\"1300\" width=\"150.0\" height=\"100\" style=\"fill:rgb(164, 153, 208);stroke-width:1;stroke:rgb(0,0,0)\"/>\n",
       "<rect x=\"100.0\" y=\"1400\" width=\"150.0\" height=\"100\" style=\"fill:rgb(162, 210, 232);stroke-width:1;stroke:rgb(0,0,0)\"/>\n",
       "<rect x=\"283.3333333333333\" y=\"500\" width=\"150.0\" height=\"100\" style=\"fill:rgb(252, 160, 224);stroke-width:1;stroke:rgb(0,0,0)\"/>\n",
       "<rect x=\"100.0\" y=\"300\" width=\"333.33333333333337\" height=\"100\" style=\"fill:rgb(136, 149, 180);stroke-width:1;stroke:rgb(0,0,0)\"/>\n",
       "<rect x=\"750.0\" y=\"1000\" width=\"150.0\" height=\"100\" style=\"fill:rgb(235, 204, 193);stroke-width:1;stroke:rgb(0,0,0)\"/>\n",
       "<rect x=\"750.0\" y=\"1700\" width=\"150.0\" height=\"100\" style=\"fill:rgb(180, 239, 156);stroke-width:1;stroke:rgb(0,0,0)\"/>\n",
       "<rect x=\"100.0\" y=\"1800\" width=\"333.33333333333337\" height=\"100\" style=\"fill:rgb(207, 128, 224);stroke-width:1;stroke:rgb(0,0,0)\"/>\n",
       "<rect x=\"466.66666666666663\" y=\"400\" width=\"150.0\" height=\"100\" style=\"fill:rgb(233, 255, 234);stroke-width:1;stroke:rgb(0,0,0)\"/></svg>"
      ],
      "text/plain": [
       "<IPython.core.display.SVG object>"
      ]
     },
     "execution_count": 38,
     "metadata": {},
     "output_type": "execute_result"
    }
   ],
   "source": [
    "from IPython.display import SVG\n",
    "\n",
    "svgPicture = '<svg width=\"1000\" height=\"3000\">' + svgBody + '</svg>'\n",
    "SVG(svgPicture)"
   ]
  },
  {
   "cell_type": "markdown",
   "id": "e5012b95-e4b8-4d04-b8f4-520a55e6e6c0",
   "metadata": {},
   "source": [
    "### V Mongo"
   ]
  },
  {
   "cell_type": "code",
   "execution_count": 118,
   "id": "725487bd-dc5c-4176-b511-68720f047ebc",
   "metadata": {},
   "outputs": [
    {
     "name": "stdout",
     "output_type": "stream",
     "text": [
      "0 {'_id': ObjectId('625695674015779cfa8983ba'), 'from': datetime.datetime(2022, 4, 22, 8, 0), 'to': datetime.datetime(2022, 4, 22, 9, 30), 'length': 1, 'teacherId': ObjectId('625673224015779cfa89834f')}\n",
      "1 {'_id': ObjectId('625695674015779cfa8983bb'), 'from': datetime.datetime(2022, 4, 13, 8, 0), 'to': datetime.datetime(2022, 4, 13, 11, 20), 'length': 2, 'teacherId': ObjectId('625673224015779cfa89834f')}\n",
      "2 {'_id': ObjectId('625695674015779cfa8983bc'), 'from': datetime.datetime(2022, 4, 10, 9, 50), 'to': datetime.datetime(2022, 4, 10, 11, 20), 'length': 1, 'teacherId': ObjectId('625673224015779cfa89834f')}\n",
      "3 {'_id': ObjectId('625695674015779cfa8983bd'), 'from': datetime.datetime(2022, 4, 6, 8, 0), 'to': datetime.datetime(2022, 4, 6, 9, 30), 'length': 1, 'teacherId': ObjectId('625673224015779cfa89834f')}\n",
      "4 {'_id': ObjectId('625695674015779cfa8983be'), 'from': datetime.datetime(2022, 4, 27, 8, 0), 'to': datetime.datetime(2022, 4, 27, 11, 20), 'length': 2, 'teacherId': ObjectId('625673224015779cfa89834f')}\n",
      "5 {'_id': ObjectId('625695674015779cfa8983bf'), 'from': datetime.datetime(2022, 4, 9, 9, 50), 'to': datetime.datetime(2022, 4, 9, 13, 10), 'length': 2, 'teacherId': ObjectId('625673224015779cfa89834f')}\n",
      "6 {'_id': ObjectId('625695674015779cfa8983c0'), 'from': datetime.datetime(2022, 4, 11, 11, 40), 'to': datetime.datetime(2022, 4, 11, 13, 10), 'length': 1, 'teacherId': ObjectId('625673224015779cfa89834f')}\n",
      "7 {'_id': ObjectId('625695674015779cfa8983c1'), 'from': datetime.datetime(2022, 4, 12, 9, 50), 'to': datetime.datetime(2022, 4, 12, 13, 10), 'length': 2, 'teacherId': ObjectId('625673224015779cfa89834f')}\n",
      "8 {'_id': ObjectId('625695674015779cfa8983c2'), 'from': datetime.datetime(2022, 4, 2, 11, 40), 'to': datetime.datetime(2022, 4, 2, 13, 10), 'length': 1, 'teacherId': ObjectId('625673224015779cfa89834f')}\n",
      "9 {'_id': ObjectId('625695674015779cfa8983c3'), 'from': datetime.datetime(2022, 4, 6, 11, 40), 'to': datetime.datetime(2022, 4, 6, 13, 10), 'length': 1, 'teacherId': ObjectId('625673224015779cfa89834f')}\n",
      "10 {'_id': ObjectId('625695674015779cfa8983c4'), 'from': datetime.datetime(2022, 4, 24, 9, 50), 'to': datetime.datetime(2022, 4, 24, 11, 20), 'length': 1, 'teacherId': ObjectId('625673224015779cfa89834f')}\n",
      "11 {'_id': ObjectId('625695674015779cfa8983c5'), 'from': datetime.datetime(2022, 4, 25, 9, 50), 'to': datetime.datetime(2022, 4, 25, 13, 10), 'length': 2, 'teacherId': ObjectId('625673224015779cfa89834f')}\n",
      "12 {'_id': ObjectId('625695674015779cfa8983c6'), 'from': datetime.datetime(2022, 4, 1, 8, 0), 'to': datetime.datetime(2022, 4, 1, 11, 20), 'length': 2, 'teacherId': ObjectId('625673224015779cfa89834f')}\n",
      "13 {'_id': ObjectId('625695674015779cfa8983c7'), 'from': datetime.datetime(2022, 4, 11, 11, 40), 'to': datetime.datetime(2022, 4, 11, 13, 10), 'length': 1, 'teacherId': ObjectId('625673224015779cfa89834f')}\n",
      "14 {'_id': ObjectId('625695674015779cfa8983c8'), 'from': datetime.datetime(2022, 4, 27, 9, 50), 'to': datetime.datetime(2022, 4, 27, 13, 10), 'length': 2, 'teacherId': ObjectId('625673224015779cfa89834f')}\n",
      "15 {'_id': ObjectId('625695674015779cfa8983c9'), 'from': datetime.datetime(2022, 4, 9, 8, 0), 'to': datetime.datetime(2022, 4, 9, 11, 20), 'length': 2, 'teacherId': ObjectId('625673224015779cfa89834f')}\n",
      "16 {'_id': ObjectId('625695674015779cfa8983ca'), 'from': datetime.datetime(2022, 4, 3, 9, 50), 'to': datetime.datetime(2022, 4, 3, 11, 20), 'length': 1, 'teacherId': ObjectId('625673224015779cfa89834f')}\n",
      "17 {'_id': ObjectId('625695674015779cfa8983cb'), 'from': datetime.datetime(2022, 4, 5, 9, 50), 'to': datetime.datetime(2022, 4, 5, 13, 10), 'length': 2, 'teacherId': ObjectId('625673224015779cfa89834f')}\n",
      "18 {'_id': ObjectId('625695674015779cfa8983cc'), 'from': datetime.datetime(2022, 4, 1, 14, 30), 'to': datetime.datetime(2022, 4, 1, 16, 0), 'length': 1, 'teacherId': ObjectId('625673224015779cfa89834f')}\n",
      "19 {'_id': ObjectId('625695674015779cfa8983cd'), 'from': datetime.datetime(2022, 4, 14, 9, 50), 'to': datetime.datetime(2022, 4, 14, 11, 20), 'length': 1, 'teacherId': ObjectId('625673224015779cfa898350')}\n",
      "20 {'_id': ObjectId('625695674015779cfa8983ce'), 'from': datetime.datetime(2022, 4, 8, 9, 50), 'to': datetime.datetime(2022, 4, 8, 13, 10), 'length': 2, 'teacherId': ObjectId('625673224015779cfa898350')}\n",
      "21 {'_id': ObjectId('625695674015779cfa8983cf'), 'from': datetime.datetime(2022, 4, 4, 8, 0), 'to': datetime.datetime(2022, 4, 4, 9, 30), 'length': 1, 'teacherId': ObjectId('625673224015779cfa898350')}\n",
      "22 {'_id': ObjectId('625695674015779cfa8983d0'), 'from': datetime.datetime(2022, 4, 24, 14, 30), 'to': datetime.datetime(2022, 4, 24, 16, 0), 'length': 1, 'teacherId': ObjectId('625673224015779cfa898350')}\n",
      "23 {'_id': ObjectId('625695674015779cfa8983d1'), 'from': datetime.datetime(2022, 4, 24, 9, 50), 'to': datetime.datetime(2022, 4, 24, 13, 10), 'length': 2, 'teacherId': ObjectId('625673224015779cfa898350')}\n",
      "24 {'_id': ObjectId('625695674015779cfa8983d2'), 'from': datetime.datetime(2022, 4, 22, 8, 0), 'to': datetime.datetime(2022, 4, 22, 11, 20), 'length': 2, 'teacherId': ObjectId('625673224015779cfa898350')}\n",
      "25 {'_id': ObjectId('625695674015779cfa8983d3'), 'from': datetime.datetime(2022, 4, 11, 8, 0), 'to': datetime.datetime(2022, 4, 11, 11, 20), 'length': 2, 'teacherId': ObjectId('625673224015779cfa898350')}\n",
      "26 {'_id': ObjectId('625695674015779cfa8983d4'), 'from': datetime.datetime(2022, 4, 16, 8, 0), 'to': datetime.datetime(2022, 4, 16, 9, 30), 'length': 1, 'teacherId': ObjectId('625673224015779cfa898350')}\n",
      "27 {'_id': ObjectId('625695674015779cfa8983d5'), 'from': datetime.datetime(2022, 4, 27, 8, 0), 'to': datetime.datetime(2022, 4, 27, 9, 30), 'length': 1, 'teacherId': ObjectId('625673224015779cfa898350')}\n",
      "28 {'_id': ObjectId('625695674015779cfa8983d6'), 'from': datetime.datetime(2022, 4, 18, 8, 0), 'to': datetime.datetime(2022, 4, 18, 11, 20), 'length': 2, 'teacherId': ObjectId('625673224015779cfa898350')}\n",
      "29 {'_id': ObjectId('625695674015779cfa8983d7'), 'from': datetime.datetime(2022, 4, 22, 9, 50), 'to': datetime.datetime(2022, 4, 22, 13, 10), 'length': 2, 'teacherId': ObjectId('625673224015779cfa898350')}\n",
      "30 {'_id': ObjectId('625695674015779cfa8983d8'), 'from': datetime.datetime(2022, 4, 22, 8, 0), 'to': datetime.datetime(2022, 4, 22, 11, 20), 'length': 2, 'teacherId': ObjectId('625673224015779cfa898350')}\n",
      "31 {'_id': ObjectId('625695674015779cfa8983d9'), 'from': datetime.datetime(2022, 4, 16, 11, 40), 'to': datetime.datetime(2022, 4, 16, 13, 10), 'length': 1, 'teacherId': ObjectId('625673224015779cfa898351')}\n",
      "32 {'_id': ObjectId('625695674015779cfa8983da'), 'from': datetime.datetime(2022, 4, 7, 8, 0), 'to': datetime.datetime(2022, 4, 7, 9, 30), 'length': 1, 'teacherId': ObjectId('625673224015779cfa898351')}\n",
      "33 {'_id': ObjectId('625695674015779cfa8983db'), 'from': datetime.datetime(2022, 4, 14, 9, 50), 'to': datetime.datetime(2022, 4, 14, 13, 10), 'length': 2, 'teacherId': ObjectId('625673224015779cfa898351')}\n",
      "34 {'_id': ObjectId('625695674015779cfa8983dc'), 'from': datetime.datetime(2022, 4, 4, 14, 30), 'to': datetime.datetime(2022, 4, 4, 16, 0), 'length': 1, 'teacherId': ObjectId('625673224015779cfa898351')}\n",
      "35 {'_id': ObjectId('625695674015779cfa8983dd'), 'from': datetime.datetime(2022, 4, 15, 9, 50), 'to': datetime.datetime(2022, 4, 15, 11, 20), 'length': 1, 'teacherId': ObjectId('625673224015779cfa898351')}\n",
      "36 {'_id': ObjectId('625695674015779cfa8983de'), 'from': datetime.datetime(2022, 4, 14, 9, 50), 'to': datetime.datetime(2022, 4, 14, 11, 20), 'length': 1, 'teacherId': ObjectId('625673224015779cfa898352')}\n",
      "37 {'_id': ObjectId('625695674015779cfa8983df'), 'from': datetime.datetime(2022, 4, 8, 8, 0), 'to': datetime.datetime(2022, 4, 8, 11, 20), 'length': 2, 'teacherId': ObjectId('625673224015779cfa898352')}\n",
      "38 {'_id': ObjectId('625695674015779cfa8983e0'), 'from': datetime.datetime(2022, 4, 23, 8, 0), 'to': datetime.datetime(2022, 4, 23, 11, 20), 'length': 2, 'teacherId': ObjectId('625673224015779cfa898352')}\n",
      "39 {'_id': ObjectId('625695674015779cfa8983e1'), 'from': datetime.datetime(2022, 4, 14, 14, 30), 'to': datetime.datetime(2022, 4, 14, 16, 0), 'length': 1, 'teacherId': ObjectId('625673224015779cfa898352')}\n",
      "40 {'_id': ObjectId('625695674015779cfa8983e2'), 'from': datetime.datetime(2022, 4, 2, 8, 0), 'to': datetime.datetime(2022, 4, 2, 9, 30), 'length': 1, 'teacherId': ObjectId('625673224015779cfa898352')}\n",
      "41 {'_id': ObjectId('625695674015779cfa8983e3'), 'from': datetime.datetime(2022, 4, 21, 8, 0), 'to': datetime.datetime(2022, 4, 21, 9, 30), 'length': 1, 'teacherId': ObjectId('625673224015779cfa898352')}\n",
      "42 {'_id': ObjectId('625695674015779cfa8983e4'), 'from': datetime.datetime(2022, 4, 3, 8, 0), 'to': datetime.datetime(2022, 4, 3, 9, 30), 'length': 1, 'teacherId': ObjectId('625673224015779cfa898353')}\n",
      "43 {'_id': ObjectId('625695674015779cfa8983e5'), 'from': datetime.datetime(2022, 4, 2, 11, 40), 'to': datetime.datetime(2022, 4, 2, 13, 10), 'length': 1, 'teacherId': ObjectId('625673224015779cfa898353')}\n",
      "44 {'_id': ObjectId('625695674015779cfa8983e6'), 'from': datetime.datetime(2022, 4, 15, 9, 50), 'to': datetime.datetime(2022, 4, 15, 11, 20), 'length': 1, 'teacherId': ObjectId('625673224015779cfa898353')}\n",
      "45 {'_id': ObjectId('625695674015779cfa8983e7'), 'from': datetime.datetime(2022, 4, 8, 11, 40), 'to': datetime.datetime(2022, 4, 8, 13, 10), 'length': 1, 'teacherId': ObjectId('625673224015779cfa898353')}\n",
      "46 {'_id': ObjectId('625695674015779cfa8983e8'), 'from': datetime.datetime(2022, 4, 12, 14, 30), 'to': datetime.datetime(2022, 4, 12, 16, 0), 'length': 1, 'teacherId': ObjectId('625673224015779cfa898353')}\n",
      "47 {'_id': ObjectId('625695674015779cfa8983e9'), 'from': datetime.datetime(2022, 4, 27, 8, 0), 'to': datetime.datetime(2022, 4, 27, 11, 20), 'length': 2, 'teacherId': ObjectId('625673224015779cfa898353')}\n",
      "48 {'_id': ObjectId('625695674015779cfa8983ea'), 'from': datetime.datetime(2022, 4, 2, 8, 0), 'to': datetime.datetime(2022, 4, 2, 11, 20), 'length': 2, 'teacherId': ObjectId('625673224015779cfa898354')}\n",
      "49 {'_id': ObjectId('625695674015779cfa8983eb'), 'from': datetime.datetime(2022, 4, 19, 11, 40), 'to': datetime.datetime(2022, 4, 19, 13, 10), 'length': 1, 'teacherId': ObjectId('625673224015779cfa898354')}\n",
      "50 {'_id': ObjectId('625695674015779cfa8983ec'), 'from': datetime.datetime(2022, 4, 24, 9, 50), 'to': datetime.datetime(2022, 4, 24, 13, 10), 'length': 2, 'teacherId': ObjectId('625673224015779cfa898354')}\n",
      "51 {'_id': ObjectId('625695674015779cfa8983ed'), 'from': datetime.datetime(2022, 4, 7, 9, 50), 'to': datetime.datetime(2022, 4, 7, 13, 10), 'length': 2, 'teacherId': ObjectId('625673224015779cfa898354')}\n",
      "52 {'_id': ObjectId('625695674015779cfa8983ee'), 'from': datetime.datetime(2022, 4, 9, 11, 40), 'to': datetime.datetime(2022, 4, 9, 13, 10), 'length': 1, 'teacherId': ObjectId('625673224015779cfa898354')}\n",
      "53 {'_id': ObjectId('625695674015779cfa8983ef'), 'from': datetime.datetime(2022, 4, 10, 14, 30), 'to': datetime.datetime(2022, 4, 10, 16, 0), 'length': 1, 'teacherId': ObjectId('625673224015779cfa898354')}\n",
      "54 {'_id': ObjectId('625695674015779cfa8983f0'), 'from': datetime.datetime(2022, 4, 4, 11, 40), 'to': datetime.datetime(2022, 4, 4, 13, 10), 'length': 1, 'teacherId': ObjectId('625673224015779cfa898354')}\n",
      "55 {'_id': ObjectId('625695674015779cfa8983f1'), 'from': datetime.datetime(2022, 4, 5, 8, 0), 'to': datetime.datetime(2022, 4, 5, 11, 20), 'length': 2, 'teacherId': ObjectId('625673224015779cfa898354')}\n",
      "56 {'_id': ObjectId('625695674015779cfa8983f2'), 'from': datetime.datetime(2022, 4, 20, 9, 50), 'to': datetime.datetime(2022, 4, 20, 13, 10), 'length': 2, 'teacherId': ObjectId('625673224015779cfa898354')}\n",
      "57 {'_id': ObjectId('625695674015779cfa8983f3'), 'from': datetime.datetime(2022, 4, 23, 8, 0), 'to': datetime.datetime(2022, 4, 23, 11, 20), 'length': 2, 'teacherId': ObjectId('625673224015779cfa898354')}\n",
      "58 {'_id': ObjectId('625695674015779cfa8983f4'), 'from': datetime.datetime(2022, 4, 17, 9, 50), 'to': datetime.datetime(2022, 4, 17, 13, 10), 'length': 2, 'teacherId': ObjectId('625673224015779cfa898354')}\n",
      "59 {'_id': ObjectId('625695674015779cfa8983f5'), 'from': datetime.datetime(2022, 4, 10, 8, 0), 'to': datetime.datetime(2022, 4, 10, 9, 30), 'length': 1, 'teacherId': ObjectId('625673224015779cfa898354')}\n",
      "60 {'_id': ObjectId('625695674015779cfa8983f6'), 'from': datetime.datetime(2022, 4, 8, 14, 30), 'to': datetime.datetime(2022, 4, 8, 16, 0), 'length': 1, 'teacherId': ObjectId('625673224015779cfa898354')}\n",
      "61 {'_id': ObjectId('625695674015779cfa8983f7'), 'from': datetime.datetime(2022, 4, 20, 8, 0), 'to': datetime.datetime(2022, 4, 20, 9, 30), 'length': 1, 'teacherId': ObjectId('625673224015779cfa898354')}\n",
      "62 {'_id': ObjectId('625695674015779cfa8983f8'), 'from': datetime.datetime(2022, 4, 6, 9, 50), 'to': datetime.datetime(2022, 4, 6, 11, 20), 'length': 1, 'teacherId': ObjectId('625673224015779cfa898355')}\n",
      "63 {'_id': ObjectId('625695674015779cfa8983f9'), 'from': datetime.datetime(2022, 4, 14, 8, 0), 'to': datetime.datetime(2022, 4, 14, 9, 30), 'length': 1, 'teacherId': ObjectId('625673224015779cfa898355')}\n",
      "64 {'_id': ObjectId('625695674015779cfa8983fa'), 'from': datetime.datetime(2022, 4, 27, 8, 0), 'to': datetime.datetime(2022, 4, 27, 9, 30), 'length': 1, 'teacherId': ObjectId('625673224015779cfa898355')}\n",
      "65 {'_id': ObjectId('625695674015779cfa8983fb'), 'from': datetime.datetime(2022, 4, 8, 8, 0), 'to': datetime.datetime(2022, 4, 8, 11, 20), 'length': 2, 'teacherId': ObjectId('625673224015779cfa898355')}\n",
      "66 {'_id': ObjectId('625695674015779cfa8983fc'), 'from': datetime.datetime(2022, 4, 1, 8, 0), 'to': datetime.datetime(2022, 4, 1, 9, 30), 'length': 1, 'teacherId': ObjectId('625673224015779cfa898355')}\n",
      "67 {'_id': ObjectId('625695674015779cfa8983fd'), 'from': datetime.datetime(2022, 4, 25, 9, 50), 'to': datetime.datetime(2022, 4, 25, 13, 10), 'length': 2, 'teacherId': ObjectId('625673224015779cfa898355')}\n",
      "68 {'_id': ObjectId('625695674015779cfa8983fe'), 'from': datetime.datetime(2022, 4, 4, 14, 30), 'to': datetime.datetime(2022, 4, 4, 16, 0), 'length': 1, 'teacherId': ObjectId('625673224015779cfa898355')}\n",
      "69 {'_id': ObjectId('625695674015779cfa8983ff'), 'from': datetime.datetime(2022, 4, 16, 11, 40), 'to': datetime.datetime(2022, 4, 16, 13, 10), 'length': 1, 'teacherId': ObjectId('625673224015779cfa898355')}\n",
      "70 {'_id': ObjectId('625695674015779cfa898400'), 'from': datetime.datetime(2022, 4, 24, 9, 50), 'to': datetime.datetime(2022, 4, 24, 13, 10), 'length': 2, 'teacherId': ObjectId('625673224015779cfa898355')}\n",
      "71 {'_id': ObjectId('625695674015779cfa898401'), 'from': datetime.datetime(2022, 4, 26, 9, 50), 'to': datetime.datetime(2022, 4, 26, 13, 10), 'length': 2, 'teacherId': ObjectId('625673224015779cfa898355')}\n",
      "72 {'_id': ObjectId('625695674015779cfa898402'), 'from': datetime.datetime(2022, 4, 23, 14, 30), 'to': datetime.datetime(2022, 4, 23, 16, 0), 'length': 1, 'teacherId': ObjectId('625673224015779cfa898355')}\n",
      "73 {'_id': ObjectId('625695674015779cfa898403'), 'from': datetime.datetime(2022, 4, 22, 11, 40), 'to': datetime.datetime(2022, 4, 22, 13, 10), 'length': 1, 'teacherId': ObjectId('625673224015779cfa898355')}\n",
      "74 {'_id': ObjectId('625695674015779cfa898404'), 'from': datetime.datetime(2022, 4, 6, 8, 0), 'to': datetime.datetime(2022, 4, 6, 9, 30), 'length': 1, 'teacherId': ObjectId('625673224015779cfa898355')}\n",
      "75 {'_id': ObjectId('625695674015779cfa898405'), 'from': datetime.datetime(2022, 4, 10, 8, 0), 'to': datetime.datetime(2022, 4, 10, 9, 30), 'length': 1, 'teacherId': ObjectId('625673224015779cfa898355')}\n",
      "76 {'_id': ObjectId('625695674015779cfa898406'), 'from': datetime.datetime(2022, 4, 18, 8, 0), 'to': datetime.datetime(2022, 4, 18, 11, 20), 'length': 2, 'teacherId': ObjectId('625673224015779cfa898355')}\n",
      "77 {'_id': ObjectId('625695674015779cfa898407'), 'from': datetime.datetime(2022, 4, 10, 11, 40), 'to': datetime.datetime(2022, 4, 10, 13, 10), 'length': 1, 'teacherId': ObjectId('625673224015779cfa898355')}\n",
      "78 {'_id': ObjectId('625695674015779cfa898408'), 'from': datetime.datetime(2022, 4, 20, 9, 50), 'to': datetime.datetime(2022, 4, 20, 13, 10), 'length': 2, 'teacherId': ObjectId('625673224015779cfa898356')}\n",
      "79 {'_id': ObjectId('625695674015779cfa898409'), 'from': datetime.datetime(2022, 4, 26, 9, 50), 'to': datetime.datetime(2022, 4, 26, 11, 20), 'length': 1, 'teacherId': ObjectId('625673224015779cfa898356')}\n",
      "80 {'_id': ObjectId('625695674015779cfa89840a'), 'from': datetime.datetime(2022, 4, 23, 8, 0), 'to': datetime.datetime(2022, 4, 23, 9, 30), 'length': 1, 'teacherId': ObjectId('625673224015779cfa898356')}\n",
      "81 {'_id': ObjectId('625695674015779cfa89840b'), 'from': datetime.datetime(2022, 4, 14, 8, 0), 'to': datetime.datetime(2022, 4, 14, 11, 20), 'length': 2, 'teacherId': ObjectId('625673224015779cfa898356')}\n",
      "82 {'_id': ObjectId('625695674015779cfa89840c'), 'from': datetime.datetime(2022, 4, 6, 9, 50), 'to': datetime.datetime(2022, 4, 6, 13, 10), 'length': 2, 'teacherId': ObjectId('625673224015779cfa898356')}\n",
      "83 {'_id': ObjectId('625695674015779cfa89840d'), 'from': datetime.datetime(2022, 4, 15, 9, 50), 'to': datetime.datetime(2022, 4, 15, 13, 10), 'length': 2, 'teacherId': ObjectId('625673224015779cfa898356')}\n",
      "84 {'_id': ObjectId('625695674015779cfa89840e'), 'from': datetime.datetime(2022, 4, 12, 8, 0), 'to': datetime.datetime(2022, 4, 12, 9, 30), 'length': 1, 'teacherId': ObjectId('625673224015779cfa898356')}\n",
      "85 {'_id': ObjectId('625695674015779cfa89840f'), 'from': datetime.datetime(2022, 4, 11, 9, 50), 'to': datetime.datetime(2022, 4, 11, 11, 20), 'length': 1, 'teacherId': ObjectId('625673224015779cfa898356')}\n",
      "86 {'_id': ObjectId('625695674015779cfa898410'), 'from': datetime.datetime(2022, 4, 15, 8, 0), 'to': datetime.datetime(2022, 4, 15, 11, 20), 'length': 2, 'teacherId': ObjectId('625673224015779cfa898356')}\n",
      "87 {'_id': ObjectId('625695674015779cfa898411'), 'from': datetime.datetime(2022, 4, 26, 9, 50), 'to': datetime.datetime(2022, 4, 26, 11, 20), 'length': 1, 'teacherId': ObjectId('625673224015779cfa898356')}\n",
      "88 {'_id': ObjectId('625695674015779cfa898412'), 'from': datetime.datetime(2022, 4, 19, 9, 50), 'to': datetime.datetime(2022, 4, 19, 11, 20), 'length': 1, 'teacherId': ObjectId('625673224015779cfa898356')}\n",
      "89 {'_id': ObjectId('625695674015779cfa898413'), 'from': datetime.datetime(2022, 4, 13, 9, 50), 'to': datetime.datetime(2022, 4, 13, 13, 10), 'length': 2, 'teacherId': ObjectId('625673224015779cfa898356')}\n",
      "90 {'_id': ObjectId('625695674015779cfa898414'), 'from': datetime.datetime(2022, 4, 15, 9, 50), 'to': datetime.datetime(2022, 4, 15, 13, 10), 'length': 2, 'teacherId': ObjectId('625673224015779cfa898356')}\n",
      "91 {'_id': ObjectId('625695674015779cfa898415'), 'from': datetime.datetime(2022, 4, 12, 14, 30), 'to': datetime.datetime(2022, 4, 12, 16, 0), 'length': 1, 'teacherId': ObjectId('625673224015779cfa898356')}\n",
      "92 {'_id': ObjectId('625695674015779cfa898416'), 'from': datetime.datetime(2022, 4, 6, 9, 50), 'to': datetime.datetime(2022, 4, 6, 11, 20), 'length': 1, 'teacherId': ObjectId('625673224015779cfa898356')}\n",
      "93 {'_id': ObjectId('625695674015779cfa898417'), 'from': datetime.datetime(2022, 4, 19, 8, 0), 'to': datetime.datetime(2022, 4, 19, 9, 30), 'length': 1, 'teacherId': ObjectId('625673224015779cfa898356')}\n",
      "94 {'_id': ObjectId('625695674015779cfa898418'), 'from': datetime.datetime(2022, 4, 20, 8, 0), 'to': datetime.datetime(2022, 4, 20, 9, 30), 'length': 1, 'teacherId': ObjectId('625673224015779cfa898356')}\n",
      "95 {'_id': ObjectId('625695674015779cfa898419'), 'from': datetime.datetime(2022, 4, 10, 8, 0), 'to': datetime.datetime(2022, 4, 10, 11, 20), 'length': 2, 'teacherId': ObjectId('625673224015779cfa898356')}\n",
      "96 {'_id': ObjectId('625695674015779cfa89841a'), 'from': datetime.datetime(2022, 4, 19, 8, 0), 'to': datetime.datetime(2022, 4, 19, 9, 30), 'length': 1, 'teacherId': ObjectId('6256808b4015779cfa898357')}\n",
      "97 {'_id': ObjectId('625695674015779cfa89841b'), 'from': datetime.datetime(2022, 4, 25, 9, 50), 'to': datetime.datetime(2022, 4, 25, 13, 10), 'length': 2, 'teacherId': ObjectId('6256808b4015779cfa898357')}\n",
      "98 {'_id': ObjectId('625695674015779cfa89841c'), 'from': datetime.datetime(2022, 4, 5, 9, 50), 'to': datetime.datetime(2022, 4, 5, 13, 10), 'length': 2, 'teacherId': ObjectId('6256808b4015779cfa898357')}\n",
      "99 {'_id': ObjectId('625695674015779cfa89841d'), 'from': datetime.datetime(2022, 4, 9, 8, 0), 'to': datetime.datetime(2022, 4, 9, 11, 20), 'length': 2, 'teacherId': ObjectId('6256808b4015779cfa898357')}\n"
     ]
    }
   ],
   "source": [
    "userCollection = client['test_database']['users']\n",
    "eventCollection = client['test_database']['events']\n",
    "\n",
    "for index, doc in enumerate(await mongoReadDocs(userCollection)):\n",
    "    events = randomEvents(teacherId=doc['_id'])\n",
    "    await mongoCreateDocs(eventCollection,  *events)\n",
    "    \n",
    "for index, doc in enumerate(await mongoReadDocs(eventCollection)):\n",
    "    print(index, doc)"
   ]
  },
  {
   "cell_type": "code",
   "execution_count": 122,
   "id": "7ca0f444-c922-47e3-b597-d5754c2e7471",
   "metadata": {},
   "outputs": [
    {
     "name": "stdout",
     "output_type": "stream",
     "text": [
      "[{'_id': ObjectId('625673224015779cfa89834f'), 'value': 28.0}, {'_id': ObjectId('625682d04015779cfa898376'), 'value': 26.0}, {'_id': ObjectId('625673224015779cfa898355'), 'value': 21.0}, {'_id': ObjectId('625682ba4015779cfa898374'), 'value': 18.0}, {'_id': ObjectId('625682ba4015779cfa898372'), 'value': 16.0}, {'_id': ObjectId('625682df4015779cfa89838a'), 'value': 24.0}, {'_id': ObjectId('625681794015779cfa89835b'), 'value': 14.0}, {'_id': ObjectId('625682df4015779cfa898389'), 'value': 10.0}, {'_id': ObjectId('625682ad4015779cfa898362'), 'value': 14.0}, {'_id': ObjectId('625682ad4015779cfa898363'), 'value': 15.0}, {'_id': ObjectId('625682ba4015779cfa89836b'), 'value': 19.0}, {'_id': ObjectId('625682ad4015779cfa898369'), 'value': 13.0}, {'_id': ObjectId('625682df4015779cfa898382'), 'value': 17.0}, {'_id': ObjectId('625682ad4015779cfa898361'), 'value': 26.0}, {'_id': ObjectId('625682d04015779cfa89837d'), 'value': 16.0}, {'_id': ObjectId('625682974015779cfa89835e'), 'value': 18.0}, {'_id': ObjectId('625682ad4015779cfa898366'), 'value': 16.0}, {'_id': ObjectId('625682ba4015779cfa89836d'), 'value': 22.0}, {'_id': ObjectId('625682df4015779cfa898383'), 'value': 17.0}, {'_id': ObjectId('625673224015779cfa898353'), 'value': 7.0}, {'_id': ObjectId('625682ad4015779cfa898367'), 'value': 9.0}, {'_id': ObjectId('625682d04015779cfa898377'), 'value': 13.0}, {'_id': ObjectId('625682ba4015779cfa89836c'), 'value': 15.0}, {'_id': ObjectId('625682ad4015779cfa898364'), 'value': 20.0}, {'_id': ObjectId('625682df4015779cfa89838b'), 'value': 12.0}, {'_id': ObjectId('625682d04015779cfa898380'), 'value': 22.0}, {'_id': ObjectId('625673224015779cfa898350'), 'value': 19.0}, {'_id': ObjectId('625682ba4015779cfa898370'), 'value': 14.0}, {'_id': ObjectId('625682df4015779cfa898385'), 'value': 9.0}, {'_id': ObjectId('625682ad4015779cfa89836a'), 'value': 12.0}, {'_id': ObjectId('625682d04015779cfa898379'), 'value': 16.0}, {'_id': ObjectId('625682d04015779cfa898378'), 'value': 13.0}, {'_id': ObjectId('625673224015779cfa898356'), 'value': 26.0}, {'_id': ObjectId('625682de4015779cfa898381'), 'value': 11.0}, {'_id': ObjectId('625682ba4015779cfa89836e'), 'value': 16.0}, {'_id': ObjectId('625682ba4015779cfa898371'), 'value': 21.0}, {'_id': ObjectId('625682d04015779cfa89837a'), 'value': 14.0}, {'_id': ObjectId('625682544015779cfa89835d'), 'value': 13.0}, {'_id': ObjectId('625682df4015779cfa898384'), 'value': 14.0}, {'_id': ObjectId('625682ba4015779cfa898375'), 'value': 27.0}, {'_id': ObjectId('625682d04015779cfa89837b'), 'value': 15.0}, {'_id': ObjectId('625673224015779cfa898351'), 'value': 6.0}, {'_id': ObjectId('625682d04015779cfa89837c'), 'value': 11.0}, {'_id': ObjectId('625673224015779cfa898354'), 'value': 21.0}, {'_id': ObjectId('625682d04015779cfa89837e'), 'value': 9.0}, {'_id': ObjectId('625682d04015779cfa89837f'), 'value': 22.0}, {'_id': ObjectId('625682ba4015779cfa89836f'), 'value': 18.0}, {'_id': ObjectId('625682ad4015779cfa898368'), 'value': 24.0}, {'_id': ObjectId('625673224015779cfa898352'), 'value': 8.0}, {'_id': ObjectId('625682ad4015779cfa898360'), 'value': 29.0}, {'_id': ObjectId('6256808b4015779cfa898357'), 'value': 17.0}, {'_id': ObjectId('625681614015779cfa89835a'), 'value': 20.0}, {'_id': ObjectId('625681864015779cfa89835c'), 'value': 24.0}, {'_id': ObjectId('625680ce4015779cfa898359'), 'value': 15.0}, {'_id': ObjectId('625680b94015779cfa898358'), 'value': 13.0}, {'_id': ObjectId('625682df4015779cfa898388'), 'value': 15.0}, {'_id': ObjectId('625682df4015779cfa898387'), 'value': 22.0}, {'_id': ObjectId('625682df4015779cfa898386'), 'value': 16.0}, {'_id': ObjectId('625682a44015779cfa89835f'), 'value': 7.0}, {'_id': ObjectId('625682ad4015779cfa898365'), 'value': 29.0}, {'_id': ObjectId('625682ba4015779cfa898373'), 'value': 13.0}]\n"
     ]
    }
   ],
   "source": [
    "#emit(this.name.substr(0, 4), this.actualDebt);\n",
    "mapFunction = '''function() {\n",
    "    if (this.length) {\n",
    "       emit(this.teacherId, this.length);\n",
    "    }\n",
    "};'''\n",
    "\n",
    "reduceFunction ='''function(keyCustId, lengths) {\n",
    "   return Array.sum(lengths);\n",
    "};'''\n",
    "\n",
    "eventCollection = client['test_database']['events']\n",
    "reduced = await eventCollection.inline_map_reduce(mapFunction, reduceFunction)\n",
    "print(reduced)"
   ]
  },
  {
   "cell_type": "code",
   "execution_count": 130,
   "id": "162bda0a-85aa-4fee-929b-f4ddb470b53c",
   "metadata": {},
   "outputs": [
    {
     "name": "stdout",
     "output_type": "stream",
     "text": [
      "function() {\n",
      "    if (this.teacherId == \"625673224015779cfa89834f\") {\n",
      "       emit(this.teacherId, this.length);\n",
      "    }\n",
      "};\n",
      "[{'_id': ObjectId('625673224015779cfa89834f'), 'value': 28.0}]\n"
     ]
    }
   ],
   "source": [
    "def createFilteredMap(query):\n",
    "    return f'''function() {{\n",
    "    if ({query}) {{\n",
    "       emit(this.teacherId, this.length);\n",
    "    }}\n",
    "}};'''\n",
    "\n",
    "\n",
    "reduceFunction ='''function(keyCustId, lengths) {\n",
    "   return Array.sum(lengths);\n",
    "};'''\n",
    "\n",
    "userCollection = client['test_database']['users']\n",
    "firstUser = (await mongoReadDocs(userCollection, limit=1))[0]\n",
    "\n",
    "mapFunction = createFilteredMap(f'this.teacherId == \"{firstUser[\"_id\"]}\"') # pozor na == vs. === (rovnost vs. identita)\n",
    "print(mapFunction)\n",
    "\n",
    "eventCollection = client['test_database']['events']\n",
    "reduced = await eventCollection.inline_map_reduce(mapFunction, reduceFunction)\n",
    "print(reduced)"
   ]
  },
  {
   "cell_type": "markdown",
   "id": "e903d4b6-9357-4d41-ab75-a270b0c1bf7e",
   "metadata": {},
   "source": [
    "## Sharding"
   ]
  },
  {
   "cell_type": "markdown",
   "id": "c85d25fa-9634-4441-9fdb-d6d54d73c825",
   "metadata": {},
   "source": [
    "https://hub.docker.com/r/bitnami/mongodb-sharded/"
   ]
  },
  {
   "cell_type": "code",
   "execution_count": null,
   "id": "18184532-09c2-4e1a-9131-36da29f2f3c1",
   "metadata": {},
   "outputs": [],
   "source": []
  }
 ],
 "metadata": {
  "kernelspec": {
   "display_name": "Python 3 (ipykernel)",
   "language": "python",
   "name": "python3"
  },
  "language_info": {
   "codemirror_mode": {
    "name": "ipython",
    "version": 3
   },
   "file_extension": ".py",
   "mimetype": "text/x-python",
   "name": "python",
   "nbconvert_exporter": "python",
   "pygments_lexer": "ipython3",
   "version": "3.9.10"
  },
  "toc-autonumbering": true
 },
 "nbformat": 4,
 "nbformat_minor": 5
}
