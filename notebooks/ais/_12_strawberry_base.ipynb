{
 "cells": [
  {
   "cell_type": "markdown",
   "id": "6f0a2fc3-b610-4462-bc97-e24d504eb8cf",
   "metadata": {},
   "source": [
    "# Strawberry"
   ]
  },
  {
   "cell_type": "markdown",
   "id": "4b9ae663-7baa-4ce4-a472-f813766eac80",
   "metadata": {},
   "source": [
    "## Libraries dependency and imports"
   ]
  },
  {
   "cell_type": "code",
   "execution_count": 1,
   "id": "9be31ad0-3f61-499a-a8a6-a08e511e36d5",
   "metadata": {},
   "outputs": [
    {
     "name": "stdout",
     "output_type": "stream",
     "text": [
      "Collecting strawberry-graphql\n",
      "  Obtaining dependency information for strawberry-graphql from https://files.pythonhosted.org/packages/a1/ea/d35045dd1e87ae02b42804303cf8cb5691adbbbe09676bc7822745798139/strawberry_graphql-0.209.6-py3-none-any.whl.metadata\n",
      "  Downloading strawberry_graphql-0.209.6-py3-none-any.whl.metadata (7.5 kB)\n",
      "Collecting graphql-core<3.3.0,>=3.2.0 (from strawberry-graphql)\n",
      "  Downloading graphql_core-3.2.3-py3-none-any.whl (202 kB)\n",
      "\u001b[2K     \u001b[90m━━━━━━━━━━━━━━━━━━━━━━━━━━━━━━━━━━━━━━━\u001b[0m \u001b[32m202.9/202.9 kB\u001b[0m \u001b[31m2.4 MB/s\u001b[0m eta \u001b[36m0:00:00\u001b[0ma \u001b[36m0:00:01\u001b[0m\n",
      "\u001b[?25hRequirement already satisfied: python-dateutil<3.0.0,>=2.7.0 in /opt/conda/lib/python3.11/site-packages (from strawberry-graphql) (2.8.2)\n",
      "Requirement already satisfied: typing-extensions>=4.5.0 in /opt/conda/lib/python3.11/site-packages (from strawberry-graphql) (4.8.0)\n",
      "Requirement already satisfied: six>=1.5 in /opt/conda/lib/python3.11/site-packages (from python-dateutil<3.0.0,>=2.7.0->strawberry-graphql) (1.16.0)\n",
      "Downloading strawberry_graphql-0.209.6-py3-none-any.whl (273 kB)\n",
      "\u001b[2K   \u001b[90m━━━━━━━━━━━━━━━━━━━━━━━━━━━━━━━━━━━━━━━━\u001b[0m \u001b[32m273.3/273.3 kB\u001b[0m \u001b[31m5.6 MB/s\u001b[0m eta \u001b[36m0:00:00\u001b[0ma \u001b[36m0:00:01\u001b[0m\n",
      "\u001b[?25hInstalling collected packages: graphql-core, strawberry-graphql\n",
      "Successfully installed graphql-core-3.2.3 strawberry-graphql-0.209.6\n",
      "Collecting uvicorn[standard]\n",
      "  Obtaining dependency information for uvicorn[standard] from https://files.pythonhosted.org/packages/79/96/b0882a1c3f7ef3dd86879e041212ae5b62b4bd352320889231cc735a8e8f/uvicorn-0.23.2-py3-none-any.whl.metadata\n",
      "  Downloading uvicorn-0.23.2-py3-none-any.whl.metadata (6.2 kB)\n",
      "Requirement already satisfied: click>=7.0 in /opt/conda/lib/python3.11/site-packages (from uvicorn[standard]) (8.1.7)\n",
      "Collecting h11>=0.8 (from uvicorn[standard])\n",
      "  Downloading h11-0.14.0-py3-none-any.whl (58 kB)\n",
      "\u001b[2K     \u001b[90m━━━━━━━━━━━━━━━━━━━━━━━━━━━━━━━━━━━━━━━━\u001b[0m \u001b[32m58.3/58.3 kB\u001b[0m \u001b[31m1.7 MB/s\u001b[0m eta \u001b[36m0:00:00\u001b[0m\n",
      "\u001b[?25hCollecting httptools>=0.5.0 (from uvicorn[standard])\n",
      "  Obtaining dependency information for httptools>=0.5.0 from https://files.pythonhosted.org/packages/8a/a6/4ee791339f70776a0d57bd066f3721a24491a8b4b4faf572036d163296d1/httptools-0.6.0-cp311-cp311-manylinux_2_5_x86_64.manylinux1_x86_64.manylinux_2_17_x86_64.manylinux2014_x86_64.whl.metadata\n",
      "  Downloading httptools-0.6.0-cp311-cp311-manylinux_2_5_x86_64.manylinux1_x86_64.manylinux_2_17_x86_64.manylinux2014_x86_64.whl.metadata (3.6 kB)\n",
      "Collecting python-dotenv>=0.13 (from uvicorn[standard])\n",
      "  Downloading python_dotenv-1.0.0-py3-none-any.whl (19 kB)\n",
      "Requirement already satisfied: pyyaml>=5.1 in /opt/conda/lib/python3.11/site-packages (from uvicorn[standard]) (6.0.1)\n",
      "Collecting uvloop!=0.15.0,!=0.15.1,>=0.14.0 (from uvicorn[standard])\n",
      "  Downloading uvloop-0.17.0-cp311-cp311-manylinux_2_17_x86_64.manylinux2014_x86_64.whl (4.2 MB)\n",
      "\u001b[2K     \u001b[90m━━━━━━━━━━━━━━━━━━━━━━━━━━━━━━━━━━━━━━━━\u001b[0m \u001b[32m4.2/4.2 MB\u001b[0m \u001b[31m8.9 MB/s\u001b[0m eta \u001b[36m0:00:00\u001b[0m00:01\u001b[0m00:01\u001b[0mm\n",
      "\u001b[?25hCollecting watchfiles>=0.13 (from uvicorn[standard])\n",
      "  Obtaining dependency information for watchfiles>=0.13 from https://files.pythonhosted.org/packages/e1/46/c9d5ee4871b187d291d62e61c41f9a4d67d4866a89704b0ad16b6949e9bd/watchfiles-0.20.0-cp37-abi3-manylinux_2_17_x86_64.manylinux2014_x86_64.whl.metadata\n",
      "  Downloading watchfiles-0.20.0-cp37-abi3-manylinux_2_17_x86_64.manylinux2014_x86_64.whl.metadata (4.9 kB)\n",
      "Collecting websockets>=10.4 (from uvicorn[standard])\n",
      "  Downloading websockets-11.0.3-cp311-cp311-manylinux_2_5_x86_64.manylinux1_x86_64.manylinux_2_17_x86_64.manylinux2014_x86_64.whl (130 kB)\n",
      "\u001b[2K     \u001b[90m━━━━━━━━━━━━━━━━━━━━━━━━━━━━━━━━━━━━━━━\u001b[0m \u001b[32m130.6/130.6 kB\u001b[0m \u001b[31m5.3 MB/s\u001b[0m eta \u001b[36m0:00:00\u001b[0m\n",
      "\u001b[?25hRequirement already satisfied: anyio>=3.0.0 in /opt/conda/lib/python3.11/site-packages (from watchfiles>=0.13->uvicorn[standard]) (4.0.0)\n",
      "Requirement already satisfied: idna>=2.8 in /opt/conda/lib/python3.11/site-packages (from anyio>=3.0.0->watchfiles>=0.13->uvicorn[standard]) (3.4)\n",
      "Requirement already satisfied: sniffio>=1.1 in /opt/conda/lib/python3.11/site-packages (from anyio>=3.0.0->watchfiles>=0.13->uvicorn[standard]) (1.3.0)\n",
      "Downloading httptools-0.6.0-cp311-cp311-manylinux_2_5_x86_64.manylinux1_x86_64.manylinux_2_17_x86_64.manylinux2014_x86_64.whl (405 kB)\n",
      "\u001b[2K   \u001b[90m━━━━━━━━━━━━━━━━━━━━━━━━━━━━━━━━━━━━━━━━\u001b[0m \u001b[32m405.9/405.9 kB\u001b[0m \u001b[31m8.5 MB/s\u001b[0m eta \u001b[36m0:00:00\u001b[0m:00:01\u001b[0m\n",
      "\u001b[?25hDownloading watchfiles-0.20.0-cp37-abi3-manylinux_2_17_x86_64.manylinux2014_x86_64.whl (1.3 MB)\n",
      "\u001b[2K   \u001b[90m━━━━━━━━━━━━━━━━━━━━━━━━━━━━━━━━━━━━━━━━\u001b[0m \u001b[32m1.3/1.3 MB\u001b[0m \u001b[31m9.0 MB/s\u001b[0m eta \u001b[36m0:00:00\u001b[0m:00:01\u001b[0m0:01\u001b[0m\n",
      "\u001b[?25hDownloading uvicorn-0.23.2-py3-none-any.whl (59 kB)\n",
      "\u001b[2K   \u001b[90m━━━━━━━━━━━━━━━━━━━━━━━━━━━━━━━━━━━━━━━━\u001b[0m \u001b[32m59.5/59.5 kB\u001b[0m \u001b[31m3.5 MB/s\u001b[0m eta \u001b[36m0:00:00\u001b[0m\n",
      "\u001b[?25hInstalling collected packages: websockets, uvloop, python-dotenv, httptools, h11, watchfiles, uvicorn\n",
      "Successfully installed h11-0.14.0 httptools-0.6.0 python-dotenv-1.0.0 uvicorn-0.23.2 uvloop-0.17.0 watchfiles-0.20.0 websockets-11.0.3\n",
      "Collecting fastapi\n",
      "  Obtaining dependency information for fastapi from https://files.pythonhosted.org/packages/4d/d2/3ad038a2365fefbac19d9a046cab7ce45f4c7bfa81d877cbece9707de9ce/fastapi-0.103.2-py3-none-any.whl.metadata\n",
      "  Downloading fastapi-0.103.2-py3-none-any.whl.metadata (24 kB)\n",
      "Collecting anyio<4.0.0,>=3.7.1 (from fastapi)\n",
      "  Obtaining dependency information for anyio<4.0.0,>=3.7.1 from https://files.pythonhosted.org/packages/19/24/44299477fe7dcc9cb58d0a57d5a7588d6af2ff403fdd2d47a246c91a3246/anyio-3.7.1-py3-none-any.whl.metadata\n",
      "  Downloading anyio-3.7.1-py3-none-any.whl.metadata (4.7 kB)\n",
      "Collecting pydantic!=1.8,!=1.8.1,!=2.0.0,!=2.0.1,!=2.1.0,<3.0.0,>=1.7.4 (from fastapi)\n",
      "  Obtaining dependency information for pydantic!=1.8,!=1.8.1,!=2.0.0,!=2.0.1,!=2.1.0,<3.0.0,>=1.7.4 from https://files.pythonhosted.org/packages/73/66/0a72c9fcde42e5650c8d8d5c5c1873b9a3893018020c77ca8eb62708b923/pydantic-2.4.2-py3-none-any.whl.metadata\n",
      "  Downloading pydantic-2.4.2-py3-none-any.whl.metadata (158 kB)\n",
      "\u001b[2K     \u001b[90m━━━━━━━━━━━━━━━━━━━━━━━━━━━━━━━━━━━━━━━\u001b[0m \u001b[32m158.6/158.6 kB\u001b[0m \u001b[31m4.1 MB/s\u001b[0m eta \u001b[36m0:00:00\u001b[0ma \u001b[36m0:00:01\u001b[0m\n",
      "\u001b[?25hCollecting starlette<0.28.0,>=0.27.0 (from fastapi)\n",
      "  Obtaining dependency information for starlette<0.28.0,>=0.27.0 from https://files.pythonhosted.org/packages/58/f8/e2cca22387965584a409795913b774235752be4176d276714e15e1a58884/starlette-0.27.0-py3-none-any.whl.metadata\n",
      "  Downloading starlette-0.27.0-py3-none-any.whl.metadata (5.8 kB)\n",
      "Requirement already satisfied: typing-extensions>=4.5.0 in /opt/conda/lib/python3.11/site-packages (from fastapi) (4.8.0)\n",
      "Requirement already satisfied: idna>=2.8 in /opt/conda/lib/python3.11/site-packages (from anyio<4.0.0,>=3.7.1->fastapi) (3.4)\n",
      "Requirement already satisfied: sniffio>=1.1 in /opt/conda/lib/python3.11/site-packages (from anyio<4.0.0,>=3.7.1->fastapi) (1.3.0)\n",
      "Collecting annotated-types>=0.4.0 (from pydantic!=1.8,!=1.8.1,!=2.0.0,!=2.0.1,!=2.1.0,<3.0.0,>=1.7.4->fastapi)\n",
      "  Obtaining dependency information for annotated-types>=0.4.0 from https://files.pythonhosted.org/packages/28/78/d31230046e58c207284c6b2c4e8d96e6d3cb4e52354721b944d3e1ee4aa5/annotated_types-0.6.0-py3-none-any.whl.metadata\n",
      "  Downloading annotated_types-0.6.0-py3-none-any.whl.metadata (12 kB)\n",
      "Collecting pydantic-core==2.10.1 (from pydantic!=1.8,!=1.8.1,!=2.0.0,!=2.0.1,!=2.1.0,<3.0.0,>=1.7.4->fastapi)\n",
      "  Obtaining dependency information for pydantic-core==2.10.1 from https://files.pythonhosted.org/packages/39/09/120c06a52ed4bb1022d060bec0a16e5deb4ce79a1c4c11ef9519bc32b59f/pydantic_core-2.10.1-cp311-cp311-manylinux_2_17_x86_64.manylinux2014_x86_64.whl.metadata\n",
      "  Downloading pydantic_core-2.10.1-cp311-cp311-manylinux_2_17_x86_64.manylinux2014_x86_64.whl.metadata (6.5 kB)\n",
      "Downloading fastapi-0.103.2-py3-none-any.whl (66 kB)\n",
      "\u001b[2K   \u001b[90m━━━━━━━━━━━━━━━━━━━━━━━━━━━━━━━━━━━━━━━━\u001b[0m \u001b[32m66.3/66.3 kB\u001b[0m \u001b[31m3.6 MB/s\u001b[0m eta \u001b[36m0:00:00\u001b[0m\n",
      "\u001b[?25hDownloading anyio-3.7.1-py3-none-any.whl (80 kB)\n",
      "\u001b[2K   \u001b[90m━━━━━━━━━━━━━━━━━━━━━━━━━━━━━━━━━━━━━━━━\u001b[0m \u001b[32m80.9/80.9 kB\u001b[0m \u001b[31m3.1 MB/s\u001b[0m eta \u001b[36m0:00:00\u001b[0m\n",
      "\u001b[?25hDownloading pydantic-2.4.2-py3-none-any.whl (395 kB)\n",
      "\u001b[2K   \u001b[90m━━━━━━━━━━━━━━━━━━━━━━━━━━━━━━━━━━━━━━━━\u001b[0m \u001b[32m395.8/395.8 kB\u001b[0m \u001b[31m5.1 MB/s\u001b[0m eta \u001b[36m0:00:00\u001b[0m00:01\u001b[0m00:01\u001b[0m\n",
      "\u001b[?25hDownloading pydantic_core-2.10.1-cp311-cp311-manylinux_2_17_x86_64.manylinux2014_x86_64.whl (2.0 MB)\n",
      "\u001b[2K   \u001b[90m━━━━━━━━━━━━━━━━━━━━━━━━━━━━━━━━━━━━━━━━\u001b[0m \u001b[32m2.0/2.0 MB\u001b[0m \u001b[31m10.6 MB/s\u001b[0m eta \u001b[36m0:00:00\u001b[0m00:01\u001b[0m00:01\u001b[0m\n",
      "\u001b[?25hDownloading starlette-0.27.0-py3-none-any.whl (66 kB)\n",
      "\u001b[2K   \u001b[90m━━━━━━━━━━━━━━━━━━━━━━━━━━━━━━━━━━━━━━━━\u001b[0m \u001b[32m67.0/67.0 kB\u001b[0m \u001b[31m3.4 MB/s\u001b[0m eta \u001b[36m0:00:00\u001b[0m\n",
      "\u001b[?25hDownloading annotated_types-0.6.0-py3-none-any.whl (12 kB)\n",
      "Installing collected packages: pydantic-core, anyio, annotated-types, starlette, pydantic, fastapi\n",
      "  Attempting uninstall: anyio\n",
      "    Found existing installation: anyio 4.0.0\n",
      "    Uninstalling anyio-4.0.0:\n",
      "      Successfully uninstalled anyio-4.0.0\n",
      "Successfully installed annotated-types-0.6.0 anyio-3.7.1 fastapi-0.103.2 pydantic-2.4.2 pydantic-core-2.10.1 starlette-0.27.0\n",
      "Collecting psycopg2-binary\n",
      "  Obtaining dependency information for psycopg2-binary from https://files.pythonhosted.org/packages/ce/85/62825cabc6aad53104b7b6d12eb2ad74737d268630032d07b74d4444cb72/psycopg2_binary-2.9.9-cp311-cp311-manylinux_2_17_x86_64.manylinux2014_x86_64.whl.metadata\n",
      "  Downloading psycopg2_binary-2.9.9-cp311-cp311-manylinux_2_17_x86_64.manylinux2014_x86_64.whl.metadata (4.4 kB)\n",
      "Downloading psycopg2_binary-2.9.9-cp311-cp311-manylinux_2_17_x86_64.manylinux2014_x86_64.whl (3.0 MB)\n",
      "\u001b[2K   \u001b[90m━━━━━━━━━━━━━━━━━━━━━━━━━━━━━━━━━━━━━━━━\u001b[0m \u001b[32m3.0/3.0 MB\u001b[0m \u001b[31m9.4 MB/s\u001b[0m eta \u001b[36m0:00:00\u001b[0ma \u001b[36m0:00:01\u001b[0m\n",
      "\u001b[?25hInstalling collected packages: psycopg2-binary\n",
      "Successfully installed psycopg2-binary-2.9.9\n"
     ]
    }
   ],
   "source": [
    "!pip install strawberry-graphql\n",
    "!pip install uvicorn[standard]\n",
    "!pip install fastapi\n",
    "!pip install psycopg2-binary"
   ]
  },
  {
   "cell_type": "markdown",
   "id": "e2f3b146-c574-4501-b687-736adce5eb45",
   "metadata": {},
   "source": [
    "## Helper Func for App in Notebook"
   ]
  },
  {
   "cell_type": "markdown",
   "id": "f9c916d9-1935-42ad-9827-340c38a37bd6",
   "metadata": {},
   "source": [
    "V ukázkách dále bude použit kód, který je specifický pro prostředí jupyter a který tak umožňuje spouštět ukázky přímo v notebooku. Fakticky je kódem vytvořen subproces, který zabezpečuje běh serveru. Identifikace subprocesu je uložena v datové struktuře `servers`. Díky tomu lze identifikovat, zda na požadovaném portu již nějaký server běží a v případě potřeby jej zastavit a spustit nový server.\n",
    "\n",
    "Po ukončení experimentů se serverem (kódem) je nutné tento server zastavit, aby došlo k uvolnění portu. V případe problémů je možné, že bude nezbytné restartovat jupyter, aby byly porty uvolněny. Je-li spuštěn nový server, aniž by běžící na stejném portu byl ukončen, dojde k chybovému stavu.\n",
    "\n",
    "```python\n",
    "assert port in [9991, 9992, 9993, 9994]\n",
    "```\n",
    "Slouží k ověření, že požadovaný port je dostupný i z prostředí mimo jupyter. Vzpomeňte si na konfiguraci docker stacku a mapování portů mimo jupyter kontejner."
   ]
  },
  {
   "cell_type": "code",
   "execution_count": 2,
   "id": "6a45f006-a6da-4efb-a243-1fe898f4b554",
   "metadata": {},
   "outputs": [],
   "source": [
    "# Code in this cell is just for (re)starting the API on a Process, and other compatibility stuff with Jupyter cells.\n",
    "# Just ignore it!\n",
    "import uvicorn\n",
    "from multiprocessing import Process\n",
    "\n",
    "servers = {}\n",
    "\n",
    "def start_api(app=None, port=9992, runNew=True):\n",
    "    \"\"\"Stop the API if running; Start the API; Wait until API (port) is available (reachable)\"\"\"\n",
    "    assert port in [9991, 9992, 9993, 9994], f'port has unexpected value {port}'\n",
    "    def run():\n",
    "        uvicorn.run(app, port=port, host='0.0.0.0', root_path='')    \n",
    "        \n",
    "    _api_process = servers.get(port, None)\n",
    "    if _api_process:\n",
    "        _api_process.terminate()\n",
    "        _api_process.join()\n",
    "        del servers[port]\n",
    "    \n",
    "    if runNew:\n",
    "        assert (not app is None), 'app is None'\n",
    "        _api_process = Process(target=run, daemon=True)\n",
    "        _api_process.start()\n",
    "        servers[port] = _api_process"
   ]
  },
  {
   "cell_type": "code",
   "execution_count": 3,
   "id": "1129fde8-ffa9-47c1-8198-d72dc109f7be",
   "metadata": {
    "jupyter": {
     "source_hidden": true
    },
    "tags": []
   },
   "outputs": [],
   "source": [
    "import os\n",
    "import asyncio\n",
    "import multiprocessing\n",
    "servers = {}\n",
    "\n",
    "def _start_api(app=None, port=9992, runNew=True):\n",
    "    \"\"\"Stop the API if running; Start the API; Wait until API (port) is available (reachable)\"\"\"\n",
    "    assert port in [9991, 9992, 9993, 9994], f'port has unexpected value {port}'\n",
    "    \n",
    "    async def runAsync():\n",
    "        config = uvicorn.Config(app, port=port, host='0.0.0.0', log_level=\"info\")\n",
    "        server = uvicorn.Server(config)\n",
    "        await server.serve()\n",
    "        #uvicorn.run(app, port=port, host='0.0.0.0', root_path='')    \n",
    "        \n",
    "    def withLoop():\n",
    "        process_name = \"[Process %s]\" % (os.getpid())\n",
    "        print(\"%s Started \" % process_name)\n",
    "\n",
    "        #loop = asyncio.get_event_loop()\n",
    "        loop = asyncio.new_event_loop()\n",
    "        try:\n",
    "            loop.run_until_complete(runAsync())\n",
    "        except KeyboardInterrupt:\n",
    "            print(\"%s Loop interrupted\" % process_name)\n",
    "            loop.stop()\n",
    "\n",
    "        print(\"%s terminating\" % process_name)\n",
    "        pass\n",
    "    \n",
    "    _api_process = servers.get(port, None)\n",
    "    if _api_process:\n",
    "        _api_process.terminate()\n",
    "        _api_process.join()\n",
    "        del servers[port]\n",
    "    \n",
    "    if runNew:\n",
    "        assert (not app is None), 'app is None'\n",
    "        _api_process = multiprocessing.Process(target=withLoop)\n",
    "        #_api_process = Process(target=run, daemon=True)\n",
    "        _api_process.start()\n",
    "        servers[port] = _api_process"
   ]
  },
  {
   "cell_type": "code",
   "execution_count": 3,
   "id": "6c7ae468-5b06-46d2-b992-81d73ba5af6b",
   "metadata": {},
   "outputs": [
    {
     "name": "stdout",
     "output_type": "stream",
     "text": [
      "Collecting gunicorn\n",
      "  Obtaining dependency information for gunicorn from https://files.pythonhosted.org/packages/0e/2a/c3a878eccb100ccddf45c50b6b8db8cf3301a6adede6e31d48e8531cab13/gunicorn-21.2.0-py3-none-any.whl.metadata\n",
      "  Downloading gunicorn-21.2.0-py3-none-any.whl.metadata (4.1 kB)\n",
      "Requirement already satisfied: packaging in /opt/conda/lib/python3.11/site-packages (from gunicorn) (23.2)\n",
      "Downloading gunicorn-21.2.0-py3-none-any.whl (80 kB)\n",
      "\u001b[2K   \u001b[90m━━━━━━━━━━━━━━━━━━━━━━━━━━━━━━━━━━━━━━━━\u001b[0m \u001b[32m80.2/80.2 kB\u001b[0m \u001b[31m1.9 MB/s\u001b[0m eta \u001b[36m0:00:00\u001b[0ma \u001b[36m0:00:01\u001b[0m\n",
      "\u001b[?25hInstalling collected packages: gunicorn\n",
      "Successfully installed gunicorn-21.2.0\n"
     ]
    }
   ],
   "source": [
    "!pip install gunicorn"
   ]
  },
  {
   "cell_type": "markdown",
   "id": "a6e75a31-bf19-4c9b-add1-dc1f4354144f",
   "metadata": {},
   "source": [
    "? # Code in this cell is just for (re)starting the API on a Process, and other compatibility stuff with Jupyter cells.\n",
    "? # Just ignore it!\n",
    "import uvicorn\n",
    "from multiprocessing import Process\n",
    "\n",
    "async def start_api(app=None, port=9992, runNew=True):\n",
    "    \"\"\"Stop the API if running; Start the API; Wait until API (port) is available (reachable)\"\"\"\n",
    "    assert port in [9991, 9992, 9993, 9994], f'port has unexpected value {port}'\n",
    "\n",
    "    config = uvicorn.Config(app, port=port, host='0.0.0.0', log_level=\"info\")\n",
    "    server = uvicorn.Server(config)\n",
    "    await server.serve()\n",
    "\n",
    "await start_api(app, port=9992, runNew=True)"
   ]
  },
  {
   "cell_type": "code",
   "execution_count": 31,
   "id": "dfb0df48-9959-4ec7-a652-a35d0a550d12",
   "metadata": {},
   "outputs": [],
   "source": [
    "#start_api(app, port=9992, runNew=False)"
   ]
  },
  {
   "cell_type": "markdown",
   "id": "f809add7-6f0c-4586-ad33-23cec9244e69",
   "metadata": {},
   "source": [
    "## Hello World in Strawberry"
   ]
  },
  {
   "cell_type": "markdown",
   "id": "d1c2e7a5-d693-4bef-9292-5f7d4e8a46c0",
   "metadata": {},
   "source": [
    "Následující kód je \"klasický\" hello world, po spuštění otevřete \n",
    "\n",
    "http://localhost:31102/gql\n",
    "\n",
    "Přestože je výše v kódu definovaný port 9992, je nutné si uvědomit, že ve stacku learning je tento port mapován na 31102.\n",
    "Pokud máte jiný stack, či jiné prostředí, přizpůsobte si url adresu.\n",
    "\n",
    "Neopomeňte server ukončit `start_api(runNew=False)`"
   ]
  },
  {
   "cell_type": "code",
   "execution_count": 4,
   "id": "17340e10-6fd4-4395-8c69-8a6b11535d24",
   "metadata": {},
   "outputs": [
    {
     "name": "stderr",
     "output_type": "stream",
     "text": [
      "INFO:     Started server process [734]\n",
      "INFO:     Waiting for application startup.\n",
      "INFO:     Application startup complete.\n",
      "INFO:     Uvicorn running on http://0.0.0.0:9992 (Press CTRL+C to quit)\n"
     ]
    },
    {
     "name": "stdout",
     "output_type": "stream",
     "text": [
      "INFO:     172.18.0.1:51288 - \"GET /gql HTTP/1.1\" 307 Temporary Redirect\n",
      "INFO:     172.18.0.1:51288 - \"GET / HTTP/1.1\" 200 OK\n",
      "INFO:     172.18.0.1:51288 - \"POST / HTTP/1.1\" 200 OK\n",
      "INFO:     172.18.0.1:51314 - \"POST / HTTP/1.1\" 200 OK\n"
     ]
    }
   ],
   "source": [
    "import strawberry\n",
    "import uuid\n",
    "\n",
    "@strawberry.type(description=\"\"\"Type for query root\"\"\")\n",
    "class Query:\n",
    "\n",
    "    @strawberry.field(description=\"\"\"Returns a hello\"\"\")\n",
    "    async def say_hello(self, info: strawberry.types.Info, id: strawberry.ID) -> str:\n",
    "        result = f'Hello {id}'\n",
    "        return result\n",
    "    \n",
    "from strawberry.asgi import GraphQL\n",
    "\n",
    "graphql_app = GraphQL(\n",
    "    strawberry.federation.Schema(Query), \n",
    "    graphiql = True,\n",
    "    allow_queries_via_get = True\n",
    ")\n",
    "\n",
    "from fastapi import FastAPI\n",
    "app = FastAPI()\n",
    "app.mount(\"/gql\", graphql_app)\n",
    "\n",
    "start_api(app, port=9992, runNew=True)"
   ]
  },
  {
   "cell_type": "markdown",
   "id": "09dadd23-adfc-4db8-8fba-09860676a188",
   "metadata": {},
   "source": [
    "http://localhost:31102/gql"
   ]
  },
  {
   "cell_type": "code",
   "execution_count": 4,
   "id": "819a65eb-8893-4ca0-bcfd-da20082738b7",
   "metadata": {},
   "outputs": [],
   "source": [
    "start_api(app, port=9992, runNew=False)"
   ]
  },
  {
   "cell_type": "markdown",
   "id": "e9bd519a-c292-4e23-8c21-bcd1d4e1d6d6",
   "metadata": {},
   "source": [
    "## Strawberry with objects"
   ]
  },
  {
   "cell_type": "code",
   "execution_count": 9,
   "id": "501b38d4-4241-478e-8fd4-6fc59679213c",
   "metadata": {},
   "outputs": [
    {
     "name": "stderr",
     "output_type": "stream",
     "text": [
      "INFO:     Started server process [24332]\n",
      "INFO:     Waiting for application startup.\n",
      "INFO:     Application startup complete.\n",
      "INFO:     Uvicorn running on http://0.0.0.0:9992 (Press CTRL+C to quit)\n"
     ]
    },
    {
     "name": "stdout",
     "output_type": "stream",
     "text": [
      "INFO:     172.20.0.1:47834 - \"POST / HTTP/1.1\" 200 OK\n",
      "INFO:     172.20.0.1:47834 - \"POST / HTTP/1.1\" 200 OK\n"
     ]
    },
    {
     "name": "stderr",
     "output_type": "stream",
     "text": [
      "INFO:     Shutting down\n",
      "INFO:     Waiting for application shutdown.\n",
      "INFO:     Application shutdown complete.\n",
      "INFO:     Finished server process [24332]\n"
     ]
    }
   ],
   "source": [
    "import strawberry\n",
    "import uuid\n",
    "\n",
    "@strawberry.federation.type(keys=[\"id\"], description=\"\"\"Entity representing an user\"\"\")\n",
    "class UserGQLModel:\n",
    "    @classmethod\n",
    "    async def resolve_reference(cls, info: strawberry.types.Info, id: strawberry.ID):\n",
    "        result = {'name': f'John({id})', 'id': id}\n",
    "        return result\n",
    "    \n",
    "    @strawberry.field(description=\"\"\"user name\"\"\")\n",
    "    async def name(self, info: strawberry.types.Info) -> str:\n",
    "        result = self['name']\n",
    "        return result\n",
    "    \n",
    "    @strawberry.field(description=\"\"\"user id\"\"\")\n",
    "    async def id(self, info: strawberry.types.Info) -> str:\n",
    "        result = self['id']\n",
    "        return result\n",
    "    \n",
    "@strawberry.type(description=\"\"\"Type for query root\"\"\")\n",
    "class Query:\n",
    "\n",
    "    @strawberry.field(description=\"\"\"Returns a hello\"\"\")\n",
    "    async def user_by_id(self, info: strawberry.types.Info, id: strawberry.ID) -> UserGQLModel:\n",
    "        result = await UserGQLModel.resolve_reference(info, id)\n",
    "        return result\n",
    "    \n",
    "from strawberry.asgi import GraphQL\n",
    "\n",
    "graphql_app = GraphQL(\n",
    "    strawberry.federation.Schema(Query), \n",
    "    graphiql = True,\n",
    "    allow_queries_via_get = True\n",
    ")\n",
    "\n",
    "from fastapi import FastAPI\n",
    "app = FastAPI()\n",
    "app.mount(\"/gql\", graphql_app)\n",
    "\n",
    "start_api(app, port=9992, runNew=True)"
   ]
  },
  {
   "cell_type": "code",
   "execution_count": 10,
   "id": "abaa13fe-eb05-416b-98a4-4f210872c3ab",
   "metadata": {},
   "outputs": [],
   "source": [
    "start_api(app, port=9992, runNew=False)"
   ]
  },
  {
   "cell_type": "code",
   "execution_count": null,
   "id": "5720d73d-0815-4a6f-916f-c43590334b0f",
   "metadata": {},
   "outputs": [],
   "source": []
  }
 ],
 "metadata": {
  "kernelspec": {
   "display_name": "Python 3 (ipykernel)",
   "language": "python",
   "name": "python3"
  },
  "language_info": {
   "codemirror_mode": {
    "name": "ipython",
    "version": 3
   },
   "file_extension": ".py",
   "mimetype": "text/x-python",
   "name": "python",
   "nbconvert_exporter": "python",
   "pygments_lexer": "ipython3",
   "version": "3.11.5"
  },
  "toc-autonumbering": true
 },
 "nbformat": 4,
 "nbformat_minor": 5
}
