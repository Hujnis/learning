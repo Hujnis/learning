{
 "cells": [
  {
   "cell_type": "markdown",
   "id": "43647aa4-420f-42ed-a23f-ec1b6b98be07",
   "metadata": {},
   "source": [
    "# Cassandra"
   ]
  },
  {
   "cell_type": "markdown",
   "id": "fa5c5acd-9082-415a-a013-1ee385a3ca23",
   "metadata": {},
   "source": [
    "## Instalace v Docker"
   ]
  },
  {
   "cell_type": "markdown",
   "id": "8688a0a5-9588-4153-883a-0a58b3f85c65",
   "metadata": {},
   "source": [
    "```yaml\n",
    "version: '3'\n",
    "\n",
    "services: \n",
    " cas1: \n",
    "    image: cassandra:latest\n",
    "    ports:\n",
    "      - 9042:9042\n",
    "    environment:\n",
    "      - CASSANDRA_START_RPC=true\n",
    "      - CASSANDRA_CLUSTER_NAME=MyCluster\n",
    "      - CASSANDRA_ENDPOINT_SNITCH=GossipingPropertyFileSnitch\n",
    "      - CASSANDRA_DC=datacenter1\n",
    " cas2:\n",
    "  image: cassandra:latest\n",
    "  ports:\n",
    "      - 9043:9042\n",
    "  depends_on:\n",
    "    - cas1\n",
    "  environment:\n",
    "      - CASSANDRA_START_RPC=true\n",
    "      - CASSANDRA_CLUSTER_NAME=MyCluster\n",
    "      - CASSANDRA_ENDPOINT_SNITCH=GossipingPropertyFileSnitch\n",
    "      - CASSANDRA_DC=datacenter1\n",
    "      - CASSANDRA_SEEDS=cas1\n",
    "```"
   ]
  },
  {
   "cell_type": "code",
   "execution_count": null,
   "id": "ac18c245-5dd5-4448-ac6e-d3e98a14cbb3",
   "metadata": {},
   "outputs": [],
   "source": []
  },
  {
   "cell_type": "markdown",
   "id": "98814cf2-849d-44b6-ad46-a899a9bcfef1",
   "metadata": {},
   "source": [
    "https://towardsdatascience.com/getting-started-with-apache-cassandra-and-python-81e00ccf17c9"
   ]
  },
  {
   "cell_type": "markdown",
   "id": "00d29e0c-66c5-494b-9008-f51d3715b62e",
   "metadata": {},
   "source": [
    "https://docs.datastax.com/en/developer/python-driver/3.25/"
   ]
  },
  {
   "cell_type": "markdown",
   "id": "cb91ffae-634e-4f18-bd1d-3c57a0269e5f",
   "metadata": {},
   "source": [
    "Pojmové ekvivalenty\n",
    "\n",
    "Database - Keyspace \n",
    "\n",
    "Table - Column Family\n",
    "\n",
    "Primary key - Row key\n",
    "\n",
    "Structured data - Unstructured data\n",
    "\n",
    "Fixed schema - Flexible schema"
   ]
  },
  {
   "cell_type": "markdown",
   "id": "ecf476fa-fea1-45fc-9edc-3af661d44818",
   "metadata": {},
   "source": [
    "## Instalace"
   ]
  },
  {
   "cell_type": "code",
   "execution_count": 7,
   "id": "5e2d5ec1-9d55-42cc-95f6-e27fe9178f45",
   "metadata": {},
   "outputs": [
    {
     "name": "stdout",
     "output_type": "stream",
     "text": [
      "Requirement already satisfied: cassandra-driver in /opt/conda/lib/python3.9/site-packages (3.25.0)\n",
      "Requirement already satisfied: geomet<0.3,>=0.1 in /opt/conda/lib/python3.9/site-packages (from cassandra-driver) (0.2.1.post1)\n",
      "Requirement already satisfied: six>=1.9 in /opt/conda/lib/python3.9/site-packages (from cassandra-driver) (1.15.0)\n",
      "Requirement already satisfied: click in /opt/conda/lib/python3.9/site-packages (from geomet<0.3,>=0.1->cassandra-driver) (8.0.3)\n"
     ]
    }
   ],
   "source": [
    "!pip install cassandra-driver"
   ]
  },
  {
   "cell_type": "code",
   "execution_count": 10,
   "id": "7f238efd-47b0-475f-8962-bc1fa7156f87",
   "metadata": {},
   "outputs": [],
   "source": [
    "from cassandra.cluster import Cluster\n",
    "\n",
    "cassandraHost = '192.168.1.100'\n",
    "cluster = Cluster([cassandraHost], port=9042)\n",
    "\n",
    "session = cluster.connect()\n",
    "#session = cluster.connect('mykeyspace')\n",
    "#session.set_keyspace('users')\n",
    "#session.execute('USE users')"
   ]
  },
  {
   "cell_type": "code",
   "execution_count": 26,
   "id": "4553b849-5b8b-4c57-abe4-8bb96a414516",
   "metadata": {},
   "outputs": [
    {
     "name": "stdout",
     "output_type": "stream",
     "text": [
      "[]\n"
     ]
    }
   ],
   "source": [
    "result = session.execute(\"\"\"CREATE KEYSPACE IF NOT EXISTS uois WITH REPLICATION = { 'class' : 'NetworkTopologyStrategy', 'datacenter1' : 3 };\"\"\")\n",
    "print(list(result))"
   ]
  },
  {
   "cell_type": "code",
   "execution_count": 30,
   "id": "4e24f583-eb4b-43f4-ad10-623f806f0d2a",
   "metadata": {},
   "outputs": [
    {
     "name": "stdout",
     "output_type": "stream",
     "text": [
      "[]\n"
     ]
    }
   ],
   "source": [
    "import uuid\n",
    "\n",
    "session.set_keyspace('uois')\n",
    "result = session.execute('''CREATE TABLE IF NOT EXISTS users ( id UUID PRIMARY KEY, name text, surname text, email text) ''')\n",
    "print(list(result))"
   ]
  },
  {
   "cell_type": "code",
   "execution_count": 32,
   "id": "d70ed273-3342-4ceb-8e04-325520532e8d",
   "metadata": {},
   "outputs": [
    {
     "name": "stdout",
     "output_type": "stream",
     "text": [
      "[]\n"
     ]
    }
   ],
   "source": [
    "result = session.execute(\n",
    "    'ALTER TABLE users ' \n",
    "    'ADD groups set<UUID>'\n",
    "    )\n",
    "print(list(result))"
   ]
  },
  {
   "cell_type": "markdown",
   "id": "9ba9d9dc-1420-41c1-b41c-e41f19cd0df1",
   "metadata": {},
   "source": [
    "## CRUD"
   ]
  },
  {
   "cell_type": "markdown",
   "id": "16bc02f6-0615-442a-b042-a53874fbb880",
   "metadata": {},
   "source": [
    "### Create"
   ]
  },
  {
   "cell_type": "code",
   "execution_count": 14,
   "id": "325d3173-1441-4a68-972e-6961ff7f44f8",
   "metadata": {},
   "outputs": [
    {
     "data": {
      "text/plain": [
       "<cassandra.cluster.ResultSet at 0x7f0e2e136700>"
      ]
     },
     "execution_count": 14,
     "metadata": {},
     "output_type": "execute_result"
    }
   ],
   "source": [
    "session.execute(\n",
    "    \"\"\"\n",
    "    INSERT INTO users (name, surname, id)\n",
    "    VALUES (%s, %s, %s)\n",
    "    \"\"\",\n",
    "    (\"John\", \"O'Reilly\", uuid.uuid1())\n",
    ")"
   ]
  },
  {
   "cell_type": "code",
   "execution_count": 15,
   "id": "1ad15f33-d6cb-4472-bda4-b84b60cfde7f",
   "metadata": {},
   "outputs": [
    {
     "data": {
      "text/plain": [
       "{'name': 'Jan Petr',\n",
       " 'surname': 'Kučerová',\n",
       " 'email': 'Jan.Petr.Kučerová@university.world'}"
      ]
     },
     "execution_count": 15,
     "metadata": {},
     "output_type": "execute_result"
    }
   ],
   "source": [
    "import random\n",
    "import uuid\n",
    "\n",
    "def randomUser():\n",
    "    surNames = [\n",
    "        'Novák', 'Nováková', 'Svobodová', 'Svoboda', 'Novotná',\n",
    "        'Novotný', 'Dvořáková', 'Dvořák', 'Černá', 'Černý', \n",
    "        'Procházková', 'Procházka', 'Kučerová', 'Kučera', 'Veselá',\n",
    "        'Veselý', 'Horáková', 'Krejčí', 'Horák', 'Němcová', \n",
    "        'Marková', 'Němec', 'Pokorná', 'Pospíšilová','Marek'\n",
    "    ]\n",
    "\n",
    "    names = [\n",
    "        'Jiří', 'Jan', 'Petr', 'Jana', 'Marie', 'Josef',\n",
    "        'Pavel', 'Martin', 'Tomáš', 'Jaroslav', 'Eva',\n",
    "        'Miroslav', 'Hana', 'Anna', 'Zdeněk', 'Václav',\n",
    "        'Michal', 'František', 'Lenka', 'Kateřina',\n",
    "        'Lucie', 'Jakub', 'Milan', 'Věra', 'Alena'\n",
    "    ]\n",
    "\n",
    "    name1 = random.choice(names)\n",
    "    name2 = random.choice(names)\n",
    "    name3 = random.choice(surNames)\n",
    "    return {'name': f'{name1} {name2}', 'surname': f'{name3}', 'email': f'{name1}.{name2}.{name3}@university.world', 'id': uuid.uuid1()}\n",
    "\n",
    "randomUser()"
   ]
  },
  {
   "cell_type": "code",
   "execution_count": 37,
   "id": "bceae15f-d160-4ac1-9f8c-2d6a6e9b0ff1",
   "metadata": {},
   "outputs": [
    {
     "name": "stdout",
     "output_type": "stream",
     "text": [
      "('Václav Lenka', 'Veselý')\n",
      "('Václav.Lenka.Veselý@university.world', 'Václav Lenka', 'Veselý')\n"
     ]
    }
   ],
   "source": [
    "def denameDict(data, *names):\n",
    "    return tuple(data[name] for name in names)\n",
    "\n",
    "newUser = randomUser()\n",
    "print(denameDict(newUser, 'name', 'surname'))\n",
    "print(denameDict(newUser, 'email', 'name', 'surname'))"
   ]
  },
  {
   "cell_type": "code",
   "execution_count": 39,
   "id": "fdc2f49e-7353-4de1-8845-703e1e267d12",
   "metadata": {},
   "outputs": [
    {
     "data": {
      "text/plain": [
       "{'email': 'Jana.Zdeněk.Novotná@university.world',\n",
       " 'name': 'Jana Zdeněk',\n",
       " 'surname': 'Novotná'}"
      ]
     },
     "execution_count": 39,
     "metadata": {},
     "output_type": "execute_result"
    }
   ],
   "source": [
    "def nameDict(data, *names):\n",
    "    return dict(zip(names, data))\n",
    "\n",
    "names = ['email', 'name', 'surname']\n",
    "newUser = randomUser()\n",
    "nameDict(denameDict(newUser, *names), *names)"
   ]
  },
  {
   "cell_type": "code",
   "execution_count": 19,
   "id": "6c0400a5-28fc-4e17-abe8-ba312eac8bff",
   "metadata": {},
   "outputs": [],
   "source": [
    "def fillUsers(count=10):\n",
    "    for _ in range(count):\n",
    "        newUser = randomUser()\n",
    "        session.execute(\n",
    "            \"INSERT INTO users (name, surname, email, id)\"\n",
    "            \"VALUES (%s, %s, %s, %s)\",\n",
    "            denameDict(newUser, 'name', 'surname', 'email', 'id')\n",
    "        )\n",
    "        \n",
    "fillUsers()"
   ]
  },
  {
   "cell_type": "markdown",
   "id": "b1a784e1-5047-4ec2-9ced-91363809fafd",
   "metadata": {},
   "source": [
    "### Read"
   ]
  },
  {
   "cell_type": "code",
   "execution_count": 41,
   "id": "f44da232-6a83-46f7-bfe7-a0b8c04ff828",
   "metadata": {},
   "outputs": [
    {
     "name": "stdout",
     "output_type": "stream",
     "text": [
      "2ef65749-bef5-11ec-b0f6-6b6ac1b3cd5c; Jan.Hana.Krejčí@university.world; Jan Hana; Krejčí; None\n",
      "2ee62b04-bef5-11ec-9623-6b6ac1b3cd5c; Jaroslav.Milan.Procházková@university.world; Jaroslav Milan; Procházková; None\n",
      "2ef0dded-bef5-11ec-be2c-6b6ac1b3cd5c; Petr.Kateřina.Němec@university.world; Petr Kateřina; Němec; None\n",
      "2ee44cbe-bef5-11ec-b78f-6b6ac1b3cd5c; Václav.Václav.Pospíšilová@university.world; Václav Václav; Pospíšilová; None\n",
      "2eea2db0-bef5-11ec-a8c7-6b6ac1b3cd5c; Petr.Věra.Kučerová@university.world; Petr Věra; Kučerová; None\n",
      "0cd930c2-bef5-11ec-8d4a-6b6ac1b3cd5c; None; John; O'Reilly; None\n",
      "2eef27b2-bef5-11ec-bd3b-6b6ac1b3cd5c; Miroslav.Jakub.Pokorná@university.world; Miroslav Jakub; Pokorná; None\n",
      "2ee796e2-bef5-11ec-9b90-6b6ac1b3cd5c; Josef.Tomáš.Dvořák@university.world; Josef Tomáš; Dvořák; None\n",
      "2eec3700-bef5-11ec-91cb-6b6ac1b3cd5c; Michal.Marie.Nováková@university.world; Michal Marie; Nováková; None\n",
      "2ef2cb92-bef5-11ec-967c-6b6ac1b3cd5c; Hana.Martin.Procházková@university.world; Hana Martin; Procházková; None\n",
      "2ef981eb-bef5-11ec-a776-6b6ac1b3cd5c; Hana.Jan.Černý@university.world; Hana Jan; Černý; None\n"
     ]
    }
   ],
   "source": [
    "rows = session.execute('SELECT id, name, surname, email, groups FROM users')\n",
    "\n",
    "for row in rows:\n",
    "    print(row.id, row.email, row.name, row.surname, row.groups, sep='; ')\n"
   ]
  },
  {
   "cell_type": "markdown",
   "id": "aae31bfc-9ae3-4211-95b2-4cc1fd5326e4",
   "metadata": {},
   "source": [
    "### Update"
   ]
  },
  {
   "cell_type": "code",
   "execution_count": 49,
   "id": "456a3099-9b6f-4eaf-a77b-727d4972e60e",
   "metadata": {},
   "outputs": [
    {
     "name": "stdout",
     "output_type": "stream",
     "text": [
      "2ef65749-bef5-11ec-b0f6-6b6ac1b3cd5c\n",
      "[]\n",
      "2ef65749-bef5-11ec-b0f6-6b6ac1b3cd5c; john.newbie@university.world; John; Newbie; None\n",
      "2ee62b04-bef5-11ec-9623-6b6ac1b3cd5c; Jaroslav.Milan.Procházková@university.world; Jaroslav Milan; Procházková; None\n",
      "2ef0dded-bef5-11ec-be2c-6b6ac1b3cd5c; Petr.Kateřina.Němec@university.world; Petr Kateřina; Němec; None\n",
      "2ee44cbe-bef5-11ec-b78f-6b6ac1b3cd5c; Václav.Václav.Pospíšilová@university.world; Václav Václav; Pospíšilová; None\n",
      "2eea2db0-bef5-11ec-a8c7-6b6ac1b3cd5c; Petr.Věra.Kučerová@university.world; Petr Věra; Kučerová; None\n",
      "0cd930c2-bef5-11ec-8d4a-6b6ac1b3cd5c; None; John; O'Reilly; None\n",
      "2eef27b2-bef5-11ec-bd3b-6b6ac1b3cd5c; Miroslav.Jakub.Pokorná@university.world; Miroslav Jakub; Pokorná; None\n",
      "2ee796e2-bef5-11ec-9b90-6b6ac1b3cd5c; Josef.Tomáš.Dvořák@university.world; Josef Tomáš; Dvořák; None\n",
      "2eec3700-bef5-11ec-91cb-6b6ac1b3cd5c; Michal.Marie.Nováková@university.world; Michal Marie; Nováková; None\n",
      "2ef2cb92-bef5-11ec-967c-6b6ac1b3cd5c; Hana.Martin.Procházková@university.world; Hana Martin; Procházková; None\n",
      "2ef981eb-bef5-11ec-a776-6b6ac1b3cd5c; Hana.Jan.Černý@university.world; Hana Jan; Černý; None\n"
     ]
    }
   ],
   "source": [
    "session.set_keyspace('uois')\n",
    "rows = session.execute('SELECT id, name, surname, email, groups FROM users')\n",
    "firstUserId = rows[0].id\n",
    "print(firstUserId)\n",
    "\n",
    "rows = session.execute(\n",
    "    'UPDATE users '\n",
    "    'SET name=%s, '\n",
    "    'surname=%s, '\n",
    "    'email=%s '\n",
    "    'WHERE id=%s', ('John', 'Newbie', 'john.newbie@university.world', firstUserId)\n",
    ")\n",
    "\n",
    "print(list(rows))\n",
    "\n",
    "rows = session.execute('SELECT id, name, surname, email, groups FROM users')\n",
    "for row in rows:\n",
    "    print(row.id, row.email, row.name, row.surname, row.groups, sep='; ')"
   ]
  },
  {
   "cell_type": "markdown",
   "id": "81828e63-00b2-464c-b260-078ccd79a007",
   "metadata": {},
   "source": [
    "## Modely"
   ]
  },
  {
   "cell_type": "code",
   "execution_count": 67,
   "id": "69cc03bd-52e6-4a7b-8dbc-4f7ff8c53e35",
   "metadata": {},
   "outputs": [],
   "source": [
    "import uuid\n",
    "from cassandra.cqlengine import columns\n",
    "from cassandra.cqlengine import connection\n",
    "from datetime import datetime\n",
    "from cassandra.cqlengine.management import sync_table\n",
    "from cassandra.cqlengine.models import Model\n",
    "\n",
    "#first, define a model\n",
    "class ExampleModel(Model):\n",
    "    example_id      = columns.UUID(primary_key=True, default=uuid.uuid4)\n",
    "    example_type    = columns.Integer(index=True)\n",
    "    created_at      = columns.DateTime()\n",
    "    description     = columns.Text(required=False)\n",
    "    \n",
    "cassandraHost = '192.168.1.100'\n",
    "#cluster = Cluster([cassandraHost], port=9042)\n",
    "\n",
    "#session = cluster.connect()\n",
    "#session.set_keyspace('uois')\n",
    "\n",
    "connection.setup([cassandraHost], \"uois\", protocol_version=3)\n",
    "sync_table(ExampleModel)\n",
    "\n",
    "em1 = ExampleModel.create(example_type=0, description=\"example1\", created_at=datetime.now())\n",
    "em2 = ExampleModel.create(example_type=0, description=\"example2\", created_at=datetime.now())\n",
    "em3 = ExampleModel.create(example_type=0, description=\"example3\", created_at=datetime.now())\n",
    "em4 = ExampleModel.create(example_type=0, description=\"example4\", created_at=datetime.now())\n",
    "em5 = ExampleModel.create(example_type=1, description=\"example5\", created_at=datetime.now())\n",
    "em6 = ExampleModel.create(example_type=1, description=\"example6\", created_at=datetime.now())\n",
    "em7 = ExampleModel.create(example_type=1, description=\"example7\", created_at=datetime.now())\n",
    "em8 = ExampleModel.create(example_type=1, description=\"example8\", created_at=datetime.now())"
   ]
  },
  {
   "cell_type": "code",
   "execution_count": 69,
   "id": "98b20975-deba-4312-8e99-51bd04174b0b",
   "metadata": {},
   "outputs": [
    {
     "name": "stdout",
     "output_type": "stream",
     "text": [
      "7efcf4d7-0d67-4a10-8ceb-194a7f5c542f; 1; 2022-04-18 19:52:43.722000; example6\n",
      "df8f49fd-37df-4f9c-8e70-aaae24ba206a; 0; 2022-04-18 19:52:43.688000; example4\n",
      "1892e48f-f921-4f4e-9054-9fcfa9be584d; 0; 2022-04-18 19:52:43.661000; example3\n",
      "2075763d-6c49-41e2-a336-6018b37a79c9; 0; 2022-04-18 19:52:43.607000; example2\n",
      "42d515e6-8ca6-4405-b259-e19350260d3f; 1; 2022-04-18 19:52:43.707000; example5\n",
      "5752b893-7851-4d90-8aa5-83fdf94d4664; 1; 2022-04-18 19:52:43.742000; example7\n",
      "d4beb9af-4cd6-4dc9-9339-257001740471; 1; 2022-04-18 19:52:43.777000; example8\n",
      "3bea95d3-a0f8-4250-89cd-f76b7447deff; 0; 2022-04-18 19:52:43.544000; example1\n"
     ]
    }
   ],
   "source": [
    "rows = session.execute('SELECT example_id, example_type, created_at, description FROM example_model')\n",
    "\n",
    "for row in rows:\n",
    "    print(row.example_id, row.example_type, row.created_at, row.description, sep='; ')"
   ]
  },
  {
   "cell_type": "code",
   "execution_count": 70,
   "id": "40747df6-c73b-425d-98e6-17aa256a60ce",
   "metadata": {},
   "outputs": [
    {
     "name": "stdout",
     "output_type": "stream",
     "text": [
      "example6\n",
      "example5\n",
      "example7\n",
      "example8\n"
     ]
    }
   ],
   "source": [
    "#ExampleModel.objects.count()\n",
    "\n",
    "q = ExampleModel.objects(example_type=1)\n",
    "#q.count()\n",
    "\n",
    "for instance in q:\n",
    "     print(instance.description)"
   ]
  },
  {
   "cell_type": "code",
   "execution_count": 63,
   "id": "0faf5c39-84a9-4045-a18f-094d38c3d621",
   "metadata": {},
   "outputs": [
    {
     "name": "stdout",
     "output_type": "stream",
     "text": [
      "[]\n"
     ]
    },
    {
     "ename": "SyntaxException",
     "evalue": "<Error from server: code=2000 [Syntax error in CQL query] message=\"line 1:0 no viable alternative at input 'SET' ([SET]...)\">",
     "output_type": "error",
     "traceback": [
      "\u001b[0;31m---------------------------------------------------------------------------\u001b[0m",
      "\u001b[0;31mSyntaxException\u001b[0m                           Traceback (most recent call last)",
      "\u001b[0;32m/tmp/ipykernel_707/3845555195.py\u001b[0m in \u001b[0;36m<module>\u001b[0;34m\u001b[0m\n\u001b[1;32m      8\u001b[0m \u001b[0;31m#rows = session.execute(\"GET wideusers[%s]['surname']\", (rowId, ))\u001b[0m\u001b[0;34m\u001b[0m\u001b[0;34m\u001b[0m\u001b[0m\n\u001b[1;32m      9\u001b[0m \u001b[0;31m#print(list(rows))\u001b[0m\u001b[0;34m\u001b[0m\u001b[0;34m\u001b[0m\u001b[0m\n\u001b[0;32m---> 10\u001b[0;31m \u001b[0mrows\u001b[0m \u001b[0;34m=\u001b[0m \u001b[0msession\u001b[0m\u001b[0;34m.\u001b[0m\u001b[0mexecute\u001b[0m\u001b[0;34m(\u001b[0m\u001b[0;34m\"SET wideusers[%s]['bornname'] = %s\"\u001b[0m\u001b[0;34m,\u001b[0m \u001b[0;34m(\u001b[0m\u001b[0;34m\"born\"\u001b[0m\u001b[0;34m,\u001b[0m \u001b[0mrowId\u001b[0m\u001b[0;34m)\u001b[0m\u001b[0;34m)\u001b[0m\u001b[0;34m\u001b[0m\u001b[0;34m\u001b[0m\u001b[0m\n\u001b[0m\u001b[1;32m     11\u001b[0m \u001b[0mprint\u001b[0m\u001b[0;34m(\u001b[0m\u001b[0mlist\u001b[0m\u001b[0;34m(\u001b[0m\u001b[0mrows\u001b[0m\u001b[0;34m)\u001b[0m\u001b[0;34m)\u001b[0m\u001b[0;34m\u001b[0m\u001b[0;34m\u001b[0m\u001b[0m\n",
      "\u001b[0;32m/opt/conda/lib/python3.9/site-packages/cassandra/cluster.py\u001b[0m in \u001b[0;36mexecute\u001b[0;34m(self, query, parameters, timeout, trace, custom_payload, execution_profile, paging_state, host, execute_as)\u001b[0m\n\u001b[1;32m   2616\u001b[0m         \"\"\"\n\u001b[1;32m   2617\u001b[0m \u001b[0;34m\u001b[0m\u001b[0m\n\u001b[0;32m-> 2618\u001b[0;31m         \u001b[0;32mreturn\u001b[0m \u001b[0mself\u001b[0m\u001b[0;34m.\u001b[0m\u001b[0mexecute_async\u001b[0m\u001b[0;34m(\u001b[0m\u001b[0mquery\u001b[0m\u001b[0;34m,\u001b[0m \u001b[0mparameters\u001b[0m\u001b[0;34m,\u001b[0m \u001b[0mtrace\u001b[0m\u001b[0;34m,\u001b[0m \u001b[0mcustom_payload\u001b[0m\u001b[0;34m,\u001b[0m \u001b[0mtimeout\u001b[0m\u001b[0;34m,\u001b[0m \u001b[0mexecution_profile\u001b[0m\u001b[0;34m,\u001b[0m \u001b[0mpaging_state\u001b[0m\u001b[0;34m,\u001b[0m \u001b[0mhost\u001b[0m\u001b[0;34m,\u001b[0m \u001b[0mexecute_as\u001b[0m\u001b[0;34m)\u001b[0m\u001b[0;34m.\u001b[0m\u001b[0mresult\u001b[0m\u001b[0;34m(\u001b[0m\u001b[0;34m)\u001b[0m\u001b[0;34m\u001b[0m\u001b[0;34m\u001b[0m\u001b[0m\n\u001b[0m\u001b[1;32m   2619\u001b[0m \u001b[0;34m\u001b[0m\u001b[0m\n\u001b[1;32m   2620\u001b[0m     def execute_async(self, query, parameters=None, trace=False, custom_payload=None,\n",
      "\u001b[0;32m/opt/conda/lib/python3.9/site-packages/cassandra/cluster.py\u001b[0m in \u001b[0;36mresult\u001b[0;34m(self)\u001b[0m\n\u001b[1;32m   4892\u001b[0m             \u001b[0;32mreturn\u001b[0m \u001b[0mResultSet\u001b[0m\u001b[0;34m(\u001b[0m\u001b[0mself\u001b[0m\u001b[0;34m,\u001b[0m \u001b[0mself\u001b[0m\u001b[0;34m.\u001b[0m\u001b[0m_final_result\u001b[0m\u001b[0;34m)\u001b[0m\u001b[0;34m\u001b[0m\u001b[0;34m\u001b[0m\u001b[0m\n\u001b[1;32m   4893\u001b[0m         \u001b[0;32melse\u001b[0m\u001b[0;34m:\u001b[0m\u001b[0;34m\u001b[0m\u001b[0;34m\u001b[0m\u001b[0m\n\u001b[0;32m-> 4894\u001b[0;31m             \u001b[0;32mraise\u001b[0m \u001b[0mself\u001b[0m\u001b[0;34m.\u001b[0m\u001b[0m_final_exception\u001b[0m\u001b[0;34m\u001b[0m\u001b[0;34m\u001b[0m\u001b[0m\n\u001b[0m\u001b[1;32m   4895\u001b[0m \u001b[0;34m\u001b[0m\u001b[0m\n\u001b[1;32m   4896\u001b[0m     \u001b[0;32mdef\u001b[0m \u001b[0mget_query_trace_ids\u001b[0m\u001b[0;34m(\u001b[0m\u001b[0mself\u001b[0m\u001b[0;34m)\u001b[0m\u001b[0;34m:\u001b[0m\u001b[0;34m\u001b[0m\u001b[0;34m\u001b[0m\u001b[0m\n",
      "\u001b[0;31mSyntaxException\u001b[0m: <Error from server: code=2000 [Syntax error in CQL query] message=\"line 1:0 no viable alternative at input 'SET' ([SET]...)\">"
     ]
    }
   ],
   "source": [
    "session.set_keyspace('uois')\n",
    "#session.execute(\"DROP TABLE wideusers\")\n",
    "rows = session.execute(\"CREATE COLUMNFAMILY IF NOT EXISTS wideusers (id UUID PRIMARY KEY, name text, surname text, email text)\")# with default_validation_class 'UTF8Type'\")\n",
    "print(list(rows))\n",
    "\n",
    "rowId = uuid.uuid1()\n",
    "rows = session.execute('INSERT INTO wideusers (name, surname, id) VALUES (%s, %s, %s)', (\"Born\", \"O'Reilly\", rowId))\n",
    "#rows = session.execute(\"GET wideusers[%s]['surname']\", (rowId, ))\n",
    "#print(list(rows))\n",
    "rows = session.execute(\"SET wideusers[%s]['bornname'] = %s\", (\"born\", rowId))\n",
    "print(list(rows))\n"
   ]
  },
  {
   "cell_type": "markdown",
   "id": "81825fb1-fbc0-4be6-906d-670ed02bee74",
   "metadata": {},
   "source": [
    "## Graph"
   ]
  },
  {
   "cell_type": "markdown",
   "id": "61741fd3-c01b-4e2a-922d-37e7bfffb845",
   "metadata": {},
   "source": [
    "Dokumentace, ale nefunguje https://docs.datastax.com/en/developer/python-driver/3.25/graph/"
   ]
  },
  {
   "cell_type": "code",
   "execution_count": 42,
   "id": "a73ac6dd-bdf3-4013-add8-b5b4e8796ced",
   "metadata": {},
   "outputs": [
    {
     "ename": "SyntaxException",
     "evalue": "<Error from server: code=2000 [Syntax error in CQL query] message=\"line 1:0 no viable alternative at input 'system' ([system]...)\">",
     "output_type": "error",
     "traceback": [
      "\u001b[0;31m---------------------------------------------------------------------------\u001b[0m",
      "\u001b[0;31mSyntaxException\u001b[0m                           Traceback (most recent call last)",
      "\u001b[0;32m/tmp/ipykernel_707/1011109149.py\u001b[0m in \u001b[0;36m<module>\u001b[0;34m\u001b[0m\n\u001b[1;32m      6\u001b[0m \u001b[0;34m\u001b[0m\u001b[0m\n\u001b[1;32m      7\u001b[0m \u001b[0mgraph_name\u001b[0m \u001b[0;34m=\u001b[0m \u001b[0;34m'uois_graph'\u001b[0m\u001b[0;34m\u001b[0m\u001b[0;34m\u001b[0m\u001b[0m\n\u001b[0;32m----> 8\u001b[0;31m session.execute_graph(\"system.graph(name).ifNotExists().engine(Classic).create()\", {'name': graph_name},\n\u001b[0m\u001b[1;32m      9\u001b[0m                       execution_profile=EXEC_PROFILE_GRAPH_SYSTEM_DEFAULT)\n",
      "\u001b[0;32m/opt/conda/lib/python3.9/site-packages/cassandra/cluster.py\u001b[0m in \u001b[0;36mexecute_graph\u001b[0;34m(self, query, parameters, trace, execution_profile, execute_as)\u001b[0m\n\u001b[1;32m   2679\u001b[0m         \u001b[0;31m`\u001b[0m\u001b[0mexecute_as\u001b[0m\u001b[0;31m`\u001b[0m \u001b[0mthe\u001b[0m \u001b[0muser\u001b[0m \u001b[0mthat\u001b[0m \u001b[0mwill\u001b[0m \u001b[0mbe\u001b[0m \u001b[0mused\u001b[0m \u001b[0mon\u001b[0m \u001b[0mthe\u001b[0m \u001b[0mserver\u001b[0m \u001b[0mto\u001b[0m \u001b[0mexecute\u001b[0m \u001b[0mthe\u001b[0m \u001b[0mrequest\u001b[0m\u001b[0;34m.\u001b[0m\u001b[0;34m\u001b[0m\u001b[0;34m\u001b[0m\u001b[0m\n\u001b[1;32m   2680\u001b[0m         \"\"\"\n\u001b[0;32m-> 2681\u001b[0;31m         \u001b[0;32mreturn\u001b[0m \u001b[0mself\u001b[0m\u001b[0;34m.\u001b[0m\u001b[0mexecute_graph_async\u001b[0m\u001b[0;34m(\u001b[0m\u001b[0mquery\u001b[0m\u001b[0;34m,\u001b[0m \u001b[0mparameters\u001b[0m\u001b[0;34m,\u001b[0m \u001b[0mtrace\u001b[0m\u001b[0;34m,\u001b[0m \u001b[0mexecution_profile\u001b[0m\u001b[0;34m,\u001b[0m \u001b[0mexecute_as\u001b[0m\u001b[0;34m)\u001b[0m\u001b[0;34m.\u001b[0m\u001b[0mresult\u001b[0m\u001b[0;34m(\u001b[0m\u001b[0;34m)\u001b[0m\u001b[0;34m\u001b[0m\u001b[0;34m\u001b[0m\u001b[0m\n\u001b[0m\u001b[1;32m   2682\u001b[0m \u001b[0;34m\u001b[0m\u001b[0m\n\u001b[1;32m   2683\u001b[0m     \u001b[0;32mdef\u001b[0m \u001b[0mexecute_graph_async\u001b[0m\u001b[0;34m(\u001b[0m\u001b[0mself\u001b[0m\u001b[0;34m,\u001b[0m \u001b[0mquery\u001b[0m\u001b[0;34m,\u001b[0m \u001b[0mparameters\u001b[0m\u001b[0;34m=\u001b[0m\u001b[0;32mNone\u001b[0m\u001b[0;34m,\u001b[0m \u001b[0mtrace\u001b[0m\u001b[0;34m=\u001b[0m\u001b[0;32mFalse\u001b[0m\u001b[0;34m,\u001b[0m \u001b[0mexecution_profile\u001b[0m\u001b[0;34m=\u001b[0m\u001b[0mEXEC_PROFILE_GRAPH_DEFAULT\u001b[0m\u001b[0;34m,\u001b[0m \u001b[0mexecute_as\u001b[0m\u001b[0;34m=\u001b[0m\u001b[0;32mNone\u001b[0m\u001b[0;34m)\u001b[0m\u001b[0;34m:\u001b[0m\u001b[0;34m\u001b[0m\u001b[0;34m\u001b[0m\u001b[0m\n",
      "\u001b[0;32m/opt/conda/lib/python3.9/site-packages/cassandra/cluster.py\u001b[0m in \u001b[0;36mresult\u001b[0;34m(self)\u001b[0m\n\u001b[1;32m   4892\u001b[0m             \u001b[0;32mreturn\u001b[0m \u001b[0mResultSet\u001b[0m\u001b[0;34m(\u001b[0m\u001b[0mself\u001b[0m\u001b[0;34m,\u001b[0m \u001b[0mself\u001b[0m\u001b[0;34m.\u001b[0m\u001b[0m_final_result\u001b[0m\u001b[0;34m)\u001b[0m\u001b[0;34m\u001b[0m\u001b[0;34m\u001b[0m\u001b[0m\n\u001b[1;32m   4893\u001b[0m         \u001b[0;32melse\u001b[0m\u001b[0;34m:\u001b[0m\u001b[0;34m\u001b[0m\u001b[0;34m\u001b[0m\u001b[0m\n\u001b[0;32m-> 4894\u001b[0;31m             \u001b[0;32mraise\u001b[0m \u001b[0mself\u001b[0m\u001b[0;34m.\u001b[0m\u001b[0m_final_exception\u001b[0m\u001b[0;34m\u001b[0m\u001b[0;34m\u001b[0m\u001b[0m\n\u001b[0m\u001b[1;32m   4895\u001b[0m \u001b[0;34m\u001b[0m\u001b[0m\n\u001b[1;32m   4896\u001b[0m     \u001b[0;32mdef\u001b[0m \u001b[0mget_query_trace_ids\u001b[0m\u001b[0;34m(\u001b[0m\u001b[0mself\u001b[0m\u001b[0;34m)\u001b[0m\u001b[0;34m:\u001b[0m\u001b[0;34m\u001b[0m\u001b[0;34m\u001b[0m\u001b[0m\n",
      "\u001b[0;31mSyntaxException\u001b[0m: <Error from server: code=2000 [Syntax error in CQL query] message=\"line 1:0 no viable alternative at input 'system' ([system]...)\">"
     ]
    }
   ],
   "source": [
    "from cassandra.cluster import Cluster, EXEC_PROFILE_GRAPH_SYSTEM_DEFAULT\n",
    "\n",
    "cassandraHost = '192.168.1.100'\n",
    "cluster = Cluster([cassandraHost], port=9042)\n",
    "session = cluster.connect()\n",
    "\n",
    "graph_name = 'uois_graph'\n",
    "session.execute_graph(\"system.graph(name).ifNotExists().engine(Classic).create()\", {'name': graph_name},\n",
    "                      execution_profile=EXEC_PROFILE_GRAPH_SYSTEM_DEFAULT)"
   ]
  },
  {
   "cell_type": "code",
   "execution_count": 72,
   "id": "31868600-fe90-4323-944c-0ee5d8e6f7b1",
   "metadata": {},
   "outputs": [
    {
     "ename": "SyntaxException",
     "evalue": "<Error from server: code=2000 [Syntax error in CQL query] message=\"line 1:0 no viable alternative at input 'g' ([g]...)\">",
     "output_type": "error",
     "traceback": [
      "\u001b[0;31m---------------------------------------------------------------------------\u001b[0m",
      "\u001b[0;31mSyntaxException\u001b[0m                           Traceback (most recent call last)",
      "\u001b[0;32m/tmp/ipykernel_707/1607129546.py\u001b[0m in \u001b[0;36m<module>\u001b[0;34m\u001b[0m\n\u001b[1;32m     14\u001b[0m \u001b[0;34m\u001b[0m\u001b[0m\n\u001b[1;32m     15\u001b[0m \u001b[0;31m#session.execute_graph(\"g.addV(...)\", execution_profile='core')\u001b[0m\u001b[0;34m\u001b[0m\u001b[0;34m\u001b[0m\u001b[0m\n\u001b[0;32m---> 16\u001b[0;31m \u001b[0msession\u001b[0m\u001b[0;34m.\u001b[0m\u001b[0mexecute_graph\u001b[0m\u001b[0;34m(\u001b[0m\u001b[0;34m\"g.create()\"\u001b[0m\u001b[0;34m,\u001b[0m \u001b[0mexecution_profile\u001b[0m\u001b[0;34m=\u001b[0m\u001b[0;34m'core'\u001b[0m\u001b[0;34m)\u001b[0m\u001b[0;34m\u001b[0m\u001b[0;34m\u001b[0m\u001b[0m\n\u001b[0m",
      "\u001b[0;32m/opt/conda/lib/python3.9/site-packages/cassandra/cluster.py\u001b[0m in \u001b[0;36mexecute_graph\u001b[0;34m(self, query, parameters, trace, execution_profile, execute_as)\u001b[0m\n\u001b[1;32m   2679\u001b[0m         \u001b[0;31m`\u001b[0m\u001b[0mexecute_as\u001b[0m\u001b[0;31m`\u001b[0m \u001b[0mthe\u001b[0m \u001b[0muser\u001b[0m \u001b[0mthat\u001b[0m \u001b[0mwill\u001b[0m \u001b[0mbe\u001b[0m \u001b[0mused\u001b[0m \u001b[0mon\u001b[0m \u001b[0mthe\u001b[0m \u001b[0mserver\u001b[0m \u001b[0mto\u001b[0m \u001b[0mexecute\u001b[0m \u001b[0mthe\u001b[0m \u001b[0mrequest\u001b[0m\u001b[0;34m.\u001b[0m\u001b[0;34m\u001b[0m\u001b[0;34m\u001b[0m\u001b[0m\n\u001b[1;32m   2680\u001b[0m         \"\"\"\n\u001b[0;32m-> 2681\u001b[0;31m         \u001b[0;32mreturn\u001b[0m \u001b[0mself\u001b[0m\u001b[0;34m.\u001b[0m\u001b[0mexecute_graph_async\u001b[0m\u001b[0;34m(\u001b[0m\u001b[0mquery\u001b[0m\u001b[0;34m,\u001b[0m \u001b[0mparameters\u001b[0m\u001b[0;34m,\u001b[0m \u001b[0mtrace\u001b[0m\u001b[0;34m,\u001b[0m \u001b[0mexecution_profile\u001b[0m\u001b[0;34m,\u001b[0m \u001b[0mexecute_as\u001b[0m\u001b[0;34m)\u001b[0m\u001b[0;34m.\u001b[0m\u001b[0mresult\u001b[0m\u001b[0;34m(\u001b[0m\u001b[0;34m)\u001b[0m\u001b[0;34m\u001b[0m\u001b[0;34m\u001b[0m\u001b[0m\n\u001b[0m\u001b[1;32m   2682\u001b[0m \u001b[0;34m\u001b[0m\u001b[0m\n\u001b[1;32m   2683\u001b[0m     \u001b[0;32mdef\u001b[0m \u001b[0mexecute_graph_async\u001b[0m\u001b[0;34m(\u001b[0m\u001b[0mself\u001b[0m\u001b[0;34m,\u001b[0m \u001b[0mquery\u001b[0m\u001b[0;34m,\u001b[0m \u001b[0mparameters\u001b[0m\u001b[0;34m=\u001b[0m\u001b[0;32mNone\u001b[0m\u001b[0;34m,\u001b[0m \u001b[0mtrace\u001b[0m\u001b[0;34m=\u001b[0m\u001b[0;32mFalse\u001b[0m\u001b[0;34m,\u001b[0m \u001b[0mexecution_profile\u001b[0m\u001b[0;34m=\u001b[0m\u001b[0mEXEC_PROFILE_GRAPH_DEFAULT\u001b[0m\u001b[0;34m,\u001b[0m \u001b[0mexecute_as\u001b[0m\u001b[0;34m=\u001b[0m\u001b[0;32mNone\u001b[0m\u001b[0;34m)\u001b[0m\u001b[0;34m:\u001b[0m\u001b[0;34m\u001b[0m\u001b[0;34m\u001b[0m\u001b[0m\n",
      "\u001b[0;32m/opt/conda/lib/python3.9/site-packages/cassandra/cluster.py\u001b[0m in \u001b[0;36mresult\u001b[0;34m(self)\u001b[0m\n\u001b[1;32m   4892\u001b[0m             \u001b[0;32mreturn\u001b[0m \u001b[0mResultSet\u001b[0m\u001b[0;34m(\u001b[0m\u001b[0mself\u001b[0m\u001b[0;34m,\u001b[0m \u001b[0mself\u001b[0m\u001b[0;34m.\u001b[0m\u001b[0m_final_result\u001b[0m\u001b[0;34m)\u001b[0m\u001b[0;34m\u001b[0m\u001b[0;34m\u001b[0m\u001b[0m\n\u001b[1;32m   4893\u001b[0m         \u001b[0;32melse\u001b[0m\u001b[0;34m:\u001b[0m\u001b[0;34m\u001b[0m\u001b[0;34m\u001b[0m\u001b[0m\n\u001b[0;32m-> 4894\u001b[0;31m             \u001b[0;32mraise\u001b[0m \u001b[0mself\u001b[0m\u001b[0;34m.\u001b[0m\u001b[0m_final_exception\u001b[0m\u001b[0;34m\u001b[0m\u001b[0;34m\u001b[0m\u001b[0m\n\u001b[0m\u001b[1;32m   4895\u001b[0m \u001b[0;34m\u001b[0m\u001b[0m\n\u001b[1;32m   4896\u001b[0m     \u001b[0;32mdef\u001b[0m \u001b[0mget_query_trace_ids\u001b[0m\u001b[0;34m(\u001b[0m\u001b[0mself\u001b[0m\u001b[0;34m)\u001b[0m\u001b[0;34m:\u001b[0m\u001b[0;34m\u001b[0m\u001b[0;34m\u001b[0m\u001b[0m\n",
      "\u001b[0;31mSyntaxException\u001b[0m: <Error from server: code=2000 [Syntax error in CQL query] message=\"line 1:0 no viable alternative at input 'g' ([g]...)\">"
     ]
    }
   ],
   "source": [
    "from cassandra.cluster import Cluster, GraphExecutionProfile, EXEC_PROFILE_GRAPH_DEFAULT\n",
    "from cassandra.graph import GraphOptions, GraphProtocol, graph_graphson3_row_factory\n",
    "\n",
    "graph_name = 'uois_graph'\n",
    "ep_graphson3 = GraphExecutionProfile(\n",
    "    row_factory=graph_graphson3_row_factory,\n",
    "    graph_options=GraphOptions(\n",
    "        graph_protocol=GraphProtocol.GRAPHSON_3_0,\n",
    "        graph_name=graph_name))\n",
    "\n",
    "cassandraHost = '192.168.1.100'\n",
    "cluster = Cluster([cassandraHost], port=9042, execution_profiles={'core': ep_graphson3})\n",
    "session = cluster.connect()\n",
    "\n",
    "#session.execute_graph(\"g.addV(...)\", execution_profile='core')\n",
    "session.execute_graph(\"g.create()\", execution_profile='core')"
   ]
  },
  {
   "cell_type": "code",
   "execution_count": null,
   "id": "d358f265-3cfb-4009-922c-f86d9c686b77",
   "metadata": {},
   "outputs": [],
   "source": []
  }
 ],
 "metadata": {
  "kernelspec": {
   "display_name": "Python 3 (ipykernel)",
   "language": "python",
   "name": "python3"
  },
  "language_info": {
   "codemirror_mode": {
    "name": "ipython",
    "version": 3
   },
   "file_extension": ".py",
   "mimetype": "text/x-python",
   "name": "python",
   "nbconvert_exporter": "python",
   "pygments_lexer": "ipython3",
   "version": "3.9.10"
  },
  "toc-autonumbering": true
 },
 "nbformat": 4,
 "nbformat_minor": 5
}
