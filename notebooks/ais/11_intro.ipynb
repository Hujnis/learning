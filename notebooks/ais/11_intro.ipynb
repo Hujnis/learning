{
 "cells": [
  {
   "cell_type": "markdown",
   "id": "5dcb6c41-7e0e-4713-8fa1-d3784a601550",
   "metadata": {
    "tags": []
   },
   "source": [
    "# AIS / II"
   ]
  },
  {
   "cell_type": "markdown",
   "id": "9540b9b4-47a9-4dbe-964f-7caa4a0da201",
   "metadata": {},
   "source": [
    "## Zadání"
   ]
  },
  {
   "cell_type": "markdown",
   "id": "93a3948e-e1eb-4258-a9d5-0ba81a53d273",
   "metadata": {},
   "source": [
    "Projekty podle seznamu, rozsahem odpovídají délce semestru / předmětu. Společným cílem je mít povrchní znalost technologií a komparační analýzu. Projekt požaduje společné rozhraní, díky kterému je celé databázové úložiště transparentní (otevřené systémy)."
   ]
  },
  {
   "cell_type": "markdown",
   "id": "4031ced0-65ed-418b-bbcf-f2fd5e50e0a0",
   "metadata": {},
   "source": []
  },
  {
   "cell_type": "markdown",
   "id": "ccf6fab6-3263-4288-a1ee-e943c0a696f4",
   "metadata": {},
   "source": [
    "## Struktura"
   ]
  },
  {
   "cell_type": "markdown",
   "id": "77868498-0761-47fb-8044-4bfa08246a2a",
   "metadata": {},
   "source": [
    "> **Povinné video**\n",
    ">\n",
    "> [7 Database paradigms 10 min](https://www.youtube.com/watch?v=W2Z7fbCLSTw)\n",
    "\n",
    "NoSQL Databáze\n",
    "- Neo4J\n",
    "- Redis\n",
    "- HBase\n",
    "- CouchDB\n",
    "- MongoDB\n",
    "\n",
    "- Elasticsearch"
   ]
  },
  {
   "cell_type": "markdown",
   "id": "c08f26b1-1cf6-4663-9a95-f49ef108283d",
   "metadata": {},
   "source": [
    "- Dokumentové databáze - CouchDB, MongoDB\n",
    "- Key-Value databáze - Redis, Memcached\n",
    "- Sloupcové (wide column) - HBase, Cassandra\n",
    "- Relační (relational) - Postgres, CrocoachDB\n",
    "- Grafové (graph) - Neo4j\n"
   ]
  },
  {
   "cell_type": "code",
   "execution_count": null,
   "id": "becc86ec-2465-4e19-8cb2-71546d6c4f1b",
   "metadata": {},
   "outputs": [],
   "source": []
  }
 ],
 "metadata": {
  "kernelspec": {
   "display_name": "Python 3 (ipykernel)",
   "language": "python",
   "name": "python3"
  },
  "language_info": {
   "codemirror_mode": {
    "name": "ipython",
    "version": 3
   },
   "file_extension": ".py",
   "mimetype": "text/x-python",
   "name": "python",
   "nbconvert_exporter": "python",
   "pygments_lexer": "ipython3",
   "version": "3.9.7"
  }
 },
 "nbformat": 4,
 "nbformat_minor": 5
}
