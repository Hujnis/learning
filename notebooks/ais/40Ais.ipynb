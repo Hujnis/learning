{
  "cells": [
    {
      "cell_type": "markdown",
      "metadata": {
        "id": "view-in-github",
        "colab_type": "text"
      },
      "source": [
        "<a href=\"https://colab.research.google.com/github/hrbolek/learning/blob/master/notebooks/ais/40Ais.ipynb\" target=\"_parent\"><img src=\"https://colab.research.google.com/assets/colab-badge.svg\" alt=\"Open In Colab\"/></a>"
      ]
    },
    {
      "cell_type": "markdown",
      "id": "b660b80a-ff46-4559-8813-b53161f276e4",
      "metadata": {
        "id": "b660b80a-ff46-4559-8813-b53161f276e4"
      },
      "source": [
        "# Základní statistika v Pythonu"
      ]
    },
    {
      "cell_type": "markdown",
      "id": "46809f2f-07d2-4215-8a98-fcda6a111646",
      "metadata": {
        "id": "46809f2f-07d2-4215-8a98-fcda6a111646"
      },
      "source": [
        "https://docs.python.org/3/library/statistics.html"
      ]
    },
    {
      "cell_type": "markdown",
      "id": "daf3e464-7022-45e6-8db1-a2c28958dc69",
      "metadata": {
        "id": "daf3e464-7022-45e6-8db1-a2c28958dc69"
      },
      "source": [
        "Pole dat s hodnotami float obsahující NaN (https://en.wikipedia.org/wiki/NaN) podle IEEE 754 (https://en.wikipedia.org/wiki/IEEE_754)"
      ]
    },
    {
      "cell_type": "code",
      "source": [],
      "metadata": {
        "id": "ZsuJ2G5VIH1T",
        "outputId": "b98061c2-a13c-41cb-d9a0-a3f7ad03e641",
        "colab": {
          "base_uri": "https://localhost:8080/",
          "height": 204
        }
      },
      "id": "ZsuJ2G5VIH1T",
      "execution_count": null,
      "outputs": [
        {
          "output_type": "error",
          "ename": "ZeroDivisionError",
          "evalue": "division by zero",
          "traceback": [
            "\u001b[0;31m---------------------------------------------------------------------------\u001b[0m",
            "\u001b[0;31mZeroDivisionError\u001b[0m                         Traceback (most recent call last)",
            "\u001b[0;32m<ipython-input-9-9e1622b385b6>\u001b[0m in \u001b[0;36m<cell line: 1>\u001b[0;34m()\u001b[0m\n\u001b[0;32m----> 1\u001b[0;31m \u001b[0;36m1\u001b[0m\u001b[0;34m/\u001b[0m\u001b[0;36m0\u001b[0m\u001b[0;34m\u001b[0m\u001b[0;34m\u001b[0m\u001b[0m\n\u001b[0m",
            "\u001b[0;31mZeroDivisionError\u001b[0m: division by zero"
          ]
        }
      ]
    },
    {
      "cell_type": "code",
      "execution_count": null,
      "id": "80ddeb05-5109-42ff-872b-8e4dce63a13f",
      "metadata": {
        "colab": {
          "base_uri": "https://localhost:8080/"
        },
        "id": "80ddeb05-5109-42ff-872b-8e4dce63a13f",
        "outputId": "92b70a23-8368-4cf3-86ea-c0f4018a6249"
      },
      "outputs": [
        {
          "output_type": "stream",
          "name": "stdout",
          "text": [
            "[20.7, nan, 19.2, 18.3, nan, 14.4]\n"
          ]
        }
      ],
      "source": [
        "data = [20.7, float('NaN'),19.2, 18.3, float('NaN'), 14.4]\n",
        "print(data)"
      ]
    },
    {
      "cell_type": "markdown",
      "id": "1eab9ccf-44d8-48ed-985a-477b03f9444f",
      "metadata": {
        "id": "1eab9ccf-44d8-48ed-985a-477b03f9444f"
      },
      "source": [
        "Součet s NaN vrací NaN"
      ]
    },
    {
      "cell_type": "code",
      "execution_count": null,
      "id": "11af9da9-92a9-44d0-ad9e-1d2d5d643c93",
      "metadata": {
        "id": "11af9da9-92a9-44d0-ad9e-1d2d5d643c93",
        "outputId": "48abcbf2-45f8-48e9-b0ef-f6298d198813",
        "colab": {
          "base_uri": "https://localhost:8080/"
        }
      },
      "outputs": [
        {
          "output_type": "execute_result",
          "data": {
            "text/plain": [
              "nan"
            ]
          },
          "metadata": {},
          "execution_count": 11
        }
      ],
      "source": [
        "sum(data)"
      ]
    },
    {
      "cell_type": "code",
      "source": [
        "max(data)"
      ],
      "metadata": {
        "id": "75zOy_FAJK9b",
        "outputId": "2c49dbec-e659-44dd-b213-5a457dd4fc99",
        "colab": {
          "base_uri": "https://localhost:8080/"
        }
      },
      "id": "75zOy_FAJK9b",
      "execution_count": null,
      "outputs": [
        {
          "output_type": "execute_result",
          "data": {
            "text/plain": [
              "20.7"
            ]
          },
          "metadata": {},
          "execution_count": 12
        }
      ]
    },
    {
      "cell_type": "code",
      "source": [],
      "metadata": {
        "id": "Lovkj_jqJYii",
        "outputId": "58a30977-98be-41bf-ce58-f18fe7d66c1c",
        "colab": {
          "base_uri": "https://localhost:8080/",
          "height": 204
        }
      },
      "id": "Lovkj_jqJYii",
      "execution_count": null,
      "outputs": [
        {
          "output_type": "error",
          "ename": "NameError",
          "evalue": "name 'avg' is not defined",
          "traceback": [
            "\u001b[0;31m---------------------------------------------------------------------------\u001b[0m",
            "\u001b[0;31mNameError\u001b[0m                                 Traceback (most recent call last)",
            "\u001b[0;32m<ipython-input-14-c7512e8d77a5>\u001b[0m in \u001b[0;36m<cell line: 1>\u001b[0;34m()\u001b[0m\n\u001b[0;32m----> 1\u001b[0;31m \u001b[0mavg\u001b[0m\u001b[0;34m(\u001b[0m\u001b[0mdata\u001b[0m\u001b[0;34m)\u001b[0m\u001b[0;34m\u001b[0m\u001b[0;34m\u001b[0m\u001b[0m\n\u001b[0m",
            "\u001b[0;31mNameError\u001b[0m: name 'avg' is not defined"
          ]
        }
      ]
    },
    {
      "cell_type": "code",
      "source": [
        "min(data)"
      ],
      "metadata": {
        "id": "oJEL8yyLJSAi",
        "outputId": "0fe31bc1-179c-42b5-c9d0-04b829033266",
        "colab": {
          "base_uri": "https://localhost:8080/"
        }
      },
      "id": "oJEL8yyLJSAi",
      "execution_count": null,
      "outputs": [
        {
          "output_type": "execute_result",
          "data": {
            "text/plain": [
              "14.4"
            ]
          },
          "metadata": {},
          "execution_count": 13
        }
      ]
    },
    {
      "cell_type": "code",
      "source": [
        "number = 0.1\n",
        "number"
      ],
      "metadata": {
        "id": "DIi206m_GHQi",
        "outputId": "3b2aad2b-f1f8-4530-ea80-21d53d3f7a81",
        "colab": {
          "base_uri": "https://localhost:8080/"
        }
      },
      "id": "DIi206m_GHQi",
      "execution_count": null,
      "outputs": [
        {
          "output_type": "execute_result",
          "data": {
            "text/plain": [
              "0.1"
            ]
          },
          "metadata": {},
          "execution_count": 1
        }
      ]
    },
    {
      "cell_type": "code",
      "source": [
        "number = 0.1\n",
        "while number < 0.8:\n",
        "  number = number + 0.1\n",
        "  print(number)"
      ],
      "metadata": {
        "id": "OVZpSzJnGLFe",
        "outputId": "e27b5b0f-37d8-40ad-b8c6-d6077cc8edab",
        "colab": {
          "base_uri": "https://localhost:8080/"
        }
      },
      "id": "OVZpSzJnGLFe",
      "execution_count": null,
      "outputs": [
        {
          "output_type": "stream",
          "name": "stdout",
          "text": [
            "0.2\n",
            "0.30000000000000004\n",
            "0.4\n",
            "0.5\n",
            "0.6\n",
            "0.7\n",
            "0.7999999999999999\n",
            "0.8999999999999999\n"
          ]
        }
      ]
    },
    {
      "cell_type": "code",
      "source": [
        "(100+10e-35)-100"
      ],
      "metadata": {
        "id": "VxalSyD2HhbJ",
        "outputId": "3f15204e-d34d-45c9-b923-f7dc4a631105",
        "colab": {
          "base_uri": "https://localhost:8080/"
        }
      },
      "id": "VxalSyD2HhbJ",
      "execution_count": null,
      "outputs": [
        {
          "output_type": "execute_result",
          "data": {
            "text/plain": [
              "0.0"
            ]
          },
          "metadata": {},
          "execution_count": 8
        }
      ]
    },
    {
      "cell_type": "markdown",
      "source": [
        "NaN lze z dat odstranit pomocí filtru."
      ],
      "metadata": {
        "id": "R7ppJaQ8Q8ZK"
      },
      "id": "R7ppJaQ8Q8ZK"
    },
    {
      "cell_type": "code",
      "execution_count": null,
      "id": "8da4378c-25ba-45c7-8126-174045427b98",
      "metadata": {
        "id": "8da4378c-25ba-45c7-8126-174045427b98",
        "outputId": "835223a3-e98e-40c2-d137-aefc788f3ba7",
        "colab": {
          "base_uri": "https://localhost:8080/"
        }
      },
      "outputs": [
        {
          "output_type": "execute_result",
          "data": {
            "text/plain": [
              "72.60000000000001"
            ]
          },
          "metadata": {},
          "execution_count": 15
        }
      ],
      "source": [
        "from math import isnan\n",
        "isnotnan = lambda item: not isnan(item)\n",
        "sum(filter(isnotnan, data))"
      ]
    },
    {
      "cell_type": "code",
      "execution_count": null,
      "id": "4aac740b-c6c0-4e95-976a-2216d67a9fbe",
      "metadata": {
        "id": "4aac740b-c6c0-4e95-976a-2216d67a9fbe"
      },
      "outputs": [],
      "source": []
    },
    {
      "cell_type": "markdown",
      "source": [
        "Někdy data obsahují None. Pozor None není NaN."
      ],
      "metadata": {
        "id": "bTAOk1UkRJPr"
      },
      "id": "bTAOk1UkRJPr"
    },
    {
      "cell_type": "code",
      "execution_count": null,
      "id": "a72bfffa-9eb3-4b0b-8f0b-330dc15b5a1c",
      "metadata": {
        "colab": {
          "base_uri": "https://localhost:8080/"
        },
        "id": "a72bfffa-9eb3-4b0b-8f0b-330dc15b5a1c",
        "outputId": "25e4e878-8feb-4c76-a973-e3776b937ad5"
      },
      "outputs": [
        {
          "output_type": "stream",
          "name": "stdout",
          "text": [
            "[20.7, None, 19.2, 18.3, None, 14.4]\n"
          ]
        }
      ],
      "source": [
        "data = [20.7, None,19.2, 18.3, None, 14.4]\n",
        "print(data)"
      ]
    },
    {
      "cell_type": "code",
      "execution_count": null,
      "id": "5e2da0ff-3769-4cfc-975e-d72819046c85",
      "metadata": {
        "id": "5e2da0ff-3769-4cfc-975e-d72819046c85",
        "outputId": "e4ebea32-5894-486f-f6db-783fd890b27a",
        "colab": {
          "base_uri": "https://localhost:8080/",
          "height": 204
        }
      },
      "outputs": [
        {
          "output_type": "error",
          "ename": "TypeError",
          "evalue": "unsupported operand type(s) for +: 'float' and 'NoneType'",
          "traceback": [
            "\u001b[0;31m---------------------------------------------------------------------------\u001b[0m",
            "\u001b[0;31mTypeError\u001b[0m                                 Traceback (most recent call last)",
            "\u001b[0;32m<ipython-input-17-c8b1cc79fbc0>\u001b[0m in \u001b[0;36m<cell line: 1>\u001b[0;34m()\u001b[0m\n\u001b[0;32m----> 1\u001b[0;31m \u001b[0msum\u001b[0m\u001b[0;34m(\u001b[0m\u001b[0mdata\u001b[0m\u001b[0;34m)\u001b[0m\u001b[0;34m\u001b[0m\u001b[0;34m\u001b[0m\u001b[0m\n\u001b[0m",
            "\u001b[0;31mTypeError\u001b[0m: unsupported operand type(s) for +: 'float' and 'NoneType'"
          ]
        }
      ],
      "source": [
        "sum(data)"
      ]
    },
    {
      "cell_type": "code",
      "source": [
        "min(data)"
      ],
      "metadata": {
        "id": "9EPciLuvKdC3",
        "outputId": "f58fd590-1e00-4e6e-b3f4-a24d19bd3346",
        "colab": {
          "base_uri": "https://localhost:8080/",
          "height": 204
        }
      },
      "id": "9EPciLuvKdC3",
      "execution_count": null,
      "outputs": [
        {
          "output_type": "error",
          "ename": "TypeError",
          "evalue": "'<' not supported between instances of 'NoneType' and 'float'",
          "traceback": [
            "\u001b[0;31m---------------------------------------------------------------------------\u001b[0m",
            "\u001b[0;31mTypeError\u001b[0m                                 Traceback (most recent call last)",
            "\u001b[0;32m<ipython-input-18-92d2e7f93681>\u001b[0m in \u001b[0;36m<cell line: 1>\u001b[0;34m()\u001b[0m\n\u001b[0;32m----> 1\u001b[0;31m \u001b[0mmin\u001b[0m\u001b[0;34m(\u001b[0m\u001b[0mdata\u001b[0m\u001b[0;34m)\u001b[0m\u001b[0;34m\u001b[0m\u001b[0;34m\u001b[0m\u001b[0m\n\u001b[0m",
            "\u001b[0;31mTypeError\u001b[0m: '<' not supported between instances of 'NoneType' and 'float'"
          ]
        }
      ]
    },
    {
      "cell_type": "markdown",
      "source": [
        "Hodnoty None lze odstranit obdobně jako NaN, tedy pomocí filtru."
      ],
      "metadata": {
        "id": "LR1wPE7MRWO3"
      },
      "id": "LR1wPE7MRWO3"
    },
    {
      "cell_type": "code",
      "execution_count": null,
      "id": "1b97c688-04e4-4faf-ba28-c8cf5792dc09",
      "metadata": {
        "id": "1b97c688-04e4-4faf-ba28-c8cf5792dc09",
        "outputId": "1eb5eab8-2630-4dbf-b307-e99299f7fff6",
        "colab": {
          "base_uri": "https://localhost:8080/"
        }
      },
      "outputs": [
        {
          "output_type": "execute_result",
          "data": {
            "text/plain": [
              "72.60000000000001"
            ]
          },
          "metadata": {},
          "execution_count": 19
        }
      ],
      "source": [
        "isnotnone = lambda item: item is not None\n",
        "sum(filter(isnotnone, data))"
      ]
    },
    {
      "cell_type": "markdown",
      "source": [
        "Považujete-li None za 0 (za specifických okolností může mít význam), lze využít funkci map. Pozor, jestliže nepočítáte sum, ale jiné agregace, má samozřejmě vliv na výsledek."
      ],
      "metadata": {
        "id": "ip-d5kkaSbEP"
      },
      "id": "ip-d5kkaSbEP"
    },
    {
      "cell_type": "code",
      "source": [
        "sum(map(lambda item: item if item is not None else 0, data))"
      ],
      "metadata": {
        "id": "QHDhKQQ9Sbi1",
        "outputId": "47bd98bd-82b7-4029-f9bc-3f53418f56e8",
        "colab": {
          "base_uri": "https://localhost:8080/"
        }
      },
      "id": "QHDhKQQ9Sbi1",
      "execution_count": null,
      "outputs": [
        {
          "output_type": "execute_result",
          "data": {
            "text/plain": [
              "72.60000000000001"
            ]
          },
          "metadata": {},
          "execution_count": 20
        }
      ]
    },
    {
      "cell_type": "markdown",
      "source": [
        "Využití funkce reduce"
      ],
      "metadata": {
        "id": "al9OfMPYTBEp"
      },
      "id": "al9OfMPYTBEp"
    },
    {
      "cell_type": "code",
      "source": [
        "from functools import reduce\n",
        "\n",
        "mapped = map(lambda item: item if item is not None else 0, data)\n",
        "total = reduce(lambda x,y: x+y, mapped, 0)\n",
        "\n",
        "SUM = lambda data: reduce(lambda x,y: x+y, data, 0)\n",
        "\n",
        "print(total)"
      ],
      "metadata": {
        "id": "6UWLbYFGTGV8",
        "outputId": "29c9f9f8-dd60-490d-9878-cf580207c081",
        "colab": {
          "base_uri": "https://localhost:8080/"
        }
      },
      "id": "6UWLbYFGTGV8",
      "execution_count": null,
      "outputs": [
        {
          "output_type": "stream",
          "name": "stdout",
          "text": [
            "72.60000000000001\n"
          ]
        }
      ]
    },
    {
      "cell_type": "markdown",
      "source": [
        "Comprehensions / map a filter"
      ],
      "metadata": {
        "id": "TAu4BfzoTfRd"
      },
      "id": "TAu4BfzoTfRd"
    },
    {
      "cell_type": "code",
      "source": [
        "filtered = (item for item in data if item is not None)\n",
        "sum(filtered)"
      ],
      "metadata": {
        "id": "fQIiGgMjTv9v",
        "outputId": "cb0c4f94-7edc-43ae-c4b5-a7dfaf6c2677",
        "colab": {
          "base_uri": "https://localhost:8080/"
        }
      },
      "id": "fQIiGgMjTv9v",
      "execution_count": null,
      "outputs": [
        {
          "output_type": "execute_result",
          "data": {
            "text/plain": [
              "72.60000000000001"
            ]
          },
          "metadata": {},
          "execution_count": 21
        }
      ]
    },
    {
      "cell_type": "code",
      "source": [
        "mapped = (item if item is not None else 0 for item in data)\n",
        "print(sum(mapped))\n",
        "print(sum(mapped))"
      ],
      "metadata": {
        "id": "pLdm6luWTiKH",
        "outputId": "73115763-571e-47d1-9aa2-d113c902021f",
        "colab": {
          "base_uri": "https://localhost:8080/"
        }
      },
      "id": "pLdm6luWTiKH",
      "execution_count": null,
      "outputs": [
        {
          "output_type": "stream",
          "name": "stdout",
          "text": [
            "72.60000000000001\n",
            "0\n"
          ]
        }
      ]
    },
    {
      "cell_type": "code",
      "source": [
        "mapped = [item if item is not None else 0 for item in data]\n",
        "print(sum(mapped))\n",
        "print(sum(mapped))"
      ],
      "metadata": {
        "id": "0ffBLjmBOBFE",
        "outputId": "4c11c7dc-88a1-4b62-acac-4b414f882ff0",
        "colab": {
          "base_uri": "https://localhost:8080/"
        }
      },
      "id": "0ffBLjmBOBFE",
      "execution_count": null,
      "outputs": [
        {
          "output_type": "stream",
          "name": "stdout",
          "text": [
            "72.60000000000001\n",
            "72.60000000000001\n"
          ]
        }
      ]
    },
    {
      "cell_type": "code",
      "source": [
        "data = [14.4, None,14.4, 14.4, None, 14.4, 14.4]\n",
        "mapped = {item if item is not None else 0 for item in data}\n",
        "print(sum(mapped))\n",
        "print(sum(mapped))"
      ],
      "metadata": {
        "id": "9EzpwkMROMFv",
        "outputId": "fd1fff46-a0e8-4f0b-ca02-16a23f19b947",
        "colab": {
          "base_uri": "https://localhost:8080/"
        }
      },
      "id": "9EzpwkMROMFv",
      "execution_count": null,
      "outputs": [
        {
          "output_type": "stream",
          "name": "stdout",
          "text": [
            "14.4\n",
            "14.4\n"
          ]
        }
      ]
    },
    {
      "cell_type": "markdown",
      "source": [],
      "metadata": {
        "id": "z1WBc3pSUXLX"
      },
      "id": "z1WBc3pSUXLX"
    },
    {
      "cell_type": "code",
      "source": [
        "filtered = [item for item in data if item is not None]\n",
        "print(sum(filtered))\n",
        "print(sum(filtered))"
      ],
      "metadata": {
        "id": "y4ff8V1pUgEK",
        "outputId": "fa0791db-dc76-4eff-e091-2c4788374645",
        "colab": {
          "base_uri": "https://localhost:8080/"
        }
      },
      "id": "y4ff8V1pUgEK",
      "execution_count": null,
      "outputs": [
        {
          "output_type": "stream",
          "name": "stdout",
          "text": [
            "72.60000000000001\n",
            "72.60000000000001\n"
          ]
        }
      ]
    },
    {
      "cell_type": "markdown",
      "source": [
        "## Modul statistic"
      ],
      "metadata": {
        "id": "ppq73sg0Rf4V"
      },
      "id": "ppq73sg0Rf4V"
    },
    {
      "cell_type": "code",
      "execution_count": null,
      "id": "35544be6-b831-41dd-97b4-334e0b65d9ff",
      "metadata": {
        "id": "35544be6-b831-41dd-97b4-334e0b65d9ff",
        "outputId": "16c92749-1563-421b-ad3f-bc8aeaabd895",
        "colab": {
          "base_uri": "https://localhost:8080/"
        }
      },
      "outputs": [
        {
          "output_type": "stream",
          "name": "stdout",
          "text": [
            "Return a list of the most frequently occurring values.\n",
            "\n",
            "    Will return more than one result if there are multiple modes\n",
            "    or an empty list if *data* is empty.\n",
            "\n",
            "    >>> multimode('aabbbbbbbbcc')\n",
            "    ['b']\n",
            "    >>> multimode('aabbbbccddddeeffffgg')\n",
            "    ['b', 'd', 'f']\n",
            "    >>> multimode('')\n",
            "    []\n",
            "    \n"
          ]
        }
      ],
      "source": [
        "from statistics import multimode\n",
        "\n",
        "print(multimode.__doc__)"
      ]
    },
    {
      "cell_type": "code",
      "source": [
        "def MojeFunkce(data):\n",
        "  \"moje extra funkce\"\n",
        "  return sum(data)\n",
        "print(MojeFunkce.__doc__)"
      ],
      "metadata": {
        "id": "dKVhnTzUPJbe",
        "outputId": "7ada21af-a7f3-49ca-d32b-a29da31d1b6b",
        "colab": {
          "base_uri": "https://localhost:8080/"
        }
      },
      "id": "dKVhnTzUPJbe",
      "execution_count": null,
      "outputs": [
        {
          "output_type": "stream",
          "name": "stdout",
          "text": [
            "moje extra funkce\n"
          ]
        }
      ]
    },
    {
      "cell_type": "code",
      "execution_count": null,
      "id": "0c3dde74-ff48-4c1b-92da-ef10b6eb6bea",
      "metadata": {
        "id": "0c3dde74-ff48-4c1b-92da-ef10b6eb6bea",
        "outputId": "938a8b15-23c1-485f-92e0-c7a4b24ab11c",
        "colab": {
          "base_uri": "https://localhost:8080/"
        }
      },
      "outputs": [
        {
          "output_type": "execute_result",
          "data": {
            "text/plain": [
              "[9, 8]"
            ]
          },
          "metadata": {},
          "execution_count": 30
        }
      ],
      "source": [
        "multimode([10, 9, 7, 7, 4, 9, 2, 6, 8, 6, 9, 8, 8, 4, 5])"
      ]
    },
    {
      "cell_type": "code",
      "source": [
        "table = [\n",
        "    {\"id\": 1, \"name\": \"John\"},\n",
        "    {\"id\": 3, \"name\": \"John\"},\n",
        "    {\"id\": 2, \"name\": \"Julia\"}\n",
        "]\n",
        "names = multimode(map(lambda item: item[\"name\"], table))\n",
        "rows = list(filter(lambda item: item[\"name\"] in names, table))\n",
        "rows"
      ],
      "metadata": {
        "id": "bHaaozU8QQ82",
        "outputId": "b89afb04-9a9f-466a-e9f6-c408c1996ef0",
        "colab": {
          "base_uri": "https://localhost:8080/"
        }
      },
      "id": "bHaaozU8QQ82",
      "execution_count": null,
      "outputs": [
        {
          "output_type": "execute_result",
          "data": {
            "text/plain": [
              "[{'id': 1, 'name': 'John'}, {'id': 3, 'name': 'John'}]"
            ]
          },
          "metadata": {},
          "execution_count": 35
        }
      ]
    },
    {
      "cell_type": "markdown",
      "source": [
        "Vytvořte transformační funkci převádející table na result"
      ],
      "metadata": {
        "id": "_XyyzKylSFPb"
      },
      "id": "_XyyzKylSFPb"
    },
    {
      "cell_type": "code",
      "source": [
        "table = [\n",
        "    {\"id\": 1, \"name\": \"John\"},\n",
        "    {\"id\": 3, \"name\": \"John\"},\n",
        "    {\"id\": 2, \"name\": \"Julia\"}\n",
        "]\n",
        "result = {\"John\": 2, \"Julia\": 1}"
      ],
      "metadata": {
        "id": "93whdLF2RnvX"
      },
      "id": "93whdLF2RnvX",
      "execution_count": null,
      "outputs": []
    },
    {
      "cell_type": "code",
      "source": [
        "from functools import reduce\n",
        "\n",
        "result = reduce(\n",
        "    lambda accumulator, item : ({**accumulator, item[\"name\"]: 1 + accumulator.get(item[\"name\"], 0)}),\n",
        "    table,\n",
        "     {})\n",
        "print(result)"
      ],
      "metadata": {
        "id": "1PifNLpcSLH_",
        "outputId": "d218258f-ac2a-4147-d6c0-c49616de97b0",
        "colab": {
          "base_uri": "https://localhost:8080/"
        }
      },
      "id": "1PifNLpcSLH_",
      "execution_count": null,
      "outputs": [
        {
          "output_type": "stream",
          "name": "stdout",
          "text": [
            "{'John': 2, 'Julia': 1}\n"
          ]
        }
      ]
    },
    {
      "cell_type": "code",
      "source": [
        "mostcommon = max(result.values())\n",
        "print(mostcommon)\n",
        "mostcommonname = list(filter(lambda item: item[1] == mostcommon, result.items()))\n",
        "print(mostcommonname)"
      ],
      "metadata": {
        "id": "xc7_-CHjUNLm",
        "outputId": "1e48a710-6203-405f-f635-fa26139545cb",
        "colab": {
          "base_uri": "https://localhost:8080/"
        }
      },
      "id": "xc7_-CHjUNLm",
      "execution_count": null,
      "outputs": [
        {
          "output_type": "stream",
          "name": "stdout",
          "text": [
            "2\n",
            "[('John', 2)]\n"
          ]
        }
      ]
    },
    {
      "cell_type": "code",
      "execution_count": null,
      "id": "a1a364fd-e0df-446b-91f0-628979506bc9",
      "metadata": {
        "id": "a1a364fd-e0df-446b-91f0-628979506bc9",
        "outputId": "c96de392-ac5f-4d2a-ba04-e6aa8c5f0902",
        "colab": {
          "base_uri": "https://localhost:8080/"
        }
      },
      "outputs": [
        {
          "output_type": "stream",
          "name": "stdout",
          "text": [
            "Divide *data* into *n* continuous intervals with equal probability.\n",
            "\n",
            "    Returns a list of (n - 1) cut points separating the intervals.\n",
            "\n",
            "    Set *n* to 4 for quartiles (the default).  Set *n* to 10 for deciles.\n",
            "    Set *n* to 100 for percentiles which gives the 99 cuts points that\n",
            "    separate *data* in to 100 equal sized groups.\n",
            "\n",
            "    The *data* can be any iterable containing sample.\n",
            "    The cut points are linearly interpolated between data points.\n",
            "\n",
            "    If *method* is set to *inclusive*, *data* is treated as population\n",
            "    data.  The minimum value is treated as the 0th percentile and the\n",
            "    maximum value is treated as the 100th percentile.\n",
            "    \n"
          ]
        }
      ],
      "source": [
        "from statistics import quantiles\n",
        "\n",
        "print(quantiles.__doc__)"
      ]
    },
    {
      "cell_type": "code",
      "execution_count": null,
      "id": "e353cbd1-644a-424d-ae41-7bcb432f31c8",
      "metadata": {
        "id": "e353cbd1-644a-424d-ae41-7bcb432f31c8",
        "outputId": "d4a5e06c-b13f-42ad-8e52-ee6eda661849",
        "colab": {
          "base_uri": "https://localhost:8080/"
        }
      },
      "outputs": [
        {
          "output_type": "execute_result",
          "data": {
            "text/plain": [
              "[5.0, 7.0, 9.0]"
            ]
          },
          "metadata": {},
          "execution_count": 48
        }
      ],
      "source": [
        "quantiles([10, 9, 7, 7, 4, 9, 2, 6, 8, 6, 9, 8, 8, 4, 5])"
      ]
    },
    {
      "cell_type": "markdown",
      "source": [
        "Konec hodiny"
      ],
      "metadata": {
        "id": "JFobzSKtWqul"
      },
      "id": "JFobzSKtWqul"
    },
    {
      "cell_type": "code",
      "execution_count": null,
      "id": "2e47779e-05ad-4890-b6a6-73c1db7dfc62",
      "metadata": {
        "id": "2e47779e-05ad-4890-b6a6-73c1db7dfc62",
        "outputId": "21d0c2b1-98c4-423e-97b9-eab1935bf199"
      },
      "outputs": [
        {
          "name": "stdout",
          "output_type": "stream",
          "text": [
            "Return the low median of numeric data.\n",
            "\n",
            "    When the number of data points is odd, the middle value is returned.\n",
            "    When it is even, the smaller of the two middle values is returned.\n",
            "\n",
            "    >>> median_low([1, 3, 5])\n",
            "    3\n",
            "    >>> median_low([1, 3, 5, 7])\n",
            "    3\n",
            "\n",
            "    \n",
            "Return the high median of data.\n",
            "\n",
            "    When the number of data points is odd, the middle value is returned.\n",
            "    When it is even, the larger of the two middle values is returned.\n",
            "\n",
            "    >>> median_high([1, 3, 5])\n",
            "    3\n",
            "    >>> median_high([1, 3, 5, 7])\n",
            "    5\n",
            "\n",
            "    \n"
          ]
        }
      ],
      "source": [
        "from statistics import median_low, median_high\n",
        "\n",
        "print(median_low.__doc__)\n",
        "print(median_high.__doc__)"
      ]
    },
    {
      "cell_type": "code",
      "execution_count": null,
      "id": "9c2da2a7-f2c5-4620-9d0e-349dfa6f91fe",
      "metadata": {
        "id": "9c2da2a7-f2c5-4620-9d0e-349dfa6f91fe",
        "outputId": "bce8c851-5a24-40e4-e2e9-cc617da8555b"
      },
      "outputs": [
        {
          "data": {
            "text/plain": [
              "7"
            ]
          },
          "execution_count": 12,
          "metadata": {},
          "output_type": "execute_result"
        }
      ],
      "source": [
        "median_low([10, 9, 7, 4, 9, 2, 6, 8, 6, 9, 8, 8, 4, 5])"
      ]
    },
    {
      "cell_type": "code",
      "execution_count": null,
      "id": "6a493bb7-1c8b-420e-9d3a-f573f6313545",
      "metadata": {
        "id": "6a493bb7-1c8b-420e-9d3a-f573f6313545",
        "outputId": "fecea3f3-dacb-406c-85a8-bf26ceaef1c4"
      },
      "outputs": [
        {
          "data": {
            "text/plain": [
              "8"
            ]
          },
          "execution_count": 13,
          "metadata": {},
          "output_type": "execute_result"
        }
      ],
      "source": [
        "median_high([10, 9, 7, 4, 9, 2, 6, 8, 6, 9, 8, 8, 4, 5])"
      ]
    },
    {
      "cell_type": "code",
      "execution_count": null,
      "id": "661fb557-4e60-4606-83af-8102027857b5",
      "metadata": {
        "id": "661fb557-4e60-4606-83af-8102027857b5",
        "outputId": "b8cb7ecd-8298-4734-d53c-b6577802441b"
      },
      "outputs": [
        {
          "name": "stdout",
          "output_type": "stream",
          "text": [
            "Convert data to floats and compute the arithmetic mean.\n",
            "\n",
            "    This runs faster than the mean() function and it always returns a float.\n",
            "    If the input dataset is empty, it raises a StatisticsError.\n",
            "\n",
            "    >>> fmean([3.5, 4.0, 5.25])\n",
            "    4.25\n",
            "    \n"
          ]
        }
      ],
      "source": [
        "from statistics import fmean\n",
        "\n",
        "print(fmean.__doc__)"
      ]
    },
    {
      "cell_type": "code",
      "execution_count": null,
      "id": "45b8ecc1-be49-4a75-a7d1-a4bfb2a71409",
      "metadata": {
        "id": "45b8ecc1-be49-4a75-a7d1-a4bfb2a71409",
        "outputId": "0bdbb597-06a4-40d1-bc8d-77e8872c68bf"
      },
      "outputs": [
        {
          "data": {
            "text/plain": [
              "6.8"
            ]
          },
          "execution_count": 15,
          "metadata": {},
          "output_type": "execute_result"
        }
      ],
      "source": [
        "fmean([10, 9, 7, 7, 4, 9, 2, 6, 8, 6, 9, 8, 8, 4, 5])"
      ]
    },
    {
      "cell_type": "code",
      "execution_count": null,
      "id": "62b8f03a-f882-4b7c-a589-963cb68af2d9",
      "metadata": {
        "id": "62b8f03a-f882-4b7c-a589-963cb68af2d9",
        "outputId": "61bbff4c-fa3d-449f-e3d8-f162be333635"
      },
      "outputs": [
        {
          "name": "stdout",
          "output_type": "stream",
          "text": [
            "Convert data to floats and compute the geometric mean.\n",
            "\n",
            "    Raises a StatisticsError if the input dataset is empty,\n",
            "    if it contains a zero, or if it contains a negative value.\n",
            "\n",
            "    No special efforts are made to achieve exact results.\n",
            "    (However, this may change in the future.)\n",
            "\n",
            "    >>> round(geometric_mean([54, 24, 36]), 9)\n",
            "    36.0\n",
            "    \n"
          ]
        }
      ],
      "source": [
        "from statistics import geometric_mean\n",
        "\n",
        "print(geometric_mean.__doc__)"
      ]
    },
    {
      "cell_type": "code",
      "execution_count": null,
      "id": "751fed42-6bab-49bb-8e33-5e43b89139cc",
      "metadata": {
        "id": "751fed42-6bab-49bb-8e33-5e43b89139cc",
        "outputId": "b7baae6e-a1dc-433b-aa8e-d0759bcb99c1"
      },
      "outputs": [
        {
          "data": {
            "text/plain": [
              "6.3315164105157695"
            ]
          },
          "execution_count": 17,
          "metadata": {},
          "output_type": "execute_result"
        }
      ],
      "source": [
        "geometric_mean([10, 9, 7, 7, 4, 9, 2, 6, 8, 6, 9, 8, 8, 4, 5])"
      ]
    },
    {
      "cell_type": "code",
      "execution_count": 2,
      "id": "25efeaf8-7004-4ecb-a09e-b884d25c7cbd",
      "metadata": {
        "id": "25efeaf8-7004-4ecb-a09e-b884d25c7cbd",
        "outputId": "68c240e0-b9eb-45c1-8bba-dde1b11bac46",
        "colab": {
          "base_uri": "https://localhost:8080/"
        }
      },
      "outputs": [
        {
          "output_type": "stream",
          "name": "stdout",
          "text": [
            "Return the harmonic mean of data.\n",
            "\n",
            "    The harmonic mean is the reciprocal of the arithmetic mean of the\n",
            "    reciprocals of the data.  It can be used for averaging ratios or\n",
            "    rates, for example speeds.\n",
            "\n",
            "    Suppose a car travels 40 km/hr for 5 km and then speeds-up to\n",
            "    60 km/hr for another 5 km. What is the average speed?\n",
            "\n",
            "        >>> harmonic_mean([40, 60])\n",
            "        48.0\n",
            "\n",
            "    Suppose a car travels 40 km/hr for 5 km, and when traffic clears,\n",
            "    speeds-up to 60 km/hr for the remaining 30 km of the journey. What\n",
            "    is the average speed?\n",
            "\n",
            "        >>> harmonic_mean([40, 60], weights=[5, 30])\n",
            "        56.0\n",
            "\n",
            "    If ``data`` is empty, or any element is less than zero,\n",
            "    ``harmonic_mean`` will raise ``StatisticsError``.\n",
            "    \n"
          ]
        }
      ],
      "source": [
        "from statistics import harmonic_mean\n",
        "\n",
        "print(harmonic_mean.__doc__)"
      ]
    },
    {
      "cell_type": "code",
      "execution_count": 3,
      "id": "f115cc92-ba69-4bc6-bcba-0fe8b01da8c9",
      "metadata": {
        "id": "f115cc92-ba69-4bc6-bcba-0fe8b01da8c9",
        "outputId": "32be8065-4713-4933-f873-ec7e3bbb799e",
        "colab": {
          "base_uri": "https://localhost:8080/"
        }
      },
      "outputs": [
        {
          "output_type": "execute_result",
          "data": {
            "text/plain": [
              "5.709107385591301"
            ]
          },
          "metadata": {},
          "execution_count": 3
        }
      ],
      "source": [
        "harmonic_mean([10, 9, 7, 7, 4, 9, 2, 6, 8, 6, 9, 8, 8, 4, 5])"
      ]
    },
    {
      "cell_type": "code",
      "execution_count": 4,
      "id": "0768babc-fa9e-4049-b6ec-c10a5a643a41",
      "metadata": {
        "id": "0768babc-fa9e-4049-b6ec-c10a5a643a41",
        "outputId": "0b2b42c2-533a-4a79-9092-9130d568b55a",
        "colab": {
          "base_uri": "https://localhost:8080/"
        }
      },
      "outputs": [
        {
          "output_type": "stream",
          "name": "stdout",
          "text": [
            "{10: 1, 9: 3, 7: 2, 4: 2, 2: 1, 6: 2, 8: 3, 5: 1}\n",
            "dict_keys([10, 9, 7, 4, 2, 6, 8, 5])\n",
            "dict_values([1, 3, 2, 2, 1, 2, 3, 1])\n",
            "5.709107385591301\n"
          ]
        }
      ],
      "source": [
        "data = [10, 9, 7, 7, 4, 9, 2, 6, 8, 6, 9, 8, 8, 4, 5]\n",
        "grouped = {}\n",
        "for i in data:\n",
        "    grouped[i] = grouped.get(i, 0) + 1\n",
        "\n",
        "print(grouped)\n",
        "print(grouped.keys())\n",
        "print(grouped.values())\n",
        "print(harmonic_mean(grouped.keys(), grouped.values()))"
      ]
    },
    {
      "cell_type": "markdown",
      "id": "5f173470-c45e-42b8-8813-2ce88e2e05bb",
      "metadata": {
        "id": "5f173470-c45e-42b8-8813-2ce88e2e05bb"
      },
      "source": [
        "https://cs.wikipedia.org/wiki/Sm%C4%9Brodatn%C3%A1_odchylka\n",
        "\n",
        "$\\sigma ={\\sqrt {\\operatorname {var} (X)}}={\\sqrt {\\operatorname {E} }}$\n",
        "\n",
        "$s = \\sqrt{\\frac{1}{N-1} \\left( \\sum_{i=1}^N{x_i^2} - N{\\overline{x}}^2 \\right) }$\n"
      ]
    },
    {
      "cell_type": "code",
      "execution_count": 5,
      "id": "4ed9fce6-4422-43be-b008-665c1b14f821",
      "metadata": {
        "id": "4ed9fce6-4422-43be-b008-665c1b14f821",
        "outputId": "b8c03e1d-e786-47a5-96cd-6922c1590707",
        "colab": {
          "base_uri": "https://localhost:8080/"
        }
      },
      "outputs": [
        {
          "output_type": "stream",
          "name": "stdout",
          "text": [
            "Return the square root of the sample variance.\n",
            "\n",
            "    See ``variance`` for arguments and other details.\n",
            "\n",
            "    >>> stdev([1.5, 2.5, 2.5, 2.75, 3.25, 4.75])\n",
            "    1.0810874155219827\n",
            "\n",
            "    \n",
            "Return the sample variance of data.\n",
            "\n",
            "    data should be an iterable of Real-valued numbers, with at least two\n",
            "    values. The optional argument xbar, if given, should be the mean of\n",
            "    the data. If it is missing or None, the mean is automatically calculated.\n",
            "\n",
            "    Use this function when your data is a sample from a population. To\n",
            "    calculate the variance from the entire population, see ``pvariance``.\n",
            "\n",
            "    Examples:\n",
            "\n",
            "    >>> data = [2.75, 1.75, 1.25, 0.25, 0.5, 1.25, 3.5]\n",
            "    >>> variance(data)\n",
            "    1.3720238095238095\n",
            "\n",
            "    If you have already calculated the mean of your data, you can pass it as\n",
            "    the optional second argument ``xbar`` to avoid recalculating it:\n",
            "\n",
            "    >>> m = mean(data)\n",
            "    >>> variance(data, m)\n",
            "    1.3720238095238095\n",
            "\n",
            "    This function does not check that ``xbar`` is actually the mean of\n",
            "    ``data``. Giving arbitrary values for ``xbar`` may lead to invalid or\n",
            "    impossible results.\n",
            "\n",
            "    Decimals and Fractions are supported:\n",
            "\n",
            "    >>> from decimal import Decimal as D\n",
            "    >>> variance([D(\"27.5\"), D(\"30.25\"), D(\"30.25\"), D(\"34.5\"), D(\"41.75\")])\n",
            "    Decimal('31.01875')\n",
            "\n",
            "    >>> from fractions import Fraction as F\n",
            "    >>> variance([F(1, 6), F(1, 2), F(5, 3)])\n",
            "    Fraction(67, 108)\n",
            "\n",
            "    \n"
          ]
        }
      ],
      "source": [
        "from statistics import stdev, variance\n",
        "\n",
        "print(stdev.__doc__) # smerodatna odchylka\n",
        "print(variance.__doc__) # rozptyl"
      ]
    },
    {
      "cell_type": "code",
      "execution_count": 6,
      "id": "1a77338a-e494-4c10-9b08-39dd984a59cd",
      "metadata": {
        "id": "1a77338a-e494-4c10-9b08-39dd984a59cd",
        "outputId": "10a22417-614e-4f46-ce30-99577ce3de70",
        "colab": {
          "base_uri": "https://localhost:8080/"
        }
      },
      "outputs": [
        {
          "output_type": "stream",
          "name": "stdout",
          "text": [
            "2.274077520980446\n"
          ]
        }
      ],
      "source": [
        "data = [10, 9, 7, 7, 4, 9, 2, 6, 8, 6, 9, 8, 8, 4, 5]\n",
        "print(stdev(data))"
      ]
    },
    {
      "cell_type": "code",
      "execution_count": 7,
      "id": "1e892b70-e131-4fba-998a-91795cea9dbc",
      "metadata": {
        "id": "1e892b70-e131-4fba-998a-91795cea9dbc",
        "outputId": "fc54519a-84f2-4019-b715-a37353adcff5",
        "colab": {
          "base_uri": "https://localhost:8080/"
        }
      },
      "outputs": [
        {
          "output_type": "stream",
          "name": "stdout",
          "text": [
            "5.171428571428572\n"
          ]
        }
      ],
      "source": [
        "data = [10, 9, 7, 7, 4, 9, 2, 6, 8, 6, 9, 8, 8, 4, 5]\n",
        "print(variance(data))"
      ]
    },
    {
      "cell_type": "code",
      "execution_count": null,
      "id": "b70a0fc1-c40c-43f5-93dc-05c04edb5b24",
      "metadata": {
        "id": "b70a0fc1-c40c-43f5-93dc-05c04edb5b24"
      },
      "outputs": [],
      "source": []
    },
    {
      "cell_type": "code",
      "execution_count": 8,
      "id": "027143fd-07c6-41f0-8b60-00e23c8adb91",
      "metadata": {
        "id": "027143fd-07c6-41f0-8b60-00e23c8adb91",
        "outputId": "5d947ff9-99a8-45db-aaa5-b0d1f013a9c2",
        "colab": {
          "base_uri": "https://localhost:8080/",
          "height": 448
        }
      },
      "outputs": [
        {
          "output_type": "execute_result",
          "data": {
            "text/plain": [
              "[<matplotlib.lines.Line2D at 0x7865b01d1720>]"
            ]
          },
          "metadata": {},
          "execution_count": 8
        },
        {
          "output_type": "display_data",
          "data": {
            "text/plain": [
              "<Figure size 640x480 with 1 Axes>"
            ],
            "image/png": "[encoded data removed]"
          },
          "metadata": {}
        }
      ],
      "source": [
        "from matplotlib import pyplot as plt\n",
        "from statistics import NormalDist\n",
        "\n",
        "nd = NormalDist()\n",
        "nd.pdf(0)\n",
        "x = [i / 100 - 5 for i in range(1001)]\n",
        "y = [nd.pdf(i) for i in x]\n",
        "plt.plot(x, y)"
      ]
    },
    {
      "cell_type": "code",
      "execution_count": 9,
      "id": "c9630e29-53b2-40dd-ac5b-3cd72534925d",
      "metadata": {
        "id": "c9630e29-53b2-40dd-ac5b-3cd72534925d",
        "outputId": "a80b078a-de2f-4d84-b1a9-11ee490b32cb",
        "colab": {
          "base_uri": "https://localhost:8080/",
          "height": 448
        }
      },
      "outputs": [
        {
          "output_type": "execute_result",
          "data": {
            "text/plain": [
              "[<matplotlib.lines.Line2D at 0x78658f7dea40>]"
            ]
          },
          "metadata": {},
          "execution_count": 9
        },
        {
          "output_type": "display_data",
          "data": {
            "text/plain": [
              "<Figure size 640x480 with 1 Axes>"
            ],
            "image/png": "[encoded data removed]"
          },
          "metadata": {}
        }
      ],
      "source": [
        "nd.pdf(0)\n",
        "x = [i / 100 - 5 for i in range(1001)]\n",
        "y = [nd.cdf(i) for i in x]\n",
        "plt.plot(x, y)"
      ]
    },
    {
      "cell_type": "code",
      "execution_count": null,
      "id": "66cf7e3e-5e73-474d-960c-ddb94442a5d3",
      "metadata": {
        "id": "66cf7e3e-5e73-474d-960c-ddb94442a5d3"
      },
      "outputs": [],
      "source": []
    },
    {
      "cell_type": "code",
      "execution_count": null,
      "id": "fb45ad24-5d6e-4cd4-b9d3-3f5d08daec04",
      "metadata": {
        "id": "fb45ad24-5d6e-4cd4-b9d3-3f5d08daec04"
      },
      "outputs": [],
      "source": []
    },
    {
      "cell_type": "code",
      "execution_count": null,
      "id": "dd8f8713-aeed-4e7f-81c9-0f162b2973b7",
      "metadata": {
        "id": "dd8f8713-aeed-4e7f-81c9-0f162b2973b7",
        "outputId": "9bbc03fe-12fa-4e54-b793-701f503e49cd"
      },
      "outputs": [
        {
          "data": {
            "text/plain": [
              "(8, 8, 0, '')"
            ]
          },
          "execution_count": 26,
          "metadata": {},
          "output_type": "execute_result"
        }
      ],
      "source": [
        "import IPython\n",
        "IPython.version_info"
      ]
    },
    {
      "cell_type": "code",
      "execution_count": null,
      "id": "d8c47fe8-fd0c-41ac-950c-caf17f5a7d90",
      "metadata": {
        "id": "d8c47fe8-fd0c-41ac-950c-caf17f5a7d90"
      },
      "outputs": [],
      "source": []
    },
    {
      "cell_type": "markdown",
      "id": "60b51038-5f27-4865-9543-92d7bc072b26",
      "metadata": {
        "id": "60b51038-5f27-4865-9543-92d7bc072b26"
      },
      "source": [
        "### Quiz"
      ]
    },
    {
      "cell_type": "markdown",
      "id": "26893110-e916-4e8c-8331-67fad52a9b01",
      "metadata": {
        "id": "26893110-e916-4e8c-8331-67fad52a9b01"
      },
      "source": [
        "https://kap.kr-jihomoravsky.cz/uploads/attachment/attachment/attachment_file/4230/Základy_statistiky.pdf"
      ]
    },
    {
      "cell_type": "markdown",
      "id": "597b6e86-be32-450a-967d-e492abe8ef4c",
      "metadata": {
        "id": "597b6e86-be32-450a-967d-e492abe8ef4c"
      },
      "source": [
        "Vytvořte dvojice - číslo - písmeno\n",
        "\n",
        "    1. modus\n",
        "    2. relativní četnost\n",
        "    3. rozsah souboru\n",
        "    4. medián\n",
        "    5. statistický znak\n",
        "    6. aritmetický průměr\n",
        "    7. statistický soubor\n",
        "    8. absolutní četnost\n",
        "    9. statistická jednotka\n",
        "\n",
        "    A. součet všech hodnot znaku vydělený rozsahem souboru\n",
        "    B. zvolená vlastnost statistické jednotky, kterou zkoumám\n",
        "    C. prostřední hodnota statistického souboru seřazeného podle velikosti\n",
        "    D. množina prvků (lidí, věcí…), na které zkoumám určitý znak\n",
        "    E. poměr absolutní četnosti a rozsahu souboru\n",
        "    F. jeden prvek statistického souboru\n",
        "    G. nejčastější hodnota statistického souboru\n",
        "    H. počet všech jednotek statistického souboru\n",
        "    I. počet všech jednotek, u kterých byl zkoumaný jev zjištěn\n"
      ]
    },
    {
      "cell_type": "markdown",
      "id": "8d5c4874-1e04-499c-a7f4-36f8702ba573",
      "metadata": {
        "id": "8d5c4874-1e04-499c-a7f4-36f8702ba573"
      },
      "source": [
        "Správné odpovědi\n",
        "\n",
        "\n",
        "    1G. modus : nejčastější hodnota statistického souboru\n",
        "    2E. relativní četnost : poměr absolutní četnosti a rozsahu souboru\n",
        "    3H. rozsah souboru : počet všech jednotek statistického souboru\n",
        "    4C. medián : prostřední hodnota statistického souboru seřazeného podle velikosti\n",
        "    5B. statistický znak : zvolená vlastnost statistické jednotky, kterou zkoumám\n",
        "    6A. aritmetický průměr : součet všech hodnot znaku vydělený rozsahem souboru\n",
        "    7D. statistický soubor : množina prvků (lidí, věcí…), na které zkoumám určitý znak\n",
        "    8I. absolutní četnost : počet všech jednotek, u kterých byl zkoumaný jev zjištěn\n",
        "    9F. statistická jednotka : jeden prvek statistického souboru"
      ]
    },
    {
      "cell_type": "markdown",
      "id": "f4b96225-99b8-4613-ac3d-fef69cef75aa",
      "metadata": {
        "id": "f4b96225-99b8-4613-ac3d-fef69cef75aa"
      },
      "source": []
    },
    {
      "cell_type": "markdown",
      "id": "994bfd4b-7ccf-441f-bb58-14037cf7ba6d",
      "metadata": {
        "id": "994bfd4b-7ccf-441f-bb58-14037cf7ba6d"
      },
      "source": [
        "### Quiz"
      ]
    },
    {
      "cell_type": "markdown",
      "id": "ec2fdd11-b268-4ef4-a2c5-5577ae7d8b29",
      "metadata": {
        "id": "ec2fdd11-b268-4ef4-a2c5-5577ae7d8b29"
      },
      "source": [
        "https://kap.kr-jihomoravsky.cz/uploads/attachment/attachment/attachment_file/4230/Základy_statistiky.pdf"
      ]
    },
    {
      "cell_type": "markdown",
      "id": "f6b24dc7-aa59-4f0a-8154-ddef73694448",
      "metadata": {
        "id": "f6b24dc7-aa59-4f0a-8154-ddef73694448"
      },
      "source": [
        "Při střelbě na terč získal Honza tyto body (10, 9, 7, 7, 4, 9, 2, 6, 8, 6, 9, 8, 8, 4, 5) a Jana nasbírala\n",
        "tyto (9, 6, 6, 5, 10, 8, 7, 7, 2, 6, 8, 9, 3, 3, 8).\n",
        "\n",
        "Určete tyto hodnoty:\n",
        "- průměr (average/mean)\n",
        "- medián (median)\n",
        "- modus (modus/mode)\n",
        "\n",
        "Stanovte lepšího střelce, zdůvodněte."
      ]
    },
    {
      "cell_type": "markdown",
      "id": "77fb2d4a-873e-4c8a-88d9-7d6c2bd5b8d8",
      "metadata": {
        "id": "77fb2d4a-873e-4c8a-88d9-7d6c2bd5b8d8"
      },
      "source": []
    },
    {
      "cell_type": "code",
      "execution_count": 10,
      "id": "2621f417-2ac6-4a21-937f-21ef0892e83a",
      "metadata": {
        "id": "2621f417-2ac6-4a21-937f-21ef0892e83a"
      },
      "outputs": [],
      "source": [
        "from statistics import median, mean, mode\n",
        "\n",
        "Honza = [10, 9, 7, 7, 4, 9, 2, 6, 8, 6, 9, 8, 8, 4, 5]\n",
        "Jana = [9, 6, 6, 5, 10, 8, 7, 7, 2, 6, 8, 9, 3, 3, 8]"
      ]
    },
    {
      "cell_type": "code",
      "execution_count": 11,
      "id": "735d3ccb-f5dc-426e-af52-3004a9b09d14",
      "metadata": {
        "id": "735d3ccb-f5dc-426e-af52-3004a9b09d14",
        "outputId": "e00d4469-e5a5-445e-a5a7-a2800de9c196",
        "colab": {
          "base_uri": "https://localhost:8080/"
        }
      },
      "outputs": [
        {
          "output_type": "stream",
          "name": "stdout",
          "text": [
            "6.8\n",
            "6.466666666666667\n"
          ]
        }
      ],
      "source": [
        "print(mean(Honza))\n",
        "print(mean(Jana))"
      ]
    },
    {
      "cell_type": "markdown",
      "id": "f1b302bf-90ee-49cd-bb16-dd6a28f5f004",
      "metadata": {
        "id": "f1b302bf-90ee-49cd-bb16-dd6a28f5f004"
      },
      "source": [
        "**Řešení**"
      ]
    },
    {
      "cell_type": "code",
      "execution_count": null,
      "id": "3f684131-f0b6-4c0a-ad9b-223e692f6532",
      "metadata": {
        "jupyter": {
          "source_hidden": true
        },
        "tags": [],
        "id": "3f684131-f0b6-4c0a-ad9b-223e692f6532",
        "outputId": "f8b449f1-f528-4932-9316-db582d3c5cb2"
      },
      "outputs": [
        {
          "name": "stdout",
          "output_type": "stream",
          "text": [
            "Honza\n",
            "7\n",
            "6.8\n",
            "9\n",
            "Jana\n",
            "7\n",
            "6.466666666666667\n",
            "6\n"
          ]
        }
      ],
      "source": [
        "from statistics import median, mean, mode\n",
        "\n",
        "Honza = [10, 9, 7, 7, 4, 9, 2, 6, 8, 6, 9, 8, 8, 4, 5]\n",
        "Jana = [9, 6, 6, 5, 10, 8, 7, 7, 2, 6, 8, 9, 3, 3, 8]\n",
        "\n",
        "print(\"Honza\")\n",
        "print(median(Honza))\n",
        "print(mean(Honza))\n",
        "print(mode(Honza))\n",
        "\n",
        "print(\"Jana\")\n",
        "print(median(Jana))\n",
        "print(mean(Jana))\n",
        "print(mode(Jana))"
      ]
    },
    {
      "cell_type": "code",
      "execution_count": null,
      "id": "0280ea97-7dee-4054-9cf2-e564cd146a08",
      "metadata": {
        "id": "0280ea97-7dee-4054-9cf2-e564cd146a08"
      },
      "outputs": [],
      "source": []
    },
    {
      "cell_type": "markdown",
      "id": "642abd2e-b888-410c-9ff4-1dd2c38ca99a",
      "metadata": {
        "id": "642abd2e-b888-410c-9ff4-1dd2c38ca99a"
      },
      "source": [
        "## SAT"
      ]
    },
    {
      "cell_type": "markdown",
      "id": "4811fb7a-9c71-4e2a-a082-8f463d8292bf",
      "metadata": {
        "id": "4811fb7a-9c71-4e2a-a082-8f463d8292bf"
      },
      "source": [
        "https://nces.ed.gov/programs/digest/d17/tables/dt17_226.40.asp\n",
        "\n",
        "https://docs.python.org/3/library/statistics.html"
      ]
    },
    {
      "cell_type": "markdown",
      "id": "ac55921b-6b36-40d8-9895-7b94def55a91",
      "metadata": {
        "id": "ac55921b-6b36-40d8-9895-7b94def55a91"
      },
      "source": [
        "Výsledky SAT mají normální distribuci s průměrem 1060 a standardní odchylkou 195. Určete procento studentů s výsledky v intervalu 1100 a 1200"
      ]
    },
    {
      "cell_type": "code",
      "source": [
        "from statistics import NormalDist\n",
        "import matplotlib.pyplot as plt\n",
        "\n",
        "sat = NormalDist(1060, 195)\n",
        "\n",
        "x = [i+400 for i in range(1400)]\n",
        "y = [sat.cdf(i) for i in x]\n",
        "plt.plot(x, y)\n",
        "plt.grid()"
      ],
      "metadata": {
        "id": "Ov9iilRssV1h",
        "outputId": "59e88bb5-4f5c-43de-84b3-5819782d873a",
        "colab": {
          "base_uri": "https://localhost:8080/",
          "height": 430
        }
      },
      "id": "Ov9iilRssV1h",
      "execution_count": 16,
      "outputs": [
        {
          "output_type": "display_data",
          "data": {
            "text/plain": [
              "<Figure size 640x480 with 1 Axes>"
            ],
            "image/png": "[encoded data removed]"
          },
          "metadata": {}
        }
      ]
    },
    {
      "cell_type": "code",
      "execution_count": 19,
      "id": "f024acd3-5812-4bb9-9f05-a461fe99e893",
      "metadata": {
        "id": "f024acd3-5812-4bb9-9f05-a461fe99e893",
        "outputId": "2a8a5edf-ea84-4c96-a93a-b7569624aee3",
        "colab": {
          "base_uri": "https://localhost:8080/"
        }
      },
      "outputs": [
        {
          "output_type": "execute_result",
          "data": {
            "text/plain": [
              "(18.4, ' %')"
            ]
          },
          "metadata": {},
          "execution_count": 19
        }
      ],
      "source": [
        "from statistics import NormalDist\n",
        "sat = NormalDist(1060, 195)\n",
        "fraction = sat.cdf(1200 + 0.5) - sat.cdf(1100 - 0.5)\n",
        "round(fraction * 100.0, 1), ' %'"
      ]
    },
    {
      "cell_type": "code",
      "execution_count": 20,
      "id": "83455ea8-5588-4de5-93b9-13fa04895fbf",
      "metadata": {
        "id": "83455ea8-5588-4de5-93b9-13fa04895fbf",
        "outputId": "ffa34a2a-c652-4c5c-a9be-bde9079b66da",
        "colab": {
          "base_uri": "https://localhost:8080/"
        }
      },
      "outputs": [
        {
          "output_type": "execute_result",
          "data": {
            "text/plain": [
              "(18.2, ' %')"
            ]
          },
          "metadata": {},
          "execution_count": 20
        }
      ],
      "source": [
        "sat = NormalDist(1060, 195)\n",
        "fraction = sat.cdf(1200) - sat.cdf(1100)\n",
        "round(fraction * 100.0, 1), ' %'"
      ]
    },
    {
      "cell_type": "markdown",
      "id": "b777ca3c-6157-4550-8cd0-c588044ef5d2",
      "metadata": {
        "id": "b777ca3c-6157-4550-8cd0-c588044ef5d2"
      },
      "source": [
        "Kvartily"
      ]
    },
    {
      "cell_type": "code",
      "source": [
        "sat.quantiles.__doc__"
      ],
      "metadata": {
        "id": "XZKlA5gJucqe",
        "outputId": "dc768689-3828-472e-aa77-9e1354d2d748",
        "colab": {
          "base_uri": "https://localhost:8080/",
          "height": 88
        }
      },
      "id": "XZKlA5gJucqe",
      "execution_count": 21,
      "outputs": [
        {
          "output_type": "execute_result",
          "data": {
            "text/plain": [
              "'Divide into *n* continuous intervals with equal probability.\\n\\n        Returns a list of (n - 1) cut points separating the intervals.\\n\\n        Set *n* to 4 for quartiles (the default).  Set *n* to 10 for deciles.\\n        Set *n* to 100 for percentiles which gives the 99 cuts points that\\n        separate the normal distribution in to 100 equal sized groups.\\n        '"
            ],
            "application/vnd.google.colaboratory.intrinsic+json": {
              "type": "string"
            }
          },
          "metadata": {},
          "execution_count": 21
        }
      ]
    },
    {
      "cell_type": "code",
      "execution_count": null,
      "id": "6fa0818e-6fd5-48cc-a6bb-47bccac3c19d",
      "metadata": {
        "id": "6fa0818e-6fd5-48cc-a6bb-47bccac3c19d",
        "outputId": "2f62a467-8ed7-4703-d8c5-b4e8f085eab1"
      },
      "outputs": [
        {
          "data": {
            "text/plain": [
              "[928, 1060, 1192]"
            ]
          },
          "execution_count": 31,
          "metadata": {},
          "output_type": "execute_result"
        }
      ],
      "source": [
        "list(map(round, sat.quantiles()))"
      ]
    },
    {
      "cell_type": "code",
      "source": [
        "list(map(round, sat.quantiles(5)))"
      ],
      "metadata": {
        "id": "6g_LPY0Yukjj",
        "outputId": "45229934-a233-4788-aba9-6241897194a6",
        "colab": {
          "base_uri": "https://localhost:8080/"
        }
      },
      "id": "6g_LPY0Yukjj",
      "execution_count": 22,
      "outputs": [
        {
          "output_type": "execute_result",
          "data": {
            "text/plain": [
              "[896, 1011, 1109, 1224]"
            ]
          },
          "metadata": {},
          "execution_count": 22
        }
      ]
    },
    {
      "cell_type": "markdown",
      "id": "36b5e371-5bb9-4049-880b-89a1c5badbc3",
      "metadata": {
        "id": "36b5e371-5bb9-4049-880b-89a1c5badbc3"
      },
      "source": [
        "Decily"
      ]
    },
    {
      "cell_type": "code",
      "execution_count": null,
      "id": "77c807a5-c4b8-46b8-a61e-4fb2810be855",
      "metadata": {
        "id": "77c807a5-c4b8-46b8-a61e-4fb2810be855",
        "outputId": "c990688d-c701-49e8-8f94-0fa0efd4713d"
      },
      "outputs": [
        {
          "data": {
            "text/plain": [
              "[810, 896, 958, 1011, 1060, 1109, 1162, 1224, 1310]"
            ]
          },
          "execution_count": 32,
          "metadata": {},
          "output_type": "execute_result"
        }
      ],
      "source": [
        "list(map(round, sat.quantiles(n=10)))"
      ]
    },
    {
      "cell_type": "markdown",
      "id": "ea338d89-4d59-43a7-88ee-1e960221e275",
      "metadata": {
        "id": "ea338d89-4d59-43a7-88ee-1e960221e275"
      },
      "source": [
        "### Quiz"
      ]
    },
    {
      "cell_type": "markdown",
      "id": "3e3df667-3889-4ab6-9d59-ce6312dd198d",
      "metadata": {
        "id": "3e3df667-3889-4ab6-9d59-ce6312dd198d"
      },
      "source": [
        "https://docs.python.org/3/library/statistics.html"
      ]
    },
    {
      "cell_type": "code",
      "source": [],
      "metadata": {
        "id": "1jVyTHDZvPyZ"
      },
      "id": "1jVyTHDZvPyZ",
      "execution_count": null,
      "outputs": []
    },
    {
      "cell_type": "markdown",
      "id": "739ffe3c-60c2-4059-b3ad-b94a9f101dd4",
      "metadata": {
        "id": "739ffe3c-60c2-4059-b3ad-b94a9f101dd4"
      },
      "source": [
        "Konference o programování má 750 přihlášených osob. Je k dispozici hala s kapacitou 500 míst. V předchozích konferencích 65% přihlášených preferovalo programovací jazyk Python před programovacím jazykem Ruby. Jaká je pravděpodobnost, že hala bude stačit zájmu o přednášku o nové verzi Pythonu konající se v této hale?"
      ]
    },
    {
      "cell_type": "code",
      "execution_count": 23,
      "id": "423eb4bc-7b4d-4027-a1b6-40faa2d0b183",
      "metadata": {
        "id": "423eb4bc-7b4d-4027-a1b6-40faa2d0b183"
      },
      "outputs": [],
      "source": [
        "n = 750             # Počet přihlášených\n",
        "p = 0.65            # Preference for Python\n",
        "q = 1.0 - p         # Preference for Ruby\n",
        "k = 500             # Kapacita haly"
      ]
    },
    {
      "cell_type": "markdown",
      "id": "8d934008-673c-49b4-b08e-840c78fdbd9d",
      "metadata": {
        "id": "8d934008-673c-49b4-b08e-840c78fdbd9d"
      },
      "source": [
        "Simulace"
      ]
    },
    {
      "cell_type": "markdown",
      "id": "785f84ed-a3cc-4e1d-87a1-2edb0dadd883",
      "metadata": {
        "id": "785f84ed-a3cc-4e1d-87a1-2edb0dadd883"
      },
      "source": [
        "Vytvořte funkci která vrací náhodné rozdělení účastníků konference."
      ]
    },
    {
      "cell_type": "code",
      "execution_count": 24,
      "id": "e3ac113b-1f95-4d75-a183-4ccb92bd9d0d",
      "metadata": {
        "id": "e3ac113b-1f95-4d75-a183-4ccb92bd9d0d",
        "outputId": "948238f2-2512-45de-cf72-a3ff50765b65",
        "colab": {
          "base_uri": "https://localhost:8080/"
        }
      },
      "outputs": [
        {
          "output_type": "execute_result",
          "data": {
            "text/plain": [
              "['Python',\n",
              " 'Python',\n",
              " 'Ruby',\n",
              " 'Python',\n",
              " 'Python',\n",
              " 'Ruby',\n",
              " 'Ruby',\n",
              " 'Python',\n",
              " 'Ruby',\n",
              " 'Python',\n",
              " 'Ruby',\n",
              " 'Python',\n",
              " 'Python',\n",
              " 'Python',\n",
              " 'Python']"
            ]
          },
          "metadata": {},
          "execution_count": 24
        }
      ],
      "source": [
        "import random\n",
        "\n",
        "def PeoplePreferences(p=p, q=q, n=n):\n",
        "    return random.choices(('Python', 'Ruby'), (p, q), k=n)\n",
        "\n",
        "PeoplePreferences(n=15)"
      ]
    },
    {
      "cell_type": "markdown",
      "id": "db6436be-43a6-47d4-8005-32e8873d59bc",
      "metadata": {
        "id": "db6436be-43a6-47d4-8005-32e8873d59bc"
      },
      "source": [
        "Spočtěte \"pythonisty\""
      ]
    },
    {
      "cell_type": "code",
      "execution_count": 25,
      "id": "7b972a56-f0ff-4787-b7d0-537896cd9c3b",
      "metadata": {
        "id": "7b972a56-f0ff-4787-b7d0-537896cd9c3b",
        "outputId": "44688ad3-7939-4649-a5b1-e1b8dd22208c",
        "colab": {
          "base_uri": "https://localhost:8080/"
        }
      },
      "outputs": [
        {
          "output_type": "execute_result",
          "data": {
            "text/plain": [
              "488"
            ]
          },
          "metadata": {},
          "execution_count": 25
        }
      ],
      "source": [
        "def pythonists(all):\n",
        "    return all.count('Python')\n",
        "\n",
        "pythonists(PeoplePreferences())"
      ]
    },
    {
      "cell_type": "markdown",
      "id": "ea95ee6f-3bdf-4b82-b348-3fb94459cae3",
      "metadata": {
        "id": "ea95ee6f-3bdf-4b82-b348-3fb94459cae3"
      },
      "source": [
        "Simulujte opakovaně a sledujte, kdy se \"vejdou\""
      ]
    },
    {
      "cell_type": "code",
      "execution_count": 30,
      "id": "46ac6478-8eb6-4569-ba28-524fbc01ced3",
      "metadata": {
        "id": "46ac6478-8eb6-4569-ba28-524fbc01ced3",
        "outputId": "2831f2c3-48ec-4f16-f9dd-f2e58c3cfb61",
        "colab": {
          "base_uri": "https://localhost:8080/"
        }
      },
      "outputs": [
        {
          "output_type": "execute_result",
          "data": {
            "text/plain": [
              "0.8435"
            ]
          },
          "metadata": {},
          "execution_count": 30
        }
      ],
      "source": [
        "from statistics import mean\n",
        "\n",
        "# random.seed(8675309)\n",
        "\n",
        "def MonteCarloSim():\n",
        "    return pythonists(PeoplePreferences())\n",
        "\n",
        "mean(MonteCarloSim() <= k for i in range(10_000))"
      ]
    },
    {
      "cell_type": "markdown",
      "id": "e2ee230c-e5ef-430d-831b-0ce1ce335e12",
      "metadata": {
        "id": "e2ee230c-e5ef-430d-831b-0ce1ce335e12"
      },
      "source": [
        "A teď matematický výpočet"
      ]
    },
    {
      "cell_type": "code",
      "execution_count": 31,
      "id": "277697fd-8dea-48df-b73e-9d63d567b7bf",
      "metadata": {
        "id": "277697fd-8dea-48df-b73e-9d63d567b7bf",
        "outputId": "b0241227-dfc4-481b-84c7-e1159793ff9e",
        "colab": {
          "base_uri": "https://localhost:8080/"
        }
      },
      "outputs": [
        {
          "output_type": "execute_result",
          "data": {
            "text/plain": [
              "0.8402"
            ]
          },
          "metadata": {},
          "execution_count": 31
        }
      ],
      "source": [
        "# Approximation using the cumulative normal distribution\n",
        "from math import sqrt\n",
        "model = NormalDist(mu=n*p, sigma=sqrt(n*p*q))\n",
        "round(model.cdf(k + 0.5), 4)"
      ]
    },
    {
      "cell_type": "code",
      "execution_count": null,
      "id": "9e2ba8e2-8140-470d-8cc8-11928551e939",
      "metadata": {
        "id": "9e2ba8e2-8140-470d-8cc8-11928551e939"
      },
      "outputs": [],
      "source": []
    },
    {
      "cell_type": "code",
      "execution_count": null,
      "id": "072b9f51-7f63-4823-a20b-b0268028ba67",
      "metadata": {
        "id": "072b9f51-7f63-4823-a20b-b0268028ba67"
      },
      "outputs": [],
      "source": []
    },
    {
      "cell_type": "markdown",
      "id": "6fcfefca-53d1-45f4-929e-be44e022c1fe",
      "metadata": {
        "id": "6fcfefca-53d1-45f4-929e-be44e022c1fe"
      },
      "source": [
        "## Klasifikátor"
      ]
    },
    {
      "cell_type": "markdown",
      "id": "64f43d9f-c459-4537-ab30-877051f15697",
      "metadata": {
        "id": "64f43d9f-c459-4537-ab30-877051f15697"
      },
      "source": [
        "Máme vstupní data o fyziologických atributech (výška, váha, velikost nohy). Cílem je rozhodnout podle naměřených atributů o pohlaví osoby."
      ]
    },
    {
      "cell_type": "code",
      "execution_count": 32,
      "id": "a6623ddf-e3f0-4d3d-8d81-038f05b9fa8a",
      "metadata": {
        "id": "a6623ddf-e3f0-4d3d-8d81-038f05b9fa8a"
      },
      "outputs": [],
      "source": [
        "height_male = NormalDist.from_samples([6, 5.92, 5.58, 5.92])\n",
        "height_female = NormalDist.from_samples([5, 5.5, 5.42, 5.75])\n",
        "weight_male = NormalDist.from_samples([180, 190, 170, 165])\n",
        "weight_female = NormalDist.from_samples([100, 150, 130, 150])\n",
        "foot_size_male = NormalDist.from_samples([12, 11, 12, 10])\n",
        "foot_size_female = NormalDist.from_samples([6, 8, 7, 9])"
      ]
    },
    {
      "cell_type": "code",
      "execution_count": 33,
      "id": "fe6a158d-eafc-435a-91e7-196ecc75e93f",
      "metadata": {
        "id": "fe6a158d-eafc-435a-91e7-196ecc75e93f"
      },
      "outputs": [],
      "source": [
        "def simdata(nd, count=10000):\n",
        "    x = nd.samples(count)\n",
        "    x.sort()\n",
        "    y = [nd.pdf(i) for i in x]\n",
        "    return x, y"
      ]
    },
    {
      "cell_type": "code",
      "execution_count": 34,
      "id": "75cf89c5-38f1-47f9-8e85-4eb1ae5d1cbc",
      "metadata": {
        "id": "75cf89c5-38f1-47f9-8e85-4eb1ae5d1cbc",
        "outputId": "e5a82363-2aca-4029-ea89-40efe3fd0024",
        "colab": {
          "base_uri": "https://localhost:8080/",
          "height": 352
        }
      },
      "outputs": [
        {
          "output_type": "execute_result",
          "data": {
            "text/plain": [
              "[<matplotlib.lines.Line2D at 0x78658c9e5b70>,\n",
              " <matplotlib.lines.Line2D at 0x78658c9e6620>]"
            ]
          },
          "metadata": {},
          "execution_count": 34
        },
        {
          "output_type": "display_data",
          "data": {
            "text/plain": [
              "<Figure size 1500x500 with 3 Axes>"
            ],
            "image/png": "[encoded data removed]"
          },
          "metadata": {}
        }
      ],
      "source": [
        "import matplotlib.pyplot as plt\n",
        "\n",
        "fig, (ax1, ax2, ax3) = plt.subplots(1, 3, figsize=(15, 5))\n",
        "\n",
        "height_male = NormalDist.from_samples([6, 5.92, 5.58, 5.92])\n",
        "height_female = NormalDist.from_samples([5, 5.5, 5.42, 5.75])\n",
        "weight_male = NormalDist.from_samples([180, 190, 170, 165])\n",
        "weight_female = NormalDist.from_samples([100, 150, 130, 150])\n",
        "foot_size_male = NormalDist.from_samples([12, 11, 12, 10])\n",
        "foot_size_female = NormalDist.from_samples([6, 8, 7, 9])\n",
        "\n",
        "mhx, mhy = simdata(height_male)\n",
        "mwx, mwy = simdata(weight_male)\n",
        "mfx, mfy = simdata(foot_size_male)\n",
        "\n",
        "fhx, fhy = simdata(height_female)\n",
        "fwx, fwy = simdata(weight_female)\n",
        "ffx, ffy = simdata(foot_size_female)\n",
        "\n",
        "ax1.plot(mhx, mhy, fhx, fhy)\n",
        "ax2.plot(mwx, mwy, fwx, fwy)\n",
        "ax3.plot(mfx, mfy, ffx, ffy)"
      ]
    },
    {
      "cell_type": "code",
      "execution_count": 36,
      "id": "a6df5fc9-39cf-4d64-a365-456520ebe9e0",
      "metadata": {
        "id": "a6df5fc9-39cf-4d64-a365-456520ebe9e0"
      },
      "outputs": [],
      "source": [
        "ht = 6.0        # height\n",
        "wt = 130        # weight\n",
        "fs = 8          # foot size"
      ]
    },
    {
      "cell_type": "code",
      "execution_count": 37,
      "id": "e4186472-0e24-46c6-b694-8bdbf1cee16b",
      "metadata": {
        "id": "e4186472-0e24-46c6-b694-8bdbf1cee16b",
        "outputId": "d39502da-68dc-43a7-aed1-99fddb66941d",
        "colab": {
          "base_uri": "https://localhost:8080/"
        }
      },
      "outputs": [
        {
          "output_type": "stream",
          "name": "stdout",
          "text": [
            "male 1.5788831832641037\n",
            "female 0.22345872684481594\n"
          ]
        }
      ],
      "source": [
        "print(\"male\", height_male.pdf(ht))\n",
        "print(\"female\", height_female.pdf(ht))"
      ]
    },
    {
      "cell_type": "code",
      "execution_count": 38,
      "id": "df2e8f1b-40cc-4123-a604-82577bea3ba5",
      "metadata": {
        "id": "df2e8f1b-40cc-4123-a604-82577bea3ba5",
        "outputId": "e5e8603d-d945-4e5f-9c59-be5908897d4f",
        "colab": {
          "base_uri": "https://localhost:8080/"
        }
      },
      "outputs": [
        {
          "output_type": "stream",
          "name": "stdout",
          "text": [
            "male 5.986743024812152e-06\n",
            "female 0.01678929788990836\n"
          ]
        }
      ],
      "source": [
        "print(\"male\", weight_male.pdf(wt))\n",
        "print(\"female\", weight_female.pdf(wt))"
      ]
    },
    {
      "cell_type": "code",
      "execution_count": 39,
      "id": "2be7fd03-4255-46b6-af05-ac5a66b2c5a5",
      "metadata": {
        "id": "2be7fd03-4255-46b6-af05-ac5a66b2c5a5",
        "outputId": "5f185721-94a7-4735-87d8-10a482bcaceb",
        "colab": {
          "base_uri": "https://localhost:8080/"
        }
      },
      "outputs": [
        {
          "output_type": "stream",
          "name": "stdout",
          "text": [
            "male 0.0013112210442223463\n",
            "female 0.2866906998910189\n"
          ]
        }
      ],
      "source": [
        "print(\"male\", foot_size_male.pdf(fs))\n",
        "print(\"female\", foot_size_female.pdf(fs))"
      ]
    },
    {
      "cell_type": "code",
      "execution_count": 40,
      "id": "cdd0ae81-b86b-4046-becd-fbe01e887727",
      "metadata": {
        "id": "cdd0ae81-b86b-4046-becd-fbe01e887727",
        "outputId": "8f5096d1-b076-4123-b853-31f04f835e86",
        "colab": {
          "base_uri": "https://localhost:8080/"
        }
      },
      "outputs": [
        {
          "output_type": "stream",
          "name": "stdout",
          "text": [
            "male 1.2394143687756186e-08\n",
            "female 0.0010755818367260042\n"
          ]
        }
      ],
      "source": [
        "male = (height_male.pdf(ht) * weight_male.pdf(wt) * foot_size_male.pdf(fs))\n",
        "female = (height_female.pdf(ht) * weight_female.pdf(wt) * foot_size_female.pdf(fs))\n",
        "print(\"male\", male)\n",
        "print(\"female\", female)\n"
      ]
    },
    {
      "cell_type": "code",
      "execution_count": 41,
      "id": "a85aac97-0ea4-442f-8e22-6a9cb8188349",
      "metadata": {
        "id": "a85aac97-0ea4-442f-8e22-6a9cb8188349",
        "outputId": "c2a1cb80-f81a-451b-9a74-6de9391d3534",
        "colab": {
          "base_uri": "https://localhost:8080/",
          "height": 35
        }
      },
      "outputs": [
        {
          "output_type": "execute_result",
          "data": {
            "text/plain": [
              "'female'"
            ],
            "application/vnd.google.colaboratory.intrinsic+json": {
              "type": "string"
            }
          },
          "metadata": {},
          "execution_count": 41
        }
      ],
      "source": [
        "'male' if male > female else 'female'"
      ]
    },
    {
      "cell_type": "code",
      "execution_count": null,
      "id": "1b2ff1a7-d916-410b-8b3c-b6afdcfed3d5",
      "metadata": {
        "id": "1b2ff1a7-d916-410b-8b3c-b6afdcfed3d5"
      },
      "outputs": [],
      "source": []
    }
  ],
  "metadata": {
    "kernelspec": {
      "display_name": "Python 3 (ipykernel)",
      "language": "python",
      "name": "python3"
    },
    "language_info": {
      "codemirror_mode": {
        "name": "ipython",
        "version": 3
      },
      "file_extension": ".py",
      "mimetype": "text/x-python",
      "name": "python",
      "nbconvert_exporter": "python",
      "pygments_lexer": "ipython3",
      "version": "3.10.6"
    },
    "toc-autonumbering": true,
    "colab": {
      "provenance": [],
      "toc_visible": true,
      "include_colab_link": true
    }
  },
  "nbformat": 4,
  "nbformat_minor": 5
}