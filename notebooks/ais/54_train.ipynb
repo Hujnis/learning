{
 "cells": [
  {
   "cell_type": "markdown",
   "id": "83122453-f078-4dd5-a0e3-f14372e1d80b",
   "metadata": {},
   "source": [
    "# Trénování a validace"
   ]
  },
  {
   "cell_type": "markdown",
   "id": "26957a37-a083-4b3b-8ba4-280d2d49f2b9",
   "metadata": {},
   "source": [
    "## Datová sada"
   ]
  },
  {
   "cell_type": "code",
   "execution_count": null,
   "id": "aa500dc0-3e52-4229-9248-9c61d60cd3a6",
   "metadata": {},
   "outputs": [],
   "source": []
  },
  {
   "cell_type": "markdown",
   "id": "f0586372-dda6-42da-9629-0c563745d125",
   "metadata": {},
   "source": [
    "### Raw (surová data)"
   ]
  },
  {
   "cell_type": "code",
   "execution_count": 1,
   "id": "87f2a748-b1d6-4a41-9e36-33fcb6741bfd",
   "metadata": {},
   "outputs": [
    {
     "name": "stdout",
     "output_type": "stream",
     "text": [
      "18.0   8   307.0      130.0      3504.      12.0   70  1\t\"chevrolet chevelle malibu\"\n",
      "15.0   8   350.0      165.0      3693.      11.5   70  1\t\"buick skylark 320\"\n",
      "18.0   8   318.0      150.0      3436.      11.0   70  1\t\"plymouth satellite\"\n",
      "16.0   8   304.0      150.0      3433.      12.0   70  1\t\"amc rebel sst\"\n",
      "17.0   8   302.0      140.0      3449.      10.5   70  1\t\"ford torino\"\n",
      "15.0   8   429.0      198.0      4341.      10.0   70  1\t\"ford galaxie 500\"\n",
      "14.0   8   454.0      220.0      4354.       9.0   70  1\t\"chevrolet impala\"\n",
      "14.0   8   440.0      215.0      4312.       8.5   70  1\t\"plymouth fury iii\"\n",
      "14.0   8   455.0      225.0      4425.      10.0   70  1\t\"pontiac catalina\"\n",
      "15.0   8   390.0      190.0      3850.       8.5   70  1\t\"amc ambassador dpl\"\n",
      "15.0   8   383.0      170.0      3563.      10.0   70  1\t\"dodge challenger se\"\n",
      "14.0   8   340.0      160.0      3609.       8.0   70  1\t\"plymouth 'cuda 340\"\n",
      "15.0   8   400.0      150.0      3761.       9.5   70  1\t\"chevrolet monte ca\n"
     ]
    }
   ],
   "source": [
    "import aiohttp\n",
    "url = \"https://archive.ics.uci.edu/ml/machine-learning-databases/auto-mpg/auto-mpg.data\"\n",
    "\n",
    "async with aiohttp.ClientSession() as session:\n",
    "    async with session.get(url) as resp:\n",
    "        # print(resp.status)\n",
    "        textresponse = await resp.text()\n",
    "print(textresponse[:1000])"
   ]
  },
  {
   "cell_type": "markdown",
   "id": "e9a8cc0f-d02e-4322-a33d-fd9e93ffd3cb",
   "metadata": {},
   "source": [
    "### Reformat"
   ]
  },
  {
   "cell_type": "code",
   "execution_count": 2,
   "id": "348325a0-26d8-4bdc-9611-a26db40bf79e",
   "metadata": {},
   "outputs": [
    {
     "name": "stdout",
     "output_type": "stream",
     "text": [
      "18.0 8 307.0 130.0 3504. 12.0 70 1 \"chevrolet chevelle malibu\"\n",
      "15.0 8 350.0 165.0 3693. 11.5 70 1 \"buick skylark 320\"\n",
      "18.0 8 318.0 150.0 3436. 11.0 70 1 \"plymouth satellite\"\n",
      "16.0 8 304.0 150.0 3433. 12.0 70 1 \"amc rebel sst\"\n",
      "17.0 8 302.0 140.0 3449. 10.5 70 1 \"ford torino\"\n",
      "15.0 8 429.0 198.0 4341. 10.0 70 1 \"ford galaxie 500\"\n",
      "14.0 8 454.0 220.0 4354. 9.0 70 1 \"chevrolet impala\"\n",
      "14.0 8 440.0 215.0 4312. 8.5 70 1 \"plymouth fury iii\"\n",
      "14.0 8 455.0 225.0 4425. 10.0 70 1 \"pontiac catalina\"\n",
      "15.0 8 390.0 190.0 3850. 8.5 70 1 \"amc ambassador dpl\"\n",
      "15.0 8 383.0 170.0 3563. 10.0 70 1 \"dodge challenger se\"\n",
      "14.0 8 340.0 160.0 3609. 8.0 70 1 \"plymouth 'cuda 340\"\n",
      "15.0 8 400.0 150.0 3761. 9.5 70 1 \"chevrolet monte carlo\"\n",
      "14.0 8 455.0 225.0 3086. 10.0 70 1 \"buick estate wagon (sw)\"\n",
      "24.0 4 113.0 95.00 2372. 15.0 70 3 \"toyota corona mark ii\"\n",
      "22.0 6 198.0 95.00 2833. 15.5 70 1 \"plymouth duster\"\n",
      "18.0 6 199.0 97.00 2774. 15.5 70 1 \"amc hornet\"\n",
      "21.0 6 200.0 85.00 2587. 16.0 70 1 \"ford maverick\"\n",
      "27.0 4 97.00 8\n"
     ]
    }
   ],
   "source": [
    "import re\n",
    "textresponse = re.sub(' +', ' ', textresponse)\n",
    "textresponse = re.sub('\\t', ' ', textresponse)\n",
    "print(textresponse[:1000])"
   ]
  },
  {
   "cell_type": "markdown",
   "id": "c73b1341-8511-46fa-9dda-1b79d2307bd4",
   "metadata": {},
   "source": [
    "### Načtení do Pandas"
   ]
  },
  {
   "cell_type": "code",
   "execution_count": 3,
   "id": "60ca34c6-c4dc-417c-8198-8d056c1806ea",
   "metadata": {},
   "outputs": [
    {
     "data": {
      "text/html": [
       "<div>\n",
       "<style scoped>\n",
       "    .dataframe tbody tr th:only-of-type {\n",
       "        vertical-align: middle;\n",
       "    }\n",
       "\n",
       "    .dataframe tbody tr th {\n",
       "        vertical-align: top;\n",
       "    }\n",
       "\n",
       "    .dataframe thead th {\n",
       "        text-align: right;\n",
       "    }\n",
       "</style>\n",
       "<table border=\"1\" class=\"dataframe\">\n",
       "  <thead>\n",
       "    <tr style=\"text-align: right;\">\n",
       "      <th></th>\n",
       "      <th>mpg</th>\n",
       "      <th>cylinders</th>\n",
       "      <th>displacement</th>\n",
       "      <th>...</th>\n",
       "      <th>year</th>\n",
       "      <th>origin</th>\n",
       "      <th>name</th>\n",
       "    </tr>\n",
       "  </thead>\n",
       "  <tbody>\n",
       "    <tr>\n",
       "      <th>0</th>\n",
       "      <td>18.0</td>\n",
       "      <td>8</td>\n",
       "      <td>307.0</td>\n",
       "      <td>...</td>\n",
       "      <td>70</td>\n",
       "      <td>1</td>\n",
       "      <td>chevrolet chevelle malibu</td>\n",
       "    </tr>\n",
       "    <tr>\n",
       "      <th>1</th>\n",
       "      <td>15.0</td>\n",
       "      <td>8</td>\n",
       "      <td>350.0</td>\n",
       "      <td>...</td>\n",
       "      <td>70</td>\n",
       "      <td>1</td>\n",
       "      <td>buick skylark 320</td>\n",
       "    </tr>\n",
       "    <tr>\n",
       "      <th>2</th>\n",
       "      <td>18.0</td>\n",
       "      <td>8</td>\n",
       "      <td>318.0</td>\n",
       "      <td>...</td>\n",
       "      <td>70</td>\n",
       "      <td>1</td>\n",
       "      <td>plymouth satellite</td>\n",
       "    </tr>\n",
       "    <tr>\n",
       "      <th>3</th>\n",
       "      <td>16.0</td>\n",
       "      <td>8</td>\n",
       "      <td>304.0</td>\n",
       "      <td>...</td>\n",
       "      <td>70</td>\n",
       "      <td>1</td>\n",
       "      <td>amc rebel sst</td>\n",
       "    </tr>\n",
       "    <tr>\n",
       "      <th>4</th>\n",
       "      <td>17.0</td>\n",
       "      <td>8</td>\n",
       "      <td>302.0</td>\n",
       "      <td>...</td>\n",
       "      <td>70</td>\n",
       "      <td>1</td>\n",
       "      <td>ford torino</td>\n",
       "    </tr>\n",
       "    <tr>\n",
       "      <th>...</th>\n",
       "      <td>...</td>\n",
       "      <td>...</td>\n",
       "      <td>...</td>\n",
       "      <td>...</td>\n",
       "      <td>...</td>\n",
       "      <td>...</td>\n",
       "      <td>...</td>\n",
       "    </tr>\n",
       "    <tr>\n",
       "      <th>393</th>\n",
       "      <td>27.0</td>\n",
       "      <td>4</td>\n",
       "      <td>140.0</td>\n",
       "      <td>...</td>\n",
       "      <td>82</td>\n",
       "      <td>1</td>\n",
       "      <td>ford mustang gl</td>\n",
       "    </tr>\n",
       "    <tr>\n",
       "      <th>394</th>\n",
       "      <td>44.0</td>\n",
       "      <td>4</td>\n",
       "      <td>97.0</td>\n",
       "      <td>...</td>\n",
       "      <td>82</td>\n",
       "      <td>2</td>\n",
       "      <td>vw pickup</td>\n",
       "    </tr>\n",
       "    <tr>\n",
       "      <th>395</th>\n",
       "      <td>32.0</td>\n",
       "      <td>4</td>\n",
       "      <td>135.0</td>\n",
       "      <td>...</td>\n",
       "      <td>82</td>\n",
       "      <td>1</td>\n",
       "      <td>dodge rampage</td>\n",
       "    </tr>\n",
       "    <tr>\n",
       "      <th>396</th>\n",
       "      <td>28.0</td>\n",
       "      <td>4</td>\n",
       "      <td>120.0</td>\n",
       "      <td>...</td>\n",
       "      <td>82</td>\n",
       "      <td>1</td>\n",
       "      <td>ford ranger</td>\n",
       "    </tr>\n",
       "    <tr>\n",
       "      <th>397</th>\n",
       "      <td>31.0</td>\n",
       "      <td>4</td>\n",
       "      <td>119.0</td>\n",
       "      <td>...</td>\n",
       "      <td>82</td>\n",
       "      <td>1</td>\n",
       "      <td>chevy s-10</td>\n",
       "    </tr>\n",
       "  </tbody>\n",
       "</table>\n",
       "<p>398 rows × 9 columns</p>\n",
       "</div>"
      ],
      "text/plain": [
       "      mpg  cylinders  displacement  ... year  origin  \\\n",
       "0    18.0          8         307.0  ...   70       1   \n",
       "1    15.0          8         350.0  ...   70       1   \n",
       "2    18.0          8         318.0  ...   70       1   \n",
       "3    16.0          8         304.0  ...   70       1   \n",
       "4    17.0          8         302.0  ...   70       1   \n",
       "..    ...        ...           ...  ...  ...     ...   \n",
       "393  27.0          4         140.0  ...   82       1   \n",
       "394  44.0          4          97.0  ...   82       2   \n",
       "395  32.0          4         135.0  ...   82       1   \n",
       "396  28.0          4         120.0  ...   82       1   \n",
       "397  31.0          4         119.0  ...   82       1   \n",
       "\n",
       "                          name  \n",
       "0    chevrolet chevelle malibu  \n",
       "1            buick skylark 320  \n",
       "2           plymouth satellite  \n",
       "3                amc rebel sst  \n",
       "4                  ford torino  \n",
       "..                         ...  \n",
       "393            ford mustang gl  \n",
       "394                  vw pickup  \n",
       "395              dodge rampage  \n",
       "396                ford ranger  \n",
       "397                 chevy s-10  \n",
       "\n",
       "[398 rows x 9 columns]"
      ]
     },
     "execution_count": 3,
     "metadata": {},
     "output_type": "execute_result"
    }
   ],
   "source": [
    "import pandas as pd\n",
    "from io import StringIO \n",
    "\n",
    "pd.set_option(\"display.max_columns\", 7)\n",
    "df = pd.read_csv(StringIO(textresponse), sep=\" \", names=[\"mpg\", \"cylinders\", \"displacement\", \"horsepower\", \"weight\", \"acceleration\", \"year\", \"origin\", \"name\"])\n",
    "df"
   ]
  },
  {
   "cell_type": "markdown",
   "id": "2b394f2e-5bd0-4a6f-9d38-5f3fef30eada",
   "metadata": {},
   "source": [
    "## Spojité a kategorické proměnné"
   ]
  },
  {
   "cell_type": "markdown",
   "id": "2ce14de2-f829-4ebb-8219-be7c66c8d556",
   "metadata": {},
   "source": [
    "Číslená data\n"
   ]
  }
 ],
 "metadata": {
  "kernelspec": {
   "display_name": "Python 3 (ipykernel)",
   "language": "python",
   "name": "python3"
  },
  "language_info": {
   "codemirror_mode": {
    "name": "ipython",
    "version": 3
   },
   "file_extension": ".py",
   "mimetype": "text/x-python",
   "name": "python",
   "nbconvert_exporter": "python",
   "pygments_lexer": "ipython3",
   "version": "3.10.6"
  }
 },
 "nbformat": 4,
 "nbformat_minor": 5
}
