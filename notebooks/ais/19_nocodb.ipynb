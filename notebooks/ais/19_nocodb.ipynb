{
 "cells": [
  {
   "cell_type": "markdown",
   "id": "b4e0af23-308e-45d4-8374-717d3a21261c",
   "metadata": {},
   "source": [
    "# NocoDB"
   ]
  },
  {
   "cell_type": "markdown",
   "id": "b3ec04e4-79f9-4641-93fa-95ede385db92",
   "metadata": {},
   "source": [
    "## Instalace"
   ]
  },
  {
   "cell_type": "markdown",
   "id": "38fdb0ee-3935-423c-a403-2cdb2123b720",
   "metadata": {},
   "source": [
    "```shell\n",
    "docker run -d --name nocodb-postgres -v \"$(pwd)\"/nocodb:/usr/app/data/ -p 8080:8080 -e NC_DB=\"pg://postgres:5432?u=root&p=example&d=nocodb\" -e NC_AUTH_JWT_SECRET=\"569a1821-0a93-45e8-87ab-eb857f20a010\" --net \"learning_default\" nocodb/nocodb:latest\n",
    "```"
   ]
  },
  {
   "cell_type": "code",
   "execution_count": null,
   "id": "3ae4812e-ea6e-448a-9173-422a2cb5e551",
   "metadata": {},
   "outputs": [],
   "source": []
  }
 ],
 "metadata": {
  "kernelspec": {
   "display_name": "Python 3 (ipykernel)",
   "language": "python",
   "name": "python3"
  },
  "language_info": {
   "codemirror_mode": {
    "name": "ipython",
    "version": 3
   },
   "file_extension": ".py",
   "mimetype": "text/x-python",
   "name": "python",
   "nbconvert_exporter": "python",
   "pygments_lexer": "ipython3",
   "version": "3.9.10"
  }
 },
 "nbformat": 4,
 "nbformat_minor": 5
}
