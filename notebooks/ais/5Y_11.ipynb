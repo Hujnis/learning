{
 "cells": [
  {
   "cell_type": "markdown",
   "id": "cb12139b-dbd4-4bfb-9f2e-5af43f2485b6",
   "metadata": {},
   "source": [
    "thanks to https://github.com/jeffheaton/app_deep_learning/blob/main/t81_558_class_11_1_hf.ipynb"
   ]
  },
  {
   "cell_type": "markdown",
   "id": "21b8791f-5160-455c-8d51-f535b0cf42f1",
   "metadata": {},
   "source": [
    "# Hugging face"
   ]
  },
  {
   "cell_type": "markdown",
   "id": "5e085677-a0dc-475c-8657-f067faaac100",
   "metadata": {},
   "source": [
    "https://huggingface.co/"
   ]
  },
  {
   "cell_type": "markdown",
   "id": "f0097240-929a-4210-bf78-cc5a1ccc0eba",
   "metadata": {},
   "source": [
    "Jde o společnost založenou v roce 2016. \n",
    "Aktuálně poskytuje podporu pro prakticky všechny faktory práce s UI / AI.\n",
    "Jedná se mimo jiné o běh úloh (např. trénování modelů).\n",
    "Poskytuje také rozsáhlé úložiště, jehož prostřednictvím lidé z oboru sdílí výstupy své práce.\n",
    "\n",
    "Neopomenutelnou součástí jsou předtrénované modely (NN). "
   ]
  },
  {
   "cell_type": "markdown",
   "id": "4222ff57-8ad2-44bd-bf20-dc34c1fa064d",
   "metadata": {},
   "source": [
    "## Instalace podpůrných knihoven"
   ]
  },
  {
   "cell_type": "code",
   "execution_count": 1,
   "id": "1dbec8e6-8eaf-42b7-b709-608aa1163443",
   "metadata": {},
   "outputs": [
    {
     "name": "stdout",
     "output_type": "stream",
     "text": [
      "Requirement already satisfied: transformers in /opt/conda/lib/python3.10/site-packages (4.33.3)\n",
      "Requirement already satisfied: numpy>=1.17 in /opt/conda/lib/python3.10/site-packages (from transformers) (1.23.3)\n",
      "Requirement already satisfied: requests in /opt/conda/lib/python3.10/site-packages (from transformers) (2.28.1)\n",
      "Requirement already satisfied: regex!=2019.12.17 in /opt/conda/lib/python3.10/site-packages (from transformers) (2023.8.8)\n",
      "Requirement already satisfied: tokenizers!=0.11.3,<0.14,>=0.11.1 in /opt/conda/lib/python3.10/site-packages (from transformers) (0.13.3)\n",
      "Requirement already satisfied: huggingface-hub<1.0,>=0.15.1 in /opt/conda/lib/python3.10/site-packages (from transformers) (0.17.3)\n",
      "Requirement already satisfied: safetensors>=0.3.1 in /opt/conda/lib/python3.10/site-packages (from transformers) (0.3.3)\n",
      "Requirement already satisfied: filelock in /opt/conda/lib/python3.10/site-packages (from transformers) (3.12.4)\n",
      "Requirement already satisfied: pyyaml>=5.1 in /opt/conda/lib/python3.10/site-packages (from transformers) (6.0)\n",
      "Requirement already satisfied: tqdm>=4.27 in /opt/conda/lib/python3.10/site-packages (from transformers) (4.64.1)\n",
      "Requirement already satisfied: packaging>=20.0 in /opt/conda/lib/python3.10/site-packages (from transformers) (21.3)\n",
      "Requirement already satisfied: fsspec in /opt/conda/lib/python3.10/site-packages (from huggingface-hub<1.0,>=0.15.1->transformers) (2023.6.0)\n",
      "Requirement already satisfied: typing-extensions>=3.7.4.3 in /opt/conda/lib/python3.10/site-packages (from huggingface-hub<1.0,>=0.15.1->transformers) (4.8.0)\n",
      "Requirement already satisfied: pyparsing!=3.0.5,>=2.0.2 in /opt/conda/lib/python3.10/site-packages (from packaging>=20.0->transformers) (3.0.9)\n",
      "Requirement already satisfied: idna<4,>=2.5 in /opt/conda/lib/python3.10/site-packages (from requests->transformers) (3.4)\n",
      "Requirement already satisfied: urllib3<1.27,>=1.21.1 in /opt/conda/lib/python3.10/site-packages (from requests->transformers) (1.26.11)\n",
      "Requirement already satisfied: charset-normalizer<3,>=2 in /opt/conda/lib/python3.10/site-packages (from requests->transformers) (2.1.1)\n",
      "Requirement already satisfied: certifi>=2017.4.17 in /opt/conda/lib/python3.10/site-packages (from requests->transformers) (2022.9.24)\n"
     ]
    }
   ],
   "source": [
    "!pip install transformers"
   ]
  },
  {
   "cell_type": "markdown",
   "id": "6bd44715-2f23-49e4-8fcb-41f11144150a",
   "metadata": {},
   "source": [
    "## Aplikace - analýza sentimentu"
   ]
  },
  {
   "cell_type": "markdown",
   "id": "08f056b3-fb8c-46a1-9e5d-754e498cfc51",
   "metadata": {},
   "source": [
    "Analýza sentimentu je problém, který je spojen se zpracováním přirozeného jazyka, analýzy textu, počítačové lingvistiky a dalších oborů. \n",
    "Cílem je analyzovat emoční zabarvení mluvčího. \n",
    "V nejjednodušší verzi se jedná o binárné rozhodování, tedy zda es jedná o pozitivní či negativní tón.\n",
    "V případě podrobnější analýzy se stanovuje i míra tedy kategorizace (smutek, strach, radost, ...)"
   ]
  },
  {
   "cell_type": "code",
   "execution_count": 2,
   "id": "1982814a-e480-4139-952f-870612cc29f8",
   "metadata": {},
   "outputs": [],
   "source": [
    "# https://en.wikipedia.org/wiki/Sonnet_18\n",
    "\n",
    "text = \"\"\"\"\n",
    "Shall I compare thee to a summer’s day?\n",
    "Thou art more lovely and more temperate:\n",
    "Rough winds do shake the darling buds of May,\n",
    "And summer’s lease hath all too short a date:\n",
    "Sometime too hot the eye of heaven shines,\n",
    "And often is his gold complexion dimmed;\n",
    "And every fair from fair sometime declines,\n",
    "By chance, or nature’s changing course, untrimmed:\n",
    "But thy eternal summer shall not fade,\n",
    "Nor lose possession of that fair thou ow’st;\n",
    "Nor shall Death brag thou wander’st in his shade\n",
    "When in eternal lines to time thou grow’st:\n",
    "So long as men can breathe or eyes can see,\n",
    "So long lives this, and this gives life to thee.\n",
    "\"\"\""
   ]
  },
  {
   "cell_type": "markdown",
   "id": "e8d5dcc4-4e74-463d-90aa-468fae33b2b6",
   "metadata": {},
   "source": [
    "Pro zpracovanání textu je nutné připravit jednotlivé úkony a seřadit je do správné posloupnosti.\n",
    "Knihovna transformers of Hugging Face připravila tyto posloupnosti.\n",
    "V souvislosti s vytvořením jejich instance obvykle dochází k dodatečnému stahování dat."
   ]
  },
  {
   "cell_type": "code",
   "execution_count": 3,
   "id": "cdd46ebb-66c0-4fda-a649-c201770a70ff",
   "metadata": {},
   "outputs": [
    {
     "name": "stderr",
     "output_type": "stream",
     "text": [
      "2024-01-02 13:17:13.341983: I tensorflow/core/platform/cpu_feature_guard.cc:193] This TensorFlow binary is optimized with oneAPI Deep Neural Network Library (oneDNN) to use the following CPU instructions in performance-critical operations:  SSE4.1 SSE4.2 AVX AVX2 FMA\n",
      "To enable them in other operations, rebuild TensorFlow with the appropriate compiler flags.\n",
      "No model was supplied, defaulted to distilbert-base-uncased-finetuned-sst-2-english and revision af0f99b (https://huggingface.co/distilbert-base-uncased-finetuned-sst-2-english).\n",
      "Using a pipeline without specifying a model name and revision in production is not recommended.\n"
     ]
    },
    {
     "data": {
      "application/vnd.jupyter.widget-view+json": {
       "model_id": "c53c078cb8d64aa79fd94e4587b427d9",
       "version_major": 2,
       "version_minor": 0
      },
      "text/plain": [
       "Downloading config.json:   0%|          | 0.00/629 [00:00<?, ?B/s]"
      ]
     },
     "metadata": {},
     "output_type": "display_data"
    },
    {
     "data": {
      "application/vnd.jupyter.widget-view+json": {
       "model_id": "2e82b1dc47494fb18fc1c99127b9eb5d",
       "version_major": 2,
       "version_minor": 0
      },
      "text/plain": [
       "Downloading model.safetensors:   0%|          | 0.00/268M [00:00<?, ?B/s]"
      ]
     },
     "metadata": {},
     "output_type": "display_data"
    },
    {
     "data": {
      "application/vnd.jupyter.widget-view+json": {
       "model_id": "26c8f6299b1d4e699fa3e8cc2cc473db",
       "version_major": 2,
       "version_minor": 0
      },
      "text/plain": [
       "Downloading tokenizer_config.json:   0%|          | 0.00/48.0 [00:00<?, ?B/s]"
      ]
     },
     "metadata": {},
     "output_type": "display_data"
    },
    {
     "data": {
      "application/vnd.jupyter.widget-view+json": {
       "model_id": "b276033d585241be8441b2ef292fbb76",
       "version_major": 2,
       "version_minor": 0
      },
      "text/plain": [
       "Downloading vocab.txt:   0%|          | 0.00/232k [00:00<?, ?B/s]"
      ]
     },
     "metadata": {},
     "output_type": "display_data"
    }
   ],
   "source": [
    "import pandas as pd\n",
    "from transformers import pipeline\n",
    "\n",
    "classifier = pipeline(\"text-classification\")"
   ]
  },
  {
   "cell_type": "markdown",
   "id": "fea8d38e-18b5-4871-a5fa-82c3f2d648bb",
   "metadata": {},
   "source": [
    "Ve chvíli, kdy je posloupnost zpracování připravena, je její použití relativně triviální."
   ]
  },
  {
   "cell_type": "code",
   "execution_count": 4,
   "id": "b0325f35-b0c2-4a8c-826c-4c9cc2a4ba3b",
   "metadata": {},
   "outputs": [
    {
     "data": {
      "text/html": [
       "<div>\n",
       "<style scoped>\n",
       "    .dataframe tbody tr th:only-of-type {\n",
       "        vertical-align: middle;\n",
       "    }\n",
       "\n",
       "    .dataframe tbody tr th {\n",
       "        vertical-align: top;\n",
       "    }\n",
       "\n",
       "    .dataframe thead th {\n",
       "        text-align: right;\n",
       "    }\n",
       "</style>\n",
       "<table border=\"1\" class=\"dataframe\">\n",
       "  <thead>\n",
       "    <tr style=\"text-align: right;\">\n",
       "      <th></th>\n",
       "      <th>label</th>\n",
       "      <th>score</th>\n",
       "    </tr>\n",
       "  </thead>\n",
       "  <tbody>\n",
       "    <tr>\n",
       "      <th>0</th>\n",
       "      <td>POSITIVE</td>\n",
       "      <td>0.97725</td>\n",
       "    </tr>\n",
       "  </tbody>\n",
       "</table>\n",
       "</div>"
      ],
      "text/plain": [
       "      label    score\n",
       "0  POSITIVE  0.97725"
      ]
     },
     "execution_count": 4,
     "metadata": {},
     "output_type": "execute_result"
    }
   ],
   "source": [
    "outputs = classifier(text)\n",
    "pd.DataFrame(outputs)"
   ]
  },
  {
   "cell_type": "markdown",
   "id": "877210e2-94eb-4a9d-b0a4-6b0bb94a70f6",
   "metadata": {},
   "source": [
    "Výstupem analýzy sentimentu je konstatování, že zpracovávaný text je pozitvně laděný (0.97725)"
   ]
  },
  {
   "cell_type": "code",
   "execution_count": null,
   "id": "9d735e7f-e150-41e0-a5c5-e67cca1afabe",
   "metadata": {},
   "outputs": [],
   "source": []
  },
  {
   "cell_type": "markdown",
   "id": "c2adff82-329c-4d57-a1ab-085172c3ef00",
   "metadata": {},
   "source": [
    "## Určení kategorií entit (Entity Tagging)"
   ]
  },
  {
   "cell_type": "code",
   "execution_count": 5,
   "id": "88d97775-5c4f-4d53-b792-cfb7a3c3a857",
   "metadata": {},
   "outputs": [
    {
     "name": "stderr",
     "output_type": "stream",
     "text": [
      "No model was supplied, defaulted to dbmdz/bert-large-cased-finetuned-conll03-english and revision f2482bf (https://huggingface.co/dbmdz/bert-large-cased-finetuned-conll03-english).\n",
      "Using a pipeline without specifying a model name and revision in production is not recommended.\n"
     ]
    },
    {
     "data": {
      "application/vnd.jupyter.widget-view+json": {
       "model_id": "75450f1ff9ed4c84a4748d3e379aca66",
       "version_major": 2,
       "version_minor": 0
      },
      "text/plain": [
       "Downloading config.json:   0%|          | 0.00/998 [00:00<?, ?B/s]"
      ]
     },
     "metadata": {},
     "output_type": "display_data"
    },
    {
     "data": {
      "application/vnd.jupyter.widget-view+json": {
       "model_id": "80b10d85e37a4d3ab389d579ee25b424",
       "version_major": 2,
       "version_minor": 0
      },
      "text/plain": [
       "Downloading model.safetensors:   0%|          | 0.00/1.33G [00:00<?, ?B/s]"
      ]
     },
     "metadata": {},
     "output_type": "display_data"
    },
    {
     "name": "stderr",
     "output_type": "stream",
     "text": [
      "Some weights of the model checkpoint at dbmdz/bert-large-cased-finetuned-conll03-english were not used when initializing BertForTokenClassification: ['bert.pooler.dense.weight', 'bert.pooler.dense.bias']\n",
      "- This IS expected if you are initializing BertForTokenClassification from the checkpoint of a model trained on another task or with another architecture (e.g. initializing a BertForSequenceClassification model from a BertForPreTraining model).\n",
      "- This IS NOT expected if you are initializing BertForTokenClassification from the checkpoint of a model that you expect to be exactly identical (initializing a BertForSequenceClassification model from a BertForSequenceClassification model).\n"
     ]
    },
    {
     "data": {
      "application/vnd.jupyter.widget-view+json": {
       "model_id": "5bca2c7966ae4a29a0c31eb9fa32e67c",
       "version_major": 2,
       "version_minor": 0
      },
      "text/plain": [
       "Downloading tokenizer_config.json:   0%|          | 0.00/60.0 [00:00<?, ?B/s]"
      ]
     },
     "metadata": {},
     "output_type": "display_data"
    },
    {
     "data": {
      "application/vnd.jupyter.widget-view+json": {
       "model_id": "42cf80ca521443238990d43d13649100",
       "version_major": 2,
       "version_minor": 0
      },
      "text/plain": [
       "Downloading vocab.txt:   0%|          | 0.00/213k [00:00<?, ?B/s]"
      ]
     },
     "metadata": {},
     "output_type": "display_data"
    }
   ],
   "source": [
    "import pandas as pd\n",
    "from transformers import pipeline\n",
    "\n",
    "text2 = \"Abraham Lincoln was a president who lived in the United States.\"\n",
    "\n",
    "tagger = pipeline(\"ner\", aggregation_strategy=\"simple\")"
   ]
  },
  {
   "cell_type": "code",
   "execution_count": null,
   "id": "ab455d07-2c97-467e-8fdc-53d458bc0d5c",
   "metadata": {},
   "outputs": [],
   "source": []
  },
  {
   "cell_type": "code",
   "execution_count": 6,
   "id": "2364cf00-9d38-437a-a129-61b10982301e",
   "metadata": {},
   "outputs": [
    {
     "data": {
      "text/html": [
       "<div>\n",
       "<style scoped>\n",
       "    .dataframe tbody tr th:only-of-type {\n",
       "        vertical-align: middle;\n",
       "    }\n",
       "\n",
       "    .dataframe tbody tr th {\n",
       "        vertical-align: top;\n",
       "    }\n",
       "\n",
       "    .dataframe thead th {\n",
       "        text-align: right;\n",
       "    }\n",
       "</style>\n",
       "<table border=\"1\" class=\"dataframe\">\n",
       "  <thead>\n",
       "    <tr style=\"text-align: right;\">\n",
       "      <th></th>\n",
       "      <th>entity_group</th>\n",
       "      <th>score</th>\n",
       "      <th>word</th>\n",
       "      <th>start</th>\n",
       "      <th>end</th>\n",
       "    </tr>\n",
       "  </thead>\n",
       "  <tbody>\n",
       "    <tr>\n",
       "      <th>0</th>\n",
       "      <td>PER</td>\n",
       "      <td>0.998893</td>\n",
       "      <td>Abraham Lincoln</td>\n",
       "      <td>0</td>\n",
       "      <td>15</td>\n",
       "    </tr>\n",
       "    <tr>\n",
       "      <th>1</th>\n",
       "      <td>LOC</td>\n",
       "      <td>0.999651</td>\n",
       "      <td>United States</td>\n",
       "      <td>49</td>\n",
       "      <td>62</td>\n",
       "    </tr>\n",
       "  </tbody>\n",
       "</table>\n",
       "</div>"
      ],
      "text/plain": [
       "  entity_group     score             word  start  end\n",
       "0          PER  0.998893  Abraham Lincoln      0   15\n",
       "1          LOC  0.999651    United States     49   62"
      ]
     },
     "execution_count": 6,
     "metadata": {},
     "output_type": "execute_result"
    }
   ],
   "source": [
    "outputs = tagger(text2)\n",
    "pd.DataFrame(outputs)"
   ]
  },
  {
   "cell_type": "markdown",
   "id": "57847c79-e3a1-4f5e-96cf-861dcbbf3c6f",
   "metadata": {},
   "source": [
    "Výstupem analýzy v tomto případě je identifikace osoby (Abhraham Lincoln) a identifikace místa (United States).\n",
    "\n",
    "Lehce pozměněný výrok s vymyšlenými jmény a jeho analýza je uvedena níže."
   ]
  },
  {
   "cell_type": "code",
   "execution_count": 9,
   "id": "40659b6e-4fb0-4e0e-901a-940f79bbc50a",
   "metadata": {},
   "outputs": [
    {
     "data": {
      "text/html": [
       "<div>\n",
       "<style scoped>\n",
       "    .dataframe tbody tr th:only-of-type {\n",
       "        vertical-align: middle;\n",
       "    }\n",
       "\n",
       "    .dataframe tbody tr th {\n",
       "        vertical-align: top;\n",
       "    }\n",
       "\n",
       "    .dataframe thead th {\n",
       "        text-align: right;\n",
       "    }\n",
       "</style>\n",
       "<table border=\"1\" class=\"dataframe\">\n",
       "  <thead>\n",
       "    <tr style=\"text-align: right;\">\n",
       "      <th></th>\n",
       "      <th>entity_group</th>\n",
       "      <th>score</th>\n",
       "      <th>word</th>\n",
       "      <th>start</th>\n",
       "      <th>end</th>\n",
       "    </tr>\n",
       "  </thead>\n",
       "  <tbody>\n",
       "    <tr>\n",
       "      <th>0</th>\n",
       "      <td>PER</td>\n",
       "      <td>0.972770</td>\n",
       "      <td>Honza Swejk</td>\n",
       "      <td>0</td>\n",
       "      <td>11</td>\n",
       "    </tr>\n",
       "    <tr>\n",
       "      <th>1</th>\n",
       "      <td>ORG</td>\n",
       "      <td>0.891609</td>\n",
       "      <td>Novy Kakac</td>\n",
       "      <td>36</td>\n",
       "      <td>46</td>\n",
       "    </tr>\n",
       "  </tbody>\n",
       "</table>\n",
       "</div>"
      ],
      "text/plain": [
       "  entity_group     score         word  start  end\n",
       "0          PER  0.972770  Honza Swejk      0   11\n",
       "1          ORG  0.891609   Novy Kakac     36   46"
      ]
     },
     "execution_count": 9,
     "metadata": {},
     "output_type": "execute_result"
    }
   ],
   "source": [
    "text2a = \"Honza Swejk is torturing turists at Novy Kakac.\"\n",
    "outputs = tagger(text2a)\n",
    "pd.DataFrame(outputs)"
   ]
  },
  {
   "cell_type": "code",
   "execution_count": null,
   "id": "3203fcca-ebb6-41bf-b748-0a805df9374d",
   "metadata": {},
   "outputs": [],
   "source": []
  },
  {
   "cell_type": "markdown",
   "id": "4ccde020-7b65-4d56-857c-9580f70e48e4",
   "metadata": {},
   "source": [
    "## Získávání informací z textu (odpovědi na otázky)"
   ]
  },
  {
   "cell_type": "code",
   "execution_count": 10,
   "id": "99455dc4-d518-4a4c-aabb-714f0c2b16e1",
   "metadata": {},
   "outputs": [
    {
     "name": "stderr",
     "output_type": "stream",
     "text": [
      "No model was supplied, defaulted to distilbert-base-cased-distilled-squad and revision 626af31 (https://huggingface.co/distilbert-base-cased-distilled-squad).\n",
      "Using a pipeline without specifying a model name and revision in production is not recommended.\n"
     ]
    },
    {
     "data": {
      "application/vnd.jupyter.widget-view+json": {
       "model_id": "343d7d5bb1a14cb0b7e40a150ebead10",
       "version_major": 2,
       "version_minor": 0
      },
      "text/plain": [
       "Downloading config.json:   0%|          | 0.00/473 [00:00<?, ?B/s]"
      ]
     },
     "metadata": {},
     "output_type": "display_data"
    },
    {
     "data": {
      "application/vnd.jupyter.widget-view+json": {
       "model_id": "ab6681115f50494c88b9a3d3298453a7",
       "version_major": 2,
       "version_minor": 0
      },
      "text/plain": [
       "Downloading model.safetensors:   0%|          | 0.00/261M [00:00<?, ?B/s]"
      ]
     },
     "metadata": {},
     "output_type": "display_data"
    },
    {
     "data": {
      "application/vnd.jupyter.widget-view+json": {
       "model_id": "7a6dbafca2a24d6f9dceb4bc07c883a8",
       "version_major": 2,
       "version_minor": 0
      },
      "text/plain": [
       "Downloading tokenizer_config.json:   0%|          | 0.00/29.0 [00:00<?, ?B/s]"
      ]
     },
     "metadata": {},
     "output_type": "display_data"
    },
    {
     "data": {
      "application/vnd.jupyter.widget-view+json": {
       "model_id": "6f74edb70934464c9f256e2ab245ed9c",
       "version_major": 2,
       "version_minor": 0
      },
      "text/plain": [
       "Downloading vocab.txt:   0%|          | 0.00/213k [00:00<?, ?B/s]"
      ]
     },
     "metadata": {},
     "output_type": "display_data"
    },
    {
     "data": {
      "application/vnd.jupyter.widget-view+json": {
       "model_id": "7dc77563a1d24c58ba4e2f829e9cedbb",
       "version_major": 2,
       "version_minor": 0
      },
      "text/plain": [
       "Downloading tokenizer.json:   0%|          | 0.00/436k [00:00<?, ?B/s]"
      ]
     },
     "metadata": {},
     "output_type": "display_data"
    }
   ],
   "source": [
    "import pandas as pd\n",
    "from transformers import pipeline\n",
    "\n",
    "reader = pipeline(\"question-answering\")\n",
    "question = \"What now shall fade?\""
   ]
  },
  {
   "cell_type": "code",
   "execution_count": 11,
   "id": "281aa310-1e91-4eca-b64e-8bfe94a44b9e",
   "metadata": {},
   "outputs": [
    {
     "data": {
      "text/html": [
       "<div>\n",
       "<style scoped>\n",
       "    .dataframe tbody tr th:only-of-type {\n",
       "        vertical-align: middle;\n",
       "    }\n",
       "\n",
       "    .dataframe tbody tr th {\n",
       "        vertical-align: top;\n",
       "    }\n",
       "\n",
       "    .dataframe thead th {\n",
       "        text-align: right;\n",
       "    }\n",
       "</style>\n",
       "<table border=\"1\" class=\"dataframe\">\n",
       "  <thead>\n",
       "    <tr style=\"text-align: right;\">\n",
       "      <th></th>\n",
       "      <th>score</th>\n",
       "      <th>start</th>\n",
       "      <th>end</th>\n",
       "      <th>answer</th>\n",
       "    </tr>\n",
       "  </thead>\n",
       "  <tbody>\n",
       "    <tr>\n",
       "      <th>0</th>\n",
       "      <td>0.5032</td>\n",
       "      <td>362</td>\n",
       "      <td>376</td>\n",
       "      <td>eternal summer</td>\n",
       "    </tr>\n",
       "  </tbody>\n",
       "</table>\n",
       "</div>"
      ],
      "text/plain": [
       "    score  start  end          answer\n",
       "0  0.5032    362  376  eternal summer"
      ]
     },
     "execution_count": 11,
     "metadata": {},
     "output_type": "execute_result"
    }
   ],
   "source": [
    "outputs = reader(question=question, context=text)\n",
    "pd.DataFrame([outputs])"
   ]
  },
  {
   "cell_type": "code",
   "execution_count": null,
   "id": "94703e8f-9c1b-49a2-bae7-686b6f5c01ff",
   "metadata": {},
   "outputs": [],
   "source": []
  },
  {
   "cell_type": "markdown",
   "id": "9426055d-9029-4842-aeeb-169fa9c6a829",
   "metadata": {
    "tags": []
   },
   "source": [
    "## Překlady"
   ]
  },
  {
   "cell_type": "code",
   "execution_count": 13,
   "id": "9ad7cb42-cfe4-4749-b2d9-19eda21b4eda",
   "metadata": {},
   "outputs": [
    {
     "name": "stdout",
     "output_type": "stream",
     "text": [
      "Requirement already satisfied: transformers[sentencepiece] in /opt/conda/lib/python3.10/site-packages (4.33.3)\n",
      "Requirement already satisfied: requests in /opt/conda/lib/python3.10/site-packages (from transformers[sentencepiece]) (2.28.1)\n",
      "Requirement already satisfied: tqdm>=4.27 in /opt/conda/lib/python3.10/site-packages (from transformers[sentencepiece]) (4.64.1)\n",
      "Requirement already satisfied: huggingface-hub<1.0,>=0.15.1 in /opt/conda/lib/python3.10/site-packages (from transformers[sentencepiece]) (0.17.3)\n",
      "Requirement already satisfied: packaging>=20.0 in /opt/conda/lib/python3.10/site-packages (from transformers[sentencepiece]) (21.3)\n",
      "Requirement already satisfied: regex!=2019.12.17 in /opt/conda/lib/python3.10/site-packages (from transformers[sentencepiece]) (2023.8.8)\n",
      "Requirement already satisfied: numpy>=1.17 in /opt/conda/lib/python3.10/site-packages (from transformers[sentencepiece]) (1.23.3)\n",
      "Requirement already satisfied: pyyaml>=5.1 in /opt/conda/lib/python3.10/site-packages (from transformers[sentencepiece]) (6.0)\n",
      "Requirement already satisfied: safetensors>=0.3.1 in /opt/conda/lib/python3.10/site-packages (from transformers[sentencepiece]) (0.3.3)\n",
      "Requirement already satisfied: tokenizers!=0.11.3,<0.14,>=0.11.1 in /opt/conda/lib/python3.10/site-packages (from transformers[sentencepiece]) (0.13.3)\n",
      "Requirement already satisfied: filelock in /opt/conda/lib/python3.10/site-packages (from transformers[sentencepiece]) (3.12.4)\n",
      "Collecting sentencepiece!=0.1.92,>=0.1.91\n",
      "  Downloading sentencepiece-0.1.99-cp310-cp310-manylinux_2_17_x86_64.manylinux2014_x86_64.whl (1.3 MB)\n",
      "\u001b[2K     \u001b[90m━━━━━━━━━━━━━━━━━━━━━━━━━━━━━━━━━━━━━━━━\u001b[0m \u001b[32m1.3/1.3 MB\u001b[0m \u001b[31m2.3 MB/s\u001b[0m eta \u001b[36m0:00:00\u001b[0ma \u001b[36m0:00:01\u001b[0m\n",
      "\u001b[?25hRequirement already satisfied: protobuf in /opt/conda/lib/python3.10/site-packages (from transformers[sentencepiece]) (4.21.7)\n",
      "Requirement already satisfied: fsspec in /opt/conda/lib/python3.10/site-packages (from huggingface-hub<1.0,>=0.15.1->transformers[sentencepiece]) (2023.6.0)\n",
      "Requirement already satisfied: typing-extensions>=3.7.4.3 in /opt/conda/lib/python3.10/site-packages (from huggingface-hub<1.0,>=0.15.1->transformers[sentencepiece]) (4.8.0)\n",
      "Requirement already satisfied: pyparsing!=3.0.5,>=2.0.2 in /opt/conda/lib/python3.10/site-packages (from packaging>=20.0->transformers[sentencepiece]) (3.0.9)\n",
      "Requirement already satisfied: idna<4,>=2.5 in /opt/conda/lib/python3.10/site-packages (from requests->transformers[sentencepiece]) (3.4)\n",
      "Requirement already satisfied: certifi>=2017.4.17 in /opt/conda/lib/python3.10/site-packages (from requests->transformers[sentencepiece]) (2022.9.24)\n",
      "Requirement already satisfied: charset-normalizer<3,>=2 in /opt/conda/lib/python3.10/site-packages (from requests->transformers[sentencepiece]) (2.1.1)\n",
      "Requirement already satisfied: urllib3<1.27,>=1.21.1 in /opt/conda/lib/python3.10/site-packages (from requests->transformers[sentencepiece]) (1.26.11)\n",
      "Installing collected packages: sentencepiece\n",
      "Successfully installed sentencepiece-0.1.99\n"
     ]
    }
   ],
   "source": [
    "!pip install transformers[sentencepiece]"
   ]
  },
  {
   "cell_type": "code",
   "execution_count": 2,
   "id": "302a9b98-32d1-40fd-83a6-088dd3fda8e3",
   "metadata": {},
   "outputs": [
    {
     "name": "stderr",
     "output_type": "stream",
     "text": [
      "2024-01-02 13:50:29.127456: I tensorflow/core/platform/cpu_feature_guard.cc:193] This TensorFlow binary is optimized with oneAPI Deep Neural Network Library (oneDNN) to use the following CPU instructions in performance-critical operations:  SSE4.1 SSE4.2 AVX AVX2 FMA\n",
      "To enable them in other operations, rebuild TensorFlow with the appropriate compiler flags.\n"
     ]
    },
    {
     "data": {
      "application/vnd.jupyter.widget-view+json": {
       "model_id": "59d7b9086f4a44508dcabaf941c87b62",
       "version_major": 2,
       "version_minor": 0
      },
      "text/plain": [
       "Downloading source.spm:   0%|          | 0.00/768k [00:00<?, ?B/s]"
      ]
     },
     "metadata": {},
     "output_type": "display_data"
    },
    {
     "data": {
      "application/vnd.jupyter.widget-view+json": {
       "model_id": "5ad378c85a5e48eaa6659a8f90b88537",
       "version_major": 2,
       "version_minor": 0
      },
      "text/plain": [
       "Downloading target.spm:   0%|          | 0.00/797k [00:00<?, ?B/s]"
      ]
     },
     "metadata": {},
     "output_type": "display_data"
    },
    {
     "data": {
      "application/vnd.jupyter.widget-view+json": {
       "model_id": "f4b2342b612846d7acd1a7dbff23baa5",
       "version_major": 2,
       "version_minor": 0
      },
      "text/plain": [
       "Downloading vocab.json:   0%|          | 0.00/1.27M [00:00<?, ?B/s]"
      ]
     },
     "metadata": {},
     "output_type": "display_data"
    },
    {
     "name": "stderr",
     "output_type": "stream",
     "text": [
      "/opt/conda/lib/python3.10/site-packages/transformers/models/marian/tokenization_marian.py:194: UserWarning: Recommended: pip install sacremoses.\n",
      "  warnings.warn(\"Recommended: pip install sacremoses.\")\n"
     ]
    }
   ],
   "source": [
    "import pandas as pd\n",
    "from transformers import pipeline\n",
    "\n",
    "translator = pipeline(\"translation_en_to_de\",\n",
    "    model=\"Helsinki-NLP/opus-mt-en-de\")"
   ]
  },
  {
   "cell_type": "code",
   "execution_count": 3,
   "id": "371607c9-ec4d-417d-8223-c6cfbec24395",
   "metadata": {},
   "outputs": [
    {
     "name": "stdout",
     "output_type": "stream",
     "text": [
      "„ Soll ich dich mit einem Sommertag vergleichen? Du bist schöner und gemäßigter: Raue Winde schütteln die lieblichen Knospen des Mais, Und der Sommerpacht hat zu kurz ein Datum: Irgendwann zu heiß das Auge des Himmels scheint, Und oft ist sein Gold Teint getrübt; Und jede Faire von Fair irgendwann sinkt, Durch Zufall, oder die Natur changieren Kurs, untrimmed: Aber dein ewiger Sommer wird nicht verblassen, noch verlieren Besitz von dem Schönen du ow.; Noch wird der Tod prahlen du wandert in seinem Schatten Wenn in ewigen Linien zur Zeit wachsen: So lange Männer atmen oder Augen sehen können, So lange lebt dies, und dies gibt dir Leben.\n"
     ]
    }
   ],
   "source": [
    "text = \"\"\"\"\n",
    "Shall I compare thee to a summer’s day?\n",
    "Thou art more lovely and more temperate:\n",
    "Rough winds do shake the darling buds of May,\n",
    "And summer’s lease hath all too short a date:\n",
    "Sometime too hot the eye of heaven shines,\n",
    "And often is his gold complexion dimmed;\n",
    "And every fair from fair sometime declines,\n",
    "By chance, or nature’s changing course, untrimmed:\n",
    "But thy eternal summer shall not fade,\n",
    "Nor lose possession of that fair thou ow’st;\n",
    "Nor shall Death brag thou wander’st in his shade\n",
    "When in eternal lines to time thou grow’st:\n",
    "So long as men can breathe or eyes can see,\n",
    "So long lives this, and this gives life to thee.\n",
    "\"\"\"\n",
    "\n",
    "outputs = translator(text, clean_up_tokenization_spaces=True,\n",
    "    min_length=100)\n",
    "print(outputs[0]['translation_text'])"
   ]
  },
  {
   "cell_type": "markdown",
   "id": "320dcce6-e658-45be-8e07-fc6b9800e072",
   "metadata": {},
   "source": [
    "## Překlady II"
   ]
  },
  {
   "cell_type": "code",
   "execution_count": 4,
   "id": "290a6609-681a-4710-b430-2dce273f7d39",
   "metadata": {},
   "outputs": [
    {
     "data": {
      "application/vnd.jupyter.widget-view+json": {
       "model_id": "efe4226557e84728b1812e5b34ed2335",
       "version_major": 2,
       "version_minor": 0
      },
      "text/plain": [
       "Downloading config.json:   0%|          | 0.00/1.21k [00:00<?, ?B/s]"
      ]
     },
     "metadata": {},
     "output_type": "display_data"
    },
    {
     "data": {
      "application/vnd.jupyter.widget-view+json": {
       "model_id": "2a9b96d9e4fb4f50b7daccfd16798c30",
       "version_major": 2,
       "version_minor": 0
      },
      "text/plain": [
       "Downloading model.safetensors:   0%|          | 0.00/892M [00:00<?, ?B/s]"
      ]
     },
     "metadata": {},
     "output_type": "display_data"
    },
    {
     "data": {
      "application/vnd.jupyter.widget-view+json": {
       "model_id": "2fdbc1987a944722b4edb61afc29f216",
       "version_major": 2,
       "version_minor": 0
      },
      "text/plain": [
       "Downloading generation_config.json:   0%|          | 0.00/147 [00:00<?, ?B/s]"
      ]
     },
     "metadata": {},
     "output_type": "display_data"
    },
    {
     "data": {
      "application/vnd.jupyter.widget-view+json": {
       "model_id": "2c986f12835b49a09698d254a3273b3a",
       "version_major": 2,
       "version_minor": 0
      },
      "text/plain": [
       "Downloading spiece.model:   0%|          | 0.00/792k [00:00<?, ?B/s]"
      ]
     },
     "metadata": {},
     "output_type": "display_data"
    },
    {
     "data": {
      "application/vnd.jupyter.widget-view+json": {
       "model_id": "48a3c051cf1a4b9c9bd9238f437b7b6f",
       "version_major": 2,
       "version_minor": 0
      },
      "text/plain": [
       "Downloading tokenizer.json:   0%|          | 0.00/1.39M [00:00<?, ?B/s]"
      ]
     },
     "metadata": {},
     "output_type": "display_data"
    },
    {
     "name": "stderr",
     "output_type": "stream",
     "text": [
      "/opt/conda/lib/python3.10/site-packages/transformers/models/t5/tokenization_t5_fast.py:158: FutureWarning: This tokenizer was incorrectly instantiated with a model max length of 512 which will be corrected in Transformers v5.\n",
      "For now, this behavior is kept to avoid breaking backwards compatibility when padding/encoding with `truncation is True`.\n",
      "- Be aware that you SHOULD NOT rely on t5-base automatically truncating your input to 512 when padding/encoding.\n",
      "- If you want to encode/pad to sequences longer than 512 you can either instantiate this tokenizer with `model_max_length` or pass `max_length` when encoding/padding.\n",
      "- To avoid this warning, please instantiate this tokenizer with `model_max_length` set to your preferred value.\n",
      "  warnings.warn(\n"
     ]
    },
    {
     "name": "stdout",
     "output_type": "stream",
     "text": [
      "<pad> Hugging Face ist ein Technologieunternehmen mit Sitz in New York und Paris.</s>\n"
     ]
    }
   ],
   "source": [
    "from transformers import AutoModelForSeq2SeqLM, AutoTokenizer\n",
    "model = AutoModelForSeq2SeqLM.from_pretrained(\"t5-base\")\n",
    "\n",
    "tokenizer = AutoTokenizer.from_pretrained(\"t5-base\")\n",
    "\n",
    "inputs = tokenizer(\n",
    "    \"translate English to German: Hugging Face is a technology company based in New York and Paris\",\n",
    "    return_tensors=\"pt\"\n",
    ")\n",
    "\n",
    "outputs = model.generate(inputs[\"input_ids\"], max_length=40, num_beams=4, early_stopping=True)\n",
    "\n",
    "print(tokenizer.decode(outputs[0]))"
   ]
  },
  {
   "cell_type": "code",
   "execution_count": 5,
   "id": "1f49537b-1c93-4b2e-a7dd-78452ae7ee99",
   "metadata": {},
   "outputs": [
    {
     "name": "stdout",
     "output_type": "stream",
     "text": [
      "<pad> Hugging Face est une entreprise technologique basée à New York et à Paris.</s>\n"
     ]
    }
   ],
   "source": [
    "from transformers import AutoModelForSeq2SeqLM, AutoTokenizer\n",
    "model = AutoModelForSeq2SeqLM.from_pretrained(\"t5-base\")\n",
    "\n",
    "tokenizer = AutoTokenizer.from_pretrained(\"t5-base\")\n",
    "\n",
    "inputs = tokenizer(\n",
    "    \"translate English to French: Hugging Face is a technology company based in New York and Paris\",\n",
    "    return_tensors=\"pt\"\n",
    ")\n",
    "\n",
    "outputs = model.generate(inputs[\"input_ids\"], max_length=40, num_beams=4, early_stopping=True)\n",
    "\n",
    "print(tokenizer.decode(outputs[0]))"
   ]
  },
  {
   "cell_type": "code",
   "execution_count": null,
   "id": "70ef33aa-54e0-44ed-80c3-c75cd364c16f",
   "metadata": {},
   "outputs": [],
   "source": []
  },
  {
   "cell_type": "code",
   "execution_count": null,
   "id": "8e9f30b7-9c27-4d24-bb80-98abf70d7c10",
   "metadata": {},
   "outputs": [],
   "source": []
  },
  {
   "cell_type": "markdown",
   "id": "f3f908ee-37e2-46db-8ba9-f19379c67305",
   "metadata": {},
   "source": [
    "## Sumarizace"
   ]
  },
  {
   "cell_type": "code",
   "execution_count": 7,
   "id": "4b3c63cc-5fd6-40c2-a281-f7c1cee57919",
   "metadata": {},
   "outputs": [
    {
     "name": "stderr",
     "output_type": "stream",
     "text": [
      "No model was supplied, defaulted to sshleifer/distilbart-cnn-12-6 and revision a4f8f3e (https://huggingface.co/sshleifer/distilbart-cnn-12-6).\n",
      "Using a pipeline without specifying a model name and revision in production is not recommended.\n"
     ]
    },
    {
     "data": {
      "application/vnd.jupyter.widget-view+json": {
       "model_id": "a1d0f6d16a0b47499fae7f997127e3d7",
       "version_major": 2,
       "version_minor": 0
      },
      "text/plain": [
       "Downloading config.json:   0%|          | 0.00/1.80k [00:00<?, ?B/s]"
      ]
     },
     "metadata": {},
     "output_type": "display_data"
    },
    {
     "data": {
      "application/vnd.jupyter.widget-view+json": {
       "model_id": "06eb179c674f4d6190e98d5fff177ec7",
       "version_major": 2,
       "version_minor": 0
      },
      "text/plain": [
       "Downloading pytorch_model.bin:   0%|          | 0.00/1.22G [00:00<?, ?B/s]"
      ]
     },
     "metadata": {},
     "output_type": "display_data"
    },
    {
     "data": {
      "application/vnd.jupyter.widget-view+json": {
       "model_id": "d3cd3a9e68344d1ca0b2df573643749b",
       "version_major": 2,
       "version_minor": 0
      },
      "text/plain": [
       "Downloading tokenizer_config.json:   0%|          | 0.00/26.0 [00:00<?, ?B/s]"
      ]
     },
     "metadata": {},
     "output_type": "display_data"
    },
    {
     "data": {
      "application/vnd.jupyter.widget-view+json": {
       "model_id": "0c6b4bfcec424ba7a6a2ce3b74d51b52",
       "version_major": 2,
       "version_minor": 0
      },
      "text/plain": [
       "Downloading vocab.json:   0%|          | 0.00/899k [00:00<?, ?B/s]"
      ]
     },
     "metadata": {},
     "output_type": "display_data"
    },
    {
     "data": {
      "application/vnd.jupyter.widget-view+json": {
       "model_id": "981089e4855e42b883df1d69be2f4a03",
       "version_major": 2,
       "version_minor": 0
      },
      "text/plain": [
       "Downloading merges.txt:   0%|          | 0.00/456k [00:00<?, ?B/s]"
      ]
     },
     "metadata": {},
     "output_type": "display_data"
    },
    {
     "name": "stderr",
     "output_type": "stream",
     "text": [
      "Your min_length=56 must be inferior than your max_length=45.\n",
      "/opt/conda/lib/python3.10/site-packages/transformers/generation/utils.py:1285: UserWarning: Unfeasible length constraints: `min_length` (56) is larger than the maximum possible length (45). Generation will stop at the defined maximum length. You should decrease the minimum length and/or increase the maximum length.\n",
      "  warnings.warn(\n"
     ]
    },
    {
     "name": "stdout",
     "output_type": "stream",
     "text": [
      " An apple is an edible fruit produced by an apple tree (Malus domestica) Apple trees are cultivated worldwide and are the most widely grown species in the genus Malus. Apples have religious and mythological\n"
     ]
    }
   ],
   "source": [
    "from transformers import pipeline\n",
    "\n",
    "# https://en.wikipedia.org/wiki/Apple\n",
    "\n",
    "text2 = \"\"\"\n",
    "An apple is a round, edible fruit produced by an apple tree \n",
    "(Malus spp., among them the domestic or orchard apple; Malus domestica). \n",
    "Apple trees are cultivated worldwide and are the most widely grown species in the genus Malus. \n",
    "The tree originated in Central Asia, where its wild ancestor, Malus sieversii, is still found. \n",
    "Apples have been grown for thousands of years in Asia and Europe and were introduced to \n",
    "North America by European colonists. Apples have religious and mythological significance in many cultures, \n",
    "including Norse, Greek, and European Christian tradition. \n",
    "\"\"\"\n",
    "\n",
    "summarizer = pipeline(\"summarization\")\n",
    "\n",
    "outputs = summarizer(text2, max_length=45,\n",
    "    clean_up_tokenization_spaces=True)\n",
    "print(outputs[0]['summary_text'])"
   ]
  },
  {
   "cell_type": "code",
   "execution_count": null,
   "id": "a28be116-e9c0-48f9-9715-ffc7bee84cd2",
   "metadata": {},
   "outputs": [],
   "source": []
  },
  {
   "cell_type": "markdown",
   "id": "5d4d920b-6cb0-443e-90e6-d8ae17fa3698",
   "metadata": {},
   "source": [
    "## Generování textu"
   ]
  },
  {
   "cell_type": "code",
   "execution_count": 8,
   "id": "0beab811-4d31-456d-a7e7-9e35ae0eca96",
   "metadata": {},
   "outputs": [
    {
     "name": "stderr",
     "output_type": "stream",
     "text": [
      "No model was supplied, defaulted to gpt2 and revision 6c0e608 (https://huggingface.co/gpt2).\n",
      "Using a pipeline without specifying a model name and revision in production is not recommended.\n"
     ]
    },
    {
     "data": {
      "application/vnd.jupyter.widget-view+json": {
       "model_id": "b58e1ba93f6e44b88915bd64e825c073",
       "version_major": 2,
       "version_minor": 0
      },
      "text/plain": [
       "Downloading config.json:   0%|          | 0.00/665 [00:00<?, ?B/s]"
      ]
     },
     "metadata": {},
     "output_type": "display_data"
    },
    {
     "data": {
      "application/vnd.jupyter.widget-view+json": {
       "model_id": "5058f1d7d0144884a1fb94ab8db3c8e9",
       "version_major": 2,
       "version_minor": 0
      },
      "text/plain": [
       "Downloading model.safetensors:   0%|          | 0.00/548M [00:00<?, ?B/s]"
      ]
     },
     "metadata": {},
     "output_type": "display_data"
    },
    {
     "data": {
      "application/vnd.jupyter.widget-view+json": {
       "model_id": "dc31357d1d4840f6babbf4b3026185ce",
       "version_major": 2,
       "version_minor": 0
      },
      "text/plain": [
       "Downloading generation_config.json:   0%|          | 0.00/124 [00:00<?, ?B/s]"
      ]
     },
     "metadata": {},
     "output_type": "display_data"
    },
    {
     "data": {
      "application/vnd.jupyter.widget-view+json": {
       "model_id": "a413791cd4b04d6fb8b28ec03d54b2a3",
       "version_major": 2,
       "version_minor": 0
      },
      "text/plain": [
       "Downloading vocab.json:   0%|          | 0.00/1.04M [00:00<?, ?B/s]"
      ]
     },
     "metadata": {},
     "output_type": "display_data"
    },
    {
     "data": {
      "application/vnd.jupyter.widget-view+json": {
       "model_id": "3dc1ada41f874db3b2308ce3ed10174e",
       "version_major": 2,
       "version_minor": 0
      },
      "text/plain": [
       "Downloading merges.txt:   0%|          | 0.00/456k [00:00<?, ?B/s]"
      ]
     },
     "metadata": {},
     "output_type": "display_data"
    },
    {
     "data": {
      "application/vnd.jupyter.widget-view+json": {
       "model_id": "e84b46e525884b02bbe41f6a51ab8219",
       "version_major": 2,
       "version_minor": 0
      },
      "text/plain": [
       "Downloading tokenizer.json:   0%|          | 0.00/1.36M [00:00<?, ?B/s]"
      ]
     },
     "metadata": {},
     "output_type": "display_data"
    }
   ],
   "source": [
    "from transformers import pipeline\n",
    "\n",
    "generator = pipeline(\"text-generation\")"
   ]
  },
  {
   "cell_type": "code",
   "execution_count": 11,
   "id": "85ac4380-fac2-4dc2-bf3d-6bab659f2f41",
   "metadata": {},
   "outputs": [
    {
     "name": "stderr",
     "output_type": "stream",
     "text": [
      "Setting `pad_token_id` to `eos_token_id`:50256 for open-end generation.\n"
     ]
    },
    {
     "name": "stdout",
     "output_type": "stream",
     "text": [
      "\"\n",
      "Shall I compare thee to a summer’s day?\n",
      "Thou art more lovely and more temperate:\n",
      "Rough winds do shake the darling buds of May,\n",
      "And summer’s lease hath all too short a date:\n",
      "Sometime too hot the eye of heaven shines,\n",
      "And often is his gold complexion dimmed;\n",
      "And every fair from fair sometime declines,\n",
      "By chance, or nature’s changing course, untrimmed:\n",
      "But thy eternal summer shall not fade,\n",
      "Nor lose possession of that fair thou ow’st;\n",
      "Nor shall Death brag thou wander’st in his shade\n",
      "When in eternal lines to time thou grow’st:\n",
      "So long as men can breathe or eyes can see,\n",
      "So long lives this, and this gives life to thee.\n",
      "But the young woman is faire and warm,\n",
      "And as sweet and tender as a summer's day;\n",
      "When winter turns to her new time,\n",
      "Which may be too warm for thee, and winter to thee.’[24]\n",
      "This is what he says in some of our later texts:\n",
      "\"With my daughter who is like to walk in the world,\n",
      "Be as warm as the young lady's day, and not too hot,\n",
      "The old woman may walk in the summer-time, her skin as warm as its fall\"\n",
      "This is why he makes such a statement: \"Thou art more lovely and more temperate\"\n",
      "But the young woman is the most beautiful, and if thou shouldst like her more,\n",
      "Then how sweet and tender she is, when she befalls a new child!\n",
      "But this was the very opposite to the purpose of the message. A man who has no respect for his mother's love should not love his sweetest daughter. His father was not jealous at all of his daughter, for this is as he was proud of his daughter. If one does\n"
     ]
    }
   ],
   "source": [
    "# https://en.wikipedia.org/wiki/Sonnet_18\n",
    "\n",
    "text = \"\"\"\"\n",
    "Shall I compare thee to a summer’s day?\n",
    "Thou art more lovely and more temperate:\n",
    "Rough winds do shake the darling buds of May,\n",
    "And summer’s lease hath all too short a date:\n",
    "Sometime too hot the eye of heaven shines,\n",
    "And often is his gold complexion dimmed;\n",
    "And every fair from fair sometime declines,\n",
    "By chance, or nature’s changing course, untrimmed:\n",
    "But thy eternal summer shall not fade,\n",
    "Nor lose possession of that fair thou ow’st;\n",
    "Nor shall Death brag thou wander’st in his shade\n",
    "When in eternal lines to time thou grow’st:\n",
    "So long as men can breathe or eyes can see,\n",
    "So long lives this, and this gives life to thee.\n",
    "\"\"\"\n",
    "\n",
    "outputs = generator(text, max_length=400)\n",
    "print(outputs[0]['generated_text'])"
   ]
  },
  {
   "cell_type": "code",
   "execution_count": 12,
   "id": "f0113822-8768-4324-b96c-4831b0a79226",
   "metadata": {},
   "outputs": [
    {
     "name": "stderr",
     "output_type": "stream",
     "text": [
      "Setting `pad_token_id` to `eos_token_id`:50256 for open-end generation.\n"
     ]
    },
    {
     "name": "stdout",
     "output_type": "stream",
     "text": [
      "\"\n",
      "Shall I compare thee to a summer’s day?\n",
      "Thou art more lovely and more temperate:\n",
      "Rough winds do shake the darling buds of May,\n",
      "And summer’s lease hath all too short a date:\n",
      "Sometime too hot the eye of heaven shines,\n",
      "And often is his gold complexion dimmed;\n",
      "And every fair from fair sometime declines,\n",
      "By chance, or nature’s changing course, untrimmed:\n",
      "But thy eternal summer shall not fade,\n",
      "Nor lose possession of that fair thou ow’st;\n",
      "Nor shall Death brag thou wander’st in his shade\n",
      "When in eternal lines to time thou grow’st:\n",
      "So long as men can breathe or eyes can see,\n",
      "So long lives this, and this gives life to thee.\n",
      "So long may it abide to thy side: thy time's fall, thou willst stay in death;\n",
      "If thy head is a hundred and forty,\n",
      "From thy last days shalt thou turn thy lips in heaven:\n",
      "Till thy mind's face be dark, yet thou mayst go to the city's gates,\n",
      "And make thy peace at its gates, to God’s peace.\n",
      "All thy life thy life thy time that thou mayst live:\n",
      "In thy face be ever and live: in thy life thou art ever,\n",
      "Thou shalt be good, thou wilt live. And this, through that time thou mayest be:\n",
      "There will be no time where thou shalt not live.\n",
      "Then, like all thy thoughts, shalt thou be full of thy best thoughts;\n",
      "And that is the end with him who knoweth the true, and the truth,\n",
      "That is he who can learn from and speak from and learn from his own minds,\n",
      "To teach not only one, but for all.\n",
      "I say, then, that this art thou the very first child, that is\n"
     ]
    }
   ],
   "source": [
    "text = \"\"\"\"\n",
    "Shall I compare thee to a summer’s day?\n",
    "Thou art more lovely and more temperate:\n",
    "Rough winds do shake the darling buds of May,\n",
    "And summer’s lease hath all too short a date:\n",
    "Sometime too hot the eye of heaven shines,\n",
    "And often is his gold complexion dimmed;\n",
    "And every fair from fair sometime declines,\n",
    "By chance, or nature’s changing course, untrimmed:\n",
    "But thy eternal summer shall not fade,\n",
    "Nor lose possession of that fair thou ow’st;\n",
    "Nor shall Death brag thou wander’st in his shade\n",
    "When in eternal lines to time thou grow’st:\n",
    "So long as men can breathe or eyes can see,\n",
    "So long lives this, and this gives life to thee.\n",
    "\"\"\"\n",
    "\n",
    "outputs = generator(text, max_length=400)\n",
    "print(outputs[0]['generated_text'])"
   ]
  },
  {
   "cell_type": "code",
   "execution_count": 13,
   "id": "e1f71832-8079-4611-a130-a76694adb15d",
   "metadata": {},
   "outputs": [
    {
     "name": "stderr",
     "output_type": "stream",
     "text": [
      "Setting `pad_token_id` to `eos_token_id`:50256 for open-end generation.\n"
     ]
    },
    {
     "name": "stdout",
     "output_type": "stream",
     "text": [
      "\n",
      "An apple is a round, edible fruit produced by an apple tree \n",
      "(Malus spp., among them the domestic or orchard apple; Malus domestica). \n",
      "Apple trees are cultivated worldwide and are the most widely grown species in the genus Malus. \n",
      "The tree originated in Central Asia, where its wild ancestor, Malus sieversii, is still found. \n",
      "Apples have been grown for thousands of years in Asia and Europe and were introduced to \n",
      "North America by European colonists. Apples have religious and mythological significance in many cultures, \n",
      "including Norse, Greek, and European Christian tradition. \n",
      "The most powerful and sought after cultivars are usually the orchards. \n",
      "Apples are made to resemble fruits from a tree, \n",
      "appled with a hard, brown, and pinky white peppercorn. \n",
      "Apples are a tropical fruit plant. Unlike apple fruits, which are very tough,\n",
      "appled with a soft purple apple peel, and fruitier with a purple-crispy apple. \n",
      "The apple also resembles pearls and the pear is often believed to represent water. \n",
      "Apples are rich in vitamin C, vitamin C-enriched \n",
      "sugar and fiber, and fiber as well. \n",
      "In addition to fruits and vegetables, the orchards can be covered in edible species. \n",
      "The orchards are eaten in summer and in winter in some countries. \n",
      "Most of the species being cultivated are also herbivores.\n",
      "Ginger, a spice from the apple family, is believed to have originated as a spice of the fruit orchards, \n",
      "as they may be related to each other by family name or species relationship. \n",
      "Apples are also a good source of vitamin C. \n"
     ]
    }
   ],
   "source": [
    "# https://en.wikipedia.org/wiki/Apple\n",
    "\n",
    "text2 = \"\"\"\n",
    "An apple is a round, edible fruit produced by an apple tree \n",
    "(Malus spp., among them the domestic or orchard apple; Malus domestica). \n",
    "Apple trees are cultivated worldwide and are the most widely grown species in the genus Malus. \n",
    "The tree originated in Central Asia, where its wild ancestor, Malus sieversii, is still found. \n",
    "Apples have been grown for thousands of years in Asia and Europe and were introduced to \n",
    "North America by European colonists. Apples have religious and mythological significance in many cultures, \n",
    "including Norse, Greek, and European Christian tradition. \n",
    "\"\"\"\n",
    "\n",
    "outputs = generator(text2, max_length=400)\n",
    "print(outputs[0]['generated_text'])"
   ]
  },
  {
   "cell_type": "code",
   "execution_count": 15,
   "id": "91a3dee1-10fa-44a4-8dfc-10467b4f7141",
   "metadata": {},
   "outputs": [
    {
     "name": "stderr",
     "output_type": "stream",
     "text": [
      "Setting `pad_token_id` to `eos_token_id`:50256 for open-end generation.\n"
     ]
    },
    {
     "name": "stdout",
     "output_type": "stream",
     "text": [
      "\n",
      "Jablko je kulaté, poživatelné ovoce, které roste na stromech. Tyto stromy jsou pěstovány napříč celým světem.\n",
      "Místo původu stromu je ve Střední Asii, kde lze stále nalézt původní divoký druh.\n",
      "Jablko má nabáženský a mytologický význam v mnoha kulturách včetně norské, řecké a také v Evropské křesťanské tradici.\n",
      "Místo hénydim původní stromu je tikne stim.\n",
      "Má dumé prót, kérożi, le těrt, vvíne zdavrán, půżu jabakí, půz dédí prót v pzíracz, kjemkí zlók, kjemzí jedrz v pzibi\n",
      "- A místo hígydí nag dov kostanje.\n",
      "Místo původní kulatie, tórna ztár, o vér nyvodlém przoy.\n",
      "Jablko takim půz mżej půva kajh.\n",
      "Jablko vod ládá dzát, všo\n"
     ]
    }
   ],
   "source": [
    "text2 = \"\"\"\n",
    "Jablko je kulaté, poživatelné ovoce, které roste na stromech. Tyto stromy jsou pěstovány napříč celým světem.\n",
    "Místo původu stromu je ve Střední Asii, kde lze stále nalézt původní divoký druh.\n",
    "Jablko má nabáženský a mytologický význam v mnoha kulturách včetně norské, řecké a také v Evropské křesťanské tradici.\n",
    "\"\"\"\n",
    "\n",
    "outputs = generator(text2, max_length=400)\n",
    "print(outputs[0]['generated_text'])"
   ]
  },
  {
   "cell_type": "code",
   "execution_count": null,
   "id": "ba060520-87b1-4e68-900e-d2531f3b72c8",
   "metadata": {},
   "outputs": [],
   "source": []
  },
  {
   "cell_type": "markdown",
   "id": "cdb7587b-a32d-4aa9-b42e-7a57908900ef",
   "metadata": {},
   "source": [
    "## Tokenizace"
   ]
  },
  {
   "cell_type": "code",
   "execution_count": 16,
   "id": "8aeb346e-7f86-43a7-8168-5171a6c6cb71",
   "metadata": {},
   "outputs": [],
   "source": [
    "from transformers import AutoTokenizer\n",
    "model = \"distilbert-base-uncased\"\n",
    "tokenizer = AutoTokenizer.from_pretrained(model)"
   ]
  },
  {
   "cell_type": "code",
   "execution_count": 17,
   "id": "ff3d569c-e7b2-49b7-aa4b-ac4c9b91c2c3",
   "metadata": {},
   "outputs": [
    {
     "name": "stdout",
     "output_type": "stream",
     "text": [
      "{'input_ids': [101, 19204, 6026, 3793, 2003, 3733, 1012, 102], 'attention_mask': [1, 1, 1, 1, 1, 1, 1, 1]}\n"
     ]
    }
   ],
   "source": [
    "encoded = tokenizer('Tokenizing text is easy.')\n",
    "print(encoded)"
   ]
  },
  {
   "cell_type": "code",
   "execution_count": null,
   "id": "b3659b8c-61fa-4183-8f4e-ffac8ffbf352",
   "metadata": {},
   "outputs": [],
   "source": []
  },
  {
   "cell_type": "code",
   "execution_count": 18,
   "id": "4ab62545-1ceb-4b52-9abf-e4f47bea94bf",
   "metadata": {},
   "outputs": [
    {
     "data": {
      "text/plain": [
       "['[CLS]', 'token', '##izing', 'text', 'is', 'easy', '.', '[SEP]']"
      ]
     },
     "execution_count": 18,
     "metadata": {},
     "output_type": "execute_result"
    }
   ],
   "source": [
    "tokenizer.convert_ids_to_tokens(encoded.input_ids)"
   ]
  },
  {
   "cell_type": "code",
   "execution_count": null,
   "id": "6a95f979-ce3c-40be-9635-833ac0820042",
   "metadata": {},
   "outputs": [],
   "source": []
  },
  {
   "cell_type": "code",
   "execution_count": 19,
   "id": "efd3177d-a23b-451b-b766-54f7504695b5",
   "metadata": {},
   "outputs": [
    {
     "name": "stdout",
     "output_type": "stream",
     "text": [
      "**Input IDs**\n",
      "[101, 2023, 3185, 2001, 2307, 999, 102, 0, 0, 0, 0]\n",
      "[101, 1045, 6283, 2023, 2693, 1010, 5949, 1997, 2051, 999, 102]\n",
      "[101, 8680, 1029, 102, 0, 0, 0, 0, 0, 0, 0]\n",
      "**Attention Mask**\n",
      "[1, 1, 1, 1, 1, 1, 1, 0, 0, 0, 0]\n",
      "[1, 1, 1, 1, 1, 1, 1, 1, 1, 1, 1]\n",
      "[1, 1, 1, 1, 0, 0, 0, 0, 0, 0, 0]\n"
     ]
    }
   ],
   "source": [
    "text = [\n",
    "    \"This movie was great!\",\n",
    "    \"I hated this move, waste of time!\",\n",
    "    \"Epic?\"\n",
    "]\n",
    "\n",
    "encoded = tokenizer(text, padding=True, add_special_tokens=True)\n",
    "\n",
    "print(\"**Input IDs**\")\n",
    "for a in encoded.input_ids:\n",
    "    print(a)\n",
    "\n",
    "print(\"**Attention Mask**\")\n",
    "for a in encoded.attention_mask:\n",
    "    print(a)"
   ]
  },
  {
   "cell_type": "markdown",
   "id": "2f014cc8-d2bf-4084-a11b-e19db4654c79",
   "metadata": {},
   "source": [
    "# Datasets"
   ]
  },
  {
   "cell_type": "code",
   "execution_count": 20,
   "id": "08f217ba-84dd-4500-b1b3-e5f4aa964f9b",
   "metadata": {},
   "outputs": [
    {
     "name": "stdout",
     "output_type": "stream",
     "text": [
      "huggingface/tokenizers: The current process just got forked, after parallelism has already been used. Disabling parallelism to avoid deadlocks...\n",
      "To disable this warning, you can either:\n",
      "\t- Avoid using `tokenizers` before the fork if possible\n",
      "\t- Explicitly set the environment variable TOKENIZERS_PARALLELISM=(true | false)\n",
      "Requirement already satisfied: datasets in /opt/conda/lib/python3.10/site-packages (2.14.5)\n",
      "Requirement already satisfied: aiohttp in /opt/conda/lib/python3.10/site-packages (from datasets) (3.8.3)\n",
      "Requirement already satisfied: fsspec[http]<2023.9.0,>=2023.1.0 in /opt/conda/lib/python3.10/site-packages (from datasets) (2023.6.0)\n",
      "Requirement already satisfied: dill<0.3.8,>=0.3.0 in /opt/conda/lib/python3.10/site-packages (from datasets) (0.3.7)\n",
      "Requirement already satisfied: tqdm>=4.62.1 in /opt/conda/lib/python3.10/site-packages (from datasets) (4.64.1)\n",
      "Requirement already satisfied: huggingface-hub<1.0.0,>=0.14.0 in /opt/conda/lib/python3.10/site-packages (from datasets) (0.17.3)\n",
      "Requirement already satisfied: pyyaml>=5.1 in /opt/conda/lib/python3.10/site-packages (from datasets) (6.0)\n",
      "Requirement already satisfied: requests>=2.19.0 in /opt/conda/lib/python3.10/site-packages (from datasets) (2.28.1)\n",
      "Requirement already satisfied: pyarrow>=8.0.0 in /opt/conda/lib/python3.10/site-packages (from datasets) (13.0.0)\n",
      "Requirement already satisfied: numpy>=1.17 in /opt/conda/lib/python3.10/site-packages (from datasets) (1.23.3)\n",
      "Requirement already satisfied: multiprocess in /opt/conda/lib/python3.10/site-packages (from datasets) (0.70.15)\n",
      "Requirement already satisfied: pandas in /opt/conda/lib/python3.10/site-packages (from datasets) (1.5.0)\n",
      "Requirement already satisfied: xxhash in /opt/conda/lib/python3.10/site-packages (from datasets) (3.3.0)\n",
      "Requirement already satisfied: packaging in /opt/conda/lib/python3.10/site-packages (from datasets) (21.3)\n",
      "Requirement already satisfied: charset-normalizer<3.0,>=2.0 in /opt/conda/lib/python3.10/site-packages (from aiohttp->datasets) (2.1.1)\n",
      "Requirement already satisfied: frozenlist>=1.1.1 in /opt/conda/lib/python3.10/site-packages (from aiohttp->datasets) (1.3.1)\n",
      "Requirement already satisfied: async-timeout<5.0,>=4.0.0a3 in /opt/conda/lib/python3.10/site-packages (from aiohttp->datasets) (4.0.2)\n",
      "Requirement already satisfied: yarl<2.0,>=1.0 in /opt/conda/lib/python3.10/site-packages (from aiohttp->datasets) (1.7.2)\n",
      "Requirement already satisfied: multidict<7.0,>=4.5 in /opt/conda/lib/python3.10/site-packages (from aiohttp->datasets) (6.0.2)\n",
      "Requirement already satisfied: attrs>=17.3.0 in /opt/conda/lib/python3.10/site-packages (from aiohttp->datasets) (22.1.0)\n",
      "Requirement already satisfied: aiosignal>=1.1.2 in /opt/conda/lib/python3.10/site-packages (from aiohttp->datasets) (1.2.0)\n",
      "Requirement already satisfied: filelock in /opt/conda/lib/python3.10/site-packages (from huggingface-hub<1.0.0,>=0.14.0->datasets) (3.12.4)\n",
      "Requirement already satisfied: typing-extensions>=3.7.4.3 in /opt/conda/lib/python3.10/site-packages (from huggingface-hub<1.0.0,>=0.14.0->datasets) (4.8.0)\n",
      "Requirement already satisfied: pyparsing!=3.0.5,>=2.0.2 in /opt/conda/lib/python3.10/site-packages (from packaging->datasets) (3.0.9)\n",
      "Requirement already satisfied: idna<4,>=2.5 in /opt/conda/lib/python3.10/site-packages (from requests>=2.19.0->datasets) (3.4)\n",
      "Requirement already satisfied: certifi>=2017.4.17 in /opt/conda/lib/python3.10/site-packages (from requests>=2.19.0->datasets) (2022.9.24)\n",
      "Requirement already satisfied: urllib3<1.27,>=1.21.1 in /opt/conda/lib/python3.10/site-packages (from requests>=2.19.0->datasets) (1.26.11)\n",
      "Requirement already satisfied: python-dateutil>=2.8.1 in /opt/conda/lib/python3.10/site-packages (from pandas->datasets) (2.8.2)\n",
      "Requirement already satisfied: pytz>=2020.1 in /opt/conda/lib/python3.10/site-packages (from pandas->datasets) (2022.4)\n",
      "Requirement already satisfied: six>=1.5 in /opt/conda/lib/python3.10/site-packages (from python-dateutil>=2.8.1->pandas->datasets) (1.16.0)\n"
     ]
    }
   ],
   "source": [
    "!pip install datasets"
   ]
  },
  {
   "cell_type": "code",
   "execution_count": 21,
   "id": "a81b2704-5060-489b-8968-2278e7a773e8",
   "metadata": {},
   "outputs": [
    {
     "name": "stderr",
     "output_type": "stream",
     "text": [
      "/tmp/ipykernel_2345/1388030261.py:3: FutureWarning: list_datasets is deprecated and will be removed in the next major version of datasets. Use 'huggingface_hub.list_datasets' instead.\n",
      "  all_datasets = list_datasets()\n"
     ]
    },
    {
     "name": "stdout",
     "output_type": "stream",
     "text": [
      "Hugging Face hub currently contains 91128\n",
      "datasets. The first 5 are:\n",
      "acronym_identification\n",
      "ade_corpus_v2\n",
      "adversarial_qa\n",
      "aeslc\n",
      "afrikaans_ner_corpus\n",
      "ag_news\n",
      "ai2_arc\n",
      "air_dialogue\n",
      "ajgt_twitter_ar\n",
      "allegro_reviews\n"
     ]
    }
   ],
   "source": [
    "from datasets import list_datasets\n",
    "\n",
    "all_datasets = list_datasets()\n",
    "\n",
    "print(f\"Hugging Face hub currently contains {len(all_datasets)}\")\n",
    "print(f\"datasets. The first 5 are:\")\n",
    "print(\"\\n\".join(all_datasets[:10]))"
   ]
  },
  {
   "cell_type": "code",
   "execution_count": null,
   "id": "0e3dd062-6e52-4ff7-977a-894cd6f5a5e2",
   "metadata": {},
   "outputs": [],
   "source": []
  },
  {
   "cell_type": "code",
   "execution_count": null,
   "id": "43a7b89f-5472-4c98-ac05-a49ab0fb0320",
   "metadata": {},
   "outputs": [],
   "source": []
  },
  {
   "cell_type": "code",
   "execution_count": 22,
   "id": "fa63bea5-001c-4d54-980b-fe72c75be6d0",
   "metadata": {},
   "outputs": [
    {
     "data": {
      "application/vnd.jupyter.widget-view+json": {
       "model_id": "6decb11dc02a46d79346b6612ac0f1d2",
       "version_major": 2,
       "version_minor": 0
      },
      "text/plain": [
       "Downloading builder script:   0%|          | 0.00/3.97k [00:00<?, ?B/s]"
      ]
     },
     "metadata": {},
     "output_type": "display_data"
    },
    {
     "data": {
      "application/vnd.jupyter.widget-view+json": {
       "model_id": "2ca88b73d3fc4a388def23405770f700",
       "version_major": 2,
       "version_minor": 0
      },
      "text/plain": [
       "Downloading metadata:   0%|          | 0.00/3.28k [00:00<?, ?B/s]"
      ]
     },
     "metadata": {},
     "output_type": "display_data"
    },
    {
     "data": {
      "application/vnd.jupyter.widget-view+json": {
       "model_id": "8684a70f19894486b15d1b4afb9db455",
       "version_major": 2,
       "version_minor": 0
      },
      "text/plain": [
       "Downloading readme:   0%|          | 0.00/8.78k [00:00<?, ?B/s]"
      ]
     },
     "metadata": {},
     "output_type": "display_data"
    },
    {
     "data": {
      "application/vnd.jupyter.widget-view+json": {
       "model_id": "290b492c3a044d0f835e89a3d7f77e75",
       "version_major": 2,
       "version_minor": 0
      },
      "text/plain": [
       "Downloading data files:   0%|          | 0/3 [00:00<?, ?it/s]"
      ]
     },
     "metadata": {},
     "output_type": "display_data"
    },
    {
     "data": {
      "application/vnd.jupyter.widget-view+json": {
       "model_id": "e00642d29dcb4deaab353766c286934e",
       "version_major": 2,
       "version_minor": 0
      },
      "text/plain": [
       "Downloading data:   0%|          | 0.00/592k [00:00<?, ?B/s]"
      ]
     },
     "metadata": {},
     "output_type": "display_data"
    },
    {
     "data": {
      "application/vnd.jupyter.widget-view+json": {
       "model_id": "a69ee7d982c64a0582ee75dd033558d4",
       "version_major": 2,
       "version_minor": 0
      },
      "text/plain": [
       "Downloading data:   0%|          | 0.00/74.0k [00:00<?, ?B/s]"
      ]
     },
     "metadata": {},
     "output_type": "display_data"
    },
    {
     "data": {
      "application/vnd.jupyter.widget-view+json": {
       "model_id": "c177f01f38b94732aa092ad346b05590",
       "version_major": 2,
       "version_minor": 0
      },
      "text/plain": [
       "Downloading data:   0%|          | 0.00/74.9k [00:00<?, ?B/s]"
      ]
     },
     "metadata": {},
     "output_type": "display_data"
    },
    {
     "data": {
      "application/vnd.jupyter.widget-view+json": {
       "model_id": "663fb556652e4fba973237b91cd71307",
       "version_major": 2,
       "version_minor": 0
      },
      "text/plain": [
       "Extracting data files:   0%|          | 0/3 [00:00<?, ?it/s]"
      ]
     },
     "metadata": {},
     "output_type": "display_data"
    },
    {
     "data": {
      "application/vnd.jupyter.widget-view+json": {
       "model_id": "2af190ee32164f93acf706cb9342b3fb",
       "version_major": 2,
       "version_minor": 0
      },
      "text/plain": [
       "Generating train split:   0%|          | 0/16000 [00:00<?, ? examples/s]"
      ]
     },
     "metadata": {},
     "output_type": "display_data"
    },
    {
     "data": {
      "application/vnd.jupyter.widget-view+json": {
       "model_id": "95937dcd8a174a2ea3520fea57a4424f",
       "version_major": 2,
       "version_minor": 0
      },
      "text/plain": [
       "Generating validation split:   0%|          | 0/2000 [00:00<?, ? examples/s]"
      ]
     },
     "metadata": {},
     "output_type": "display_data"
    },
    {
     "data": {
      "application/vnd.jupyter.widget-view+json": {
       "model_id": "a02a51d237894410b1f91cdf7a387899",
       "version_major": 2,
       "version_minor": 0
      },
      "text/plain": [
       "Generating test split:   0%|          | 0/2000 [00:00<?, ? examples/s]"
      ]
     },
     "metadata": {},
     "output_type": "display_data"
    },
    {
     "data": {
      "text/plain": [
       "DatasetDict({\n",
       "    train: Dataset({\n",
       "        features: ['text', 'label'],\n",
       "        num_rows: 16000\n",
       "    })\n",
       "    validation: Dataset({\n",
       "        features: ['text', 'label'],\n",
       "        num_rows: 2000\n",
       "    })\n",
       "    test: Dataset({\n",
       "        features: ['text', 'label'],\n",
       "        num_rows: 2000\n",
       "    })\n",
       "})"
      ]
     },
     "execution_count": 22,
     "metadata": {},
     "output_type": "execute_result"
    }
   ],
   "source": [
    "from datasets import load_dataset\n",
    "\n",
    "emotions = load_dataset(\"emotion\")\n",
    "emotions"
   ]
  },
  {
   "cell_type": "code",
   "execution_count": 23,
   "id": "30f6d182-ce44-481f-b86b-c77a70e7cc7d",
   "metadata": {},
   "outputs": [
    {
     "data": {
      "text/html": [
       "<div>\n",
       "<style scoped>\n",
       "    .dataframe tbody tr th:only-of-type {\n",
       "        vertical-align: middle;\n",
       "    }\n",
       "\n",
       "    .dataframe tbody tr th {\n",
       "        vertical-align: top;\n",
       "    }\n",
       "\n",
       "    .dataframe thead th {\n",
       "        text-align: right;\n",
       "    }\n",
       "</style>\n",
       "<table border=\"1\" class=\"dataframe\">\n",
       "  <thead>\n",
       "    <tr style=\"text-align: right;\">\n",
       "      <th></th>\n",
       "      <th>text</th>\n",
       "      <th>label</th>\n",
       "    </tr>\n",
       "  </thead>\n",
       "  <tbody>\n",
       "    <tr>\n",
       "      <th>0</th>\n",
       "      <td>i didnt feel humiliated</td>\n",
       "      <td>0</td>\n",
       "    </tr>\n",
       "    <tr>\n",
       "      <th>1</th>\n",
       "      <td>i can go from feeling so hopeless to so damned...</td>\n",
       "      <td>0</td>\n",
       "    </tr>\n",
       "    <tr>\n",
       "      <th>2</th>\n",
       "      <td>im grabbing a minute to post i feel greedy wrong</td>\n",
       "      <td>3</td>\n",
       "    </tr>\n",
       "    <tr>\n",
       "      <th>3</th>\n",
       "      <td>i am ever feeling nostalgic about the fireplac...</td>\n",
       "      <td>2</td>\n",
       "    </tr>\n",
       "    <tr>\n",
       "      <th>4</th>\n",
       "      <td>i am feeling grouchy</td>\n",
       "      <td>3</td>\n",
       "    </tr>\n",
       "  </tbody>\n",
       "</table>\n",
       "</div>"
      ],
      "text/plain": [
       "                                                text  label\n",
       "0                            i didnt feel humiliated      0\n",
       "1  i can go from feeling so hopeless to so damned...      0\n",
       "2   im grabbing a minute to post i feel greedy wrong      3\n",
       "3  i am ever feeling nostalgic about the fireplac...      2\n",
       "4                               i am feeling grouchy      3"
      ]
     },
     "execution_count": 23,
     "metadata": {},
     "output_type": "execute_result"
    }
   ],
   "source": [
    "import pandas as pd\n",
    "\n",
    "emotions.set_format(type='pandas')\n",
    "df = emotions[\"train\"][:]\n",
    "df[:5]"
   ]
  },
  {
   "cell_type": "code",
   "execution_count": null,
   "id": "3b9b0a6b-79aa-4204-a24f-da8914b685cf",
   "metadata": {},
   "outputs": [],
   "source": []
  }
 ],
 "metadata": {
  "kernelspec": {
   "display_name": "Python 3 (ipykernel)",
   "language": "python",
   "name": "python3"
  },
  "language_info": {
   "codemirror_mode": {
    "name": "ipython",
    "version": 3
   },
   "file_extension": ".py",
   "mimetype": "text/x-python",
   "name": "python",
   "nbconvert_exporter": "python",
   "pygments_lexer": "ipython3",
   "version": "3.10.6"
  },
  "toc-autonumbering": true
 },
 "nbformat": 4,
 "nbformat_minor": 5
}
