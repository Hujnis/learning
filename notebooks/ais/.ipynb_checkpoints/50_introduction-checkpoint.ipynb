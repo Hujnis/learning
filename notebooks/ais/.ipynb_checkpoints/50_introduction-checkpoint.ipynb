{
 "cells": [
  {
   "cell_type": "markdown",
   "id": "7bf9ada2-6952-427f-969e-77c8130caef9",
   "metadata": {},
   "source": [
    "# Úvod"
   ]
  },
  {
   "cell_type": "markdown",
   "id": "4230cdbd-b67b-40cf-9da1-0ad3483db975",
   "metadata": {},
   "source": [
    "## Zdroje"
   ]
  },
  {
   "cell_type": "markdown",
   "id": "ffce6ddf-6c5d-429c-b413-1192caaf87a5",
   "metadata": {},
   "source": [
    "Lekce jsou vysoce inspirovány zdrojem\n",
    "\n",
    "https://github.com/jeffheaton/app_deep_learning\n",
    "\n",
    "jejichž autorem je prof. Jeff Heaton (https://github.com/jeffheaton)"
   ]
  },
  {
   "cell_type": "markdown",
   "id": "715d599e-c15b-4cdd-ba79-41408cedceed",
   "metadata": {},
   "source": [
    "## Opakování"
   ]
  },
  {
   "cell_type": "markdown",
   "id": "c20df39c-61ab-45cf-9d39-42734522687f",
   "metadata": {},
   "source": [
    "Připomeňte si:\n",
    "- elementární datové struktury v jazyku Python (číslo, text, logická proměnná)\n",
    "- složené datové struktury v jazyku Python (především List, Dictionary, JSON, Class)\n",
    "- reprezentaci datových struktur ve formátu JSON\n",
    "- generátory a comprehensions\n",
    "- soubory (načtení, uložení, primárně JSON, CSV, ...)"
   ]
  }
 ],
 "metadata": {
  "kernelspec": {
   "display_name": "Python 3 (ipykernel)",
   "language": "python",
   "name": "python3"
  },
  "language_info": {
   "codemirror_mode": {
    "name": "ipython",
    "version": 3
   },
   "file_extension": ".py",
   "mimetype": "text/x-python",
   "name": "python",
   "nbconvert_exporter": "python",
   "pygments_lexer": "ipython3",
   "version": "3.10.6"
  },
  "toc-autonumbering": true
 },
 "nbformat": 4,
 "nbformat_minor": 5
}
