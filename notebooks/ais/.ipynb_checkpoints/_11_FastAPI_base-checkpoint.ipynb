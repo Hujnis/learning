{
 "cells": [
  {
   "cell_type": "markdown",
   "id": "2e66d52b-1f17-400e-a1cf-307686c69c72",
   "metadata": {},
   "source": [
    "# FastAPI"
   ]
  },
  {
   "cell_type": "markdown",
   "id": "7f0f29c9-e12c-468c-907a-965e437f25ce",
   "metadata": {},
   "source": [
    "## Libs Install"
   ]
  },
  {
   "cell_type": "code",
   "execution_count": 1,
   "id": "c7d301c3-02fd-4f38-b6c1-11a4ae0fe487",
   "metadata": {},
   "outputs": [
    {
     "name": "stdout",
     "output_type": "stream",
     "text": [
      "Requirement already satisfied: uvicorn in /opt/conda/lib/python3.10/site-packages (0.23.2)\n",
      "Requirement already satisfied: h11>=0.8 in /opt/conda/lib/python3.10/site-packages (from uvicorn) (0.14.0)\n",
      "Requirement already satisfied: click>=7.0 in /opt/conda/lib/python3.10/site-packages (from uvicorn) (8.1.3)\n",
      "Requirement already satisfied: typing-extensions>=4.0 in /opt/conda/lib/python3.10/site-packages (from uvicorn) (4.8.0)\n",
      "Requirement already satisfied: fastapi in /opt/conda/lib/python3.10/site-packages (0.103.2)\n",
      "Requirement already satisfied: typing-extensions>=4.5.0 in /opt/conda/lib/python3.10/site-packages (from fastapi) (4.8.0)\n",
      "Requirement already satisfied: anyio<4.0.0,>=3.7.1 in /opt/conda/lib/python3.10/site-packages (from fastapi) (3.7.1)\n",
      "Requirement already satisfied: starlette<0.28.0,>=0.27.0 in /opt/conda/lib/python3.10/site-packages (from fastapi) (0.27.0)\n",
      "Requirement already satisfied: pydantic!=1.8,!=1.8.1,!=2.0.0,!=2.0.1,!=2.1.0,<3.0.0,>=1.7.4 in /opt/conda/lib/python3.10/site-packages (from fastapi) (2.4.2)\n",
      "Requirement already satisfied: idna>=2.8 in /opt/conda/lib/python3.10/site-packages (from anyio<4.0.0,>=3.7.1->fastapi) (3.4)\n",
      "Requirement already satisfied: sniffio>=1.1 in /opt/conda/lib/python3.10/site-packages (from anyio<4.0.0,>=3.7.1->fastapi) (1.3.0)\n",
      "Requirement already satisfied: exceptiongroup in /opt/conda/lib/python3.10/site-packages (from anyio<4.0.0,>=3.7.1->fastapi) (1.1.3)\n",
      "Requirement already satisfied: annotated-types>=0.4.0 in /opt/conda/lib/python3.10/site-packages (from pydantic!=1.8,!=1.8.1,!=2.0.0,!=2.0.1,!=2.1.0,<3.0.0,>=1.7.4->fastapi) (0.5.0)\n",
      "Requirement already satisfied: pydantic-core==2.10.1 in /opt/conda/lib/python3.10/site-packages (from pydantic!=1.8,!=1.8.1,!=2.0.0,!=2.0.1,!=2.1.0,<3.0.0,>=1.7.4->fastapi) (2.10.1)\n"
     ]
    }
   ],
   "source": [
    "!pip install uvicorn\n",
    "!pip install fastapi"
   ]
  },
  {
   "cell_type": "code",
   "execution_count": 2,
   "id": "8e8b7c8a-6fe2-4db0-8495-3d7ecc97ed72",
   "metadata": {},
   "outputs": [
    {
     "name": "stdout",
     "output_type": "stream",
     "text": [
      "Requirement already satisfied: wait4it in /opt/conda/lib/python3.10/site-packages (0.2.1)\n"
     ]
    }
   ],
   "source": [
    "!pip install wait4it"
   ]
  },
  {
   "cell_type": "markdown",
   "id": "31845cfc-5905-43b8-b9c3-84777e4646b5",
   "metadata": {},
   "source": [
    "## ASGI Notebook Layer"
   ]
  },
  {
   "cell_type": "markdown",
   "id": "37e83a6f-d692-4710-8d6b-16dbaf429668",
   "metadata": {},
   "source": [
    "### Aka main.py"
   ]
  },
  {
   "cell_type": "code",
   "execution_count": 3,
   "id": "69b8f1f3-8960-4797-bf85-19e7e30c65c8",
   "metadata": {},
   "outputs": [],
   "source": [
    "import uvicorn\n",
    "from fastapi import FastAPI\n",
    "\n",
    "app = FastAPI()#root_path='/api')\n",
    "\n",
    "def run():\n",
    "    uvicorn.run(app, port=9992, host='0.0.0.0', root_path='')"
   ]
  },
  {
   "cell_type": "markdown",
   "id": "8aba7e90-68a6-4e92-ac28-948c85bae251",
   "metadata": {},
   "source": [
    "### Helper Func for Notebook"
   ]
  },
  {
   "cell_type": "code",
   "execution_count": 21,
   "id": "5fec664d-2f7a-411c-9c6e-b97681cc661e",
   "metadata": {},
   "outputs": [],
   "source": [
    "# Code in this cell is just for (re)starting the API on a Process, and other compatibility stuff with Jupyter cells.\n",
    "# Just ignore it!\n",
    "import uvicorn\n",
    "from multiprocessing import Process\n",
    "\n",
    "servers = {}\n",
    "_api_process = None\n",
    "\n",
    "def start_api(app=None, port=9992, runNew=True):\n",
    "    \"\"\"Stop the API if running; Start the API; Wait until API (port) is available (reachable)\"\"\"\n",
    "    assert port in [9991, 9992, 9993, 9994], f'port has unexpected value {port}'\n",
    "    def run():\n",
    "        uvicorn.run(app, port=port, host='0.0.0.0', root_path='')    \n",
    "        \n",
    "    _api_process = servers.get(port, None)\n",
    "    if _api_process:\n",
    "        _api_process.terminate()\n",
    "        _api_process.join()\n",
    "        del servers[port]\n",
    "    \n",
    "    if runNew:\n",
    "        assert (not app is None), 'app is None'\n",
    "        _api_process = Process(target=run, daemon=True)\n",
    "        _api_process.start()\n",
    "        servers[port] = _api_process"
   ]
  },
  {
   "cell_type": "markdown",
   "id": "7f728654-f7b9-4d47-8cc6-a125e70347cf",
   "metadata": {},
   "source": [
    "## Hello World"
   ]
  },
  {
   "cell_type": "code",
   "execution_count": 22,
   "id": "a7ec1843-c37d-4605-aa7c-119a3a646a56",
   "metadata": {},
   "outputs": [],
   "source": [
    "import requests\n",
    "\n",
    "def clientTester():\n",
    "    r = requests.get(\"http://localhost:9992/api\")\n",
    "    print(\"Status code:\", r.status_code, r.json())"
   ]
  },
  {
   "cell_type": "markdown",
   "id": "2449f098-f488-47f2-a287-9860079a9fee",
   "metadata": {},
   "source": [
    "Následující kód je \"klasický\" hello world, po spuštění otevřete \n",
    "\n",
    "http://localhost:31102/docs\n",
    "\n",
    "Přestože je výše v kódu definovaný port 9992, je nutné si uvědomit, že ve stacku learning je tento port mapován na 31102.\n",
    "Pokud máte jiný stack, či jiné prostředí, přízpůsobte si url adresu.\n",
    "\n",
    "Neopomeňte server ukončit `start_api(runNew=False)`"
   ]
  },
  {
   "cell_type": "code",
   "execution_count": 23,
   "id": "f0b62d13-a8b1-4795-bc45-c4f163b418b8",
   "metadata": {},
   "outputs": [
    {
     "name": "stderr",
     "output_type": "stream",
     "text": [
      "INFO:     Started server process [23775]\n",
      "INFO:     Waiting for application startup.\n",
      "INFO:     Application startup complete.\n",
      "INFO:     Uvicorn running on http://0.0.0.0:9992 (Press CTRL+C to quit)\n"
     ]
    },
    {
     "name": "stdout",
     "output_type": "stream",
     "text": [
      "INFO:     172.20.0.1:46386 - \"GET /docs HTTP/1.1\" 200 OK\n",
      "INFO:     172.20.0.1:46386 - \"GET /openapi.json HTTP/1.1\" 200 OK\n",
      "INFO:     172.20.0.1:46386 - \"GET /api HTTP/1.1\" 200 OK\n"
     ]
    },
    {
     "name": "stderr",
     "output_type": "stream",
     "text": [
      "INFO:     Shutting down\n",
      "INFO:     Waiting for application shutdown.\n",
      "INFO:     Application shutdown complete.\n",
      "INFO:     Finished server process [23775]\n"
     ]
    }
   ],
   "source": [
    "from fastapi import FastAPI\n",
    "\n",
    "app = FastAPI()#root_path='/api')\n",
    "\n",
    "@app.get(\"/api\")\n",
    "def get_root():\n",
    "    return {\"Hello\": \"World\"}\n",
    "\n",
    "start_api(app=app)"
   ]
  },
  {
   "cell_type": "code",
   "execution_count": 7,
   "id": "d6e42cbc-4484-4d84-a769-120d63646774",
   "metadata": {},
   "outputs": [
    {
     "name": "stdout",
     "output_type": "stream",
     "text": [
      "Status code: 200 {'Hello': 'World'}\n"
     ]
    }
   ],
   "source": [
    "clientTester()"
   ]
  },
  {
   "cell_type": "code",
   "execution_count": 24,
   "id": "78227052-a66f-4531-bfda-aeec6ef92f76",
   "metadata": {},
   "outputs": [],
   "source": [
    "start_api(runNew=False)"
   ]
  },
  {
   "cell_type": "markdown",
   "id": "f8e611ff-3f31-4d22-8163-2ecd87b314e2",
   "metadata": {},
   "source": [
    "## JSON path params"
   ]
  },
  {
   "cell_type": "code",
   "execution_count": 9,
   "id": "b58f494b-87d4-4ee7-9437-397c4e10e9b8",
   "metadata": {},
   "outputs": [],
   "source": [
    "import requests\n",
    "\n",
    "def clientTester():\n",
    "    r = requests.get(\"http://localhost:9992/api/1\")\n",
    "    print(\"Status code:\", r.status_code, r.json())"
   ]
  },
  {
   "cell_type": "code",
   "execution_count": 10,
   "id": "896b62f9-7d83-478f-8939-227cbcbf0189",
   "metadata": {},
   "outputs": [
    {
     "name": "stderr",
     "output_type": "stream",
     "text": [
      "INFO:     Started server process [16763]\n",
      "INFO:     Waiting for application startup.\n",
      "INFO:     Application startup complete.\n",
      "INFO:     Uvicorn running on http://0.0.0.0:9992 (Press CTRL+C to quit)\n"
     ]
    },
    {
     "name": "stdout",
     "output_type": "stream",
     "text": [
      "INFO:     127.0.0.1:48678 - \"GET /api/1 HTTP/1.1\" 200 OK\n"
     ]
    },
    {
     "name": "stderr",
     "output_type": "stream",
     "text": [
      "INFO:     Shutting down\n",
      "INFO:     Waiting for application shutdown.\n",
      "INFO:     Application shutdown complete.\n",
      "INFO:     Finished server process [16763]\n"
     ]
    }
   ],
   "source": [
    "from fastapi import FastAPI\n",
    "\n",
    "app = FastAPI()#root_path='/api')\n",
    "\n",
    "@app.get(\"/api/{id}\")\n",
    "def get_root(id):\n",
    "    return {\"Hello\": \"World\", \"id\": id}\n",
    "\n",
    "start_api(app=app)"
   ]
  },
  {
   "cell_type": "code",
   "execution_count": 11,
   "id": "b2cdb7f6-7280-43b6-83ef-378e4ca43716",
   "metadata": {},
   "outputs": [
    {
     "name": "stdout",
     "output_type": "stream",
     "text": [
      "Status code: 200 {'Hello': 'World', 'id': '1'}\n"
     ]
    }
   ],
   "source": [
    "clientTester()"
   ]
  },
  {
   "cell_type": "code",
   "execution_count": 12,
   "id": "ff56408b-3543-445d-b9b1-f289e6e790e8",
   "metadata": {},
   "outputs": [],
   "source": [
    "start_api(runNew=False)"
   ]
  },
  {
   "cell_type": "code",
   "execution_count": null,
   "id": "7aab11dd-61f4-4346-a257-bf97f92ab104",
   "metadata": {},
   "outputs": [],
   "source": []
  },
  {
   "cell_type": "markdown",
   "id": "0b135eac-e857-466e-887a-7b5657692a11",
   "metadata": {},
   "source": [
    "## JSON body params"
   ]
  },
  {
   "cell_type": "code",
   "execution_count": 13,
   "id": "721afb7a-ef9b-4417-bc16-77dd27181596",
   "metadata": {},
   "outputs": [],
   "source": [
    "import requests\n",
    "\n",
    "def clientTester():\n",
    "    data = {\"name\": \"World\", \"description\": \"whole world\"}\n",
    "    headers = {'Content-type': 'application/json'}\n",
    "    r = requests.post(\"http://localhost:9992/api\", json=data)\n",
    "    print(\"Status code:\", r.status_code, r.json())"
   ]
  },
  {
   "cell_type": "code",
   "execution_count": 14,
   "id": "338054f9-6997-4355-ab9b-f92b22098dfb",
   "metadata": {},
   "outputs": [
    {
     "name": "stderr",
     "output_type": "stream",
     "text": [
      "INFO:     Started server process [16783]\n",
      "INFO:     Waiting for application startup.\n",
      "INFO:     Application startup complete.\n",
      "INFO:     Uvicorn running on http://0.0.0.0:9992 (Press CTRL+C to quit)\n"
     ]
    },
    {
     "name": "stdout",
     "output_type": "stream",
     "text": [
      "INFO:     127.0.0.1:48704 - \"POST /api HTTP/1.1\" 200 OK\n"
     ]
    },
    {
     "name": "stderr",
     "output_type": "stream",
     "text": [
      "INFO:     Shutting down\n",
      "INFO:     Waiting for application shutdown.\n",
      "INFO:     Application shutdown complete.\n",
      "INFO:     Finished server process [16783]\n"
     ]
    }
   ],
   "source": [
    "from fastapi import FastAPI\n",
    "from typing import Union\n",
    "from pydantic import BaseModel\n",
    "\n",
    "class Item(BaseModel):\n",
    "    name: str\n",
    "    description: str = None\n",
    "    \n",
    "app = FastAPI()#root_path='/api')\n",
    "\n",
    "@app.post(\"/api\")\n",
    "async def get_root(item: Item):\n",
    "    return {\"item.name\": item.name, \"item.description\": item.description}\n",
    "\n",
    "start_api(app=app)"
   ]
  },
  {
   "cell_type": "code",
   "execution_count": 15,
   "id": "104d3cb4-7b10-434f-9bef-9f7c822d8126",
   "metadata": {},
   "outputs": [
    {
     "name": "stdout",
     "output_type": "stream",
     "text": [
      "Status code: 200 {'item.name': 'World', 'item.description': 'whole world'}\n"
     ]
    }
   ],
   "source": [
    "clientTester()"
   ]
  },
  {
   "cell_type": "code",
   "execution_count": 16,
   "id": "0a50427a-57d0-4de3-bd9a-cc5e62d18b52",
   "metadata": {},
   "outputs": [],
   "source": [
    "start_api(runNew=False)"
   ]
  },
  {
   "cell_type": "markdown",
   "id": "8c30f5bf-347d-4723-9cf3-861d132efbf0",
   "metadata": {},
   "source": [
    "## GQL proxy"
   ]
  },
  {
   "cell_type": "code",
   "execution_count": 19,
   "id": "43a63a85-b06c-42ef-87ce-60897a10fa5e",
   "metadata": {},
   "outputs": [
    {
     "name": "stderr",
     "output_type": "stream",
     "text": [
      "INFO:     Started server process [22338]\n",
      "INFO:     Waiting for application startup.\n",
      "INFO:     Application startup complete.\n",
      "INFO:     Uvicorn running on http://0.0.0.0:9992 (Press CTRL+C to quit)\n",
      "INFO:     Shutting down\n",
      "INFO:     Waiting for application shutdown.\n",
      "INFO:     Application shutdown complete.\n",
      "INFO:     Finished server process [22338]\n"
     ]
    }
   ],
   "source": [
    "import aiohttp\n",
    "from typing import Union\n",
    "from pydantic import BaseModel\n",
    "from fastapi import FastAPI, Request\n",
    "from fastapi.responses import JSONResponse\n",
    "\n",
    "\n",
    "class Item(BaseModel):\n",
    "    query: str\n",
    "    variables: dict = None\n",
    "    operationName: str = None\n",
    "\n",
    "app = FastAPI()#root_path='/api')\n",
    "\n",
    "proxy = \"http://localhost:9993/gql\"\n",
    "@app.post(\"/gql\", response_class=JSONResponse)\n",
    "async def apigql_post(data: Item, request: Request):\n",
    "    gqlQuery = {\"query\": data.query}\n",
    "    if (data.variables) is not None:\n",
    "        gqlQuery[\"variables\"] = data.variables\n",
    "    if (data.operationName) is not None:\n",
    "        gqlQuery[\"operationName\"] = data.operationName\n",
    "\n",
    "    # print(demoquery)\n",
    "    headers = request.headers\n",
    "    print(headers)\n",
    "    print(headers.__dict__)\n",
    "    headers = {}\n",
    "    async with aiohttp.ClientSession() as session:\n",
    "        async with session.post(proxy, json=gqlQuery, headers=headers) as resp:\n",
    "            # print(resp.status)\n",
    "            json = await resp.json()\n",
    "    return JSONResponse(content=json, status_code=resp.status)\n",
    "\n",
    "start_api(app=app)"
   ]
  },
  {
   "cell_type": "code",
   "execution_count": null,
   "id": "f65831bd-caad-4725-9b25-5a74f0181abc",
   "metadata": {},
   "outputs": [],
   "source": []
  },
  {
   "cell_type": "code",
   "execution_count": 20,
   "id": "ff6294d6-78f2-40fe-9217-8104522d7420",
   "metadata": {},
   "outputs": [],
   "source": [
    "start_api(runNew=False)"
   ]
  },
  {
   "cell_type": "code",
   "execution_count": null,
   "id": "0ddc23f9-4e77-4c20-8c1f-092b72f2f526",
   "metadata": {},
   "outputs": [],
   "source": []
  }
 ],
 "metadata": {
  "kernelspec": {
   "display_name": "Python 3 (ipykernel)",
   "language": "python",
   "name": "python3"
  },
  "language_info": {
   "codemirror_mode": {
    "name": "ipython",
    "version": 3
   },
   "file_extension": ".py",
   "mimetype": "text/x-python",
   "name": "python",
   "nbconvert_exporter": "python",
   "pygments_lexer": "ipython3",
   "version": "3.10.6"
  }
 },
 "nbformat": 4,
 "nbformat_minor": 5
}
