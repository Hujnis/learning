{
 "cells": [
  {
   "cell_type": "markdown",
   "id": "9fcb249d-6192-4922-97d6-9b25279701d3",
   "metadata": {},
   "source": [
    "# CNN pro zpracování obrazu"
   ]
  },
  {
   "cell_type": "markdown",
   "id": "692ffe23-8953-4d1e-af0c-24bab32f0d93",
   "metadata": {},
   "source": [
    "https://github.com/jeffheaton/app_deep_learning/blob/main/t81_558_class_05_1_python_images.ipynb"
   ]
  },
  {
   "cell_type": "code",
   "execution_count": 1,
   "id": "e35a594c-c29b-4521-a4e2-9544dae930f0",
   "metadata": {},
   "outputs": [],
   "source": [
    "serverpath = \"https://needtoknow.cz\""
   ]
  },
  {
   "cell_type": "code",
   "execution_count": 20,
   "id": "ea5cfbd9-bbc3-4461-afa8-5a2bf162747f",
   "metadata": {},
   "outputs": [
    {
     "name": "stdin",
     "output_type": "stream",
     "text": [
      " ········\n"
     ]
    }
   ],
   "source": [
    "import getpass\n",
    "server = getpass.getpass()\n",
    "serverpath = f\"https://{server}.cz\""
   ]
  },
  {
   "cell_type": "markdown",
   "id": "ab865d49-01e9-4a05-a4df-c64339ef0e6e",
   "metadata": {},
   "source": [
    "## Dataset"
   ]
  },
  {
   "cell_type": "markdown",
   "id": "838aa528-ff46-40d1-b5b7-239f927c3f9f",
   "metadata": {},
   "source": [
    "Zpracování sady obrázků sponek."
   ]
  },
  {
   "cell_type": "code",
   "execution_count": 3,
   "id": "fe07f2e2-e018-4840-be4c-4ba502dd1d38",
   "metadata": {},
   "outputs": [],
   "source": [
    "fullurl = \"https://github.com/jeffheaton/data-mirror/releases/download/v1/paperclips.zip\""
   ]
  },
  {
   "cell_type": "code",
   "execution_count": null,
   "id": "d17ed0ed-c847-43c4-bd99-0d3266d38cea",
   "metadata": {},
   "outputs": [],
   "source": [
    "import requests\n",
    "from io import BytesIO\n",
    "\n",
    "r = requests.get(fullurl)\n",
    "assert r.status_code == 200\n",
    "\n",
    "with open(\"./datasource/data.zip\", \"wb\") as f:\n",
    "    for chunk in r.iter_content(chunk_size=512 * 1024): \n",
    "        if chunk: # filter out keep-alive new chunks\n",
    "            f.write(chunk)\n",
    "    f.close()\n"
   ]
  },
  {
   "cell_type": "code",
   "execution_count": null,
   "id": "3ae0d65a-12a8-41b1-a53d-95d816d3b803",
   "metadata": {},
   "outputs": [],
   "source": [
    "import zipfile\n",
    "\n",
    "try:\n",
    "    with zipfile.ZipFile('./datasource/data.zip', 'r') as zip_ref:\n",
    "        zip_ref.extractall()\n",
    "except zipfile.BadZipFile:\n",
    "    print('Not a zip file or a corrupted zip file')"
   ]
  },
  {
   "cell_type": "code",
   "execution_count": 17,
   "id": "091e588a-fe3e-4ffa-83d4-1c57571c1e2e",
   "metadata": {},
   "outputs": [
    {
     "data": {
      "text/plain": [
       "'/home/jovyan/work/ais/datasource/data/paperclips'"
      ]
     },
     "execution_count": 17,
     "metadata": {},
     "output_type": "execute_result"
    }
   ],
   "source": [
    "import os\n",
    "\n",
    "SOURCE = \"./datasource/data/paperclips\"\n",
    "SOURCE = os.path.realpath(SOURCE)\n",
    "SOURCE"
   ]
  },
  {
   "cell_type": "markdown",
   "id": "f30caf25-0a92-4af7-ac5a-34e544e95078",
   "metadata": {},
   "source": [
    "Načtení csv obsahující popis obrázků, manuální přednastavení množin. Transformace datových položek."
   ]
  },
  {
   "cell_type": "code",
   "execution_count": 27,
   "id": "2d61d1e2-461e-4f9e-bb4a-426bcdec5814",
   "metadata": {},
   "outputs": [
    {
     "name": "stdout",
     "output_type": "stream",
     "text": [
      "/home/jovyan/work/ais/datasource/data/paperclips/train.csv\n"
     ]
    },
    {
     "data": {
      "text/html": [
       "<div>\n",
       "<style scoped>\n",
       "    .dataframe tbody tr th:only-of-type {\n",
       "        vertical-align: middle;\n",
       "    }\n",
       "\n",
       "    .dataframe tbody tr th {\n",
       "        vertical-align: top;\n",
       "    }\n",
       "\n",
       "    .dataframe thead th {\n",
       "        text-align: right;\n",
       "    }\n",
       "</style>\n",
       "<table border=\"1\" class=\"dataframe\">\n",
       "  <thead>\n",
       "    <tr style=\"text-align: right;\">\n",
       "      <th></th>\n",
       "      <th>id</th>\n",
       "      <th>clip_count</th>\n",
       "      <th>filename</th>\n",
       "    </tr>\n",
       "  </thead>\n",
       "  <tbody>\n",
       "    <tr>\n",
       "      <th>0</th>\n",
       "      <td>30001</td>\n",
       "      <td>11.0</td>\n",
       "      <td>clips-30001.jpg</td>\n",
       "    </tr>\n",
       "    <tr>\n",
       "      <th>1</th>\n",
       "      <td>30002</td>\n",
       "      <td>2.0</td>\n",
       "      <td>clips-30002.jpg</td>\n",
       "    </tr>\n",
       "    <tr>\n",
       "      <th>2</th>\n",
       "      <td>30003</td>\n",
       "      <td>26.0</td>\n",
       "      <td>clips-30003.jpg</td>\n",
       "    </tr>\n",
       "    <tr>\n",
       "      <th>3</th>\n",
       "      <td>30004</td>\n",
       "      <td>41.0</td>\n",
       "      <td>clips-30004.jpg</td>\n",
       "    </tr>\n",
       "    <tr>\n",
       "      <th>4</th>\n",
       "      <td>30005</td>\n",
       "      <td>49.0</td>\n",
       "      <td>clips-30005.jpg</td>\n",
       "    </tr>\n",
       "    <tr>\n",
       "      <th>...</th>\n",
       "      <td>...</td>\n",
       "      <td>...</td>\n",
       "      <td>...</td>\n",
       "    </tr>\n",
       "    <tr>\n",
       "      <th>19995</th>\n",
       "      <td>49996</td>\n",
       "      <td>35.0</td>\n",
       "      <td>clips-49996.jpg</td>\n",
       "    </tr>\n",
       "    <tr>\n",
       "      <th>19996</th>\n",
       "      <td>49997</td>\n",
       "      <td>54.0</td>\n",
       "      <td>clips-49997.jpg</td>\n",
       "    </tr>\n",
       "    <tr>\n",
       "      <th>19997</th>\n",
       "      <td>49998</td>\n",
       "      <td>72.0</td>\n",
       "      <td>clips-49998.jpg</td>\n",
       "    </tr>\n",
       "    <tr>\n",
       "      <th>19998</th>\n",
       "      <td>49999</td>\n",
       "      <td>24.0</td>\n",
       "      <td>clips-49999.jpg</td>\n",
       "    </tr>\n",
       "    <tr>\n",
       "      <th>19999</th>\n",
       "      <td>50000</td>\n",
       "      <td>35.0</td>\n",
       "      <td>clips-50000.jpg</td>\n",
       "    </tr>\n",
       "  </tbody>\n",
       "</table>\n",
       "<p>20000 rows × 3 columns</p>\n",
       "</div>"
      ],
      "text/plain": [
       "          id  clip_count         filename\n",
       "0      30001        11.0  clips-30001.jpg\n",
       "1      30002         2.0  clips-30002.jpg\n",
       "2      30003        26.0  clips-30003.jpg\n",
       "3      30004        41.0  clips-30004.jpg\n",
       "4      30005        49.0  clips-30005.jpg\n",
       "...      ...         ...              ...\n",
       "19995  49996        35.0  clips-49996.jpg\n",
       "19996  49997        54.0  clips-49997.jpg\n",
       "19997  49998        72.0  clips-49998.jpg\n",
       "19998  49999        24.0  clips-49999.jpg\n",
       "19999  50000        35.0  clips-50000.jpg\n",
       "\n",
       "[20000 rows x 3 columns]"
      ]
     },
     "execution_count": 27,
     "metadata": {},
     "output_type": "execute_result"
    }
   ],
   "source": [
    "import os\n",
    "import pandas as pd\n",
    "\n",
    "csvfilename = os.path.join(SOURCE, \"train.csv\")\n",
    "print(csvfilename)\n",
    "df_train = pd.read_csv(os.path.join(SOURCE, \"train.csv\"), na_values=['NA', '?'])\n",
    "df_test = pd.read_csv(os.path.join(SOURCE, \"test.csv\"), na_values=['NA', '?'])\n",
    "df_train['filename']=\"clips-\"+ df[\"id\"].astype(str)+\".jpg\"\n",
    "df_test['filename']=\"clips-\"+ df[\"id\"].astype(str)+\".jpg\"\n",
    "df_train[\"clip_count\"] = df_train[\"clip_count\"].astype(\"float32\")\n",
    "df_test[\"clip_count\"] = df_train[\"clip_count\"].astype(\"float32\")\n",
    "df_train"
   ]
  },
  {
   "cell_type": "markdown",
   "id": "274fa70f-8a1c-4dfe-93d1-0bcbf7de3901",
   "metadata": {},
   "source": [
    "Rozdělení dat (trénovací vs. testovací množina)"
   ]
  },
  {
   "cell_type": "code",
   "execution_count": 28,
   "id": "8dc19225-0197-4017-a6ab-b78f22ff2824",
   "metadata": {},
   "outputs": [
    {
     "name": "stdout",
     "output_type": "stream",
     "text": [
      "Training size: 18000\n",
      "Validate size: 2000\n"
     ]
    }
   ],
   "source": [
    "TRAIN_PCT = 0.9\n",
    "TRAIN_CUT = int(len(df_train) * TRAIN_PCT)\n",
    "\n",
    "df_validate = df_train[TRAIN_CUT:]\n",
    "df_train = df_train[0:TRAIN_CUT]\n",
    "\n",
    "print(f\"Training size: {len(df_train)}\")\n",
    "print(f\"Validate size: {len(df_validate)}\")"
   ]
  },
  {
   "cell_type": "code",
   "execution_count": 29,
   "id": "5ea7862d-9d17-4247-9061-38be7ab1dcbc",
   "metadata": {},
   "outputs": [
    {
     "data": {
      "text/plain": [
       "[{'id': 48001, 'clip_count': 29.0, 'filename': 'clips-48001.jpg'},\n",
       " {'id': 48002, 'clip_count': 29.0, 'filename': 'clips-48002.jpg'},\n",
       " {'id': 48003, 'clip_count': 33.0, 'filename': 'clips-48003.jpg'},\n",
       " {'id': 48004, 'clip_count': 14.0, 'filename': 'clips-48004.jpg'},\n",
       " {'id': 48005, 'clip_count': 43.0, 'filename': 'clips-48005.jpg'},\n",
       " {'id': 48006, 'clip_count': 33.0, 'filename': 'clips-48006.jpg'},\n",
       " {'id': 48007, 'clip_count': 32.0, 'filename': 'clips-48007.jpg'},\n",
       " {'id': 48008, 'clip_count': 2.0, 'filename': 'clips-48008.jpg'},\n",
       " {'id': 48009, 'clip_count': 73.0, 'filename': 'clips-48009.jpg'},\n",
       " {'id': 48010, 'clip_count': 4.0, 'filename': 'clips-48010.jpg'}]"
      ]
     },
     "execution_count": 29,
     "metadata": {},
     "output_type": "execute_result"
    }
   ],
   "source": [
    "import json\n",
    "dfjson = json.loads(df_validate.to_json(orient=\"records\"))\n",
    "dfjson[:10]"
   ]
  },
  {
   "cell_type": "markdown",
   "id": "13fde5f9-fd2c-4924-ae00-24ec27253285",
   "metadata": {},
   "source": [
    "Vytvoření prvku, který se chován jako dynamický list. Tedy má délku a lze přistupovat k indexu."
   ]
  },
  {
   "cell_type": "code",
   "execution_count": null,
   "id": "979c73b2-729d-42b2-a6cd-abb5042940f8",
   "metadata": {},
   "outputs": [],
   "source": [
    "from torch.utils.data import Dataset\n",
    "\n",
    "def createDataset(dataframe, root_dir, transform=None):\n",
    "    class ClipCountDataset(Dataset):\n",
    "        def __len__(self):\n",
    "            return len(self.data)\n",
    "\n",
    "        def __getitem__(self, idx):\n",
    "            img_name = os.path.join(\n",
    "                self.root_dir, \"clips-\" + str(self.data.iloc[idx, 0]) + \".jpg\"\n",
    "            )\n",
    "            image = Image.open(img_name)\n",
    "            clip_count = self.data.iloc[idx, 1]\n",
    "            sample = {\"image\": image, \"clip_count\": clip_count}\n",
    "            if self.transform:\n",
    "                sample[\"image\"] = self.transform(sample[\"image\"])\n",
    "            return sample\n",
    "    return ClipCountDataset()"
   ]
  },
  {
   "cell_type": "code",
   "execution_count": null,
   "id": "48c26f68-88e6-4866-8d60-640a944aacd8",
   "metadata": {},
   "outputs": [],
   "source": []
  }
 ],
 "metadata": {
  "kernelspec": {
   "display_name": "Python 3 (ipykernel)",
   "language": "python",
   "name": "python3"
  },
  "language_info": {
   "codemirror_mode": {
    "name": "ipython",
    "version": 3
   },
   "file_extension": ".py",
   "mimetype": "text/x-python",
   "name": "python",
   "nbconvert_exporter": "python",
   "pygments_lexer": "ipython3",
   "version": "3.10.6"
  }
 },
 "nbformat": 4,
 "nbformat_minor": 5
}
