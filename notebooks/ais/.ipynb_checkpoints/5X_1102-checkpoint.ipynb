{
 "cells": [
  {
   "cell_type": "markdown",
   "id": "ee11af0a-8286-43a0-9ae6-9b67352af5a4",
   "metadata": {},
   "source": [
    "# Cvičení"
   ]
  },
  {
   "cell_type": "markdown",
   "id": "680b29b2-291a-4d0d-b022-1c949320562d",
   "metadata": {},
   "source": [
    "## Server"
   ]
  },
  {
   "cell_type": "code",
   "execution_count": 1,
   "id": "21f7507e-9063-4000-96e6-d9bb60434f5c",
   "metadata": {},
   "outputs": [],
   "source": [
    "serverpath = \"https://needtoknow.cz\""
   ]
  },
  {
   "cell_type": "code",
   "execution_count": 2,
   "id": "4b173132-d521-44ae-9fdf-dfeb3c0033fc",
   "metadata": {},
   "outputs": [
    {
     "name": "stdin",
     "output_type": "stream",
     "text": [
      " ········\n"
     ]
    }
   ],
   "source": [
    "import getpass\n",
    "server = getpass.getpass()\n",
    "serverpath = f\"https://{server}.cz\""
   ]
  },
  {
   "cell_type": "markdown",
   "id": "4f25e4a1-6246-40ed-97ba-be49959c73a9",
   "metadata": {},
   "source": [
    "## Dataset"
   ]
  },
  {
   "cell_type": "code",
   "execution_count": 8,
   "id": "00cb7e04-d13a-440c-8b47-bb74f1f31eaa",
   "metadata": {},
   "outputs": [],
   "source": [
    "document = \"/~profesor/data/data.txt\""
   ]
  },
  {
   "cell_type": "code",
   "execution_count": 9,
   "id": "e16e356c-3223-41a1-8111-d5f60151872b",
   "metadata": {},
   "outputs": [],
   "source": [
    "fullurl = serverpath + document"
   ]
  },
  {
   "cell_type": "code",
   "execution_count": 12,
   "id": "1bb8bb7e-a24e-4b39-b492-35bea6abeb93",
   "metadata": {},
   "outputs": [],
   "source": [
    "import pandas as pd\n",
    "\n",
    "df = pd.read_csv(fullurl, delimiter=\"\\t\", \n",
    "    names=[\n",
    "        \"date1\", \"V1\", \"A1\", \"W1\", \"V2\", \"A2\", \"W2\", \"AOut\", \"VOut\", \"AOut2\", \"VOut2\", \"AOut3\", \"VOut3\", \"P\", \"FI\", \n",
    "        \"DV\", \"CV\", \"PE\", \"SE\", \"EPS\", \"EPS2\", \"EPS3\", \"EPSR\", \"EPSS\", \"EPST\", \"IS\", \"BOS\", \"date2\"\n",
    "    ])"
   ]
  }
 ],
 "metadata": {
  "kernelspec": {
   "display_name": "Python 3 (ipykernel)",
   "language": "python",
   "name": "python3"
  },
  "language_info": {
   "codemirror_mode": {
    "name": "ipython",
    "version": 3
   },
   "file_extension": ".py",
   "mimetype": "text/x-python",
   "name": "python",
   "nbconvert_exporter": "python",
   "pygments_lexer": "ipython3",
   "version": "3.10.6"
  }
 },
 "nbformat": 4,
 "nbformat_minor": 5
}
