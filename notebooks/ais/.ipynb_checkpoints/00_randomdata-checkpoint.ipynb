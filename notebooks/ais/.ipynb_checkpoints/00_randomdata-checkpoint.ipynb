{
 "cells": [
  {
   "cell_type": "markdown",
   "id": "715b4bc3-06fc-4bf7-9be2-e17cb5a59aab",
   "metadata": {},
   "source": [
    "# Random Data"
   ]
  },
  {
   "cell_type": "markdown",
   "id": "4b11e64f-42dc-4da7-9a95-aa7da12ef027",
   "metadata": {},
   "source": [
    "## Helpers"
   ]
  },
  {
   "cell_type": "markdown",
   "id": "8413593b-b693-485a-b4cc-c08753027fbd",
   "metadata": {},
   "source": [
    "Funkce pro vytvoření cache."
   ]
  },
  {
   "cell_type": "code",
   "execution_count": 1,
   "id": "8aad508d-e7f9-4260-9fb8-9b896623df35",
   "metadata": {},
   "outputs": [],
   "source": [
    "from functools import cache\n",
    "\n",
    "@cache\n",
    "def cacheById(keyName, cacheInit = {}):\n",
    "    subCache = {**cacheInit}\n",
    "    def decorator(f):\n",
    "        def decoratedFunc(data):\n",
    "            id = data['id']\n",
    "            cacheItem = subCache.get(id, None)\n",
    "            if cacheItem is None:\n",
    "                cacheItem = f(data)\n",
    "                subCache[id] = cacheItem\n",
    "            return cacheItem\n",
    "        return decoratedFunc\n",
    "    return decorator"
   ]
  },
  {
   "cell_type": "markdown",
   "id": "679ef9cc-5792-4364-a3d1-81584df064b8",
   "metadata": {},
   "source": [
    "## Random Ids"
   ]
  },
  {
   "cell_type": "code",
   "execution_count": 2,
   "id": "8982bdf7-2bd7-4dce-aeec-d6ff243a3c90",
   "metadata": {},
   "outputs": [
    {
     "name": "stdout",
     "output_type": "stream",
     "text": [
      "[1, 2, 3, 4, 5, 6, 7, 8, 9, 10]\n",
      "[1, 2, 3]\n"
     ]
    }
   ],
   "source": [
    "import random\n",
    "\n",
    "def randomIds(lowCount=0, highCount=None, startId=1):\n",
    "    if highCount is None:\n",
    "        result = [id + startId for id in range(lowCount)]\n",
    "    else:\n",
    "        result = [id + startId for id in range(random.randint(lowCount, highCount))]\n",
    "    return result\n",
    "\n",
    "print(randomIds(10))\n",
    "print(randomIds(2, 3))"
   ]
  },
  {
   "cell_type": "markdown",
   "id": "3d273a31-6435-4c6e-b1a3-6defb7792218",
   "metadata": {},
   "source": [
    "## Random User"
   ]
  },
  {
   "cell_type": "code",
   "execution_count": 3,
   "id": "e39377cd-6997-4d07-ad62-26ca8ed2a780",
   "metadata": {},
   "outputs": [],
   "source": [
    "from functools import cache\n",
    "\n",
    "@cacheById('user')\n",
    "def randomUser(user):\n",
    "    surNames = [\n",
    "        'Novák', 'Nováková', 'Svobodová', 'Svoboda', 'Novotná',\n",
    "        'Novotný', 'Dvořáková', 'Dvořák', 'Černá', 'Černý', \n",
    "        'Procházková', 'Procházka', 'Kučerová', 'Kučera', 'Veselá',\n",
    "        'Veselý', 'Horáková', 'Krejčí', 'Horák', 'Němcová', \n",
    "        'Marková', 'Němec', 'Pokorná', 'Pospíšilová','Marek'\n",
    "    ]\n",
    "\n",
    "    names = [\n",
    "        'Jiří', 'Jan', 'Petr', 'Jana', 'Marie', 'Josef',\n",
    "        'Pavel', 'Martin', 'Tomáš', 'Jaroslav', 'Eva',\n",
    "        'Miroslav', 'Hana', 'Anna', 'Zdeněk', 'Václav',\n",
    "        'Michal', 'František', 'Lenka', 'Kateřina',\n",
    "        'Lucie', 'Jakub', 'Milan', 'Věra', 'Alena'\n",
    "    ]\n",
    "\n",
    "    name1 = random.choice(names)\n",
    "    name2 = random.choice(names)\n",
    "    name3 = random.choice(surNames)\n",
    "    email = f'{name1}.{name2}.{name3}@university.world'\n",
    "    return {**user, 'name': f'{name1} {name2}', 'surname': name3, 'email': email}\n",
    "\n",
    "@cacheById('user_group')\n",
    "def resolve_user2group(parent):\n",
    "    groups = parent.get('groups', None)\n",
    "    if groups is None:\n",
    "        groups = [randomGroup({'id': id}) for id in randomIds(1, 3)]\n",
    "        parent['groups'] = groups\n",
    "    return groups"
   ]
  },
  {
   "cell_type": "markdown",
   "id": "c7b8df3d-d384-4a82-9a14-96f15a014917",
   "metadata": {},
   "source": [
    "Všimněte si následujícího náhodného generování. Náhodně vygenerovaný uživatel s id=1 je zapamatován a vrácen z cache. Cache je implementována pomocí dekorátoru definovaného výše."
   ]
  },
  {
   "cell_type": "code",
   "execution_count": 4,
   "id": "b50c921b-1119-4d99-bd73-6e145df36a5b",
   "metadata": {},
   "outputs": [
    {
     "name": "stdout",
     "output_type": "stream",
     "text": [
      "{'id': 1, 'name': 'Tomáš Jaroslav', 'surname': 'Procházková', 'email': 'Tomáš.Jaroslav.Procházková@university.world'}\n",
      "{'id': 1, 'name': 'Tomáš Jaroslav', 'surname': 'Procházková', 'email': 'Tomáš.Jaroslav.Procházková@university.world'}\n"
     ]
    }
   ],
   "source": [
    "user = randomUser({'id': 1})\n",
    "print(user)\n",
    "user = randomUser({'id': 1})\n",
    "print(user)"
   ]
  },
  {
   "cell_type": "markdown",
   "id": "f4750b8a-cfdf-4784-ada2-66fb6e817ab7",
   "metadata": {},
   "source": [
    "## Random Group"
   ]
  },
  {
   "cell_type": "code",
   "execution_count": 5,
   "id": "0d1c51fb-5bb3-41df-83a6-425754bc92a1",
   "metadata": {},
   "outputs": [],
   "source": [
    "groupTypes = [\n",
    "    {'id': 1, 'name': 'university'},\n",
    "    {'id': 2, 'name': 'faculty'},\n",
    "    {'id': 3, 'name': 'department'},\n",
    "    {'id': 4, 'name': 'studygroup'},    \n",
    "]\n",
    "\n",
    "@cacheById('grouptype')\n",
    "def resolve_group_type(parent):\n",
    "    groupType = parent.get('grouptype', None)\n",
    "    if groupType is None:\n",
    "        return random.choice(groupTypes)\n",
    "    else:\n",
    "        return groupType\n",
    "\n",
    "@cacheById('group')\n",
    "def randomGroup(group):\n",
    "    name = f\"G_{random.choice(['B', 'C', 'K'])}{random.choice(['A', 'E', 'I'])}\"\n",
    "    result = {**group, 'name': name}\n",
    "    return result\n",
    "\n",
    "@cacheById('groupusers')\n",
    "def resolve_group2users(parent):\n",
    "    users = parent.get('users', None)\n",
    "    if users is None:\n",
    "        users = [randomUser({'id': id}) for id in randomIds(lowCount=5, highCount=20, startId=parent['id'] * 10)]\n",
    "        parent['users'] = users   \n",
    "    return users"
   ]
  },
  {
   "cell_type": "code",
   "execution_count": 6,
   "id": "60ac1a3c-b941-449a-8c6b-b2a2051862ce",
   "metadata": {},
   "outputs": [
    {
     "name": "stdout",
     "output_type": "stream",
     "text": [
      "{'id': 1, 'name': 'G_CI'}\n"
     ]
    }
   ],
   "source": [
    "group = randomGroup({'id': 1})\n",
    "print(group)"
   ]
  },
  {
   "cell_type": "markdown",
   "id": "3915964f-dd2f-40bc-918e-4231d273d20f",
   "metadata": {},
   "source": [
    "## Tests A"
   ]
  },
  {
   "cell_type": "code",
   "execution_count": 7,
   "id": "d8dcce3a-5cde-4faa-a0e4-5ad71c25940b",
   "metadata": {},
   "outputs": [
    {
     "name": "stdout",
     "output_type": "stream",
     "text": [
      "{'id': 1, 'name': 'G_CI', 'grouptype': {'id': 3, 'name': 'department'}, 'users': [{'id': 10, 'name': 'Alena Jana', 'surname': 'Novotný', 'email': 'Alena.Jana.Novotný@university.world'}, {'id': 11, 'name': 'Martin Josef', 'surname': 'Procházka', 'email': 'Martin.Josef.Procházka@university.world'}, {'id': 12, 'name': 'Petr Anna', 'surname': 'Němcová', 'email': 'Petr.Anna.Němcová@university.world'}, {'id': 13, 'name': 'Jana Petr', 'surname': 'Procházková', 'email': 'Jana.Petr.Procházková@university.world'}, {'id': 14, 'name': 'Michal Petr', 'surname': 'Veselý', 'email': 'Michal.Petr.Veselý@university.world'}]}\n"
     ]
    }
   ],
   "source": [
    "group = randomGroup({'id': 1})\n",
    "group = {**group, 'grouptype': resolve_group_type(group), 'users': resolve_group2users(group)}\n",
    "print(group)"
   ]
  },
  {
   "cell_type": "markdown",
   "id": "2a8a6fb3-30a5-4ea4-9ca8-03b47475ff04",
   "metadata": {},
   "source": [
    "### Odhalený side effect u cache (a nejenom tam)."
   ]
  },
  {
   "cell_type": "code",
   "execution_count": 8,
   "id": "6011886c-4155-4d8c-b90a-31d3462ae6c5",
   "metadata": {},
   "outputs": [
    {
     "name": "stdout",
     "output_type": "stream",
     "text": [
      "{'id': 1, 'name': 'G_CI', 'users': [{'id': 10, 'name': 'Alena Jana', 'surname': 'Novotný', 'email': 'Alena.Jana.Novotný@university.world'}, {'id': 11, 'name': 'Martin Josef', 'surname': 'Procházka', 'email': 'Martin.Josef.Procházka@university.world'}, {'id': 12, 'name': 'Petr Anna', 'surname': 'Němcová', 'email': 'Petr.Anna.Němcová@university.world'}, {'id': 13, 'name': 'Jana Petr', 'surname': 'Procházková', 'email': 'Jana.Petr.Procházková@university.world'}, {'id': 14, 'name': 'Michal Petr', 'surname': 'Veselý', 'email': 'Michal.Petr.Veselý@university.world'}]}\n",
      "{'id': 1, 'name': 'G_CI', 'users': [{'id': 10, 'name': 'Alena Jana', 'surname': 'Novotný', 'email': 'Alena.Jana.Novotný@university.world'}, {'id': 11, 'name': 'Martin Josef', 'surname': 'Procházka', 'email': 'Martin.Josef.Procházka@university.world'}, {'id': 12, 'name': 'Petr Anna', 'surname': 'Němcová', 'email': 'Petr.Anna.Němcová@university.world'}, {'id': 13, 'name': 'Jana Petr', 'surname': 'Procházková', 'email': 'Jana.Petr.Procházková@university.world'}, {'id': 14, 'name': 'Michal Petr', 'surname': 'Veselý', 'email': 'Michal.Petr.Veselý@university.world'}]}\n"
     ]
    }
   ],
   "source": [
    "group = randomGroup({'id': 1})\n",
    "print(group)\n",
    "#group = {**group, 'grouptype': resolve_group_type(group), 'users': resolve_group2users(group)}\n",
    "resolve_group2users(group)\n",
    "print(group)"
   ]
  },
  {
   "cell_type": "code",
   "execution_count": 9,
   "id": "26854e2a-dc73-4714-81f3-ce836ffe8153",
   "metadata": {},
   "outputs": [
    {
     "name": "stdout",
     "output_type": "stream",
     "text": [
      "{'id': 1, 'name': 'G_CI', 'users': [{'id': 10, 'name': 'Alena Jana', 'surname': 'Novotný', 'email': 'Alena.Jana.Novotný@university.world'}, {'id': 11, 'name': 'Martin Josef', 'surname': 'Procházka', 'email': 'Martin.Josef.Procházka@university.world'}, {'id': 12, 'name': 'Petr Anna', 'surname': 'Němcová', 'email': 'Petr.Anna.Němcová@university.world'}, {'id': 13, 'name': 'Jana Petr', 'surname': 'Procházková', 'email': 'Jana.Petr.Procházková@university.world'}, {'id': 14, 'name': 'Michal Petr', 'surname': 'Veselý', 'email': 'Michal.Petr.Veselý@university.world'}]}\n"
     ]
    }
   ],
   "source": [
    "group = randomGroup({'id': 1})\n",
    "print(group)"
   ]
  },
  {
   "cell_type": "code",
   "execution_count": 10,
   "id": "e9ad12cc-4255-4785-beb1-78f37314803b",
   "metadata": {},
   "outputs": [
    {
     "name": "stdout",
     "output_type": "stream",
     "text": [
      "{'id': 1, 'name': 'G_CI', 'users': [{'id': 10, 'name': 'Alena Jana', 'surname': 'Novotný', 'email': 'Alena.Jana.Novotný@university.world', 'groups': [{...}]}, {'id': 11, 'name': 'Martin Josef', 'surname': 'Procházka', 'email': 'Martin.Josef.Procházka@university.world', 'groups': [{...}, {'id': 2, 'name': 'G_CI'}, {'id': 3, 'name': 'G_KE'}]}, {'id': 12, 'name': 'Petr Anna', 'surname': 'Němcová', 'email': 'Petr.Anna.Němcová@university.world', 'groups': [{...}, {'id': 2, 'name': 'G_CI'}, {'id': 3, 'name': 'G_KE'}]}, {'id': 13, 'name': 'Jana Petr', 'surname': 'Procházková', 'email': 'Jana.Petr.Procházková@university.world', 'groups': [{...}]}, {'id': 14, 'name': 'Michal Petr', 'surname': 'Veselý', 'email': 'Michal.Petr.Veselý@university.world', 'groups': [{...}, {'id': 2, 'name': 'G_CI'}, {'id': 3, 'name': 'G_KE'}]}]}\n"
     ]
    }
   ],
   "source": [
    "for user in group['users']:\n",
    "    resolve_user2group(user)\n",
    "    \n",
    "print(group)"
   ]
  },
  {
   "cell_type": "code",
   "execution_count": 11,
   "id": "311936a0-394b-4959-9054-606df68c1382",
   "metadata": {},
   "outputs": [
    {
     "name": "stdout",
     "output_type": "stream",
     "text": [
      "{'id': 2, 'name': 'G_CI'}\n"
     ]
    }
   ],
   "source": [
    "group = randomGroup({'id': 2})\n",
    "print(group)"
   ]
  },
  {
   "cell_type": "markdown",
   "id": "258225e2-1ad1-4825-983f-390245c22e85",
   "metadata": {},
   "source": [
    "### Konsistence User vs. Group"
   ]
  },
  {
   "cell_type": "code",
   "execution_count": 12,
   "id": "09a8910c-1636-4c0f-a1ef-b522f8c6db63",
   "metadata": {},
   "outputs": [
    {
     "name": "stdout",
     "output_type": "stream",
     "text": [
      "{'id': 2, 'name': 'G_CI'}\n",
      "--------------------------------------------------\n",
      "{'id': 2, 'name': 'G_CI', 'users': [{'id': 11, 'name': 'Martin Josef', 'surname': 'Procházka', 'email': 'Martin.Josef.Procházka@university.world', 'groups': [{'id': 1, 'name': 'G_CI', 'users': [{'id': 10, 'name': 'Alena Jana', 'surname': 'Novotný', 'email': 'Alena.Jana.Novotný@university.world', 'groups': [{...}]}, {...}, {'id': 12, 'name': 'Petr Anna', 'surname': 'Němcová', 'email': 'Petr.Anna.Němcová@university.world', 'groups': [{...}, {...}, {'id': 3, 'name': 'G_KE', 'users': [{...}, {...}, {'id': 14, 'name': 'Michal Petr', 'surname': 'Veselý', 'email': 'Michal.Petr.Veselý@university.world', 'groups': [{...}, {...}, {...}]}]}]}, {'id': 13, 'name': 'Jana Petr', 'surname': 'Procházková', 'email': 'Jana.Petr.Procházková@university.world', 'groups': [{...}]}, {'id': 14, 'name': 'Michal Petr', 'surname': 'Veselý', 'email': 'Michal.Petr.Veselý@university.world', 'groups': [{...}, {...}, {'id': 3, 'name': 'G_KE', 'users': [{...}, {'id': 12, 'name': 'Petr Anna', 'surname': 'Němcová', 'email': 'Petr.Anna.Němcová@university.world', 'groups': [{...}, {...}, {...}]}, {...}]}]}]}, {...}, {'id': 3, 'name': 'G_KE', 'users': [{...}, {'id': 12, 'name': 'Petr Anna', 'surname': 'Němcová', 'email': 'Petr.Anna.Němcová@university.world', 'groups': [{'id': 1, 'name': 'G_CI', 'users': [{'id': 10, 'name': 'Alena Jana', 'surname': 'Novotný', 'email': 'Alena.Jana.Novotný@university.world', 'groups': [{...}]}, {...}, {...}, {'id': 13, 'name': 'Jana Petr', 'surname': 'Procházková', 'email': 'Jana.Petr.Procházková@university.world', 'groups': [{...}]}, {'id': 14, 'name': 'Michal Petr', 'surname': 'Veselý', 'email': 'Michal.Petr.Veselý@university.world', 'groups': [{...}, {...}, {...}]}]}, {...}, {...}]}, {'id': 14, 'name': 'Michal Petr', 'surname': 'Veselý', 'email': 'Michal.Petr.Veselý@university.world', 'groups': [{'id': 1, 'name': 'G_CI', 'users': [{'id': 10, 'name': 'Alena Jana', 'surname': 'Novotný', 'email': 'Alena.Jana.Novotný@university.world', 'groups': [{...}]}, {...}, {'id': 12, 'name': 'Petr Anna', 'surname': 'Němcová', 'email': 'Petr.Anna.Němcová@university.world', 'groups': [{...}, {...}, {...}]}, {'id': 13, 'name': 'Jana Petr', 'surname': 'Procházková', 'email': 'Jana.Petr.Procházková@university.world', 'groups': [{...}]}, {...}]}, {...}, {...}]}]}]}, {'id': 12, 'name': 'Petr Anna', 'surname': 'Němcová', 'email': 'Petr.Anna.Němcová@university.world', 'groups': [{'id': 1, 'name': 'G_CI', 'users': [{'id': 10, 'name': 'Alena Jana', 'surname': 'Novotný', 'email': 'Alena.Jana.Novotný@university.world', 'groups': [{...}]}, {'id': 11, 'name': 'Martin Josef', 'surname': 'Procházka', 'email': 'Martin.Josef.Procházka@university.world', 'groups': [{...}, {...}, {'id': 3, 'name': 'G_KE', 'users': [{...}, {...}, {'id': 14, 'name': 'Michal Petr', 'surname': 'Veselý', 'email': 'Michal.Petr.Veselý@university.world', 'groups': [{...}, {...}, {...}]}]}]}, {...}, {'id': 13, 'name': 'Jana Petr', 'surname': 'Procházková', 'email': 'Jana.Petr.Procházková@university.world', 'groups': [{...}]}, {'id': 14, 'name': 'Michal Petr', 'surname': 'Veselý', 'email': 'Michal.Petr.Veselý@university.world', 'groups': [{...}, {...}, {'id': 3, 'name': 'G_KE', 'users': [{'id': 11, 'name': 'Martin Josef', 'surname': 'Procházka', 'email': 'Martin.Josef.Procházka@university.world', 'groups': [{...}, {...}, {...}]}, {...}, {...}]}]}]}, {...}, {'id': 3, 'name': 'G_KE', 'users': [{'id': 11, 'name': 'Martin Josef', 'surname': 'Procházka', 'email': 'Martin.Josef.Procházka@university.world', 'groups': [{'id': 1, 'name': 'G_CI', 'users': [{'id': 10, 'name': 'Alena Jana', 'surname': 'Novotný', 'email': 'Alena.Jana.Novotný@university.world', 'groups': [{...}]}, {...}, {...}, {'id': 13, 'name': 'Jana Petr', 'surname': 'Procházková', 'email': 'Jana.Petr.Procházková@university.world', 'groups': [{...}]}, {'id': 14, 'name': 'Michal Petr', 'surname': 'Veselý', 'email': 'Michal.Petr.Veselý@university.world', 'groups': [{...}, {...}, {...}]}]}, {...}, {...}]}, {...}, {'id': 14, 'name': 'Michal Petr', 'surname': 'Veselý', 'email': 'Michal.Petr.Veselý@university.world', 'groups': [{'id': 1, 'name': 'G_CI', 'users': [{'id': 10, 'name': 'Alena Jana', 'surname': 'Novotný', 'email': 'Alena.Jana.Novotný@university.world', 'groups': [{...}]}, {'id': 11, 'name': 'Martin Josef', 'surname': 'Procházka', 'email': 'Martin.Josef.Procházka@university.world', 'groups': [{...}, {...}, {...}]}, {...}, {'id': 13, 'name': 'Jana Petr', 'surname': 'Procházková', 'email': 'Jana.Petr.Procházková@university.world', 'groups': [{...}]}, {...}]}, {...}, {...}]}]}]}, {'id': 14, 'name': 'Michal Petr', 'surname': 'Veselý', 'email': 'Michal.Petr.Veselý@university.world', 'groups': [{'id': 1, 'name': 'G_CI', 'users': [{'id': 10, 'name': 'Alena Jana', 'surname': 'Novotný', 'email': 'Alena.Jana.Novotný@university.world', 'groups': [{...}]}, {'id': 11, 'name': 'Martin Josef', 'surname': 'Procházka', 'email': 'Martin.Josef.Procházka@university.world', 'groups': [{...}, {...}, {'id': 3, 'name': 'G_KE', 'users': [{...}, {'id': 12, 'name': 'Petr Anna', 'surname': 'Němcová', 'email': 'Petr.Anna.Němcová@university.world', 'groups': [{...}, {...}, {...}]}, {...}]}]}, {'id': 12, 'name': 'Petr Anna', 'surname': 'Němcová', 'email': 'Petr.Anna.Němcová@university.world', 'groups': [{...}, {...}, {'id': 3, 'name': 'G_KE', 'users': [{'id': 11, 'name': 'Martin Josef', 'surname': 'Procházka', 'email': 'Martin.Josef.Procházka@university.world', 'groups': [{...}, {...}, {...}]}, {...}, {...}]}]}, {'id': 13, 'name': 'Jana Petr', 'surname': 'Procházková', 'email': 'Jana.Petr.Procházková@university.world', 'groups': [{...}]}, {...}]}, {...}, {'id': 3, 'name': 'G_KE', 'users': [{'id': 11, 'name': 'Martin Josef', 'surname': 'Procházka', 'email': 'Martin.Josef.Procházka@university.world', 'groups': [{'id': 1, 'name': 'G_CI', 'users': [{'id': 10, 'name': 'Alena Jana', 'surname': 'Novotný', 'email': 'Alena.Jana.Novotný@university.world', 'groups': [{...}]}, {...}, {'id': 12, 'name': 'Petr Anna', 'surname': 'Němcová', 'email': 'Petr.Anna.Němcová@university.world', 'groups': [{...}, {...}, {...}]}, {'id': 13, 'name': 'Jana Petr', 'surname': 'Procházková', 'email': 'Jana.Petr.Procházková@university.world', 'groups': [{...}]}, {...}]}, {...}, {...}]}, {'id': 12, 'name': 'Petr Anna', 'surname': 'Němcová', 'email': 'Petr.Anna.Němcová@university.world', 'groups': [{'id': 1, 'name': 'G_CI', 'users': [{'id': 10, 'name': 'Alena Jana', 'surname': 'Novotný', 'email': 'Alena.Jana.Novotný@university.world', 'groups': [{...}]}, {'id': 11, 'name': 'Martin Josef', 'surname': 'Procházka', 'email': 'Martin.Josef.Procházka@university.world', 'groups': [{...}, {...}, {...}]}, {...}, {'id': 13, 'name': 'Jana Petr', 'surname': 'Procházková', 'email': 'Jana.Petr.Procházková@university.world', 'groups': [{...}]}, {...}]}, {...}, {...}]}, {...}]}]}]}\n"
     ]
    }
   ],
   "source": [
    "def repairGroup(group):\n",
    "    for user in group['users']:\n",
    "        userId = user['id']\n",
    "        userGroups = user.get('groups', None)\n",
    "        if userGroups is None:\n",
    "            user['groups'] = []\n",
    "            userGroups = user['groups']\n",
    "        for groupB in userGroups:\n",
    "            groupUsers = groupB.get('users', None)\n",
    "            if groupUsers is None:\n",
    "                groupB['users'] = []\n",
    "                groupUsers = groupB['users']\n",
    "            hasUser = any(map(lambda item: item['id'] == userId, groupUsers))\n",
    "            if not hasUser:\n",
    "                groupUsers.append(user)\n",
    "                \n",
    "#def repairUser(user):\n",
    "    \n",
    "                \n",
    "group2 = randomGroup({'id': 2})\n",
    "print(group2)\n",
    "print('-'*50)\n",
    "group1 = randomGroup({'id': 1})\n",
    "repairGroup(group1)\n",
    "print(group2)"
   ]
  },
  {
   "cell_type": "markdown",
   "id": "6860d2cc-6b72-4134-ae7f-b72e0721c6d5",
   "metadata": {},
   "source": [
    "## Role"
   ]
  },
  {
   "cell_type": "code",
   "execution_count": 13,
   "id": "fed23e91-e6f7-46dd-a7b5-c96525b2c465",
   "metadata": {},
   "outputs": [],
   "source": [
    "roleTypes = [\n",
    "    {'id': 1, 'name': 'rector', 'roles': []},\n",
    "    {'id': 2, 'name': 'dean', 'roles': []},\n",
    "    {'id': 3, 'name': 'head of department', 'roles': []},\n",
    "    {'id': 4, 'name': 'vice rector', 'roles': []},\n",
    "    {'id': 4, 'name': 'vice dean', 'roles': []},\n",
    "]\n",
    "\n",
    "@cacheById('roletype')\n",
    "def resolve_group_type(parent):\n",
    "    groupType = parent.get('grouptype', None)\n",
    "    if groupType is None:\n",
    "        return random.choice(groupTypes)\n",
    "    else:\n",
    "        return groupType"
   ]
  },
  {
   "cell_type": "code",
   "execution_count": 14,
   "id": "5e6cb35d-fa60-4f30-bd43-30d51efea7b2",
   "metadata": {},
   "outputs": [
    {
     "data": {
      "text/plain": [
       "True"
      ]
     },
     "execution_count": 14,
     "metadata": {},
     "output_type": "execute_result"
    }
   ],
   "source": [
    "[]==[]"
   ]
  },
  {
   "cell_type": "code",
   "execution_count": 15,
   "id": "355a34d1-bcc0-4548-b015-5b7fece8c0bf",
   "metadata": {},
   "outputs": [
    {
     "data": {
      "text/plain": [
       "True"
      ]
     },
     "execution_count": 15,
     "metadata": {},
     "output_type": "execute_result"
    }
   ],
   "source": [
    "['Ahoj']==['Ahoj']"
   ]
  },
  {
   "cell_type": "code",
   "execution_count": null,
   "id": "ddef6a05-f73e-40f9-85ea-405ea90c0157",
   "metadata": {},
   "outputs": [],
   "source": []
  }
 ],
 "metadata": {
  "kernelspec": {
   "display_name": "Python 3 (ipykernel)",
   "language": "python",
   "name": "python3"
  },
  "language_info": {
   "codemirror_mode": {
    "name": "ipython",
    "version": 3
   },
   "file_extension": ".py",
   "mimetype": "text/x-python",
   "name": "python",
   "nbconvert_exporter": "python",
   "pygments_lexer": "ipython3",
   "version": "3.9.7"
  }
 },
 "nbformat": 4,
 "nbformat_minor": 5
}
