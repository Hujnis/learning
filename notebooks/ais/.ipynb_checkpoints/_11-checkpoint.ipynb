{
 "cells": [
  {
   "cell_type": "markdown",
   "id": "2e66d52b-1f17-400e-a1cf-307686c69c72",
   "metadata": {},
   "source": [
    "# FastAPI"
   ]
  },
  {
   "cell_type": "markdown",
   "id": "7f0f29c9-e12c-468c-907a-965e437f25ce",
   "metadata": {},
   "source": [
    "## Libs Install"
   ]
  },
  {
   "cell_type": "code",
   "execution_count": 5,
   "id": "c7d301c3-02fd-4f38-b6c1-11a4ae0fe487",
   "metadata": {},
   "outputs": [
    {
     "name": "stdout",
     "output_type": "stream",
     "text": [
      "Requirement already satisfied: uvicorn in /opt/conda/lib/python3.10/site-packages (0.23.2)\n",
      "Requirement already satisfied: typing-extensions>=4.0 in /opt/conda/lib/python3.10/site-packages (from uvicorn) (4.8.0)\n",
      "Requirement already satisfied: click>=7.0 in /opt/conda/lib/python3.10/site-packages (from uvicorn) (8.1.3)\n",
      "Requirement already satisfied: h11>=0.8 in /opt/conda/lib/python3.10/site-packages (from uvicorn) (0.14.0)\n",
      "Requirement already satisfied: fastapi in /opt/conda/lib/python3.10/site-packages (0.103.2)\n",
      "Requirement already satisfied: typing-extensions>=4.5.0 in /opt/conda/lib/python3.10/site-packages (from fastapi) (4.8.0)\n",
      "Requirement already satisfied: pydantic!=1.8,!=1.8.1,!=2.0.0,!=2.0.1,!=2.1.0,<3.0.0,>=1.7.4 in /opt/conda/lib/python3.10/site-packages (from fastapi) (2.4.2)\n",
      "Requirement already satisfied: anyio<4.0.0,>=3.7.1 in /opt/conda/lib/python3.10/site-packages (from fastapi) (3.7.1)\n",
      "Requirement already satisfied: starlette<0.28.0,>=0.27.0 in /opt/conda/lib/python3.10/site-packages (from fastapi) (0.27.0)\n",
      "Requirement already satisfied: idna>=2.8 in /opt/conda/lib/python3.10/site-packages (from anyio<4.0.0,>=3.7.1->fastapi) (3.4)\n",
      "Requirement already satisfied: sniffio>=1.1 in /opt/conda/lib/python3.10/site-packages (from anyio<4.0.0,>=3.7.1->fastapi) (1.3.0)\n",
      "Requirement already satisfied: exceptiongroup in /opt/conda/lib/python3.10/site-packages (from anyio<4.0.0,>=3.7.1->fastapi) (1.1.3)\n",
      "Requirement already satisfied: annotated-types>=0.4.0 in /opt/conda/lib/python3.10/site-packages (from pydantic!=1.8,!=1.8.1,!=2.0.0,!=2.0.1,!=2.1.0,<3.0.0,>=1.7.4->fastapi) (0.5.0)\n",
      "Requirement already satisfied: pydantic-core==2.10.1 in /opt/conda/lib/python3.10/site-packages (from pydantic!=1.8,!=1.8.1,!=2.0.0,!=2.0.1,!=2.1.0,<3.0.0,>=1.7.4->fastapi) (2.10.1)\n"
     ]
    }
   ],
   "source": [
    "!pip install uvicorn\n",
    "!pip install fastapi"
   ]
  },
  {
   "cell_type": "code",
   "execution_count": 6,
   "id": "8e8b7c8a-6fe2-4db0-8495-3d7ecc97ed72",
   "metadata": {},
   "outputs": [
    {
     "name": "stdout",
     "output_type": "stream",
     "text": [
      "Requirement already satisfied: wait4it in /opt/conda/lib/python3.10/site-packages (0.2.1)\n"
     ]
    }
   ],
   "source": [
    "!pip install wait4it"
   ]
  },
  {
   "cell_type": "markdown",
   "id": "31845cfc-5905-43b8-b9c3-84777e4646b5",
   "metadata": {},
   "source": [
    "## ASGI Notebook Layer"
   ]
  },
  {
   "cell_type": "markdown",
   "id": "37e83a6f-d692-4710-8d6b-16dbaf429668",
   "metadata": {},
   "source": [
    "### Aka main.py"
   ]
  },
  {
   "cell_type": "code",
   "execution_count": 2,
   "id": "69b8f1f3-8960-4797-bf85-19e7e30c65c8",
   "metadata": {},
   "outputs": [],
   "source": [
    "import uvicorn\n",
    "from fastapi import FastAPI\n",
    "\n",
    "app = FastAPI()#root_path='/api')\n",
    "\n",
    "def run():\n",
    "    uvicorn.run(app, port=9992, host='0.0.0.0', root_path='')"
   ]
  },
  {
   "cell_type": "markdown",
   "id": "8aba7e90-68a6-4e92-ac28-948c85bae251",
   "metadata": {},
   "source": [
    "### Helper Func for Notebook"
   ]
  },
  {
   "cell_type": "code",
   "execution_count": 3,
   "id": "5fec664d-2f7a-411c-9c6e-b97681cc661e",
   "metadata": {},
   "outputs": [],
   "source": [
    "# Code in this cell is just for (re)starting the API on a Process, and other compatibility stuff with Jupyter cells.\n",
    "# Just ignore it!\n",
    "\n",
    "from multiprocessing import Process\n",
    "from wait4it import wait_for\n",
    "\n",
    "_api_process = None\n",
    "\n",
    "def start_api(runNew=True):\n",
    "    \"\"\"Stop the API if running; Start the API; Wait until API (port) is available (reachable)\"\"\"\n",
    "    global _api_process\n",
    "    if _api_process:\n",
    "        _api_process.terminate()\n",
    "        _api_process.join()\n",
    "    \n",
    "    if runNew:\n",
    "        _api_process = Process(target=run, daemon=True)\n",
    "        _api_process.start()\n",
    "        wait_for(port=9992)"
   ]
  },
  {
   "cell_type": "markdown",
   "id": "7f728654-f7b9-4d47-8cc6-a125e70347cf",
   "metadata": {},
   "source": [
    "## Hello World"
   ]
  },
  {
   "cell_type": "markdown",
   "id": "2449f098-f488-47f2-a287-9860079a9fee",
   "metadata": {},
   "source": [
    "Následující kód je \"klasický\" hello world, po spuštění otevřete \n",
    "\n",
    "http://localhost:31102/docs\n",
    "\n",
    "Přestože je výše v kódu definovaný port 9992, je nutné si uvědomit, že ve stacku learning je tento port mapován na 31102.\n",
    "Pokud máte jiný stack, či jiné prostředí, přízpůsobte si url adresu.\n",
    "\n",
    "Neopomeňte server ukončit `start_api(runNew=False)`"
   ]
  },
  {
   "cell_type": "code",
   "execution_count": 4,
   "id": "f0b62d13-a8b1-4795-bc45-c4f163b418b8",
   "metadata": {},
   "outputs": [
    {
     "name": "stderr",
     "output_type": "stream",
     "text": [
      "INFO:     Started server process [7733]\n",
      "INFO:     Waiting for application startup.\n",
      "INFO:     Application startup complete.\n",
      "INFO:     Uvicorn running on http://0.0.0.0:9992 (Press CTRL+C to quit)\n"
     ]
    },
    {
     "name": "stdout",
     "output_type": "stream",
     "text": [
      "INFO:     172.20.0.1:50778 - \"GET / HTTP/1.1\" 404 Not Found\n",
      "INFO:     172.20.0.1:50790 - \"GET /docs HTTP/1.1\" 200 OK\n",
      "INFO:     172.20.0.1:50790 - \"GET /openapi.json HTTP/1.1\" 200 OK\n",
      "INFO:     172.20.0.1:50892 - \"GET /docs HTTP/1.1\" 200 OK\n",
      "INFO:     172.20.0.1:50892 - \"GET /openapi.json HTTP/1.1\" 200 OK\n"
     ]
    },
    {
     "name": "stderr",
     "output_type": "stream",
     "text": [
      "INFO:     Shutting down\n",
      "INFO:     Waiting for application shutdown.\n",
      "INFO:     Application shutdown complete.\n",
      "INFO:     Finished server process [7733]\n"
     ]
    }
   ],
   "source": [
    "from fastapi import FastAPI\n",
    "\n",
    "app = FastAPI()#root_path='/api')\n",
    "\n",
    "@app.get(\"/api\")\n",
    "def get_root():\n",
    "    return {\"Hello\": \"World\"}\n",
    "\n",
    "start_api()"
   ]
  },
  {
   "cell_type": "code",
   "execution_count": 7,
   "id": "78227052-a66f-4531-bfda-aeec6ef92f76",
   "metadata": {},
   "outputs": [],
   "source": [
    "start_api(runNew=False)"
   ]
  },
  {
   "cell_type": "code",
   "execution_count": null,
   "id": "44d3b10d-44a6-4d3a-8722-69238908b219",
   "metadata": {},
   "outputs": [],
   "source": []
  }
 ],
 "metadata": {
  "kernelspec": {
   "display_name": "Python 3 (ipykernel)",
   "language": "python",
   "name": "python3"
  },
  "language_info": {
   "codemirror_mode": {
    "name": "ipython",
    "version": 3
   },
   "file_extension": ".py",
   "mimetype": "text/x-python",
   "name": "python",
   "nbconvert_exporter": "python",
   "pygments_lexer": "ipython3",
   "version": "3.10.6"
  }
 },
 "nbformat": 4,
 "nbformat_minor": 5
}
