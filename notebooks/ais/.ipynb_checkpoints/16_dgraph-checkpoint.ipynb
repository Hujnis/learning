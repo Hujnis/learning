{
 "cells": [
  {
   "cell_type": "markdown",
   "id": "3aeb11b8-e463-40fd-b9bd-754a72c32072",
   "metadata": {},
   "source": []
  },
  {
   "cell_type": "markdown",
   "id": "10aea1d3-480e-47cf-9ad9-bc8f961b5f4b",
   "metadata": {},
   "source": [
    "https://dgraph.io/docs/\n",
    "\n",
    "https://github.com/dgraph-io/dgraph"
   ]
  }
 ],
 "metadata": {
  "kernelspec": {
   "display_name": "Python 3 (ipykernel)",
   "language": "python",
   "name": "python3"
  },
  "language_info": {
   "codemirror_mode": {
    "name": "ipython",
    "version": 3
   },
   "file_extension": ".py",
   "mimetype": "text/x-python",
   "name": "python",
   "nbconvert_exporter": "python",
   "pygments_lexer": "ipython3",
   "version": "3.9.7"
  }
 },
 "nbformat": 4,
 "nbformat_minor": 5
}
