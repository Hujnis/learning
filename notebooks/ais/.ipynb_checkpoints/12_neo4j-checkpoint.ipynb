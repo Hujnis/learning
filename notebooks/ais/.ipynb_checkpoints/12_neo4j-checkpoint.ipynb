{
 "cells": [
  {
   "cell_type": "markdown",
   "id": "3dc1aea6-dc67-4f97-bcc2-cff5b965fc44",
   "metadata": {},
   "source": [
    "# Neo4J"
   ]
  },
  {
   "cell_type": "markdown",
   "id": "01011be2-cf7e-4b73-8f29-8d94dd19464b",
   "metadata": {},
   "source": [
    "## Úvod"
   ]
  },
  {
   "cell_type": "markdown",
   "id": "9a648eaa-c6b8-4161-a6a2-b2ed53648b7e",
   "metadata": {},
   "source": [
    "https://neo4j.com/developer/get-started/\n",
    "\n",
    "> **Doporučené video**\n",
    "> https://www.youtube.com/watch?v=urO5FyP9PoI"
   ]
  },
  {
   "cell_type": "markdown",
   "id": "defc7d8b-2adf-427c-a10e-7acd9dbeaf8a",
   "metadata": {},
   "source": [
    "## Instalace v Docker"
   ]
  },
  {
   "cell_type": "markdown",
   "id": "7b44c402-db1c-4f49-bfa7-32ee2d1472e1",
   "metadata": {},
   "source": [
    "https://neo4j.com/developer/docker/\n",
    "\n",
    "`docker run -p7474:7474 -p7687:7687 -e NEO4J_AUTH=neo4j/s3cr3t neo4j`"
   ]
  },
  {
   "cell_type": "markdown",
   "id": "66f79556-a970-43ec-9963-bee7cef94ce8",
   "metadata": {},
   "source": [
    "## Drivers pro Python"
   ]
  },
  {
   "cell_type": "code",
   "execution_count": 3,
   "id": "b69fb233-8345-4865-95fe-bc49b4f820a4",
   "metadata": {},
   "outputs": [
    {
     "name": "stdout",
     "output_type": "stream",
     "text": [
      "Requirement already satisfied: py2neo in /opt/conda/lib/python3.9/site-packages (2021.2.3)\n",
      "Requirement already satisfied: packaging in /opt/conda/lib/python3.9/site-packages (from py2neo) (21.0)\n",
      "Requirement already satisfied: six>=1.15.0 in /opt/conda/lib/python3.9/site-packages (from py2neo) (1.15.0)\n",
      "Requirement already satisfied: interchange~=2021.0.4 in /opt/conda/lib/python3.9/site-packages (from py2neo) (2021.0.4)\n",
      "Requirement already satisfied: monotonic in /opt/conda/lib/python3.9/site-packages (from py2neo) (1.6)\n",
      "Requirement already satisfied: pygments>=2.0.0 in /opt/conda/lib/python3.9/site-packages (from py2neo) (2.10.0)\n",
      "Requirement already satisfied: pansi>=2020.7.3 in /opt/conda/lib/python3.9/site-packages (from py2neo) (2020.7.3)\n",
      "Requirement already satisfied: certifi in /opt/conda/lib/python3.9/site-packages (from py2neo) (2021.10.8)\n",
      "Requirement already satisfied: urllib3 in /opt/conda/lib/python3.9/site-packages (from py2neo) (1.26.7)\n",
      "Requirement already satisfied: pytz in /opt/conda/lib/python3.9/site-packages (from interchange~=2021.0.4->py2neo) (2021.3)\n",
      "Requirement already satisfied: pyparsing>=2.0.2 in /opt/conda/lib/python3.9/site-packages (from packaging->py2neo) (2.4.7)\n",
      "Collecting neo4j\n",
      "  Downloading neo4j-4.4.1.tar.gz (89 kB)\n",
      "     |████████████████████████████████| 89 kB 2.1 MB/s            \n",
      "\u001b[?25h  Preparing metadata (setup.py) ... \u001b[?25ldone\n",
      "\u001b[?25hRequirement already satisfied: pytz in /opt/conda/lib/python3.9/site-packages (from neo4j) (2021.3)\n",
      "Building wheels for collected packages: neo4j\n",
      "  Building wheel for neo4j (setup.py) ... \u001b[?25ldone\n",
      "\u001b[?25h  Created wheel for neo4j: filename=neo4j-4.4.1-py3-none-any.whl size=114783 sha256=b03901409bbd98a59f6a6d60090ccc694a7223890ac37573b3a77cd7655153cd\n",
      "  Stored in directory: /home/jovyan/.cache/pip/wheels/1a/38/4b/0876d24f853fdfe40b2440c8c03332ec2d7f1f88b2446dc694\n",
      "Successfully built neo4j\n",
      "Installing collected packages: neo4j\n",
      "Successfully installed neo4j-4.4.1\n"
     ]
    }
   ],
   "source": [
    "!pip install py2neo\n",
    "!pip install neo4j"
   ]
  },
  {
   "cell_type": "markdown",
   "id": "cfce17a3-6c24-45c1-93e1-ef07189aaf17",
   "metadata": {},
   "source": [
    "## Příklad"
   ]
  },
  {
   "cell_type": "markdown",
   "id": "8086ec49-221a-4d51-9a2a-31f7b5117b32",
   "metadata": {},
   "source": [
    "https://github.com/elementsinteractive/flask-graphql-neo4j"
   ]
  },
  {
   "cell_type": "markdown",
   "id": "d9aaccf2-7c1c-492f-a537-082a561ff397",
   "metadata": {},
   "source": [
    "## Odbočka na GraphQL"
   ]
  },
  {
   "cell_type": "markdown",
   "id": "8fd2d1ae-8ea0-4b48-85f3-4016350c7f39",
   "metadata": {},
   "source": [
    "### Data"
   ]
  },
  {
   "cell_type": "markdown",
   "id": "0df33a70-e0d7-4e6d-8f8e-1d93939d8a30",
   "metadata": {},
   "source": [
    "Předpokládejte následující datové struktury.\n",
    "\n",
    "> **Otázka**\n",
    ">\n",
    "> Jedná se o homogenní nebo heterogenní datové struktury. Názor obhajujte."
   ]
  },
  {
   "cell_type": "code",
   "execution_count": 2,
   "id": "395206b2-492b-4edc-9c94-c0dc88b7e9be",
   "metadata": {},
   "outputs": [],
   "source": [
    "grouptypes = [{'id': '1', 'name': 'faculty'}, {'id': '2', 'name': 'department'}, {'id': '3', 'name': 'study'}]\n",
    "roletypes = [{'id': '1', 'name': 'dean'}, {'id': '2', 'name': 'head'}, {'id': '1', 'name': 'leading teacher'}]\n",
    "groups = [\n",
    "    {'id': '1', 'name': 'FVT', 'grouptype': {'id': '1'}, 'children': [{'id': '2'}]}, \n",
    "    {'id': '2', 'name': 'K209', 'grouptype': {'id': '2'}, 'children': [], 'parent': {'id': '1'}}, \n",
    "    {'id': '3', 'name': '23-5KB', 'grouptype': {'id': '3'}, 'children': [], 'parent': {'id': '1'}}\n",
    "]\n",
    "users = [\n",
    "    {'id': '1', 'name': 'John', 'surname': 'Dean', 'email': 'john.dean@university.world', 'groups': [{'id': '2'}], 'roles': [{'id': '1', 'roletype': {'id': '1'}, 'group': {'id': '1'}}]},\n",
    "    {'id': '2', 'name': 'Peter', 'surname': 'Head', 'email': 'peter.head@university.world', 'groups': [{'id': '2'}], 'roles': [{'id': '2', 'roletype': {'id': '2'}, 'group': {'id': '2'}}]},\n",
    "    {'id': '3', 'name': 'Robert', 'surname': 'Teacher', 'email': 'robert.teacher@university.world', 'groups': [{'id': '2'}], 'roles': [{'id': '3', 'roletype': {'id': '3'}, 'group': {'id': '3'}}]},\n",
    "    {'id': '4', 'name': 'Michael', 'surname': 'Member', 'email': 'michael.member@university.world', 'groups': [{'id': '2'}], 'roles': []},\n",
    "    {'id': '5', 'name': 'William', 'surname': 'Newbie', 'email': 'william.newbie@university.world', 'groups': [{'id': '2'}], 'roles': []},\n",
    "    {'id': '6', 'name': 'David', 'surname': 'Student', 'email': 'david.student@university.world', 'groups': [{'id': '3'}], 'roles': []},\n",
    "    {'id': '7', 'name': 'Richard', 'surname': 'Winner', 'email': 'richard.winner@university.world', 'groups': [{'id': '3'}], 'roles': []},\n",
    "    {'id': '8', 'name': 'Joseph', 'surname': 'Winter', 'email': 'joseph.winter@university.world', 'groups': [{'id': '3'}], 'roles': []},\n",
    "]"
   ]
  },
  {
   "cell_type": "markdown",
   "id": "2e32baa0-411f-470f-83b4-09141ea25e60",
   "metadata": {},
   "source": [
    "> **Otázka**\n",
    "> \n",
    "> Jsou datové struktury výše uspořádany optimálně? Navrhněte strukturu (uložení), které by přístup k položkám zrychlylo, je-li to možné."
   ]
  },
  {
   "cell_type": "markdown",
   "id": "e5014bbf-0373-4aa4-a189-f7112b18ade8",
   "metadata": {},
   "source": [
    "### Resolver"
   ]
  },
  {
   "cell_type": "markdown",
   "id": "9bdd7407-d030-49de-9da4-30002b581a38",
   "metadata": {},
   "source": [
    "> **Otázka**\n",
    "> \n",
    "> Jak přeložíte do češtiny výraz \"resolve\"?"
   ]
  },
  {
   "cell_type": "markdown",
   "id": "e2897d01-19c4-43c5-8922-4b5132a6bfb3",
   "metadata": {},
   "source": [
    "**Příklad**\n",
    "\n",
    "Napište funkci, která vrátí uživatele s požadovaným id (viz datové struktury výše). Dodržte předepsanou signaturu funkce. Parametry `root` a `info` ignorujte. Parametr `id` použijte jako identifikátor."
   ]
  },
  {
   "cell_type": "code",
   "execution_count": null,
   "id": "db657fd8-0a09-44e6-ae96-667810b0ef1b",
   "metadata": {},
   "outputs": [],
   "source": [
    "def resolve_user(root, info, id):\n",
    "    # neco\n",
    "    # neco\n",
    "    return results[0]\n",
    "\n",
    "print(resolve_user(None, None, '1'))"
   ]
  },
  {
   "cell_type": "markdown",
   "id": "0be2f938-9b0e-4216-9b48-244a6d02b3c9",
   "metadata": {},
   "source": [
    "**Řešení**"
   ]
  },
  {
   "cell_type": "code",
   "execution_count": 52,
   "id": "7daa5611-1bbd-4dec-8e9f-8392039c975e",
   "metadata": {
    "jupyter": {
     "source_hidden": true
    },
    "tags": []
   },
   "outputs": [
    {
     "name": "stdout",
     "output_type": "stream",
     "text": [
      "{'id': '1', 'name': 'John', 'surname': 'Dean', 'email': 'john.dean@university.world', 'groups': [{'id': '2'}], 'roles': [{'id': '1', 'roletype': {'id': '1'}, 'group': {'id': '1'}}]}\n"
     ]
    }
   ],
   "source": [
    "def resolve_user(root, info, id):\n",
    "    filterFunc = lambda item: item['id'] == id\n",
    "    results = list(filter(filterFunc, users))\n",
    "    return results[0]\n",
    "\n",
    "print(resolve_user(None, None, '1'))"
   ]
  },
  {
   "cell_type": "markdown",
   "id": "2d4703d4-cf09-419a-8ecf-264bee3f024a",
   "metadata": {},
   "source": [
    "### Další resolvery"
   ]
  },
  {
   "cell_type": "code",
   "execution_count": 17,
   "id": "0d9a4929-0a6d-425d-aeb3-17e50c13fb99",
   "metadata": {},
   "outputs": [],
   "source": [
    "def resolve_group(root, info, id):\n",
    "    filterFunc = lambda item: item['id'] == id\n",
    "    results = list(filter(filterFunc, groups))\n",
    "    return results[0]\n",
    "\n",
    "def resolve_grouptype(root, info, id):\n",
    "    filterFunc = lambda item: item['id'] == id\n",
    "    results = list(filter(filterFunc, grouptypes))\n",
    "    return results[0]\n",
    "\n",
    "def resolve_roletype(root, info, id):\n",
    "    filterFunc = lambda item: item['id'] == id\n",
    "    results = list(filter(filterFunc, roletypes))\n",
    "    return results[0]"
   ]
  },
  {
   "cell_type": "markdown",
   "id": "a416ba51-fcb2-4c30-8bad-30b05ec633dd",
   "metadata": {},
   "source": [
    "**Příklad**\n",
    "\n",
    "Napište funkci pro tvorbu resolverů, tj. funkci, která vrátí resolver (funkci). Vnímejte úkol, jako zobecnění funkcí (resolverů) uvedených výše."
   ]
  },
  {
   "cell_type": "code",
   "execution_count": null,
   "id": "a93aa79c-9adb-4166-bdac-74845004d117",
   "metadata": {},
   "outputs": [],
   "source": [
    "def createRootResolverFor(dataList):\n",
    "    def resolver(root, info, id):\n",
    "        # neco\n",
    "        # neco\n",
    "        return results[0]\n",
    "    return resolver\n",
    "\n",
    "resolverU = createRootResolverFor(users)\n",
    "print(resolverU(None, None, '1'))\n",
    "resolverG = createRootResolverFor(groups)\n",
    "print(resolverG(None, None, '1'))"
   ]
  },
  {
   "cell_type": "markdown",
   "id": "66e90642-e768-42ff-9898-7ff79d8bf1c8",
   "metadata": {},
   "source": [
    "**Řešení**"
   ]
  },
  {
   "cell_type": "code",
   "execution_count": 53,
   "id": "725802d6-e263-45ca-8ff2-33794083b50a",
   "metadata": {
    "jupyter": {
     "source_hidden": true
    },
    "tags": []
   },
   "outputs": [
    {
     "name": "stdout",
     "output_type": "stream",
     "text": [
      "{'id': '1', 'name': 'John', 'surname': 'Dean', 'email': 'john.dean@university.world', 'groups': [{'id': '2'}], 'roles': [{'id': '1', 'roletype': {'id': '1'}, 'group': {'id': '1'}}]}\n",
      "{'id': '1', 'name': 'FVT', 'grouptype': {'id': '1'}, 'children': [{'id': '2'}], 'parent': []}\n"
     ]
    }
   ],
   "source": [
    "def createRootResolverFor(dataList):\n",
    "    def resolver(root, info, id):\n",
    "        filterFunc = lambda item: item['id'] == id\n",
    "        results = list(filter(filterFunc, dataList))\n",
    "        return results[0]\n",
    "    return resolver\n",
    "\n",
    "resolverU = createRootResolverFor(users)\n",
    "print(resolverU(None, None, '1'))\n",
    "resolverG = createRootResolverFor(groups)\n",
    "print(resolverG(None, None, '1'))"
   ]
  },
  {
   "cell_type": "markdown",
   "id": "a74c1df7-7f09-4034-b4fd-c2c5985fdb68",
   "metadata": {},
   "source": [
    "Resolvery lze kódovat ručně. Alternativou je nalézt funkce, které resolvery vytvoří. U root resolverů to je celkem jednoduché, co ale parent resolvery, které jsou nutné u datových typů?"
   ]
  },
  {
   "cell_type": "code",
   "execution_count": 54,
   "id": "244bdfda-c6b3-4b06-911d-d46c414c2e69",
   "metadata": {},
   "outputs": [
    {
     "name": "stdout",
     "output_type": "stream",
     "text": [
      "[{'id': '2', 'name': 'K209', 'grouptype': {'id': '2'}, 'children': [], 'parent': [{'id': '1'}]}]\n"
     ]
    }
   ],
   "source": [
    "def resolve_groupFromUser(parent, info):\n",
    "    mapFunction = lambda group: resolve_group(None, None, group['id'])\n",
    "    results = list(map(mapFunction, parent['groups']))\n",
    "    return results\n",
    "\n",
    "print(resolve_groupFromUser(users[0], None))"
   ]
  },
  {
   "cell_type": "markdown",
   "id": "408650f1-87fe-437c-aae0-58e9fb1125f9",
   "metadata": {},
   "source": [
    "**Příklad**\n",
    "\n",
    "Dokážete zobecnit resolver uvedený výše do formy funkce?"
   ]
  },
  {
   "cell_type": "code",
   "execution_count": null,
   "id": "d5224ff3-52de-4371-8fe8-f3d3c2a845a7",
   "metadata": {},
   "outputs": [],
   "source": [
    "def createParentResolverList(selector, rootResolver):\n",
    "    def resolver(parent, info):\n",
    "        mapFunction = # neco\n",
    "        results = list(map(mapFunction, selector(parent)))\n",
    "        return results\n",
    "    return resolver\n",
    "\n",
    "resolverUserToGroupList = createParentResolverList(lambda item: item['groups'], resolve_group)\n",
    "print(resolverUserToGroupList(users[0], None))"
   ]
  },
  {
   "cell_type": "markdown",
   "id": "98014f78-064c-447c-a879-6d22043e5312",
   "metadata": {},
   "source": [
    "**Řešení**"
   ]
  },
  {
   "cell_type": "code",
   "execution_count": 62,
   "id": "9aa8b53a-c9d7-4c47-840c-500f061836db",
   "metadata": {
    "jupyter": {
     "source_hidden": true
    },
    "tags": []
   },
   "outputs": [
    {
     "name": "stdout",
     "output_type": "stream",
     "text": [
      "[{'id': '2', 'name': 'K209', 'grouptype': {'id': '2'}, 'children': [], 'parent': [{'id': '1'}]}]\n"
     ]
    }
   ],
   "source": [
    "def createParentResolverList(selector, rootResolver):\n",
    "    def resolver(parent, info):\n",
    "        mapFunction = lambda item: rootResolver(parent, info, item['id'])\n",
    "        results = list(map(mapFunction, selector(parent)))\n",
    "        return results\n",
    "    return resolver\n",
    "\n",
    "resolverUserToGroupList = createParentResolverList(lambda item: item['groups'], resolve_group)\n",
    "print(resolverUserToGroupList(users[0], None))"
   ]
  },
  {
   "cell_type": "markdown",
   "id": "aeb05342-26fb-4640-82d8-85b2cddd2a68",
   "metadata": {},
   "source": [
    "**Příklad**\n",
    "\n",
    "Odstraňte závislost na jiném resolveru"
   ]
  },
  {
   "cell_type": "code",
   "execution_count": null,
   "id": "43b7657d-2450-441b-b37a-883255589e7f",
   "metadata": {},
   "outputs": [],
   "source": [
    "def createParentResolverList(selector, dataList):\n",
    "    def resolver(root, info, id):\n",
    "        # neco\n",
    "        # ...\n",
    "        # neco\n",
    "        return resultedItem\n",
    "    \n",
    "    def result(parent, info):\n",
    "        mapFunction = # neco\n",
    "        results = list(map(mapFunction, selector(parent)))\n",
    "        return results\n",
    "    return result\n",
    "\n",
    "resolverUserToGroupList = createParentResolverList(lambda item: item['groups'], groups)\n",
    "print(resolverUserToGroupList(users[0], None))"
   ]
  },
  {
   "cell_type": "markdown",
   "id": "3cca2a94-8898-4225-b962-141f0d305a9d",
   "metadata": {},
   "source": [
    "**Řešení**"
   ]
  },
  {
   "cell_type": "code",
   "execution_count": 3,
   "id": "f1a28e96-f694-48e1-a13a-b09ca8288e7c",
   "metadata": {
    "jupyter": {
     "source_hidden": true
    },
    "tags": []
   },
   "outputs": [
    {
     "name": "stdout",
     "output_type": "stream",
     "text": [
      "[{'id': '2', 'name': 'K209', 'grouptype': {'id': '2'}, 'children': [], 'parent': {'id': '1'}}]\n"
     ]
    }
   ],
   "source": [
    "def createParentResolverList(selector, dataList):\n",
    "    def resolver(root, info, id):\n",
    "        filterFunc = lambda item: item['id'] == id\n",
    "        resultedItem = None\n",
    "        for item in filter(filterFunc, dataList):\n",
    "            resultedItem = item\n",
    "            break\n",
    "        return resultedItem\n",
    "    \n",
    "    def result(parent, info):\n",
    "        mapFunction = lambda item: resolver(parent, info, item['id'])\n",
    "        results = list(map(mapFunction, selector(parent)))\n",
    "        return results\n",
    "    return result\n",
    "\n",
    "resolverUserToGroupList = createParentResolverList(lambda item: item['groups'], groups)\n",
    "print(resolverUserToGroupList(users[0], None))"
   ]
  },
  {
   "cell_type": "markdown",
   "id": "67a31b87-4875-4351-a993-85199ab905cd",
   "metadata": {},
   "source": [
    "Uvedený resolver vrací seznam (List). V některých případech je žádoucí vracet jedinou položku."
   ]
  },
  {
   "cell_type": "code",
   "execution_count": null,
   "id": "8c5a9782-0bef-4ab4-a3f3-f52a0a4255fc",
   "metadata": {},
   "outputs": [],
   "source": [
    "def createParentResolverItem(selector, rootResolver):\n",
    "    listResolver = createParentResolverList(selector, rootResolver)\n",
    "    def resolver(parent, info):\n",
    "        results = listResolver(parent, info)\n",
    "        assert len(results) == 1, 'Unexpected count of results'\n",
    "        return results[0]\n",
    "    return resolver"
   ]
  },
  {
   "cell_type": "markdown",
   "id": "aa4a6241-7bde-4ce1-b680-de0f6bc3cb8a",
   "metadata": {},
   "source": [
    "**Diskuse**\n",
    "\n",
    "O něco rychlejší implementace. V čem spočívá zrychlení?"
   ]
  },
  {
   "cell_type": "code",
   "execution_count": 4,
   "id": "0132f52e-713a-49bf-9e39-dad9f297ebf3",
   "metadata": {},
   "outputs": [
    {
     "name": "stdout",
     "output_type": "stream",
     "text": [
      "[{'id': '2', 'name': 'K209', 'grouptype': {'id': '2'}, 'children': [], 'parent': {'id': '1'}}]\n"
     ]
    }
   ],
   "source": [
    "def createParentResolverItem(selector, dataList):\n",
    "    def resolver(root, info, id):\n",
    "        filterFunc = lambda item: item['id'] == id\n",
    "        resultedItem = None\n",
    "        for item in filter(filterFunc, dataList):\n",
    "            resultedItem = item\n",
    "            break\n",
    "        return resultedItem\n",
    "    \n",
    "    def result(parent, info):\n",
    "        mapFunction = lambda item: resolver(parent, info, item['id'])\n",
    "        singleResult = None\n",
    "        for item in map(mapFunction, selector(parent)):\n",
    "            singleResult = item\n",
    "        return singleResult\n",
    "    return result\n",
    "\n",
    "resolverUserToGroupList = createParentResolverList(lambda item: item['groups'], groups)\n",
    "print(resolverUserToGroupList(users[0], None))"
   ]
  },
  {
   "cell_type": "markdown",
   "id": "e585fe78-188d-47ff-b04a-3f40b56f063e",
   "metadata": {},
   "source": [
    "### Datové typy pro Graphene"
   ]
  },
  {
   "cell_type": "markdown",
   "id": "a5d65361-5254-4404-8594-c2ea2cdcb01d",
   "metadata": {},
   "source": [
    "Připomeňme si, že datové typy (v graphene) definují:\n",
    "- prvky, které jsou součástí odchozího json\n",
    "- metody pro odvození datových struktur (resolvery)\n",
    "\n",
    "Na problém lze nahlédnout i z druhé strany. U příchozího dotazu (v jednotlivosti) je žádoucí rozeznat, jestli požadované informace je možné poskytnout a jak je získáme."
   ]
  },
  {
   "cell_type": "markdown",
   "id": "29e7c632-e214-4b52-8548-864240c87576",
   "metadata": {},
   "source": [
    "Jestliže standard umožňuje vytvořit dotaz\n",
    "\n",
    "```\n",
    "query {\n",
    "  user(id: 1) {\n",
    "    id\n",
    "    name\n",
    "    surname\n",
    "    email\n",
    "    groups {\n",
    "      id\n",
    "      name\n",
    "      \n",
    "      parent {\n",
    "        id\n",
    "        name\n",
    "      }\n",
    "      children {\n",
    "        id\n",
    "        name\n",
    "      }\n",
    "    }\n",
    "  }\n",
    "}\n",
    "```\n",
    "\n",
    "je nezbytné, aby:\n",
    "- server uměl najít uživatele s id = 1 (resolver)\n",
    "- u uživatele bylo implementováno získání položek\n",
    "    - id\n",
    "    - name\n",
    "    - surname\n",
    "    - email\n",
    "    \n",
    "  a\n",
    "    - groups\n",
    "    \n",
    "Každá položka musí mít jasně přiřazený postup, jak ji získat.\n",
    "Pokud máme datovou strukturu\n",
    "\n",
    "```json\n",
    "{\n",
    "    'id': '1', \n",
    "    'name': 'John', \n",
    "    'surname': 'Dean', \n",
    "    'email': 'john.dean@university.world', \n",
    "    'groups': [\n",
    "        {'id': '2'}\n",
    "        ], \n",
    "    'roles': [\n",
    "        {'id': '1', 'roletype': {'id': '1'}, 'group': {'id': '1'}}\n",
    "        ]\n",
    "}\n",
    "```\n",
    "\n",
    "je postup pro získání některých položek samozřejmý, lze tedy pro ně vytvořit implicitní resolvery, jiné požadují explicitní vyjádření resolverů."
   ]
  },
  {
   "cell_type": "code",
   "execution_count": 19,
   "id": "b7381ab3-399d-494b-8ead-6689fe6279b2",
   "metadata": {},
   "outputs": [
    {
     "name": "stdout",
     "output_type": "stream",
     "text": [
      "[{'id': '2', 'name': 'K209', 'grouptype': {'id': '2'}, 'children': [], 'parent': {'id': '1'}}]\n"
     ]
    }
   ],
   "source": [
    "import graphene\n",
    "\n",
    "class UserGQL(graphene.ObjectType):\n",
    "    \"\"\"Represents an user. User can be connected to several groups where the user is member. Also the user can play several roles.\"\"\"\n",
    "    id = graphene.ID()\n",
    "    name = graphene.String()\n",
    "    surname = graphene.String()\n",
    "    email = graphene.String()\n",
    "    \n",
    "    groups = graphene.Field(graphene.List(lambda: GroupGQL), resolver=createParentResolverList(lambda item: item['groups'], groups))\n",
    "    roles = graphene.Field(graphene.List(lambda: RoleGQL))#, resolver=createParentResolverList(lambda item: item['roles'], roles))\n",
    "\n",
    "print(UserGQL.groups.resolver(users[0], None))"
   ]
  },
  {
   "cell_type": "markdown",
   "id": "1e91a139-fabf-4f92-b2d6-2c8b24ac33b8",
   "metadata": {},
   "source": [
    "Základní datové typy"
   ]
  },
  {
   "cell_type": "code",
   "execution_count": 5,
   "id": "bf687e6b-15aa-4837-9574-d980514109f4",
   "metadata": {},
   "outputs": [],
   "source": [
    "import graphene\n",
    "\n",
    "class UserGQL(graphene.ObjectType):\n",
    "    \"\"\"Represents an user. User can be connected to several groups where the user is member. Also the user can play several roles.\"\"\"\n",
    "    id = graphene.ID()\n",
    "    name = graphene.String()\n",
    "    surname = graphene.String()\n",
    "    email = graphene.String()\n",
    "    \n",
    "    groups = graphene.Field(graphene.List(lambda: GroupGQL), resolver=createParentResolverList(lambda item: item['groups'], groups))\n",
    "    roles = graphene.Field(graphene.List(lambda: RoleGQL))#, resolver=createParentResolverList(lambda item: item['roles'], roles))\n",
    "    \n",
    "class GroupTypeGQL(graphene.ObjectType): \n",
    "    \"\"\"\"Represents a type of group such as \"faculty\" or \"department\". \"\"\"\n",
    "    id = graphene.ID()\n",
    "    name = graphene.String()\n",
    "    \n",
    "    groups = graphene.List(lambda: GroupGQL)   \n",
    "    \n",
    "    def resolve_groups(parent, info):\n",
    "        groupTypeId = parent['id']\n",
    "        filterGroup = lambda group: group['grouptype']['id'] == groupTypeId\n",
    "        result = list(filter(filterGroup, groups))\n",
    "        return result\n",
    "    \n",
    "class GroupGQL(graphene.ObjectType):\n",
    "    \"\"\"\"Represents a group which has several members - users. Group is defined by its type, also it has a parent and children.\"\"\"\n",
    "    id = graphene.ID()\n",
    "    name = graphene.String()\n",
    "    users = graphene.List(UserGQL)\n",
    "    \n",
    "    def resolve_users(parent, info):\n",
    "        groupId = parent['id']\n",
    "        filterGroup = lambda group: group['id'] == groupId\n",
    "        filterFunc = lambda user: any(map(filterGroup, user['groups'])) # belongs the user to the group?\n",
    "        result = list(filter(filterFunc, users)) # filter users, who are group members \n",
    "        return result\n",
    "\n",
    "    parent = graphene.Field(lambda: GroupGQL)\n",
    "    \n",
    "    def resolve_parent(parent, info):\n",
    "        parentRecord = parent.get('parent', None)\n",
    "        if parentRecord is None:\n",
    "            return None\n",
    "        else:\n",
    "            parentId = parentRecord.get('id', None)\n",
    "            if parentId is None:\n",
    "                return None\n",
    "            else:\n",
    "                for item in filter(lambda item: item['id'] == parentId, groups):\n",
    "                    return item\n",
    "                return None\n",
    "        \n",
    "    children = graphene.Field(graphene.List(lambda: GroupGQL), resolver=createParentResolverList(lambda item: item['children'], groups))\n",
    "    \n",
    "    grouptype = graphene.Field(lambda: GroupTypeGQL)\n",
    "    \n",
    "    def resolve_grouptype(parent, info):\n",
    "        groupTypeId = parent['grouptype']['id']\n",
    "        for item in filter(lambda item: item['id'] == groupTypeId, grouptypes):\n",
    "            return item\n",
    "        return None\n",
    "    \n",
    "class RoleTypeGQL(graphene.ObjectType):\n",
    "    \"\"\"Represents a role type such as \"dean\" or \"chief\" \"\"\"\n",
    "    id = graphene.ID()\n",
    "    name = graphene.String()\n",
    "    roles = graphene.List(lambda: RoleGQL)\n",
    "    \n",
    "    def resolve_roles(parent, info):\n",
    "        def allRoles():\n",
    "            for item in users:\n",
    "                for role in item['roles']:\n",
    "                    yield role\n",
    "        roleId = parent['id']\n",
    "        result = list(filter(lambda item: item['roletype']['id'] == roleId, allRoles()))\n",
    "        return result\n",
    "                      \n",
    "    \n",
    "class RoleGQL(graphene.ObjectType):\n",
    "    \"\"\"\"An user could have a role in a group.\"\"\"\n",
    "    user = graphene.Field(UserGQL, resolver=createParentResolverItem(lambda item: [item['user']], users))\n",
    "    group = graphene.Field(GroupGQL, resolver=createParentResolverItem(lambda item: [item['group']], groups))\n",
    "    roletype = graphene.Field(RoleTypeGQL, resolver=createParentResolverItem(lambda item: [item['roletype']], roletypes))"
   ]
  },
  {
   "cell_type": "markdown",
   "id": "5b095e31-d985-4410-86ce-5d8913c4e88f",
   "metadata": {},
   "source": [
    "Vstupní body pro GQL API jsou definovány sadou resolverů. V tomto příkladu použijeme 4 entity:\n",
    "- user\n",
    "- group\n",
    "- grouptype\n",
    "- roletype"
   ]
  },
  {
   "cell_type": "code",
   "execution_count": 6,
   "id": "80a59181-0cc8-46f1-aaa8-82a69b6103a0",
   "metadata": {},
   "outputs": [],
   "source": [
    "import graphene\n",
    "\n",
    "class QueryGQL(graphene.ObjectType):\n",
    "    user = graphene.Field(UserGQL, id = graphene.ID(required = True))\n",
    "    group = graphene.Field(GroupGQL, id = graphene.ID(required = True))\n",
    "    grouptype = graphene.Field(GroupTypeGQL, id = graphene.ID(required = True))\n",
    "    roletype = graphene.Field(RoleTypeGQL, id = graphene.ID(required = True))\n",
    "    \n",
    "    def resolve_user(root, info, id):\n",
    "        filterFunc = lambda item: item['id'] == id\n",
    "        results = list(filter(filterFunc, users))\n",
    "        return results[0]\n",
    "    \n",
    "    def resolve_group(root, info, id):\n",
    "        filterFunc = lambda item: item['id'] == id\n",
    "        results = list(filter(filterFunc, groups))\n",
    "        return results[0]\n",
    "    \n",
    "    def resolve_grouptype(root, info, id):\n",
    "        filterFunc = lambda item: item['id'] == id\n",
    "        results = list(filter(filterFunc, grouptypes))\n",
    "        return results[0]\n",
    "    \n",
    "    def resolve_roletype(root, info, id):\n",
    "        filterFunc = lambda item: item['id'] == id\n",
    "        results = list(filter(filterFunc, roletypes))\n",
    "        return results[0]"
   ]
  },
  {
   "cell_type": "markdown",
   "id": "5f92b246-7385-41d3-a04e-c3be304dc1ff",
   "metadata": {},
   "source": [
    "### Mutace v GQL"
   ]
  },
  {
   "cell_type": "markdown",
   "id": "0b3f3ebc-a9e7-4e45-9eac-318987e0b42b",
   "metadata": {},
   "source": [
    "Předchozí část implementuje read operace. Seznam možných operací nad datovými strukturami ovšem zahrnuje:\n",
    "- **C**reate\n",
    "- **U**pdate\n",
    "- **D**elete\n",
    "\n",
    "V další části jsou pomocí tzv. mutací definovány operace **C**reate a **U**pdate pro entitu User."
   ]
  },
  {
   "cell_type": "code",
   "execution_count": 7,
   "id": "6a63a816-db5c-485f-aeb8-49342a5d1dbf",
   "metadata": {},
   "outputs": [],
   "source": [
    "import graphene\n",
    "\n",
    "class CreateUserInput(graphene.InputObjectType):\n",
    "    name = graphene.String(required=False)\n",
    "    surname = graphene.String(required=False)\n",
    "    email = graphene.String(required=False)\n",
    "    \n",
    "    def asDict(self):\n",
    "        return {\n",
    "            'name': self.name,\n",
    "            'surname': self.surname,\n",
    "            'email': self.email\n",
    "        }\n",
    "    \n",
    "class CreateUserGQL(graphene.Mutation):\n",
    "    class Arguments:\n",
    "        user = CreateUserInput(required = True)\n",
    "    \n",
    "    ok = graphene.Boolean()\n",
    "    result = graphene.Field(UserGQL)\n",
    "    \n",
    "    def mutate(parent, info, user):\n",
    "        userDict = user.asDict()\n",
    "        newId = int(users[-1]['id']) + 1\n",
    "        userDict['id'] = str(newId)\n",
    "        users.append(userDict)\n",
    "        return CreateUserGQL(ok=True, result=userDict)\n",
    "    pass\n",
    "\n",
    "class UpdateUserInput(graphene.InputObjectType):\n",
    "    id = graphene.ID(required=True)\n",
    "    name = graphene.String(required=False)\n",
    "    surname = graphene.String(required=False)\n",
    "    email = graphene.String(required=False)\n",
    "    \n",
    "    def asDict(self):\n",
    "        return {\n",
    "            'id': self.id,\n",
    "            'name': self.name,\n",
    "            'surname': self.surname,\n",
    "            'email': self.email\n",
    "        }\n",
    "    \n",
    "class UpdateUserGQL(graphene.Mutation):\n",
    "    class Arguments:\n",
    "        user = UpdateUserInput(required = True)\n",
    "    \n",
    "    ok = graphene.Boolean()\n",
    "    result = graphene.Field(UserGQL)\n",
    "    \n",
    "    def mutate(parent, info, user):\n",
    "        userDict = user.asDict()\n",
    "        userDictId = userDict['id']\n",
    "        userRecords = list(filter(lambda item: item['id'] == userDictId, users))\n",
    "        if len(userRecords) == 1:\n",
    "            userRecord = userRecords[0]\n",
    "            userRecord['name'] = userDict.get('name', userRecord['name'])\n",
    "            userRecord['surname'] = userDict.get('surname', userRecord['surname'])\n",
    "            userRecord['email'] = userDict.get('email', userRecord['email'])\n",
    "            \n",
    "            return CreateUserGQL(ok=True, result=userRecord)\n",
    "        else:\n",
    "            return CreateUserGQL(ok=False, result=None)\n",
    "    pass\n",
    "\n",
    "class Mutations(graphene.ObjectType):\n",
    "    create_user = CreateUserGQL.Field()\n",
    "    update_user = UpdateUserGQL.Field()"
   ]
  },
  {
   "cell_type": "markdown",
   "id": "f93c5107-fd5e-409c-ac56-ebcaf32526ae",
   "metadata": {},
   "source": [
    "**Otázka**\n",
    "\n",
    "Implementace výše (insert i update) obsahuje chybu, která se projeví za specifických podmínek. Jakou? Pro nápovědu se podívejte na strukturu dat definovanou dříve."
   ]
  },
  {
   "cell_type": "code",
   "execution_count": 21,
   "id": "558f627a-23ee-4f63-934f-1071ab4da3c7",
   "metadata": {},
   "outputs": [
    {
     "name": "stdout",
     "output_type": "stream",
     "text": [
      "Requirement already satisfied: fastapi in /opt/conda/lib/python3.9/site-packages (0.70.0)\n",
      "Requirement already satisfied: starlette==0.16.0 in /opt/conda/lib/python3.9/site-packages (from fastapi) (0.16.0)\n",
      "Requirement already satisfied: pydantic!=1.7,!=1.7.1,!=1.7.2,!=1.7.3,!=1.8,!=1.8.1,<2.0.0,>=1.6.2 in /opt/conda/lib/python3.9/site-packages (from fastapi) (1.8.2)\n",
      "Requirement already satisfied: anyio<4,>=3.0.0 in /opt/conda/lib/python3.9/site-packages (from starlette==0.16.0->fastapi) (3.3.3)\n",
      "Requirement already satisfied: typing-extensions>=3.7.4.3 in /opt/conda/lib/python3.9/site-packages (from pydantic!=1.7,!=1.7.1,!=1.7.2,!=1.7.3,!=1.8,!=1.8.1,<2.0.0,>=1.6.2->fastapi) (3.7.4.3)\n",
      "Requirement already satisfied: idna>=2.8 in /opt/conda/lib/python3.9/site-packages (from anyio<4,>=3.0.0->starlette==0.16.0->fastapi) (3.1)\n",
      "Requirement already satisfied: sniffio>=1.1 in /opt/conda/lib/python3.9/site-packages (from anyio<4,>=3.0.0->starlette==0.16.0->fastapi) (1.2.0)\n",
      "Requirement already satisfied: uvicorn in /opt/conda/lib/python3.9/site-packages (0.15.0)\n",
      "Requirement already satisfied: asgiref>=3.4.0 in /opt/conda/lib/python3.9/site-packages (from uvicorn) (3.4.1)\n",
      "Requirement already satisfied: h11>=0.8 in /opt/conda/lib/python3.9/site-packages (from uvicorn) (0.12.0)\n",
      "Requirement already satisfied: click>=7.0 in /opt/conda/lib/python3.9/site-packages (from uvicorn) (8.0.3)\n"
     ]
    }
   ],
   "source": [
    "!pip install fastapi\n",
    "!pip install uvicorn"
   ]
  },
  {
   "cell_type": "code",
   "execution_count": 22,
   "id": "710b8a13-5b98-4a85-b875-1d4189e4100e",
   "metadata": {},
   "outputs": [],
   "source": [
    "import uvicorn\n",
    "from fastapi import FastAPI\n",
    "\n",
    "app = FastAPI()#root_path='/api')\n",
    "\n",
    "@app.get('/')\n",
    "def hello():\n",
    "    return {'hello': 'world'}"
   ]
  },
  {
   "cell_type": "code",
   "execution_count": 8,
   "id": "5b721f5b-ab86-4946-bfd3-be8f875df3c9",
   "metadata": {},
   "outputs": [],
   "source": [
    "import uvicorn\n",
    "from multiprocessing import Process\n",
    "servers = {}\n",
    "\n",
    "def start_api(app, port=9992, runNew=True):\n",
    "    \"\"\"Stop the API if running; Start the API; Wait until API (port) is available (reachable)\"\"\"\n",
    "    assert port in [9991, 9992, 9993, 9994]\n",
    "    def run():\n",
    "        uvicorn.run(app, port=port, host='0.0.0.0', root_path='')    \n",
    "        \n",
    "    _api_process = servers.get(port, None)\n",
    "    if _api_process:\n",
    "        _api_process.terminate()\n",
    "        _api_process.join()\n",
    "        del servers[port]\n",
    "    \n",
    "    if runNew:\n",
    "        _api_process = Process(target=run, daemon=True)\n",
    "        _api_process.start()\n",
    "        servers[port] = _api_process"
   ]
  },
  {
   "cell_type": "markdown",
   "id": "18dc546d-b1a2-4270-ba6a-b68535673602",
   "metadata": {},
   "source": [
    "### Run GQL API"
   ]
  },
  {
   "cell_type": "code",
   "execution_count": 10,
   "id": "6c9f53de-69d3-41e8-9be3-246df0ca0285",
   "metadata": {},
   "outputs": [
    {
     "name": "stderr",
     "output_type": "stream",
     "text": [
      "INFO:     Started server process [1061]\n",
      "INFO:     Waiting for application startup.\n",
      "INFO:     Application startup complete.\n",
      "INFO:     Uvicorn running on http://0.0.0.0:9992 (Press CTRL+C to quit)\n"
     ]
    },
    {
     "name": "stdout",
     "output_type": "stream",
     "text": [
      "INFO:     172.18.0.1:33916 - \"GET /gql/?query=%23%20Welcome%20to%20GraphiQL%0A%23%0A%23%20GraphiQL%20is%20an%20in-browser%20tool%20for%20writing%2C%20validating%2C%20and%0A%23%20testing%20GraphQL%20queries.%0A%23%0A%23%20Type%20queries%20into%20this%20side%20of%20the%20screen%2C%20and%20you%20will%20see%20intelligent%0A%23%20typeaheads%20aware%20of%20the%20current%20GraphQL%20type%20schema%20and%20live%20syntax%20and%0A%23%20validation%20errors%20highlighted%20within%20the%20text.%0A%23%0A%23%20GraphQL%20queries%20typically%20start%20with%20a%20%22%7B%22%20character.%20Lines%20that%20starts%0A%23%20with%20a%20%23%20are%20ignored.%0A%23%0A%23%20An%20example%20GraphQL%20query%20might%20look%20like%3A%0A%23%0A%23%20%20%20%20%20%7B%0A%23%20%20%20%20%20%20%20field(arg%3A%20%22value%22)%20%7B%0A%23%20%20%20%20%20%20%20%20%20subField%0A%23%20%20%20%20%20%20%20%7D%0A%23%20%20%20%20%20%7D%0A%23%0A%23%20Keyboard%20shortcuts%3A%0A%23%0A%23%20%20Prettify%20Query%3A%20%20Shift-Ctrl-P%20(or%20press%20the%20prettify%20button%20above)%0A%23%0A%23%20%20%20%20%20%20%20Run%20Query%3A%20%20Ctrl-Enter%20(or%20press%20the%20play%20button%20above)%0A%23%0A%23%20%20%20Auto%20Complete%3A%20%20Ctrl-Space%20(or%20just%20start%20typing)%0A%23%0A%0Amutation%20%7B%0A%20%20updateUser(user%3A%20%7Bid%3A%20%2210%22%2C%20name%3A%20%22Rich%22%2C%20surname%3A%20%22Newton%22%2C%20email%3A%20%22richard.richardson%40university.world%22%7D)%20%7B%0A%20%20%20%20ok%0A%20%20%20%20result%20%7B%0A%20%20%20%20%20%20id%0A%20%20%20%20%20%20name%0A%20%20%20%20%20%20surname%0A%20%20%20%20%20%20email%0A%20%20%20%20%20%20%0A%20%20%20%20%7D%0A%20%20%7D%0A%7D HTTP/1.1\" 200 OK\n",
      "INFO:     172.18.0.1:33916 - \"POST /gql/ HTTP/1.1\" 200 OK\n",
      "INFO:     172.18.0.1:33920 - \"GET /favicon.ico HTTP/1.1\" 404 Not Found\n",
      "INFO:     172.18.0.1:33926 - \"POST /gql/ HTTP/1.1\" 200 OK\n",
      "INFO:     172.18.0.1:33930 - \"POST /gql/ HTTP/1.1\" 200 OK\n"
     ]
    },
    {
     "name": "stderr",
     "output_type": "stream",
     "text": [
      "INFO:     Shutting down\n",
      "INFO:     Waiting for application shutdown.\n",
      "INFO:     Application shutdown complete.\n",
      "INFO:     Finished server process [1061]\n"
     ]
    }
   ],
   "source": [
    "from starlette.graphql import GraphQLApp\n",
    "import graphene\n",
    "from fastapi import FastAPI\n",
    "\n",
    "graphql_app = GraphQLApp(schema=graphene.Schema(query=QueryGQL, mutation=Mutations))\n",
    "\n",
    "app = FastAPI()#root_path='/api')\n",
    "\n",
    "@app.get('/')\n",
    "def hello():\n",
    "    return {'hello': 'world'}\n",
    "\n",
    "app.add_route('/gql/', graphql_app)\n",
    "start_api(app)"
   ]
  },
  {
   "cell_type": "code",
   "execution_count": 143,
   "id": "b09b6480-58e1-4f6d-a4f2-151981b2cc7a",
   "metadata": {},
   "outputs": [
    {
     "name": "stdout",
     "output_type": "stream",
     "text": [
      "[{'id': '1', 'name': 'John', 'surname': 'Dean', 'email': 'john.dean@university.world', 'groups': [{'id': '2'}], 'roles': [{'id': '1', 'roletype': {'id': '1'}, 'group': {'id': '1'}}]}, {'id': '2', 'name': 'Peter', 'surname': 'Head', 'email': 'peter.head@university.world', 'groups': [{'id': '2'}], 'roles': [{'id': '2', 'roletype': {'id': '2'}, 'group': {'id': '2'}}]}, {'id': '3', 'name': 'Robert', 'surname': 'Teacher', 'email': 'robert.teacher@university.world', 'groups': [{'id': '2'}], 'roles': [{'id': '3', 'roletype': {'id': '3'}, 'group': {'id': '3'}}]}, {'id': '4', 'name': 'Michael', 'surname': 'Member', 'email': 'michael.member@university.world', 'groups': [{'id': '2'}], 'roles': []}, {'id': '5', 'name': 'William', 'surname': 'Newbie', 'email': 'william.newbie@university.world', 'groups': [{'id': '2'}], 'roles': []}, {'id': '6', 'name': 'David', 'surname': 'Student', 'email': 'david.student@university.world', 'groups': [{'id': '3'}], 'roles': []}, {'id': '7', 'name': 'Richard', 'surname': 'Winner', 'email': 'richard.winner@university.world', 'groups': [{'id': '3'}], 'roles': []}, {'id': '8', 'name': 'Joseph', 'surname': 'Winter', 'email': 'joseph.winter@university.world', 'groups': [{'id': '3'}], 'roles': []}]\n"
     ]
    }
   ],
   "source": [
    "id = '1'\n",
    "filterFunc = lambda item: item['id'] == id\n",
    "results = list(filter(filterFunc, users))\n",
    "results\n",
    "print(users)"
   ]
  },
  {
   "cell_type": "code",
   "execution_count": 11,
   "id": "b91940d2-0a81-4cdb-96d9-aa8d0fd03048",
   "metadata": {},
   "outputs": [],
   "source": [
    "start_api(app, runNew=False)"
   ]
  },
  {
   "cell_type": "markdown",
   "id": "2d2b7e96-e32e-432d-b696-6c7e9e92c78f",
   "metadata": {},
   "source": [
    "## Random Data"
   ]
  },
  {
   "cell_type": "code",
   "execution_count": 3,
   "id": "d4c171b0-9250-4a8b-80cb-1ba8564885ad",
   "metadata": {},
   "outputs": [],
   "source": [
    "import random \n",
    "\n",
    "def randomUser(mod='main'):\n",
    "    surNames = [\n",
    "        'Novák', 'Nováková', 'Svobodová', 'Svoboda', 'Novotná',\n",
    "        'Novotný', 'Dvořáková', 'Dvořák', 'Černá', 'Černý', \n",
    "        'Procházková', 'Procházka', 'Kučerová', 'Kučera', 'Veselá',\n",
    "        'Veselý', 'Horáková', 'Krejčí', 'Horák', 'Němcová', \n",
    "        'Marková', 'Němec', 'Pokorná', 'Pospíšilová','Marek'\n",
    "    ]\n",
    "\n",
    "    names = [\n",
    "        'Jiří', 'Jan', 'Petr', 'Jana', 'Marie', 'Josef',\n",
    "        'Pavel', 'Martin', 'Tomáš', 'Jaroslav', 'Eva',\n",
    "        'Miroslav', 'Hana', 'Anna', 'Zdeněk', 'Václav',\n",
    "        'Michal', 'František', 'Lenka', 'Kateřina',\n",
    "        'Lucie', 'Jakub', 'Milan', 'Věra', 'Alena'\n",
    "    ]\n",
    "\n",
    "    name1 = random.choice(names)\n",
    "    name2 = random.choice(names)\n",
    "    name3 = random.choice(surNames)\n",
    "    email = f'{name1}.{name2}.{name3}@{mod}.university.world'\n",
    "    return {'name': f'{name1} {name2}', 'surname': name3, 'email': email}\n",
    "\n",
    "def randomDepartment(mod='1', index=0, teachersCount=10):\n",
    "    name = f\"K{mod}{index+1}_{random.choice(['B', 'C', 'K'])}{random.choice(['A', 'E', 'I'])}\"\n",
    "    result = {\n",
    "        'name': name,\n",
    "        'teachers': [randomUser() for _ in range(teachersCount)]\n",
    "    }\n",
    "    return result\n",
    "    "
   ]
  },
  {
   "cell_type": "markdown",
   "id": "3a3f3b5a-d81c-40e6-a800-1b0eee7fcbd0",
   "metadata": {},
   "source": [
    "## Neo4j v příkladech"
   ]
  },
  {
   "cell_type": "markdown",
   "id": "97ed827f-7f59-42b7-bfb1-49ff85b3aaf4",
   "metadata": {},
   "source": [
    "V SQL databázích jsou definované relace mezi tabulkami. Připomeňme si typy relací:\n",
    "- 1:1\n",
    "- 1:N\n",
    "- N:M\n",
    "\n",
    "U relací N:M je definována mezilehlá tabulka.\n",
    "\n",
    "V Neo4j se očekává definice relace na úrovni entity (v SQL pojmech \"záznamu v tabulce\")."
   ]
  },
  {
   "cell_type": "markdown",
   "id": "fa380204-37b1-41a2-ae2a-1335e73245ed",
   "metadata": {},
   "source": [
    "### SessionMaker"
   ]
  },
  {
   "cell_type": "markdown",
   "id": "87d9e89b-a793-48c5-8d60-281df20a50cb",
   "metadata": {},
   "source": [
    "Pro práci s databází použijeme přístup, který je využíván v SQLAlchemy. + přístup ke contextu.\n",
    "\n",
    "Je důležité si uvědomit rozdíl mezi jednorázovým přístupem a realizací serveru, který běží mnoho hodin, dnů, týdnů. V takovém případě je session ukončena ze strany databáze. Znalost doby, po které toto nastane je klíčové. V SQLAlchemy se tento problém řešé pomocí tzv. SessionMaker, který session vytváří. V případě graphene (uois) byl SessionMaker dostupný v kontextu dotazu."
   ]
  },
  {
   "cell_type": "code",
   "execution_count": 146,
   "id": "40d99188-7298-45fa-9299-dd9a35a76277",
   "metadata": {},
   "outputs": [
    {
     "name": "stdout",
     "output_type": "stream",
     "text": [
      "<neo4j.work.simple.Session object at 0x7efe4413b8e0>\n"
     ]
    }
   ],
   "source": [
    "import neo4j\n",
    "from neo4j import GraphDatabase    \n",
    "\n",
    "def createSessionMaker(uri, user, password):\n",
    "    driver = neo4j.GraphDatabase.driver(uri, auth=(user, password))\n",
    "    def result():\n",
    "        return driver.session()\n",
    "    return result\n",
    "\n",
    "sessionmaker = createSessionMaker(uri='neo4j://192.168.1.100:7687/db', user='neo4j', password='s3cr3t')\n",
    "session = sessionmaker()\n",
    "print(session)"
   ]
  },
  {
   "cell_type": "code",
   "execution_count": 2,
   "id": "baccd4be-1a86-4445-b019-dc85eafb88c9",
   "metadata": {},
   "outputs": [],
   "source": [
    "import neo4j\n",
    "from neo4j import GraphDatabase    \n",
    "from contextlib import contextmanager\n",
    "\n",
    "def createSessionMaker(uri, user, password):\n",
    "    driver = neo4j.GraphDatabase.driver(uri, auth=(user, password))\n",
    "    def result():\n",
    "        return driver.session()\n",
    "    return result\n",
    "\n",
    "sessionmaker = createSessionMaker(uri='neo4j://192.168.1.100:7687/db', user='neo4j', password='s3cr3t')\n",
    "\n",
    "@contextmanager\n",
    "def neo4jContext():\n",
    "    \"\"\"generator for creating db session encapsulated with try/except block and followed session.commit() / session.rollback()\n",
    "\n",
    "    Returns\n",
    "    -------\n",
    "    generator\n",
    "        contains just one item which is instance of Session (SQLAlchemy)\n",
    "    \"\"\"\n",
    "    session = sessionmaker()\n",
    "    try:\n",
    "        yield session\n",
    "    except:\n",
    "        raise\n",
    "    finally:\n",
    "        session.close() "
   ]
  },
  {
   "cell_type": "markdown",
   "id": "7b97a83d-9e58-4b77-b666-3a9f95e1260f",
   "metadata": {},
   "source": [
    "Implementace v neo4j využívá funkcí jako popisu transakcí. Tyto transakce v minimální implementaci mají definovaný dotaz v jazyku Cypher https://neo4j.com/developer/cypher/. Textová podoba dotazu je svázaná s předávanými daty, provedena a dále je získaná výsledek převeden do požadovaného tvaru."
   ]
  },
  {
   "cell_type": "markdown",
   "id": "9109128e-43da-43ba-839d-6b8ffa4fee62",
   "metadata": {},
   "source": [
    "### Jazyk Cypher"
   ]
  },
  {
   "cell_type": "markdown",
   "id": "c1a9000c-1446-4210-a48b-0b06691fc009",
   "metadata": {},
   "source": [
    "Jazyk Cypher (https://neo4j.com/developer/cypher/) je ekvivalentem SQL. Poskytuje ale specifické možnosti tak, aby byly pokryty vlastnosti neo4j.\n",
    "\n",
    "Klíčovým prvkem jazyka je RETURN, které označuje návratovou hodnotu. Dále máme k dispozici CREATE a MATCH. CREATE entitu vytváří (ukládá), MATCH entitu hledá (v databázi)."
   ]
  },
  {
   "cell_type": "markdown",
   "id": "f6bd5c77-63f6-4e6f-9d1d-21375d6c5d12",
   "metadata": {},
   "source": [
    "### Create"
   ]
  },
  {
   "cell_type": "markdown",
   "id": "483465d3-5a4d-48b3-be83-7f393d6f33c4",
   "metadata": {},
   "source": [
    "Vložení entity"
   ]
  },
  {
   "cell_type": "code",
   "execution_count": 11,
   "id": "20a72348-558f-40ac-bf99-1c8d9773932c",
   "metadata": {},
   "outputs": [
    {
     "name": "stdout",
     "output_type": "stream",
     "text": [
      "[{'surname': 'White', 'name': 'Richard'}]\n"
     ]
    }
   ],
   "source": [
    "def _create_user(tx, person):\n",
    "    # To learn more about the Cypher syntax, see https://neo4j.com/docs/cypher-manual/current/\n",
    "    # The Reference Card is also a good resource for keywords https://neo4j.com/docs/cypher-refcard/current/\n",
    "    query = (\n",
    "        \"CREATE (p1:User $person) \"\n",
    "        \"RETURN p1\"\n",
    "    ) # dotaz\n",
    "    \n",
    "    rows = tx.run(query, person=person)\n",
    "    \n",
    "    return [dict(row[\"p1\"].items()) for row in rows] # python comprehesion pro mapování výsledku do požadované struktury\n",
    "\n",
    "session = sessionmaker()\n",
    "result = session.write_transaction(_create_user, {'name': 'Richard', 'surname': 'White'})\n",
    "print(result)"
   ]
  },
  {
   "cell_type": "markdown",
   "id": "87df05f7-ac4f-45b1-9b7e-b9508ca77aba",
   "metadata": {},
   "source": [
    "**Příklad**\n",
    "\n",
    "Vytvořte transakční funkci pro definici skupiny (group)"
   ]
  },
  {
   "cell_type": "code",
   "execution_count": 46,
   "id": "e94f303e-3114-4140-a717-acaf478a8827",
   "metadata": {},
   "outputs": [
    {
     "name": "stdout",
     "output_type": "stream",
     "text": [
      "[{'name': 'FVT'}]\n"
     ]
    }
   ],
   "source": [
    "def _create_group(tx, group):\n",
    "    # To learn more about the Cypher syntax, see https://neo4j.com/docs/cypher-manual/current/\n",
    "    # The Reference Card is also a good resource for keywords https://neo4j.com/docs/cypher-refcard/current/\n",
    "    query = #neco\n",
    "    rows = #neco\n",
    "    return #neco\n",
    "\n",
    "session = sessionmaker()\n",
    "result = session.write_transaction(_create_group, {'name': 'FVT'})\n",
    "print(result)"
   ]
  },
  {
   "cell_type": "markdown",
   "id": "7fcaa45c-8ec1-43dc-870f-6a8496f8c6e2",
   "metadata": {
    "tags": []
   },
   "source": [
    "**Řešení**"
   ]
  },
  {
   "cell_type": "code",
   "execution_count": 22,
   "id": "90ebc1a5-edcc-43ab-9567-5a476b56ada9",
   "metadata": {
    "jupyter": {
     "source_hidden": true
    },
    "tags": []
   },
   "outputs": [
    {
     "name": "stdout",
     "output_type": "stream",
     "text": [
      "[{'name': 'FVT'}]\n"
     ]
    }
   ],
   "source": [
    "def _create_group(tx, group):\n",
    "    query = (\n",
    "        \"CREATE (g1:Group $group) \"\n",
    "        \"RETURN g1\"\n",
    "    ) # dotaz\n",
    "    \n",
    "    rows = tx.run(query, group=group)\n",
    "    return [dict(row[\"g1\"].items()) for row in rows]\n",
    "\n",
    "session = sessionmaker()\n",
    "result = session.write_transaction(_create_group, {'name': 'FVT'})\n",
    "print(result)"
   ]
  },
  {
   "cell_type": "markdown",
   "id": "c18a4776-d000-4ed7-ba85-99c866d5f6c3",
   "metadata": {},
   "source": [
    "> **Pozor**\n",
    ">\n",
    "> Identifikace? Kde mají velcí programátoři IDčka?"
   ]
  },
  {
   "cell_type": "code",
   "execution_count": 24,
   "id": "4675210c-325c-43b0-b18a-483dd6c0eb19",
   "metadata": {},
   "outputs": [
    {
     "data": {
      "text/plain": [
       "UUID('a08bf9c6-e341-4ee0-8c1c-78e7b4fa6b66')"
      ]
     },
     "execution_count": 24,
     "metadata": {},
     "output_type": "execute_result"
    }
   ],
   "source": [
    "import uuid\n",
    "\n",
    "uuid.uuid4()"
   ]
  },
  {
   "cell_type": "code",
   "execution_count": 26,
   "id": "fcbf92b9-0b1d-4bd6-983c-0ae7b14c643c",
   "metadata": {},
   "outputs": [
    {
     "data": {
      "text/plain": [
       "'05396eab-2eec-43e7-b293-f56c9013ad80'"
      ]
     },
     "execution_count": 26,
     "metadata": {},
     "output_type": "execute_result"
    }
   ],
   "source": [
    "import uuid\n",
    "def uuid4():\n",
    "    return f'{uuid.uuid4()}'\n",
    "\n",
    "uuid4()"
   ]
  },
  {
   "cell_type": "markdown",
   "id": "4783b146-47e9-4e3c-8ea9-45ca9be0d4ff",
   "metadata": {},
   "source": [
    "**Úprava funkcí pro identifikaci pomocí uuid**"
   ]
  },
  {
   "cell_type": "code",
   "execution_count": 34,
   "id": "fcf66f78-7b9c-4a5d-ae02-28515c55c111",
   "metadata": {},
   "outputs": [
    {
     "name": "stdout",
     "output_type": "stream",
     "text": [
      "[{'surname': 'White', 'name': 'Richard', 'id': 'c2159cd1-e07c-484d-ba39-8dae044a3de9'}]\n"
     ]
    }
   ],
   "source": [
    "def _create_user(tx, person):\n",
    "    # To learn more about the Cypher syntax, see https://neo4j.com/docs/cypher-manual/current/\n",
    "    # The Reference Card is also a good resource for keywords https://neo4j.com/docs/cypher-refcard/current/\n",
    "    query = (\n",
    "        \"CREATE (p1:User $person) \"\n",
    "        \"RETURN p1\"\n",
    "    ) # dotaz\n",
    "    \n",
    "    rows = tx.run(query, person={'id': uuid4(), **person})\n",
    "    \n",
    "    return [dict(row[\"p1\"].items()) for row in rows] # python comprehesion pro mapování výsledku do požadované struktury\n",
    "\n",
    "session = sessionmaker()\n",
    "result = session.write_transaction(_create_user, {'name': 'Richard', 'surname': 'White'})\n",
    "print(result)"
   ]
  },
  {
   "cell_type": "code",
   "execution_count": 28,
   "id": "ca64a202-7908-4647-acdd-2f754efd3042",
   "metadata": {},
   "outputs": [
    {
     "name": "stdout",
     "output_type": "stream",
     "text": [
      "[{'name': 'FVT', 'id': '9d8162b2-ee53-4cb0-ac40-2a32d57b1ff2'}]\n"
     ]
    }
   ],
   "source": [
    "def _create_group(tx, group):\n",
    "    query = (\n",
    "        \"CREATE (g1:Group $group) \"\n",
    "        \"RETURN g1\"\n",
    "    ) # dotaz\n",
    "    \n",
    "    rows = tx.run(query, group={'id': uuid4(), **group})\n",
    "    return [dict(row[\"g1\"].items()) for row in rows]\n",
    "\n",
    "session = sessionmaker()\n",
    "result = session.write_transaction(_create_group, {'name': 'FVT'})\n",
    "print(result)"
   ]
  },
  {
   "cell_type": "markdown",
   "id": "95a221ab-cb56-4d8f-b25d-1fc9105af4ae",
   "metadata": {},
   "source": [
    "Vložení entity a relace"
   ]
  },
  {
   "cell_type": "code",
   "execution_count": 29,
   "id": "2f621305-3c61-43b7-8800-5cd2c0d55ac1",
   "metadata": {},
   "outputs": [
    {
     "name": "stderr",
     "output_type": "stream",
     "text": [
      "Failed to write data to connection ResolvedIPv4Address(('192.168.1.100', 7687)) (IPv4Address(('192.168.1.100', 7687)))\n",
      "Unable to retrieve routing information\n",
      "Transaction failed and will be retried in 0.8664965452471501s (Unable to retrieve routing information)\n"
     ]
    },
    {
     "name": "stdout",
     "output_type": "stream",
     "text": [
      "[{'p1': 'Richard', 'p2': 'Anna', 'knows_from': 'school'}]\n"
     ]
    }
   ],
   "source": [
    "def _create_and_return_friendship(tx, person1_name, person2_name, knows_from):\n",
    "    # To learn more about the Cypher syntax, see https://neo4j.com/docs/cypher-manual/current/\n",
    "    # The Reference Card is also a good resource for keywords https://neo4j.com/docs/cypher-refcard/current/\n",
    "    query = (\n",
    "        \"CREATE (p1:User { name: $person1_name }) \"\n",
    "        \"CREATE (p2:User { name: $person2_name }) \"\n",
    "        \"CREATE (p1)-[k:KNOWS { from: $knows_from }]->(p2) \"\n",
    "        \"RETURN p1, p2, k\"\n",
    "    ) # dotaz\n",
    "    \n",
    "    result = tx.run(query, # dotaz\n",
    "                    person1_name=person1_name, # pojmenovaný parametr (viz dotaz)\n",
    "                    person2_name=person2_name, # pojmenovaný parametr (viz dotaz)\n",
    "                    knows_from=knows_from # pojmenovaný parametr (viz dotaz)\n",
    "                   )\n",
    "    \n",
    "    # print(result)\n",
    "    return [{\n",
    "                \"p1\": row[\"p1\"][\"name\"],\n",
    "                \"p2\": row[\"p2\"][\"name\"],\n",
    "                \"knows_from\": row[\"k\"][\"from\"]\n",
    "            }\n",
    "            for row in result] # python comprehesion pro mapování výsledku do požadované struktury\n",
    "\n",
    "session = sessionmaker()\n",
    "result = session.write_transaction(_create_and_return_friendship, 'Richard', 'Anna', 'school')\n",
    "print(result)"
   ]
  },
  {
   "cell_type": "markdown",
   "id": "1aef4f5a-1dee-4cec-9211-4c3dbee43b48",
   "metadata": {},
   "source": [
    "### Read / Match"
   ]
  },
  {
   "cell_type": "markdown",
   "id": "0034aa1c-aeac-4f24-998c-ff221df027f9",
   "metadata": {},
   "source": [
    "Čtení entity buď bez podmínek (čtení všech) nebo s filtry. Filtrování je možné provést dvěma způsoby. Prvním z nich je pomocí klíčového slova WHERE, druhým je přímé vložení komparované entity."
   ]
  },
  {
   "cell_type": "code",
   "execution_count": 30,
   "id": "0bb431ac-1ecd-4976-a182-15e5c5a1b2c4",
   "metadata": {},
   "outputs": [
    {
     "name": "stdout",
     "output_type": "stream",
     "text": [
      "[{'surname': 'White', 'name': 'Richard'}, {'surname': 'White', 'name': 'Richard'}, {'surname': 'White', 'name': 'Richard'}, {'surname': 'Černá', 'name': 'Jana Eva', 'email': 'Jana.Eva.Černá@main.university.world'}, {'surname': 'Procházka', 'name': 'František Marie', 'email': 'František.Marie.Procházka@main.university.world'}, {'surname': 'Dvořáková', 'name': 'Lucie Alena', 'email': 'Lucie.Alena.Dvořáková@main.university.world'}, {'surname': 'Černý', 'name': 'Václav Milan', 'email': 'Václav.Milan.Černý@main.university.world'}, {'surname': 'Němec', 'name': 'Petr Eva', 'email': 'Petr.Eva.Němec@main.university.world'}, {'surname': 'Novotný', 'name': 'Tomáš Miroslav', 'email': 'Tomáš.Miroslav.Novotný@main.university.world'}, {'surname': 'Novotná', 'name': 'Milan Lenka', 'email': 'Milan.Lenka.Novotná@main.university.world'}, {'surname': 'Němcová', 'name': 'Michal Anna', 'email': 'Michal.Anna.Němcová@main.university.world'}, {'surname': 'White', 'name': 'Richard'}, {'surname': 'White', 'name': 'Richard'}, {'surname': 'White', 'name': 'Richard'}, {'surname': 'White', 'name': 'Richard', 'id': '4f6a2ad6-b549-465a-8d0a-867da92db703'}, {'name': 'Richard'}, {'name': 'Anna'}]\n"
     ]
    }
   ],
   "source": [
    "def _find_all_persons(tx):\n",
    "    query = (\n",
    "        \"MATCH (p:User) \"\n",
    "        \"RETURN p\"\n",
    "    )\n",
    "    result = tx.run(query)\n",
    "    return [dict(row[\"p\"].items()) for row in result]\n",
    "    \n",
    "\n",
    "session = sessionmaker()\n",
    "result = session.read_transaction(_find_all_persons)\n",
    "print(result)"
   ]
  },
  {
   "cell_type": "code",
   "execution_count": 31,
   "id": "1463d794-07e4-4da5-ba4d-2efba5f6d23e",
   "metadata": {},
   "outputs": [
    {
     "name": "stdout",
     "output_type": "stream",
     "text": [
      "[{'surname': 'White', 'name': 'Richard'}, {'surname': 'White', 'name': 'Richard'}, {'surname': 'White', 'name': 'Richard'}, {'surname': 'White', 'name': 'Richard'}, {'surname': 'White', 'name': 'Richard'}, {'surname': 'White', 'name': 'Richard'}, {'surname': 'White', 'name': 'Richard', 'id': '4f6a2ad6-b549-465a-8d0a-867da92db703'}, {'name': 'Richard'}]\n"
     ]
    }
   ],
   "source": [
    "def _find_and_return_person(tx, person_name):\n",
    "    query = (\n",
    "        \"MATCH (p:User {name: $person_name}) \"\n",
    "        \"RETURN p\"\n",
    "    )\n",
    "    result = tx.run(query, person_name=person_name)\n",
    "    return [dict(row[\"p\"].items()) for row in result]\n",
    "\n",
    "session = sessionmaker()\n",
    "result = session.read_transaction(_find_and_return_person, 'Richard')\n",
    "print(result)"
   ]
  },
  {
   "cell_type": "code",
   "execution_count": 32,
   "id": "9a29be1f-f295-4a7d-b9ec-ad4fa29ab569",
   "metadata": {},
   "outputs": [
    {
     "name": "stdout",
     "output_type": "stream",
     "text": [
      "[{'surname': 'White', 'name': 'Richard'}, {'surname': 'White', 'name': 'Richard'}, {'surname': 'White', 'name': 'Richard'}, {'surname': 'White', 'name': 'Richard'}, {'surname': 'White', 'name': 'Richard'}, {'surname': 'White', 'name': 'Richard'}, {'surname': 'White', 'name': 'Richard', 'id': '4f6a2ad6-b549-465a-8d0a-867da92db703'}, {'name': 'Richard'}]\n"
     ]
    }
   ],
   "source": [
    "def _find_and_return_person(tx, person_name):\n",
    "    query = (\n",
    "        \"MATCH (p:User) \"\n",
    "        \"WHERE p.name = $person_name \"\n",
    "        \"RETURN p\"\n",
    "    )\n",
    "    result = tx.run(query, person_name=person_name)\n",
    "    return [dict(row[\"p\"].items()) for row in result]\n",
    "\n",
    "session = sessionmaker()\n",
    "result = session.read_transaction(_find_and_return_person, 'Richard')\n",
    "print(result)"
   ]
  },
  {
   "cell_type": "markdown",
   "id": "772af8ec-4b30-4f29-bd1d-7849f7cb5454",
   "metadata": {},
   "source": [
    "### Create with Read"
   ]
  },
  {
   "cell_type": "code",
   "execution_count": 44,
   "id": "89251bf0-ece0-4c75-9fb7-b8fd6ff8a7f2",
   "metadata": {},
   "outputs": [
    {
     "name": "stdout",
     "output_type": "stream",
     "text": [
      "[{'name': 'Richard', 'id': '0d3f9d77-9c46-46fc-8511-d15dcf3c35a5'}]\n",
      "[{'name': 'FVT', 'id': '45d929cb-33db-48d6-a668-36aed9bb0e6a'}]\n",
      "[{'user_id': '0d3f9d77-9c46-46fc-8511-d15dcf3c35a5', 'group_id': '45d929cb-33db-48d6-a668-36aed9bb0e6a'}]\n"
     ]
    }
   ],
   "source": [
    "def _make_membership(tx, user_id, group_id):\n",
    "    query = (\n",
    "        \"MATCH (u: User {id: $user_id})\"\n",
    "        \"MATCH (g: Group {id: $group_id})\"\n",
    "        \"CREATE ((u) -[:IS_MEMBER]-> (g))\"\n",
    "        \"RETURN u, g\"\n",
    "    )\n",
    "    result = tx.run(query, user_id=user_id, group_id=group_id)\n",
    "    return [{'user_id': row[\"u\"]['id'], 'group_id': row[\"g\"]['id']} for row in result]\n",
    "\n",
    "def _find_user_in_group(tx, user_id):\n",
    "    query = (\n",
    "        \"MATCH (p: User {id: $user_id} -[:IS_MEMBER]-> (g: Group))\"\n",
    "        \"RETURN p, g\"\n",
    "    )\n",
    "    result = tx.run(query, user_id=user_id)\n",
    "    return [{'user_id': row[\"u\"].id, 'group_id': row[\"g\"].id} for row in result]\n",
    "\n",
    "session = sessionmaker()\n",
    "u1 = session.write_transaction(_create_user, {'name': 'Richard'})\n",
    "print(u1)\n",
    "g1 = session.write_transaction(_create_group, {'name': 'FVT'})\n",
    "print(g1)\n",
    "result = session.write_transaction(_make_membership, u1[0]['id'], g1[0]['id'])\n",
    "print(result)"
   ]
  },
  {
   "cell_type": "code",
   "execution_count": 46,
   "id": "a11f6d6d-0914-4a02-82dc-fa7062a659d0",
   "metadata": {},
   "outputs": [
    {
     "name": "stdout",
     "output_type": "stream",
     "text": [
      "0 {'user': 'Richard', 'group': 'FVT', 'k': <Relationship id=318 nodes=(<Node id=179 labels=frozenset({'User'}) properties={'surname': 'White', 'name': 'Richard'}>, <Node id=195 labels=frozenset({'Group'}) properties={'name': 'FVT'}>) type='IS_MEMBER' properties={}>}\n",
      "1 {'user': 'Richard', 'group': 'FVT', 'k': <Relationship id=319 nodes=(<Node id=193 labels=frozenset({'User'}) properties={'surname': 'White', 'name': 'Richard'}>, <Node id=195 labels=frozenset({'Group'}) properties={'name': 'FVT'}>) type='IS_MEMBER' properties={}>}\n",
      "2 {'user': 'Richard', 'group': 'FVT', 'k': <Relationship id=320 nodes=(<Node id=194 labels=frozenset({'User'}) properties={'surname': 'White', 'name': 'Richard'}>, <Node id=195 labels=frozenset({'Group'}) properties={'name': 'FVT'}>) type='IS_MEMBER' properties={}>}\n",
      "3 {'user': 'Richard', 'group': 'FVT', 'k': <Relationship id=321 nodes=(<Node id=212 labels=frozenset({'User'}) properties={'surname': 'White', 'name': 'Richard'}>, <Node id=195 labels=frozenset({'Group'}) properties={'name': 'FVT'}>) type='IS_MEMBER' properties={}>}\n",
      "4 {'user': 'Richard', 'group': 'FVT', 'k': <Relationship id=322 nodes=(<Node id=213 labels=frozenset({'User'}) properties={'surname': 'White', 'name': 'Richard'}>, <Node id=195 labels=frozenset({'Group'}) properties={'name': 'FVT'}>) type='IS_MEMBER' properties={}>}\n",
      "5 {'user': 'Richard', 'group': 'FVT', 'k': <Relationship id=323 nodes=(<Node id=215 labels=frozenset({'User'}) properties={'surname': 'White', 'name': 'Richard'}>, <Node id=195 labels=frozenset({'Group'}) properties={'name': 'FVT'}>) type='IS_MEMBER' properties={}>}\n",
      "6 {'user': 'Richard', 'group': 'FVT', 'k': <Relationship id=324 nodes=(<Node id=217 labels=frozenset({'User'}) properties={'surname': 'White', 'name': 'Richard', 'id': '4f6a2ad6-b549-465a-8d0a-867da92db703'}>, <Node id=195 labels=frozenset({'Group'}) properties={'name': 'FVT'}>) type='IS_MEMBER' properties={}>}\n",
      "7 {'user': 'Richard', 'group': 'FVT', 'k': <Relationship id=325 nodes=(<Node id=219 labels=frozenset({'User'}) properties={'name': 'Richard'}>, <Node id=195 labels=frozenset({'Group'}) properties={'name': 'FVT'}>) type='IS_MEMBER' properties={}>}\n",
      "8 {'user': 'Richard', 'group': 'FVT', 'k': <Relationship id=326 nodes=(<Node id=221 labels=frozenset({'User'}) properties={'surname': 'White', 'name': 'Richard', 'id': 'c2159cd1-e07c-484d-ba39-8dae044a3de9'}>, <Node id=195 labels=frozenset({'Group'}) properties={'name': 'FVT'}>) type='IS_MEMBER' properties={}>}\n",
      "9 {'user': 'Richard', 'group': 'FVT', 'k': <Relationship id=327 nodes=(<Node id=222 labels=frozenset({'User'}) properties={'name': 'Richard', 'id': '83b17b4d-02ab-4077-aeae-14abd8e8a6ed'}>, <Node id=195 labels=frozenset({'Group'}) properties={'name': 'FVT'}>) type='IS_MEMBER' properties={}>}\n",
      "10 {'user': 'Richard', 'group': 'FVT', 'k': <Relationship id=328 nodes=(<Node id=224 labels=frozenset({'User'}) properties={'name': 'Richard', 'id': '96902282-4c7b-4796-9815-b456e54fb0e8'}>, <Node id=195 labels=frozenset({'Group'}) properties={'name': 'FVT'}>) type='IS_MEMBER' properties={}>}\n",
      "11 {'user': 'Richard', 'group': 'FVT', 'k': <Relationship id=329 nodes=(<Node id=226 labels=frozenset({'User'}) properties={'name': 'Richard', 'id': '380c5701-ec46-466b-bbc5-8cee3ef38c03'}>, <Node id=195 labels=frozenset({'Group'}) properties={'name': 'FVT'}>) type='IS_MEMBER' properties={}>}\n",
      "12 {'user': 'Richard', 'group': 'FVT', 'k': <Relationship id=330 nodes=(<Node id=228 labels=frozenset({'User'}) properties={'name': 'Richard', 'id': '1a09a49c-3624-47ee-8ce2-24bf73ba9058'}>, <Node id=195 labels=frozenset({'Group'}) properties={'name': 'FVT'}>) type='IS_MEMBER' properties={}>}\n",
      "13 {'user': 'Richard', 'group': 'FVT', 'k': <Relationship id=331 nodes=(<Node id=230 labels=frozenset({'User'}) properties={'name': 'Richard', 'id': '1aa3cb4c-7b34-4c1a-b8f8-ae9810c532d5'}>, <Node id=195 labels=frozenset({'Group'}) properties={'name': 'FVT'}>) type='IS_MEMBER' properties={}>}\n",
      "14 {'user': 'Richard', 'group': 'FVT', 'k': <Relationship id=332 nodes=(<Node id=232 labels=frozenset({'User'}) properties={'name': 'Richard', 'id': '310b164b-d551-4fd6-aead-800da4afde54'}>, <Node id=195 labels=frozenset({'Group'}) properties={'name': 'FVT'}>) type='IS_MEMBER' properties={}>}\n",
      "15 {'user': 'Richard', 'group': 'FVT', 'k': <Relationship id=333 nodes=(<Node id=234 labels=frozenset({'User'}) properties={'name': 'Richard', 'id': '696b9559-4739-4249-82e2-9067a88e7384'}>, <Node id=195 labels=frozenset({'Group'}) properties={'name': 'FVT'}>) type='IS_MEMBER' properties={}>}\n",
      "16 {'user': 'Richard', 'group': 'FVT', 'k': <Relationship id=334 nodes=(<Node id=236 labels=frozenset({'User'}) properties={'name': 'Richard', 'id': 'e5043682-7fa5-4863-9214-0fcec03a20ef'}>, <Node id=195 labels=frozenset({'Group'}) properties={'name': 'FVT'}>) type='IS_MEMBER' properties={}>}\n",
      "17 {'user': 'Richard', 'group': 'FVT', 'k': <Relationship id=335 nodes=(<Node id=238 labels=frozenset({'User'}) properties={'name': 'Richard', 'id': 'bb8d2143-1275-4f6f-adf5-e1638a3a50c5'}>, <Node id=195 labels=frozenset({'Group'}) properties={'name': 'FVT'}>) type='IS_MEMBER' properties={}>}\n",
      "18 {'user': 'Richard', 'group': 'FVT', 'k': <Relationship id=336 nodes=(<Node id=240 labels=frozenset({'User'}) properties={'name': 'Richard', 'id': '0d3f9d77-9c46-46fc-8511-d15dcf3c35a5'}>, <Node id=195 labels=frozenset({'Group'}) properties={'name': 'FVT'}>) type='IS_MEMBER' properties={}>}\n",
      "19 {'user': 'Richard', 'group': 'FVT', 'k': <Relationship id=337 nodes=(<Node id=243 labels=frozenset({'User'}) properties={'surname': 'White', 'name': 'Richard', 'id': '3067a2bd-dda7-468e-b111-00aeffb491aa'}>, <Node id=195 labels=frozenset({'Group'}) properties={'name': 'FVT'}>) type='IS_MEMBER' properties={}>}\n",
      "20 {'user': 'Richard', 'group': 'FVT', 'k': <Relationship id=338 nodes=(<Node id=179 labels=frozenset({'User'}) properties={'surname': 'White', 'name': 'Richard'}>, <Node id=214 labels=frozenset({'Group'}) properties={'name': 'FVT'}>) type='IS_MEMBER' properties={}>}\n",
      "21 {'user': 'Richard', 'group': 'FVT', 'k': <Relationship id=339 nodes=(<Node id=193 labels=frozenset({'User'}) properties={'surname': 'White', 'name': 'Richard'}>, <Node id=214 labels=frozenset({'Group'}) properties={'name': 'FVT'}>) type='IS_MEMBER' properties={}>}\n",
      "22 {'user': 'Richard', 'group': 'FVT', 'k': <Relationship id=340 nodes=(<Node id=194 labels=frozenset({'User'}) properties={'surname': 'White', 'name': 'Richard'}>, <Node id=214 labels=frozenset({'Group'}) properties={'name': 'FVT'}>) type='IS_MEMBER' properties={}>}\n",
      "23 {'user': 'Richard', 'group': 'FVT', 'k': <Relationship id=341 nodes=(<Node id=212 labels=frozenset({'User'}) properties={'surname': 'White', 'name': 'Richard'}>, <Node id=214 labels=frozenset({'Group'}) properties={'name': 'FVT'}>) type='IS_MEMBER' properties={}>}\n",
      "24 {'user': 'Richard', 'group': 'FVT', 'k': <Relationship id=342 nodes=(<Node id=213 labels=frozenset({'User'}) properties={'surname': 'White', 'name': 'Richard'}>, <Node id=214 labels=frozenset({'Group'}) properties={'name': 'FVT'}>) type='IS_MEMBER' properties={}>}\n",
      "25 {'user': 'Richard', 'group': 'FVT', 'k': <Relationship id=343 nodes=(<Node id=215 labels=frozenset({'User'}) properties={'surname': 'White', 'name': 'Richard'}>, <Node id=214 labels=frozenset({'Group'}) properties={'name': 'FVT'}>) type='IS_MEMBER' properties={}>}\n",
      "26 {'user': 'Richard', 'group': 'FVT', 'k': <Relationship id=344 nodes=(<Node id=217 labels=frozenset({'User'}) properties={'surname': 'White', 'name': 'Richard', 'id': '4f6a2ad6-b549-465a-8d0a-867da92db703'}>, <Node id=214 labels=frozenset({'Group'}) properties={'name': 'FVT'}>) type='IS_MEMBER' properties={}>}\n",
      "27 {'user': 'Richard', 'group': 'FVT', 'k': <Relationship id=345 nodes=(<Node id=219 labels=frozenset({'User'}) properties={'name': 'Richard'}>, <Node id=214 labels=frozenset({'Group'}) properties={'name': 'FVT'}>) type='IS_MEMBER' properties={}>}\n",
      "28 {'user': 'Richard', 'group': 'FVT', 'k': <Relationship id=346 nodes=(<Node id=221 labels=frozenset({'User'}) properties={'surname': 'White', 'name': 'Richard', 'id': 'c2159cd1-e07c-484d-ba39-8dae044a3de9'}>, <Node id=214 labels=frozenset({'Group'}) properties={'name': 'FVT'}>) type='IS_MEMBER' properties={}>}\n",
      "29 {'user': 'Richard', 'group': 'FVT', 'k': <Relationship id=347 nodes=(<Node id=222 labels=frozenset({'User'}) properties={'name': 'Richard', 'id': '83b17b4d-02ab-4077-aeae-14abd8e8a6ed'}>, <Node id=214 labels=frozenset({'Group'}) properties={'name': 'FVT'}>) type='IS_MEMBER' properties={}>}\n",
      "30 {'user': 'Richard', 'group': 'FVT', 'k': <Relationship id=348 nodes=(<Node id=224 labels=frozenset({'User'}) properties={'name': 'Richard', 'id': '96902282-4c7b-4796-9815-b456e54fb0e8'}>, <Node id=214 labels=frozenset({'Group'}) properties={'name': 'FVT'}>) type='IS_MEMBER' properties={}>}\n",
      "31 {'user': 'Richard', 'group': 'FVT', 'k': <Relationship id=349 nodes=(<Node id=226 labels=frozenset({'User'}) properties={'name': 'Richard', 'id': '380c5701-ec46-466b-bbc5-8cee3ef38c03'}>, <Node id=214 labels=frozenset({'Group'}) properties={'name': 'FVT'}>) type='IS_MEMBER' properties={}>}\n",
      "32 {'user': 'Richard', 'group': 'FVT', 'k': <Relationship id=350 nodes=(<Node id=228 labels=frozenset({'User'}) properties={'name': 'Richard', 'id': '1a09a49c-3624-47ee-8ce2-24bf73ba9058'}>, <Node id=214 labels=frozenset({'Group'}) properties={'name': 'FVT'}>) type='IS_MEMBER' properties={}>}\n",
      "33 {'user': 'Richard', 'group': 'FVT', 'k': <Relationship id=351 nodes=(<Node id=230 labels=frozenset({'User'}) properties={'name': 'Richard', 'id': '1aa3cb4c-7b34-4c1a-b8f8-ae9810c532d5'}>, <Node id=214 labels=frozenset({'Group'}) properties={'name': 'FVT'}>) type='IS_MEMBER' properties={}>}\n",
      "34 {'user': 'Richard', 'group': 'FVT', 'k': <Relationship id=352 nodes=(<Node id=232 labels=frozenset({'User'}) properties={'name': 'Richard', 'id': '310b164b-d551-4fd6-aead-800da4afde54'}>, <Node id=214 labels=frozenset({'Group'}) properties={'name': 'FVT'}>) type='IS_MEMBER' properties={}>}\n",
      "35 {'user': 'Richard', 'group': 'FVT', 'k': <Relationship id=353 nodes=(<Node id=234 labels=frozenset({'User'}) properties={'name': 'Richard', 'id': '696b9559-4739-4249-82e2-9067a88e7384'}>, <Node id=214 labels=frozenset({'Group'}) properties={'name': 'FVT'}>) type='IS_MEMBER' properties={}>}\n",
      "36 {'user': 'Richard', 'group': 'FVT', 'k': <Relationship id=354 nodes=(<Node id=236 labels=frozenset({'User'}) properties={'name': 'Richard', 'id': 'e5043682-7fa5-4863-9214-0fcec03a20ef'}>, <Node id=214 labels=frozenset({'Group'}) properties={'name': 'FVT'}>) type='IS_MEMBER' properties={}>}\n",
      "37 {'user': 'Richard', 'group': 'FVT', 'k': <Relationship id=355 nodes=(<Node id=238 labels=frozenset({'User'}) properties={'name': 'Richard', 'id': 'bb8d2143-1275-4f6f-adf5-e1638a3a50c5'}>, <Node id=214 labels=frozenset({'Group'}) properties={'name': 'FVT'}>) type='IS_MEMBER' properties={}>}\n",
      "38 {'user': 'Richard', 'group': 'FVT', 'k': <Relationship id=356 nodes=(<Node id=240 labels=frozenset({'User'}) properties={'name': 'Richard', 'id': '0d3f9d77-9c46-46fc-8511-d15dcf3c35a5'}>, <Node id=214 labels=frozenset({'Group'}) properties={'name': 'FVT'}>) type='IS_MEMBER' properties={}>}\n",
      "39 {'user': 'Richard', 'group': 'FVT', 'k': <Relationship id=357 nodes=(<Node id=243 labels=frozenset({'User'}) properties={'surname': 'White', 'name': 'Richard', 'id': '3067a2bd-dda7-468e-b111-00aeffb491aa'}>, <Node id=214 labels=frozenset({'Group'}) properties={'name': 'FVT'}>) type='IS_MEMBER' properties={}>}\n",
      "40 {'user': 'Richard', 'group': 'FVT', 'k': <Relationship id=358 nodes=(<Node id=179 labels=frozenset({'User'}) properties={'surname': 'White', 'name': 'Richard'}>, <Node id=216 labels=frozenset({'Group'}) properties={'name': 'FVT'}>) type='IS_MEMBER' properties={}>}\n",
      "41 {'user': 'Richard', 'group': 'FVT', 'k': <Relationship id=359 nodes=(<Node id=193 labels=frozenset({'User'}) properties={'surname': 'White', 'name': 'Richard'}>, <Node id=216 labels=frozenset({'Group'}) properties={'name': 'FVT'}>) type='IS_MEMBER' properties={}>}\n",
      "42 {'user': 'Richard', 'group': 'FVT', 'k': <Relationship id=360 nodes=(<Node id=194 labels=frozenset({'User'}) properties={'surname': 'White', 'name': 'Richard'}>, <Node id=216 labels=frozenset({'Group'}) properties={'name': 'FVT'}>) type='IS_MEMBER' properties={}>}\n",
      "43 {'user': 'Richard', 'group': 'FVT', 'k': <Relationship id=361 nodes=(<Node id=212 labels=frozenset({'User'}) properties={'surname': 'White', 'name': 'Richard'}>, <Node id=216 labels=frozenset({'Group'}) properties={'name': 'FVT'}>) type='IS_MEMBER' properties={}>}\n",
      "44 {'user': 'Richard', 'group': 'FVT', 'k': <Relationship id=362 nodes=(<Node id=213 labels=frozenset({'User'}) properties={'surname': 'White', 'name': 'Richard'}>, <Node id=216 labels=frozenset({'Group'}) properties={'name': 'FVT'}>) type='IS_MEMBER' properties={}>}\n",
      "45 {'user': 'Richard', 'group': 'FVT', 'k': <Relationship id=363 nodes=(<Node id=215 labels=frozenset({'User'}) properties={'surname': 'White', 'name': 'Richard'}>, <Node id=216 labels=frozenset({'Group'}) properties={'name': 'FVT'}>) type='IS_MEMBER' properties={}>}\n",
      "46 {'user': 'Richard', 'group': 'FVT', 'k': <Relationship id=364 nodes=(<Node id=217 labels=frozenset({'User'}) properties={'surname': 'White', 'name': 'Richard', 'id': '4f6a2ad6-b549-465a-8d0a-867da92db703'}>, <Node id=216 labels=frozenset({'Group'}) properties={'name': 'FVT'}>) type='IS_MEMBER' properties={}>}\n",
      "47 {'user': 'Richard', 'group': 'FVT', 'k': <Relationship id=365 nodes=(<Node id=219 labels=frozenset({'User'}) properties={'name': 'Richard'}>, <Node id=216 labels=frozenset({'Group'}) properties={'name': 'FVT'}>) type='IS_MEMBER' properties={}>}\n",
      "48 {'user': 'Richard', 'group': 'FVT', 'k': <Relationship id=366 nodes=(<Node id=221 labels=frozenset({'User'}) properties={'surname': 'White', 'name': 'Richard', 'id': 'c2159cd1-e07c-484d-ba39-8dae044a3de9'}>, <Node id=216 labels=frozenset({'Group'}) properties={'name': 'FVT'}>) type='IS_MEMBER' properties={}>}\n",
      "49 {'user': 'Richard', 'group': 'FVT', 'k': <Relationship id=367 nodes=(<Node id=222 labels=frozenset({'User'}) properties={'name': 'Richard', 'id': '83b17b4d-02ab-4077-aeae-14abd8e8a6ed'}>, <Node id=216 labels=frozenset({'Group'}) properties={'name': 'FVT'}>) type='IS_MEMBER' properties={}>}\n",
      "50 {'user': 'Richard', 'group': 'FVT', 'k': <Relationship id=368 nodes=(<Node id=224 labels=frozenset({'User'}) properties={'name': 'Richard', 'id': '96902282-4c7b-4796-9815-b456e54fb0e8'}>, <Node id=216 labels=frozenset({'Group'}) properties={'name': 'FVT'}>) type='IS_MEMBER' properties={}>}\n",
      "51 {'user': 'Richard', 'group': 'FVT', 'k': <Relationship id=369 nodes=(<Node id=226 labels=frozenset({'User'}) properties={'name': 'Richard', 'id': '380c5701-ec46-466b-bbc5-8cee3ef38c03'}>, <Node id=216 labels=frozenset({'Group'}) properties={'name': 'FVT'}>) type='IS_MEMBER' properties={}>}\n",
      "52 {'user': 'Richard', 'group': 'FVT', 'k': <Relationship id=370 nodes=(<Node id=228 labels=frozenset({'User'}) properties={'name': 'Richard', 'id': '1a09a49c-3624-47ee-8ce2-24bf73ba9058'}>, <Node id=216 labels=frozenset({'Group'}) properties={'name': 'FVT'}>) type='IS_MEMBER' properties={}>}\n",
      "53 {'user': 'Richard', 'group': 'FVT', 'k': <Relationship id=371 nodes=(<Node id=230 labels=frozenset({'User'}) properties={'name': 'Richard', 'id': '1aa3cb4c-7b34-4c1a-b8f8-ae9810c532d5'}>, <Node id=216 labels=frozenset({'Group'}) properties={'name': 'FVT'}>) type='IS_MEMBER' properties={}>}\n",
      "54 {'user': 'Richard', 'group': 'FVT', 'k': <Relationship id=372 nodes=(<Node id=232 labels=frozenset({'User'}) properties={'name': 'Richard', 'id': '310b164b-d551-4fd6-aead-800da4afde54'}>, <Node id=216 labels=frozenset({'Group'}) properties={'name': 'FVT'}>) type='IS_MEMBER' properties={}>}\n",
      "55 {'user': 'Richard', 'group': 'FVT', 'k': <Relationship id=373 nodes=(<Node id=234 labels=frozenset({'User'}) properties={'name': 'Richard', 'id': '696b9559-4739-4249-82e2-9067a88e7384'}>, <Node id=216 labels=frozenset({'Group'}) properties={'name': 'FVT'}>) type='IS_MEMBER' properties={}>}\n",
      "56 {'user': 'Richard', 'group': 'FVT', 'k': <Relationship id=374 nodes=(<Node id=236 labels=frozenset({'User'}) properties={'name': 'Richard', 'id': 'e5043682-7fa5-4863-9214-0fcec03a20ef'}>, <Node id=216 labels=frozenset({'Group'}) properties={'name': 'FVT'}>) type='IS_MEMBER' properties={}>}\n",
      "57 {'user': 'Richard', 'group': 'FVT', 'k': <Relationship id=375 nodes=(<Node id=238 labels=frozenset({'User'}) properties={'name': 'Richard', 'id': 'bb8d2143-1275-4f6f-adf5-e1638a3a50c5'}>, <Node id=216 labels=frozenset({'Group'}) properties={'name': 'FVT'}>) type='IS_MEMBER' properties={}>}\n",
      "58 {'user': 'Richard', 'group': 'FVT', 'k': <Relationship id=376 nodes=(<Node id=240 labels=frozenset({'User'}) properties={'name': 'Richard', 'id': '0d3f9d77-9c46-46fc-8511-d15dcf3c35a5'}>, <Node id=216 labels=frozenset({'Group'}) properties={'name': 'FVT'}>) type='IS_MEMBER' properties={}>}\n",
      "59 {'user': 'Richard', 'group': 'FVT', 'k': <Relationship id=377 nodes=(<Node id=243 labels=frozenset({'User'}) properties={'surname': 'White', 'name': 'Richard', 'id': '3067a2bd-dda7-468e-b111-00aeffb491aa'}>, <Node id=216 labels=frozenset({'Group'}) properties={'name': 'FVT'}>) type='IS_MEMBER' properties={}>}\n",
      "60 {'user': 'Richard', 'group': 'FVT', 'k': <Relationship id=378 nodes=(<Node id=179 labels=frozenset({'User'}) properties={'surname': 'White', 'name': 'Richard'}>, <Node id=218 labels=frozenset({'Group'}) properties={'name': 'FVT', 'id': '9d8162b2-ee53-4cb0-ac40-2a32d57b1ff2'}>) type='IS_MEMBER' properties={}>}\n",
      "61 {'user': 'Richard', 'group': 'FVT', 'k': <Relationship id=379 nodes=(<Node id=193 labels=frozenset({'User'}) properties={'surname': 'White', 'name': 'Richard'}>, <Node id=218 labels=frozenset({'Group'}) properties={'name': 'FVT', 'id': '9d8162b2-ee53-4cb0-ac40-2a32d57b1ff2'}>) type='IS_MEMBER' properties={}>}\n",
      "62 {'user': 'Richard', 'group': 'FVT', 'k': <Relationship id=380 nodes=(<Node id=194 labels=frozenset({'User'}) properties={'surname': 'White', 'name': 'Richard'}>, <Node id=218 labels=frozenset({'Group'}) properties={'name': 'FVT', 'id': '9d8162b2-ee53-4cb0-ac40-2a32d57b1ff2'}>) type='IS_MEMBER' properties={}>}\n",
      "63 {'user': 'Richard', 'group': 'FVT', 'k': <Relationship id=381 nodes=(<Node id=212 labels=frozenset({'User'}) properties={'surname': 'White', 'name': 'Richard'}>, <Node id=218 labels=frozenset({'Group'}) properties={'name': 'FVT', 'id': '9d8162b2-ee53-4cb0-ac40-2a32d57b1ff2'}>) type='IS_MEMBER' properties={}>}\n",
      "64 {'user': 'Richard', 'group': 'FVT', 'k': <Relationship id=382 nodes=(<Node id=213 labels=frozenset({'User'}) properties={'surname': 'White', 'name': 'Richard'}>, <Node id=218 labels=frozenset({'Group'}) properties={'name': 'FVT', 'id': '9d8162b2-ee53-4cb0-ac40-2a32d57b1ff2'}>) type='IS_MEMBER' properties={}>}\n",
      "65 {'user': 'Richard', 'group': 'FVT', 'k': <Relationship id=383 nodes=(<Node id=215 labels=frozenset({'User'}) properties={'surname': 'White', 'name': 'Richard'}>, <Node id=218 labels=frozenset({'Group'}) properties={'name': 'FVT', 'id': '9d8162b2-ee53-4cb0-ac40-2a32d57b1ff2'}>) type='IS_MEMBER' properties={}>}\n",
      "66 {'user': 'Richard', 'group': 'FVT', 'k': <Relationship id=384 nodes=(<Node id=217 labels=frozenset({'User'}) properties={'surname': 'White', 'name': 'Richard', 'id': '4f6a2ad6-b549-465a-8d0a-867da92db703'}>, <Node id=218 labels=frozenset({'Group'}) properties={'name': 'FVT', 'id': '9d8162b2-ee53-4cb0-ac40-2a32d57b1ff2'}>) type='IS_MEMBER' properties={}>}\n",
      "67 {'user': 'Richard', 'group': 'FVT', 'k': <Relationship id=385 nodes=(<Node id=219 labels=frozenset({'User'}) properties={'name': 'Richard'}>, <Node id=218 labels=frozenset({'Group'}) properties={'name': 'FVT', 'id': '9d8162b2-ee53-4cb0-ac40-2a32d57b1ff2'}>) type='IS_MEMBER' properties={}>}\n",
      "68 {'user': 'Richard', 'group': 'FVT', 'k': <Relationship id=386 nodes=(<Node id=221 labels=frozenset({'User'}) properties={'surname': 'White', 'name': 'Richard', 'id': 'c2159cd1-e07c-484d-ba39-8dae044a3de9'}>, <Node id=218 labels=frozenset({'Group'}) properties={'name': 'FVT', 'id': '9d8162b2-ee53-4cb0-ac40-2a32d57b1ff2'}>) type='IS_MEMBER' properties={}>}\n",
      "69 {'user': 'Richard', 'group': 'FVT', 'k': <Relationship id=387 nodes=(<Node id=222 labels=frozenset({'User'}) properties={'name': 'Richard', 'id': '83b17b4d-02ab-4077-aeae-14abd8e8a6ed'}>, <Node id=218 labels=frozenset({'Group'}) properties={'name': 'FVT', 'id': '9d8162b2-ee53-4cb0-ac40-2a32d57b1ff2'}>) type='IS_MEMBER' properties={}>}\n",
      "70 {'user': 'Richard', 'group': 'FVT', 'k': <Relationship id=388 nodes=(<Node id=224 labels=frozenset({'User'}) properties={'name': 'Richard', 'id': '96902282-4c7b-4796-9815-b456e54fb0e8'}>, <Node id=218 labels=frozenset({'Group'}) properties={'name': 'FVT', 'id': '9d8162b2-ee53-4cb0-ac40-2a32d57b1ff2'}>) type='IS_MEMBER' properties={}>}\n",
      "71 {'user': 'Richard', 'group': 'FVT', 'k': <Relationship id=389 nodes=(<Node id=226 labels=frozenset({'User'}) properties={'name': 'Richard', 'id': '380c5701-ec46-466b-bbc5-8cee3ef38c03'}>, <Node id=218 labels=frozenset({'Group'}) properties={'name': 'FVT', 'id': '9d8162b2-ee53-4cb0-ac40-2a32d57b1ff2'}>) type='IS_MEMBER' properties={}>}\n",
      "72 {'user': 'Richard', 'group': 'FVT', 'k': <Relationship id=390 nodes=(<Node id=228 labels=frozenset({'User'}) properties={'name': 'Richard', 'id': '1a09a49c-3624-47ee-8ce2-24bf73ba9058'}>, <Node id=218 labels=frozenset({'Group'}) properties={'name': 'FVT', 'id': '9d8162b2-ee53-4cb0-ac40-2a32d57b1ff2'}>) type='IS_MEMBER' properties={}>}\n",
      "73 {'user': 'Richard', 'group': 'FVT', 'k': <Relationship id=391 nodes=(<Node id=230 labels=frozenset({'User'}) properties={'name': 'Richard', 'id': '1aa3cb4c-7b34-4c1a-b8f8-ae9810c532d5'}>, <Node id=218 labels=frozenset({'Group'}) properties={'name': 'FVT', 'id': '9d8162b2-ee53-4cb0-ac40-2a32d57b1ff2'}>) type='IS_MEMBER' properties={}>}\n",
      "74 {'user': 'Richard', 'group': 'FVT', 'k': <Relationship id=392 nodes=(<Node id=232 labels=frozenset({'User'}) properties={'name': 'Richard', 'id': '310b164b-d551-4fd6-aead-800da4afde54'}>, <Node id=218 labels=frozenset({'Group'}) properties={'name': 'FVT', 'id': '9d8162b2-ee53-4cb0-ac40-2a32d57b1ff2'}>) type='IS_MEMBER' properties={}>}\n",
      "75 {'user': 'Richard', 'group': 'FVT', 'k': <Relationship id=393 nodes=(<Node id=234 labels=frozenset({'User'}) properties={'name': 'Richard', 'id': '696b9559-4739-4249-82e2-9067a88e7384'}>, <Node id=218 labels=frozenset({'Group'}) properties={'name': 'FVT', 'id': '9d8162b2-ee53-4cb0-ac40-2a32d57b1ff2'}>) type='IS_MEMBER' properties={}>}\n",
      "76 {'user': 'Richard', 'group': 'FVT', 'k': <Relationship id=394 nodes=(<Node id=236 labels=frozenset({'User'}) properties={'name': 'Richard', 'id': 'e5043682-7fa5-4863-9214-0fcec03a20ef'}>, <Node id=218 labels=frozenset({'Group'}) properties={'name': 'FVT', 'id': '9d8162b2-ee53-4cb0-ac40-2a32d57b1ff2'}>) type='IS_MEMBER' properties={}>}\n",
      "77 {'user': 'Richard', 'group': 'FVT', 'k': <Relationship id=395 nodes=(<Node id=238 labels=frozenset({'User'}) properties={'name': 'Richard', 'id': 'bb8d2143-1275-4f6f-adf5-e1638a3a50c5'}>, <Node id=218 labels=frozenset({'Group'}) properties={'name': 'FVT', 'id': '9d8162b2-ee53-4cb0-ac40-2a32d57b1ff2'}>) type='IS_MEMBER' properties={}>}\n",
      "78 {'user': 'Richard', 'group': 'FVT', 'k': <Relationship id=396 nodes=(<Node id=240 labels=frozenset({'User'}) properties={'name': 'Richard', 'id': '0d3f9d77-9c46-46fc-8511-d15dcf3c35a5'}>, <Node id=218 labels=frozenset({'Group'}) properties={'name': 'FVT', 'id': '9d8162b2-ee53-4cb0-ac40-2a32d57b1ff2'}>) type='IS_MEMBER' properties={}>}\n",
      "79 {'user': 'Richard', 'group': 'FVT', 'k': <Relationship id=397 nodes=(<Node id=243 labels=frozenset({'User'}) properties={'surname': 'White', 'name': 'Richard', 'id': '3067a2bd-dda7-468e-b111-00aeffb491aa'}>, <Node id=218 labels=frozenset({'Group'}) properties={'name': 'FVT', 'id': '9d8162b2-ee53-4cb0-ac40-2a32d57b1ff2'}>) type='IS_MEMBER' properties={}>}\n",
      "80 {'user': 'Richard', 'group': 'FVT', 'k': <Relationship id=398 nodes=(<Node id=179 labels=frozenset({'User'}) properties={'surname': 'White', 'name': 'Richard'}>, <Node id=223 labels=frozenset({'Group'}) properties={'name': 'FVT', 'id': 'a2886df1-ec3e-4a79-8dc9-b4b8122a0f03'}>) type='IS_MEMBER' properties={}>}\n",
      "81 {'user': 'Richard', 'group': 'FVT', 'k': <Relationship id=399 nodes=(<Node id=193 labels=frozenset({'User'}) properties={'surname': 'White', 'name': 'Richard'}>, <Node id=223 labels=frozenset({'Group'}) properties={'name': 'FVT', 'id': 'a2886df1-ec3e-4a79-8dc9-b4b8122a0f03'}>) type='IS_MEMBER' properties={}>}\n",
      "82 {'user': 'Richard', 'group': 'FVT', 'k': <Relationship id=400 nodes=(<Node id=194 labels=frozenset({'User'}) properties={'surname': 'White', 'name': 'Richard'}>, <Node id=223 labels=frozenset({'Group'}) properties={'name': 'FVT', 'id': 'a2886df1-ec3e-4a79-8dc9-b4b8122a0f03'}>) type='IS_MEMBER' properties={}>}\n",
      "83 {'user': 'Richard', 'group': 'FVT', 'k': <Relationship id=401 nodes=(<Node id=212 labels=frozenset({'User'}) properties={'surname': 'White', 'name': 'Richard'}>, <Node id=223 labels=frozenset({'Group'}) properties={'name': 'FVT', 'id': 'a2886df1-ec3e-4a79-8dc9-b4b8122a0f03'}>) type='IS_MEMBER' properties={}>}\n",
      "84 {'user': 'Richard', 'group': 'FVT', 'k': <Relationship id=402 nodes=(<Node id=213 labels=frozenset({'User'}) properties={'surname': 'White', 'name': 'Richard'}>, <Node id=223 labels=frozenset({'Group'}) properties={'name': 'FVT', 'id': 'a2886df1-ec3e-4a79-8dc9-b4b8122a0f03'}>) type='IS_MEMBER' properties={}>}\n",
      "85 {'user': 'Richard', 'group': 'FVT', 'k': <Relationship id=403 nodes=(<Node id=215 labels=frozenset({'User'}) properties={'surname': 'White', 'name': 'Richard'}>, <Node id=223 labels=frozenset({'Group'}) properties={'name': 'FVT', 'id': 'a2886df1-ec3e-4a79-8dc9-b4b8122a0f03'}>) type='IS_MEMBER' properties={}>}\n",
      "86 {'user': 'Richard', 'group': 'FVT', 'k': <Relationship id=404 nodes=(<Node id=217 labels=frozenset({'User'}) properties={'surname': 'White', 'name': 'Richard', 'id': '4f6a2ad6-b549-465a-8d0a-867da92db703'}>, <Node id=223 labels=frozenset({'Group'}) properties={'name': 'FVT', 'id': 'a2886df1-ec3e-4a79-8dc9-b4b8122a0f03'}>) type='IS_MEMBER' properties={}>}\n",
      "87 {'user': 'Richard', 'group': 'FVT', 'k': <Relationship id=405 nodes=(<Node id=219 labels=frozenset({'User'}) properties={'name': 'Richard'}>, <Node id=223 labels=frozenset({'Group'}) properties={'name': 'FVT', 'id': 'a2886df1-ec3e-4a79-8dc9-b4b8122a0f03'}>) type='IS_MEMBER' properties={}>}\n",
      "88 {'user': 'Richard', 'group': 'FVT', 'k': <Relationship id=406 nodes=(<Node id=221 labels=frozenset({'User'}) properties={'surname': 'White', 'name': 'Richard', 'id': 'c2159cd1-e07c-484d-ba39-8dae044a3de9'}>, <Node id=223 labels=frozenset({'Group'}) properties={'name': 'FVT', 'id': 'a2886df1-ec3e-4a79-8dc9-b4b8122a0f03'}>) type='IS_MEMBER' properties={}>}\n",
      "89 {'user': 'Richard', 'group': 'FVT', 'k': <Relationship id=407 nodes=(<Node id=222 labels=frozenset({'User'}) properties={'name': 'Richard', 'id': '83b17b4d-02ab-4077-aeae-14abd8e8a6ed'}>, <Node id=223 labels=frozenset({'Group'}) properties={'name': 'FVT', 'id': 'a2886df1-ec3e-4a79-8dc9-b4b8122a0f03'}>) type='IS_MEMBER' properties={}>}\n",
      "90 {'user': 'Richard', 'group': 'FVT', 'k': <Relationship id=408 nodes=(<Node id=224 labels=frozenset({'User'}) properties={'name': 'Richard', 'id': '96902282-4c7b-4796-9815-b456e54fb0e8'}>, <Node id=223 labels=frozenset({'Group'}) properties={'name': 'FVT', 'id': 'a2886df1-ec3e-4a79-8dc9-b4b8122a0f03'}>) type='IS_MEMBER' properties={}>}\n",
      "91 {'user': 'Richard', 'group': 'FVT', 'k': <Relationship id=409 nodes=(<Node id=226 labels=frozenset({'User'}) properties={'name': 'Richard', 'id': '380c5701-ec46-466b-bbc5-8cee3ef38c03'}>, <Node id=223 labels=frozenset({'Group'}) properties={'name': 'FVT', 'id': 'a2886df1-ec3e-4a79-8dc9-b4b8122a0f03'}>) type='IS_MEMBER' properties={}>}\n",
      "92 {'user': 'Richard', 'group': 'FVT', 'k': <Relationship id=410 nodes=(<Node id=228 labels=frozenset({'User'}) properties={'name': 'Richard', 'id': '1a09a49c-3624-47ee-8ce2-24bf73ba9058'}>, <Node id=223 labels=frozenset({'Group'}) properties={'name': 'FVT', 'id': 'a2886df1-ec3e-4a79-8dc9-b4b8122a0f03'}>) type='IS_MEMBER' properties={}>}\n",
      "93 {'user': 'Richard', 'group': 'FVT', 'k': <Relationship id=411 nodes=(<Node id=230 labels=frozenset({'User'}) properties={'name': 'Richard', 'id': '1aa3cb4c-7b34-4c1a-b8f8-ae9810c532d5'}>, <Node id=223 labels=frozenset({'Group'}) properties={'name': 'FVT', 'id': 'a2886df1-ec3e-4a79-8dc9-b4b8122a0f03'}>) type='IS_MEMBER' properties={}>}\n",
      "94 {'user': 'Richard', 'group': 'FVT', 'k': <Relationship id=412 nodes=(<Node id=232 labels=frozenset({'User'}) properties={'name': 'Richard', 'id': '310b164b-d551-4fd6-aead-800da4afde54'}>, <Node id=223 labels=frozenset({'Group'}) properties={'name': 'FVT', 'id': 'a2886df1-ec3e-4a79-8dc9-b4b8122a0f03'}>) type='IS_MEMBER' properties={}>}\n",
      "95 {'user': 'Richard', 'group': 'FVT', 'k': <Relationship id=413 nodes=(<Node id=234 labels=frozenset({'User'}) properties={'name': 'Richard', 'id': '696b9559-4739-4249-82e2-9067a88e7384'}>, <Node id=223 labels=frozenset({'Group'}) properties={'name': 'FVT', 'id': 'a2886df1-ec3e-4a79-8dc9-b4b8122a0f03'}>) type='IS_MEMBER' properties={}>}\n",
      "96 {'user': 'Richard', 'group': 'FVT', 'k': <Relationship id=414 nodes=(<Node id=236 labels=frozenset({'User'}) properties={'name': 'Richard', 'id': 'e5043682-7fa5-4863-9214-0fcec03a20ef'}>, <Node id=223 labels=frozenset({'Group'}) properties={'name': 'FVT', 'id': 'a2886df1-ec3e-4a79-8dc9-b4b8122a0f03'}>) type='IS_MEMBER' properties={}>}\n",
      "97 {'user': 'Richard', 'group': 'FVT', 'k': <Relationship id=415 nodes=(<Node id=238 labels=frozenset({'User'}) properties={'name': 'Richard', 'id': 'bb8d2143-1275-4f6f-adf5-e1638a3a50c5'}>, <Node id=223 labels=frozenset({'Group'}) properties={'name': 'FVT', 'id': 'a2886df1-ec3e-4a79-8dc9-b4b8122a0f03'}>) type='IS_MEMBER' properties={}>}\n",
      "98 {'user': 'Richard', 'group': 'FVT', 'k': <Relationship id=416 nodes=(<Node id=240 labels=frozenset({'User'}) properties={'name': 'Richard', 'id': '0d3f9d77-9c46-46fc-8511-d15dcf3c35a5'}>, <Node id=223 labels=frozenset({'Group'}) properties={'name': 'FVT', 'id': 'a2886df1-ec3e-4a79-8dc9-b4b8122a0f03'}>) type='IS_MEMBER' properties={}>}\n",
      "99 {'user': 'Richard', 'group': 'FVT', 'k': <Relationship id=417 nodes=(<Node id=243 labels=frozenset({'User'}) properties={'surname': 'White', 'name': 'Richard', 'id': '3067a2bd-dda7-468e-b111-00aeffb491aa'}>, <Node id=223 labels=frozenset({'Group'}) properties={'name': 'FVT', 'id': 'a2886df1-ec3e-4a79-8dc9-b4b8122a0f03'}>) type='IS_MEMBER' properties={}>}\n",
      "100 {'user': 'Richard', 'group': 'FVT', 'k': <Relationship id=418 nodes=(<Node id=179 labels=frozenset({'User'}) properties={'surname': 'White', 'name': 'Richard'}>, <Node id=225 labels=frozenset({'Group'}) properties={'name': 'FVT', 'id': '73795b85-780b-41f4-8cec-4a17e98e7a82'}>) type='IS_MEMBER' properties={}>}\n",
      "101 {'user': 'Richard', 'group': 'FVT', 'k': <Relationship id=419 nodes=(<Node id=193 labels=frozenset({'User'}) properties={'surname': 'White', 'name': 'Richard'}>, <Node id=225 labels=frozenset({'Group'}) properties={'name': 'FVT', 'id': '73795b85-780b-41f4-8cec-4a17e98e7a82'}>) type='IS_MEMBER' properties={}>}\n",
      "102 {'user': 'Richard', 'group': 'FVT', 'k': <Relationship id=420 nodes=(<Node id=194 labels=frozenset({'User'}) properties={'surname': 'White', 'name': 'Richard'}>, <Node id=225 labels=frozenset({'Group'}) properties={'name': 'FVT', 'id': '73795b85-780b-41f4-8cec-4a17e98e7a82'}>) type='IS_MEMBER' properties={}>}\n",
      "103 {'user': 'Richard', 'group': 'FVT', 'k': <Relationship id=421 nodes=(<Node id=212 labels=frozenset({'User'}) properties={'surname': 'White', 'name': 'Richard'}>, <Node id=225 labels=frozenset({'Group'}) properties={'name': 'FVT', 'id': '73795b85-780b-41f4-8cec-4a17e98e7a82'}>) type='IS_MEMBER' properties={}>}\n",
      "104 {'user': 'Richard', 'group': 'FVT', 'k': <Relationship id=422 nodes=(<Node id=213 labels=frozenset({'User'}) properties={'surname': 'White', 'name': 'Richard'}>, <Node id=225 labels=frozenset({'Group'}) properties={'name': 'FVT', 'id': '73795b85-780b-41f4-8cec-4a17e98e7a82'}>) type='IS_MEMBER' properties={}>}\n",
      "105 {'user': 'Richard', 'group': 'FVT', 'k': <Relationship id=423 nodes=(<Node id=215 labels=frozenset({'User'}) properties={'surname': 'White', 'name': 'Richard'}>, <Node id=225 labels=frozenset({'Group'}) properties={'name': 'FVT', 'id': '73795b85-780b-41f4-8cec-4a17e98e7a82'}>) type='IS_MEMBER' properties={}>}\n",
      "106 {'user': 'Richard', 'group': 'FVT', 'k': <Relationship id=424 nodes=(<Node id=217 labels=frozenset({'User'}) properties={'surname': 'White', 'name': 'Richard', 'id': '4f6a2ad6-b549-465a-8d0a-867da92db703'}>, <Node id=225 labels=frozenset({'Group'}) properties={'name': 'FVT', 'id': '73795b85-780b-41f4-8cec-4a17e98e7a82'}>) type='IS_MEMBER' properties={}>}\n",
      "107 {'user': 'Richard', 'group': 'FVT', 'k': <Relationship id=425 nodes=(<Node id=219 labels=frozenset({'User'}) properties={'name': 'Richard'}>, <Node id=225 labels=frozenset({'Group'}) properties={'name': 'FVT', 'id': '73795b85-780b-41f4-8cec-4a17e98e7a82'}>) type='IS_MEMBER' properties={}>}\n",
      "108 {'user': 'Richard', 'group': 'FVT', 'k': <Relationship id=426 nodes=(<Node id=221 labels=frozenset({'User'}) properties={'surname': 'White', 'name': 'Richard', 'id': 'c2159cd1-e07c-484d-ba39-8dae044a3de9'}>, <Node id=225 labels=frozenset({'Group'}) properties={'name': 'FVT', 'id': '73795b85-780b-41f4-8cec-4a17e98e7a82'}>) type='IS_MEMBER' properties={}>}\n",
      "109 {'user': 'Richard', 'group': 'FVT', 'k': <Relationship id=427 nodes=(<Node id=222 labels=frozenset({'User'}) properties={'name': 'Richard', 'id': '83b17b4d-02ab-4077-aeae-14abd8e8a6ed'}>, <Node id=225 labels=frozenset({'Group'}) properties={'name': 'FVT', 'id': '73795b85-780b-41f4-8cec-4a17e98e7a82'}>) type='IS_MEMBER' properties={}>}\n",
      "110 {'user': 'Richard', 'group': 'FVT', 'k': <Relationship id=428 nodes=(<Node id=224 labels=frozenset({'User'}) properties={'name': 'Richard', 'id': '96902282-4c7b-4796-9815-b456e54fb0e8'}>, <Node id=225 labels=frozenset({'Group'}) properties={'name': 'FVT', 'id': '73795b85-780b-41f4-8cec-4a17e98e7a82'}>) type='IS_MEMBER' properties={}>}\n",
      "111 {'user': 'Richard', 'group': 'FVT', 'k': <Relationship id=429 nodes=(<Node id=226 labels=frozenset({'User'}) properties={'name': 'Richard', 'id': '380c5701-ec46-466b-bbc5-8cee3ef38c03'}>, <Node id=225 labels=frozenset({'Group'}) properties={'name': 'FVT', 'id': '73795b85-780b-41f4-8cec-4a17e98e7a82'}>) type='IS_MEMBER' properties={}>}\n",
      "112 {'user': 'Richard', 'group': 'FVT', 'k': <Relationship id=430 nodes=(<Node id=228 labels=frozenset({'User'}) properties={'name': 'Richard', 'id': '1a09a49c-3624-47ee-8ce2-24bf73ba9058'}>, <Node id=225 labels=frozenset({'Group'}) properties={'name': 'FVT', 'id': '73795b85-780b-41f4-8cec-4a17e98e7a82'}>) type='IS_MEMBER' properties={}>}\n",
      "113 {'user': 'Richard', 'group': 'FVT', 'k': <Relationship id=431 nodes=(<Node id=230 labels=frozenset({'User'}) properties={'name': 'Richard', 'id': '1aa3cb4c-7b34-4c1a-b8f8-ae9810c532d5'}>, <Node id=225 labels=frozenset({'Group'}) properties={'name': 'FVT', 'id': '73795b85-780b-41f4-8cec-4a17e98e7a82'}>) type='IS_MEMBER' properties={}>}\n",
      "114 {'user': 'Richard', 'group': 'FVT', 'k': <Relationship id=432 nodes=(<Node id=232 labels=frozenset({'User'}) properties={'name': 'Richard', 'id': '310b164b-d551-4fd6-aead-800da4afde54'}>, <Node id=225 labels=frozenset({'Group'}) properties={'name': 'FVT', 'id': '73795b85-780b-41f4-8cec-4a17e98e7a82'}>) type='IS_MEMBER' properties={}>}\n",
      "115 {'user': 'Richard', 'group': 'FVT', 'k': <Relationship id=433 nodes=(<Node id=234 labels=frozenset({'User'}) properties={'name': 'Richard', 'id': '696b9559-4739-4249-82e2-9067a88e7384'}>, <Node id=225 labels=frozenset({'Group'}) properties={'name': 'FVT', 'id': '73795b85-780b-41f4-8cec-4a17e98e7a82'}>) type='IS_MEMBER' properties={}>}\n",
      "116 {'user': 'Richard', 'group': 'FVT', 'k': <Relationship id=434 nodes=(<Node id=236 labels=frozenset({'User'}) properties={'name': 'Richard', 'id': 'e5043682-7fa5-4863-9214-0fcec03a20ef'}>, <Node id=225 labels=frozenset({'Group'}) properties={'name': 'FVT', 'id': '73795b85-780b-41f4-8cec-4a17e98e7a82'}>) type='IS_MEMBER' properties={}>}\n",
      "117 {'user': 'Richard', 'group': 'FVT', 'k': <Relationship id=435 nodes=(<Node id=238 labels=frozenset({'User'}) properties={'name': 'Richard', 'id': 'bb8d2143-1275-4f6f-adf5-e1638a3a50c5'}>, <Node id=225 labels=frozenset({'Group'}) properties={'name': 'FVT', 'id': '73795b85-780b-41f4-8cec-4a17e98e7a82'}>) type='IS_MEMBER' properties={}>}\n",
      "118 {'user': 'Richard', 'group': 'FVT', 'k': <Relationship id=436 nodes=(<Node id=240 labels=frozenset({'User'}) properties={'name': 'Richard', 'id': '0d3f9d77-9c46-46fc-8511-d15dcf3c35a5'}>, <Node id=225 labels=frozenset({'Group'}) properties={'name': 'FVT', 'id': '73795b85-780b-41f4-8cec-4a17e98e7a82'}>) type='IS_MEMBER' properties={}>}\n",
      "119 {'user': 'Richard', 'group': 'FVT', 'k': <Relationship id=437 nodes=(<Node id=243 labels=frozenset({'User'}) properties={'surname': 'White', 'name': 'Richard', 'id': '3067a2bd-dda7-468e-b111-00aeffb491aa'}>, <Node id=225 labels=frozenset({'Group'}) properties={'name': 'FVT', 'id': '73795b85-780b-41f4-8cec-4a17e98e7a82'}>) type='IS_MEMBER' properties={}>}\n",
      "120 {'user': 'Richard', 'group': 'FVT', 'k': <Relationship id=438 nodes=(<Node id=179 labels=frozenset({'User'}) properties={'surname': 'White', 'name': 'Richard'}>, <Node id=227 labels=frozenset({'Group'}) properties={'name': 'FVT', 'id': 'af55912b-ddfc-496a-a785-a6667abf889b'}>) type='IS_MEMBER' properties={}>}\n",
      "121 {'user': 'Richard', 'group': 'FVT', 'k': <Relationship id=439 nodes=(<Node id=193 labels=frozenset({'User'}) properties={'surname': 'White', 'name': 'Richard'}>, <Node id=227 labels=frozenset({'Group'}) properties={'name': 'FVT', 'id': 'af55912b-ddfc-496a-a785-a6667abf889b'}>) type='IS_MEMBER' properties={}>}\n",
      "122 {'user': 'Richard', 'group': 'FVT', 'k': <Relationship id=440 nodes=(<Node id=194 labels=frozenset({'User'}) properties={'surname': 'White', 'name': 'Richard'}>, <Node id=227 labels=frozenset({'Group'}) properties={'name': 'FVT', 'id': 'af55912b-ddfc-496a-a785-a6667abf889b'}>) type='IS_MEMBER' properties={}>}\n",
      "123 {'user': 'Richard', 'group': 'FVT', 'k': <Relationship id=441 nodes=(<Node id=212 labels=frozenset({'User'}) properties={'surname': 'White', 'name': 'Richard'}>, <Node id=227 labels=frozenset({'Group'}) properties={'name': 'FVT', 'id': 'af55912b-ddfc-496a-a785-a6667abf889b'}>) type='IS_MEMBER' properties={}>}\n",
      "124 {'user': 'Richard', 'group': 'FVT', 'k': <Relationship id=442 nodes=(<Node id=213 labels=frozenset({'User'}) properties={'surname': 'White', 'name': 'Richard'}>, <Node id=227 labels=frozenset({'Group'}) properties={'name': 'FVT', 'id': 'af55912b-ddfc-496a-a785-a6667abf889b'}>) type='IS_MEMBER' properties={}>}\n",
      "125 {'user': 'Richard', 'group': 'FVT', 'k': <Relationship id=443 nodes=(<Node id=215 labels=frozenset({'User'}) properties={'surname': 'White', 'name': 'Richard'}>, <Node id=227 labels=frozenset({'Group'}) properties={'name': 'FVT', 'id': 'af55912b-ddfc-496a-a785-a6667abf889b'}>) type='IS_MEMBER' properties={}>}\n",
      "126 {'user': 'Richard', 'group': 'FVT', 'k': <Relationship id=444 nodes=(<Node id=217 labels=frozenset({'User'}) properties={'surname': 'White', 'name': 'Richard', 'id': '4f6a2ad6-b549-465a-8d0a-867da92db703'}>, <Node id=227 labels=frozenset({'Group'}) properties={'name': 'FVT', 'id': 'af55912b-ddfc-496a-a785-a6667abf889b'}>) type='IS_MEMBER' properties={}>}\n",
      "127 {'user': 'Richard', 'group': 'FVT', 'k': <Relationship id=445 nodes=(<Node id=219 labels=frozenset({'User'}) properties={'name': 'Richard'}>, <Node id=227 labels=frozenset({'Group'}) properties={'name': 'FVT', 'id': 'af55912b-ddfc-496a-a785-a6667abf889b'}>) type='IS_MEMBER' properties={}>}\n",
      "128 {'user': 'Richard', 'group': 'FVT', 'k': <Relationship id=446 nodes=(<Node id=221 labels=frozenset({'User'}) properties={'surname': 'White', 'name': 'Richard', 'id': 'c2159cd1-e07c-484d-ba39-8dae044a3de9'}>, <Node id=227 labels=frozenset({'Group'}) properties={'name': 'FVT', 'id': 'af55912b-ddfc-496a-a785-a6667abf889b'}>) type='IS_MEMBER' properties={}>}\n",
      "129 {'user': 'Richard', 'group': 'FVT', 'k': <Relationship id=447 nodes=(<Node id=222 labels=frozenset({'User'}) properties={'name': 'Richard', 'id': '83b17b4d-02ab-4077-aeae-14abd8e8a6ed'}>, <Node id=227 labels=frozenset({'Group'}) properties={'name': 'FVT', 'id': 'af55912b-ddfc-496a-a785-a6667abf889b'}>) type='IS_MEMBER' properties={}>}\n",
      "130 {'user': 'Richard', 'group': 'FVT', 'k': <Relationship id=448 nodes=(<Node id=224 labels=frozenset({'User'}) properties={'name': 'Richard', 'id': '96902282-4c7b-4796-9815-b456e54fb0e8'}>, <Node id=227 labels=frozenset({'Group'}) properties={'name': 'FVT', 'id': 'af55912b-ddfc-496a-a785-a6667abf889b'}>) type='IS_MEMBER' properties={}>}\n",
      "131 {'user': 'Richard', 'group': 'FVT', 'k': <Relationship id=449 nodes=(<Node id=226 labels=frozenset({'User'}) properties={'name': 'Richard', 'id': '380c5701-ec46-466b-bbc5-8cee3ef38c03'}>, <Node id=227 labels=frozenset({'Group'}) properties={'name': 'FVT', 'id': 'af55912b-ddfc-496a-a785-a6667abf889b'}>) type='IS_MEMBER' properties={}>}\n",
      "132 {'user': 'Richard', 'group': 'FVT', 'k': <Relationship id=450 nodes=(<Node id=228 labels=frozenset({'User'}) properties={'name': 'Richard', 'id': '1a09a49c-3624-47ee-8ce2-24bf73ba9058'}>, <Node id=227 labels=frozenset({'Group'}) properties={'name': 'FVT', 'id': 'af55912b-ddfc-496a-a785-a6667abf889b'}>) type='IS_MEMBER' properties={}>}\n",
      "133 {'user': 'Richard', 'group': 'FVT', 'k': <Relationship id=451 nodes=(<Node id=230 labels=frozenset({'User'}) properties={'name': 'Richard', 'id': '1aa3cb4c-7b34-4c1a-b8f8-ae9810c532d5'}>, <Node id=227 labels=frozenset({'Group'}) properties={'name': 'FVT', 'id': 'af55912b-ddfc-496a-a785-a6667abf889b'}>) type='IS_MEMBER' properties={}>}\n",
      "134 {'user': 'Richard', 'group': 'FVT', 'k': <Relationship id=452 nodes=(<Node id=232 labels=frozenset({'User'}) properties={'name': 'Richard', 'id': '310b164b-d551-4fd6-aead-800da4afde54'}>, <Node id=227 labels=frozenset({'Group'}) properties={'name': 'FVT', 'id': 'af55912b-ddfc-496a-a785-a6667abf889b'}>) type='IS_MEMBER' properties={}>}\n",
      "135 {'user': 'Richard', 'group': 'FVT', 'k': <Relationship id=453 nodes=(<Node id=234 labels=frozenset({'User'}) properties={'name': 'Richard', 'id': '696b9559-4739-4249-82e2-9067a88e7384'}>, <Node id=227 labels=frozenset({'Group'}) properties={'name': 'FVT', 'id': 'af55912b-ddfc-496a-a785-a6667abf889b'}>) type='IS_MEMBER' properties={}>}\n",
      "136 {'user': 'Richard', 'group': 'FVT', 'k': <Relationship id=454 nodes=(<Node id=236 labels=frozenset({'User'}) properties={'name': 'Richard', 'id': 'e5043682-7fa5-4863-9214-0fcec03a20ef'}>, <Node id=227 labels=frozenset({'Group'}) properties={'name': 'FVT', 'id': 'af55912b-ddfc-496a-a785-a6667abf889b'}>) type='IS_MEMBER' properties={}>}\n",
      "137 {'user': 'Richard', 'group': 'FVT', 'k': <Relationship id=455 nodes=(<Node id=238 labels=frozenset({'User'}) properties={'name': 'Richard', 'id': 'bb8d2143-1275-4f6f-adf5-e1638a3a50c5'}>, <Node id=227 labels=frozenset({'Group'}) properties={'name': 'FVT', 'id': 'af55912b-ddfc-496a-a785-a6667abf889b'}>) type='IS_MEMBER' properties={}>}\n",
      "138 {'user': 'Richard', 'group': 'FVT', 'k': <Relationship id=456 nodes=(<Node id=240 labels=frozenset({'User'}) properties={'name': 'Richard', 'id': '0d3f9d77-9c46-46fc-8511-d15dcf3c35a5'}>, <Node id=227 labels=frozenset({'Group'}) properties={'name': 'FVT', 'id': 'af55912b-ddfc-496a-a785-a6667abf889b'}>) type='IS_MEMBER' properties={}>}\n",
      "139 {'user': 'Richard', 'group': 'FVT', 'k': <Relationship id=457 nodes=(<Node id=243 labels=frozenset({'User'}) properties={'surname': 'White', 'name': 'Richard', 'id': '3067a2bd-dda7-468e-b111-00aeffb491aa'}>, <Node id=227 labels=frozenset({'Group'}) properties={'name': 'FVT', 'id': 'af55912b-ddfc-496a-a785-a6667abf889b'}>) type='IS_MEMBER' properties={}>}\n",
      "140 {'user': 'Richard', 'group': 'FVT', 'k': <Relationship id=458 nodes=(<Node id=179 labels=frozenset({'User'}) properties={'surname': 'White', 'name': 'Richard'}>, <Node id=229 labels=frozenset({'Group'}) properties={'name': 'FVT', 'id': 'e666e66a-01ce-4b17-bf5d-6f7320a6789e'}>) type='IS_MEMBER' properties={}>}\n",
      "141 {'user': 'Richard', 'group': 'FVT', 'k': <Relationship id=459 nodes=(<Node id=193 labels=frozenset({'User'}) properties={'surname': 'White', 'name': 'Richard'}>, <Node id=229 labels=frozenset({'Group'}) properties={'name': 'FVT', 'id': 'e666e66a-01ce-4b17-bf5d-6f7320a6789e'}>) type='IS_MEMBER' properties={}>}\n",
      "142 {'user': 'Richard', 'group': 'FVT', 'k': <Relationship id=460 nodes=(<Node id=194 labels=frozenset({'User'}) properties={'surname': 'White', 'name': 'Richard'}>, <Node id=229 labels=frozenset({'Group'}) properties={'name': 'FVT', 'id': 'e666e66a-01ce-4b17-bf5d-6f7320a6789e'}>) type='IS_MEMBER' properties={}>}\n",
      "143 {'user': 'Richard', 'group': 'FVT', 'k': <Relationship id=461 nodes=(<Node id=212 labels=frozenset({'User'}) properties={'surname': 'White', 'name': 'Richard'}>, <Node id=229 labels=frozenset({'Group'}) properties={'name': 'FVT', 'id': 'e666e66a-01ce-4b17-bf5d-6f7320a6789e'}>) type='IS_MEMBER' properties={}>}\n",
      "144 {'user': 'Richard', 'group': 'FVT', 'k': <Relationship id=462 nodes=(<Node id=213 labels=frozenset({'User'}) properties={'surname': 'White', 'name': 'Richard'}>, <Node id=229 labels=frozenset({'Group'}) properties={'name': 'FVT', 'id': 'e666e66a-01ce-4b17-bf5d-6f7320a6789e'}>) type='IS_MEMBER' properties={}>}\n",
      "145 {'user': 'Richard', 'group': 'FVT', 'k': <Relationship id=463 nodes=(<Node id=215 labels=frozenset({'User'}) properties={'surname': 'White', 'name': 'Richard'}>, <Node id=229 labels=frozenset({'Group'}) properties={'name': 'FVT', 'id': 'e666e66a-01ce-4b17-bf5d-6f7320a6789e'}>) type='IS_MEMBER' properties={}>}\n",
      "146 {'user': 'Richard', 'group': 'FVT', 'k': <Relationship id=464 nodes=(<Node id=217 labels=frozenset({'User'}) properties={'surname': 'White', 'name': 'Richard', 'id': '4f6a2ad6-b549-465a-8d0a-867da92db703'}>, <Node id=229 labels=frozenset({'Group'}) properties={'name': 'FVT', 'id': 'e666e66a-01ce-4b17-bf5d-6f7320a6789e'}>) type='IS_MEMBER' properties={}>}\n",
      "147 {'user': 'Richard', 'group': 'FVT', 'k': <Relationship id=465 nodes=(<Node id=219 labels=frozenset({'User'}) properties={'name': 'Richard'}>, <Node id=229 labels=frozenset({'Group'}) properties={'name': 'FVT', 'id': 'e666e66a-01ce-4b17-bf5d-6f7320a6789e'}>) type='IS_MEMBER' properties={}>}\n",
      "148 {'user': 'Richard', 'group': 'FVT', 'k': <Relationship id=466 nodes=(<Node id=221 labels=frozenset({'User'}) properties={'surname': 'White', 'name': 'Richard', 'id': 'c2159cd1-e07c-484d-ba39-8dae044a3de9'}>, <Node id=229 labels=frozenset({'Group'}) properties={'name': 'FVT', 'id': 'e666e66a-01ce-4b17-bf5d-6f7320a6789e'}>) type='IS_MEMBER' properties={}>}\n",
      "149 {'user': 'Richard', 'group': 'FVT', 'k': <Relationship id=467 nodes=(<Node id=222 labels=frozenset({'User'}) properties={'name': 'Richard', 'id': '83b17b4d-02ab-4077-aeae-14abd8e8a6ed'}>, <Node id=229 labels=frozenset({'Group'}) properties={'name': 'FVT', 'id': 'e666e66a-01ce-4b17-bf5d-6f7320a6789e'}>) type='IS_MEMBER' properties={}>}\n",
      "150 {'user': 'Richard', 'group': 'FVT', 'k': <Relationship id=468 nodes=(<Node id=224 labels=frozenset({'User'}) properties={'name': 'Richard', 'id': '96902282-4c7b-4796-9815-b456e54fb0e8'}>, <Node id=229 labels=frozenset({'Group'}) properties={'name': 'FVT', 'id': 'e666e66a-01ce-4b17-bf5d-6f7320a6789e'}>) type='IS_MEMBER' properties={}>}\n",
      "151 {'user': 'Richard', 'group': 'FVT', 'k': <Relationship id=469 nodes=(<Node id=226 labels=frozenset({'User'}) properties={'name': 'Richard', 'id': '380c5701-ec46-466b-bbc5-8cee3ef38c03'}>, <Node id=229 labels=frozenset({'Group'}) properties={'name': 'FVT', 'id': 'e666e66a-01ce-4b17-bf5d-6f7320a6789e'}>) type='IS_MEMBER' properties={}>}\n",
      "152 {'user': 'Richard', 'group': 'FVT', 'k': <Relationship id=470 nodes=(<Node id=228 labels=frozenset({'User'}) properties={'name': 'Richard', 'id': '1a09a49c-3624-47ee-8ce2-24bf73ba9058'}>, <Node id=229 labels=frozenset({'Group'}) properties={'name': 'FVT', 'id': 'e666e66a-01ce-4b17-bf5d-6f7320a6789e'}>) type='IS_MEMBER' properties={}>}\n",
      "153 {'user': 'Richard', 'group': 'FVT', 'k': <Relationship id=471 nodes=(<Node id=230 labels=frozenset({'User'}) properties={'name': 'Richard', 'id': '1aa3cb4c-7b34-4c1a-b8f8-ae9810c532d5'}>, <Node id=229 labels=frozenset({'Group'}) properties={'name': 'FVT', 'id': 'e666e66a-01ce-4b17-bf5d-6f7320a6789e'}>) type='IS_MEMBER' properties={}>}\n",
      "154 {'user': 'Richard', 'group': 'FVT', 'k': <Relationship id=472 nodes=(<Node id=232 labels=frozenset({'User'}) properties={'name': 'Richard', 'id': '310b164b-d551-4fd6-aead-800da4afde54'}>, <Node id=229 labels=frozenset({'Group'}) properties={'name': 'FVT', 'id': 'e666e66a-01ce-4b17-bf5d-6f7320a6789e'}>) type='IS_MEMBER' properties={}>}\n",
      "155 {'user': 'Richard', 'group': 'FVT', 'k': <Relationship id=473 nodes=(<Node id=234 labels=frozenset({'User'}) properties={'name': 'Richard', 'id': '696b9559-4739-4249-82e2-9067a88e7384'}>, <Node id=229 labels=frozenset({'Group'}) properties={'name': 'FVT', 'id': 'e666e66a-01ce-4b17-bf5d-6f7320a6789e'}>) type='IS_MEMBER' properties={}>}\n",
      "156 {'user': 'Richard', 'group': 'FVT', 'k': <Relationship id=474 nodes=(<Node id=236 labels=frozenset({'User'}) properties={'name': 'Richard', 'id': 'e5043682-7fa5-4863-9214-0fcec03a20ef'}>, <Node id=229 labels=frozenset({'Group'}) properties={'name': 'FVT', 'id': 'e666e66a-01ce-4b17-bf5d-6f7320a6789e'}>) type='IS_MEMBER' properties={}>}\n",
      "157 {'user': 'Richard', 'group': 'FVT', 'k': <Relationship id=475 nodes=(<Node id=238 labels=frozenset({'User'}) properties={'name': 'Richard', 'id': 'bb8d2143-1275-4f6f-adf5-e1638a3a50c5'}>, <Node id=229 labels=frozenset({'Group'}) properties={'name': 'FVT', 'id': 'e666e66a-01ce-4b17-bf5d-6f7320a6789e'}>) type='IS_MEMBER' properties={}>}\n",
      "158 {'user': 'Richard', 'group': 'FVT', 'k': <Relationship id=476 nodes=(<Node id=240 labels=frozenset({'User'}) properties={'name': 'Richard', 'id': '0d3f9d77-9c46-46fc-8511-d15dcf3c35a5'}>, <Node id=229 labels=frozenset({'Group'}) properties={'name': 'FVT', 'id': 'e666e66a-01ce-4b17-bf5d-6f7320a6789e'}>) type='IS_MEMBER' properties={}>}\n",
      "159 {'user': 'Richard', 'group': 'FVT', 'k': <Relationship id=477 nodes=(<Node id=243 labels=frozenset({'User'}) properties={'surname': 'White', 'name': 'Richard', 'id': '3067a2bd-dda7-468e-b111-00aeffb491aa'}>, <Node id=229 labels=frozenset({'Group'}) properties={'name': 'FVT', 'id': 'e666e66a-01ce-4b17-bf5d-6f7320a6789e'}>) type='IS_MEMBER' properties={}>}\n",
      "160 {'user': 'Richard', 'group': 'FVT', 'k': <Relationship id=478 nodes=(<Node id=179 labels=frozenset({'User'}) properties={'surname': 'White', 'name': 'Richard'}>, <Node id=231 labels=frozenset({'Group'}) properties={'name': 'FVT', 'id': 'b82f6bf6-5a72-402e-a534-868abfa51ae5'}>) type='IS_MEMBER' properties={}>}\n",
      "161 {'user': 'Richard', 'group': 'FVT', 'k': <Relationship id=479 nodes=(<Node id=193 labels=frozenset({'User'}) properties={'surname': 'White', 'name': 'Richard'}>, <Node id=231 labels=frozenset({'Group'}) properties={'name': 'FVT', 'id': 'b82f6bf6-5a72-402e-a534-868abfa51ae5'}>) type='IS_MEMBER' properties={}>}\n",
      "162 {'user': 'Richard', 'group': 'FVT', 'k': <Relationship id=480 nodes=(<Node id=194 labels=frozenset({'User'}) properties={'surname': 'White', 'name': 'Richard'}>, <Node id=231 labels=frozenset({'Group'}) properties={'name': 'FVT', 'id': 'b82f6bf6-5a72-402e-a534-868abfa51ae5'}>) type='IS_MEMBER' properties={}>}\n",
      "163 {'user': 'Richard', 'group': 'FVT', 'k': <Relationship id=481 nodes=(<Node id=212 labels=frozenset({'User'}) properties={'surname': 'White', 'name': 'Richard'}>, <Node id=231 labels=frozenset({'Group'}) properties={'name': 'FVT', 'id': 'b82f6bf6-5a72-402e-a534-868abfa51ae5'}>) type='IS_MEMBER' properties={}>}\n",
      "164 {'user': 'Richard', 'group': 'FVT', 'k': <Relationship id=482 nodes=(<Node id=213 labels=frozenset({'User'}) properties={'surname': 'White', 'name': 'Richard'}>, <Node id=231 labels=frozenset({'Group'}) properties={'name': 'FVT', 'id': 'b82f6bf6-5a72-402e-a534-868abfa51ae5'}>) type='IS_MEMBER' properties={}>}\n",
      "165 {'user': 'Richard', 'group': 'FVT', 'k': <Relationship id=483 nodes=(<Node id=215 labels=frozenset({'User'}) properties={'surname': 'White', 'name': 'Richard'}>, <Node id=231 labels=frozenset({'Group'}) properties={'name': 'FVT', 'id': 'b82f6bf6-5a72-402e-a534-868abfa51ae5'}>) type='IS_MEMBER' properties={}>}\n",
      "166 {'user': 'Richard', 'group': 'FVT', 'k': <Relationship id=484 nodes=(<Node id=217 labels=frozenset({'User'}) properties={'surname': 'White', 'name': 'Richard', 'id': '4f6a2ad6-b549-465a-8d0a-867da92db703'}>, <Node id=231 labels=frozenset({'Group'}) properties={'name': 'FVT', 'id': 'b82f6bf6-5a72-402e-a534-868abfa51ae5'}>) type='IS_MEMBER' properties={}>}\n",
      "167 {'user': 'Richard', 'group': 'FVT', 'k': <Relationship id=485 nodes=(<Node id=219 labels=frozenset({'User'}) properties={'name': 'Richard'}>, <Node id=231 labels=frozenset({'Group'}) properties={'name': 'FVT', 'id': 'b82f6bf6-5a72-402e-a534-868abfa51ae5'}>) type='IS_MEMBER' properties={}>}\n",
      "168 {'user': 'Richard', 'group': 'FVT', 'k': <Relationship id=486 nodes=(<Node id=221 labels=frozenset({'User'}) properties={'surname': 'White', 'name': 'Richard', 'id': 'c2159cd1-e07c-484d-ba39-8dae044a3de9'}>, <Node id=231 labels=frozenset({'Group'}) properties={'name': 'FVT', 'id': 'b82f6bf6-5a72-402e-a534-868abfa51ae5'}>) type='IS_MEMBER' properties={}>}\n",
      "169 {'user': 'Richard', 'group': 'FVT', 'k': <Relationship id=487 nodes=(<Node id=222 labels=frozenset({'User'}) properties={'name': 'Richard', 'id': '83b17b4d-02ab-4077-aeae-14abd8e8a6ed'}>, <Node id=231 labels=frozenset({'Group'}) properties={'name': 'FVT', 'id': 'b82f6bf6-5a72-402e-a534-868abfa51ae5'}>) type='IS_MEMBER' properties={}>}\n",
      "170 {'user': 'Richard', 'group': 'FVT', 'k': <Relationship id=488 nodes=(<Node id=224 labels=frozenset({'User'}) properties={'name': 'Richard', 'id': '96902282-4c7b-4796-9815-b456e54fb0e8'}>, <Node id=231 labels=frozenset({'Group'}) properties={'name': 'FVT', 'id': 'b82f6bf6-5a72-402e-a534-868abfa51ae5'}>) type='IS_MEMBER' properties={}>}\n",
      "171 {'user': 'Richard', 'group': 'FVT', 'k': <Relationship id=489 nodes=(<Node id=226 labels=frozenset({'User'}) properties={'name': 'Richard', 'id': '380c5701-ec46-466b-bbc5-8cee3ef38c03'}>, <Node id=231 labels=frozenset({'Group'}) properties={'name': 'FVT', 'id': 'b82f6bf6-5a72-402e-a534-868abfa51ae5'}>) type='IS_MEMBER' properties={}>}\n",
      "172 {'user': 'Richard', 'group': 'FVT', 'k': <Relationship id=490 nodes=(<Node id=228 labels=frozenset({'User'}) properties={'name': 'Richard', 'id': '1a09a49c-3624-47ee-8ce2-24bf73ba9058'}>, <Node id=231 labels=frozenset({'Group'}) properties={'name': 'FVT', 'id': 'b82f6bf6-5a72-402e-a534-868abfa51ae5'}>) type='IS_MEMBER' properties={}>}\n",
      "173 {'user': 'Richard', 'group': 'FVT', 'k': <Relationship id=491 nodes=(<Node id=230 labels=frozenset({'User'}) properties={'name': 'Richard', 'id': '1aa3cb4c-7b34-4c1a-b8f8-ae9810c532d5'}>, <Node id=231 labels=frozenset({'Group'}) properties={'name': 'FVT', 'id': 'b82f6bf6-5a72-402e-a534-868abfa51ae5'}>) type='IS_MEMBER' properties={}>}\n",
      "174 {'user': 'Richard', 'group': 'FVT', 'k': <Relationship id=492 nodes=(<Node id=232 labels=frozenset({'User'}) properties={'name': 'Richard', 'id': '310b164b-d551-4fd6-aead-800da4afde54'}>, <Node id=231 labels=frozenset({'Group'}) properties={'name': 'FVT', 'id': 'b82f6bf6-5a72-402e-a534-868abfa51ae5'}>) type='IS_MEMBER' properties={}>}\n",
      "175 {'user': 'Richard', 'group': 'FVT', 'k': <Relationship id=493 nodes=(<Node id=234 labels=frozenset({'User'}) properties={'name': 'Richard', 'id': '696b9559-4739-4249-82e2-9067a88e7384'}>, <Node id=231 labels=frozenset({'Group'}) properties={'name': 'FVT', 'id': 'b82f6bf6-5a72-402e-a534-868abfa51ae5'}>) type='IS_MEMBER' properties={}>}\n",
      "176 {'user': 'Richard', 'group': 'FVT', 'k': <Relationship id=494 nodes=(<Node id=236 labels=frozenset({'User'}) properties={'name': 'Richard', 'id': 'e5043682-7fa5-4863-9214-0fcec03a20ef'}>, <Node id=231 labels=frozenset({'Group'}) properties={'name': 'FVT', 'id': 'b82f6bf6-5a72-402e-a534-868abfa51ae5'}>) type='IS_MEMBER' properties={}>}\n",
      "177 {'user': 'Richard', 'group': 'FVT', 'k': <Relationship id=495 nodes=(<Node id=238 labels=frozenset({'User'}) properties={'name': 'Richard', 'id': 'bb8d2143-1275-4f6f-adf5-e1638a3a50c5'}>, <Node id=231 labels=frozenset({'Group'}) properties={'name': 'FVT', 'id': 'b82f6bf6-5a72-402e-a534-868abfa51ae5'}>) type='IS_MEMBER' properties={}>}\n",
      "178 {'user': 'Richard', 'group': 'FVT', 'k': <Relationship id=496 nodes=(<Node id=240 labels=frozenset({'User'}) properties={'name': 'Richard', 'id': '0d3f9d77-9c46-46fc-8511-d15dcf3c35a5'}>, <Node id=231 labels=frozenset({'Group'}) properties={'name': 'FVT', 'id': 'b82f6bf6-5a72-402e-a534-868abfa51ae5'}>) type='IS_MEMBER' properties={}>}\n",
      "179 {'user': 'Richard', 'group': 'FVT', 'k': <Relationship id=497 nodes=(<Node id=243 labels=frozenset({'User'}) properties={'surname': 'White', 'name': 'Richard', 'id': '3067a2bd-dda7-468e-b111-00aeffb491aa'}>, <Node id=231 labels=frozenset({'Group'}) properties={'name': 'FVT', 'id': 'b82f6bf6-5a72-402e-a534-868abfa51ae5'}>) type='IS_MEMBER' properties={}>}\n",
      "180 {'user': 'Richard', 'group': 'FVT', 'k': <Relationship id=498 nodes=(<Node id=179 labels=frozenset({'User'}) properties={'surname': 'White', 'name': 'Richard'}>, <Node id=233 labels=frozenset({'Group'}) properties={'name': 'FVT', 'id': 'd22dc658-3f4c-453a-8beb-c5b20a8b6ce3'}>) type='IS_MEMBER' properties={}>}\n",
      "181 {'user': 'Richard', 'group': 'FVT', 'k': <Relationship id=499 nodes=(<Node id=193 labels=frozenset({'User'}) properties={'surname': 'White', 'name': 'Richard'}>, <Node id=233 labels=frozenset({'Group'}) properties={'name': 'FVT', 'id': 'd22dc658-3f4c-453a-8beb-c5b20a8b6ce3'}>) type='IS_MEMBER' properties={}>}\n",
      "182 {'user': 'Richard', 'group': 'FVT', 'k': <Relationship id=500 nodes=(<Node id=194 labels=frozenset({'User'}) properties={'surname': 'White', 'name': 'Richard'}>, <Node id=233 labels=frozenset({'Group'}) properties={'name': 'FVT', 'id': 'd22dc658-3f4c-453a-8beb-c5b20a8b6ce3'}>) type='IS_MEMBER' properties={}>}\n",
      "183 {'user': 'Richard', 'group': 'FVT', 'k': <Relationship id=501 nodes=(<Node id=212 labels=frozenset({'User'}) properties={'surname': 'White', 'name': 'Richard'}>, <Node id=233 labels=frozenset({'Group'}) properties={'name': 'FVT', 'id': 'd22dc658-3f4c-453a-8beb-c5b20a8b6ce3'}>) type='IS_MEMBER' properties={}>}\n",
      "184 {'user': 'Richard', 'group': 'FVT', 'k': <Relationship id=502 nodes=(<Node id=213 labels=frozenset({'User'}) properties={'surname': 'White', 'name': 'Richard'}>, <Node id=233 labels=frozenset({'Group'}) properties={'name': 'FVT', 'id': 'd22dc658-3f4c-453a-8beb-c5b20a8b6ce3'}>) type='IS_MEMBER' properties={}>}\n",
      "185 {'user': 'Richard', 'group': 'FVT', 'k': <Relationship id=503 nodes=(<Node id=215 labels=frozenset({'User'}) properties={'surname': 'White', 'name': 'Richard'}>, <Node id=233 labels=frozenset({'Group'}) properties={'name': 'FVT', 'id': 'd22dc658-3f4c-453a-8beb-c5b20a8b6ce3'}>) type='IS_MEMBER' properties={}>}\n",
      "186 {'user': 'Richard', 'group': 'FVT', 'k': <Relationship id=504 nodes=(<Node id=217 labels=frozenset({'User'}) properties={'surname': 'White', 'name': 'Richard', 'id': '4f6a2ad6-b549-465a-8d0a-867da92db703'}>, <Node id=233 labels=frozenset({'Group'}) properties={'name': 'FVT', 'id': 'd22dc658-3f4c-453a-8beb-c5b20a8b6ce3'}>) type='IS_MEMBER' properties={}>}\n",
      "187 {'user': 'Richard', 'group': 'FVT', 'k': <Relationship id=505 nodes=(<Node id=219 labels=frozenset({'User'}) properties={'name': 'Richard'}>, <Node id=233 labels=frozenset({'Group'}) properties={'name': 'FVT', 'id': 'd22dc658-3f4c-453a-8beb-c5b20a8b6ce3'}>) type='IS_MEMBER' properties={}>}\n",
      "188 {'user': 'Richard', 'group': 'FVT', 'k': <Relationship id=506 nodes=(<Node id=221 labels=frozenset({'User'}) properties={'surname': 'White', 'name': 'Richard', 'id': 'c2159cd1-e07c-484d-ba39-8dae044a3de9'}>, <Node id=233 labels=frozenset({'Group'}) properties={'name': 'FVT', 'id': 'd22dc658-3f4c-453a-8beb-c5b20a8b6ce3'}>) type='IS_MEMBER' properties={}>}\n",
      "189 {'user': 'Richard', 'group': 'FVT', 'k': <Relationship id=507 nodes=(<Node id=222 labels=frozenset({'User'}) properties={'name': 'Richard', 'id': '83b17b4d-02ab-4077-aeae-14abd8e8a6ed'}>, <Node id=233 labels=frozenset({'Group'}) properties={'name': 'FVT', 'id': 'd22dc658-3f4c-453a-8beb-c5b20a8b6ce3'}>) type='IS_MEMBER' properties={}>}\n",
      "190 {'user': 'Richard', 'group': 'FVT', 'k': <Relationship id=508 nodes=(<Node id=224 labels=frozenset({'User'}) properties={'name': 'Richard', 'id': '96902282-4c7b-4796-9815-b456e54fb0e8'}>, <Node id=233 labels=frozenset({'Group'}) properties={'name': 'FVT', 'id': 'd22dc658-3f4c-453a-8beb-c5b20a8b6ce3'}>) type='IS_MEMBER' properties={}>}\n",
      "191 {'user': 'Richard', 'group': 'FVT', 'k': <Relationship id=509 nodes=(<Node id=226 labels=frozenset({'User'}) properties={'name': 'Richard', 'id': '380c5701-ec46-466b-bbc5-8cee3ef38c03'}>, <Node id=233 labels=frozenset({'Group'}) properties={'name': 'FVT', 'id': 'd22dc658-3f4c-453a-8beb-c5b20a8b6ce3'}>) type='IS_MEMBER' properties={}>}\n",
      "192 {'user': 'Richard', 'group': 'FVT', 'k': <Relationship id=510 nodes=(<Node id=228 labels=frozenset({'User'}) properties={'name': 'Richard', 'id': '1a09a49c-3624-47ee-8ce2-24bf73ba9058'}>, <Node id=233 labels=frozenset({'Group'}) properties={'name': 'FVT', 'id': 'd22dc658-3f4c-453a-8beb-c5b20a8b6ce3'}>) type='IS_MEMBER' properties={}>}\n",
      "193 {'user': 'Richard', 'group': 'FVT', 'k': <Relationship id=511 nodes=(<Node id=230 labels=frozenset({'User'}) properties={'name': 'Richard', 'id': '1aa3cb4c-7b34-4c1a-b8f8-ae9810c532d5'}>, <Node id=233 labels=frozenset({'Group'}) properties={'name': 'FVT', 'id': 'd22dc658-3f4c-453a-8beb-c5b20a8b6ce3'}>) type='IS_MEMBER' properties={}>}\n",
      "194 {'user': 'Richard', 'group': 'FVT', 'k': <Relationship id=512 nodes=(<Node id=232 labels=frozenset({'User'}) properties={'name': 'Richard', 'id': '310b164b-d551-4fd6-aead-800da4afde54'}>, <Node id=233 labels=frozenset({'Group'}) properties={'name': 'FVT', 'id': 'd22dc658-3f4c-453a-8beb-c5b20a8b6ce3'}>) type='IS_MEMBER' properties={}>}\n",
      "195 {'user': 'Richard', 'group': 'FVT', 'k': <Relationship id=513 nodes=(<Node id=234 labels=frozenset({'User'}) properties={'name': 'Richard', 'id': '696b9559-4739-4249-82e2-9067a88e7384'}>, <Node id=233 labels=frozenset({'Group'}) properties={'name': 'FVT', 'id': 'd22dc658-3f4c-453a-8beb-c5b20a8b6ce3'}>) type='IS_MEMBER' properties={}>}\n",
      "196 {'user': 'Richard', 'group': 'FVT', 'k': <Relationship id=514 nodes=(<Node id=236 labels=frozenset({'User'}) properties={'name': 'Richard', 'id': 'e5043682-7fa5-4863-9214-0fcec03a20ef'}>, <Node id=233 labels=frozenset({'Group'}) properties={'name': 'FVT', 'id': 'd22dc658-3f4c-453a-8beb-c5b20a8b6ce3'}>) type='IS_MEMBER' properties={}>}\n",
      "197 {'user': 'Richard', 'group': 'FVT', 'k': <Relationship id=515 nodes=(<Node id=238 labels=frozenset({'User'}) properties={'name': 'Richard', 'id': 'bb8d2143-1275-4f6f-adf5-e1638a3a50c5'}>, <Node id=233 labels=frozenset({'Group'}) properties={'name': 'FVT', 'id': 'd22dc658-3f4c-453a-8beb-c5b20a8b6ce3'}>) type='IS_MEMBER' properties={}>}\n",
      "198 {'user': 'Richard', 'group': 'FVT', 'k': <Relationship id=516 nodes=(<Node id=240 labels=frozenset({'User'}) properties={'name': 'Richard', 'id': '0d3f9d77-9c46-46fc-8511-d15dcf3c35a5'}>, <Node id=233 labels=frozenset({'Group'}) properties={'name': 'FVT', 'id': 'd22dc658-3f4c-453a-8beb-c5b20a8b6ce3'}>) type='IS_MEMBER' properties={}>}\n",
      "199 {'user': 'Richard', 'group': 'FVT', 'k': <Relationship id=517 nodes=(<Node id=243 labels=frozenset({'User'}) properties={'surname': 'White', 'name': 'Richard', 'id': '3067a2bd-dda7-468e-b111-00aeffb491aa'}>, <Node id=233 labels=frozenset({'Group'}) properties={'name': 'FVT', 'id': 'd22dc658-3f4c-453a-8beb-c5b20a8b6ce3'}>) type='IS_MEMBER' properties={}>}\n",
      "200 {'user': 'Richard', 'group': 'FVT', 'k': <Relationship id=518 nodes=(<Node id=179 labels=frozenset({'User'}) properties={'surname': 'White', 'name': 'Richard'}>, <Node id=235 labels=frozenset({'Group'}) properties={'name': 'FVT', 'id': 'ff91cdbe-038c-4cea-92f7-78b8d042ae73'}>) type='IS_MEMBER' properties={}>}\n",
      "201 {'user': 'Richard', 'group': 'FVT', 'k': <Relationship id=519 nodes=(<Node id=193 labels=frozenset({'User'}) properties={'surname': 'White', 'name': 'Richard'}>, <Node id=235 labels=frozenset({'Group'}) properties={'name': 'FVT', 'id': 'ff91cdbe-038c-4cea-92f7-78b8d042ae73'}>) type='IS_MEMBER' properties={}>}\n",
      "202 {'user': 'Richard', 'group': 'FVT', 'k': <Relationship id=520 nodes=(<Node id=194 labels=frozenset({'User'}) properties={'surname': 'White', 'name': 'Richard'}>, <Node id=235 labels=frozenset({'Group'}) properties={'name': 'FVT', 'id': 'ff91cdbe-038c-4cea-92f7-78b8d042ae73'}>) type='IS_MEMBER' properties={}>}\n",
      "203 {'user': 'Richard', 'group': 'FVT', 'k': <Relationship id=521 nodes=(<Node id=212 labels=frozenset({'User'}) properties={'surname': 'White', 'name': 'Richard'}>, <Node id=235 labels=frozenset({'Group'}) properties={'name': 'FVT', 'id': 'ff91cdbe-038c-4cea-92f7-78b8d042ae73'}>) type='IS_MEMBER' properties={}>}\n",
      "204 {'user': 'Richard', 'group': 'FVT', 'k': <Relationship id=522 nodes=(<Node id=213 labels=frozenset({'User'}) properties={'surname': 'White', 'name': 'Richard'}>, <Node id=235 labels=frozenset({'Group'}) properties={'name': 'FVT', 'id': 'ff91cdbe-038c-4cea-92f7-78b8d042ae73'}>) type='IS_MEMBER' properties={}>}\n",
      "205 {'user': 'Richard', 'group': 'FVT', 'k': <Relationship id=523 nodes=(<Node id=215 labels=frozenset({'User'}) properties={'surname': 'White', 'name': 'Richard'}>, <Node id=235 labels=frozenset({'Group'}) properties={'name': 'FVT', 'id': 'ff91cdbe-038c-4cea-92f7-78b8d042ae73'}>) type='IS_MEMBER' properties={}>}\n",
      "206 {'user': 'Richard', 'group': 'FVT', 'k': <Relationship id=524 nodes=(<Node id=217 labels=frozenset({'User'}) properties={'surname': 'White', 'name': 'Richard', 'id': '4f6a2ad6-b549-465a-8d0a-867da92db703'}>, <Node id=235 labels=frozenset({'Group'}) properties={'name': 'FVT', 'id': 'ff91cdbe-038c-4cea-92f7-78b8d042ae73'}>) type='IS_MEMBER' properties={}>}\n",
      "207 {'user': 'Richard', 'group': 'FVT', 'k': <Relationship id=525 nodes=(<Node id=219 labels=frozenset({'User'}) properties={'name': 'Richard'}>, <Node id=235 labels=frozenset({'Group'}) properties={'name': 'FVT', 'id': 'ff91cdbe-038c-4cea-92f7-78b8d042ae73'}>) type='IS_MEMBER' properties={}>}\n",
      "208 {'user': 'Richard', 'group': 'FVT', 'k': <Relationship id=526 nodes=(<Node id=221 labels=frozenset({'User'}) properties={'surname': 'White', 'name': 'Richard', 'id': 'c2159cd1-e07c-484d-ba39-8dae044a3de9'}>, <Node id=235 labels=frozenset({'Group'}) properties={'name': 'FVT', 'id': 'ff91cdbe-038c-4cea-92f7-78b8d042ae73'}>) type='IS_MEMBER' properties={}>}\n",
      "209 {'user': 'Richard', 'group': 'FVT', 'k': <Relationship id=527 nodes=(<Node id=222 labels=frozenset({'User'}) properties={'name': 'Richard', 'id': '83b17b4d-02ab-4077-aeae-14abd8e8a6ed'}>, <Node id=235 labels=frozenset({'Group'}) properties={'name': 'FVT', 'id': 'ff91cdbe-038c-4cea-92f7-78b8d042ae73'}>) type='IS_MEMBER' properties={}>}\n",
      "210 {'user': 'Richard', 'group': 'FVT', 'k': <Relationship id=528 nodes=(<Node id=224 labels=frozenset({'User'}) properties={'name': 'Richard', 'id': '96902282-4c7b-4796-9815-b456e54fb0e8'}>, <Node id=235 labels=frozenset({'Group'}) properties={'name': 'FVT', 'id': 'ff91cdbe-038c-4cea-92f7-78b8d042ae73'}>) type='IS_MEMBER' properties={}>}\n",
      "211 {'user': 'Richard', 'group': 'FVT', 'k': <Relationship id=529 nodes=(<Node id=226 labels=frozenset({'User'}) properties={'name': 'Richard', 'id': '380c5701-ec46-466b-bbc5-8cee3ef38c03'}>, <Node id=235 labels=frozenset({'Group'}) properties={'name': 'FVT', 'id': 'ff91cdbe-038c-4cea-92f7-78b8d042ae73'}>) type='IS_MEMBER' properties={}>}\n",
      "212 {'user': 'Richard', 'group': 'FVT', 'k': <Relationship id=530 nodes=(<Node id=228 labels=frozenset({'User'}) properties={'name': 'Richard', 'id': '1a09a49c-3624-47ee-8ce2-24bf73ba9058'}>, <Node id=235 labels=frozenset({'Group'}) properties={'name': 'FVT', 'id': 'ff91cdbe-038c-4cea-92f7-78b8d042ae73'}>) type='IS_MEMBER' properties={}>}\n",
      "213 {'user': 'Richard', 'group': 'FVT', 'k': <Relationship id=531 nodes=(<Node id=230 labels=frozenset({'User'}) properties={'name': 'Richard', 'id': '1aa3cb4c-7b34-4c1a-b8f8-ae9810c532d5'}>, <Node id=235 labels=frozenset({'Group'}) properties={'name': 'FVT', 'id': 'ff91cdbe-038c-4cea-92f7-78b8d042ae73'}>) type='IS_MEMBER' properties={}>}\n",
      "214 {'user': 'Richard', 'group': 'FVT', 'k': <Relationship id=532 nodes=(<Node id=232 labels=frozenset({'User'}) properties={'name': 'Richard', 'id': '310b164b-d551-4fd6-aead-800da4afde54'}>, <Node id=235 labels=frozenset({'Group'}) properties={'name': 'FVT', 'id': 'ff91cdbe-038c-4cea-92f7-78b8d042ae73'}>) type='IS_MEMBER' properties={}>}\n",
      "215 {'user': 'Richard', 'group': 'FVT', 'k': <Relationship id=533 nodes=(<Node id=234 labels=frozenset({'User'}) properties={'name': 'Richard', 'id': '696b9559-4739-4249-82e2-9067a88e7384'}>, <Node id=235 labels=frozenset({'Group'}) properties={'name': 'FVT', 'id': 'ff91cdbe-038c-4cea-92f7-78b8d042ae73'}>) type='IS_MEMBER' properties={}>}\n",
      "216 {'user': 'Richard', 'group': 'FVT', 'k': <Relationship id=534 nodes=(<Node id=236 labels=frozenset({'User'}) properties={'name': 'Richard', 'id': 'e5043682-7fa5-4863-9214-0fcec03a20ef'}>, <Node id=235 labels=frozenset({'Group'}) properties={'name': 'FVT', 'id': 'ff91cdbe-038c-4cea-92f7-78b8d042ae73'}>) type='IS_MEMBER' properties={}>}\n",
      "217 {'user': 'Richard', 'group': 'FVT', 'k': <Relationship id=535 nodes=(<Node id=238 labels=frozenset({'User'}) properties={'name': 'Richard', 'id': 'bb8d2143-1275-4f6f-adf5-e1638a3a50c5'}>, <Node id=235 labels=frozenset({'Group'}) properties={'name': 'FVT', 'id': 'ff91cdbe-038c-4cea-92f7-78b8d042ae73'}>) type='IS_MEMBER' properties={}>}\n",
      "218 {'user': 'Richard', 'group': 'FVT', 'k': <Relationship id=536 nodes=(<Node id=240 labels=frozenset({'User'}) properties={'name': 'Richard', 'id': '0d3f9d77-9c46-46fc-8511-d15dcf3c35a5'}>, <Node id=235 labels=frozenset({'Group'}) properties={'name': 'FVT', 'id': 'ff91cdbe-038c-4cea-92f7-78b8d042ae73'}>) type='IS_MEMBER' properties={}>}\n",
      "219 {'user': 'Richard', 'group': 'FVT', 'k': <Relationship id=537 nodes=(<Node id=243 labels=frozenset({'User'}) properties={'surname': 'White', 'name': 'Richard', 'id': '3067a2bd-dda7-468e-b111-00aeffb491aa'}>, <Node id=235 labels=frozenset({'Group'}) properties={'name': 'FVT', 'id': 'ff91cdbe-038c-4cea-92f7-78b8d042ae73'}>) type='IS_MEMBER' properties={}>}\n",
      "220 {'user': 'Richard', 'group': 'FVT', 'k': <Relationship id=538 nodes=(<Node id=179 labels=frozenset({'User'}) properties={'surname': 'White', 'name': 'Richard'}>, <Node id=237 labels=frozenset({'Group'}) properties={'name': 'FVT', 'id': 'ab289e5c-5f8b-4acf-881b-2d9774e51cb0'}>) type='IS_MEMBER' properties={}>}\n",
      "221 {'user': 'Richard', 'group': 'FVT', 'k': <Relationship id=539 nodes=(<Node id=193 labels=frozenset({'User'}) properties={'surname': 'White', 'name': 'Richard'}>, <Node id=237 labels=frozenset({'Group'}) properties={'name': 'FVT', 'id': 'ab289e5c-5f8b-4acf-881b-2d9774e51cb0'}>) type='IS_MEMBER' properties={}>}\n",
      "222 {'user': 'Richard', 'group': 'FVT', 'k': <Relationship id=540 nodes=(<Node id=194 labels=frozenset({'User'}) properties={'surname': 'White', 'name': 'Richard'}>, <Node id=237 labels=frozenset({'Group'}) properties={'name': 'FVT', 'id': 'ab289e5c-5f8b-4acf-881b-2d9774e51cb0'}>) type='IS_MEMBER' properties={}>}\n",
      "223 {'user': 'Richard', 'group': 'FVT', 'k': <Relationship id=541 nodes=(<Node id=212 labels=frozenset({'User'}) properties={'surname': 'White', 'name': 'Richard'}>, <Node id=237 labels=frozenset({'Group'}) properties={'name': 'FVT', 'id': 'ab289e5c-5f8b-4acf-881b-2d9774e51cb0'}>) type='IS_MEMBER' properties={}>}\n",
      "224 {'user': 'Richard', 'group': 'FVT', 'k': <Relationship id=542 nodes=(<Node id=213 labels=frozenset({'User'}) properties={'surname': 'White', 'name': 'Richard'}>, <Node id=237 labels=frozenset({'Group'}) properties={'name': 'FVT', 'id': 'ab289e5c-5f8b-4acf-881b-2d9774e51cb0'}>) type='IS_MEMBER' properties={}>}\n",
      "225 {'user': 'Richard', 'group': 'FVT', 'k': <Relationship id=543 nodes=(<Node id=215 labels=frozenset({'User'}) properties={'surname': 'White', 'name': 'Richard'}>, <Node id=237 labels=frozenset({'Group'}) properties={'name': 'FVT', 'id': 'ab289e5c-5f8b-4acf-881b-2d9774e51cb0'}>) type='IS_MEMBER' properties={}>}\n",
      "226 {'user': 'Richard', 'group': 'FVT', 'k': <Relationship id=544 nodes=(<Node id=217 labels=frozenset({'User'}) properties={'surname': 'White', 'name': 'Richard', 'id': '4f6a2ad6-b549-465a-8d0a-867da92db703'}>, <Node id=237 labels=frozenset({'Group'}) properties={'name': 'FVT', 'id': 'ab289e5c-5f8b-4acf-881b-2d9774e51cb0'}>) type='IS_MEMBER' properties={}>}\n",
      "227 {'user': 'Richard', 'group': 'FVT', 'k': <Relationship id=545 nodes=(<Node id=219 labels=frozenset({'User'}) properties={'name': 'Richard'}>, <Node id=237 labels=frozenset({'Group'}) properties={'name': 'FVT', 'id': 'ab289e5c-5f8b-4acf-881b-2d9774e51cb0'}>) type='IS_MEMBER' properties={}>}\n",
      "228 {'user': 'Richard', 'group': 'FVT', 'k': <Relationship id=546 nodes=(<Node id=221 labels=frozenset({'User'}) properties={'surname': 'White', 'name': 'Richard', 'id': 'c2159cd1-e07c-484d-ba39-8dae044a3de9'}>, <Node id=237 labels=frozenset({'Group'}) properties={'name': 'FVT', 'id': 'ab289e5c-5f8b-4acf-881b-2d9774e51cb0'}>) type='IS_MEMBER' properties={}>}\n",
      "229 {'user': 'Richard', 'group': 'FVT', 'k': <Relationship id=547 nodes=(<Node id=222 labels=frozenset({'User'}) properties={'name': 'Richard', 'id': '83b17b4d-02ab-4077-aeae-14abd8e8a6ed'}>, <Node id=237 labels=frozenset({'Group'}) properties={'name': 'FVT', 'id': 'ab289e5c-5f8b-4acf-881b-2d9774e51cb0'}>) type='IS_MEMBER' properties={}>}\n",
      "230 {'user': 'Richard', 'group': 'FVT', 'k': <Relationship id=548 nodes=(<Node id=224 labels=frozenset({'User'}) properties={'name': 'Richard', 'id': '96902282-4c7b-4796-9815-b456e54fb0e8'}>, <Node id=237 labels=frozenset({'Group'}) properties={'name': 'FVT', 'id': 'ab289e5c-5f8b-4acf-881b-2d9774e51cb0'}>) type='IS_MEMBER' properties={}>}\n",
      "231 {'user': 'Richard', 'group': 'FVT', 'k': <Relationship id=549 nodes=(<Node id=226 labels=frozenset({'User'}) properties={'name': 'Richard', 'id': '380c5701-ec46-466b-bbc5-8cee3ef38c03'}>, <Node id=237 labels=frozenset({'Group'}) properties={'name': 'FVT', 'id': 'ab289e5c-5f8b-4acf-881b-2d9774e51cb0'}>) type='IS_MEMBER' properties={}>}\n",
      "232 {'user': 'Richard', 'group': 'FVT', 'k': <Relationship id=550 nodes=(<Node id=228 labels=frozenset({'User'}) properties={'name': 'Richard', 'id': '1a09a49c-3624-47ee-8ce2-24bf73ba9058'}>, <Node id=237 labels=frozenset({'Group'}) properties={'name': 'FVT', 'id': 'ab289e5c-5f8b-4acf-881b-2d9774e51cb0'}>) type='IS_MEMBER' properties={}>}\n",
      "233 {'user': 'Richard', 'group': 'FVT', 'k': <Relationship id=551 nodes=(<Node id=230 labels=frozenset({'User'}) properties={'name': 'Richard', 'id': '1aa3cb4c-7b34-4c1a-b8f8-ae9810c532d5'}>, <Node id=237 labels=frozenset({'Group'}) properties={'name': 'FVT', 'id': 'ab289e5c-5f8b-4acf-881b-2d9774e51cb0'}>) type='IS_MEMBER' properties={}>}\n",
      "234 {'user': 'Richard', 'group': 'FVT', 'k': <Relationship id=552 nodes=(<Node id=232 labels=frozenset({'User'}) properties={'name': 'Richard', 'id': '310b164b-d551-4fd6-aead-800da4afde54'}>, <Node id=237 labels=frozenset({'Group'}) properties={'name': 'FVT', 'id': 'ab289e5c-5f8b-4acf-881b-2d9774e51cb0'}>) type='IS_MEMBER' properties={}>}\n",
      "235 {'user': 'Richard', 'group': 'FVT', 'k': <Relationship id=553 nodes=(<Node id=234 labels=frozenset({'User'}) properties={'name': 'Richard', 'id': '696b9559-4739-4249-82e2-9067a88e7384'}>, <Node id=237 labels=frozenset({'Group'}) properties={'name': 'FVT', 'id': 'ab289e5c-5f8b-4acf-881b-2d9774e51cb0'}>) type='IS_MEMBER' properties={}>}\n",
      "236 {'user': 'Richard', 'group': 'FVT', 'k': <Relationship id=554 nodes=(<Node id=236 labels=frozenset({'User'}) properties={'name': 'Richard', 'id': 'e5043682-7fa5-4863-9214-0fcec03a20ef'}>, <Node id=237 labels=frozenset({'Group'}) properties={'name': 'FVT', 'id': 'ab289e5c-5f8b-4acf-881b-2d9774e51cb0'}>) type='IS_MEMBER' properties={}>}\n",
      "237 {'user': 'Richard', 'group': 'FVT', 'k': <Relationship id=555 nodes=(<Node id=238 labels=frozenset({'User'}) properties={'name': 'Richard', 'id': 'bb8d2143-1275-4f6f-adf5-e1638a3a50c5'}>, <Node id=237 labels=frozenset({'Group'}) properties={'name': 'FVT', 'id': 'ab289e5c-5f8b-4acf-881b-2d9774e51cb0'}>) type='IS_MEMBER' properties={}>}\n",
      "238 {'user': 'Richard', 'group': 'FVT', 'k': <Relationship id=556 nodes=(<Node id=240 labels=frozenset({'User'}) properties={'name': 'Richard', 'id': '0d3f9d77-9c46-46fc-8511-d15dcf3c35a5'}>, <Node id=237 labels=frozenset({'Group'}) properties={'name': 'FVT', 'id': 'ab289e5c-5f8b-4acf-881b-2d9774e51cb0'}>) type='IS_MEMBER' properties={}>}\n",
      "239 {'user': 'Richard', 'group': 'FVT', 'k': <Relationship id=557 nodes=(<Node id=243 labels=frozenset({'User'}) properties={'surname': 'White', 'name': 'Richard', 'id': '3067a2bd-dda7-468e-b111-00aeffb491aa'}>, <Node id=237 labels=frozenset({'Group'}) properties={'name': 'FVT', 'id': 'ab289e5c-5f8b-4acf-881b-2d9774e51cb0'}>) type='IS_MEMBER' properties={}>}\n",
      "240 {'user': 'Richard', 'group': 'FVT', 'k': <Relationship id=558 nodes=(<Node id=179 labels=frozenset({'User'}) properties={'surname': 'White', 'name': 'Richard'}>, <Node id=239 labels=frozenset({'Group'}) properties={'name': 'FVT', 'id': '3627ee0a-34eb-4e4c-9a1d-a46f20b11b6e'}>) type='IS_MEMBER' properties={}>}\n",
      "241 {'user': 'Richard', 'group': 'FVT', 'k': <Relationship id=559 nodes=(<Node id=193 labels=frozenset({'User'}) properties={'surname': 'White', 'name': 'Richard'}>, <Node id=239 labels=frozenset({'Group'}) properties={'name': 'FVT', 'id': '3627ee0a-34eb-4e4c-9a1d-a46f20b11b6e'}>) type='IS_MEMBER' properties={}>}\n",
      "242 {'user': 'Richard', 'group': 'FVT', 'k': <Relationship id=560 nodes=(<Node id=194 labels=frozenset({'User'}) properties={'surname': 'White', 'name': 'Richard'}>, <Node id=239 labels=frozenset({'Group'}) properties={'name': 'FVT', 'id': '3627ee0a-34eb-4e4c-9a1d-a46f20b11b6e'}>) type='IS_MEMBER' properties={}>}\n",
      "243 {'user': 'Richard', 'group': 'FVT', 'k': <Relationship id=561 nodes=(<Node id=212 labels=frozenset({'User'}) properties={'surname': 'White', 'name': 'Richard'}>, <Node id=239 labels=frozenset({'Group'}) properties={'name': 'FVT', 'id': '3627ee0a-34eb-4e4c-9a1d-a46f20b11b6e'}>) type='IS_MEMBER' properties={}>}\n",
      "244 {'user': 'Richard', 'group': 'FVT', 'k': <Relationship id=562 nodes=(<Node id=213 labels=frozenset({'User'}) properties={'surname': 'White', 'name': 'Richard'}>, <Node id=239 labels=frozenset({'Group'}) properties={'name': 'FVT', 'id': '3627ee0a-34eb-4e4c-9a1d-a46f20b11b6e'}>) type='IS_MEMBER' properties={}>}\n",
      "245 {'user': 'Richard', 'group': 'FVT', 'k': <Relationship id=563 nodes=(<Node id=215 labels=frozenset({'User'}) properties={'surname': 'White', 'name': 'Richard'}>, <Node id=239 labels=frozenset({'Group'}) properties={'name': 'FVT', 'id': '3627ee0a-34eb-4e4c-9a1d-a46f20b11b6e'}>) type='IS_MEMBER' properties={}>}\n",
      "246 {'user': 'Richard', 'group': 'FVT', 'k': <Relationship id=564 nodes=(<Node id=217 labels=frozenset({'User'}) properties={'surname': 'White', 'name': 'Richard', 'id': '4f6a2ad6-b549-465a-8d0a-867da92db703'}>, <Node id=239 labels=frozenset({'Group'}) properties={'name': 'FVT', 'id': '3627ee0a-34eb-4e4c-9a1d-a46f20b11b6e'}>) type='IS_MEMBER' properties={}>}\n",
      "247 {'user': 'Richard', 'group': 'FVT', 'k': <Relationship id=565 nodes=(<Node id=219 labels=frozenset({'User'}) properties={'name': 'Richard'}>, <Node id=239 labels=frozenset({'Group'}) properties={'name': 'FVT', 'id': '3627ee0a-34eb-4e4c-9a1d-a46f20b11b6e'}>) type='IS_MEMBER' properties={}>}\n",
      "248 {'user': 'Richard', 'group': 'FVT', 'k': <Relationship id=566 nodes=(<Node id=221 labels=frozenset({'User'}) properties={'surname': 'White', 'name': 'Richard', 'id': 'c2159cd1-e07c-484d-ba39-8dae044a3de9'}>, <Node id=239 labels=frozenset({'Group'}) properties={'name': 'FVT', 'id': '3627ee0a-34eb-4e4c-9a1d-a46f20b11b6e'}>) type='IS_MEMBER' properties={}>}\n",
      "249 {'user': 'Richard', 'group': 'FVT', 'k': <Relationship id=567 nodes=(<Node id=222 labels=frozenset({'User'}) properties={'name': 'Richard', 'id': '83b17b4d-02ab-4077-aeae-14abd8e8a6ed'}>, <Node id=239 labels=frozenset({'Group'}) properties={'name': 'FVT', 'id': '3627ee0a-34eb-4e4c-9a1d-a46f20b11b6e'}>) type='IS_MEMBER' properties={}>}\n",
      "250 {'user': 'Richard', 'group': 'FVT', 'k': <Relationship id=568 nodes=(<Node id=224 labels=frozenset({'User'}) properties={'name': 'Richard', 'id': '96902282-4c7b-4796-9815-b456e54fb0e8'}>, <Node id=239 labels=frozenset({'Group'}) properties={'name': 'FVT', 'id': '3627ee0a-34eb-4e4c-9a1d-a46f20b11b6e'}>) type='IS_MEMBER' properties={}>}\n",
      "251 {'user': 'Richard', 'group': 'FVT', 'k': <Relationship id=569 nodes=(<Node id=226 labels=frozenset({'User'}) properties={'name': 'Richard', 'id': '380c5701-ec46-466b-bbc5-8cee3ef38c03'}>, <Node id=239 labels=frozenset({'Group'}) properties={'name': 'FVT', 'id': '3627ee0a-34eb-4e4c-9a1d-a46f20b11b6e'}>) type='IS_MEMBER' properties={}>}\n",
      "252 {'user': 'Richard', 'group': 'FVT', 'k': <Relationship id=570 nodes=(<Node id=228 labels=frozenset({'User'}) properties={'name': 'Richard', 'id': '1a09a49c-3624-47ee-8ce2-24bf73ba9058'}>, <Node id=239 labels=frozenset({'Group'}) properties={'name': 'FVT', 'id': '3627ee0a-34eb-4e4c-9a1d-a46f20b11b6e'}>) type='IS_MEMBER' properties={}>}\n",
      "253 {'user': 'Richard', 'group': 'FVT', 'k': <Relationship id=571 nodes=(<Node id=230 labels=frozenset({'User'}) properties={'name': 'Richard', 'id': '1aa3cb4c-7b34-4c1a-b8f8-ae9810c532d5'}>, <Node id=239 labels=frozenset({'Group'}) properties={'name': 'FVT', 'id': '3627ee0a-34eb-4e4c-9a1d-a46f20b11b6e'}>) type='IS_MEMBER' properties={}>}\n",
      "254 {'user': 'Richard', 'group': 'FVT', 'k': <Relationship id=572 nodes=(<Node id=232 labels=frozenset({'User'}) properties={'name': 'Richard', 'id': '310b164b-d551-4fd6-aead-800da4afde54'}>, <Node id=239 labels=frozenset({'Group'}) properties={'name': 'FVT', 'id': '3627ee0a-34eb-4e4c-9a1d-a46f20b11b6e'}>) type='IS_MEMBER' properties={}>}\n",
      "255 {'user': 'Richard', 'group': 'FVT', 'k': <Relationship id=573 nodes=(<Node id=234 labels=frozenset({'User'}) properties={'name': 'Richard', 'id': '696b9559-4739-4249-82e2-9067a88e7384'}>, <Node id=239 labels=frozenset({'Group'}) properties={'name': 'FVT', 'id': '3627ee0a-34eb-4e4c-9a1d-a46f20b11b6e'}>) type='IS_MEMBER' properties={}>}\n",
      "256 {'user': 'Richard', 'group': 'FVT', 'k': <Relationship id=574 nodes=(<Node id=236 labels=frozenset({'User'}) properties={'name': 'Richard', 'id': 'e5043682-7fa5-4863-9214-0fcec03a20ef'}>, <Node id=239 labels=frozenset({'Group'}) properties={'name': 'FVT', 'id': '3627ee0a-34eb-4e4c-9a1d-a46f20b11b6e'}>) type='IS_MEMBER' properties={}>}\n",
      "257 {'user': 'Richard', 'group': 'FVT', 'k': <Relationship id=575 nodes=(<Node id=238 labels=frozenset({'User'}) properties={'name': 'Richard', 'id': 'bb8d2143-1275-4f6f-adf5-e1638a3a50c5'}>, <Node id=239 labels=frozenset({'Group'}) properties={'name': 'FVT', 'id': '3627ee0a-34eb-4e4c-9a1d-a46f20b11b6e'}>) type='IS_MEMBER' properties={}>}\n",
      "258 {'user': 'Richard', 'group': 'FVT', 'k': <Relationship id=576 nodes=(<Node id=240 labels=frozenset({'User'}) properties={'name': 'Richard', 'id': '0d3f9d77-9c46-46fc-8511-d15dcf3c35a5'}>, <Node id=239 labels=frozenset({'Group'}) properties={'name': 'FVT', 'id': '3627ee0a-34eb-4e4c-9a1d-a46f20b11b6e'}>) type='IS_MEMBER' properties={}>}\n",
      "259 {'user': 'Richard', 'group': 'FVT', 'k': <Relationship id=577 nodes=(<Node id=243 labels=frozenset({'User'}) properties={'surname': 'White', 'name': 'Richard', 'id': '3067a2bd-dda7-468e-b111-00aeffb491aa'}>, <Node id=239 labels=frozenset({'Group'}) properties={'name': 'FVT', 'id': '3627ee0a-34eb-4e4c-9a1d-a46f20b11b6e'}>) type='IS_MEMBER' properties={}>}\n",
      "260 {'user': 'Richard', 'group': 'FVT', 'k': <Relationship id=578 nodes=(<Node id=179 labels=frozenset({'User'}) properties={'surname': 'White', 'name': 'Richard'}>, <Node id=241 labels=frozenset({'Group'}) properties={'name': 'FVT', 'id': '45d929cb-33db-48d6-a668-36aed9bb0e6a'}>) type='IS_MEMBER' properties={}>}\n",
      "261 {'user': 'Richard', 'group': 'FVT', 'k': <Relationship id=579 nodes=(<Node id=193 labels=frozenset({'User'}) properties={'surname': 'White', 'name': 'Richard'}>, <Node id=241 labels=frozenset({'Group'}) properties={'name': 'FVT', 'id': '45d929cb-33db-48d6-a668-36aed9bb0e6a'}>) type='IS_MEMBER' properties={}>}\n",
      "262 {'user': 'Richard', 'group': 'FVT', 'k': <Relationship id=580 nodes=(<Node id=194 labels=frozenset({'User'}) properties={'surname': 'White', 'name': 'Richard'}>, <Node id=241 labels=frozenset({'Group'}) properties={'name': 'FVT', 'id': '45d929cb-33db-48d6-a668-36aed9bb0e6a'}>) type='IS_MEMBER' properties={}>}\n",
      "263 {'user': 'Richard', 'group': 'FVT', 'k': <Relationship id=581 nodes=(<Node id=212 labels=frozenset({'User'}) properties={'surname': 'White', 'name': 'Richard'}>, <Node id=241 labels=frozenset({'Group'}) properties={'name': 'FVT', 'id': '45d929cb-33db-48d6-a668-36aed9bb0e6a'}>) type='IS_MEMBER' properties={}>}\n",
      "264 {'user': 'Richard', 'group': 'FVT', 'k': <Relationship id=582 nodes=(<Node id=213 labels=frozenset({'User'}) properties={'surname': 'White', 'name': 'Richard'}>, <Node id=241 labels=frozenset({'Group'}) properties={'name': 'FVT', 'id': '45d929cb-33db-48d6-a668-36aed9bb0e6a'}>) type='IS_MEMBER' properties={}>}\n",
      "265 {'user': 'Richard', 'group': 'FVT', 'k': <Relationship id=583 nodes=(<Node id=215 labels=frozenset({'User'}) properties={'surname': 'White', 'name': 'Richard'}>, <Node id=241 labels=frozenset({'Group'}) properties={'name': 'FVT', 'id': '45d929cb-33db-48d6-a668-36aed9bb0e6a'}>) type='IS_MEMBER' properties={}>}\n",
      "266 {'user': 'Richard', 'group': 'FVT', 'k': <Relationship id=584 nodes=(<Node id=217 labels=frozenset({'User'}) properties={'surname': 'White', 'name': 'Richard', 'id': '4f6a2ad6-b549-465a-8d0a-867da92db703'}>, <Node id=241 labels=frozenset({'Group'}) properties={'name': 'FVT', 'id': '45d929cb-33db-48d6-a668-36aed9bb0e6a'}>) type='IS_MEMBER' properties={}>}\n",
      "267 {'user': 'Richard', 'group': 'FVT', 'k': <Relationship id=585 nodes=(<Node id=219 labels=frozenset({'User'}) properties={'name': 'Richard'}>, <Node id=241 labels=frozenset({'Group'}) properties={'name': 'FVT', 'id': '45d929cb-33db-48d6-a668-36aed9bb0e6a'}>) type='IS_MEMBER' properties={}>}\n",
      "268 {'user': 'Richard', 'group': 'FVT', 'k': <Relationship id=586 nodes=(<Node id=221 labels=frozenset({'User'}) properties={'surname': 'White', 'name': 'Richard', 'id': 'c2159cd1-e07c-484d-ba39-8dae044a3de9'}>, <Node id=241 labels=frozenset({'Group'}) properties={'name': 'FVT', 'id': '45d929cb-33db-48d6-a668-36aed9bb0e6a'}>) type='IS_MEMBER' properties={}>}\n",
      "269 {'user': 'Richard', 'group': 'FVT', 'k': <Relationship id=587 nodes=(<Node id=222 labels=frozenset({'User'}) properties={'name': 'Richard', 'id': '83b17b4d-02ab-4077-aeae-14abd8e8a6ed'}>, <Node id=241 labels=frozenset({'Group'}) properties={'name': 'FVT', 'id': '45d929cb-33db-48d6-a668-36aed9bb0e6a'}>) type='IS_MEMBER' properties={}>}\n",
      "270 {'user': 'Richard', 'group': 'FVT', 'k': <Relationship id=588 nodes=(<Node id=224 labels=frozenset({'User'}) properties={'name': 'Richard', 'id': '96902282-4c7b-4796-9815-b456e54fb0e8'}>, <Node id=241 labels=frozenset({'Group'}) properties={'name': 'FVT', 'id': '45d929cb-33db-48d6-a668-36aed9bb0e6a'}>) type='IS_MEMBER' properties={}>}\n",
      "271 {'user': 'Richard', 'group': 'FVT', 'k': <Relationship id=589 nodes=(<Node id=226 labels=frozenset({'User'}) properties={'name': 'Richard', 'id': '380c5701-ec46-466b-bbc5-8cee3ef38c03'}>, <Node id=241 labels=frozenset({'Group'}) properties={'name': 'FVT', 'id': '45d929cb-33db-48d6-a668-36aed9bb0e6a'}>) type='IS_MEMBER' properties={}>}\n",
      "272 {'user': 'Richard', 'group': 'FVT', 'k': <Relationship id=590 nodes=(<Node id=228 labels=frozenset({'User'}) properties={'name': 'Richard', 'id': '1a09a49c-3624-47ee-8ce2-24bf73ba9058'}>, <Node id=241 labels=frozenset({'Group'}) properties={'name': 'FVT', 'id': '45d929cb-33db-48d6-a668-36aed9bb0e6a'}>) type='IS_MEMBER' properties={}>}\n",
      "273 {'user': 'Richard', 'group': 'FVT', 'k': <Relationship id=591 nodes=(<Node id=230 labels=frozenset({'User'}) properties={'name': 'Richard', 'id': '1aa3cb4c-7b34-4c1a-b8f8-ae9810c532d5'}>, <Node id=241 labels=frozenset({'Group'}) properties={'name': 'FVT', 'id': '45d929cb-33db-48d6-a668-36aed9bb0e6a'}>) type='IS_MEMBER' properties={}>}\n",
      "274 {'user': 'Richard', 'group': 'FVT', 'k': <Relationship id=592 nodes=(<Node id=232 labels=frozenset({'User'}) properties={'name': 'Richard', 'id': '310b164b-d551-4fd6-aead-800da4afde54'}>, <Node id=241 labels=frozenset({'Group'}) properties={'name': 'FVT', 'id': '45d929cb-33db-48d6-a668-36aed9bb0e6a'}>) type='IS_MEMBER' properties={}>}\n",
      "275 {'user': 'Richard', 'group': 'FVT', 'k': <Relationship id=593 nodes=(<Node id=234 labels=frozenset({'User'}) properties={'name': 'Richard', 'id': '696b9559-4739-4249-82e2-9067a88e7384'}>, <Node id=241 labels=frozenset({'Group'}) properties={'name': 'FVT', 'id': '45d929cb-33db-48d6-a668-36aed9bb0e6a'}>) type='IS_MEMBER' properties={}>}\n",
      "276 {'user': 'Richard', 'group': 'FVT', 'k': <Relationship id=594 nodes=(<Node id=236 labels=frozenset({'User'}) properties={'name': 'Richard', 'id': 'e5043682-7fa5-4863-9214-0fcec03a20ef'}>, <Node id=241 labels=frozenset({'Group'}) properties={'name': 'FVT', 'id': '45d929cb-33db-48d6-a668-36aed9bb0e6a'}>) type='IS_MEMBER' properties={}>}\n",
      "277 {'user': 'Richard', 'group': 'FVT', 'k': <Relationship id=595 nodes=(<Node id=238 labels=frozenset({'User'}) properties={'name': 'Richard', 'id': 'bb8d2143-1275-4f6f-adf5-e1638a3a50c5'}>, <Node id=241 labels=frozenset({'Group'}) properties={'name': 'FVT', 'id': '45d929cb-33db-48d6-a668-36aed9bb0e6a'}>) type='IS_MEMBER' properties={}>}\n",
      "278 {'user': 'Richard', 'group': 'FVT', 'k': <Relationship id=596 nodes=(<Node id=240 labels=frozenset({'User'}) properties={'name': 'Richard', 'id': '0d3f9d77-9c46-46fc-8511-d15dcf3c35a5'}>, <Node id=241 labels=frozenset({'Group'}) properties={'name': 'FVT', 'id': '45d929cb-33db-48d6-a668-36aed9bb0e6a'}>) type='IS_MEMBER' properties={}>}\n",
      "279 {'user': 'Richard', 'group': 'FVT', 'k': <Relationship id=597 nodes=(<Node id=243 labels=frozenset({'User'}) properties={'surname': 'White', 'name': 'Richard', 'id': '3067a2bd-dda7-468e-b111-00aeffb491aa'}>, <Node id=241 labels=frozenset({'Group'}) properties={'name': 'FVT', 'id': '45d929cb-33db-48d6-a668-36aed9bb0e6a'}>) type='IS_MEMBER' properties={}>}\n",
      "280 {'user': 'Richard', 'group': 'FVT', 'k': <Relationship id=598 nodes=(<Node id=179 labels=frozenset({'User'}) properties={'surname': 'White', 'name': 'Richard'}>, <Node id=244 labels=frozenset({'Group'}) properties={'name': 'FVT', 'id': '54dd5020-44ec-40a5-b311-eb0b75582e73'}>) type='IS_MEMBER' properties={}>}\n",
      "281 {'user': 'Richard', 'group': 'FVT', 'k': <Relationship id=599 nodes=(<Node id=193 labels=frozenset({'User'}) properties={'surname': 'White', 'name': 'Richard'}>, <Node id=244 labels=frozenset({'Group'}) properties={'name': 'FVT', 'id': '54dd5020-44ec-40a5-b311-eb0b75582e73'}>) type='IS_MEMBER' properties={}>}\n",
      "282 {'user': 'Richard', 'group': 'FVT', 'k': <Relationship id=600 nodes=(<Node id=194 labels=frozenset({'User'}) properties={'surname': 'White', 'name': 'Richard'}>, <Node id=244 labels=frozenset({'Group'}) properties={'name': 'FVT', 'id': '54dd5020-44ec-40a5-b311-eb0b75582e73'}>) type='IS_MEMBER' properties={}>}\n",
      "283 {'user': 'Richard', 'group': 'FVT', 'k': <Relationship id=601 nodes=(<Node id=212 labels=frozenset({'User'}) properties={'surname': 'White', 'name': 'Richard'}>, <Node id=244 labels=frozenset({'Group'}) properties={'name': 'FVT', 'id': '54dd5020-44ec-40a5-b311-eb0b75582e73'}>) type='IS_MEMBER' properties={}>}\n",
      "284 {'user': 'Richard', 'group': 'FVT', 'k': <Relationship id=602 nodes=(<Node id=213 labels=frozenset({'User'}) properties={'surname': 'White', 'name': 'Richard'}>, <Node id=244 labels=frozenset({'Group'}) properties={'name': 'FVT', 'id': '54dd5020-44ec-40a5-b311-eb0b75582e73'}>) type='IS_MEMBER' properties={}>}\n",
      "285 {'user': 'Richard', 'group': 'FVT', 'k': <Relationship id=603 nodes=(<Node id=215 labels=frozenset({'User'}) properties={'surname': 'White', 'name': 'Richard'}>, <Node id=244 labels=frozenset({'Group'}) properties={'name': 'FVT', 'id': '54dd5020-44ec-40a5-b311-eb0b75582e73'}>) type='IS_MEMBER' properties={}>}\n",
      "286 {'user': 'Richard', 'group': 'FVT', 'k': <Relationship id=604 nodes=(<Node id=217 labels=frozenset({'User'}) properties={'surname': 'White', 'name': 'Richard', 'id': '4f6a2ad6-b549-465a-8d0a-867da92db703'}>, <Node id=244 labels=frozenset({'Group'}) properties={'name': 'FVT', 'id': '54dd5020-44ec-40a5-b311-eb0b75582e73'}>) type='IS_MEMBER' properties={}>}\n",
      "287 {'user': 'Richard', 'group': 'FVT', 'k': <Relationship id=605 nodes=(<Node id=219 labels=frozenset({'User'}) properties={'name': 'Richard'}>, <Node id=244 labels=frozenset({'Group'}) properties={'name': 'FVT', 'id': '54dd5020-44ec-40a5-b311-eb0b75582e73'}>) type='IS_MEMBER' properties={}>}\n",
      "288 {'user': 'Richard', 'group': 'FVT', 'k': <Relationship id=606 nodes=(<Node id=221 labels=frozenset({'User'}) properties={'surname': 'White', 'name': 'Richard', 'id': 'c2159cd1-e07c-484d-ba39-8dae044a3de9'}>, <Node id=244 labels=frozenset({'Group'}) properties={'name': 'FVT', 'id': '54dd5020-44ec-40a5-b311-eb0b75582e73'}>) type='IS_MEMBER' properties={}>}\n",
      "289 {'user': 'Richard', 'group': 'FVT', 'k': <Relationship id=607 nodes=(<Node id=222 labels=frozenset({'User'}) properties={'name': 'Richard', 'id': '83b17b4d-02ab-4077-aeae-14abd8e8a6ed'}>, <Node id=244 labels=frozenset({'Group'}) properties={'name': 'FVT', 'id': '54dd5020-44ec-40a5-b311-eb0b75582e73'}>) type='IS_MEMBER' properties={}>}\n",
      "290 {'user': 'Richard', 'group': 'FVT', 'k': <Relationship id=608 nodes=(<Node id=224 labels=frozenset({'User'}) properties={'name': 'Richard', 'id': '96902282-4c7b-4796-9815-b456e54fb0e8'}>, <Node id=244 labels=frozenset({'Group'}) properties={'name': 'FVT', 'id': '54dd5020-44ec-40a5-b311-eb0b75582e73'}>) type='IS_MEMBER' properties={}>}\n",
      "291 {'user': 'Richard', 'group': 'FVT', 'k': <Relationship id=609 nodes=(<Node id=226 labels=frozenset({'User'}) properties={'name': 'Richard', 'id': '380c5701-ec46-466b-bbc5-8cee3ef38c03'}>, <Node id=244 labels=frozenset({'Group'}) properties={'name': 'FVT', 'id': '54dd5020-44ec-40a5-b311-eb0b75582e73'}>) type='IS_MEMBER' properties={}>}\n",
      "292 {'user': 'Richard', 'group': 'FVT', 'k': <Relationship id=610 nodes=(<Node id=228 labels=frozenset({'User'}) properties={'name': 'Richard', 'id': '1a09a49c-3624-47ee-8ce2-24bf73ba9058'}>, <Node id=244 labels=frozenset({'Group'}) properties={'name': 'FVT', 'id': '54dd5020-44ec-40a5-b311-eb0b75582e73'}>) type='IS_MEMBER' properties={}>}\n",
      "293 {'user': 'Richard', 'group': 'FVT', 'k': <Relationship id=611 nodes=(<Node id=230 labels=frozenset({'User'}) properties={'name': 'Richard', 'id': '1aa3cb4c-7b34-4c1a-b8f8-ae9810c532d5'}>, <Node id=244 labels=frozenset({'Group'}) properties={'name': 'FVT', 'id': '54dd5020-44ec-40a5-b311-eb0b75582e73'}>) type='IS_MEMBER' properties={}>}\n",
      "294 {'user': 'Richard', 'group': 'FVT', 'k': <Relationship id=612 nodes=(<Node id=232 labels=frozenset({'User'}) properties={'name': 'Richard', 'id': '310b164b-d551-4fd6-aead-800da4afde54'}>, <Node id=244 labels=frozenset({'Group'}) properties={'name': 'FVT', 'id': '54dd5020-44ec-40a5-b311-eb0b75582e73'}>) type='IS_MEMBER' properties={}>}\n",
      "295 {'user': 'Richard', 'group': 'FVT', 'k': <Relationship id=613 nodes=(<Node id=234 labels=frozenset({'User'}) properties={'name': 'Richard', 'id': '696b9559-4739-4249-82e2-9067a88e7384'}>, <Node id=244 labels=frozenset({'Group'}) properties={'name': 'FVT', 'id': '54dd5020-44ec-40a5-b311-eb0b75582e73'}>) type='IS_MEMBER' properties={}>}\n",
      "296 {'user': 'Richard', 'group': 'FVT', 'k': <Relationship id=614 nodes=(<Node id=236 labels=frozenset({'User'}) properties={'name': 'Richard', 'id': 'e5043682-7fa5-4863-9214-0fcec03a20ef'}>, <Node id=244 labels=frozenset({'Group'}) properties={'name': 'FVT', 'id': '54dd5020-44ec-40a5-b311-eb0b75582e73'}>) type='IS_MEMBER' properties={}>}\n",
      "297 {'user': 'Richard', 'group': 'FVT', 'k': <Relationship id=615 nodes=(<Node id=238 labels=frozenset({'User'}) properties={'name': 'Richard', 'id': 'bb8d2143-1275-4f6f-adf5-e1638a3a50c5'}>, <Node id=244 labels=frozenset({'Group'}) properties={'name': 'FVT', 'id': '54dd5020-44ec-40a5-b311-eb0b75582e73'}>) type='IS_MEMBER' properties={}>}\n",
      "298 {'user': 'Richard', 'group': 'FVT', 'k': <Relationship id=616 nodes=(<Node id=240 labels=frozenset({'User'}) properties={'name': 'Richard', 'id': '0d3f9d77-9c46-46fc-8511-d15dcf3c35a5'}>, <Node id=244 labels=frozenset({'Group'}) properties={'name': 'FVT', 'id': '54dd5020-44ec-40a5-b311-eb0b75582e73'}>) type='IS_MEMBER' properties={}>}\n",
      "299 {'user': 'Richard', 'group': 'FVT', 'k': <Relationship id=617 nodes=(<Node id=243 labels=frozenset({'User'}) properties={'surname': 'White', 'name': 'Richard', 'id': '3067a2bd-dda7-468e-b111-00aeffb491aa'}>, <Node id=244 labels=frozenset({'Group'}) properties={'name': 'FVT', 'id': '54dd5020-44ec-40a5-b311-eb0b75582e73'}>) type='IS_MEMBER' properties={}>}\n"
     ]
    }
   ],
   "source": [
    "def _define_membership(tx, user_name, group_name):\n",
    "    # To learn more about the Cypher syntax, see https://neo4j.com/docs/cypher-manual/current/\n",
    "    # The Reference Card is also a good resource for keywords https://neo4j.com/docs/cypher-refcard/current/\n",
    "    query = (\"\"\"\n",
    "        MATCH (p:User {name: $user_name})\n",
    "        MATCH (g:Group {name: $group_name})\n",
    "        CREATE (p)-[k:IS_MEMBER ]->(g)\n",
    "        RETURN p, g, k\n",
    "    \"\"\") # dotaz\n",
    "    \n",
    "    result = tx.run(query, # dotaz\n",
    "                    user_name=user_name, # pojmenovaný parametr (viz dotaz)\n",
    "                    group_name=group_name, # pojmenovaný parametr (viz dotaz)\n",
    "                   )\n",
    "    \n",
    "    # print(result)\n",
    "    return [{\n",
    "                \"user\": row[\"p\"][\"name\"],\n",
    "                \"group\": row[\"g\"][\"name\"],\n",
    "                \"k\": row[\"k\"],\n",
    "            }\n",
    "            for row in result] # python comphrehesion pro mapování výsledku do požadované struktury\n",
    "\n",
    "session = sessionmaker()\n",
    "u = session.write_transaction(_create_user, {'surname': 'White', 'name': 'Richard'})\n",
    "g = session.write_transaction(_create_group, {'name': 'FVT'})\n",
    "result = session.write_transaction(_define_membership, 'Richard', 'FVT')\n",
    "for index, row in enumerate(result):\n",
    "    print(index, row)"
   ]
  },
  {
   "cell_type": "code",
   "execution_count": 71,
   "id": "ff4a6c8a-297d-4bcf-b8e8-aafc063e66ad",
   "metadata": {},
   "outputs": [
    {
     "name": "stderr",
     "output_type": "stream",
     "text": [
      "Failed to write data to connection ResolvedIPv4Address(('192.168.1.100', 7687)) (IPv4Address(('192.168.1.100', 7687)))\n",
      "Unable to retrieve routing information\n",
      "Transaction failed and will be retried in 0.9143397635449383s (Unable to retrieve routing information)\n"
     ]
    },
    {
     "name": "stdout",
     "output_type": "stream",
     "text": [
      "0 {'u': <Node id=212 labels=frozenset() properties={}>, 'g': <Node id=195 labels=frozenset() properties={}>}\n",
      "1 {'u': <Node id=230 labels=frozenset() properties={}>, 'g': <Node id=195 labels=frozenset() properties={}>}\n",
      "2 {'u': <Node id=224 labels=frozenset() properties={}>, 'g': <Node id=195 labels=frozenset() properties={}>}\n",
      "3 {'u': <Node id=179 labels=frozenset() properties={}>, 'g': <Node id=195 labels=frozenset() properties={}>}\n",
      "4 {'u': <Node id=222 labels=frozenset() properties={}>, 'g': <Node id=195 labels=frozenset() properties={}>}\n",
      "5 {'u': <Node id=243 labels=frozenset() properties={}>, 'g': <Node id=195 labels=frozenset() properties={}>}\n",
      "6 {'u': <Node id=226 labels=frozenset() properties={}>, 'g': <Node id=195 labels=frozenset() properties={}>}\n",
      "7 {'u': <Node id=228 labels=frozenset() properties={}>, 'g': <Node id=195 labels=frozenset() properties={}>}\n",
      "8 {'u': <Node id=213 labels=frozenset() properties={}>, 'g': <Node id=195 labels=frozenset() properties={}>}\n",
      "9 {'u': <Node id=193 labels=frozenset() properties={}>, 'g': <Node id=195 labels=frozenset() properties={}>}\n",
      "10 {'u': <Node id=232 labels=frozenset() properties={}>, 'g': <Node id=195 labels=frozenset() properties={}>}\n",
      "11 {'u': <Node id=238 labels=frozenset() properties={}>, 'g': <Node id=195 labels=frozenset() properties={}>}\n",
      "12 {'u': <Node id=221 labels=frozenset() properties={}>, 'g': <Node id=195 labels=frozenset() properties={}>}\n",
      "13 {'u': <Node id=217 labels=frozenset() properties={}>, 'g': <Node id=195 labels=frozenset() properties={}>}\n",
      "14 {'u': <Node id=236 labels=frozenset() properties={}>, 'g': <Node id=195 labels=frozenset() properties={}>}\n",
      "15 {'u': <Node id=219 labels=frozenset() properties={}>, 'g': <Node id=195 labels=frozenset() properties={}>}\n",
      "16 {'u': <Node id=215 labels=frozenset() properties={}>, 'g': <Node id=195 labels=frozenset() properties={}>}\n",
      "17 {'u': <Node id=194 labels=frozenset() properties={}>, 'g': <Node id=195 labels=frozenset() properties={}>}\n",
      "18 {'u': <Node id=234 labels=frozenset() properties={}>, 'g': <Node id=195 labels=frozenset() properties={}>}\n",
      "19 {'u': <Node id=240 labels=frozenset() properties={}>, 'g': <Node id=195 labels=frozenset() properties={}>}\n",
      "20 {'u': <Node id=215 labels=frozenset() properties={}>, 'g': <Node id=195 labels=frozenset() properties={}>}\n",
      "21 {'u': <Node id=193 labels=frozenset() properties={}>, 'g': <Node id=195 labels=frozenset() properties={}>}\n",
      "22 {'u': <Node id=179 labels=frozenset() properties={}>, 'g': <Node id=195 labels=frozenset() properties={}>}\n",
      "23 {'u': <Node id=194 labels=frozenset() properties={}>, 'g': <Node id=195 labels=frozenset() properties={}>}\n",
      "24 {'u': <Node id=212 labels=frozenset() properties={}>, 'g': <Node id=195 labels=frozenset() properties={}>}\n",
      "25 {'u': <Node id=213 labels=frozenset() properties={}>, 'g': <Node id=195 labels=frozenset() properties={}>}\n",
      "26 {'u': <Node id=193 labels=frozenset() properties={}>, 'g': <Node id=195 labels=frozenset() properties={}>}\n",
      "27 {'u': <Node id=213 labels=frozenset() properties={}>, 'g': <Node id=214 labels=frozenset() properties={}>}\n",
      "28 {'u': <Node id=238 labels=frozenset() properties={}>, 'g': <Node id=214 labels=frozenset() properties={}>}\n",
      "29 {'u': <Node id=228 labels=frozenset() properties={}>, 'g': <Node id=214 labels=frozenset() properties={}>}\n",
      "30 {'u': <Node id=222 labels=frozenset() properties={}>, 'g': <Node id=214 labels=frozenset() properties={}>}\n",
      "31 {'u': <Node id=219 labels=frozenset() properties={}>, 'g': <Node id=214 labels=frozenset() properties={}>}\n",
      "32 {'u': <Node id=230 labels=frozenset() properties={}>, 'g': <Node id=214 labels=frozenset() properties={}>}\n",
      "33 {'u': <Node id=217 labels=frozenset() properties={}>, 'g': <Node id=214 labels=frozenset() properties={}>}\n",
      "34 {'u': <Node id=179 labels=frozenset() properties={}>, 'g': <Node id=214 labels=frozenset() properties={}>}\n",
      "35 {'u': <Node id=221 labels=frozenset() properties={}>, 'g': <Node id=214 labels=frozenset() properties={}>}\n",
      "36 {'u': <Node id=232 labels=frozenset() properties={}>, 'g': <Node id=214 labels=frozenset() properties={}>}\n",
      "37 {'u': <Node id=215 labels=frozenset() properties={}>, 'g': <Node id=214 labels=frozenset() properties={}>}\n",
      "38 {'u': <Node id=243 labels=frozenset() properties={}>, 'g': <Node id=214 labels=frozenset() properties={}>}\n",
      "39 {'u': <Node id=224 labels=frozenset() properties={}>, 'g': <Node id=214 labels=frozenset() properties={}>}\n",
      "40 {'u': <Node id=193 labels=frozenset() properties={}>, 'g': <Node id=214 labels=frozenset() properties={}>}\n",
      "41 {'u': <Node id=226 labels=frozenset() properties={}>, 'g': <Node id=214 labels=frozenset() properties={}>}\n",
      "42 {'u': <Node id=236 labels=frozenset() properties={}>, 'g': <Node id=214 labels=frozenset() properties={}>}\n",
      "43 {'u': <Node id=234 labels=frozenset() properties={}>, 'g': <Node id=214 labels=frozenset() properties={}>}\n",
      "44 {'u': <Node id=240 labels=frozenset() properties={}>, 'g': <Node id=214 labels=frozenset() properties={}>}\n",
      "45 {'u': <Node id=212 labels=frozenset() properties={}>, 'g': <Node id=214 labels=frozenset() properties={}>}\n",
      "46 {'u': <Node id=194 labels=frozenset() properties={}>, 'g': <Node id=214 labels=frozenset() properties={}>}\n",
      "47 {'u': <Node id=193 labels=frozenset() properties={}>, 'g': <Node id=214 labels=frozenset() properties={}>}\n",
      "48 {'u': <Node id=212 labels=frozenset() properties={}>, 'g': <Node id=214 labels=frozenset() properties={}>}\n",
      "49 {'u': <Node id=215 labels=frozenset() properties={}>, 'g': <Node id=214 labels=frozenset() properties={}>}\n",
      "50 {'u': <Node id=194 labels=frozenset() properties={}>, 'g': <Node id=214 labels=frozenset() properties={}>}\n",
      "51 {'u': <Node id=213 labels=frozenset() properties={}>, 'g': <Node id=214 labels=frozenset() properties={}>}\n",
      "52 {'u': <Node id=179 labels=frozenset() properties={}>, 'g': <Node id=214 labels=frozenset() properties={}>}\n",
      "53 {'u': <Node id=212 labels=frozenset() properties={}>, 'g': <Node id=216 labels=frozenset() properties={}>}\n",
      "54 {'u': <Node id=240 labels=frozenset() properties={}>, 'g': <Node id=216 labels=frozenset() properties={}>}\n",
      "55 {'u': <Node id=243 labels=frozenset() properties={}>, 'g': <Node id=216 labels=frozenset() properties={}>}\n",
      "56 {'u': <Node id=217 labels=frozenset() properties={}>, 'g': <Node id=216 labels=frozenset() properties={}>}\n",
      "57 {'u': <Node id=234 labels=frozenset() properties={}>, 'g': <Node id=216 labels=frozenset() properties={}>}\n",
      "58 {'u': <Node id=224 labels=frozenset() properties={}>, 'g': <Node id=216 labels=frozenset() properties={}>}\n",
      "59 {'u': <Node id=221 labels=frozenset() properties={}>, 'g': <Node id=216 labels=frozenset() properties={}>}\n",
      "60 {'u': <Node id=238 labels=frozenset() properties={}>, 'g': <Node id=216 labels=frozenset() properties={}>}\n",
      "61 {'u': <Node id=179 labels=frozenset() properties={}>, 'g': <Node id=216 labels=frozenset() properties={}>}\n",
      "62 {'u': <Node id=222 labels=frozenset() properties={}>, 'g': <Node id=216 labels=frozenset() properties={}>}\n",
      "63 {'u': <Node id=194 labels=frozenset() properties={}>, 'g': <Node id=216 labels=frozenset() properties={}>}\n",
      "64 {'u': <Node id=193 labels=frozenset() properties={}>, 'g': <Node id=216 labels=frozenset() properties={}>}\n",
      "65 {'u': <Node id=228 labels=frozenset() properties={}>, 'g': <Node id=216 labels=frozenset() properties={}>}\n",
      "66 {'u': <Node id=213 labels=frozenset() properties={}>, 'g': <Node id=216 labels=frozenset() properties={}>}\n",
      "67 {'u': <Node id=226 labels=frozenset() properties={}>, 'g': <Node id=216 labels=frozenset() properties={}>}\n",
      "68 {'u': <Node id=236 labels=frozenset() properties={}>, 'g': <Node id=216 labels=frozenset() properties={}>}\n",
      "69 {'u': <Node id=230 labels=frozenset() properties={}>, 'g': <Node id=216 labels=frozenset() properties={}>}\n",
      "70 {'u': <Node id=232 labels=frozenset() properties={}>, 'g': <Node id=216 labels=frozenset() properties={}>}\n",
      "71 {'u': <Node id=219 labels=frozenset() properties={}>, 'g': <Node id=216 labels=frozenset() properties={}>}\n",
      "72 {'u': <Node id=215 labels=frozenset() properties={}>, 'g': <Node id=216 labels=frozenset() properties={}>}\n",
      "73 {'u': <Node id=215 labels=frozenset() properties={}>, 'g': <Node id=216 labels=frozenset() properties={}>}\n",
      "74 {'u': <Node id=212 labels=frozenset() properties={}>, 'g': <Node id=216 labels=frozenset() properties={}>}\n",
      "75 {'u': <Node id=213 labels=frozenset() properties={}>, 'g': <Node id=216 labels=frozenset() properties={}>}\n",
      "76 {'u': <Node id=193 labels=frozenset() properties={}>, 'g': <Node id=216 labels=frozenset() properties={}>}\n",
      "77 {'u': <Node id=194 labels=frozenset() properties={}>, 'g': <Node id=216 labels=frozenset() properties={}>}\n",
      "78 {'u': <Node id=179 labels=frozenset() properties={}>, 'g': <Node id=216 labels=frozenset() properties={}>}\n",
      "79 {'u': <Node id=212 labels=frozenset() properties={}>, 'g': <Node id=218 labels=frozenset() properties={}>}\n",
      "80 {'u': <Node id=236 labels=frozenset() properties={}>, 'g': <Node id=218 labels=frozenset() properties={}>}\n",
      "81 {'u': <Node id=179 labels=frozenset() properties={}>, 'g': <Node id=218 labels=frozenset() properties={}>}\n",
      "82 {'u': <Node id=224 labels=frozenset() properties={}>, 'g': <Node id=218 labels=frozenset() properties={}>}\n",
      "83 {'u': <Node id=213 labels=frozenset() properties={}>, 'g': <Node id=218 labels=frozenset() properties={}>}\n",
      "84 {'u': <Node id=232 labels=frozenset() properties={}>, 'g': <Node id=218 labels=frozenset() properties={}>}\n",
      "85 {'u': <Node id=226 labels=frozenset() properties={}>, 'g': <Node id=218 labels=frozenset() properties={}>}\n",
      "86 {'u': <Node id=215 labels=frozenset() properties={}>, 'g': <Node id=218 labels=frozenset() properties={}>}\n",
      "87 {'u': <Node id=230 labels=frozenset() properties={}>, 'g': <Node id=218 labels=frozenset() properties={}>}\n",
      "88 {'u': <Node id=240 labels=frozenset() properties={}>, 'g': <Node id=218 labels=frozenset() properties={}>}\n",
      "89 {'u': <Node id=217 labels=frozenset() properties={}>, 'g': <Node id=218 labels=frozenset() properties={}>}\n",
      "90 {'u': <Node id=219 labels=frozenset() properties={}>, 'g': <Node id=218 labels=frozenset() properties={}>}\n",
      "91 {'u': <Node id=221 labels=frozenset() properties={}>, 'g': <Node id=218 labels=frozenset() properties={}>}\n",
      "92 {'u': <Node id=194 labels=frozenset() properties={}>, 'g': <Node id=218 labels=frozenset() properties={}>}\n",
      "93 {'u': <Node id=193 labels=frozenset() properties={}>, 'g': <Node id=218 labels=frozenset() properties={}>}\n",
      "94 {'u': <Node id=228 labels=frozenset() properties={}>, 'g': <Node id=218 labels=frozenset() properties={}>}\n",
      "95 {'u': <Node id=234 labels=frozenset() properties={}>, 'g': <Node id=218 labels=frozenset() properties={}>}\n",
      "96 {'u': <Node id=222 labels=frozenset() properties={}>, 'g': <Node id=218 labels=frozenset() properties={}>}\n",
      "97 {'u': <Node id=238 labels=frozenset() properties={}>, 'g': <Node id=218 labels=frozenset() properties={}>}\n",
      "98 {'u': <Node id=243 labels=frozenset() properties={}>, 'g': <Node id=218 labels=frozenset() properties={}>}\n",
      "99 {'u': <Node id=217 labels=frozenset() properties={}>, 'g': <Node id=223 labels=frozenset() properties={}>}\n",
      "100 {'u': <Node id=236 labels=frozenset() properties={}>, 'g': <Node id=223 labels=frozenset() properties={}>}\n",
      "101 {'u': <Node id=193 labels=frozenset() properties={}>, 'g': <Node id=223 labels=frozenset() properties={}>}\n",
      "102 {'u': <Node id=226 labels=frozenset() properties={}>, 'g': <Node id=223 labels=frozenset() properties={}>}\n",
      "103 {'u': <Node id=221 labels=frozenset() properties={}>, 'g': <Node id=223 labels=frozenset() properties={}>}\n",
      "104 {'u': <Node id=194 labels=frozenset() properties={}>, 'g': <Node id=223 labels=frozenset() properties={}>}\n",
      "105 {'u': <Node id=234 labels=frozenset() properties={}>, 'g': <Node id=223 labels=frozenset() properties={}>}\n",
      "106 {'u': <Node id=222 labels=frozenset() properties={}>, 'g': <Node id=223 labels=frozenset() properties={}>}\n",
      "107 {'u': <Node id=228 labels=frozenset() properties={}>, 'g': <Node id=223 labels=frozenset() properties={}>}\n",
      "108 {'u': <Node id=215 labels=frozenset() properties={}>, 'g': <Node id=223 labels=frozenset() properties={}>}\n",
      "109 {'u': <Node id=230 labels=frozenset() properties={}>, 'g': <Node id=223 labels=frozenset() properties={}>}\n",
      "110 {'u': <Node id=232 labels=frozenset() properties={}>, 'g': <Node id=223 labels=frozenset() properties={}>}\n",
      "111 {'u': <Node id=238 labels=frozenset() properties={}>, 'g': <Node id=223 labels=frozenset() properties={}>}\n",
      "112 {'u': <Node id=213 labels=frozenset() properties={}>, 'g': <Node id=223 labels=frozenset() properties={}>}\n",
      "113 {'u': <Node id=243 labels=frozenset() properties={}>, 'g': <Node id=223 labels=frozenset() properties={}>}\n",
      "114 {'u': <Node id=224 labels=frozenset() properties={}>, 'g': <Node id=223 labels=frozenset() properties={}>}\n",
      "115 {'u': <Node id=240 labels=frozenset() properties={}>, 'g': <Node id=223 labels=frozenset() properties={}>}\n",
      "116 {'u': <Node id=212 labels=frozenset() properties={}>, 'g': <Node id=223 labels=frozenset() properties={}>}\n",
      "117 {'u': <Node id=179 labels=frozenset() properties={}>, 'g': <Node id=223 labels=frozenset() properties={}>}\n",
      "118 {'u': <Node id=219 labels=frozenset() properties={}>, 'g': <Node id=223 labels=frozenset() properties={}>}\n",
      "119 {'u': <Node id=234 labels=frozenset() properties={}>, 'g': <Node id=225 labels=frozenset() properties={}>}\n",
      "120 {'u': <Node id=193 labels=frozenset() properties={}>, 'g': <Node id=225 labels=frozenset() properties={}>}\n",
      "121 {'u': <Node id=232 labels=frozenset() properties={}>, 'g': <Node id=225 labels=frozenset() properties={}>}\n",
      "122 {'u': <Node id=240 labels=frozenset() properties={}>, 'g': <Node id=225 labels=frozenset() properties={}>}\n",
      "123 {'u': <Node id=224 labels=frozenset() properties={}>, 'g': <Node id=225 labels=frozenset() properties={}>}\n",
      "124 {'u': <Node id=238 labels=frozenset() properties={}>, 'g': <Node id=225 labels=frozenset() properties={}>}\n",
      "125 {'u': <Node id=228 labels=frozenset() properties={}>, 'g': <Node id=225 labels=frozenset() properties={}>}\n",
      "126 {'u': <Node id=194 labels=frozenset() properties={}>, 'g': <Node id=225 labels=frozenset() properties={}>}\n",
      "127 {'u': <Node id=221 labels=frozenset() properties={}>, 'g': <Node id=225 labels=frozenset() properties={}>}\n",
      "128 {'u': <Node id=179 labels=frozenset() properties={}>, 'g': <Node id=225 labels=frozenset() properties={}>}\n",
      "129 {'u': <Node id=226 labels=frozenset() properties={}>, 'g': <Node id=225 labels=frozenset() properties={}>}\n",
      "130 {'u': <Node id=222 labels=frozenset() properties={}>, 'g': <Node id=225 labels=frozenset() properties={}>}\n",
      "131 {'u': <Node id=236 labels=frozenset() properties={}>, 'g': <Node id=225 labels=frozenset() properties={}>}\n",
      "132 {'u': <Node id=213 labels=frozenset() properties={}>, 'g': <Node id=225 labels=frozenset() properties={}>}\n",
      "133 {'u': <Node id=243 labels=frozenset() properties={}>, 'g': <Node id=225 labels=frozenset() properties={}>}\n",
      "134 {'u': <Node id=212 labels=frozenset() properties={}>, 'g': <Node id=225 labels=frozenset() properties={}>}\n",
      "135 {'u': <Node id=219 labels=frozenset() properties={}>, 'g': <Node id=225 labels=frozenset() properties={}>}\n",
      "136 {'u': <Node id=217 labels=frozenset() properties={}>, 'g': <Node id=225 labels=frozenset() properties={}>}\n",
      "137 {'u': <Node id=215 labels=frozenset() properties={}>, 'g': <Node id=225 labels=frozenset() properties={}>}\n",
      "138 {'u': <Node id=230 labels=frozenset() properties={}>, 'g': <Node id=225 labels=frozenset() properties={}>}\n",
      "139 {'u': <Node id=193 labels=frozenset() properties={}>, 'g': <Node id=227 labels=frozenset() properties={}>}\n",
      "140 {'u': <Node id=228 labels=frozenset() properties={}>, 'g': <Node id=227 labels=frozenset() properties={}>}\n",
      "141 {'u': <Node id=238 labels=frozenset() properties={}>, 'g': <Node id=227 labels=frozenset() properties={}>}\n",
      "142 {'u': <Node id=236 labels=frozenset() properties={}>, 'g': <Node id=227 labels=frozenset() properties={}>}\n",
      "143 {'u': <Node id=221 labels=frozenset() properties={}>, 'g': <Node id=227 labels=frozenset() properties={}>}\n",
      "144 {'u': <Node id=234 labels=frozenset() properties={}>, 'g': <Node id=227 labels=frozenset() properties={}>}\n",
      "145 {'u': <Node id=224 labels=frozenset() properties={}>, 'g': <Node id=227 labels=frozenset() properties={}>}\n",
      "146 {'u': <Node id=243 labels=frozenset() properties={}>, 'g': <Node id=227 labels=frozenset() properties={}>}\n",
      "147 {'u': <Node id=232 labels=frozenset() properties={}>, 'g': <Node id=227 labels=frozenset() properties={}>}\n",
      "148 {'u': <Node id=215 labels=frozenset() properties={}>, 'g': <Node id=227 labels=frozenset() properties={}>}\n",
      "149 {'u': <Node id=213 labels=frozenset() properties={}>, 'g': <Node id=227 labels=frozenset() properties={}>}\n",
      "150 {'u': <Node id=222 labels=frozenset() properties={}>, 'g': <Node id=227 labels=frozenset() properties={}>}\n",
      "151 {'u': <Node id=219 labels=frozenset() properties={}>, 'g': <Node id=227 labels=frozenset() properties={}>}\n",
      "152 {'u': <Node id=194 labels=frozenset() properties={}>, 'g': <Node id=227 labels=frozenset() properties={}>}\n",
      "153 {'u': <Node id=212 labels=frozenset() properties={}>, 'g': <Node id=227 labels=frozenset() properties={}>}\n",
      "154 {'u': <Node id=240 labels=frozenset() properties={}>, 'g': <Node id=227 labels=frozenset() properties={}>}\n",
      "155 {'u': <Node id=230 labels=frozenset() properties={}>, 'g': <Node id=227 labels=frozenset() properties={}>}\n",
      "156 {'u': <Node id=226 labels=frozenset() properties={}>, 'g': <Node id=227 labels=frozenset() properties={}>}\n",
      "157 {'u': <Node id=217 labels=frozenset() properties={}>, 'g': <Node id=227 labels=frozenset() properties={}>}\n",
      "158 {'u': <Node id=179 labels=frozenset() properties={}>, 'g': <Node id=227 labels=frozenset() properties={}>}\n",
      "159 {'u': <Node id=213 labels=frozenset() properties={}>, 'g': <Node id=229 labels=frozenset() properties={}>}\n",
      "160 {'u': <Node id=194 labels=frozenset() properties={}>, 'g': <Node id=229 labels=frozenset() properties={}>}\n",
      "161 {'u': <Node id=222 labels=frozenset() properties={}>, 'g': <Node id=229 labels=frozenset() properties={}>}\n",
      "162 {'u': <Node id=230 labels=frozenset() properties={}>, 'g': <Node id=229 labels=frozenset() properties={}>}\n",
      "163 {'u': <Node id=193 labels=frozenset() properties={}>, 'g': <Node id=229 labels=frozenset() properties={}>}\n",
      "164 {'u': <Node id=212 labels=frozenset() properties={}>, 'g': <Node id=229 labels=frozenset() properties={}>}\n",
      "165 {'u': <Node id=228 labels=frozenset() properties={}>, 'g': <Node id=229 labels=frozenset() properties={}>}\n",
      "166 {'u': <Node id=179 labels=frozenset() properties={}>, 'g': <Node id=229 labels=frozenset() properties={}>}\n",
      "167 {'u': <Node id=232 labels=frozenset() properties={}>, 'g': <Node id=229 labels=frozenset() properties={}>}\n",
      "168 {'u': <Node id=236 labels=frozenset() properties={}>, 'g': <Node id=229 labels=frozenset() properties={}>}\n",
      "169 {'u': <Node id=240 labels=frozenset() properties={}>, 'g': <Node id=229 labels=frozenset() properties={}>}\n",
      "170 {'u': <Node id=234 labels=frozenset() properties={}>, 'g': <Node id=229 labels=frozenset() properties={}>}\n",
      "171 {'u': <Node id=217 labels=frozenset() properties={}>, 'g': <Node id=229 labels=frozenset() properties={}>}\n",
      "172 {'u': <Node id=226 labels=frozenset() properties={}>, 'g': <Node id=229 labels=frozenset() properties={}>}\n",
      "173 {'u': <Node id=219 labels=frozenset() properties={}>, 'g': <Node id=229 labels=frozenset() properties={}>}\n",
      "174 {'u': <Node id=238 labels=frozenset() properties={}>, 'g': <Node id=229 labels=frozenset() properties={}>}\n",
      "175 {'u': <Node id=243 labels=frozenset() properties={}>, 'g': <Node id=229 labels=frozenset() properties={}>}\n",
      "176 {'u': <Node id=221 labels=frozenset() properties={}>, 'g': <Node id=229 labels=frozenset() properties={}>}\n",
      "177 {'u': <Node id=224 labels=frozenset() properties={}>, 'g': <Node id=229 labels=frozenset() properties={}>}\n",
      "178 {'u': <Node id=215 labels=frozenset() properties={}>, 'g': <Node id=229 labels=frozenset() properties={}>}\n",
      "179 {'u': <Node id=219 labels=frozenset() properties={}>, 'g': <Node id=231 labels=frozenset() properties={}>}\n",
      "180 {'u': <Node id=230 labels=frozenset() properties={}>, 'g': <Node id=231 labels=frozenset() properties={}>}\n",
      "181 {'u': <Node id=240 labels=frozenset() properties={}>, 'g': <Node id=231 labels=frozenset() properties={}>}\n",
      "182 {'u': <Node id=222 labels=frozenset() properties={}>, 'g': <Node id=231 labels=frozenset() properties={}>}\n",
      "183 {'u': <Node id=232 labels=frozenset() properties={}>, 'g': <Node id=231 labels=frozenset() properties={}>}\n",
      "184 {'u': <Node id=179 labels=frozenset() properties={}>, 'g': <Node id=231 labels=frozenset() properties={}>}\n",
      "185 {'u': <Node id=243 labels=frozenset() properties={}>, 'g': <Node id=231 labels=frozenset() properties={}>}\n",
      "186 {'u': <Node id=215 labels=frozenset() properties={}>, 'g': <Node id=231 labels=frozenset() properties={}>}\n",
      "187 {'u': <Node id=194 labels=frozenset() properties={}>, 'g': <Node id=231 labels=frozenset() properties={}>}\n",
      "188 {'u': <Node id=212 labels=frozenset() properties={}>, 'g': <Node id=231 labels=frozenset() properties={}>}\n",
      "189 {'u': <Node id=228 labels=frozenset() properties={}>, 'g': <Node id=231 labels=frozenset() properties={}>}\n",
      "190 {'u': <Node id=224 labels=frozenset() properties={}>, 'g': <Node id=231 labels=frozenset() properties={}>}\n",
      "191 {'u': <Node id=193 labels=frozenset() properties={}>, 'g': <Node id=231 labels=frozenset() properties={}>}\n",
      "192 {'u': <Node id=238 labels=frozenset() properties={}>, 'g': <Node id=231 labels=frozenset() properties={}>}\n",
      "193 {'u': <Node id=213 labels=frozenset() properties={}>, 'g': <Node id=231 labels=frozenset() properties={}>}\n",
      "194 {'u': <Node id=226 labels=frozenset() properties={}>, 'g': <Node id=231 labels=frozenset() properties={}>}\n",
      "195 {'u': <Node id=236 labels=frozenset() properties={}>, 'g': <Node id=231 labels=frozenset() properties={}>}\n",
      "196 {'u': <Node id=217 labels=frozenset() properties={}>, 'g': <Node id=231 labels=frozenset() properties={}>}\n",
      "197 {'u': <Node id=234 labels=frozenset() properties={}>, 'g': <Node id=231 labels=frozenset() properties={}>}\n",
      "198 {'u': <Node id=221 labels=frozenset() properties={}>, 'g': <Node id=231 labels=frozenset() properties={}>}\n",
      "199 {'u': <Node id=212 labels=frozenset() properties={}>, 'g': <Node id=233 labels=frozenset() properties={}>}\n",
      "200 {'u': <Node id=234 labels=frozenset() properties={}>, 'g': <Node id=233 labels=frozenset() properties={}>}\n",
      "201 {'u': <Node id=213 labels=frozenset() properties={}>, 'g': <Node id=233 labels=frozenset() properties={}>}\n",
      "202 {'u': <Node id=217 labels=frozenset() properties={}>, 'g': <Node id=233 labels=frozenset() properties={}>}\n",
      "203 {'u': <Node id=240 labels=frozenset() properties={}>, 'g': <Node id=233 labels=frozenset() properties={}>}\n",
      "204 {'u': <Node id=193 labels=frozenset() properties={}>, 'g': <Node id=233 labels=frozenset() properties={}>}\n",
      "205 {'u': <Node id=226 labels=frozenset() properties={}>, 'g': <Node id=233 labels=frozenset() properties={}>}\n",
      "206 {'u': <Node id=179 labels=frozenset() properties={}>, 'g': <Node id=233 labels=frozenset() properties={}>}\n",
      "207 {'u': <Node id=219 labels=frozenset() properties={}>, 'g': <Node id=233 labels=frozenset() properties={}>}\n",
      "208 {'u': <Node id=230 labels=frozenset() properties={}>, 'g': <Node id=233 labels=frozenset() properties={}>}\n",
      "209 {'u': <Node id=236 labels=frozenset() properties={}>, 'g': <Node id=233 labels=frozenset() properties={}>}\n",
      "210 {'u': <Node id=215 labels=frozenset() properties={}>, 'g': <Node id=233 labels=frozenset() properties={}>}\n",
      "211 {'u': <Node id=221 labels=frozenset() properties={}>, 'g': <Node id=233 labels=frozenset() properties={}>}\n",
      "212 {'u': <Node id=228 labels=frozenset() properties={}>, 'g': <Node id=233 labels=frozenset() properties={}>}\n",
      "213 {'u': <Node id=243 labels=frozenset() properties={}>, 'g': <Node id=233 labels=frozenset() properties={}>}\n",
      "214 {'u': <Node id=238 labels=frozenset() properties={}>, 'g': <Node id=233 labels=frozenset() properties={}>}\n",
      "215 {'u': <Node id=232 labels=frozenset() properties={}>, 'g': <Node id=233 labels=frozenset() properties={}>}\n",
      "216 {'u': <Node id=224 labels=frozenset() properties={}>, 'g': <Node id=233 labels=frozenset() properties={}>}\n",
      "217 {'u': <Node id=222 labels=frozenset() properties={}>, 'g': <Node id=233 labels=frozenset() properties={}>}\n",
      "218 {'u': <Node id=194 labels=frozenset() properties={}>, 'g': <Node id=233 labels=frozenset() properties={}>}\n",
      "219 {'u': <Node id=238 labels=frozenset() properties={}>, 'g': <Node id=235 labels=frozenset() properties={}>}\n",
      "220 {'u': <Node id=217 labels=frozenset() properties={}>, 'g': <Node id=235 labels=frozenset() properties={}>}\n",
      "221 {'u': <Node id=219 labels=frozenset() properties={}>, 'g': <Node id=235 labels=frozenset() properties={}>}\n",
      "222 {'u': <Node id=221 labels=frozenset() properties={}>, 'g': <Node id=235 labels=frozenset() properties={}>}\n",
      "223 {'u': <Node id=224 labels=frozenset() properties={}>, 'g': <Node id=235 labels=frozenset() properties={}>}\n",
      "224 {'u': <Node id=243 labels=frozenset() properties={}>, 'g': <Node id=235 labels=frozenset() properties={}>}\n",
      "225 {'u': <Node id=213 labels=frozenset() properties={}>, 'g': <Node id=235 labels=frozenset() properties={}>}\n",
      "226 {'u': <Node id=194 labels=frozenset() properties={}>, 'g': <Node id=235 labels=frozenset() properties={}>}\n",
      "227 {'u': <Node id=193 labels=frozenset() properties={}>, 'g': <Node id=235 labels=frozenset() properties={}>}\n",
      "228 {'u': <Node id=215 labels=frozenset() properties={}>, 'g': <Node id=235 labels=frozenset() properties={}>}\n",
      "229 {'u': <Node id=236 labels=frozenset() properties={}>, 'g': <Node id=235 labels=frozenset() properties={}>}\n",
      "230 {'u': <Node id=228 labels=frozenset() properties={}>, 'g': <Node id=235 labels=frozenset() properties={}>}\n",
      "231 {'u': <Node id=240 labels=frozenset() properties={}>, 'g': <Node id=235 labels=frozenset() properties={}>}\n",
      "232 {'u': <Node id=179 labels=frozenset() properties={}>, 'g': <Node id=235 labels=frozenset() properties={}>}\n",
      "233 {'u': <Node id=230 labels=frozenset() properties={}>, 'g': <Node id=235 labels=frozenset() properties={}>}\n",
      "234 {'u': <Node id=222 labels=frozenset() properties={}>, 'g': <Node id=235 labels=frozenset() properties={}>}\n",
      "235 {'u': <Node id=234 labels=frozenset() properties={}>, 'g': <Node id=235 labels=frozenset() properties={}>}\n",
      "236 {'u': <Node id=226 labels=frozenset() properties={}>, 'g': <Node id=235 labels=frozenset() properties={}>}\n",
      "237 {'u': <Node id=232 labels=frozenset() properties={}>, 'g': <Node id=235 labels=frozenset() properties={}>}\n",
      "238 {'u': <Node id=212 labels=frozenset() properties={}>, 'g': <Node id=235 labels=frozenset() properties={}>}\n",
      "239 {'u': <Node id=221 labels=frozenset() properties={}>, 'g': <Node id=237 labels=frozenset() properties={}>}\n",
      "240 {'u': <Node id=213 labels=frozenset() properties={}>, 'g': <Node id=237 labels=frozenset() properties={}>}\n",
      "241 {'u': <Node id=212 labels=frozenset() properties={}>, 'g': <Node id=237 labels=frozenset() properties={}>}\n",
      "242 {'u': <Node id=224 labels=frozenset() properties={}>, 'g': <Node id=237 labels=frozenset() properties={}>}\n",
      "243 {'u': <Node id=232 labels=frozenset() properties={}>, 'g': <Node id=237 labels=frozenset() properties={}>}\n",
      "244 {'u': <Node id=236 labels=frozenset() properties={}>, 'g': <Node id=237 labels=frozenset() properties={}>}\n",
      "245 {'u': <Node id=215 labels=frozenset() properties={}>, 'g': <Node id=237 labels=frozenset() properties={}>}\n",
      "246 {'u': <Node id=230 labels=frozenset() properties={}>, 'g': <Node id=237 labels=frozenset() properties={}>}\n",
      "247 {'u': <Node id=193 labels=frozenset() properties={}>, 'g': <Node id=237 labels=frozenset() properties={}>}\n",
      "248 {'u': <Node id=194 labels=frozenset() properties={}>, 'g': <Node id=237 labels=frozenset() properties={}>}\n",
      "249 {'u': <Node id=238 labels=frozenset() properties={}>, 'g': <Node id=237 labels=frozenset() properties={}>}\n",
      "250 {'u': <Node id=234 labels=frozenset() properties={}>, 'g': <Node id=237 labels=frozenset() properties={}>}\n",
      "251 {'u': <Node id=217 labels=frozenset() properties={}>, 'g': <Node id=237 labels=frozenset() properties={}>}\n",
      "252 {'u': <Node id=226 labels=frozenset() properties={}>, 'g': <Node id=237 labels=frozenset() properties={}>}\n",
      "253 {'u': <Node id=243 labels=frozenset() properties={}>, 'g': <Node id=237 labels=frozenset() properties={}>}\n",
      "254 {'u': <Node id=228 labels=frozenset() properties={}>, 'g': <Node id=237 labels=frozenset() properties={}>}\n",
      "255 {'u': <Node id=222 labels=frozenset() properties={}>, 'g': <Node id=237 labels=frozenset() properties={}>}\n",
      "256 {'u': <Node id=219 labels=frozenset() properties={}>, 'g': <Node id=237 labels=frozenset() properties={}>}\n",
      "257 {'u': <Node id=240 labels=frozenset() properties={}>, 'g': <Node id=237 labels=frozenset() properties={}>}\n",
      "258 {'u': <Node id=179 labels=frozenset() properties={}>, 'g': <Node id=237 labels=frozenset() properties={}>}\n",
      "259 {'u': <Node id=212 labels=frozenset() properties={}>, 'g': <Node id=239 labels=frozenset() properties={}>}\n",
      "260 {'u': <Node id=240 labels=frozenset() properties={}>, 'g': <Node id=239 labels=frozenset() properties={}>}\n",
      "261 {'u': <Node id=226 labels=frozenset() properties={}>, 'g': <Node id=239 labels=frozenset() properties={}>}\n",
      "262 {'u': <Node id=232 labels=frozenset() properties={}>, 'g': <Node id=239 labels=frozenset() properties={}>}\n",
      "263 {'u': <Node id=228 labels=frozenset() properties={}>, 'g': <Node id=239 labels=frozenset() properties={}>}\n",
      "264 {'u': <Node id=179 labels=frozenset() properties={}>, 'g': <Node id=239 labels=frozenset() properties={}>}\n",
      "265 {'u': <Node id=230 labels=frozenset() properties={}>, 'g': <Node id=239 labels=frozenset() properties={}>}\n",
      "266 {'u': <Node id=217 labels=frozenset() properties={}>, 'g': <Node id=239 labels=frozenset() properties={}>}\n",
      "267 {'u': <Node id=224 labels=frozenset() properties={}>, 'g': <Node id=239 labels=frozenset() properties={}>}\n",
      "268 {'u': <Node id=234 labels=frozenset() properties={}>, 'g': <Node id=239 labels=frozenset() properties={}>}\n",
      "269 {'u': <Node id=219 labels=frozenset() properties={}>, 'g': <Node id=239 labels=frozenset() properties={}>}\n",
      "270 {'u': <Node id=222 labels=frozenset() properties={}>, 'g': <Node id=239 labels=frozenset() properties={}>}\n",
      "271 {'u': <Node id=243 labels=frozenset() properties={}>, 'g': <Node id=239 labels=frozenset() properties={}>}\n",
      "272 {'u': <Node id=194 labels=frozenset() properties={}>, 'g': <Node id=239 labels=frozenset() properties={}>}\n",
      "273 {'u': <Node id=215 labels=frozenset() properties={}>, 'g': <Node id=239 labels=frozenset() properties={}>}\n",
      "274 {'u': <Node id=193 labels=frozenset() properties={}>, 'g': <Node id=239 labels=frozenset() properties={}>}\n",
      "275 {'u': <Node id=213 labels=frozenset() properties={}>, 'g': <Node id=239 labels=frozenset() properties={}>}\n",
      "276 {'u': <Node id=236 labels=frozenset() properties={}>, 'g': <Node id=239 labels=frozenset() properties={}>}\n",
      "277 {'u': <Node id=238 labels=frozenset() properties={}>, 'g': <Node id=239 labels=frozenset() properties={}>}\n",
      "278 {'u': <Node id=221 labels=frozenset() properties={}>, 'g': <Node id=239 labels=frozenset() properties={}>}\n",
      "279 {'u': <Node id=238 labels=frozenset() properties={}>, 'g': <Node id=239 labels=frozenset() properties={}>}\n",
      "280 {'u': <Node id=224 labels=frozenset() properties={}>, 'g': <Node id=241 labels=frozenset() properties={}>}\n",
      "281 {'u': <Node id=213 labels=frozenset() properties={}>, 'g': <Node id=241 labels=frozenset() properties={}>}\n",
      "282 {'u': <Node id=179 labels=frozenset() properties={}>, 'g': <Node id=241 labels=frozenset() properties={}>}\n",
      "283 {'u': <Node id=219 labels=frozenset() properties={}>, 'g': <Node id=241 labels=frozenset() properties={}>}\n",
      "284 {'u': <Node id=221 labels=frozenset() properties={}>, 'g': <Node id=241 labels=frozenset() properties={}>}\n",
      "285 {'u': <Node id=230 labels=frozenset() properties={}>, 'g': <Node id=241 labels=frozenset() properties={}>}\n",
      "286 {'u': <Node id=228 labels=frozenset() properties={}>, 'g': <Node id=241 labels=frozenset() properties={}>}\n",
      "287 {'u': <Node id=222 labels=frozenset() properties={}>, 'g': <Node id=241 labels=frozenset() properties={}>}\n",
      "288 {'u': <Node id=243 labels=frozenset() properties={}>, 'g': <Node id=241 labels=frozenset() properties={}>}\n",
      "289 {'u': <Node id=240 labels=frozenset() properties={}>, 'g': <Node id=241 labels=frozenset() properties={}>}\n",
      "290 {'u': <Node id=215 labels=frozenset() properties={}>, 'g': <Node id=241 labels=frozenset() properties={}>}\n",
      "291 {'u': <Node id=194 labels=frozenset() properties={}>, 'g': <Node id=241 labels=frozenset() properties={}>}\n",
      "292 {'u': <Node id=236 labels=frozenset() properties={}>, 'g': <Node id=241 labels=frozenset() properties={}>}\n",
      "293 {'u': <Node id=212 labels=frozenset() properties={}>, 'g': <Node id=241 labels=frozenset() properties={}>}\n",
      "294 {'u': <Node id=226 labels=frozenset() properties={}>, 'g': <Node id=241 labels=frozenset() properties={}>}\n",
      "295 {'u': <Node id=217 labels=frozenset() properties={}>, 'g': <Node id=241 labels=frozenset() properties={}>}\n",
      "296 {'u': <Node id=193 labels=frozenset() properties={}>, 'g': <Node id=241 labels=frozenset() properties={}>}\n",
      "297 {'u': <Node id=234 labels=frozenset() properties={}>, 'g': <Node id=241 labels=frozenset() properties={}>}\n",
      "298 {'u': <Node id=238 labels=frozenset() properties={}>, 'g': <Node id=241 labels=frozenset() properties={}>}\n",
      "299 {'u': <Node id=232 labels=frozenset() properties={}>, 'g': <Node id=241 labels=frozenset() properties={}>}\n",
      "300 {'u': <Node id=240 labels=frozenset() properties={}>, 'g': <Node id=241 labels=frozenset() properties={}>}\n",
      "301 {'u': <Node id=219 labels=frozenset() properties={}>, 'g': <Node id=244 labels=frozenset() properties={}>}\n",
      "302 {'u': <Node id=236 labels=frozenset() properties={}>, 'g': <Node id=244 labels=frozenset() properties={}>}\n",
      "303 {'u': <Node id=221 labels=frozenset() properties={}>, 'g': <Node id=244 labels=frozenset() properties={}>}\n",
      "304 {'u': <Node id=217 labels=frozenset() properties={}>, 'g': <Node id=244 labels=frozenset() properties={}>}\n",
      "305 {'u': <Node id=213 labels=frozenset() properties={}>, 'g': <Node id=244 labels=frozenset() properties={}>}\n",
      "306 {'u': <Node id=193 labels=frozenset() properties={}>, 'g': <Node id=244 labels=frozenset() properties={}>}\n",
      "307 {'u': <Node id=228 labels=frozenset() properties={}>, 'g': <Node id=244 labels=frozenset() properties={}>}\n",
      "308 {'u': <Node id=194 labels=frozenset() properties={}>, 'g': <Node id=244 labels=frozenset() properties={}>}\n",
      "309 {'u': <Node id=234 labels=frozenset() properties={}>, 'g': <Node id=244 labels=frozenset() properties={}>}\n",
      "310 {'u': <Node id=240 labels=frozenset() properties={}>, 'g': <Node id=244 labels=frozenset() properties={}>}\n",
      "311 {'u': <Node id=224 labels=frozenset() properties={}>, 'g': <Node id=244 labels=frozenset() properties={}>}\n",
      "312 {'u': <Node id=226 labels=frozenset() properties={}>, 'g': <Node id=244 labels=frozenset() properties={}>}\n",
      "313 {'u': <Node id=215 labels=frozenset() properties={}>, 'g': <Node id=244 labels=frozenset() properties={}>}\n",
      "314 {'u': <Node id=238 labels=frozenset() properties={}>, 'g': <Node id=244 labels=frozenset() properties={}>}\n",
      "315 {'u': <Node id=232 labels=frozenset() properties={}>, 'g': <Node id=244 labels=frozenset() properties={}>}\n",
      "316 {'u': <Node id=222 labels=frozenset() properties={}>, 'g': <Node id=244 labels=frozenset() properties={}>}\n",
      "317 {'u': <Node id=230 labels=frozenset() properties={}>, 'g': <Node id=244 labels=frozenset() properties={}>}\n",
      "318 {'u': <Node id=179 labels=frozenset() properties={}>, 'g': <Node id=244 labels=frozenset() properties={}>}\n",
      "319 {'u': <Node id=212 labels=frozenset() properties={}>, 'g': <Node id=244 labels=frozenset() properties={}>}\n",
      "320 {'u': <Node id=243 labels=frozenset() properties={}>, 'g': <Node id=244 labels=frozenset() properties={}>}\n"
     ]
    }
   ],
   "source": [
    "def _read_membership(tx):\n",
    "    # To learn more about the Cypher syntax, see https://neo4j.com/docs/cypher-manual/current/\n",
    "    # The Reference Card is also a good resource for keywords https://neo4j.com/docs/cypher-refcard/current/\n",
    "    query = (\"\"\"\n",
    "        MATCH (u:User)-[k:IS_MEMBER ]->(g:Group)\n",
    "        RETURN k\n",
    "    \"\"\") # dotaz\n",
    "    \n",
    "    result = tx.run(query)\n",
    "    \n",
    "    # print(result)\n",
    "    #return [{'u': row[\"k\"].nodes[0]['properties'], 'g': row[\"k\"].nodes[1]['properties']}\n",
    "    return [{'u': row[\"k\"].start_node, 'g': row[\"k\"].end_node}\n",
    "            for row in result] # python comphrehesion pro mapování výsledku do požadované struktury\n",
    "\n",
    "session = sessionmaker()\n",
    "result = session.read_transaction(_read_membership)\n",
    "for index, row in enumerate(result):\n",
    "    print(index, row)"
   ]
  },
  {
   "cell_type": "code",
   "execution_count": 73,
   "id": "2e8bc523-c1f2-469f-8294-4bcb7b64be6b",
   "metadata": {},
   "outputs": [
    {
     "name": "stdout",
     "output_type": "stream",
     "text": [
      "0 {'u': {'surname': 'White', 'name': 'Richard'}, 'g': {'name': 'FVT'}}\n",
      "1 {'u': {'name': 'Richard', 'id': '1aa3cb4c-7b34-4c1a-b8f8-ae9810c532d5'}, 'g': {'name': 'FVT'}}\n",
      "2 {'u': {'name': 'Richard', 'id': '96902282-4c7b-4796-9815-b456e54fb0e8'}, 'g': {'name': 'FVT'}}\n",
      "3 {'u': {'surname': 'White', 'name': 'Richard'}, 'g': {'name': 'FVT'}}\n",
      "4 {'u': {'name': 'Richard', 'id': '83b17b4d-02ab-4077-aeae-14abd8e8a6ed'}, 'g': {'name': 'FVT'}}\n",
      "5 {'u': {'surname': 'White', 'name': 'Richard', 'id': '3067a2bd-dda7-468e-b111-00aeffb491aa'}, 'g': {'name': 'FVT'}}\n",
      "6 {'u': {'name': 'Richard', 'id': '380c5701-ec46-466b-bbc5-8cee3ef38c03'}, 'g': {'name': 'FVT'}}\n",
      "7 {'u': {'name': 'Richard', 'id': '1a09a49c-3624-47ee-8ce2-24bf73ba9058'}, 'g': {'name': 'FVT'}}\n",
      "8 {'u': {'surname': 'White', 'name': 'Richard'}, 'g': {'name': 'FVT'}}\n",
      "9 {'u': {'surname': 'White', 'name': 'Richard'}, 'g': {'name': 'FVT'}}\n",
      "10 {'u': {'name': 'Richard', 'id': '310b164b-d551-4fd6-aead-800da4afde54'}, 'g': {'name': 'FVT'}}\n",
      "11 {'u': {'name': 'Richard', 'id': 'bb8d2143-1275-4f6f-adf5-e1638a3a50c5'}, 'g': {'name': 'FVT'}}\n",
      "12 {'u': {'surname': 'White', 'name': 'Richard', 'id': 'c2159cd1-e07c-484d-ba39-8dae044a3de9'}, 'g': {'name': 'FVT'}}\n",
      "13 {'u': {'surname': 'White', 'name': 'Richard', 'id': '4f6a2ad6-b549-465a-8d0a-867da92db703'}, 'g': {'name': 'FVT'}}\n",
      "14 {'u': {'name': 'Richard', 'id': 'e5043682-7fa5-4863-9214-0fcec03a20ef'}, 'g': {'name': 'FVT'}}\n",
      "15 {'u': {'name': 'Richard'}, 'g': {'name': 'FVT'}}\n",
      "16 {'u': {'surname': 'White', 'name': 'Richard'}, 'g': {'name': 'FVT'}}\n",
      "17 {'u': {'surname': 'White', 'name': 'Richard'}, 'g': {'name': 'FVT'}}\n",
      "18 {'u': {'name': 'Richard', 'id': '696b9559-4739-4249-82e2-9067a88e7384'}, 'g': {'name': 'FVT'}}\n",
      "19 {'u': {'name': 'Richard', 'id': '0d3f9d77-9c46-46fc-8511-d15dcf3c35a5'}, 'g': {'name': 'FVT'}}\n",
      "20 {'u': {'surname': 'White', 'name': 'Richard'}, 'g': {'name': 'FVT'}}\n",
      "21 {'u': {'surname': 'White', 'name': 'Richard'}, 'g': {'name': 'FVT'}}\n",
      "22 {'u': {'surname': 'White', 'name': 'Richard'}, 'g': {'name': 'FVT'}}\n",
      "23 {'u': {'surname': 'White', 'name': 'Richard'}, 'g': {'name': 'FVT'}}\n",
      "24 {'u': {'surname': 'White', 'name': 'Richard'}, 'g': {'name': 'FVT'}}\n",
      "25 {'u': {'surname': 'White', 'name': 'Richard'}, 'g': {'name': 'FVT'}}\n",
      "26 {'u': {'surname': 'White', 'name': 'Richard'}, 'g': {'name': 'FVT'}}\n",
      "27 {'u': {'surname': 'White', 'name': 'Richard'}, 'g': {'name': 'FVT'}}\n",
      "28 {'u': {'name': 'Richard', 'id': 'bb8d2143-1275-4f6f-adf5-e1638a3a50c5'}, 'g': {'name': 'FVT'}}\n",
      "29 {'u': {'name': 'Richard', 'id': '1a09a49c-3624-47ee-8ce2-24bf73ba9058'}, 'g': {'name': 'FVT'}}\n",
      "30 {'u': {'name': 'Richard', 'id': '83b17b4d-02ab-4077-aeae-14abd8e8a6ed'}, 'g': {'name': 'FVT'}}\n",
      "31 {'u': {'name': 'Richard'}, 'g': {'name': 'FVT'}}\n",
      "32 {'u': {'name': 'Richard', 'id': '1aa3cb4c-7b34-4c1a-b8f8-ae9810c532d5'}, 'g': {'name': 'FVT'}}\n",
      "33 {'u': {'surname': 'White', 'name': 'Richard', 'id': '4f6a2ad6-b549-465a-8d0a-867da92db703'}, 'g': {'name': 'FVT'}}\n",
      "34 {'u': {'surname': 'White', 'name': 'Richard'}, 'g': {'name': 'FVT'}}\n",
      "35 {'u': {'surname': 'White', 'name': 'Richard', 'id': 'c2159cd1-e07c-484d-ba39-8dae044a3de9'}, 'g': {'name': 'FVT'}}\n",
      "36 {'u': {'name': 'Richard', 'id': '310b164b-d551-4fd6-aead-800da4afde54'}, 'g': {'name': 'FVT'}}\n",
      "37 {'u': {'surname': 'White', 'name': 'Richard'}, 'g': {'name': 'FVT'}}\n",
      "38 {'u': {'surname': 'White', 'name': 'Richard', 'id': '3067a2bd-dda7-468e-b111-00aeffb491aa'}, 'g': {'name': 'FVT'}}\n",
      "39 {'u': {'name': 'Richard', 'id': '96902282-4c7b-4796-9815-b456e54fb0e8'}, 'g': {'name': 'FVT'}}\n",
      "40 {'u': {'surname': 'White', 'name': 'Richard'}, 'g': {'name': 'FVT'}}\n",
      "41 {'u': {'name': 'Richard', 'id': '380c5701-ec46-466b-bbc5-8cee3ef38c03'}, 'g': {'name': 'FVT'}}\n",
      "42 {'u': {'name': 'Richard', 'id': 'e5043682-7fa5-4863-9214-0fcec03a20ef'}, 'g': {'name': 'FVT'}}\n",
      "43 {'u': {'name': 'Richard', 'id': '696b9559-4739-4249-82e2-9067a88e7384'}, 'g': {'name': 'FVT'}}\n",
      "44 {'u': {'name': 'Richard', 'id': '0d3f9d77-9c46-46fc-8511-d15dcf3c35a5'}, 'g': {'name': 'FVT'}}\n",
      "45 {'u': {'surname': 'White', 'name': 'Richard'}, 'g': {'name': 'FVT'}}\n",
      "46 {'u': {'surname': 'White', 'name': 'Richard'}, 'g': {'name': 'FVT'}}\n",
      "47 {'u': {'surname': 'White', 'name': 'Richard'}, 'g': {'name': 'FVT'}}\n",
      "48 {'u': {'surname': 'White', 'name': 'Richard'}, 'g': {'name': 'FVT'}}\n",
      "49 {'u': {'surname': 'White', 'name': 'Richard'}, 'g': {'name': 'FVT'}}\n",
      "50 {'u': {'surname': 'White', 'name': 'Richard'}, 'g': {'name': 'FVT'}}\n",
      "51 {'u': {'surname': 'White', 'name': 'Richard'}, 'g': {'name': 'FVT'}}\n",
      "52 {'u': {'surname': 'White', 'name': 'Richard'}, 'g': {'name': 'FVT'}}\n",
      "53 {'u': {'surname': 'White', 'name': 'Richard'}, 'g': {'name': 'FVT'}}\n",
      "54 {'u': {'name': 'Richard', 'id': '0d3f9d77-9c46-46fc-8511-d15dcf3c35a5'}, 'g': {'name': 'FVT'}}\n",
      "55 {'u': {'surname': 'White', 'name': 'Richard', 'id': '3067a2bd-dda7-468e-b111-00aeffb491aa'}, 'g': {'name': 'FVT'}}\n",
      "56 {'u': {'surname': 'White', 'name': 'Richard', 'id': '4f6a2ad6-b549-465a-8d0a-867da92db703'}, 'g': {'name': 'FVT'}}\n",
      "57 {'u': {'name': 'Richard', 'id': '696b9559-4739-4249-82e2-9067a88e7384'}, 'g': {'name': 'FVT'}}\n",
      "58 {'u': {'name': 'Richard', 'id': '96902282-4c7b-4796-9815-b456e54fb0e8'}, 'g': {'name': 'FVT'}}\n",
      "59 {'u': {'surname': 'White', 'name': 'Richard', 'id': 'c2159cd1-e07c-484d-ba39-8dae044a3de9'}, 'g': {'name': 'FVT'}}\n",
      "60 {'u': {'name': 'Richard', 'id': 'bb8d2143-1275-4f6f-adf5-e1638a3a50c5'}, 'g': {'name': 'FVT'}}\n",
      "61 {'u': {'surname': 'White', 'name': 'Richard'}, 'g': {'name': 'FVT'}}\n",
      "62 {'u': {'name': 'Richard', 'id': '83b17b4d-02ab-4077-aeae-14abd8e8a6ed'}, 'g': {'name': 'FVT'}}\n",
      "63 {'u': {'surname': 'White', 'name': 'Richard'}, 'g': {'name': 'FVT'}}\n",
      "64 {'u': {'surname': 'White', 'name': 'Richard'}, 'g': {'name': 'FVT'}}\n",
      "65 {'u': {'name': 'Richard', 'id': '1a09a49c-3624-47ee-8ce2-24bf73ba9058'}, 'g': {'name': 'FVT'}}\n",
      "66 {'u': {'surname': 'White', 'name': 'Richard'}, 'g': {'name': 'FVT'}}\n",
      "67 {'u': {'name': 'Richard', 'id': '380c5701-ec46-466b-bbc5-8cee3ef38c03'}, 'g': {'name': 'FVT'}}\n",
      "68 {'u': {'name': 'Richard', 'id': 'e5043682-7fa5-4863-9214-0fcec03a20ef'}, 'g': {'name': 'FVT'}}\n",
      "69 {'u': {'name': 'Richard', 'id': '1aa3cb4c-7b34-4c1a-b8f8-ae9810c532d5'}, 'g': {'name': 'FVT'}}\n",
      "70 {'u': {'name': 'Richard', 'id': '310b164b-d551-4fd6-aead-800da4afde54'}, 'g': {'name': 'FVT'}}\n",
      "71 {'u': {'name': 'Richard'}, 'g': {'name': 'FVT'}}\n",
      "72 {'u': {'surname': 'White', 'name': 'Richard'}, 'g': {'name': 'FVT'}}\n",
      "73 {'u': {'surname': 'White', 'name': 'Richard'}, 'g': {'name': 'FVT'}}\n",
      "74 {'u': {'surname': 'White', 'name': 'Richard'}, 'g': {'name': 'FVT'}}\n",
      "75 {'u': {'surname': 'White', 'name': 'Richard'}, 'g': {'name': 'FVT'}}\n",
      "76 {'u': {'surname': 'White', 'name': 'Richard'}, 'g': {'name': 'FVT'}}\n",
      "77 {'u': {'surname': 'White', 'name': 'Richard'}, 'g': {'name': 'FVT'}}\n",
      "78 {'u': {'surname': 'White', 'name': 'Richard'}, 'g': {'name': 'FVT'}}\n",
      "79 {'u': {'surname': 'White', 'name': 'Richard'}, 'g': {'name': 'FVT', 'id': '9d8162b2-ee53-4cb0-ac40-2a32d57b1ff2'}}\n",
      "80 {'u': {'name': 'Richard', 'id': 'e5043682-7fa5-4863-9214-0fcec03a20ef'}, 'g': {'name': 'FVT', 'id': '9d8162b2-ee53-4cb0-ac40-2a32d57b1ff2'}}\n",
      "81 {'u': {'surname': 'White', 'name': 'Richard'}, 'g': {'name': 'FVT', 'id': '9d8162b2-ee53-4cb0-ac40-2a32d57b1ff2'}}\n",
      "82 {'u': {'name': 'Richard', 'id': '96902282-4c7b-4796-9815-b456e54fb0e8'}, 'g': {'name': 'FVT', 'id': '9d8162b2-ee53-4cb0-ac40-2a32d57b1ff2'}}\n",
      "83 {'u': {'surname': 'White', 'name': 'Richard'}, 'g': {'name': 'FVT', 'id': '9d8162b2-ee53-4cb0-ac40-2a32d57b1ff2'}}\n",
      "84 {'u': {'name': 'Richard', 'id': '310b164b-d551-4fd6-aead-800da4afde54'}, 'g': {'name': 'FVT', 'id': '9d8162b2-ee53-4cb0-ac40-2a32d57b1ff2'}}\n",
      "85 {'u': {'name': 'Richard', 'id': '380c5701-ec46-466b-bbc5-8cee3ef38c03'}, 'g': {'name': 'FVT', 'id': '9d8162b2-ee53-4cb0-ac40-2a32d57b1ff2'}}\n",
      "86 {'u': {'surname': 'White', 'name': 'Richard'}, 'g': {'name': 'FVT', 'id': '9d8162b2-ee53-4cb0-ac40-2a32d57b1ff2'}}\n",
      "87 {'u': {'name': 'Richard', 'id': '1aa3cb4c-7b34-4c1a-b8f8-ae9810c532d5'}, 'g': {'name': 'FVT', 'id': '9d8162b2-ee53-4cb0-ac40-2a32d57b1ff2'}}\n",
      "88 {'u': {'name': 'Richard', 'id': '0d3f9d77-9c46-46fc-8511-d15dcf3c35a5'}, 'g': {'name': 'FVT', 'id': '9d8162b2-ee53-4cb0-ac40-2a32d57b1ff2'}}\n",
      "89 {'u': {'surname': 'White', 'name': 'Richard', 'id': '4f6a2ad6-b549-465a-8d0a-867da92db703'}, 'g': {'name': 'FVT', 'id': '9d8162b2-ee53-4cb0-ac40-2a32d57b1ff2'}}\n",
      "90 {'u': {'name': 'Richard'}, 'g': {'name': 'FVT', 'id': '9d8162b2-ee53-4cb0-ac40-2a32d57b1ff2'}}\n",
      "91 {'u': {'surname': 'White', 'name': 'Richard', 'id': 'c2159cd1-e07c-484d-ba39-8dae044a3de9'}, 'g': {'name': 'FVT', 'id': '9d8162b2-ee53-4cb0-ac40-2a32d57b1ff2'}}\n",
      "92 {'u': {'surname': 'White', 'name': 'Richard'}, 'g': {'name': 'FVT', 'id': '9d8162b2-ee53-4cb0-ac40-2a32d57b1ff2'}}\n",
      "93 {'u': {'surname': 'White', 'name': 'Richard'}, 'g': {'name': 'FVT', 'id': '9d8162b2-ee53-4cb0-ac40-2a32d57b1ff2'}}\n",
      "94 {'u': {'name': 'Richard', 'id': '1a09a49c-3624-47ee-8ce2-24bf73ba9058'}, 'g': {'name': 'FVT', 'id': '9d8162b2-ee53-4cb0-ac40-2a32d57b1ff2'}}\n",
      "95 {'u': {'name': 'Richard', 'id': '696b9559-4739-4249-82e2-9067a88e7384'}, 'g': {'name': 'FVT', 'id': '9d8162b2-ee53-4cb0-ac40-2a32d57b1ff2'}}\n",
      "96 {'u': {'name': 'Richard', 'id': '83b17b4d-02ab-4077-aeae-14abd8e8a6ed'}, 'g': {'name': 'FVT', 'id': '9d8162b2-ee53-4cb0-ac40-2a32d57b1ff2'}}\n",
      "97 {'u': {'name': 'Richard', 'id': 'bb8d2143-1275-4f6f-adf5-e1638a3a50c5'}, 'g': {'name': 'FVT', 'id': '9d8162b2-ee53-4cb0-ac40-2a32d57b1ff2'}}\n",
      "98 {'u': {'surname': 'White', 'name': 'Richard', 'id': '3067a2bd-dda7-468e-b111-00aeffb491aa'}, 'g': {'name': 'FVT', 'id': '9d8162b2-ee53-4cb0-ac40-2a32d57b1ff2'}}\n",
      "99 {'u': {'surname': 'White', 'name': 'Richard', 'id': '4f6a2ad6-b549-465a-8d0a-867da92db703'}, 'g': {'name': 'FVT', 'id': 'a2886df1-ec3e-4a79-8dc9-b4b8122a0f03'}}\n",
      "100 {'u': {'name': 'Richard', 'id': 'e5043682-7fa5-4863-9214-0fcec03a20ef'}, 'g': {'name': 'FVT', 'id': 'a2886df1-ec3e-4a79-8dc9-b4b8122a0f03'}}\n",
      "101 {'u': {'surname': 'White', 'name': 'Richard'}, 'g': {'name': 'FVT', 'id': 'a2886df1-ec3e-4a79-8dc9-b4b8122a0f03'}}\n",
      "102 {'u': {'name': 'Richard', 'id': '380c5701-ec46-466b-bbc5-8cee3ef38c03'}, 'g': {'name': 'FVT', 'id': 'a2886df1-ec3e-4a79-8dc9-b4b8122a0f03'}}\n",
      "103 {'u': {'surname': 'White', 'name': 'Richard', 'id': 'c2159cd1-e07c-484d-ba39-8dae044a3de9'}, 'g': {'name': 'FVT', 'id': 'a2886df1-ec3e-4a79-8dc9-b4b8122a0f03'}}\n",
      "104 {'u': {'surname': 'White', 'name': 'Richard'}, 'g': {'name': 'FVT', 'id': 'a2886df1-ec3e-4a79-8dc9-b4b8122a0f03'}}\n",
      "105 {'u': {'name': 'Richard', 'id': '696b9559-4739-4249-82e2-9067a88e7384'}, 'g': {'name': 'FVT', 'id': 'a2886df1-ec3e-4a79-8dc9-b4b8122a0f03'}}\n",
      "106 {'u': {'name': 'Richard', 'id': '83b17b4d-02ab-4077-aeae-14abd8e8a6ed'}, 'g': {'name': 'FVT', 'id': 'a2886df1-ec3e-4a79-8dc9-b4b8122a0f03'}}\n",
      "107 {'u': {'name': 'Richard', 'id': '1a09a49c-3624-47ee-8ce2-24bf73ba9058'}, 'g': {'name': 'FVT', 'id': 'a2886df1-ec3e-4a79-8dc9-b4b8122a0f03'}}\n",
      "108 {'u': {'surname': 'White', 'name': 'Richard'}, 'g': {'name': 'FVT', 'id': 'a2886df1-ec3e-4a79-8dc9-b4b8122a0f03'}}\n",
      "109 {'u': {'name': 'Richard', 'id': '1aa3cb4c-7b34-4c1a-b8f8-ae9810c532d5'}, 'g': {'name': 'FVT', 'id': 'a2886df1-ec3e-4a79-8dc9-b4b8122a0f03'}}\n",
      "110 {'u': {'name': 'Richard', 'id': '310b164b-d551-4fd6-aead-800da4afde54'}, 'g': {'name': 'FVT', 'id': 'a2886df1-ec3e-4a79-8dc9-b4b8122a0f03'}}\n",
      "111 {'u': {'name': 'Richard', 'id': 'bb8d2143-1275-4f6f-adf5-e1638a3a50c5'}, 'g': {'name': 'FVT', 'id': 'a2886df1-ec3e-4a79-8dc9-b4b8122a0f03'}}\n",
      "112 {'u': {'surname': 'White', 'name': 'Richard'}, 'g': {'name': 'FVT', 'id': 'a2886df1-ec3e-4a79-8dc9-b4b8122a0f03'}}\n",
      "113 {'u': {'surname': 'White', 'name': 'Richard', 'id': '3067a2bd-dda7-468e-b111-00aeffb491aa'}, 'g': {'name': 'FVT', 'id': 'a2886df1-ec3e-4a79-8dc9-b4b8122a0f03'}}\n",
      "114 {'u': {'name': 'Richard', 'id': '96902282-4c7b-4796-9815-b456e54fb0e8'}, 'g': {'name': 'FVT', 'id': 'a2886df1-ec3e-4a79-8dc9-b4b8122a0f03'}}\n",
      "115 {'u': {'name': 'Richard', 'id': '0d3f9d77-9c46-46fc-8511-d15dcf3c35a5'}, 'g': {'name': 'FVT', 'id': 'a2886df1-ec3e-4a79-8dc9-b4b8122a0f03'}}\n",
      "116 {'u': {'surname': 'White', 'name': 'Richard'}, 'g': {'name': 'FVT', 'id': 'a2886df1-ec3e-4a79-8dc9-b4b8122a0f03'}}\n",
      "117 {'u': {'surname': 'White', 'name': 'Richard'}, 'g': {'name': 'FVT', 'id': 'a2886df1-ec3e-4a79-8dc9-b4b8122a0f03'}}\n",
      "118 {'u': {'name': 'Richard'}, 'g': {'name': 'FVT', 'id': 'a2886df1-ec3e-4a79-8dc9-b4b8122a0f03'}}\n",
      "119 {'u': {'name': 'Richard', 'id': '696b9559-4739-4249-82e2-9067a88e7384'}, 'g': {'name': 'FVT', 'id': '73795b85-780b-41f4-8cec-4a17e98e7a82'}}\n",
      "120 {'u': {'surname': 'White', 'name': 'Richard'}, 'g': {'name': 'FVT', 'id': '73795b85-780b-41f4-8cec-4a17e98e7a82'}}\n",
      "121 {'u': {'name': 'Richard', 'id': '310b164b-d551-4fd6-aead-800da4afde54'}, 'g': {'name': 'FVT', 'id': '73795b85-780b-41f4-8cec-4a17e98e7a82'}}\n",
      "122 {'u': {'name': 'Richard', 'id': '0d3f9d77-9c46-46fc-8511-d15dcf3c35a5'}, 'g': {'name': 'FVT', 'id': '73795b85-780b-41f4-8cec-4a17e98e7a82'}}\n",
      "123 {'u': {'name': 'Richard', 'id': '96902282-4c7b-4796-9815-b456e54fb0e8'}, 'g': {'name': 'FVT', 'id': '73795b85-780b-41f4-8cec-4a17e98e7a82'}}\n",
      "124 {'u': {'name': 'Richard', 'id': 'bb8d2143-1275-4f6f-adf5-e1638a3a50c5'}, 'g': {'name': 'FVT', 'id': '73795b85-780b-41f4-8cec-4a17e98e7a82'}}\n",
      "125 {'u': {'name': 'Richard', 'id': '1a09a49c-3624-47ee-8ce2-24bf73ba9058'}, 'g': {'name': 'FVT', 'id': '73795b85-780b-41f4-8cec-4a17e98e7a82'}}\n",
      "126 {'u': {'surname': 'White', 'name': 'Richard'}, 'g': {'name': 'FVT', 'id': '73795b85-780b-41f4-8cec-4a17e98e7a82'}}\n",
      "127 {'u': {'surname': 'White', 'name': 'Richard', 'id': 'c2159cd1-e07c-484d-ba39-8dae044a3de9'}, 'g': {'name': 'FVT', 'id': '73795b85-780b-41f4-8cec-4a17e98e7a82'}}\n",
      "128 {'u': {'surname': 'White', 'name': 'Richard'}, 'g': {'name': 'FVT', 'id': '73795b85-780b-41f4-8cec-4a17e98e7a82'}}\n",
      "129 {'u': {'name': 'Richard', 'id': '380c5701-ec46-466b-bbc5-8cee3ef38c03'}, 'g': {'name': 'FVT', 'id': '73795b85-780b-41f4-8cec-4a17e98e7a82'}}\n",
      "130 {'u': {'name': 'Richard', 'id': '83b17b4d-02ab-4077-aeae-14abd8e8a6ed'}, 'g': {'name': 'FVT', 'id': '73795b85-780b-41f4-8cec-4a17e98e7a82'}}\n",
      "131 {'u': {'name': 'Richard', 'id': 'e5043682-7fa5-4863-9214-0fcec03a20ef'}, 'g': {'name': 'FVT', 'id': '73795b85-780b-41f4-8cec-4a17e98e7a82'}}\n",
      "132 {'u': {'surname': 'White', 'name': 'Richard'}, 'g': {'name': 'FVT', 'id': '73795b85-780b-41f4-8cec-4a17e98e7a82'}}\n",
      "133 {'u': {'surname': 'White', 'name': 'Richard', 'id': '3067a2bd-dda7-468e-b111-00aeffb491aa'}, 'g': {'name': 'FVT', 'id': '73795b85-780b-41f4-8cec-4a17e98e7a82'}}\n",
      "134 {'u': {'surname': 'White', 'name': 'Richard'}, 'g': {'name': 'FVT', 'id': '73795b85-780b-41f4-8cec-4a17e98e7a82'}}\n",
      "135 {'u': {'name': 'Richard'}, 'g': {'name': 'FVT', 'id': '73795b85-780b-41f4-8cec-4a17e98e7a82'}}\n",
      "136 {'u': {'surname': 'White', 'name': 'Richard', 'id': '4f6a2ad6-b549-465a-8d0a-867da92db703'}, 'g': {'name': 'FVT', 'id': '73795b85-780b-41f4-8cec-4a17e98e7a82'}}\n",
      "137 {'u': {'surname': 'White', 'name': 'Richard'}, 'g': {'name': 'FVT', 'id': '73795b85-780b-41f4-8cec-4a17e98e7a82'}}\n",
      "138 {'u': {'name': 'Richard', 'id': '1aa3cb4c-7b34-4c1a-b8f8-ae9810c532d5'}, 'g': {'name': 'FVT', 'id': '73795b85-780b-41f4-8cec-4a17e98e7a82'}}\n",
      "139 {'u': {'surname': 'White', 'name': 'Richard'}, 'g': {'name': 'FVT', 'id': 'af55912b-ddfc-496a-a785-a6667abf889b'}}\n",
      "140 {'u': {'name': 'Richard', 'id': '1a09a49c-3624-47ee-8ce2-24bf73ba9058'}, 'g': {'name': 'FVT', 'id': 'af55912b-ddfc-496a-a785-a6667abf889b'}}\n",
      "141 {'u': {'name': 'Richard', 'id': 'bb8d2143-1275-4f6f-adf5-e1638a3a50c5'}, 'g': {'name': 'FVT', 'id': 'af55912b-ddfc-496a-a785-a6667abf889b'}}\n",
      "142 {'u': {'name': 'Richard', 'id': 'e5043682-7fa5-4863-9214-0fcec03a20ef'}, 'g': {'name': 'FVT', 'id': 'af55912b-ddfc-496a-a785-a6667abf889b'}}\n",
      "143 {'u': {'surname': 'White', 'name': 'Richard', 'id': 'c2159cd1-e07c-484d-ba39-8dae044a3de9'}, 'g': {'name': 'FVT', 'id': 'af55912b-ddfc-496a-a785-a6667abf889b'}}\n",
      "144 {'u': {'name': 'Richard', 'id': '696b9559-4739-4249-82e2-9067a88e7384'}, 'g': {'name': 'FVT', 'id': 'af55912b-ddfc-496a-a785-a6667abf889b'}}\n",
      "145 {'u': {'name': 'Richard', 'id': '96902282-4c7b-4796-9815-b456e54fb0e8'}, 'g': {'name': 'FVT', 'id': 'af55912b-ddfc-496a-a785-a6667abf889b'}}\n",
      "146 {'u': {'surname': 'White', 'name': 'Richard', 'id': '3067a2bd-dda7-468e-b111-00aeffb491aa'}, 'g': {'name': 'FVT', 'id': 'af55912b-ddfc-496a-a785-a6667abf889b'}}\n",
      "147 {'u': {'name': 'Richard', 'id': '310b164b-d551-4fd6-aead-800da4afde54'}, 'g': {'name': 'FVT', 'id': 'af55912b-ddfc-496a-a785-a6667abf889b'}}\n",
      "148 {'u': {'surname': 'White', 'name': 'Richard'}, 'g': {'name': 'FVT', 'id': 'af55912b-ddfc-496a-a785-a6667abf889b'}}\n",
      "149 {'u': {'surname': 'White', 'name': 'Richard'}, 'g': {'name': 'FVT', 'id': 'af55912b-ddfc-496a-a785-a6667abf889b'}}\n",
      "150 {'u': {'name': 'Richard', 'id': '83b17b4d-02ab-4077-aeae-14abd8e8a6ed'}, 'g': {'name': 'FVT', 'id': 'af55912b-ddfc-496a-a785-a6667abf889b'}}\n",
      "151 {'u': {'name': 'Richard'}, 'g': {'name': 'FVT', 'id': 'af55912b-ddfc-496a-a785-a6667abf889b'}}\n",
      "152 {'u': {'surname': 'White', 'name': 'Richard'}, 'g': {'name': 'FVT', 'id': 'af55912b-ddfc-496a-a785-a6667abf889b'}}\n",
      "153 {'u': {'surname': 'White', 'name': 'Richard'}, 'g': {'name': 'FVT', 'id': 'af55912b-ddfc-496a-a785-a6667abf889b'}}\n",
      "154 {'u': {'name': 'Richard', 'id': '0d3f9d77-9c46-46fc-8511-d15dcf3c35a5'}, 'g': {'name': 'FVT', 'id': 'af55912b-ddfc-496a-a785-a6667abf889b'}}\n",
      "155 {'u': {'name': 'Richard', 'id': '1aa3cb4c-7b34-4c1a-b8f8-ae9810c532d5'}, 'g': {'name': 'FVT', 'id': 'af55912b-ddfc-496a-a785-a6667abf889b'}}\n",
      "156 {'u': {'name': 'Richard', 'id': '380c5701-ec46-466b-bbc5-8cee3ef38c03'}, 'g': {'name': 'FVT', 'id': 'af55912b-ddfc-496a-a785-a6667abf889b'}}\n",
      "157 {'u': {'surname': 'White', 'name': 'Richard', 'id': '4f6a2ad6-b549-465a-8d0a-867da92db703'}, 'g': {'name': 'FVT', 'id': 'af55912b-ddfc-496a-a785-a6667abf889b'}}\n",
      "158 {'u': {'surname': 'White', 'name': 'Richard'}, 'g': {'name': 'FVT', 'id': 'af55912b-ddfc-496a-a785-a6667abf889b'}}\n",
      "159 {'u': {'surname': 'White', 'name': 'Richard'}, 'g': {'name': 'FVT', 'id': 'e666e66a-01ce-4b17-bf5d-6f7320a6789e'}}\n",
      "160 {'u': {'surname': 'White', 'name': 'Richard'}, 'g': {'name': 'FVT', 'id': 'e666e66a-01ce-4b17-bf5d-6f7320a6789e'}}\n",
      "161 {'u': {'name': 'Richard', 'id': '83b17b4d-02ab-4077-aeae-14abd8e8a6ed'}, 'g': {'name': 'FVT', 'id': 'e666e66a-01ce-4b17-bf5d-6f7320a6789e'}}\n",
      "162 {'u': {'name': 'Richard', 'id': '1aa3cb4c-7b34-4c1a-b8f8-ae9810c532d5'}, 'g': {'name': 'FVT', 'id': 'e666e66a-01ce-4b17-bf5d-6f7320a6789e'}}\n",
      "163 {'u': {'surname': 'White', 'name': 'Richard'}, 'g': {'name': 'FVT', 'id': 'e666e66a-01ce-4b17-bf5d-6f7320a6789e'}}\n",
      "164 {'u': {'surname': 'White', 'name': 'Richard'}, 'g': {'name': 'FVT', 'id': 'e666e66a-01ce-4b17-bf5d-6f7320a6789e'}}\n",
      "165 {'u': {'name': 'Richard', 'id': '1a09a49c-3624-47ee-8ce2-24bf73ba9058'}, 'g': {'name': 'FVT', 'id': 'e666e66a-01ce-4b17-bf5d-6f7320a6789e'}}\n",
      "166 {'u': {'surname': 'White', 'name': 'Richard'}, 'g': {'name': 'FVT', 'id': 'e666e66a-01ce-4b17-bf5d-6f7320a6789e'}}\n",
      "167 {'u': {'name': 'Richard', 'id': '310b164b-d551-4fd6-aead-800da4afde54'}, 'g': {'name': 'FVT', 'id': 'e666e66a-01ce-4b17-bf5d-6f7320a6789e'}}\n",
      "168 {'u': {'name': 'Richard', 'id': 'e5043682-7fa5-4863-9214-0fcec03a20ef'}, 'g': {'name': 'FVT', 'id': 'e666e66a-01ce-4b17-bf5d-6f7320a6789e'}}\n",
      "169 {'u': {'name': 'Richard', 'id': '0d3f9d77-9c46-46fc-8511-d15dcf3c35a5'}, 'g': {'name': 'FVT', 'id': 'e666e66a-01ce-4b17-bf5d-6f7320a6789e'}}\n",
      "170 {'u': {'name': 'Richard', 'id': '696b9559-4739-4249-82e2-9067a88e7384'}, 'g': {'name': 'FVT', 'id': 'e666e66a-01ce-4b17-bf5d-6f7320a6789e'}}\n",
      "171 {'u': {'surname': 'White', 'name': 'Richard', 'id': '4f6a2ad6-b549-465a-8d0a-867da92db703'}, 'g': {'name': 'FVT', 'id': 'e666e66a-01ce-4b17-bf5d-6f7320a6789e'}}\n",
      "172 {'u': {'name': 'Richard', 'id': '380c5701-ec46-466b-bbc5-8cee3ef38c03'}, 'g': {'name': 'FVT', 'id': 'e666e66a-01ce-4b17-bf5d-6f7320a6789e'}}\n",
      "173 {'u': {'name': 'Richard'}, 'g': {'name': 'FVT', 'id': 'e666e66a-01ce-4b17-bf5d-6f7320a6789e'}}\n",
      "174 {'u': {'name': 'Richard', 'id': 'bb8d2143-1275-4f6f-adf5-e1638a3a50c5'}, 'g': {'name': 'FVT', 'id': 'e666e66a-01ce-4b17-bf5d-6f7320a6789e'}}\n",
      "175 {'u': {'surname': 'White', 'name': 'Richard', 'id': '3067a2bd-dda7-468e-b111-00aeffb491aa'}, 'g': {'name': 'FVT', 'id': 'e666e66a-01ce-4b17-bf5d-6f7320a6789e'}}\n",
      "176 {'u': {'surname': 'White', 'name': 'Richard', 'id': 'c2159cd1-e07c-484d-ba39-8dae044a3de9'}, 'g': {'name': 'FVT', 'id': 'e666e66a-01ce-4b17-bf5d-6f7320a6789e'}}\n",
      "177 {'u': {'name': 'Richard', 'id': '96902282-4c7b-4796-9815-b456e54fb0e8'}, 'g': {'name': 'FVT', 'id': 'e666e66a-01ce-4b17-bf5d-6f7320a6789e'}}\n",
      "178 {'u': {'surname': 'White', 'name': 'Richard'}, 'g': {'name': 'FVT', 'id': 'e666e66a-01ce-4b17-bf5d-6f7320a6789e'}}\n",
      "179 {'u': {'name': 'Richard'}, 'g': {'name': 'FVT', 'id': 'b82f6bf6-5a72-402e-a534-868abfa51ae5'}}\n",
      "180 {'u': {'name': 'Richard', 'id': '1aa3cb4c-7b34-4c1a-b8f8-ae9810c532d5'}, 'g': {'name': 'FVT', 'id': 'b82f6bf6-5a72-402e-a534-868abfa51ae5'}}\n",
      "181 {'u': {'name': 'Richard', 'id': '0d3f9d77-9c46-46fc-8511-d15dcf3c35a5'}, 'g': {'name': 'FVT', 'id': 'b82f6bf6-5a72-402e-a534-868abfa51ae5'}}\n",
      "182 {'u': {'name': 'Richard', 'id': '83b17b4d-02ab-4077-aeae-14abd8e8a6ed'}, 'g': {'name': 'FVT', 'id': 'b82f6bf6-5a72-402e-a534-868abfa51ae5'}}\n",
      "183 {'u': {'name': 'Richard', 'id': '310b164b-d551-4fd6-aead-800da4afde54'}, 'g': {'name': 'FVT', 'id': 'b82f6bf6-5a72-402e-a534-868abfa51ae5'}}\n",
      "184 {'u': {'surname': 'White', 'name': 'Richard'}, 'g': {'name': 'FVT', 'id': 'b82f6bf6-5a72-402e-a534-868abfa51ae5'}}\n",
      "185 {'u': {'surname': 'White', 'name': 'Richard', 'id': '3067a2bd-dda7-468e-b111-00aeffb491aa'}, 'g': {'name': 'FVT', 'id': 'b82f6bf6-5a72-402e-a534-868abfa51ae5'}}\n",
      "186 {'u': {'surname': 'White', 'name': 'Richard'}, 'g': {'name': 'FVT', 'id': 'b82f6bf6-5a72-402e-a534-868abfa51ae5'}}\n",
      "187 {'u': {'surname': 'White', 'name': 'Richard'}, 'g': {'name': 'FVT', 'id': 'b82f6bf6-5a72-402e-a534-868abfa51ae5'}}\n",
      "188 {'u': {'surname': 'White', 'name': 'Richard'}, 'g': {'name': 'FVT', 'id': 'b82f6bf6-5a72-402e-a534-868abfa51ae5'}}\n",
      "189 {'u': {'name': 'Richard', 'id': '1a09a49c-3624-47ee-8ce2-24bf73ba9058'}, 'g': {'name': 'FVT', 'id': 'b82f6bf6-5a72-402e-a534-868abfa51ae5'}}\n",
      "190 {'u': {'name': 'Richard', 'id': '96902282-4c7b-4796-9815-b456e54fb0e8'}, 'g': {'name': 'FVT', 'id': 'b82f6bf6-5a72-402e-a534-868abfa51ae5'}}\n",
      "191 {'u': {'surname': 'White', 'name': 'Richard'}, 'g': {'name': 'FVT', 'id': 'b82f6bf6-5a72-402e-a534-868abfa51ae5'}}\n",
      "192 {'u': {'name': 'Richard', 'id': 'bb8d2143-1275-4f6f-adf5-e1638a3a50c5'}, 'g': {'name': 'FVT', 'id': 'b82f6bf6-5a72-402e-a534-868abfa51ae5'}}\n",
      "193 {'u': {'surname': 'White', 'name': 'Richard'}, 'g': {'name': 'FVT', 'id': 'b82f6bf6-5a72-402e-a534-868abfa51ae5'}}\n",
      "194 {'u': {'name': 'Richard', 'id': '380c5701-ec46-466b-bbc5-8cee3ef38c03'}, 'g': {'name': 'FVT', 'id': 'b82f6bf6-5a72-402e-a534-868abfa51ae5'}}\n",
      "195 {'u': {'name': 'Richard', 'id': 'e5043682-7fa5-4863-9214-0fcec03a20ef'}, 'g': {'name': 'FVT', 'id': 'b82f6bf6-5a72-402e-a534-868abfa51ae5'}}\n",
      "196 {'u': {'surname': 'White', 'name': 'Richard', 'id': '4f6a2ad6-b549-465a-8d0a-867da92db703'}, 'g': {'name': 'FVT', 'id': 'b82f6bf6-5a72-402e-a534-868abfa51ae5'}}\n",
      "197 {'u': {'name': 'Richard', 'id': '696b9559-4739-4249-82e2-9067a88e7384'}, 'g': {'name': 'FVT', 'id': 'b82f6bf6-5a72-402e-a534-868abfa51ae5'}}\n",
      "198 {'u': {'surname': 'White', 'name': 'Richard', 'id': 'c2159cd1-e07c-484d-ba39-8dae044a3de9'}, 'g': {'name': 'FVT', 'id': 'b82f6bf6-5a72-402e-a534-868abfa51ae5'}}\n",
      "199 {'u': {'surname': 'White', 'name': 'Richard'}, 'g': {'name': 'FVT', 'id': 'd22dc658-3f4c-453a-8beb-c5b20a8b6ce3'}}\n",
      "200 {'u': {'name': 'Richard', 'id': '696b9559-4739-4249-82e2-9067a88e7384'}, 'g': {'name': 'FVT', 'id': 'd22dc658-3f4c-453a-8beb-c5b20a8b6ce3'}}\n",
      "201 {'u': {'surname': 'White', 'name': 'Richard'}, 'g': {'name': 'FVT', 'id': 'd22dc658-3f4c-453a-8beb-c5b20a8b6ce3'}}\n",
      "202 {'u': {'surname': 'White', 'name': 'Richard', 'id': '4f6a2ad6-b549-465a-8d0a-867da92db703'}, 'g': {'name': 'FVT', 'id': 'd22dc658-3f4c-453a-8beb-c5b20a8b6ce3'}}\n",
      "203 {'u': {'name': 'Richard', 'id': '0d3f9d77-9c46-46fc-8511-d15dcf3c35a5'}, 'g': {'name': 'FVT', 'id': 'd22dc658-3f4c-453a-8beb-c5b20a8b6ce3'}}\n",
      "204 {'u': {'surname': 'White', 'name': 'Richard'}, 'g': {'name': 'FVT', 'id': 'd22dc658-3f4c-453a-8beb-c5b20a8b6ce3'}}\n",
      "205 {'u': {'name': 'Richard', 'id': '380c5701-ec46-466b-bbc5-8cee3ef38c03'}, 'g': {'name': 'FVT', 'id': 'd22dc658-3f4c-453a-8beb-c5b20a8b6ce3'}}\n",
      "206 {'u': {'surname': 'White', 'name': 'Richard'}, 'g': {'name': 'FVT', 'id': 'd22dc658-3f4c-453a-8beb-c5b20a8b6ce3'}}\n",
      "207 {'u': {'name': 'Richard'}, 'g': {'name': 'FVT', 'id': 'd22dc658-3f4c-453a-8beb-c5b20a8b6ce3'}}\n",
      "208 {'u': {'name': 'Richard', 'id': '1aa3cb4c-7b34-4c1a-b8f8-ae9810c532d5'}, 'g': {'name': 'FVT', 'id': 'd22dc658-3f4c-453a-8beb-c5b20a8b6ce3'}}\n",
      "209 {'u': {'name': 'Richard', 'id': 'e5043682-7fa5-4863-9214-0fcec03a20ef'}, 'g': {'name': 'FVT', 'id': 'd22dc658-3f4c-453a-8beb-c5b20a8b6ce3'}}\n",
      "210 {'u': {'surname': 'White', 'name': 'Richard'}, 'g': {'name': 'FVT', 'id': 'd22dc658-3f4c-453a-8beb-c5b20a8b6ce3'}}\n",
      "211 {'u': {'surname': 'White', 'name': 'Richard', 'id': 'c2159cd1-e07c-484d-ba39-8dae044a3de9'}, 'g': {'name': 'FVT', 'id': 'd22dc658-3f4c-453a-8beb-c5b20a8b6ce3'}}\n",
      "212 {'u': {'name': 'Richard', 'id': '1a09a49c-3624-47ee-8ce2-24bf73ba9058'}, 'g': {'name': 'FVT', 'id': 'd22dc658-3f4c-453a-8beb-c5b20a8b6ce3'}}\n",
      "213 {'u': {'surname': 'White', 'name': 'Richard', 'id': '3067a2bd-dda7-468e-b111-00aeffb491aa'}, 'g': {'name': 'FVT', 'id': 'd22dc658-3f4c-453a-8beb-c5b20a8b6ce3'}}\n",
      "214 {'u': {'name': 'Richard', 'id': 'bb8d2143-1275-4f6f-adf5-e1638a3a50c5'}, 'g': {'name': 'FVT', 'id': 'd22dc658-3f4c-453a-8beb-c5b20a8b6ce3'}}\n",
      "215 {'u': {'name': 'Richard', 'id': '310b164b-d551-4fd6-aead-800da4afde54'}, 'g': {'name': 'FVT', 'id': 'd22dc658-3f4c-453a-8beb-c5b20a8b6ce3'}}\n",
      "216 {'u': {'name': 'Richard', 'id': '96902282-4c7b-4796-9815-b456e54fb0e8'}, 'g': {'name': 'FVT', 'id': 'd22dc658-3f4c-453a-8beb-c5b20a8b6ce3'}}\n",
      "217 {'u': {'name': 'Richard', 'id': '83b17b4d-02ab-4077-aeae-14abd8e8a6ed'}, 'g': {'name': 'FVT', 'id': 'd22dc658-3f4c-453a-8beb-c5b20a8b6ce3'}}\n",
      "218 {'u': {'surname': 'White', 'name': 'Richard'}, 'g': {'name': 'FVT', 'id': 'd22dc658-3f4c-453a-8beb-c5b20a8b6ce3'}}\n",
      "219 {'u': {'name': 'Richard', 'id': 'bb8d2143-1275-4f6f-adf5-e1638a3a50c5'}, 'g': {'name': 'FVT', 'id': 'ff91cdbe-038c-4cea-92f7-78b8d042ae73'}}\n",
      "220 {'u': {'surname': 'White', 'name': 'Richard', 'id': '4f6a2ad6-b549-465a-8d0a-867da92db703'}, 'g': {'name': 'FVT', 'id': 'ff91cdbe-038c-4cea-92f7-78b8d042ae73'}}\n",
      "221 {'u': {'name': 'Richard'}, 'g': {'name': 'FVT', 'id': 'ff91cdbe-038c-4cea-92f7-78b8d042ae73'}}\n",
      "222 {'u': {'surname': 'White', 'name': 'Richard', 'id': 'c2159cd1-e07c-484d-ba39-8dae044a3de9'}, 'g': {'name': 'FVT', 'id': 'ff91cdbe-038c-4cea-92f7-78b8d042ae73'}}\n",
      "223 {'u': {'name': 'Richard', 'id': '96902282-4c7b-4796-9815-b456e54fb0e8'}, 'g': {'name': 'FVT', 'id': 'ff91cdbe-038c-4cea-92f7-78b8d042ae73'}}\n",
      "224 {'u': {'surname': 'White', 'name': 'Richard', 'id': '3067a2bd-dda7-468e-b111-00aeffb491aa'}, 'g': {'name': 'FVT', 'id': 'ff91cdbe-038c-4cea-92f7-78b8d042ae73'}}\n",
      "225 {'u': {'surname': 'White', 'name': 'Richard'}, 'g': {'name': 'FVT', 'id': 'ff91cdbe-038c-4cea-92f7-78b8d042ae73'}}\n",
      "226 {'u': {'surname': 'White', 'name': 'Richard'}, 'g': {'name': 'FVT', 'id': 'ff91cdbe-038c-4cea-92f7-78b8d042ae73'}}\n",
      "227 {'u': {'surname': 'White', 'name': 'Richard'}, 'g': {'name': 'FVT', 'id': 'ff91cdbe-038c-4cea-92f7-78b8d042ae73'}}\n",
      "228 {'u': {'surname': 'White', 'name': 'Richard'}, 'g': {'name': 'FVT', 'id': 'ff91cdbe-038c-4cea-92f7-78b8d042ae73'}}\n",
      "229 {'u': {'name': 'Richard', 'id': 'e5043682-7fa5-4863-9214-0fcec03a20ef'}, 'g': {'name': 'FVT', 'id': 'ff91cdbe-038c-4cea-92f7-78b8d042ae73'}}\n",
      "230 {'u': {'name': 'Richard', 'id': '1a09a49c-3624-47ee-8ce2-24bf73ba9058'}, 'g': {'name': 'FVT', 'id': 'ff91cdbe-038c-4cea-92f7-78b8d042ae73'}}\n",
      "231 {'u': {'name': 'Richard', 'id': '0d3f9d77-9c46-46fc-8511-d15dcf3c35a5'}, 'g': {'name': 'FVT', 'id': 'ff91cdbe-038c-4cea-92f7-78b8d042ae73'}}\n",
      "232 {'u': {'surname': 'White', 'name': 'Richard'}, 'g': {'name': 'FVT', 'id': 'ff91cdbe-038c-4cea-92f7-78b8d042ae73'}}\n",
      "233 {'u': {'name': 'Richard', 'id': '1aa3cb4c-7b34-4c1a-b8f8-ae9810c532d5'}, 'g': {'name': 'FVT', 'id': 'ff91cdbe-038c-4cea-92f7-78b8d042ae73'}}\n",
      "234 {'u': {'name': 'Richard', 'id': '83b17b4d-02ab-4077-aeae-14abd8e8a6ed'}, 'g': {'name': 'FVT', 'id': 'ff91cdbe-038c-4cea-92f7-78b8d042ae73'}}\n",
      "235 {'u': {'name': 'Richard', 'id': '696b9559-4739-4249-82e2-9067a88e7384'}, 'g': {'name': 'FVT', 'id': 'ff91cdbe-038c-4cea-92f7-78b8d042ae73'}}\n",
      "236 {'u': {'name': 'Richard', 'id': '380c5701-ec46-466b-bbc5-8cee3ef38c03'}, 'g': {'name': 'FVT', 'id': 'ff91cdbe-038c-4cea-92f7-78b8d042ae73'}}\n",
      "237 {'u': {'name': 'Richard', 'id': '310b164b-d551-4fd6-aead-800da4afde54'}, 'g': {'name': 'FVT', 'id': 'ff91cdbe-038c-4cea-92f7-78b8d042ae73'}}\n",
      "238 {'u': {'surname': 'White', 'name': 'Richard'}, 'g': {'name': 'FVT', 'id': 'ff91cdbe-038c-4cea-92f7-78b8d042ae73'}}\n",
      "239 {'u': {'surname': 'White', 'name': 'Richard', 'id': 'c2159cd1-e07c-484d-ba39-8dae044a3de9'}, 'g': {'name': 'FVT', 'id': 'ab289e5c-5f8b-4acf-881b-2d9774e51cb0'}}\n",
      "240 {'u': {'surname': 'White', 'name': 'Richard'}, 'g': {'name': 'FVT', 'id': 'ab289e5c-5f8b-4acf-881b-2d9774e51cb0'}}\n",
      "241 {'u': {'surname': 'White', 'name': 'Richard'}, 'g': {'name': 'FVT', 'id': 'ab289e5c-5f8b-4acf-881b-2d9774e51cb0'}}\n",
      "242 {'u': {'name': 'Richard', 'id': '96902282-4c7b-4796-9815-b456e54fb0e8'}, 'g': {'name': 'FVT', 'id': 'ab289e5c-5f8b-4acf-881b-2d9774e51cb0'}}\n",
      "243 {'u': {'name': 'Richard', 'id': '310b164b-d551-4fd6-aead-800da4afde54'}, 'g': {'name': 'FVT', 'id': 'ab289e5c-5f8b-4acf-881b-2d9774e51cb0'}}\n",
      "244 {'u': {'name': 'Richard', 'id': 'e5043682-7fa5-4863-9214-0fcec03a20ef'}, 'g': {'name': 'FVT', 'id': 'ab289e5c-5f8b-4acf-881b-2d9774e51cb0'}}\n",
      "245 {'u': {'surname': 'White', 'name': 'Richard'}, 'g': {'name': 'FVT', 'id': 'ab289e5c-5f8b-4acf-881b-2d9774e51cb0'}}\n",
      "246 {'u': {'name': 'Richard', 'id': '1aa3cb4c-7b34-4c1a-b8f8-ae9810c532d5'}, 'g': {'name': 'FVT', 'id': 'ab289e5c-5f8b-4acf-881b-2d9774e51cb0'}}\n",
      "247 {'u': {'surname': 'White', 'name': 'Richard'}, 'g': {'name': 'FVT', 'id': 'ab289e5c-5f8b-4acf-881b-2d9774e51cb0'}}\n",
      "248 {'u': {'surname': 'White', 'name': 'Richard'}, 'g': {'name': 'FVT', 'id': 'ab289e5c-5f8b-4acf-881b-2d9774e51cb0'}}\n",
      "249 {'u': {'name': 'Richard', 'id': 'bb8d2143-1275-4f6f-adf5-e1638a3a50c5'}, 'g': {'name': 'FVT', 'id': 'ab289e5c-5f8b-4acf-881b-2d9774e51cb0'}}\n",
      "250 {'u': {'name': 'Richard', 'id': '696b9559-4739-4249-82e2-9067a88e7384'}, 'g': {'name': 'FVT', 'id': 'ab289e5c-5f8b-4acf-881b-2d9774e51cb0'}}\n",
      "251 {'u': {'surname': 'White', 'name': 'Richard', 'id': '4f6a2ad6-b549-465a-8d0a-867da92db703'}, 'g': {'name': 'FVT', 'id': 'ab289e5c-5f8b-4acf-881b-2d9774e51cb0'}}\n",
      "252 {'u': {'name': 'Richard', 'id': '380c5701-ec46-466b-bbc5-8cee3ef38c03'}, 'g': {'name': 'FVT', 'id': 'ab289e5c-5f8b-4acf-881b-2d9774e51cb0'}}\n",
      "253 {'u': {'surname': 'White', 'name': 'Richard', 'id': '3067a2bd-dda7-468e-b111-00aeffb491aa'}, 'g': {'name': 'FVT', 'id': 'ab289e5c-5f8b-4acf-881b-2d9774e51cb0'}}\n",
      "254 {'u': {'name': 'Richard', 'id': '1a09a49c-3624-47ee-8ce2-24bf73ba9058'}, 'g': {'name': 'FVT', 'id': 'ab289e5c-5f8b-4acf-881b-2d9774e51cb0'}}\n",
      "255 {'u': {'name': 'Richard', 'id': '83b17b4d-02ab-4077-aeae-14abd8e8a6ed'}, 'g': {'name': 'FVT', 'id': 'ab289e5c-5f8b-4acf-881b-2d9774e51cb0'}}\n",
      "256 {'u': {'name': 'Richard'}, 'g': {'name': 'FVT', 'id': 'ab289e5c-5f8b-4acf-881b-2d9774e51cb0'}}\n",
      "257 {'u': {'name': 'Richard', 'id': '0d3f9d77-9c46-46fc-8511-d15dcf3c35a5'}, 'g': {'name': 'FVT', 'id': 'ab289e5c-5f8b-4acf-881b-2d9774e51cb0'}}\n",
      "258 {'u': {'surname': 'White', 'name': 'Richard'}, 'g': {'name': 'FVT', 'id': 'ab289e5c-5f8b-4acf-881b-2d9774e51cb0'}}\n",
      "259 {'u': {'surname': 'White', 'name': 'Richard'}, 'g': {'name': 'FVT', 'id': '3627ee0a-34eb-4e4c-9a1d-a46f20b11b6e'}}\n",
      "260 {'u': {'name': 'Richard', 'id': '0d3f9d77-9c46-46fc-8511-d15dcf3c35a5'}, 'g': {'name': 'FVT', 'id': '3627ee0a-34eb-4e4c-9a1d-a46f20b11b6e'}}\n",
      "261 {'u': {'name': 'Richard', 'id': '380c5701-ec46-466b-bbc5-8cee3ef38c03'}, 'g': {'name': 'FVT', 'id': '3627ee0a-34eb-4e4c-9a1d-a46f20b11b6e'}}\n",
      "262 {'u': {'name': 'Richard', 'id': '310b164b-d551-4fd6-aead-800da4afde54'}, 'g': {'name': 'FVT', 'id': '3627ee0a-34eb-4e4c-9a1d-a46f20b11b6e'}}\n",
      "263 {'u': {'name': 'Richard', 'id': '1a09a49c-3624-47ee-8ce2-24bf73ba9058'}, 'g': {'name': 'FVT', 'id': '3627ee0a-34eb-4e4c-9a1d-a46f20b11b6e'}}\n",
      "264 {'u': {'surname': 'White', 'name': 'Richard'}, 'g': {'name': 'FVT', 'id': '3627ee0a-34eb-4e4c-9a1d-a46f20b11b6e'}}\n",
      "265 {'u': {'name': 'Richard', 'id': '1aa3cb4c-7b34-4c1a-b8f8-ae9810c532d5'}, 'g': {'name': 'FVT', 'id': '3627ee0a-34eb-4e4c-9a1d-a46f20b11b6e'}}\n",
      "266 {'u': {'surname': 'White', 'name': 'Richard', 'id': '4f6a2ad6-b549-465a-8d0a-867da92db703'}, 'g': {'name': 'FVT', 'id': '3627ee0a-34eb-4e4c-9a1d-a46f20b11b6e'}}\n",
      "267 {'u': {'name': 'Richard', 'id': '96902282-4c7b-4796-9815-b456e54fb0e8'}, 'g': {'name': 'FVT', 'id': '3627ee0a-34eb-4e4c-9a1d-a46f20b11b6e'}}\n",
      "268 {'u': {'name': 'Richard', 'id': '696b9559-4739-4249-82e2-9067a88e7384'}, 'g': {'name': 'FVT', 'id': '3627ee0a-34eb-4e4c-9a1d-a46f20b11b6e'}}\n",
      "269 {'u': {'name': 'Richard'}, 'g': {'name': 'FVT', 'id': '3627ee0a-34eb-4e4c-9a1d-a46f20b11b6e'}}\n",
      "270 {'u': {'name': 'Richard', 'id': '83b17b4d-02ab-4077-aeae-14abd8e8a6ed'}, 'g': {'name': 'FVT', 'id': '3627ee0a-34eb-4e4c-9a1d-a46f20b11b6e'}}\n",
      "271 {'u': {'surname': 'White', 'name': 'Richard', 'id': '3067a2bd-dda7-468e-b111-00aeffb491aa'}, 'g': {'name': 'FVT', 'id': '3627ee0a-34eb-4e4c-9a1d-a46f20b11b6e'}}\n",
      "272 {'u': {'surname': 'White', 'name': 'Richard'}, 'g': {'name': 'FVT', 'id': '3627ee0a-34eb-4e4c-9a1d-a46f20b11b6e'}}\n",
      "273 {'u': {'surname': 'White', 'name': 'Richard'}, 'g': {'name': 'FVT', 'id': '3627ee0a-34eb-4e4c-9a1d-a46f20b11b6e'}}\n",
      "274 {'u': {'surname': 'White', 'name': 'Richard'}, 'g': {'name': 'FVT', 'id': '3627ee0a-34eb-4e4c-9a1d-a46f20b11b6e'}}\n",
      "275 {'u': {'surname': 'White', 'name': 'Richard'}, 'g': {'name': 'FVT', 'id': '3627ee0a-34eb-4e4c-9a1d-a46f20b11b6e'}}\n",
      "276 {'u': {'name': 'Richard', 'id': 'e5043682-7fa5-4863-9214-0fcec03a20ef'}, 'g': {'name': 'FVT', 'id': '3627ee0a-34eb-4e4c-9a1d-a46f20b11b6e'}}\n",
      "277 {'u': {'name': 'Richard', 'id': 'bb8d2143-1275-4f6f-adf5-e1638a3a50c5'}, 'g': {'name': 'FVT', 'id': '3627ee0a-34eb-4e4c-9a1d-a46f20b11b6e'}}\n",
      "278 {'u': {'surname': 'White', 'name': 'Richard', 'id': 'c2159cd1-e07c-484d-ba39-8dae044a3de9'}, 'g': {'name': 'FVT', 'id': '3627ee0a-34eb-4e4c-9a1d-a46f20b11b6e'}}\n",
      "279 {'u': {'name': 'Richard', 'id': 'bb8d2143-1275-4f6f-adf5-e1638a3a50c5'}, 'g': {'name': 'FVT', 'id': '3627ee0a-34eb-4e4c-9a1d-a46f20b11b6e'}}\n",
      "280 {'u': {'name': 'Richard', 'id': '96902282-4c7b-4796-9815-b456e54fb0e8'}, 'g': {'name': 'FVT', 'id': '45d929cb-33db-48d6-a668-36aed9bb0e6a'}}\n",
      "281 {'u': {'surname': 'White', 'name': 'Richard'}, 'g': {'name': 'FVT', 'id': '45d929cb-33db-48d6-a668-36aed9bb0e6a'}}\n",
      "282 {'u': {'surname': 'White', 'name': 'Richard'}, 'g': {'name': 'FVT', 'id': '45d929cb-33db-48d6-a668-36aed9bb0e6a'}}\n",
      "283 {'u': {'name': 'Richard'}, 'g': {'name': 'FVT', 'id': '45d929cb-33db-48d6-a668-36aed9bb0e6a'}}\n",
      "284 {'u': {'surname': 'White', 'name': 'Richard', 'id': 'c2159cd1-e07c-484d-ba39-8dae044a3de9'}, 'g': {'name': 'FVT', 'id': '45d929cb-33db-48d6-a668-36aed9bb0e6a'}}\n",
      "285 {'u': {'name': 'Richard', 'id': '1aa3cb4c-7b34-4c1a-b8f8-ae9810c532d5'}, 'g': {'name': 'FVT', 'id': '45d929cb-33db-48d6-a668-36aed9bb0e6a'}}\n",
      "286 {'u': {'name': 'Richard', 'id': '1a09a49c-3624-47ee-8ce2-24bf73ba9058'}, 'g': {'name': 'FVT', 'id': '45d929cb-33db-48d6-a668-36aed9bb0e6a'}}\n",
      "287 {'u': {'name': 'Richard', 'id': '83b17b4d-02ab-4077-aeae-14abd8e8a6ed'}, 'g': {'name': 'FVT', 'id': '45d929cb-33db-48d6-a668-36aed9bb0e6a'}}\n",
      "288 {'u': {'surname': 'White', 'name': 'Richard', 'id': '3067a2bd-dda7-468e-b111-00aeffb491aa'}, 'g': {'name': 'FVT', 'id': '45d929cb-33db-48d6-a668-36aed9bb0e6a'}}\n",
      "289 {'u': {'name': 'Richard', 'id': '0d3f9d77-9c46-46fc-8511-d15dcf3c35a5'}, 'g': {'name': 'FVT', 'id': '45d929cb-33db-48d6-a668-36aed9bb0e6a'}}\n",
      "290 {'u': {'surname': 'White', 'name': 'Richard'}, 'g': {'name': 'FVT', 'id': '45d929cb-33db-48d6-a668-36aed9bb0e6a'}}\n",
      "291 {'u': {'surname': 'White', 'name': 'Richard'}, 'g': {'name': 'FVT', 'id': '45d929cb-33db-48d6-a668-36aed9bb0e6a'}}\n",
      "292 {'u': {'name': 'Richard', 'id': 'e5043682-7fa5-4863-9214-0fcec03a20ef'}, 'g': {'name': 'FVT', 'id': '45d929cb-33db-48d6-a668-36aed9bb0e6a'}}\n",
      "293 {'u': {'surname': 'White', 'name': 'Richard'}, 'g': {'name': 'FVT', 'id': '45d929cb-33db-48d6-a668-36aed9bb0e6a'}}\n",
      "294 {'u': {'name': 'Richard', 'id': '380c5701-ec46-466b-bbc5-8cee3ef38c03'}, 'g': {'name': 'FVT', 'id': '45d929cb-33db-48d6-a668-36aed9bb0e6a'}}\n",
      "295 {'u': {'surname': 'White', 'name': 'Richard', 'id': '4f6a2ad6-b549-465a-8d0a-867da92db703'}, 'g': {'name': 'FVT', 'id': '45d929cb-33db-48d6-a668-36aed9bb0e6a'}}\n",
      "296 {'u': {'surname': 'White', 'name': 'Richard'}, 'g': {'name': 'FVT', 'id': '45d929cb-33db-48d6-a668-36aed9bb0e6a'}}\n",
      "297 {'u': {'name': 'Richard', 'id': '696b9559-4739-4249-82e2-9067a88e7384'}, 'g': {'name': 'FVT', 'id': '45d929cb-33db-48d6-a668-36aed9bb0e6a'}}\n",
      "298 {'u': {'name': 'Richard', 'id': 'bb8d2143-1275-4f6f-adf5-e1638a3a50c5'}, 'g': {'name': 'FVT', 'id': '45d929cb-33db-48d6-a668-36aed9bb0e6a'}}\n",
      "299 {'u': {'name': 'Richard', 'id': '310b164b-d551-4fd6-aead-800da4afde54'}, 'g': {'name': 'FVT', 'id': '45d929cb-33db-48d6-a668-36aed9bb0e6a'}}\n",
      "300 {'u': {'name': 'Richard', 'id': '0d3f9d77-9c46-46fc-8511-d15dcf3c35a5'}, 'g': {'name': 'FVT', 'id': '45d929cb-33db-48d6-a668-36aed9bb0e6a'}}\n",
      "301 {'u': {'name': 'Richard'}, 'g': {'name': 'FVT', 'id': '54dd5020-44ec-40a5-b311-eb0b75582e73'}}\n",
      "302 {'u': {'name': 'Richard', 'id': 'e5043682-7fa5-4863-9214-0fcec03a20ef'}, 'g': {'name': 'FVT', 'id': '54dd5020-44ec-40a5-b311-eb0b75582e73'}}\n",
      "303 {'u': {'surname': 'White', 'name': 'Richard', 'id': 'c2159cd1-e07c-484d-ba39-8dae044a3de9'}, 'g': {'name': 'FVT', 'id': '54dd5020-44ec-40a5-b311-eb0b75582e73'}}\n",
      "304 {'u': {'surname': 'White', 'name': 'Richard', 'id': '4f6a2ad6-b549-465a-8d0a-867da92db703'}, 'g': {'name': 'FVT', 'id': '54dd5020-44ec-40a5-b311-eb0b75582e73'}}\n",
      "305 {'u': {'surname': 'White', 'name': 'Richard'}, 'g': {'name': 'FVT', 'id': '54dd5020-44ec-40a5-b311-eb0b75582e73'}}\n",
      "306 {'u': {'surname': 'White', 'name': 'Richard'}, 'g': {'name': 'FVT', 'id': '54dd5020-44ec-40a5-b311-eb0b75582e73'}}\n",
      "307 {'u': {'name': 'Richard', 'id': '1a09a49c-3624-47ee-8ce2-24bf73ba9058'}, 'g': {'name': 'FVT', 'id': '54dd5020-44ec-40a5-b311-eb0b75582e73'}}\n",
      "308 {'u': {'surname': 'White', 'name': 'Richard'}, 'g': {'name': 'FVT', 'id': '54dd5020-44ec-40a5-b311-eb0b75582e73'}}\n",
      "309 {'u': {'name': 'Richard', 'id': '696b9559-4739-4249-82e2-9067a88e7384'}, 'g': {'name': 'FVT', 'id': '54dd5020-44ec-40a5-b311-eb0b75582e73'}}\n",
      "310 {'u': {'name': 'Richard', 'id': '0d3f9d77-9c46-46fc-8511-d15dcf3c35a5'}, 'g': {'name': 'FVT', 'id': '54dd5020-44ec-40a5-b311-eb0b75582e73'}}\n",
      "311 {'u': {'name': 'Richard', 'id': '96902282-4c7b-4796-9815-b456e54fb0e8'}, 'g': {'name': 'FVT', 'id': '54dd5020-44ec-40a5-b311-eb0b75582e73'}}\n",
      "312 {'u': {'name': 'Richard', 'id': '380c5701-ec46-466b-bbc5-8cee3ef38c03'}, 'g': {'name': 'FVT', 'id': '54dd5020-44ec-40a5-b311-eb0b75582e73'}}\n",
      "313 {'u': {'surname': 'White', 'name': 'Richard'}, 'g': {'name': 'FVT', 'id': '54dd5020-44ec-40a5-b311-eb0b75582e73'}}\n",
      "314 {'u': {'name': 'Richard', 'id': 'bb8d2143-1275-4f6f-adf5-e1638a3a50c5'}, 'g': {'name': 'FVT', 'id': '54dd5020-44ec-40a5-b311-eb0b75582e73'}}\n",
      "315 {'u': {'name': 'Richard', 'id': '310b164b-d551-4fd6-aead-800da4afde54'}, 'g': {'name': 'FVT', 'id': '54dd5020-44ec-40a5-b311-eb0b75582e73'}}\n",
      "316 {'u': {'name': 'Richard', 'id': '83b17b4d-02ab-4077-aeae-14abd8e8a6ed'}, 'g': {'name': 'FVT', 'id': '54dd5020-44ec-40a5-b311-eb0b75582e73'}}\n",
      "317 {'u': {'name': 'Richard', 'id': '1aa3cb4c-7b34-4c1a-b8f8-ae9810c532d5'}, 'g': {'name': 'FVT', 'id': '54dd5020-44ec-40a5-b311-eb0b75582e73'}}\n",
      "318 {'u': {'surname': 'White', 'name': 'Richard'}, 'g': {'name': 'FVT', 'id': '54dd5020-44ec-40a5-b311-eb0b75582e73'}}\n",
      "319 {'u': {'surname': 'White', 'name': 'Richard'}, 'g': {'name': 'FVT', 'id': '54dd5020-44ec-40a5-b311-eb0b75582e73'}}\n",
      "320 {'u': {'surname': 'White', 'name': 'Richard', 'id': '3067a2bd-dda7-468e-b111-00aeffb491aa'}, 'g': {'name': 'FVT', 'id': '54dd5020-44ec-40a5-b311-eb0b75582e73'}}\n"
     ]
    }
   ],
   "source": [
    "def _read_membership(tx):\n",
    "    # To learn more about the Cypher syntax, see https://neo4j.com/docs/cypher-manual/current/\n",
    "    # The Reference Card is also a good resource for keywords https://neo4j.com/docs/cypher-refcard/current/\n",
    "    query = (\"\"\"\n",
    "        MATCH (u:User)-[k:IS_MEMBER ]->(g:Group)\n",
    "        RETURN u, k, g\n",
    "    \"\"\") # dotaz\n",
    "    \n",
    "    result = tx.run(query)\n",
    "    \n",
    "    # print(result)\n",
    "    #return [{'u': row[\"k\"].nodes[0]['properties'], 'g': row[\"k\"].nodes[1]['properties']}\n",
    "    return [{'u': dict(row[\"u\"].items()), 'g': dict(row[\"g\"].items())}\n",
    "            for row in result] # python comphrehesion pro mapování výsledku do požadované struktury\n",
    "\n",
    "session = sessionmaker()\n",
    "result = session.read_transaction(_read_membership)\n",
    "for index, row in enumerate(result):\n",
    "    print(index, row)"
   ]
  },
  {
   "cell_type": "markdown",
   "id": "959faac5-ffd3-46df-a5aa-6308a0d882a7",
   "metadata": {},
   "source": [
    "### Update"
   ]
  },
  {
   "cell_type": "code",
   "execution_count": 45,
   "id": "a01f16ac-5d5c-46c2-b147-03e20e077471",
   "metadata": {},
   "outputs": [
    {
     "name": "stderr",
     "output_type": "stream",
     "text": [
      "Failed to write data to connection ResolvedIPv4Address(('192.168.1.100', 7687)) (IPv4Address(('192.168.1.100', 7687)))\n",
      "Unable to retrieve routing information\n",
      "Transaction failed and will be retried in 0.8958615196351861s (Unable to retrieve routing information)\n"
     ]
    },
    {
     "name": "stdout",
     "output_type": "stream",
     "text": [
      "[{'name': 'Richard', 'id': 'f7d6f030-d202-4a52-8835-bd9acb846c2d'}]\n",
      "[{'name': 'Russel', 'id': 'f7d6f030-d202-4a52-8835-bd9acb846c2d'}]\n"
     ]
    }
   ],
   "source": [
    "def _update_user_name(tx, user):\n",
    "    # To learn more about the Cypher syntax, see https://neo4j.com/docs/cypher-manual/current/\n",
    "    # The Reference Card is also a good resource for keywords https://neo4j.com/docs/cypher-refcard/current/\n",
    "    query = (\n",
    "        \"MATCH (u: User {id: $user_id})\"\n",
    "        \"SET u.name = $user_name \"\n",
    "        \"RETURN u\"\n",
    "    ) # dotaz\n",
    "    \n",
    "    rows = tx.run(query, user_id=user['id'], user_name=user['name'])\n",
    "    \n",
    "    return [dict(row[\"u\"].items()) for row in rows] # python comprehesion pro mapování výsledku do požadované struktury\n",
    "\n",
    "session = sessionmaker()\n",
    "u1 = session.write_transaction(_create_user, {'name': 'Richard'})\n",
    "print(u1)\n",
    "u2 = session.write_transaction(_update_user_name, {'id': u1[0]['id'], 'name': 'Russel'})\n",
    "print(u2)"
   ]
  },
  {
   "cell_type": "markdown",
   "id": "14e717a1-2e0a-4eea-a713-c16ae239081e",
   "metadata": {},
   "source": [
    "## Resolvery"
   ]
  },
  {
   "cell_type": "markdown",
   "id": "1896ae66-4095-495a-9cbd-94839eb1cf0e",
   "metadata": {},
   "source": [
    "Pro implementaci v GraphQL je potřeba definovat resolvery. Je zde viditelný problém. GraphQL předpokládá, že výstupní data odpovídají schématu. Ovšem data v neo4j fakticky schema namají (obdobné platí i NoSQL). Jak toto vyřešíme?"
   ]
  },
  {
   "cell_type": "markdown",
   "id": "3fcd1c30-d5b1-4c89-b15b-46545fef338b",
   "metadata": {},
   "source": [
    "### Resolver pro UserGQL"
   ]
  },
  {
   "cell_type": "markdown",
   "id": "e0a9b88f-efaa-4889-ba8d-ecd821140996",
   "metadata": {},
   "source": [
    "### Resolver pro GroupGQL"
   ]
  },
  {
   "cell_type": "markdown",
   "id": "c8724406-f4fb-4cde-940e-8fddb9d4f833",
   "metadata": {},
   "source": [
    "### Root resolvery"
   ]
  },
  {
   "cell_type": "markdown",
   "id": "76effb4c-7070-4970-a9a6-43a312454f09",
   "metadata": {},
   "source": [
    "Root resolvery vracejí vektory, tedy více hodnot. Je nutné prohledávat graf podle labels"
   ]
  },
  {
   "cell_type": "markdown",
   "id": "f9d2ac61-57de-4342-aca8-f6cf998211fa",
   "metadata": {},
   "source": [
    "## Pyneo"
   ]
  },
  {
   "cell_type": "code",
   "execution_count": 8,
   "id": "c42db148-f19b-4f90-bc40-a448983f0ba8",
   "metadata": {},
   "outputs": [],
   "source": [
    "from py2neo import Graph\n",
    "import py2neo.ogm as py2ogm\n",
    "\n",
    "graph = Graph(\n",
    "    host='192.168.1.100',\n",
    "    port=7687,\n",
    "    user='neo4j',\n",
    "    password='s3cr3t',\n",
    ")"
   ]
  },
  {
   "cell_type": "code",
   "execution_count": 9,
   "id": "3a53c7a6-4955-476d-bfdd-3bacf6a5ccfc",
   "metadata": {},
   "outputs": [],
   "source": [
    "from py2neo import Node, Relationship\n",
    "\n",
    "nodeDataU1 = Node('User', **randomUser())\n",
    "nodeDataD1 = Node('Department', name=randomDepartment()['name'])\n",
    "relationData = Relationship(nodeDataU1, 'MEMBER_OF', nodeDataD1)\n",
    "\n",
    "tx = graph.begin()\n",
    "tx.create(nodeDataU1)\n",
    "tx.create(nodeDataD1)\n",
    "tx.create(relationData)\n",
    "graph.commit(tx)"
   ]
  },
  {
   "cell_type": "code",
   "execution_count": 10,
   "id": "aa31f145-9351-47b1-9776-5ea6a67f3f3a",
   "metadata": {},
   "outputs": [
    {
     "name": "stdout",
     "output_type": "stream",
     "text": [
      "[Node('User', name='Richard', surname='White'), Node('User', email='Jana.Eva.Černá@main.university.world', name='Jana Eva', surname='Černá'), Node('User', email='František.Marie.Procházka@main.university.world', name='František Marie', surname='Procházka'), Node('User', email='Lucie.Alena.Dvořáková@main.university.world', name='Lucie Alena', surname='Dvořáková'), Node('User', email='Václav.Milan.Černý@main.university.world', name='Václav Milan', surname='Černý'), Node('User', email='Petr.Eva.Němec@main.university.world', name='Petr Eva', surname='Němec'), Node('User', email='Tomáš.Miroslav.Novotný@main.university.world', name='Tomáš Miroslav', surname='Novotný'), Node('User', email='Milan.Lenka.Novotná@main.university.world', name='Milan Lenka', surname='Novotná'), Node('User', email='Michal.Anna.Němcová@main.university.world', name='Michal Anna', surname='Němcová')]\n"
     ]
    }
   ],
   "source": [
    "allUsers = graph.nodes.match('User').all()\n",
    "print(allUsers)"
   ]
  },
  {
   "cell_type": "code",
   "execution_count": 11,
   "id": "fbaa20ae-f01a-4a66-b15d-b18d7c03d54c",
   "metadata": {},
   "outputs": [
    {
     "name": "stdout",
     "output_type": "stream",
     "text": [
      "[]\n"
     ]
    }
   ],
   "source": [
    "allUsers = graph.nodes.match('User').skip(10).limit(10).all()\n",
    "print(allUsers)"
   ]
  },
  {
   "cell_type": "code",
   "execution_count": 19,
   "id": "b218d7a3-015b-49b4-a0d6-0f4f700b5e4d",
   "metadata": {},
   "outputs": [
    {
     "ename": "AttributeError",
     "evalue": "'NodeMatch' object has no attribute 'to_table'",
     "output_type": "error",
     "traceback": [
      "\u001b[0;31m---------------------------------------------------------------------------\u001b[0m",
      "\u001b[0;31mAttributeError\u001b[0m                            Traceback (most recent call last)",
      "\u001b[0;32m/tmp/ipykernel_1125/2526800052.py\u001b[0m in \u001b[0;36m<module>\u001b[0;34m\u001b[0m\n\u001b[1;32m      1\u001b[0m \u001b[0;31m#allUsers = graph.nodes.match(nodes=['User'], r_type='MEMBER_OF').all()\u001b[0m\u001b[0;34m\u001b[0m\u001b[0;34m\u001b[0m\u001b[0m\n\u001b[1;32m      2\u001b[0m \u001b[0mallUsers\u001b[0m \u001b[0;34m=\u001b[0m \u001b[0mgraph\u001b[0m\u001b[0;34m.\u001b[0m\u001b[0mnodes\u001b[0m\u001b[0;34m.\u001b[0m\u001b[0mmatch\u001b[0m\u001b[0;34m(\u001b[0m\u001b[0;34m'User'\u001b[0m\u001b[0;34m)\u001b[0m\u001b[0;34m\u001b[0m\u001b[0;34m\u001b[0m\u001b[0m\n\u001b[0;32m----> 3\u001b[0;31m \u001b[0mallUsers\u001b[0m\u001b[0;34m.\u001b[0m\u001b[0mto_table\u001b[0m\u001b[0;34m(\u001b[0m\u001b[0;34m)\u001b[0m\u001b[0;34m\u001b[0m\u001b[0;34m\u001b[0m\u001b[0m\n\u001b[0m",
      "\u001b[0;31mAttributeError\u001b[0m: 'NodeMatch' object has no attribute 'to_table'"
     ]
    }
   ],
   "source": [
    "#allUsers = graph.nodes.match(nodes=['User'], r_type='MEMBER_OF').all()\n",
    "allUsers = graph.nodes.match('User')\n",
    "allUsers.to_table()"
   ]
  },
  {
   "cell_type": "code",
   "execution_count": 182,
   "id": "04d9359a-597d-413e-92b1-c01b042aa1db",
   "metadata": {},
   "outputs": [
    {
     "name": "stdout",
     "output_type": "stream",
     "text": [
      "(_0:Movie {released: 1999, tagline: 'Welcome to the Real World', title: 'The Matrix'})\n",
      "(_1:Person {born: 1964, name: 'Keanu Reeves'})\n",
      "(_2:Person {born: 1967, name: 'Carrie-Anne Moss'})\n",
      "(_3:Person {born: 1961, name: 'Laurence Fishburne'})\n",
      "(_4:Person {born: 1960, name: 'Hugo Weaving'})\n",
      "(_5:Person {born: 1967, name: 'Lilly Wachowski'})\n",
      "(_6:Person {born: 1965, name: 'Lana Wachowski'})\n",
      "(_7:Person {born: 1952, name: 'Joel Silver'})\n",
      "(_8:Person {born: 1978, name: 'Emil Eifrem'})\n",
      "(_9:Movie {released: 2003, tagline: 'Free your mind', title: 'The Matrix Reloaded'})\n",
      "(_10:Movie {released: 2003, tagline: 'Everything that has a beginning has an end', title: 'The Matrix Revolutions'})\n"
     ]
    }
   ],
   "source": [
    "graph = Graph(\n",
    "    host='192.168.1.100',\n",
    "    port=7687,\n",
    "    user='neo4j',\n",
    "    password='s3cr3t',\n",
    ")\n",
    "\n",
    "for index in graph.nodes:\n",
    "    if index > 10:\n",
    "        break\n",
    "    print(graph.nodes[index])"
   ]
  },
  {
   "cell_type": "markdown",
   "id": "052645f1-7daa-4bac-8c1b-d328d797e7f5",
   "metadata": {},
   "source": [
    "## Poznámky"
   ]
  },
  {
   "cell_type": "markdown",
   "id": "e68389d8-55ba-4d05-a87d-23f3e3ccd39c",
   "metadata": {},
   "source": [
    "https://www.youtube.com/watch?v=2It9NofBWYg (Scaling GraphQL)\n",
    "\n",
    "https://www.youtube.com/watch?v=wPPFhcqGcvk (GraphQL at Github)"
   ]
  }
 ],
 "metadata": {
  "kernelspec": {
   "display_name": "Python 3 (ipykernel)",
   "language": "python",
   "name": "python3"
  },
  "language_info": {
   "codemirror_mode": {
    "name": "ipython",
    "version": 3
   },
   "file_extension": ".py",
   "mimetype": "text/x-python",
   "name": "python",
   "nbconvert_exporter": "python",
   "pygments_lexer": "ipython3",
   "version": "3.9.7"
  },
  "toc-autonumbering": true
 },
 "nbformat": 4,
 "nbformat_minor": 5
}
