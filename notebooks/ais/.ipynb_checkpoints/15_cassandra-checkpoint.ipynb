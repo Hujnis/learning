{
 "cells": [
  {
   "cell_type": "markdown",
   "id": "43647aa4-420f-42ed-a23f-ec1b6b98be07",
   "metadata": {},
   "source": [
    "# Cassandra"
   ]
  },
  {
   "cell_type": "markdown",
   "id": "fa5c5acd-9082-415a-a013-1ee385a3ca23",
   "metadata": {},
   "source": [
    "## Instalace v Docker"
   ]
  },
  {
   "cell_type": "markdown",
   "id": "8688a0a5-9588-4153-883a-0a58b3f85c65",
   "metadata": {},
   "source": [
    "```yaml\n",
    "version: '2'\n",
    "\n",
    "services: \n",
    " cas1: \n",
    "    container_name: cas1\n",
    "    image: cassandra:latest\n",
    "    volumes:\n",
    "      - /Development/PetProjects/CassandraTut/data/node1:/var/lib/cassandra/data\n",
    "    ports:\n",
    "      - 9042:9042\n",
    "    environment:\n",
    "      - CASSANDRA_START_RPC=true\n",
    "      - CASSANDRA_CLUSTER_NAME=MyCluster\n",
    "      - CASSANDRA_ENDPOINT_SNITCH=GossipingPropertyFileSnitch\n",
    "      - CASSANDRA_DC=datacenter1\n",
    " cas2:\n",
    "  container_name: cas2\n",
    "  image: cassandra:latest\n",
    "  volumes:\n",
    "      - /Development/PetProjects/CassandraTut/data/node2:/var/lib/cassandra/data\n",
    "  ports:\n",
    "      - 9043:9042\n",
    "  command: bash -c 'sleep 60;  /docker-entrypoint.sh cassandra -f'\n",
    "  depends_on:\n",
    "    - cas1\n",
    "  environment:\n",
    "      - CASSANDRA_START_RPC=true\n",
    "      - CASSANDRA_CLUSTER_NAME=MyCluster\n",
    "      - CASSANDRA_ENDPOINT_SNITCH=GossipingPropertyFileSnitch\n",
    "      - CASSANDRA_DC=datacenter1\n",
    "      - CASSANDRA_SEEDS=cas1\n",
    "```"
   ]
  },
  {
   "cell_type": "code",
   "execution_count": null,
   "id": "ac18c245-5dd5-4448-ac6e-d3e98a14cbb3",
   "metadata": {},
   "outputs": [],
   "source": []
  },
  {
   "cell_type": "code",
   "execution_count": null,
   "id": "1289749b-02d8-4e92-8c6f-12c3254d8525",
   "metadata": {},
   "outputs": [],
   "source": [
    "https://towardsdatascience.com/getting-started-with-apache-cassandra-and-python-81e00ccf17c9"
   ]
  },
  {
   "cell_type": "code",
   "execution_count": null,
   "id": "ba31dfea-4fd1-46bf-b6b6-5c775d3d3da3",
   "metadata": {},
   "outputs": [],
   "source": [
    "https://docs.datastax.com/en/developer/python-driver/3.25/"
   ]
  }
 ],
 "metadata": {
  "kernelspec": {
   "display_name": "Python 3 (ipykernel)",
   "language": "python",
   "name": "python3"
  },
  "language_info": {
   "codemirror_mode": {
    "name": "ipython",
    "version": 3
   },
   "file_extension": ".py",
   "mimetype": "text/x-python",
   "name": "python",
   "nbconvert_exporter": "python",
   "pygments_lexer": "ipython3",
   "version": "3.9.7"
  }
 },
 "nbformat": 4,
 "nbformat_minor": 5
}
