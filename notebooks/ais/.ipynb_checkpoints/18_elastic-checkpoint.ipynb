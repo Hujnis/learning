{
 "cells": [
  {
   "cell_type": "markdown",
   "id": "c657d0f0-8605-4e55-829d-de3fa1e1e16c",
   "metadata": {},
   "source": [
    "# Elasticsearch"
   ]
  },
  {
   "cell_type": "markdown",
   "id": "fc306147-e429-49b6-a0fa-1a4579bf5c05",
   "metadata": {},
   "source": [
    "> **Doporučené video**\n",
    ">\n",
    "> https://www.youtube.com/watch?v=UWR9G-U88X0\n",
    ">\n",
    "> https://www.youtube.com/watch?v=C3tlMqaNSaI"
   ]
  },
  {
   "cell_type": "markdown",
   "id": "e011dd4d-51f1-476e-804f-57cba7721d7a",
   "metadata": {},
   "source": [
    "https://www.elastic.co\n",
    "\n",
    "```shell\n",
    "docker network create elastic\n",
    "docker run --name es01 --net elastic -p 9200:9200 -p 9300:9300 -it docker.elastic.co/elasticsearch/elasticsearch:8.2.0\n",
    "docker run --name es01 -m 262144 -p 9200:9200 -p 9300:9300 -it docker.elastic.co/elasticsearch/elasticsearch:8.2.0\n",
    "```\n"
   ]
  },
  {
   "cell_type": "markdown",
   "id": "886e4eaf-4d20-4603-adfd-a95fb1fe6018",
   "metadata": {},
   "source": [
    "https://www.elastic.co/guide/en/elasticsearch/client/python-api/current/overview.html"
   ]
  },
  {
   "cell_type": "markdown",
   "id": "2a1f5fd3-3919-4287-8508-59e1835f7308",
   "metadata": {},
   "source": [
    "sysctl -w vm.max_map_count=262144"
   ]
  },
  {
   "cell_type": "markdown",
   "id": "53aba0f4-f64f-4ab6-a111-8b719d261b59",
   "metadata": {},
   "source": [
    "Definiční soubor (docker-compose.yaml) pro sestavu služeb (Elasticsearch + Kibana) je níže. Komunikace s Elasticsearch je nezabezpečená (http, nikoliv https)"
   ]
  },
  {
   "cell_type": "markdown",
   "id": "fcff3ece-235f-419e-b5d0-87b2e01b25d3",
   "metadata": {},
   "source": [
    "```yaml\n",
    "version: \"3.4\"\n",
    "\n",
    "services:\n",
    "  es01:\n",
    "    image: docker.elastic.co/elasticsearch/elasticsearch:8.2.0\n",
    "    ports:\n",
    "      - 9200:9200\n",
    "    environment:\n",
    "      - ELASTIC_PASSWORD=example\n",
    "      - KIBANA_PASSWORD=example\n",
    "\n",
    "      - node.name=es01\n",
    "      - cluster.initial_master_nodes=es01\n",
    "      - xpack.security.enabled=false\n",
    "\n",
    "    volumes:\n",
    "      - ./certs:/usr/share/elasticsearch/config/certs\n",
    "      - ./esdata01:/usr/share/elasticsearch/data\n",
    "\n",
    "    deploy:\n",
    "      resources:\n",
    "        limits:\n",
    "          memory: 256M\n",
    "\n",
    "  kibana:\n",
    "    image: docker.elastic.co/kibana/kibana:8.2.0\n",
    "    volumes:\n",
    "      - ./certs:/usr/share/kibana/config/certs\n",
    "    ports:\n",
    "      - 5601:5601\n",
    "    deploy:\n",
    "      resources:\n",
    "        limits:\n",
    "          memory: 256M\n",
    "    environment:\n",
    "      - SERVERNAME=kibana\n",
    "      - ELASTICSEARCH_HOSTS=http://es01:9200\n",
    "      - ELASTICSEARCH_USERNAME=kibana_system\n",
    "      - ELASTICSEARCH_PASSWORD=example\n",
    "```"
   ]
  },
  {
   "cell_type": "markdown",
   "id": "76370505-9656-4867-85af-3cad2d866ca7",
   "metadata": {},
   "source": [
    "Pokud je nutná zabezpečená komunikace, což je doporučeno pro deployment, a není zde alternativní řešení, jako je např. proxy (nginx), je nutné vygenerovat certifikáty. Skript níže takové generování provádí v rámci docker služby do specifického adresáře, který je sdílen formou volume a může být poskytnut do služby Elasticsearch. Jako image pro službu je použit elasticsearch:8.2.0, který toto umožňuje a je použit pro spuštění služby Elasticsearch. Díky tomu nedochází ke stažení dalšího image kontejneru (šetří se prostředky na úložiště pro počítač hostující docker)."
   ]
  },
  {
   "cell_type": "markdown",
   "id": "d3ff8ed4-1470-4d85-8759-0142063d1eb8",
   "metadata": {},
   "source": [
    "```yaml\n",
    "version: \"3.4\"\n",
    "\n",
    "services:\n",
    "  setup:\n",
    "    image: docker.elastic.co/elasticsearch/elasticsearch:8.2.0\n",
    "    volumes:\n",
    "      - ./certs:/usr/share/elasticsearch/config/certs\n",
    "    user: \"0\"\n",
    "    command: >\n",
    "      bash -c '\n",
    "        printenv\n",
    "        \n",
    "        echo \"Creating CA\";\n",
    "        bin/elasticsearch-certutil ca --silent --pem -out config/certs/ca.zip;\n",
    "        unzip config/certs/ca.zip -d config/certs;\n",
    "\n",
    "        echo \"Creating certs\";\n",
    "        echo -ne \\\n",
    "        \"instances:\\n\"\\\n",
    "        \"  - name: es01\\n\"\\\n",
    "        \"    dns:\\n\"\\\n",
    "        \"      - es01\\n\"\\\n",
    "        \"      - localhost\\n\"\\\n",
    "        \"    ip:\\n\"\\\n",
    "        \"      - 127.0.0.1\\n\"\\\n",
    "        > config/certs/instances.yml;\n",
    "        bin/elasticsearch-certutil cert --silent --pem -out config/certs/certs.zip --in config/certs/instances.yml --ca-cert config/certs/ca/ca.crt --ca-key config/certs/ca/ca.key;\n",
    "        unzip config/certs/certs.zip -d config/certs;\n",
    " \n",
    "        echo \"Setting file permissions 1\"\n",
    "        chown -R root:root config/certs;\n",
    "        echo \"Setting file permissions 2\"\n",
    "        find . -type d -exec chmod 750 \\{\\} \\;;\n",
    "        echo \"Setting file permissions 3\"\n",
    "        find . -type f -exec chmod 640 \\{\\} \\;;\n",
    "      '\n",
    "\n",
    "```"
   ]
  },
  {
   "cell_type": "markdown",
   "id": "57f4df7f-3f47-4dba-8fac-e9169d65fef3",
   "metadata": {},
   "source": [
    "## Single node setup"
   ]
  },
  {
   "cell_type": "markdown",
   "id": "91d7d410-d5e6-4401-8739-1722d9bb40ce",
   "metadata": {},
   "source": [
    "```yaml\n",
    "version: \"3.4\"\n",
    "\n",
    "services:\n",
    "  es01:\n",
    "    image: docker.elastic.co/elasticsearch/elasticsearch:8.2.0\n",
    "    ports:\n",
    "      - 9200:9200\n",
    "    environment:\n",
    "      - ELASTIC_PASSWORD=example\n",
    "      - KIBANA_PASSWORD=example\n",
    "\n",
    "      - node.name=es01\n",
    "      - xpack.security.enabled=false\n",
    "      - discovery.type=single-node\n",
    "\n",
    "    volumes:\n",
    "      - ./certs:/usr/share/elasticsearch/config/certs\n",
    "      - ./esdata01:/usr/share/elasticsearch/data\n",
    "\n",
    "    deploy:\n",
    "      resources:\n",
    "        limits:\n",
    "          memory: 256M\n",
    "    ulimits:\n",
    "      memlock:\n",
    "        soft: -1\n",
    "        hard: -1\n",
    "\n",
    "  kibana:\n",
    "    image: docker.elastic.co/kibana/kibana:8.2.0\n",
    "    volumes:\n",
    "      - ./certs:/usr/share/kibana/config/certs\n",
    "    ports:\n",
    "      - 5601:5601\n",
    "    deploy:\n",
    "      resources:\n",
    "        limits:\n",
    "          memory: 256M\n",
    "    environment:\n",
    "      - SERVERNAME=kibana\n",
    "      - ELASTICSEARCH_HOSTS=http://es01:9200\n",
    "      - ELASTICSEARCH_USERNAME=kibana_system\n",
    "      - ELASTICSEARCH_PASSWORD=example\n",
    "```"
   ]
  },
  {
   "cell_type": "markdown",
   "id": "6bbb75e3-dd87-45ba-a262-a4e4efe9555c",
   "metadata": {},
   "source": [
    "## HTTP"
   ]
  },
  {
   "cell_type": "markdown",
   "id": "de8650a5-e3db-4755-a36f-4fe0f9c3efc3",
   "metadata": {},
   "source": [
    "https://www.elastic.co/guide/en/elasticsearch/reference/current/docs.html"
   ]
  },
  {
   "cell_type": "code",
   "execution_count": 12,
   "id": "f09605ce-1a35-4698-95cf-fd4b7e6d2ffd",
   "metadata": {},
   "outputs": [],
   "source": [
    "esHost = 'http://192.168.1.100:9200'"
   ]
  },
  {
   "cell_type": "code",
   "execution_count": 15,
   "id": "899fb84b-2693-4165-b045-b57b7564230e",
   "metadata": {},
   "outputs": [
    {
     "name": "stdout",
     "output_type": "stream",
     "text": [
      "{\"test-index\":{\"aliases\":{},\"mappings\":{\"properties\":{\"author\":{\"type\":\"text\",\"fields\":{\"keyword\":{\"type\":\"keyword\",\"ignore_above\":256}}},\"text\":{\"type\":\"text\",\"fields\":{\"keyword\":{\"type\":\"keyword\",\"ignore_above\":256}}},\"timestamp\":{\"type\":\"date\"}}},\"settings\":{\"index\":{\"routing\":{\"allocation\":{\"include\":{\"_tier_preference\":\"data_content\"}}},\"number_of_shards\":\"1\",\"provided_name\":\"test-index\",\"creation_date\":\"1654106349497\",\"number_of_replicas\":\"1\",\"uuid\":\"p1Xk7raWTOm6Jvc4NuTaFw\",\"version\":{\"created\":\"8020099\"}}}}}\n"
     ]
    }
   ],
   "source": [
    "import requests\n",
    "response = requests.get(f'{esHost}/test-index')\n",
    "print(response.text)"
   ]
  },
  {
   "cell_type": "code",
   "execution_count": 17,
   "id": "6c1fa6e7-7565-402f-b2e6-01be82f89450",
   "metadata": {},
   "outputs": [
    {
     "name": "stdout",
     "output_type": "stream",
     "text": [
      "{\"acknowledged\":true,\"shards_acknowledged\":true,\"index\":\"school-index\"}\n"
     ]
    }
   ],
   "source": [
    "import requests\n",
    "response = requests.put(f'{esHost}/school-index')\n",
    "print(response.text)"
   ]
  },
  {
   "cell_type": "code",
   "execution_count": 33,
   "id": "4a300d2b-594f-42be-9b62-0c6c6d5a9c67",
   "metadata": {},
   "outputs": [
    {
     "name": "stdout",
     "output_type": "stream",
     "text": [
      "{\"_index\":\"school-index\",\"_id\":\"PZrBIIEBmQJwmuCeW7Au\",\"_version\":1,\"result\":\"created\",\"_shards\":{\"total\":2,\"successful\":1,\"failed\":0},\"_seq_no\":0,\"_primary_term\":1}\n"
     ]
    }
   ],
   "source": [
    "doc = {\n",
    "    '_type': 'book',\n",
    "    'text': 'Elasticsearch: cool. bonsai cool.',\n",
    "    'timestamp': f'{datetime.now()}',\n",
    "}\n",
    "import requests\n",
    "response = requests.post(f'{esHost}/school-index/_doc', json=doc)\n",
    "print(response.text)"
   ]
  },
  {
   "cell_type": "code",
   "execution_count": 34,
   "id": "23f09e16-e20a-44bf-afc2-a08d8909c900",
   "metadata": {},
   "outputs": [
    {
     "name": "stdout",
     "output_type": "stream",
     "text": [
      "{'_index': 'school-index', '_id': 'PZrBIIEBmQJwmuCeW7Au', '_version': 1, 'result': 'created', '_shards': {'total': 2, 'successful': 1, 'failed': 0}, '_seq_no': 0, '_primary_term': 1}\n"
     ]
    }
   ],
   "source": [
    "import json\n",
    "\n",
    "responseJson = json.loads(response.text)\n",
    "print(responseJson)"
   ]
  },
  {
   "cell_type": "code",
   "execution_count": 35,
   "id": "5397debe-0aca-42a5-8126-8423a636debd",
   "metadata": {},
   "outputs": [
    {
     "name": "stdout",
     "output_type": "stream",
     "text": [
      "{'_index': 'school-index', '_id': 'PZrBIIEBmQJwmuCeW7Au', '_version': 1, '_seq_no': 0, '_primary_term': 1, 'found': True, '_source': {'_type': 'book', 'text': 'Elasticsearch: cool. bonsai cool.', 'timestamp': '2022-06-01 19:32:31.642219'}}\n"
     ]
    }
   ],
   "source": [
    "import requests\n",
    "response = requests.get(f'{esHost}/school-index/_doc/{responseJson[\"_id\"]}')\n",
    "print(response.json())"
   ]
  },
  {
   "cell_type": "markdown",
   "id": "b8681a12-75b5-40f5-8279-316460f3607b",
   "metadata": {},
   "source": [
    "## Instalace knihovny pro Python"
   ]
  },
  {
   "cell_type": "code",
   "execution_count": 1,
   "id": "d58e5f2d-2d10-4544-9d12-34698200f548",
   "metadata": {},
   "outputs": [
    {
     "name": "stdout",
     "output_type": "stream",
     "text": [
      "Collecting elasticsearch[async]\n",
      "  Downloading elasticsearch-8.2.2-py3-none-any.whl (378 kB)\n",
      "\u001b[2K     \u001b[90m━━━━━━━━━━━━━━━━━━━━━━━━━━━━━━━━━━━━━━━\u001b[0m \u001b[32m378.7/378.7 kB\u001b[0m \u001b[31m3.3 MB/s\u001b[0m eta \u001b[36m0:00:00\u001b[0ma \u001b[36m0:00:01\u001b[0m\n",
      "\u001b[?25hCollecting elastic-transport<9,>=8\n",
      "  Downloading elastic_transport-8.1.2-py3-none-any.whl (59 kB)\n",
      "\u001b[2K     \u001b[90m━━━━━━━━━━━━━━━━━━━━━━━━━━━━━━━━━━━━━━━━\u001b[0m \u001b[32m59.3/59.3 kB\u001b[0m \u001b[31m5.3 MB/s\u001b[0m eta \u001b[36m0:00:00\u001b[0m\n",
      "\u001b[?25hRequirement already satisfied: aiohttp<4,>=3 in /opt/conda/lib/python3.9/site-packages (from elasticsearch[async]) (3.8.1)\n",
      "Requirement already satisfied: charset-normalizer<3.0,>=2.0 in /opt/conda/lib/python3.9/site-packages (from aiohttp<4,>=3->elasticsearch[async]) (2.0.12)\n",
      "Requirement already satisfied: async-timeout<5.0,>=4.0.0a3 in /opt/conda/lib/python3.9/site-packages (from aiohttp<4,>=3->elasticsearch[async]) (4.0.2)\n",
      "Requirement already satisfied: attrs>=17.3.0 in /opt/conda/lib/python3.9/site-packages (from aiohttp<4,>=3->elasticsearch[async]) (21.4.0)\n",
      "Requirement already satisfied: yarl<2.0,>=1.0 in /opt/conda/lib/python3.9/site-packages (from aiohttp<4,>=3->elasticsearch[async]) (1.7.2)\n",
      "Requirement already satisfied: frozenlist>=1.1.1 in /opt/conda/lib/python3.9/site-packages (from aiohttp<4,>=3->elasticsearch[async]) (1.3.0)\n",
      "Requirement already satisfied: aiosignal>=1.1.2 in /opt/conda/lib/python3.9/site-packages (from aiohttp<4,>=3->elasticsearch[async]) (1.2.0)\n",
      "Requirement already satisfied: multidict<7.0,>=4.5 in /opt/conda/lib/python3.9/site-packages (from aiohttp<4,>=3->elasticsearch[async]) (6.0.2)\n",
      "Requirement already satisfied: urllib3<2,>=1.26.2 in /opt/conda/lib/python3.9/site-packages (from elastic-transport<9,>=8->elasticsearch[async]) (1.26.9)\n",
      "Requirement already satisfied: certifi in /opt/conda/lib/python3.9/site-packages (from elastic-transport<9,>=8->elasticsearch[async]) (2021.10.8)\n",
      "Requirement already satisfied: idna>=2.0 in /opt/conda/lib/python3.9/site-packages (from yarl<2.0,>=1.0->aiohttp<4,>=3->elasticsearch[async]) (3.3)\n",
      "Installing collected packages: elastic-transport, elasticsearch\n",
      "Successfully installed elastic-transport-8.1.2 elasticsearch-8.2.2\n"
     ]
    }
   ],
   "source": [
    "!pip install elasticsearch[async]"
   ]
  },
  {
   "cell_type": "markdown",
   "id": "33c006d8-6a4d-4b5f-ba2d-0000247985f7",
   "metadata": {},
   "source": [
    "## CRUD ?"
   ]
  },
  {
   "cell_type": "markdown",
   "id": "4e53932a-16ab-4436-bd87-53dbc53b056b",
   "metadata": {},
   "source": [
    "### Connection"
   ]
  },
  {
   "cell_type": "code",
   "execution_count": null,
   "id": "058af3ff-5a6f-46cf-bee6-1fcc9b79d6e4",
   "metadata": {},
   "outputs": [],
   "source": [
    "from datetime import datetime\n",
    "from elasticsearch import Elasticsearch\n",
    "es = Elasticsearch('http://192.168.1.100:9200')\n",
    "\n",
    "doc = {\n",
    "    'author': 'kimchy',\n",
    "    'text': 'Elasticsearch: cool. bonsai cool.',\n",
    "    'timestamp': datetime.now(),\n",
    "}"
   ]
  },
  {
   "cell_type": "markdown",
   "id": "2065de2d-24fb-4ac2-92b9-bddbcef277c0",
   "metadata": {},
   "source": [
    "### Create / Update"
   ]
  },
  {
   "cell_type": "code",
   "execution_count": 18,
   "id": "9b119f8c-a5fa-48d7-92cb-3ec5ca8619d0",
   "metadata": {},
   "outputs": [
    {
     "name": "stdout",
     "output_type": "stream",
     "text": [
      "created\n"
     ]
    }
   ],
   "source": [
    "from datetime import datetime\n",
    "from elasticsearch import Elasticsearch\n",
    "es = Elasticsearch('http://192.168.1.100:9200')\n",
    "\n",
    "doc = {\n",
    "    '_type': 'book',\n",
    "    'author': 'kimchy',\n",
    "    'text': 'Elasticsearch: cool. bonsai cool.',\n",
    "    'timestamp': datetime.now(),\n",
    "}\n",
    "\n",
    "resp = es.index(index=\"test-index\", id=1, document=doc)\n",
    "print(resp['result'])\n",
    "\n"
   ]
  },
  {
   "cell_type": "markdown",
   "id": "099c8891-6c98-46ba-a510-f2df40c6a269",
   "metadata": {},
   "source": [
    "**Pure update**"
   ]
  },
  {
   "cell_type": "code",
   "execution_count": 38,
   "id": "eeb32c47-4403-4875-b5c3-4f29ad9d49fc",
   "metadata": {},
   "outputs": [
    {
     "name": "stdout",
     "output_type": "stream",
     "text": [
      "updated\n"
     ]
    }
   ],
   "source": [
    "doc = {\n",
    "    'author': 'author_name',\n",
    "    'text': 'Interensting modified content...',\n",
    "    'timestamp': datetime.now(),\n",
    "}\n",
    "resp = es.update(index=\"test-index\", id=1, doc=doc) # FIHA doc!\n",
    "print(resp['result'])"
   ]
  },
  {
   "cell_type": "markdown",
   "id": "cd902902-866a-4286-9e32-677e9474b782",
   "metadata": {},
   "source": [
    "### Read"
   ]
  },
  {
   "cell_type": "code",
   "execution_count": 10,
   "id": "887674d3-c292-47ba-a06b-95e46c0669f6",
   "metadata": {},
   "outputs": [
    {
     "name": "stdout",
     "output_type": "stream",
     "text": [
      "{'author': 'kimchy', 'text': 'Elasticsearch: cool. bonsai cool.', 'timestamp': '2022-06-01T18:08:13.830525'}\n",
      "Got 1 Hits:\n",
      "1\n",
      "2022-06-01T18:08:13.830525 kimchy: Elasticsearch: cool. bonsai cool.\n"
     ]
    }
   ],
   "source": [
    "resp = es.get(index=\"test-index\", id=1)\n",
    "print(resp['_source'])\n",
    "\n",
    "es.indices.refresh(index=\"test-index\")\n",
    "\n",
    "resp = es.search(index=\"test-index\", query={\"match_all\": {}})\n",
    "print(\"Got %d Hits:\" % resp['hits']['total']['value'])\n",
    "for hit in resp['hits']['hits']:\n",
    "    print('id:', hit[\"_id\"])\n",
    "    print(\"%(timestamp)s %(author)s: %(text)s\" % hit[\"_source\"])\n",
    "    "
   ]
  },
  {
   "cell_type": "markdown",
   "id": "64d75f2b-d019-4a79-8466-707475ac1e07",
   "metadata": {},
   "source": [
    "### Delete"
   ]
  },
  {
   "cell_type": "code",
   "execution_count": 11,
   "id": "88ec6b62-dfd9-409e-9761-20b99e8ea561",
   "metadata": {},
   "outputs": [
    {
     "name": "stdout",
     "output_type": "stream",
     "text": [
      "{'_index': 'test-index', '_id': '1', '_version': 3, 'result': 'deleted', '_shards': {'total': 2, 'successful': 1, 'failed': 0}, '_seq_no': 2, '_primary_term': 1}\n"
     ]
    }
   ],
   "source": [
    "resp = es.delete(index=\"test-index\", id=1)\n",
    "print(resp)\n"
   ]
  },
  {
   "cell_type": "markdown",
   "id": "9efb28a8-697b-4717-863c-4f71a864c08c",
   "metadata": {},
   "source": [
    "## Full"
   ]
  },
  {
   "cell_type": "markdown",
   "id": "7ab1f02b-00df-47d6-b785-9f1e7cab13ba",
   "metadata": {},
   "source": [
    "https://www.ludekvesely.cz/serial-elasticsearch-3-prvni-kroky-ukladani-a-zobrazeni-dat/"
   ]
  },
  {
   "cell_type": "markdown",
   "id": "c0bcd7c9-507e-48ab-b5d3-7cbdea028442",
   "metadata": {},
   "source": [
    "### Smazání indexu"
   ]
  },
  {
   "cell_type": "code",
   "execution_count": 50,
   "id": "fe1e8270-0559-4284-8dd1-bd15eb1e9663",
   "metadata": {},
   "outputs": [
    {
     "name": "stdout",
     "output_type": "stream",
     "text": [
      "{\"acknowledged\":true}\n"
     ]
    }
   ],
   "source": [
    "import requests\n",
    "response = requests.delete(f'{esHost}/products')\n",
    "print(response.text)"
   ]
  },
  {
   "cell_type": "markdown",
   "id": "4275c9df-b9b7-48ed-a41c-1b5e4431a93f",
   "metadata": {},
   "source": [
    "### Vytvoření indexu s explicitním mapováním"
   ]
  },
  {
   "cell_type": "code",
   "execution_count": 52,
   "id": "2737fb07-922e-4dfc-8008-1978121ef872",
   "metadata": {},
   "outputs": [
    {
     "name": "stdout",
     "output_type": "stream",
     "text": [
      "{\"acknowledged\":true,\"shards_acknowledged\":true,\"index\":\"products\"}\n"
     ]
    }
   ],
   "source": [
    "doc = {\n",
    "    \"settings\" : {\n",
    "        \"index\" : {\n",
    "            \"number_of_shards\" : 1, \n",
    "            \"number_of_replicas\" : 0 \n",
    "        }\n",
    "    },\n",
    "    \"mappings\": {\n",
    "        \"properties\": {\n",
    "          \"age\":    { \"type\": \"integer\" },  \n",
    "          \"email\":  { \"type\": \"keyword\"  }, \n",
    "          \"name\":   { \"type\": \"text\"  }     \n",
    "        }\n",
    "    }\n",
    "}\n",
    "import requests\n",
    "response = requests.put(f'{esHost}/products', json=doc)\n",
    "print(response.text)"
   ]
  },
  {
   "cell_type": "markdown",
   "id": "6d77c6e1-cf66-4e81-ad4e-6a0689df509d",
   "metadata": {},
   "source": [
    "### Vlastnosti indexu"
   ]
  },
  {
   "cell_type": "code",
   "execution_count": 53,
   "id": "103b7d25-9087-489d-bc11-ba59e166a4b0",
   "metadata": {},
   "outputs": [
    {
     "name": "stdout",
     "output_type": "stream",
     "text": [
      "{\"products\":{\"aliases\":{},\"mappings\":{\"properties\":{\"age\":{\"type\":\"integer\"},\"email\":{\"type\":\"keyword\"},\"name\":{\"type\":\"text\"}}},\"settings\":{\"index\":{\"routing\":{\"allocation\":{\"include\":{\"_tier_preference\":\"data_content\"}}},\"number_of_shards\":\"1\",\"provided_name\":\"products\",\"creation_date\":\"1654113299808\",\"number_of_replicas\":\"0\",\"uuid\":\"KG-OghRWQ5mPSXZoVHafYw\",\"version\":{\"created\":\"8020099\"}}}}}\n"
     ]
    }
   ],
   "source": [
    "import requests\n",
    "response = requests.get(f'{esHost}/products')\n",
    "print(response.text)"
   ]
  },
  {
   "cell_type": "code",
   "execution_count": 60,
   "id": "395aec4d-0ebc-4630-8ce6-488010c22537",
   "metadata": {},
   "outputs": [
    {
     "name": "stdout",
     "output_type": "stream",
     "text": [
      "{\"products\":{\"mappings\":{\"properties\":{\"age\":{\"type\":\"integer\"},\"email\":{\"type\":\"keyword\"},\"name\":{\"type\":\"text\"}}}}}\n"
     ]
    }
   ],
   "source": [
    "import requests\n",
    "response = requests.get(f'{esHost}/products/_mapping')\n",
    "print(response.text)"
   ]
  },
  {
   "cell_type": "markdown",
   "id": "099c8ca7-545f-4336-86b2-debc3cf716a2",
   "metadata": {},
   "source": [
    "### Vložení dokumentu do indexu"
   ]
  },
  {
   "cell_type": "markdown",
   "id": "f00411f9-be37-4ed0-bd80-178d4f428049",
   "metadata": {},
   "source": [
    "Explicitní index?"
   ]
  },
  {
   "cell_type": "code",
   "execution_count": 55,
   "id": "c7c6c975-a5a7-4b45-9bfd-1375e9a4620e",
   "metadata": {},
   "outputs": [
    {
     "name": "stdout",
     "output_type": "stream",
     "text": [
      "{\"_index\":\"products\",\"_id\":\"PprZIIEBmQJwmuCeJLDf\",\"_version\":1,\"result\":\"created\",\"_shards\":{\"total\":1,\"successful\":1,\"failed\":0},\"_seq_no\":0,\"_primary_term\":1}\n"
     ]
    }
   ],
   "source": [
    "doc = {\n",
    "    \"age\": 26,\n",
    "    \"email\": \"someone@somewhere.world\",  \n",
    "    \"name\": \"Someone John\"\n",
    "}\n",
    "\n",
    "import requests\n",
    "response = requests.post(f'{esHost}/products/_doc', json=doc)\n",
    "print(response.text)"
   ]
  },
  {
   "cell_type": "code",
   "execution_count": 56,
   "id": "4d6aa373-d3a1-4440-98a2-e4bbb25e10bf",
   "metadata": {},
   "outputs": [
    {
     "name": "stdout",
     "output_type": "stream",
     "text": [
      "{\"_index\":\"products\",\"_id\":\"P5rZIIEBmQJwmuCexrDy\",\"_version\":1,\"result\":\"created\",\"_shards\":{\"total\":1,\"successful\":1,\"failed\":0},\"_seq_no\":1,\"_primary_term\":1}\n"
     ]
    }
   ],
   "source": [
    "doc = {\n",
    "    \"age\": \"26\",\n",
    "    \"email\": \"some@somewhere.world\",  \n",
    "    \"name\": 4785\n",
    "}\n",
    "\n",
    "import requests\n",
    "response = requests.post(f'{esHost}/products/_doc', json=doc)\n",
    "print(response.text)"
   ]
  },
  {
   "cell_type": "code",
   "execution_count": 59,
   "id": "acddcafa-364f-4e28-b101-50ef26e8d807",
   "metadata": {},
   "outputs": [
    {
     "name": "stdout",
     "output_type": "stream",
     "text": [
      "{\"_index\":\"products\",\"_id\":\"P5rZIIEBmQJwmuCexrDy\",\"_version\":2,\"_seq_no\":2,\"_primary_term\":1,\"found\":true,\"_source\":{\"age\": \"26\", \"email\": \"some@somewhere.world\", \"name\": 4785}}\n"
     ]
    }
   ],
   "source": [
    "import requests\n",
    "id = response.json()['_id']\n",
    "response = requests.get(f'{esHost}/products/_doc/{id}')\n",
    "print(response.text)"
   ]
  },
  {
   "cell_type": "markdown",
   "id": "fab624ae-cdf1-46eb-bd61-bf52b9834618",
   "metadata": {},
   "source": [
    "## Analyze"
   ]
  },
  {
   "cell_type": "code",
   "execution_count": 61,
   "id": "3e36d9ac-0649-4b19-9429-d7a50bce972a",
   "metadata": {},
   "outputs": [
    {
     "name": "stdout",
     "output_type": "stream",
     "text": [
      "{\"tokens\":[{\"token\":\"the\",\"start_offset\":0,\"end_offset\":3,\"type\":\"<ALPHANUM>\",\"position\":0},{\"token\":\"2\",\"start_offset\":4,\"end_offset\":5,\"type\":\"<NUM>\",\"position\":1},{\"token\":\"quick\",\"start_offset\":6,\"end_offset\":11,\"type\":\"<ALPHANUM>\",\"position\":2},{\"token\":\"brown\",\"start_offset\":12,\"end_offset\":17,\"type\":\"<ALPHANUM>\",\"position\":3},{\"token\":\"foxes\",\"start_offset\":18,\"end_offset\":23,\"type\":\"<ALPHANUM>\",\"position\":4},{\"token\":\"jumped\",\"start_offset\":24,\"end_offset\":30,\"type\":\"<ALPHANUM>\",\"position\":5},{\"token\":\"over\",\"start_offset\":31,\"end_offset\":35,\"type\":\"<ALPHANUM>\",\"position\":6},{\"token\":\"the\",\"start_offset\":36,\"end_offset\":39,\"type\":\"<ALPHANUM>\",\"position\":7},{\"token\":\"lazy\",\"start_offset\":40,\"end_offset\":44,\"type\":\"<ALPHANUM>\",\"position\":8},{\"token\":\"dog's\",\"start_offset\":45,\"end_offset\":50,\"type\":\"<ALPHANUM>\",\"position\":9},{\"token\":\"bone\",\"start_offset\":51,\"end_offset\":55,\"type\":\"<ALPHANUM>\",\"position\":10}]}\n"
     ]
    }
   ],
   "source": [
    "doc = {\n",
    "  \"analyzer\": \"standard\",\n",
    "  \"text\": \"The 2 QUICK Brown-Foxes jumped over the lazy dog's bone.\"\n",
    "}\n",
    "\n",
    "import requests\n",
    "response = requests.post(f'{esHost}/_analyze', json=doc)\n",
    "print(response.text)"
   ]
  },
  {
   "cell_type": "code",
   "execution_count": 62,
   "id": "a40b8420-0a14-43f0-bd01-4f266805a719",
   "metadata": {},
   "outputs": [
    {
     "name": "stdout",
     "output_type": "stream",
     "text": [
      "{'products': {'aliases': {}, 'mappings': {'properties': {'age': {'type': 'integer'}, 'email': {'type': 'keyword'}, 'name': {'type': 'text'}}}, 'settings': {'index': {'routing': {'allocation': {'include': {'_tier_preference': 'data_content'}}}, 'number_of_shards': '1', 'provided_name': 'products', 'creation_date': '1654113299808', 'number_of_replicas': '0', 'uuid': 'KG-OghRWQ5mPSXZoVHafYw', 'version': {'created': '8020099'}}}}}\n"
     ]
    }
   ],
   "source": [
    "import requests\n",
    "response = requests.get(f'{esHost}/products')\n",
    "responseJson = response.json()\n",
    "print(responseJson)"
   ]
  },
  {
   "cell_type": "code",
   "execution_count": 72,
   "id": "ff792380-bf1a-4533-bf70-41082b1ad837",
   "metadata": {},
   "outputs": [
    {
     "name": "stdout",
     "output_type": "stream",
     "text": [
      "{\"acknowledged\":true}\n",
      "{'acknowledged': True, 'shards_acknowledged': True, 'index': 'products'}\n"
     ]
    }
   ],
   "source": [
    "import requests\n",
    "response = requests.delete(f'{esHost}/products')\n",
    "print(response.text)\n",
    "\n",
    "doc = {\n",
    "  \"settings\": {\n",
    "    \"analysis\": {\n",
    "      \"analyzer\": {\n",
    "        \"my_english_analyzer\": {\n",
    "          \"type\": \"standard\",\n",
    "          \"max_token_length\": 5,\n",
    "          \"stopwords\": \"_english_\"\n",
    "        }\n",
    "      }\n",
    "    }\n",
    "  }\n",
    "}\n",
    "\n",
    "import requests\n",
    "response = requests.put(f'{esHost}/products', json=doc)\n",
    "responseJson = response.json()\n",
    "print(responseJson)"
   ]
  },
  {
   "cell_type": "code",
   "execution_count": 73,
   "id": "0a929287-3c5c-4327-aada-ee466f871cd2",
   "metadata": {},
   "outputs": [
    {
     "name": "stdout",
     "output_type": "stream",
     "text": [
      "{'tokens': [{'token': '2', 'start_offset': 4, 'end_offset': 5, 'type': '<NUM>', 'position': 1}, {'token': 'quick', 'start_offset': 6, 'end_offset': 11, 'type': '<ALPHANUM>', 'position': 2}, {'token': 'brown', 'start_offset': 12, 'end_offset': 17, 'type': '<ALPHANUM>', 'position': 3}, {'token': 'foxes', 'start_offset': 18, 'end_offset': 23, 'type': '<ALPHANUM>', 'position': 4}, {'token': 'jumpe', 'start_offset': 24, 'end_offset': 29, 'type': '<ALPHANUM>', 'position': 5}, {'token': 'd', 'start_offset': 29, 'end_offset': 30, 'type': '<ALPHANUM>', 'position': 6}, {'token': 'over', 'start_offset': 31, 'end_offset': 35, 'type': '<ALPHANUM>', 'position': 7}, {'token': 'lazy', 'start_offset': 40, 'end_offset': 44, 'type': '<ALPHANUM>', 'position': 9}, {'token': \"dog's\", 'start_offset': 45, 'end_offset': 50, 'type': '<ALPHANUM>', 'position': 10}, {'token': 'bone', 'start_offset': 51, 'end_offset': 55, 'type': '<ALPHANUM>', 'position': 11}]}\n"
     ]
    }
   ],
   "source": [
    "doc = {\n",
    "  \"analyzer\": \"my_english_analyzer\",\n",
    "  \"text\": \"The 2 QUICK Brown-Foxes jumped over the lazy dog's bone.\"\n",
    "}\n",
    "import requests\n",
    "response = requests.post(f'{esHost}/products/_analyze', json=doc)\n",
    "responseJson = response.json()\n",
    "print(responseJson)"
   ]
  },
  {
   "cell_type": "markdown",
   "id": "d763a1ad-a8b3-455f-b263-1b3cea14b8c6",
   "metadata": {},
   "source": [
    "### Pipeline"
   ]
  },
  {
   "cell_type": "markdown",
   "id": "fef2ae91-c509-4d0a-a3e0-48f9595d0cfe",
   "metadata": {},
   "source": [
    "https://www.elastic.co/guide/en/elasticsearch/reference/current/ingest.html"
   ]
  },
  {
   "cell_type": "markdown",
   "id": "c2ad2d97-3a64-4354-966c-f72df547acb2",
   "metadata": {},
   "source": [
    "# Tests"
   ]
  },
  {
   "cell_type": "markdown",
   "id": "12f9101c-2b29-4336-9a4f-f519e212c8b8",
   "metadata": {},
   "source": [
    "version: \"3.4\"\n",
    "\n",
    "services:\n",
    "  es01:\n",
    "    image: docker.elastic.co/elasticsearch/elasticsearch:8.2.0\n",
    "    ports:\n",
    "      - 9200:9200\n",
    "    environment:\n",
    "      - ELASTIC_PASSWORD=example\n",
    "      - KIBANA_PASSWORD=example\n",
    "\n",
    "      - node.name=es01\n",
    "      - cluster.initial_master_nodes=es01\n",
    "      - xpack.security.enabled=false\n",
    "      - discovery.type=single-node\n",
    "\n",
    "    volumes:\n",
    "      - ./certs:/usr/share/elasticsearch/config/certs\n",
    "      - ./esdata01:/usr/share/elasticsearch/data\n",
    "\n",
    "    deploy:\n",
    "      resources:\n",
    "        limits:\n",
    "          memory: 256M\n",
    "    ulimits:\n",
    "      memlock:\n",
    "        soft: -1\n",
    "        hard: -1\n",
    "\n",
    "  kibana:\n",
    "    image: docker.elastic.co/kibana/kibana:8.2.0\n",
    "    volumes:\n",
    "      - ./certs:/usr/share/kibana/config/certs\n",
    "    ports:\n",
    "      - 5601:5601\n",
    "    deploy:\n",
    "      resources:\n",
    "        limits:\n",
    "          memory: 256M\n",
    "    environment:\n",
    "      - SERVERNAME=kibana\n",
    "      - ELASTICSEARCH_HOSTS=http://es01:9200\n",
    "      - ELASTICSEARCH_USERNAME=kibana_system\n",
    "      - ELASTICSEARCH_PASSWORD=example"
   ]
  }
 ],
 "metadata": {
  "kernelspec": {
   "display_name": "Python 3 (ipykernel)",
   "language": "python",
   "name": "python3"
  },
  "language_info": {
   "codemirror_mode": {
    "name": "ipython",
    "version": 3
   },
   "file_extension": ".py",
   "mimetype": "text/x-python",
   "name": "python",
   "nbconvert_exporter": "python",
   "pygments_lexer": "ipython3",
   "version": "3.9.12"
  }
 },
 "nbformat": 4,
 "nbformat_minor": 5
}
