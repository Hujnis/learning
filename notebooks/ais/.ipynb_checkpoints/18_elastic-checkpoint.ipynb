{
 "cells": [
  {
   "cell_type": "markdown",
   "id": "c657d0f0-8605-4e55-829d-de3fa1e1e16c",
   "metadata": {},
   "source": [
    "# Elasticsearch"
   ]
  },
  {
   "cell_type": "markdown",
   "id": "e011dd4d-51f1-476e-804f-57cba7721d7a",
   "metadata": {},
   "source": [
    "https://www.elastic.co\n",
    "\n",
    "\n",
    "docker network create elastic\n",
    "docker run --name es01 --net elastic -p 9200:9200 -p 9300:9300 -it docker.elastic.co/elasticsearch/elasticsearch:8.2.0\n",
    "docker run --name es01 -m 262144 -p 9200:9200 -p 9300:9300 -it docker.elastic.co/elasticsearch/elasticsearch:8.2.0\n",
    "\n"
   ]
  },
  {
   "cell_type": "markdown",
   "id": "886e4eaf-4d20-4603-adfd-a95fb1fe6018",
   "metadata": {},
   "source": [
    "https://www.elastic.co/guide/en/elasticsearch/client/python-api/current/overview.html"
   ]
  },
  {
   "cell_type": "markdown",
   "id": "2a1f5fd3-3919-4287-8508-59e1835f7308",
   "metadata": {},
   "source": [
    "sysctl -w vm.max_map_count=262144"
   ]
  },
  {
   "cell_type": "markdown",
   "id": "53aba0f4-f64f-4ab6-a111-8b719d261b59",
   "metadata": {},
   "source": [
    "Definiční soubor (docker-compose.yaml) pro sestavu služeb (Elasticsearch + Kibana) je níže. Komunikace s Elasticsearch je nezabezpečená (http, nikoliv https)"
   ]
  },
  {
   "cell_type": "markdown",
   "id": "fcff3ece-235f-419e-b5d0-87b2e01b25d3",
   "metadata": {},
   "source": [
    "```yaml\n",
    "version: \"3.4\"\n",
    "\n",
    "services:\n",
    "  es01:\n",
    "    image: docker.elastic.co/elasticsearch/elasticsearch:8.2.0\n",
    "    ports:\n",
    "      - 9200:9200\n",
    "    environment:\n",
    "      - ELASTIC_PASSWORD=example\n",
    "      - KIBANA_PASSWORD=example\n",
    "\n",
    "      - node.name=es01\n",
    "      - cluster.initial_master_nodes=es01\n",
    "      - xpack.security.enabled=false\n",
    "\n",
    "    volumes:\n",
    "      - ./certs:/usr/share/elasticsearch/config/certs\n",
    "      - ./esdata01:/usr/share/elasticsearch/data\n",
    "\n",
    "    deploy:\n",
    "      resources:\n",
    "        limits:\n",
    "          memory: 256M\n",
    "\n",
    "  kibana:\n",
    "    image: docker.elastic.co/kibana/kibana:8.2.0\n",
    "    volumes:\n",
    "      - ./certs:/usr/share/kibana/config/certs\n",
    "    ports:\n",
    "      - 5601:5601\n",
    "    deploy:\n",
    "      resources:\n",
    "        limits:\n",
    "          memory: 256M\n",
    "    environment:\n",
    "      - SERVERNAME=kibana\n",
    "      - ELASTICSEARCH_HOSTS=http://es01:9200\n",
    "      - ELASTICSEARCH_USERNAME=kibana_system\n",
    "      - ELASTICSEARCH_PASSWORD=example\n",
    "```"
   ]
  },
  {
   "cell_type": "markdown",
   "id": "76370505-9656-4867-85af-3cad2d866ca7",
   "metadata": {},
   "source": [
    "Pokud je nutná zabezpečená komunikace, což je doporučeno pro deployment, a není zde alternativní řešení, jako je např. proxy (nginx), je nutné vygenerovat certifikáty. Skript níže takové generování provádí v rámci docker služby do specifického adresáře, který je sdílen formou volume a může být poskytnut do služby Elasticsearch. Jako image pro službu je použit elasticsearch:8.2.0, který toto umožňuje a je použit pro spuštění služby Elasticsearch. Díky tomu nedochází ke stažení dalšího image kontejneru (šetří se prostředky na úložiště pro počítač hostující docker)."
   ]
  },
  {
   "cell_type": "markdown",
   "id": "d3ff8ed4-1470-4d85-8759-0142063d1eb8",
   "metadata": {},
   "source": [
    "```yaml\n",
    "version: \"3.4\"\n",
    "\n",
    "services:\n",
    "  setup:\n",
    "    image: docker.elastic.co/elasticsearch/elasticsearch:8.2.0\n",
    "    volumes:\n",
    "      - ./certs:/usr/share/elasticsearch/config/certs\n",
    "    user: \"0\"\n",
    "    command: >\n",
    "      bash -c '\n",
    "        printenv\n",
    "        \n",
    "        echo \"Creating CA\";\n",
    "        bin/elasticsearch-certutil ca --silent --pem -out config/certs/ca.zip;\n",
    "        unzip config/certs/ca.zip -d config/certs;\n",
    "\n",
    "        echo \"Creating certs\";\n",
    "        echo -ne \\\n",
    "        \"instances:\\n\"\\\n",
    "        \"  - name: es01\\n\"\\\n",
    "        \"    dns:\\n\"\\\n",
    "        \"      - es01\\n\"\\\n",
    "        \"      - localhost\\n\"\\\n",
    "        \"    ip:\\n\"\\\n",
    "        \"      - 127.0.0.1\\n\"\\\n",
    "        > config/certs/instances.yml;\n",
    "        bin/elasticsearch-certutil cert --silent --pem -out config/certs/certs.zip --in config/certs/instances.yml --ca-cert config/certs/ca/ca.crt --ca-key config/certs/ca/ca.key;\n",
    "        unzip config/certs/certs.zip -d config/certs;\n",
    " \n",
    "        echo \"Setting file permissions 1\"\n",
    "        chown -R root:root config/certs;\n",
    "        echo \"Setting file permissions 2\"\n",
    "        find . -type d -exec chmod 750 \\{\\} \\;;\n",
    "        echo \"Setting file permissions 3\"\n",
    "        find . -type f -exec chmod 640 \\{\\} \\;;\n",
    "      '\n",
    "\n",
    "```"
   ]
  },
  {
   "cell_type": "code",
   "execution_count": null,
   "id": "d58e5f2d-2d10-4544-9d12-34698200f548",
   "metadata": {},
   "outputs": [],
   "source": []
  }
 ],
 "metadata": {
  "kernelspec": {
   "display_name": "Python 3 (ipykernel)",
   "language": "python",
   "name": "python3"
  },
  "language_info": {
   "codemirror_mode": {
    "name": "ipython",
    "version": 3
   },
   "file_extension": ".py",
   "mimetype": "text/x-python",
   "name": "python",
   "nbconvert_exporter": "python",
   "pygments_lexer": "ipython3",
   "version": "3.9.12"
  }
 },
 "nbformat": 4,
 "nbformat_minor": 5
}
