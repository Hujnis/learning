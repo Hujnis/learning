{
 "cells": [
  {
   "cell_type": "markdown",
   "id": "207d78da-8099-4297-9c47-8ddc22fdcffe",
   "metadata": {},
   "source": [
    "# Časové řady"
   ]
  },
  {
   "cell_type": "code",
   "execution_count": 1,
   "id": "e461d2aa-c7e3-443c-8dc1-dbb30ecc62cf",
   "metadata": {},
   "outputs": [],
   "source": [
    "import random"
   ]
  },
  {
   "cell_type": "code",
   "execution_count": 2,
   "id": "4d8d41f9-31c3-4e21-93a3-edad15f01835",
   "metadata": {},
   "outputs": [],
   "source": [
    "def queue(lmbda=1):\n",
    "    time = 0\n",
    "    queueSize = 0\n",
    "    while True:\n",
    "        timeDelta = random.expovariate(lmbda)\n",
    "        time = time + timeDelta\n",
    "        if random.random() < 0.5:\n",
    "            queueSize = queueSize + 1\n",
    "        else:\n",
    "            queueSize = queueSize - 1\n",
    "        if queueSize < 0:\n",
    "            queueSize = 0\n",
    "        yield time, queueSize"
   ]
  },
  {
   "cell_type": "code",
   "execution_count": 3,
   "id": "d6778a82-64e3-4403-b528-58d1e1f4be2d",
   "metadata": {},
   "outputs": [
    {
     "name": "stdout",
     "output_type": "stream",
     "text": [
      "1.8245735348811027 \t 1\n",
      "2.529515921790435 \t 2\n",
      "2.7933713258769215 \t 1\n",
      "3.9083117993437115 \t 2\n",
      "6.321825705515853 \t 1\n",
      "7.563701902679786 \t 2\n",
      "8.018442078631871 \t 1\n",
      "8.513928234625652 \t 0\n",
      "9.757996639586887 \t 1\n",
      "9.776543795382192 \t 0\n",
      "10.15603623703146 \t 1\n"
     ]
    }
   ],
   "source": [
    "for time, qsize in queue():\n",
    "    print(time, \"\\t\", qsize)\n",
    "    if time > 10:\n",
    "        break"
   ]
  },
  {
   "cell_type": "markdown",
   "id": "138ba2c9-3453-41ea-b93d-36f6ddc09f37",
   "metadata": {},
   "source": [
    "> **Příklad**\n",
    ">\n",
    "> Vygenerujte 100 prvků datové posloupnosti"
   ]
  },
  {
   "cell_type": "code",
   "execution_count": 4,
   "id": "a39ac51c-2fa2-4a7d-b2a6-c24e3b7fee45",
   "metadata": {},
   "outputs": [
    {
     "data": {
      "text/plain": [
       "[]"
      ]
     },
     "execution_count": 4,
     "metadata": {},
     "output_type": "execute_result"
    }
   ],
   "source": [
    "dataset = []\n",
    "dataset[-3:]"
   ]
  },
  {
   "cell_type": "markdown",
   "id": "77699078-0134-486c-86d7-4809e6a61892",
   "metadata": {},
   "source": [
    "> **Řešení**\n",
    "> "
   ]
  },
  {
   "cell_type": "code",
   "execution_count": 5,
   "id": "f9a2bcc7-85ff-4242-90d3-25706b702c4a",
   "metadata": {
    "jupyter": {
     "source_hidden": true
    },
    "tags": []
   },
   "outputs": [
    {
     "data": {
      "text/plain": [
       "[{'time': 118.09525498136442, 'qsize': 10},\n",
       " {'time': 119.14485511644072, 'qsize': 11},\n",
       " {'time': 119.19679700678066, 'qsize': 12}]"
      ]
     },
     "execution_count": 5,
     "metadata": {},
     "output_type": "execute_result"
    }
   ],
   "source": [
    "dataset = [{\"time\": time, \"qsize\": qsize} for i, (time, qsize) in zip(range(100), queue())]\n",
    "dataset[-3:]"
   ]
  },
  {
   "cell_type": "markdown",
   "id": "bef2cedf-a71f-421c-af88-be0c2a10cdcc",
   "metadata": {},
   "source": [
    "> **Příklad**\n",
    ">\n",
    "> Napište funkci `limit` omezující délku výstupu generátoru"
   ]
  },
  {
   "cell_type": "code",
   "execution_count": null,
   "id": "d135dd34-edf1-4bd1-b20d-33239685eedf",
   "metadata": {
    "tags": []
   },
   "outputs": [],
   "source": [
    "def limit(g, count=100):\n",
    "    ##\n",
    "    ##\n",
    "    ##\n",
    "    pass\n",
    "\n",
    "list(limit(queue(), 10))"
   ]
  },
  {
   "cell_type": "markdown",
   "id": "44d3a684-f3ee-48f7-ba00-d37e9c6a3f5d",
   "metadata": {},
   "source": [
    "> **Řešení**\n",
    "> "
   ]
  },
  {
   "cell_type": "code",
   "execution_count": 7,
   "id": "0a399190-62d5-411d-a929-75a28572bbab",
   "metadata": {
    "jupyter": {
     "source_hidden": true
    },
    "tags": []
   },
   "outputs": [
    {
     "data": {
      "text/plain": [
       "[(0.7862421340923453, 0),\n",
       " (2.3358641092654278, 0),\n",
       " (2.4738219198725337, 0),\n",
       " (3.6750822650363, 0),\n",
       " (5.460599527175908, 0),\n",
       " (6.626286861406807, 1),\n",
       " (8.419941446314217, 2),\n",
       " (12.2458952102827, 3),\n",
       " (12.794762904473643, 4),\n",
       " (13.717909882873338, 5)]"
      ]
     },
     "execution_count": 7,
     "metadata": {},
     "output_type": "execute_result"
    }
   ],
   "source": [
    "def limit(g, count=100):\n",
    "    for i, gi in zip(range(count), g):\n",
    "        yield gi\n",
    "        \n",
    "list(limit(queue(), 10))"
   ]
  },
  {
   "cell_type": "markdown",
   "id": "af970c0b-c5d2-4143-9cbe-b4b186209d55",
   "metadata": {},
   "source": [
    "> **Příklad**\n",
    ">\n",
    "> Napište funkci, která převede tuple na dict, tj. čas a hodnotu atributu na `{\"time\": time, \"qsize\": qsize}`"
   ]
  },
  {
   "cell_type": "code",
   "execution_count": null,
   "id": "065fa404-deda-4ecd-bb19-3e6f19f708af",
   "metadata": {},
   "outputs": [],
   "source": [
    "def makedict(g):\n",
    "    #\n",
    "    #\n",
    "    pass\n",
    "\n",
    "list(makedict(limit(queue(), 10)))"
   ]
  },
  {
   "cell_type": "markdown",
   "id": "fddcfdf4-8489-40cf-ad2f-7e88c1d97cf9",
   "metadata": {},
   "source": [
    "> **Řešení**\n",
    "> "
   ]
  },
  {
   "cell_type": "code",
   "execution_count": 8,
   "id": "9c2548f2-4738-495d-aa11-c384fd24aec3",
   "metadata": {
    "jupyter": {
     "source_hidden": true
    },
    "tags": []
   },
   "outputs": [
    {
     "data": {
      "text/plain": [
       "[{'time': 0.5374125363070125, 'qsize': 1},\n",
       " {'time': 1.8421095072406333, 'qsize': 2},\n",
       " {'time': 2.529301620204528, 'qsize': 3},\n",
       " {'time': 3.7815515579081236, 'qsize': 4},\n",
       " {'time': 4.515790271899385, 'qsize': 5},\n",
       " {'time': 4.6108449244534855, 'qsize': 4},\n",
       " {'time': 5.647407295461288, 'qsize': 3},\n",
       " {'time': 7.218559323343246, 'qsize': 2},\n",
       " {'time': 8.952961504827842, 'qsize': 1},\n",
       " {'time': 9.189598069425315, 'qsize': 2}]"
      ]
     },
     "execution_count": 8,
     "metadata": {},
     "output_type": "execute_result"
    }
   ],
   "source": [
    "def makedict(g):\n",
    "    for time, qsize in g:\n",
    "        yield {\"time\": time, \"qsize\": qsize}\n",
    "               \n",
    "list(makedict(limit(queue(), 10)))"
   ]
  },
  {
   "cell_type": "markdown",
   "id": "8a08bdba-6187-4da7-8e94-860a971ad490",
   "metadata": {},
   "source": [
    "> **Příklad**\n",
    ">\n",
    "> Určete průměrnou délku fronty (hodnotu atributu)"
   ]
  },
  {
   "cell_type": "code",
   "execution_count": null,
   "id": "263f8d80-2a35-4ca9-9a4f-6f5be73a05c1",
   "metadata": {},
   "outputs": [],
   "source": [
    "def avg(qdata):\n",
    "    suma = 0\n",
    "    #\n",
    "    #\n",
    "    #\n",
    "    #\n",
    "    #\n",
    "    #\n",
    "    return suma\n",
    "\n",
    "avg(makedict(limit(queue())))"
   ]
  },
  {
   "cell_type": "markdown",
   "id": "e65d25e3-216e-41ea-ad74-13d11a55d288",
   "metadata": {},
   "source": [
    "> **Řešení**\n",
    "> "
   ]
  },
  {
   "cell_type": "code",
   "execution_count": 9,
   "id": "17e0c7c5-9594-4add-9a51-916db4f49744",
   "metadata": {
    "jupyter": {
     "source_hidden": true
    },
    "tags": []
   },
   "outputs": [
    {
     "data": {
      "text/plain": [
       "4.33310413369673"
      ]
     },
     "execution_count": 9,
     "metadata": {},
     "output_type": "execute_result"
    }
   ],
   "source": [
    "def avg(qdata):\n",
    "    suma = 0\n",
    "    lasttime = 0\n",
    "    for item in qdata:\n",
    "        time = item[\"time\"]\n",
    "        qsize = item[\"qsize\"]\n",
    "        suma = suma + (time - lasttime) * qsize\n",
    "        lasttime = time\n",
    "    return suma / lasttime\n",
    "\n",
    "avg(makedict(limit(queue())))"
   ]
  },
  {
   "cell_type": "markdown",
   "id": "d0146689-0388-4f7a-8972-1aaf3905a6f9",
   "metadata": {},
   "source": [
    "> **Příklad**\n",
    ">\n",
    "> Napište funkci, která doplní dict o aktuální průměr"
   ]
  },
  {
   "cell_type": "code",
   "execution_count": null,
   "id": "fc5c9868-3aae-4fd7-881b-7e3bd6c7b06f",
   "metadata": {},
   "outputs": [],
   "source": [
    "def avgflow(g):\n",
    "    #\n",
    "    #\n",
    "    #\n",
    "    #\n",
    "    #\n",
    "    #\n",
    "    \n",
    "sequence = avgflow(makedict(queue()))\n",
    "for i, item in zip(range(10000), sequence):\n",
    "    continue\n",
    "print(item)"
   ]
  },
  {
   "cell_type": "markdown",
   "id": "9fad8d15-97f9-4ec1-a555-e121d9023184",
   "metadata": {},
   "source": [
    "> **Řešení**\n",
    "> "
   ]
  },
  {
   "cell_type": "code",
   "execution_count": 10,
   "id": "9b5b63fc-7fd4-47ac-a2ed-f6f58798682f",
   "metadata": {
    "tags": []
   },
   "outputs": [
    {
     "name": "stdout",
     "output_type": "stream",
     "text": [
      "{'time': 10074.101965720958, 'qsize': 28, 'avg': 37.066044772445174}\n"
     ]
    }
   ],
   "source": [
    "def avgflow(g):\n",
    "    suma = 0\n",
    "    lasttime = 0\n",
    "    for item in g:\n",
    "        time = item[\"time\"]\n",
    "        qsize = item[\"qsize\"]\n",
    "        suma = suma + (time - lasttime) * qsize\n",
    "        lasttime = time\n",
    "        yield {**item, \"avg\": suma / lasttime}\n",
    "    \n",
    "sequence = avgflow(makedict(queue()))\n",
    "for i, item in zip(range(10000), sequence):\n",
    "    continue\n",
    "print(item)"
   ]
  },
  {
   "cell_type": "code",
   "execution_count": 18,
   "id": "789d6e2e-b872-442b-abbf-f93acde68a1f",
   "metadata": {
    "tags": []
   },
   "outputs": [
    {
     "name": "stdout",
     "output_type": "stream",
     "text": [
      "10000\n"
     ]
    },
    {
     "data": {
      "image/png": "[encoded data removed]",
      "text/plain": [
       "<Figure size 640x480 with 1 Axes>"
      ]
     },
     "metadata": {},
     "output_type": "display_data"
    }
   ],
   "source": [
    "import matplotlib.pyplot as plt\n",
    "\n",
    "sequence = limit(avgflow(makedict(queue())), 10000)\n",
    "sequence = list(sequence)\n",
    "times = [item[\"time\"] for item in sequence]\n",
    "avgs = [item[\"avg\"] for item in sequence]\n",
    "vals = [item[\"qsize\"] for item in sequence]\n",
    "plt.plot(times, vals)\n",
    "plt.plot(times, avgs)\n",
    "print(len(times))"
   ]
  },
  {
   "cell_type": "markdown",
   "id": "66a28d19-153f-4512-9122-2233d6d13af0",
   "metadata": {},
   "source": [
    "> **Příklad**\n",
    ">\n",
    "> Určete \"plovoucí\" průměrnou délku fronty"
   ]
  },
  {
   "cell_type": "code",
   "execution_count": null,
   "id": "b79003ef-9e49-4da3-ae72-ce09b63eeb8b",
   "metadata": {},
   "outputs": [],
   "source": []
  },
  {
   "cell_type": "markdown",
   "id": "2b352fc3-432b-4a91-bedc-c2027b5964f7",
   "metadata": {},
   "source": [
    "> **Řešení**\n",
    "> "
   ]
  },
  {
   "cell_type": "code",
   "execution_count": 16,
   "id": "36c4df39-f912-45c9-8242-16465db29ea1",
   "metadata": {},
   "outputs": [
    {
     "name": "stdout",
     "output_type": "stream",
     "text": [
      "{'time': 10093.939756263064, 'qsize': 86, 'avg': 50.56967535394116, 'avgf': 87.12499753299463}\n"
     ]
    }
   ],
   "source": [
    "def avgwindow(g, size=100):\n",
    "    windowItems = []\n",
    "    lastitem = {\"time\": 0, \"qsize\": 0}\n",
    "    for item in g:\n",
    "        time = item[\"time\"]\n",
    "        \n",
    "        if len(windowItems) > 0:\n",
    "            while (windowItems[0][\"time\"] + size < time):\n",
    "                lastitem = windowItems[0]\n",
    "                windowItems = windowItems[1:]\n",
    "                if len(windowItems) == 0:\n",
    "                    break\n",
    "        \n",
    "        windowItems.append(item)\n",
    "        suma = 0\n",
    "        previtem = lastitem\n",
    "        for witem in windowItems:\n",
    "            prevtime = previtem[\"time\"]\n",
    "            prevvalue = previtem[\"qsize\"]\n",
    "            suma = suma + (witem[\"time\"] - prevtime) * prevvalue\n",
    "            previtem = witem\n",
    "            \n",
    "        yield {**item, \"avgf\": suma / (previtem[\"time\"] - lastitem[\"time\"])}\n",
    "\n",
    "sequence = avgwindow(avgflow(makedict(queue())))\n",
    "for i, item in zip(range(10000), sequence):\n",
    "    continue\n",
    "print(item)"
   ]
  },
  {
   "cell_type": "code",
   "execution_count": 20,
   "id": "c481bd18-3f94-4fb7-b367-dbc3e6eafc43",
   "metadata": {
    "tags": []
   },
   "outputs": [
    {
     "name": "stdout",
     "output_type": "stream",
     "text": [
      "10000\n"
     ]
    },
    {
     "data": {
      "image/png": "[encoded data removed]",
      "text/plain": [
       "<Figure size 640x480 with 1 Axes>"
      ]
     },
     "metadata": {},
     "output_type": "display_data"
    }
   ],
   "source": [
    "import matplotlib.pyplot as plt\n",
    "\n",
    "sequence = limit(avgwindow(avgflow(makedict(queue()))), 10000)\n",
    "sequence = list(sequence)\n",
    "times = [item[\"time\"] for item in sequence]\n",
    "avgs = [item[\"avg\"] for item in sequence]\n",
    "avgfs = [item[\"avgf\"] for item in sequence]\n",
    "vals = [item[\"qsize\"] for item in sequence]\n",
    "plt.plot(times, vals)\n",
    "plt.plot(times, avgs)\n",
    "plt.plot(times, avgfs)\n",
    "print(len(times))"
   ]
  },
  {
   "cell_type": "code",
   "execution_count": null,
   "id": "dc9e03ab-6f1f-41fd-8ae4-e7d803df1a7c",
   "metadata": {},
   "outputs": [],
   "source": []
  }
 ],
 "metadata": {
  "kernelspec": {
   "display_name": "Python 3 (ipykernel)",
   "language": "python",
   "name": "python3"
  },
  "language_info": {
   "codemirror_mode": {
    "name": "ipython",
    "version": 3
   },
   "file_extension": ".py",
   "mimetype": "text/x-python",
   "name": "python",
   "nbconvert_exporter": "python",
   "pygments_lexer": "ipython3",
   "version": "3.10.6"
  }
 },
 "nbformat": 4,
 "nbformat_minor": 5
}
