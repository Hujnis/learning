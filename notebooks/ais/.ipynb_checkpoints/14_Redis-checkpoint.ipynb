{
 "cells": [
  {
   "cell_type": "markdown",
   "id": "d89e37cf-2273-4385-bc33-51f6e58e5f58",
   "metadata": {},
   "source": [
    "# Redis"
   ]
  },
  {
   "cell_type": "markdown",
   "id": "4fba0e31-b3a0-424b-a436-d9ead98e97d6",
   "metadata": {},
   "source": [
    "## Instalace (Docker)"
   ]
  },
  {
   "cell_type": "markdown",
   "id": "59a58bc2-83b0-4b87-8fd6-ae80ee82325d",
   "metadata": {},
   "source": [
    "```shell\n",
    "docker run -d -p 6379:6379 --name redis redis\n",
    "```"
   ]
  },
  {
   "cell_type": "markdown",
   "id": "f1e220fe-abde-43a0-9e6f-cd6cd5dd2913",
   "metadata": {},
   "source": [
    "## Driver pro Python"
   ]
  },
  {
   "cell_type": "markdown",
   "id": "e5acc9de-f028-4819-8370-930aa7422515",
   "metadata": {},
   "source": [
    "### Synchronní"
   ]
  },
  {
   "cell_type": "markdown",
   "id": "6f1ea347-3566-4de3-aff7-0c83242e65b9",
   "metadata": {},
   "source": [
    "https://github.com/redis/redis-py"
   ]
  },
  {
   "cell_type": "code",
   "execution_count": 1,
   "id": "44ba1eb5-7e11-4d8d-9e9c-4d93f98c93b3",
   "metadata": {},
   "outputs": [
    {
     "name": "stdout",
     "output_type": "stream",
     "text": [
      "Collecting redis\n",
      "  Downloading redis-4.2.2-py3-none-any.whl (226 kB)\n",
      "\u001b[2K     \u001b[90m━━━━━━━━━━━━━━━━━━━━━━━━━━━━━━━━━━━━━━━\u001b[0m \u001b[32m226.4/226.4 KB\u001b[0m \u001b[31m4.3 MB/s\u001b[0m eta \u001b[36m0:00:00\u001b[0ma \u001b[36m0:00:01\u001b[0m\n",
      "\u001b[?25hRequirement already satisfied: async-timeout>=4.0.2 in /opt/conda/lib/python3.9/site-packages (from redis) (4.0.2)\n",
      "Collecting deprecated>=1.2.3\n",
      "  Downloading Deprecated-1.2.13-py2.py3-none-any.whl (9.6 kB)\n",
      "Requirement already satisfied: packaging>=20.4 in /opt/conda/lib/python3.9/site-packages (from redis) (21.3)\n",
      "Requirement already satisfied: wrapt<2,>=1.10 in /opt/conda/lib/python3.9/site-packages (from deprecated>=1.2.3->redis) (1.12.1)\n",
      "Requirement already satisfied: pyparsing!=3.0.5,>=2.0.2 in /opt/conda/lib/python3.9/site-packages (from packaging>=20.4->redis) (3.0.8)\n",
      "Installing collected packages: deprecated, redis\n",
      "Successfully installed deprecated-1.2.13 redis-4.2.2\n"
     ]
    }
   ],
   "source": [
    "!pip install redis"
   ]
  },
  {
   "cell_type": "markdown",
   "id": "14029322-976d-49d1-91f3-675e6026ad05",
   "metadata": {},
   "source": [
    "### Asynchronní"
   ]
  },
  {
   "cell_type": "code",
   "execution_count": 8,
   "id": "2b605265-d9de-49dd-97d9-ecc9fc07f7d1",
   "metadata": {},
   "outputs": [
    {
     "name": "stdout",
     "output_type": "stream",
     "text": [
      "Requirement already satisfied: aioredis in /opt/conda/lib/python3.9/site-packages (2.0.1)\n",
      "Requirement already satisfied: async-timeout in /opt/conda/lib/python3.9/site-packages (from aioredis) (4.0.2)\n",
      "Requirement already satisfied: typing-extensions in /opt/conda/lib/python3.9/site-packages (from aioredis) (4.2.0)\n"
     ]
    }
   ],
   "source": [
    "!pip install aioredis"
   ]
  },
  {
   "cell_type": "markdown",
   "id": "f6cffbae-eec4-4505-ba7c-d9eb66c7b552",
   "metadata": {},
   "source": [
    "### Redis OM"
   ]
  },
  {
   "cell_type": "markdown",
   "id": "903210cf-8607-4dd5-aeef-b40805488eda",
   "metadata": {},
   "source": [
    "https://github.com/redis/redis-om-python"
   ]
  },
  {
   "cell_type": "code",
   "execution_count": 5,
   "id": "00886a34-4287-43f2-9b69-0b3cb33e3b12",
   "metadata": {},
   "outputs": [
    {
     "name": "stdout",
     "output_type": "stream",
     "text": [
      "Requirement already satisfied: tensorflow in /opt/conda/lib/python3.9/site-packages (2.8.0)\n",
      "Requirement already satisfied: termcolor>=1.1.0 in /opt/conda/lib/python3.9/site-packages (from tensorflow) (1.1.0)\n",
      "Requirement already satisfied: astunparse>=1.6.0 in /opt/conda/lib/python3.9/site-packages (from tensorflow) (1.6.3)\n",
      "Requirement already satisfied: flatbuffers>=1.12 in /opt/conda/lib/python3.9/site-packages (from tensorflow) (1.12)\n",
      "Requirement already satisfied: libclang>=9.0.1 in /opt/conda/lib/python3.9/site-packages (from tensorflow) (14.0.1)\n",
      "Requirement already satisfied: keras-preprocessing>=1.1.1 in /opt/conda/lib/python3.9/site-packages (from tensorflow) (1.1.2)\n",
      "Requirement already satisfied: setuptools in /opt/conda/lib/python3.9/site-packages (from tensorflow) (59.8.0)\n",
      "Requirement already satisfied: h5py>=2.9.0 in /opt/conda/lib/python3.9/site-packages (from tensorflow) (3.1.0)\n",
      "Requirement already satisfied: wrapt>=1.11.0 in /opt/conda/lib/python3.9/site-packages (from tensorflow) (1.12.1)\n",
      "Requirement already satisfied: keras<2.9,>=2.8.0rc0 in /opt/conda/lib/python3.9/site-packages (from tensorflow) (2.8.0)\n",
      "Requirement already satisfied: absl-py>=0.4.0 in /opt/conda/lib/python3.9/site-packages (from tensorflow) (0.15.0)\n",
      "Requirement already satisfied: gast>=0.2.1 in /opt/conda/lib/python3.9/site-packages (from tensorflow) (0.4.0)\n",
      "Requirement already satisfied: opt-einsum>=2.3.2 in /opt/conda/lib/python3.9/site-packages (from tensorflow) (3.3.0)\n",
      "Requirement already satisfied: six>=1.12.0 in /opt/conda/lib/python3.9/site-packages (from tensorflow) (1.16.0)\n",
      "Requirement already satisfied: numpy>=1.20 in /opt/conda/lib/python3.9/site-packages (from tensorflow) (1.22.3)\n",
      "Requirement already satisfied: typing-extensions>=3.6.6 in /opt/conda/lib/python3.9/site-packages (from tensorflow) (4.2.0)\n",
      "Requirement already satisfied: protobuf>=3.9.2 in /opt/conda/lib/python3.9/site-packages (from tensorflow) (3.18.1)\n",
      "Requirement already satisfied: tensorboard<2.9,>=2.8 in /opt/conda/lib/python3.9/site-packages (from tensorflow) (2.8.0)\n",
      "Requirement already satisfied: tf-estimator-nightly==2.8.0.dev2021122109 in /opt/conda/lib/python3.9/site-packages (from tensorflow) (2.8.0.dev2021122109)\n",
      "Requirement already satisfied: tensorflow-io-gcs-filesystem>=0.23.1 in /opt/conda/lib/python3.9/site-packages (from tensorflow) (0.25.0)\n",
      "Requirement already satisfied: google-pasta>=0.1.1 in /opt/conda/lib/python3.9/site-packages (from tensorflow) (0.2.0)\n",
      "Requirement already satisfied: grpcio<2.0,>=1.24.3 in /opt/conda/lib/python3.9/site-packages (from tensorflow) (1.41.1)\n",
      "Requirement already satisfied: wheel<1.0,>=0.23.0 in /opt/conda/lib/python3.9/site-packages (from astunparse>=1.6.0->tensorflow) (0.37.1)\n",
      "Requirement already satisfied: tensorboard-plugin-wit>=1.6.0 in /opt/conda/lib/python3.9/site-packages (from tensorboard<2.9,>=2.8->tensorflow) (1.8.1)\n",
      "Requirement already satisfied: werkzeug>=0.11.15 in /opt/conda/lib/python3.9/site-packages (from tensorboard<2.9,>=2.8->tensorflow) (2.1.1)\n",
      "Requirement already satisfied: markdown>=2.6.8 in /opt/conda/lib/python3.9/site-packages (from tensorboard<2.9,>=2.8->tensorflow) (3.3.6)\n",
      "Requirement already satisfied: google-auth-oauthlib<0.5,>=0.4.1 in /opt/conda/lib/python3.9/site-packages (from tensorboard<2.9,>=2.8->tensorflow) (0.4.6)\n",
      "Requirement already satisfied: google-auth<3,>=1.6.3 in /opt/conda/lib/python3.9/site-packages (from tensorboard<2.9,>=2.8->tensorflow) (1.35.0)\n",
      "Requirement already satisfied: tensorboard-data-server<0.7.0,>=0.6.0 in /opt/conda/lib/python3.9/site-packages (from tensorboard<2.9,>=2.8->tensorflow) (0.6.0)\n",
      "Requirement already satisfied: requests<3,>=2.21.0 in /opt/conda/lib/python3.9/site-packages (from tensorboard<2.9,>=2.8->tensorflow) (2.27.1)\n",
      "Requirement already satisfied: rsa<5,>=3.1.4 in /opt/conda/lib/python3.9/site-packages (from google-auth<3,>=1.6.3->tensorboard<2.9,>=2.8->tensorflow) (4.8)\n",
      "Requirement already satisfied: cachetools<5.0,>=2.0.0 in /opt/conda/lib/python3.9/site-packages (from google-auth<3,>=1.6.3->tensorboard<2.9,>=2.8->tensorflow) (4.2.4)\n",
      "Requirement already satisfied: pyasn1-modules>=0.2.1 in /opt/conda/lib/python3.9/site-packages (from google-auth<3,>=1.6.3->tensorboard<2.9,>=2.8->tensorflow) (0.2.7)\n",
      "Requirement already satisfied: requests-oauthlib>=0.7.0 in /opt/conda/lib/python3.9/site-packages (from google-auth-oauthlib<0.5,>=0.4.1->tensorboard<2.9,>=2.8->tensorflow) (1.3.1)\n",
      "Requirement already satisfied: importlib-metadata>=4.4 in /opt/conda/lib/python3.9/site-packages (from markdown>=2.6.8->tensorboard<2.9,>=2.8->tensorflow) (4.11.3)\n",
      "Requirement already satisfied: idna<4,>=2.5 in /opt/conda/lib/python3.9/site-packages (from requests<3,>=2.21.0->tensorboard<2.9,>=2.8->tensorflow) (3.3)\n",
      "Requirement already satisfied: charset-normalizer~=2.0.0 in /opt/conda/lib/python3.9/site-packages (from requests<3,>=2.21.0->tensorboard<2.9,>=2.8->tensorflow) (2.0.12)\n",
      "Requirement already satisfied: certifi>=2017.4.17 in /opt/conda/lib/python3.9/site-packages (from requests<3,>=2.21.0->tensorboard<2.9,>=2.8->tensorflow) (2021.10.8)\n",
      "Requirement already satisfied: urllib3<1.27,>=1.21.1 in /opt/conda/lib/python3.9/site-packages (from requests<3,>=2.21.0->tensorboard<2.9,>=2.8->tensorflow) (1.26.9)\n",
      "Requirement already satisfied: zipp>=0.5 in /opt/conda/lib/python3.9/site-packages (from importlib-metadata>=4.4->markdown>=2.6.8->tensorboard<2.9,>=2.8->tensorflow) (3.8.0)\n",
      "Requirement already satisfied: pyasn1<0.5.0,>=0.4.6 in /opt/conda/lib/python3.9/site-packages (from pyasn1-modules>=0.2.1->google-auth<3,>=1.6.3->tensorboard<2.9,>=2.8->tensorflow) (0.4.8)\n",
      "Requirement already satisfied: oauthlib>=3.0.0 in /opt/conda/lib/python3.9/site-packages (from requests-oauthlib>=0.7.0->google-auth-oauthlib<0.5,>=0.4.1->tensorboard<2.9,>=2.8->tensorflow) (3.2.0)\n"
     ]
    }
   ],
   "source": [
    "!pip install  --upgrade tensorflow"
   ]
  },
  {
   "cell_type": "code",
   "execution_count": 6,
   "id": "d7b15346-d603-4924-8461-942b417f863d",
   "metadata": {},
   "outputs": [
    {
     "name": "stdout",
     "output_type": "stream",
     "text": [
      "Requirement already satisfied: redis-om in /opt/conda/lib/python3.9/site-packages (0.0.26)\n",
      "Requirement already satisfied: click<9.0.0,>=8.0.1 in /opt/conda/lib/python3.9/site-packages (from redis-om) (8.1.2)\n",
      "Requirement already satisfied: pydantic<2.0.0,>=1.8.2 in /opt/conda/lib/python3.9/site-packages (from redis-om) (1.9.0)\n",
      "Requirement already satisfied: types-six<2.0.0,>=1.16.1 in /opt/conda/lib/python3.9/site-packages (from redis-om) (1.16.15)\n",
      "Requirement already satisfied: redis<5.0.0,>=3.5.3 in /opt/conda/lib/python3.9/site-packages (from redis-om) (4.2.2)\n",
      "Requirement already satisfied: typing-extensions<5.0.0,>=4.0.0 in /opt/conda/lib/python3.9/site-packages (from redis-om) (4.2.0)\n",
      "Requirement already satisfied: aioredis<3.0.0,>=2.0.0 in /opt/conda/lib/python3.9/site-packages (from redis-om) (2.0.1)\n",
      "Requirement already satisfied: hiredis<3.0.0,>=2.0.0 in /opt/conda/lib/python3.9/site-packages (from redis-om) (2.0.0)\n",
      "Requirement already satisfied: six<2.0.0,>=1.16.0 in /opt/conda/lib/python3.9/site-packages (from redis-om) (1.16.0)\n",
      "Requirement already satisfied: cleo==1.0.0a4 in /opt/conda/lib/python3.9/site-packages (from redis-om) (1.0.0a4)\n",
      "Requirement already satisfied: pptree<4.0,>=3.1 in /opt/conda/lib/python3.9/site-packages (from redis-om) (3.1)\n",
      "Requirement already satisfied: types-redis<5.0.0,>=3.5.9 in /opt/conda/lib/python3.9/site-packages (from redis-om) (4.2.1)\n",
      "Requirement already satisfied: python-ulid<2.0.0,>=1.0.3 in /opt/conda/lib/python3.9/site-packages (from redis-om) (1.1.0)\n",
      "Requirement already satisfied: pylev<2.0.0,>=1.3.0 in /opt/conda/lib/python3.9/site-packages (from cleo==1.0.0a4->redis-om) (1.4.0)\n",
      "Requirement already satisfied: crashtest<0.4.0,>=0.3.1 in /opt/conda/lib/python3.9/site-packages (from cleo==1.0.0a4->redis-om) (0.3.1)\n",
      "Requirement already satisfied: async-timeout in /opt/conda/lib/python3.9/site-packages (from aioredis<3.0.0,>=2.0.0->redis-om) (4.0.2)\n",
      "Requirement already satisfied: packaging>=20.4 in /opt/conda/lib/python3.9/site-packages (from redis<5.0.0,>=3.5.3->redis-om) (21.3)\n",
      "Requirement already satisfied: deprecated>=1.2.3 in /opt/conda/lib/python3.9/site-packages (from redis<5.0.0,>=3.5.3->redis-om) (1.2.13)\n",
      "Requirement already satisfied: wrapt<2,>=1.10 in /opt/conda/lib/python3.9/site-packages (from deprecated>=1.2.3->redis<5.0.0,>=3.5.3->redis-om) (1.12.1)\n",
      "Requirement already satisfied: pyparsing!=3.0.5,>=2.0.2 in /opt/conda/lib/python3.9/site-packages (from packaging>=20.4->redis<5.0.0,>=3.5.3->redis-om) (3.0.8)\n"
     ]
    }
   ],
   "source": [
    "!pip install redis-om"
   ]
  },
  {
   "cell_type": "code",
   "execution_count": 18,
   "id": "5c07fe1e-2d48-45bb-aceb-dc75d82ee017",
   "metadata": {},
   "outputs": [
    {
     "data": {
      "text/plain": [
       "b'bar'"
      ]
     },
     "execution_count": 18,
     "metadata": {},
     "output_type": "execute_result"
    }
   ],
   "source": [
    "import redis\n",
    "r = redis.Redis(host='192.168.1.100', port=6379, db=0)\n",
    "r.set('foo', 'bar')\n",
    "r.get('foo')"
   ]
  },
  {
   "cell_type": "code",
   "execution_count": 19,
   "id": "1963d447-4753-40ea-af6f-51f8beb9ac22",
   "metadata": {},
   "outputs": [
    {
     "data": {
      "text/plain": [
       "b'bar'"
      ]
     },
     "execution_count": 19,
     "metadata": {},
     "output_type": "execute_result"
    }
   ],
   "source": [
    "import redis\n",
    "\n",
    "pool = redis.ConnectionPool(host='192.168.1.100', port=6379, db=0)\n",
    "r = redis.Redis(connection_pool=pool)\n",
    "\n",
    "r.set('foo', 'bar')\n",
    "r.get('foo')"
   ]
  },
  {
   "cell_type": "code",
   "execution_count": 21,
   "id": "aef1fde2-fe10-40e5-a454-0dd31d61229d",
   "metadata": {},
   "outputs": [
    {
     "name": "stdout",
     "output_type": "stream",
     "text": [
      "None\n"
     ]
    }
   ],
   "source": [
    "print(r.get('what'))"
   ]
  },
  {
   "cell_type": "markdown",
   "id": "913553c9-7441-4642-95f0-00db3e8f5a5f",
   "metadata": {},
   "source": [
    "## Redis jako cache"
   ]
  },
  {
   "cell_type": "markdown",
   "id": "cc2bd560-95a1-495d-bcf2-76c2b80398df",
   "metadata": {},
   "source": [
    "### Jednoduchá cache"
   ]
  },
  {
   "cell_type": "code",
   "execution_count": null,
   "id": "22a22fe7-c1d1-4a49-b108-cf88fd7ed05b",
   "metadata": {},
   "outputs": [],
   "source": [
    "def redisCache(r, resourceName=''):\n",
    "    def decorator(func):\n",
    "        def decorated(resourceId):\n",
    "            redisKey = f'{resourceName}-{resourceId}'\n",
    "            result = r.get(redisKey)\n",
    "            if result is None:\n",
    "                result = func(resourceId)\n",
    "                r.set(redisKey, resourceId)\n",
    "            return result\n",
    "        return decorated\n",
    "    return decorator"
   ]
  },
  {
   "cell_type": "code",
   "execution_count": null,
   "id": "8a2d1016-6b1b-4dfa-8a4c-f0dd14fc36ea",
   "metadata": {},
   "outputs": [],
   "source": [
    "r = redis.Redis(host='192.168.1.100', port=6379, db=0)\n",
    "\n",
    "@redisCache(r, resourceName='htmlPage')\n",
    "def readUrl(url):\n",
    "    print(f'going to read {url}')\n",
    "    return 'html'"
   ]
  },
  {
   "cell_type": "markdown",
   "id": "b6440127-f8b3-4a49-bcd4-4d20539c9bd5",
   "metadata": {},
   "source": [
    "### CRUD Cache"
   ]
  },
  {
   "cell_type": "code",
   "execution_count": 22,
   "id": "b818eb93-75f7-4805-b484-7ef19a70367e",
   "metadata": {},
   "outputs": [],
   "source": [
    "def redisCache(r, resourceName=''):\n",
    "    def decorator(func):\n",
    "        def decorated(resourceId):\n",
    "            redisKey = f'{resourceName}-{resourceId}'\n",
    "            result = r.get(redisKey)\n",
    "            if result is None:\n",
    "                result = func(resourceId)\n",
    "                r.set(redisKey, resourceId)\n",
    "            return result\n",
    "        return decorated\n",
    "    return decorator"
   ]
  },
  {
   "cell_type": "code",
   "execution_count": 23,
   "id": "6134f129-b347-4b0d-9409-3c807e2811d7",
   "metadata": {},
   "outputs": [],
   "source": [
    "def redisCacheMonitor(r, resourceName=''):\n",
    "    def decorator(func):\n",
    "        def decorated(resourceId, *args, **kwargs):\n",
    "            redisKey = f'{resourceName}-{resourceId}'\n",
    "            result = func(resourceId, *args, **kwargs)\n",
    "            r.set(redisKey, resourceId)\n",
    "            return result\n",
    "        return decorated\n",
    "    return decorator"
   ]
  },
  {
   "cell_type": "markdown",
   "id": "d74e895a-dc3a-47d6-a9d2-b9ac38611f2a",
   "metadata": {},
   "source": [
    "> **Příklad**\n",
    ">\n",
    "> \"Odekorujte\" následující funkce pomocí funkcí nadefinovaných výše a zabezpečte tím funkci cache."
   ]
  },
  {
   "cell_type": "code",
   "execution_count": 24,
   "id": "30152c32-a7d6-4338-92d2-833766be4f27",
   "metadata": {},
   "outputs": [],
   "source": [
    "def crudGet(id):\n",
    "    return {'id': id}\n",
    "\n",
    "def crudUpdate(id, value):\n",
    "    return {**value, 'id': id}"
   ]
  },
  {
   "cell_type": "code",
   "execution_count": null,
   "id": "a0531698-b804-48c3-bd3e-be5a980c431a",
   "metadata": {},
   "outputs": [],
   "source": []
  }
 ],
 "metadata": {
  "kernelspec": {
   "display_name": "Python 3 (ipykernel)",
   "language": "python",
   "name": "python3"
  },
  "language_info": {
   "codemirror_mode": {
    "name": "ipython",
    "version": 3
   },
   "file_extension": ".py",
   "mimetype": "text/x-python",
   "name": "python",
   "nbconvert_exporter": "python",
   "pygments_lexer": "ipython3",
   "version": "3.9.10"
  }
 },
 "nbformat": 4,
 "nbformat_minor": 5
}
