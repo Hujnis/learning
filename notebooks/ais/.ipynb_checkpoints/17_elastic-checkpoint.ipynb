{
 "cells": [
  {
   "cell_type": "markdown",
   "id": "c657d0f0-8605-4e55-829d-de3fa1e1e16c",
   "metadata": {},
   "source": [
    "# Elasticsearch"
   ]
  },
  {
   "cell_type": "markdown",
   "id": "e011dd4d-51f1-476e-804f-57cba7721d7a",
   "metadata": {},
   "source": [
    "https://www.elastic.co\n",
    "\n",
    "\n",
    "docker network create elastic\n",
    "docker run --name es01 --net elastic -p 9200:9200 -p 9300:9300 -it docker.elastic.co/elasticsearch/elasticsearch:8.2.0\n",
    "docker run --name es01 -m 262144 -p 9200:9200 -p 9300:9300 -it docker.elastic.co/elasticsearch/elasticsearch:8.2.0\n",
    "\n"
   ]
  },
  {
   "cell_type": "markdown",
   "id": "dd6ba7c5-298a-4147-baf6-937ce0145349",
   "metadata": {},
   "source": [
    "https://www.elastic.co/guide/en/elasticsearch/client/python-api/current/overview.html"
   ]
  },
  {
   "cell_type": "code",
   "execution_count": null,
   "id": "815059d7-b3dd-44b3-94ce-494a275e3ef7",
   "metadata": {},
   "outputs": [],
   "source": []
  }
 ],
 "metadata": {
  "kernelspec": {
   "display_name": "Python 3 (ipykernel)",
   "language": "python",
   "name": "python3"
  },
  "language_info": {
   "codemirror_mode": {
    "name": "ipython",
    "version": 3
   },
   "file_extension": ".py",
   "mimetype": "text/x-python",
   "name": "python",
   "nbconvert_exporter": "python",
   "pygments_lexer": "ipython3",
   "version": "3.9.10"
  }
 },
 "nbformat": 4,
 "nbformat_minor": 5
}
