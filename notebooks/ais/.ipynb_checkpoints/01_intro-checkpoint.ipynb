{
  "nbformat": 4,
  "nbformat_minor": 0,
  "metadata": {
    "kernelspec": {
      "display_name": "Python 3",
      "language": "python",
      "name": "python3"
    },
    "language_info": {
      "codemirror_mode": {
        "name": "ipython",
        "version": 3
      },
      "file_extension": ".py",
      "mimetype": "text/x-python",
      "name": "python",
      "nbconvert_exporter": "python",
      "pygments_lexer": "ipython3",
      "version": "3.8.5"
    },
    "colab": {
      "name": "01_intro.ipynb",
      "provenance": [],
      "toc_visible": true,
      "include_colab_link": true
    }
  },
  "cells": [
    {
      "cell_type": "markdown",
      "metadata": {
        "id": "view-in-github",
        "colab_type": "text"
      },
      "source": [
        "<a href=\"https://colab.research.google.com/github/hrbolek/learning/blob/master/ais/01_intro.ipynb\" target=\"_parent\"><img src=\"https://colab.research.google.com/assets/colab-badge.svg\" alt=\"Open In Colab\"/></a>"
      ]
    },
    {
      "cell_type": "markdown",
      "metadata": {
        "id": "AaO91qs9r-Ow"
      },
      "source": [
        "# Úvodní hodina"
      ]
    },
    {
      "cell_type": "markdown",
      "metadata": {
        "id": "_OoldAuZr-O7"
      },
      "source": [
        "Cílem předmětu je poskytnou vám v některých oblastech jen přehledovou informaci, zatímco v jiných půjdeme do hloubky. Pokud jste nadšenci do tvorby informačních systémů či webových aplikací, je možné, že již dávno jste si některými částmi předmětu prošli, že jste shlédli desítky hodin videí na youtube jako je např. \n",
        "\n",
        "> **Doporučené video**\n",
        "> \n",
        "> [Data Analysis with Python Course - Numpy, Pandas, Data Visualization 10h](https://www.youtube.com/watch?v=GPVsHOlRBBI)\n",
        ">\n",
        "> [Data Analysis with Python - Full Course for Beginners (Numpy, Pandas, Matplotlib, Seaborn) 4h 22min](https://www.youtube.com/watch?v=r-uOLxNrNk8)\n",
        "\n",
        "Podotýkám, že velmi často se jedná o vysoce kvalitní videa, někdy i natočená v rámci konferenčních vystoupení. V rámci textů naleznete celou řadu odkazů na taková videa a dokonce u některých z nich po vás vyžaduji, abyste je shlédli.\n"
      ]
    },
    {
      "cell_type": "markdown",
      "metadata": {
        "id": "VVUiEHEIr-O9"
      },
      "source": [
        "## Struktura semestru"
      ]
    },
    {
      "cell_type": "markdown",
      "metadata": {
        "id": "NQhkCVOwr-O_"
      },
      "source": [
        "Následující odrážky specifikují (ne nutně ve správném pořadí), s čím se v semestru setkáte.\n",
        "\n",
        "- Úvodní shrnutí\n",
        "    - Intro do WEB development\n",
        "    - Intro do virtualizace\n",
        "    - Intro do správy projektu\n",
        "    \n",
        "- Datové struktury\n",
        "    - Elementární datové struktury\n",
        "        - Znak\n",
        "        - Číslo (IEEE 754)\n",
        "        - Bool\n",
        "    - Komplexní datové struktury\n",
        "        - List (Python)\n",
        "        - Dict (Python)\n",
        "        - Tree\n",
        "        - Graph\n",
        "    - Principiální algoritmy pro práci s datovými strukturami\n",
        "        - Třídění\n",
        "        - Vyhledávání \n",
        "        - Výpočetní složitost\n",
        "    \n",
        "- Úkládání dat\n",
        "    - Homogenní datové struktury\n",
        "    - Heterogenní datové struktury\n",
        "    - Operace nad datovými strukturami\n",
        "        - Filter\n",
        "        - Map\n",
        "        - Reduce\n",
        "    - SQL (SQLAlchemy Python)\n",
        "    - GraphQL (Graphene Python)\n",
        "\n",
        "- Získávání dat\n",
        "    - Zdroje s API\n",
        "        - OData\n",
        "        - REST\n",
        "        - SWAGGER\n",
        "        - další standardy\n",
        "    - Zdroje bez API\n",
        "    - Textové zdroje\n",
        "\n",
        "- Analýza a vizualizace dat \n",
        "    - Nástroje pro platformu Python\n",
        "    - Pandas\n",
        "    - Matplotlib\n",
        "    - Další nástroje (numpy, scikit, ...)\n",
        "\n",
        "\n"
      ]
    },
    {
      "cell_type": "markdown",
      "metadata": {
        "id": "Y64oJ1HIFCao"
      },
      "source": [
        "## Podmínky ukončení semestru\n",
        "\n",
        "Starý známý postup. Vyberete si téma (přehled dostanete do 15.10.). Úspěšná realizace tématu znamená úspěšné ukončení semestru. Neúspěšná ..."
      ]
    },
    {
      "cell_type": "markdown",
      "metadata": {
        "id": "B0gBP-_cDI-u"
      },
      "source": [
        "## Úvodní shrnutí"
      ]
    },
    {
      "cell_type": "markdown",
      "metadata": {
        "id": "JkeSK0NHDVMm"
      },
      "source": [
        "### Intro do WEB development"
      ]
    },
    {
      "cell_type": "markdown",
      "metadata": {
        "id": "J1wCj5sbDdw_"
      },
      "source": [
        "Připomeňte si vybrané pojmy:\n",
        "\n",
        "- PostgreSQL\n",
        "- React\n",
        "- API\n",
        "\n",
        "\n",
        "Připomeňte si strukturu webové aplikace:\n",
        "\n",
        "- Frontend\n",
        "- Backend\n",
        "- Servers"
      ]
    },
    {
      "cell_type": "markdown",
      "metadata": {
        "id": "h5SF6N6MERWH"
      },
      "source": [
        "### Intro do virtualizace"
      ]
    },
    {
      "cell_type": "markdown",
      "metadata": {
        "id": "5yY9Sq_IEUAs"
      },
      "source": [
        "Docker, Dockerfile (vnitřní struktura)\n",
        "- Kontext pro sestavení Dockerfile\n",
        "- Kontext při spuštění kontejneru definovaného pomocí Dockerfile\n",
        "\n",
        "> **Doporučené video**\n",
        ">\n",
        "> [Docker Tutorial for Beginners FULL COURSE in 3 Hours](https://www.youtube.com/watch?v=3c-iBn73dDE)\n",
        "\n",
        "> **Povinné video**\n",
        ">\n",
        "> [Dockerfile Tutorial - Docker in Practice || Docker Tutorial 10, 24 min ](https://www.youtube.com/watch?v=WmcdMiyqfZs)"
      ]
    },
    {
      "cell_type": "markdown",
      "metadata": {
        "id": "viZ0h4Dh834B"
      },
      "source": [
        "```dockerfile\n",
        "# For more information, please refer to https://aka.ms/vscode-docker-python\n",
        "FROM python:3.8-slim-buster\n",
        "\n",
        "EXPOSE 80\n",
        "\n",
        "# Keeps Python from generating .pyc files in the container\n",
        "ENV PYTHONDONTWRITEBYTECODE=1\n",
        "\n",
        "# Turns off buffering for easier container logging\n",
        "ENV PYTHONUNBUFFERED=1\n",
        "\n",
        "# Install pip requirements\n",
        "COPY requirements.txt .\n",
        "RUN python -m pip install -r requirements.txt\n",
        "\n",
        "WORKDIR /app\n",
        "COPY . /app\n",
        "\n",
        "# Creates a non-root user and adds permission to access the /app folder\n",
        "# For more info, please refer to https://aka.ms/vscode-docker-python-configure-containers\n",
        "RUN useradd appuser && chown -R appuser /app\n",
        "USER appuser\n",
        "\n",
        "# During debugging, this entry point will be overridden. For more information, please refer to https://aka.ms/vscode-docker-python-debug\n",
        "CMD [ \"python\", \"./app.py\" ] \n",
        "```"
      ]
    },
    {
      "cell_type": "markdown",
      "metadata": {
        "id": "KMw-w8Rm80YB"
      },
      "source": [
        "\n",
        "docker-compose\n",
        "- Jména služeb (services) / kontejnerů = host name\n",
        "- Default network pro kontejnery\n",
        "- Mapování portů\n",
        "- Význam localhost\n",
        "\n",
        "> **Povinné video**\n",
        ">\n",
        "> [Docker Compose Tutorial - Docker in Practice || Docker Tutorial 9 13 min](https://www.youtube.com/watch?v=MVIcrmeV_6c)"
      ]
    },
    {
      "cell_type": "markdown",
      "metadata": {
        "id": "OIfcJ9Ax9In8"
      },
      "source": [
        "```docker-compose\n",
        "version: '3.4'\n",
        "\n",
        "services:\n",
        "  python_fastapi:\n",
        "    image: python_fastapi\n",
        "    build:\n",
        "      context: ./pyf\n",
        "    ports:\n",
        "      - 50001:8000\n",
        "\n",
        "  python_tornado:\n",
        "    image: python_tornado\n",
        "    build:\n",
        "      context: ./pyt\n",
        "    ports:\n",
        "      - 50002:80\n",
        "\n",
        "  js:\n",
        "     image: js\n",
        "     build: \n",
        "       context: ./js\n",
        "     environment:\n",
        "       NODE_ENV: development\n",
        "     ports:\n",
        "       - 50003:3000\n",
        "       - 9229:9229\n",
        "\n",
        "  postgres:\n",
        "    image: postgres\n",
        "    environment:\n",
        "      - POSTGRES_PASSWORD=example\n",
        "    \n",
        "  pgadmin:\n",
        "    image: dpage/pgadmin4\n",
        "    environment:\n",
        "      - PGADMIN_DEFAULT_EMAIL=anoyne@anywhere.com\n",
        "      - PGADMIN_DEFAULT_PASSWORD=example\n",
        "    ports:\n",
        "      - 50011:80\n",
        "\n",
        "  nginx:\n",
        "    build:\n",
        "      context: ./nginx\n",
        "    ports:\n",
        "      - 50000:80\n",
        "    depends_on:\n",
        "      - postgres\n",
        "      - js\n",
        "      - python_fastapi\n",
        "      - python_tornado \n",
        "\n",
        "```"
      ]
    },
    {
      "cell_type": "markdown",
      "metadata": {
        "id": "xTSu_81JEcnO"
      },
      "source": [
        "### Intro do správy projektu"
      ]
    },
    {
      "cell_type": "markdown",
      "metadata": {
        "id": "ElTcrTCtEfbk"
      },
      "source": [
        "GIT, GIT, GIT, GITHub :)\n",
        "- Commit\n",
        "\n",
        "> **Doporučené video**\n",
        ">\n",
        "> [Git a GitHub od základov 🇸🇰 ROB WEB 1h 37 min](https://www.youtube.com/watch?v=0v5K4GvK4Gs)\n",
        "\n"
      ]
    }
  ]
}