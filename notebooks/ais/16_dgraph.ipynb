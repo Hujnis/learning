{
 "cells": [
  {
   "cell_type": "markdown",
   "id": "3aeb11b8-e463-40fd-b9bd-754a72c32072",
   "metadata": {},
   "source": []
  },
  {
   "cell_type": "markdown",
   "id": "10aea1d3-480e-47cf-9ad9-bc8f961b5f4b",
   "metadata": {},
   "source": [
    "https://dgraph.io/docs/\n",
    "\n",
    "https://github.com/dgraph-io/dgraph"
   ]
  },
  {
   "cell_type": "markdown",
   "id": "06daa132-5123-4564-8d39-0ab0f4cda8a3",
   "metadata": {},
   "source": [
    "```yaml\n",
    "# This Docker Compose file can be used to quickly bootup Dgraph Zero\n",
    "# and Alpha in different Docker containers.\n",
    "\n",
    "# It mounts /tmp/data on the host machine to /dgraph within the\n",
    "# container. You can change /tmp/data to a more appropriate location.\n",
    "# Run `docker-compose up` to start Dgraph.\n",
    "\n",
    "version: \"3.2\"\n",
    "services:\n",
    "  zero:\n",
    "    image: dgraph/dgraph:latest\n",
    "    volumes:\n",
    "      - /tmp/data:/dgraph\n",
    "    ports:\n",
    "      - 5080:5080\n",
    "      - 6080:6080\n",
    "    restart: on-failure\n",
    "    command: dgraph zero --my=zero:5080\n",
    "  alpha:\n",
    "    image: dgraph/dgraph:latest\n",
    "    volumes:\n",
    "      - /tmp/data:/dgraph\n",
    "    ports:\n",
    "      - 8080:8080\n",
    "      - 9080:9080\n",
    "    restart: on-failure\n",
    "    command: dgraph alpha --my=alpha:7080 --zero=zero:5080\n",
    "```"
   ]
  },
  {
   "cell_type": "code",
   "execution_count": null,
   "id": "f2227f0c-22db-4422-b9ed-6969b4ce6ffe",
   "metadata": {},
   "outputs": [],
   "source": []
  }
 ],
 "metadata": {
  "kernelspec": {
   "display_name": "Python 3 (ipykernel)",
   "language": "python",
   "name": "python3"
  },
  "language_info": {
   "codemirror_mode": {
    "name": "ipython",
    "version": 3
   },
   "file_extension": ".py",
   "mimetype": "text/x-python",
   "name": "python",
   "nbconvert_exporter": "python",
   "pygments_lexer": "ipython3",
   "version": "3.9.12"
  }
 },
 "nbformat": 4,
 "nbformat_minor": 5
}
