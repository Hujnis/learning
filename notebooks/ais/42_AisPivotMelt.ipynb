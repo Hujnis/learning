{
 "cells": [
  {
   "cell_type": "markdown",
   "id": "f79fad3f-1f05-40b5-9620-f3b1133417f9",
   "metadata": {},
   "source": [
    "# Pivot & Melt"
   ]
  },
  {
   "cell_type": "markdown",
   "id": "30e81428-1811-45a4-90a7-3ab17acc708d",
   "metadata": {},
   "source": [
    "## Kontingenční tabulka"
   ]
  },
  {
   "cell_type": "markdown",
   "id": "366d99d5-107b-4603-b197-de89c57020f0",
   "metadata": {},
   "source": [
    "Pivot table = kontingenční tabulka. \n",
    "Vytváření kontingenčních tabulek je proces ve kterém homogenní data agregujeme a jednotlivé \"osy\" agregace, \n",
    "resp. hodnoty v \"osách\" jsou určujícími pro řádky či sloupce.\n",
    "\n",
    "Výchozí data rozdělujeme do podmnožin, velmi často disjunktních podmožin, nad kterými následně provádíme agragační operace. Mezi agregační operace patří `Count` `Sum` `Avg` `Max` `Min` apod. Grafické uspořádání je typické tím, že definiční filtry jsou v hlavičkách sloupců nebo hlavičkách řádků (první element ve sloupci či v řádku). Buňky jsou pak využity pro zobrazení výsledků agregace. Mnohdy je využíváno rozdělení do podmnožin podle více kritérií a vzniká tak \"strom\" podmínek rozdělující hlavní množinu do menších a menších podmonžin."
   ]
  },
  {
   "cell_type": "code",
   "execution_count": 2,
   "id": "6a45cdab-52a1-40aa-917c-51383c5f56be",
   "metadata": {},
   "outputs": [],
   "source": [
    "import numpy as np\n",
    "import pandas as pd\n",
    "import matplotlib.pyplot as plt\n",
    "\n",
    "%matplotlib inline"
   ]
  },
  {
   "cell_type": "code",
   "execution_count": 4,
   "id": "bd4beacb-312b-42c1-b9ef-c325e27005f8",
   "metadata": {},
   "outputs": [],
   "source": [
    "sales = pd.read_csv(\n",
    "    'sales_data.csv',\n",
    "    parse_dates=['Date'])"
   ]
  },
  {
   "cell_type": "code",
   "execution_count": 5,
   "id": "afb09aac-df3a-4604-8854-49b7f0dcfd6c",
   "metadata": {},
   "outputs": [
    {
     "data": {
      "text/html": [
       "<div>\n",
       "<style scoped>\n",
       "    .dataframe tbody tr th:only-of-type {\n",
       "        vertical-align: middle;\n",
       "    }\n",
       "\n",
       "    .dataframe tbody tr th {\n",
       "        vertical-align: top;\n",
       "    }\n",
       "\n",
       "    .dataframe thead th {\n",
       "        text-align: right;\n",
       "    }\n",
       "</style>\n",
       "<table border=\"1\" class=\"dataframe\">\n",
       "  <thead>\n",
       "    <tr style=\"text-align: right;\">\n",
       "      <th></th>\n",
       "      <th>Date</th>\n",
       "      <th>Day</th>\n",
       "      <th>Month</th>\n",
       "      <th>Year</th>\n",
       "      <th>Customer_Age</th>\n",
       "      <th>Age_Group</th>\n",
       "      <th>Customer_Gender</th>\n",
       "      <th>Country</th>\n",
       "      <th>State</th>\n",
       "      <th>Product_Category</th>\n",
       "      <th>Sub_Category</th>\n",
       "      <th>Product</th>\n",
       "      <th>Order_Quantity</th>\n",
       "      <th>Unit_Cost</th>\n",
       "      <th>Unit_Price</th>\n",
       "      <th>Profit</th>\n",
       "      <th>Cost</th>\n",
       "      <th>Revenue</th>\n",
       "    </tr>\n",
       "  </thead>\n",
       "  <tbody>\n",
       "    <tr>\n",
       "      <th>0</th>\n",
       "      <td>2013-11-26</td>\n",
       "      <td>26</td>\n",
       "      <td>November</td>\n",
       "      <td>2013</td>\n",
       "      <td>19</td>\n",
       "      <td>Youth (&lt;25)</td>\n",
       "      <td>M</td>\n",
       "      <td>Canada</td>\n",
       "      <td>British Columbia</td>\n",
       "      <td>Accessories</td>\n",
       "      <td>Bike Racks</td>\n",
       "      <td>Hitch Rack - 4-Bike</td>\n",
       "      <td>8</td>\n",
       "      <td>45</td>\n",
       "      <td>120</td>\n",
       "      <td>590</td>\n",
       "      <td>360</td>\n",
       "      <td>950</td>\n",
       "    </tr>\n",
       "    <tr>\n",
       "      <th>1</th>\n",
       "      <td>2015-11-26</td>\n",
       "      <td>26</td>\n",
       "      <td>November</td>\n",
       "      <td>2015</td>\n",
       "      <td>19</td>\n",
       "      <td>Youth (&lt;25)</td>\n",
       "      <td>M</td>\n",
       "      <td>Canada</td>\n",
       "      <td>British Columbia</td>\n",
       "      <td>Accessories</td>\n",
       "      <td>Bike Racks</td>\n",
       "      <td>Hitch Rack - 4-Bike</td>\n",
       "      <td>8</td>\n",
       "      <td>45</td>\n",
       "      <td>120</td>\n",
       "      <td>590</td>\n",
       "      <td>360</td>\n",
       "      <td>950</td>\n",
       "    </tr>\n",
       "    <tr>\n",
       "      <th>2</th>\n",
       "      <td>2014-03-23</td>\n",
       "      <td>23</td>\n",
       "      <td>March</td>\n",
       "      <td>2014</td>\n",
       "      <td>49</td>\n",
       "      <td>Adults (35-64)</td>\n",
       "      <td>M</td>\n",
       "      <td>Australia</td>\n",
       "      <td>New South Wales</td>\n",
       "      <td>Accessories</td>\n",
       "      <td>Bike Racks</td>\n",
       "      <td>Hitch Rack - 4-Bike</td>\n",
       "      <td>23</td>\n",
       "      <td>45</td>\n",
       "      <td>120</td>\n",
       "      <td>1366</td>\n",
       "      <td>1035</td>\n",
       "      <td>2401</td>\n",
       "    </tr>\n",
       "    <tr>\n",
       "      <th>3</th>\n",
       "      <td>2016-03-23</td>\n",
       "      <td>23</td>\n",
       "      <td>March</td>\n",
       "      <td>2016</td>\n",
       "      <td>49</td>\n",
       "      <td>Adults (35-64)</td>\n",
       "      <td>M</td>\n",
       "      <td>Australia</td>\n",
       "      <td>New South Wales</td>\n",
       "      <td>Accessories</td>\n",
       "      <td>Bike Racks</td>\n",
       "      <td>Hitch Rack - 4-Bike</td>\n",
       "      <td>20</td>\n",
       "      <td>45</td>\n",
       "      <td>120</td>\n",
       "      <td>1188</td>\n",
       "      <td>900</td>\n",
       "      <td>2088</td>\n",
       "    </tr>\n",
       "    <tr>\n",
       "      <th>4</th>\n",
       "      <td>2014-05-15</td>\n",
       "      <td>15</td>\n",
       "      <td>May</td>\n",
       "      <td>2014</td>\n",
       "      <td>47</td>\n",
       "      <td>Adults (35-64)</td>\n",
       "      <td>F</td>\n",
       "      <td>Australia</td>\n",
       "      <td>New South Wales</td>\n",
       "      <td>Accessories</td>\n",
       "      <td>Bike Racks</td>\n",
       "      <td>Hitch Rack - 4-Bike</td>\n",
       "      <td>4</td>\n",
       "      <td>45</td>\n",
       "      <td>120</td>\n",
       "      <td>238</td>\n",
       "      <td>180</td>\n",
       "      <td>418</td>\n",
       "    </tr>\n",
       "  </tbody>\n",
       "</table>\n",
       "</div>"
      ],
      "text/plain": [
       "        Date  Day     Month  Year  Customer_Age       Age_Group  \\\n",
       "0 2013-11-26   26  November  2013            19     Youth (<25)   \n",
       "1 2015-11-26   26  November  2015            19     Youth (<25)   \n",
       "2 2014-03-23   23     March  2014            49  Adults (35-64)   \n",
       "3 2016-03-23   23     March  2016            49  Adults (35-64)   \n",
       "4 2014-05-15   15       May  2014            47  Adults (35-64)   \n",
       "\n",
       "  Customer_Gender    Country             State Product_Category Sub_Category  \\\n",
       "0               M     Canada  British Columbia      Accessories   Bike Racks   \n",
       "1               M     Canada  British Columbia      Accessories   Bike Racks   \n",
       "2               M  Australia   New South Wales      Accessories   Bike Racks   \n",
       "3               M  Australia   New South Wales      Accessories   Bike Racks   \n",
       "4               F  Australia   New South Wales      Accessories   Bike Racks   \n",
       "\n",
       "               Product  Order_Quantity  Unit_Cost  Unit_Price  Profit  Cost  \\\n",
       "0  Hitch Rack - 4-Bike               8         45         120     590   360   \n",
       "1  Hitch Rack - 4-Bike               8         45         120     590   360   \n",
       "2  Hitch Rack - 4-Bike              23         45         120    1366  1035   \n",
       "3  Hitch Rack - 4-Bike              20         45         120    1188   900   \n",
       "4  Hitch Rack - 4-Bike               4         45         120     238   180   \n",
       "\n",
       "   Revenue  \n",
       "0      950  \n",
       "1      950  \n",
       "2     2401  \n",
       "3     2088  \n",
       "4      418  "
      ]
     },
     "execution_count": 5,
     "metadata": {},
     "output_type": "execute_result"
    }
   ],
   "source": [
    "sales.head()"
   ]
  },
  {
   "cell_type": "code",
   "execution_count": 6,
   "id": "7fbfa003-51ad-4ecb-8bd9-4100ba2d6540",
   "metadata": {},
   "outputs": [
    {
     "name": "stdout",
     "output_type": "stream",
     "text": [
      "dict_keys(['schema', 'data'])\n",
      "113036\n",
      "{'index': 0, 'Date': '2013-11-26T00:00:00.000', 'Day': 26, 'Month': 'November', 'Year': 2013, 'Customer_Age': 19, 'Age_Group': 'Youth (<25)', 'Customer_Gender': 'M', 'Country': 'Canada', 'State': 'British Columbia', 'Product_Category': 'Accessories', 'Sub_Category': 'Bike Racks', 'Product': 'Hitch Rack - 4-Bike', 'Order_Quantity': 8, 'Unit_Cost': 45, 'Unit_Price': 120, 'Profit': 590, 'Cost': 360, 'Revenue': 950}\n"
     ]
    }
   ],
   "source": [
    "import json\n",
    "data = json.loads(sales.to_json(orient=\"table\"))\n",
    "print(data.keys())\n",
    "data = data[\"data\"]\n",
    "print(len(data))\n",
    "print(data[0])"
   ]
  },
  {
   "cell_type": "markdown",
   "id": "a4af2ec4-ffa6-4707-b287-d6ce6c4fe13a",
   "metadata": {},
   "source": [
    "Výběr hodnot v ose"
   ]
  },
  {
   "cell_type": "markdown",
   "id": "76f5719d-5c49-4a7b-a319-a03daca9fc6e",
   "metadata": {},
   "source": [
    "|           | podmínka A | podmínka B | podmínka C |\n",
    "|-----------|:----------:|:----------:|:----------:|\n",
    "| podmínka 1|  P1 & PA   | P1 & PB    |  P1 & PC   |\n",
    "| podmínka 2|  P2 & PA   | P2 & PB    |  P2 & PC   |\n",
    "\n",
    "\n",
    "Obvykle u kontingenční tabulky platí, že pro položku X je pravdivý pouze jeden z výroků \n",
    "$$PA(X) \\wedge PB(X) \\wedge PC(X) = False$$\n",
    "\n",
    "obdobně\n",
    "\n",
    "$$P1(X) \\wedge P2(X) = False$$"
   ]
  },
  {
   "cell_type": "markdown",
   "id": "687f9554-6cc6-4d53-bb05-606af82db1bf",
   "metadata": {},
   "source": [
    "Tabulka může mít i jinou podobu\n",
    "\n",
    "|            |           |            |\n",
    "|------------|-----------|:----------:|\n",
    "| podmínka A | podmínka 1|  P1 & PA   |\n",
    "| podmínka A | podmínka 2|  P2 & PA   |\n",
    "| podmínka B | podmínka 1|  P1 & PB   |\n",
    "| podmínka B | podmínka 2|  P2 & PB   |\n",
    "| podmínka C | podmínka 1|  P1 & PC   |\n",
    "| podmínka C | podmínka 2|  P2 & PC   |\n",
    "\n",
    "případně\n",
    "\n",
    "|            |           |            |\n",
    "|------------|-----------|:----------:|\n",
    "| podmínka 1 | podmínka A|  P1 & PA   |\n",
    "| podmínka 1 | podmínka B|  P1 & PB   |\n",
    "| podmínka 1 | podmínka C|  P1 & PC   |\n",
    "| podmínka 2 | podmínka A|  P2 & PA   |\n",
    "| podmínka 2 | podmínka B|  P2 & PB   |\n",
    "| podmínka 2 | podmínka C|  P2 & PC   |"
   ]
  },
  {
   "cell_type": "markdown",
   "id": "75dcd7b1-d379-43bd-ba24-a25f56f9fa8c",
   "metadata": {},
   "source": [
    "V případě většího počtu os (disjuktních sad podmínek) dochází k vnoření podmínek\n",
    "\n",
    "|           |           | podmínka A | podmínka B | podmínka C |\n",
    "|-----------|-----------|:----------:|:----------:|:----------:|\n",
    "| podmínka α| podmínka 1|  Pα & P1 & PA   | Pα & P1 & PB |  Pα & P1 & PC |\n",
    "| podmínka α| podmínka 2|  Pα & P2 & PA   | Pα & P2 & PB |  Pα & P2 & PC |\n",
    "| podmínka β| podmínka 1|  Pβ & P1 & PA   | Pβ & P1 & PB |  Pβ & P1 & PC |\n",
    "| podmínka β| podmínka 2|  Pβ & P2 & PA   | Pβ & P2 & PB |  Pβ & P2 & PC |"
   ]
  },
  {
   "cell_type": "markdown",
   "id": "4827747e-4743-4afe-81cc-af478ff42f33",
   "metadata": {},
   "source": [
    "Vždy se očekává, že ve vnitřních buňkách je aplikován agregační operátor na podmnožinu splňující současně všechny podmínky identifikované polohou buňky.\n",
    "\n",
    "Mezi tyto agregační operátory patří sum, count, avg apod. V některých specifických případech lze do buňky uvést záznamy splňující podmínky, ale toto je možné jen pro malé datové sady."
   ]
  },
  {
   "cell_type": "markdown",
   "id": "400dd621-93c2-4b5d-a5f9-046d4c72cfee",
   "metadata": {},
   "source": [
    "### Příklad 1"
   ]
  },
  {
   "cell_type": "markdown",
   "id": "a78c65c8-90f0-4939-aacb-ec05dbfbd327",
   "metadata": {},
   "source": [
    "**Příklad**\n",
    "\n",
    "Znáte strukturu jednoho záznamu. Vytvořte kód, který zjistí všechny možné hodnoty v ose \"Product_Category\" (jaké hodnoty tento atribut může nabývat)."
   ]
  },
  {
   "cell_type": "code",
   "execution_count": 132,
   "id": "2429e8f4-8651-485c-874c-70e41dd50139",
   "metadata": {},
   "outputs": [
    {
     "name": "stdout",
     "output_type": "stream",
     "text": [
      "[]\n"
     ]
    }
   ],
   "source": [
    "axis = \"Product_Category\"\n",
    "product_category_values = [] # upravte s cílem splnit zadání\n",
    "print(product_category_values)"
   ]
  },
  {
   "cell_type": "markdown",
   "id": "ec1abb5d-ae8d-419c-b75f-cd738e07661d",
   "metadata": {},
   "source": [
    "**Řešení**"
   ]
  },
  {
   "cell_type": "code",
   "execution_count": 133,
   "id": "d1528030-3f07-4edc-b9c5-381afb341701",
   "metadata": {
    "jupyter": {
     "source_hidden": true
    },
    "tags": []
   },
   "outputs": [
    {
     "name": "stdout",
     "output_type": "stream",
     "text": [
      "{'Accessories', 'Clothing', 'Bikes'}\n"
     ]
    }
   ],
   "source": [
    "axis = \"Product_Category\"\n",
    "product_category_values = set(map(lambda item: item[axis], data))\n",
    "print(product_category_values)"
   ]
  },
  {
   "cell_type": "markdown",
   "id": "0e17c1b7-995c-40a6-8c8f-5695bdd1defe",
   "metadata": {},
   "source": [
    "### Příklad 2A\n",
    "\n",
    "Vytvořte funkci, která definuje filtr pro danou hodnotu attributu. Jestliže atribut řádku nabývá dané hodnoty, je vácena hodnota True, v opačném případě False."
   ]
  },
  {
   "cell_type": "code",
   "execution_count": null,
   "id": "06e8ef05-7228-4ee1-bccf-d616a9c8c04d",
   "metadata": {},
   "outputs": [],
   "source": [
    "def createFilter(value):\n",
    "    def result(row):\n",
    "        #\n",
    "        #\n",
    "        #\n",
    "    return result\n",
    "\n",
    "row = data[0]\n",
    "f = createFilter('Accessories')\n",
    "print(f(row))"
   ]
  },
  {
   "cell_type": "markdown",
   "id": "4c1a28bb-950e-4261-91a4-3a89111ebf1d",
   "metadata": {},
   "source": [
    "**Řešení**"
   ]
  },
  {
   "cell_type": "code",
   "execution_count": 138,
   "id": "0320026d-4c00-42ce-979e-02eb4fddcd6e",
   "metadata": {
    "jupyter": {
     "source_hidden": true
    },
    "tags": []
   },
   "outputs": [
    {
     "name": "stdout",
     "output_type": "stream",
     "text": [
      "True\n"
     ]
    }
   ],
   "source": [
    "def createFilter(value):\n",
    "    def result(row):\n",
    "        return row[\"Product_Category\"] == value\n",
    "    return result\n",
    "\n",
    "row = data[0]\n",
    "f = createFilter('Accessories')\n",
    "print(f(row))"
   ]
  },
  {
   "cell_type": "markdown",
   "id": "87d2ebc5-5d79-4709-a9d4-49ca6907c62f",
   "metadata": {},
   "source": [
    "### Příklad 2"
   ]
  },
  {
   "cell_type": "markdown",
   "id": "bdac8cb3-f9e3-4fcb-9e03-ca151c724c22",
   "metadata": {},
   "source": [
    "**Příklad**\n",
    "\n",
    "Vytvořte funkce vracející \"True\" / \"False\" podle příslušnosti do skupiny v ose \"Product_Category\".\n",
    "\n",
    "Ověřte si správné fungování na prvním záznamu. Hodnotu `True` mustí vrátit jediná funkce, zbývající musí vrátit hodnotu `False`. Pomocí funkcí rozdělujeme množinu všech dat do disjunktních podmnožin.\n",
    "\n",
    "Funkce, které vytváříte jsou tzv. Closures. Za určitých okolností může vzniknout sada funkcí, které vrací stejné výsledky (všechny funkce vrací stejný výsledek pro všechny řádky v tabulce). Takové implementaci je nutné se vyhnout.\n",
    "\n",
    "20 min."
   ]
  },
  {
   "cell_type": "code",
   "execution_count": 134,
   "id": "7a2dfaf0-f59a-4b0e-b316-f92e9b0f1293",
   "metadata": {},
   "outputs": [
    {
     "name": "stdout",
     "output_type": "stream",
     "text": [
      "{}\n"
     ]
    }
   ],
   "source": [
    "product_category_selectors = dict()#zmente / naplnte, pouzijte vice radku\n",
    "\n",
    "print(product_category_selectors)\n",
    "\n",
    "row = data[0]\n",
    "for key, value in product_category_selectors.items():\n",
    "    print(key, value(row))"
   ]
  },
  {
   "cell_type": "markdown",
   "id": "9a37c111-1eed-47c3-be22-ae114590144a",
   "metadata": {
    "tags": []
   },
   "source": [
    "**Řešení A**"
   ]
  },
  {
   "cell_type": "code",
   "execution_count": 136,
   "id": "338acf5c-0866-45c4-93b0-b1ed5de51833",
   "metadata": {
    "collapsed": true,
    "jupyter": {
     "outputs_hidden": true,
     "source_hidden": true
    },
    "tags": []
   },
   "outputs": [
    {
     "name": "stdout",
     "output_type": "stream",
     "text": [
      "{'Accessories': <function createFilter.<locals>.resultFilter at 0x7f6b8e145ab0>, 'Clothing': <function createFilter.<locals>.resultFilter at 0x7f6b8e1460e0>, 'Bikes': <function createFilter.<locals>.resultFilter at 0x7f6b8e145900>}\n",
      "Accessories True\n",
      "Clothing False\n",
      "Bikes False\n"
     ]
    }
   ],
   "source": [
    "def createFilter(value):\n",
    "    def resultFilter(item):\n",
    "        return item['Product_Category'] == value\n",
    "    return resultFilter\n",
    "\n",
    "product_category_selectors = {}\n",
    "for row in data:\n",
    "    attValue = row['Product_Category']\n",
    "    if product_category_selectors.get(attValue, None) is None:\n",
    "        currentFilter = createFilter(attValue)\n",
    "        product_category_selectors[attValue] = currentFilter\n",
    "    \n",
    "print(product_category_selectors)\n",
    "\n",
    "row = data[0]\n",
    "for key, value in product_category_selectors.items():\n",
    "    print(key, value(row))"
   ]
  },
  {
   "cell_type": "markdown",
   "id": "c1e22c5b-aaa9-4ee6-b283-31106e4d3141",
   "metadata": {
    "tags": []
   },
   "source": [
    "**Řešení B**"
   ]
  },
  {
   "cell_type": "code",
   "execution_count": 137,
   "id": "7a85ecb2-e9d5-46b9-a0de-3d4961c9236b",
   "metadata": {
    "collapsed": true,
    "jupyter": {
     "outputs_hidden": true,
     "source_hidden": true
    },
    "tags": []
   },
   "outputs": [
    {
     "name": "stdout",
     "output_type": "stream",
     "text": [
      "{'Accessories': <function createLambda.<locals>.<lambda> at 0x7f6b8e144310>, 'Clothing': <function createLambda.<locals>.<lambda> at 0x7f6b9a619990>, 'Bikes': <function createLambda.<locals>.<lambda> at 0x7f6b9a618ee0>}\n",
      "Accessories True\n",
      "Clothing False\n",
      "Bikes False\n"
     ]
    }
   ],
   "source": [
    "def createLambda(value):\n",
    "    return lambda item: item[\"Product_Category\"] == value\n",
    "\n",
    "product_category_selectors = dict((value, createLambda(value)) for value in product_category_values)\n",
    "print(product_category_selectors)\n",
    "\n",
    "row = data[0]\n",
    "for key, value in product_category_selectors.items():\n",
    "    print(key, value(row))"
   ]
  },
  {
   "cell_type": "markdown",
   "id": "f1385125-1c4b-46e8-8011-291214d52113",
   "metadata": {},
   "source": [
    "### Příklad 3"
   ]
  },
  {
   "cell_type": "markdown",
   "id": "9dbcf9e5-1533-4220-afc3-a36d29ae66eb",
   "metadata": {},
   "source": [
    "**Příklad**\n",
    "\n",
    "Vytvořte funkci, jejímž výstupem je sada filtrů podle diskrétních hodnot u daného atributu (sloupce tabulky).\n",
    "Jedná se o zobecnění předchozích úloh."
   ]
  },
  {
   "cell_type": "code",
   "execution_count": 104,
   "id": "9256f49b-7334-4710-a0b4-f75734bccb25",
   "metadata": {},
   "outputs": [
    {
     "name": "stdout",
     "output_type": "stream",
     "text": [
      "{}\n",
      "{}\n"
     ]
    }
   ],
   "source": [
    "def createFilters(attributeName, table):\n",
    "    def createLambda(value):\n",
    "        return lambda item: item[attributeName] == value\n",
    "\n",
    "    result = {}\n",
    "    for row in table:\n",
    "        #\n",
    "        #\n",
    "        #\n",
    "        #\n",
    "        pass\n",
    "    return result\n",
    "\n",
    "ageFilters = createFilters(\"Age_Group\", data)\n",
    "categoryFilters = createFilters(\"Product_Category\", data)\n",
    "print(ageFilters)\n",
    "print(categoryFilters)"
   ]
  },
  {
   "cell_type": "markdown",
   "id": "f81a6886-270f-466e-b431-24388860d6f5",
   "metadata": {},
   "source": [
    "**Řešení**"
   ]
  },
  {
   "cell_type": "code",
   "execution_count": 105,
   "id": "cae06986-d94e-4d3f-a832-0d4a69756067",
   "metadata": {
    "jupyter": {
     "source_hidden": true
    },
    "tags": []
   },
   "outputs": [
    {
     "name": "stdout",
     "output_type": "stream",
     "text": [
      "{'Youth (<25)': <function createFilters.<locals>.createLambda.<locals>.<lambda> at 0x7f6b9a61a170>, 'Adults (35-64)': <function createFilters.<locals>.createLambda.<locals>.<lambda> at 0x7f6b9a61a200>, 'Young Adults (25-34)': <function createFilters.<locals>.createLambda.<locals>.<lambda> at 0x7f6b9a61a290>, 'Seniors (64+)': <function createFilters.<locals>.createLambda.<locals>.<lambda> at 0x7f6b9a61a320>}\n",
      "{'Accessories': <function createFilters.<locals>.createLambda.<locals>.<lambda> at 0x7f6b9a61a440>, 'Clothing': <function createFilters.<locals>.createLambda.<locals>.<lambda> at 0x7f6b9a61a4d0>, 'Bikes': <function createFilters.<locals>.createLambda.<locals>.<lambda> at 0x7f6b9a61a560>}\n"
     ]
    }
   ],
   "source": [
    "def createFilters(attributeName, table):\n",
    "    def createLambda(value):\n",
    "        return lambda item: item[attributeName] == value\n",
    "\n",
    "    result = {}\n",
    "    for row in table:\n",
    "        value = row[attributeName]\n",
    "        if result.get(value, None) is None:\n",
    "            result[value] = createLambda(value)\n",
    "    return result\n",
    "\n",
    "ageFilters = createFilters(\"Age_Group\", data)\n",
    "categoryFilters = createFilters(\"Product_Category\", data)\n",
    "print(ageFilters)\n",
    "print(categoryFilters)"
   ]
  },
  {
   "cell_type": "markdown",
   "id": "dc407972-6751-4519-a731-e5fee745438c",
   "metadata": {},
   "source": [
    "### Příklad 4"
   ]
  },
  {
   "cell_type": "markdown",
   "id": "2622bb99-ffdb-418d-adb0-9f6e223e76d5",
   "metadata": {
    "tags": []
   },
   "source": [
    "**Příklad**\n",
    "\n",
    "Kolik řádků v datech splňuje podmínku definovanou funkcí `product_category_selector`."
   ]
  },
  {
   "cell_type": "code",
   "execution_count": 139,
   "id": "c2c64ea1-7df6-4755-be4d-37d495d3120c",
   "metadata": {},
   "outputs": [
    {
     "name": "stdout",
     "output_type": "stream",
     "text": [
      "Accessories <function createLambda.<locals>.<lambda> at 0x7f6b8e144310>\n",
      "70120\n"
     ]
    }
   ],
   "source": [
    "[(product_category_name, product_category_selector), *_] = product_category_selectors.items()\n",
    "print(product_category_name, product_category_selector)\n",
    "\n",
    "filteredData = [] # Doplnte\n",
    "print(len(filteredData))"
   ]
  },
  {
   "cell_type": "markdown",
   "id": "de25c5c1-f37f-4a4f-af80-69b02da9d1a9",
   "metadata": {},
   "source": [
    "**Řešení A**"
   ]
  },
  {
   "cell_type": "code",
   "execution_count": 107,
   "id": "2b4a5970-efc3-4fe1-8034-f99c267c34f2",
   "metadata": {
    "jupyter": {
     "source_hidden": true
    },
    "tags": []
   },
   "outputs": [
    {
     "name": "stdout",
     "output_type": "stream",
     "text": [
      "Accessories <function createLambda.<locals>.<lambda> at 0x7f6b9abd3250>\n",
      "70120\n"
     ]
    }
   ],
   "source": [
    "[(product_category_name, product_category_selector), *_] = product_category_selectors.items()\n",
    "print(product_category_name, product_category_selector)\n",
    "\n",
    "filteredData = []\n",
    "for row in date:\n",
    "    if product_category_selector(row):\n",
    "        filteredData.append(row)\n",
    "\n",
    "print(len(filteredData))"
   ]
  },
  {
   "cell_type": "markdown",
   "id": "3853f229-b385-449c-a7a0-6e63dc3b02c8",
   "metadata": {},
   "source": [
    "**Řešení B**"
   ]
  },
  {
   "cell_type": "code",
   "execution_count": 142,
   "id": "04311c1e-b783-46fd-822f-5d224dbc2c23",
   "metadata": {
    "jupyter": {
     "source_hidden": true
    },
    "tags": []
   },
   "outputs": [
    {
     "name": "stdout",
     "output_type": "stream",
     "text": [
      "Accessories <function createLambda.<locals>.<lambda> at 0x7f6b8e144310>\n",
      "70120\n"
     ]
    }
   ],
   "source": [
    "[(product_category_name, product_category_selector), *_] = product_category_selectors.items()\n",
    "print(product_category_name, product_category_selector)\n",
    "\n",
    "filteredData = list(filter(product_category_selector, data))\n",
    "print(len(filteredData))"
   ]
  },
  {
   "cell_type": "markdown",
   "id": "d692109d-3ace-4d5a-abc7-e4684ecfd302",
   "metadata": {},
   "source": [
    "**Řešení C**"
   ]
  },
  {
   "cell_type": "code",
   "execution_count": 139,
   "id": "30bf2f50-c9d8-4c29-a615-f2afa0ad0efb",
   "metadata": {
    "jupyter": {
     "source_hidden": true
    },
    "tags": []
   },
   "outputs": [
    {
     "name": "stdout",
     "output_type": "stream",
     "text": [
      "Accessories <function createLambda.<locals>.<lambda> at 0x7f6b8e144310>\n",
      "70120\n"
     ]
    }
   ],
   "source": [
    "[(product_category_name, product_category_selector), *_] = product_category_selectors.items()\n",
    "print(product_category_name, product_category_selector)\n",
    "\n",
    "filteredData = [row for row in data if product_category_selector(row)] # Doplnte\n",
    "print(len(filteredData))"
   ]
  },
  {
   "cell_type": "markdown",
   "id": "a0b870ec-9211-46c1-88ae-1d25fd38867f",
   "metadata": {},
   "source": [
    "### Příklad 5"
   ]
  },
  {
   "cell_type": "markdown",
   "id": "d8cf783c-8026-4c2e-8119-cf8869029493",
   "metadata": {},
   "source": [
    "**Příklad**\n",
    "\n",
    "Zjistěte součet attributu \"Profit\" pro řádky splňující podmínku definovanou funkcí."
   ]
  },
  {
   "cell_type": "code",
   "execution_count": 108,
   "id": "94642b62-a89a-437f-b7c0-9c311e6d0df5",
   "metadata": {},
   "outputs": [
    {
     "name": "stdout",
     "output_type": "stream",
     "text": [
      "Accessories <function createLambda.<locals>.<lambda> at 0x7f6b9abd3250>\n",
      "0\n"
     ]
    }
   ],
   "source": [
    "[(product_category_name, product_category_selector), *_] = product_category_selectors.items()\n",
    "print(product_category_name, product_category_selector)\n",
    "\n",
    "filteredData = list(filter(product_category_selector, data))\n",
    "total = 0 # Doplnte, pripadne navrhnete jine reseni\n",
    "print(total)"
   ]
  },
  {
   "cell_type": "markdown",
   "id": "be0ce069-6d0d-4d3e-b95b-53d4416d7126",
   "metadata": {},
   "source": [
    "**Řešení A**"
   ]
  },
  {
   "cell_type": "code",
   "execution_count": 144,
   "id": "3baf17ac-f3e8-44fc-90e9-c5d2434d04da",
   "metadata": {
    "jupyter": {
     "source_hidden": true
    },
    "tags": []
   },
   "outputs": [
    {
     "name": "stdout",
     "output_type": "stream",
     "text": [
      "Accessories <function createLambda.<locals>.<lambda> at 0x7f6b8e144310>\n",
      "8862377\n"
     ]
    }
   ],
   "source": [
    "[(product_category_name, product_category_selector), *_] = product_category_selectors.items()\n",
    "print(product_category_name, product_category_selector)\n",
    "\n",
    "total = 0\n",
    "for row in data:\n",
    "    if product_category_selector(row):\n",
    "        value = row[\"Profit\"]\n",
    "        total = total + value\n",
    "\n",
    "print(total)"
   ]
  },
  {
   "cell_type": "markdown",
   "id": "d6401671-0fff-40b9-be57-7cd779b2e2ce",
   "metadata": {
    "tags": []
   },
   "source": [
    "**Řešení B**"
   ]
  },
  {
   "cell_type": "code",
   "execution_count": 143,
   "id": "0ecf36be-1fca-449f-afb6-a3adbeb2f533",
   "metadata": {
    "jupyter": {
     "source_hidden": true
    },
    "tags": []
   },
   "outputs": [
    {
     "name": "stdout",
     "output_type": "stream",
     "text": [
      "Accessories <function createLambda.<locals>.<lambda> at 0x7f6b8e144310>\n",
      "8862377\n"
     ]
    }
   ],
   "source": [
    "[(product_category_name, product_category_selector), *_] = product_category_selectors.items()\n",
    "print(product_category_name, product_category_selector)\n",
    "\n",
    "filteredData = list(filter(product_category_selector, data))\n",
    "mapped = map(lambda item: item[\"Profit\"], filteredData)\n",
    "total = sum(mapped)\n",
    "\n",
    "print(total)"
   ]
  },
  {
   "cell_type": "markdown",
   "id": "06edf294-277f-4b17-bf55-2deb22018068",
   "metadata": {},
   "source": [
    "**Řešení C**"
   ]
  },
  {
   "cell_type": "code",
   "execution_count": 143,
   "id": "dde71a6f-b9eb-4109-b2ff-ec2b75d2e8c5",
   "metadata": {
    "jupyter": {
     "source_hidden": true
    },
    "tags": []
   },
   "outputs": [
    {
     "name": "stdout",
     "output_type": "stream",
     "text": [
      "Accessories <function createLambda.<locals>.<lambda> at 0x7f6b8e144310>\n",
      "8862377\n"
     ]
    }
   ],
   "source": [
    "[(product_category_name, product_category_selector), *_] = product_category_selectors.items()\n",
    "print(product_category_name, product_category_selector)\n",
    "\n",
    "filteredData = (filter(product_category_selector, data))\n",
    "mapped = map(lambda item: item[\"Profit\"], filteredData)\n",
    "total = sum(mapped)\n",
    "\n",
    "print(total)"
   ]
  },
  {
   "cell_type": "markdown",
   "id": "e345dc65-b15a-4add-aeaf-9e13a29820d3",
   "metadata": {},
   "source": [
    "### Příklad 6"
   ]
  },
  {
   "cell_type": "markdown",
   "id": "2e5a9681-d293-4ea1-92cc-0af6ae67de9b",
   "metadata": {},
   "source": [
    "**Příklad**\n",
    "\n",
    "Vytvořte funkci, která vytvoří funkci počítající sumu nad attributem pro řádky splňující podmínku."
   ]
  },
  {
   "cell_type": "code",
   "execution_count": 110,
   "id": "902bb82e-8afe-4030-9070-95193d9b0c2e",
   "metadata": {},
   "outputs": [
    {
     "name": "stdout",
     "output_type": "stream",
     "text": [
      "Accessories <function createLambda.<locals>.<lambda> at 0x7f6b9abd3250>\n",
      "0\n"
     ]
    }
   ],
   "source": [
    "def createSumarizer(attributeName, filterFunc):\n",
    "    def result(data):\n",
    "        filtered = [] #zmente\n",
    "        mapped = [] #zmente\n",
    "        total = sum(mapped)\n",
    "        return total\n",
    "    return result\n",
    "\n",
    "[(product_category_name, product_category_selector), *_] = product_category_selectors.items()\n",
    "print(product_category_name, product_category_selector)\n",
    "sumarizer = createSumarizer(\"Profit\", product_category_selector)\n",
    "total = sumarizer(data)\n",
    "print(total)"
   ]
  },
  {
   "cell_type": "markdown",
   "id": "5aeffd31-c2b4-4d2e-990f-302a85f5e4dc",
   "metadata": {},
   "source": [
    "**Řešení**"
   ]
  },
  {
   "cell_type": "code",
   "execution_count": 111,
   "id": "d07370b9-73e3-4606-82d7-b6d156868e0c",
   "metadata": {
    "jupyter": {
     "source_hidden": true
    },
    "tags": []
   },
   "outputs": [
    {
     "name": "stdout",
     "output_type": "stream",
     "text": [
      "Accessories <function createLambda.<locals>.<lambda> at 0x7f6b9abd3250>\n",
      "8862377\n"
     ]
    }
   ],
   "source": [
    "def createSumarizer(attributeName, filterFunc):\n",
    "    def result(data):\n",
    "        filtered = filter(filterFunc, data)\n",
    "        mapped = map(lambda item: item[attributeName], filtered)\n",
    "        total = sum(mapped)\n",
    "        return total\n",
    "    return result\n",
    "\n",
    "[(product_category_name, product_category_selector), *_] = product_category_selectors.items()\n",
    "print(product_category_name, product_category_selector)\n",
    "sumarizer = createSumarizer(\"Profit\", product_category_selector)\n",
    "total = sumarizer(data)\n",
    "print(total)"
   ]
  },
  {
   "cell_type": "markdown",
   "id": "5bf054af-23a1-4cf1-b9d0-17bd2ffc4c3d",
   "metadata": {},
   "source": [
    "### Příklad 7"
   ]
  },
  {
   "cell_type": "markdown",
   "id": "5f077868-ba9f-4bc2-9f0a-10f49c2c203e",
   "metadata": {},
   "source": [
    "**Příklad**\n",
    "\n",
    "Ze seznamu filtrů vytvořte sumarizery a použijte výsledek na data"
   ]
  },
  {
   "cell_type": "code",
   "execution_count": 112,
   "id": "2e0294da-361a-49a1-b55e-786f63feaa1f",
   "metadata": {},
   "outputs": [
    {
     "name": "stdout",
     "output_type": "stream",
     "text": [
      "{}\n",
      "------------------------------\n"
     ]
    }
   ],
   "source": [
    "sumarizers = dict()#upravte\n",
    "\n",
    "print(sumarizers)\n",
    "\n",
    "print('-'*30)\n",
    "for key, value in sumarizers.items():\n",
    "    print(f\"{key:10}\\t{value(data)}\")\n"
   ]
  },
  {
   "cell_type": "markdown",
   "id": "a1c9c278-c48c-473d-b9f4-8f53cbef11ab",
   "metadata": {},
   "source": [
    "**Řešení**"
   ]
  },
  {
   "cell_type": "code",
   "execution_count": 146,
   "id": "98d7ac6f-ccf0-4332-9337-357c780baa79",
   "metadata": {
    "jupyter": {
     "source_hidden": true
    },
    "tags": []
   },
   "outputs": [
    {
     "name": "stdout",
     "output_type": "stream",
     "text": [
      "{'Accessories': <function createSumarizer.<locals>.result at 0x7f6b9a61a8c0>, 'Clothing': <function createSumarizer.<locals>.result at 0x7f6b9a619ab0>, 'Bikes': <function createSumarizer.<locals>.result at 0x7f6b9a61add0>}\n",
      "------------------------------\n",
      "Accessories\t8862377\n",
      "Clothing  \t2839447\n",
      "Bikes     \t20519276\n"
     ]
    }
   ],
   "source": [
    "sumarizers = dict((key, createSumarizer(\"Profit\", filterfunc)) for key, filterfunc in product_category_selectors.items())\n",
    "print(sumarizers)\n",
    "\n",
    "print('-'*30)\n",
    "for key, value in sumarizers.items():\n",
    "    print(f\"{key:10}\\t{value(data)}\")\n"
   ]
  },
  {
   "cell_type": "markdown",
   "id": "86ec335d-631d-42e4-b8ae-a8009779dd5b",
   "metadata": {},
   "source": [
    "Výše uvedený výsledek je možné považovat za nejjednodušší kontingenční tabulku"
   ]
  },
  {
   "cell_type": "markdown",
   "id": "1e29ebf1-f0b4-4d4b-a11a-9c6f0c2d2b2d",
   "metadata": {},
   "source": [
    "### Příklad 8"
   ]
  },
  {
   "cell_type": "markdown",
   "id": "7931e8bf-a1e2-49a3-a6d9-773fd7c54f38",
   "metadata": {},
   "source": [
    "**Příklad**\n",
    "\n",
    "Seznamte se s funkcí `product` z knihovny `itertools`"
   ]
  },
  {
   "cell_type": "code",
   "execution_count": 114,
   "id": "79d9893c-7e23-4bd6-88ad-76d1dfba2241",
   "metadata": {},
   "outputs": [
    {
     "name": "stdout",
     "output_type": "stream",
     "text": [
      "[('A', '1'), ('A', '2'), ('B', '1'), ('B', '2')]\n"
     ]
    }
   ],
   "source": [
    "import itertools\n",
    "\n",
    "prod = list(itertools.product(['A', 'B'], ['1', '2']))\n",
    "print(prod)"
   ]
  },
  {
   "cell_type": "code",
   "execution_count": null,
   "id": "bd37000c-a6a4-4de3-bb6b-5cf4dc4ec493",
   "metadata": {},
   "outputs": [],
   "source": []
  },
  {
   "cell_type": "markdown",
   "id": "f53ff58b-883c-4b57-97f3-ccaecf4c6189",
   "metadata": {},
   "source": [
    "### Příklad 9"
   ]
  },
  {
   "cell_type": "markdown",
   "id": "fd58116f-9094-4518-a741-dc8f8cd29397",
   "metadata": {},
   "source": [
    "**Příklad**\n",
    "\n",
    "Použijte `product` na filtrech."
   ]
  },
  {
   "cell_type": "code",
   "execution_count": 115,
   "id": "cb29783b-9e29-439e-ae5b-e4ccb36efd56",
   "metadata": {},
   "outputs": [
    {
     "name": "stdout",
     "output_type": "stream",
     "text": [
      "[('Youth (<25)', 'Accessories'), ('Youth (<25)', 'Clothing'), ('Youth (<25)', 'Bikes'), ('Adults (35-64)', 'Accessories'), ('Adults (35-64)', 'Clothing'), ('Adults (35-64)', 'Bikes'), ('Young Adults (25-34)', 'Accessories'), ('Young Adults (25-34)', 'Clothing'), ('Young Adults (25-34)', 'Bikes'), ('Seniors (64+)', 'Accessories'), ('Seniors (64+)', 'Clothing'), ('Seniors (64+)', 'Bikes')]\n"
     ]
    }
   ],
   "source": [
    "import itertools\n",
    "\n",
    "ageFilters = createFilters(\"Age_Group\", data)\n",
    "categoryFilters = createFilters(\"Product_Category\", data)\n",
    "\n",
    "nestedNames = list(itertools.product(ageFilters.keys(), categoryFilters.keys()))\n",
    "print(nestedNames)"
   ]
  },
  {
   "cell_type": "code",
   "execution_count": 116,
   "id": "b1a3ca6e-a392-4498-9f30-5ffdcf9daefb",
   "metadata": {},
   "outputs": [
    {
     "name": "stdout",
     "output_type": "stream",
     "text": [
      "[(('Youth (<25)', <function createFilters.<locals>.createLambda.<locals>.<lambda> at 0x7f6b9a61b010>), ('Accessories', <function createFilters.<locals>.createLambda.<locals>.<lambda> at 0x7f6b8e145ab0>)), (('Youth (<25)', <function createFilters.<locals>.createLambda.<locals>.<lambda> at 0x7f6b9a61b010>), ('Clothing', <function createFilters.<locals>.createLambda.<locals>.<lambda> at 0x7f6b8e145990>)), (('Youth (<25)', <function createFilters.<locals>.createLambda.<locals>.<lambda> at 0x7f6b9a61b010>), ('Bikes', <function createFilters.<locals>.createLambda.<locals>.<lambda> at 0x7f6b9a61b760>)), (('Adults (35-64)', <function createFilters.<locals>.createLambda.<locals>.<lambda> at 0x7f6b9a61a560>), ('Accessories', <function createFilters.<locals>.createLambda.<locals>.<lambda> at 0x7f6b8e145ab0>)), (('Adults (35-64)', <function createFilters.<locals>.createLambda.<locals>.<lambda> at 0x7f6b9a61a560>), ('Clothing', <function createFilters.<locals>.createLambda.<locals>.<lambda> at 0x7f6b8e145990>)), (('Adults (35-64)', <function createFilters.<locals>.createLambda.<locals>.<lambda> at 0x7f6b9a61a560>), ('Bikes', <function createFilters.<locals>.createLambda.<locals>.<lambda> at 0x7f6b9a61b760>)), (('Young Adults (25-34)', <function createFilters.<locals>.createLambda.<locals>.<lambda> at 0x7f6b9a61a4d0>), ('Accessories', <function createFilters.<locals>.createLambda.<locals>.<lambda> at 0x7f6b8e145ab0>)), (('Young Adults (25-34)', <function createFilters.<locals>.createLambda.<locals>.<lambda> at 0x7f6b9a61a4d0>), ('Clothing', <function createFilters.<locals>.createLambda.<locals>.<lambda> at 0x7f6b8e145990>)), (('Young Adults (25-34)', <function createFilters.<locals>.createLambda.<locals>.<lambda> at 0x7f6b9a61a4d0>), ('Bikes', <function createFilters.<locals>.createLambda.<locals>.<lambda> at 0x7f6b9a61b760>)), (('Seniors (64+)', <function createFilters.<locals>.createLambda.<locals>.<lambda> at 0x7f6b9a61a440>), ('Accessories', <function createFilters.<locals>.createLambda.<locals>.<lambda> at 0x7f6b8e145ab0>)), (('Seniors (64+)', <function createFilters.<locals>.createLambda.<locals>.<lambda> at 0x7f6b9a61a440>), ('Clothing', <function createFilters.<locals>.createLambda.<locals>.<lambda> at 0x7f6b8e145990>)), (('Seniors (64+)', <function createFilters.<locals>.createLambda.<locals>.<lambda> at 0x7f6b9a61a440>), ('Bikes', <function createFilters.<locals>.createLambda.<locals>.<lambda> at 0x7f6b9a61b760>))]\n"
     ]
    }
   ],
   "source": [
    "import itertools\n",
    "\n",
    "ageFilters = createFilters(\"Age_Group\", data)\n",
    "categoryFilters = createFilters(\"Product_Category\", data)\n",
    "\n",
    "nestedNames = list(itertools.product(ageFilters.items(), categoryFilters.items()))\n",
    "print(nestedNames)"
   ]
  },
  {
   "cell_type": "markdown",
   "id": "5e6cc6fc-16df-4b33-b382-54c88d3a56ed",
   "metadata": {},
   "source": [
    "### Příklad 10"
   ]
  },
  {
   "cell_type": "markdown",
   "id": "a3e888f8-4f91-4cdd-9fee-8eb124a11ec0",
   "metadata": {},
   "source": [
    "**Příklad**\n",
    "\n",
    "Vytvořte vnořené filtry. Vnořený filtr vzniká jako `And` nad oběma filtry."
   ]
  },
  {
   "cell_type": "code",
   "execution_count": 117,
   "id": "3186123a-dea2-460c-8cdb-bb900af9034f",
   "metadata": {},
   "outputs": [
    {
     "name": "stdout",
     "output_type": "stream",
     "text": [
      "{'Youth (<25)': {'Accessories': <function A.<locals>.result_func at 0x7f6b8e1cde10>, 'Clothing': <function A.<locals>.result_func at 0x7f6b9a61ba30>, 'Bikes': <function A.<locals>.result_func at 0x7f6b9a61bac0>}, 'Adults (35-64)': {'Accessories': <function A.<locals>.result_func at 0x7f6b9a61bb50>, 'Clothing': <function A.<locals>.result_func at 0x7f6b9a61bbe0>, 'Bikes': <function A.<locals>.result_func at 0x7f6b9a61bc70>}, 'Young Adults (25-34)': {'Accessories': <function A.<locals>.result_func at 0x7f6b9a61bd00>, 'Clothing': <function A.<locals>.result_func at 0x7f6b9a61bd90>, 'Bikes': <function A.<locals>.result_func at 0x7f6b9a61be20>}, 'Seniors (64+)': {'Accessories': <function A.<locals>.result_func at 0x7f6b9a61beb0>, 'Clothing': <function A.<locals>.result_func at 0x7f6b9a61bf40>, 'Bikes': <function A.<locals>.result_func at 0x7f6b841a0040>}}\n"
     ]
    }
   ],
   "source": [
    "import itertools\n",
    "\n",
    "def A(filterA, filterB):\n",
    "    return lambda item: filterA(item) and filterB(item)\n",
    "\n",
    "def A(*filters):\n",
    "    def result_func(item):\n",
    "        result = True\n",
    "        for f in filters:\n",
    "            if not (f(item)):\n",
    "                result = False\n",
    "                break\n",
    "        return result\n",
    "    return result_func\n",
    "\n",
    "def createNestedFilters(data, attributeNameA, attributeNameB):\n",
    "    filtersA = createFilters(attributeNameA, data)\n",
    "    categoryFilters = createFilters(attributeNameB, data)\n",
    "    nestedNames = list(itertools.product(filtersA.items(), categoryFilters.items()))\n",
    "    \n",
    "    result = {}\n",
    "    for nestedName in nestedNames:\n",
    "        filters = []\n",
    "        names = []\n",
    "        for name, function in nestedName:\n",
    "            names.append(name)\n",
    "            filters.append(function)\n",
    "        level = result\n",
    "        for name in names[:-1]:\n",
    "            sublevel = level.get(name, None)\n",
    "            if sublevel is None:\n",
    "                sublevel = {}\n",
    "                level[name] = sublevel\n",
    "            level = sublevel\n",
    "                \n",
    "        masterfilter = A(*filters)\n",
    "        name = names[-1]\n",
    "        level[name] = masterfilter\n",
    "    return result\n",
    "\n",
    "nestedFilters = createNestedFilters(data, \"Age_Group\", \"Product_Category\")\n",
    "print(nestedFilters)"
   ]
  },
  {
   "cell_type": "code",
   "execution_count": 118,
   "id": "029e9886-2012-476c-9562-698db40135e6",
   "metadata": {},
   "outputs": [
    {
     "name": "stdout",
     "output_type": "stream",
     "text": [
      "Youth (<25)\tAccessories \t 1255267\n",
      "Youth (<25)\tClothing \t 410079\n",
      "Youth (<25)\tBikes \t 2709246\n",
      "Adults (35-64)\tAccessories \t 4611837\n",
      "Adults (35-64)\tClothing \t 1527164\n",
      "Adults (35-64)\tBikes \t 10182581\n",
      "Young Adults (25-34)\tAccessories \t 2921240\n",
      "Young Adults (25-34)\tClothing \t 884614\n",
      "Young Adults (25-34)\tBikes \t 7580907\n",
      "Seniors (64+)\tAccessories \t 74033\n",
      "Seniors (64+)\tClothing \t 17590\n",
      "Seniors (64+)\tBikes \t 46542\n"
     ]
    }
   ],
   "source": [
    "def applyNestedFilters(filters, data):\n",
    "    def inner(prefixes, filters, data):\n",
    "        for key, f in filters.items():\n",
    "            if isinstance(f, dict):\n",
    "                for item in inner([*prefixes, key], f, data):\n",
    "                    yield item\n",
    "            else:\n",
    "                yield [*prefixes, key], filter(f, data)\n",
    "    return inner([], filters, data)\n",
    "                \n",
    "nestedFilters = createNestedFilters(data, \"Age_Group\", \"Product_Category\")\n",
    "groupedData = list(applyNestedFilters(nestedFilters, data))\n",
    "for prefixes, dataset in groupedData :\n",
    "    #print(''.join(prefixes), sum(dataset))\n",
    "    #print(prefixes, dataset)\n",
    "    total = sum(map(lambda item: item[\"Profit\"], dataset))\n",
    "    print('\\t'.join(prefixes), '\\t', total)\n"
   ]
  },
  {
   "cell_type": "markdown",
   "id": "76d90f00-42e3-4201-8aed-ed3772d016f8",
   "metadata": {},
   "source": [
    "Předchozí výstup je kontingenční tabulkou. Kontingenční tabulky je možno uspořádávat různě a také je možné mít v kontingenční tabulce více atributů (zde jsou dva)."
   ]
  },
  {
   "cell_type": "code",
   "execution_count": 119,
   "id": "890f0508-81eb-495f-81b1-604ec799fa7c",
   "metadata": {},
   "outputs": [
    {
     "name": "stdout",
     "output_type": "stream",
     "text": [
      "[('Youth (<25)', 'Accessories'), ('Youth (<25)', 'Clothing'), ('Youth (<25)', 'Bikes'), ('Adults (35-64)', 'Accessories'), ('Adults (35-64)', 'Clothing'), ('Adults (35-64)', 'Bikes'), ('Young Adults (25-34)', 'Accessories'), ('Young Adults (25-34)', 'Clothing'), ('Young Adults (25-34)', 'Bikes'), ('Seniors (64+)', 'Accessories'), ('Seniors (64+)', 'Clothing'), ('Seniors (64+)', 'Bikes')]\n"
     ]
    }
   ],
   "source": [
    "import itertools\n",
    "\n",
    "ageFilters = createFilters(\"Age_Group\", data)\n",
    "categoryFilters = createFilters(\"Product_Category\", data)\n",
    "\n",
    "nestedNames = list(itertools.product(ageFilters.keys(), categoryFilters.keys()))\n",
    "print(nestedNames)"
   ]
  },
  {
   "cell_type": "markdown",
   "id": "d020f2b5-7bc6-4f5d-9f99-5cec2567841b",
   "metadata": {},
   "source": [
    "### Pandas"
   ]
  },
  {
   "cell_type": "code",
   "execution_count": 7,
   "id": "7619b327-d17c-4bc0-9c71-d9c411421b81",
   "metadata": {},
   "outputs": [
    {
     "data": {
      "text/html": [
       "<div>\n",
       "<style scoped>\n",
       "    .dataframe tbody tr th:only-of-type {\n",
       "        vertical-align: middle;\n",
       "    }\n",
       "\n",
       "    .dataframe tbody tr th {\n",
       "        vertical-align: top;\n",
       "    }\n",
       "\n",
       "    .dataframe thead th {\n",
       "        text-align: right;\n",
       "    }\n",
       "</style>\n",
       "<table border=\"1\" class=\"dataframe\">\n",
       "  <thead>\n",
       "    <tr style=\"text-align: right;\">\n",
       "      <th></th>\n",
       "      <th>index</th>\n",
       "      <th>Date</th>\n",
       "      <th>Day</th>\n",
       "      <th>Month</th>\n",
       "      <th>Year</th>\n",
       "      <th>Customer_Age</th>\n",
       "      <th>Age_Group</th>\n",
       "      <th>Customer_Gender</th>\n",
       "      <th>Country</th>\n",
       "      <th>State</th>\n",
       "      <th>Product_Category</th>\n",
       "      <th>Sub_Category</th>\n",
       "      <th>Product</th>\n",
       "      <th>Order_Quantity</th>\n",
       "      <th>Unit_Cost</th>\n",
       "      <th>Unit_Price</th>\n",
       "      <th>Profit</th>\n",
       "      <th>Cost</th>\n",
       "      <th>Revenue</th>\n",
       "    </tr>\n",
       "  </thead>\n",
       "  <tbody>\n",
       "    <tr>\n",
       "      <th>0</th>\n",
       "      <td>0</td>\n",
       "      <td>2013-11-26T00:00:00.000</td>\n",
       "      <td>26</td>\n",
       "      <td>November</td>\n",
       "      <td>2013</td>\n",
       "      <td>19</td>\n",
       "      <td>Youth (&lt;25)</td>\n",
       "      <td>M</td>\n",
       "      <td>Canada</td>\n",
       "      <td>British Columbia</td>\n",
       "      <td>Accessories</td>\n",
       "      <td>Bike Racks</td>\n",
       "      <td>Hitch Rack - 4-Bike</td>\n",
       "      <td>8</td>\n",
       "      <td>45</td>\n",
       "      <td>120</td>\n",
       "      <td>590</td>\n",
       "      <td>360</td>\n",
       "      <td>950</td>\n",
       "    </tr>\n",
       "    <tr>\n",
       "      <th>1</th>\n",
       "      <td>1</td>\n",
       "      <td>2015-11-26T00:00:00.000</td>\n",
       "      <td>26</td>\n",
       "      <td>November</td>\n",
       "      <td>2015</td>\n",
       "      <td>19</td>\n",
       "      <td>Youth (&lt;25)</td>\n",
       "      <td>M</td>\n",
       "      <td>Canada</td>\n",
       "      <td>British Columbia</td>\n",
       "      <td>Accessories</td>\n",
       "      <td>Bike Racks</td>\n",
       "      <td>Hitch Rack - 4-Bike</td>\n",
       "      <td>8</td>\n",
       "      <td>45</td>\n",
       "      <td>120</td>\n",
       "      <td>590</td>\n",
       "      <td>360</td>\n",
       "      <td>950</td>\n",
       "    </tr>\n",
       "    <tr>\n",
       "      <th>2</th>\n",
       "      <td>2</td>\n",
       "      <td>2014-03-23T00:00:00.000</td>\n",
       "      <td>23</td>\n",
       "      <td>March</td>\n",
       "      <td>2014</td>\n",
       "      <td>49</td>\n",
       "      <td>Adults (35-64)</td>\n",
       "      <td>M</td>\n",
       "      <td>Australia</td>\n",
       "      <td>New South Wales</td>\n",
       "      <td>Accessories</td>\n",
       "      <td>Bike Racks</td>\n",
       "      <td>Hitch Rack - 4-Bike</td>\n",
       "      <td>23</td>\n",
       "      <td>45</td>\n",
       "      <td>120</td>\n",
       "      <td>1366</td>\n",
       "      <td>1035</td>\n",
       "      <td>2401</td>\n",
       "    </tr>\n",
       "    <tr>\n",
       "      <th>3</th>\n",
       "      <td>3</td>\n",
       "      <td>2016-03-23T00:00:00.000</td>\n",
       "      <td>23</td>\n",
       "      <td>March</td>\n",
       "      <td>2016</td>\n",
       "      <td>49</td>\n",
       "      <td>Adults (35-64)</td>\n",
       "      <td>M</td>\n",
       "      <td>Australia</td>\n",
       "      <td>New South Wales</td>\n",
       "      <td>Accessories</td>\n",
       "      <td>Bike Racks</td>\n",
       "      <td>Hitch Rack - 4-Bike</td>\n",
       "      <td>20</td>\n",
       "      <td>45</td>\n",
       "      <td>120</td>\n",
       "      <td>1188</td>\n",
       "      <td>900</td>\n",
       "      <td>2088</td>\n",
       "    </tr>\n",
       "    <tr>\n",
       "      <th>4</th>\n",
       "      <td>4</td>\n",
       "      <td>2014-05-15T00:00:00.000</td>\n",
       "      <td>15</td>\n",
       "      <td>May</td>\n",
       "      <td>2014</td>\n",
       "      <td>47</td>\n",
       "      <td>Adults (35-64)</td>\n",
       "      <td>F</td>\n",
       "      <td>Australia</td>\n",
       "      <td>New South Wales</td>\n",
       "      <td>Accessories</td>\n",
       "      <td>Bike Racks</td>\n",
       "      <td>Hitch Rack - 4-Bike</td>\n",
       "      <td>4</td>\n",
       "      <td>45</td>\n",
       "      <td>120</td>\n",
       "      <td>238</td>\n",
       "      <td>180</td>\n",
       "      <td>418</td>\n",
       "    </tr>\n",
       "    <tr>\n",
       "      <th>...</th>\n",
       "      <td>...</td>\n",
       "      <td>...</td>\n",
       "      <td>...</td>\n",
       "      <td>...</td>\n",
       "      <td>...</td>\n",
       "      <td>...</td>\n",
       "      <td>...</td>\n",
       "      <td>...</td>\n",
       "      <td>...</td>\n",
       "      <td>...</td>\n",
       "      <td>...</td>\n",
       "      <td>...</td>\n",
       "      <td>...</td>\n",
       "      <td>...</td>\n",
       "      <td>...</td>\n",
       "      <td>...</td>\n",
       "      <td>...</td>\n",
       "      <td>...</td>\n",
       "      <td>...</td>\n",
       "    </tr>\n",
       "    <tr>\n",
       "      <th>113031</th>\n",
       "      <td>113031</td>\n",
       "      <td>2016-04-12T00:00:00.000</td>\n",
       "      <td>12</td>\n",
       "      <td>April</td>\n",
       "      <td>2016</td>\n",
       "      <td>41</td>\n",
       "      <td>Adults (35-64)</td>\n",
       "      <td>M</td>\n",
       "      <td>United Kingdom</td>\n",
       "      <td>England</td>\n",
       "      <td>Clothing</td>\n",
       "      <td>Vests</td>\n",
       "      <td>Classic Vest, S</td>\n",
       "      <td>3</td>\n",
       "      <td>24</td>\n",
       "      <td>64</td>\n",
       "      <td>112</td>\n",
       "      <td>72</td>\n",
       "      <td>184</td>\n",
       "    </tr>\n",
       "    <tr>\n",
       "      <th>113032</th>\n",
       "      <td>113032</td>\n",
       "      <td>2014-04-02T00:00:00.000</td>\n",
       "      <td>2</td>\n",
       "      <td>April</td>\n",
       "      <td>2014</td>\n",
       "      <td>18</td>\n",
       "      <td>Youth (&lt;25)</td>\n",
       "      <td>M</td>\n",
       "      <td>Australia</td>\n",
       "      <td>Queensland</td>\n",
       "      <td>Clothing</td>\n",
       "      <td>Vests</td>\n",
       "      <td>Classic Vest, M</td>\n",
       "      <td>22</td>\n",
       "      <td>24</td>\n",
       "      <td>64</td>\n",
       "      <td>655</td>\n",
       "      <td>528</td>\n",
       "      <td>1183</td>\n",
       "    </tr>\n",
       "    <tr>\n",
       "      <th>113033</th>\n",
       "      <td>113033</td>\n",
       "      <td>2016-04-02T00:00:00.000</td>\n",
       "      <td>2</td>\n",
       "      <td>April</td>\n",
       "      <td>2016</td>\n",
       "      <td>18</td>\n",
       "      <td>Youth (&lt;25)</td>\n",
       "      <td>M</td>\n",
       "      <td>Australia</td>\n",
       "      <td>Queensland</td>\n",
       "      <td>Clothing</td>\n",
       "      <td>Vests</td>\n",
       "      <td>Classic Vest, M</td>\n",
       "      <td>22</td>\n",
       "      <td>24</td>\n",
       "      <td>64</td>\n",
       "      <td>655</td>\n",
       "      <td>528</td>\n",
       "      <td>1183</td>\n",
       "    </tr>\n",
       "    <tr>\n",
       "      <th>113034</th>\n",
       "      <td>113034</td>\n",
       "      <td>2014-03-04T00:00:00.000</td>\n",
       "      <td>4</td>\n",
       "      <td>March</td>\n",
       "      <td>2014</td>\n",
       "      <td>37</td>\n",
       "      <td>Adults (35-64)</td>\n",
       "      <td>F</td>\n",
       "      <td>France</td>\n",
       "      <td>Seine (Paris)</td>\n",
       "      <td>Clothing</td>\n",
       "      <td>Vests</td>\n",
       "      <td>Classic Vest, L</td>\n",
       "      <td>24</td>\n",
       "      <td>24</td>\n",
       "      <td>64</td>\n",
       "      <td>684</td>\n",
       "      <td>576</td>\n",
       "      <td>1260</td>\n",
       "    </tr>\n",
       "    <tr>\n",
       "      <th>113035</th>\n",
       "      <td>113035</td>\n",
       "      <td>2016-03-04T00:00:00.000</td>\n",
       "      <td>4</td>\n",
       "      <td>March</td>\n",
       "      <td>2016</td>\n",
       "      <td>37</td>\n",
       "      <td>Adults (35-64)</td>\n",
       "      <td>F</td>\n",
       "      <td>France</td>\n",
       "      <td>Seine (Paris)</td>\n",
       "      <td>Clothing</td>\n",
       "      <td>Vests</td>\n",
       "      <td>Classic Vest, L</td>\n",
       "      <td>23</td>\n",
       "      <td>24</td>\n",
       "      <td>64</td>\n",
       "      <td>655</td>\n",
       "      <td>552</td>\n",
       "      <td>1207</td>\n",
       "    </tr>\n",
       "  </tbody>\n",
       "</table>\n",
       "<p>113036 rows × 19 columns</p>\n",
       "</div>"
      ],
      "text/plain": [
       "         index                     Date  Day     Month  Year  Customer_Age  \\\n",
       "0            0  2013-11-26T00:00:00.000   26  November  2013            19   \n",
       "1            1  2015-11-26T00:00:00.000   26  November  2015            19   \n",
       "2            2  2014-03-23T00:00:00.000   23     March  2014            49   \n",
       "3            3  2016-03-23T00:00:00.000   23     March  2016            49   \n",
       "4            4  2014-05-15T00:00:00.000   15       May  2014            47   \n",
       "...        ...                      ...  ...       ...   ...           ...   \n",
       "113031  113031  2016-04-12T00:00:00.000   12     April  2016            41   \n",
       "113032  113032  2014-04-02T00:00:00.000    2     April  2014            18   \n",
       "113033  113033  2016-04-02T00:00:00.000    2     April  2016            18   \n",
       "113034  113034  2014-03-04T00:00:00.000    4     March  2014            37   \n",
       "113035  113035  2016-03-04T00:00:00.000    4     March  2016            37   \n",
       "\n",
       "             Age_Group Customer_Gender         Country             State  \\\n",
       "0          Youth (<25)               M          Canada  British Columbia   \n",
       "1          Youth (<25)               M          Canada  British Columbia   \n",
       "2       Adults (35-64)               M       Australia   New South Wales   \n",
       "3       Adults (35-64)               M       Australia   New South Wales   \n",
       "4       Adults (35-64)               F       Australia   New South Wales   \n",
       "...                ...             ...             ...               ...   \n",
       "113031  Adults (35-64)               M  United Kingdom           England   \n",
       "113032     Youth (<25)               M       Australia        Queensland   \n",
       "113033     Youth (<25)               M       Australia        Queensland   \n",
       "113034  Adults (35-64)               F          France     Seine (Paris)   \n",
       "113035  Adults (35-64)               F          France     Seine (Paris)   \n",
       "\n",
       "       Product_Category Sub_Category              Product  Order_Quantity  \\\n",
       "0           Accessories   Bike Racks  Hitch Rack - 4-Bike               8   \n",
       "1           Accessories   Bike Racks  Hitch Rack - 4-Bike               8   \n",
       "2           Accessories   Bike Racks  Hitch Rack - 4-Bike              23   \n",
       "3           Accessories   Bike Racks  Hitch Rack - 4-Bike              20   \n",
       "4           Accessories   Bike Racks  Hitch Rack - 4-Bike               4   \n",
       "...                 ...          ...                  ...             ...   \n",
       "113031         Clothing        Vests      Classic Vest, S               3   \n",
       "113032         Clothing        Vests      Classic Vest, M              22   \n",
       "113033         Clothing        Vests      Classic Vest, M              22   \n",
       "113034         Clothing        Vests      Classic Vest, L              24   \n",
       "113035         Clothing        Vests      Classic Vest, L              23   \n",
       "\n",
       "        Unit_Cost  Unit_Price  Profit  Cost  Revenue  \n",
       "0              45         120     590   360      950  \n",
       "1              45         120     590   360      950  \n",
       "2              45         120    1366  1035     2401  \n",
       "3              45         120    1188   900     2088  \n",
       "4              45         120     238   180      418  \n",
       "...           ...         ...     ...   ...      ...  \n",
       "113031         24          64     112    72      184  \n",
       "113032         24          64     655   528     1183  \n",
       "113033         24          64     655   528     1183  \n",
       "113034         24          64     684   576     1260  \n",
       "113035         24          64     655   552     1207  \n",
       "\n",
       "[113036 rows x 19 columns]"
      ]
     },
     "execution_count": 7,
     "metadata": {},
     "output_type": "execute_result"
    }
   ],
   "source": [
    "import pandas as pd\n",
    "\n",
    "dfData = pd.DataFrame(data)\n",
    "dfData"
   ]
  },
  {
   "cell_type": "code",
   "execution_count": 15,
   "id": "54169c81-dd5e-4b69-8420-a1e78ea555aa",
   "metadata": {},
   "outputs": [
    {
     "data": {
      "text/html": [
       "<div>\n",
       "<style scoped>\n",
       "    .dataframe tbody tr th:only-of-type {\n",
       "        vertical-align: middle;\n",
       "    }\n",
       "\n",
       "    .dataframe tbody tr th {\n",
       "        vertical-align: top;\n",
       "    }\n",
       "\n",
       "    .dataframe thead th {\n",
       "        text-align: right;\n",
       "    }\n",
       "</style>\n",
       "<table border=\"1\" class=\"dataframe\">\n",
       "  <thead>\n",
       "    <tr style=\"text-align: right;\">\n",
       "      <th>Product_Category</th>\n",
       "      <th>Accessories</th>\n",
       "      <th>Bikes</th>\n",
       "      <th>Clothing</th>\n",
       "    </tr>\n",
       "    <tr>\n",
       "      <th>Age_Group</th>\n",
       "      <th></th>\n",
       "      <th></th>\n",
       "      <th></th>\n",
       "    </tr>\n",
       "  </thead>\n",
       "  <tbody>\n",
       "    <tr>\n",
       "      <th>Adults (35-64)</th>\n",
       "      <td>4611837</td>\n",
       "      <td>10182581</td>\n",
       "      <td>1527164</td>\n",
       "    </tr>\n",
       "    <tr>\n",
       "      <th>Seniors (64+)</th>\n",
       "      <td>74033</td>\n",
       "      <td>46542</td>\n",
       "      <td>17590</td>\n",
       "    </tr>\n",
       "    <tr>\n",
       "      <th>Young Adults (25-34)</th>\n",
       "      <td>2921240</td>\n",
       "      <td>7580907</td>\n",
       "      <td>884614</td>\n",
       "    </tr>\n",
       "    <tr>\n",
       "      <th>Youth (&lt;25)</th>\n",
       "      <td>1255267</td>\n",
       "      <td>2709246</td>\n",
       "      <td>410079</td>\n",
       "    </tr>\n",
       "  </tbody>\n",
       "</table>\n",
       "</div>"
      ],
      "text/plain": [
       "Product_Category      Accessories     Bikes  Clothing\n",
       "Age_Group                                            \n",
       "Adults (35-64)            4611837  10182581   1527164\n",
       "Seniors (64+)               74033     46542     17590\n",
       "Young Adults (25-34)      2921240   7580907    884614\n",
       "Youth (<25)               1255267   2709246    410079"
      ]
     },
     "execution_count": 15,
     "metadata": {},
     "output_type": "execute_result"
    }
   ],
   "source": [
    "pd.pivot_table(dfData, index=\"Age_Group\", columns=[\"Product_Category\"], values=\"Profit\", aggfunc=sum) #1255267"
   ]
  },
  {
   "cell_type": "code",
   "execution_count": 16,
   "id": "9bb3a85d-272a-4833-8f4d-2a29b97ee025",
   "metadata": {},
   "outputs": [
    {
     "data": {
      "text/html": [
       "<div>\n",
       "<style scoped>\n",
       "    .dataframe tbody tr th:only-of-type {\n",
       "        vertical-align: middle;\n",
       "    }\n",
       "\n",
       "    .dataframe tbody tr th {\n",
       "        vertical-align: top;\n",
       "    }\n",
       "\n",
       "    .dataframe thead tr th {\n",
       "        text-align: left;\n",
       "    }\n",
       "</style>\n",
       "<table border=\"1\" class=\"dataframe\">\n",
       "  <thead>\n",
       "    <tr>\n",
       "      <th>Age_Group</th>\n",
       "      <th colspan=\"3\" halign=\"left\">Adults (35-64)</th>\n",
       "      <th colspan=\"3\" halign=\"left\">Seniors (64+)</th>\n",
       "      <th colspan=\"3\" halign=\"left\">Young Adults (25-34)</th>\n",
       "      <th colspan=\"3\" halign=\"left\">Youth (&lt;25)</th>\n",
       "    </tr>\n",
       "    <tr>\n",
       "      <th>Product_Category</th>\n",
       "      <th>Accessories</th>\n",
       "      <th>Bikes</th>\n",
       "      <th>Clothing</th>\n",
       "      <th>Accessories</th>\n",
       "      <th>Bikes</th>\n",
       "      <th>Clothing</th>\n",
       "      <th>Accessories</th>\n",
       "      <th>Bikes</th>\n",
       "      <th>Clothing</th>\n",
       "      <th>Accessories</th>\n",
       "      <th>Bikes</th>\n",
       "      <th>Clothing</th>\n",
       "    </tr>\n",
       "  </thead>\n",
       "  <tbody>\n",
       "    <tr>\n",
       "      <th>Profit</th>\n",
       "      <td>4611837</td>\n",
       "      <td>10182581</td>\n",
       "      <td>1527164</td>\n",
       "      <td>74033</td>\n",
       "      <td>46542</td>\n",
       "      <td>17590</td>\n",
       "      <td>2921240</td>\n",
       "      <td>7580907</td>\n",
       "      <td>884614</td>\n",
       "      <td>1255267</td>\n",
       "      <td>2709246</td>\n",
       "      <td>410079</td>\n",
       "    </tr>\n",
       "  </tbody>\n",
       "</table>\n",
       "</div>"
      ],
      "text/plain": [
       "Age_Group        Adults (35-64)                    Seniors (64+)         \\\n",
       "Product_Category    Accessories     Bikes Clothing   Accessories  Bikes   \n",
       "Profit                  4611837  10182581  1527164         74033  46542   \n",
       "\n",
       "Age_Group                 Young Adults (25-34)                   Youth (<25)  \\\n",
       "Product_Category Clothing          Accessories    Bikes Clothing Accessories   \n",
       "Profit              17590              2921240  7580907   884614     1255267   \n",
       "\n",
       "Age_Group                           \n",
       "Product_Category    Bikes Clothing  \n",
       "Profit            2709246   410079  "
      ]
     },
     "execution_count": 16,
     "metadata": {},
     "output_type": "execute_result"
    }
   ],
   "source": [
    "pd.pivot_table(dfData, columns=[\"Age_Group\", \"Product_Category\"], values=\"Profit\", aggfunc=sum)"
   ]
  },
  {
   "cell_type": "markdown",
   "id": "b7bc334b-70e1-4691-a1e3-1468b8f42292",
   "metadata": {},
   "source": [
    "## \"Dlouhá data\""
   ]
  },
  {
   "cell_type": "markdown",
   "id": "2e15fb61-572b-4815-bf8f-0177d0c78868",
   "metadata": {},
   "source": [
    "https://towardsdatascience.com/reshape-pandas-dataframe-with-melt-in-python-tutorial-and-visualization-29ec1450bb02"
   ]
  },
  {
   "cell_type": "code",
   "execution_count": 120,
   "id": "5bb6431c-71da-45d0-80d7-4ba9a6f9816c",
   "metadata": {},
   "outputs": [],
   "source": [
    "data = [\n",
    "    {'name': 'Anna', 'subject': 'Informatics', 'semester1': 'A', 'semester2': 'B', 'semester3': 'A'},\n",
    "    {'name': 'Betty', 'subject': 'Informatics', 'semester1': 'C', 'semester2': 'A', 'semester3': 'A'},\n",
    "    {'name': 'Cindy', 'subject': 'Mathematics', 'semester1': 'C', 'semester2': 'D', 'semester3': 'D'},\n",
    "    {'name': 'Dita', 'subject': 'Biology', 'semester1': 'A', 'semester2': 'A', 'semester3': 'C'},\n",
    "]"
   ]
  },
  {
   "cell_type": "code",
   "execution_count": 121,
   "id": "7235492d-a09b-475b-bd4b-8afd69f790c5",
   "metadata": {},
   "outputs": [
    {
     "name": "stdout",
     "output_type": "stream",
     "text": [
      "name           subject        semester1      semester2      semester3      \n",
      "Anna           Informatics    A              B              A              \n",
      "Betty          Informatics    C              A              A              \n",
      "Cindy          Mathematics    C              D              D              \n",
      "Dita           Biology        A              A              C              \n"
     ]
    }
   ],
   "source": [
    "keys = {}\n",
    "for row in data:\n",
    "    for name in row.keys():\n",
    "        keys[name] = True\n",
    "        \n",
    "for key in keys:\n",
    "    print(f\"{key:15}\", end=\"\")\n",
    "print()\n",
    "for row in data:\n",
    "    for key in keys:\n",
    "        value = row.get(key, None)\n",
    "        print(f\"{value:15}\", end=\"\")\n",
    "    print()"
   ]
  },
  {
   "cell_type": "markdown",
   "id": "4e6c8ecc-9fc8-4e62-902c-38bf1f7429de",
   "metadata": {},
   "source": [
    "**Příklad**\n",
    "\n",
    "Předpokládejte, že tabulka výše je kontingenční tabulkou. Vytvořte zdrojová data."
   ]
  },
  {
   "cell_type": "code",
   "execution_count": 122,
   "id": "295fd6e2-75a5-4252-a6c5-e1b40fd62451",
   "metadata": {},
   "outputs": [
    {
     "name": "stdout",
     "output_type": "stream",
     "text": [
      "[{}, {}, {}, {}, {}, {}, {}, {}, {}, {}, {}, {}, {}, {}, {}, {}, {}, {}, {}, {}]\n"
     ]
    }
   ],
   "source": [
    "def ToLongForm(data, indexes=[], varName=\"variable\", valueName=\"value\"):\n",
    "    for item in data:\n",
    "        for key in item.keys():\n",
    "            row = {}\n",
    "            ################\n",
    "            ################\n",
    "            ################\n",
    "            ################\n",
    "            ################\n",
    "            ################\n",
    "            ################\n",
    "            ################\n",
    "            yield row\n",
    "        \n",
    "        \n",
    "longData = list(ToLongForm(data, indexes=['name', 'subject'], varName='semester', valueName='grade'))\n",
    "print(longData)"
   ]
  },
  {
   "cell_type": "markdown",
   "id": "4db37ad1-5ee3-41ca-a1a5-5e028e8059e1",
   "metadata": {},
   "source": [
    "**Řešení**"
   ]
  },
  {
   "cell_type": "code",
   "execution_count": 123,
   "id": "18aafaa5-7622-46b7-8692-5288f0133354",
   "metadata": {
    "jupyter": {
     "source_hidden": true
    },
    "tags": []
   },
   "outputs": [
    {
     "name": "stdout",
     "output_type": "stream",
     "text": [
      "[{'name': 'Anna', 'subject': 'Informatics', 'semester': 'semester1', 'grade': 'A'}, {'name': 'Anna', 'subject': 'Informatics', 'semester': 'semester2', 'grade': 'B'}, {'name': 'Anna', 'subject': 'Informatics', 'semester': 'semester3', 'grade': 'A'}, {'name': 'Betty', 'subject': 'Informatics', 'semester': 'semester1', 'grade': 'C'}, {'name': 'Betty', 'subject': 'Informatics', 'semester': 'semester2', 'grade': 'A'}, {'name': 'Betty', 'subject': 'Informatics', 'semester': 'semester3', 'grade': 'A'}, {'name': 'Cindy', 'subject': 'Mathematics', 'semester': 'semester1', 'grade': 'C'}, {'name': 'Cindy', 'subject': 'Mathematics', 'semester': 'semester2', 'grade': 'D'}, {'name': 'Cindy', 'subject': 'Mathematics', 'semester': 'semester3', 'grade': 'D'}, {'name': 'Dita', 'subject': 'Biology', 'semester': 'semester1', 'grade': 'A'}, {'name': 'Dita', 'subject': 'Biology', 'semester': 'semester2', 'grade': 'A'}, {'name': 'Dita', 'subject': 'Biology', 'semester': 'semester3', 'grade': 'C'}]\n"
     ]
    }
   ],
   "source": [
    "def ToLongForm(data, indexes=[], varName=\"variable\", valueName=\"value\"):\n",
    "    for item in data:\n",
    "        for key in item.keys():\n",
    "            row = {}\n",
    "            for i in indexes:\n",
    "                row[i] = item.get(i, None)\n",
    "                \n",
    "            if key in indexes:\n",
    "                continue\n",
    "            row[varName] = key\n",
    "            row[valueName] = item[key]\n",
    "            yield row\n",
    "        \n",
    "longData = list(ToLongForm(data, indexes=['name', 'subject'], varName='semester', valueName='grade'))\n",
    "print(longData)"
   ]
  },
  {
   "cell_type": "code",
   "execution_count": null,
   "id": "cc60f5ee-3d15-4fd6-be27-d312fa4bca1b",
   "metadata": {},
   "outputs": [],
   "source": []
  },
  {
   "cell_type": "code",
   "execution_count": null,
   "id": "a353a15f-13d1-462c-a4d0-a27c03267084",
   "metadata": {},
   "outputs": [],
   "source": []
  },
  {
   "cell_type": "code",
   "execution_count": null,
   "id": "e9227ec7-97d2-484d-956e-eb500dd45ad9",
   "metadata": {},
   "outputs": [],
   "source": []
  }
 ],
 "metadata": {
  "kernelspec": {
   "display_name": "Python 3 (ipykernel)",
   "language": "python",
   "name": "python3"
  },
  "language_info": {
   "codemirror_mode": {
    "name": "ipython",
    "version": 3
   },
   "file_extension": ".py",
   "mimetype": "text/x-python",
   "name": "python",
   "nbconvert_exporter": "python",
   "pygments_lexer": "ipython3",
   "version": "3.10.6"
  },
  "toc-autonumbering": true
 },
 "nbformat": 4,
 "nbformat_minor": 5
}
