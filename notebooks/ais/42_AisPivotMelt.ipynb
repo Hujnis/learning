{
 "cells": [
  {
   "cell_type": "markdown",
   "id": "f79fad3f-1f05-40b5-9620-f3b1133417f9",
   "metadata": {},
   "source": [
    "# Pivot & Melt"
   ]
  },
  {
   "cell_type": "markdown",
   "id": "30e81428-1811-45a4-90a7-3ab17acc708d",
   "metadata": {},
   "source": [
    "## Kontingenční tabulka"
   ]
  },
  {
   "cell_type": "markdown",
   "id": "366d99d5-107b-4603-b197-de89c57020f0",
   "metadata": {},
   "source": [
    "Pivot table = kontingenční tabulka. \n",
    "Vytváření kontingenčních tabulek je proces ve kterém homogenní data agregujeme a jednotlivé \"osy\" agregace, \n",
    "resp. hodnoty v \"osách\" jsou určujícími pro řádky či sloupce."
   ]
  },
  {
   "cell_type": "code",
   "execution_count": 96,
   "id": "6a45cdab-52a1-40aa-917c-51383c5f56be",
   "metadata": {},
   "outputs": [],
   "source": [
    "import numpy as np\n",
    "import pandas as pd\n",
    "import matplotlib.pyplot as plt\n",
    "\n",
    "%matplotlib inline"
   ]
  },
  {
   "cell_type": "code",
   "execution_count": 97,
   "id": "bd4beacb-312b-42c1-b9ef-c325e27005f8",
   "metadata": {},
   "outputs": [],
   "source": [
    "sales = pd.read_csv(\n",
    "    'sales_data.csv',\n",
    "    parse_dates=['Date'])"
   ]
  },
  {
   "cell_type": "code",
   "execution_count": 98,
   "id": "afb09aac-df3a-4604-8854-49b7f0dcfd6c",
   "metadata": {},
   "outputs": [
    {
     "data": {
      "text/html": [
       "<div>\n",
       "<style scoped>\n",
       "    .dataframe tbody tr th:only-of-type {\n",
       "        vertical-align: middle;\n",
       "    }\n",
       "\n",
       "    .dataframe tbody tr th {\n",
       "        vertical-align: top;\n",
       "    }\n",
       "\n",
       "    .dataframe thead th {\n",
       "        text-align: right;\n",
       "    }\n",
       "</style>\n",
       "<table border=\"1\" class=\"dataframe\">\n",
       "  <thead>\n",
       "    <tr style=\"text-align: right;\">\n",
       "      <th></th>\n",
       "      <th>Date</th>\n",
       "      <th>Day</th>\n",
       "      <th>Month</th>\n",
       "      <th>Year</th>\n",
       "      <th>Customer_Age</th>\n",
       "      <th>Age_Group</th>\n",
       "      <th>Customer_Gender</th>\n",
       "      <th>Country</th>\n",
       "      <th>State</th>\n",
       "      <th>Product_Category</th>\n",
       "      <th>Sub_Category</th>\n",
       "      <th>Product</th>\n",
       "      <th>Order_Quantity</th>\n",
       "      <th>Unit_Cost</th>\n",
       "      <th>Unit_Price</th>\n",
       "      <th>Profit</th>\n",
       "      <th>Cost</th>\n",
       "      <th>Revenue</th>\n",
       "    </tr>\n",
       "  </thead>\n",
       "  <tbody>\n",
       "    <tr>\n",
       "      <th>0</th>\n",
       "      <td>2013-11-26</td>\n",
       "      <td>26</td>\n",
       "      <td>November</td>\n",
       "      <td>2013</td>\n",
       "      <td>19</td>\n",
       "      <td>Youth (&lt;25)</td>\n",
       "      <td>M</td>\n",
       "      <td>Canada</td>\n",
       "      <td>British Columbia</td>\n",
       "      <td>Accessories</td>\n",
       "      <td>Bike Racks</td>\n",
       "      <td>Hitch Rack - 4-Bike</td>\n",
       "      <td>8</td>\n",
       "      <td>45</td>\n",
       "      <td>120</td>\n",
       "      <td>590</td>\n",
       "      <td>360</td>\n",
       "      <td>950</td>\n",
       "    </tr>\n",
       "    <tr>\n",
       "      <th>1</th>\n",
       "      <td>2015-11-26</td>\n",
       "      <td>26</td>\n",
       "      <td>November</td>\n",
       "      <td>2015</td>\n",
       "      <td>19</td>\n",
       "      <td>Youth (&lt;25)</td>\n",
       "      <td>M</td>\n",
       "      <td>Canada</td>\n",
       "      <td>British Columbia</td>\n",
       "      <td>Accessories</td>\n",
       "      <td>Bike Racks</td>\n",
       "      <td>Hitch Rack - 4-Bike</td>\n",
       "      <td>8</td>\n",
       "      <td>45</td>\n",
       "      <td>120</td>\n",
       "      <td>590</td>\n",
       "      <td>360</td>\n",
       "      <td>950</td>\n",
       "    </tr>\n",
       "    <tr>\n",
       "      <th>2</th>\n",
       "      <td>2014-03-23</td>\n",
       "      <td>23</td>\n",
       "      <td>March</td>\n",
       "      <td>2014</td>\n",
       "      <td>49</td>\n",
       "      <td>Adults (35-64)</td>\n",
       "      <td>M</td>\n",
       "      <td>Australia</td>\n",
       "      <td>New South Wales</td>\n",
       "      <td>Accessories</td>\n",
       "      <td>Bike Racks</td>\n",
       "      <td>Hitch Rack - 4-Bike</td>\n",
       "      <td>23</td>\n",
       "      <td>45</td>\n",
       "      <td>120</td>\n",
       "      <td>1366</td>\n",
       "      <td>1035</td>\n",
       "      <td>2401</td>\n",
       "    </tr>\n",
       "    <tr>\n",
       "      <th>3</th>\n",
       "      <td>2016-03-23</td>\n",
       "      <td>23</td>\n",
       "      <td>March</td>\n",
       "      <td>2016</td>\n",
       "      <td>49</td>\n",
       "      <td>Adults (35-64)</td>\n",
       "      <td>M</td>\n",
       "      <td>Australia</td>\n",
       "      <td>New South Wales</td>\n",
       "      <td>Accessories</td>\n",
       "      <td>Bike Racks</td>\n",
       "      <td>Hitch Rack - 4-Bike</td>\n",
       "      <td>20</td>\n",
       "      <td>45</td>\n",
       "      <td>120</td>\n",
       "      <td>1188</td>\n",
       "      <td>900</td>\n",
       "      <td>2088</td>\n",
       "    </tr>\n",
       "    <tr>\n",
       "      <th>4</th>\n",
       "      <td>2014-05-15</td>\n",
       "      <td>15</td>\n",
       "      <td>May</td>\n",
       "      <td>2014</td>\n",
       "      <td>47</td>\n",
       "      <td>Adults (35-64)</td>\n",
       "      <td>F</td>\n",
       "      <td>Australia</td>\n",
       "      <td>New South Wales</td>\n",
       "      <td>Accessories</td>\n",
       "      <td>Bike Racks</td>\n",
       "      <td>Hitch Rack - 4-Bike</td>\n",
       "      <td>4</td>\n",
       "      <td>45</td>\n",
       "      <td>120</td>\n",
       "      <td>238</td>\n",
       "      <td>180</td>\n",
       "      <td>418</td>\n",
       "    </tr>\n",
       "  </tbody>\n",
       "</table>\n",
       "</div>"
      ],
      "text/plain": [
       "        Date  Day     Month  Year  Customer_Age       Age_Group  \\\n",
       "0 2013-11-26   26  November  2013            19     Youth (<25)   \n",
       "1 2015-11-26   26  November  2015            19     Youth (<25)   \n",
       "2 2014-03-23   23     March  2014            49  Adults (35-64)   \n",
       "3 2016-03-23   23     March  2016            49  Adults (35-64)   \n",
       "4 2014-05-15   15       May  2014            47  Adults (35-64)   \n",
       "\n",
       "  Customer_Gender    Country             State Product_Category Sub_Category  \\\n",
       "0               M     Canada  British Columbia      Accessories   Bike Racks   \n",
       "1               M     Canada  British Columbia      Accessories   Bike Racks   \n",
       "2               M  Australia   New South Wales      Accessories   Bike Racks   \n",
       "3               M  Australia   New South Wales      Accessories   Bike Racks   \n",
       "4               F  Australia   New South Wales      Accessories   Bike Racks   \n",
       "\n",
       "               Product  Order_Quantity  Unit_Cost  Unit_Price  Profit  Cost  \\\n",
       "0  Hitch Rack - 4-Bike               8         45         120     590   360   \n",
       "1  Hitch Rack - 4-Bike               8         45         120     590   360   \n",
       "2  Hitch Rack - 4-Bike              23         45         120    1366  1035   \n",
       "3  Hitch Rack - 4-Bike              20         45         120    1188   900   \n",
       "4  Hitch Rack - 4-Bike               4         45         120     238   180   \n",
       "\n",
       "   Revenue  \n",
       "0      950  \n",
       "1      950  \n",
       "2     2401  \n",
       "3     2088  \n",
       "4      418  "
      ]
     },
     "execution_count": 98,
     "metadata": {},
     "output_type": "execute_result"
    }
   ],
   "source": [
    "sales.head()"
   ]
  },
  {
   "cell_type": "code",
   "execution_count": 99,
   "id": "7fbfa003-51ad-4ecb-8bd9-4100ba2d6540",
   "metadata": {},
   "outputs": [
    {
     "name": "stdout",
     "output_type": "stream",
     "text": [
      "dict_keys(['schema', 'data'])\n",
      "113036\n",
      "{'index': 0, 'Date': '2013-11-26T00:00:00.000', 'Day': 26, 'Month': 'November', 'Year': 2013, 'Customer_Age': 19, 'Age_Group': 'Youth (<25)', 'Customer_Gender': 'M', 'Country': 'Canada', 'State': 'British Columbia', 'Product_Category': 'Accessories', 'Sub_Category': 'Bike Racks', 'Product': 'Hitch Rack - 4-Bike', 'Order_Quantity': 8, 'Unit_Cost': 45, 'Unit_Price': 120, 'Profit': 590, 'Cost': 360, 'Revenue': 950}\n"
     ]
    }
   ],
   "source": [
    "import json\n",
    "data = json.loads(sales.to_json(orient=\"table\"))\n",
    "print(data.keys())\n",
    "data = data[\"data\"]\n",
    "print(len(data))\n",
    "print(data[0])"
   ]
  },
  {
   "cell_type": "markdown",
   "id": "a4af2ec4-ffa6-4707-b287-d6ce6c4fe13a",
   "metadata": {},
   "source": [
    "Výběr hodnot v ose"
   ]
  },
  {
   "cell_type": "markdown",
   "id": "400dd621-93c2-4b5d-a5f9-046d4c72cfee",
   "metadata": {},
   "source": [
    "### Příklad 1"
   ]
  },
  {
   "cell_type": "markdown",
   "id": "a78c65c8-90f0-4939-aacb-ec05dbfbd327",
   "metadata": {},
   "source": [
    "**Příklad**\n",
    "\n",
    "Znáte strukturu jednoho záznamu. Vytvořte kód, který zjistí všechny možné hodnoty v ose \"Product_Category\" (jaké hodnoty tento atribut může nabývat)."
   ]
  },
  {
   "cell_type": "code",
   "execution_count": 100,
   "id": "2429e8f4-8651-485c-874c-70e41dd50139",
   "metadata": {},
   "outputs": [
    {
     "name": "stdout",
     "output_type": "stream",
     "text": [
      "[]\n"
     ]
    }
   ],
   "source": [
    "axis = \"Product_Category\"\n",
    "product_category_values = [] # upravte s cílem splnit zadání\n",
    "print(product_category_values)"
   ]
  },
  {
   "cell_type": "markdown",
   "id": "ec1abb5d-ae8d-419c-b75f-cd738e07661d",
   "metadata": {},
   "source": [
    "**Řešení**"
   ]
  },
  {
   "cell_type": "code",
   "execution_count": 101,
   "id": "d1528030-3f07-4edc-b9c5-381afb341701",
   "metadata": {
    "jupyter": {
     "source_hidden": true
    },
    "tags": []
   },
   "outputs": [
    {
     "name": "stdout",
     "output_type": "stream",
     "text": [
      "{'Accessories', 'Clothing', 'Bikes'}\n"
     ]
    }
   ],
   "source": [
    "axis = \"Product_Category\"\n",
    "product_category_values = set(map(lambda item: item[axis], data))\n",
    "print(product_category_values)"
   ]
  },
  {
   "cell_type": "markdown",
   "id": "87d2ebc5-5d79-4709-a9d4-49ca6907c62f",
   "metadata": {},
   "source": [
    "### Příklad 2"
   ]
  },
  {
   "cell_type": "markdown",
   "id": "bdac8cb3-f9e3-4fcb-9e03-ca151c724c22",
   "metadata": {},
   "source": [
    "**Příklad**\n",
    "\n",
    "Vytvořte funkce vracející \"True\" / \"False\" podle příslušnosti do skupiny v ose \"Product_Category\""
   ]
  },
  {
   "cell_type": "code",
   "execution_count": 102,
   "id": "7a2dfaf0-f59a-4b0e-b316-f92e9b0f1293",
   "metadata": {},
   "outputs": [
    {
     "name": "stdout",
     "output_type": "stream",
     "text": [
      "{}\n"
     ]
    }
   ],
   "source": [
    "product_category_selectors = dict()#zmente / naplnte, pouzijte vice radku\n",
    "\n",
    "print(product_category_selectors)\n",
    "\n",
    "row = data[0]\n",
    "for key, value in product_category_selectors.items():\n",
    "    print(key, value(row))"
   ]
  },
  {
   "cell_type": "markdown",
   "id": "c1e22c5b-aaa9-4ee6-b283-31106e4d3141",
   "metadata": {},
   "source": [
    "**Řešení**"
   ]
  },
  {
   "cell_type": "code",
   "execution_count": 103,
   "id": "7a85ecb2-e9d5-46b9-a0de-3d4961c9236b",
   "metadata": {
    "jupyter": {
     "source_hidden": true
    },
    "tags": []
   },
   "outputs": [
    {
     "name": "stdout",
     "output_type": "stream",
     "text": [
      "{'Accessories': <function createLambda.<locals>.<lambda> at 0x7f6b9abd3250>, 'Clothing': <function createLambda.<locals>.<lambda> at 0x7f6b9a619a20>, 'Bikes': <function createLambda.<locals>.<lambda> at 0x7f6b9a619ab0>}\n",
      "Accessories True\n",
      "Clothing False\n",
      "Bikes False\n"
     ]
    }
   ],
   "source": [
    "def createLambda(value):\n",
    "    return lambda item: item[\"Product_Category\"] == value\n",
    "\n",
    "product_category_selectors = dict((value, createLambda(value)) for value in product_category_values)\n",
    "print(product_category_selectors)\n",
    "\n",
    "row = data[0]\n",
    "for key, value in product_category_selectors.items():\n",
    "    print(key, value(row))"
   ]
  },
  {
   "cell_type": "markdown",
   "id": "f1385125-1c4b-46e8-8011-291214d52113",
   "metadata": {},
   "source": [
    "### Příklad 3"
   ]
  },
  {
   "cell_type": "markdown",
   "id": "9dbcf9e5-1533-4220-afc3-a36d29ae66eb",
   "metadata": {},
   "source": [
    "**Příklad**\n",
    "\n",
    "Vytvořte funkci, jejímž výstupem je sada filtrů podle dikrétních hodnot u daného atributu (sloupce tabulky).\n",
    "Jedná se o zobecnění předchozích úloh."
   ]
  },
  {
   "cell_type": "code",
   "execution_count": 104,
   "id": "9256f49b-7334-4710-a0b4-f75734bccb25",
   "metadata": {},
   "outputs": [
    {
     "name": "stdout",
     "output_type": "stream",
     "text": [
      "{}\n",
      "{}\n"
     ]
    }
   ],
   "source": [
    "def createFilters(attributeName, table):\n",
    "    def createLambda(value):\n",
    "        return lambda item: item[attributeName] == value\n",
    "\n",
    "    result = {}\n",
    "    for row in table:\n",
    "        #\n",
    "        #\n",
    "        #\n",
    "        #\n",
    "        pass\n",
    "    return result\n",
    "\n",
    "ageFilters = createFilters(\"Age_Group\", data)\n",
    "categoryFilters = createFilters(\"Product_Category\", data)\n",
    "print(ageFilters)\n",
    "print(categoryFilters)"
   ]
  },
  {
   "cell_type": "markdown",
   "id": "f81a6886-270f-466e-b431-24388860d6f5",
   "metadata": {},
   "source": [
    "**Řešení**"
   ]
  },
  {
   "cell_type": "code",
   "execution_count": 105,
   "id": "cae06986-d94e-4d3f-a832-0d4a69756067",
   "metadata": {
    "jupyter": {
     "source_hidden": true
    },
    "tags": []
   },
   "outputs": [
    {
     "name": "stdout",
     "output_type": "stream",
     "text": [
      "{'Youth (<25)': <function createFilters.<locals>.createLambda.<locals>.<lambda> at 0x7f6b9a61a170>, 'Adults (35-64)': <function createFilters.<locals>.createLambda.<locals>.<lambda> at 0x7f6b9a61a200>, 'Young Adults (25-34)': <function createFilters.<locals>.createLambda.<locals>.<lambda> at 0x7f6b9a61a290>, 'Seniors (64+)': <function createFilters.<locals>.createLambda.<locals>.<lambda> at 0x7f6b9a61a320>}\n",
      "{'Accessories': <function createFilters.<locals>.createLambda.<locals>.<lambda> at 0x7f6b9a61a440>, 'Clothing': <function createFilters.<locals>.createLambda.<locals>.<lambda> at 0x7f6b9a61a4d0>, 'Bikes': <function createFilters.<locals>.createLambda.<locals>.<lambda> at 0x7f6b9a61a560>}\n"
     ]
    }
   ],
   "source": [
    "def createFilters(attributeName, table):\n",
    "    def createLambda(value):\n",
    "        return lambda item: item[attributeName] == value\n",
    "\n",
    "    result = {}\n",
    "    for row in table:\n",
    "        value = row[attributeName]\n",
    "        if result.get(value, None) is None:\n",
    "            result[value] = createLambda(value)\n",
    "    return result\n",
    "\n",
    "ageFilters = createFilters(\"Age_Group\", data)\n",
    "categoryFilters = createFilters(\"Product_Category\", data)\n",
    "print(ageFilters)\n",
    "print(categoryFilters)"
   ]
  },
  {
   "cell_type": "markdown",
   "id": "dc407972-6751-4519-a731-e5fee745438c",
   "metadata": {},
   "source": [
    "### Příklad 4"
   ]
  },
  {
   "cell_type": "markdown",
   "id": "2622bb99-ffdb-418d-adb0-9f6e223e76d5",
   "metadata": {},
   "source": [
    "**Příklad**\n",
    "\n",
    "Kolik řádků v datech splňuje podmínku definovanou funkcí `product_category_selector`."
   ]
  },
  {
   "cell_type": "code",
   "execution_count": 106,
   "id": "c2c64ea1-7df6-4755-be4d-37d495d3120c",
   "metadata": {},
   "outputs": [
    {
     "name": "stdout",
     "output_type": "stream",
     "text": [
      "Accessories <function createLambda.<locals>.<lambda> at 0x7f6b9abd3250>\n",
      "0\n"
     ]
    }
   ],
   "source": [
    "[(product_category_name, product_category_selector), *_] = product_category_selectors.items()\n",
    "print(product_category_name, product_category_selector)\n",
    "\n",
    "filteredData = [] # Doplnte\n",
    "print(len(filteredData))"
   ]
  },
  {
   "cell_type": "markdown",
   "id": "3853f229-b385-449c-a7a0-6e63dc3b02c8",
   "metadata": {},
   "source": [
    "**Řešení**"
   ]
  },
  {
   "cell_type": "code",
   "execution_count": 107,
   "id": "04311c1e-b783-46fd-822f-5d224dbc2c23",
   "metadata": {
    "jupyter": {
     "source_hidden": true
    },
    "tags": []
   },
   "outputs": [
    {
     "name": "stdout",
     "output_type": "stream",
     "text": [
      "Accessories <function createLambda.<locals>.<lambda> at 0x7f6b9abd3250>\n",
      "70120\n"
     ]
    }
   ],
   "source": [
    "[(product_category_name, product_category_selector), *_] = product_category_selectors.items()\n",
    "print(product_category_name, product_category_selector)\n",
    "\n",
    "filteredData = list(filter(product_category_selector, data))\n",
    "print(len(filteredData))"
   ]
  },
  {
   "cell_type": "markdown",
   "id": "a0b870ec-9211-46c1-88ae-1d25fd38867f",
   "metadata": {},
   "source": [
    "### Příklad 5"
   ]
  },
  {
   "cell_type": "markdown",
   "id": "d8cf783c-8026-4c2e-8119-cf8869029493",
   "metadata": {},
   "source": [
    "**Příklad**\n",
    "\n",
    "Zjistěte součet attributu \"Profit\" pro řádky splňující podmínku definovanou funkcí."
   ]
  },
  {
   "cell_type": "code",
   "execution_count": 108,
   "id": "94642b62-a89a-437f-b7c0-9c311e6d0df5",
   "metadata": {},
   "outputs": [
    {
     "name": "stdout",
     "output_type": "stream",
     "text": [
      "Accessories <function createLambda.<locals>.<lambda> at 0x7f6b9abd3250>\n",
      "0\n"
     ]
    }
   ],
   "source": [
    "[(product_category_name, product_category_selector), *_] = product_category_selectors.items()\n",
    "print(product_category_name, product_category_selector)\n",
    "\n",
    "filteredData = list(filter(product_category_selector, data))\n",
    "total = 0 # Doplnte\n",
    "print(total)"
   ]
  },
  {
   "cell_type": "markdown",
   "id": "d6401671-0fff-40b9-be57-7cd779b2e2ce",
   "metadata": {},
   "source": [
    "**Řešení**"
   ]
  },
  {
   "cell_type": "code",
   "execution_count": 109,
   "id": "0ecf36be-1fca-449f-afb6-a3adbeb2f533",
   "metadata": {
    "jupyter": {
     "source_hidden": true
    },
    "tags": []
   },
   "outputs": [
    {
     "name": "stdout",
     "output_type": "stream",
     "text": [
      "Accessories <function createLambda.<locals>.<lambda> at 0x7f6b9abd3250>\n",
      "8862377\n"
     ]
    }
   ],
   "source": [
    "[(product_category_name, product_category_selector), *_] = product_category_selectors.items()\n",
    "print(product_category_name, product_category_selector)\n",
    "\n",
    "filteredData = list(filter(product_category_selector, data))\n",
    "mapped = map(lambda item: item[\"Profit\"], filteredData)\n",
    "total = sum(mapped)\n",
    "\n",
    "print(total)"
   ]
  },
  {
   "cell_type": "markdown",
   "id": "e345dc65-b15a-4add-aeaf-9e13a29820d3",
   "metadata": {},
   "source": [
    "### Příklad 6"
   ]
  },
  {
   "cell_type": "markdown",
   "id": "2e5a9681-d293-4ea1-92cc-0af6ae67de9b",
   "metadata": {},
   "source": [
    "**Příklad**\n",
    "\n",
    "Vytvořte funkci, která vztvoří funkci počítající sumu nad attributem pro řádky splňující podmínku."
   ]
  },
  {
   "cell_type": "code",
   "execution_count": 110,
   "id": "902bb82e-8afe-4030-9070-95193d9b0c2e",
   "metadata": {},
   "outputs": [
    {
     "name": "stdout",
     "output_type": "stream",
     "text": [
      "Accessories <function createLambda.<locals>.<lambda> at 0x7f6b9abd3250>\n",
      "0\n"
     ]
    }
   ],
   "source": [
    "def createSumarizer(attributeName, filterFunc):\n",
    "    def result(data):\n",
    "        filtered = [] #zmente\n",
    "        mapped = [] #zmente\n",
    "        total = sum(mapped)\n",
    "        return total\n",
    "    return result\n",
    "\n",
    "[(product_category_name, product_category_selector), *_] = product_category_selectors.items()\n",
    "print(product_category_name, product_category_selector)\n",
    "sumarizer = createSumarizer(\"Profit\", product_category_selector)\n",
    "total = sumarizer(data)\n",
    "print(total)"
   ]
  },
  {
   "cell_type": "markdown",
   "id": "5aeffd31-c2b4-4d2e-990f-302a85f5e4dc",
   "metadata": {},
   "source": [
    "**Řešení**"
   ]
  },
  {
   "cell_type": "code",
   "execution_count": 111,
   "id": "d07370b9-73e3-4606-82d7-b6d156868e0c",
   "metadata": {
    "jupyter": {
     "source_hidden": true
    },
    "tags": []
   },
   "outputs": [
    {
     "name": "stdout",
     "output_type": "stream",
     "text": [
      "Accessories <function createLambda.<locals>.<lambda> at 0x7f6b9abd3250>\n",
      "8862377\n"
     ]
    }
   ],
   "source": [
    "def createSumarizer(attributeName, filterFunc):\n",
    "    def result(data):\n",
    "        filtered = filter(filterFunc, data)\n",
    "        mapped = map(lambda item: item[attributeName], filtered)\n",
    "        total = sum(mapped)\n",
    "        return total\n",
    "    return result\n",
    "\n",
    "[(product_category_name, product_category_selector), *_] = product_category_selectors.items()\n",
    "print(product_category_name, product_category_selector)\n",
    "sumarizer = createSumarizer(\"Profit\", product_category_selector)\n",
    "total = sumarizer(data)\n",
    "print(total)"
   ]
  },
  {
   "cell_type": "markdown",
   "id": "5bf054af-23a1-4cf1-b9d0-17bd2ffc4c3d",
   "metadata": {},
   "source": [
    "### Příklad 7"
   ]
  },
  {
   "cell_type": "markdown",
   "id": "5f077868-ba9f-4bc2-9f0a-10f49c2c203e",
   "metadata": {},
   "source": [
    "**Příklad**\n",
    "\n",
    "Ze seznamu filtrů vytvořte sumarizery a použijte výsledek na data"
   ]
  },
  {
   "cell_type": "code",
   "execution_count": 112,
   "id": "2e0294da-361a-49a1-b55e-786f63feaa1f",
   "metadata": {},
   "outputs": [
    {
     "name": "stdout",
     "output_type": "stream",
     "text": [
      "{}\n",
      "------------------------------\n"
     ]
    }
   ],
   "source": [
    "sumarizers = dict()#upravte\n",
    "\n",
    "print(sumarizers)\n",
    "\n",
    "print('-'*30)\n",
    "for key, value in sumarizers.items():\n",
    "    print(f\"{key:10}\\t{value(data)}\")\n"
   ]
  },
  {
   "cell_type": "markdown",
   "id": "a1c9c278-c48c-473d-b9f4-8f53cbef11ab",
   "metadata": {},
   "source": [
    "**Řešení**"
   ]
  },
  {
   "cell_type": "code",
   "execution_count": 113,
   "id": "98d7ac6f-ccf0-4332-9337-357c780baa79",
   "metadata": {
    "jupyter": {
     "source_hidden": true
    },
    "tags": []
   },
   "outputs": [
    {
     "name": "stdout",
     "output_type": "stream",
     "text": [
      "{'Accessories': <function createSumarizer.<locals>.result at 0x7f6b9a61ad40>, 'Clothing': <function createSumarizer.<locals>.result at 0x7f6b9a61add0>, 'Bikes': <function createSumarizer.<locals>.result at 0x7f6b9a61ae60>}\n",
      "------------------------------\n",
      "Accessories\t8862377\n",
      "Clothing  \t2839447\n",
      "Bikes     \t20519276\n"
     ]
    }
   ],
   "source": [
    "sumarizers = dict((key, createSumarizer(\"Profit\", filterfunc)) for key, filterfunc in product_category_selectors.items())\n",
    "print(sumarizers)\n",
    "\n",
    "print('-'*30)\n",
    "for key, value in sumarizers.items():\n",
    "    print(f\"{key:10}\\t{value(data)}\")\n"
   ]
  },
  {
   "cell_type": "markdown",
   "id": "86ec335d-631d-42e4-b8ae-a8009779dd5b",
   "metadata": {},
   "source": [
    "Výše uvedený výsledek je možné považovat za nejjednodušší kontingenční tabulku"
   ]
  },
  {
   "cell_type": "markdown",
   "id": "1e29ebf1-f0b4-4d4b-a11a-9c6f0c2d2b2d",
   "metadata": {},
   "source": [
    "### Příklad 8"
   ]
  },
  {
   "cell_type": "markdown",
   "id": "7931e8bf-a1e2-49a3-a6d9-773fd7c54f38",
   "metadata": {},
   "source": [
    "**Příklad**\n",
    "\n",
    "Seznamte se s funkcí `product` z knihovny `itertools`"
   ]
  },
  {
   "cell_type": "code",
   "execution_count": 114,
   "id": "79d9893c-7e23-4bd6-88ad-76d1dfba2241",
   "metadata": {},
   "outputs": [
    {
     "name": "stdout",
     "output_type": "stream",
     "text": [
      "[('A', '1'), ('A', '2'), ('B', '1'), ('B', '2')]\n"
     ]
    }
   ],
   "source": [
    "import itertools\n",
    "\n",
    "prod = list(itertools.product(['A', 'B'], ['1', '2']))\n",
    "print(prod)"
   ]
  },
  {
   "cell_type": "code",
   "execution_count": null,
   "id": "bd37000c-a6a4-4de3-bb6b-5cf4dc4ec493",
   "metadata": {},
   "outputs": [],
   "source": []
  },
  {
   "cell_type": "markdown",
   "id": "f53ff58b-883c-4b57-97f3-ccaecf4c6189",
   "metadata": {},
   "source": [
    "### Příklad 9"
   ]
  },
  {
   "cell_type": "markdown",
   "id": "fd58116f-9094-4518-a741-dc8f8cd29397",
   "metadata": {},
   "source": [
    "**Příklad**\n",
    "\n",
    "Použijte `product` na filtrech."
   ]
  },
  {
   "cell_type": "code",
   "execution_count": 115,
   "id": "cb29783b-9e29-439e-ae5b-e4ccb36efd56",
   "metadata": {},
   "outputs": [
    {
     "name": "stdout",
     "output_type": "stream",
     "text": [
      "[('Youth (<25)', 'Accessories'), ('Youth (<25)', 'Clothing'), ('Youth (<25)', 'Bikes'), ('Adults (35-64)', 'Accessories'), ('Adults (35-64)', 'Clothing'), ('Adults (35-64)', 'Bikes'), ('Young Adults (25-34)', 'Accessories'), ('Young Adults (25-34)', 'Clothing'), ('Young Adults (25-34)', 'Bikes'), ('Seniors (64+)', 'Accessories'), ('Seniors (64+)', 'Clothing'), ('Seniors (64+)', 'Bikes')]\n"
     ]
    }
   ],
   "source": [
    "import itertools\n",
    "\n",
    "ageFilters = createFilters(\"Age_Group\", data)\n",
    "categoryFilters = createFilters(\"Product_Category\", data)\n",
    "\n",
    "nestedNames = list(itertools.product(ageFilters.keys(), categoryFilters.keys()))\n",
    "print(nestedNames)"
   ]
  },
  {
   "cell_type": "code",
   "execution_count": 116,
   "id": "b1a3ca6e-a392-4498-9f30-5ffdcf9daefb",
   "metadata": {},
   "outputs": [
    {
     "name": "stdout",
     "output_type": "stream",
     "text": [
      "[(('Youth (<25)', <function createFilters.<locals>.createLambda.<locals>.<lambda> at 0x7f6b9a61b010>), ('Accessories', <function createFilters.<locals>.createLambda.<locals>.<lambda> at 0x7f6b8e145ab0>)), (('Youth (<25)', <function createFilters.<locals>.createLambda.<locals>.<lambda> at 0x7f6b9a61b010>), ('Clothing', <function createFilters.<locals>.createLambda.<locals>.<lambda> at 0x7f6b8e145990>)), (('Youth (<25)', <function createFilters.<locals>.createLambda.<locals>.<lambda> at 0x7f6b9a61b010>), ('Bikes', <function createFilters.<locals>.createLambda.<locals>.<lambda> at 0x7f6b9a61b760>)), (('Adults (35-64)', <function createFilters.<locals>.createLambda.<locals>.<lambda> at 0x7f6b9a61a560>), ('Accessories', <function createFilters.<locals>.createLambda.<locals>.<lambda> at 0x7f6b8e145ab0>)), (('Adults (35-64)', <function createFilters.<locals>.createLambda.<locals>.<lambda> at 0x7f6b9a61a560>), ('Clothing', <function createFilters.<locals>.createLambda.<locals>.<lambda> at 0x7f6b8e145990>)), (('Adults (35-64)', <function createFilters.<locals>.createLambda.<locals>.<lambda> at 0x7f6b9a61a560>), ('Bikes', <function createFilters.<locals>.createLambda.<locals>.<lambda> at 0x7f6b9a61b760>)), (('Young Adults (25-34)', <function createFilters.<locals>.createLambda.<locals>.<lambda> at 0x7f6b9a61a4d0>), ('Accessories', <function createFilters.<locals>.createLambda.<locals>.<lambda> at 0x7f6b8e145ab0>)), (('Young Adults (25-34)', <function createFilters.<locals>.createLambda.<locals>.<lambda> at 0x7f6b9a61a4d0>), ('Clothing', <function createFilters.<locals>.createLambda.<locals>.<lambda> at 0x7f6b8e145990>)), (('Young Adults (25-34)', <function createFilters.<locals>.createLambda.<locals>.<lambda> at 0x7f6b9a61a4d0>), ('Bikes', <function createFilters.<locals>.createLambda.<locals>.<lambda> at 0x7f6b9a61b760>)), (('Seniors (64+)', <function createFilters.<locals>.createLambda.<locals>.<lambda> at 0x7f6b9a61a440>), ('Accessories', <function createFilters.<locals>.createLambda.<locals>.<lambda> at 0x7f6b8e145ab0>)), (('Seniors (64+)', <function createFilters.<locals>.createLambda.<locals>.<lambda> at 0x7f6b9a61a440>), ('Clothing', <function createFilters.<locals>.createLambda.<locals>.<lambda> at 0x7f6b8e145990>)), (('Seniors (64+)', <function createFilters.<locals>.createLambda.<locals>.<lambda> at 0x7f6b9a61a440>), ('Bikes', <function createFilters.<locals>.createLambda.<locals>.<lambda> at 0x7f6b9a61b760>))]\n"
     ]
    }
   ],
   "source": [
    "import itertools\n",
    "\n",
    "ageFilters = createFilters(\"Age_Group\", data)\n",
    "categoryFilters = createFilters(\"Product_Category\", data)\n",
    "\n",
    "nestedNames = list(itertools.product(ageFilters.items(), categoryFilters.items()))\n",
    "print(nestedNames)"
   ]
  },
  {
   "cell_type": "markdown",
   "id": "5e6cc6fc-16df-4b33-b382-54c88d3a56ed",
   "metadata": {},
   "source": [
    "### Příklad 10"
   ]
  },
  {
   "cell_type": "markdown",
   "id": "a3e888f8-4f91-4cdd-9fee-8eb124a11ec0",
   "metadata": {},
   "source": [
    "**Příklad**\n",
    "\n",
    "Vytvořte vnořené filtry. Vnořený filtr vzniká jako `And` nad oběma filtry."
   ]
  },
  {
   "cell_type": "code",
   "execution_count": 117,
   "id": "3186123a-dea2-460c-8cdb-bb900af9034f",
   "metadata": {},
   "outputs": [
    {
     "name": "stdout",
     "output_type": "stream",
     "text": [
      "{'Youth (<25)': {'Accessories': <function A.<locals>.result_func at 0x7f6b8e1cde10>, 'Clothing': <function A.<locals>.result_func at 0x7f6b9a61ba30>, 'Bikes': <function A.<locals>.result_func at 0x7f6b9a61bac0>}, 'Adults (35-64)': {'Accessories': <function A.<locals>.result_func at 0x7f6b9a61bb50>, 'Clothing': <function A.<locals>.result_func at 0x7f6b9a61bbe0>, 'Bikes': <function A.<locals>.result_func at 0x7f6b9a61bc70>}, 'Young Adults (25-34)': {'Accessories': <function A.<locals>.result_func at 0x7f6b9a61bd00>, 'Clothing': <function A.<locals>.result_func at 0x7f6b9a61bd90>, 'Bikes': <function A.<locals>.result_func at 0x7f6b9a61be20>}, 'Seniors (64+)': {'Accessories': <function A.<locals>.result_func at 0x7f6b9a61beb0>, 'Clothing': <function A.<locals>.result_func at 0x7f6b9a61bf40>, 'Bikes': <function A.<locals>.result_func at 0x7f6b841a0040>}}\n"
     ]
    }
   ],
   "source": [
    "import itertools\n",
    "\n",
    "def A(filterA, filterB):\n",
    "    return lambda item: filterA(item) and filterB(item)\n",
    "\n",
    "def A(*filters):\n",
    "    def result_func(item):\n",
    "        result = True\n",
    "        for f in filters:\n",
    "            if not (f(item)):\n",
    "                result = False\n",
    "                break\n",
    "        return result\n",
    "    return result_func\n",
    "\n",
    "def createNestedFilters(data, attributeNameA, attributeNameB):\n",
    "    filtersA = createFilters(attributeNameA, data)\n",
    "    categoryFilters = createFilters(attributeNameB, data)\n",
    "    nestedNames = list(itertools.product(filtersA.items(), categoryFilters.items()))\n",
    "    \n",
    "    result = {}\n",
    "    for nestedName in nestedNames:\n",
    "        filters = []\n",
    "        names = []\n",
    "        for name, function in nestedName:\n",
    "            names.append(name)\n",
    "            filters.append(function)\n",
    "        level = result\n",
    "        for name in names[:-1]:\n",
    "            sublevel = level.get(name, None)\n",
    "            if sublevel is None:\n",
    "                sublevel = {}\n",
    "                level[name] = sublevel\n",
    "            level = sublevel\n",
    "                \n",
    "        masterfilter = A(*filters)\n",
    "        name = names[-1]\n",
    "        level[name] = masterfilter\n",
    "    return result\n",
    "\n",
    "nestedFilters = createNestedFilters(data, \"Age_Group\", \"Product_Category\")\n",
    "print(nestedFilters)"
   ]
  },
  {
   "cell_type": "code",
   "execution_count": 118,
   "id": "029e9886-2012-476c-9562-698db40135e6",
   "metadata": {},
   "outputs": [
    {
     "name": "stdout",
     "output_type": "stream",
     "text": [
      "Youth (<25)\tAccessories \t 1255267\n",
      "Youth (<25)\tClothing \t 410079\n",
      "Youth (<25)\tBikes \t 2709246\n",
      "Adults (35-64)\tAccessories \t 4611837\n",
      "Adults (35-64)\tClothing \t 1527164\n",
      "Adults (35-64)\tBikes \t 10182581\n",
      "Young Adults (25-34)\tAccessories \t 2921240\n",
      "Young Adults (25-34)\tClothing \t 884614\n",
      "Young Adults (25-34)\tBikes \t 7580907\n",
      "Seniors (64+)\tAccessories \t 74033\n",
      "Seniors (64+)\tClothing \t 17590\n",
      "Seniors (64+)\tBikes \t 46542\n"
     ]
    }
   ],
   "source": [
    "def applyNestedFilters(filters, data):\n",
    "    def inner(prefixes, filters, data):\n",
    "        for key, f in filters.items():\n",
    "            if isinstance(f, dict):\n",
    "                for item in inner([*prefixes, key], f, data):\n",
    "                    yield item\n",
    "            else:\n",
    "                yield [*prefixes, key], filter(f, data)\n",
    "    return inner([], filters, data)\n",
    "                \n",
    "nestedFilters = createNestedFilters(data, \"Age_Group\", \"Product_Category\")\n",
    "groupedData = list(applyNestedFilters(nestedFilters, data))\n",
    "for prefixes, dataset in groupedData :\n",
    "    #print(''.join(prefixes), sum(dataset))\n",
    "    #print(prefixes, dataset)\n",
    "    total = sum(map(lambda item: item[\"Profit\"], dataset))\n",
    "    print('\\t'.join(prefixes), '\\t', total)\n"
   ]
  },
  {
   "cell_type": "markdown",
   "id": "76d90f00-42e3-4201-8aed-ed3772d016f8",
   "metadata": {},
   "source": [
    "Předchozí výstup je kontingenční tabulkou. Kontingenční tabulky je možno uspořádávat různě a také je možné mít v kontingenční tabulce více atributů (zde jsou dva)."
   ]
  },
  {
   "cell_type": "code",
   "execution_count": 119,
   "id": "890f0508-81eb-495f-81b1-604ec799fa7c",
   "metadata": {},
   "outputs": [
    {
     "name": "stdout",
     "output_type": "stream",
     "text": [
      "[('Youth (<25)', 'Accessories'), ('Youth (<25)', 'Clothing'), ('Youth (<25)', 'Bikes'), ('Adults (35-64)', 'Accessories'), ('Adults (35-64)', 'Clothing'), ('Adults (35-64)', 'Bikes'), ('Young Adults (25-34)', 'Accessories'), ('Young Adults (25-34)', 'Clothing'), ('Young Adults (25-34)', 'Bikes'), ('Seniors (64+)', 'Accessories'), ('Seniors (64+)', 'Clothing'), ('Seniors (64+)', 'Bikes')]\n"
     ]
    }
   ],
   "source": [
    "import itertools\n",
    "\n",
    "ageFilters = createFilters(\"Age_Group\", data)\n",
    "categoryFilters = createFilters(\"Product_Category\", data)\n",
    "\n",
    "nestedNames = list(itertools.product(ageFilters.keys(), categoryFilters.keys()))\n",
    "print(nestedNames)"
   ]
  },
  {
   "cell_type": "markdown",
   "id": "d020f2b5-7bc6-4f5d-9f99-5cec2567841b",
   "metadata": {},
   "source": [
    "### Pandas"
   ]
  },
  {
   "cell_type": "code",
   "execution_count": null,
   "id": "1e183b56-68fb-4e83-a827-25344e599201",
   "metadata": {},
   "outputs": [],
   "source": []
  },
  {
   "cell_type": "markdown",
   "id": "b7bc334b-70e1-4691-a1e3-1468b8f42292",
   "metadata": {},
   "source": [
    "## \"Dlouhá data\""
   ]
  },
  {
   "cell_type": "markdown",
   "id": "2e15fb61-572b-4815-bf8f-0177d0c78868",
   "metadata": {},
   "source": [
    "https://towardsdatascience.com/reshape-pandas-dataframe-with-melt-in-python-tutorial-and-visualization-29ec1450bb02"
   ]
  },
  {
   "cell_type": "code",
   "execution_count": 120,
   "id": "5bb6431c-71da-45d0-80d7-4ba9a6f9816c",
   "metadata": {},
   "outputs": [],
   "source": [
    "data = [\n",
    "    {'name': 'Anna', 'subject': 'Informatics', 'semester1': 'A', 'semester2': 'B', 'semester3': 'A'},\n",
    "    {'name': 'Betty', 'subject': 'Informatics', 'semester1': 'C', 'semester2': 'A', 'semester3': 'A'},\n",
    "    {'name': 'Cindy', 'subject': 'Mathematics', 'semester1': 'C', 'semester2': 'D', 'semester3': 'D'},\n",
    "    {'name': 'Dita', 'subject': 'Biology', 'semester1': 'A', 'semester2': 'A', 'semester3': 'C'},\n",
    "]"
   ]
  },
  {
   "cell_type": "code",
   "execution_count": 121,
   "id": "7235492d-a09b-475b-bd4b-8afd69f790c5",
   "metadata": {},
   "outputs": [
    {
     "name": "stdout",
     "output_type": "stream",
     "text": [
      "name           subject        semester1      semester2      semester3      \n",
      "Anna           Informatics    A              B              A              \n",
      "Betty          Informatics    C              A              A              \n",
      "Cindy          Mathematics    C              D              D              \n",
      "Dita           Biology        A              A              C              \n"
     ]
    }
   ],
   "source": [
    "keys = {}\n",
    "for row in data:\n",
    "    for name in row.keys():\n",
    "        keys[name] = True\n",
    "        \n",
    "for key in keys:\n",
    "    print(f\"{key:15}\", end=\"\")\n",
    "print()\n",
    "for row in data:\n",
    "    for key in keys:\n",
    "        value = row.get(key, None)\n",
    "        print(f\"{value:15}\", end=\"\")\n",
    "    print()"
   ]
  },
  {
   "cell_type": "markdown",
   "id": "4e6c8ecc-9fc8-4e62-902c-38bf1f7429de",
   "metadata": {},
   "source": [
    "**Příklad**\n",
    "\n",
    "Předpokládejte, že tabulka výše je kontingenční tabulkou. Vytvořte zdrojová data."
   ]
  },
  {
   "cell_type": "code",
   "execution_count": 122,
   "id": "295fd6e2-75a5-4252-a6c5-e1b40fd62451",
   "metadata": {},
   "outputs": [
    {
     "name": "stdout",
     "output_type": "stream",
     "text": [
      "[{}, {}, {}, {}, {}, {}, {}, {}, {}, {}, {}, {}, {}, {}, {}, {}, {}, {}, {}, {}]\n"
     ]
    }
   ],
   "source": [
    "def ToLongForm(data, indexes=[], varName=\"variable\", valueName=\"value\"):\n",
    "    for item in data:\n",
    "        for key in item.keys():\n",
    "            row = {}\n",
    "            ################\n",
    "            ################\n",
    "            ################\n",
    "            ################\n",
    "            ################\n",
    "            ################\n",
    "            ################\n",
    "            ################\n",
    "            yield row\n",
    "        \n",
    "        \n",
    "longData = list(ToLongForm(data, indexes=['name', 'subject'], varName='semester', valueName='grade'))\n",
    "print(longData)"
   ]
  },
  {
   "cell_type": "markdown",
   "id": "4db37ad1-5ee3-41ca-a1a5-5e028e8059e1",
   "metadata": {},
   "source": [
    "**Řešení**"
   ]
  },
  {
   "cell_type": "code",
   "execution_count": 123,
   "id": "18aafaa5-7622-46b7-8692-5288f0133354",
   "metadata": {
    "jupyter": {
     "source_hidden": true
    },
    "tags": []
   },
   "outputs": [
    {
     "name": "stdout",
     "output_type": "stream",
     "text": [
      "[{'name': 'Anna', 'subject': 'Informatics', 'semester': 'semester1', 'grade': 'A'}, {'name': 'Anna', 'subject': 'Informatics', 'semester': 'semester2', 'grade': 'B'}, {'name': 'Anna', 'subject': 'Informatics', 'semester': 'semester3', 'grade': 'A'}, {'name': 'Betty', 'subject': 'Informatics', 'semester': 'semester1', 'grade': 'C'}, {'name': 'Betty', 'subject': 'Informatics', 'semester': 'semester2', 'grade': 'A'}, {'name': 'Betty', 'subject': 'Informatics', 'semester': 'semester3', 'grade': 'A'}, {'name': 'Cindy', 'subject': 'Mathematics', 'semester': 'semester1', 'grade': 'C'}, {'name': 'Cindy', 'subject': 'Mathematics', 'semester': 'semester2', 'grade': 'D'}, {'name': 'Cindy', 'subject': 'Mathematics', 'semester': 'semester3', 'grade': 'D'}, {'name': 'Dita', 'subject': 'Biology', 'semester': 'semester1', 'grade': 'A'}, {'name': 'Dita', 'subject': 'Biology', 'semester': 'semester2', 'grade': 'A'}, {'name': 'Dita', 'subject': 'Biology', 'semester': 'semester3', 'grade': 'C'}]\n"
     ]
    }
   ],
   "source": [
    "def ToLongForm(data, indexes=[], varName=\"variable\", valueName=\"value\"):\n",
    "    for item in data:\n",
    "        for key in item.keys():\n",
    "            row = {}\n",
    "            for i in indexes:\n",
    "                row[i] = item.get(i, None)\n",
    "                \n",
    "            if key in indexes:\n",
    "                continue\n",
    "            row[varName] = key\n",
    "            row[valueName] = item[key]\n",
    "            yield row\n",
    "        \n",
    "longData = list(ToLongForm(data, indexes=['name', 'subject'], varName='semester', valueName='grade'))\n",
    "print(longData)"
   ]
  },
  {
   "cell_type": "code",
   "execution_count": null,
   "id": "cc60f5ee-3d15-4fd6-be27-d312fa4bca1b",
   "metadata": {},
   "outputs": [],
   "source": []
  },
  {
   "cell_type": "code",
   "execution_count": null,
   "id": "a353a15f-13d1-462c-a4d0-a27c03267084",
   "metadata": {},
   "outputs": [],
   "source": []
  },
  {
   "cell_type": "code",
   "execution_count": null,
   "id": "e9227ec7-97d2-484d-956e-eb500dd45ad9",
   "metadata": {},
   "outputs": [],
   "source": []
  }
 ],
 "metadata": {
  "kernelspec": {
   "display_name": "Python 3 (ipykernel)",
   "language": "python",
   "name": "python3"
  },
  "language_info": {
   "codemirror_mode": {
    "name": "ipython",
    "version": 3
   },
   "file_extension": ".py",
   "mimetype": "text/x-python",
   "name": "python",
   "nbconvert_exporter": "python",
   "pygments_lexer": "ipython3",
   "version": "3.10.8"
  },
  "toc-autonumbering": true
 },
 "nbformat": 4,
 "nbformat_minor": 5
}
