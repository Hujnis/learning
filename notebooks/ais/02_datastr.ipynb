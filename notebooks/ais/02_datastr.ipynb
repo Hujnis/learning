{
 "cells": [
  {
   "cell_type": "markdown",
   "metadata": {
    "id": "sJNR1E0ztJZM"
   },
   "source": [
    "# Datové struktury"
   ]
  },
  {
   "cell_type": "code",
   "execution_count": 43,
   "metadata": {
    "id": "YqW0ChQBtA9f"
   },
   "outputs": [],
   "source": [
    "from IPython.display import HTML\n",
    "\n",
    "def YVideo(id, t=None):\n",
    "# Youtube\n",
    "    if t is None:\n",
    "        fullStr = f'<iframe width=\"560\" height=\"315\" src=\"https://www.youtube.com/embed/{id}?rel=0&amp;controls=0&amp;showinfo=0\" frameborder=\"0\" allowfullscreen></iframe>'\n",
    "    else:\n",
    "        fullStr = f'<iframe width=\"560\" height=\"315\" src=\"https://www.youtube.com/embed/{id}?start={t}&amp;controls=0&amp;showinfo=0\" frameborder=\"0\" allowfullscreen></iframe>'\n",
    "    return HTML(fullStr)"
   ]
  },
  {
   "cell_type": "markdown",
   "metadata": {
    "id": "phipGOJ8saKF"
   },
   "source": [
    "- Datové struktury\n",
    "    - Elementární datové struktury\n",
    "        - Znak\n",
    "        - Číslo (IEEE 754)\n",
    "        - Bool\n",
    "    - Komplexní datové struktury\n",
    "        - List (Python)\n",
    "        - Dict (Python)\n",
    "        - Tree\n",
    "        - Graph\n",
    "    - Principiální algoritmy pro práci s datovými strukturami\n",
    "        - Třídění\n",
    "        - Vyhledávání \n",
    "        - Výpočetní složitost"
   ]
  },
  {
   "cell_type": "markdown",
   "metadata": {
    "id": "GkQ__rXZtO_m"
   },
   "source": [
    "## Elementární datové struktury"
   ]
  },
  {
   "cell_type": "markdown",
   "metadata": {
    "id": "2voSE9Owfm0g"
   },
   "source": [
    "### Čísla"
   ]
  },
  {
   "cell_type": "markdown",
   "metadata": {
    "id": "mv2HD2r7fpPy"
   },
   "source": [
    "Pravděpodobně historicky první datový prvek ukládaný v počítači. Rozlišujeme celá čísla a čísla s desetinnou čárkou (tečkou). Obecně je vhodné mít na paměti, že jakákoliv data jsou v paměti počítači zakódována v posloupnosti bitů (bytů). Celá čísla se aktuálně používají v podobě, která je adekvátní 2, 4, či 8 bytům.\n",
    "\n",
    "Čísla s desetinnou čárkou definuje norma IEEE 754 v podobě 4, 8 a 10 bytů.\n",
    "\n",
    "> Kolik možných kombinací odpovídá 8 bytům?\n",
    ">\n",
    "> Kolik různých desetinných čísel znáte?\n",
    "> \n",
    "> Jaké komplikace z této skutečnosti vyplývají?"
   ]
  },
  {
   "cell_type": "code",
   "execution_count": 44,
   "metadata": {
    "colab": {
     "base_uri": "https://localhost:8080/"
    },
    "id": "HV3xeDk5hbJu",
    "outputId": "7e14aa9f-0ad4-455b-e7e4-71e6fad77bb8"
   },
   "outputs": [
    {
     "name": "stdout",
     "output_type": "stream",
     "text": [
      "0 \t 0\n",
      "1 \t 0.1\n",
      "2 \t 0.2\n",
      "3 \t 0.30000000000000004\n",
      "4 \t 0.4\n",
      "5 \t 0.5\n",
      "6 \t 0.6\n",
      "7 \t 0.7\n",
      "8 \t 0.7999999999999999\n"
     ]
    }
   ],
   "source": [
    "end = 0.8\n",
    "start = 0\n",
    "delta = 0.1\n",
    "\n",
    "currentValue = start\n",
    "index = 0\n",
    "while currentValue < end:\n",
    "    print(index, '\\t', currentValue)\n",
    "    currentValue = currentValue + delta\n",
    "    index = index + 1 "
   ]
  },
  {
   "cell_type": "code",
   "execution_count": 45,
   "metadata": {
    "colab": {
     "base_uri": "https://localhost:8080/"
    },
    "id": "cjKFiY4sd2J6",
    "outputId": "6be26306-5c27-4241-f3a8-86bd42155291"
   },
   "outputs": [
    {
     "name": "stdout",
     "output_type": "stream",
     "text": [
      "0.024999999999999994\n"
     ]
    }
   ],
   "source": [
    "value = 0.1\n",
    "print(0.125 - value)"
   ]
  },
  {
   "cell_type": "markdown",
   "metadata": {
    "id": "GwznyTAXkMJR"
   },
   "source": [
    "Čísla s periodickým vyjádřením\n",
    "\n",
    "$\\frac{1}{3}=0.3333$ ?\n",
    "\n",
    "> Jaký tvar má číslo 0.1 v paměti za předpokladu, že se jedná o implementaci podle IEEE 754, varianta 8 bytů?\n",
    "> "
   ]
  },
  {
   "cell_type": "code",
   "execution_count": 46,
   "metadata": {
    "colab": {
     "base_uri": "https://localhost:8080/"
    },
    "id": "jDkd5n0akJvQ",
    "outputId": "f9c47110-9d89-49ac-e397-58ec82e20b91"
   },
   "outputs": [
    {
     "name": "stdout",
     "output_type": "stream",
     "text": [
      "001100110011001100110011001100110011001100110011"
     ]
    }
   ],
   "source": [
    "data = 0.1\n",
    "cValue = 0.5\n",
    "while data > 1e-15:\n",
    "    cValue = cValue / 2\n",
    "    if data > cValue:\n",
    "        print('1', end='')\n",
    "        data = data - cValue\n",
    "    else:\n",
    "        print('0', end='')\n",
    "    "
   ]
  },
  {
   "cell_type": "markdown",
   "metadata": {
    "id": "_jmb-RS1e-uH"
   },
   "source": [
    "[IEEE-754 Floating Point Converter](https://www.h-schmidt.net/FloatConverter/IEEE754.html)"
   ]
  },
  {
   "cell_type": "markdown",
   "metadata": {
    "id": "AfCEnhQci78b"
   },
   "source": [
    "### Znak"
   ]
  },
  {
   "cell_type": "markdown",
   "metadata": {
    "id": "acmxDJVIjAe0"
   },
   "source": [
    "Potřeba ukládat text v počítači vedla k vytvoření datového typu znak. Historicky byl znak reprezentován 1 bytem.\n",
    "\n",
    "> Kolik možných kombinací odpovídá 1 bytu?\n",
    "> \n",
    "> Kolik znaků znáte?\n",
    "> \n",
    "> Jaké komplikace z této skutečnosti vyplývají?\n",
    "> \n",
    "> Jaké řešení bylo implementováno?\n",
    "\n"
   ]
  },
  {
   "cell_type": "code",
   "execution_count": 47,
   "metadata": {
    "colab": {
     "base_uri": "https://localhost:8080/"
    },
    "id": "7h4_0mf8jxQp",
    "outputId": "6258d2ac-f897-46db-aa1e-e31aabee39e7"
   },
   "outputs": [
    {
     "name": "stdout",
     "output_type": "stream",
     "text": [
      "49\n",
      "50\n",
      "74\n"
     ]
    }
   ],
   "source": [
    "import sys\n",
    "\n",
    "print(sys.getsizeof(''))\n",
    "print(sys.getsizeof('A'))\n",
    "print(sys.getsizeof('Á'))"
   ]
  },
  {
   "cell_type": "code",
   "execution_count": 48,
   "metadata": {
    "colab": {
     "base_uri": "https://localhost:8080/"
    },
    "id": "2PgHo_mmnhkq",
    "outputId": "47b35dba-d740-4e3d-80e9-ed9eaf5c8d2e"
   },
   "outputs": [
    {
     "name": "stdout",
     "output_type": "stream",
     "text": [
      "74\n",
      "75\n",
      "78\n",
      "80\n",
      "82\n"
     ]
    }
   ],
   "source": [
    "print(sys.getsizeof('Á'))\n",
    "print(sys.getsizeof('ÁB'))\n",
    "print(sys.getsizeof('ÁČ'))\n",
    "print(sys.getsizeof('ÁČĎ'))\n",
    "print(sys.getsizeof('ÁČĎÉ'))"
   ]
  },
  {
   "cell_type": "code",
   "execution_count": 49,
   "metadata": {
    "colab": {
     "base_uri": "https://localhost:8080/"
    },
    "id": "AU-iCDmBn87q",
    "outputId": "6ace5d79-65e0-494a-862a-2a69c6bb0d47"
   },
   "outputs": [
    {
     "name": "stdout",
     "output_type": "stream",
     "text": [
      "76\n",
      "78\n"
     ]
    }
   ],
   "source": [
    "text = '\\U00000394'\n",
    "print(sys.getsizeof(text))\n",
    "print(sys.getsizeof(text + 'Á'))"
   ]
  },
  {
   "cell_type": "markdown",
   "metadata": {},
   "source": [
    "### Boolean"
   ]
  },
  {
   "cell_type": "code",
   "execution_count": 50,
   "metadata": {},
   "outputs": [
    {
     "name": "stdout",
     "output_type": "stream",
     "text": [
      "True\n"
     ]
    }
   ],
   "source": [
    "value = True\n",
    "print(value)"
   ]
  },
  {
   "cell_type": "markdown",
   "metadata": {},
   "source": [
    "### Datum / čas"
   ]
  },
  {
   "cell_type": "markdown",
   "metadata": {},
   "source": [
    "- Poněkud problematické standardy\n",
    "- Časové zóny\n",
    "- Letní čas"
   ]
  },
  {
   "cell_type": "code",
   "execution_count": 51,
   "metadata": {},
   "outputs": [
    {
     "name": "stdout",
     "output_type": "stream",
     "text": [
      "2021-09-05 09:50:00\n",
      "2021-09-05 09:50:00+02:00\n"
     ]
    }
   ],
   "source": [
    "from datetime import datetime, timezone, timedelta\n",
    "\n",
    "current = datetime(year=2021, month=9, day=5, hour=9, minute=50, second=0, microsecond=0, tzinfo=None)\n",
    "print(current)\n",
    "\n",
    "current = datetime(year=2021, month=9, day=5, hour=9, minute=50, second=0, microsecond=0, tzinfo=timezone(timedelta(hours=2)))\n",
    "print(current)\n"
   ]
  },
  {
   "cell_type": "markdown",
   "metadata": {
    "id": "Y7QStLaytRFa"
   },
   "source": [
    "## Komplexní datové struktury"
   ]
  },
  {
   "cell_type": "markdown",
   "metadata": {
    "id": "1knT42cghoOU"
   },
   "source": [
    "> **Doporučené video**\n",
    ">\n",
    "> [Data Structures & Algorithms Tutorial 20 dílů](https://www.youtube.com/playlist?list=PLeo1K3hjS3uu_n_a__MI_KktGTLYopZ12)"
   ]
  },
  {
   "cell_type": "markdown",
   "metadata": {
    "id": "yfOCb3sFo9Aa"
   },
   "source": [
    "### List"
   ]
  },
  {
   "cell_type": "code",
   "execution_count": 52,
   "metadata": {
    "id": "bJOiNPpopT48"
   },
   "outputs": [],
   "source": [
    "data = [0, 1]"
   ]
  },
  {
   "cell_type": "markdown",
   "metadata": {
    "id": "QnVVSvY9tCzl"
   },
   "source": [
    "Implementace / organizace v paměti počítače (na úrovni strojového kódu). \n",
    "\n",
    "Ekvivalence s tabulkou v databázi. Tabulka má záznamy, list má položky."
   ]
  },
  {
   "cell_type": "markdown",
   "metadata": {
    "id": "MKZdUwDyB1SW"
   },
   "source": [
    "Role hvězdičky pro práci s listem `*data`"
   ]
  },
  {
   "cell_type": "code",
   "execution_count": 53,
   "metadata": {
    "colab": {
     "base_uri": "https://localhost:8080/"
    },
    "id": "yLfDLOw3B9J0",
    "outputId": "726f3c86-fea1-48cb-f355-207d7e0b6714"
   },
   "outputs": [
    {
     "name": "stdout",
     "output_type": "stream",
     "text": [
      "0 [1, 2, 3] 4\n"
     ]
    }
   ],
   "source": [
    "data = [0, 1, 2, 3, 4]\n",
    "first, *others, last = data\n",
    "print(first, others, last)"
   ]
  },
  {
   "cell_type": "code",
   "execution_count": 54,
   "metadata": {
    "colab": {
     "base_uri": "https://localhost:8080/"
    },
    "id": "hj_vtNnPCOi9",
    "outputId": "a711ac3a-72ac-43f4-ef96-ff0d58b4242e"
   },
   "outputs": [
    {
     "name": "stdout",
     "output_type": "stream",
     "text": [
      "0\n",
      "1\n",
      "2\n",
      "3\n",
      "a\n",
      "b\n",
      "c\n",
      "[0, 1, 2, 3]\n",
      "['a', 'b', 'c']\n"
     ]
    }
   ],
   "source": [
    "def printList(*args):\n",
    "    for arg in args:\n",
    "        print(arg)\n",
    "\n",
    "printList(0, 1, 2, 3, 'a', 'b', 'c')\n",
    "printList([0, 1, 2, 3], ['a', 'b', 'c'])"
   ]
  },
  {
   "cell_type": "markdown",
   "metadata": {
    "id": "wVSgLVUNiEi6"
   },
   "source": [
    "#### Datové struktury odvozené z listu (array)"
   ]
  },
  {
   "cell_type": "markdown",
   "metadata": {
    "id": "OYICyvE3iKMb"
   },
   "source": [
    "- Queue / fronta FIFO [asynchronní fronty](https://docs.python.org/3/library/asyncio-queue.html)\n",
    "- Stack / zásobník LIFO [asynchronní fronty](https://docs.python.org/3/library/asyncio-queue.html)\n",
    "\n"
   ]
  },
  {
   "cell_type": "markdown",
   "metadata": {
    "id": "PqHqM9W1jOYE"
   },
   "source": [
    "#### Queue"
   ]
  },
  {
   "cell_type": "code",
   "execution_count": 55,
   "metadata": {
    "colab": {
     "base_uri": "https://localhost:8080/"
    },
    "id": "RkEO8mWcjSK-",
    "outputId": "0a8d4d9f-1720-43b0-f731-efbc419c80dd"
   },
   "outputs": [
    {
     "name": "stdout",
     "output_type": "stream",
     "text": [
      "[1, 2, 3]\n",
      "1 [2, 3]\n"
     ]
    }
   ],
   "source": [
    "data = []\n",
    "data.append(1)\n",
    "data.append(2)\n",
    "data.append(3)\n",
    "print(data)\n",
    "item, *data = data\n",
    "print(item, data)\n"
   ]
  },
  {
   "cell_type": "markdown",
   "metadata": {
    "id": "ztsVIorEjq6Y"
   },
   "source": [
    "#### Stack"
   ]
  },
  {
   "cell_type": "code",
   "execution_count": 56,
   "metadata": {
    "colab": {
     "base_uri": "https://localhost:8080/"
    },
    "id": "2zeIKo4vjs8u",
    "outputId": "e7e95c94-c664-4780-ca96-a1f4df78e9ec"
   },
   "outputs": [
    {
     "name": "stdout",
     "output_type": "stream",
     "text": [
      "[1, 2, 3]\n",
      "[1, 2] 3\n"
     ]
    }
   ],
   "source": [
    "data = []\n",
    "data.append(1)\n",
    "data.append(2)\n",
    "data.append(3)\n",
    "print(data)\n",
    "*data, item = data\n",
    "print(data, item)"
   ]
  },
  {
   "cell_type": "markdown",
   "metadata": {
    "id": "QZA47qLFo_vN"
   },
   "source": [
    "### Dictionary"
   ]
  },
  {
   "cell_type": "code",
   "execution_count": 57,
   "metadata": {
    "id": "cQIptJmqxwmz"
   },
   "outputs": [],
   "source": [
    "data = {'value': 0}"
   ]
  },
  {
   "cell_type": "markdown",
   "metadata": {
    "id": "PJTZS0zIBC5a"
   },
   "source": [
    "Množina pojmenovaných hodnot. Podle jazyka mohou být jména omezena."
   ]
  },
  {
   "cell_type": "code",
   "execution_count": 58,
   "metadata": {
    "colab": {
     "base_uri": "https://localhost:8080/"
    },
    "id": "g8Pc_MVZBLW4",
    "outputId": "9498e6b8-723c-49ee-8032-1fa14452268c"
   },
   "outputs": [
    {
     "name": "stdout",
     "output_type": "stream",
     "text": [
      "{1: 'ahoj', 'x': 5}\n"
     ]
    }
   ],
   "source": [
    "data2 = {1: 'ahoj', 'x': 5}\n",
    "print(data2)"
   ]
  },
  {
   "cell_type": "markdown",
   "metadata": {
    "id": "BbmB54QUBXoS"
   },
   "source": [
    "Implementace / organizace v paměti počítače (na úrovni strojového kódu). \n",
    "\n",
    "Ekvivalence s tabulkou v databázi. Tabulka má záznamy s unikátním id (klíč), dictionary má (unikátní) klíče a pro každý klíč hodnotu."
   ]
  },
  {
   "cell_type": "markdown",
   "metadata": {
    "id": "q1Kr4uJYCo7A"
   },
   "source": [
    "Role dvojhvězdičky pro práci s dictionary"
   ]
  },
  {
   "cell_type": "code",
   "execution_count": 59,
   "metadata": {
    "colab": {
     "base_uri": "https://localhost:8080/"
    },
    "id": "I_dGXCpiCvbb",
    "outputId": "403d00c4-c7d9-4ae3-d285-b3f90c5c8528"
   },
   "outputs": [
    {
     "name": "stdout",
     "output_type": "stream",
     "text": [
      "{'name': 'John', 'age': 5}\n",
      "{'name': 'John', 'age': 5}\n",
      "{'name': 'John', 'age': 6}\n"
     ]
    }
   ],
   "source": [
    "data = {'name': 'John', 'age': 5}\n",
    "print(data)\n",
    "newData = {**data, 'age': 6}\n",
    "print(data)\n",
    "print(newData)"
   ]
  },
  {
   "cell_type": "code",
   "execution_count": 60,
   "metadata": {
    "colab": {
     "base_uri": "https://localhost:8080/"
    },
    "id": "0eRYPRSMC-mY",
    "outputId": "6bd0dc96-af85-47c8-be66-d030dfbc54fa"
   },
   "outputs": [
    {
     "name": "stdout",
     "output_type": "stream",
     "text": [
      "a 1\n",
      "b hi\n"
     ]
    }
   ],
   "source": [
    "def printDict(**kwargs):\n",
    "    for key, value in kwargs.items():\n",
    "        print(key, value)\n",
    "\n",
    "printDict(a=1, b='hi')"
   ]
  },
  {
   "cell_type": "markdown",
   "metadata": {
    "id": "iSxljF_Ax07D"
   },
   "source": [
    "### Strom"
   ]
  },
  {
   "cell_type": "markdown",
   "metadata": {
    "id": "7a6k5kSd33_2"
   },
   "source": [
    "[Wiki](https://en.wikipedia.org/wiki/Tree_(data_structure))\n",
    "\n",
    "Strom je definován:\n",
    "- množinou vrcholů (uzlů) \n",
    "- kořenovým vrcholem\n",
    "- funkcí, která každému vrcholu přiřazuje datovou strukturu\n",
    "\n",
    "Kořenový vrchol nemá rodiče,\n",
    "každý další vrchol má právě jednoho rodiče.\n",
    "\n",
    "> **Doporučené video**\n",
    ">\n",
    "> [Tree (General Tree) - Data Structures & Algorithms Tutorials In Python #9 23 min](https://www.youtube.com/watch?v=4r_XR9fUPhQ)\n",
    "\n",
    "\n",
    "\n"
   ]
  },
  {
   "cell_type": "code",
   "execution_count": 61,
   "metadata": {
    "colab": {
     "base_uri": "https://localhost:8080/",
     "height": 336
    },
    "id": "7hl26zl6uF1K",
    "outputId": "3763ac9e-d0ae-44e0-9903-851797e1f42e"
   },
   "outputs": [
    {
     "name": "stderr",
     "output_type": "stream",
     "text": [
      "/opt/conda/lib/python3.8/site-packages/IPython/core/display.py:717: UserWarning: Consider using IPython.display.IFrame instead\n",
      "  warnings.warn(\"Consider using IPython.display.IFrame instead\")\n"
     ]
    },
    {
     "data": {
      "text/html": [
       "<iframe width=\"560\" height=\"315\" src=\"https://www.youtube.com/embed/4r_XR9fUPhQ?rel=0&amp;controls=0&amp;showinfo=0\" frameborder=\"0\" allowfullscreen></iframe>"
      ],
      "text/plain": [
       "<IPython.core.display.HTML object>"
      ]
     },
     "execution_count": 61,
     "metadata": {},
     "output_type": "execute_result"
    }
   ],
   "source": [
    "YVideo('4r_XR9fUPhQ')"
   ]
  },
  {
   "cell_type": "markdown",
   "metadata": {
    "id": "ngO5ugViuI3a"
   },
   "source": [
    "Knihovna implementující datovou strukturu strom v jazyku Python [treelib](https://github.com/caesar0301/treelib)."
   ]
  },
  {
   "cell_type": "code",
   "execution_count": 62,
   "metadata": {
    "colab": {
     "base_uri": "https://localhost:8080/"
    },
    "id": "Exlv1gurmOzN",
    "outputId": "5366cd3d-1a36-4d5b-9a9e-7c003fb2f258"
   },
   "outputs": [
    {
     "name": "stdout",
     "output_type": "stream",
     "text": [
      "Collecting treelib\n",
      "  Downloading treelib-1.6.1.tar.gz (24 kB)\n",
      "Collecting future\n",
      "  Downloading future-0.18.2.tar.gz (829 kB)\n",
      "\u001b[K     |████████████████████████████████| 829 kB 3.1 MB/s eta 0:00:01\n",
      "\u001b[?25hBuilding wheels for collected packages: treelib, future\n",
      "  Building wheel for treelib (setup.py) ... \u001b[?25ldone\n",
      "\u001b[?25h  Created wheel for treelib: filename=treelib-1.6.1-py3-none-any.whl size=18371 sha256=51298520e1276cc484c8f816228c25698f01c4d65a6f3b43eb02398f3db285fa\n",
      "  Stored in directory: /home/jovyan/.cache/pip/wheels/71/df/8b/6b005e3bb9b275c24dfc392cda334f43f132e85a6f17cfad3a\n",
      "  Building wheel for future (setup.py) ... \u001b[?25ldone\n",
      "\u001b[?25h  Created wheel for future: filename=future-0.18.2-py3-none-any.whl size=491059 sha256=3dca08439e050645e9677b0a5b7faf1a7fd4406a72dd408d7814b65c18a55595\n",
      "  Stored in directory: /home/jovyan/.cache/pip/wheels/8e/70/28/3d6ccd6e315f65f245da085482a2e1c7d14b90b30f239e2cf4\n",
      "Successfully built treelib future\n",
      "Installing collected packages: future, treelib\n",
      "Successfully installed future-0.18.2 treelib-1.6.1\n",
      "Note: you may need to restart the kernel to use updated packages.\n"
     ]
    }
   ],
   "source": [
    "pip install treelib"
   ]
  },
  {
   "cell_type": "code",
   "execution_count": 63,
   "metadata": {
    "colab": {
     "base_uri": "https://localhost:8080/"
    },
    "id": "nRt_P681mNmU",
    "outputId": "1c5b108d-27b3-4755-b930-f01a1416a4f6"
   },
   "outputs": [
    {
     "name": "stdout",
     "output_type": "stream",
     "text": [
      "Harry\n",
      "├── Bill\n",
      "└── Jane\n",
      "    ├── Diane\n",
      "    │   └── Mary\n",
      "    └── Mark\n",
      "\n"
     ]
    }
   ],
   "source": [
    "from treelib import Node, Tree\n",
    "tree = Tree()\n",
    "tree.create_node(\"Harry\", \"harry\")  # root node\n",
    "tree.create_node(\"Jane\", \"jane\", parent=\"harry\")\n",
    "tree.create_node(\"Bill\", \"bill\", parent=\"harry\")\n",
    "tree.create_node(\"Diane\", \"diane\", parent=\"jane\")\n",
    "tree.create_node(\"Mary\", \"mary\", parent=\"diane\")\n",
    "tree.create_node(\"Mark\", \"mark\", parent=\"jane\")\n",
    "tree.show()"
   ]
  },
  {
   "cell_type": "markdown",
   "metadata": {
    "id": "9X-OpK9wx3TC"
   },
   "source": [
    "### Graf"
   ]
  },
  {
   "cell_type": "markdown",
   "metadata": {
    "id": "Ir7phZ_B38tf"
   },
   "source": [
    "[Wiki](https://en.wikipedia.org/wiki/Graph_(abstract_data_type))\n",
    "\n",
    "Graf je definován (viz předmět teorie grafů):\n",
    "- množinou vrcholů (uzlů)\n",
    "- množinou hran, přičemž hrany jsou svázány se dvěma vrcholy \n",
    "- funkcí, která každé hraně (každému vrcholu) přiřazuje datovou strukturu\n",
    "\n",
    "> **Doporučené video**\n",
    ">\n",
    "> [Graph Introduction - Data Structures & Algorithms Tutorials In Python #12 32 min](https://www.youtube.com/watch?v=j0IYCyBdzfA)"
   ]
  },
  {
   "cell_type": "code",
   "execution_count": 64,
   "metadata": {
    "colab": {
     "base_uri": "https://localhost:8080/",
     "height": 336
    },
    "id": "IGl0ycegvglk",
    "outputId": "f8ca0c94-4d34-4e3a-ba75-97d2c184f6b9"
   },
   "outputs": [
    {
     "data": {
      "text/html": [
       "<iframe width=\"560\" height=\"315\" src=\"https://www.youtube.com/embed/j0IYCyBdzfA?rel=0&amp;controls=0&amp;showinfo=0\" frameborder=\"0\" allowfullscreen></iframe>"
      ],
      "text/plain": [
       "<IPython.core.display.HTML object>"
      ]
     },
     "execution_count": 64,
     "metadata": {},
     "output_type": "execute_result"
    }
   ],
   "source": [
    "YVideo('j0IYCyBdzfA')"
   ]
  },
  {
   "cell_type": "markdown",
   "metadata": {
    "id": "AkXUFouJJTZ7"
   },
   "source": [
    "### Třídy"
   ]
  },
  {
   "cell_type": "markdown",
   "metadata": {
    "id": "MMS_pAFZJV3b"
   },
   "source": [
    "Třídy jsou spojeny s objektovým programováním, kde se zmiňují hlavně tyto pojmy:\n",
    "\n",
    "- encapsulation / zapouzdření\n",
    "- inheritance / dědičnost\n",
    "- polymorfism / mnohotvárnost\n",
    "\n",
    "Právě zapouzdření je úzce spojeno s datovými strukturami. Zapouzdření zabezpečuje v \"jednom pouzdře\" všechna data a metody pro práci s nimi.\n",
    "\n",
    "Pokud se budeme soustředit na pouhá data, uvidíme datovou strukturu, jejíž položky mohou být různého typu. Všimněte si souvislosti s datovým modelem (SQLAlchemy) a s reprezentací datového modelu - tabulkou (v databázi)."
   ]
  },
  {
   "cell_type": "code",
   "execution_count": 65,
   "metadata": {
    "colab": {
     "base_uri": "https://localhost:8080/"
    },
    "id": "HeklBA71ScYk",
    "outputId": "eacea31e-d642-4215-ea73-fb4ac36d1c5e"
   },
   "outputs": [
    {
     "name": "stdout",
     "output_type": "stream",
     "text": [
      "Requirement already satisfied: sqlalchemy in /opt/conda/lib/python3.8/site-packages (1.3.22)\n"
     ]
    }
   ],
   "source": [
    "!pip install sqlalchemy"
   ]
  },
  {
   "cell_type": "code",
   "execution_count": 66,
   "metadata": {
    "id": "ZP_XhRZeKglS"
   },
   "outputs": [],
   "source": [
    "from sqlalchemy import Column, String, Integer, ForeignKey\n",
    "from sqlalchemy.orm import relationship, backref\n",
    "from sqlalchemy.ext.declarative import declarative_base\n",
    "\n",
    "Base = declarative_base()\n",
    "\n",
    "class User(Base):\n",
    "    __tablename__ = 'users'\n",
    "\n",
    "    id = Column(Integer, primary_key=True)\n",
    "    name = Column(String(200), nullable=False)\n",
    "    surname = Column(String(200), nullable=False)\n",
    "    \n"
   ]
  },
  {
   "cell_type": "markdown",
   "metadata": {
    "id": "FO7Ns1ugN7pA"
   },
   "source": [
    "### Další typy (Python)"
   ]
  },
  {
   "cell_type": "markdown",
   "metadata": {
    "id": "dJTbR0W_N9mf"
   },
   "source": [
    "- Tuple\n",
    "- Named Tuple"
   ]
  },
  {
   "cell_type": "code",
   "execution_count": 67,
   "metadata": {
    "colab": {
     "base_uri": "https://localhost:8080/"
    },
    "id": "uvjKVkNFNhug",
    "outputId": "b29db7f6-7ea5-412b-fa83-72edf7c4e045"
   },
   "outputs": [
    {
     "name": "stdout",
     "output_type": "stream",
     "text": [
      "(12, 23, 78)\n"
     ]
    }
   ],
   "source": [
    "data = (12, 23, 78)\n",
    "print(data)"
   ]
  },
  {
   "cell_type": "code",
   "execution_count": 68,
   "metadata": {
    "id": "Xvhxqj_UNsiW"
   },
   "outputs": [],
   "source": [
    "def funct(a, b):\n",
    "    c = a + b\n",
    "    d = a * b\n",
    "    return (c, d)"
   ]
  },
  {
   "cell_type": "markdown",
   "metadata": {
    "id": "pxsQzpV9tel1"
   },
   "source": [
    "### Koncept Immutable"
   ]
  },
  {
   "cell_type": "markdown",
   "metadata": {
    "id": "N4RFSxSetjw6"
   },
   "source": [
    "Immutable datová struktura je datová struktura, kterou nelze změnit. V programu tedy (v extrému) existují jen konstanty.\n",
    "\n",
    "**Redux** - knihovna, která na konceptu staví řešení pro správu dat ve webové aplikaci.\n",
    "\n",
    "Příklad, který je konceptem řešen."
   ]
  },
  {
   "cell_type": "code",
   "execution_count": 69,
   "metadata": {
    "colab": {
     "base_uri": "https://localhost:8080/"
    },
    "id": "9jopNzFmuGv5",
    "outputId": "886e61cf-9ae2-4ed9-f740-0c6dabf855aa"
   },
   "outputs": [
    {
     "name": "stdout",
     "output_type": "stream",
     "text": [
      "result {'name': 'Julie'}\n",
      "input {'name': 'Julie'}\n"
     ]
    }
   ],
   "source": [
    "def changeName(data, value):\n",
    "    data['name'] = value\n",
    "    return data\n",
    "\n",
    "input = {'name': 'John'}\n",
    "result = changeName(input, 'Julie')\n",
    "print('result', result)\n",
    "print('input', input)"
   ]
  },
  {
   "cell_type": "markdown",
   "metadata": {
    "id": "gaTVbE7cwUGL"
   },
   "source": [
    "Řešení v duchu konceptu immutable"
   ]
  },
  {
   "cell_type": "code",
   "execution_count": 70,
   "metadata": {
    "colab": {
     "base_uri": "https://localhost:8080/"
    },
    "id": "ouX0tYSxwXjL",
    "outputId": "3c1d9962-dba0-456b-d816-c706a3ce9538"
   },
   "outputs": [
    {
     "name": "stdout",
     "output_type": "stream",
     "text": [
      "result: {'name': 'Julie'}\n",
      "input: {'name': 'John'}\n"
     ]
    }
   ],
   "source": [
    "def changeName(data, value):\n",
    "    result = {**data, 'name': value}\n",
    "    return result\n",
    "\n",
    "input = {'name': 'John'}\n",
    "result = changeName(input, 'Julie')\n",
    "print('result:', result)\n",
    "print('input:', input)"
   ]
  },
  {
   "cell_type": "markdown",
   "metadata": {
    "id": "ALavCzYzuiXV"
   },
   "source": [
    "Side effect functions - funkce s vedlejšími efekty je funkce, při svém běhu změní i hodnoty mimo tělo funkce. Velmi často jsou takové funkce i závislé na hodnotách externích proměnných. Funkce se závislostí na vnějším prostředí je velmi obtížně testovatelnou funkcí. Proto je potencionálním chybovým místem v kódu. Navíc se tyto chyby velmi špatně hledají.\n",
    "\n",
    "**Pozor**\n",
    "\n",
    "V jazyku Python lze i funkci chápat (a použít) jako proměnnou. Jinak řečeno, do názvu, který reprezentuje funkci lze uložit jinou funkci (i číslo). "
   ]
  },
  {
   "cell_type": "code",
   "execution_count": 71,
   "metadata": {
    "colab": {
     "base_uri": "https://localhost:8080/"
    },
    "id": "BTL3DkRC-EF6",
    "outputId": "7a68bff9-4717-4f0a-ac38-015911b28eaa"
   },
   "outputs": [
    {
     "name": "stdout",
     "output_type": "stream",
     "text": [
      "6\n"
     ]
    }
   ],
   "source": [
    "def add(a, b):\n",
    "    return a + b\n",
    "\n",
    "add = lambda c, d: c * d\n",
    "\n",
    "print(add(2, 3))"
   ]
  },
  {
   "cell_type": "code",
   "execution_count": 72,
   "metadata": {
    "colab": {
     "base_uri": "https://localhost:8080/"
    },
    "id": "f_TAaCLs-ZUW",
    "outputId": "f373b5b4-2ebc-4bbd-825b-961eff3f9e3a"
   },
   "outputs": [
    {
     "name": "stdout",
     "output_type": "stream",
     "text": [
      "10\n",
      "0\n"
     ]
    }
   ],
   "source": [
    "def add(a, b):\n",
    "    return a + b\n",
    "\n",
    "def sum(dataArray):\n",
    "    acc = 0\n",
    "    for item in dataArray:\n",
    "        acc = add(acc, item)\n",
    "    return acc\n",
    "\n",
    "print(sum([0, 1, 2, 3, 4]))\n",
    "add = lambda c, d: c * d # nova definice add, chovani sum se zmeni\n",
    "print(sum([0, 1, 2, 3, 4]))"
   ]
  },
  {
   "cell_type": "markdown",
   "metadata": {
    "id": "Aap_MfYEtR7b"
   },
   "source": [
    "## Principiální algoritmy pro práci s datovými strukturami"
   ]
  },
  {
   "cell_type": "markdown",
   "metadata": {
    "id": "q__aVGEwpLGg"
   },
   "source": [
    "### Předávání parametrů funkci"
   ]
  },
  {
   "cell_type": "code",
   "execution_count": 73,
   "metadata": {
    "colab": {
     "base_uri": "https://localhost:8080/"
    },
    "id": "nQpBSdM2wxUI",
    "outputId": "f86f7739-0095-4310-9daa-eac44ac06267"
   },
   "outputs": [
    {
     "name": "stdout",
     "output_type": "stream",
     "text": [
      "result: 6\n",
      "input: 5\n"
     ]
    }
   ],
   "source": [
    "def inc(value):\n",
    "    value = value + 1\n",
    "    return value\n",
    "\n",
    "input = 5\n",
    "result = inc(input)\n",
    "print('result:', result)\n",
    "print('input:', input)"
   ]
  },
  {
   "cell_type": "markdown",
   "metadata": {
    "id": "bZSKUVgbxHGj"
   },
   "source": [
    "Srovnejte s funkcí `changeName` definované výše. \n",
    "\n",
    ">\n",
    "> **Jak si vysvětlíte skutečnost, že obdobné funkce fungují odlišně?**\n",
    ">"
   ]
  },
  {
   "cell_type": "markdown",
   "metadata": {
    "id": "DPaHeFPZz6Ck"
   },
   "source": [
    "### Algoritmus třídění"
   ]
  },
  {
   "cell_type": "markdown",
   "metadata": {
    "id": "dI6jBAPGz-Xt"
   },
   "source": [
    "#### Bubble Sort"
   ]
  },
  {
   "cell_type": "markdown",
   "metadata": {
    "id": "ckUs8SLOnMh7"
   },
   "source": [
    "https://www.geeksforgeeks.org/python-program-for-bubble-sort/"
   ]
  },
  {
   "cell_type": "code",
   "execution_count": 74,
   "metadata": {
    "colab": {
     "base_uri": "https://localhost:8080/"
    },
    "id": "0cWnby3PnFhG",
    "outputId": "ffd0263b-0de3-49b0-8057-3b468a8744ac"
   },
   "outputs": [
    {
     "name": "stdout",
     "output_type": "stream",
     "text": [
      "Sorted array is:\n",
      " 11\n",
      " 12\n",
      " 22\n",
      " 25\n",
      " 34\n",
      " 64\n",
      " 90\n"
     ]
    }
   ],
   "source": [
    "# taken from https://www.geeksforgeeks.org/python-program-for-bubble-sort/\n",
    "# Python program for implementation of Bubble Sort\n",
    "\n",
    "def bubbleSort(arr):\n",
    "\tn = len(arr)\n",
    "\n",
    "\t# Traverse through all array elements\n",
    "\tfor i in range(n-1):\n",
    "\t# range(n) also work but outer loop will repeat one time more than needed.\n",
    "\n",
    "\t\t# Last i elements are already in place\n",
    "\t\tfor j in range(0, n-i-1):\n",
    "\n",
    "\t\t\t# traverse the array from 0 to n-i-1\n",
    "\t\t\t# Swap if the element found is greater\n",
    "\t\t\t# than the next element\n",
    "\t\t\tif arr[j] > arr[j + 1] :\n",
    "\t\t\t\tarr[j], arr[j + 1] = arr[j + 1], arr[j]\n",
    "\n",
    "# Driver code to test above\n",
    "arr = [64, 34, 25, 12, 22, 11, 90]\n",
    "\n",
    "bubbleSort(arr)\n",
    "\n",
    "print (\"Sorted array is:\")\n",
    "for i in range(len(arr)):\n",
    "\tprint (\"% d\" % arr[i]),\n"
   ]
  },
  {
   "cell_type": "markdown",
   "metadata": {
    "id": "_xjSGYlJnluW"
   },
   "source": [
    "#### Merge Sort"
   ]
  },
  {
   "cell_type": "markdown",
   "metadata": {
    "id": "enI4wdK7nyxx"
   },
   "source": [
    "https://www.geeksforgeeks.org/merge-sort/"
   ]
  },
  {
   "cell_type": "code",
   "execution_count": 75,
   "metadata": {
    "colab": {
     "base_uri": "https://localhost:8080/"
    },
    "id": "pwWQE7uTnmFI",
    "outputId": "39f231d6-e806-4850-b59d-33e035a89229"
   },
   "outputs": [
    {
     "name": "stdout",
     "output_type": "stream",
     "text": [
      "Sorted array is:\n",
      " 11\n",
      " 12\n",
      " 22\n",
      " 25\n",
      " 34\n",
      " 64\n",
      " 90\n"
     ]
    }
   ],
   "source": [
    "# taken from https://www.geeksforgeeks.org/merge-sort/\n",
    "# Python program for implementation of MergeSort\n",
    "def mergeSort(arr):\n",
    "    if len(arr) > 1:\n",
    "  \n",
    "         # Finding the mid of the array\n",
    "        mid = len(arr)//2\n",
    "  \n",
    "        # Dividing the array elements\n",
    "        L = arr[:mid]\n",
    "  \n",
    "        # into 2 halves\n",
    "        R = arr[mid:]\n",
    "  \n",
    "        # Sorting the first half\n",
    "        mergeSort(L)\n",
    "  \n",
    "        # Sorting the second half\n",
    "        mergeSort(R)\n",
    "  \n",
    "        i = j = k = 0\n",
    "  \n",
    "        # Copy data to temp arrays L[] and R[]\n",
    "        while i < len(L) and j < len(R):\n",
    "            if L[i] < R[j]:\n",
    "                arr[k] = L[i]\n",
    "                i += 1\n",
    "            else:\n",
    "                arr[k] = R[j]\n",
    "                j += 1\n",
    "            k += 1\n",
    "  \n",
    "        # Checking if any element was left\n",
    "        while i < len(L):\n",
    "            arr[k] = L[i]\n",
    "            i += 1\n",
    "            k += 1\n",
    "  \n",
    "        while j < len(R):\n",
    "            arr[k] = R[j]\n",
    "            j += 1\n",
    "            k += 1\n",
    "\n",
    "# Driver code to test above\n",
    "arr = [64, 34, 25, 12, 22, 11, 90]\n",
    "\n",
    "mergeSort(arr)\n",
    "\n",
    "print (\"Sorted array is:\")\n",
    "for i in range(len(arr)):\n",
    "\tprint (\"% d\" % arr[i]),\n"
   ]
  },
  {
   "cell_type": "markdown",
   "metadata": {
    "id": "p6tPj5kGoD0t"
   },
   "source": [
    "#### Shell Sort"
   ]
  },
  {
   "cell_type": "markdown",
   "metadata": {
    "id": "bZqVFfFsoG5h"
   },
   "source": [
    "https://www.geeksforgeeks.org/python-program-for-shellsort/"
   ]
  },
  {
   "cell_type": "code",
   "execution_count": 76,
   "metadata": {
    "colab": {
     "base_uri": "https://localhost:8080/"
    },
    "id": "9pihhcKnoEAd",
    "outputId": "b2e8c401-1ba3-4a3d-c784-04f6bbf411dc"
   },
   "outputs": [
    {
     "name": "stdout",
     "output_type": "stream",
     "text": [
      "Sorted array is:\n",
      " 11\n",
      " 12\n",
      " 22\n",
      " 25\n",
      " 34\n",
      " 64\n",
      " 90\n"
     ]
    }
   ],
   "source": [
    "# taken from https://www.geeksforgeeks.org/python-program-for-shellsort/ (improved)\n",
    "def shellSort(arr):\n",
    "  \n",
    "    # Start with a big gap, then reduce the gap\n",
    "    n = len(arr)\n",
    "    n = n - n % 2\n",
    "    gap = n // 2\n",
    "  \n",
    "    # Do a gapped insertion sort for this gap size.\n",
    "    # The first gap elements a[0..gap-1] are already in gapped \n",
    "    # order keep adding one more element until the entire array\n",
    "    # is gap sorted\n",
    "    while gap > 0:\n",
    "  \n",
    "        for i in range(gap, n):\n",
    "  \n",
    "            # add a[i] to the elements that have been gap sorted\n",
    "            # save a[i] in temp and make a hole at position i\n",
    "            temp = arr[i]\n",
    "  \n",
    "            # shift earlier gap-sorted elements up until the correct\n",
    "            # location for a[i] is found\n",
    "            j = i\n",
    "            while  j >= gap and arr[j-gap] >temp:\n",
    "                arr[j] = arr[j-gap]\n",
    "                j -= gap\n",
    "  \n",
    "            # put temp (the original a[i]) in its correct location\n",
    "            arr[j] = temp\n",
    "\n",
    "        if gap == 1:\n",
    "            break\n",
    "        gap = gap - gap % 2\n",
    "        gap = gap // 2\n",
    "\n",
    "# Driver code to test above\n",
    "arr = [64, 34, 25, 12, 22, 11, 90]\n",
    "\n",
    "shellSort(arr)\n",
    "\n",
    "print (\"Sorted array is:\")\n",
    "for i in range(len(arr)):\n",
    "\tprint (\"% d\" % arr[i]),"
   ]
  },
  {
   "cell_type": "markdown",
   "metadata": {
    "id": "iigl9IGer213"
   },
   "source": [
    "> **Doporučené video**\n",
    "> \n",
    "> [Srovnání algoritmů třídění](https://youtu.be/GIvjJwzrHBU?t=789)"
   ]
  },
  {
   "cell_type": "code",
   "execution_count": 77,
   "metadata": {
    "colab": {
     "base_uri": "https://localhost:8080/",
     "height": 336
    },
    "id": "LD7LgOTFsayd",
    "outputId": "743b958f-fed6-4aa4-c35f-61f018587e59"
   },
   "outputs": [
    {
     "data": {
      "text/html": [
       "<iframe width=\"560\" height=\"315\" src=\"https://www.youtube.com/embed/GIvjJwzrHBU?start=789&amp;controls=0&amp;showinfo=0\" frameborder=\"0\" allowfullscreen></iframe>"
      ],
      "text/plain": [
       "<IPython.core.display.HTML object>"
      ]
     },
     "execution_count": 77,
     "metadata": {},
     "output_type": "execute_result"
    }
   ],
   "source": [
    "YVideo('GIvjJwzrHBU', t=789)"
   ]
  },
  {
   "cell_type": "markdown",
   "metadata": {
    "id": "v0JIcmkOtVrT"
   },
   "source": [
    "### Přístup k rozsáhlým datovým strukturám"
   ]
  },
  {
   "cell_type": "markdown",
   "metadata": {
    "id": "qbwjyLxTzCK0"
   },
   "source": [
    "Hra / sázka. Pomocí deseti otázek, na které lze odpovědět ano/ne, zjistím jaké číslo z rozsahu 0-1000 (1023) si protivník myslí. Jakým způsobem?\n",
    "\n",
    "**Důsledek**\n",
    "\n",
    "> \n",
    "> Datové struktury v databázi mají primární, unikátní klíč\n",
    "> \n",
    "\n",
    "**Otázka**\n",
    "\n",
    ">\n",
    "> Kolik \"otázek\" je potřeba pro nalezení záznamu pomocí jeho ID v tabulce o velikosti 4TB s očekávanou délkou záznamu 1kB?\n",
    ">"
   ]
  },
  {
   "cell_type": "markdown",
   "metadata": {
    "id": "6rxsYPXKv4QT"
   },
   "source": [
    "Binární strom"
   ]
  },
  {
   "cell_type": "code",
   "execution_count": 78,
   "metadata": {
    "colab": {
     "base_uri": "https://localhost:8080/"
    },
    "id": "7vmtfJYV0UZU",
    "outputId": "e9b162a7-536b-45ea-c4d3-8fe3f43b2173"
   },
   "outputs": [
    {
     "name": "stdout",
     "output_type": "stream",
     "text": [
      "save a value from inteval <0; 1023>\n"
     ]
    },
    {
     "ename": "TypeError",
     "evalue": "'int' object is not callable",
     "output_type": "error",
     "traceback": [
      "\u001b[0;31m---------------------------------------------------------------------------\u001b[0m",
      "\u001b[0;31mTypeError\u001b[0m                                 Traceback (most recent call last)",
      "\u001b[0;32m<ipython-input-78-336a9d73f818>\u001b[0m in \u001b[0;36m<module>\u001b[0;34m\u001b[0m\n\u001b[1;32m     14\u001b[0m \u001b[0;34m\u001b[0m\u001b[0m\n\u001b[1;32m     15\u001b[0m \u001b[0mprint\u001b[0m\u001b[0;34m(\u001b[0m\u001b[0;34m'save a value from inteval <0; 1023>'\u001b[0m\u001b[0;34m)\u001b[0m\u001b[0;34m\u001b[0m\u001b[0;34m\u001b[0m\u001b[0m\n\u001b[0;32m---> 16\u001b[0;31m \u001b[0mval\u001b[0m \u001b[0;34m=\u001b[0m \u001b[0mquess\u001b[0m\u001b[0;34m(\u001b[0m\u001b[0;36m0\u001b[0m\u001b[0;34m,\u001b[0m \u001b[0;36m1023\u001b[0m\u001b[0;34m)\u001b[0m\u001b[0;34m\u001b[0m\u001b[0;34m\u001b[0m\u001b[0m\n\u001b[0m\u001b[1;32m     17\u001b[0m \u001b[0mprint\u001b[0m\u001b[0;34m(\u001b[0m\u001b[0mval\u001b[0m\u001b[0;34m)\u001b[0m\u001b[0;34m\u001b[0m\u001b[0;34m\u001b[0m\u001b[0m\n",
      "\u001b[0;32m<ipython-input-78-336a9d73f818>\u001b[0m in \u001b[0;36mquess\u001b[0;34m(low, high)\u001b[0m\n\u001b[1;32m      4\u001b[0m \u001b[0;34m\u001b[0m\u001b[0m\n\u001b[1;32m      5\u001b[0m     \u001b[0mmiddle\u001b[0m \u001b[0;34m=\u001b[0m \u001b[0;34m(\u001b[0m\u001b[0mlow\u001b[0m \u001b[0;34m+\u001b[0m \u001b[0mhigh\u001b[0m\u001b[0;34m)\u001b[0m \u001b[0;34m//\u001b[0m \u001b[0;36m2\u001b[0m\u001b[0;34m\u001b[0m\u001b[0;34m\u001b[0m\u001b[0m\n\u001b[0;32m----> 6\u001b[0;31m     \u001b[0mq\u001b[0m \u001b[0;34m=\u001b[0m \u001b[0minput\u001b[0m\u001b[0;34m(\u001b[0m\u001b[0;34mf'it is lower than {middle}? '\u001b[0m\u001b[0;34m)\u001b[0m\u001b[0;34m\u001b[0m\u001b[0;34m\u001b[0m\u001b[0m\n\u001b[0m\u001b[1;32m      7\u001b[0m     \u001b[0;32mif\u001b[0m \u001b[0mq\u001b[0m \u001b[0;32min\u001b[0m \u001b[0;34m[\u001b[0m\u001b[0;34m'1'\u001b[0m\u001b[0;34m,\u001b[0m \u001b[0;34m'A'\u001b[0m\u001b[0;34m,\u001b[0m \u001b[0;34m'a'\u001b[0m\u001b[0;34m,\u001b[0m \u001b[0;34m'Y'\u001b[0m\u001b[0;34m,\u001b[0m \u001b[0;34m'y'\u001b[0m\u001b[0;34m]\u001b[0m\u001b[0;34m:\u001b[0m\u001b[0;34m\u001b[0m\u001b[0;34m\u001b[0m\u001b[0m\n\u001b[1;32m      8\u001b[0m         \u001b[0mresult\u001b[0m \u001b[0;34m=\u001b[0m \u001b[0mquess\u001b[0m\u001b[0;34m(\u001b[0m\u001b[0mlow\u001b[0m\u001b[0;34m,\u001b[0m \u001b[0mmiddle\u001b[0m \u001b[0;34m-\u001b[0m \u001b[0;36m1\u001b[0m\u001b[0;34m)\u001b[0m\u001b[0;34m\u001b[0m\u001b[0;34m\u001b[0m\u001b[0m\n",
      "\u001b[0;31mTypeError\u001b[0m: 'int' object is not callable"
     ]
    }
   ],
   "source": [
    "def quess(low, high):\n",
    "    if low == high:\n",
    "        return f'it is {low}'\n",
    "\n",
    "    middle = (low + high) // 2\n",
    "    q = input(f'it is lower than {middle}? ')\n",
    "    if q in ['1', 'A', 'a', 'Y', 'y']:\n",
    "        result = quess(low, middle - 1)\n",
    "    else:\n",
    "        result = quess(middle, high)\n",
    "\n",
    "    return result\n",
    "\n",
    "\n",
    "print('save a value from inteval <0; 1023>')\n",
    "val = quess(0, 1023)\n",
    "print(val)"
   ]
  },
  {
   "cell_type": "code",
   "execution_count": 79,
   "metadata": {
    "colab": {
     "base_uri": "https://localhost:8080/",
     "height": 36
    },
    "id": "aA0UGkfqV2l7",
    "outputId": "e0e770ac-9ff4-4f61-8d61-3d0eabf9caf4"
   },
   "outputs": [
    {
     "data": {
      "text/plain": [
       "'It is 421'"
      ]
     },
     "execution_count": 79,
     "metadata": {},
     "output_type": "execute_result"
    }
   ],
   "source": [
    "def createDecisionTree(low, high):\n",
    "    if low == high:\n",
    "        return lambda value: f'It is {value}'\n",
    "    else:\n",
    "        middle = (low + high) // 2\n",
    "        #print(low, middle, high)\n",
    "        leftBranch = createDecisionTree(low, middle)\n",
    "        rightBranch = createDecisionTree(middle + 1, high)\n",
    "        return lambda value: leftBranch(value) if value < middle else rightBranch(value)\n",
    "\n",
    "decisionTree = createDecisionTree(0, 1023)\n",
    "decisionTree(421)"
   ]
  },
  {
   "cell_type": "code",
   "execution_count": 80,
   "metadata": {
    "colab": {
     "base_uri": "https://localhost:8080/"
    },
    "id": "vwZXX9LnY5ei",
    "outputId": "2031e80e-a5ea-4ce5-f590-15f9a47b1278"
   },
   "outputs": [
    {
     "name": "stdout",
     "output_type": "stream",
     "text": [
      "0 -> 0\n",
      "25 -> 1\n",
      "59 -> 2\n",
      "123 -> 3\n",
      "785 -> 4\n",
      "899 -> 5\n",
      "1000 -> 6\n"
     ]
    }
   ],
   "source": [
    "def createFinder(sortedList):\n",
    "    lastIndex = len(sortedList) - 1\n",
    "    if lastIndex == 0:\n",
    "        return lambda value, offset = 0: offset\n",
    "    else:\n",
    "        middleIndex = len(sortedList) // 2 \n",
    "        #print(0, middleIndex, lastIndex, sortedList)\n",
    "        valueAt = sortedList[middleIndex]\n",
    "        leftFinder = createFinder(sortedList[:middleIndex])\n",
    "        rightFinder = createFinder(sortedList[middleIndex:])\n",
    "        #return lambda value, offset = 0: rightFinder(value, offset + middleIndex) if value > valueAt else leftFinder(value, offset)\n",
    "        return lambda value, offset = 0:  leftFinder(value, offset) if value < valueAt else rightFinder(value, offset + middleIndex)\n",
    "\n",
    "inputList = [0, 25, 59, 123, 785, 899, 1000]\n",
    "finder = createFinder(inputList)\n",
    "for item in inputList:\n",
    "    print(item, '->', finder(item))"
   ]
  },
  {
   "cell_type": "code",
   "execution_count": 81,
   "metadata": {
    "colab": {
     "base_uri": "https://localhost:8080/"
    },
    "id": "KrWEg9KVeOrQ",
    "outputId": "c337d037-23ee-47d8-d178-785376e99edb"
   },
   "outputs": [
    {
     "name": "stdout",
     "output_type": "stream",
     "text": [
      "5.34 µs ± 56.2 ns per loop (mean ± std. dev. of 7 runs, 100000 loops each)\n"
     ]
    }
   ],
   "source": [
    "%%timeit\n",
    "for item in inputList:\n",
    "    _ = finder(item)"
   ]
  },
  {
   "cell_type": "code",
   "execution_count": 82,
   "metadata": {
    "colab": {
     "base_uri": "https://localhost:8080/"
    },
    "id": "u0lPljU0l6le",
    "outputId": "566274e5-ae0e-439c-f8a0-3a0255985ae5"
   },
   "outputs": [
    {
     "name": "stdout",
     "output_type": "stream",
     "text": [
      "1.17 µs ± 4.78 ns per loop (mean ± std. dev. of 7 runs, 1000000 loops each)\n"
     ]
    }
   ],
   "source": [
    "%%timeit\n",
    "for item in inputList:\n",
    "    _ = inputList.index(item)"
   ]
  },
  {
   "cell_type": "markdown",
   "metadata": {
    "id": "OYNs37sJmZZ5"
   },
   "source": [
    "Vytvořte vyhledávání bez využití `index`. Kód doplňte do následující funkce."
   ]
  },
  {
   "cell_type": "code",
   "execution_count": 83,
   "metadata": {
    "colab": {
     "base_uri": "https://localhost:8080/"
    },
    "id": "xivPe8I3mi35",
    "outputId": "4d22302d-b067-40e9-a970-af9ac7b40b15"
   },
   "outputs": [
    {
     "name": "stdout",
     "output_type": "stream",
     "text": [
      "2\n",
      "2\n",
      "0 -> 0\n",
      "1 -> 1\n",
      "2 -> 2\n",
      "3 -> 3\n"
     ]
    }
   ],
   "source": [
    "def myIndex(data=[0, 1, 2, 3], value=2):\n",
    "    for index, item in zip(data, range(len(data))):\n",
    "        if item == value:\n",
    "            return index\n",
    "\n",
    "print([0, 1, 2, 3].index(2))\n",
    "print(myIndex())\n",
    "data=[0, 1, 2, 3]\n",
    "for item in data:\n",
    "    print(item, '->', myIndex(data, item))"
   ]
  },
  {
   "cell_type": "markdown",
   "metadata": {
    "id": "ArjteUpwm34j"
   },
   "source": [
    "Ověřte si rychlost implementovaného algoritmu"
   ]
  },
  {
   "cell_type": "code",
   "execution_count": 84,
   "metadata": {
    "colab": {
     "base_uri": "https://localhost:8080/"
    },
    "id": "PSauXvPDmpBH",
    "outputId": "0ab8f5ea-7384-4a92-eb78-a2281dc68b05"
   },
   "outputs": [
    {
     "name": "stdout",
     "output_type": "stream",
     "text": [
      "9.06 µs ± 100 ns per loop (mean ± std. dev. of 7 runs, 100000 loops each)\n"
     ]
    }
   ],
   "source": [
    "%%timeit\n",
    "for item in inputList:\n",
    "    _ = myIndex(inputList, item)"
   ]
  },
  {
   "cell_type": "markdown",
   "metadata": {
    "id": "7uvsk8XUmvK5"
   },
   "source": [
    "## Komplexní příklad"
   ]
  },
  {
   "cell_type": "markdown",
   "metadata": {},
   "source": [
    "### Načtení dat"
   ]
  },
  {
   "cell_type": "code",
   "execution_count": 85,
   "metadata": {},
   "outputs": [],
   "source": [
    "import json\n",
    "\n",
    "with open('rozvrh/data.json') as inputFile:\n",
    "    data = json.load(inputFile)"
   ]
  },
  {
   "cell_type": "markdown",
   "metadata": {},
   "source": [
    "### Určení úplné velikosti v paměti"
   ]
  },
  {
   "cell_type": "code",
   "execution_count": 86,
   "metadata": {},
   "outputs": [],
   "source": [
    "import sys\n",
    "\n",
    "def get_size(obj, seen=None):\n",
    "    \"\"\"Recursively finds size of objects\"\"\"\n",
    "    size = sys.getsizeof(obj)\n",
    "    if seen is None:\n",
    "        seen = set()\n",
    "    obj_id = id(obj)\n",
    "    if obj_id in seen:\n",
    "        return 0\n",
    "    # Important mark as seen *before* entering recursion to gracefully handle\n",
    "    # self-referential objects\n",
    "    seen.add(obj_id)\n",
    "    if isinstance(obj, dict):\n",
    "        size += sum([get_size(v, seen) for v in obj.values()])\n",
    "        size += sum([get_size(k, seen) for k in obj.keys()])\n",
    "    elif hasattr(obj, '__dict__'):\n",
    "        size += get_size(obj.__dict__, seen)\n",
    "    elif hasattr(obj, '__iter__') and not isinstance(obj, (str, bytes, bytearray)):\n",
    "        size += sum([get_size(i, seen) for i in obj])\n",
    "    return size"
   ]
  },
  {
   "cell_type": "code",
   "execution_count": 87,
   "metadata": {},
   "outputs": [
    {
     "data": {
      "text/plain": [
       "640"
      ]
     },
     "execution_count": 87,
     "metadata": {},
     "output_type": "execute_result"
    }
   ],
   "source": [
    "get_size(data)"
   ]
  },
  {
   "cell_type": "markdown",
   "metadata": {},
   "source": [
    "### Prvotní náhled na data"
   ]
  },
  {
   "cell_type": "code",
   "execution_count": 88,
   "metadata": {},
   "outputs": [
    {
     "data": {
      "text/plain": [
       "dict_keys(['events', 'occurrencesDays', 'timeslots', 'colors', 'subjects', 'departments', 'groups', 'entryYears', 'students', 'teachers', 'classrooms', 'areas', 'categories', 'spheres', 'lessonForms'])"
      ]
     },
     "execution_count": 88,
     "metadata": {},
     "output_type": "execute_result"
    }
   ],
   "source": [
    "data.keys()"
   ]
  },
  {
   "cell_type": "code",
   "execution_count": 89,
   "metadata": {},
   "outputs": [
    {
     "name": "stdout",
     "output_type": "stream",
     "text": [
      "255\n",
      "{'id': 'C46070D0-9837-11EB-9B9F-AD3400000000', 'name': '11-2BO', 'entryYearId': 2021}\n",
      "{'id': '48D17850-9838-11EB-9B9F-AD3400000000', 'name': '11-2BO-C-K', 'entryYearId': 2021}\n",
      "{'id': '15168500-9838-11EB-9B9F-AD3400000000', 'name': '11-2BO-K', 'entryYearId': 2021}\n",
      "{'id': '7DEF7A90-7769-11EB-86B6-AD3400000000', 'name': '11-3BO', 'entryYearId': 2021}\n",
      "{'id': '9D343D50-7769-11EB-86B6-AD3400000000', 'name': '11-3BO-K', 'entryYearId': 2021}\n",
      "{'id': 'B07D4A70-7767-11EB-86B6-AD3400000000', 'name': '11-5RPOS1', 'entryYearId': 2021}\n",
      "{'id': '52ACC2D0-7768-11EB-86B6-AD3400000000', 'name': '11-5RPOS2', 'entryYearId': 2021}\n",
      "{'id': '71DCEC20-7768-11EB-86B6-AD3400000000', 'name': '11-5RPOS3', 'entryYearId': 2021}\n",
      "{'id': '8D49A4D0-7768-11EB-86B6-AD3400000000', 'name': '11-5RPOS4', 'entryYearId': 2021}\n",
      "{'id': 'A81BCB30-7768-11EB-86B6-AD3400000000', 'name': '11-5RPOS5', 'entryYearId': 2021}\n",
      "{'id': 'C7AB5290-7768-11EB-86B6-AD3400000000', 'name': '11-5RPOS6', 'entryYearId': 2021}\n",
      "{'id': 'EDF9B040-7768-11EB-86B6-AD3400000000', 'name': '11-5RPOS7', 'entryYearId': 2021}\n"
     ]
    }
   ],
   "source": [
    "groups = data['groups']\n",
    "print(len(groups))\n",
    "for index, item in enumerate(groups):\n",
    "    print(item)\n",
    "    if index > 10:\n",
    "        break"
   ]
  },
  {
   "cell_type": "markdown",
   "metadata": {},
   "source": [
    "> **Co byste na seznamu skupin vylepšili?**"
   ]
  },
  {
   "cell_type": "code",
   "execution_count": 90,
   "metadata": {},
   "outputs": [
    {
     "name": "stdout",
     "output_type": "stream",
     "text": [
      "{'id': 1, 'name': 'přednáška', 'shortName': 'P', 'colorId': 2}\n",
      "{'id': 2, 'name': 'cvičení', 'shortName': 'CV', 'colorId': 17}\n",
      "{'id': 3, 'name': 'seminář', 'shortName': 'SEM', 'colorId': 6}\n",
      "{'id': 4, 'name': 'laboratorní cvičení', 'shortName': 'LAB', 'colorId': 13}\n",
      "{'id': 5, 'name': 'polní výcvik', 'shortName': 'PV', 'colorId': 4}\n",
      "{'id': 6, 'name': 'exkurze', 'shortName': 'EX', 'colorId': 10}\n",
      "{'id': 7, 'name': 'praxe', 'shortName': 'PX', 'colorId': 10}\n",
      "{'id': 8, 'name': 'kurz', 'shortName': 'KRZ', 'colorId': 8}\n",
      "{'id': 9, 'name': 'stáž', 'shortName': 'STŽ', 'colorId': 10}\n",
      "{'id': 11, 'name': 'terén', 'shortName': 'TER', 'colorId': 4}\n",
      "{'id': 12, 'name': 'samostatná práce', 'shortName': 'SMP', 'colorId': 18}\n",
      "{'id': 13, 'name': 'konzultace', 'shortName': 'KON', 'colorId': 6}\n"
     ]
    }
   ],
   "source": [
    "lessonForms = data['lessonForms']\n",
    "for index, item in enumerate(lessonForms):\n",
    "    print(item)\n",
    "    if index > 10:\n",
    "        break"
   ]
  },
  {
   "cell_type": "code",
   "execution_count": 91,
   "metadata": {},
   "outputs": [
    {
     "name": "stdout",
     "output_type": "stream",
     "text": [
      "{'id': 1, 'name': 'studium'}\n",
      "{'id': 2, 'name': 'ostatní'}\n"
     ]
    }
   ],
   "source": [
    "spheres = data['spheres']\n",
    "for index, item in enumerate(spheres):\n",
    "    print(item)\n",
    "    if index > 10:\n",
    "        break"
   ]
  },
  {
   "cell_type": "code",
   "execution_count": 92,
   "metadata": {},
   "outputs": [
    {
     "name": "stdout",
     "output_type": "stream",
     "text": [
      "{'id': '2D2B1C90-F4FF-11EB-9B74-520D00000000', 'typeId': 'F00CB650-9768-11EB-87D2-030800000000', 'startTime': {'hours': 14, 'minutes': 30}, 'endTime': {'hours': 16, 'minutes': 0}, 'dateCode': '2021-11-15', 'date': {'day': 15, 'month': 11, 'year': 2021}, 'categoryId': 1, 'subjectId': 32269, 'subjectName': 'Letecké elektronické systémy II', 'departmentId': 441, 'departmentName': 'FVT-K206', 'topic': '3. Syntéza kmitočtu ', 'topicId': 62645, 'masterId': '62645/2', 'timeslotsId': 1, 'timeslotsName': 'BR', 'lessonOrder': 8, 'lessonFormId': 2, 'lessonFormName': 'CV', 'lessonUnit': 45, 'lessonsCount': 2, 'groupsIds': ['A8CFD4D0-8CA4-11EB-BA48-520D00000000'], 'groupsNames': ['23-3LT-AV-C'], 'groupsEntryYearsIds': [], 'classroomsIds': [331], 'classroomsNames': ['Č1/120'], 'classroomsAreasIds': [2], 'teachersIds': [540], 'teachersNames': ['Němeček, Jiří'], 'teachersDepartmentsIds': [441], 'isLocked': True}\n"
     ]
    }
   ],
   "source": [
    "print(data['events'][0])"
   ]
  },
  {
   "cell_type": "markdown",
   "metadata": {},
   "source": [
    "> **Najděte duplicitu v datech**"
   ]
  },
  {
   "cell_type": "markdown",
   "metadata": {},
   "source": [
    "### Datové struktury v datech :)"
   ]
  },
  {
   "cell_type": "markdown",
   "metadata": {},
   "source": [
    "Elementární datové typy:\n",
    "\n",
    "- Čísla (např. id u typu lekce)\n",
    "- Znaky / řetezce (např. name u typu lekce)\n",
    "\n",
    "Komplexní datové struktury:\n",
    "\n",
    "- List (např. seznam typů lekcí)\n",
    "- Dictionary (např. type lekce)\n",
    "- Strom? Strom!\n",
    "- Graf? Graf!\n",
    "- Třída?"
   ]
  },
  {
   "cell_type": "markdown",
   "metadata": {},
   "source": [
    "### Modely datových struktur"
   ]
  },
  {
   "cell_type": "code",
   "execution_count": 93,
   "metadata": {},
   "outputs": [
    {
     "name": "stdout",
     "output_type": "stream",
     "text": [
      "Requirement already satisfied: sqlalchemy in /opt/conda/lib/python3.8/site-packages (1.3.22)\n"
     ]
    }
   ],
   "source": [
    "!pip install sqlalchemy"
   ]
  },
  {
   "cell_type": "code",
   "execution_count": 94,
   "metadata": {},
   "outputs": [],
   "source": [
    "from sqlalchemy import Column, String, Integer, Boolean, ForeignKey\n",
    "from sqlalchemy.orm import relationship, backref\n",
    "from sqlalchemy.ext.declarative import declarative_base\n",
    "\n",
    "Base = declarative_base()"
   ]
  },
  {
   "cell_type": "code",
   "execution_count": 95,
   "metadata": {},
   "outputs": [
    {
     "data": {
      "text/plain": [
       "{'id': 'C46070D0-9837-11EB-9B9F-AD3400000000',\n",
       " 'name': '11-2BO',\n",
       " 'entryYearId': 2021}"
      ]
     },
     "execution_count": 95,
     "metadata": {},
     "output_type": "execute_result"
    }
   ],
   "source": [
    "groups = data['groups']\n",
    "groups[0]"
   ]
  },
  {
   "cell_type": "code",
   "execution_count": 96,
   "metadata": {},
   "outputs": [],
   "source": [
    "class Group(Base):\n",
    "    __tablename__ = 'groups'\n",
    "\n",
    "    id = Column(String(36), primary_key=True)\n",
    "    name = Column(String(200), nullable=False)\n",
    "    entryYearId = Column(Integer, nullable=False)"
   ]
  },
  {
   "cell_type": "code",
   "execution_count": 97,
   "metadata": {},
   "outputs": [
    {
     "data": {
      "text/plain": [
       "{'id': 1, 'name': 'přednáška', 'shortName': 'P', 'colorId': 2}"
      ]
     },
     "execution_count": 97,
     "metadata": {},
     "output_type": "execute_result"
    }
   ],
   "source": [
    "lessonForms = data['lessonForms']\n",
    "lessonForms[0]"
   ]
  },
  {
   "cell_type": "code",
   "execution_count": 98,
   "metadata": {},
   "outputs": [],
   "source": [
    "class LessonForm(Base):\n",
    "    __tablename__ = 'lessonforms'\n",
    "\n",
    "    id = Column(Integer, primary_key=True)\n",
    "    name = Column(String(30), nullable=False)\n",
    "    shortName = Column(String(10), nullable=False)\n",
    "    colorId = Column(Integer, nullable=False)"
   ]
  },
  {
   "cell_type": "code",
   "execution_count": 99,
   "metadata": {},
   "outputs": [
    {
     "data": {
      "text/plain": [
       "{'id': 1,\n",
       " 'name': 'Brno',\n",
       " 'shortName': 'BR',\n",
       " 'lessonUnit': 45,\n",
       " 'slotUnit': 90,\n",
       " 'definition': [480, 20, 20, 80, 20, 40],\n",
       " 'default': True}"
      ]
     },
     "execution_count": 99,
     "metadata": {},
     "output_type": "execute_result"
    }
   ],
   "source": [
    "timeslots = data['timeslots']\n",
    "timeslots[0]"
   ]
  },
  {
   "cell_type": "code",
   "execution_count": 100,
   "metadata": {},
   "outputs": [],
   "source": [
    "class TimeSlot(Base):\n",
    "    __tablename__ = 'timeslots'\n",
    "\n",
    "    id = Column(Integer, primary_key=True)\n",
    "    name = Column(String(30), nullable=False)\n",
    "    shortName = Column(String(10), nullable=False)\n",
    "    lessonUnit = Column(Integer, nullable=False)\n",
    "    slotUnit = Column(Integer, nullable=False)\n",
    "    definition = Column(String(200), nullable=False)\n",
    "    default = Column(Boolean, nullable=False)"
   ]
  },
  {
   "cell_type": "markdown",
   "metadata": {},
   "source": [
    "### FastAPI :)"
   ]
  },
  {
   "cell_type": "code",
   "execution_count": 101,
   "metadata": {},
   "outputs": [
    {
     "name": "stdout",
     "output_type": "stream",
     "text": [
      "Requirement already satisfied: fastapi in /opt/conda/lib/python3.8/site-packages (0.65.1)\n",
      "Requirement already satisfied: starlette==0.14.2 in /opt/conda/lib/python3.8/site-packages (from fastapi) (0.14.2)\n",
      "Requirement already satisfied: pydantic!=1.7,!=1.7.1,!=1.7.2,!=1.7.3,!=1.8,!=1.8.1,<2.0.0,>=1.6.2 in /opt/conda/lib/python3.8/site-packages (from fastapi) (1.8.2)\n",
      "Requirement already satisfied: typing-extensions>=3.7.4.3 in /opt/conda/lib/python3.8/site-packages (from pydantic!=1.7,!=1.7.1,!=1.7.2,!=1.7.3,!=1.8,!=1.8.1,<2.0.0,>=1.6.2->fastapi) (3.7.4.3)\n"
     ]
    }
   ],
   "source": [
    "!pip install fastapi"
   ]
  },
  {
   "cell_type": "code",
   "execution_count": 102,
   "metadata": {},
   "outputs": [],
   "source": [
    "import uvicorn\n",
    "from fastapi import FastAPI\n",
    "\n",
    "app = FastAPI()#root_path='/api')\n",
    "\n",
    "def run():\n",
    "    uvicorn.run(app, port=9992, host='0.0.0.0', root_path='')"
   ]
  },
  {
   "cell_type": "code",
   "execution_count": 103,
   "metadata": {},
   "outputs": [],
   "source": [
    "# Code in this cell is just for (re)starting the API on a Process, and other compatibility stuff with Jupyter cells.\n",
    "# Just ignore it!\n",
    "\n",
    "from multiprocessing import Process\n",
    "from wait4it import wait_for\n",
    "\n",
    "_api_process = None\n",
    "\n",
    "def start_api(runNew=True):\n",
    "    \"\"\"Stop the API if running; Start the API; Wait until API (port) is available (reachable)\"\"\"\n",
    "    global _api_process\n",
    "    if _api_process:\n",
    "        _api_process.terminate()\n",
    "        _api_process.join()\n",
    "    \n",
    "    if runNew:\n",
    "        _api_process = Process(target=run, daemon=True)\n",
    "        _api_process.start()\n",
    "        wait_for(port=9992)\n",
    "\n",
    "def delete_all_routes():\n",
    "    rr = [*app.routes]\n",
    "    for item in rr:\n",
    "        app.routes.remove(item)"
   ]
  },
  {
   "cell_type": "markdown",
   "metadata": {},
   "source": [
    "Funkce pro vytvoření endpointu pro přístup k prvkům uloženým v listu pod klíčem."
   ]
  },
  {
   "cell_type": "code",
   "execution_count": 104,
   "metadata": {},
   "outputs": [],
   "source": [
    "from fastapi import HTTPException\n",
    "def createEndPoint(dataSource, itemName, idName, app=app):\n",
    "    subData = dataSource[itemName]\n",
    "    ids = [str(item[idName]) for item in subData]\n",
    "    @app.get(f'/{itemName}' + '/{id}')\n",
    "    async def resultGet(id):\n",
    "        try:\n",
    "            indexOf = ids.index(str(id))\n",
    "        except ValueError:\n",
    "            raise HTTPException(status_code=404, detail=\"Item not found\")\n",
    "        return subData[indexOf]\n",
    "    \n",
    "    @app.get(f'/{itemName}/')\n",
    "    async def resultGetAll(skip: int = 0, limit: int = 10):\n",
    "        return subData[skip : skip + limit]"
   ]
  },
  {
   "cell_type": "markdown",
   "metadata": {},
   "source": [
    "Funkce pro přeskočení stanoveného počtu prvků a funkce pro omezení na stanovený počet prvků (v enumerovatelném objektu)."
   ]
  },
  {
   "cell_type": "code",
   "execution_count": 105,
   "metadata": {},
   "outputs": [
    {
     "name": "stdout",
     "output_type": "stream",
     "text": [
      "[10, 11, 12, 13, 14, 15, 16, 17, 18, 19]\n"
     ]
    }
   ],
   "source": [
    "def skipThem(data, skip):\n",
    "    iteratedData = iter(data)\n",
    "    if skip > 0: # pozor na nulu, bez tohoto testu by doslo ke zniceni sekvence\n",
    "        for index, item in enumerate(iteratedData):\n",
    "            if index == skip - 1:\n",
    "                break\n",
    "    \n",
    "    for item in iteratedData:\n",
    "        yield item\n",
    "            \n",
    "def takeThem(data, take):\n",
    "    for index, item in enumerate(data):\n",
    "        yield item\n",
    "        if index == take - 1:\n",
    "            break    \n",
    "            \n",
    "inputData = list(range(100))\n",
    "servedData = takeThem(skipThem(inputData, 10), 10)\n",
    "print(list(servedData))"
   ]
  },
  {
   "cell_type": "markdown",
   "metadata": {},
   "source": [
    "Funkce, která vytvoří pro `app` endpoint typu GET na adrese definované parametery vnější funkce `itemName` a `filterItemName`. Tyto dva parametry definují cestu a jsou definovány předem. Dále je zde parametr vnitřní funkce `value`, jehož hodnota je dána požadavkem uživatele. Ve vnitřní funkci je provedeno hledání položek, jejichž key s názvem `filterName` má hodnotu `value`. Seznam je dále limitován a výsledek je vrácen. FastAPI zabezpečí konverzi do datového paketu, který je odeslán jako odpověď na požadavek uživatele."
   ]
  },
  {
   "cell_type": "code",
   "execution_count": 106,
   "metadata": {},
   "outputs": [],
   "source": [
    "def createFilteredEndPointExact(dataSource, itemName, idName, filterItemName, app=app):\n",
    "    subData = dataSource[itemName]\n",
    "    ids = [str(item[idName]) for item in subData]\n",
    "\n",
    "    @app.get(f'/{itemName}/{filterItemName}' + '/{value}')\n",
    "    async def resultGetAll(value, skip: int = 0, limit: int = 10):\n",
    "        filterFunc = lambda item: item[filterItemName] == value\n",
    "        filteredData =  filter(filterFunc, subData)\n",
    "        skippedData = skipThem(filteredData, skip)\n",
    "        limitedData = takeThem(skippedData, limit)\n",
    "        return list(limitedData)\n",
    "    "
   ]
  },
  {
   "cell_type": "markdown",
   "metadata": {},
   "source": [
    "Obdobně jako v předchozí části, jen jen testováno, zda pole uložené pod klíčem `filterItemName` obsahuje hodnotu `value`."
   ]
  },
  {
   "cell_type": "code",
   "execution_count": 107,
   "metadata": {},
   "outputs": [],
   "source": [
    "def createFilteredEndPointCollection(dataSource, itemName, filterItemName, app=app):\n",
    "    subData = dataSource[itemName]\n",
    "\n",
    "    @app.get(f'/{itemName}/{filterItemName}' + '/{value}')\n",
    "    async def resultGetAll(value, skip: int = 0, limit: int = 10):\n",
    "        f'Filter from source {itemName} by value. It is checked if value is in {filterItemName}'\n",
    "        #print(f'query on {itemName}.{filterItemName} for value \"{value}\"')\n",
    "        filterFunc = lambda item: value in item[filterItemName]\n",
    "        filteredData =  filter(filterFunc, subData)\n",
    "        skippedData = skipThem(filteredData, skip)\n",
    "        limitedData = takeThem(skippedData, limit)\n",
    "        #result = list(limitedData)\n",
    "        #print(result)\n",
    "        return limitedData"
   ]
  },
  {
   "cell_type": "markdown",
   "metadata": {},
   "source": [
    "Obnovení dat / nahrání dat"
   ]
  },
  {
   "cell_type": "code",
   "execution_count": 108,
   "metadata": {},
   "outputs": [
    {
     "name": "stdout",
     "output_type": "stream",
     "text": [
      "data[events]\n",
      "data[occurrencesDays]\n",
      "data[timeslots]\n",
      "data[colors]\n",
      "data[subjects]\n",
      "data[departments]\n",
      "data[groups]\n",
      "data[entryYears]\n",
      "data[students]\n",
      "data[teachers]\n",
      "data[classrooms]\n",
      "data[areas]\n",
      "data[categories]\n",
      "data[spheres]\n",
      "data[lessonForms]\n"
     ]
    }
   ],
   "source": [
    "with open('rozvrh/data.json') as inputFile:\n",
    "    data = json.load(inputFile)\n",
    "for key, value in data.items():\n",
    "    print(f'data[{key}]')"
   ]
  },
  {
   "cell_type": "markdown",
   "metadata": {},
   "source": [
    "Definice App, endpointů a spuštění API."
   ]
  },
  {
   "cell_type": "code",
   "execution_count": 109,
   "metadata": {},
   "outputs": [
    {
     "name": "stdout",
     "output_type": "stream",
     "text": [
      "Adding an endpoint for query events.teachersDepartmentsIds\n",
      "Adding an endpoint for query events.teachersIds\n",
      "Adding an endpoint for query events.groupsIds\n",
      "Adding an endpoint for query events.groupsNames\n"
     ]
    },
    {
     "name": "stderr",
     "output_type": "stream",
     "text": [
      "INFO:     Started server process [123]\n",
      "INFO:     Waiting for application startup.\n",
      "INFO:     Application startup complete.\n",
      "INFO:     Uvicorn running on http://0.0.0.0:9992 (Press CTRL+C to quit)\n",
      "INFO:     Shutting down\n",
      "INFO:     Waiting for application shutdown.\n",
      "INFO:     Application shutdown complete.\n",
      "INFO:     Finished server process [123]\n"
     ]
    }
   ],
   "source": [
    "#delete_all_routes()\n",
    "app = FastAPI()\n",
    "for key, value in data.items():\n",
    "    createEndPoint(dataSource=data, itemName=key, idName='id', app=app)\n",
    "\n",
    "filtersDescriptionArray = {\n",
    "    'events': ['teachersDepartmentsIds', 'teachersIds', 'groupsIds', 'groupsNames']\n",
    "}\n",
    "for key, filteringItems in filtersDescriptionArray.items():\n",
    "    for item in filteringItems:\n",
    "        print(f'Adding an endpoint for query events.{item}')\n",
    "        createFilteredEndPointCollection(dataSource=data, itemName='events', filterItemName=item, app=app)\n",
    "        \n",
    "start_api(runNew=True)"
   ]
  },
  {
   "cell_type": "code",
   "execution_count": 110,
   "metadata": {},
   "outputs": [],
   "source": [
    "start_api(runNew=False)"
   ]
  },
  {
   "cell_type": "code",
   "execution_count": 112,
   "metadata": {},
   "outputs": [
    {
     "name": "stdout",
     "output_type": "stream",
     "text": [
      "query on events.groupsNames for value \"23-5KB\"\n"
     ]
    }
   ],
   "source": [
    "def createFilteredEndPointCollectionTest(dataSource, itemName, filterItemName):\n",
    "    subData = dataSource[itemName]\n",
    "\n",
    "    def resultGetAll(value, skip: int = 0, limit: int = 10):\n",
    "        f'Filter from source {itemName} by value. It is checked if value is in {filterItemName}'\n",
    "        print(f'query on {itemName}.{filterItemName} for value \"{value}\"')\n",
    "        filterFunc = lambda item: value in item[filterItemName]\n",
    "        filteredData =  filter(filterFunc, subData)\n",
    "        skippedData = skipThem(filteredData, skip)\n",
    "        limitedData = takeThem(skippedData, limit)\n",
    "        result = list(limitedData)\n",
    "        #print(result)\n",
    "        return result \n",
    "    return resultGetAll\n",
    "\n",
    "allData = createFilteredEndPointCollectionTest(data, 'events', 'groupsNames')('23-5KB')\n",
    "#print(allData)"
   ]
  },
  {
   "cell_type": "markdown",
   "metadata": {},
   "source": [
    "### FastAPI - SVG"
   ]
  },
  {
   "cell_type": "code",
   "execution_count": 119,
   "metadata": {},
   "outputs": [
    {
     "name": "stderr",
     "output_type": "stream",
     "text": [
      "INFO:     Started server process [184]\n",
      "INFO:     Waiting for application startup.\n",
      "INFO:     Application startup complete.\n",
      "INFO:     Uvicorn running on http://0.0.0.0:9992 (Press CTRL+C to quit)\n"
     ]
    },
    {
     "name": "stdout",
     "output_type": "stream",
     "text": [
      "INFO:     172.18.0.1:60228 - \"GET /svg HTTP/1.1\" 200 OK\n"
     ]
    },
    {
     "name": "stderr",
     "output_type": "stream",
     "text": [
      "INFO:     Shutting down\n",
      "INFO:     Waiting for application shutdown.\n",
      "INFO:     Application shutdown complete.\n",
      "INFO:     Finished server process [184]\n"
     ]
    }
   ],
   "source": [
    "from fastapi.responses import Response\n",
    "import fastapi.responses \n",
    "\n",
    "app = FastAPI()\n",
    "\n",
    "@app.get('/svg', response_class=HTMLResponse)\n",
    "async def resultGet():\n",
    "    data = \"\"\"\n",
    "<svg width=\"960\" height=\"400\" xmlns=\"http://www.w3.org/2000/svg\" xmlns:xlink=\"http://www.w3.org/1999/xlink\" overflow=\"hidden\"><g><rect x=\"57\" y=\"50\" width=\"57\" height=\"75\" stroke=\"#000000\" stroke-width=\"1.33333\" stroke-miterlimit=\"8\"/><rect x=\"57\" y=\"50\" width=\"57\" height=\"75\" stroke=\"#FFFFFF\" stroke-width=\"1.33333\" stroke-miterlimit=\"8\" fill=\"#FFFFFF\"></rect><text font-family=\"Calibri,Calibri_MSFontService,sans-serif\" font-weight=\"400\" font-size=\"19\" transform=\"translate(62 70)\">\n",
    "<a xlink:href=\"/ui/\" target=\"_blank\"></a>\n",
    "<tspan font-size=\"19\" x=\"-0.0424118\" y=\"23\"><a xlink:href=\"/ui/\" target=\"_blank\">8:00</a></tspan>\n",
    "<tspan font-size=\"19\" x=\"1.04089\" y=\"45\"><a xlink:href=\"/ui/\" target=\"_blank\"></a></tspan></text><rect x=\"57\" y=\"125\" width=\"57\" height=\"75\" stroke=\"#000000\" stroke-width=\"1.33333\" stroke-miterlimit=\"8\"/><rect x=\"57\" y=\"125\" width=\"57\" height=\"75\" stroke=\"#FFFFFF\" stroke-width=\"1.33333\" stroke-miterlimit=\"8\" fill=\"#FFFFFF\"></rect><text font-family=\"Calibri,Calibri_MSFontService,sans-serif\" font-weight=\"400\" font-size=\"19\" transform=\"translate(62 145)\">\n",
    "<a xlink:href=\"/ui/\" target=\"_blank\"></a>\n",
    "<tspan font-size=\"19\" x=\"-0.0424118\" y=\"23\"><a xlink:href=\"/ui/\" target=\"_blank\">9:50</a></tspan>\n",
    "<tspan font-size=\"19\" x=\"1.04089\" y=\"45\"><a xlink:href=\"/ui/\" target=\"_blank\"></a></tspan></text><rect x=\"57\" y=\"200\" width=\"57\" height=\"75\" stroke=\"#000000\" stroke-width=\"1.33333\" stroke-miterlimit=\"8\"/><rect x=\"57\" y=\"200\" width=\"57\" height=\"75\" stroke=\"#FFFFFF\" stroke-width=\"1.33333\" stroke-miterlimit=\"8\" fill=\"#FFFFFF\"></rect><text font-family=\"Calibri,Calibri_MSFontService,sans-serif\" font-weight=\"400\" font-size=\"19\" transform=\"translate(62 220)\">\n",
    "<a xlink:href=\"/ui/\" target=\"_blank\"></a>\n",
    "<tspan font-size=\"19\" x=\"-0.0424118\" y=\"23\"><a xlink:href=\"/ui/\" target=\"_blank\">11:40</a></tspan>\n",
    "<tspan font-size=\"19\" x=\"1.04089\" y=\"45\"><a xlink:href=\"/ui/\" target=\"_blank\"></a></tspan></text><rect x=\"171\" y=\"125\" width=\"57\" height=\"75\" stroke=\"#000000\" stroke-width=\"1.33333\" stroke-miterlimit=\"8\"/><rect x=\"171\" y=\"125\" width=\"57\" height=\"75\" stroke=\"#FF7777\" stroke-width=\"1.33333\" stroke-miterlimit=\"8\" fill=\"#FF7777\"></rect><text font-family=\"Calibri,Calibri_MSFontService,sans-serif\" font-weight=\"400\" font-size=\"19\" transform=\"translate(176 145)\">\n",
    "<a xlink:href=\"/ui/\" target=\"_blank\">GRP</a>\n",
    "<tspan font-size=\"19\" x=\"-0.0424118\" y=\"23\"><a xlink:href=\"/ui/\" target=\"_blank\">TCHR</a></tspan>\n",
    "<tspan font-size=\"19\" x=\"1.04089\" y=\"45\"><a xlink:href=\"/ui/\" target=\"_blank\">SUBJ</a></tspan></text></g></svg>    \n",
    "    \"\"\"\n",
    "\n",
    "    return Response(content=data, media_type=\"image/svg+xml\")\n",
    "\n",
    "start_api(runNew=True)"
   ]
  },
  {
   "cell_type": "code",
   "execution_count": 120,
   "metadata": {},
   "outputs": [],
   "source": [
    "start_api(runNew=False)"
   ]
  },
  {
   "cell_type": "markdown",
   "metadata": {},
   "source": [
    "## Samostatné cvičení"
   ]
  },
  {
   "cell_type": "markdown",
   "metadata": {},
   "source": [
    "### Krátké"
   ]
  },
  {
   "cell_type": "markdown",
   "metadata": {},
   "source": [
    "> **Načtěte data ze souboru (rozvrh)**"
   ]
  },
  {
   "cell_type": "code",
   "execution_count": null,
   "metadata": {},
   "outputs": [],
   "source": []
  },
  {
   "cell_type": "markdown",
   "metadata": {},
   "source": [
    "> **Zjistěte seznam datových struktur (klíče z načteného dictionary)**"
   ]
  },
  {
   "cell_type": "code",
   "execution_count": null,
   "metadata": {},
   "outputs": [],
   "source": []
  },
  {
   "cell_type": "markdown",
   "metadata": {},
   "source": [
    "> **Určete počet prvků v seznamu událostí**"
   ]
  },
  {
   "cell_type": "code",
   "execution_count": null,
   "metadata": {},
   "outputs": [],
   "source": []
  },
  {
   "cell_type": "markdown",
   "metadata": {},
   "source": [
    "> **Seřaďte události podle id a vytvořte z nich nový seznam**"
   ]
  },
  {
   "cell_type": "code",
   "execution_count": null,
   "metadata": {},
   "outputs": [],
   "source": []
  },
  {
   "cell_type": "markdown",
   "metadata": {},
   "source": [
    "> **Ověřte oddělenost událostí (datových struktur) v původním seznamu a nově vytvořeném seznamu**"
   ]
  },
  {
   "cell_type": "code",
   "execution_count": null,
   "metadata": {},
   "outputs": [],
   "source": []
  },
  {
   "cell_type": "markdown",
   "metadata": {},
   "source": [
    "> **Vyhledejte událost s daným id**"
   ]
  },
  {
   "cell_type": "code",
   "execution_count": null,
   "metadata": {},
   "outputs": [],
   "source": []
  },
  {
   "cell_type": "markdown",
   "metadata": {},
   "source": [
    "> **Vyhledejte události, které začínají v 8:00, zjistěte jejich počet**"
   ]
  },
  {
   "cell_type": "code",
   "execution_count": null,
   "metadata": {},
   "outputs": [],
   "source": []
  },
  {
   "cell_type": "markdown",
   "metadata": {},
   "source": [
    "### Dlouhé"
   ]
  },
  {
   "cell_type": "markdown",
   "metadata": {},
   "source": [
    "> **Vytvořte homogenní strukturu pro vykreslení rozvrhu**"
   ]
  },
  {
   "cell_type": "code",
   "execution_count": null,
   "metadata": {},
   "outputs": [],
   "source": []
  },
  {
   "cell_type": "markdown",
   "metadata": {},
   "source": [
    "> **Reprezentuje výběr jako kalendář na A4**"
   ]
  },
  {
   "cell_type": "code",
   "execution_count": null,
   "metadata": {},
   "outputs": [],
   "source": []
  },
  {
   "cell_type": "markdown",
   "metadata": {},
   "source": [
    "## Nápovědy"
   ]
  },
  {
   "cell_type": "code",
   "execution_count": 2,
   "metadata": {},
   "outputs": [
    {
     "data": {
      "image/svg+xml": [
       "<svg xmlns=\"http://www.w3.org/2000/svg\" xmlns:xlink=\"http://www.w3.org/1999/xlink\" width=\"960\" height=\"400\" overflow=\"hidden\">\n",
       "<defs><clipPath id=\"clip0\"><rect x=\"0\" y=\"0\" width=\"960\" height=\"720\"/></clipPath></defs>\n",
       "<g clip-path=\"url(#clip0)\">\n",
       "<rect x=\"0\" y=\"0\" width=\"960\" height=\"720\" fill=\"#FFFFFF\"/>\n",
       "<text font-family=\"Calibri,Calibri_MSFontService,sans-serif\" font-weight=\"400\" font-size=\"19\" transform=\"translate(57.652 53)\">A0S<tspan font-size=\"19\" x=\"-0.0424118\" y=\"23\">K0B</tspan><tspan font-size=\"19\" x=\"1.04089\" y=\"45\">S</tspan><tspan font-size=\"19\" x=\"9.5409\" y=\"45\">0</tspan>T</text>\n",
       "<rect x=\"44.5001\" y=\"32.5001\" width=\"57\" height=\"75\" stroke=\"#FF0000\" stroke-width=\"1.33333\" stroke-miterlimit=\"8\" fill=\"none\"/>\n",
       "<rect x=\"44.5001\" y=\"7.50005\" width=\"57\" height=\"24\" stroke=\"#2F528F\" stroke-width=\"1.33333\" stroke-miterlimit=\"8\" fill=\"none\"/>\n",
       "<text font-family=\"Calibri,Calibri_MSFontService,sans-serif\" font-weight=\"400\" font-size=\"19\" transform=\"translate(57.652 129)\">A1S<tspan font-size=\"19\" x=\"-0.0424118\" y=\"22\">K1B</tspan><tspan font-size=\"19\" x=\"1.04089\" y=\"45\">S0T</tspan></text><rect x=\"44.5001\" y=\"107.5\" width=\"57\" height=\"76\" stroke=\"#FFFF00\" stroke-width=\"1.33333\" stroke-miterlimit=\"8\" fill=\"none\"/><text font-family=\"Calibri,Calibri_MSFontService,sans-serif\" font-weight=\"400\" font-size=\"19\" transform=\"translate(57.652 205)\">A2S<tspan font-size=\"19\" x=\"-0.0424118\" y=\"22\">K2B</tspan><tspan font-size=\"19\" x=\"1.04089\" y=\"45\">S2T</tspan></text>\n",
       "<rect x=\"44.5001\" y=\"183.5\" width=\"57\" height=\"75\" stroke=\"#00FF00\" stroke-width=\"1.33333\" stroke-miterlimit=\"8\" fill=\"none\"/><text font-family=\"Calibri,Calibri_MSFontService,sans-serif\" font-weight=\"400\" font-size=\"19\" transform=\"translate(57.652 280)\">A3S<tspan font-size=\"19\" x=\"-0.0424118\" y=\"23\">K3B</tspan><tspan font-size=\"19\" x=\"1.04089\" y=\"45\">S3T</tspan></text><rect x=\"44.5001\" y=\"258.5\" width=\"57\" height=\"76\" stroke=\"#00FFFF\" stroke-width=\"1.33333\" stroke-miterlimit=\"8\" fill=\"none\"/><text font-family=\"Calibri,Calibri_MSFontService,sans-serif\" font-weight=\"400\" font-size=\"19\" transform=\"translate(57.652 356)\">A1S<tspan font-size=\"19\" x=\"-0.0424118\" y=\"22\">K3B</tspan><tspan font-size=\"19\" x=\"1.04089\" y=\"45\">S4T</tspan></text><rect x=\"44.5001\" y=\"334.5\" width=\"57\" height=\"75\" stroke=\"#0000FF\" stroke-width=\"1.33333\" stroke-miterlimit=\"8\" fill=\"none\"/><text font-family=\"Calibri,Calibri_MSFontService,sans-serif\" font-weight=\"400\" font-size=\"19\" transform=\"translate(58.082 24)\">123</text></g></svg>"
      ],
      "text/plain": [
       "<IPython.core.display.SVG object>"
      ]
     },
     "execution_count": 2,
     "metadata": {},
     "output_type": "execute_result"
    }
   ],
   "source": [
    "from IPython.display import SVG\n",
    "data = \"\"\"\n",
    "<svg width=\"960\" height=\"400\" xmlns=\"http://www.w3.org/2000/svg\" xmlns:xlink=\"http://www.w3.org/1999/xlink\" overflow=\"hidden\">\n",
    "<defs><clipPath id=\"clip0\"><rect x=\"0\" y=\"0\" width=\"960\" height=\"720\"/></clipPath></defs>\n",
    "<g clip-path=\"url(#clip0)\">\n",
    "<rect x=\"0\" y=\"0\" width=\"960\" height=\"720\" fill=\"#FFFFFF\"/>\n",
    "<text font-family=\"Calibri,Calibri_MSFontService,sans-serif\" font-weight=\"400\" font-size=\"19\" transform=\"translate(57.652 53)\">A0S<tspan font-size=\"19\" x=\"-0.0424118\" y=\"23\">K0B</tspan><tspan font-size=\"19\" x=\"1.04089\" y=\"45\">S</tspan><tspan font-size=\"19\" x=\"9.5409\" y=\"45\">0</tspan>T</text>\n",
    "<rect x=\"44.5001\" y=\"32.5001\" width=\"57\" height=\"75\" stroke=\"#FF0000\" stroke-width=\"1.33333\" stroke-miterlimit=\"8\" fill=\"none\"/>\n",
    "<rect x=\"44.5001\" y=\"7.50005\" width=\"57\" height=\"24\" stroke=\"#2F528F\" stroke-width=\"1.33333\" stroke-miterlimit=\"8\" fill=\"none\"/>\n",
    "<text font-family=\"Calibri,Calibri_MSFontService,sans-serif\" font-weight=\"400\" font-size=\"19\" transform=\"translate(57.652 129)\">A1S<tspan font-size=\"19\" x=\"-0.0424118\" y=\"22\">K1B</tspan><tspan font-size=\"19\" x=\"1.04089\" y=\"45\">S0T</tspan></text><rect x=\"44.5001\" y=\"107.5\" width=\"57\" height=\"76\" stroke=\"#FFFF00\" stroke-width=\"1.33333\" stroke-miterlimit=\"8\" fill=\"none\"/><text font-family=\"Calibri,Calibri_MSFontService,sans-serif\" font-weight=\"400\" font-size=\"19\" transform=\"translate(57.652 205)\">A2S<tspan font-size=\"19\" x=\"-0.0424118\" y=\"22\">K2B</tspan><tspan font-size=\"19\" x=\"1.04089\" y=\"45\">S2T</tspan></text>\n",
    "<rect x=\"44.5001\" y=\"183.5\" width=\"57\" height=\"75\" stroke=\"#00FF00\" stroke-width=\"1.33333\" stroke-miterlimit=\"8\" fill=\"none\"/><text font-family=\"Calibri,Calibri_MSFontService,sans-serif\" font-weight=\"400\" font-size=\"19\" transform=\"translate(57.652 280)\">A3S<tspan font-size=\"19\" x=\"-0.0424118\" y=\"23\">K3B</tspan><tspan font-size=\"19\" x=\"1.04089\" y=\"45\">S3T</tspan></text><rect x=\"44.5001\" y=\"258.5\" width=\"57\" height=\"76\" stroke=\"#00FFFF\" stroke-width=\"1.33333\" stroke-miterlimit=\"8\" fill=\"none\"/><text font-family=\"Calibri,Calibri_MSFontService,sans-serif\" font-weight=\"400\" font-size=\"19\" transform=\"translate(57.652 356)\">A1S<tspan font-size=\"19\" x=\"-0.0424118\" y=\"22\">K3B</tspan><tspan font-size=\"19\" x=\"1.04089\" y=\"45\">S4T</tspan></text><rect x=\"44.5001\" y=\"334.5\" width=\"57\" height=\"75\" stroke=\"#0000FF\" stroke-width=\"1.33333\" stroke-miterlimit=\"8\" fill=\"none\"/><text font-family=\"Calibri,Calibri_MSFontService,sans-serif\" font-weight=\"400\" font-size=\"19\" transform=\"translate(58.082 24)\">123</text></g></svg>\"\"\"\n",
    "SVG(data)"
   ]
  },
  {
   "cell_type": "code",
   "execution_count": 36,
   "metadata": {},
   "outputs": [
    {
     "data": {
      "image/svg+xml": [
       "<svg xmlns=\"http://www.w3.org/2000/svg\" xmlns:xlink=\"http://www.w3.org/1999/xlink\" width=\"960\" height=\"150\" overflow=\"hidden\"><g><rect x=\"44.5001\" y=\"7.50005\" width=\"57\" height=\"24\" stroke=\"#2F528F\" stroke-width=\"1.33333\" stroke-miterlimit=\"8\" fill=\"none\"/><text font-family=\"Calibri,Calibri_MSFontService,sans-serif\" font-weight=\"400\" font-size=\"19\" transform=\"translate(58.082 24)\">123</text><rect x=\"44.5001\" y=\"32.5001\" width=\"57\" height=\"75\" stroke=\"#FF0000\" stroke-width=\"1.33333\" stroke-miterlimit=\"8\" fill=\"none\"/>\n",
       "<text font-family=\"Calibri,Calibri_MSFontService,sans-serif\" font-weight=\"400\" font-size=\"19\" transform=\"translate(57.652 53)\">A0S<tspan font-size=\"19\" x=\"-0.0424118\" y=\"23\">K0B</tspan>\n",
       "<tspan font-size=\"19\" x=\"1.04089\" y=\"45\">S0T</tspan></text></g></svg>"
      ],
      "text/plain": [
       "<IPython.core.display.SVG object>"
      ]
     },
     "execution_count": 36,
     "metadata": {},
     "output_type": "execute_result"
    }
   ],
   "source": [
    "from IPython.display import SVG\n",
    "SVGHeader = '<svg width=\"960\" height=\"150\" xmlns=\"http://www.w3.org/2000/svg\" xmlns:xlink=\"http://www.w3.org/1999/xlink\" overflow=\"hidden\">'\n",
    "SVGFooter = '</svg>'\n",
    "SVGBigRect = '<rect x=\"44.5001\" y=\"32.5001\" width=\"57\" height=\"75\" stroke=\"#FF0000\" stroke-width=\"1.33333\" stroke-miterlimit=\"8\" fill=\"none\"/>'\n",
    "SVGBigText = '''\n",
    "<text font-family=\"Calibri,Calibri_MSFontService,sans-serif\" font-weight=\"400\" font-size=\"19\" transform=\"translate(57.652 53)\">A0S<tspan font-size=\"19\" x=\"-0.0424118\" y=\"23\">K0B</tspan>\n",
    "<tspan font-size=\"19\" x=\"1.04089\" y=\"45\">S0T</tspan></text>'''\n",
    "SVGSmallRect = '<rect x=\"44.5001\" y=\"7.50005\" width=\"57\" height=\"24\" stroke=\"#2F528F\" stroke-width=\"1.33333\" stroke-miterlimit=\"8\" fill=\"none\"/>'\n",
    "SVGSmallText = '<text font-family=\"Calibri,Calibri_MSFontService,sans-serif\" font-weight=\"400\" font-size=\"19\" transform=\"translate(58.082 24)\">123</text>'\n",
    "\n",
    "data = SVGHeader + '<g>' + SVGSmallRect + SVGSmallText + SVGBigRect + SVGBigText + '</g>' + SVGFooter\n",
    "SVG(data)"
   ]
  },
  {
   "cell_type": "code",
   "execution_count": 117,
   "metadata": {},
   "outputs": [
    {
     "name": "stdout",
     "output_type": "stream",
     "text": [
      "<svg width=\"960\" height=\"400\" xmlns=\"http://www.w3.org/2000/svg\" xmlns:xlink=\"http://www.w3.org/1999/xlink\" overflow=\"hidden\"><g><rect x=\"57\" y=\"50\" width=\"57\" height=\"75\" stroke=\"#000000\" stroke-width=\"1.33333\" stroke-miterlimit=\"8\"/><rect x=\"57\" y=\"50\" width=\"57\" height=\"75\" stroke=\"#FFFFFF\" stroke-width=\"1.33333\" stroke-miterlimit=\"8\" fill=\"#FFFFFF\"></rect><text font-family=\"Calibri,Calibri_MSFontService,sans-serif\" font-weight=\"400\" font-size=\"19\" transform=\"translate(62 70)\">\n",
      "<a xlink:href=\"/ui/\" target=\"_blank\"></a>\n",
      "<tspan font-size=\"19\" x=\"-0.0424118\" y=\"23\"><a xlink:href=\"/ui/\" target=\"_blank\">8:00</a></tspan>\n",
      "<tspan font-size=\"19\" x=\"1.04089\" y=\"45\"><a xlink:href=\"/ui/\" target=\"_blank\"></a></tspan></text><rect x=\"57\" y=\"125\" width=\"57\" height=\"75\" stroke=\"#000000\" stroke-width=\"1.33333\" stroke-miterlimit=\"8\"/><rect x=\"57\" y=\"125\" width=\"57\" height=\"75\" stroke=\"#FFFFFF\" stroke-width=\"1.33333\" stroke-miterlimit=\"8\" fill=\"#FFFFFF\"></rect><text font-family=\"Calibri,Calibri_MSFontService,sans-serif\" font-weight=\"400\" font-size=\"19\" transform=\"translate(62 145)\">\n",
      "<a xlink:href=\"/ui/\" target=\"_blank\"></a>\n",
      "<tspan font-size=\"19\" x=\"-0.0424118\" y=\"23\"><a xlink:href=\"/ui/\" target=\"_blank\">9:50</a></tspan>\n",
      "<tspan font-size=\"19\" x=\"1.04089\" y=\"45\"><a xlink:href=\"/ui/\" target=\"_blank\"></a></tspan></text><rect x=\"57\" y=\"200\" width=\"57\" height=\"75\" stroke=\"#000000\" stroke-width=\"1.33333\" stroke-miterlimit=\"8\"/><rect x=\"57\" y=\"200\" width=\"57\" height=\"75\" stroke=\"#FFFFFF\" stroke-width=\"1.33333\" stroke-miterlimit=\"8\" fill=\"#FFFFFF\"></rect><text font-family=\"Calibri,Calibri_MSFontService,sans-serif\" font-weight=\"400\" font-size=\"19\" transform=\"translate(62 220)\">\n",
      "<a xlink:href=\"/ui/\" target=\"_blank\"></a>\n",
      "<tspan font-size=\"19\" x=\"-0.0424118\" y=\"23\"><a xlink:href=\"/ui/\" target=\"_blank\">11:40</a></tspan>\n",
      "<tspan font-size=\"19\" x=\"1.04089\" y=\"45\"><a xlink:href=\"/ui/\" target=\"_blank\"></a></tspan></text><rect x=\"171\" y=\"125\" width=\"57\" height=\"75\" stroke=\"#000000\" stroke-width=\"1.33333\" stroke-miterlimit=\"8\"/><rect x=\"171\" y=\"125\" width=\"57\" height=\"75\" stroke=\"#FF7777\" stroke-width=\"1.33333\" stroke-miterlimit=\"8\" fill=\"#FF7777\"></rect><text font-family=\"Calibri,Calibri_MSFontService,sans-serif\" font-weight=\"400\" font-size=\"19\" transform=\"translate(176 145)\">\n",
      "<a xlink:href=\"/ui/\" target=\"_blank\">GRP</a>\n",
      "<tspan font-size=\"19\" x=\"-0.0424118\" y=\"23\"><a xlink:href=\"/ui/\" target=\"_blank\">TCHR</a></tspan>\n",
      "<tspan font-size=\"19\" x=\"1.04089\" y=\"45\"><a xlink:href=\"/ui/\" target=\"_blank\">SUBJ</a></tspan></text></g></svg>\n"
     ]
    },
    {
     "data": {
      "image/svg+xml": [
       "<svg xmlns=\"http://www.w3.org/2000/svg\" xmlns:xlink=\"http://www.w3.org/1999/xlink\" width=\"960\" height=\"400\" overflow=\"hidden\"><g><rect x=\"57\" y=\"50\" width=\"57\" height=\"75\" stroke=\"#000000\" stroke-width=\"1.33333\" stroke-miterlimit=\"8\"/><rect x=\"57\" y=\"50\" width=\"57\" height=\"75\" stroke=\"#FFFFFF\" stroke-width=\"1.33333\" stroke-miterlimit=\"8\" fill=\"#FFFFFF\"/><text font-family=\"Calibri,Calibri_MSFontService,sans-serif\" font-weight=\"400\" font-size=\"19\" transform=\"translate(62 70)\">\n",
       "<a xlink:href=\"/ui/\" target=\"_blank\"/>\n",
       "<tspan font-size=\"19\" x=\"-0.0424118\" y=\"23\"><a xlink:href=\"/ui/\" target=\"_blank\">8:00</a></tspan>\n",
       "<tspan font-size=\"19\" x=\"1.04089\" y=\"45\"><a xlink:href=\"/ui/\" target=\"_blank\"/></tspan></text><rect x=\"57\" y=\"125\" width=\"57\" height=\"75\" stroke=\"#000000\" stroke-width=\"1.33333\" stroke-miterlimit=\"8\"/><rect x=\"57\" y=\"125\" width=\"57\" height=\"75\" stroke=\"#FFFFFF\" stroke-width=\"1.33333\" stroke-miterlimit=\"8\" fill=\"#FFFFFF\"/><text font-family=\"Calibri,Calibri_MSFontService,sans-serif\" font-weight=\"400\" font-size=\"19\" transform=\"translate(62 145)\">\n",
       "<a xlink:href=\"/ui/\" target=\"_blank\"/>\n",
       "<tspan font-size=\"19\" x=\"-0.0424118\" y=\"23\"><a xlink:href=\"/ui/\" target=\"_blank\">9:50</a></tspan>\n",
       "<tspan font-size=\"19\" x=\"1.04089\" y=\"45\"><a xlink:href=\"/ui/\" target=\"_blank\"/></tspan></text><rect x=\"57\" y=\"200\" width=\"57\" height=\"75\" stroke=\"#000000\" stroke-width=\"1.33333\" stroke-miterlimit=\"8\"/><rect x=\"57\" y=\"200\" width=\"57\" height=\"75\" stroke=\"#FFFFFF\" stroke-width=\"1.33333\" stroke-miterlimit=\"8\" fill=\"#FFFFFF\"/><text font-family=\"Calibri,Calibri_MSFontService,sans-serif\" font-weight=\"400\" font-size=\"19\" transform=\"translate(62 220)\">\n",
       "<a xlink:href=\"/ui/\" target=\"_blank\"/>\n",
       "<tspan font-size=\"19\" x=\"-0.0424118\" y=\"23\"><a xlink:href=\"/ui/\" target=\"_blank\">11:40</a></tspan>\n",
       "<tspan font-size=\"19\" x=\"1.04089\" y=\"45\"><a xlink:href=\"/ui/\" target=\"_blank\"/></tspan></text><rect x=\"171\" y=\"125\" width=\"57\" height=\"75\" stroke=\"#000000\" stroke-width=\"1.33333\" stroke-miterlimit=\"8\"/><rect x=\"171\" y=\"125\" width=\"57\" height=\"75\" stroke=\"#FF7777\" stroke-width=\"1.33333\" stroke-miterlimit=\"8\" fill=\"#FF7777\"/><text font-family=\"Calibri,Calibri_MSFontService,sans-serif\" font-weight=\"400\" font-size=\"19\" transform=\"translate(176 145)\">\n",
       "<a xlink:href=\"/ui/\" target=\"_blank\">GRP</a>\n",
       "<tspan font-size=\"19\" x=\"-0.0424118\" y=\"23\"><a xlink:href=\"/ui/\" target=\"_blank\">TCHR</a></tspan>\n",
       "<tspan font-size=\"19\" x=\"1.04089\" y=\"45\"><a xlink:href=\"/ui/\" target=\"_blank\">SUBJ</a></tspan></text></g></svg>"
      ],
      "text/plain": [
       "<IPython.core.display.SVG object>"
      ]
     },
     "execution_count": 117,
     "metadata": {},
     "output_type": "execute_result"
    }
   ],
   "source": [
    "from IPython.display import SVG\n",
    "\n",
    "def displayItem(item, col, mainRow, subRow, name1, name2, name3, color='#FF0000'):\n",
    "    smallRowHeight = 25\n",
    "    bigRowHeight = 75\n",
    "    mainRowHeight = smallRowHeight + 5 * bigRowHeight\n",
    "    colWidth = 57\n",
    "    leftUpperX = (col + 2) * colWidth\n",
    "    leftUpperY = smallRowHeight + mainRow * mainRowHeight + smallRowHeight + subRow * bigRowHeight\n",
    "    rectangle1 = f'<rect x=\"{leftUpperX}\" y=\"{leftUpperY}\" width=\"{colWidth}\" height=\"{bigRowHeight}\" stroke=\"#000000\" stroke-width=\"1.33333\" stroke-miterlimit=\"8\"/>'\n",
    "    rectangle2 = (f'<rect x=\"{leftUpperX}\" y=\"{leftUpperY}\" width=\"{colWidth}\" height=\"{bigRowHeight}\" stroke=\"{color}\" stroke-width=\"1.33333\" stroke-miterlimit=\"8\" fill=\"{color}\">'\n",
    "        #+ '<animate attributeName=\"rx\" values=\"0;15;0\" dur=\"10s\" repeatCount=\"indefinite\" />'\n",
    "        + '</rect>')\n",
    "    \n",
    "    text = f'''<text font-family=\"Calibri,Calibri_MSFontService,sans-serif\" font-weight=\"400\" font-size=\"19\" transform=\"translate({5+leftUpperX} {20+leftUpperY})\">\n",
    "<a xlink:href=\"/ui/\" target=\"_blank\">{item[name1]}</a>\n",
    "<tspan font-size=\"19\" x=\"-0.0424118\" y=\"23\"><a xlink:href=\"/ui/\" target=\"_blank\">{item[name2]}</a></tspan>\n",
    "<tspan font-size=\"19\" x=\"1.04089\" y=\"45\"><a xlink:href=\"/ui/\" target=\"_blank\">{item[name3]}</a></tspan></text>'''\n",
    "    return rectangle1 + rectangle2 + text\n",
    "\n",
    "SVGHeader = '<svg width=\"960\" height=\"400\" xmlns=\"http://www.w3.org/2000/svg\" xmlns:xlink=\"http://www.w3.org/1999/xlink\" overflow=\"hidden\">'\n",
    "SVGFooter = '</svg>'\n",
    "\n",
    "data = (SVGHeader + '<g>' \n",
    "    + displayItem({'grp': '', 'tch': '8:00', 'sbj': ''}, -1, 0, 0, 'grp', 'tch', 'sbj', '#FFFFFF') \n",
    "    + displayItem({'grp': '', 'tch': '9:50', 'sbj': ''}, -1, 0, 1, 'grp', 'tch', 'sbj', '#FFFFFF') \n",
    "    + displayItem({'grp': '', 'tch': '11:40', 'sbj': ''}, -1, 0, 2, 'grp', 'tch', 'sbj', '#FFFFFF') \n",
    "    + displayItem({'grp': 'GRP', 'tch': 'TCHR', 'sbj': 'SUBJ'}, 1, 0, 1, 'grp', 'tch', 'sbj', '#FF7777')\n",
    "    + '</g>' + SVGFooter)\n",
    "print(data)\n",
    "SVG(data)"
   ]
  },
  {
   "cell_type": "code",
   "execution_count": null,
   "metadata": {},
   "outputs": [],
   "source": []
  }
 ],
 "metadata": {
  "colab": {
   "name": "02_datastr.ipynb",
   "provenance": [],
   "toc_visible": true
  },
  "kernelspec": {
   "display_name": "Python 3",
   "language": "python",
   "name": "python3"
  },
  "language_info": {
   "codemirror_mode": {
    "name": "ipython",
    "version": 3
   },
   "file_extension": ".py",
   "mimetype": "text/x-python",
   "name": "python",
   "nbconvert_exporter": "python",
   "pygments_lexer": "ipython3",
   "version": "3.8.6"
  },
  "toc-autonumbering": true
 },
 "nbformat": 4,
 "nbformat_minor": 4
}
