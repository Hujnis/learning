{
  "nbformat": 4,
  "nbformat_minor": 0,
  "metadata": {
    "colab": {
      "provenance": [],
      "authorship_tag": "ABX9TyN62gbHLSTLVLMce/GQ8g3Z",
      "include_colab_link": true
    },
    "kernelspec": {
      "name": "python3",
      "display_name": "Python 3"
    },
    "language_info": {
      "name": "python"
    }
  },
  "cells": [
    {
      "cell_type": "markdown",
      "metadata": {
        "id": "view-in-github",
        "colab_type": "text"
      },
      "source": [
        "<a href=\"https://colab.research.google.com/github/hrbolek/learning/blob/master/notebooks/ais/06_sqla.ipynb\" target=\"_parent\"><img src=\"https://colab.research.google.com/assets/colab-badge.svg\" alt=\"Open In Colab\"/></a>"
      ]
    },
    {
      "cell_type": "markdown",
      "source": [
        "# SQL prostřednictvím SQLAlchemy"
      ],
      "metadata": {
        "id": "WNgF9dtUpaPZ"
      }
    },
    {
      "cell_type": "markdown",
      "source": [
        "## Imports"
      ],
      "metadata": {
        "id": "v-PCgBv3pgJ0"
      }
    },
    {
      "cell_type": "code",
      "execution_count": 1,
      "metadata": {
        "id": "T9Qe4neSRJjJ",
        "colab": {
          "base_uri": "https://localhost:8080/"
        },
        "outputId": "e5fd0f9c-1ad8-4912-c881-14df9a4d9ed0"
      },
      "outputs": [
        {
          "output_type": "stream",
          "name": "stdout",
          "text": [
            "Requirement already satisfied: sqlalchemy in /usr/local/lib/python3.10/dist-packages (2.0.28)\n",
            "Requirement already satisfied: typing-extensions>=4.6.0 in /usr/local/lib/python3.10/dist-packages (from sqlalchemy) (4.10.0)\n",
            "Requirement already satisfied: greenlet!=0.4.17 in /usr/local/lib/python3.10/dist-packages (from sqlalchemy) (3.0.3)\n",
            "Requirement already satisfied: aiosqlite in /usr/local/lib/python3.10/dist-packages (0.20.0)\n",
            "Requirement already satisfied: typing_extensions>=4.0 in /usr/local/lib/python3.10/dist-packages (from aiosqlite) (4.10.0)\n"
          ]
        }
      ],
      "source": [
        "!pip install sqlalchemy\n",
        "!pip install aiosqlite"
      ]
    },
    {
      "cell_type": "markdown",
      "source": [
        "## Utils"
      ],
      "metadata": {
        "id": "EFcKfQjypj_q"
      }
    },
    {
      "cell_type": "code",
      "source": [
        "from uuid import uuid4, UUID\n",
        "from sqlalchemy import Column, Uuid\n",
        "uuid = uuid4\n",
        "\n",
        "def UUIDColumn():\n",
        "    return Column(Uuid, primary_key=True, comment=\"primary key\", default=uuid)\n",
        "\n",
        "def UUIDFKey(comment=None, nullable=True, **kwargs):\n",
        "    return Column(Uuid, index=True, comment=comment, nullable=nullable, **kwargs)"
      ],
      "metadata": {
        "id": "I3dWFxWQTHS1"
      },
      "execution_count": 2,
      "outputs": []
    },
    {
      "cell_type": "markdown",
      "source": [
        "## Base for all models"
      ],
      "metadata": {
        "id": "SMXnZec0pl1m"
      }
    },
    {
      "cell_type": "code",
      "source": [
        "from sqlalchemy.orm import declarative_base\n",
        "BaseModel = declarative_base()"
      ],
      "metadata": {
        "id": "L8s51YWQTQ15"
      },
      "execution_count": 3,
      "outputs": []
    },
    {
      "cell_type": "markdown",
      "source": [
        "## Models"
      ],
      "metadata": {
        "id": "xWL51FFVppiI"
      }
    },
    {
      "cell_type": "code",
      "source": [
        "import sqlalchemy\n",
        "from sqlalchemy import (\n",
        "    Column,\n",
        "    String,\n",
        "    DateTime,\n",
        "    Boolean,\n",
        ")\n",
        "from sqlalchemy.orm import relationship\n",
        "from sqlalchemy.ext.hybrid import hybrid_property\n",
        "\n",
        "class UserModel(BaseModel):\n",
        "    \"\"\"Spravuje data spojena s uzivatelem\"\"\"\n",
        "\n",
        "    __tablename__ = \"users\"\n",
        "\n",
        "    id = UUIDColumn()\n",
        "    name = Column(String)\n",
        "    surname = Column(String)\n",
        "\n",
        "    @hybrid_property\n",
        "    def fullname(self):\n",
        "        return self.name + \" \" + self.surname\n",
        "\n",
        "    email = Column(String)\n",
        "    startdate = Column(DateTime, comment=\"first date of user in the system\")\n",
        "    enddate = Column(DateTime, comment=\"last date of user in the system\")\n",
        "    valid = Column(Boolean, default=True, comment=\"if the user is still active\")\n",
        "\n",
        "    memberships = relationship(\"MembershipModel\", back_populates=\"user\", foreign_keys=\"MembershipModel.user_id\")\n",
        "    roles = relationship(\"RoleModel\", back_populates=\"user\", foreign_keys=\"RoleModel.user_id\")\n",
        "    # groups = relationship(\"GroupModel\",\n",
        "    #     secondary=\"join(MembershipModel, GroupModel, GroupModel.id==MembershipModel.group_id)\",\n",
        "    #     primaryjoin=\"UserModel.id==MembershipModel.user_id\",\n",
        "    #     secondaryjoin=\"GroupModel.id==MembershipModel.group_id\",\n",
        "    #     uselist=True,\n",
        "    #     viewonly=True\n",
        "    # )\n",
        "\n",
        "    created = Column(DateTime, server_default=sqlalchemy.sql.func.now(), comment=\"when record has been created\")\n",
        "    lastchange = Column(DateTime, server_default=sqlalchemy.sql.func.now(), comment=\"timestamp\")\n",
        "    createdby = UUIDFKey(nullable=True, comment=\"who has created this record\")#Column(ForeignKey(\"users.id\"), index=True, nullable=True)\n",
        "    changedby = UUIDFKey(nullable=True, comment=\"who has changed this record\")#Column(ForeignKey(\"users.id\"), index=True, nullable=True)\n",
        "\n",
        "    rbacobject = UUIDFKey(nullable=True, comment=\"holds object for role resolution\")#Column(ForeignKey(\"users.id\"), index=True, nullable=True)"
      ],
      "metadata": {
        "id": "sDszS7XITUkc"
      },
      "execution_count": 4,
      "outputs": []
    },
    {
      "cell_type": "code",
      "source": [
        "from sqlalchemy import (\n",
        "    ForeignKey\n",
        ")\n",
        "class GroupModel(BaseModel):\n",
        "    \"\"\"Spravuje data spojena se skupinou\"\"\"\n",
        "\n",
        "    __tablename__ = \"groups\"\n",
        "\n",
        "    id = UUIDColumn()\n",
        "    name = Column(String, comment=\"name of the group\")\n",
        "    name_en = Column(String, comment=\"english name of the group\")\n",
        "    email = Column(String, comment=\"can be an email for whole group\")\n",
        "\n",
        "    startdate = Column(DateTime, comment=\"born date of the group\")\n",
        "    enddate = Column(DateTime, comment=\"date when group `died`\")\n",
        "    valid = Column(Boolean, default=True, comment=\"if the group still exists\")\n",
        "\n",
        "    mastergroup_id = Column(ForeignKey(\"groups.id\"), index=True, comment=\"link to the commanding group\")\n",
        "\n",
        "    memberships = relationship(\"MembershipModel\", back_populates=\"group\")\n",
        "    roles = relationship(\"RoleModel\", back_populates=\"group\")\n",
        "\n",
        "    created = Column(DateTime, server_default=sqlalchemy.sql.func.now(), comment=\"when record has been created\")\n",
        "    lastchange = Column(DateTime, server_default=sqlalchemy.sql.func.now(), comment=\"timestamp\")\n",
        "    createdby = UUIDFKey(nullable=True, comment=\"who has created this record\")#Column(ForeignKey(\"users.id\"), index=True, nullable=True)\n",
        "    changedby = UUIDFKey(nullable=True, comment=\"who has changed this record\")#Column(ForeignKey(\"users.id\"), index=True, nullable=True)\n",
        "\n",
        "    rbacobject = UUIDFKey(nullable=True, comment=\"holds object for role resolution\")#Column(ForeignKey(\"users.id\"), index=True, nullable=True)"
      ],
      "metadata": {
        "id": "1ZNSW6x6TemN"
      },
      "execution_count": 5,
      "outputs": []
    },
    {
      "cell_type": "code",
      "source": [
        "class MembershipModel(BaseModel):\n",
        "    \"\"\"Spojuje User s Group jestlize User je clen Group\n",
        "    Umoznuje udrzovat historii spojeni\n",
        "    \"\"\"\n",
        "\n",
        "    __tablename__ = \"memberships\"\n",
        "\n",
        "    id = UUIDColumn()\n",
        "    user_id = Column(ForeignKey(\"users.id\"), index=True)\n",
        "    group_id = Column(ForeignKey(\"groups.id\"), index=True)\n",
        "\n",
        "    startdate = Column(DateTime, comment=\"first date of membership\")\n",
        "    enddate = Column(DateTime, comment=\"last date of membership\")\n",
        "    valid = Column(Boolean, default=True, comment=\"if the membership is still active\")\n",
        "\n",
        "    created = Column(DateTime, server_default=sqlalchemy.sql.func.now(), comment=\"when record has been created\")\n",
        "    lastchange = Column(DateTime, server_default=sqlalchemy.sql.func.now(), comment=\"timestamp\")\n",
        "    createdby = UUIDFKey(nullable=True, comment=\"who has created this record\")#Column(ForeignKey(\"users.id\"), index=True, nullable=True)\n",
        "    changedby = UUIDFKey(nullable=True, comment=\"who has changed this record\")#Column(ForeignKey(\"users.id\"), index=True, nullable=True)\n",
        "\n",
        "    user = relationship(\"UserModel\", back_populates=\"memberships\", foreign_keys=[user_id])\n",
        "    group = relationship(\"GroupModel\", back_populates=\"memberships\")\n",
        "\n",
        "    rbacobject = UUIDFKey(nullable=True, comment=\"holds object for role resolution\")#Column(ForeignKey(\"users.id\"), index=True, nullable=True)"
      ],
      "metadata": {
        "id": "NlROQNL7Ti3k"
      },
      "execution_count": 6,
      "outputs": []
    },
    {
      "cell_type": "code",
      "source": [
        "class RoleModel(BaseModel):\n",
        "    \"\"\"Spojuje uzivatele a skupinu, ve ktere uzivatel \"hraje\" roli\"\"\"\n",
        "\n",
        "    __tablename__ = \"roles\"\n",
        "\n",
        "    id = UUIDColumn()\n",
        "    user_id = Column(ForeignKey(\"users.id\"), index=True)\n",
        "    group_id = Column(ForeignKey(\"groups.id\"), index=True)\n",
        "    roletype_id = Column(ForeignKey(\"roletypes.id\"), index=True)\n",
        "\n",
        "    startdate = Column(DateTime, comment=\"when the role begins\")\n",
        "    enddate = Column(DateTime, comment=\"when the role ends\")\n",
        "    valid = Column(Boolean, default=True, comment=\"if the role is still active\")\n",
        "\n",
        "    created = Column(DateTime, server_default=sqlalchemy.sql.func.now(), comment=\"when record has been created\")\n",
        "    lastchange = Column(DateTime, server_default=sqlalchemy.sql.func.now(), comment=\"timestamp\")\n",
        "    createdby = UUIDFKey(nullable=True, comment=\"who has created this record\")#Column(ForeignKey(\"users.id\"), index=True, nullable=True)\n",
        "    changedby = UUIDFKey(nullable=True, comment=\"who has changed this record\")#Column(ForeignKey(\"users.id\"), index=True, nullable=True)\n",
        "\n",
        "    roletype = relationship(\"RoleTypeModel\", back_populates=\"roles\")\n",
        "    user = relationship(\"UserModel\", back_populates=\"roles\", foreign_keys=[user_id])\n",
        "    group = relationship(\"GroupModel\", back_populates=\"roles\")\n",
        "\n",
        "    rbacobject = UUIDFKey(nullable=True, comment=\"holds object for role resolution\")#Column(ForeignKey(\"users.id\"), index=True, nullable=True)"
      ],
      "metadata": {
        "id": "XxPq16bjTpGF"
      },
      "execution_count": 7,
      "outputs": []
    },
    {
      "cell_type": "code",
      "source": [
        "class RoleTypeModel(BaseModel):\n",
        "    \"\"\"Urcuje typ role (Vedouci katedry, dekan apod.)\"\"\"\n",
        "\n",
        "    __tablename__ = \"roletypes\"\n",
        "\n",
        "    id = UUIDColumn()\n",
        "    name = Column(String, comment=\"name of the type\")\n",
        "    name_en = Column(String, comment=\"english name of the type\")\n",
        "\n",
        "    roles = relationship(\"RoleModel\", back_populates=\"roletype\")\n",
        "\n",
        "    created = Column(DateTime, server_default=sqlalchemy.sql.func.now(), comment=\"when record has been created\")\n",
        "    lastchange = Column(DateTime, server_default=sqlalchemy.sql.func.now(), comment=\"timestamp\")\n",
        "    createdby = UUIDFKey(nullable=True, comment=\"who has created this record\")#Column(ForeignKey(\"users.id\"), index=True, nullable=True)\n",
        "    changedby = UUIDFKey(nullable=True, comment=\"who has changed this record\")#Column(ForeignKey(\"users.id\"), index=True, nullable=True)\n",
        "\n",
        "    rbacobject = UUIDFKey(nullable=True, comment=\"holds object for role resolution\")#Column(ForeignKey(\"users.id\"), index=True, nullable=True)"
      ],
      "metadata": {
        "id": "qbcdsTWpT0nQ"
      },
      "execution_count": 8,
      "outputs": []
    },
    {
      "cell_type": "markdown",
      "source": [
        "## Engine"
      ],
      "metadata": {
        "id": "5b0QG8V5psQk"
      }
    },
    {
      "cell_type": "code",
      "source": [
        "from sqlalchemy.ext.asyncio import AsyncSession\n",
        "from sqlalchemy.ext.asyncio import create_async_engine\n",
        "from sqlalchemy.orm import sessionmaker\n",
        "\n",
        "async def startEngine(connectionstring=\"sqlite+aiosqlite://\", makeDrop=False, makeUp=True) -> AsyncSession:\n",
        "    global dbInitIsDone\n",
        "    \"\"\"Provede nezbytne ukony a vrati asynchronni SessionMaker\"\"\"\n",
        "\n",
        "    asyncEngine = create_async_engine(connectionstring, echo=True)\n",
        "\n",
        "    async with asyncEngine.begin() as conn:\n",
        "        if makeDrop:\n",
        "            await conn.run_sync(BaseModel.metadata.drop_all)\n",
        "            print(\"BaseModel.metadata.drop_all finished\")\n",
        "        if makeUp:\n",
        "            try:\n",
        "                await conn.run_sync(BaseModel.metadata.create_all)\n",
        "                print(\"BaseModel.metadata.create_all finished\")\n",
        "            except sqlalchemy.exc.NoReferencedTableError as e:\n",
        "                print(e)\n",
        "                print(\"Unable automaticaly create tables\")\n",
        "                return None\n",
        "    dbInitIsDone = True\n",
        "\n",
        "    async_sessionMaker = sessionmaker(\n",
        "        asyncEngine, expire_on_commit=False, class_=AsyncSession\n",
        "    )\n",
        "    return async_sessionMaker\n",
        "\n"
      ],
      "metadata": {
        "id": "PdgWQckVT5j7"
      },
      "execution_count": 9,
      "outputs": []
    },
    {
      "cell_type": "markdown",
      "source": [],
      "metadata": {
        "id": "IZ3iqf45pwf0"
      }
    },
    {
      "cell_type": "code",
      "source": [
        "async_session_maker = await startEngine()\n"
      ],
      "metadata": {
        "colab": {
          "base_uri": "https://localhost:8080/"
        },
        "id": "3FZl5FdsR-fL",
        "outputId": "f789de86-83fa-4daf-b375-c1a4ba5ffed4"
      },
      "execution_count": 10,
      "outputs": [
        {
          "output_type": "stream",
          "name": "stdout",
          "text": [
            "2024-03-21 20:19:22,725 INFO sqlalchemy.engine.Engine BEGIN (implicit)\n"
          ]
        },
        {
          "output_type": "stream",
          "name": "stderr",
          "text": [
            "INFO:sqlalchemy.engine.Engine:BEGIN (implicit)\n"
          ]
        },
        {
          "output_type": "stream",
          "name": "stdout",
          "text": [
            "2024-03-21 20:19:22,729 INFO sqlalchemy.engine.Engine PRAGMA main.table_info(\"users\")\n"
          ]
        },
        {
          "output_type": "stream",
          "name": "stderr",
          "text": [
            "INFO:sqlalchemy.engine.Engine:PRAGMA main.table_info(\"users\")\n"
          ]
        },
        {
          "output_type": "stream",
          "name": "stdout",
          "text": [
            "2024-03-21 20:19:22,734 INFO sqlalchemy.engine.Engine [raw sql] ()\n"
          ]
        },
        {
          "output_type": "stream",
          "name": "stderr",
          "text": [
            "INFO:sqlalchemy.engine.Engine:[raw sql] ()\n"
          ]
        },
        {
          "output_type": "stream",
          "name": "stdout",
          "text": [
            "2024-03-21 20:19:22,738 INFO sqlalchemy.engine.Engine PRAGMA temp.table_info(\"users\")\n"
          ]
        },
        {
          "output_type": "stream",
          "name": "stderr",
          "text": [
            "INFO:sqlalchemy.engine.Engine:PRAGMA temp.table_info(\"users\")\n"
          ]
        },
        {
          "output_type": "stream",
          "name": "stdout",
          "text": [
            "2024-03-21 20:19:22,742 INFO sqlalchemy.engine.Engine [raw sql] ()\n"
          ]
        },
        {
          "output_type": "stream",
          "name": "stderr",
          "text": [
            "INFO:sqlalchemy.engine.Engine:[raw sql] ()\n"
          ]
        },
        {
          "output_type": "stream",
          "name": "stdout",
          "text": [
            "2024-03-21 20:19:22,745 INFO sqlalchemy.engine.Engine PRAGMA main.table_info(\"groups\")\n"
          ]
        },
        {
          "output_type": "stream",
          "name": "stderr",
          "text": [
            "INFO:sqlalchemy.engine.Engine:PRAGMA main.table_info(\"groups\")\n"
          ]
        },
        {
          "output_type": "stream",
          "name": "stdout",
          "text": [
            "2024-03-21 20:19:22,747 INFO sqlalchemy.engine.Engine [raw sql] ()\n"
          ]
        },
        {
          "output_type": "stream",
          "name": "stderr",
          "text": [
            "INFO:sqlalchemy.engine.Engine:[raw sql] ()\n"
          ]
        },
        {
          "output_type": "stream",
          "name": "stdout",
          "text": [
            "2024-03-21 20:19:22,750 INFO sqlalchemy.engine.Engine PRAGMA temp.table_info(\"groups\")\n"
          ]
        },
        {
          "output_type": "stream",
          "name": "stderr",
          "text": [
            "INFO:sqlalchemy.engine.Engine:PRAGMA temp.table_info(\"groups\")\n"
          ]
        },
        {
          "output_type": "stream",
          "name": "stdout",
          "text": [
            "2024-03-21 20:19:22,752 INFO sqlalchemy.engine.Engine [raw sql] ()\n"
          ]
        },
        {
          "output_type": "stream",
          "name": "stderr",
          "text": [
            "INFO:sqlalchemy.engine.Engine:[raw sql] ()\n"
          ]
        },
        {
          "output_type": "stream",
          "name": "stdout",
          "text": [
            "2024-03-21 20:19:22,755 INFO sqlalchemy.engine.Engine PRAGMA main.table_info(\"memberships\")\n"
          ]
        },
        {
          "output_type": "stream",
          "name": "stderr",
          "text": [
            "INFO:sqlalchemy.engine.Engine:PRAGMA main.table_info(\"memberships\")\n"
          ]
        },
        {
          "output_type": "stream",
          "name": "stdout",
          "text": [
            "2024-03-21 20:19:22,757 INFO sqlalchemy.engine.Engine [raw sql] ()\n"
          ]
        },
        {
          "output_type": "stream",
          "name": "stderr",
          "text": [
            "INFO:sqlalchemy.engine.Engine:[raw sql] ()\n"
          ]
        },
        {
          "output_type": "stream",
          "name": "stdout",
          "text": [
            "2024-03-21 20:19:22,760 INFO sqlalchemy.engine.Engine PRAGMA temp.table_info(\"memberships\")\n"
          ]
        },
        {
          "output_type": "stream",
          "name": "stderr",
          "text": [
            "INFO:sqlalchemy.engine.Engine:PRAGMA temp.table_info(\"memberships\")\n"
          ]
        },
        {
          "output_type": "stream",
          "name": "stdout",
          "text": [
            "2024-03-21 20:19:22,764 INFO sqlalchemy.engine.Engine [raw sql] ()\n"
          ]
        },
        {
          "output_type": "stream",
          "name": "stderr",
          "text": [
            "INFO:sqlalchemy.engine.Engine:[raw sql] ()\n"
          ]
        },
        {
          "output_type": "stream",
          "name": "stdout",
          "text": [
            "2024-03-21 20:19:22,767 INFO sqlalchemy.engine.Engine PRAGMA main.table_info(\"roles\")\n"
          ]
        },
        {
          "output_type": "stream",
          "name": "stderr",
          "text": [
            "INFO:sqlalchemy.engine.Engine:PRAGMA main.table_info(\"roles\")\n"
          ]
        },
        {
          "output_type": "stream",
          "name": "stdout",
          "text": [
            "2024-03-21 20:19:22,769 INFO sqlalchemy.engine.Engine [raw sql] ()\n"
          ]
        },
        {
          "output_type": "stream",
          "name": "stderr",
          "text": [
            "INFO:sqlalchemy.engine.Engine:[raw sql] ()\n"
          ]
        },
        {
          "output_type": "stream",
          "name": "stdout",
          "text": [
            "2024-03-21 20:19:22,772 INFO sqlalchemy.engine.Engine PRAGMA temp.table_info(\"roles\")\n"
          ]
        },
        {
          "output_type": "stream",
          "name": "stderr",
          "text": [
            "INFO:sqlalchemy.engine.Engine:PRAGMA temp.table_info(\"roles\")\n"
          ]
        },
        {
          "output_type": "stream",
          "name": "stdout",
          "text": [
            "2024-03-21 20:19:22,774 INFO sqlalchemy.engine.Engine [raw sql] ()\n"
          ]
        },
        {
          "output_type": "stream",
          "name": "stderr",
          "text": [
            "INFO:sqlalchemy.engine.Engine:[raw sql] ()\n"
          ]
        },
        {
          "output_type": "stream",
          "name": "stdout",
          "text": [
            "2024-03-21 20:19:22,777 INFO sqlalchemy.engine.Engine PRAGMA main.table_info(\"roletypes\")\n"
          ]
        },
        {
          "output_type": "stream",
          "name": "stderr",
          "text": [
            "INFO:sqlalchemy.engine.Engine:PRAGMA main.table_info(\"roletypes\")\n"
          ]
        },
        {
          "output_type": "stream",
          "name": "stdout",
          "text": [
            "2024-03-21 20:19:22,779 INFO sqlalchemy.engine.Engine [raw sql] ()\n"
          ]
        },
        {
          "output_type": "stream",
          "name": "stderr",
          "text": [
            "INFO:sqlalchemy.engine.Engine:[raw sql] ()\n"
          ]
        },
        {
          "output_type": "stream",
          "name": "stdout",
          "text": [
            "2024-03-21 20:19:22,782 INFO sqlalchemy.engine.Engine PRAGMA temp.table_info(\"roletypes\")\n"
          ]
        },
        {
          "output_type": "stream",
          "name": "stderr",
          "text": [
            "INFO:sqlalchemy.engine.Engine:PRAGMA temp.table_info(\"roletypes\")\n"
          ]
        },
        {
          "output_type": "stream",
          "name": "stdout",
          "text": [
            "2024-03-21 20:19:22,784 INFO sqlalchemy.engine.Engine [raw sql] ()\n"
          ]
        },
        {
          "output_type": "stream",
          "name": "stderr",
          "text": [
            "INFO:sqlalchemy.engine.Engine:[raw sql] ()\n"
          ]
        },
        {
          "output_type": "stream",
          "name": "stdout",
          "text": [
            "2024-03-21 20:19:22,788 INFO sqlalchemy.engine.Engine \n",
            "CREATE TABLE users (\n",
            "\tid CHAR(32) NOT NULL, \n",
            "\tname VARCHAR, \n",
            "\tsurname VARCHAR, \n",
            "\temail VARCHAR, \n",
            "\tstartdate DATETIME, \n",
            "\tenddate DATETIME, \n",
            "\tvalid BOOLEAN, \n",
            "\tcreated DATETIME DEFAULT (CURRENT_TIMESTAMP), \n",
            "\tlastchange DATETIME DEFAULT (CURRENT_TIMESTAMP), \n",
            "\tcreatedby CHAR(32), \n",
            "\tchangedby CHAR(32), \n",
            "\trbacobject CHAR(32), \n",
            "\tPRIMARY KEY (id)\n",
            ")\n",
            "\n",
            "\n"
          ]
        },
        {
          "output_type": "stream",
          "name": "stderr",
          "text": [
            "INFO:sqlalchemy.engine.Engine:\n",
            "CREATE TABLE users (\n",
            "\tid CHAR(32) NOT NULL, \n",
            "\tname VARCHAR, \n",
            "\tsurname VARCHAR, \n",
            "\temail VARCHAR, \n",
            "\tstartdate DATETIME, \n",
            "\tenddate DATETIME, \n",
            "\tvalid BOOLEAN, \n",
            "\tcreated DATETIME DEFAULT (CURRENT_TIMESTAMP), \n",
            "\tlastchange DATETIME DEFAULT (CURRENT_TIMESTAMP), \n",
            "\tcreatedby CHAR(32), \n",
            "\tchangedby CHAR(32), \n",
            "\trbacobject CHAR(32), \n",
            "\tPRIMARY KEY (id)\n",
            ")\n",
            "\n",
            "\n"
          ]
        },
        {
          "output_type": "stream",
          "name": "stdout",
          "text": [
            "2024-03-21 20:19:22,791 INFO sqlalchemy.engine.Engine [no key 0.00289s] ()\n"
          ]
        },
        {
          "output_type": "stream",
          "name": "stderr",
          "text": [
            "INFO:sqlalchemy.engine.Engine:[no key 0.00289s] ()\n"
          ]
        },
        {
          "output_type": "stream",
          "name": "stdout",
          "text": [
            "2024-03-21 20:19:22,795 INFO sqlalchemy.engine.Engine CREATE INDEX ix_users_rbacobject ON users (rbacobject)\n"
          ]
        },
        {
          "output_type": "stream",
          "name": "stderr",
          "text": [
            "INFO:sqlalchemy.engine.Engine:CREATE INDEX ix_users_rbacobject ON users (rbacobject)\n"
          ]
        },
        {
          "output_type": "stream",
          "name": "stdout",
          "text": [
            "2024-03-21 20:19:22,797 INFO sqlalchemy.engine.Engine [no key 0.00229s] ()\n"
          ]
        },
        {
          "output_type": "stream",
          "name": "stderr",
          "text": [
            "INFO:sqlalchemy.engine.Engine:[no key 0.00229s] ()\n"
          ]
        },
        {
          "output_type": "stream",
          "name": "stdout",
          "text": [
            "2024-03-21 20:19:22,801 INFO sqlalchemy.engine.Engine CREATE INDEX ix_users_changedby ON users (changedby)\n"
          ]
        },
        {
          "output_type": "stream",
          "name": "stderr",
          "text": [
            "INFO:sqlalchemy.engine.Engine:CREATE INDEX ix_users_changedby ON users (changedby)\n"
          ]
        },
        {
          "output_type": "stream",
          "name": "stdout",
          "text": [
            "2024-03-21 20:19:22,803 INFO sqlalchemy.engine.Engine [no key 0.00249s] ()\n"
          ]
        },
        {
          "output_type": "stream",
          "name": "stderr",
          "text": [
            "INFO:sqlalchemy.engine.Engine:[no key 0.00249s] ()\n"
          ]
        },
        {
          "output_type": "stream",
          "name": "stdout",
          "text": [
            "2024-03-21 20:19:22,806 INFO sqlalchemy.engine.Engine CREATE INDEX ix_users_createdby ON users (createdby)\n"
          ]
        },
        {
          "output_type": "stream",
          "name": "stderr",
          "text": [
            "INFO:sqlalchemy.engine.Engine:CREATE INDEX ix_users_createdby ON users (createdby)\n"
          ]
        },
        {
          "output_type": "stream",
          "name": "stdout",
          "text": [
            "2024-03-21 20:19:22,808 INFO sqlalchemy.engine.Engine [no key 0.00216s] ()\n"
          ]
        },
        {
          "output_type": "stream",
          "name": "stderr",
          "text": [
            "INFO:sqlalchemy.engine.Engine:[no key 0.00216s] ()\n"
          ]
        },
        {
          "output_type": "stream",
          "name": "stdout",
          "text": [
            "2024-03-21 20:19:22,812 INFO sqlalchemy.engine.Engine \n",
            "CREATE TABLE groups (\n",
            "\tid CHAR(32) NOT NULL, \n",
            "\tname VARCHAR, \n",
            "\tname_en VARCHAR, \n",
            "\temail VARCHAR, \n",
            "\tstartdate DATETIME, \n",
            "\tenddate DATETIME, \n",
            "\tvalid BOOLEAN, \n",
            "\tmastergroup_id CHAR(32), \n",
            "\tcreated DATETIME DEFAULT (CURRENT_TIMESTAMP), \n",
            "\tlastchange DATETIME DEFAULT (CURRENT_TIMESTAMP), \n",
            "\tcreatedby CHAR(32), \n",
            "\tchangedby CHAR(32), \n",
            "\trbacobject CHAR(32), \n",
            "\tPRIMARY KEY (id), \n",
            "\tFOREIGN KEY(mastergroup_id) REFERENCES groups (id)\n",
            ")\n",
            "\n",
            "\n"
          ]
        },
        {
          "output_type": "stream",
          "name": "stderr",
          "text": [
            "INFO:sqlalchemy.engine.Engine:\n",
            "CREATE TABLE groups (\n",
            "\tid CHAR(32) NOT NULL, \n",
            "\tname VARCHAR, \n",
            "\tname_en VARCHAR, \n",
            "\temail VARCHAR, \n",
            "\tstartdate DATETIME, \n",
            "\tenddate DATETIME, \n",
            "\tvalid BOOLEAN, \n",
            "\tmastergroup_id CHAR(32), \n",
            "\tcreated DATETIME DEFAULT (CURRENT_TIMESTAMP), \n",
            "\tlastchange DATETIME DEFAULT (CURRENT_TIMESTAMP), \n",
            "\tcreatedby CHAR(32), \n",
            "\tchangedby CHAR(32), \n",
            "\trbacobject CHAR(32), \n",
            "\tPRIMARY KEY (id), \n",
            "\tFOREIGN KEY(mastergroup_id) REFERENCES groups (id)\n",
            ")\n",
            "\n",
            "\n"
          ]
        },
        {
          "output_type": "stream",
          "name": "stdout",
          "text": [
            "2024-03-21 20:19:22,814 INFO sqlalchemy.engine.Engine [no key 0.00220s] ()\n"
          ]
        },
        {
          "output_type": "stream",
          "name": "stderr",
          "text": [
            "INFO:sqlalchemy.engine.Engine:[no key 0.00220s] ()\n"
          ]
        },
        {
          "output_type": "stream",
          "name": "stdout",
          "text": [
            "2024-03-21 20:19:22,817 INFO sqlalchemy.engine.Engine CREATE INDEX ix_groups_rbacobject ON groups (rbacobject)\n"
          ]
        },
        {
          "output_type": "stream",
          "name": "stderr",
          "text": [
            "INFO:sqlalchemy.engine.Engine:CREATE INDEX ix_groups_rbacobject ON groups (rbacobject)\n"
          ]
        },
        {
          "output_type": "stream",
          "name": "stdout",
          "text": [
            "2024-03-21 20:19:22,820 INFO sqlalchemy.engine.Engine [no key 0.00228s] ()\n"
          ]
        },
        {
          "output_type": "stream",
          "name": "stderr",
          "text": [
            "INFO:sqlalchemy.engine.Engine:[no key 0.00228s] ()\n"
          ]
        },
        {
          "output_type": "stream",
          "name": "stdout",
          "text": [
            "2024-03-21 20:19:22,824 INFO sqlalchemy.engine.Engine CREATE INDEX ix_groups_createdby ON groups (createdby)\n"
          ]
        },
        {
          "output_type": "stream",
          "name": "stderr",
          "text": [
            "INFO:sqlalchemy.engine.Engine:CREATE INDEX ix_groups_createdby ON groups (createdby)\n"
          ]
        },
        {
          "output_type": "stream",
          "name": "stdout",
          "text": [
            "2024-03-21 20:19:22,826 INFO sqlalchemy.engine.Engine [no key 0.00228s] ()\n"
          ]
        },
        {
          "output_type": "stream",
          "name": "stderr",
          "text": [
            "INFO:sqlalchemy.engine.Engine:[no key 0.00228s] ()\n"
          ]
        },
        {
          "output_type": "stream",
          "name": "stdout",
          "text": [
            "2024-03-21 20:19:22,829 INFO sqlalchemy.engine.Engine CREATE INDEX ix_groups_mastergroup_id ON groups (mastergroup_id)\n"
          ]
        },
        {
          "output_type": "stream",
          "name": "stderr",
          "text": [
            "INFO:sqlalchemy.engine.Engine:CREATE INDEX ix_groups_mastergroup_id ON groups (mastergroup_id)\n"
          ]
        },
        {
          "output_type": "stream",
          "name": "stdout",
          "text": [
            "2024-03-21 20:19:22,831 INFO sqlalchemy.engine.Engine [no key 0.00211s] ()\n"
          ]
        },
        {
          "output_type": "stream",
          "name": "stderr",
          "text": [
            "INFO:sqlalchemy.engine.Engine:[no key 0.00211s] ()\n"
          ]
        },
        {
          "output_type": "stream",
          "name": "stdout",
          "text": [
            "2024-03-21 20:19:22,834 INFO sqlalchemy.engine.Engine CREATE INDEX ix_groups_changedby ON groups (changedby)\n"
          ]
        },
        {
          "output_type": "stream",
          "name": "stderr",
          "text": [
            "INFO:sqlalchemy.engine.Engine:CREATE INDEX ix_groups_changedby ON groups (changedby)\n"
          ]
        },
        {
          "output_type": "stream",
          "name": "stdout",
          "text": [
            "2024-03-21 20:19:22,837 INFO sqlalchemy.engine.Engine [no key 0.00244s] ()\n"
          ]
        },
        {
          "output_type": "stream",
          "name": "stderr",
          "text": [
            "INFO:sqlalchemy.engine.Engine:[no key 0.00244s] ()\n"
          ]
        },
        {
          "output_type": "stream",
          "name": "stdout",
          "text": [
            "2024-03-21 20:19:22,840 INFO sqlalchemy.engine.Engine \n",
            "CREATE TABLE roletypes (\n",
            "\tid CHAR(32) NOT NULL, \n",
            "\tname VARCHAR, \n",
            "\tname_en VARCHAR, \n",
            "\tcreated DATETIME DEFAULT (CURRENT_TIMESTAMP), \n",
            "\tlastchange DATETIME DEFAULT (CURRENT_TIMESTAMP), \n",
            "\tcreatedby CHAR(32), \n",
            "\tchangedby CHAR(32), \n",
            "\trbacobject CHAR(32), \n",
            "\tPRIMARY KEY (id)\n",
            ")\n",
            "\n",
            "\n"
          ]
        },
        {
          "output_type": "stream",
          "name": "stderr",
          "text": [
            "INFO:sqlalchemy.engine.Engine:\n",
            "CREATE TABLE roletypes (\n",
            "\tid CHAR(32) NOT NULL, \n",
            "\tname VARCHAR, \n",
            "\tname_en VARCHAR, \n",
            "\tcreated DATETIME DEFAULT (CURRENT_TIMESTAMP), \n",
            "\tlastchange DATETIME DEFAULT (CURRENT_TIMESTAMP), \n",
            "\tcreatedby CHAR(32), \n",
            "\tchangedby CHAR(32), \n",
            "\trbacobject CHAR(32), \n",
            "\tPRIMARY KEY (id)\n",
            ")\n",
            "\n",
            "\n"
          ]
        },
        {
          "output_type": "stream",
          "name": "stdout",
          "text": [
            "2024-03-21 20:19:22,842 INFO sqlalchemy.engine.Engine [no key 0.00209s] ()\n"
          ]
        },
        {
          "output_type": "stream",
          "name": "stderr",
          "text": [
            "INFO:sqlalchemy.engine.Engine:[no key 0.00209s] ()\n"
          ]
        },
        {
          "output_type": "stream",
          "name": "stdout",
          "text": [
            "2024-03-21 20:19:22,845 INFO sqlalchemy.engine.Engine CREATE INDEX ix_roletypes_createdby ON roletypes (createdby)\n"
          ]
        },
        {
          "output_type": "stream",
          "name": "stderr",
          "text": [
            "INFO:sqlalchemy.engine.Engine:CREATE INDEX ix_roletypes_createdby ON roletypes (createdby)\n"
          ]
        },
        {
          "output_type": "stream",
          "name": "stdout",
          "text": [
            "2024-03-21 20:19:22,847 INFO sqlalchemy.engine.Engine [no key 0.00212s] ()\n"
          ]
        },
        {
          "output_type": "stream",
          "name": "stderr",
          "text": [
            "INFO:sqlalchemy.engine.Engine:[no key 0.00212s] ()\n"
          ]
        },
        {
          "output_type": "stream",
          "name": "stdout",
          "text": [
            "2024-03-21 20:19:22,851 INFO sqlalchemy.engine.Engine CREATE INDEX ix_roletypes_rbacobject ON roletypes (rbacobject)\n"
          ]
        },
        {
          "output_type": "stream",
          "name": "stderr",
          "text": [
            "INFO:sqlalchemy.engine.Engine:CREATE INDEX ix_roletypes_rbacobject ON roletypes (rbacobject)\n"
          ]
        },
        {
          "output_type": "stream",
          "name": "stdout",
          "text": [
            "2024-03-21 20:19:22,853 INFO sqlalchemy.engine.Engine [no key 0.00211s] ()\n"
          ]
        },
        {
          "output_type": "stream",
          "name": "stderr",
          "text": [
            "INFO:sqlalchemy.engine.Engine:[no key 0.00211s] ()\n"
          ]
        },
        {
          "output_type": "stream",
          "name": "stdout",
          "text": [
            "2024-03-21 20:19:22,856 INFO sqlalchemy.engine.Engine CREATE INDEX ix_roletypes_changedby ON roletypes (changedby)\n"
          ]
        },
        {
          "output_type": "stream",
          "name": "stderr",
          "text": [
            "INFO:sqlalchemy.engine.Engine:CREATE INDEX ix_roletypes_changedby ON roletypes (changedby)\n"
          ]
        },
        {
          "output_type": "stream",
          "name": "stdout",
          "text": [
            "2024-03-21 20:19:22,858 INFO sqlalchemy.engine.Engine [no key 0.00212s] ()\n"
          ]
        },
        {
          "output_type": "stream",
          "name": "stderr",
          "text": [
            "INFO:sqlalchemy.engine.Engine:[no key 0.00212s] ()\n"
          ]
        },
        {
          "output_type": "stream",
          "name": "stdout",
          "text": [
            "2024-03-21 20:19:22,861 INFO sqlalchemy.engine.Engine \n",
            "CREATE TABLE memberships (\n",
            "\tid CHAR(32) NOT NULL, \n",
            "\tuser_id CHAR(32), \n",
            "\tgroup_id CHAR(32), \n",
            "\tstartdate DATETIME, \n",
            "\tenddate DATETIME, \n",
            "\tvalid BOOLEAN, \n",
            "\tcreated DATETIME DEFAULT (CURRENT_TIMESTAMP), \n",
            "\tlastchange DATETIME DEFAULT (CURRENT_TIMESTAMP), \n",
            "\tcreatedby CHAR(32), \n",
            "\tchangedby CHAR(32), \n",
            "\trbacobject CHAR(32), \n",
            "\tPRIMARY KEY (id), \n",
            "\tFOREIGN KEY(user_id) REFERENCES users (id), \n",
            "\tFOREIGN KEY(group_id) REFERENCES groups (id)\n",
            ")\n",
            "\n",
            "\n"
          ]
        },
        {
          "output_type": "stream",
          "name": "stderr",
          "text": [
            "INFO:sqlalchemy.engine.Engine:\n",
            "CREATE TABLE memberships (\n",
            "\tid CHAR(32) NOT NULL, \n",
            "\tuser_id CHAR(32), \n",
            "\tgroup_id CHAR(32), \n",
            "\tstartdate DATETIME, \n",
            "\tenddate DATETIME, \n",
            "\tvalid BOOLEAN, \n",
            "\tcreated DATETIME DEFAULT (CURRENT_TIMESTAMP), \n",
            "\tlastchange DATETIME DEFAULT (CURRENT_TIMESTAMP), \n",
            "\tcreatedby CHAR(32), \n",
            "\tchangedby CHAR(32), \n",
            "\trbacobject CHAR(32), \n",
            "\tPRIMARY KEY (id), \n",
            "\tFOREIGN KEY(user_id) REFERENCES users (id), \n",
            "\tFOREIGN KEY(group_id) REFERENCES groups (id)\n",
            ")\n",
            "\n",
            "\n"
          ]
        },
        {
          "output_type": "stream",
          "name": "stdout",
          "text": [
            "2024-03-21 20:19:22,864 INFO sqlalchemy.engine.Engine [no key 0.00216s] ()\n"
          ]
        },
        {
          "output_type": "stream",
          "name": "stderr",
          "text": [
            "INFO:sqlalchemy.engine.Engine:[no key 0.00216s] ()\n"
          ]
        },
        {
          "output_type": "stream",
          "name": "stdout",
          "text": [
            "2024-03-21 20:19:22,867 INFO sqlalchemy.engine.Engine CREATE INDEX ix_memberships_user_id ON memberships (user_id)\n"
          ]
        },
        {
          "output_type": "stream",
          "name": "stderr",
          "text": [
            "INFO:sqlalchemy.engine.Engine:CREATE INDEX ix_memberships_user_id ON memberships (user_id)\n"
          ]
        },
        {
          "output_type": "stream",
          "name": "stdout",
          "text": [
            "2024-03-21 20:19:22,869 INFO sqlalchemy.engine.Engine [no key 0.00246s] ()\n"
          ]
        },
        {
          "output_type": "stream",
          "name": "stderr",
          "text": [
            "INFO:sqlalchemy.engine.Engine:[no key 0.00246s] ()\n"
          ]
        },
        {
          "output_type": "stream",
          "name": "stdout",
          "text": [
            "2024-03-21 20:19:22,873 INFO sqlalchemy.engine.Engine CREATE INDEX ix_memberships_group_id ON memberships (group_id)\n"
          ]
        },
        {
          "output_type": "stream",
          "name": "stderr",
          "text": [
            "INFO:sqlalchemy.engine.Engine:CREATE INDEX ix_memberships_group_id ON memberships (group_id)\n"
          ]
        },
        {
          "output_type": "stream",
          "name": "stdout",
          "text": [
            "2024-03-21 20:19:22,875 INFO sqlalchemy.engine.Engine [no key 0.00230s] ()\n"
          ]
        },
        {
          "output_type": "stream",
          "name": "stderr",
          "text": [
            "INFO:sqlalchemy.engine.Engine:[no key 0.00230s] ()\n"
          ]
        },
        {
          "output_type": "stream",
          "name": "stdout",
          "text": [
            "2024-03-21 20:19:22,879 INFO sqlalchemy.engine.Engine CREATE INDEX ix_memberships_createdby ON memberships (createdby)\n"
          ]
        },
        {
          "output_type": "stream",
          "name": "stderr",
          "text": [
            "INFO:sqlalchemy.engine.Engine:CREATE INDEX ix_memberships_createdby ON memberships (createdby)\n"
          ]
        },
        {
          "output_type": "stream",
          "name": "stdout",
          "text": [
            "2024-03-21 20:19:22,881 INFO sqlalchemy.engine.Engine [no key 0.00236s] ()\n"
          ]
        },
        {
          "output_type": "stream",
          "name": "stderr",
          "text": [
            "INFO:sqlalchemy.engine.Engine:[no key 0.00236s] ()\n"
          ]
        },
        {
          "output_type": "stream",
          "name": "stdout",
          "text": [
            "2024-03-21 20:19:22,884 INFO sqlalchemy.engine.Engine CREATE INDEX ix_memberships_rbacobject ON memberships (rbacobject)\n"
          ]
        },
        {
          "output_type": "stream",
          "name": "stderr",
          "text": [
            "INFO:sqlalchemy.engine.Engine:CREATE INDEX ix_memberships_rbacobject ON memberships (rbacobject)\n"
          ]
        },
        {
          "output_type": "stream",
          "name": "stdout",
          "text": [
            "2024-03-21 20:19:22,887 INFO sqlalchemy.engine.Engine [no key 0.00221s] ()\n"
          ]
        },
        {
          "output_type": "stream",
          "name": "stderr",
          "text": [
            "INFO:sqlalchemy.engine.Engine:[no key 0.00221s] ()\n"
          ]
        },
        {
          "output_type": "stream",
          "name": "stdout",
          "text": [
            "2024-03-21 20:19:22,890 INFO sqlalchemy.engine.Engine CREATE INDEX ix_memberships_changedby ON memberships (changedby)\n"
          ]
        },
        {
          "output_type": "stream",
          "name": "stderr",
          "text": [
            "INFO:sqlalchemy.engine.Engine:CREATE INDEX ix_memberships_changedby ON memberships (changedby)\n"
          ]
        },
        {
          "output_type": "stream",
          "name": "stdout",
          "text": [
            "2024-03-21 20:19:22,892 INFO sqlalchemy.engine.Engine [no key 0.00220s] ()\n"
          ]
        },
        {
          "output_type": "stream",
          "name": "stderr",
          "text": [
            "INFO:sqlalchemy.engine.Engine:[no key 0.00220s] ()\n"
          ]
        },
        {
          "output_type": "stream",
          "name": "stdout",
          "text": [
            "2024-03-21 20:19:22,896 INFO sqlalchemy.engine.Engine \n",
            "CREATE TABLE roles (\n",
            "\tid CHAR(32) NOT NULL, \n",
            "\tuser_id CHAR(32), \n",
            "\tgroup_id CHAR(32), \n",
            "\troletype_id CHAR(32), \n",
            "\tstartdate DATETIME, \n",
            "\tenddate DATETIME, \n",
            "\tvalid BOOLEAN, \n",
            "\tcreated DATETIME DEFAULT (CURRENT_TIMESTAMP), \n",
            "\tlastchange DATETIME DEFAULT (CURRENT_TIMESTAMP), \n",
            "\tcreatedby CHAR(32), \n",
            "\tchangedby CHAR(32), \n",
            "\trbacobject CHAR(32), \n",
            "\tPRIMARY KEY (id), \n",
            "\tFOREIGN KEY(user_id) REFERENCES users (id), \n",
            "\tFOREIGN KEY(group_id) REFERENCES groups (id), \n",
            "\tFOREIGN KEY(roletype_id) REFERENCES roletypes (id)\n",
            ")\n",
            "\n",
            "\n"
          ]
        },
        {
          "output_type": "stream",
          "name": "stderr",
          "text": [
            "INFO:sqlalchemy.engine.Engine:\n",
            "CREATE TABLE roles (\n",
            "\tid CHAR(32) NOT NULL, \n",
            "\tuser_id CHAR(32), \n",
            "\tgroup_id CHAR(32), \n",
            "\troletype_id CHAR(32), \n",
            "\tstartdate DATETIME, \n",
            "\tenddate DATETIME, \n",
            "\tvalid BOOLEAN, \n",
            "\tcreated DATETIME DEFAULT (CURRENT_TIMESTAMP), \n",
            "\tlastchange DATETIME DEFAULT (CURRENT_TIMESTAMP), \n",
            "\tcreatedby CHAR(32), \n",
            "\tchangedby CHAR(32), \n",
            "\trbacobject CHAR(32), \n",
            "\tPRIMARY KEY (id), \n",
            "\tFOREIGN KEY(user_id) REFERENCES users (id), \n",
            "\tFOREIGN KEY(group_id) REFERENCES groups (id), \n",
            "\tFOREIGN KEY(roletype_id) REFERENCES roletypes (id)\n",
            ")\n",
            "\n",
            "\n"
          ]
        },
        {
          "output_type": "stream",
          "name": "stdout",
          "text": [
            "2024-03-21 20:19:22,898 INFO sqlalchemy.engine.Engine [no key 0.00255s] ()\n"
          ]
        },
        {
          "output_type": "stream",
          "name": "stderr",
          "text": [
            "INFO:sqlalchemy.engine.Engine:[no key 0.00255s] ()\n"
          ]
        },
        {
          "output_type": "stream",
          "name": "stdout",
          "text": [
            "2024-03-21 20:19:22,902 INFO sqlalchemy.engine.Engine CREATE INDEX ix_roles_roletype_id ON roles (roletype_id)\n"
          ]
        },
        {
          "output_type": "stream",
          "name": "stderr",
          "text": [
            "INFO:sqlalchemy.engine.Engine:CREATE INDEX ix_roles_roletype_id ON roles (roletype_id)\n"
          ]
        },
        {
          "output_type": "stream",
          "name": "stdout",
          "text": [
            "2024-03-21 20:19:22,904 INFO sqlalchemy.engine.Engine [no key 0.00237s] ()\n"
          ]
        },
        {
          "output_type": "stream",
          "name": "stderr",
          "text": [
            "INFO:sqlalchemy.engine.Engine:[no key 0.00237s] ()\n"
          ]
        },
        {
          "output_type": "stream",
          "name": "stdout",
          "text": [
            "2024-03-21 20:19:22,907 INFO sqlalchemy.engine.Engine CREATE INDEX ix_roles_rbacobject ON roles (rbacobject)\n"
          ]
        },
        {
          "output_type": "stream",
          "name": "stderr",
          "text": [
            "INFO:sqlalchemy.engine.Engine:CREATE INDEX ix_roles_rbacobject ON roles (rbacobject)\n"
          ]
        },
        {
          "output_type": "stream",
          "name": "stdout",
          "text": [
            "2024-03-21 20:19:22,909 INFO sqlalchemy.engine.Engine [no key 0.00220s] ()\n"
          ]
        },
        {
          "output_type": "stream",
          "name": "stderr",
          "text": [
            "INFO:sqlalchemy.engine.Engine:[no key 0.00220s] ()\n"
          ]
        },
        {
          "output_type": "stream",
          "name": "stdout",
          "text": [
            "2024-03-21 20:19:22,913 INFO sqlalchemy.engine.Engine CREATE INDEX ix_roles_user_id ON roles (user_id)\n"
          ]
        },
        {
          "output_type": "stream",
          "name": "stderr",
          "text": [
            "INFO:sqlalchemy.engine.Engine:CREATE INDEX ix_roles_user_id ON roles (user_id)\n"
          ]
        },
        {
          "output_type": "stream",
          "name": "stdout",
          "text": [
            "2024-03-21 20:19:22,915 INFO sqlalchemy.engine.Engine [no key 0.00215s] ()\n"
          ]
        },
        {
          "output_type": "stream",
          "name": "stderr",
          "text": [
            "INFO:sqlalchemy.engine.Engine:[no key 0.00215s] ()\n"
          ]
        },
        {
          "output_type": "stream",
          "name": "stdout",
          "text": [
            "2024-03-21 20:19:22,918 INFO sqlalchemy.engine.Engine CREATE INDEX ix_roles_changedby ON roles (changedby)\n"
          ]
        },
        {
          "output_type": "stream",
          "name": "stderr",
          "text": [
            "INFO:sqlalchemy.engine.Engine:CREATE INDEX ix_roles_changedby ON roles (changedby)\n"
          ]
        },
        {
          "output_type": "stream",
          "name": "stdout",
          "text": [
            "2024-03-21 20:19:22,920 INFO sqlalchemy.engine.Engine [no key 0.00238s] ()\n"
          ]
        },
        {
          "output_type": "stream",
          "name": "stderr",
          "text": [
            "INFO:sqlalchemy.engine.Engine:[no key 0.00238s] ()\n"
          ]
        },
        {
          "output_type": "stream",
          "name": "stdout",
          "text": [
            "2024-03-21 20:19:22,924 INFO sqlalchemy.engine.Engine CREATE INDEX ix_roles_group_id ON roles (group_id)\n"
          ]
        },
        {
          "output_type": "stream",
          "name": "stderr",
          "text": [
            "INFO:sqlalchemy.engine.Engine:CREATE INDEX ix_roles_group_id ON roles (group_id)\n"
          ]
        },
        {
          "output_type": "stream",
          "name": "stdout",
          "text": [
            "2024-03-21 20:19:22,926 INFO sqlalchemy.engine.Engine [no key 0.00223s] ()\n"
          ]
        },
        {
          "output_type": "stream",
          "name": "stderr",
          "text": [
            "INFO:sqlalchemy.engine.Engine:[no key 0.00223s] ()\n"
          ]
        },
        {
          "output_type": "stream",
          "name": "stdout",
          "text": [
            "2024-03-21 20:19:22,929 INFO sqlalchemy.engine.Engine CREATE INDEX ix_roles_createdby ON roles (createdby)\n"
          ]
        },
        {
          "output_type": "stream",
          "name": "stderr",
          "text": [
            "INFO:sqlalchemy.engine.Engine:CREATE INDEX ix_roles_createdby ON roles (createdby)\n"
          ]
        },
        {
          "output_type": "stream",
          "name": "stdout",
          "text": [
            "2024-03-21 20:19:22,931 INFO sqlalchemy.engine.Engine [no key 0.00205s] ()\n"
          ]
        },
        {
          "output_type": "stream",
          "name": "stderr",
          "text": [
            "INFO:sqlalchemy.engine.Engine:[no key 0.00205s] ()\n"
          ]
        },
        {
          "output_type": "stream",
          "name": "stdout",
          "text": [
            "BaseModel.metadata.create_all finished\n",
            "2024-03-21 20:19:22,934 INFO sqlalchemy.engine.Engine COMMIT\n"
          ]
        },
        {
          "output_type": "stream",
          "name": "stderr",
          "text": [
            "INFO:sqlalchemy.engine.Engine:COMMIT\n"
          ]
        }
      ]
    },
    {
      "cell_type": "markdown",
      "source": [
        "## Op C"
      ],
      "metadata": {
        "id": "5OvsTuFjp14G"
      }
    },
    {
      "cell_type": "code",
      "source": [
        "async def Add(model, **attrs):\n",
        "    async with async_session_maker.begin() as session:\n",
        "        u = model(**attrs)\n",
        "        session.add(u)\n",
        "        await session.commit()\n",
        "        return u\n",
        "\n",
        "u = await Add(UserModel, name=\"John\", surname=\"Newbie\", id=UUID(\"8b22e698f41548ab954a4554568839c5\"))\n",
        "print(u)"
      ],
      "metadata": {
        "id": "StNno3-nVC3T",
        "outputId": "0ff66496-1367-45cb-d62f-646740b1ed66",
        "colab": {
          "base_uri": "https://localhost:8080/"
        }
      },
      "execution_count": 11,
      "outputs": [
        {
          "output_type": "stream",
          "name": "stdout",
          "text": [
            "2024-03-21 20:19:23,068 INFO sqlalchemy.engine.Engine BEGIN (implicit)\n"
          ]
        },
        {
          "output_type": "stream",
          "name": "stderr",
          "text": [
            "INFO:sqlalchemy.engine.Engine:BEGIN (implicit)\n"
          ]
        },
        {
          "output_type": "stream",
          "name": "stdout",
          "text": [
            "2024-03-21 20:19:23,084 INFO sqlalchemy.engine.Engine INSERT INTO users (id, name, surname, email, startdate, enddate, valid, createdby, changedby, rbacobject) VALUES (?, ?, ?, ?, ?, ?, ?, ?, ?, ?) RETURNING created, lastchange\n"
          ]
        },
        {
          "output_type": "stream",
          "name": "stderr",
          "text": [
            "INFO:sqlalchemy.engine.Engine:INSERT INTO users (id, name, surname, email, startdate, enddate, valid, createdby, changedby, rbacobject) VALUES (?, ?, ?, ?, ?, ?, ?, ?, ?, ?) RETURNING created, lastchange\n"
          ]
        },
        {
          "output_type": "stream",
          "name": "stdout",
          "text": [
            "2024-03-21 20:19:23,089 INFO sqlalchemy.engine.Engine [generated in 0.00579s] ('8b22e698f41548ab954a4554568839c5', 'John', 'Newbie', None, None, None, 1, None, None, None)\n"
          ]
        },
        {
          "output_type": "stream",
          "name": "stderr",
          "text": [
            "INFO:sqlalchemy.engine.Engine:[generated in 0.00579s] ('8b22e698f41548ab954a4554568839c5', 'John', 'Newbie', None, None, None, 1, None, None, None)\n"
          ]
        },
        {
          "output_type": "stream",
          "name": "stdout",
          "text": [
            "2024-03-21 20:19:23,097 INFO sqlalchemy.engine.Engine COMMIT\n"
          ]
        },
        {
          "output_type": "stream",
          "name": "stderr",
          "text": [
            "INFO:sqlalchemy.engine.Engine:COMMIT\n"
          ]
        },
        {
          "output_type": "stream",
          "name": "stdout",
          "text": [
            "<__main__.UserModel object at 0x794965ab8f70>\n"
          ]
        }
      ]
    },
    {
      "cell_type": "markdown",
      "source": [
        "## Op R"
      ],
      "metadata": {
        "id": "Y3146fwZp366"
      }
    },
    {
      "cell_type": "code",
      "source": [
        "from sqlalchemy import select\n",
        "async def Get(model, id):\n",
        "    stmt = select(model).filter_by(id=id)\n",
        "    async with async_session_maker.begin() as session:\n",
        "        results = await session.execute(stmt)\n",
        "        return results.scalar()\n",
        "\n",
        "u = await Get(UserModel, id=UUID(\"8b22e698f41548ab954a4554568839c5\"))\n",
        "print(u)"
      ],
      "metadata": {
        "id": "4eSAiwa6Vna3",
        "outputId": "19f480d5-d488-4815-ae98-cf54296b72db",
        "colab": {
          "base_uri": "https://localhost:8080/"
        }
      },
      "execution_count": 12,
      "outputs": [
        {
          "output_type": "stream",
          "name": "stdout",
          "text": [
            "2024-03-21 20:19:23,123 INFO sqlalchemy.engine.Engine BEGIN (implicit)\n"
          ]
        },
        {
          "output_type": "stream",
          "name": "stderr",
          "text": [
            "INFO:sqlalchemy.engine.Engine:BEGIN (implicit)\n"
          ]
        },
        {
          "output_type": "stream",
          "name": "stdout",
          "text": [
            "2024-03-21 20:19:23,136 INFO sqlalchemy.engine.Engine SELECT users.id, users.name, users.surname, users.email, users.startdate, users.enddate, users.valid, users.created, users.lastchange, users.createdby, users.changedby, users.rbacobject \n",
            "FROM users \n",
            "WHERE users.id = ?\n"
          ]
        },
        {
          "output_type": "stream",
          "name": "stderr",
          "text": [
            "INFO:sqlalchemy.engine.Engine:SELECT users.id, users.name, users.surname, users.email, users.startdate, users.enddate, users.valid, users.created, users.lastchange, users.createdby, users.changedby, users.rbacobject \n",
            "FROM users \n",
            "WHERE users.id = ?\n"
          ]
        },
        {
          "output_type": "stream",
          "name": "stdout",
          "text": [
            "2024-03-21 20:19:23,142 INFO sqlalchemy.engine.Engine [generated in 0.00591s] ('8b22e698f41548ab954a4554568839c5',)\n"
          ]
        },
        {
          "output_type": "stream",
          "name": "stderr",
          "text": [
            "INFO:sqlalchemy.engine.Engine:[generated in 0.00591s] ('8b22e698f41548ab954a4554568839c5',)\n"
          ]
        },
        {
          "output_type": "stream",
          "name": "stdout",
          "text": [
            "2024-03-21 20:19:23,147 INFO sqlalchemy.engine.Engine COMMIT\n"
          ]
        },
        {
          "output_type": "stream",
          "name": "stderr",
          "text": [
            "INFO:sqlalchemy.engine.Engine:COMMIT\n"
          ]
        },
        {
          "output_type": "stream",
          "name": "stdout",
          "text": [
            "<__main__.UserModel object at 0x794965970610>\n"
          ]
        }
      ]
    },
    {
      "cell_type": "markdown",
      "source": [
        "## Op U"
      ],
      "metadata": {
        "id": "wZhr0oXEp8Oa"
      }
    },
    {
      "cell_type": "code",
      "source": [
        "from sqlalchemy import update\n",
        "async def Update(model, id, **attrs):\n",
        "    stmt = update(model).filter_by(id=id).values(**attrs)\n",
        "    async with async_session_maker.begin() as session:\n",
        "        results = await session.execute(stmt)\n",
        "        return results\n",
        "\n",
        "await Update(UserModel, id=UUID(\"8b22e698f41548ab954a4554568839c5\"), name=\"Jetson\")\n",
        "u = await Get(UserModel, id=UUID(\"8b22e698f41548ab954a4554568839c5\"))\n",
        "print(u.name)"
      ],
      "metadata": {
        "id": "fOGB1cjMp9qg",
        "outputId": "8b1ac41a-5768-4163-87e2-d6f1a8cf0e0c",
        "colab": {
          "base_uri": "https://localhost:8080/"
        }
      },
      "execution_count": 13,
      "outputs": [
        {
          "output_type": "stream",
          "name": "stdout",
          "text": [
            "2024-03-21 20:19:23,162 INFO sqlalchemy.engine.Engine BEGIN (implicit)\n"
          ]
        },
        {
          "output_type": "stream",
          "name": "stderr",
          "text": [
            "INFO:sqlalchemy.engine.Engine:BEGIN (implicit)\n"
          ]
        },
        {
          "output_type": "stream",
          "name": "stdout",
          "text": [
            "2024-03-21 20:19:23,176 INFO sqlalchemy.engine.Engine UPDATE users SET name=? WHERE users.id = ?\n"
          ]
        },
        {
          "output_type": "stream",
          "name": "stderr",
          "text": [
            "INFO:sqlalchemy.engine.Engine:UPDATE users SET name=? WHERE users.id = ?\n"
          ]
        },
        {
          "output_type": "stream",
          "name": "stdout",
          "text": [
            "2024-03-21 20:19:23,179 INFO sqlalchemy.engine.Engine [generated in 0.00361s] ('Jetson', '8b22e698f41548ab954a4554568839c5')\n"
          ]
        },
        {
          "output_type": "stream",
          "name": "stderr",
          "text": [
            "INFO:sqlalchemy.engine.Engine:[generated in 0.00361s] ('Jetson', '8b22e698f41548ab954a4554568839c5')\n"
          ]
        },
        {
          "output_type": "stream",
          "name": "stdout",
          "text": [
            "2024-03-21 20:19:23,185 INFO sqlalchemy.engine.Engine COMMIT\n"
          ]
        },
        {
          "output_type": "stream",
          "name": "stderr",
          "text": [
            "INFO:sqlalchemy.engine.Engine:COMMIT\n"
          ]
        },
        {
          "output_type": "stream",
          "name": "stdout",
          "text": [
            "2024-03-21 20:19:23,189 INFO sqlalchemy.engine.Engine BEGIN (implicit)\n"
          ]
        },
        {
          "output_type": "stream",
          "name": "stderr",
          "text": [
            "INFO:sqlalchemy.engine.Engine:BEGIN (implicit)\n"
          ]
        },
        {
          "output_type": "stream",
          "name": "stdout",
          "text": [
            "2024-03-21 20:19:23,193 INFO sqlalchemy.engine.Engine SELECT users.id, users.name, users.surname, users.email, users.startdate, users.enddate, users.valid, users.created, users.lastchange, users.createdby, users.changedby, users.rbacobject \n",
            "FROM users \n",
            "WHERE users.id = ?\n"
          ]
        },
        {
          "output_type": "stream",
          "name": "stderr",
          "text": [
            "INFO:sqlalchemy.engine.Engine:SELECT users.id, users.name, users.surname, users.email, users.startdate, users.enddate, users.valid, users.created, users.lastchange, users.createdby, users.changedby, users.rbacobject \n",
            "FROM users \n",
            "WHERE users.id = ?\n"
          ]
        },
        {
          "output_type": "stream",
          "name": "stdout",
          "text": [
            "2024-03-21 20:19:23,196 INFO sqlalchemy.engine.Engine [cached since 0.05983s ago] ('8b22e698f41548ab954a4554568839c5',)\n"
          ]
        },
        {
          "output_type": "stream",
          "name": "stderr",
          "text": [
            "INFO:sqlalchemy.engine.Engine:[cached since 0.05983s ago] ('8b22e698f41548ab954a4554568839c5',)\n"
          ]
        },
        {
          "output_type": "stream",
          "name": "stdout",
          "text": [
            "2024-03-21 20:19:23,199 INFO sqlalchemy.engine.Engine COMMIT\n"
          ]
        },
        {
          "output_type": "stream",
          "name": "stderr",
          "text": [
            "INFO:sqlalchemy.engine.Engine:COMMIT\n"
          ]
        },
        {
          "output_type": "stream",
          "name": "stdout",
          "text": [
            "Jetson\n"
          ]
        }
      ]
    },
    {
      "cell_type": "markdown",
      "source": [
        "## Op D"
      ],
      "metadata": {
        "id": "rnuZU4npp6dn"
      }
    },
    {
      "cell_type": "code",
      "source": [
        "from sqlalchemy import delete\n",
        "async def Delete(model, id):\n",
        "    stmt = delete(model).filter_by(id=id)\n",
        "    async with async_session_maker.begin() as session:\n",
        "        results = await session.execute(stmt)\n",
        "        return results\n",
        "\n",
        "r = await Delete(UserModel, id=UUID(\"8b22e698f41548ab954a4554568839c5\"))\n",
        "print(r)"
      ],
      "metadata": {
        "id": "iOASjoEAYVGX",
        "outputId": "6230ed58-d7e2-4a66-af77-f316eb661508",
        "colab": {
          "base_uri": "https://localhost:8080/"
        }
      },
      "execution_count": 14,
      "outputs": [
        {
          "output_type": "stream",
          "name": "stdout",
          "text": [
            "2024-03-21 20:19:23,213 INFO sqlalchemy.engine.Engine BEGIN (implicit)\n"
          ]
        },
        {
          "output_type": "stream",
          "name": "stderr",
          "text": [
            "INFO:sqlalchemy.engine.Engine:BEGIN (implicit)\n"
          ]
        },
        {
          "output_type": "stream",
          "name": "stdout",
          "text": [
            "2024-03-21 20:19:23,222 INFO sqlalchemy.engine.Engine DELETE FROM users WHERE users.id = ?\n"
          ]
        },
        {
          "output_type": "stream",
          "name": "stderr",
          "text": [
            "INFO:sqlalchemy.engine.Engine:DELETE FROM users WHERE users.id = ?\n"
          ]
        },
        {
          "output_type": "stream",
          "name": "stdout",
          "text": [
            "2024-03-21 20:19:23,226 INFO sqlalchemy.engine.Engine [generated in 0.00451s] ('8b22e698f41548ab954a4554568839c5',)\n"
          ]
        },
        {
          "output_type": "stream",
          "name": "stderr",
          "text": [
            "INFO:sqlalchemy.engine.Engine:[generated in 0.00451s] ('8b22e698f41548ab954a4554568839c5',)\n"
          ]
        },
        {
          "output_type": "stream",
          "name": "stdout",
          "text": [
            "2024-03-21 20:19:23,229 INFO sqlalchemy.engine.Engine COMMIT\n"
          ]
        },
        {
          "output_type": "stream",
          "name": "stderr",
          "text": [
            "INFO:sqlalchemy.engine.Engine:COMMIT\n"
          ]
        },
        {
          "output_type": "stream",
          "name": "stdout",
          "text": [
            "<sqlalchemy.engine.cursor.CursorResult object at 0x794965ba8ee0>\n"
          ]
        }
      ]
    },
    {
      "cell_type": "code",
      "source": [
        "u = await Add(UserModel, name=\"John\", surname=\"Newbie\", id=UUID(\"8b22e698f41548ab954a4554568839c5\"))\n",
        "g = await Add(GroupModel, name=\"25-5KB\", id=UUID(\"8b22e698f41548ab954a4554568839c6\"))\n",
        "m = await Add(MembershipModel, user_id=UUID(\"8b22e698f41548ab954a4554568839c5\"), group_id=UUID(\"8b22e698f41548ab954a4554568839c6\"), id=UUID(\"8b22e698f41548ab954a4554568839c4\"))"
      ],
      "metadata": {
        "colab": {
          "base_uri": "https://localhost:8080/"
        },
        "id": "cVYcQOE5hJlU",
        "outputId": "1441e43e-d9cc-466b-c35e-932296919145"
      },
      "execution_count": 15,
      "outputs": [
        {
          "output_type": "stream",
          "name": "stdout",
          "text": [
            "2024-03-21 20:19:23,244 INFO sqlalchemy.engine.Engine BEGIN (implicit)\n"
          ]
        },
        {
          "output_type": "stream",
          "name": "stderr",
          "text": [
            "INFO:sqlalchemy.engine.Engine:BEGIN (implicit)\n"
          ]
        },
        {
          "output_type": "stream",
          "name": "stdout",
          "text": [
            "2024-03-21 20:19:23,253 INFO sqlalchemy.engine.Engine INSERT INTO users (id, name, surname, email, startdate, enddate, valid, createdby, changedby, rbacobject) VALUES (?, ?, ?, ?, ?, ?, ?, ?, ?, ?) RETURNING created, lastchange\n"
          ]
        },
        {
          "output_type": "stream",
          "name": "stderr",
          "text": [
            "INFO:sqlalchemy.engine.Engine:INSERT INTO users (id, name, surname, email, startdate, enddate, valid, createdby, changedby, rbacobject) VALUES (?, ?, ?, ?, ?, ?, ?, ?, ?, ?) RETURNING created, lastchange\n"
          ]
        },
        {
          "output_type": "stream",
          "name": "stdout",
          "text": [
            "2024-03-21 20:19:23,259 INFO sqlalchemy.engine.Engine [cached since 0.1754s ago] ('8b22e698f41548ab954a4554568839c5', 'John', 'Newbie', None, None, None, 1, None, None, None)\n"
          ]
        },
        {
          "output_type": "stream",
          "name": "stderr",
          "text": [
            "INFO:sqlalchemy.engine.Engine:[cached since 0.1754s ago] ('8b22e698f41548ab954a4554568839c5', 'John', 'Newbie', None, None, None, 1, None, None, None)\n"
          ]
        },
        {
          "output_type": "stream",
          "name": "stdout",
          "text": [
            "2024-03-21 20:19:23,262 INFO sqlalchemy.engine.Engine COMMIT\n"
          ]
        },
        {
          "output_type": "stream",
          "name": "stderr",
          "text": [
            "INFO:sqlalchemy.engine.Engine:COMMIT\n"
          ]
        },
        {
          "output_type": "stream",
          "name": "stdout",
          "text": [
            "2024-03-21 20:19:23,271 INFO sqlalchemy.engine.Engine BEGIN (implicit)\n"
          ]
        },
        {
          "output_type": "stream",
          "name": "stderr",
          "text": [
            "INFO:sqlalchemy.engine.Engine:BEGIN (implicit)\n"
          ]
        },
        {
          "output_type": "stream",
          "name": "stdout",
          "text": [
            "2024-03-21 20:19:23,282 INFO sqlalchemy.engine.Engine INSERT INTO groups (id, name, name_en, email, startdate, enddate, valid, mastergroup_id, createdby, changedby, rbacobject) VALUES (?, ?, ?, ?, ?, ?, ?, ?, ?, ?, ?) RETURNING created, lastchange\n"
          ]
        },
        {
          "output_type": "stream",
          "name": "stderr",
          "text": [
            "INFO:sqlalchemy.engine.Engine:INSERT INTO groups (id, name, name_en, email, startdate, enddate, valid, mastergroup_id, createdby, changedby, rbacobject) VALUES (?, ?, ?, ?, ?, ?, ?, ?, ?, ?, ?) RETURNING created, lastchange\n"
          ]
        },
        {
          "output_type": "stream",
          "name": "stdout",
          "text": [
            "2024-03-21 20:19:23,287 INFO sqlalchemy.engine.Engine [generated in 0.00475s] ('8b22e698f41548ab954a4554568839c6', '25-5KB', None, None, None, None, 1, None, None, None, None)\n"
          ]
        },
        {
          "output_type": "stream",
          "name": "stderr",
          "text": [
            "INFO:sqlalchemy.engine.Engine:[generated in 0.00475s] ('8b22e698f41548ab954a4554568839c6', '25-5KB', None, None, None, None, 1, None, None, None, None)\n"
          ]
        },
        {
          "output_type": "stream",
          "name": "stdout",
          "text": [
            "2024-03-21 20:19:23,291 INFO sqlalchemy.engine.Engine COMMIT\n"
          ]
        },
        {
          "output_type": "stream",
          "name": "stderr",
          "text": [
            "INFO:sqlalchemy.engine.Engine:COMMIT\n"
          ]
        },
        {
          "output_type": "stream",
          "name": "stdout",
          "text": [
            "2024-03-21 20:19:23,296 INFO sqlalchemy.engine.Engine BEGIN (implicit)\n"
          ]
        },
        {
          "output_type": "stream",
          "name": "stderr",
          "text": [
            "INFO:sqlalchemy.engine.Engine:BEGIN (implicit)\n"
          ]
        },
        {
          "output_type": "stream",
          "name": "stdout",
          "text": [
            "2024-03-21 20:19:23,301 INFO sqlalchemy.engine.Engine INSERT INTO memberships (id, user_id, group_id, startdate, enddate, valid, createdby, changedby, rbacobject) VALUES (?, ?, ?, ?, ?, ?, ?, ?, ?) RETURNING created, lastchange\n"
          ]
        },
        {
          "output_type": "stream",
          "name": "stderr",
          "text": [
            "INFO:sqlalchemy.engine.Engine:INSERT INTO memberships (id, user_id, group_id, startdate, enddate, valid, createdby, changedby, rbacobject) VALUES (?, ?, ?, ?, ?, ?, ?, ?, ?) RETURNING created, lastchange\n"
          ]
        },
        {
          "output_type": "stream",
          "name": "stdout",
          "text": [
            "2024-03-21 20:19:23,304 INFO sqlalchemy.engine.Engine [generated in 0.00296s] ('8b22e698f41548ab954a4554568839c4', '8b22e698f41548ab954a4554568839c5', '8b22e698f41548ab954a4554568839c6', None, None, 1, None, None, None)\n"
          ]
        },
        {
          "output_type": "stream",
          "name": "stderr",
          "text": [
            "INFO:sqlalchemy.engine.Engine:[generated in 0.00296s] ('8b22e698f41548ab954a4554568839c4', '8b22e698f41548ab954a4554568839c5', '8b22e698f41548ab954a4554568839c6', None, None, 1, None, None, None)\n"
          ]
        },
        {
          "output_type": "stream",
          "name": "stdout",
          "text": [
            "2024-03-21 20:19:23,308 INFO sqlalchemy.engine.Engine COMMIT\n"
          ]
        },
        {
          "output_type": "stream",
          "name": "stderr",
          "text": [
            "INFO:sqlalchemy.engine.Engine:COMMIT\n"
          ]
        }
      ]
    },
    {
      "cell_type": "code",
      "source": [
        "stmt = select(UserModel).join(MembershipModel).join(GroupModel).filter(UserModel.id==UUID(\"8b22e698f41548ab954a4554568839c5\"))\n",
        "print(stmt)\n",
        "async with async_session_maker.begin() as session:\n",
        "    results = await session.execute(stmt)\n",
        "    for r in results:\n",
        "        print(r)\n",
        "        u = r[0]\n",
        "        print(u.name, u.surname)\n",
        "        # m = u.memberships\n",
        "        # print(m)\n",
        "        # print(m[0])\n",
        ""
      ],
      "metadata": {
        "id": "oTZry7OBY7ru",
        "colab": {
          "base_uri": "https://localhost:8080/"
        },
        "outputId": "7743169d-6394-4c37-8905-9644d272e516"
      },
      "execution_count": 16,
      "outputs": [
        {
          "output_type": "stream",
          "name": "stdout",
          "text": [
            "SELECT users.id, users.name, users.surname, users.email, users.startdate, users.enddate, users.valid, users.created, users.lastchange, users.createdby, users.changedby, users.rbacobject \n",
            "FROM users JOIN memberships ON users.id = memberships.user_id JOIN groups ON groups.id = memberships.group_id \n",
            "WHERE users.id = :id_1\n",
            "2024-03-21 20:19:23,327 INFO sqlalchemy.engine.Engine BEGIN (implicit)\n"
          ]
        },
        {
          "output_type": "stream",
          "name": "stderr",
          "text": [
            "INFO:sqlalchemy.engine.Engine:BEGIN (implicit)\n"
          ]
        },
        {
          "output_type": "stream",
          "name": "stdout",
          "text": [
            "2024-03-21 20:19:23,340 INFO sqlalchemy.engine.Engine SELECT users.id, users.name, users.surname, users.email, users.startdate, users.enddate, users.valid, users.created, users.lastchange, users.createdby, users.changedby, users.rbacobject \n",
            "FROM users JOIN memberships ON users.id = memberships.user_id JOIN groups ON groups.id = memberships.group_id \n",
            "WHERE users.id = ?\n"
          ]
        },
        {
          "output_type": "stream",
          "name": "stderr",
          "text": [
            "INFO:sqlalchemy.engine.Engine:SELECT users.id, users.name, users.surname, users.email, users.startdate, users.enddate, users.valid, users.created, users.lastchange, users.createdby, users.changedby, users.rbacobject \n",
            "FROM users JOIN memberships ON users.id = memberships.user_id JOIN groups ON groups.id = memberships.group_id \n",
            "WHERE users.id = ?\n"
          ]
        },
        {
          "output_type": "stream",
          "name": "stdout",
          "text": [
            "2024-03-21 20:19:23,349 INFO sqlalchemy.engine.Engine [generated in 0.00934s] ('8b22e698f41548ab954a4554568839c5',)\n"
          ]
        },
        {
          "output_type": "stream",
          "name": "stderr",
          "text": [
            "INFO:sqlalchemy.engine.Engine:[generated in 0.00934s] ('8b22e698f41548ab954a4554568839c5',)\n"
          ]
        },
        {
          "output_type": "stream",
          "name": "stdout",
          "text": [
            "(<__main__.UserModel object at 0x7949659ac6a0>,)\n",
            "John Newbie\n",
            "2024-03-21 20:19:23,353 INFO sqlalchemy.engine.Engine COMMIT\n"
          ]
        },
        {
          "output_type": "stream",
          "name": "stderr",
          "text": [
            "INFO:sqlalchemy.engine.Engine:COMMIT\n"
          ]
        }
      ]
    },
    {
      "cell_type": "code",
      "source": [],
      "metadata": {
        "id": "L6Z-cbF7iBtI"
      },
      "execution_count": 16,
      "outputs": []
    }
  ]
}