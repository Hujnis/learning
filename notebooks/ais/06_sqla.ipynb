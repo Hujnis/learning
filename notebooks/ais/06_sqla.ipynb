{
  "nbformat": 4,
  "nbformat_minor": 0,
  "metadata": {
    "colab": {
      "provenance": [],
      "authorship_tag": "ABX9TyMC8AGaqYeXGiHOtIKgQF8C",
      "include_colab_link": true
    },
    "kernelspec": {
      "name": "python3",
      "display_name": "Python 3"
    },
    "language_info": {
      "name": "python"
    }
  },
  "cells": [
    {
      "cell_type": "markdown",
      "metadata": {
        "id": "view-in-github",
        "colab_type": "text"
      },
      "source": [
        "<a href=\"https://colab.research.google.com/github/hrbolek/learning/blob/master/notebooks/ais/06_sqla.ipynb\" target=\"_parent\"><img src=\"https://colab.research.google.com/assets/colab-badge.svg\" alt=\"Open In Colab\"/></a>"
      ]
    },
    {
      "cell_type": "code",
      "execution_count": 63,
      "metadata": {
        "id": "T9Qe4neSRJjJ",
        "colab": {
          "base_uri": "https://localhost:8080/"
        },
        "outputId": "94c2fd88-765e-4d02-b9d1-ecd5fa45380a"
      },
      "outputs": [
        {
          "output_type": "stream",
          "name": "stdout",
          "text": [
            "Requirement already satisfied: sqlalchemy in /usr/local/lib/python3.10/dist-packages (2.0.28)\n",
            "Requirement already satisfied: typing-extensions>=4.6.0 in /usr/local/lib/python3.10/dist-packages (from sqlalchemy) (4.10.0)\n",
            "Requirement already satisfied: greenlet!=0.4.17 in /usr/local/lib/python3.10/dist-packages (from sqlalchemy) (3.0.3)\n",
            "Requirement already satisfied: aiosqlite in /usr/local/lib/python3.10/dist-packages (0.20.0)\n",
            "Requirement already satisfied: typing_extensions>=4.0 in /usr/local/lib/python3.10/dist-packages (from aiosqlite) (4.10.0)\n"
          ]
        }
      ],
      "source": [
        "!pip install sqlalchemy\n",
        "!pip install aiosqlite"
      ]
    },
    {
      "cell_type": "code",
      "source": [
        "from uuid import uuid4, UUID\n",
        "from sqlalchemy import Column, Uuid\n",
        "uuid = uuid4\n",
        "\n",
        "def UUIDColumn():\n",
        "    return Column(Uuid, primary_key=True, comment=\"primary key\", default=uuid)\n",
        "\n",
        "def UUIDFKey(comment=None, nullable=True, **kwargs):\n",
        "    return Column(Uuid, index=True, comment=comment, nullable=nullable, **kwargs)"
      ],
      "metadata": {
        "id": "I3dWFxWQTHS1"
      },
      "execution_count": 64,
      "outputs": []
    },
    {
      "cell_type": "code",
      "source": [
        "from sqlalchemy.orm import declarative_base\n",
        "BaseModel = declarative_base()"
      ],
      "metadata": {
        "id": "L8s51YWQTQ15"
      },
      "execution_count": 65,
      "outputs": []
    },
    {
      "cell_type": "code",
      "source": [
        "import sqlalchemy\n",
        "from sqlalchemy import (\n",
        "    Column,\n",
        "    String,\n",
        "    DateTime,\n",
        "    Boolean,\n",
        ")\n",
        "from sqlalchemy.orm import relationship\n",
        "from sqlalchemy.ext.hybrid import hybrid_property\n",
        "\n",
        "class UserModel(BaseModel):\n",
        "    \"\"\"Spravuje data spojena s uzivatelem\"\"\"\n",
        "\n",
        "    __tablename__ = \"users\"\n",
        "\n",
        "    id = UUIDColumn()\n",
        "    name = Column(String)\n",
        "    surname = Column(String)\n",
        "\n",
        "    @hybrid_property\n",
        "    def fullname(self):\n",
        "        return self.name + \" \" + self.surname\n",
        "\n",
        "    email = Column(String)\n",
        "    startdate = Column(DateTime, comment=\"first date of user in the system\")\n",
        "    enddate = Column(DateTime, comment=\"last date of user in the system\")\n",
        "    valid = Column(Boolean, default=True, comment=\"if the user is still active\")\n",
        "\n",
        "    memberships = relationship(\"MembershipModel\", back_populates=\"user\", foreign_keys=\"MembershipModel.user_id\")\n",
        "    roles = relationship(\"RoleModel\", back_populates=\"user\", foreign_keys=\"RoleModel.user_id\")\n",
        "    # groups = relationship(\"GroupModel\",\n",
        "    #     secondary=\"join(MembershipModel, GroupModel, GroupModel.id==MembershipModel.group_id)\",\n",
        "    #     primaryjoin=\"UserModel.id==MembershipModel.user_id\",\n",
        "    #     secondaryjoin=\"GroupModel.id==MembershipModel.group_id\",\n",
        "    #     uselist=True,\n",
        "    #     viewonly=True\n",
        "    # )\n",
        "\n",
        "    created = Column(DateTime, server_default=sqlalchemy.sql.func.now(), comment=\"when record has been created\")\n",
        "    lastchange = Column(DateTime, server_default=sqlalchemy.sql.func.now(), comment=\"timestamp\")\n",
        "    createdby = UUIDFKey(nullable=True, comment=\"who has created this record\")#Column(ForeignKey(\"users.id\"), index=True, nullable=True)\n",
        "    changedby = UUIDFKey(nullable=True, comment=\"who has changed this record\")#Column(ForeignKey(\"users.id\"), index=True, nullable=True)\n",
        "\n",
        "    rbacobject = UUIDFKey(nullable=True, comment=\"holds object for role resolution\")#Column(ForeignKey(\"users.id\"), index=True, nullable=True)"
      ],
      "metadata": {
        "id": "sDszS7XITUkc"
      },
      "execution_count": 66,
      "outputs": []
    },
    {
      "cell_type": "code",
      "source": [
        "from sqlalchemy import (\n",
        "    ForeignKey\n",
        ")\n",
        "class GroupModel(BaseModel):\n",
        "    \"\"\"Spravuje data spojena se skupinou\"\"\"\n",
        "\n",
        "    __tablename__ = \"groups\"\n",
        "\n",
        "    id = UUIDColumn()\n",
        "    name = Column(String, comment=\"name of the group\")\n",
        "    name_en = Column(String, comment=\"english name of the group\")\n",
        "    email = Column(String, comment=\"can be an email for whole group\")\n",
        "\n",
        "    startdate = Column(DateTime, comment=\"born date of the group\")\n",
        "    enddate = Column(DateTime, comment=\"date when group `died`\")\n",
        "    valid = Column(Boolean, default=True, comment=\"if the group still exists\")\n",
        "\n",
        "    mastergroup_id = Column(ForeignKey(\"groups.id\"), index=True, comment=\"link to the commanding group\")\n",
        "\n",
        "    memberships = relationship(\"MembershipModel\", back_populates=\"group\")\n",
        "    roles = relationship(\"RoleModel\", back_populates=\"group\")\n",
        "\n",
        "    created = Column(DateTime, server_default=sqlalchemy.sql.func.now(), comment=\"when record has been created\")\n",
        "    lastchange = Column(DateTime, server_default=sqlalchemy.sql.func.now(), comment=\"timestamp\")\n",
        "    createdby = UUIDFKey(nullable=True, comment=\"who has created this record\")#Column(ForeignKey(\"users.id\"), index=True, nullable=True)\n",
        "    changedby = UUIDFKey(nullable=True, comment=\"who has changed this record\")#Column(ForeignKey(\"users.id\"), index=True, nullable=True)\n",
        "\n",
        "    rbacobject = UUIDFKey(nullable=True, comment=\"holds object for role resolution\")#Column(ForeignKey(\"users.id\"), index=True, nullable=True)"
      ],
      "metadata": {
        "id": "1ZNSW6x6TemN"
      },
      "execution_count": 67,
      "outputs": []
    },
    {
      "cell_type": "code",
      "source": [
        "class MembershipModel(BaseModel):\n",
        "    \"\"\"Spojuje User s Group jestlize User je clen Group\n",
        "    Umoznuje udrzovat historii spojeni\n",
        "    \"\"\"\n",
        "\n",
        "    __tablename__ = \"memberships\"\n",
        "\n",
        "    id = UUIDColumn()\n",
        "    user_id = Column(ForeignKey(\"users.id\"), index=True)\n",
        "    group_id = Column(ForeignKey(\"groups.id\"), index=True)\n",
        "\n",
        "    startdate = Column(DateTime, comment=\"first date of membership\")\n",
        "    enddate = Column(DateTime, comment=\"last date of membership\")\n",
        "    valid = Column(Boolean, default=True, comment=\"if the membership is still active\")\n",
        "\n",
        "    created = Column(DateTime, server_default=sqlalchemy.sql.func.now(), comment=\"when record has been created\")\n",
        "    lastchange = Column(DateTime, server_default=sqlalchemy.sql.func.now(), comment=\"timestamp\")\n",
        "    createdby = UUIDFKey(nullable=True, comment=\"who has created this record\")#Column(ForeignKey(\"users.id\"), index=True, nullable=True)\n",
        "    changedby = UUIDFKey(nullable=True, comment=\"who has changed this record\")#Column(ForeignKey(\"users.id\"), index=True, nullable=True)\n",
        "\n",
        "    user = relationship(\"UserModel\", back_populates=\"memberships\", foreign_keys=[user_id])\n",
        "    group = relationship(\"GroupModel\", back_populates=\"memberships\")\n",
        "\n",
        "    rbacobject = UUIDFKey(nullable=True, comment=\"holds object for role resolution\")#Column(ForeignKey(\"users.id\"), index=True, nullable=True)"
      ],
      "metadata": {
        "id": "NlROQNL7Ti3k"
      },
      "execution_count": 68,
      "outputs": []
    },
    {
      "cell_type": "code",
      "source": [
        "class RoleModel(BaseModel):\n",
        "    \"\"\"Spojuje uzivatele a skupinu, ve ktere uzivatel \"hraje\" roli\"\"\"\n",
        "\n",
        "    __tablename__ = \"roles\"\n",
        "\n",
        "    id = UUIDColumn()\n",
        "    user_id = Column(ForeignKey(\"users.id\"), index=True)\n",
        "    group_id = Column(ForeignKey(\"groups.id\"), index=True)\n",
        "    roletype_id = Column(ForeignKey(\"roletypes.id\"), index=True)\n",
        "\n",
        "    startdate = Column(DateTime, comment=\"when the role begins\")\n",
        "    enddate = Column(DateTime, comment=\"when the role ends\")\n",
        "    valid = Column(Boolean, default=True, comment=\"if the role is still active\")\n",
        "\n",
        "    created = Column(DateTime, server_default=sqlalchemy.sql.func.now(), comment=\"when record has been created\")\n",
        "    lastchange = Column(DateTime, server_default=sqlalchemy.sql.func.now(), comment=\"timestamp\")\n",
        "    createdby = UUIDFKey(nullable=True, comment=\"who has created this record\")#Column(ForeignKey(\"users.id\"), index=True, nullable=True)\n",
        "    changedby = UUIDFKey(nullable=True, comment=\"who has changed this record\")#Column(ForeignKey(\"users.id\"), index=True, nullable=True)\n",
        "\n",
        "    roletype = relationship(\"RoleTypeModel\", back_populates=\"roles\")\n",
        "    user = relationship(\"UserModel\", back_populates=\"roles\", foreign_keys=[user_id])\n",
        "    group = relationship(\"GroupModel\", back_populates=\"roles\")\n",
        "\n",
        "    rbacobject = UUIDFKey(nullable=True, comment=\"holds object for role resolution\")#Column(ForeignKey(\"users.id\"), index=True, nullable=True)"
      ],
      "metadata": {
        "id": "XxPq16bjTpGF"
      },
      "execution_count": 69,
      "outputs": []
    },
    {
      "cell_type": "code",
      "source": [
        "class RoleTypeModel(BaseModel):\n",
        "    \"\"\"Urcuje typ role (Vedouci katedry, dekan apod.)\"\"\"\n",
        "\n",
        "    __tablename__ = \"roletypes\"\n",
        "\n",
        "    id = UUIDColumn()\n",
        "    name = Column(String, comment=\"name of the type\")\n",
        "    name_en = Column(String, comment=\"english name of the type\")\n",
        "\n",
        "    roles = relationship(\"RoleModel\", back_populates=\"roletype\")\n",
        "\n",
        "    created = Column(DateTime, server_default=sqlalchemy.sql.func.now(), comment=\"when record has been created\")\n",
        "    lastchange = Column(DateTime, server_default=sqlalchemy.sql.func.now(), comment=\"timestamp\")\n",
        "    createdby = UUIDFKey(nullable=True, comment=\"who has created this record\")#Column(ForeignKey(\"users.id\"), index=True, nullable=True)\n",
        "    changedby = UUIDFKey(nullable=True, comment=\"who has changed this record\")#Column(ForeignKey(\"users.id\"), index=True, nullable=True)\n",
        "\n",
        "    rbacobject = UUIDFKey(nullable=True, comment=\"holds object for role resolution\")#Column(ForeignKey(\"users.id\"), index=True, nullable=True)"
      ],
      "metadata": {
        "id": "qbcdsTWpT0nQ"
      },
      "execution_count": 70,
      "outputs": []
    },
    {
      "cell_type": "code",
      "source": [
        "from sqlalchemy.ext.asyncio import AsyncSession\n",
        "from sqlalchemy.ext.asyncio import create_async_engine\n",
        "from sqlalchemy.orm import sessionmaker\n",
        "\n",
        "async def startEngine(connectionstring=\"sqlite+aiosqlite://\", makeDrop=False, makeUp=True) -> AsyncSession:\n",
        "    global dbInitIsDone\n",
        "    \"\"\"Provede nezbytne ukony a vrati asynchronni SessionMaker\"\"\"\n",
        "\n",
        "    asyncEngine = create_async_engine(connectionstring, echo=True)\n",
        "\n",
        "    async with asyncEngine.begin() as conn:\n",
        "        if makeDrop:\n",
        "            await conn.run_sync(BaseModel.metadata.drop_all)\n",
        "            print(\"BaseModel.metadata.drop_all finished\")\n",
        "        if makeUp:\n",
        "            try:\n",
        "                await conn.run_sync(BaseModel.metadata.create_all)\n",
        "                print(\"BaseModel.metadata.create_all finished\")\n",
        "            except sqlalchemy.exc.NoReferencedTableError as e:\n",
        "                print(e)\n",
        "                print(\"Unable automaticaly create tables\")\n",
        "                return None\n",
        "    dbInitIsDone = True\n",
        "\n",
        "    async_sessionMaker = sessionmaker(\n",
        "        asyncEngine, expire_on_commit=False, class_=AsyncSession\n",
        "    )\n",
        "    return async_sessionMaker\n",
        "\n"
      ],
      "metadata": {
        "id": "PdgWQckVT5j7"
      },
      "execution_count": 71,
      "outputs": []
    },
    {
      "cell_type": "code",
      "source": [
        "async_session_maker = await startEngine()\n"
      ],
      "metadata": {
        "colab": {
          "base_uri": "https://localhost:8080/"
        },
        "id": "3FZl5FdsR-fL",
        "outputId": "ba6d6dec-b452-411b-cac9-cb01343d0fd1"
      },
      "execution_count": 72,
      "outputs": [
        {
          "output_type": "stream",
          "name": "stdout",
          "text": [
            "2024-03-21 19:40:23,200 INFO sqlalchemy.engine.Engine BEGIN (implicit)\n"
          ]
        },
        {
          "output_type": "stream",
          "name": "stderr",
          "text": [
            "INFO:sqlalchemy.engine.Engine:BEGIN (implicit)\n"
          ]
        },
        {
          "output_type": "stream",
          "name": "stdout",
          "text": [
            "2024-03-21 19:40:23,206 INFO sqlalchemy.engine.Engine PRAGMA main.table_info(\"users\")\n"
          ]
        },
        {
          "output_type": "stream",
          "name": "stderr",
          "text": [
            "INFO:sqlalchemy.engine.Engine:PRAGMA main.table_info(\"users\")\n"
          ]
        },
        {
          "output_type": "stream",
          "name": "stdout",
          "text": [
            "2024-03-21 19:40:23,212 INFO sqlalchemy.engine.Engine [raw sql] ()\n"
          ]
        },
        {
          "output_type": "stream",
          "name": "stderr",
          "text": [
            "INFO:sqlalchemy.engine.Engine:[raw sql] ()\n"
          ]
        },
        {
          "output_type": "stream",
          "name": "stdout",
          "text": [
            "2024-03-21 19:40:23,218 INFO sqlalchemy.engine.Engine PRAGMA temp.table_info(\"users\")\n"
          ]
        },
        {
          "output_type": "stream",
          "name": "stderr",
          "text": [
            "INFO:sqlalchemy.engine.Engine:PRAGMA temp.table_info(\"users\")\n"
          ]
        },
        {
          "output_type": "stream",
          "name": "stdout",
          "text": [
            "2024-03-21 19:40:23,223 INFO sqlalchemy.engine.Engine [raw sql] ()\n"
          ]
        },
        {
          "output_type": "stream",
          "name": "stderr",
          "text": [
            "INFO:sqlalchemy.engine.Engine:[raw sql] ()\n"
          ]
        },
        {
          "output_type": "stream",
          "name": "stdout",
          "text": [
            "2024-03-21 19:40:23,226 INFO sqlalchemy.engine.Engine PRAGMA main.table_info(\"groups\")\n"
          ]
        },
        {
          "output_type": "stream",
          "name": "stderr",
          "text": [
            "INFO:sqlalchemy.engine.Engine:PRAGMA main.table_info(\"groups\")\n"
          ]
        },
        {
          "output_type": "stream",
          "name": "stdout",
          "text": [
            "2024-03-21 19:40:23,228 INFO sqlalchemy.engine.Engine [raw sql] ()\n"
          ]
        },
        {
          "output_type": "stream",
          "name": "stderr",
          "text": [
            "INFO:sqlalchemy.engine.Engine:[raw sql] ()\n"
          ]
        },
        {
          "output_type": "stream",
          "name": "stdout",
          "text": [
            "2024-03-21 19:40:23,231 INFO sqlalchemy.engine.Engine PRAGMA temp.table_info(\"groups\")\n"
          ]
        },
        {
          "output_type": "stream",
          "name": "stderr",
          "text": [
            "INFO:sqlalchemy.engine.Engine:PRAGMA temp.table_info(\"groups\")\n"
          ]
        },
        {
          "output_type": "stream",
          "name": "stdout",
          "text": [
            "2024-03-21 19:40:23,233 INFO sqlalchemy.engine.Engine [raw sql] ()\n"
          ]
        },
        {
          "output_type": "stream",
          "name": "stderr",
          "text": [
            "INFO:sqlalchemy.engine.Engine:[raw sql] ()\n"
          ]
        },
        {
          "output_type": "stream",
          "name": "stdout",
          "text": [
            "2024-03-21 19:40:23,238 INFO sqlalchemy.engine.Engine PRAGMA main.table_info(\"memberships\")\n"
          ]
        },
        {
          "output_type": "stream",
          "name": "stderr",
          "text": [
            "INFO:sqlalchemy.engine.Engine:PRAGMA main.table_info(\"memberships\")\n"
          ]
        },
        {
          "output_type": "stream",
          "name": "stdout",
          "text": [
            "2024-03-21 19:40:23,241 INFO sqlalchemy.engine.Engine [raw sql] ()\n"
          ]
        },
        {
          "output_type": "stream",
          "name": "stderr",
          "text": [
            "INFO:sqlalchemy.engine.Engine:[raw sql] ()\n"
          ]
        },
        {
          "output_type": "stream",
          "name": "stdout",
          "text": [
            "2024-03-21 19:40:23,245 INFO sqlalchemy.engine.Engine PRAGMA temp.table_info(\"memberships\")\n"
          ]
        },
        {
          "output_type": "stream",
          "name": "stderr",
          "text": [
            "INFO:sqlalchemy.engine.Engine:PRAGMA temp.table_info(\"memberships\")\n"
          ]
        },
        {
          "output_type": "stream",
          "name": "stdout",
          "text": [
            "2024-03-21 19:40:23,247 INFO sqlalchemy.engine.Engine [raw sql] ()\n"
          ]
        },
        {
          "output_type": "stream",
          "name": "stderr",
          "text": [
            "INFO:sqlalchemy.engine.Engine:[raw sql] ()\n"
          ]
        },
        {
          "output_type": "stream",
          "name": "stdout",
          "text": [
            "2024-03-21 19:40:23,251 INFO sqlalchemy.engine.Engine PRAGMA main.table_info(\"roles\")\n"
          ]
        },
        {
          "output_type": "stream",
          "name": "stderr",
          "text": [
            "INFO:sqlalchemy.engine.Engine:PRAGMA main.table_info(\"roles\")\n"
          ]
        },
        {
          "output_type": "stream",
          "name": "stdout",
          "text": [
            "2024-03-21 19:40:23,253 INFO sqlalchemy.engine.Engine [raw sql] ()\n"
          ]
        },
        {
          "output_type": "stream",
          "name": "stderr",
          "text": [
            "INFO:sqlalchemy.engine.Engine:[raw sql] ()\n"
          ]
        },
        {
          "output_type": "stream",
          "name": "stdout",
          "text": [
            "2024-03-21 19:40:23,259 INFO sqlalchemy.engine.Engine PRAGMA temp.table_info(\"roles\")\n"
          ]
        },
        {
          "output_type": "stream",
          "name": "stderr",
          "text": [
            "INFO:sqlalchemy.engine.Engine:PRAGMA temp.table_info(\"roles\")\n"
          ]
        },
        {
          "output_type": "stream",
          "name": "stdout",
          "text": [
            "2024-03-21 19:40:23,261 INFO sqlalchemy.engine.Engine [raw sql] ()\n"
          ]
        },
        {
          "output_type": "stream",
          "name": "stderr",
          "text": [
            "INFO:sqlalchemy.engine.Engine:[raw sql] ()\n"
          ]
        },
        {
          "output_type": "stream",
          "name": "stdout",
          "text": [
            "2024-03-21 19:40:23,265 INFO sqlalchemy.engine.Engine PRAGMA main.table_info(\"roletypes\")\n"
          ]
        },
        {
          "output_type": "stream",
          "name": "stderr",
          "text": [
            "INFO:sqlalchemy.engine.Engine:PRAGMA main.table_info(\"roletypes\")\n"
          ]
        },
        {
          "output_type": "stream",
          "name": "stdout",
          "text": [
            "2024-03-21 19:40:23,268 INFO sqlalchemy.engine.Engine [raw sql] ()\n"
          ]
        },
        {
          "output_type": "stream",
          "name": "stderr",
          "text": [
            "INFO:sqlalchemy.engine.Engine:[raw sql] ()\n"
          ]
        },
        {
          "output_type": "stream",
          "name": "stdout",
          "text": [
            "2024-03-21 19:40:23,271 INFO sqlalchemy.engine.Engine PRAGMA temp.table_info(\"roletypes\")\n"
          ]
        },
        {
          "output_type": "stream",
          "name": "stderr",
          "text": [
            "INFO:sqlalchemy.engine.Engine:PRAGMA temp.table_info(\"roletypes\")\n"
          ]
        },
        {
          "output_type": "stream",
          "name": "stdout",
          "text": [
            "2024-03-21 19:40:23,273 INFO sqlalchemy.engine.Engine [raw sql] ()\n"
          ]
        },
        {
          "output_type": "stream",
          "name": "stderr",
          "text": [
            "INFO:sqlalchemy.engine.Engine:[raw sql] ()\n"
          ]
        },
        {
          "output_type": "stream",
          "name": "stdout",
          "text": [
            "2024-03-21 19:40:23,279 INFO sqlalchemy.engine.Engine \n",
            "CREATE TABLE users (\n",
            "\tid CHAR(32) NOT NULL, \n",
            "\tname VARCHAR, \n",
            "\tsurname VARCHAR, \n",
            "\temail VARCHAR, \n",
            "\tstartdate DATETIME, \n",
            "\tenddate DATETIME, \n",
            "\tvalid BOOLEAN, \n",
            "\tcreated DATETIME DEFAULT (CURRENT_TIMESTAMP), \n",
            "\tlastchange DATETIME DEFAULT (CURRENT_TIMESTAMP), \n",
            "\tcreatedby CHAR(32), \n",
            "\tchangedby CHAR(32), \n",
            "\trbacobject CHAR(32), \n",
            "\tPRIMARY KEY (id)\n",
            ")\n",
            "\n",
            "\n"
          ]
        },
        {
          "output_type": "stream",
          "name": "stderr",
          "text": [
            "INFO:sqlalchemy.engine.Engine:\n",
            "CREATE TABLE users (\n",
            "\tid CHAR(32) NOT NULL, \n",
            "\tname VARCHAR, \n",
            "\tsurname VARCHAR, \n",
            "\temail VARCHAR, \n",
            "\tstartdate DATETIME, \n",
            "\tenddate DATETIME, \n",
            "\tvalid BOOLEAN, \n",
            "\tcreated DATETIME DEFAULT (CURRENT_TIMESTAMP), \n",
            "\tlastchange DATETIME DEFAULT (CURRENT_TIMESTAMP), \n",
            "\tcreatedby CHAR(32), \n",
            "\tchangedby CHAR(32), \n",
            "\trbacobject CHAR(32), \n",
            "\tPRIMARY KEY (id)\n",
            ")\n",
            "\n",
            "\n"
          ]
        },
        {
          "output_type": "stream",
          "name": "stdout",
          "text": [
            "2024-03-21 19:40:23,283 INFO sqlalchemy.engine.Engine [no key 0.00385s] ()\n"
          ]
        },
        {
          "output_type": "stream",
          "name": "stderr",
          "text": [
            "INFO:sqlalchemy.engine.Engine:[no key 0.00385s] ()\n"
          ]
        },
        {
          "output_type": "stream",
          "name": "stdout",
          "text": [
            "2024-03-21 19:40:23,287 INFO sqlalchemy.engine.Engine CREATE INDEX ix_users_createdby ON users (createdby)\n"
          ]
        },
        {
          "output_type": "stream",
          "name": "stderr",
          "text": [
            "INFO:sqlalchemy.engine.Engine:CREATE INDEX ix_users_createdby ON users (createdby)\n"
          ]
        },
        {
          "output_type": "stream",
          "name": "stdout",
          "text": [
            "2024-03-21 19:40:23,289 INFO sqlalchemy.engine.Engine [no key 0.00276s] ()\n"
          ]
        },
        {
          "output_type": "stream",
          "name": "stderr",
          "text": [
            "INFO:sqlalchemy.engine.Engine:[no key 0.00276s] ()\n"
          ]
        },
        {
          "output_type": "stream",
          "name": "stdout",
          "text": [
            "2024-03-21 19:40:23,293 INFO sqlalchemy.engine.Engine CREATE INDEX ix_users_changedby ON users (changedby)\n"
          ]
        },
        {
          "output_type": "stream",
          "name": "stderr",
          "text": [
            "INFO:sqlalchemy.engine.Engine:CREATE INDEX ix_users_changedby ON users (changedby)\n"
          ]
        },
        {
          "output_type": "stream",
          "name": "stdout",
          "text": [
            "2024-03-21 19:40:23,297 INFO sqlalchemy.engine.Engine [no key 0.00407s] ()\n"
          ]
        },
        {
          "output_type": "stream",
          "name": "stderr",
          "text": [
            "INFO:sqlalchemy.engine.Engine:[no key 0.00407s] ()\n"
          ]
        },
        {
          "output_type": "stream",
          "name": "stdout",
          "text": [
            "2024-03-21 19:40:23,301 INFO sqlalchemy.engine.Engine CREATE INDEX ix_users_rbacobject ON users (rbacobject)\n"
          ]
        },
        {
          "output_type": "stream",
          "name": "stderr",
          "text": [
            "INFO:sqlalchemy.engine.Engine:CREATE INDEX ix_users_rbacobject ON users (rbacobject)\n"
          ]
        },
        {
          "output_type": "stream",
          "name": "stdout",
          "text": [
            "2024-03-21 19:40:23,304 INFO sqlalchemy.engine.Engine [no key 0.00290s] ()\n"
          ]
        },
        {
          "output_type": "stream",
          "name": "stderr",
          "text": [
            "INFO:sqlalchemy.engine.Engine:[no key 0.00290s] ()\n"
          ]
        },
        {
          "output_type": "stream",
          "name": "stdout",
          "text": [
            "2024-03-21 19:40:23,309 INFO sqlalchemy.engine.Engine \n",
            "CREATE TABLE groups (\n",
            "\tid CHAR(32) NOT NULL, \n",
            "\tname VARCHAR, \n",
            "\tname_en VARCHAR, \n",
            "\temail VARCHAR, \n",
            "\tstartdate DATETIME, \n",
            "\tenddate DATETIME, \n",
            "\tvalid BOOLEAN, \n",
            "\tmastergroup_id CHAR(32), \n",
            "\tcreated DATETIME DEFAULT (CURRENT_TIMESTAMP), \n",
            "\tlastchange DATETIME DEFAULT (CURRENT_TIMESTAMP), \n",
            "\tcreatedby CHAR(32), \n",
            "\tchangedby CHAR(32), \n",
            "\trbacobject CHAR(32), \n",
            "\tPRIMARY KEY (id), \n",
            "\tFOREIGN KEY(mastergroup_id) REFERENCES groups (id)\n",
            ")\n",
            "\n",
            "\n"
          ]
        },
        {
          "output_type": "stream",
          "name": "stderr",
          "text": [
            "INFO:sqlalchemy.engine.Engine:\n",
            "CREATE TABLE groups (\n",
            "\tid CHAR(32) NOT NULL, \n",
            "\tname VARCHAR, \n",
            "\tname_en VARCHAR, \n",
            "\temail VARCHAR, \n",
            "\tstartdate DATETIME, \n",
            "\tenddate DATETIME, \n",
            "\tvalid BOOLEAN, \n",
            "\tmastergroup_id CHAR(32), \n",
            "\tcreated DATETIME DEFAULT (CURRENT_TIMESTAMP), \n",
            "\tlastchange DATETIME DEFAULT (CURRENT_TIMESTAMP), \n",
            "\tcreatedby CHAR(32), \n",
            "\tchangedby CHAR(32), \n",
            "\trbacobject CHAR(32), \n",
            "\tPRIMARY KEY (id), \n",
            "\tFOREIGN KEY(mastergroup_id) REFERENCES groups (id)\n",
            ")\n",
            "\n",
            "\n"
          ]
        },
        {
          "output_type": "stream",
          "name": "stdout",
          "text": [
            "2024-03-21 19:40:23,315 INFO sqlalchemy.engine.Engine [no key 0.00527s] ()\n"
          ]
        },
        {
          "output_type": "stream",
          "name": "stderr",
          "text": [
            "INFO:sqlalchemy.engine.Engine:[no key 0.00527s] ()\n"
          ]
        },
        {
          "output_type": "stream",
          "name": "stdout",
          "text": [
            "2024-03-21 19:40:23,318 INFO sqlalchemy.engine.Engine CREATE INDEX ix_groups_changedby ON groups (changedby)\n"
          ]
        },
        {
          "output_type": "stream",
          "name": "stderr",
          "text": [
            "INFO:sqlalchemy.engine.Engine:CREATE INDEX ix_groups_changedby ON groups (changedby)\n"
          ]
        },
        {
          "output_type": "stream",
          "name": "stdout",
          "text": [
            "2024-03-21 19:40:23,320 INFO sqlalchemy.engine.Engine [no key 0.00181s] ()\n"
          ]
        },
        {
          "output_type": "stream",
          "name": "stderr",
          "text": [
            "INFO:sqlalchemy.engine.Engine:[no key 0.00181s] ()\n"
          ]
        },
        {
          "output_type": "stream",
          "name": "stdout",
          "text": [
            "2024-03-21 19:40:23,323 INFO sqlalchemy.engine.Engine CREATE INDEX ix_groups_rbacobject ON groups (rbacobject)\n"
          ]
        },
        {
          "output_type": "stream",
          "name": "stderr",
          "text": [
            "INFO:sqlalchemy.engine.Engine:CREATE INDEX ix_groups_rbacobject ON groups (rbacobject)\n"
          ]
        },
        {
          "output_type": "stream",
          "name": "stdout",
          "text": [
            "2024-03-21 19:40:23,325 INFO sqlalchemy.engine.Engine [no key 0.00192s] ()\n"
          ]
        },
        {
          "output_type": "stream",
          "name": "stderr",
          "text": [
            "INFO:sqlalchemy.engine.Engine:[no key 0.00192s] ()\n"
          ]
        },
        {
          "output_type": "stream",
          "name": "stdout",
          "text": [
            "2024-03-21 19:40:23,328 INFO sqlalchemy.engine.Engine CREATE INDEX ix_groups_mastergroup_id ON groups (mastergroup_id)\n"
          ]
        },
        {
          "output_type": "stream",
          "name": "stderr",
          "text": [
            "INFO:sqlalchemy.engine.Engine:CREATE INDEX ix_groups_mastergroup_id ON groups (mastergroup_id)\n"
          ]
        },
        {
          "output_type": "stream",
          "name": "stdout",
          "text": [
            "2024-03-21 19:40:23,330 INFO sqlalchemy.engine.Engine [no key 0.00192s] ()\n"
          ]
        },
        {
          "output_type": "stream",
          "name": "stderr",
          "text": [
            "INFO:sqlalchemy.engine.Engine:[no key 0.00192s] ()\n"
          ]
        },
        {
          "output_type": "stream",
          "name": "stdout",
          "text": [
            "2024-03-21 19:40:23,334 INFO sqlalchemy.engine.Engine CREATE INDEX ix_groups_createdby ON groups (createdby)\n"
          ]
        },
        {
          "output_type": "stream",
          "name": "stderr",
          "text": [
            "INFO:sqlalchemy.engine.Engine:CREATE INDEX ix_groups_createdby ON groups (createdby)\n"
          ]
        },
        {
          "output_type": "stream",
          "name": "stdout",
          "text": [
            "2024-03-21 19:40:23,336 INFO sqlalchemy.engine.Engine [no key 0.00202s] ()\n"
          ]
        },
        {
          "output_type": "stream",
          "name": "stderr",
          "text": [
            "INFO:sqlalchemy.engine.Engine:[no key 0.00202s] ()\n"
          ]
        },
        {
          "output_type": "stream",
          "name": "stdout",
          "text": [
            "2024-03-21 19:40:23,560 INFO sqlalchemy.engine.Engine \n",
            "CREATE TABLE roletypes (\n",
            "\tid CHAR(32) NOT NULL, \n",
            "\tname VARCHAR, \n",
            "\tname_en VARCHAR, \n",
            "\tcreated DATETIME DEFAULT (CURRENT_TIMESTAMP), \n",
            "\tlastchange DATETIME DEFAULT (CURRENT_TIMESTAMP), \n",
            "\tcreatedby CHAR(32), \n",
            "\tchangedby CHAR(32), \n",
            "\trbacobject CHAR(32), \n",
            "\tPRIMARY KEY (id)\n",
            ")\n",
            "\n",
            "\n"
          ]
        },
        {
          "output_type": "stream",
          "name": "stderr",
          "text": [
            "INFO:sqlalchemy.engine.Engine:\n",
            "CREATE TABLE roletypes (\n",
            "\tid CHAR(32) NOT NULL, \n",
            "\tname VARCHAR, \n",
            "\tname_en VARCHAR, \n",
            "\tcreated DATETIME DEFAULT (CURRENT_TIMESTAMP), \n",
            "\tlastchange DATETIME DEFAULT (CURRENT_TIMESTAMP), \n",
            "\tcreatedby CHAR(32), \n",
            "\tchangedby CHAR(32), \n",
            "\trbacobject CHAR(32), \n",
            "\tPRIMARY KEY (id)\n",
            ")\n",
            "\n",
            "\n"
          ]
        },
        {
          "output_type": "stream",
          "name": "stdout",
          "text": [
            "2024-03-21 19:40:23,563 INFO sqlalchemy.engine.Engine [no key 0.00284s] ()\n"
          ]
        },
        {
          "output_type": "stream",
          "name": "stderr",
          "text": [
            "INFO:sqlalchemy.engine.Engine:[no key 0.00284s] ()\n"
          ]
        },
        {
          "output_type": "stream",
          "name": "stdout",
          "text": [
            "2024-03-21 19:40:23,570 INFO sqlalchemy.engine.Engine CREATE INDEX ix_roletypes_createdby ON roletypes (createdby)\n"
          ]
        },
        {
          "output_type": "stream",
          "name": "stderr",
          "text": [
            "INFO:sqlalchemy.engine.Engine:CREATE INDEX ix_roletypes_createdby ON roletypes (createdby)\n"
          ]
        },
        {
          "output_type": "stream",
          "name": "stdout",
          "text": [
            "2024-03-21 19:40:23,573 INFO sqlalchemy.engine.Engine [no key 0.00269s] ()\n"
          ]
        },
        {
          "output_type": "stream",
          "name": "stderr",
          "text": [
            "INFO:sqlalchemy.engine.Engine:[no key 0.00269s] ()\n"
          ]
        },
        {
          "output_type": "stream",
          "name": "stdout",
          "text": [
            "2024-03-21 19:40:23,581 INFO sqlalchemy.engine.Engine CREATE INDEX ix_roletypes_rbacobject ON roletypes (rbacobject)\n"
          ]
        },
        {
          "output_type": "stream",
          "name": "stderr",
          "text": [
            "INFO:sqlalchemy.engine.Engine:CREATE INDEX ix_roletypes_rbacobject ON roletypes (rbacobject)\n"
          ]
        },
        {
          "output_type": "stream",
          "name": "stdout",
          "text": [
            "2024-03-21 19:40:23,584 INFO sqlalchemy.engine.Engine [no key 0.00291s] ()\n"
          ]
        },
        {
          "output_type": "stream",
          "name": "stderr",
          "text": [
            "INFO:sqlalchemy.engine.Engine:[no key 0.00291s] ()\n"
          ]
        },
        {
          "output_type": "stream",
          "name": "stdout",
          "text": [
            "2024-03-21 19:40:23,589 INFO sqlalchemy.engine.Engine CREATE INDEX ix_roletypes_changedby ON roletypes (changedby)\n"
          ]
        },
        {
          "output_type": "stream",
          "name": "stderr",
          "text": [
            "INFO:sqlalchemy.engine.Engine:CREATE INDEX ix_roletypes_changedby ON roletypes (changedby)\n"
          ]
        },
        {
          "output_type": "stream",
          "name": "stdout",
          "text": [
            "2024-03-21 19:40:23,596 INFO sqlalchemy.engine.Engine [no key 0.00751s] ()\n"
          ]
        },
        {
          "output_type": "stream",
          "name": "stderr",
          "text": [
            "INFO:sqlalchemy.engine.Engine:[no key 0.00751s] ()\n"
          ]
        },
        {
          "output_type": "stream",
          "name": "stdout",
          "text": [
            "2024-03-21 19:40:23,629 INFO sqlalchemy.engine.Engine \n",
            "CREATE TABLE memberships (\n",
            "\tid CHAR(32) NOT NULL, \n",
            "\tuser_id CHAR(32), \n",
            "\tgroup_id CHAR(32), \n",
            "\tstartdate DATETIME, \n",
            "\tenddate DATETIME, \n",
            "\tvalid BOOLEAN, \n",
            "\tcreated DATETIME DEFAULT (CURRENT_TIMESTAMP), \n",
            "\tlastchange DATETIME DEFAULT (CURRENT_TIMESTAMP), \n",
            "\tcreatedby CHAR(32), \n",
            "\tchangedby CHAR(32), \n",
            "\trbacobject CHAR(32), \n",
            "\tPRIMARY KEY (id), \n",
            "\tFOREIGN KEY(user_id) REFERENCES users (id), \n",
            "\tFOREIGN KEY(group_id) REFERENCES groups (id)\n",
            ")\n",
            "\n",
            "\n"
          ]
        },
        {
          "output_type": "stream",
          "name": "stderr",
          "text": [
            "INFO:sqlalchemy.engine.Engine:\n",
            "CREATE TABLE memberships (\n",
            "\tid CHAR(32) NOT NULL, \n",
            "\tuser_id CHAR(32), \n",
            "\tgroup_id CHAR(32), \n",
            "\tstartdate DATETIME, \n",
            "\tenddate DATETIME, \n",
            "\tvalid BOOLEAN, \n",
            "\tcreated DATETIME DEFAULT (CURRENT_TIMESTAMP), \n",
            "\tlastchange DATETIME DEFAULT (CURRENT_TIMESTAMP), \n",
            "\tcreatedby CHAR(32), \n",
            "\tchangedby CHAR(32), \n",
            "\trbacobject CHAR(32), \n",
            "\tPRIMARY KEY (id), \n",
            "\tFOREIGN KEY(user_id) REFERENCES users (id), \n",
            "\tFOREIGN KEY(group_id) REFERENCES groups (id)\n",
            ")\n",
            "\n",
            "\n"
          ]
        },
        {
          "output_type": "stream",
          "name": "stdout",
          "text": [
            "2024-03-21 19:40:23,642 INFO sqlalchemy.engine.Engine [no key 0.01277s] ()\n"
          ]
        },
        {
          "output_type": "stream",
          "name": "stderr",
          "text": [
            "INFO:sqlalchemy.engine.Engine:[no key 0.01277s] ()\n"
          ]
        },
        {
          "output_type": "stream",
          "name": "stdout",
          "text": [
            "2024-03-21 19:40:23,652 INFO sqlalchemy.engine.Engine CREATE INDEX ix_memberships_rbacobject ON memberships (rbacobject)\n"
          ]
        },
        {
          "output_type": "stream",
          "name": "stderr",
          "text": [
            "INFO:sqlalchemy.engine.Engine:CREATE INDEX ix_memberships_rbacobject ON memberships (rbacobject)\n"
          ]
        },
        {
          "output_type": "stream",
          "name": "stdout",
          "text": [
            "2024-03-21 19:40:23,657 INFO sqlalchemy.engine.Engine [no key 0.00422s] ()\n"
          ]
        },
        {
          "output_type": "stream",
          "name": "stderr",
          "text": [
            "INFO:sqlalchemy.engine.Engine:[no key 0.00422s] ()\n"
          ]
        },
        {
          "output_type": "stream",
          "name": "stdout",
          "text": [
            "2024-03-21 19:40:23,660 INFO sqlalchemy.engine.Engine CREATE INDEX ix_memberships_user_id ON memberships (user_id)\n"
          ]
        },
        {
          "output_type": "stream",
          "name": "stderr",
          "text": [
            "INFO:sqlalchemy.engine.Engine:CREATE INDEX ix_memberships_user_id ON memberships (user_id)\n"
          ]
        },
        {
          "output_type": "stream",
          "name": "stdout",
          "text": [
            "2024-03-21 19:40:23,665 INFO sqlalchemy.engine.Engine [no key 0.00443s] ()\n"
          ]
        },
        {
          "output_type": "stream",
          "name": "stderr",
          "text": [
            "INFO:sqlalchemy.engine.Engine:[no key 0.00443s] ()\n"
          ]
        },
        {
          "output_type": "stream",
          "name": "stdout",
          "text": [
            "2024-03-21 19:40:23,669 INFO sqlalchemy.engine.Engine CREATE INDEX ix_memberships_changedby ON memberships (changedby)\n"
          ]
        },
        {
          "output_type": "stream",
          "name": "stderr",
          "text": [
            "INFO:sqlalchemy.engine.Engine:CREATE INDEX ix_memberships_changedby ON memberships (changedby)\n"
          ]
        },
        {
          "output_type": "stream",
          "name": "stdout",
          "text": [
            "2024-03-21 19:40:23,671 INFO sqlalchemy.engine.Engine [no key 0.00239s] ()\n"
          ]
        },
        {
          "output_type": "stream",
          "name": "stderr",
          "text": [
            "INFO:sqlalchemy.engine.Engine:[no key 0.00239s] ()\n"
          ]
        },
        {
          "output_type": "stream",
          "name": "stdout",
          "text": [
            "2024-03-21 19:40:23,674 INFO sqlalchemy.engine.Engine CREATE INDEX ix_memberships_group_id ON memberships (group_id)\n"
          ]
        },
        {
          "output_type": "stream",
          "name": "stderr",
          "text": [
            "INFO:sqlalchemy.engine.Engine:CREATE INDEX ix_memberships_group_id ON memberships (group_id)\n"
          ]
        },
        {
          "output_type": "stream",
          "name": "stdout",
          "text": [
            "2024-03-21 19:40:23,677 INFO sqlalchemy.engine.Engine [no key 0.00227s] ()\n"
          ]
        },
        {
          "output_type": "stream",
          "name": "stderr",
          "text": [
            "INFO:sqlalchemy.engine.Engine:[no key 0.00227s] ()\n"
          ]
        },
        {
          "output_type": "stream",
          "name": "stdout",
          "text": [
            "2024-03-21 19:40:23,680 INFO sqlalchemy.engine.Engine CREATE INDEX ix_memberships_createdby ON memberships (createdby)\n"
          ]
        },
        {
          "output_type": "stream",
          "name": "stderr",
          "text": [
            "INFO:sqlalchemy.engine.Engine:CREATE INDEX ix_memberships_createdby ON memberships (createdby)\n"
          ]
        },
        {
          "output_type": "stream",
          "name": "stdout",
          "text": [
            "2024-03-21 19:40:23,683 INFO sqlalchemy.engine.Engine [no key 0.00227s] ()\n"
          ]
        },
        {
          "output_type": "stream",
          "name": "stderr",
          "text": [
            "INFO:sqlalchemy.engine.Engine:[no key 0.00227s] ()\n"
          ]
        },
        {
          "output_type": "stream",
          "name": "stdout",
          "text": [
            "2024-03-21 19:40:23,687 INFO sqlalchemy.engine.Engine \n",
            "CREATE TABLE roles (\n",
            "\tid CHAR(32) NOT NULL, \n",
            "\tuser_id CHAR(32), \n",
            "\tgroup_id CHAR(32), \n",
            "\troletype_id CHAR(32), \n",
            "\tstartdate DATETIME, \n",
            "\tenddate DATETIME, \n",
            "\tvalid BOOLEAN, \n",
            "\tcreated DATETIME DEFAULT (CURRENT_TIMESTAMP), \n",
            "\tlastchange DATETIME DEFAULT (CURRENT_TIMESTAMP), \n",
            "\tcreatedby CHAR(32), \n",
            "\tchangedby CHAR(32), \n",
            "\trbacobject CHAR(32), \n",
            "\tPRIMARY KEY (id), \n",
            "\tFOREIGN KEY(user_id) REFERENCES users (id), \n",
            "\tFOREIGN KEY(group_id) REFERENCES groups (id), \n",
            "\tFOREIGN KEY(roletype_id) REFERENCES roletypes (id)\n",
            ")\n",
            "\n",
            "\n"
          ]
        },
        {
          "output_type": "stream",
          "name": "stderr",
          "text": [
            "INFO:sqlalchemy.engine.Engine:\n",
            "CREATE TABLE roles (\n",
            "\tid CHAR(32) NOT NULL, \n",
            "\tuser_id CHAR(32), \n",
            "\tgroup_id CHAR(32), \n",
            "\troletype_id CHAR(32), \n",
            "\tstartdate DATETIME, \n",
            "\tenddate DATETIME, \n",
            "\tvalid BOOLEAN, \n",
            "\tcreated DATETIME DEFAULT (CURRENT_TIMESTAMP), \n",
            "\tlastchange DATETIME DEFAULT (CURRENT_TIMESTAMP), \n",
            "\tcreatedby CHAR(32), \n",
            "\tchangedby CHAR(32), \n",
            "\trbacobject CHAR(32), \n",
            "\tPRIMARY KEY (id), \n",
            "\tFOREIGN KEY(user_id) REFERENCES users (id), \n",
            "\tFOREIGN KEY(group_id) REFERENCES groups (id), \n",
            "\tFOREIGN KEY(roletype_id) REFERENCES roletypes (id)\n",
            ")\n",
            "\n",
            "\n"
          ]
        },
        {
          "output_type": "stream",
          "name": "stdout",
          "text": [
            "2024-03-21 19:40:23,690 INFO sqlalchemy.engine.Engine [no key 0.00343s] ()\n"
          ]
        },
        {
          "output_type": "stream",
          "name": "stderr",
          "text": [
            "INFO:sqlalchemy.engine.Engine:[no key 0.00343s] ()\n"
          ]
        },
        {
          "output_type": "stream",
          "name": "stdout",
          "text": [
            "2024-03-21 19:40:23,696 INFO sqlalchemy.engine.Engine CREATE INDEX ix_roles_changedby ON roles (changedby)\n"
          ]
        },
        {
          "output_type": "stream",
          "name": "stderr",
          "text": [
            "INFO:sqlalchemy.engine.Engine:CREATE INDEX ix_roles_changedby ON roles (changedby)\n"
          ]
        },
        {
          "output_type": "stream",
          "name": "stdout",
          "text": [
            "2024-03-21 19:40:23,700 INFO sqlalchemy.engine.Engine [no key 0.00347s] ()\n"
          ]
        },
        {
          "output_type": "stream",
          "name": "stderr",
          "text": [
            "INFO:sqlalchemy.engine.Engine:[no key 0.00347s] ()\n"
          ]
        },
        {
          "output_type": "stream",
          "name": "stdout",
          "text": [
            "2024-03-21 19:40:23,708 INFO sqlalchemy.engine.Engine CREATE INDEX ix_roles_rbacobject ON roles (rbacobject)\n"
          ]
        },
        {
          "output_type": "stream",
          "name": "stderr",
          "text": [
            "INFO:sqlalchemy.engine.Engine:CREATE INDEX ix_roles_rbacobject ON roles (rbacobject)\n"
          ]
        },
        {
          "output_type": "stream",
          "name": "stdout",
          "text": [
            "2024-03-21 19:40:23,711 INFO sqlalchemy.engine.Engine [no key 0.00301s] ()\n"
          ]
        },
        {
          "output_type": "stream",
          "name": "stderr",
          "text": [
            "INFO:sqlalchemy.engine.Engine:[no key 0.00301s] ()\n"
          ]
        },
        {
          "output_type": "stream",
          "name": "stdout",
          "text": [
            "2024-03-21 19:40:23,715 INFO sqlalchemy.engine.Engine CREATE INDEX ix_roles_user_id ON roles (user_id)\n"
          ]
        },
        {
          "output_type": "stream",
          "name": "stderr",
          "text": [
            "INFO:sqlalchemy.engine.Engine:CREATE INDEX ix_roles_user_id ON roles (user_id)\n"
          ]
        },
        {
          "output_type": "stream",
          "name": "stdout",
          "text": [
            "2024-03-21 19:40:23,717 INFO sqlalchemy.engine.Engine [no key 0.00240s] ()\n"
          ]
        },
        {
          "output_type": "stream",
          "name": "stderr",
          "text": [
            "INFO:sqlalchemy.engine.Engine:[no key 0.00240s] ()\n"
          ]
        },
        {
          "output_type": "stream",
          "name": "stdout",
          "text": [
            "2024-03-21 19:40:23,721 INFO sqlalchemy.engine.Engine CREATE INDEX ix_roles_roletype_id ON roles (roletype_id)\n"
          ]
        },
        {
          "output_type": "stream",
          "name": "stderr",
          "text": [
            "INFO:sqlalchemy.engine.Engine:CREATE INDEX ix_roles_roletype_id ON roles (roletype_id)\n"
          ]
        },
        {
          "output_type": "stream",
          "name": "stdout",
          "text": [
            "2024-03-21 19:40:23,723 INFO sqlalchemy.engine.Engine [no key 0.00254s] ()\n"
          ]
        },
        {
          "output_type": "stream",
          "name": "stderr",
          "text": [
            "INFO:sqlalchemy.engine.Engine:[no key 0.00254s] ()\n"
          ]
        },
        {
          "output_type": "stream",
          "name": "stdout",
          "text": [
            "2024-03-21 19:40:23,728 INFO sqlalchemy.engine.Engine CREATE INDEX ix_roles_group_id ON roles (group_id)\n"
          ]
        },
        {
          "output_type": "stream",
          "name": "stderr",
          "text": [
            "INFO:sqlalchemy.engine.Engine:CREATE INDEX ix_roles_group_id ON roles (group_id)\n"
          ]
        },
        {
          "output_type": "stream",
          "name": "stdout",
          "text": [
            "2024-03-21 19:40:23,731 INFO sqlalchemy.engine.Engine [no key 0.00290s] ()\n"
          ]
        },
        {
          "output_type": "stream",
          "name": "stderr",
          "text": [
            "INFO:sqlalchemy.engine.Engine:[no key 0.00290s] ()\n"
          ]
        },
        {
          "output_type": "stream",
          "name": "stdout",
          "text": [
            "2024-03-21 19:40:23,735 INFO sqlalchemy.engine.Engine CREATE INDEX ix_roles_createdby ON roles (createdby)\n"
          ]
        },
        {
          "output_type": "stream",
          "name": "stderr",
          "text": [
            "INFO:sqlalchemy.engine.Engine:CREATE INDEX ix_roles_createdby ON roles (createdby)\n"
          ]
        },
        {
          "output_type": "stream",
          "name": "stdout",
          "text": [
            "2024-03-21 19:40:23,737 INFO sqlalchemy.engine.Engine [no key 0.00237s] ()\n"
          ]
        },
        {
          "output_type": "stream",
          "name": "stderr",
          "text": [
            "INFO:sqlalchemy.engine.Engine:[no key 0.00237s] ()\n"
          ]
        },
        {
          "output_type": "stream",
          "name": "stdout",
          "text": [
            "BaseModel.metadata.create_all finished\n",
            "2024-03-21 19:40:23,740 INFO sqlalchemy.engine.Engine COMMIT\n"
          ]
        },
        {
          "output_type": "stream",
          "name": "stderr",
          "text": [
            "INFO:sqlalchemy.engine.Engine:COMMIT\n"
          ]
        }
      ]
    },
    {
      "cell_type": "code",
      "source": [
        "async def Add(model, **attrs):\n",
        "    async with async_session_maker.begin() as session:\n",
        "        u = model(**attrs)\n",
        "        session.add(u)\n",
        "        await session.commit()\n",
        "        return u\n",
        "\n",
        "u = await Add(UserModel, name=\"John\", surname=\"Newbie\", id=UUID(\"8b22e698f41548ab954a4554568839c5\"))\n",
        "print(u)"
      ],
      "metadata": {
        "id": "StNno3-nVC3T",
        "outputId": "8b5fca6b-d649-4f58-cbd6-59d7f6f0b92b",
        "colab": {
          "base_uri": "https://localhost:8080/"
        }
      },
      "execution_count": 77,
      "outputs": [
        {
          "output_type": "stream",
          "name": "stdout",
          "text": [
            "2024-03-21 19:40:37,864 INFO sqlalchemy.engine.Engine BEGIN (implicit)\n"
          ]
        },
        {
          "output_type": "stream",
          "name": "stderr",
          "text": [
            "INFO:sqlalchemy.engine.Engine:BEGIN (implicit)\n"
          ]
        },
        {
          "output_type": "stream",
          "name": "stdout",
          "text": [
            "2024-03-21 19:40:37,877 INFO sqlalchemy.engine.Engine INSERT INTO users (id, name, surname, email, startdate, enddate, valid, createdby, changedby, rbacobject) VALUES (?, ?, ?, ?, ?, ?, ?, ?, ?, ?) RETURNING created, lastchange\n"
          ]
        },
        {
          "output_type": "stream",
          "name": "stderr",
          "text": [
            "INFO:sqlalchemy.engine.Engine:INSERT INTO users (id, name, surname, email, startdate, enddate, valid, createdby, changedby, rbacobject) VALUES (?, ?, ?, ?, ?, ?, ?, ?, ?, ?) RETURNING created, lastchange\n"
          ]
        },
        {
          "output_type": "stream",
          "name": "stdout",
          "text": [
            "2024-03-21 19:40:37,887 INFO sqlalchemy.engine.Engine [generated in 0.00957s] ('8b22e698f41548ab954a4554568839c5', 'John', 'Newbie', None, None, None, 1, None, None, None)\n"
          ]
        },
        {
          "output_type": "stream",
          "name": "stderr",
          "text": [
            "INFO:sqlalchemy.engine.Engine:[generated in 0.00957s] ('8b22e698f41548ab954a4554568839c5', 'John', 'Newbie', None, None, None, 1, None, None, None)\n"
          ]
        },
        {
          "output_type": "stream",
          "name": "stdout",
          "text": [
            "2024-03-21 19:40:37,898 INFO sqlalchemy.engine.Engine COMMIT\n"
          ]
        },
        {
          "output_type": "stream",
          "name": "stderr",
          "text": [
            "INFO:sqlalchemy.engine.Engine:COMMIT\n"
          ]
        },
        {
          "output_type": "stream",
          "name": "stdout",
          "text": [
            "<__main__.UserModel object at 0x7bf1a2851330>\n"
          ]
        }
      ]
    },
    {
      "cell_type": "code",
      "source": [
        "from sqlalchemy import select\n",
        "async def Get(model, id):\n",
        "    stmt = select(model).filter_by(id=id)\n",
        "    async with async_session_maker.begin() as session:\n",
        "        results = await session.execute(stmt)\n",
        "        return results.scalar()\n",
        "\n",
        "u = await Get(UserModel, id=UUID(\"8b22e698f41548ab954a4554568839c5\"))\n",
        "print(u)"
      ],
      "metadata": {
        "id": "4eSAiwa6Vna3",
        "outputId": "9fb6eb0e-bacd-42e3-a346-8b72eb6e7e16",
        "colab": {
          "base_uri": "https://localhost:8080/"
        }
      },
      "execution_count": 78,
      "outputs": [
        {
          "output_type": "stream",
          "name": "stdout",
          "text": [
            "2024-03-21 19:40:40,543 INFO sqlalchemy.engine.Engine BEGIN (implicit)\n"
          ]
        },
        {
          "output_type": "stream",
          "name": "stderr",
          "text": [
            "INFO:sqlalchemy.engine.Engine:BEGIN (implicit)\n"
          ]
        },
        {
          "output_type": "stream",
          "name": "stdout",
          "text": [
            "2024-03-21 19:40:40,550 INFO sqlalchemy.engine.Engine SELECT users.id, users.name, users.surname, users.email, users.startdate, users.enddate, users.valid, users.created, users.lastchange, users.createdby, users.changedby, users.rbacobject \n",
            "FROM users \n",
            "WHERE users.id = ?\n"
          ]
        },
        {
          "output_type": "stream",
          "name": "stderr",
          "text": [
            "INFO:sqlalchemy.engine.Engine:SELECT users.id, users.name, users.surname, users.email, users.startdate, users.enddate, users.valid, users.created, users.lastchange, users.createdby, users.changedby, users.rbacobject \n",
            "FROM users \n",
            "WHERE users.id = ?\n"
          ]
        },
        {
          "output_type": "stream",
          "name": "stdout",
          "text": [
            "2024-03-21 19:40:40,554 INFO sqlalchemy.engine.Engine [cached since 16.49s ago] ('8b22e698f41548ab954a4554568839c5',)\n"
          ]
        },
        {
          "output_type": "stream",
          "name": "stderr",
          "text": [
            "INFO:sqlalchemy.engine.Engine:[cached since 16.49s ago] ('8b22e698f41548ab954a4554568839c5',)\n"
          ]
        },
        {
          "output_type": "stream",
          "name": "stdout",
          "text": [
            "2024-03-21 19:40:40,567 INFO sqlalchemy.engine.Engine COMMIT\n"
          ]
        },
        {
          "output_type": "stream",
          "name": "stderr",
          "text": [
            "INFO:sqlalchemy.engine.Engine:COMMIT\n"
          ]
        },
        {
          "output_type": "stream",
          "name": "stdout",
          "text": [
            "<__main__.UserModel object at 0x7bf1a1f496c0>\n"
          ]
        }
      ]
    },
    {
      "cell_type": "code",
      "source": [
        "from sqlalchemy import delete\n",
        "async def Delete(model, id):\n",
        "    stmt = delete(model).filter_by(id=id)\n",
        "    async with async_session_maker.begin() as session:\n",
        "        results = await session.execute(stmt)\n",
        "        return results\n",
        "\n",
        "r = await Delete(UserModel, id=UUID(\"8b22e698f41548ab954a4554568839c5\"))\n",
        "print(r)"
      ],
      "metadata": {
        "id": "iOASjoEAYVGX",
        "outputId": "2bf62749-ee95-4aa8-a317-cd20f07179c4",
        "colab": {
          "base_uri": "https://localhost:8080/"
        }
      },
      "execution_count": 79,
      "outputs": [
        {
          "output_type": "stream",
          "name": "stdout",
          "text": [
            "2024-03-21 19:40:43,045 INFO sqlalchemy.engine.Engine BEGIN (implicit)\n"
          ]
        },
        {
          "output_type": "stream",
          "name": "stderr",
          "text": [
            "INFO:sqlalchemy.engine.Engine:BEGIN (implicit)\n"
          ]
        },
        {
          "output_type": "stream",
          "name": "stdout",
          "text": [
            "2024-03-21 19:40:43,049 INFO sqlalchemy.engine.Engine DELETE FROM users WHERE users.id = ?\n"
          ]
        },
        {
          "output_type": "stream",
          "name": "stderr",
          "text": [
            "INFO:sqlalchemy.engine.Engine:DELETE FROM users WHERE users.id = ?\n"
          ]
        },
        {
          "output_type": "stream",
          "name": "stdout",
          "text": [
            "2024-03-21 19:40:43,051 INFO sqlalchemy.engine.Engine [cached since 18.89s ago] ('8b22e698f41548ab954a4554568839c5',)\n"
          ]
        },
        {
          "output_type": "stream",
          "name": "stderr",
          "text": [
            "INFO:sqlalchemy.engine.Engine:[cached since 18.89s ago] ('8b22e698f41548ab954a4554568839c5',)\n"
          ]
        },
        {
          "output_type": "stream",
          "name": "stdout",
          "text": [
            "2024-03-21 19:40:43,055 INFO sqlalchemy.engine.Engine COMMIT\n"
          ]
        },
        {
          "output_type": "stream",
          "name": "stderr",
          "text": [
            "INFO:sqlalchemy.engine.Engine:COMMIT\n"
          ]
        },
        {
          "output_type": "stream",
          "name": "stdout",
          "text": [
            "<sqlalchemy.engine.cursor.CursorResult object at 0x7bf1a1d53040>\n"
          ]
        }
      ]
    },
    {
      "cell_type": "code",
      "source": [
        "u = await Add(UserModel, name=\"John\", surname=\"Newbie\", id=UUID(\"8b22e698f41548ab954a4554568839c5\"))\n",
        "g = await Add(GroupModel, name=\"25-5KB\", id=UUID(\"8b22e698f41548ab954a4554568839c6\"))\n",
        "m = await Add(MembershipModel, user_id=UUID(\"8b22e698f41548ab954a4554568839c5\"), group_id=UUID(\"8b22e698f41548ab954a4554568839c6\"), id=UUID(\"8b22e698f41548ab954a4554568839c4\"))"
      ],
      "metadata": {
        "colab": {
          "base_uri": "https://localhost:8080/"
        },
        "id": "cVYcQOE5hJlU",
        "outputId": "9e5f0d5f-96c2-4bde-a407-48585c5b59fa"
      },
      "execution_count": 81,
      "outputs": [
        {
          "output_type": "stream",
          "name": "stdout",
          "text": [
            "2024-03-21 19:41:02,113 INFO sqlalchemy.engine.Engine BEGIN (implicit)\n"
          ]
        },
        {
          "output_type": "stream",
          "name": "stderr",
          "text": [
            "INFO:sqlalchemy.engine.Engine:BEGIN (implicit)\n"
          ]
        },
        {
          "output_type": "stream",
          "name": "stdout",
          "text": [
            "2024-03-21 19:41:02,126 INFO sqlalchemy.engine.Engine INSERT INTO users (id, name, surname, email, startdate, enddate, valid, createdby, changedby, rbacobject) VALUES (?, ?, ?, ?, ?, ?, ?, ?, ?, ?) RETURNING created, lastchange\n"
          ]
        },
        {
          "output_type": "stream",
          "name": "stderr",
          "text": [
            "INFO:sqlalchemy.engine.Engine:INSERT INTO users (id, name, surname, email, startdate, enddate, valid, createdby, changedby, rbacobject) VALUES (?, ?, ?, ?, ?, ?, ?, ?, ?, ?) RETURNING created, lastchange\n"
          ]
        },
        {
          "output_type": "stream",
          "name": "stdout",
          "text": [
            "2024-03-21 19:41:02,138 INFO sqlalchemy.engine.Engine [cached since 24.26s ago] ('8b22e698f41548ab954a4554568839c5', 'John', 'Newbie', None, None, None, 1, None, None, None)\n"
          ]
        },
        {
          "output_type": "stream",
          "name": "stderr",
          "text": [
            "INFO:sqlalchemy.engine.Engine:[cached since 24.26s ago] ('8b22e698f41548ab954a4554568839c5', 'John', 'Newbie', None, None, None, 1, None, None, None)\n"
          ]
        },
        {
          "output_type": "stream",
          "name": "stdout",
          "text": [
            "2024-03-21 19:41:02,149 INFO sqlalchemy.engine.Engine COMMIT\n"
          ]
        },
        {
          "output_type": "stream",
          "name": "stderr",
          "text": [
            "INFO:sqlalchemy.engine.Engine:COMMIT\n"
          ]
        },
        {
          "output_type": "stream",
          "name": "stdout",
          "text": [
            "2024-03-21 19:41:02,158 INFO sqlalchemy.engine.Engine BEGIN (implicit)\n"
          ]
        },
        {
          "output_type": "stream",
          "name": "stderr",
          "text": [
            "INFO:sqlalchemy.engine.Engine:BEGIN (implicit)\n"
          ]
        },
        {
          "output_type": "stream",
          "name": "stdout",
          "text": [
            "2024-03-21 19:41:02,184 INFO sqlalchemy.engine.Engine INSERT INTO groups (id, name, name_en, email, startdate, enddate, valid, mastergroup_id, createdby, changedby, rbacobject) VALUES (?, ?, ?, ?, ?, ?, ?, ?, ?, ?, ?) RETURNING created, lastchange\n"
          ]
        },
        {
          "output_type": "stream",
          "name": "stderr",
          "text": [
            "INFO:sqlalchemy.engine.Engine:INSERT INTO groups (id, name, name_en, email, startdate, enddate, valid, mastergroup_id, createdby, changedby, rbacobject) VALUES (?, ?, ?, ?, ?, ?, ?, ?, ?, ?, ?) RETURNING created, lastchange\n"
          ]
        },
        {
          "output_type": "stream",
          "name": "stdout",
          "text": [
            "2024-03-21 19:41:02,203 INFO sqlalchemy.engine.Engine [generated in 0.01881s] ('8b22e698f41548ab954a4554568839c6', '25-5KB', None, None, None, None, 1, None, None, None, None)\n"
          ]
        },
        {
          "output_type": "stream",
          "name": "stderr",
          "text": [
            "INFO:sqlalchemy.engine.Engine:[generated in 0.01881s] ('8b22e698f41548ab954a4554568839c6', '25-5KB', None, None, None, None, 1, None, None, None, None)\n"
          ]
        },
        {
          "output_type": "stream",
          "name": "stdout",
          "text": [
            "2024-03-21 19:41:02,213 INFO sqlalchemy.engine.Engine COMMIT\n"
          ]
        },
        {
          "output_type": "stream",
          "name": "stderr",
          "text": [
            "INFO:sqlalchemy.engine.Engine:COMMIT\n"
          ]
        },
        {
          "output_type": "stream",
          "name": "stdout",
          "text": [
            "2024-03-21 19:41:02,227 INFO sqlalchemy.engine.Engine BEGIN (implicit)\n"
          ]
        },
        {
          "output_type": "stream",
          "name": "stderr",
          "text": [
            "INFO:sqlalchemy.engine.Engine:BEGIN (implicit)\n"
          ]
        },
        {
          "output_type": "stream",
          "name": "stdout",
          "text": [
            "2024-03-21 19:41:02,241 INFO sqlalchemy.engine.Engine INSERT INTO memberships (id, user_id, group_id, startdate, enddate, valid, createdby, changedby, rbacobject) VALUES (?, ?, ?, ?, ?, ?, ?, ?, ?) RETURNING created, lastchange\n"
          ]
        },
        {
          "output_type": "stream",
          "name": "stderr",
          "text": [
            "INFO:sqlalchemy.engine.Engine:INSERT INTO memberships (id, user_id, group_id, startdate, enddate, valid, createdby, changedby, rbacobject) VALUES (?, ?, ?, ?, ?, ?, ?, ?, ?) RETURNING created, lastchange\n"
          ]
        },
        {
          "output_type": "stream",
          "name": "stdout",
          "text": [
            "2024-03-21 19:41:02,247 INFO sqlalchemy.engine.Engine [generated in 0.00839s] ('8b22e698f41548ab954a4554568839c4', '8b22e698f41548ab954a4554568839c5', '8b22e698f41548ab954a4554568839c6', None, None, 1, None, None, None)\n"
          ]
        },
        {
          "output_type": "stream",
          "name": "stderr",
          "text": [
            "INFO:sqlalchemy.engine.Engine:[generated in 0.00839s] ('8b22e698f41548ab954a4554568839c4', '8b22e698f41548ab954a4554568839c5', '8b22e698f41548ab954a4554568839c6', None, None, 1, None, None, None)\n"
          ]
        },
        {
          "output_type": "stream",
          "name": "stdout",
          "text": [
            "2024-03-21 19:41:02,256 INFO sqlalchemy.engine.Engine COMMIT\n"
          ]
        },
        {
          "output_type": "stream",
          "name": "stderr",
          "text": [
            "INFO:sqlalchemy.engine.Engine:COMMIT\n"
          ]
        }
      ]
    },
    {
      "cell_type": "code",
      "source": [
        "stmt = select(UserModel).join(MembershipModel).join(GroupModel).filter(UserModel.id==UUID(\"8b22e698f41548ab954a4554568839c5\"))\n",
        "print(stmt)\n",
        "async with async_session_maker.begin() as session:\n",
        "    results = await session.execute(stmt)\n",
        "    for r in results:\n",
        "        print(r)\n",
        "        u = r[0]\n",
        "        print(u.name, u.surname)\n",
        "        # m = u.memberships\n",
        "        # print(m)\n",
        "        # print(m[0])\n",
        ""
      ],
      "metadata": {
        "id": "oTZry7OBY7ru",
        "colab": {
          "base_uri": "https://localhost:8080/"
        },
        "outputId": "53c189bf-06fe-4f40-df92-00f93f940df9"
      },
      "execution_count": 94,
      "outputs": [
        {
          "output_type": "stream",
          "name": "stdout",
          "text": [
            "SELECT users.id, users.name, users.surname, users.email, users.startdate, users.enddate, users.valid, users.created, users.lastchange, users.createdby, users.changedby, users.rbacobject \n",
            "FROM users JOIN memberships ON users.id = memberships.user_id JOIN groups ON groups.id = memberships.group_id \n",
            "WHERE users.id = :id_1\n",
            "2024-03-21 19:49:41,986 INFO sqlalchemy.engine.Engine BEGIN (implicit)\n"
          ]
        },
        {
          "output_type": "stream",
          "name": "stderr",
          "text": [
            "INFO:sqlalchemy.engine.Engine:BEGIN (implicit)\n"
          ]
        },
        {
          "output_type": "stream",
          "name": "stdout",
          "text": [
            "2024-03-21 19:49:42,005 INFO sqlalchemy.engine.Engine SELECT users.id, users.name, users.surname, users.email, users.startdate, users.enddate, users.valid, users.created, users.lastchange, users.createdby, users.changedby, users.rbacobject \n",
            "FROM users JOIN memberships ON users.id = memberships.user_id JOIN groups ON groups.id = memberships.group_id \n",
            "WHERE users.id = ?\n"
          ]
        },
        {
          "output_type": "stream",
          "name": "stderr",
          "text": [
            "INFO:sqlalchemy.engine.Engine:SELECT users.id, users.name, users.surname, users.email, users.startdate, users.enddate, users.valid, users.created, users.lastchange, users.createdby, users.changedby, users.rbacobject \n",
            "FROM users JOIN memberships ON users.id = memberships.user_id JOIN groups ON groups.id = memberships.group_id \n",
            "WHERE users.id = ?\n"
          ]
        },
        {
          "output_type": "stream",
          "name": "stdout",
          "text": [
            "2024-03-21 19:49:42,022 INFO sqlalchemy.engine.Engine [generated in 0.01776s] ('8b22e698f41548ab954a4554568839c5',)\n"
          ]
        },
        {
          "output_type": "stream",
          "name": "stderr",
          "text": [
            "INFO:sqlalchemy.engine.Engine:[generated in 0.01776s] ('8b22e698f41548ab954a4554568839c5',)\n"
          ]
        },
        {
          "output_type": "stream",
          "name": "stdout",
          "text": [
            "(<__main__.UserModel object at 0x7bf1a2c05e40>,)\n",
            "John Newbie\n",
            "2024-03-21 19:49:42,039 INFO sqlalchemy.engine.Engine COMMIT\n"
          ]
        },
        {
          "output_type": "stream",
          "name": "stderr",
          "text": [
            "INFO:sqlalchemy.engine.Engine:COMMIT\n"
          ]
        }
      ]
    },
    {
      "cell_type": "code",
      "source": [],
      "metadata": {
        "id": "L6Z-cbF7iBtI"
      },
      "execution_count": null,
      "outputs": []
    }
  ]
}