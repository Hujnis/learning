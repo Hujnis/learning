{
  "nbformat": 4,
  "nbformat_minor": 0,
  "metadata": {
    "colab": {
      "provenance": [],
      "authorship_tag": "ABX9TyO16e7cRMbzNH0McFNLEwIt",
      "include_colab_link": true
    },
    "kernelspec": {
      "name": "python3",
      "display_name": "Python 3"
    },
    "language_info": {
      "name": "python"
    }
  },
  "cells": [
    {
      "cell_type": "markdown",
      "metadata": {
        "id": "view-in-github",
        "colab_type": "text"
      },
      "source": [
        "<a href=\"https://colab.research.google.com/github/hrbolek/learning/blob/master/notebooks/ais/06_sqla.ipynb\" target=\"_parent\"><img src=\"https://colab.research.google.com/assets/colab-badge.svg\" alt=\"Open In Colab\"/></a>"
      ]
    },
    {
      "cell_type": "code",
      "execution_count": 1,
      "metadata": {
        "id": "T9Qe4neSRJjJ",
        "outputId": "c77b73a7-5c7e-4530-d00f-7a36b6c8e8fe",
        "colab": {
          "base_uri": "https://localhost:8080/"
        }
      },
      "outputs": [
        {
          "output_type": "stream",
          "name": "stdout",
          "text": [
            "Requirement already satisfied: sqlalchemy in /usr/local/lib/python3.10/dist-packages (2.0.28)\n",
            "Requirement already satisfied: typing-extensions>=4.6.0 in /usr/local/lib/python3.10/dist-packages (from sqlalchemy) (4.10.0)\n",
            "Requirement already satisfied: greenlet!=0.4.17 in /usr/local/lib/python3.10/dist-packages (from sqlalchemy) (3.0.3)\n"
          ]
        }
      ],
      "source": [
        "!pip install sqlalchemy"
      ]
    },
    {
      "cell_type": "code",
      "source": [
        "from uuid import uuid4, UUID\n",
        "from sqlalchemy import Column, Uuid\n",
        "uuid = uuid4\n",
        "\n",
        "def UUIDColumn():\n",
        "    return Column(Uuid, primary_key=True, comment=\"primary key\", default=uuid)\n",
        "\n",
        "def UUIDFKey(comment=None, nullable=True, **kwargs):\n",
        "    return Column(Uuid, index=True, comment=comment, nullable=nullable, **kwargs)"
      ],
      "metadata": {
        "id": "I3dWFxWQTHS1"
      },
      "execution_count": 2,
      "outputs": []
    },
    {
      "cell_type": "code",
      "source": [
        "from sqlalchemy.orm import declarative_base\n",
        "BaseModel = declarative_base()"
      ],
      "metadata": {
        "id": "L8s51YWQTQ15"
      },
      "execution_count": 3,
      "outputs": []
    },
    {
      "cell_type": "code",
      "source": [
        "import sqlalchemy\n",
        "from sqlalchemy import (\n",
        "    Column,\n",
        "    String,\n",
        "    DateTime,\n",
        "    Boolean,\n",
        ")\n",
        "from sqlalchemy.orm import relationship\n",
        "from sqlalchemy.ext.hybrid import hybrid_property\n",
        "\n",
        "class UserModel(BaseModel):\n",
        "    \"\"\"Spravuje data spojena s uzivatelem\"\"\"\n",
        "\n",
        "    __tablename__ = \"users\"\n",
        "\n",
        "    id = UUIDColumn()\n",
        "    name = Column(String)\n",
        "    surname = Column(String)\n",
        "\n",
        "    @hybrid_property\n",
        "    def fullname(self):\n",
        "        return self.name + \" \" + self.surname\n",
        "\n",
        "    email = Column(String)\n",
        "    startdate = Column(DateTime, comment=\"first date of user in the system\")\n",
        "    enddate = Column(DateTime, comment=\"last date of user in the system\")\n",
        "    valid = Column(Boolean, default=True, comment=\"if the user is still active\")\n",
        "\n",
        "    memberships = relationship(\"MembershipModel\", back_populates=\"user\", foreign_keys=\"MembershipModel.user_id\")\n",
        "    roles = relationship(\"RoleModel\", back_populates=\"user\", foreign_keys=\"RoleModel.user_id\")\n",
        "    # groups = relationship(\"GroupModel\",\n",
        "    #     secondary=\"join(MembershipModel, GroupModel, GroupModel.id==MembershipModel.group_id)\",\n",
        "    #     primaryjoin=\"UserModel.id==MembershipModel.user_id\",\n",
        "    #     secondaryjoin=\"GroupModel.id==MembershipModel.group_id\",\n",
        "    #     uselist=True,\n",
        "    #     viewonly=True\n",
        "    # )\n",
        "\n",
        "    created = Column(DateTime, server_default=sqlalchemy.sql.func.now(), comment=\"when record has been created\")\n",
        "    lastchange = Column(DateTime, server_default=sqlalchemy.sql.func.now(), comment=\"timestamp\")\n",
        "    createdby = UUIDFKey(nullable=True, comment=\"who has created this record\")#Column(ForeignKey(\"users.id\"), index=True, nullable=True)\n",
        "    changedby = UUIDFKey(nullable=True, comment=\"who has changed this record\")#Column(ForeignKey(\"users.id\"), index=True, nullable=True)\n",
        "\n",
        "    rbacobject = UUIDFKey(nullable=True, comment=\"holds object for role resolution\")#Column(ForeignKey(\"users.id\"), index=True, nullable=True)"
      ],
      "metadata": {
        "id": "sDszS7XITUkc"
      },
      "execution_count": null,
      "outputs": []
    },
    {
      "cell_type": "code",
      "source": [],
      "metadata": {
        "id": "vPUq1g_RTrB-"
      },
      "execution_count": null,
      "outputs": []
    },
    {
      "cell_type": "code",
      "source": [
        "class GroupModel(BaseModel):\n",
        "    \"\"\"Spravuje data spojena se skupinou\"\"\"\n",
        "\n",
        "    __tablename__ = \"groups\"\n",
        "\n",
        "    id = UUIDColumn()\n",
        "    name = Column(String, comment=\"name of the group\")\n",
        "    name_en = Column(String, comment=\"english name of the group\")\n",
        "    email = Column(String, comment=\"can be an email for whole group\")\n",
        "\n",
        "    startdate = Column(DateTime, comment=\"born date of the group\")\n",
        "    enddate = Column(DateTime, comment=\"date when group `died`\")\n",
        "    valid = Column(Boolean, default=True, comment=\"if the group still exists\")\n",
        "\n",
        "    grouptype_id = Column(ForeignKey(\"grouptypes.id\"), index=True, comment=\"link to the group type (aka faculty)\")\n",
        "    grouptype = relationship(\"GroupTypeModel\", back_populates=\"groups\")\n",
        "\n",
        "    mastergroup_id = Column(ForeignKey(\"groups.id\"), index=True, comment=\"link to the commanding group\")\n",
        "\n",
        "    memberships = relationship(\"MembershipModel\", back_populates=\"group\")\n",
        "    roles = relationship(\"RoleModel\", back_populates=\"group\")\n",
        "\n",
        "    created = Column(DateTime, server_default=sqlalchemy.sql.func.now(), comment=\"when record has been created\")\n",
        "    lastchange = Column(DateTime, server_default=sqlalchemy.sql.func.now(), comment=\"timestamp\")\n",
        "    createdby = UUIDFKey(nullable=True, comment=\"who has created this record\")#Column(ForeignKey(\"users.id\"), index=True, nullable=True)\n",
        "    changedby = UUIDFKey(nullable=True, comment=\"who has changed this record\")#Column(ForeignKey(\"users.id\"), index=True, nullable=True)\n",
        "\n",
        "    rbacobject = UUIDFKey(nullable=True, comment=\"holds object for role resolution\")#Column(ForeignKey(\"users.id\"), index=True, nullable=True)"
      ],
      "metadata": {
        "id": "1ZNSW6x6TemN"
      },
      "execution_count": null,
      "outputs": []
    },
    {
      "cell_type": "code",
      "source": [
        "class MembershipModel(BaseModel):\n",
        "    \"\"\"Spojuje User s Group jestlize User je clen Group\n",
        "    Umoznuje udrzovat historii spojeni\n",
        "    \"\"\"\n",
        "\n",
        "    __tablename__ = \"memberships\"\n",
        "\n",
        "    id = UUIDColumn()\n",
        "    user_id = Column(ForeignKey(\"users.id\"), index=True)\n",
        "    group_id = Column(ForeignKey(\"groups.id\"), index=True)\n",
        "\n",
        "    startdate = Column(DateTime, comment=\"first date of membership\")\n",
        "    enddate = Column(DateTime, comment=\"last date of membership\")\n",
        "    valid = Column(Boolean, default=True, comment=\"if the membership is still active\")\n",
        "\n",
        "    created = Column(DateTime, server_default=sqlalchemy.sql.func.now(), comment=\"when record has been created\")\n",
        "    lastchange = Column(DateTime, server_default=sqlalchemy.sql.func.now(), comment=\"timestamp\")\n",
        "    createdby = UUIDFKey(nullable=True, comment=\"who has created this record\")#Column(ForeignKey(\"users.id\"), index=True, nullable=True)\n",
        "    changedby = UUIDFKey(nullable=True, comment=\"who has changed this record\")#Column(ForeignKey(\"users.id\"), index=True, nullable=True)\n",
        "\n",
        "    user = relationship(\"UserModel\", back_populates=\"memberships\", foreign_keys=[user_id])\n",
        "    group = relationship(\"GroupModel\", back_populates=\"memberships\")\n",
        "\n",
        "    rbacobject = UUIDFKey(nullable=True, comment=\"holds object for role resolution\")#Column(ForeignKey(\"users.id\"), index=True, nullable=True)"
      ],
      "metadata": {
        "id": "NlROQNL7Ti3k"
      },
      "execution_count": null,
      "outputs": []
    },
    {
      "cell_type": "code",
      "source": [
        "class RoleModel(BaseModel):\n",
        "    \"\"\"Spojuje uzivatele a skupinu, ve ktere uzivatel \"hraje\" roli\"\"\"\n",
        "\n",
        "    __tablename__ = \"roles\"\n",
        "\n",
        "    id = UUIDColumn()\n",
        "    user_id = Column(ForeignKey(\"users.id\"), index=True)\n",
        "    group_id = Column(ForeignKey(\"groups.id\"), index=True)\n",
        "    roletype_id = Column(ForeignKey(\"roletypes.id\"), index=True)\n",
        "\n",
        "    startdate = Column(DateTime, comment=\"when the role begins\")\n",
        "    enddate = Column(DateTime, comment=\"when the role ends\")\n",
        "    valid = Column(Boolean, default=True, comment=\"if the role is still active\")\n",
        "\n",
        "    created = Column(DateTime, server_default=sqlalchemy.sql.func.now(), comment=\"when record has been created\")\n",
        "    lastchange = Column(DateTime, server_default=sqlalchemy.sql.func.now(), comment=\"timestamp\")\n",
        "    createdby = UUIDFKey(nullable=True, comment=\"who has created this record\")#Column(ForeignKey(\"users.id\"), index=True, nullable=True)\n",
        "    changedby = UUIDFKey(nullable=True, comment=\"who has changed this record\")#Column(ForeignKey(\"users.id\"), index=True, nullable=True)\n",
        "\n",
        "    roletype = relationship(\"RoleTypeModel\", back_populates=\"roles\")\n",
        "    user = relationship(\"UserModel\", back_populates=\"roles\", foreign_keys=[user_id])\n",
        "    group = relationship(\"GroupModel\", back_populates=\"roles\")\n",
        "\n",
        "    rbacobject = UUIDFKey(nullable=True, comment=\"holds object for role resolution\")#Column(ForeignKey(\"users.id\"), index=True, nullable=True)"
      ],
      "metadata": {
        "id": "XxPq16bjTpGF"
      },
      "execution_count": null,
      "outputs": []
    },
    {
      "cell_type": "code",
      "source": [
        "class RoleTypeModel(BaseModel):\n",
        "    \"\"\"Urcuje typ role (Vedouci katedry, dekan apod.)\"\"\"\n",
        "\n",
        "    __tablename__ = \"roletypes\"\n",
        "\n",
        "    id = UUIDColumn()\n",
        "    name = Column(String, comment=\"name of the type\")\n",
        "    name_en = Column(String, comment=\"english name of the type\")\n",
        "\n",
        "    category_id = Column(ForeignKey(\"rolecategories.id\"), index=True, nullable=True)\n",
        "\n",
        "    roles = relationship(\"RoleModel\", back_populates=\"roletype\")\n",
        "\n",
        "    created = Column(DateTime, server_default=sqlalchemy.sql.func.now(), comment=\"when record has been created\")\n",
        "    lastchange = Column(DateTime, server_default=sqlalchemy.sql.func.now(), comment=\"timestamp\")\n",
        "    createdby = UUIDFKey(nullable=True, comment=\"who has created this record\")#Column(ForeignKey(\"users.id\"), index=True, nullable=True)\n",
        "    changedby = UUIDFKey(nullable=True, comment=\"who has changed this record\")#Column(ForeignKey(\"users.id\"), index=True, nullable=True)\n",
        "\n",
        "    rbacobject = UUIDFKey(nullable=True, comment=\"holds object for role resolution\")#Column(ForeignKey(\"users.id\"), index=True, nullable=True)"
      ],
      "metadata": {
        "id": "qbcdsTWpT0nQ"
      },
      "execution_count": null,
      "outputs": []
    },
    {
      "cell_type": "code",
      "source": [
        "from sqlalchemy.ext.asyncio import AsyncSession\n",
        "from sqlalchemy.ext.asyncio import create_async_engine\n",
        "from sqlalchemy.orm import sessionmaker\n",
        "\n",
        "async def startEngine(connectionstring=\"sqlite://\", makeDrop=False, makeUp=True) -> AsyncSession:\n",
        "    global dbInitIsDone\n",
        "    \"\"\"Provede nezbytne ukony a vrati asynchronni SessionMaker\"\"\"\n",
        "\n",
        "    asyncEngine = create_async_engine(connectionstring, echo=True)\n",
        "\n",
        "    async with asyncEngine.begin() as conn:\n",
        "        if makeDrop:\n",
        "            await conn.run_sync(BaseModel.metadata.drop_all)\n",
        "            print(\"BaseModel.metadata.drop_all finished\")\n",
        "        if makeUp:\n",
        "            try:\n",
        "                await conn.run_sync(BaseModel.metadata.create_all)\n",
        "                print(\"BaseModel.metadata.create_all finished\")\n",
        "            except sqlalchemy.exc.NoReferencedTableError as e:\n",
        "                print(e)\n",
        "                print(\"Unable automaticaly create tables\")\n",
        "                return None\n",
        "    dbInitIsDone = True\n",
        "\n",
        "    async_sessionMaker = sessionmaker(\n",
        "        asyncEngine, expire_on_commit=False, class_=AsyncSession\n",
        "    )\n",
        "    return async_sessionMaker\n",
        "\n"
      ],
      "metadata": {
        "id": "PdgWQckVT5j7"
      },
      "execution_count": null,
      "outputs": []
    },
    {
      "cell_type": "code",
      "source": [
        "import datetime\n",
        "from sqlalchemy import Column, String, BigInteger, Integer, DateTime, ForeignKey, Sequence, Table\n",
        "from sqlalchemy.orm import relationship\n",
        "\n",
        "from sqlalchemy.ext.declarative import declarative_base\n",
        "\n",
        "BaseModel = declarative_base()\n",
        "\n",
        "\n",
        "unitedSequence = Sequence('all_id_seq')\n",
        "\n",
        "UserGroupModel = Table('users_groups', BaseModel.metadata,\n",
        "        Column('id', BigInteger, Sequence('all_id_seq'), primary_key=True),\n",
        "        Column('user_id', ForeignKey('users.id'), primary_key=True),\n",
        "        Column('group_id', ForeignKey('groups.id'), primary_key=True)\n",
        ")\n",
        "\n",
        "class UserModel(BaseModel):\n",
        "    __tablename__ = 'users'\n",
        "\n",
        "    id = Column(BigInteger, Sequence('all_id_seq'), primary_key=True)\n",
        "    name = Column(String)\n",
        "    surname = Column(String)\n",
        "    email = Column(String)\n",
        "\n",
        "    lastchange = Column(DateTime, default=datetime.datetime.now)\n",
        "    externalId = Column(BigInteger, index=True)\n",
        "\n",
        "    groups = relationship('GroupModel', secondary=UserGroupModel, back_populates='users')\n",
        "\n",
        "class GroupModel(BaseModel):\n",
        "    __tablename__ = 'groups'\n",
        "\n",
        "    id = Column(BigInteger, Sequence('all_id_seq'), primary_key=True)\n",
        "    name = Column(String)\n",
        "\n",
        "    lastchange = Column(DateTime, default=datetime.datetime.now)\n",
        "    entryYearId = Column(Integer)\n",
        "\n",
        "    externalId = Column(String, index=True)\n",
        "\n",
        "    grouptype_id = Column(ForeignKey('grouptypes.id'))\n",
        "    grouptype = relationship('GroupTypeModel', back_populates='groups')\n",
        "\n",
        "    users = relationship('UserModel', secondary=UserGroupModel, back_populates='groups')"
      ],
      "metadata": {
        "id": "uf0bbOx5Sit1"
      },
      "execution_count": null,
      "outputs": []
    },
    {
      "cell_type": "code",
      "source": [
        "from sqlalchemy import create_engine\n",
        "\n",
        "engine = create_engine(\"'sqlite://',echo=True\", echo=True)"
      ],
      "metadata": {
        "id": "3FZl5FdsR-fL"
      },
      "execution_count": null,
      "outputs": []
    }
  ]
}