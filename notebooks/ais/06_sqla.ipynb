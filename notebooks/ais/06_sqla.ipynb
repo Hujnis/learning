{
  "nbformat": 4,
  "nbformat_minor": 0,
  "metadata": {
    "colab": {
      "provenance": [],
      "authorship_tag": "ABX9TyONe5nH0CjkaNpe3i619585",
      "include_colab_link": true
    },
    "kernelspec": {
      "name": "python3",
      "display_name": "Python 3"
    },
    "language_info": {
      "name": "python"
    }
  },
  "cells": [
    {
      "cell_type": "markdown",
      "metadata": {
        "id": "view-in-github",
        "colab_type": "text"
      },
      "source": [
        "<a href=\"https://colab.research.google.com/github/hrbolek/learning/blob/master/notebooks/ais/06_sqla.ipynb\" target=\"_parent\"><img src=\"https://colab.research.google.com/assets/colab-badge.svg\" alt=\"Open In Colab\"/></a>"
      ]
    },
    {
      "cell_type": "code",
      "execution_count": 30,
      "metadata": {
        "id": "T9Qe4neSRJjJ",
        "colab": {
          "base_uri": "https://localhost:8080/"
        },
        "outputId": "9e041465-cb0e-4e7c-a56f-61b93526c7f5"
      },
      "outputs": [
        {
          "output_type": "stream",
          "name": "stdout",
          "text": [
            "Requirement already satisfied: sqlalchemy in /usr/local/lib/python3.10/dist-packages (2.0.28)\n",
            "Requirement already satisfied: typing-extensions>=4.6.0 in /usr/local/lib/python3.10/dist-packages (from sqlalchemy) (4.10.0)\n",
            "Requirement already satisfied: greenlet!=0.4.17 in /usr/local/lib/python3.10/dist-packages (from sqlalchemy) (3.0.3)\n",
            "Requirement already satisfied: aiosqlite in /usr/local/lib/python3.10/dist-packages (0.20.0)\n",
            "Requirement already satisfied: typing_extensions>=4.0 in /usr/local/lib/python3.10/dist-packages (from aiosqlite) (4.10.0)\n"
          ]
        }
      ],
      "source": [
        "!pip install sqlalchemy\n",
        "!pip install aiosqlite"
      ]
    },
    {
      "cell_type": "code",
      "source": [
        "from uuid import uuid4, UUID\n",
        "from sqlalchemy import Column, Uuid\n",
        "uuid = uuid4\n",
        "\n",
        "def UUIDColumn():\n",
        "    return Column(Uuid, primary_key=True, comment=\"primary key\", default=uuid)\n",
        "\n",
        "def UUIDFKey(comment=None, nullable=True, **kwargs):\n",
        "    return Column(Uuid, index=True, comment=comment, nullable=nullable, **kwargs)"
      ],
      "metadata": {
        "id": "I3dWFxWQTHS1"
      },
      "execution_count": 31,
      "outputs": []
    },
    {
      "cell_type": "code",
      "source": [
        "from sqlalchemy.orm import declarative_base\n",
        "BaseModel = declarative_base()"
      ],
      "metadata": {
        "id": "L8s51YWQTQ15"
      },
      "execution_count": 32,
      "outputs": []
    },
    {
      "cell_type": "code",
      "source": [
        "import sqlalchemy\n",
        "from sqlalchemy import (\n",
        "    Column,\n",
        "    String,\n",
        "    DateTime,\n",
        "    Boolean,\n",
        ")\n",
        "from sqlalchemy.orm import relationship\n",
        "from sqlalchemy.ext.hybrid import hybrid_property\n",
        "\n",
        "class UserModel(BaseModel):\n",
        "    \"\"\"Spravuje data spojena s uzivatelem\"\"\"\n",
        "\n",
        "    __tablename__ = \"users\"\n",
        "\n",
        "    id = UUIDColumn()\n",
        "    name = Column(String)\n",
        "    surname = Column(String)\n",
        "\n",
        "    @hybrid_property\n",
        "    def fullname(self):\n",
        "        return self.name + \" \" + self.surname\n",
        "\n",
        "    email = Column(String)\n",
        "    startdate = Column(DateTime, comment=\"first date of user in the system\")\n",
        "    enddate = Column(DateTime, comment=\"last date of user in the system\")\n",
        "    valid = Column(Boolean, default=True, comment=\"if the user is still active\")\n",
        "\n",
        "    memberships = relationship(\"MembershipModel\", back_populates=\"user\", foreign_keys=\"MembershipModel.user_id\")\n",
        "    roles = relationship(\"RoleModel\", back_populates=\"user\", foreign_keys=\"RoleModel.user_id\")\n",
        "    # groups = relationship(\"GroupModel\",\n",
        "    #     secondary=\"join(MembershipModel, GroupModel, GroupModel.id==MembershipModel.group_id)\",\n",
        "    #     primaryjoin=\"UserModel.id==MembershipModel.user_id\",\n",
        "    #     secondaryjoin=\"GroupModel.id==MembershipModel.group_id\",\n",
        "    #     uselist=True,\n",
        "    #     viewonly=True\n",
        "    # )\n",
        "\n",
        "    created = Column(DateTime, server_default=sqlalchemy.sql.func.now(), comment=\"when record has been created\")\n",
        "    lastchange = Column(DateTime, server_default=sqlalchemy.sql.func.now(), comment=\"timestamp\")\n",
        "    createdby = UUIDFKey(nullable=True, comment=\"who has created this record\")#Column(ForeignKey(\"users.id\"), index=True, nullable=True)\n",
        "    changedby = UUIDFKey(nullable=True, comment=\"who has changed this record\")#Column(ForeignKey(\"users.id\"), index=True, nullable=True)\n",
        "\n",
        "    rbacobject = UUIDFKey(nullable=True, comment=\"holds object for role resolution\")#Column(ForeignKey(\"users.id\"), index=True, nullable=True)"
      ],
      "metadata": {
        "id": "sDszS7XITUkc"
      },
      "execution_count": 33,
      "outputs": []
    },
    {
      "cell_type": "code",
      "source": [
        "from sqlalchemy import (\n",
        "    ForeignKey\n",
        ")\n",
        "class GroupModel(BaseModel):\n",
        "    \"\"\"Spravuje data spojena se skupinou\"\"\"\n",
        "\n",
        "    __tablename__ = \"groups\"\n",
        "\n",
        "    id = UUIDColumn()\n",
        "    name = Column(String, comment=\"name of the group\")\n",
        "    name_en = Column(String, comment=\"english name of the group\")\n",
        "    email = Column(String, comment=\"can be an email for whole group\")\n",
        "\n",
        "    startdate = Column(DateTime, comment=\"born date of the group\")\n",
        "    enddate = Column(DateTime, comment=\"date when group `died`\")\n",
        "    valid = Column(Boolean, default=True, comment=\"if the group still exists\")\n",
        "\n",
        "    mastergroup_id = Column(ForeignKey(\"groups.id\"), index=True, comment=\"link to the commanding group\")\n",
        "\n",
        "    memberships = relationship(\"MembershipModel\", back_populates=\"group\")\n",
        "    roles = relationship(\"RoleModel\", back_populates=\"group\")\n",
        "\n",
        "    created = Column(DateTime, server_default=sqlalchemy.sql.func.now(), comment=\"when record has been created\")\n",
        "    lastchange = Column(DateTime, server_default=sqlalchemy.sql.func.now(), comment=\"timestamp\")\n",
        "    createdby = UUIDFKey(nullable=True, comment=\"who has created this record\")#Column(ForeignKey(\"users.id\"), index=True, nullable=True)\n",
        "    changedby = UUIDFKey(nullable=True, comment=\"who has changed this record\")#Column(ForeignKey(\"users.id\"), index=True, nullable=True)\n",
        "\n",
        "    rbacobject = UUIDFKey(nullable=True, comment=\"holds object for role resolution\")#Column(ForeignKey(\"users.id\"), index=True, nullable=True)"
      ],
      "metadata": {
        "id": "1ZNSW6x6TemN"
      },
      "execution_count": 34,
      "outputs": []
    },
    {
      "cell_type": "code",
      "source": [
        "class MembershipModel(BaseModel):\n",
        "    \"\"\"Spojuje User s Group jestlize User je clen Group\n",
        "    Umoznuje udrzovat historii spojeni\n",
        "    \"\"\"\n",
        "\n",
        "    __tablename__ = \"memberships\"\n",
        "\n",
        "    id = UUIDColumn()\n",
        "    user_id = Column(ForeignKey(\"users.id\"), index=True)\n",
        "    group_id = Column(ForeignKey(\"groups.id\"), index=True)\n",
        "\n",
        "    startdate = Column(DateTime, comment=\"first date of membership\")\n",
        "    enddate = Column(DateTime, comment=\"last date of membership\")\n",
        "    valid = Column(Boolean, default=True, comment=\"if the membership is still active\")\n",
        "\n",
        "    created = Column(DateTime, server_default=sqlalchemy.sql.func.now(), comment=\"when record has been created\")\n",
        "    lastchange = Column(DateTime, server_default=sqlalchemy.sql.func.now(), comment=\"timestamp\")\n",
        "    createdby = UUIDFKey(nullable=True, comment=\"who has created this record\")#Column(ForeignKey(\"users.id\"), index=True, nullable=True)\n",
        "    changedby = UUIDFKey(nullable=True, comment=\"who has changed this record\")#Column(ForeignKey(\"users.id\"), index=True, nullable=True)\n",
        "\n",
        "    user = relationship(\"UserModel\", back_populates=\"memberships\", foreign_keys=[user_id])\n",
        "    group = relationship(\"GroupModel\", back_populates=\"memberships\")\n",
        "\n",
        "    rbacobject = UUIDFKey(nullable=True, comment=\"holds object for role resolution\")#Column(ForeignKey(\"users.id\"), index=True, nullable=True)"
      ],
      "metadata": {
        "id": "NlROQNL7Ti3k"
      },
      "execution_count": 35,
      "outputs": []
    },
    {
      "cell_type": "code",
      "source": [
        "class RoleModel(BaseModel):\n",
        "    \"\"\"Spojuje uzivatele a skupinu, ve ktere uzivatel \"hraje\" roli\"\"\"\n",
        "\n",
        "    __tablename__ = \"roles\"\n",
        "\n",
        "    id = UUIDColumn()\n",
        "    user_id = Column(ForeignKey(\"users.id\"), index=True)\n",
        "    group_id = Column(ForeignKey(\"groups.id\"), index=True)\n",
        "    roletype_id = Column(ForeignKey(\"roletypes.id\"), index=True)\n",
        "\n",
        "    startdate = Column(DateTime, comment=\"when the role begins\")\n",
        "    enddate = Column(DateTime, comment=\"when the role ends\")\n",
        "    valid = Column(Boolean, default=True, comment=\"if the role is still active\")\n",
        "\n",
        "    created = Column(DateTime, server_default=sqlalchemy.sql.func.now(), comment=\"when record has been created\")\n",
        "    lastchange = Column(DateTime, server_default=sqlalchemy.sql.func.now(), comment=\"timestamp\")\n",
        "    createdby = UUIDFKey(nullable=True, comment=\"who has created this record\")#Column(ForeignKey(\"users.id\"), index=True, nullable=True)\n",
        "    changedby = UUIDFKey(nullable=True, comment=\"who has changed this record\")#Column(ForeignKey(\"users.id\"), index=True, nullable=True)\n",
        "\n",
        "    roletype = relationship(\"RoleTypeModel\", back_populates=\"roles\")\n",
        "    user = relationship(\"UserModel\", back_populates=\"roles\", foreign_keys=[user_id])\n",
        "    group = relationship(\"GroupModel\", back_populates=\"roles\")\n",
        "\n",
        "    rbacobject = UUIDFKey(nullable=True, comment=\"holds object for role resolution\")#Column(ForeignKey(\"users.id\"), index=True, nullable=True)"
      ],
      "metadata": {
        "id": "XxPq16bjTpGF"
      },
      "execution_count": 36,
      "outputs": []
    },
    {
      "cell_type": "code",
      "source": [
        "class RoleTypeModel(BaseModel):\n",
        "    \"\"\"Urcuje typ role (Vedouci katedry, dekan apod.)\"\"\"\n",
        "\n",
        "    __tablename__ = \"roletypes\"\n",
        "\n",
        "    id = UUIDColumn()\n",
        "    name = Column(String, comment=\"name of the type\")\n",
        "    name_en = Column(String, comment=\"english name of the type\")\n",
        "\n",
        "    roles = relationship(\"RoleModel\", back_populates=\"roletype\")\n",
        "\n",
        "    created = Column(DateTime, server_default=sqlalchemy.sql.func.now(), comment=\"when record has been created\")\n",
        "    lastchange = Column(DateTime, server_default=sqlalchemy.sql.func.now(), comment=\"timestamp\")\n",
        "    createdby = UUIDFKey(nullable=True, comment=\"who has created this record\")#Column(ForeignKey(\"users.id\"), index=True, nullable=True)\n",
        "    changedby = UUIDFKey(nullable=True, comment=\"who has changed this record\")#Column(ForeignKey(\"users.id\"), index=True, nullable=True)\n",
        "\n",
        "    rbacobject = UUIDFKey(nullable=True, comment=\"holds object for role resolution\")#Column(ForeignKey(\"users.id\"), index=True, nullable=True)"
      ],
      "metadata": {
        "id": "qbcdsTWpT0nQ"
      },
      "execution_count": 37,
      "outputs": []
    },
    {
      "cell_type": "code",
      "source": [
        "from sqlalchemy.ext.asyncio import AsyncSession\n",
        "from sqlalchemy.ext.asyncio import create_async_engine\n",
        "from sqlalchemy.orm import sessionmaker\n",
        "\n",
        "async def startEngine(connectionstring=\"sqlite+aiosqlite://\", makeDrop=False, makeUp=True) -> AsyncSession:\n",
        "    global dbInitIsDone\n",
        "    \"\"\"Provede nezbytne ukony a vrati asynchronni SessionMaker\"\"\"\n",
        "\n",
        "    asyncEngine = create_async_engine(connectionstring, echo=True)\n",
        "\n",
        "    async with asyncEngine.begin() as conn:\n",
        "        if makeDrop:\n",
        "            await conn.run_sync(BaseModel.metadata.drop_all)\n",
        "            print(\"BaseModel.metadata.drop_all finished\")\n",
        "        if makeUp:\n",
        "            try:\n",
        "                await conn.run_sync(BaseModel.metadata.create_all)\n",
        "                print(\"BaseModel.metadata.create_all finished\")\n",
        "            except sqlalchemy.exc.NoReferencedTableError as e:\n",
        "                print(e)\n",
        "                print(\"Unable automaticaly create tables\")\n",
        "                return None\n",
        "    dbInitIsDone = True\n",
        "\n",
        "    async_sessionMaker = sessionmaker(\n",
        "        asyncEngine, expire_on_commit=False, class_=AsyncSession\n",
        "    )\n",
        "    return async_sessionMaker\n",
        "\n"
      ],
      "metadata": {
        "id": "PdgWQckVT5j7"
      },
      "execution_count": 38,
      "outputs": []
    },
    {
      "cell_type": "code",
      "source": [
        "async_session_maker = await startEngine()\n"
      ],
      "metadata": {
        "colab": {
          "base_uri": "https://localhost:8080/"
        },
        "id": "3FZl5FdsR-fL",
        "outputId": "57346a6b-6625-46bd-8714-f7422b5bcd38"
      },
      "execution_count": 39,
      "outputs": [
        {
          "output_type": "stream",
          "name": "stdout",
          "text": [
            "2024-03-21 18:53:28,929 INFO sqlalchemy.engine.Engine BEGIN (implicit)\n"
          ]
        },
        {
          "output_type": "stream",
          "name": "stderr",
          "text": [
            "INFO:sqlalchemy.engine.Engine:BEGIN (implicit)\n"
          ]
        },
        {
          "output_type": "stream",
          "name": "stdout",
          "text": [
            "2024-03-21 18:53:28,936 INFO sqlalchemy.engine.Engine PRAGMA main.table_info(\"users\")\n"
          ]
        },
        {
          "output_type": "stream",
          "name": "stderr",
          "text": [
            "INFO:sqlalchemy.engine.Engine:PRAGMA main.table_info(\"users\")\n"
          ]
        },
        {
          "output_type": "stream",
          "name": "stdout",
          "text": [
            "2024-03-21 18:53:28,942 INFO sqlalchemy.engine.Engine [raw sql] ()\n"
          ]
        },
        {
          "output_type": "stream",
          "name": "stderr",
          "text": [
            "INFO:sqlalchemy.engine.Engine:[raw sql] ()\n"
          ]
        },
        {
          "output_type": "stream",
          "name": "stdout",
          "text": [
            "2024-03-21 18:53:28,951 INFO sqlalchemy.engine.Engine PRAGMA temp.table_info(\"users\")\n"
          ]
        },
        {
          "output_type": "stream",
          "name": "stderr",
          "text": [
            "INFO:sqlalchemy.engine.Engine:PRAGMA temp.table_info(\"users\")\n"
          ]
        },
        {
          "output_type": "stream",
          "name": "stdout",
          "text": [
            "2024-03-21 18:53:28,954 INFO sqlalchemy.engine.Engine [raw sql] ()\n"
          ]
        },
        {
          "output_type": "stream",
          "name": "stderr",
          "text": [
            "INFO:sqlalchemy.engine.Engine:[raw sql] ()\n"
          ]
        },
        {
          "output_type": "stream",
          "name": "stdout",
          "text": [
            "2024-03-21 18:53:28,957 INFO sqlalchemy.engine.Engine PRAGMA main.table_info(\"groups\")\n"
          ]
        },
        {
          "output_type": "stream",
          "name": "stderr",
          "text": [
            "INFO:sqlalchemy.engine.Engine:PRAGMA main.table_info(\"groups\")\n"
          ]
        },
        {
          "output_type": "stream",
          "name": "stdout",
          "text": [
            "2024-03-21 18:53:28,960 INFO sqlalchemy.engine.Engine [raw sql] ()\n"
          ]
        },
        {
          "output_type": "stream",
          "name": "stderr",
          "text": [
            "INFO:sqlalchemy.engine.Engine:[raw sql] ()\n"
          ]
        },
        {
          "output_type": "stream",
          "name": "stdout",
          "text": [
            "2024-03-21 18:53:28,963 INFO sqlalchemy.engine.Engine PRAGMA temp.table_info(\"groups\")\n"
          ]
        },
        {
          "output_type": "stream",
          "name": "stderr",
          "text": [
            "INFO:sqlalchemy.engine.Engine:PRAGMA temp.table_info(\"groups\")\n"
          ]
        },
        {
          "output_type": "stream",
          "name": "stdout",
          "text": [
            "2024-03-21 18:53:28,965 INFO sqlalchemy.engine.Engine [raw sql] ()\n"
          ]
        },
        {
          "output_type": "stream",
          "name": "stderr",
          "text": [
            "INFO:sqlalchemy.engine.Engine:[raw sql] ()\n"
          ]
        },
        {
          "output_type": "stream",
          "name": "stdout",
          "text": [
            "2024-03-21 18:53:28,968 INFO sqlalchemy.engine.Engine PRAGMA main.table_info(\"memberships\")\n"
          ]
        },
        {
          "output_type": "stream",
          "name": "stderr",
          "text": [
            "INFO:sqlalchemy.engine.Engine:PRAGMA main.table_info(\"memberships\")\n"
          ]
        },
        {
          "output_type": "stream",
          "name": "stdout",
          "text": [
            "2024-03-21 18:53:28,970 INFO sqlalchemy.engine.Engine [raw sql] ()\n"
          ]
        },
        {
          "output_type": "stream",
          "name": "stderr",
          "text": [
            "INFO:sqlalchemy.engine.Engine:[raw sql] ()\n"
          ]
        },
        {
          "output_type": "stream",
          "name": "stdout",
          "text": [
            "2024-03-21 18:53:28,974 INFO sqlalchemy.engine.Engine PRAGMA temp.table_info(\"memberships\")\n"
          ]
        },
        {
          "output_type": "stream",
          "name": "stderr",
          "text": [
            "INFO:sqlalchemy.engine.Engine:PRAGMA temp.table_info(\"memberships\")\n"
          ]
        },
        {
          "output_type": "stream",
          "name": "stdout",
          "text": [
            "2024-03-21 18:53:28,976 INFO sqlalchemy.engine.Engine [raw sql] ()\n"
          ]
        },
        {
          "output_type": "stream",
          "name": "stderr",
          "text": [
            "INFO:sqlalchemy.engine.Engine:[raw sql] ()\n"
          ]
        },
        {
          "output_type": "stream",
          "name": "stdout",
          "text": [
            "2024-03-21 18:53:28,979 INFO sqlalchemy.engine.Engine PRAGMA main.table_info(\"roles\")\n"
          ]
        },
        {
          "output_type": "stream",
          "name": "stderr",
          "text": [
            "INFO:sqlalchemy.engine.Engine:PRAGMA main.table_info(\"roles\")\n"
          ]
        },
        {
          "output_type": "stream",
          "name": "stdout",
          "text": [
            "2024-03-21 18:53:28,981 INFO sqlalchemy.engine.Engine [raw sql] ()\n"
          ]
        },
        {
          "output_type": "stream",
          "name": "stderr",
          "text": [
            "INFO:sqlalchemy.engine.Engine:[raw sql] ()\n"
          ]
        },
        {
          "output_type": "stream",
          "name": "stdout",
          "text": [
            "2024-03-21 18:53:28,983 INFO sqlalchemy.engine.Engine PRAGMA temp.table_info(\"roles\")\n"
          ]
        },
        {
          "output_type": "stream",
          "name": "stderr",
          "text": [
            "INFO:sqlalchemy.engine.Engine:PRAGMA temp.table_info(\"roles\")\n"
          ]
        },
        {
          "output_type": "stream",
          "name": "stdout",
          "text": [
            "2024-03-21 18:53:28,985 INFO sqlalchemy.engine.Engine [raw sql] ()\n"
          ]
        },
        {
          "output_type": "stream",
          "name": "stderr",
          "text": [
            "INFO:sqlalchemy.engine.Engine:[raw sql] ()\n"
          ]
        },
        {
          "output_type": "stream",
          "name": "stdout",
          "text": [
            "2024-03-21 18:53:28,989 INFO sqlalchemy.engine.Engine PRAGMA main.table_info(\"roletypes\")\n"
          ]
        },
        {
          "output_type": "stream",
          "name": "stderr",
          "text": [
            "INFO:sqlalchemy.engine.Engine:PRAGMA main.table_info(\"roletypes\")\n"
          ]
        },
        {
          "output_type": "stream",
          "name": "stdout",
          "text": [
            "2024-03-21 18:53:28,992 INFO sqlalchemy.engine.Engine [raw sql] ()\n"
          ]
        },
        {
          "output_type": "stream",
          "name": "stderr",
          "text": [
            "INFO:sqlalchemy.engine.Engine:[raw sql] ()\n"
          ]
        },
        {
          "output_type": "stream",
          "name": "stdout",
          "text": [
            "2024-03-21 18:53:28,995 INFO sqlalchemy.engine.Engine PRAGMA temp.table_info(\"roletypes\")\n"
          ]
        },
        {
          "output_type": "stream",
          "name": "stderr",
          "text": [
            "INFO:sqlalchemy.engine.Engine:PRAGMA temp.table_info(\"roletypes\")\n"
          ]
        },
        {
          "output_type": "stream",
          "name": "stdout",
          "text": [
            "2024-03-21 18:53:28,997 INFO sqlalchemy.engine.Engine [raw sql] ()\n"
          ]
        },
        {
          "output_type": "stream",
          "name": "stderr",
          "text": [
            "INFO:sqlalchemy.engine.Engine:[raw sql] ()\n"
          ]
        },
        {
          "output_type": "stream",
          "name": "stdout",
          "text": [
            "2024-03-21 18:53:29,002 INFO sqlalchemy.engine.Engine \n",
            "CREATE TABLE users (\n",
            "\tid CHAR(32) NOT NULL, \n",
            "\tname VARCHAR, \n",
            "\tsurname VARCHAR, \n",
            "\temail VARCHAR, \n",
            "\tstartdate DATETIME, \n",
            "\tenddate DATETIME, \n",
            "\tvalid BOOLEAN, \n",
            "\tcreated DATETIME DEFAULT (CURRENT_TIMESTAMP), \n",
            "\tlastchange DATETIME DEFAULT (CURRENT_TIMESTAMP), \n",
            "\tcreatedby CHAR(32), \n",
            "\tchangedby CHAR(32), \n",
            "\trbacobject CHAR(32), \n",
            "\tPRIMARY KEY (id)\n",
            ")\n",
            "\n",
            "\n"
          ]
        },
        {
          "output_type": "stream",
          "name": "stderr",
          "text": [
            "INFO:sqlalchemy.engine.Engine:\n",
            "CREATE TABLE users (\n",
            "\tid CHAR(32) NOT NULL, \n",
            "\tname VARCHAR, \n",
            "\tsurname VARCHAR, \n",
            "\temail VARCHAR, \n",
            "\tstartdate DATETIME, \n",
            "\tenddate DATETIME, \n",
            "\tvalid BOOLEAN, \n",
            "\tcreated DATETIME DEFAULT (CURRENT_TIMESTAMP), \n",
            "\tlastchange DATETIME DEFAULT (CURRENT_TIMESTAMP), \n",
            "\tcreatedby CHAR(32), \n",
            "\tchangedby CHAR(32), \n",
            "\trbacobject CHAR(32), \n",
            "\tPRIMARY KEY (id)\n",
            ")\n",
            "\n",
            "\n"
          ]
        },
        {
          "output_type": "stream",
          "name": "stdout",
          "text": [
            "2024-03-21 18:53:29,004 INFO sqlalchemy.engine.Engine [no key 0.00259s] ()\n"
          ]
        },
        {
          "output_type": "stream",
          "name": "stderr",
          "text": [
            "INFO:sqlalchemy.engine.Engine:[no key 0.00259s] ()\n"
          ]
        },
        {
          "output_type": "stream",
          "name": "stdout",
          "text": [
            "2024-03-21 18:53:29,008 INFO sqlalchemy.engine.Engine CREATE INDEX ix_users_rbacobject ON users (rbacobject)\n"
          ]
        },
        {
          "output_type": "stream",
          "name": "stderr",
          "text": [
            "INFO:sqlalchemy.engine.Engine:CREATE INDEX ix_users_rbacobject ON users (rbacobject)\n"
          ]
        },
        {
          "output_type": "stream",
          "name": "stdout",
          "text": [
            "2024-03-21 18:53:29,010 INFO sqlalchemy.engine.Engine [no key 0.00222s] ()\n"
          ]
        },
        {
          "output_type": "stream",
          "name": "stderr",
          "text": [
            "INFO:sqlalchemy.engine.Engine:[no key 0.00222s] ()\n"
          ]
        },
        {
          "output_type": "stream",
          "name": "stdout",
          "text": [
            "2024-03-21 18:53:29,015 INFO sqlalchemy.engine.Engine CREATE INDEX ix_users_changedby ON users (changedby)\n"
          ]
        },
        {
          "output_type": "stream",
          "name": "stderr",
          "text": [
            "INFO:sqlalchemy.engine.Engine:CREATE INDEX ix_users_changedby ON users (changedby)\n"
          ]
        },
        {
          "output_type": "stream",
          "name": "stdout",
          "text": [
            "2024-03-21 18:53:29,018 INFO sqlalchemy.engine.Engine [no key 0.00264s] ()\n"
          ]
        },
        {
          "output_type": "stream",
          "name": "stderr",
          "text": [
            "INFO:sqlalchemy.engine.Engine:[no key 0.00264s] ()\n"
          ]
        },
        {
          "output_type": "stream",
          "name": "stdout",
          "text": [
            "2024-03-21 18:53:29,021 INFO sqlalchemy.engine.Engine CREATE INDEX ix_users_createdby ON users (createdby)\n"
          ]
        },
        {
          "output_type": "stream",
          "name": "stderr",
          "text": [
            "INFO:sqlalchemy.engine.Engine:CREATE INDEX ix_users_createdby ON users (createdby)\n"
          ]
        },
        {
          "output_type": "stream",
          "name": "stdout",
          "text": [
            "2024-03-21 18:53:29,023 INFO sqlalchemy.engine.Engine [no key 0.00215s] ()\n"
          ]
        },
        {
          "output_type": "stream",
          "name": "stderr",
          "text": [
            "INFO:sqlalchemy.engine.Engine:[no key 0.00215s] ()\n"
          ]
        },
        {
          "output_type": "stream",
          "name": "stdout",
          "text": [
            "2024-03-21 18:53:29,027 INFO sqlalchemy.engine.Engine \n",
            "CREATE TABLE groups (\n",
            "\tid CHAR(32) NOT NULL, \n",
            "\tname VARCHAR, \n",
            "\tname_en VARCHAR, \n",
            "\temail VARCHAR, \n",
            "\tstartdate DATETIME, \n",
            "\tenddate DATETIME, \n",
            "\tvalid BOOLEAN, \n",
            "\tmastergroup_id CHAR(32), \n",
            "\tcreated DATETIME DEFAULT (CURRENT_TIMESTAMP), \n",
            "\tlastchange DATETIME DEFAULT (CURRENT_TIMESTAMP), \n",
            "\tcreatedby CHAR(32), \n",
            "\tchangedby CHAR(32), \n",
            "\trbacobject CHAR(32), \n",
            "\tPRIMARY KEY (id), \n",
            "\tFOREIGN KEY(mastergroup_id) REFERENCES groups (id)\n",
            ")\n",
            "\n",
            "\n"
          ]
        },
        {
          "output_type": "stream",
          "name": "stderr",
          "text": [
            "INFO:sqlalchemy.engine.Engine:\n",
            "CREATE TABLE groups (\n",
            "\tid CHAR(32) NOT NULL, \n",
            "\tname VARCHAR, \n",
            "\tname_en VARCHAR, \n",
            "\temail VARCHAR, \n",
            "\tstartdate DATETIME, \n",
            "\tenddate DATETIME, \n",
            "\tvalid BOOLEAN, \n",
            "\tmastergroup_id CHAR(32), \n",
            "\tcreated DATETIME DEFAULT (CURRENT_TIMESTAMP), \n",
            "\tlastchange DATETIME DEFAULT (CURRENT_TIMESTAMP), \n",
            "\tcreatedby CHAR(32), \n",
            "\tchangedby CHAR(32), \n",
            "\trbacobject CHAR(32), \n",
            "\tPRIMARY KEY (id), \n",
            "\tFOREIGN KEY(mastergroup_id) REFERENCES groups (id)\n",
            ")\n",
            "\n",
            "\n"
          ]
        },
        {
          "output_type": "stream",
          "name": "stdout",
          "text": [
            "2024-03-21 18:53:29,029 INFO sqlalchemy.engine.Engine [no key 0.00213s] ()\n"
          ]
        },
        {
          "output_type": "stream",
          "name": "stderr",
          "text": [
            "INFO:sqlalchemy.engine.Engine:[no key 0.00213s] ()\n"
          ]
        },
        {
          "output_type": "stream",
          "name": "stdout",
          "text": [
            "2024-03-21 18:53:29,033 INFO sqlalchemy.engine.Engine CREATE INDEX ix_groups_mastergroup_id ON groups (mastergroup_id)\n"
          ]
        },
        {
          "output_type": "stream",
          "name": "stderr",
          "text": [
            "INFO:sqlalchemy.engine.Engine:CREATE INDEX ix_groups_mastergroup_id ON groups (mastergroup_id)\n"
          ]
        },
        {
          "output_type": "stream",
          "name": "stdout",
          "text": [
            "2024-03-21 18:53:29,035 INFO sqlalchemy.engine.Engine [no key 0.00223s] ()\n"
          ]
        },
        {
          "output_type": "stream",
          "name": "stderr",
          "text": [
            "INFO:sqlalchemy.engine.Engine:[no key 0.00223s] ()\n"
          ]
        },
        {
          "output_type": "stream",
          "name": "stdout",
          "text": [
            "2024-03-21 18:53:29,038 INFO sqlalchemy.engine.Engine CREATE INDEX ix_groups_changedby ON groups (changedby)\n"
          ]
        },
        {
          "output_type": "stream",
          "name": "stderr",
          "text": [
            "INFO:sqlalchemy.engine.Engine:CREATE INDEX ix_groups_changedby ON groups (changedby)\n"
          ]
        },
        {
          "output_type": "stream",
          "name": "stdout",
          "text": [
            "2024-03-21 18:53:29,041 INFO sqlalchemy.engine.Engine [no key 0.00246s] ()\n"
          ]
        },
        {
          "output_type": "stream",
          "name": "stderr",
          "text": [
            "INFO:sqlalchemy.engine.Engine:[no key 0.00246s] ()\n"
          ]
        },
        {
          "output_type": "stream",
          "name": "stdout",
          "text": [
            "2024-03-21 18:53:29,044 INFO sqlalchemy.engine.Engine CREATE INDEX ix_groups_rbacobject ON groups (rbacobject)\n"
          ]
        },
        {
          "output_type": "stream",
          "name": "stderr",
          "text": [
            "INFO:sqlalchemy.engine.Engine:CREATE INDEX ix_groups_rbacobject ON groups (rbacobject)\n"
          ]
        },
        {
          "output_type": "stream",
          "name": "stdout",
          "text": [
            "2024-03-21 18:53:29,047 INFO sqlalchemy.engine.Engine [no key 0.00241s] ()\n"
          ]
        },
        {
          "output_type": "stream",
          "name": "stderr",
          "text": [
            "INFO:sqlalchemy.engine.Engine:[no key 0.00241s] ()\n"
          ]
        },
        {
          "output_type": "stream",
          "name": "stdout",
          "text": [
            "2024-03-21 18:53:29,053 INFO sqlalchemy.engine.Engine CREATE INDEX ix_groups_createdby ON groups (createdby)\n"
          ]
        },
        {
          "output_type": "stream",
          "name": "stderr",
          "text": [
            "INFO:sqlalchemy.engine.Engine:CREATE INDEX ix_groups_createdby ON groups (createdby)\n"
          ]
        },
        {
          "output_type": "stream",
          "name": "stdout",
          "text": [
            "2024-03-21 18:53:29,056 INFO sqlalchemy.engine.Engine [no key 0.00268s] ()\n"
          ]
        },
        {
          "output_type": "stream",
          "name": "stderr",
          "text": [
            "INFO:sqlalchemy.engine.Engine:[no key 0.00268s] ()\n"
          ]
        },
        {
          "output_type": "stream",
          "name": "stdout",
          "text": [
            "2024-03-21 18:53:29,063 INFO sqlalchemy.engine.Engine \n",
            "CREATE TABLE roletypes (\n",
            "\tid CHAR(32) NOT NULL, \n",
            "\tname VARCHAR, \n",
            "\tname_en VARCHAR, \n",
            "\tcreated DATETIME DEFAULT (CURRENT_TIMESTAMP), \n",
            "\tlastchange DATETIME DEFAULT (CURRENT_TIMESTAMP), \n",
            "\tcreatedby CHAR(32), \n",
            "\tchangedby CHAR(32), \n",
            "\trbacobject CHAR(32), \n",
            "\tPRIMARY KEY (id)\n",
            ")\n",
            "\n",
            "\n"
          ]
        },
        {
          "output_type": "stream",
          "name": "stderr",
          "text": [
            "INFO:sqlalchemy.engine.Engine:\n",
            "CREATE TABLE roletypes (\n",
            "\tid CHAR(32) NOT NULL, \n",
            "\tname VARCHAR, \n",
            "\tname_en VARCHAR, \n",
            "\tcreated DATETIME DEFAULT (CURRENT_TIMESTAMP), \n",
            "\tlastchange DATETIME DEFAULT (CURRENT_TIMESTAMP), \n",
            "\tcreatedby CHAR(32), \n",
            "\tchangedby CHAR(32), \n",
            "\trbacobject CHAR(32), \n",
            "\tPRIMARY KEY (id)\n",
            ")\n",
            "\n",
            "\n"
          ]
        },
        {
          "output_type": "stream",
          "name": "stdout",
          "text": [
            "2024-03-21 18:53:29,066 INFO sqlalchemy.engine.Engine [no key 0.00268s] ()\n"
          ]
        },
        {
          "output_type": "stream",
          "name": "stderr",
          "text": [
            "INFO:sqlalchemy.engine.Engine:[no key 0.00268s] ()\n"
          ]
        },
        {
          "output_type": "stream",
          "name": "stdout",
          "text": [
            "2024-03-21 18:53:29,069 INFO sqlalchemy.engine.Engine CREATE INDEX ix_roletypes_createdby ON roletypes (createdby)\n"
          ]
        },
        {
          "output_type": "stream",
          "name": "stderr",
          "text": [
            "INFO:sqlalchemy.engine.Engine:CREATE INDEX ix_roletypes_createdby ON roletypes (createdby)\n"
          ]
        },
        {
          "output_type": "stream",
          "name": "stdout",
          "text": [
            "2024-03-21 18:53:29,071 INFO sqlalchemy.engine.Engine [no key 0.00216s] ()\n"
          ]
        },
        {
          "output_type": "stream",
          "name": "stderr",
          "text": [
            "INFO:sqlalchemy.engine.Engine:[no key 0.00216s] ()\n"
          ]
        },
        {
          "output_type": "stream",
          "name": "stdout",
          "text": [
            "2024-03-21 18:53:29,079 INFO sqlalchemy.engine.Engine CREATE INDEX ix_roletypes_rbacobject ON roletypes (rbacobject)\n"
          ]
        },
        {
          "output_type": "stream",
          "name": "stderr",
          "text": [
            "INFO:sqlalchemy.engine.Engine:CREATE INDEX ix_roletypes_rbacobject ON roletypes (rbacobject)\n"
          ]
        },
        {
          "output_type": "stream",
          "name": "stdout",
          "text": [
            "2024-03-21 18:53:29,081 INFO sqlalchemy.engine.Engine [no key 0.00277s] ()\n"
          ]
        },
        {
          "output_type": "stream",
          "name": "stderr",
          "text": [
            "INFO:sqlalchemy.engine.Engine:[no key 0.00277s] ()\n"
          ]
        },
        {
          "output_type": "stream",
          "name": "stdout",
          "text": [
            "2024-03-21 18:53:29,085 INFO sqlalchemy.engine.Engine CREATE INDEX ix_roletypes_changedby ON roletypes (changedby)\n"
          ]
        },
        {
          "output_type": "stream",
          "name": "stderr",
          "text": [
            "INFO:sqlalchemy.engine.Engine:CREATE INDEX ix_roletypes_changedby ON roletypes (changedby)\n"
          ]
        },
        {
          "output_type": "stream",
          "name": "stdout",
          "text": [
            "2024-03-21 18:53:29,089 INFO sqlalchemy.engine.Engine [no key 0.00353s] ()\n"
          ]
        },
        {
          "output_type": "stream",
          "name": "stderr",
          "text": [
            "INFO:sqlalchemy.engine.Engine:[no key 0.00353s] ()\n"
          ]
        },
        {
          "output_type": "stream",
          "name": "stdout",
          "text": [
            "2024-03-21 18:53:29,097 INFO sqlalchemy.engine.Engine \n",
            "CREATE TABLE memberships (\n",
            "\tid CHAR(32) NOT NULL, \n",
            "\tuser_id CHAR(32), \n",
            "\tgroup_id CHAR(32), \n",
            "\tstartdate DATETIME, \n",
            "\tenddate DATETIME, \n",
            "\tvalid BOOLEAN, \n",
            "\tcreated DATETIME DEFAULT (CURRENT_TIMESTAMP), \n",
            "\tlastchange DATETIME DEFAULT (CURRENT_TIMESTAMP), \n",
            "\tcreatedby CHAR(32), \n",
            "\tchangedby CHAR(32), \n",
            "\trbacobject CHAR(32), \n",
            "\tPRIMARY KEY (id), \n",
            "\tFOREIGN KEY(user_id) REFERENCES users (id), \n",
            "\tFOREIGN KEY(group_id) REFERENCES groups (id)\n",
            ")\n",
            "\n",
            "\n"
          ]
        },
        {
          "output_type": "stream",
          "name": "stderr",
          "text": [
            "INFO:sqlalchemy.engine.Engine:\n",
            "CREATE TABLE memberships (\n",
            "\tid CHAR(32) NOT NULL, \n",
            "\tuser_id CHAR(32), \n",
            "\tgroup_id CHAR(32), \n",
            "\tstartdate DATETIME, \n",
            "\tenddate DATETIME, \n",
            "\tvalid BOOLEAN, \n",
            "\tcreated DATETIME DEFAULT (CURRENT_TIMESTAMP), \n",
            "\tlastchange DATETIME DEFAULT (CURRENT_TIMESTAMP), \n",
            "\tcreatedby CHAR(32), \n",
            "\tchangedby CHAR(32), \n",
            "\trbacobject CHAR(32), \n",
            "\tPRIMARY KEY (id), \n",
            "\tFOREIGN KEY(user_id) REFERENCES users (id), \n",
            "\tFOREIGN KEY(group_id) REFERENCES groups (id)\n",
            ")\n",
            "\n",
            "\n"
          ]
        },
        {
          "output_type": "stream",
          "name": "stdout",
          "text": [
            "2024-03-21 18:53:29,099 INFO sqlalchemy.engine.Engine [no key 0.00235s] ()\n"
          ]
        },
        {
          "output_type": "stream",
          "name": "stderr",
          "text": [
            "INFO:sqlalchemy.engine.Engine:[no key 0.00235s] ()\n"
          ]
        },
        {
          "output_type": "stream",
          "name": "stdout",
          "text": [
            "2024-03-21 18:53:29,103 INFO sqlalchemy.engine.Engine CREATE INDEX ix_memberships_rbacobject ON memberships (rbacobject)\n"
          ]
        },
        {
          "output_type": "stream",
          "name": "stderr",
          "text": [
            "INFO:sqlalchemy.engine.Engine:CREATE INDEX ix_memberships_rbacobject ON memberships (rbacobject)\n"
          ]
        },
        {
          "output_type": "stream",
          "name": "stdout",
          "text": [
            "2024-03-21 18:53:29,108 INFO sqlalchemy.engine.Engine [no key 0.00488s] ()\n"
          ]
        },
        {
          "output_type": "stream",
          "name": "stderr",
          "text": [
            "INFO:sqlalchemy.engine.Engine:[no key 0.00488s] ()\n"
          ]
        },
        {
          "output_type": "stream",
          "name": "stdout",
          "text": [
            "2024-03-21 18:53:29,112 INFO sqlalchemy.engine.Engine CREATE INDEX ix_memberships_changedby ON memberships (changedby)\n"
          ]
        },
        {
          "output_type": "stream",
          "name": "stderr",
          "text": [
            "INFO:sqlalchemy.engine.Engine:CREATE INDEX ix_memberships_changedby ON memberships (changedby)\n"
          ]
        },
        {
          "output_type": "stream",
          "name": "stdout",
          "text": [
            "2024-03-21 18:53:29,114 INFO sqlalchemy.engine.Engine [no key 0.00251s] ()\n"
          ]
        },
        {
          "output_type": "stream",
          "name": "stderr",
          "text": [
            "INFO:sqlalchemy.engine.Engine:[no key 0.00251s] ()\n"
          ]
        },
        {
          "output_type": "stream",
          "name": "stdout",
          "text": [
            "2024-03-21 18:53:29,118 INFO sqlalchemy.engine.Engine CREATE INDEX ix_memberships_createdby ON memberships (createdby)\n"
          ]
        },
        {
          "output_type": "stream",
          "name": "stderr",
          "text": [
            "INFO:sqlalchemy.engine.Engine:CREATE INDEX ix_memberships_createdby ON memberships (createdby)\n"
          ]
        },
        {
          "output_type": "stream",
          "name": "stdout",
          "text": [
            "2024-03-21 18:53:29,120 INFO sqlalchemy.engine.Engine [no key 0.00212s] ()\n"
          ]
        },
        {
          "output_type": "stream",
          "name": "stderr",
          "text": [
            "INFO:sqlalchemy.engine.Engine:[no key 0.00212s] ()\n"
          ]
        },
        {
          "output_type": "stream",
          "name": "stdout",
          "text": [
            "2024-03-21 18:53:29,123 INFO sqlalchemy.engine.Engine CREATE INDEX ix_memberships_user_id ON memberships (user_id)\n"
          ]
        },
        {
          "output_type": "stream",
          "name": "stderr",
          "text": [
            "INFO:sqlalchemy.engine.Engine:CREATE INDEX ix_memberships_user_id ON memberships (user_id)\n"
          ]
        },
        {
          "output_type": "stream",
          "name": "stdout",
          "text": [
            "2024-03-21 18:53:29,125 INFO sqlalchemy.engine.Engine [no key 0.00195s] ()\n"
          ]
        },
        {
          "output_type": "stream",
          "name": "stderr",
          "text": [
            "INFO:sqlalchemy.engine.Engine:[no key 0.00195s] ()\n"
          ]
        },
        {
          "output_type": "stream",
          "name": "stdout",
          "text": [
            "2024-03-21 18:53:29,128 INFO sqlalchemy.engine.Engine CREATE INDEX ix_memberships_group_id ON memberships (group_id)\n"
          ]
        },
        {
          "output_type": "stream",
          "name": "stderr",
          "text": [
            "INFO:sqlalchemy.engine.Engine:CREATE INDEX ix_memberships_group_id ON memberships (group_id)\n"
          ]
        },
        {
          "output_type": "stream",
          "name": "stdout",
          "text": [
            "2024-03-21 18:53:29,133 INFO sqlalchemy.engine.Engine [no key 0.00512s] ()\n"
          ]
        },
        {
          "output_type": "stream",
          "name": "stderr",
          "text": [
            "INFO:sqlalchemy.engine.Engine:[no key 0.00512s] ()\n"
          ]
        },
        {
          "output_type": "stream",
          "name": "stdout",
          "text": [
            "2024-03-21 18:53:29,137 INFO sqlalchemy.engine.Engine \n",
            "CREATE TABLE roles (\n",
            "\tid CHAR(32) NOT NULL, \n",
            "\tuser_id CHAR(32), \n",
            "\tgroup_id CHAR(32), \n",
            "\troletype_id CHAR(32), \n",
            "\tstartdate DATETIME, \n",
            "\tenddate DATETIME, \n",
            "\tvalid BOOLEAN, \n",
            "\tcreated DATETIME DEFAULT (CURRENT_TIMESTAMP), \n",
            "\tlastchange DATETIME DEFAULT (CURRENT_TIMESTAMP), \n",
            "\tcreatedby CHAR(32), \n",
            "\tchangedby CHAR(32), \n",
            "\trbacobject CHAR(32), \n",
            "\tPRIMARY KEY (id), \n",
            "\tFOREIGN KEY(user_id) REFERENCES users (id), \n",
            "\tFOREIGN KEY(group_id) REFERENCES groups (id), \n",
            "\tFOREIGN KEY(roletype_id) REFERENCES roletypes (id)\n",
            ")\n",
            "\n",
            "\n"
          ]
        },
        {
          "output_type": "stream",
          "name": "stderr",
          "text": [
            "INFO:sqlalchemy.engine.Engine:\n",
            "CREATE TABLE roles (\n",
            "\tid CHAR(32) NOT NULL, \n",
            "\tuser_id CHAR(32), \n",
            "\tgroup_id CHAR(32), \n",
            "\troletype_id CHAR(32), \n",
            "\tstartdate DATETIME, \n",
            "\tenddate DATETIME, \n",
            "\tvalid BOOLEAN, \n",
            "\tcreated DATETIME DEFAULT (CURRENT_TIMESTAMP), \n",
            "\tlastchange DATETIME DEFAULT (CURRENT_TIMESTAMP), \n",
            "\tcreatedby CHAR(32), \n",
            "\tchangedby CHAR(32), \n",
            "\trbacobject CHAR(32), \n",
            "\tPRIMARY KEY (id), \n",
            "\tFOREIGN KEY(user_id) REFERENCES users (id), \n",
            "\tFOREIGN KEY(group_id) REFERENCES groups (id), \n",
            "\tFOREIGN KEY(roletype_id) REFERENCES roletypes (id)\n",
            ")\n",
            "\n",
            "\n"
          ]
        },
        {
          "output_type": "stream",
          "name": "stdout",
          "text": [
            "2024-03-21 18:53:29,139 INFO sqlalchemy.engine.Engine [no key 0.00223s] ()\n"
          ]
        },
        {
          "output_type": "stream",
          "name": "stderr",
          "text": [
            "INFO:sqlalchemy.engine.Engine:[no key 0.00223s] ()\n"
          ]
        },
        {
          "output_type": "stream",
          "name": "stdout",
          "text": [
            "2024-03-21 18:53:29,142 INFO sqlalchemy.engine.Engine CREATE INDEX ix_roles_rbacobject ON roles (rbacobject)\n"
          ]
        },
        {
          "output_type": "stream",
          "name": "stderr",
          "text": [
            "INFO:sqlalchemy.engine.Engine:CREATE INDEX ix_roles_rbacobject ON roles (rbacobject)\n"
          ]
        },
        {
          "output_type": "stream",
          "name": "stdout",
          "text": [
            "2024-03-21 18:53:29,144 INFO sqlalchemy.engine.Engine [no key 0.00209s] ()\n"
          ]
        },
        {
          "output_type": "stream",
          "name": "stderr",
          "text": [
            "INFO:sqlalchemy.engine.Engine:[no key 0.00209s] ()\n"
          ]
        },
        {
          "output_type": "stream",
          "name": "stdout",
          "text": [
            "2024-03-21 18:53:29,148 INFO sqlalchemy.engine.Engine CREATE INDEX ix_roles_group_id ON roles (group_id)\n"
          ]
        },
        {
          "output_type": "stream",
          "name": "stderr",
          "text": [
            "INFO:sqlalchemy.engine.Engine:CREATE INDEX ix_roles_group_id ON roles (group_id)\n"
          ]
        },
        {
          "output_type": "stream",
          "name": "stdout",
          "text": [
            "2024-03-21 18:53:29,150 INFO sqlalchemy.engine.Engine [no key 0.00213s] ()\n"
          ]
        },
        {
          "output_type": "stream",
          "name": "stderr",
          "text": [
            "INFO:sqlalchemy.engine.Engine:[no key 0.00213s] ()\n"
          ]
        },
        {
          "output_type": "stream",
          "name": "stdout",
          "text": [
            "2024-03-21 18:53:29,153 INFO sqlalchemy.engine.Engine CREATE INDEX ix_roles_changedby ON roles (changedby)\n"
          ]
        },
        {
          "output_type": "stream",
          "name": "stderr",
          "text": [
            "INFO:sqlalchemy.engine.Engine:CREATE INDEX ix_roles_changedby ON roles (changedby)\n"
          ]
        },
        {
          "output_type": "stream",
          "name": "stdout",
          "text": [
            "2024-03-21 18:53:29,155 INFO sqlalchemy.engine.Engine [no key 0.00238s] ()\n"
          ]
        },
        {
          "output_type": "stream",
          "name": "stderr",
          "text": [
            "INFO:sqlalchemy.engine.Engine:[no key 0.00238s] ()\n"
          ]
        },
        {
          "output_type": "stream",
          "name": "stdout",
          "text": [
            "2024-03-21 18:53:29,159 INFO sqlalchemy.engine.Engine CREATE INDEX ix_roles_user_id ON roles (user_id)\n"
          ]
        },
        {
          "output_type": "stream",
          "name": "stderr",
          "text": [
            "INFO:sqlalchemy.engine.Engine:CREATE INDEX ix_roles_user_id ON roles (user_id)\n"
          ]
        },
        {
          "output_type": "stream",
          "name": "stdout",
          "text": [
            "2024-03-21 18:53:29,161 INFO sqlalchemy.engine.Engine [no key 0.00212s] ()\n"
          ]
        },
        {
          "output_type": "stream",
          "name": "stderr",
          "text": [
            "INFO:sqlalchemy.engine.Engine:[no key 0.00212s] ()\n"
          ]
        },
        {
          "output_type": "stream",
          "name": "stdout",
          "text": [
            "2024-03-21 18:53:29,165 INFO sqlalchemy.engine.Engine CREATE INDEX ix_roles_roletype_id ON roles (roletype_id)\n"
          ]
        },
        {
          "output_type": "stream",
          "name": "stderr",
          "text": [
            "INFO:sqlalchemy.engine.Engine:CREATE INDEX ix_roles_roletype_id ON roles (roletype_id)\n"
          ]
        },
        {
          "output_type": "stream",
          "name": "stdout",
          "text": [
            "2024-03-21 18:53:29,167 INFO sqlalchemy.engine.Engine [no key 0.00224s] ()\n"
          ]
        },
        {
          "output_type": "stream",
          "name": "stderr",
          "text": [
            "INFO:sqlalchemy.engine.Engine:[no key 0.00224s] ()\n"
          ]
        },
        {
          "output_type": "stream",
          "name": "stdout",
          "text": [
            "2024-03-21 18:53:29,171 INFO sqlalchemy.engine.Engine CREATE INDEX ix_roles_createdby ON roles (createdby)\n"
          ]
        },
        {
          "output_type": "stream",
          "name": "stderr",
          "text": [
            "INFO:sqlalchemy.engine.Engine:CREATE INDEX ix_roles_createdby ON roles (createdby)\n"
          ]
        },
        {
          "output_type": "stream",
          "name": "stdout",
          "text": [
            "2024-03-21 18:53:29,173 INFO sqlalchemy.engine.Engine [no key 0.00218s] ()\n"
          ]
        },
        {
          "output_type": "stream",
          "name": "stderr",
          "text": [
            "INFO:sqlalchemy.engine.Engine:[no key 0.00218s] ()\n"
          ]
        },
        {
          "output_type": "stream",
          "name": "stdout",
          "text": [
            "BaseModel.metadata.create_all finished\n",
            "2024-03-21 18:53:29,176 INFO sqlalchemy.engine.Engine COMMIT\n"
          ]
        },
        {
          "output_type": "stream",
          "name": "stderr",
          "text": [
            "INFO:sqlalchemy.engine.Engine:COMMIT\n"
          ]
        }
      ]
    },
    {
      "cell_type": "code",
      "source": [
        "async def AddUser(**attrs):\n",
        "    async with async_session_maker.begin() as session:\n",
        "        u = UserModel(**attrs)\n",
        "        session.add(u)\n",
        "        await session.commit()\n",
        "        return u\n",
        "\n",
        "u = await AddUser(name=\"John\", surname=\"Newbie\", id=UUID(\"8b22e698f41548ab954a4554568839c5\"))\n",
        "print(u)"
      ],
      "metadata": {
        "id": "StNno3-nVC3T",
        "outputId": "ba80078b-ebcd-4a3e-e6e5-6dbc9fa67485",
        "colab": {
          "base_uri": "https://localhost:8080/"
        }
      },
      "execution_count": 45,
      "outputs": [
        {
          "output_type": "stream",
          "name": "stdout",
          "text": [
            "2024-03-21 19:02:10,323 INFO sqlalchemy.engine.Engine BEGIN (implicit)\n"
          ]
        },
        {
          "output_type": "stream",
          "name": "stderr",
          "text": [
            "INFO:sqlalchemy.engine.Engine:BEGIN (implicit)\n"
          ]
        },
        {
          "output_type": "stream",
          "name": "stdout",
          "text": [
            "2024-03-21 19:02:10,336 INFO sqlalchemy.engine.Engine INSERT INTO users (id, name, surname, email, startdate, enddate, valid, createdby, changedby, rbacobject) VALUES (?, ?, ?, ?, ?, ?, ?, ?, ?, ?) RETURNING created, lastchange\n"
          ]
        },
        {
          "output_type": "stream",
          "name": "stderr",
          "text": [
            "INFO:sqlalchemy.engine.Engine:INSERT INTO users (id, name, surname, email, startdate, enddate, valid, createdby, changedby, rbacobject) VALUES (?, ?, ?, ?, ?, ?, ?, ?, ?, ?) RETURNING created, lastchange\n"
          ]
        },
        {
          "output_type": "stream",
          "name": "stdout",
          "text": [
            "2024-03-21 19:02:10,340 INFO sqlalchemy.engine.Engine [generated in 0.00489s] ('8b22e698f41548ab954a4554568839c5', 'John', 'Newbie', None, None, None, 1, None, None, None)\n"
          ]
        },
        {
          "output_type": "stream",
          "name": "stderr",
          "text": [
            "INFO:sqlalchemy.engine.Engine:[generated in 0.00489s] ('8b22e698f41548ab954a4554568839c5', 'John', 'Newbie', None, None, None, 1, None, None, None)\n"
          ]
        },
        {
          "output_type": "stream",
          "name": "stdout",
          "text": [
            "2024-03-21 19:02:10,350 INFO sqlalchemy.engine.Engine COMMIT\n"
          ]
        },
        {
          "output_type": "stream",
          "name": "stderr",
          "text": [
            "INFO:sqlalchemy.engine.Engine:COMMIT\n"
          ]
        }
      ]
    },
    {
      "cell_type": "code",
      "source": [
        "from sqlalchemy import select\n",
        "async def GetUser(id):\n",
        "    stmt = select(UserModel).filter_by(id=id)\n",
        "    async with async_session_maker.begin() as session:\n",
        "        results = await session.execute(stmt)\n",
        "        return results.scalar()\n",
        "\n",
        "u = await GetUser(id=UUID(\"8b22e698f41548ab954a4554568839c5\"))\n",
        "print(u)"
      ],
      "metadata": {
        "id": "4eSAiwa6Vna3",
        "outputId": "883086ae-be95-4e5e-de36-085295464d7e",
        "colab": {
          "base_uri": "https://localhost:8080/"
        }
      },
      "execution_count": 46,
      "outputs": [
        {
          "output_type": "stream",
          "name": "stdout",
          "text": [
            "2024-03-21 19:02:35,400 INFO sqlalchemy.engine.Engine BEGIN (implicit)\n"
          ]
        },
        {
          "output_type": "stream",
          "name": "stderr",
          "text": [
            "INFO:sqlalchemy.engine.Engine:BEGIN (implicit)\n"
          ]
        },
        {
          "output_type": "stream",
          "name": "stdout",
          "text": [
            "2024-03-21 19:02:35,407 INFO sqlalchemy.engine.Engine SELECT users.id, users.name, users.surname, users.email, users.startdate, users.enddate, users.valid, users.created, users.lastchange, users.createdby, users.changedby, users.rbacobject \n",
            "FROM users \n",
            "WHERE users.id = ?\n"
          ]
        },
        {
          "output_type": "stream",
          "name": "stderr",
          "text": [
            "INFO:sqlalchemy.engine.Engine:SELECT users.id, users.name, users.surname, users.email, users.startdate, users.enddate, users.valid, users.created, users.lastchange, users.createdby, users.changedby, users.rbacobject \n",
            "FROM users \n",
            "WHERE users.id = ?\n"
          ]
        },
        {
          "output_type": "stream",
          "name": "stdout",
          "text": [
            "2024-03-21 19:02:35,414 INFO sqlalchemy.engine.Engine [cached since 226s ago] ('8b22e698f41548ab954a4554568839c5',)\n"
          ]
        },
        {
          "output_type": "stream",
          "name": "stderr",
          "text": [
            "INFO:sqlalchemy.engine.Engine:[cached since 226s ago] ('8b22e698f41548ab954a4554568839c5',)\n"
          ]
        },
        {
          "output_type": "stream",
          "name": "stdout",
          "text": [
            "2024-03-21 19:02:35,419 INFO sqlalchemy.engine.Engine COMMIT\n"
          ]
        },
        {
          "output_type": "stream",
          "name": "stderr",
          "text": [
            "INFO:sqlalchemy.engine.Engine:COMMIT\n"
          ]
        },
        {
          "output_type": "stream",
          "name": "stdout",
          "text": [
            "<__main__.UserModel object at 0x7bf1a2c07130>\n"
          ]
        }
      ]
    },
    {
      "cell_type": "code",
      "source": [
        "from sqlalchemy import delete\n",
        "async def DeleteUser(id):\n",
        "    stmt = delete(UserModel).filter_by(id=id)\n",
        "    async with async_session_maker.begin() as session:\n",
        "        results = await session.execute(stmt)\n",
        "        return results\n",
        "\n",
        "r = await DeleteUser(id=UUID(\"8b22e698f41548ab954a4554568839c5\"))\n",
        "print(r)"
      ],
      "metadata": {
        "id": "iOASjoEAYVGX",
        "outputId": "e09291c2-0da3-469d-ced6-5fa0f6c195f8",
        "colab": {
          "base_uri": "https://localhost:8080/"
        }
      },
      "execution_count": 47,
      "outputs": [
        {
          "output_type": "stream",
          "name": "stdout",
          "text": [
            "2024-03-21 19:02:41,564 INFO sqlalchemy.engine.Engine BEGIN (implicit)\n"
          ]
        },
        {
          "output_type": "stream",
          "name": "stderr",
          "text": [
            "INFO:sqlalchemy.engine.Engine:BEGIN (implicit)\n"
          ]
        },
        {
          "output_type": "stream",
          "name": "stdout",
          "text": [
            "2024-03-21 19:02:41,568 INFO sqlalchemy.engine.Engine DELETE FROM users WHERE users.id = ?\n"
          ]
        },
        {
          "output_type": "stream",
          "name": "stderr",
          "text": [
            "INFO:sqlalchemy.engine.Engine:DELETE FROM users WHERE users.id = ?\n"
          ]
        },
        {
          "output_type": "stream",
          "name": "stdout",
          "text": [
            "2024-03-21 19:02:41,571 INFO sqlalchemy.engine.Engine [cached since 74.11s ago] ('8b22e698f41548ab954a4554568839c5',)\n"
          ]
        },
        {
          "output_type": "stream",
          "name": "stderr",
          "text": [
            "INFO:sqlalchemy.engine.Engine:[cached since 74.11s ago] ('8b22e698f41548ab954a4554568839c5',)\n"
          ]
        },
        {
          "output_type": "stream",
          "name": "stdout",
          "text": [
            "2024-03-21 19:02:41,575 INFO sqlalchemy.engine.Engine COMMIT\n"
          ]
        },
        {
          "output_type": "stream",
          "name": "stderr",
          "text": [
            "INFO:sqlalchemy.engine.Engine:COMMIT\n"
          ]
        },
        {
          "output_type": "stream",
          "name": "stdout",
          "text": [
            "<sqlalchemy.engine.cursor.CursorResult object at 0x7bf1a1dca620>\n"
          ]
        }
      ]
    },
    {
      "cell_type": "code",
      "source": [],
      "metadata": {
        "id": "oTZry7OBY7ru"
      },
      "execution_count": null,
      "outputs": []
    }
  ]
}