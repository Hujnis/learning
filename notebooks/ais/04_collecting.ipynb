{
  "nbformat": 4,
  "nbformat_minor": 0,
  "metadata": {
    "colab": {
      "name": "04_collecting.ipynb",
      "provenance": [],
      "toc_visible": true,
      "include_colab_link": true
    },
    "kernelspec": {
      "display_name": "Python 3 (ipykernel)",
      "language": "python",
      "name": "python3"
    },
    "language_info": {
      "codemirror_mode": {
        "name": "ipython",
        "version": 3
      },
      "file_extension": ".py",
      "mimetype": "text/x-python",
      "name": "python",
      "nbconvert_exporter": "python",
      "pygments_lexer": "ipython3",
      "version": "3.9.7"
    }
  },
  "cells": [
    {
      "cell_type": "markdown",
      "metadata": {
        "id": "view-in-github",
        "colab_type": "text"
      },
      "source": [
        "<a href=\"https://colab.research.google.com/github/hrbolek/learning/blob/master/ais/04_collecting.ipynb\" target=\"_parent\"><img src=\"https://colab.research.google.com/assets/colab-badge.svg\" alt=\"Open In Colab\"/></a>"
      ]
    },
    {
      "cell_type": "markdown",
      "metadata": {
        "id": "Cy9xclO0Ecvs"
      },
      "source": [
        "# Získávání dat"
      ]
    },
    {
      "cell_type": "code",
      "metadata": {
        "id": "oX2SdIKVEr3G"
      },
      "source": [
        "from IPython.display import HTML\n",
        "\n",
        "def YVideo(id, t=None):\n",
        "# Youtube\n",
        "    if t is None:\n",
        "        fullStr = f'<iframe width=\"560\" height=\"315\" src=\"https://www.youtube.com/embed/{id}?rel=0&amp;controls=0&amp;showinfo=0\" frameborder=\"0\" allowfullscreen></iframe>'\n",
        "    else:\n",
        "        fullStr = f'<iframe width=\"560\" height=\"315\" src=\"https://www.youtube.com/embed/{id}?start={t}&amp;controls=0&amp;showinfo=0\" frameborder=\"0\" allowfullscreen></iframe>'\n",
        "    return HTML(fullStr)"
      ],
      "execution_count": null,
      "outputs": []
    },
    {
      "cell_type": "markdown",
      "metadata": {
        "id": "fat5fcTuEdrj"
      },
      "source": [
        "- Získávání dat\n",
        "    - Zdroje s API\n",
        "        - OData\n",
        "        - REST\n",
        "        - SWAGGER\n",
        "        - další standardy\n",
        "    - Zdroje bez API\n",
        "    - Textové zdroje"
      ]
    },
    {
      "cell_type": "markdown",
      "metadata": {
        "id": "eNn6qS7cEf2b"
      },
      "source": [
        "## Zdroje s API"
      ]
    },
    {
      "cell_type": "markdown",
      "metadata": {
        "id": "_it3ZFU7AtvZ"
      },
      "source": [
        "U zdrojů s API se předpokládá dostupnost dokumentace. Přestože známe více standardů (OData, Swagger), komunikace probíhá vždy přes HTTP se specifickými verby (verbs), pro čtení GET. Při zápisu POST, PUT a DELETE, či dalšími specifickými verby."
      ]
    },
    {
      "cell_type": "markdown",
      "metadata": {
        "id": "JwcbzbqxBWBM"
      },
      "source": [
        "Specifickou pozornost je nutné věnovat GraphQL, který je systémově velmi často nad API REST, což lze využít pro systémovou integraci jednotlivých API endpointů."
      ]
    },
    {
      "cell_type": "markdown",
      "metadata": {
        "id": "TOr7DgZWEiWI"
      },
      "source": [
        "## Zdroje bez API"
      ]
    },
    {
      "cell_type": "markdown",
      "metadata": {
        "id": "Wvc3S1ME7jRg"
      },
      "source": [
        "Zdroje, které nejsou předem strukturované, tedy zdroje bez API je nezbytné strukturalizovat. Mezi významné zdroje z této oblasti patří textové zdroje na internetu. Zdroje na internetu vznikají s využitím výpočetní techniky (jsou generované) na základě již strukturalizovaných dat, typicky uložených v databázi.\n",
        "\n",
        "Struktura je obvykle identifikovatelná i v textu webové (HTML) stránky. Mnohdy lze dokonce vysledovat entity a relační vztahy mezi nimi. Příkladem může být zpravodajský internetový deník, který na své hlavní stránce odkazuje na jednotlivé články. Hlavní stránka se tak tváří jako částečný index článků. V článcích lze často nalézt entity odstavec a také odkazy na související články. Toto je příklad relace.\n",
        "\n",
        "Vzhledem k potřebě zpracování článků je samozřejmé, že redakce používají webová prostředí pro správu obsahu, který je následně ukládán v (non)SQL databázích, odkud je promítán do šablon a výsledek tvoří články, které si čtenáři prohlíží. Odhalení odlišností mezi šablonou a obsahem vede k identifikaci datových struktur.\n",
        "\n"
      ]
    },
    {
      "cell_type": "markdown",
      "metadata": {
        "id": "jHYBfPX-9YIR"
      },
      "source": [
        "### Regulární výrazy I"
      ]
    },
    {
      "cell_type": "markdown",
      "metadata": {
        "id": "-gnfSsvh9buu"
      },
      "source": [
        "Regulární výrazy představují mechanismus s jehož pomocí lze vyhledávat v textu řetězce aniž by byl předem znám jejich přesný obsah. Regulární výraz je předpisem, který je následně textovát vůči prohledávanému textu a jesliže jeho část odpovídá předpisu je tato část označena jako hledaná.\n",
        "\n",
        "Regulární výrazy jsou široce používaným nástrojem napříč platformami a jazyky. Regulární výraz v jazyku Javascript je použitelný v jazyku Python, či dalších jazycích a samozřejmě i naopak."
      ]
    },
    {
      "cell_type": "markdown",
      "metadata": {
        "id": "UmgmQdkLCmiE"
      },
      "source": [
        "Oficiální dokumentace \n",
        "[(python re doc)](https://docs.python.org/3/library/re.html).\n",
        "\n",
        "Online nástroj pro tvorbu výrazů [regex](https://regex101.com/). Pordporuje více jazyků včetně jazyka Python.\n",
        "\n",
        "> **Povinné video**\n",
        ">\n",
        "> [[5 Minute Tutorial] Regular Expressions (Regex) in Python 6 min](https://www.youtube.com/watch?v=UQQsYXa1EHs)\n",
        "\n",
        "\n",
        "\n"
      ]
    },
    {
      "cell_type": "code",
      "metadata": {
        "colab": {
          "base_uri": "https://localhost:8080/",
          "height": 336
        },
        "id": "_PRnWbEGE2iV",
        "outputId": "d0c1dde4-7a11-4d28-d30f-8c1c9ad4a5fa"
      },
      "source": [
        "YVideo('https://www.youtube.com/watch?v=UQQsYXa1EHs')"
      ],
      "execution_count": null,
      "outputs": [
        {
          "name": "stderr",
          "output_type": "stream",
          "text": [
            "/opt/conda/lib/python3.9/site-packages/IPython/core/display.py:724: UserWarning: Consider using IPython.display.IFrame instead\n",
            "  warnings.warn(\"Consider using IPython.display.IFrame instead\")\n"
          ]
        },
        {
          "data": {
            "text/html": [
              "<iframe width=\"560\" height=\"315\" src=\"https://www.youtube.com/embed/https://www.youtube.com/watch?v=UQQsYXa1EHs?rel=0&amp;controls=0&amp;showinfo=0\" frameborder=\"0\" allowfullscreen></iframe>"
            ],
            "text/plain": [
              "<IPython.core.display.HTML object>"
            ]
          },
          "execution_count": 2,
          "metadata": {},
          "output_type": "execute_result"
        }
      ]
    },
    {
      "cell_type": "markdown",
      "metadata": {
        "id": "haEMxiQfE6dL"
      },
      "source": [
        "\n",
        "> **Doporučené video**\n",
        ">\n",
        "> [Python Tutorial: re Module - How to Write and Match Regular Expressions (Regex) 53 min](https://www.youtube.com/watch?v=K8L6KVGG-7o)"
      ]
    },
    {
      "cell_type": "code",
      "metadata": {
        "colab": {
          "base_uri": "https://localhost:8080/",
          "height": 336
        },
        "id": "yftI-lNwFCxQ",
        "outputId": "7207c961-9877-4f33-cc47-db57fd46cd06"
      },
      "source": [
        "YVideo('https://www.youtube.com/watch?v=K8L6KVGG-7o')"
      ],
      "execution_count": null,
      "outputs": [
        {
          "data": {
            "text/html": [
              "<iframe width=\"560\" height=\"315\" src=\"https://www.youtube.com/embed/https://www.youtube.com/watch?v=K8L6KVGG-7o?rel=0&amp;controls=0&amp;showinfo=0\" frameborder=\"0\" allowfullscreen></iframe>"
            ],
            "text/plain": [
              "<IPython.core.display.HTML object>"
            ]
          },
          "execution_count": 3,
          "metadata": {},
          "output_type": "execute_result"
        }
      ]
    },
    {
      "cell_type": "code",
      "metadata": {
        "id": "aGdR7ruxCuTa"
      },
      "source": [
        "import re\n",
        "\n"
      ],
      "execution_count": null,
      "outputs": []
    },
    {
      "cell_type": "markdown",
      "metadata": {
        "id": "settled-technology"
      },
      "source": [
        "### Webové stránky"
      ]
    },
    {
      "cell_type": "code",
      "metadata": {
        "id": "logical-rubber",
        "outputId": "672cc412-1ed5-4e35-f32a-11209194f6ec"
      },
      "source": [
        "!pip install requests_ntlm"
      ],
      "execution_count": null,
      "outputs": [
        {
          "name": "stdout",
          "output_type": "stream",
          "text": [
            "Collecting requests_ntlm\n",
            "  Downloading requests_ntlm-1.1.0-py2.py3-none-any.whl (5.7 kB)\n",
            "Requirement already satisfied: cryptography>=1.3 in /opt/conda/lib/python3.9/site-packages (from requests_ntlm) (35.0.0)\n",
            "Requirement already satisfied: requests>=2.0.0 in /opt/conda/lib/python3.9/site-packages (from requests_ntlm) (2.26.0)\n",
            "Collecting ntlm-auth>=1.0.2\n",
            "  Downloading ntlm_auth-1.5.0-py2.py3-none-any.whl (29 kB)\n",
            "Requirement already satisfied: cffi>=1.12 in /opt/conda/lib/python3.9/site-packages (from cryptography>=1.3->requests_ntlm) (1.14.6)\n",
            "Requirement already satisfied: charset-normalizer~=2.0.0 in /opt/conda/lib/python3.9/site-packages (from requests>=2.0.0->requests_ntlm) (2.0.0)\n",
            "Requirement already satisfied: idna<4,>=2.5 in /opt/conda/lib/python3.9/site-packages (from requests>=2.0.0->requests_ntlm) (3.1)\n",
            "Requirement already satisfied: certifi>=2017.4.17 in /opt/conda/lib/python3.9/site-packages (from requests>=2.0.0->requests_ntlm) (2021.10.8)\n",
            "Requirement already satisfied: urllib3<1.27,>=1.21.1 in /opt/conda/lib/python3.9/site-packages (from requests>=2.0.0->requests_ntlm) (1.26.7)\n",
            "Requirement already satisfied: pycparser in /opt/conda/lib/python3.9/site-packages (from cffi>=1.12->cryptography>=1.3->requests_ntlm) (2.20)\n",
            "Installing collected packages: ntlm-auth, requests-ntlm\n",
            "Successfully installed ntlm-auth-1.5.0 requests-ntlm-1.1.0\n"
          ]
        }
      ]
    },
    {
      "cell_type": "code",
      "metadata": {
        "id": "capable-socket"
      },
      "source": [
        "import getpass\n",
        "import urllib.request, json\n",
        "from requests_ntlm import HttpNtlmAuth"
      ],
      "execution_count": null,
      "outputs": []
    },
    {
      "cell_type": "code",
      "metadata": {
        "id": "stupid-greenhouse",
        "outputId": "1aac0bf5-3e20-43f9-f8d1-2087b6248df8"
      },
      "source": [
        "url = ''\n",
        "people = [633]\n",
        "password = getpass.getpass()\n",
        "user = 'UNIVO\\\\stefeka'"
      ],
      "execution_count": null,
      "outputs": [
        {
          "name": "stdin",
          "output_type": "stream",
          "text": [
            " ··············\n"
          ]
        }
      ]
    },
    {
      "cell_type": "code",
      "metadata": {
        "id": "framed-tractor",
        "outputId": "0cf2f37d-0c5f-49fe-c7f9-1b189eb6bc36"
      },
      "source": [
        "from functools import lru_cache\n",
        "import requests\n",
        "\n",
        "@lru_cache\n",
        "def readTbl(UCO):\n",
        "    url = f'https://apl.unob.cz/UOAPI/Rozvrhy/Osoba/{UCO}'\n",
        "    page = requests.get(url, auth = HttpNtlmAuth(user, password))\n",
        "    content = page.content.decode('utf8')\n",
        "    return content\n",
        "\n",
        "data = readTbl(633)\n",
        "print(data[:1000])"
      ],
      "execution_count": null,
      "outputs": [
        {
          "name": "stdout",
          "output_type": "stream",
          "text": [
            "\n",
            "   \n",
            "\n",
            "<!DOCTYPE html>\n",
            "\n",
            "<html>\n",
            "<head>\n",
            "  <meta charset=\"utf-8\" />\n",
            "  <meta name=\"viewport\" content=\"width=device-width, initial-scale=1.0\">\n",
            "  <title>RozvrhyOsoba</title>\n",
            "  <link href=\"/UOAPI/Content/css?v=oQnauHsqXdVBkuWhCiSRZpmRifmLkzjqiI7oah75sjQ1\" rel=\"stylesheet\"/>\n",
            "\n",
            "  <script src=\"/UOAPI/bundles/modernizr?v=inCVuEFe6J4Q07A0AcRsbJic_UE5MwpRMNGcOtk94TE1\"></script>\n",
            "\n",
            "</head>\n",
            "<body><table class=\"table table-striped table-condensed\">\n",
            "  <thead>\n",
            "    <tr>\n",
            "      <th>Datum</th>\n",
            "      <th>Začátek</th>\n",
            "      <th>Konec</th>\n",
            "      <th>Typ lekce</th>\n",
            "      <th>Předmět</th>\n",
            "      <th>Předmět Uic</th>\n",
            "      <th>Učebna</th>\n",
            "      <th>Vyučující</th>\n",
            "      <th>Vyučující Uco</th>\n",
            "      <th>Učební skupina</th>\n",
            "      <th>Učební skupina Uic</th>\n",
            "    </tr>\n",
            "  </thead>\n",
            "  <tbody>\n",
            "      <tr>\n",
            "    <td>18. 05. 2021</td>\n",
            "    <td>8:00</td>\n",
            "    <td>11:20</td>\n",
            "    <td>laboratorn&#237; cvičen&#237;</td>\n",
            "    \n",
            "    \n",
            "\n",
            "    \n",
            "\n",
            "\n",
            "<td>V&#253;voj a spr&#225;va IS / T15</td>\n",
            "<td>05011</td>\n"
          ]
        }
      ]
    },
    {
      "cell_type": "code",
      "metadata": {
        "id": "understanding-glance",
        "outputId": "f6889b37-df3f-41f4-ff42-85f542b87dcd"
      },
      "source": [
        "data = readTbl(633)\n",
        "print(data[:1000])"
      ],
      "execution_count": null,
      "outputs": [
        {
          "name": "stdout",
          "output_type": "stream",
          "text": [
            "\n",
            "   \n",
            "\n",
            "<!DOCTYPE html>\n",
            "\n",
            "<html>\n",
            "<head>\n",
            "  <meta charset=\"utf-8\" />\n",
            "  <meta name=\"viewport\" content=\"width=device-width, initial-scale=1.0\">\n",
            "  <title>RozvrhyOsoba</title>\n",
            "  <link href=\"/UOAPI/Content/css?v=oQnauHsqXdVBkuWhCiSRZpmRifmLkzjqiI7oah75sjQ1\" rel=\"stylesheet\"/>\n",
            "\n",
            "  <script src=\"/UOAPI/bundles/modernizr?v=inCVuEFe6J4Q07A0AcRsbJic_UE5MwpRMNGcOtk94TE1\"></script>\n",
            "\n",
            "</head>\n",
            "<body><table class=\"table table-striped table-condensed\">\n",
            "  <thead>\n",
            "    <tr>\n",
            "      <th>Datum</th>\n",
            "      <th>Začátek</th>\n",
            "      <th>Konec</th>\n",
            "      <th>Typ lekce</th>\n",
            "      <th>Předmět</th>\n",
            "      <th>Předmět Uic</th>\n",
            "      <th>Učebna</th>\n",
            "      <th>Vyučující</th>\n",
            "      <th>Vyučující Uco</th>\n",
            "      <th>Učební skupina</th>\n",
            "      <th>Učební skupina Uic</th>\n",
            "    </tr>\n",
            "  </thead>\n",
            "  <tbody>\n",
            "      <tr>\n",
            "    <td>18. 05. 2021</td>\n",
            "    <td>8:00</td>\n",
            "    <td>11:20</td>\n",
            "    <td>laboratorn&#237; cvičen&#237;</td>\n",
            "    \n",
            "    \n",
            "\n",
            "    \n",
            "\n",
            "\n",
            "<td>V&#253;voj a spr&#225;va IS / T15</td>\n",
            "<td>05011</td>\n"
          ]
        }
      ]
    },
    {
      "cell_type": "markdown",
      "metadata": {
        "id": "behavioral-library"
      },
      "source": [
        "### Regulární výrazy II"
      ]
    },
    {
      "cell_type": "markdown",
      "metadata": {
        "id": "missing-bermuda"
      },
      "source": [
        "https://docs.python.org/3/library/re.html"
      ]
    },
    {
      "cell_type": "code",
      "metadata": {
        "id": "pressed-clarity",
        "outputId": "67642ac1-2db8-4182-98c8-b64a27c0c42b"
      },
      "source": [
        "import re\n",
        "data = readTbl(633)\n",
        "m = re.search(r'(<td>[^<]*</td>)', data)\n",
        "print(m)\n",
        "radek = m.group(0)\n",
        "print(radek)"
      ],
      "execution_count": null,
      "outputs": [
        {
          "name": "stdout",
          "output_type": "stream",
          "text": [
            "<re.Match object; span=(811, 832), match='<td>18. 05. 2021</td>'>\n",
            "<td>18. 05. 2021</td>\n"
          ]
        }
      ]
    },
    {
      "cell_type": "markdown",
      "metadata": {
        "id": "powered-withdrawal"
      },
      "source": [
        "#### Zástupné znaky"
      ]
    },
    {
      "cell_type": "markdown",
      "metadata": {
        "id": "injured-condition"
      },
      "source": [
        "- `a-z`, `A-Z`, `0-9`\n",
        "- `\\d`, `\\s`"
      ]
    },
    {
      "cell_type": "code",
      "metadata": {
        "id": "virtual-mineral",
        "outputId": "79fc3679-8f81-4d4b-e0d8-5340a8390b09"
      },
      "source": [
        "strData = 'kniha, album, almanach'\n",
        "pattern = r'a'\n",
        "\n",
        "m = re.search(pattern, strData)\n",
        "print(m)\n"
      ],
      "execution_count": null,
      "outputs": [
        {
          "name": "stdout",
          "output_type": "stream",
          "text": [
            "<re.Match object; span=(4, 5), match='a'>\n"
          ]
        }
      ]
    },
    {
      "cell_type": "markdown",
      "metadata": {
        "id": "instrumental-office"
      },
      "source": [
        "#### Množiny"
      ]
    },
    {
      "cell_type": "markdown",
      "metadata": {
        "id": "julian-trunk"
      },
      "source": [
        "- pozitivní skupina `[]`\n",
        "- negativní skupina `[^]`"
      ]
    },
    {
      "cell_type": "code",
      "metadata": {
        "id": "after-specific",
        "outputId": "29af1c67-2832-4fe0-9217-6300cc8949f8"
      },
      "source": [
        "strData = 'kniha, album, almanach'\n",
        "pattern = r'[aeiou]'\n",
        "\n",
        "m = re.search(pattern, strData)\n",
        "print(m)"
      ],
      "execution_count": null,
      "outputs": [
        {
          "name": "stdout",
          "output_type": "stream",
          "text": [
            "<re.Match object; span=(2, 3), match='i'>\n"
          ]
        }
      ]
    },
    {
      "cell_type": "code",
      "metadata": {
        "id": "marine-contemporary",
        "outputId": "b92cd965-a67f-45e2-f79a-cdc7e9391cea"
      },
      "source": [
        "strData = 'kniha, album, almanach'\n",
        "pattern = r'[a-z]'\n",
        "\n",
        "m = re.search(pattern, strData)\n",
        "print(m)"
      ],
      "execution_count": null,
      "outputs": [
        {
          "name": "stdout",
          "output_type": "stream",
          "text": [
            "<re.Match object; span=(0, 1), match='k'>\n"
          ]
        }
      ]
    },
    {
      "cell_type": "markdown",
      "metadata": {
        "id": "pregnant-agency"
      },
      "source": [
        "#### Kvantifikátory"
      ]
    },
    {
      "cell_type": "markdown",
      "metadata": {
        "id": "korean-washer"
      },
      "source": [
        "- `*`\n",
        "- `+`\n",
        "- `{2, 5}`"
      ]
    },
    {
      "cell_type": "code",
      "metadata": {
        "id": "sporting-sequence",
        "outputId": "69c5d763-57a4-400c-c7a8-9b8b3b497eca"
      },
      "source": [
        "strData = 'kniha, album, almanach'\n",
        "pattern = r'[a-z]+'\n",
        "\n",
        "m = re.search(pattern, strData)\n",
        "print(m)"
      ],
      "execution_count": null,
      "outputs": [
        {
          "name": "stdout",
          "output_type": "stream",
          "text": [
            "<re.Match object; span=(0, 5), match='kniha'>\n"
          ]
        }
      ]
    },
    {
      "cell_type": "markdown",
      "metadata": {
        "id": "protecting-storm"
      },
      "source": [
        "#### Zachycení (Capturing)"
      ]
    },
    {
      "cell_type": "markdown",
      "metadata": {
        "id": "electoral-sewing"
      },
      "source": [
        "- `()`"
      ]
    },
    {
      "cell_type": "code",
      "metadata": {
        "id": "rolled-minute",
        "outputId": "c978142b-c29f-4a23-8000-57affc7a624c"
      },
      "source": [
        "strData = 'kniha, album, almanach'\n",
        "pattern = r'([a-z])[a-z]+'\n",
        "\n",
        "m = re.search(pattern, strData)\n",
        "print(m)\n",
        "print(m.group(1))"
      ],
      "execution_count": null,
      "outputs": [
        {
          "name": "stdout",
          "output_type": "stream",
          "text": [
            "<re.Match object; span=(0, 5), match='kniha'>\n",
            "k\n"
          ]
        }
      ]
    },
    {
      "cell_type": "code",
      "metadata": {
        "id": "intense-catch",
        "outputId": "943da640-ddd6-40a2-976b-87d5b74f82e0"
      },
      "source": [
        "strData = 'kniha, 15.7.2021, 03.05.2021, almanach'\n",
        "pattern = r'(([0-9])|([0-3][0-9]))\\.(([0-9])|([0-1][0-9]))\\.([1-2][0-9]{3,3})'\n",
        "\n",
        "#crlf = '\\r\\n'\n",
        "\n",
        "print(pattern)\n",
        "\n",
        "m = re.search(pattern, strData)\n",
        "print(m)\n",
        "print(m.group(1))\n",
        "print(m.group(4))\n",
        "print(m.group(7))"
      ],
      "execution_count": null,
      "outputs": [
        {
          "name": "stdout",
          "output_type": "stream",
          "text": [
            "(([0-9])|([0-3][0-9]))\\.(([0-9])|([0-1][0-9]))\\.([1-2][0-9]{3,3})\n",
            "<re.Match object; span=(7, 16), match='15.7.2021'>\n",
            "15\n",
            "7\n",
            "2021\n"
          ]
        }
      ]
    },
    {
      "cell_type": "code",
      "metadata": {
        "id": "partial-dialogue",
        "outputId": "d4ed4a36-55f0-4523-be7b-adb511830440"
      },
      "source": [
        "data = readTbl(633)\n",
        "m = re.search(r'(?:<tr>)([^<]*(?:<td>[^<]*</td>[^<]*)*)(?:</tr>)', data)\n",
        "#m = re.search(r'(?:<tr>)(?:[^<]*(?:<td>([^<]+)</td>[^<]*)*)(?:</tr>)', data)\n",
        "#radek = m.group(0)\n",
        "#print(radek)\n",
        "radek = m.group(1)\n",
        "print(radek)"
      ],
      "execution_count": null,
      "outputs": [
        {
          "name": "stdout",
          "output_type": "stream",
          "text": [
            "\n",
            "    <td>18. 05. 2021</td>\n",
            "    <td>8:00</td>\n",
            "    <td>11:20</td>\n",
            "    <td>laboratorn&#237; cvičen&#237;</td>\n",
            "    \n",
            "    \n",
            "\n",
            "    \n",
            "\n",
            "\n",
            "<td>V&#253;voj a spr&#225;va IS / T15</td>\n",
            "<td>05011</td>\n",
            "\n",
            "    <td>Š8/20</td>\n",
            "    <td>Štefek A.</td>\n",
            "    <td>633</td>\n",
            "    <td>5KIS-IT (2017)</td>\n",
            "    <td>20955</td>\n",
            "  \n"
          ]
        }
      ]
    },
    {
      "cell_type": "code",
      "metadata": {
        "id": "military-boulder",
        "outputId": "7a5a4059-2f2f-44a8-e393-25c5cc0533e6"
      },
      "source": [
        "data = readTbl(633)\n",
        "regTester = re.compile(r'(?:<tr>)([^<]*(?:<td>[^<]*</td>[^<]*)*)(?:</tr>)')\n",
        "matches = regTester.findall(data)\n",
        "result = []\n",
        "for _ in matches:\n",
        "    result.append(_)\n",
        "\n",
        "for index, item in enumerate(result):\n",
        "    print(index, item[:23])\n",
        "    if index > 9:\n",
        "        break"
      ],
      "execution_count": null,
      "outputs": [
        {
          "name": "stdout",
          "output_type": "stream",
          "text": [
            "0 \n",
            "    <td>18. 05. 2021<\n",
            "1 \n",
            "    <td>18. 05. 2021<\n",
            "2 \n",
            "    <td>19. 05. 2021<\n",
            "3 \n",
            "    <td>20. 05. 2021<\n",
            "4 \n",
            "    <td>25. 05. 2021<\n",
            "5 \n",
            "    <td>27. 05. 2021<\n",
            "6 \n",
            "    <td>18. 06. 2021<\n",
            "7 \n",
            "    <td>16. 07. 2021<\n",
            "8 \n",
            "    <td>22. 07. 2021<\n",
            "9 \n",
            "    <td>22. 07. 2021<\n",
            "10 \n",
            "    <td>23. 07. 2021<\n"
          ]
        }
      ]
    },
    {
      "cell_type": "markdown",
      "metadata": {
        "id": "Py102TsCl55y"
      },
      "source": [
        "## Analýza HTML"
      ]
    },
    {
      "cell_type": "markdown",
      "metadata": {
        "id": "24Qr81LN34NB"
      },
      "source": [
        "### Rychlé \"oči\""
      ]
    },
    {
      "cell_type": "markdown",
      "metadata": {
        "id": "MzXavx3Y34ND"
      },
      "source": [
        "Otevření souboru v textovém modu https://www.w3schools.com/python/python_file_open.asp."
      ]
    },
    {
      "cell_type": "code",
      "metadata": {
        "id": "JH22AOsE34NE",
        "outputId": "e571292e-c1ad-42ed-9ff2-c1ca60534646"
      },
      "source": [
        "with open('./data/osoba.htm', 'r') as inputFile:\n",
        "    for index, line in enumerate(inputFile):\n",
        "        if index < 366:\n",
        "            continue\n",
        "        if index > 372:\n",
        "            break\n",
        "        print(index, line, end='')"
      ],
      "execution_count": null,
      "outputs": [
        {
          "name": "stdout",
          "output_type": "stream",
          "text": [
            "366                     <td class=\"right head\">Pracoviště</td>\n",
            "367                     <td class=\"left-align\"><a href=\"https://vav.unob.cz/department/index/114\">K209</a> (<a href=\"https://vav.unob.cz/department/index/72\" title=\"Nadřízená složka\">FVT</a>)</td>\n",
            "368                     </tr>\n",
            "369                                 <tr>\n",
            "370                     <td class=\"right head\">Tituly</td>\n",
            "371                     <td class=\"left-align\">prof. Dr. Ing.</td>\n",
            "372                 </tr>\n"
          ]
        }
      ]
    },
    {
      "cell_type": "code",
      "metadata": {
        "id": "Zo-cuHal34NG",
        "outputId": "cc7eea77-74c8-4894-f4c6-d44cbe866d00"
      },
      "source": [
        "with open('./data/osoba.htm', 'r') as inputFile:\n",
        "    allData = inputFile.read()\n",
        "    \n",
        "print(allData[1000:2000])"
      ],
      "execution_count": null,
      "outputs": [
        {
          "name": "stdout",
          "output_type": "stream",
          "text": [
            "ype=\"text/css\"\n",
            "      media=\"all\"\n",
            "      />\n",
            "\n",
            "    <link\n",
            "      rel=\"stylesheet\"\n",
            "      href=\"https://vav.unob.cz/client/css/layout_global.css?v=13\"\n",
            "      type=\"text/css\"\n",
            "      media=\"all\"\n",
            "      charset=\"utf-8\"\n",
            "      />\n",
            "    <link\n",
            "      rel=\"stylesheet\"\n",
            "              href=\"https://vav.unob.cz/client/css/layout_dee_v9.css?v=2\"\n",
            "            type=\"text/css\"\n",
            "      media=\"all\"\n",
            "      charset=\"utf-8\"\n",
            "      />\n",
            "\n",
            "    <link\n",
            "      rel=\"stylesheet\"\n",
            "              href=\"https://vav.unob.cz/client/css/navigation_v9.css\"\n",
            "            type=\"text/css\"\n",
            "      media=\"all\"\n",
            "      charset=\"utf-8\"\n",
            "      />\n",
            "    <link rel=\"stylesheet\" type=\"text/css\"\n",
            "          href=\"https://vav.unob.cz/client/css/iconset_v8.css?v=2\"\n",
            "          media=\"all\"\n",
            "          charset=\"utf-8\"\n",
            "          />\n",
            "    <link\n",
            "      rel=\"stylesheet\"\n",
            "      href=\"https://vav.unob.cz/client/css/form_v2.css?v=3\"\n",
            "      type=\"text/css\"\n",
            "      media=\"all\"\n",
            "      />\n",
            "      \n",
            "    <link\n",
            "      rel=\"stylesheet\"\n",
            "      href=\"https://vav.unob.cz/client/css/tooltip.css\"\n",
            "      type=\"\n"
          ]
        }
      ]
    },
    {
      "cell_type": "code",
      "metadata": {
        "id": "bATn8q3O34NK",
        "outputId": "92c90877-b24c-4b78-9682-dfcdcbf92f88"
      },
      "source": [
        "def printFrom(substr, data, delta=-10, length=100):\n",
        "    index = data.find(substr)\n",
        "    print(data[index+delta:index+length+delta])\n",
        "printFrom('Nadřízená složka', allData, delta=-20, length=300)"
      ],
      "execution_count": null,
      "outputs": [
        {
          "name": "stdout",
          "output_type": "stream",
          "text": [
            "nt/index/72\" title=\"Nadřízená složka\">FVT</a>)</td>\n",
            "                    </tr>\n",
            "                                <tr>\n",
            "                    <td class=\"right head\">Tituly</td>\n",
            "                    <td class=\"left-align\">prof. Dr. Ing.</td>\n",
            "                </tr>\n",
            "                <tr>\n",
            "                    <td \n"
          ]
        }
      ]
    },
    {
      "cell_type": "code",
      "metadata": {
        "id": "SYTZMHjo34NM",
        "outputId": "37505f6a-5f55-454f-c8a6-50671e94f1bd"
      },
      "source": [
        "import re\n",
        "currentValue = re.findall(r'title=\"Nadřízená složka\">([A-Z]+)</a>\\)', allData)\n",
        "print(currentValue)"
      ],
      "execution_count": null,
      "outputs": [
        {
          "name": "stdout",
          "output_type": "stream",
          "text": [
            "['FVT']\n"
          ]
        }
      ]
    },
    {
      "cell_type": "markdown",
      "metadata": {
        "id": "92YrlPxR34NN"
      },
      "source": [
        "### Systematizace analýzy"
      ]
    },
    {
      "cell_type": "code",
      "metadata": {
        "id": "p_CJJXed34NO"
      },
      "source": [
        "def html_analyze(patternList, pageContent):\n",
        "    result = {}\n",
        "    for pat in patternList:\n",
        "        currentName = pat[\"name\"]\n",
        "        currentPattern = pat[\"pattern\"]\n",
        "        currentSaveMulti = pat[\"saveMulti\"]\n",
        "        currentValue = re.findall(currentPattern, pageContent)\n",
        "        if (type(currentName) == type(['b'])):\n",
        "            #defined multiplae names\n",
        "            index = 0;\n",
        "            for name in currentName:\n",
        "                result[name] = currentValue[index]\n",
        "                index = index + 1\n",
        "        else:\n",
        "            #defined single name\n",
        "            if len(currentValue) > 0:\n",
        "                if currentSaveMulti:\n",
        "                    currentValue = currentValue\n",
        "                else:\n",
        "                    currentValue = currentValue[0]\n",
        "            else:\n",
        "                currentValue = \"\"\n",
        "            result[currentName] = currentValue\n",
        "    return result"
      ],
      "execution_count": null,
      "outputs": []
    },
    {
      "cell_type": "markdown",
      "metadata": {
        "id": "QtcnUK2W34NP"
      },
      "source": [
        "### Analýza osoby"
      ]
    },
    {
      "cell_type": "code",
      "metadata": {
        "id": "TbmfZzg934NP"
      },
      "source": [
        "clovek_analyzer_desc = [\n",
        "      {'name': 'vavid', 'saveMulti': False, 'pattern': r'person.perid = \"([0-9]+)\"'},\n",
        "      {'name': 'fullname', 'saveMulti': False, 'pattern': r'<h1>([^<]+)<span'},\n",
        "      {'name': 'tituly', 'saveMulti': False, 'pattern': r'Tituly</td>[^<]+<td class=\"left-align\">([^<]+)</td>'},\n",
        "      {'name': 'departmentid', 'saveMulti': False, 'pattern': r'><a href=\"https://vav.unob.cz/department/index/([0-9]+)\"'},\n",
        "      {'name': 'department', 'saveMulti': False, 'pattern': r'><a href=\"https://vav.unob.cz/department/index/[0-9]+\">([ÚA-Z0-9]+)</a>'},\n",
        "      {'name': 'soucastid', 'saveMulti': False, 'pattern': r'\\(<a href=\"https://vav.unob.cz/department/index/([0-9]+)'},\n",
        "      {'name': 'soucast', 'saveMulti': False, 'pattern': r'title=\"Nadřízená složka\">([A-Z]+)</a>\\)'},\n",
        "      {'name': 'uco', 'saveMulti': False, 'pattern': r'<td class=\"right head\">UČO</td>[^<]+<td class=\"left-align\">[^0-9]+([0-9]+)'},\n",
        "      {'name': 'orcid', 'saveMulti': False, 'pattern': r'<td class=\"right head\">ORCID</td>[^<]+<td class=\"left-align\">[^<]+[^>]+[^0-9]+([0-9\\-]+)'},\n",
        "      {'name': 'typ', 'saveMulti': False, 'pattern': r'\\(P2\\)<div style=\"font-size: 9px; color: grey\">edituje R-OdVV</div></td>[^<]+<td class=\"left-align\">[^ASDO]+([^<]+)</td>'},\n",
        "      {'name': 'p4', 'saveMulti': False, 'pattern': r'\\(P4\\)</t[dh]>[^<]+<td class=\"left-align\">[^0-9]+([^<]+)'},\n",
        "      {'name': 'email', 'saveMulti': False, 'pattern': r'Email</td>[^<]+<td class=\"left-align\">([^<]+)</td>'},\n",
        "      {'name': 'cizi', 'saveMulti': False, 'pattern': r'<option value=\"CIZ\" selected=\"selected\">([^<]+)</option>'},\n",
        "      {'name': 'rok', 'saveMulti': False, 'pattern': r'name=\"identifikace\" value=\"([^\"]{2,2})[^\"]+\"'}\n",
        "    ]"
      ],
      "execution_count": null,
      "outputs": []
    },
    {
      "cell_type": "code",
      "metadata": {
        "id": "p2V5Bna334NQ",
        "outputId": "6ccf8c69-cd2d-448b-e5b1-aeb8e351ac47"
      },
      "source": [
        "record = html_analyze(clovek_analyzer_desc, allData)\n",
        "print(record)"
      ],
      "execution_count": null,
      "outputs": [
        {
          "name": "stdout",
          "output_type": "stream",
          "text": [
            "{'vavid': '235994', 'fullname': 'Štefek Alexandr ', 'tituly': 'prof. Dr. Ing.', 'departmentid': '114', 'department': 'K209', 'soucastid': '72', 'soucast': 'FVT', 'uco': '633', 'orcid': '0000-0002-6064-8381', 'typ': 'AP - Akademický pracovník UO                    ', 'p4': '20                    ', 'email': 'alexandr.stefek@unob.cz', 'cizi': '', 'rok': ''}\n"
          ]
        }
      ]
    },
    {
      "cell_type": "code",
      "metadata": {
        "id": "YyuFRVhM34NS"
      },
      "source": [
        "def readPersonHtml(id):\n",
        "    fullURL = f'https://vav.unob.cz/person/index/{id}'\n",
        "    \n",
        "    with open('./data/osoba.htm', 'r') as inputFile:\n",
        "        result = inputFile.read()\n",
        "    return result"
      ],
      "execution_count": null,
      "outputs": []
    },
    {
      "cell_type": "code",
      "metadata": {
        "id": "RXVYJTQw34Nd",
        "outputId": "5a33b630-a2d7-41bd-ac1b-d81253221546"
      },
      "source": [
        "def fromPersonHtmlToData(page):\n",
        "    analyza = html_analyze(clovek_analyzer_desc, page)\n",
        "    return analyza\n",
        "\n",
        "print(fromPersonHtmlToData(readPersonHtml(235994)))"
      ],
      "execution_count": null,
      "outputs": [
        {
          "name": "stdout",
          "output_type": "stream",
          "text": [
            "{'vavid': '235994', 'fullname': 'Štefek Alexandr ', 'tituly': 'prof. Dr. Ing.', 'departmentid': '114', 'department': 'K209', 'soucastid': '72', 'soucast': 'FVT', 'uco': '633', 'orcid': '0000-0002-6064-8381', 'typ': 'AP - Akademický pracovník UO                    ', 'p4': '20                    ', 'email': 'alexandr.stefek@unob.cz', 'cizi': '', 'rok': ''}\n"
          ]
        }
      ]
    },
    {
      "cell_type": "markdown",
      "metadata": {
        "id": "IjNaN73734Nf"
      },
      "source": [
        "### Analýza katedry"
      ]
    },
    {
      "cell_type": "code",
      "metadata": {
        "id": "P8pRrrqr34Nf"
      },
      "source": [
        "def readKatedraHtml(id):\n",
        "    fullURL = f'https://vav.unob.cz/department/index/{id}'\n",
        "    \n",
        "    with open('./data/katedra.htm', 'r') as inputFile:\n",
        "        result = inputFile.read()\n",
        "    return result"
      ],
      "execution_count": null,
      "outputs": []
    },
    {
      "cell_type": "code",
      "metadata": {
        "id": "OpMP-omd34Nh"
      },
      "source": [
        "katedra_analyzer_desc = [\n",
        "    {'name': 'member', 'saveMulti': True, 'pattern': r'<a href=\"https://vav.unob.cz/person/index/([0-9]+)\">'}\n",
        "]"
      ],
      "execution_count": null,
      "outputs": []
    },
    {
      "cell_type": "code",
      "metadata": {
        "id": "57dkoLCG34Ni",
        "outputId": "771e140d-0903-41bb-a0d7-48a1dc4bbb41"
      },
      "source": [
        "def fromKatedraHtmlToData(page):\n",
        "    analyza = html_analyze(katedra_analyzer_desc, page)\n",
        "    return analyza['member']\n",
        "\n",
        "print(fromKatedraHtmlToData(readKatedraHtml(114)))"
      ],
      "execution_count": null,
      "outputs": [
        {
          "name": "stdout",
          "output_type": "stream",
          "text": [
            "['235612', '236444', '530841', '235669', '236448', '235665', '235735', '235621', '546297', '532765', '259002', '235657', '543480', '535440', '259133', '544945', '235994', '545808', '235619', '547514', '469041', '547815', '547533', '422395', '547492', '547816', '547291', '547493', '547817', '536479', '545594', '545596', '545597', '548301', '542707', '548115', '545602', '547771', '545614', '545615', '542879', '548137', '542997', '545629', '545608', '543134', '548155', '545655', '548157', '545650', '548159', '548160', '543248', '548164', '545660', '548179', '548038', '548281', '548178', '543566', '543588', '548426', '548194', '548203', '543731', '548210', '543700', '545697', '543703', '547774', '545702', '545703', '548225', '548043', '548227', '548044', '545715', '548247', '548047', '545717', '543929', '548236', '548243', '548252', '544052', '547776', '547775', '547777', '544054', '548048', '545726', '548267', '548271', '545729', '548273', '548276', '544251', '544282', '544302', '545736', '524610', '500029', '501347', '531395', '534678', '1', '235193', '258762', '235703', '235332', '500031', '534169', '375440', '500278', '548130', '523278', '250304', '246286', '531875', '236419', '531866', '236007', '500114', '523280', '437163', '545634', '238865', '531876', '500119', '531860', '453323', '258962', '531861', '249867', '535778', '446301', '484304', '532808', '453324', '531865', '235759', '446375', '543475', '548427', '535444', '535464', '535783', '533108', '248881', '235614', '534157', '235757', '534160', '422397', '535779', '500001', '545699', '543784', '240588', '543819', '237437', '523282', '501340', '535247', '500413', '533292', '240950', '500365', '259210', '238548', '544088', '544236', '531864', '533289', '544104', '500128', '236407', '236376', '544253', '533107', '235931', '532185', '533109', '500129']\n"
          ]
        }
      ]
    },
    {
      "cell_type": "markdown",
      "metadata": {
        "id": "l8mv9Zlu34Nj"
      },
      "source": [
        "### A teď vše dohromady"
      ]
    },
    {
      "cell_type": "markdown",
      "metadata": {
        "id": "cKgi2d3u34Nj"
      },
      "source": [
        "#### Klasický přístup"
      ]
    },
    {
      "cell_type": "code",
      "metadata": {
        "id": "2SA1ApDL34Nj",
        "outputId": "09f8d48d-dd9a-4130-a2c5-55d452e6fa8d"
      },
      "source": [
        "katedry = [114]\n",
        "lide = []\n",
        "for katedraId in katedry:\n",
        "    katedraPage = readKatedraHtml(katedraId)\n",
        "    members = fromKatedraHtmlToData(katedraPage)\n",
        "    for memberId in members:\n",
        "        clovekPage = readPersonHtml(memberId)\n",
        "        clovekData = fromPersonHtmlToData(clovekPage)\n",
        "        lide.append(clovekData)\n",
        "        \n",
        "print(lide[:3])"
      ],
      "execution_count": null,
      "outputs": [
        {
          "name": "stdout",
          "output_type": "stream",
          "text": [
            "[{'vavid': '235994', 'fullname': 'Štefek Alexandr ', 'tituly': 'prof. Dr. Ing.', 'departmentid': '114', 'department': 'K209', 'soucastid': '72', 'soucast': 'FVT', 'uco': '633', 'orcid': '0000-0002-6064-8381', 'typ': 'AP - Akademický pracovník UO                    ', 'p4': '20                    ', 'email': 'alexandr.stefek@unob.cz', 'cizi': '', 'rok': ''}, {'vavid': '235994', 'fullname': 'Štefek Alexandr ', 'tituly': 'prof. Dr. Ing.', 'departmentid': '114', 'department': 'K209', 'soucastid': '72', 'soucast': 'FVT', 'uco': '633', 'orcid': '0000-0002-6064-8381', 'typ': 'AP - Akademický pracovník UO                    ', 'p4': '20                    ', 'email': 'alexandr.stefek@unob.cz', 'cizi': '', 'rok': ''}, {'vavid': '235994', 'fullname': 'Štefek Alexandr ', 'tituly': 'prof. Dr. Ing.', 'departmentid': '114', 'department': 'K209', 'soucastid': '72', 'soucast': 'FVT', 'uco': '633', 'orcid': '0000-0002-6064-8381', 'typ': 'AP - Akademický pracovník UO                    ', 'p4': '20                    ', 'email': 'alexandr.stefek@unob.cz', 'cizi': '', 'rok': ''}]\n"
          ]
        }
      ]
    },
    {
      "cell_type": "markdown",
      "metadata": {
        "id": "b4TPrqiQ34Nk"
      },
      "source": [
        "#### Využití generátorů"
      ]
    },
    {
      "cell_type": "markdown",
      "metadata": {
        "id": "u1UH1RRB34Nk"
      },
      "source": [
        "Funkce (funkcionál), která z obyčejné funkce (item->item) udělá funkci pracující nad datovými toky (generator->generator)"
      ]
    },
    {
      "cell_type": "code",
      "metadata": {
        "id": "K1HEIiSA34Nk"
      },
      "source": [
        "def pipeit(func):\n",
        "    def pipetedFunc(dataStream):\n",
        "        for item in dataStream:\n",
        "            yield func(item)\n",
        "    return pipetedFunc"
      ],
      "execution_count": null,
      "outputs": []
    },
    {
      "cell_type": "markdown",
      "metadata": {
        "id": "C5anO4Zs34Nl"
      },
      "source": [
        "Někdy výstup může být listem a ten chceme integrovat do datového toku"
      ]
    },
    {
      "cell_type": "code",
      "metadata": {
        "id": "rJO7aLtN34Nl"
      },
      "source": [
        "def dropList(func):\n",
        "    def accepted(dataStream):\n",
        "        for item in func(dataStream):\n",
        "            for itemList in item:\n",
        "                yield itemList\n",
        "    return accepted"
      ],
      "execution_count": null,
      "outputs": []
    },
    {
      "cell_type": "markdown",
      "metadata": {
        "id": "beRL0beG34Nn"
      },
      "source": [
        "A toto je funkce, která \"redukuje\" funkce (viz reduce v Python). Tato funkce vezme seznam funkcí a udělá z nich kompozici."
      ]
    },
    {
      "cell_type": "code",
      "metadata": {
        "id": "xZ8maQoA34Nn"
      },
      "source": [
        "def joinFuncs(*funcs):\n",
        "    def joinedFunc(dataStream):\n",
        "        result = dataStream\n",
        "        for func in funcs:\n",
        "            result = func(result)\n",
        "        return result\n",
        "    return joinedFunc"
      ],
      "execution_count": null,
      "outputs": []
    },
    {
      "cell_type": "markdown",
      "metadata": {
        "id": "o5RKhPno34No"
      },
      "source": [
        "**Praktická aplikace** - konverze obyčejných funkcí"
      ]
    },
    {
      "cell_type": "code",
      "metadata": {
        "id": "BKQcnLH_34Np"
      },
      "source": [
        "katedraHTMLStreamFunc = pipeit(readKatedraHtml)\n",
        "fromKatedraHtmlToDataStreamFunc = dropList(pipeit(fromKatedraHtmlToData))\n",
        "readPersonHtmlStreamFunc = pipeit(readPersonHtml)\n",
        "fromPersonHtmlToDataStreamFunc = pipeit(fromPersonHtmlToData)"
      ],
      "execution_count": null,
      "outputs": []
    },
    {
      "cell_type": "markdown",
      "metadata": {
        "id": "6nj41NVd34Nq"
      },
      "source": [
        "**Praktická aplikace** - kompozice funkcí"
      ]
    },
    {
      "cell_type": "code",
      "metadata": {
        "id": "_1MmAx4I34Nr"
      },
      "source": [
        "allFuncsTogether = joinFuncs(\n",
        "    katedraHTMLStreamFunc,\n",
        "    fromKatedraHtmlToDataStreamFunc,\n",
        "    readPersonHtmlStreamFunc,\n",
        "    fromPersonHtmlToDataStreamFunc\n",
        ")"
      ],
      "execution_count": null,
      "outputs": []
    },
    {
      "cell_type": "markdown",
      "metadata": {
        "id": "EmlWn64034Ns"
      },
      "source": [
        "**Praktická aplikace** - spuštění kódu\n",
        "\n",
        "> **Otázka**\n",
        ">\n",
        "> Jak probíhá realizace kódu?\n",
        ">\n",
        "> Identifikujte rozdíly od implementace o pár odstavců výše"
      ]
    },
    {
      "cell_type": "code",
      "metadata": {
        "id": "W36GD9Xm34Nt",
        "outputId": "9707ad15-1cbe-4422-d576-b3337fc18ffe"
      },
      "source": [
        "inputDataStream = [114]\n",
        "outputDataStream = allFuncsTogether(inputDataStream)\n",
        "for index, item in enumerate(outputDataStream):\n",
        "    print(index, item)\n",
        "    if index > 4:\n",
        "        break"
      ],
      "execution_count": null,
      "outputs": [
        {
          "name": "stdout",
          "output_type": "stream",
          "text": [
            "0 {'vavid': '235994', 'fullname': 'Štefek Alexandr ', 'tituly': 'prof. Dr. Ing.', 'departmentid': '114', 'department': 'K209', 'soucastid': '72', 'soucast': 'FVT', 'uco': '633', 'orcid': '0000-0002-6064-8381', 'typ': 'AP - Akademický pracovník UO                    ', 'p4': '20                    ', 'email': 'alexandr.stefek@unob.cz', 'cizi': '', 'rok': ''}\n",
            "1 {'vavid': '235994', 'fullname': 'Štefek Alexandr ', 'tituly': 'prof. Dr. Ing.', 'departmentid': '114', 'department': 'K209', 'soucastid': '72', 'soucast': 'FVT', 'uco': '633', 'orcid': '0000-0002-6064-8381', 'typ': 'AP - Akademický pracovník UO                    ', 'p4': '20                    ', 'email': 'alexandr.stefek@unob.cz', 'cizi': '', 'rok': ''}\n",
            "2 {'vavid': '235994', 'fullname': 'Štefek Alexandr ', 'tituly': 'prof. Dr. Ing.', 'departmentid': '114', 'department': 'K209', 'soucastid': '72', 'soucast': 'FVT', 'uco': '633', 'orcid': '0000-0002-6064-8381', 'typ': 'AP - Akademický pracovník UO                    ', 'p4': '20                    ', 'email': 'alexandr.stefek@unob.cz', 'cizi': '', 'rok': ''}\n",
            "3 {'vavid': '235994', 'fullname': 'Štefek Alexandr ', 'tituly': 'prof. Dr. Ing.', 'departmentid': '114', 'department': 'K209', 'soucastid': '72', 'soucast': 'FVT', 'uco': '633', 'orcid': '0000-0002-6064-8381', 'typ': 'AP - Akademický pracovník UO                    ', 'p4': '20                    ', 'email': 'alexandr.stefek@unob.cz', 'cizi': '', 'rok': ''}\n",
            "4 {'vavid': '235994', 'fullname': 'Štefek Alexandr ', 'tituly': 'prof. Dr. Ing.', 'departmentid': '114', 'department': 'K209', 'soucastid': '72', 'soucast': 'FVT', 'uco': '633', 'orcid': '0000-0002-6064-8381', 'typ': 'AP - Akademický pracovník UO                    ', 'p4': '20                    ', 'email': 'alexandr.stefek@unob.cz', 'cizi': '', 'rok': ''}\n",
            "5 {'vavid': '235994', 'fullname': 'Štefek Alexandr ', 'tituly': 'prof. Dr. Ing.', 'departmentid': '114', 'department': 'K209', 'soucastid': '72', 'soucast': 'FVT', 'uco': '633', 'orcid': '0000-0002-6064-8381', 'typ': 'AP - Akademický pracovník UO                    ', 'p4': '20                    ', 'email': 'alexandr.stefek@unob.cz', 'cizi': '', 'rok': ''}\n"
          ]
        }
      ]
    },
    {
      "cell_type": "code",
      "metadata": {
        "id": "cxAx7wgN34Nu"
      },
      "source": [
        ""
      ],
      "execution_count": null,
      "outputs": []
    },
    {
      "cell_type": "markdown",
      "metadata": {
        "id": "FQAL29GD3-UK"
      },
      "source": [
        "# Příklady k procvičení"
      ]
    },
    {
      "cell_type": "markdown",
      "metadata": {
        "id": "1AHZMlXp4B1r"
      },
      "source": [
        "> **Příklad**\n",
        "> \n",
        "> Rozdělte zadaný text do bloků podle tagu `div`"
      ]
    },
    {
      "cell_type": "code",
      "metadata": {
        "id": "V4ntQsRY4LEH"
      },
      "source": [
        "inputData = \"\"\"\n",
        "<div id=\"11211\" fullid=\"11211\" class=\"card border-secondary mt-2 mb-1 card-hover-primary \">\n",
        "  <a href=\"#11211\"></a>\n",
        "  <div class=\"card-header\">\n",
        "    <div class=\"row\">\n",
        "      <label class=\"col text-secondary\">Metody identifikace T buněčných epitopů</label>\n",
        "        <div class=\"col-auto ml-auto\">\n",
        "\"\"\""
      ],
      "execution_count": 3,
      "outputs": []
    },
    {
      "cell_type": "markdown",
      "metadata": {
        "id": "PMBgrvOu4jUq"
      },
      "source": [
        "> **Řešení**"
      ]
    },
    {
      "cell_type": "code",
      "metadata": {
        "cellView": "form",
        "id": "m-Qs13eV4mbG",
        "outputId": "9b99542f-35b2-4411-dc4c-91400882bf66",
        "colab": {
          "base_uri": "https://localhost:8080/"
        }
      },
      "source": [
        "#@title\n",
        "resultData = inputData.split('<div')\n",
        "for item in resultData:\n",
        "    print(item)\n",
        "    print('-'*30)"
      ],
      "execution_count": 6,
      "outputs": [
        {
          "output_type": "stream",
          "name": "stdout",
          "text": [
            "\n",
            "\n",
            "------------------------------\n",
            " id=\"11211\" fullid=\"11211\" class=\"card border-secondary mt-2 mb-1 card-hover-primary \">\n",
            "  <a href=\"#11211\"></a>\n",
            "  \n",
            "------------------------------\n",
            " class=\"card-header\">\n",
            "    \n",
            "------------------------------\n",
            " class=\"row\">\n",
            "      <label class=\"col text-secondary\">Metody identifikace T buněčných epitopů</label>\n",
            "        \n",
            "------------------------------\n",
            " class=\"col-auto ml-auto\">\n",
            "\n",
            "------------------------------\n"
          ]
        }
      ]
    },
    {
      "cell_type": "markdown",
      "metadata": {
        "id": "jyq_flJM5PPl"
      },
      "source": [
        "> **Příklad**\n",
        ">\n",
        "> Určete regulární výrazy schopné vyčíst data z následujícího textu"
      ]
    },
    {
      "cell_type": "code",
      "metadata": {
        "id": "MQWgjQl244VL"
      },
      "source": [
        "inputData = \"\"\"\n",
        "      <div class=\"row\">\n",
        "        <div class=\"col-1\">\n",
        "          <label class=\"text-maroon\" for=\"TemaList_item_Poradi\">Pořadí</label>\n",
        "          <div class=\"uo-form-control\">2</div>\n",
        "        </div>\n",
        "        <div class=\"col-1\">\n",
        "          <label class=\"text-maroon\" for=\"TemaList_item_CelkemHodin\">Celkem hodin</label>\n",
        "          <div class=\"uo-form-control CelkemHodinZaTema\">4</div>\n",
        "        </div>\n",
        "        <div class=\"col\">\n",
        "          <label class=\"text-maroon\" for=\"TemaList_item_NazevEn\">Název (en)</label>\n",
        "          <div class=\"uo-form-control\"></div>\n",
        "        </div>\n",
        "        <div class=\"col\">\n",
        "          <label class=\"text-maroon\" for=\"TemaList_item_Katedra\">Katedra</label>\n",
        "          <div class=\"uo-form-control\">Katedra molekulární patologie a biologie</div>\n",
        "        </div>\n",
        "      </div>\n",
        "\"\"\""
      ],
      "execution_count": 7,
      "outputs": []
    },
    {
      "cell_type": "markdown",
      "metadata": {
        "id": "ifkfQOXU5gDJ"
      },
      "source": [
        "> **Řešení (možné)**"
      ]
    },
    {
      "cell_type": "code",
      "metadata": {
        "cellView": "form",
        "id": "ySAzmyaG5mmB",
        "outputId": "1948bc50-0956-4724-8d78-d80695429046",
        "colab": {
          "base_uri": "https://localhost:8080/"
        }
      },
      "source": [
        "#@title\n",
        "import re\n",
        "pattern = 'for=\"TemaList_item_Poradi\"[^<]+<[^<]+<[^>]+>([^<]+)'\n",
        "resultData = re.findall(pattern, inputData)\n",
        "print(resultData)"
      ],
      "execution_count": 12,
      "outputs": [
        {
          "output_type": "stream",
          "name": "stdout",
          "text": [
            "['2']\n"
          ]
        }
      ]
    },
    {
      "cell_type": "markdown",
      "metadata": {
        "id": "H30uixQE5hea"
      },
      "source": [
        "> **Příklad**\n",
        ">\n",
        "> Zobecněte výše uvedená způsobem, který umožňuje aplikaci na libovolný prvek dat"
      ]
    },
    {
      "cell_type": "code",
      "metadata": {
        "id": "u-a_9wWa6e8V"
      },
      "source": [
        "inputData = \"\"\"\n",
        "      <div class=\"row\">\n",
        "        <div class=\"col-1\">\n",
        "          <label class=\"text-maroon\" for=\"TemaList_item_Poradi\">Pořadí</label>\n",
        "          <div class=\"uo-form-control\">2</div>\n",
        "        </div>\n",
        "        <div class=\"col-1\">\n",
        "          <label class=\"text-maroon\" for=\"TemaList_item_CelkemHodin\">Celkem hodin</label>\n",
        "          <div class=\"uo-form-control CelkemHodinZaTema\">4</div>\n",
        "        </div>\n",
        "        <div class=\"col\">\n",
        "          <label class=\"text-maroon\" for=\"TemaList_item_NazevEn\">Název (en)</label>\n",
        "          <div class=\"uo-form-control\"></div>\n",
        "        </div>\n",
        "        <div class=\"col\">\n",
        "          <label class=\"text-maroon\" for=\"TemaList_item_Katedra\">Katedra</label>\n",
        "          <div class=\"uo-form-control\">Katedra patologie</div>\n",
        "        </div>\n",
        "      </div>\n",
        "\"\"\""
      ],
      "execution_count": 13,
      "outputs": []
    },
    {
      "cell_type": "markdown",
      "metadata": {
        "id": "dC227Px56gS5"
      },
      "source": [
        "> **Řešení (možné)**"
      ]
    },
    {
      "cell_type": "code",
      "metadata": {
        "cellView": "form",
        "id": "EqZp5HLO6itT",
        "outputId": "02bc20a7-d0be-42df-8a37-43480ebdc350",
        "colab": {
          "base_uri": "https://localhost:8080/"
        }
      },
      "source": [
        "#@title\n",
        "import re\n",
        "def createPattern(dataName):\n",
        "    return f'for=\"{dataName}\"[^<]+<[^<]+<[^>]+>([^<]+)'\n",
        "\n",
        "def fillData(prefilledStructure, inputText):\n",
        "    resultData = {**prefilledStructure}\n",
        "    for key in resultData.keys():\n",
        "        pattern = createPattern(key)\n",
        "        resultData[key] = re.findall(pattern, inputText)\n",
        "    return resultData\n",
        "\n",
        "prefilledStructure = {\n",
        "    'TemaList_item_Poradi': None,\n",
        "    'TemaList_item_CelkemHodin': None,\n",
        "    'TemaList_item_NazevEn': None,\n",
        "    'TemaList_item_Katedra': None\n",
        "    }\n",
        "resultData = fillData(prefilledStructure, inputData)\n",
        "print(resultData)"
      ],
      "execution_count": 16,
      "outputs": [
        {
          "output_type": "stream",
          "name": "stdout",
          "text": [
            "{'TemaList_item_Poradi': ['2'], 'TemaList_item_CelkemHodin': ['4'], 'TemaList_item_NazevEn': [], 'TemaList_item_Katedra': ['Katedra patologie']}\n"
          ]
        }
      ]
    },
    {
      "cell_type": "code",
      "metadata": {
        "id": "2FoVCB707mY5"
      },
      "source": [
        ""
      ],
      "execution_count": null,
      "outputs": []
    }
  ]
}