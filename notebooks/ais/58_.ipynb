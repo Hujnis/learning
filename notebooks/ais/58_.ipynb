{
 "cells": [
  {
   "cell_type": "markdown",
   "id": "aa73f6d8-8891-407e-bd58-ab308cb7bbd5",
   "metadata": {},
   "source": [
    "# (Py)Torch"
   ]
  },
  {
   "cell_type": "markdown",
   "id": "c431f914-4bc6-4b1f-9244-63adc1359bce",
   "metadata": {},
   "source": [
    "Vytvořeno na základě\n",
    "\n",
    "https://github.com/jeffheaton/app_deep_learning/blob/main/t81_558_class_03_2_pytorch.ipynb"
   ]
  },
  {
   "cell_type": "markdown",
   "id": "0c5c4f0c-f284-4d6b-99e9-ceed3914efdb",
   "metadata": {},
   "source": [
    "Torch je knihovna, která umožňuje optimalizovat výpočty spojené především s neuronovými sítěmi.\n",
    "Protože součástí těchto výpočtů jsou vektorové a maticové operace, lze tuto knihovnu využít i pro řešení úloh lineární algebry.\n",
    "\n",
    "Torch může využít jako procesorového výkonu, tak výkonu dostupného na grafické kartě.\n"
   ]
  },
  {
   "cell_type": "code",
   "execution_count": 1,
   "id": "b08e3323-13e1-462e-9bfb-b2df989f6903",
   "metadata": {},
   "outputs": [
    {
     "name": "stdout",
     "output_type": "stream",
     "text": [
      "Using device: cpu\n"
     ]
    }
   ],
   "source": [
    "import torch\n",
    "\n",
    "# Make use of a GPU or MPS (Apple) if one is available.\n",
    "device = (\n",
    "    \"mps\"\n",
    "    if getattr(torch, \"has_mps\", False)\n",
    "    else \"cuda\"\n",
    "    if torch.cuda.is_available()\n",
    "    else \"cpu\"\n",
    ")\n",
    "print(f\"Using device: {device}\")"
   ]
  },
  {
   "cell_type": "markdown",
   "id": "d13292f6-ea9b-44d9-8412-7a88bc6b262e",
   "metadata": {},
   "source": [
    "## Lineární algebra "
   ]
  },
  {
   "cell_type": "markdown",
   "id": "1fcb651e-c637-4e21-9063-fce158e22874",
   "metadata": {},
   "source": [
    "Jak bylo uvedeno výše, lze knihovnu torch využít na výpočty v lineární algebře.\n",
    "\n",
    "Níže je uveden kód, který vytvoří matice a vypočítá jejich součin. \n",
    "Všimněte si konstruktoru matic a nepovinného parametru device.\n",
    "S jeho pomocí je možné určit, kde výpočet probíhá (pokud máte k dispozici podporovanou grafickou kartu)."
   ]
  },
  {
   "cell_type": "code",
   "execution_count": 2,
   "id": "a080f246-1f3f-424b-93d0-0d063d5205bf",
   "metadata": {},
   "outputs": [
    {
     "name": "stdout",
     "output_type": "stream",
     "text": [
      "tensor([[12.]])\n",
      "12.0\n"
     ]
    }
   ],
   "source": [
    "# Create a Constant op that produces a 1x2 matrix.  The op is\n",
    "# added as a node to the default graph.\n",
    "#\n",
    "# The value returned by the constructor represents the output\n",
    "# of the Constant op.\n",
    "matrix1 = torch.tensor([[3.0, 3.0]], device=device)\n",
    "\n",
    "# Create another Constant that produces a 2x1 matrix.\n",
    "matrix2 = torch.tensor([[2.0], [2.0]], device=device)\n",
    "\n",
    "# Create a Matmul op that takes 'matrix1' and 'matrix2' as inputs.\n",
    "# The returned value, 'product', represents the result of the matrix\n",
    "# multiplication.\n",
    "product = torch.mm(matrix1, matrix2)\n",
    "\n",
    "print(product)\n",
    "print(float(product))"
   ]
  },
  {
   "cell_type": "markdown",
   "id": "07f27c9e-05b9-49ae-8217-5c59c495973c",
   "metadata": {},
   "source": [
    "Obdobně lze ralizovat další operace, jako je např. odečítání."
   ]
  },
  {
   "cell_type": "code",
   "execution_count": 3,
   "id": "e61177f1-1548-44b4-86b9-7537f0314b55",
   "metadata": {},
   "outputs": [
    {
     "name": "stdout",
     "output_type": "stream",
     "text": [
      "tensor([-2., -1.])\n",
      "[-2. -1.]\n"
     ]
    }
   ],
   "source": [
    "x = torch.tensor([1.0, 2.0], device=device)\n",
    "a = torch.tensor([3.0, 3.0], device=device)\n",
    "\n",
    "# Add an op to subtract 'a' from 'x'.  Run it and print the result\n",
    "sub = torch.subtract(x, a)\n",
    "print(sub)\n",
    "# Use cpu() in case tensor was on GPU.\n",
    "print(sub.cpu().numpy())\n",
    "# ==> [-2. -1.]"
   ]
  },
  {
   "cell_type": "code",
   "execution_count": null,
   "id": "4c37981f-5a8d-450d-81ac-bf8e67207c33",
   "metadata": {},
   "outputs": [],
   "source": []
  },
  {
   "cell_type": "code",
   "execution_count": 4,
   "id": "35232a81-9e7d-4208-85fb-1af7489edb80",
   "metadata": {},
   "outputs": [],
   "source": [
    "x[0] = 4.0\n",
    "x[1] = 6.0"
   ]
  },
  {
   "cell_type": "code",
   "execution_count": null,
   "id": "07d63f7c-11fa-4289-bc07-49f9e9e13fe3",
   "metadata": {},
   "outputs": [],
   "source": []
  },
  {
   "cell_type": "code",
   "execution_count": 5,
   "id": "95343e5a-a576-4387-b6be-eebb8f17bd39",
   "metadata": {},
   "outputs": [
    {
     "name": "stdout",
     "output_type": "stream",
     "text": [
      "tensor([1., 3.])\n",
      "[1. 3.]\n"
     ]
    }
   ],
   "source": [
    "sub = torch.subtract(x, a)\n",
    "print(sub)\n",
    "print(sub.cpu().numpy())"
   ]
  },
  {
   "cell_type": "markdown",
   "id": "2b5b9f0c-435e-4747-91d7-ba0cb72172a6",
   "metadata": {},
   "source": [
    "## Mandelbrotovy množiny"
   ]
  },
  {
   "cell_type": "markdown",
   "id": "9ee28be3-d3ba-4b49-9131-1f3ceaeb91c9",
   "metadata": {},
   "source": [
    "Příklad, který demonstruje využití torch jako knihovny pro rychlé (paralelní) výpočty."
   ]
  },
  {
   "cell_type": "code",
   "execution_count": 6,
   "id": "df1e3ba5-4c6a-47d9-9a4a-5412cacac6ec",
   "metadata": {},
   "outputs": [],
   "source": [
    "from io import BytesIO\n",
    "\n",
    "import numpy as np\n",
    "import PIL.Image\n",
    "from IPython.display import Image\n",
    "\n",
    "\n",
    "# Take a NumPy array and render it as a Mandelbrot.\n",
    "def render(a):\n",
    "    a_cyclic = (a * 0.3).reshape(list(a.shape) + [1])\n",
    "    img = np.concatenate(\n",
    "        [\n",
    "            10 + 20 * np.cos(a_cyclic),\n",
    "            30 + 50 * np.sin(a_cyclic),\n",
    "            155 - 80 * np.cos(a_cyclic),\n",
    "        ],\n",
    "        2,\n",
    "    )\n",
    "    img[a == a.max()] = 0\n",
    "    a = img\n",
    "    a = np.uint8(np.clip(a, 0, 255))\n",
    "    f = BytesIO()\n",
    "    return PIL.Image.fromarray(a)\n",
    "\n",
    "\n",
    "# Loop through the render cycles for. Mandlebrot plot.\n",
    "def mandelbrot_helper(grid_c, current_values, counts, cycles):\n",
    "    for i in range(cycles):\n",
    "        # The Mandlebrot formula\n",
    "        temp = current_values * current_values + grid_c\n",
    "        not_diverged = torch.abs(temp) < 4\n",
    "        current_values.copy_(temp)\n",
    "        counts.copy_(torch.add(counts, not_diverged.double()))\n",
    "\n",
    "\n",
    "# Render a Mandelbrot plot at the specified location, zoom, and render cycles.\n",
    "def mandelbrot(render_size, center, zoom, cycles):\n",
    "    f = zoom / render_size[0]\n",
    "\n",
    "    real_start = center[1] - (render_size[1] / 2) * f\n",
    "    real_end = real_start + render_size[1] * f\n",
    "    imag_start = center[0] - (render_size[0] / 2) * f\n",
    "    imag_end = imag_start + render_size[0] * f\n",
    "\n",
    "    real_range = torch.arange(\n",
    "        real_start, real_end, f, dtype=torch.float32, device=device\n",
    "    )\n",
    "    imag_range = torch.arange(\n",
    "        imag_start, imag_end, f, dtype=torch.float32, device=device\n",
    "    )\n",
    "    real, imag = torch.meshgrid(real_range, imag_range, indexing=\"ij\")\n",
    "    grid_c = torch.complex(imag, real)\n",
    "    current_values = torch.clone(grid_c)\n",
    "    counts = torch.Tensor(torch.zeros_like(grid_c, dtype=torch.float32))\n",
    "\n",
    "    mandelbrot_helper(grid_c, current_values, counts, cycles)\n",
    "    return counts.cpu().numpy()"
   ]
  },
  {
   "cell_type": "markdown",
   "id": "0cd38514-c8f2-436b-88f7-cece0585795e",
   "metadata": {},
   "source": [
    "Využití připravených utilit."
   ]
  },
  {
   "cell_type": "code",
   "execution_count": 7,
   "id": "7a0941b1-9bae-4814-a6c8-42121918bf62",
   "metadata": {},
   "outputs": [
    {
     "name": "stdout",
     "output_type": "stream",
     "text": [
      "(640, 480)\n"
     ]
    },
    {
     "data": {
      "image/png": "[encoded data removed]",
      "text/plain": [
       "<PIL.Image.Image image mode=RGB size=640x480>"
      ]
     },
     "execution_count": 7,
     "metadata": {},
     "output_type": "execute_result"
    }
   ],
   "source": [
    "import os\n",
    "\n",
    "# Pytorch does not currently support complex numbers on MPS\n",
    "temp_device = device\n",
    "if device == \"mps\":\n",
    "    device = \"cpu\"\n",
    "\n",
    "counts = mandelbrot(\n",
    "    # render_size=(1920,1080), # HD\n",
    "    render_size=(640, 480),\n",
    "    center=(-0.5, 0),\n",
    "    zoom=4,\n",
    "    cycles=200,\n",
    ")\n",
    "\n",
    "img = render(counts)\n",
    "print(img.size)\n",
    "\n",
    "# restore device\n",
    "device = temp_device\n",
    "\n",
    "# display image\n",
    "img"
   ]
  },
  {
   "cell_type": "markdown",
   "id": "cf470ffa-3121-4b43-a7a4-114bc70432e6",
   "metadata": {},
   "source": [
    "## Jednoduchá NN "
   ]
  },
  {
   "cell_type": "code",
   "execution_count": null,
   "id": "c5b5b0fe-3b54-46a4-b146-731feed866ec",
   "metadata": {},
   "outputs": [],
   "source": []
  },
  {
   "cell_type": "markdown",
   "id": "8e940479-7adb-4f66-9689-be8d29d26b33",
   "metadata": {},
   "source": [
    "### Raw (surová data)"
   ]
  },
  {
   "cell_type": "code",
   "execution_count": 8,
   "id": "2e5966c2-d8ec-45fe-80ea-3352f2eaa690",
   "metadata": {},
   "outputs": [
    {
     "name": "stdout",
     "output_type": "stream",
     "text": [
      "18.0   8   307.0      130.0      3504.      12.0   70  1\t\"chevrolet chevelle malibu\"\n",
      "15.0   8   350.0      165.0      3693.      11.5   70  1\t\"buick skylark 320\"\n",
      "18.0   8   318.0      150.0      3436.      11.0   70  1\t\"plymouth satellite\"\n",
      "16.0   8   304.0      150.0      3433.      12.0   70  1\t\"amc rebel sst\"\n",
      "17.0   8   302.0      140.0      3449.      10.5   70  1\t\"ford torino\"\n",
      "15.0   8   429.0      198.0      4341.      10.0   70  1\t\"ford galaxie 500\"\n",
      "14.0   8   454.0      220.0      4354.       9.0   70  1\t\"chevrolet impala\"\n",
      "14.0   8   440.0      215.0      4312.       8.5   70  1\t\"plymouth fury iii\"\n",
      "14.0   8   455.0      225.0      4425.      10.0   70  1\t\"pontiac catalina\"\n",
      "15.0   8   390.0      190.0      3850.       8.5   70  1\t\"amc ambassador dpl\"\n",
      "15.0   8   383.0      170.0      3563.      10.0   70  1\t\"dodge challenger se\"\n",
      "14.0   8   340.0      160.0      3609.       8.0   70  1\t\"plymouth 'cuda 340\"\n",
      "15.0   8   400.0      150.0      3761.       9.5   70  1\t\"chevrolet monte ca\n"
     ]
    }
   ],
   "source": [
    "import aiohttp\n",
    "url = \"https://archive.ics.uci.edu/ml/machine-learning-databases/auto-mpg/auto-mpg.data\"\n",
    "\n",
    "async with aiohttp.ClientSession() as session:\n",
    "    async with session.get(url) as resp:\n",
    "        # print(resp.status)\n",
    "        textresponse = await resp.text()\n",
    "print(textresponse[:1000])"
   ]
  },
  {
   "cell_type": "markdown",
   "id": "65f67abf-2434-4ec3-8154-639df2ea4751",
   "metadata": {},
   "source": [
    "### Reformat"
   ]
  },
  {
   "cell_type": "code",
   "execution_count": 9,
   "id": "49585686-a352-4e17-8fc9-988ccc23f37c",
   "metadata": {},
   "outputs": [
    {
     "name": "stdout",
     "output_type": "stream",
     "text": [
      "18.0 8 307.0 130.0 3504. 12.0 70 1 \"chevrolet chevelle malibu\"\n",
      "15.0 8 350.0 165.0 3693. 11.5 70 1 \"buick skylark 320\"\n",
      "18.0 8 318.0 150.0 3436. 11.0 70 1 \"plymouth satellite\"\n",
      "16.0 8 304.0 150.0 3433. 12.0 70 1 \"amc rebel sst\"\n",
      "17.0 8 302.0 140.0 3449. 10.5 70 1 \"ford torino\"\n",
      "15.0 8 429.0 198.0 4341. 10.0 70 1 \"ford galaxie 500\"\n",
      "14.0 8 454.0 220.0 4354. 9.0 70 1 \"chevrolet impala\"\n",
      "14.0 8 440.0 215.0 4312. 8.5 70 1 \"plymouth fury iii\"\n",
      "14.0 8 455.0 225.0 4425. 10.0 70 1 \"pontiac catalina\"\n",
      "15.0 8 390.0 190.0 3850. 8.5 70 1 \"amc ambassador dpl\"\n",
      "15.0 8 383.0 170.0 3563. 10.0 70 1 \"dodge challenger se\"\n",
      "14.0 8 340.0 160.0 3609. 8.0 70 1 \"plymouth 'cuda 340\"\n",
      "15.0 8 400.0 150.0 3761. 9.5 70 1 \"chevrolet monte carlo\"\n",
      "14.0 8 455.0 225.0 3086. 10.0 70 1 \"buick estate wagon (sw)\"\n",
      "24.0 4 113.0 95.00 2372. 15.0 70 3 \"toyota corona mark ii\"\n",
      "22.0 6 198.0 95.00 2833. 15.5 70 1 \"plymouth duster\"\n",
      "18.0 6 199.0 97.00 2774. 15.5 70 1 \"amc hornet\"\n",
      "21.0 6 200.0 85.00 2587. 16.0 70 1 \"ford maverick\"\n",
      "27.0 4 97.00 8\n"
     ]
    }
   ],
   "source": [
    "import re\n",
    "textresponse = re.sub(' +', ' ', textresponse)\n",
    "textresponse = re.sub('\\t', ' ', textresponse)\n",
    "print(textresponse[:1000])"
   ]
  },
  {
   "cell_type": "markdown",
   "id": "4ae82b3f-1144-4ab3-8ffd-5d2a549dcb60",
   "metadata": {},
   "source": [
    "### Načtení do Pandas"
   ]
  },
  {
   "cell_type": "code",
   "execution_count": 12,
   "id": "6b5bd1c9-93d1-4bd8-86cd-212d443d6b86",
   "metadata": {},
   "outputs": [
    {
     "data": {
      "text/html": [
       "<div>\n",
       "<style scoped>\n",
       "    .dataframe tbody tr th:only-of-type {\n",
       "        vertical-align: middle;\n",
       "    }\n",
       "\n",
       "    .dataframe tbody tr th {\n",
       "        vertical-align: top;\n",
       "    }\n",
       "\n",
       "    .dataframe thead th {\n",
       "        text-align: right;\n",
       "    }\n",
       "</style>\n",
       "<table border=\"1\" class=\"dataframe\">\n",
       "  <thead>\n",
       "    <tr style=\"text-align: right;\">\n",
       "      <th></th>\n",
       "      <th>mpg</th>\n",
       "      <th>cylinders</th>\n",
       "      <th>displacement</th>\n",
       "      <th>...</th>\n",
       "      <th>year</th>\n",
       "      <th>origin</th>\n",
       "      <th>name</th>\n",
       "    </tr>\n",
       "  </thead>\n",
       "  <tbody>\n",
       "    <tr>\n",
       "      <th>0</th>\n",
       "      <td>18.0</td>\n",
       "      <td>8</td>\n",
       "      <td>307.0</td>\n",
       "      <td>...</td>\n",
       "      <td>70</td>\n",
       "      <td>1</td>\n",
       "      <td>chevrolet chevelle malibu</td>\n",
       "    </tr>\n",
       "    <tr>\n",
       "      <th>1</th>\n",
       "      <td>15.0</td>\n",
       "      <td>8</td>\n",
       "      <td>350.0</td>\n",
       "      <td>...</td>\n",
       "      <td>70</td>\n",
       "      <td>1</td>\n",
       "      <td>buick skylark 320</td>\n",
       "    </tr>\n",
       "    <tr>\n",
       "      <th>2</th>\n",
       "      <td>18.0</td>\n",
       "      <td>8</td>\n",
       "      <td>318.0</td>\n",
       "      <td>...</td>\n",
       "      <td>70</td>\n",
       "      <td>1</td>\n",
       "      <td>plymouth satellite</td>\n",
       "    </tr>\n",
       "    <tr>\n",
       "      <th>3</th>\n",
       "      <td>16.0</td>\n",
       "      <td>8</td>\n",
       "      <td>304.0</td>\n",
       "      <td>...</td>\n",
       "      <td>70</td>\n",
       "      <td>1</td>\n",
       "      <td>amc rebel sst</td>\n",
       "    </tr>\n",
       "    <tr>\n",
       "      <th>4</th>\n",
       "      <td>17.0</td>\n",
       "      <td>8</td>\n",
       "      <td>302.0</td>\n",
       "      <td>...</td>\n",
       "      <td>70</td>\n",
       "      <td>1</td>\n",
       "      <td>ford torino</td>\n",
       "    </tr>\n",
       "    <tr>\n",
       "      <th>...</th>\n",
       "      <td>...</td>\n",
       "      <td>...</td>\n",
       "      <td>...</td>\n",
       "      <td>...</td>\n",
       "      <td>...</td>\n",
       "      <td>...</td>\n",
       "      <td>...</td>\n",
       "    </tr>\n",
       "    <tr>\n",
       "      <th>393</th>\n",
       "      <td>27.0</td>\n",
       "      <td>4</td>\n",
       "      <td>140.0</td>\n",
       "      <td>...</td>\n",
       "      <td>82</td>\n",
       "      <td>1</td>\n",
       "      <td>ford mustang gl</td>\n",
       "    </tr>\n",
       "    <tr>\n",
       "      <th>394</th>\n",
       "      <td>44.0</td>\n",
       "      <td>4</td>\n",
       "      <td>97.0</td>\n",
       "      <td>...</td>\n",
       "      <td>82</td>\n",
       "      <td>2</td>\n",
       "      <td>vw pickup</td>\n",
       "    </tr>\n",
       "    <tr>\n",
       "      <th>395</th>\n",
       "      <td>32.0</td>\n",
       "      <td>4</td>\n",
       "      <td>135.0</td>\n",
       "      <td>...</td>\n",
       "      <td>82</td>\n",
       "      <td>1</td>\n",
       "      <td>dodge rampage</td>\n",
       "    </tr>\n",
       "    <tr>\n",
       "      <th>396</th>\n",
       "      <td>28.0</td>\n",
       "      <td>4</td>\n",
       "      <td>120.0</td>\n",
       "      <td>...</td>\n",
       "      <td>82</td>\n",
       "      <td>1</td>\n",
       "      <td>ford ranger</td>\n",
       "    </tr>\n",
       "    <tr>\n",
       "      <th>397</th>\n",
       "      <td>31.0</td>\n",
       "      <td>4</td>\n",
       "      <td>119.0</td>\n",
       "      <td>...</td>\n",
       "      <td>82</td>\n",
       "      <td>1</td>\n",
       "      <td>chevy s-10</td>\n",
       "    </tr>\n",
       "  </tbody>\n",
       "</table>\n",
       "<p>398 rows × 9 columns</p>\n",
       "</div>"
      ],
      "text/plain": [
       "      mpg  cylinders  displacement  ...  year  origin  \\\n",
       "0    18.0          8         307.0  ...    70       1   \n",
       "1    15.0          8         350.0  ...    70       1   \n",
       "2    18.0          8         318.0  ...    70       1   \n",
       "3    16.0          8         304.0  ...    70       1   \n",
       "4    17.0          8         302.0  ...    70       1   \n",
       "..    ...        ...           ...  ...   ...     ...   \n",
       "393  27.0          4         140.0  ...    82       1   \n",
       "394  44.0          4          97.0  ...    82       2   \n",
       "395  32.0          4         135.0  ...    82       1   \n",
       "396  28.0          4         120.0  ...    82       1   \n",
       "397  31.0          4         119.0  ...    82       1   \n",
       "\n",
       "                          name  \n",
       "0    chevrolet chevelle malibu  \n",
       "1            buick skylark 320  \n",
       "2           plymouth satellite  \n",
       "3                amc rebel sst  \n",
       "4                  ford torino  \n",
       "..                         ...  \n",
       "393            ford mustang gl  \n",
       "394                  vw pickup  \n",
       "395              dodge rampage  \n",
       "396                ford ranger  \n",
       "397                 chevy s-10  \n",
       "\n",
       "[398 rows x 9 columns]"
      ]
     },
     "execution_count": 12,
     "metadata": {},
     "output_type": "execute_result"
    }
   ],
   "source": [
    "import pandas as pd\n",
    "from io import StringIO \n",
    "\n",
    "pd.set_option(\"display.max_columns\", 7)\n",
    "df = pd.read_csv(\n",
    "        StringIO(textresponse), sep=\" \", \n",
    "        names=[\"mpg\", \"cylinders\", \"displacement\", \"horsepower\", \"weight\", \"acceleration\", \"year\", \"origin\", \"name\"],\n",
    "        na_values=[\"NA\", \"?\"]\n",
    ")\n",
    "df"
   ]
  },
  {
   "cell_type": "code",
   "execution_count": null,
   "id": "2c078e82-3ce7-470c-8e31-f738cee11d73",
   "metadata": {},
   "outputs": [],
   "source": []
  },
  {
   "cell_type": "code",
   "execution_count": 13,
   "id": "3de83fcc-1088-4d7c-b279-0dd64fbcd3d1",
   "metadata": {},
   "outputs": [],
   "source": [
    "cars = df[\"name\"]\n",
    "\n",
    "# Handle missing value\n",
    "df[\"horsepower\"] = df[\"horsepower\"].fillna(df[\"horsepower\"].median())"
   ]
  },
  {
   "cell_type": "code",
   "execution_count": null,
   "id": "3e3b2655-91d9-4c52-b61a-12cda768394c",
   "metadata": {},
   "outputs": [],
   "source": []
  },
  {
   "cell_type": "code",
   "execution_count": 17,
   "id": "0f0ef189-5bda-4cdb-b03f-aa18d199cbd8",
   "metadata": {},
   "outputs": [],
   "source": [
    "# Pandas to Numpy\n",
    "x = df[\n",
    "    [\n",
    "        \"cylinders\",\n",
    "        \"displacement\",\n",
    "        \"horsepower\",\n",
    "        \"weight\",\n",
    "        \"acceleration\",\n",
    "        \"year\",\n",
    "        \"origin\",\n",
    "    ]\n",
    "].values\n",
    "y = df[\"mpg\"].values  # regression"
   ]
  },
  {
   "cell_type": "code",
   "execution_count": 18,
   "id": "11895961-8708-4521-9a7f-8bc6865839eb",
   "metadata": {},
   "outputs": [
    {
     "data": {
      "text/plain": [
       "(array([[  8. , 307. , 130. , ...,  12. ,  70. ,   1. ],\n",
       "        [  8. , 350. , 165. , ...,  11.5,  70. ,   1. ],\n",
       "        [  8. , 318. , 150. , ...,  11. ,  70. ,   1. ],\n",
       "        ...,\n",
       "        [  4. , 135. ,  84. , ...,  11.6,  82. ,   1. ],\n",
       "        [  4. , 120. ,  79. , ...,  18.6,  82. ,   1. ],\n",
       "        [  4. , 119. ,  82. , ...,  19.4,  82. ,   1. ]]),\n",
       " array([18. , 15. , 18. , 16. , 17. , 15. , 14. , 14. , 14. , 15. , 15. ,\n",
       "        14. , 15. , 14. , 24. , 22. , 18. , 21. , 27. , 26. , 25. , 24. ,\n",
       "        25. , 26. , 21. , 10. , 10. , 11. ,  9. , 27. , 28. , 25. , 25. ,\n",
       "        19. , 16. , 17. , 19. , 18. , 14. , 14. , 14. , 14. , 12. , 13. ,\n",
       "        13. , 18. , 22. , 19. , 18. , 23. , 28. , 30. , 30. , 31. , 35. ,\n",
       "        27. , 26. , 24. , 25. , 23. , 20. , 21. , 13. , 14. , 15. , 14. ,\n",
       "        17. , 11. , 13. , 12. , 13. , 19. , 15. , 13. , 13. , 14. , 18. ,\n",
       "        22. , 21. , 26. , 22. , 28. , 23. , 28. , 27. , 13. , 14. , 13. ,\n",
       "        14. , 15. , 12. , 13. , 13. , 14. , 13. , 12. , 13. , 18. , 16. ,\n",
       "        18. , 18. , 23. , 26. , 11. , 12. , 13. , 12. , 18. , 20. , 21. ,\n",
       "        22. , 18. , 19. , 21. , 26. , 15. , 16. , 29. , 24. , 20. , 19. ,\n",
       "        15. , 24. , 20. , 11. , 20. , 21. , 19. , 15. , 31. , 26. , 32. ,\n",
       "        25. , 16. , 16. , 18. , 16. , 13. , 14. , 14. , 14. , 29. , 26. ,\n",
       "        26. , 31. , 32. , 28. , 24. , 26. , 24. , 26. , 31. , 19. , 18. ,\n",
       "        15. , 15. , 16. , 15. , 16. , 14. , 17. , 16. , 15. , 18. , 21. ,\n",
       "        20. , 13. , 29. , 23. , 20. , 23. , 24. , 25. , 24. , 18. , 29. ,\n",
       "        19. , 23. , 23. , 22. , 25. , 33. , 28. , 25. , 25. , 26. , 27. ,\n",
       "        17.5, 16. , 15.5, 14.5, 22. , 22. , 24. , 22.5, 29. , 24.5, 29. ,\n",
       "        33. , 20. , 18. , 18.5, 17.5, 29.5, 32. , 28. , 26.5, 20. , 13. ,\n",
       "        19. , 19. , 16.5, 16.5, 13. , 13. , 13. , 31.5, 30. , 36. , 25.5,\n",
       "        33.5, 17.5, 17. , 15.5, 15. , 17.5, 20.5, 19. , 18.5, 16. , 15.5,\n",
       "        15.5, 16. , 29. , 24.5, 26. , 25.5, 30.5, 33.5, 30. , 30.5, 22. ,\n",
       "        21.5, 21.5, 43.1, 36.1, 32.8, 39.4, 36.1, 19.9, 19.4, 20.2, 19.2,\n",
       "        20.5, 20.2, 25.1, 20.5, 19.4, 20.6, 20.8, 18.6, 18.1, 19.2, 17.7,\n",
       "        18.1, 17.5, 30. , 27.5, 27.2, 30.9, 21.1, 23.2, 23.8, 23.9, 20.3,\n",
       "        17. , 21.6, 16.2, 31.5, 29.5, 21.5, 19.8, 22.3, 20.2, 20.6, 17. ,\n",
       "        17.6, 16.5, 18.2, 16.9, 15.5, 19.2, 18.5, 31.9, 34.1, 35.7, 27.4,\n",
       "        25.4, 23. , 27.2, 23.9, 34.2, 34.5, 31.8, 37.3, 28.4, 28.8, 26.8,\n",
       "        33.5, 41.5, 38.1, 32.1, 37.2, 28. , 26.4, 24.3, 19.1, 34.3, 29.8,\n",
       "        31.3, 37. , 32.2, 46.6, 27.9, 40.8, 44.3, 43.4, 36.4, 30. , 44.6,\n",
       "        40.9, 33.8, 29.8, 32.7, 23.7, 35. , 23.6, 32.4, 27.2, 26.6, 25.8,\n",
       "        23.5, 30. , 39.1, 39. , 35.1, 32.3, 37. , 37.7, 34.1, 34.7, 34.4,\n",
       "        29.9, 33. , 34.5, 33.7, 32.4, 32.9, 31.6, 28.1, 30.7, 25.4, 24.2,\n",
       "        22.4, 26.6, 20.2, 17.6, 28. , 27. , 34. , 31. , 29. , 27. , 24. ,\n",
       "        23. , 36. , 37. , 31. , 38. , 36. , 36. , 36. , 34. , 38. , 32. ,\n",
       "        38. , 25. , 38. , 26. , 22. , 32. , 36. , 27. , 27. , 44. , 32. ,\n",
       "        28. , 31. ]))"
      ]
     },
     "execution_count": 18,
     "metadata": {},
     "output_type": "execute_result"
    }
   ],
   "source": [
    "x, y"
   ]
  },
  {
   "cell_type": "code",
   "execution_count": 19,
   "id": "6b63ae17-b0a2-420f-b104-c81975e9bbf3",
   "metadata": {},
   "outputs": [],
   "source": [
    "# Numpy to PyTorch\n",
    "x = torch.tensor(x, device=device, dtype=torch.float32)\n",
    "y = torch.tensor(y, device=device, dtype=torch.float32)"
   ]
  },
  {
   "cell_type": "code",
   "execution_count": 20,
   "id": "e252e785-6fea-488d-b252-f7cfa675f50b",
   "metadata": {},
   "outputs": [
    {
     "data": {
      "text/plain": [
       "(tensor([[  8.0000, 307.0000, 130.0000,  ...,  12.0000,  70.0000,   1.0000],\n",
       "         [  8.0000, 350.0000, 165.0000,  ...,  11.5000,  70.0000,   1.0000],\n",
       "         [  8.0000, 318.0000, 150.0000,  ...,  11.0000,  70.0000,   1.0000],\n",
       "         ...,\n",
       "         [  4.0000, 135.0000,  84.0000,  ...,  11.6000,  82.0000,   1.0000],\n",
       "         [  4.0000, 120.0000,  79.0000,  ...,  18.6000,  82.0000,   1.0000],\n",
       "         [  4.0000, 119.0000,  82.0000,  ...,  19.4000,  82.0000,   1.0000]]),\n",
       " tensor([18.0000, 15.0000, 18.0000, 16.0000, 17.0000, 15.0000, 14.0000, 14.0000,\n",
       "         14.0000, 15.0000, 15.0000, 14.0000, 15.0000, 14.0000, 24.0000, 22.0000,\n",
       "         18.0000, 21.0000, 27.0000, 26.0000, 25.0000, 24.0000, 25.0000, 26.0000,\n",
       "         21.0000, 10.0000, 10.0000, 11.0000,  9.0000, 27.0000, 28.0000, 25.0000,\n",
       "         25.0000, 19.0000, 16.0000, 17.0000, 19.0000, 18.0000, 14.0000, 14.0000,\n",
       "         14.0000, 14.0000, 12.0000, 13.0000, 13.0000, 18.0000, 22.0000, 19.0000,\n",
       "         18.0000, 23.0000, 28.0000, 30.0000, 30.0000, 31.0000, 35.0000, 27.0000,\n",
       "         26.0000, 24.0000, 25.0000, 23.0000, 20.0000, 21.0000, 13.0000, 14.0000,\n",
       "         15.0000, 14.0000, 17.0000, 11.0000, 13.0000, 12.0000, 13.0000, 19.0000,\n",
       "         15.0000, 13.0000, 13.0000, 14.0000, 18.0000, 22.0000, 21.0000, 26.0000,\n",
       "         22.0000, 28.0000, 23.0000, 28.0000, 27.0000, 13.0000, 14.0000, 13.0000,\n",
       "         14.0000, 15.0000, 12.0000, 13.0000, 13.0000, 14.0000, 13.0000, 12.0000,\n",
       "         13.0000, 18.0000, 16.0000, 18.0000, 18.0000, 23.0000, 26.0000, 11.0000,\n",
       "         12.0000, 13.0000, 12.0000, 18.0000, 20.0000, 21.0000, 22.0000, 18.0000,\n",
       "         19.0000, 21.0000, 26.0000, 15.0000, 16.0000, 29.0000, 24.0000, 20.0000,\n",
       "         19.0000, 15.0000, 24.0000, 20.0000, 11.0000, 20.0000, 21.0000, 19.0000,\n",
       "         15.0000, 31.0000, 26.0000, 32.0000, 25.0000, 16.0000, 16.0000, 18.0000,\n",
       "         16.0000, 13.0000, 14.0000, 14.0000, 14.0000, 29.0000, 26.0000, 26.0000,\n",
       "         31.0000, 32.0000, 28.0000, 24.0000, 26.0000, 24.0000, 26.0000, 31.0000,\n",
       "         19.0000, 18.0000, 15.0000, 15.0000, 16.0000, 15.0000, 16.0000, 14.0000,\n",
       "         17.0000, 16.0000, 15.0000, 18.0000, 21.0000, 20.0000, 13.0000, 29.0000,\n",
       "         23.0000, 20.0000, 23.0000, 24.0000, 25.0000, 24.0000, 18.0000, 29.0000,\n",
       "         19.0000, 23.0000, 23.0000, 22.0000, 25.0000, 33.0000, 28.0000, 25.0000,\n",
       "         25.0000, 26.0000, 27.0000, 17.5000, 16.0000, 15.5000, 14.5000, 22.0000,\n",
       "         22.0000, 24.0000, 22.5000, 29.0000, 24.5000, 29.0000, 33.0000, 20.0000,\n",
       "         18.0000, 18.5000, 17.5000, 29.5000, 32.0000, 28.0000, 26.5000, 20.0000,\n",
       "         13.0000, 19.0000, 19.0000, 16.5000, 16.5000, 13.0000, 13.0000, 13.0000,\n",
       "         31.5000, 30.0000, 36.0000, 25.5000, 33.5000, 17.5000, 17.0000, 15.5000,\n",
       "         15.0000, 17.5000, 20.5000, 19.0000, 18.5000, 16.0000, 15.5000, 15.5000,\n",
       "         16.0000, 29.0000, 24.5000, 26.0000, 25.5000, 30.5000, 33.5000, 30.0000,\n",
       "         30.5000, 22.0000, 21.5000, 21.5000, 43.1000, 36.1000, 32.8000, 39.4000,\n",
       "         36.1000, 19.9000, 19.4000, 20.2000, 19.2000, 20.5000, 20.2000, 25.1000,\n",
       "         20.5000, 19.4000, 20.6000, 20.8000, 18.6000, 18.1000, 19.2000, 17.7000,\n",
       "         18.1000, 17.5000, 30.0000, 27.5000, 27.2000, 30.9000, 21.1000, 23.2000,\n",
       "         23.8000, 23.9000, 20.3000, 17.0000, 21.6000, 16.2000, 31.5000, 29.5000,\n",
       "         21.5000, 19.8000, 22.3000, 20.2000, 20.6000, 17.0000, 17.6000, 16.5000,\n",
       "         18.2000, 16.9000, 15.5000, 19.2000, 18.5000, 31.9000, 34.1000, 35.7000,\n",
       "         27.4000, 25.4000, 23.0000, 27.2000, 23.9000, 34.2000, 34.5000, 31.8000,\n",
       "         37.3000, 28.4000, 28.8000, 26.8000, 33.5000, 41.5000, 38.1000, 32.1000,\n",
       "         37.2000, 28.0000, 26.4000, 24.3000, 19.1000, 34.3000, 29.8000, 31.3000,\n",
       "         37.0000, 32.2000, 46.6000, 27.9000, 40.8000, 44.3000, 43.4000, 36.4000,\n",
       "         30.0000, 44.6000, 40.9000, 33.8000, 29.8000, 32.7000, 23.7000, 35.0000,\n",
       "         23.6000, 32.4000, 27.2000, 26.6000, 25.8000, 23.5000, 30.0000, 39.1000,\n",
       "         39.0000, 35.1000, 32.3000, 37.0000, 37.7000, 34.1000, 34.7000, 34.4000,\n",
       "         29.9000, 33.0000, 34.5000, 33.7000, 32.4000, 32.9000, 31.6000, 28.1000,\n",
       "         30.7000, 25.4000, 24.2000, 22.4000, 26.6000, 20.2000, 17.6000, 28.0000,\n",
       "         27.0000, 34.0000, 31.0000, 29.0000, 27.0000, 24.0000, 23.0000, 36.0000,\n",
       "         37.0000, 31.0000, 38.0000, 36.0000, 36.0000, 36.0000, 34.0000, 38.0000,\n",
       "         32.0000, 38.0000, 25.0000, 38.0000, 26.0000, 22.0000, 32.0000, 36.0000,\n",
       "         27.0000, 27.0000, 44.0000, 32.0000, 28.0000, 31.0000]))"
      ]
     },
     "execution_count": 20,
     "metadata": {},
     "output_type": "execute_result"
    }
   ],
   "source": [
    "x, y"
   ]
  },
  {
   "cell_type": "code",
   "execution_count": null,
   "id": "ef3d6c6a-d271-4773-8318-7ada65da11a6",
   "metadata": {},
   "outputs": [],
   "source": []
  },
  {
   "cell_type": "code",
   "execution_count": 22,
   "id": "6e1f5674-eae4-4fbd-97a6-acd45c4e7be2",
   "metadata": {},
   "outputs": [],
   "source": [
    "import torch.nn as nn\n",
    "\n",
    "# Create the neural network\n",
    "model = nn.Sequential(\n",
    "    nn.Linear(x.shape[1], 50),\n",
    "    nn.ReLU(),\n",
    "    nn.Linear(50, 25),\n",
    "    nn.ReLU(),\n",
    "    nn.Linear(25, 1)\n",
    ")\n",
    "\n",
    "# PyTorch 2.0 Model Compile (improved performance)\n",
    "model = torch.compile(model,backend=\"aot_eager\").to(device)\n",
    "\n",
    "# Define the loss function for regression\n",
    "loss_fn = nn.MSELoss()\n",
    "\n",
    "# Define the optimizer\n",
    "optimizer = torch.optim.Adam(model.parameters(), lr=0.01)"
   ]
  },
  {
   "cell_type": "code",
   "execution_count": null,
   "id": "c8c4e6d7-5ded-4561-934c-cb01b808afdf",
   "metadata": {},
   "outputs": [],
   "source": []
  },
  {
   "cell_type": "code",
   "execution_count": 23,
   "id": "43b1c993-1564-46b2-8757-6230b0387169",
   "metadata": {},
   "outputs": [
    {
     "name": "stdout",
     "output_type": "stream",
     "text": [
      "Epoch 0, loss: 2665.821044921875\n",
      "Epoch 100, loss: 164.7862091064453\n",
      "Epoch 200, loss: 71.37049865722656\n",
      "Epoch 300, loss: 32.29509735107422\n",
      "Epoch 400, loss: 20.678640365600586\n",
      "Epoch 500, loss: 13.407356262207031\n",
      "Epoch 600, loss: 10.735455513000488\n",
      "Epoch 700, loss: 9.932580947875977\n",
      "Epoch 800, loss: 9.557141304016113\n",
      "Epoch 900, loss: 9.33919620513916\n"
     ]
    }
   ],
   "source": [
    "# Train for 1000 epochs.\n",
    "for epoch in range(1000):\n",
    "    optimizer.zero_grad()\n",
    "    out = model(x).flatten()\n",
    "    loss = loss_fn(out, y)\n",
    "    loss.backward()\n",
    "    optimizer.step()\n",
    "\n",
    "    # Display status every 100 epochs.\n",
    "    if epoch % 100 == 0:\n",
    "        print(f\"Epoch {epoch}, loss: {loss.item()}\")"
   ]
  },
  {
   "cell_type": "code",
   "execution_count": null,
   "id": "5a11a7fd-c1b7-4100-990c-ce1aa9293a05",
   "metadata": {},
   "outputs": [],
   "source": []
  },
  {
   "cell_type": "code",
   "execution_count": 24,
   "id": "a1220c3f-3562-420d-83d9-d11ec77ebbc4",
   "metadata": {},
   "outputs": [
    {
     "name": "stdout",
     "output_type": "stream",
     "text": [
      "Shape: torch.Size([398, 1])\n",
      "tensor([[16.3430],\n",
      "        [15.3251],\n",
      "        [16.3649],\n",
      "        [16.3416],\n",
      "        [16.1758],\n",
      "        [12.3560],\n",
      "        [12.1224],\n",
      "        [12.1567],\n",
      "        [11.8439],\n",
      "        [14.2244]], grad_fn=<SliceBackward0>)\n"
     ]
    }
   ],
   "source": [
    "pred = model(x)\n",
    "print(f\"Shape: {pred.shape}\")\n",
    "print(pred[0:10])"
   ]
  },
  {
   "cell_type": "code",
   "execution_count": null,
   "id": "2ad90d8d-ed3d-4f8e-9edd-c4c77e7fa1bb",
   "metadata": {},
   "outputs": [],
   "source": []
  },
  {
   "cell_type": "code",
   "execution_count": 25,
   "id": "cf238d64-917d-4f44-82d0-e745b214a0fb",
   "metadata": {},
   "outputs": [
    {
     "name": "stdout",
     "output_type": "stream",
     "text": [
      "Final score (RMSE): 3.027055501937866\n"
     ]
    }
   ],
   "source": [
    "from sklearn import metrics\n",
    "\n",
    "# Measure RMSE error.  RMSE is common for regression.\n",
    "score = np.sqrt(metrics.mean_squared_error(pred.cpu().detach(), y.cpu().detach()))\n",
    "print(f\"Final score (RMSE): {score}\")"
   ]
  },
  {
   "cell_type": "code",
   "execution_count": null,
   "id": "36eec83d-1bed-44c4-b737-da140a03a2e0",
   "metadata": {},
   "outputs": [],
   "source": []
  },
  {
   "cell_type": "code",
   "execution_count": 26,
   "id": "d95aff47-2e88-439c-9a41-18b10fe32a0d",
   "metadata": {},
   "outputs": [
    {
     "name": "stdout",
     "output_type": "stream",
     "text": [
      "Final score (RMSE): 3.027055501937866\n"
     ]
    }
   ],
   "source": [
    "score = torch.sqrt(torch.nn.functional.mse_loss(pred.flatten(), y))\n",
    "print(f\"Final score (RMSE): {score}\")"
   ]
  },
  {
   "cell_type": "code",
   "execution_count": null,
   "id": "28ca59cb-7a61-4559-9d83-54a59a7c7aa1",
   "metadata": {},
   "outputs": [],
   "source": []
  },
  {
   "cell_type": "code",
   "execution_count": 27,
   "id": "a9564c52-c5b2-4ecf-83a0-76a41c3b7392",
   "metadata": {},
   "outputs": [
    {
     "name": "stdout",
     "output_type": "stream",
     "text": [
      "1. Car name: chevrolet chevelle malibu, MPG: 18.0, predicted MPG: tensor([16.3430], grad_fn=<SelectBackward0>)\n",
      "2. Car name: buick skylark 320, MPG: 15.0, predicted MPG: tensor([15.3251], grad_fn=<SelectBackward0>)\n",
      "3. Car name: plymouth satellite, MPG: 18.0, predicted MPG: tensor([16.3649], grad_fn=<SelectBackward0>)\n",
      "4. Car name: amc rebel sst, MPG: 16.0, predicted MPG: tensor([16.3416], grad_fn=<SelectBackward0>)\n",
      "5. Car name: ford torino, MPG: 17.0, predicted MPG: tensor([16.1758], grad_fn=<SelectBackward0>)\n",
      "6. Car name: ford galaxie 500, MPG: 15.0, predicted MPG: tensor([12.3560], grad_fn=<SelectBackward0>)\n",
      "7. Car name: chevrolet impala, MPG: 14.0, predicted MPG: tensor([12.1224], grad_fn=<SelectBackward0>)\n",
      "8. Car name: plymouth fury iii, MPG: 14.0, predicted MPG: tensor([12.1567], grad_fn=<SelectBackward0>)\n",
      "9. Car name: pontiac catalina, MPG: 14.0, predicted MPG: tensor([11.8439], grad_fn=<SelectBackward0>)\n",
      "10. Car name: amc ambassador dpl, MPG: 15.0, predicted MPG: tensor([14.2244], grad_fn=<SelectBackward0>)\n"
     ]
    }
   ],
   "source": [
    "# Sample predictions\n",
    "for i in range(10):\n",
    "    print(f\"{i+1}. Car name: {cars[i]}, MPG: {y[i]}, \" + f\"predicted MPG: {pred[i]}\")"
   ]
  },
  {
   "cell_type": "code",
   "execution_count": null,
   "id": "67a767e8-e69c-44f6-85c6-c7f3ac4dd104",
   "metadata": {},
   "outputs": [],
   "source": []
  },
  {
   "cell_type": "markdown",
   "id": "f40befd6-6334-44ad-a9c9-beac59a7235d",
   "metadata": {},
   "source": [
    "## Iris dataset"
   ]
  },
  {
   "cell_type": "markdown",
   "id": "49a14749-456b-4b90-88a6-c5895093ee6b",
   "metadata": {},
   "source": []
  },
  {
   "cell_type": "code",
   "execution_count": 30,
   "id": "c83a4ed4-be26-4c0b-88d7-d9aadadf201e",
   "metadata": {},
   "outputs": [
    {
     "name": "stdout",
     "output_type": "stream",
     "text": [
      "dict_keys(['data', 'target', 'frame', 'target_names', 'DESCR', 'feature_names', 'filename', 'data_module'])\n",
      ".. _iris_dataset:\n",
      "\n",
      "Iris plants dataset\n",
      "--------------------\n",
      "\n",
      "**Data Set Characteristics:**\n",
      "\n",
      "    :Number of Instances: 150 (50 in each of three classes)\n",
      "    :Number of Attributes: 4 numeric, predictive attributes and the class\n",
      "    :Attribute Information:\n",
      "        - sepal length in cm\n",
      "        - sepal width in cm\n",
      "        - petal length in cm\n",
      "        - petal width in cm\n",
      "        - class:\n",
      "                - Iris-Setosa\n",
      "                - Iris-Versicolour\n",
      "                - Iris-Virginica\n",
      "                \n",
      "    :Summary Statistics:\n",
      "\n",
      "    ============== ==== ==== ======= ===== ====================\n",
      "                    Min  Max   Mean    SD   Class Correlation\n",
      "    ============== ==== ==== ======= ===== ====================\n",
      "    sepal length:   4.3  7.9   5.84   0.83    0.7826\n",
      "    sepal width:    2.0  4.4   3.05   0.43   -0.4194\n",
      "    petal length:   1.0  6.9   3.76   1.76    0.9490  (high!)\n",
      "    petal width:    0.1  2.5   1.20   0.76    0.9565  (high!)\n",
      "    ============== ==== ==== ======= ===== ====================\n",
      "\n",
      "    :Missing Attribute Values: None\n",
      "    :Class Distribution: 33.3% for each of 3 classes.\n",
      "    :Creator: R.A. Fisher\n",
      "    :Donor: Michael Marshall (MARSHALL%PLU@io.arc.nasa.gov)\n",
      "    :Date: July, 1988\n",
      "\n",
      "The famous Iris database, first used by Sir R.A. Fisher. The dataset is taken\n",
      "from Fisher's paper. Note that it's the same as in R, but not as in the UCI\n",
      "Machine Learning Repository, which has two wrong data points.\n",
      "\n",
      "This is perhaps the best known database to be found in the\n",
      "pattern recognition literature.  Fisher's paper is a classic in the field and\n",
      "is referenced frequently to this day.  (See Duda & Hart, for example.)  The\n",
      "data set contains 3 classes of 50 instances each, where each class refers to a\n",
      "type of iris plant.  One class is linearly separable from the other 2; the\n",
      "latter are NOT linearly separable from each other.\n",
      "\n",
      ".. topic:: References\n",
      "\n",
      "   - Fisher, R.A. \"The use of multiple measurements in taxonomic problems\"\n",
      "     Annual Eugenics, 7, Part II, 179-188 (1936); also in \"Contributions to\n",
      "     Mathematical Statistics\" (John Wiley, NY, 1950).\n",
      "   - Duda, R.O., & Hart, P.E. (1973) Pattern Classification and Scene Analysis.\n",
      "     (Q327.D83) John Wiley & Sons.  ISBN 0-471-22361-1.  See page 218.\n",
      "   - Dasarathy, B.V. (1980) \"Nosing Around the Neighborhood: A New System\n",
      "     Structure and Classification Rule for Recognition in Partially Exposed\n",
      "     Environments\".  IEEE Transactions on Pattern Analysis and Machine\n",
      "     Intelligence, Vol. PAMI-2, No. 1, 67-71.\n",
      "   - Gates, G.W. (1972) \"The Reduced Nearest Neighbor Rule\".  IEEE Transactions\n",
      "     on Information Theory, May 1972, 431-433.\n",
      "   - See also: 1988 MLC Proceedings, 54-64.  Cheeseman et al\"s AUTOCLASS II\n",
      "     conceptual clustering system finds 3 classes in the data.\n",
      "   - Many, many more ...\n"
     ]
    }
   ],
   "source": [
    "from sklearn import datasets\n",
    "\n",
    "iris = datasets.load_iris()\n",
    "print(iris.keys())\n",
    "print(iris.DESCR)"
   ]
  },
  {
   "cell_type": "markdown",
   "id": "48018098-9202-48ea-b737-c7d8c33d7472",
   "metadata": {},
   "source": []
  },
  {
   "cell_type": "code",
   "execution_count": 35,
   "id": "d8457701-e4ee-4d8b-9821-37bf57377ec0",
   "metadata": {},
   "outputs": [],
   "source": [
    "def namedata(data):\n",
    "    return {\n",
    "        'sepal_l': data[0],\n",
    "        'sepal_w': data[1],\n",
    "        'petal_l': data[2],\n",
    "        'petal_w': data[3]\n",
    "    }\n",
    "\n",
    "table = list(map(namedata, iris.data))\n",
    "table"
   ]
  },
  {
   "cell_type": "code",
   "execution_count": 37,
   "id": "35d5e832-a3b9-4c3d-961b-6ad4633698fb",
   "metadata": {},
   "outputs": [],
   "source": [
    "tmap = {0: 'Iris-setosa', 1: 'Iris-versicolor', 2: 'Iris-virginica'}\n",
    "targets = list(map(lambda item: tmap[item], iris.target))"
   ]
  },
  {
   "cell_type": "code",
   "execution_count": 38,
   "id": "6cc1f0dd-5301-4762-b730-7d9147cecbed",
   "metadata": {},
   "outputs": [],
   "source": [
    "table = [{**row, 'species': name} for row, name in zip(table, targets)]\n",
    "table"
   ]
  },
  {
   "cell_type": "markdown",
   "id": "34705979-ec41-4b87-bde2-d5923dc25d9c",
   "metadata": {},
   "source": []
  },
  {
   "cell_type": "code",
   "execution_count": 41,
   "id": "b3521fde-1292-4776-8e37-ddfc803200c4",
   "metadata": {},
   "outputs": [
    {
     "data": {
      "text/html": [
       "<div>\n",
       "<style scoped>\n",
       "    .dataframe tbody tr th:only-of-type {\n",
       "        vertical-align: middle;\n",
       "    }\n",
       "\n",
       "    .dataframe tbody tr th {\n",
       "        vertical-align: top;\n",
       "    }\n",
       "\n",
       "    .dataframe thead th {\n",
       "        text-align: right;\n",
       "    }\n",
       "</style>\n",
       "<table border=\"1\" class=\"dataframe\">\n",
       "  <thead>\n",
       "    <tr style=\"text-align: right;\">\n",
       "      <th></th>\n",
       "      <th>sepal_l</th>\n",
       "      <th>sepal_w</th>\n",
       "      <th>petal_l</th>\n",
       "      <th>petal_w</th>\n",
       "      <th>species</th>\n",
       "    </tr>\n",
       "  </thead>\n",
       "  <tbody>\n",
       "    <tr>\n",
       "      <th>0</th>\n",
       "      <td>5.1</td>\n",
       "      <td>3.5</td>\n",
       "      <td>1.4</td>\n",
       "      <td>0.2</td>\n",
       "      <td>Iris-setosa</td>\n",
       "    </tr>\n",
       "    <tr>\n",
       "      <th>1</th>\n",
       "      <td>4.9</td>\n",
       "      <td>3.0</td>\n",
       "      <td>1.4</td>\n",
       "      <td>0.2</td>\n",
       "      <td>Iris-setosa</td>\n",
       "    </tr>\n",
       "    <tr>\n",
       "      <th>2</th>\n",
       "      <td>4.7</td>\n",
       "      <td>3.2</td>\n",
       "      <td>1.3</td>\n",
       "      <td>0.2</td>\n",
       "      <td>Iris-setosa</td>\n",
       "    </tr>\n",
       "    <tr>\n",
       "      <th>3</th>\n",
       "      <td>4.6</td>\n",
       "      <td>3.1</td>\n",
       "      <td>1.5</td>\n",
       "      <td>0.2</td>\n",
       "      <td>Iris-setosa</td>\n",
       "    </tr>\n",
       "    <tr>\n",
       "      <th>4</th>\n",
       "      <td>5.0</td>\n",
       "      <td>3.6</td>\n",
       "      <td>1.4</td>\n",
       "      <td>0.2</td>\n",
       "      <td>Iris-setosa</td>\n",
       "    </tr>\n",
       "    <tr>\n",
       "      <th>...</th>\n",
       "      <td>...</td>\n",
       "      <td>...</td>\n",
       "      <td>...</td>\n",
       "      <td>...</td>\n",
       "      <td>...</td>\n",
       "    </tr>\n",
       "    <tr>\n",
       "      <th>145</th>\n",
       "      <td>6.7</td>\n",
       "      <td>3.0</td>\n",
       "      <td>5.2</td>\n",
       "      <td>2.3</td>\n",
       "      <td>Iris-virginica</td>\n",
       "    </tr>\n",
       "    <tr>\n",
       "      <th>146</th>\n",
       "      <td>6.3</td>\n",
       "      <td>2.5</td>\n",
       "      <td>5.0</td>\n",
       "      <td>1.9</td>\n",
       "      <td>Iris-virginica</td>\n",
       "    </tr>\n",
       "    <tr>\n",
       "      <th>147</th>\n",
       "      <td>6.5</td>\n",
       "      <td>3.0</td>\n",
       "      <td>5.2</td>\n",
       "      <td>2.0</td>\n",
       "      <td>Iris-virginica</td>\n",
       "    </tr>\n",
       "    <tr>\n",
       "      <th>148</th>\n",
       "      <td>6.2</td>\n",
       "      <td>3.4</td>\n",
       "      <td>5.4</td>\n",
       "      <td>2.3</td>\n",
       "      <td>Iris-virginica</td>\n",
       "    </tr>\n",
       "    <tr>\n",
       "      <th>149</th>\n",
       "      <td>5.9</td>\n",
       "      <td>3.0</td>\n",
       "      <td>5.1</td>\n",
       "      <td>1.8</td>\n",
       "      <td>Iris-virginica</td>\n",
       "    </tr>\n",
       "  </tbody>\n",
       "</table>\n",
       "<p>150 rows × 5 columns</p>\n",
       "</div>"
      ],
      "text/plain": [
       "     sepal_l  sepal_w  petal_l  petal_w         species\n",
       "0        5.1      3.5      1.4      0.2     Iris-setosa\n",
       "1        4.9      3.0      1.4      0.2     Iris-setosa\n",
       "2        4.7      3.2      1.3      0.2     Iris-setosa\n",
       "3        4.6      3.1      1.5      0.2     Iris-setosa\n",
       "4        5.0      3.6      1.4      0.2     Iris-setosa\n",
       "..       ...      ...      ...      ...             ...\n",
       "145      6.7      3.0      5.2      2.3  Iris-virginica\n",
       "146      6.3      2.5      5.0      1.9  Iris-virginica\n",
       "147      6.5      3.0      5.2      2.0  Iris-virginica\n",
       "148      6.2      3.4      5.4      2.3  Iris-virginica\n",
       "149      5.9      3.0      5.1      1.8  Iris-virginica\n",
       "\n",
       "[150 rows x 5 columns]"
      ]
     },
     "execution_count": 41,
     "metadata": {},
     "output_type": "execute_result"
    }
   ],
   "source": [
    "import pandas as pd\n",
    "df = pd.DataFrame(table)\n",
    "df"
   ]
  },
  {
   "cell_type": "markdown",
   "id": "3cf834dc-7580-48b8-9141-706085d5bc8b",
   "metadata": {},
   "source": []
  },
  {
   "cell_type": "code",
   "execution_count": 48,
   "id": "92db31c7-a3cc-47ef-a295-d644b8545ad1",
   "metadata": {},
   "outputs": [],
   "source": [
    "from sklearn import preprocessing\n",
    "le = preprocessing.LabelEncoder()\n",
    "\n",
    "x = df[[\"sepal_l\", \"sepal_w\", \"petal_l\", \"petal_w\"]].values\n",
    "y = le.fit_transform(df[\"species\"])"
   ]
  },
  {
   "cell_type": "code",
   "execution_count": 58,
   "id": "dd688054-60bd-458d-b7d2-3751e3ef1405",
   "metadata": {},
   "outputs": [
    {
     "data": {
      "image/png": "[encoded data removed]",
      "text/plain": [
       "<Figure size 640x480 with 1 Axes>"
      ]
     },
     "metadata": {},
     "output_type": "display_data"
    }
   ],
   "source": [
    "import matplotlib.pyplot as plt\n",
    "\n",
    "_, ax = plt.subplots()\n",
    "scatter = ax.scatter(iris.data[:, 0], iris.data[:, 1], c=iris.target)\n",
    "ax.set(xlabel=iris.feature_names[0], ylabel=iris.feature_names[1])\n",
    "_ = ax.legend(\n",
    "    scatter.legend_elements()[0], iris.target_names, loc=\"lower right\", title=\"Classes\"\n",
    ")"
   ]
  },
  {
   "cell_type": "code",
   "execution_count": 48,
   "id": "d2c9e8e5-3e71-4cca-878f-dede20fbcf90",
   "metadata": {},
   "outputs": [
    {
     "name": "stdout",
     "output_type": "stream",
     "text": [
      "[0 0 0 0 0 0 0 0 0 0 0 0 0 0 0 0 0 0 0 0 0 0 0 0 0 0 0 0 0 0 0 0 0 0 0 0 0\n",
      " 0 0 0 0 0 0 0 0 0 0 0 0 0 1 1 1 1 1 1 1 1 1 1 1 1 1 1 1 1 1 1 1 1 1 1 1 1\n",
      " 1 1 1 1 1 1 1 1 1 1 1 1 1 1 1 1 1 1 1 1 1 1 1 1 1 1 2 2 2 2 2 2 2 2 2 2 2\n",
      " 2 2 2 2 2 2 2 2 2 2 2 2 2 2 2 2 2 2 2 2 2 2 2 2 2 2 2 2 2 2 2 2 2 2 2 2 2\n",
      " 2 2]\n",
      "[[5.1 3.5 1.4 0.2]\n",
      " [4.9 3.  1.4 0.2]\n",
      " [4.7 3.2 1.3 0.2]\n",
      " [4.6 3.1 1.5 0.2]\n",
      " [5.  3.6 1.4 0.2]\n",
      " [5.4 3.9 1.7 0.4]\n",
      " [4.6 3.4 1.4 0.3]\n",
      " [5.  3.4 1.5 0.2]\n",
      " [4.4 2.9 1.4 0.2]\n",
      " [4.9 3.1 1.5 0.1]\n",
      " [5.4 3.7 1.5 0.2]\n",
      " [4.8 3.4 1.6 0.2]\n",
      " [4.8 3.  1.4 0.1]\n",
      " [4.3 3.  1.1 0.1]\n",
      " [5.8 4.  1.2 0.2]\n",
      " [5.7 4.4 1.5 0.4]\n",
      " [5.4 3.9 1.3 0.4]\n",
      " [5.1 3.5 1.4 0.3]\n",
      " [5.7 3.8 1.7 0.3]\n",
      " [5.1 3.8 1.5 0.3]\n",
      " [5.4 3.4 1.7 0.2]\n",
      " [5.1 3.7 1.5 0.4]\n",
      " [4.6 3.6 1.  0.2]\n",
      " [5.1 3.3 1.7 0.5]\n",
      " [4.8 3.4 1.9 0.2]\n",
      " [5.  3.  1.6 0.2]\n",
      " [5.  3.4 1.6 0.4]\n",
      " [5.2 3.5 1.5 0.2]\n",
      " [5.2 3.4 1.4 0.2]\n",
      " [4.7 3.2 1.6 0.2]\n",
      " [4.8 3.1 1.6 0.2]\n",
      " [5.4 3.4 1.5 0.4]\n",
      " [5.2 4.1 1.5 0.1]\n",
      " [5.5 4.2 1.4 0.2]\n",
      " [4.9 3.1 1.5 0.2]\n",
      " [5.  3.2 1.2 0.2]\n",
      " [5.5 3.5 1.3 0.2]\n",
      " [4.9 3.6 1.4 0.1]\n",
      " [4.4 3.  1.3 0.2]\n",
      " [5.1 3.4 1.5 0.2]\n",
      " [5.  3.5 1.3 0.3]\n",
      " [4.5 2.3 1.3 0.3]\n",
      " [4.4 3.2 1.3 0.2]\n",
      " [5.  3.5 1.6 0.6]\n",
      " [5.1 3.8 1.9 0.4]\n",
      " [4.8 3.  1.4 0.3]\n",
      " [5.1 3.8 1.6 0.2]\n",
      " [4.6 3.2 1.4 0.2]\n",
      " [5.3 3.7 1.5 0.2]\n",
      " [5.  3.3 1.4 0.2]\n",
      " [7.  3.2 4.7 1.4]\n",
      " [6.4 3.2 4.5 1.5]\n",
      " [6.9 3.1 4.9 1.5]\n",
      " [5.5 2.3 4.  1.3]\n",
      " [6.5 2.8 4.6 1.5]\n",
      " [5.7 2.8 4.5 1.3]\n",
      " [6.3 3.3 4.7 1.6]\n",
      " [4.9 2.4 3.3 1. ]\n",
      " [6.6 2.9 4.6 1.3]\n",
      " [5.2 2.7 3.9 1.4]\n",
      " [5.  2.  3.5 1. ]\n",
      " [5.9 3.  4.2 1.5]\n",
      " [6.  2.2 4.  1. ]\n",
      " [6.1 2.9 4.7 1.4]\n",
      " [5.6 2.9 3.6 1.3]\n",
      " [6.7 3.1 4.4 1.4]\n",
      " [5.6 3.  4.5 1.5]\n",
      " [5.8 2.7 4.1 1. ]\n",
      " [6.2 2.2 4.5 1.5]\n",
      " [5.6 2.5 3.9 1.1]\n",
      " [5.9 3.2 4.8 1.8]\n",
      " [6.1 2.8 4.  1.3]\n",
      " [6.3 2.5 4.9 1.5]\n",
      " [6.1 2.8 4.7 1.2]\n",
      " [6.4 2.9 4.3 1.3]\n",
      " [6.6 3.  4.4 1.4]\n",
      " [6.8 2.8 4.8 1.4]\n",
      " [6.7 3.  5.  1.7]\n",
      " [6.  2.9 4.5 1.5]\n",
      " [5.7 2.6 3.5 1. ]\n",
      " [5.5 2.4 3.8 1.1]\n",
      " [5.5 2.4 3.7 1. ]\n",
      " [5.8 2.7 3.9 1.2]\n",
      " [6.  2.7 5.1 1.6]\n",
      " [5.4 3.  4.5 1.5]\n",
      " [6.  3.4 4.5 1.6]\n",
      " [6.7 3.1 4.7 1.5]\n",
      " [6.3 2.3 4.4 1.3]\n",
      " [5.6 3.  4.1 1.3]\n",
      " [5.5 2.5 4.  1.3]\n",
      " [5.5 2.6 4.4 1.2]\n",
      " [6.1 3.  4.6 1.4]\n",
      " [5.8 2.6 4.  1.2]\n",
      " [5.  2.3 3.3 1. ]\n",
      " [5.6 2.7 4.2 1.3]\n",
      " [5.7 3.  4.2 1.2]\n",
      " [5.7 2.9 4.2 1.3]\n",
      " [6.2 2.9 4.3 1.3]\n",
      " [5.1 2.5 3.  1.1]\n",
      " [5.7 2.8 4.1 1.3]\n",
      " [6.3 3.3 6.  2.5]\n",
      " [5.8 2.7 5.1 1.9]\n",
      " [7.1 3.  5.9 2.1]\n",
      " [6.3 2.9 5.6 1.8]\n",
      " [6.5 3.  5.8 2.2]\n",
      " [7.6 3.  6.6 2.1]\n",
      " [4.9 2.5 4.5 1.7]\n",
      " [7.3 2.9 6.3 1.8]\n",
      " [6.7 2.5 5.8 1.8]\n",
      " [7.2 3.6 6.1 2.5]\n",
      " [6.5 3.2 5.1 2. ]\n",
      " [6.4 2.7 5.3 1.9]\n",
      " [6.8 3.  5.5 2.1]\n",
      " [5.7 2.5 5.  2. ]\n",
      " [5.8 2.8 5.1 2.4]\n",
      " [6.4 3.2 5.3 2.3]\n",
      " [6.5 3.  5.5 1.8]\n",
      " [7.7 3.8 6.7 2.2]\n",
      " [7.7 2.6 6.9 2.3]\n",
      " [6.  2.2 5.  1.5]\n",
      " [6.9 3.2 5.7 2.3]\n",
      " [5.6 2.8 4.9 2. ]\n",
      " [7.7 2.8 6.7 2. ]\n",
      " [6.3 2.7 4.9 1.8]\n",
      " [6.7 3.3 5.7 2.1]\n",
      " [7.2 3.2 6.  1.8]\n",
      " [6.2 2.8 4.8 1.8]\n",
      " [6.1 3.  4.9 1.8]\n",
      " [6.4 2.8 5.6 2.1]\n",
      " [7.2 3.  5.8 1.6]\n",
      " [7.4 2.8 6.1 1.9]\n",
      " [7.9 3.8 6.4 2. ]\n",
      " [6.4 2.8 5.6 2.2]\n",
      " [6.3 2.8 5.1 1.5]\n",
      " [6.1 2.6 5.6 1.4]\n",
      " [7.7 3.  6.1 2.3]\n",
      " [6.3 3.4 5.6 2.4]\n",
      " [6.4 3.1 5.5 1.8]\n",
      " [6.  3.  4.8 1.8]\n",
      " [6.9 3.1 5.4 2.1]\n",
      " [6.7 3.1 5.6 2.4]\n",
      " [6.9 3.1 5.1 2.3]\n",
      " [5.8 2.7 5.1 1.9]\n",
      " [6.8 3.2 5.9 2.3]\n",
      " [6.7 3.3 5.7 2.5]\n",
      " [6.7 3.  5.2 2.3]\n",
      " [6.3 2.5 5.  1.9]\n",
      " [6.5 3.  5.2 2. ]\n",
      " [6.2 3.4 5.4 2.3]\n",
      " [5.9 3.  5.1 1.8]]\n"
     ]
    }
   ],
   "source": [
    "print(y)\n",
    "print(x)"
   ]
  },
  {
   "cell_type": "code",
   "execution_count": 46,
   "id": "9a82331d-50fb-47d5-8d4d-9bc8702d6920",
   "metadata": {},
   "outputs": [
    {
     "data": {
      "text/plain": [
       "array(['Iris-setosa', 'Iris-versicolor', 'Iris-virginica'], dtype=object)"
      ]
     },
     "execution_count": 46,
     "metadata": {},
     "output_type": "execute_result"
    }
   ],
   "source": [
    "species = le.classes_\n",
    "species"
   ]
  },
  {
   "cell_type": "code",
   "execution_count": 49,
   "id": "838abf55-729c-4c42-bb81-0e6c73d26711",
   "metadata": {},
   "outputs": [],
   "source": [
    "import torch\n",
    "import torch.nn as nn\n",
    "\n",
    "x = torch.tensor(x, device=device, dtype=torch.float32)\n",
    "y = torch.tensor(y, device=device, dtype=torch.long)\n",
    "\n",
    "model = nn.Sequential(\n",
    "    nn.Linear(x.shape[1], 50),\n",
    "    nn.ReLU(),\n",
    "    nn.Linear(50, 25),\n",
    "    nn.ReLU(),\n",
    "    nn.Linear(25, len(species)),\n",
    "    nn.LogSoftmax(dim=1),\n",
    ")"
   ]
  },
  {
   "cell_type": "markdown",
   "id": "166d6778-8cb3-4526-959d-6224a368377e",
   "metadata": {},
   "source": [
    "https://pytorch.org/docs/stable/generated/torch.nn.Linear.html\n",
    "\n",
    "https://pytorch.org/docs/stable/generated/torch.nn.ReLU.html\n",
    "\n",
    "https://pytorch.org/docs/stable/generated/torch.nn.LogSoftmax.html"
   ]
  },
  {
   "cell_type": "code",
   "execution_count": 50,
   "id": "da64c607-f449-41f2-9815-bba5c1086208",
   "metadata": {},
   "outputs": [
    {
     "name": "stdout",
     "output_type": "stream",
     "text": [
      "Epoch 0, loss: 1.182706356048584\n",
      "Epoch 100, loss: 0.05040304362773895\n",
      "Epoch 200, loss: 0.04457595571875572\n",
      "Epoch 300, loss: 0.040220893919467926\n",
      "Epoch 400, loss: 0.03675726801156998\n",
      "Epoch 500, loss: 0.03613399341702461\n",
      "Epoch 600, loss: 0.03427649289369583\n",
      "Epoch 700, loss: 0.03405502811074257\n",
      "Epoch 800, loss: 0.033910878002643585\n",
      "Epoch 900, loss: 0.03368908911943436\n"
     ]
    }
   ],
   "source": [
    "# PyTorch 2.0 Model Compile (improved performance)\n",
    "model = torch.compile(model,backend=\"aot_eager\").to(device)\n",
    "\n",
    "criterion = nn.CrossEntropyLoss()  # cross entropy loss\n",
    "\n",
    "optimizer = torch.optim.Adam(model.parameters(), lr=0.01)\n",
    "\n",
    "model.train()\n",
    "for epoch in range(1000):\n",
    "    optimizer.zero_grad()\n",
    "    out = model(x)\n",
    "    # Note: CrossEntropyLoss combines nn.LogSoftmax() and nn.NLLLoss() so don't use Softmax in the model\n",
    "    loss = criterion(out, y)\n",
    "    loss.backward()\n",
    "    optimizer.step()\n",
    "\n",
    "    if epoch % 100 == 0:\n",
    "        print(f\"Epoch {epoch}, loss: {loss.item()}\")"
   ]
  },
  {
   "cell_type": "markdown",
   "id": "b8078f21-988a-46ad-93f2-f581312737a7",
   "metadata": {},
   "source": []
  },
  {
   "cell_type": "code",
   "execution_count": 51,
   "id": "a1897881-59ec-435b-9042-a5c53bd670ac",
   "metadata": {},
   "outputs": [
    {
     "name": "stdout",
     "output_type": "stream",
     "text": [
      "Shape: torch.Size([150, 3])\n",
      "tensor([[-4.6492e-06, -1.2289e+01, -4.4276e+01],\n",
      "        [-1.6570e-05, -1.1011e+01, -4.0573e+01],\n",
      "        [-8.9407e-06, -1.1626e+01, -4.1806e+01],\n",
      "        [-1.9789e-05, -1.0828e+01, -3.9910e+01],\n",
      "        [-3.8147e-06, -1.2462e+01, -4.4619e+01],\n",
      "        [-9.2983e-06, -1.1589e+01, -4.4032e+01],\n",
      "        [-1.0490e-05, -1.1462e+01, -4.1586e+01],\n",
      "        [-7.9870e-06, -1.1731e+01, -4.2839e+01],\n",
      "        [-2.7179e-05, -1.0513e+01, -3.8618e+01],\n",
      "        [-1.2517e-05, -1.1293e+01, -4.1394e+01]], grad_fn=<SliceBackward0>)\n"
     ]
    }
   ],
   "source": [
    "model.eval()\n",
    "pred = model(x)\n",
    "print(f\"Shape: {pred.shape}\")\n",
    "print(pred[0:10])"
   ]
  },
  {
   "cell_type": "markdown",
   "id": "7fb8cb1c-8257-4a7a-a1de-78a29ad9fcd1",
   "metadata": {},
   "source": []
  },
  {
   "cell_type": "code",
   "execution_count": 52,
   "id": "1ff2b3d4-eb58-4df9-affe-f950bc06077f",
   "metadata": {},
   "outputs": [
    {
     "name": "stdout",
     "output_type": "stream",
     "text": [
      "[[-4.64915138e-06 -1.22889528e+01 -4.42761536e+01]\n",
      " [-1.65699548e-05 -1.10109434e+01 -4.05728912e+01]\n",
      " [-8.94065670e-06 -1.16256256e+01 -4.18063736e+01]\n",
      " [-1.97885456e-05 -1.08280735e+01 -3.99100571e+01]\n",
      " [-3.81468999e-06 -1.24619789e+01 -4.46187973e+01]\n",
      " [-9.29828093e-06 -1.15892076e+01 -4.40320663e+01]\n",
      " [-1.04903629e-05 -1.14624834e+01 -4.15859184e+01]\n",
      " [-7.98699057e-06 -1.17310820e+01 -4.28389969e+01]\n",
      " [-2.71793488e-05 -1.05131416e+01 -3.86175652e+01]\n",
      " [-1.25168972e-05 -1.12926235e+01 -4.13938675e+01]]\n"
     ]
    }
   ],
   "source": [
    "print(pred[0:10].cpu().detach().numpy())"
   ]
  },
  {
   "cell_type": "code",
   "execution_count": 53,
   "id": "a2ea13a9-856e-4354-8a2b-768110776cba",
   "metadata": {},
   "outputs": [
    {
     "name": "stdout",
     "output_type": "stream",
     "text": [
      "Predictions: tensor([0, 0, 0, 0, 0, 0, 0, 0, 0, 0, 0, 0, 0, 0, 0, 0, 0, 0, 0, 0, 0, 0, 0, 0,\n",
      "        0, 0, 0, 0, 0, 0, 0, 0, 0, 0, 0, 0, 0, 0, 0, 0, 0, 0, 0, 0, 0, 0, 0, 0,\n",
      "        0, 0, 1, 1, 1, 1, 1, 1, 1, 1, 1, 1, 1, 1, 1, 1, 1, 1, 1, 1, 1, 1, 1, 1,\n",
      "        1, 1, 1, 1, 1, 1, 1, 1, 1, 1, 1, 2, 1, 1, 1, 1, 1, 1, 1, 1, 1, 1, 1, 1,\n",
      "        1, 1, 1, 1, 2, 2, 2, 2, 2, 2, 2, 2, 2, 2, 2, 2, 2, 2, 2, 2, 2, 2, 2, 2,\n",
      "        2, 2, 2, 2, 2, 2, 2, 2, 2, 2, 2, 2, 2, 1, 2, 2, 2, 2, 2, 2, 2, 2, 2, 2,\n",
      "        2, 2, 2, 2, 2, 2])\n",
      "Expected: tensor([0, 0, 0, 0, 0, 0, 0, 0, 0, 0, 0, 0, 0, 0, 0, 0, 0, 0, 0, 0, 0, 0, 0, 0,\n",
      "        0, 0, 0, 0, 0, 0, 0, 0, 0, 0, 0, 0, 0, 0, 0, 0, 0, 0, 0, 0, 0, 0, 0, 0,\n",
      "        0, 0, 1, 1, 1, 1, 1, 1, 1, 1, 1, 1, 1, 1, 1, 1, 1, 1, 1, 1, 1, 1, 1, 1,\n",
      "        1, 1, 1, 1, 1, 1, 1, 1, 1, 1, 1, 1, 1, 1, 1, 1, 1, 1, 1, 1, 1, 1, 1, 1,\n",
      "        1, 1, 1, 1, 2, 2, 2, 2, 2, 2, 2, 2, 2, 2, 2, 2, 2, 2, 2, 2, 2, 2, 2, 2,\n",
      "        2, 2, 2, 2, 2, 2, 2, 2, 2, 2, 2, 2, 2, 2, 2, 2, 2, 2, 2, 2, 2, 2, 2, 2,\n",
      "        2, 2, 2, 2, 2, 2])\n"
     ]
    }
   ],
   "source": [
    "_, predict_classes = torch.max(pred, 1)\n",
    "print(f\"Predictions: {predict_classes}\")\n",
    "print(f\"Expected: {y}\")"
   ]
  },
  {
   "cell_type": "code",
   "execution_count": 56,
   "id": "1c3c5113-8a5d-486e-8ebb-7bc8e5d562cb",
   "metadata": {},
   "outputs": [
    {
     "name": "stdout",
     "output_type": "stream",
     "text": [
      "['Iris-setosa' 'Iris-setosa' 'Iris-setosa' 'Iris-setosa' 'Iris-setosa'\n",
      " 'Iris-setosa' 'Iris-setosa' 'Iris-setosa' 'Iris-setosa' 'Iris-setosa'\n",
      " 'Iris-setosa' 'Iris-setosa' 'Iris-setosa' 'Iris-setosa' 'Iris-setosa'\n",
      " 'Iris-setosa' 'Iris-setosa' 'Iris-setosa' 'Iris-setosa' 'Iris-setosa'\n",
      " 'Iris-setosa' 'Iris-setosa' 'Iris-setosa' 'Iris-setosa' 'Iris-setosa'\n",
      " 'Iris-setosa' 'Iris-setosa' 'Iris-setosa' 'Iris-setosa' 'Iris-setosa'\n",
      " 'Iris-setosa' 'Iris-setosa' 'Iris-setosa' 'Iris-setosa' 'Iris-setosa'\n",
      " 'Iris-setosa' 'Iris-setosa' 'Iris-setosa' 'Iris-setosa' 'Iris-setosa'\n",
      " 'Iris-setosa' 'Iris-setosa' 'Iris-setosa' 'Iris-setosa' 'Iris-setosa'\n",
      " 'Iris-setosa' 'Iris-setosa' 'Iris-setosa' 'Iris-setosa' 'Iris-setosa'\n",
      " 'Iris-versicolor' 'Iris-versicolor' 'Iris-versicolor' 'Iris-versicolor'\n",
      " 'Iris-versicolor' 'Iris-versicolor' 'Iris-versicolor' 'Iris-versicolor'\n",
      " 'Iris-versicolor' 'Iris-versicolor' 'Iris-versicolor' 'Iris-versicolor'\n",
      " 'Iris-versicolor' 'Iris-versicolor' 'Iris-versicolor' 'Iris-versicolor'\n",
      " 'Iris-versicolor' 'Iris-versicolor' 'Iris-versicolor' 'Iris-versicolor'\n",
      " 'Iris-versicolor' 'Iris-versicolor' 'Iris-versicolor' 'Iris-versicolor'\n",
      " 'Iris-versicolor' 'Iris-versicolor' 'Iris-versicolor' 'Iris-versicolor'\n",
      " 'Iris-versicolor' 'Iris-versicolor' 'Iris-versicolor' 'Iris-versicolor'\n",
      " 'Iris-versicolor' 'Iris-virginica' 'Iris-versicolor' 'Iris-versicolor'\n",
      " 'Iris-versicolor' 'Iris-versicolor' 'Iris-versicolor' 'Iris-versicolor'\n",
      " 'Iris-versicolor' 'Iris-versicolor' 'Iris-versicolor' 'Iris-versicolor'\n",
      " 'Iris-versicolor' 'Iris-versicolor' 'Iris-versicolor' 'Iris-versicolor'\n",
      " 'Iris-versicolor' 'Iris-versicolor' 'Iris-virginica' 'Iris-virginica'\n",
      " 'Iris-virginica' 'Iris-virginica' 'Iris-virginica' 'Iris-virginica'\n",
      " 'Iris-virginica' 'Iris-virginica' 'Iris-virginica' 'Iris-virginica'\n",
      " 'Iris-virginica' 'Iris-virginica' 'Iris-virginica' 'Iris-virginica'\n",
      " 'Iris-virginica' 'Iris-virginica' 'Iris-virginica' 'Iris-virginica'\n",
      " 'Iris-virginica' 'Iris-virginica' 'Iris-virginica' 'Iris-virginica'\n",
      " 'Iris-virginica' 'Iris-virginica' 'Iris-virginica' 'Iris-virginica'\n",
      " 'Iris-virginica' 'Iris-virginica' 'Iris-virginica' 'Iris-virginica'\n",
      " 'Iris-virginica' 'Iris-virginica' 'Iris-virginica' 'Iris-versicolor'\n",
      " 'Iris-virginica' 'Iris-virginica' 'Iris-virginica' 'Iris-virginica'\n",
      " 'Iris-virginica' 'Iris-virginica' 'Iris-virginica' 'Iris-virginica'\n",
      " 'Iris-virginica' 'Iris-virginica' 'Iris-virginica' 'Iris-virginica'\n",
      " 'Iris-virginica' 'Iris-virginica' 'Iris-virginica' 'Iris-virginica']\n"
     ]
    }
   ],
   "source": [
    "print(species[predict_classes])"
   ]
  },
  {
   "cell_type": "markdown",
   "id": "34e96b97-06ef-45c0-96ee-77e66957885b",
   "metadata": {},
   "source": [
    "Na základě srovnání predikce na trénovací množině a známých hodnot lze stanovit přesnost odhadu získané neuronové sítě."
   ]
  },
  {
   "cell_type": "code",
   "execution_count": 57,
   "id": "d37dcd43-65a0-4a2c-a2ea-4eff86473499",
   "metadata": {},
   "outputs": [
    {
     "name": "stdout",
     "output_type": "stream",
     "text": [
      "Accuracy: 0.9866666666666667\n"
     ]
    }
   ],
   "source": [
    "from sklearn.metrics import accuracy_score\n",
    "\n",
    "correct = accuracy_score(y, predict_classes)\n",
    "print(f\"Accuracy: {correct}\")"
   ]
  },
  {
   "cell_type": "markdown",
   "id": "56b398b3-845b-459e-93e0-537f205376da",
   "metadata": {},
   "source": [
    "Získanou neuronovou síť lze využít k predikci na základě hodnot, které nejsou součástí trénovací množiny.\n"
   ]
  },
  {
   "cell_type": "code",
   "execution_count": 59,
   "id": "fb5364e2-7641-4c25-880a-31edf2b82d19",
   "metadata": {},
   "outputs": [
    {
     "name": "stdout",
     "output_type": "stream",
     "text": [
      "tensor([[-1.6705e+01, -1.9358e-03, -6.2482e+00]],\n",
      "       grad_fn=<CompiledFunctionBackward>)\n",
      "Predict that tensor([[5., 3., 4., 2.]]) is: Iris-versicolor\n"
     ]
    }
   ],
   "source": [
    "sample_flower = torch.tensor([[5.0, 3.0, 4.0, 2.0]])\n",
    "pred = model(sample_flower)\n",
    "print(pred)\n",
    "_, predict_classes = torch.max(pred, 1)\n",
    "print(f\"Predict that {sample_flower} is: {species[predict_classes]}\")"
   ]
  },
  {
   "cell_type": "markdown",
   "id": "a4631a47-c908-4fc5-8b3d-99bfeef0bfdf",
   "metadata": {},
   "source": []
  },
  {
   "cell_type": "code",
   "execution_count": 39,
   "id": "f7b36e03-8b3f-4f3d-84ed-09b7deacbb7f",
   "metadata": {},
   "outputs": [
    {
     "data": {
      "application/json": [
       {
        "petal_l": 1.4,
        "petal_w": 0.2,
        "sepal_l": 5.1,
        "sepal_w": 3.5,
        "species": "Iris-setosa"
       },
       {
        "petal_l": 1.4,
        "petal_w": 0.2,
        "sepal_l": 4.9,
        "sepal_w": 3,
        "species": "Iris-setosa"
       },
       {
        "petal_l": 1.3,
        "petal_w": 0.2,
        "sepal_l": 4.7,
        "sepal_w": 3.2,
        "species": "Iris-setosa"
       },
       {
        "petal_l": 1.5,
        "petal_w": 0.2,
        "sepal_l": 4.6,
        "sepal_w": 3.1,
        "species": "Iris-setosa"
       },
       {
        "petal_l": 1.4,
        "petal_w": 0.2,
        "sepal_l": 5,
        "sepal_w": 3.6,
        "species": "Iris-setosa"
       },
       {
        "petal_l": 1.7,
        "petal_w": 0.4,
        "sepal_l": 5.4,
        "sepal_w": 3.9,
        "species": "Iris-setosa"
       },
       {
        "petal_l": 1.4,
        "petal_w": 0.3,
        "sepal_l": 4.6,
        "sepal_w": 3.4,
        "species": "Iris-setosa"
       },
       {
        "petal_l": 1.5,
        "petal_w": 0.2,
        "sepal_l": 5,
        "sepal_w": 3.4,
        "species": "Iris-setosa"
       },
       {
        "petal_l": 1.4,
        "petal_w": 0.2,
        "sepal_l": 4.4,
        "sepal_w": 2.9,
        "species": "Iris-setosa"
       },
       {
        "petal_l": 1.5,
        "petal_w": 0.1,
        "sepal_l": 4.9,
        "sepal_w": 3.1,
        "species": "Iris-setosa"
       },
       {
        "petal_l": 1.5,
        "petal_w": 0.2,
        "sepal_l": 5.4,
        "sepal_w": 3.7,
        "species": "Iris-setosa"
       },
       {
        "petal_l": 1.6,
        "petal_w": 0.2,
        "sepal_l": 4.8,
        "sepal_w": 3.4,
        "species": "Iris-setosa"
       },
       {
        "petal_l": 1.4,
        "petal_w": 0.1,
        "sepal_l": 4.8,
        "sepal_w": 3,
        "species": "Iris-setosa"
       },
       {
        "petal_l": 1.1,
        "petal_w": 0.1,
        "sepal_l": 4.3,
        "sepal_w": 3,
        "species": "Iris-setosa"
       },
       {
        "petal_l": 1.2,
        "petal_w": 0.2,
        "sepal_l": 5.8,
        "sepal_w": 4,
        "species": "Iris-setosa"
       },
       {
        "petal_l": 1.5,
        "petal_w": 0.4,
        "sepal_l": 5.7,
        "sepal_w": 4.4,
        "species": "Iris-setosa"
       },
       {
        "petal_l": 1.3,
        "petal_w": 0.4,
        "sepal_l": 5.4,
        "sepal_w": 3.9,
        "species": "Iris-setosa"
       },
       {
        "petal_l": 1.4,
        "petal_w": 0.3,
        "sepal_l": 5.1,
        "sepal_w": 3.5,
        "species": "Iris-setosa"
       },
       {
        "petal_l": 1.7,
        "petal_w": 0.3,
        "sepal_l": 5.7,
        "sepal_w": 3.8,
        "species": "Iris-setosa"
       },
       {
        "petal_l": 1.5,
        "petal_w": 0.3,
        "sepal_l": 5.1,
        "sepal_w": 3.8,
        "species": "Iris-setosa"
       },
       {
        "petal_l": 1.7,
        "petal_w": 0.2,
        "sepal_l": 5.4,
        "sepal_w": 3.4,
        "species": "Iris-setosa"
       },
       {
        "petal_l": 1.5,
        "petal_w": 0.4,
        "sepal_l": 5.1,
        "sepal_w": 3.7,
        "species": "Iris-setosa"
       },
       {
        "petal_l": 1,
        "petal_w": 0.2,
        "sepal_l": 4.6,
        "sepal_w": 3.6,
        "species": "Iris-setosa"
       },
       {
        "petal_l": 1.7,
        "petal_w": 0.5,
        "sepal_l": 5.1,
        "sepal_w": 3.3,
        "species": "Iris-setosa"
       },
       {
        "petal_l": 1.9,
        "petal_w": 0.2,
        "sepal_l": 4.8,
        "sepal_w": 3.4,
        "species": "Iris-setosa"
       },
       {
        "petal_l": 1.6,
        "petal_w": 0.2,
        "sepal_l": 5,
        "sepal_w": 3,
        "species": "Iris-setosa"
       },
       {
        "petal_l": 1.6,
        "petal_w": 0.4,
        "sepal_l": 5,
        "sepal_w": 3.4,
        "species": "Iris-setosa"
       },
       {
        "petal_l": 1.5,
        "petal_w": 0.2,
        "sepal_l": 5.2,
        "sepal_w": 3.5,
        "species": "Iris-setosa"
       },
       {
        "petal_l": 1.4,
        "petal_w": 0.2,
        "sepal_l": 5.2,
        "sepal_w": 3.4,
        "species": "Iris-setosa"
       },
       {
        "petal_l": 1.6,
        "petal_w": 0.2,
        "sepal_l": 4.7,
        "sepal_w": 3.2,
        "species": "Iris-setosa"
       },
       {
        "petal_l": 1.6,
        "petal_w": 0.2,
        "sepal_l": 4.8,
        "sepal_w": 3.1,
        "species": "Iris-setosa"
       },
       {
        "petal_l": 1.5,
        "petal_w": 0.4,
        "sepal_l": 5.4,
        "sepal_w": 3.4,
        "species": "Iris-setosa"
       },
       {
        "petal_l": 1.5,
        "petal_w": 0.1,
        "sepal_l": 5.2,
        "sepal_w": 4.1,
        "species": "Iris-setosa"
       },
       {
        "petal_l": 1.4,
        "petal_w": 0.2,
        "sepal_l": 5.5,
        "sepal_w": 4.2,
        "species": "Iris-setosa"
       },
       {
        "petal_l": 1.5,
        "petal_w": 0.2,
        "sepal_l": 4.9,
        "sepal_w": 3.1,
        "species": "Iris-setosa"
       },
       {
        "petal_l": 1.2,
        "petal_w": 0.2,
        "sepal_l": 5,
        "sepal_w": 3.2,
        "species": "Iris-setosa"
       },
       {
        "petal_l": 1.3,
        "petal_w": 0.2,
        "sepal_l": 5.5,
        "sepal_w": 3.5,
        "species": "Iris-setosa"
       },
       {
        "petal_l": 1.4,
        "petal_w": 0.1,
        "sepal_l": 4.9,
        "sepal_w": 3.6,
        "species": "Iris-setosa"
       },
       {
        "petal_l": 1.3,
        "petal_w": 0.2,
        "sepal_l": 4.4,
        "sepal_w": 3,
        "species": "Iris-setosa"
       },
       {
        "petal_l": 1.5,
        "petal_w": 0.2,
        "sepal_l": 5.1,
        "sepal_w": 3.4,
        "species": "Iris-setosa"
       },
       {
        "petal_l": 1.3,
        "petal_w": 0.3,
        "sepal_l": 5,
        "sepal_w": 3.5,
        "species": "Iris-setosa"
       },
       {
        "petal_l": 1.3,
        "petal_w": 0.3,
        "sepal_l": 4.5,
        "sepal_w": 2.3,
        "species": "Iris-setosa"
       },
       {
        "petal_l": 1.3,
        "petal_w": 0.2,
        "sepal_l": 4.4,
        "sepal_w": 3.2,
        "species": "Iris-setosa"
       },
       {
        "petal_l": 1.6,
        "petal_w": 0.6,
        "sepal_l": 5,
        "sepal_w": 3.5,
        "species": "Iris-setosa"
       },
       {
        "petal_l": 1.9,
        "petal_w": 0.4,
        "sepal_l": 5.1,
        "sepal_w": 3.8,
        "species": "Iris-setosa"
       },
       {
        "petal_l": 1.4,
        "petal_w": 0.3,
        "sepal_l": 4.8,
        "sepal_w": 3,
        "species": "Iris-setosa"
       },
       {
        "petal_l": 1.6,
        "petal_w": 0.2,
        "sepal_l": 5.1,
        "sepal_w": 3.8,
        "species": "Iris-setosa"
       },
       {
        "petal_l": 1.4,
        "petal_w": 0.2,
        "sepal_l": 4.6,
        "sepal_w": 3.2,
        "species": "Iris-setosa"
       },
       {
        "petal_l": 1.5,
        "petal_w": 0.2,
        "sepal_l": 5.3,
        "sepal_w": 3.7,
        "species": "Iris-setosa"
       },
       {
        "petal_l": 1.4,
        "petal_w": 0.2,
        "sepal_l": 5,
        "sepal_w": 3.3,
        "species": "Iris-setosa"
       },
       {
        "petal_l": 4.7,
        "petal_w": 1.4,
        "sepal_l": 7,
        "sepal_w": 3.2,
        "species": "Iris-versicolor"
       },
       {
        "petal_l": 4.5,
        "petal_w": 1.5,
        "sepal_l": 6.4,
        "sepal_w": 3.2,
        "species": "Iris-versicolor"
       },
       {
        "petal_l": 4.9,
        "petal_w": 1.5,
        "sepal_l": 6.9,
        "sepal_w": 3.1,
        "species": "Iris-versicolor"
       },
       {
        "petal_l": 4,
        "petal_w": 1.3,
        "sepal_l": 5.5,
        "sepal_w": 2.3,
        "species": "Iris-versicolor"
       },
       {
        "petal_l": 4.6,
        "petal_w": 1.5,
        "sepal_l": 6.5,
        "sepal_w": 2.8,
        "species": "Iris-versicolor"
       },
       {
        "petal_l": 4.5,
        "petal_w": 1.3,
        "sepal_l": 5.7,
        "sepal_w": 2.8,
        "species": "Iris-versicolor"
       },
       {
        "petal_l": 4.7,
        "petal_w": 1.6,
        "sepal_l": 6.3,
        "sepal_w": 3.3,
        "species": "Iris-versicolor"
       },
       {
        "petal_l": 3.3,
        "petal_w": 1,
        "sepal_l": 4.9,
        "sepal_w": 2.4,
        "species": "Iris-versicolor"
       },
       {
        "petal_l": 4.6,
        "petal_w": 1.3,
        "sepal_l": 6.6,
        "sepal_w": 2.9,
        "species": "Iris-versicolor"
       },
       {
        "petal_l": 3.9,
        "petal_w": 1.4,
        "sepal_l": 5.2,
        "sepal_w": 2.7,
        "species": "Iris-versicolor"
       },
       {
        "petal_l": 3.5,
        "petal_w": 1,
        "sepal_l": 5,
        "sepal_w": 2,
        "species": "Iris-versicolor"
       },
       {
        "petal_l": 4.2,
        "petal_w": 1.5,
        "sepal_l": 5.9,
        "sepal_w": 3,
        "species": "Iris-versicolor"
       },
       {
        "petal_l": 4,
        "petal_w": 1,
        "sepal_l": 6,
        "sepal_w": 2.2,
        "species": "Iris-versicolor"
       },
       {
        "petal_l": 4.7,
        "petal_w": 1.4,
        "sepal_l": 6.1,
        "sepal_w": 2.9,
        "species": "Iris-versicolor"
       },
       {
        "petal_l": 3.6,
        "petal_w": 1.3,
        "sepal_l": 5.6,
        "sepal_w": 2.9,
        "species": "Iris-versicolor"
       },
       {
        "petal_l": 4.4,
        "petal_w": 1.4,
        "sepal_l": 6.7,
        "sepal_w": 3.1,
        "species": "Iris-versicolor"
       },
       {
        "petal_l": 4.5,
        "petal_w": 1.5,
        "sepal_l": 5.6,
        "sepal_w": 3,
        "species": "Iris-versicolor"
       },
       {
        "petal_l": 4.1,
        "petal_w": 1,
        "sepal_l": 5.8,
        "sepal_w": 2.7,
        "species": "Iris-versicolor"
       },
       {
        "petal_l": 4.5,
        "petal_w": 1.5,
        "sepal_l": 6.2,
        "sepal_w": 2.2,
        "species": "Iris-versicolor"
       },
       {
        "petal_l": 3.9,
        "petal_w": 1.1,
        "sepal_l": 5.6,
        "sepal_w": 2.5,
        "species": "Iris-versicolor"
       },
       {
        "petal_l": 4.8,
        "petal_w": 1.8,
        "sepal_l": 5.9,
        "sepal_w": 3.2,
        "species": "Iris-versicolor"
       },
       {
        "petal_l": 4,
        "petal_w": 1.3,
        "sepal_l": 6.1,
        "sepal_w": 2.8,
        "species": "Iris-versicolor"
       },
       {
        "petal_l": 4.9,
        "petal_w": 1.5,
        "sepal_l": 6.3,
        "sepal_w": 2.5,
        "species": "Iris-versicolor"
       },
       {
        "petal_l": 4.7,
        "petal_w": 1.2,
        "sepal_l": 6.1,
        "sepal_w": 2.8,
        "species": "Iris-versicolor"
       },
       {
        "petal_l": 4.3,
        "petal_w": 1.3,
        "sepal_l": 6.4,
        "sepal_w": 2.9,
        "species": "Iris-versicolor"
       },
       {
        "petal_l": 4.4,
        "petal_w": 1.4,
        "sepal_l": 6.6,
        "sepal_w": 3,
        "species": "Iris-versicolor"
       },
       {
        "petal_l": 4.8,
        "petal_w": 1.4,
        "sepal_l": 6.8,
        "sepal_w": 2.8,
        "species": "Iris-versicolor"
       },
       {
        "petal_l": 5,
        "petal_w": 1.7,
        "sepal_l": 6.7,
        "sepal_w": 3,
        "species": "Iris-versicolor"
       },
       {
        "petal_l": 4.5,
        "petal_w": 1.5,
        "sepal_l": 6,
        "sepal_w": 2.9,
        "species": "Iris-versicolor"
       },
       {
        "petal_l": 3.5,
        "petal_w": 1,
        "sepal_l": 5.7,
        "sepal_w": 2.6,
        "species": "Iris-versicolor"
       },
       {
        "petal_l": 3.8,
        "petal_w": 1.1,
        "sepal_l": 5.5,
        "sepal_w": 2.4,
        "species": "Iris-versicolor"
       },
       {
        "petal_l": 3.7,
        "petal_w": 1,
        "sepal_l": 5.5,
        "sepal_w": 2.4,
        "species": "Iris-versicolor"
       },
       {
        "petal_l": 3.9,
        "petal_w": 1.2,
        "sepal_l": 5.8,
        "sepal_w": 2.7,
        "species": "Iris-versicolor"
       },
       {
        "petal_l": 5.1,
        "petal_w": 1.6,
        "sepal_l": 6,
        "sepal_w": 2.7,
        "species": "Iris-versicolor"
       },
       {
        "petal_l": 4.5,
        "petal_w": 1.5,
        "sepal_l": 5.4,
        "sepal_w": 3,
        "species": "Iris-versicolor"
       },
       {
        "petal_l": 4.5,
        "petal_w": 1.6,
        "sepal_l": 6,
        "sepal_w": 3.4,
        "species": "Iris-versicolor"
       },
       {
        "petal_l": 4.7,
        "petal_w": 1.5,
        "sepal_l": 6.7,
        "sepal_w": 3.1,
        "species": "Iris-versicolor"
       },
       {
        "petal_l": 4.4,
        "petal_w": 1.3,
        "sepal_l": 6.3,
        "sepal_w": 2.3,
        "species": "Iris-versicolor"
       },
       {
        "petal_l": 4.1,
        "petal_w": 1.3,
        "sepal_l": 5.6,
        "sepal_w": 3,
        "species": "Iris-versicolor"
       },
       {
        "petal_l": 4,
        "petal_w": 1.3,
        "sepal_l": 5.5,
        "sepal_w": 2.5,
        "species": "Iris-versicolor"
       },
       {
        "petal_l": 4.4,
        "petal_w": 1.2,
        "sepal_l": 5.5,
        "sepal_w": 2.6,
        "species": "Iris-versicolor"
       },
       {
        "petal_l": 4.6,
        "petal_w": 1.4,
        "sepal_l": 6.1,
        "sepal_w": 3,
        "species": "Iris-versicolor"
       },
       {
        "petal_l": 4,
        "petal_w": 1.2,
        "sepal_l": 5.8,
        "sepal_w": 2.6,
        "species": "Iris-versicolor"
       },
       {
        "petal_l": 3.3,
        "petal_w": 1,
        "sepal_l": 5,
        "sepal_w": 2.3,
        "species": "Iris-versicolor"
       },
       {
        "petal_l": 4.2,
        "petal_w": 1.3,
        "sepal_l": 5.6,
        "sepal_w": 2.7,
        "species": "Iris-versicolor"
       },
       {
        "petal_l": 4.2,
        "petal_w": 1.2,
        "sepal_l": 5.7,
        "sepal_w": 3,
        "species": "Iris-versicolor"
       },
       {
        "petal_l": 4.2,
        "petal_w": 1.3,
        "sepal_l": 5.7,
        "sepal_w": 2.9,
        "species": "Iris-versicolor"
       },
       {
        "petal_l": 4.3,
        "petal_w": 1.3,
        "sepal_l": 6.2,
        "sepal_w": 2.9,
        "species": "Iris-versicolor"
       },
       {
        "petal_l": 3,
        "petal_w": 1.1,
        "sepal_l": 5.1,
        "sepal_w": 2.5,
        "species": "Iris-versicolor"
       },
       {
        "petal_l": 4.1,
        "petal_w": 1.3,
        "sepal_l": 5.7,
        "sepal_w": 2.8,
        "species": "Iris-versicolor"
       },
       {
        "petal_l": 6,
        "petal_w": 2.5,
        "sepal_l": 6.3,
        "sepal_w": 3.3,
        "species": "Iris-virginica"
       },
       {
        "petal_l": 5.1,
        "petal_w": 1.9,
        "sepal_l": 5.8,
        "sepal_w": 2.7,
        "species": "Iris-virginica"
       },
       {
        "petal_l": 5.9,
        "petal_w": 2.1,
        "sepal_l": 7.1,
        "sepal_w": 3,
        "species": "Iris-virginica"
       },
       {
        "petal_l": 5.6,
        "petal_w": 1.8,
        "sepal_l": 6.3,
        "sepal_w": 2.9,
        "species": "Iris-virginica"
       },
       {
        "petal_l": 5.8,
        "petal_w": 2.2,
        "sepal_l": 6.5,
        "sepal_w": 3,
        "species": "Iris-virginica"
       },
       {
        "petal_l": 6.6,
        "petal_w": 2.1,
        "sepal_l": 7.6,
        "sepal_w": 3,
        "species": "Iris-virginica"
       },
       {
        "petal_l": 4.5,
        "petal_w": 1.7,
        "sepal_l": 4.9,
        "sepal_w": 2.5,
        "species": "Iris-virginica"
       },
       {
        "petal_l": 6.3,
        "petal_w": 1.8,
        "sepal_l": 7.3,
        "sepal_w": 2.9,
        "species": "Iris-virginica"
       },
       {
        "petal_l": 5.8,
        "petal_w": 1.8,
        "sepal_l": 6.7,
        "sepal_w": 2.5,
        "species": "Iris-virginica"
       },
       {
        "petal_l": 6.1,
        "petal_w": 2.5,
        "sepal_l": 7.2,
        "sepal_w": 3.6,
        "species": "Iris-virginica"
       },
       {
        "petal_l": 5.1,
        "petal_w": 2,
        "sepal_l": 6.5,
        "sepal_w": 3.2,
        "species": "Iris-virginica"
       },
       {
        "petal_l": 5.3,
        "petal_w": 1.9,
        "sepal_l": 6.4,
        "sepal_w": 2.7,
        "species": "Iris-virginica"
       },
       {
        "petal_l": 5.5,
        "petal_w": 2.1,
        "sepal_l": 6.8,
        "sepal_w": 3,
        "species": "Iris-virginica"
       },
       {
        "petal_l": 5,
        "petal_w": 2,
        "sepal_l": 5.7,
        "sepal_w": 2.5,
        "species": "Iris-virginica"
       },
       {
        "petal_l": 5.1,
        "petal_w": 2.4,
        "sepal_l": 5.8,
        "sepal_w": 2.8,
        "species": "Iris-virginica"
       },
       {
        "petal_l": 5.3,
        "petal_w": 2.3,
        "sepal_l": 6.4,
        "sepal_w": 3.2,
        "species": "Iris-virginica"
       },
       {
        "petal_l": 5.5,
        "petal_w": 1.8,
        "sepal_l": 6.5,
        "sepal_w": 3,
        "species": "Iris-virginica"
       },
       {
        "petal_l": 6.7,
        "petal_w": 2.2,
        "sepal_l": 7.7,
        "sepal_w": 3.8,
        "species": "Iris-virginica"
       },
       {
        "petal_l": 6.9,
        "petal_w": 2.3,
        "sepal_l": 7.7,
        "sepal_w": 2.6,
        "species": "Iris-virginica"
       },
       {
        "petal_l": 5,
        "petal_w": 1.5,
        "sepal_l": 6,
        "sepal_w": 2.2,
        "species": "Iris-virginica"
       },
       {
        "petal_l": 5.7,
        "petal_w": 2.3,
        "sepal_l": 6.9,
        "sepal_w": 3.2,
        "species": "Iris-virginica"
       },
       {
        "petal_l": 4.9,
        "petal_w": 2,
        "sepal_l": 5.6,
        "sepal_w": 2.8,
        "species": "Iris-virginica"
       },
       {
        "petal_l": 6.7,
        "petal_w": 2,
        "sepal_l": 7.7,
        "sepal_w": 2.8,
        "species": "Iris-virginica"
       },
       {
        "petal_l": 4.9,
        "petal_w": 1.8,
        "sepal_l": 6.3,
        "sepal_w": 2.7,
        "species": "Iris-virginica"
       },
       {
        "petal_l": 5.7,
        "petal_w": 2.1,
        "sepal_l": 6.7,
        "sepal_w": 3.3,
        "species": "Iris-virginica"
       },
       {
        "petal_l": 6,
        "petal_w": 1.8,
        "sepal_l": 7.2,
        "sepal_w": 3.2,
        "species": "Iris-virginica"
       },
       {
        "petal_l": 4.8,
        "petal_w": 1.8,
        "sepal_l": 6.2,
        "sepal_w": 2.8,
        "species": "Iris-virginica"
       },
       {
        "petal_l": 4.9,
        "petal_w": 1.8,
        "sepal_l": 6.1,
        "sepal_w": 3,
        "species": "Iris-virginica"
       },
       {
        "petal_l": 5.6,
        "petal_w": 2.1,
        "sepal_l": 6.4,
        "sepal_w": 2.8,
        "species": "Iris-virginica"
       },
       {
        "petal_l": 5.8,
        "petal_w": 1.6,
        "sepal_l": 7.2,
        "sepal_w": 3,
        "species": "Iris-virginica"
       },
       {
        "petal_l": 6.1,
        "petal_w": 1.9,
        "sepal_l": 7.4,
        "sepal_w": 2.8,
        "species": "Iris-virginica"
       },
       {
        "petal_l": 6.4,
        "petal_w": 2,
        "sepal_l": 7.9,
        "sepal_w": 3.8,
        "species": "Iris-virginica"
       },
       {
        "petal_l": 5.6,
        "petal_w": 2.2,
        "sepal_l": 6.4,
        "sepal_w": 2.8,
        "species": "Iris-virginica"
       },
       {
        "petal_l": 5.1,
        "petal_w": 1.5,
        "sepal_l": 6.3,
        "sepal_w": 2.8,
        "species": "Iris-virginica"
       },
       {
        "petal_l": 5.6,
        "petal_w": 1.4,
        "sepal_l": 6.1,
        "sepal_w": 2.6,
        "species": "Iris-virginica"
       },
       {
        "petal_l": 6.1,
        "petal_w": 2.3,
        "sepal_l": 7.7,
        "sepal_w": 3,
        "species": "Iris-virginica"
       },
       {
        "petal_l": 5.6,
        "petal_w": 2.4,
        "sepal_l": 6.3,
        "sepal_w": 3.4,
        "species": "Iris-virginica"
       },
       {
        "petal_l": 5.5,
        "petal_w": 1.8,
        "sepal_l": 6.4,
        "sepal_w": 3.1,
        "species": "Iris-virginica"
       },
       {
        "petal_l": 4.8,
        "petal_w": 1.8,
        "sepal_l": 6,
        "sepal_w": 3,
        "species": "Iris-virginica"
       },
       {
        "petal_l": 5.4,
        "petal_w": 2.1,
        "sepal_l": 6.9,
        "sepal_w": 3.1,
        "species": "Iris-virginica"
       },
       {
        "petal_l": 5.6,
        "petal_w": 2.4,
        "sepal_l": 6.7,
        "sepal_w": 3.1,
        "species": "Iris-virginica"
       },
       {
        "petal_l": 5.1,
        "petal_w": 2.3,
        "sepal_l": 6.9,
        "sepal_w": 3.1,
        "species": "Iris-virginica"
       },
       {
        "petal_l": 5.1,
        "petal_w": 1.9,
        "sepal_l": 5.8,
        "sepal_w": 2.7,
        "species": "Iris-virginica"
       },
       {
        "petal_l": 5.9,
        "petal_w": 2.3,
        "sepal_l": 6.8,
        "sepal_w": 3.2,
        "species": "Iris-virginica"
       },
       {
        "petal_l": 5.7,
        "petal_w": 2.5,
        "sepal_l": 6.7,
        "sepal_w": 3.3,
        "species": "Iris-virginica"
       },
       {
        "petal_l": 5.2,
        "petal_w": 2.3,
        "sepal_l": 6.7,
        "sepal_w": 3,
        "species": "Iris-virginica"
       },
       {
        "petal_l": 5,
        "petal_w": 1.9,
        "sepal_l": 6.3,
        "sepal_w": 2.5,
        "species": "Iris-virginica"
       },
       {
        "petal_l": 5.2,
        "petal_w": 2,
        "sepal_l": 6.5,
        "sepal_w": 3,
        "species": "Iris-virginica"
       },
       {
        "petal_l": 5.4,
        "petal_w": 2.3,
        "sepal_l": 6.2,
        "sepal_w": 3.4,
        "species": "Iris-virginica"
       },
       {
        "petal_l": 5.1,
        "petal_w": 1.8,
        "sepal_l": 5.9,
        "sepal_w": 3,
        "species": "Iris-virginica"
       }
      ],
      "text/plain": [
       "<IPython.core.display.JSON object>"
      ]
     },
     "execution_count": 39,
     "metadata": {
      "application/json": {
       "expanded": false,
       "root": "root"
      }
     },
     "output_type": "execute_result"
    }
   ],
   "source": [
    "from IPython.display import JSON\n",
    "JSON(table)"
   ]
  },
  {
   "cell_type": "code",
   "execution_count": 37,
   "id": "281e4c6c-fd75-464c-9b95-460ec2890490",
   "metadata": {},
   "outputs": [
    {
     "data": {
      "text/plain": [
       "['Iris-setosa',\n",
       " 'Iris-setosa',\n",
       " 'Iris-setosa',\n",
       " 'Iris-setosa',\n",
       " 'Iris-setosa',\n",
       " 'Iris-setosa',\n",
       " 'Iris-setosa',\n",
       " 'Iris-setosa',\n",
       " 'Iris-setosa',\n",
       " 'Iris-setosa',\n",
       " 'Iris-setosa',\n",
       " 'Iris-setosa',\n",
       " 'Iris-setosa',\n",
       " 'Iris-setosa',\n",
       " 'Iris-setosa',\n",
       " 'Iris-setosa',\n",
       " 'Iris-setosa',\n",
       " 'Iris-setosa',\n",
       " 'Iris-setosa',\n",
       " 'Iris-setosa',\n",
       " 'Iris-setosa',\n",
       " 'Iris-setosa',\n",
       " 'Iris-setosa',\n",
       " 'Iris-setosa',\n",
       " 'Iris-setosa',\n",
       " 'Iris-setosa',\n",
       " 'Iris-setosa',\n",
       " 'Iris-setosa',\n",
       " 'Iris-setosa',\n",
       " 'Iris-setosa',\n",
       " 'Iris-setosa',\n",
       " 'Iris-setosa',\n",
       " 'Iris-setosa',\n",
       " 'Iris-setosa',\n",
       " 'Iris-setosa',\n",
       " 'Iris-setosa',\n",
       " 'Iris-setosa',\n",
       " 'Iris-setosa',\n",
       " 'Iris-setosa',\n",
       " 'Iris-setosa',\n",
       " 'Iris-setosa',\n",
       " 'Iris-setosa',\n",
       " 'Iris-setosa',\n",
       " 'Iris-setosa',\n",
       " 'Iris-setosa',\n",
       " 'Iris-setosa',\n",
       " 'Iris-setosa',\n",
       " 'Iris-setosa',\n",
       " 'Iris-setosa',\n",
       " 'Iris-setosa',\n",
       " 'Iris-versicolor',\n",
       " 'Iris-versicolor',\n",
       " 'Iris-versicolor',\n",
       " 'Iris-versicolor',\n",
       " 'Iris-versicolor',\n",
       " 'Iris-versicolor',\n",
       " 'Iris-versicolor',\n",
       " 'Iris-versicolor',\n",
       " 'Iris-versicolor',\n",
       " 'Iris-versicolor',\n",
       " 'Iris-versicolor',\n",
       " 'Iris-versicolor',\n",
       " 'Iris-versicolor',\n",
       " 'Iris-versicolor',\n",
       " 'Iris-versicolor',\n",
       " 'Iris-versicolor',\n",
       " 'Iris-versicolor',\n",
       " 'Iris-versicolor',\n",
       " 'Iris-versicolor',\n",
       " 'Iris-versicolor',\n",
       " 'Iris-versicolor',\n",
       " 'Iris-versicolor',\n",
       " 'Iris-versicolor',\n",
       " 'Iris-versicolor',\n",
       " 'Iris-versicolor',\n",
       " 'Iris-versicolor',\n",
       " 'Iris-versicolor',\n",
       " 'Iris-versicolor',\n",
       " 'Iris-versicolor',\n",
       " 'Iris-versicolor',\n",
       " 'Iris-versicolor',\n",
       " 'Iris-versicolor',\n",
       " 'Iris-versicolor',\n",
       " 'Iris-versicolor',\n",
       " 'Iris-versicolor',\n",
       " 'Iris-versicolor',\n",
       " 'Iris-versicolor',\n",
       " 'Iris-versicolor',\n",
       " 'Iris-versicolor',\n",
       " 'Iris-versicolor',\n",
       " 'Iris-versicolor',\n",
       " 'Iris-versicolor',\n",
       " 'Iris-versicolor',\n",
       " 'Iris-versicolor',\n",
       " 'Iris-versicolor',\n",
       " 'Iris-versicolor',\n",
       " 'Iris-versicolor',\n",
       " 'Iris-versicolor',\n",
       " 'Iris-versicolor',\n",
       " 'Iris-versicolor',\n",
       " 'Iris-virginica',\n",
       " 'Iris-virginica',\n",
       " 'Iris-virginica',\n",
       " 'Iris-virginica',\n",
       " 'Iris-virginica',\n",
       " 'Iris-virginica',\n",
       " 'Iris-virginica',\n",
       " 'Iris-virginica',\n",
       " 'Iris-virginica',\n",
       " 'Iris-virginica',\n",
       " 'Iris-virginica',\n",
       " 'Iris-virginica',\n",
       " 'Iris-virginica',\n",
       " 'Iris-virginica',\n",
       " 'Iris-virginica',\n",
       " 'Iris-virginica',\n",
       " 'Iris-virginica',\n",
       " 'Iris-virginica',\n",
       " 'Iris-virginica',\n",
       " 'Iris-virginica',\n",
       " 'Iris-virginica',\n",
       " 'Iris-virginica',\n",
       " 'Iris-virginica',\n",
       " 'Iris-virginica',\n",
       " 'Iris-virginica',\n",
       " 'Iris-virginica',\n",
       " 'Iris-virginica',\n",
       " 'Iris-virginica',\n",
       " 'Iris-virginica',\n",
       " 'Iris-virginica',\n",
       " 'Iris-virginica',\n",
       " 'Iris-virginica',\n",
       " 'Iris-virginica',\n",
       " 'Iris-virginica',\n",
       " 'Iris-virginica',\n",
       " 'Iris-virginica',\n",
       " 'Iris-virginica',\n",
       " 'Iris-virginica',\n",
       " 'Iris-virginica',\n",
       " 'Iris-virginica',\n",
       " 'Iris-virginica',\n",
       " 'Iris-virginica',\n",
       " 'Iris-virginica',\n",
       " 'Iris-virginica',\n",
       " 'Iris-virginica',\n",
       " 'Iris-virginica',\n",
       " 'Iris-virginica',\n",
       " 'Iris-virginica',\n",
       " 'Iris-virginica',\n",
       " 'Iris-virginica']"
      ]
     },
     "execution_count": 37,
     "metadata": {},
     "output_type": "execute_result"
    }
   ],
   "source": [
    "targets"
   ]
  },
  {
   "cell_type": "code",
   "execution_count": 36,
   "id": "81323775-ea81-49c2-be7d-bbe76c083e6f",
   "metadata": {},
   "outputs": [
    {
     "data": {
      "text/plain": [
       "150"
      ]
     },
     "execution_count": 36,
     "metadata": {},
     "output_type": "execute_result"
    }
   ],
   "source": [
    "len(iris.target)"
   ]
  },
  {
   "cell_type": "code",
   "execution_count": null,
   "id": "394273b9-e061-43e0-b457-3366680a02d9",
   "metadata": {},
   "outputs": [],
   "source": []
  }
 ],
 "metadata": {
  "kernelspec": {
   "display_name": "Python 3 (ipykernel)",
   "language": "python",
   "name": "python3"
  },
  "language_info": {
   "codemirror_mode": {
    "name": "ipython",
    "version": 3
   },
   "file_extension": ".py",
   "mimetype": "text/x-python",
   "name": "python",
   "nbconvert_exporter": "python",
   "pygments_lexer": "ipython3",
   "version": "3.10.6"
  }
 },
 "nbformat": 4,
 "nbformat_minor": 5
}
