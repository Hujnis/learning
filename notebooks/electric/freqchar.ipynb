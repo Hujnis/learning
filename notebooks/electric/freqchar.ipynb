{
  "nbformat": 4,
  "nbformat_minor": 0,
  "metadata": {
    "colab": {
      "name": "FreqChar.ipynb",
      "provenance": [],
      "authorship_tag": "ABX9TyMGWkMQAaSzEd1I2R56BYtj",
      "include_colab_link": true
    },
    "kernelspec": {
      "name": "python3",
      "display_name": "Python 3"
    }
  },
  "cells": [
    {
      "cell_type": "markdown",
      "metadata": {
        "id": "view-in-github",
        "colab_type": "text"
      },
      "source": [
        "<a href=\"https://colab.research.google.com/github/hrbolek/learning/blob/master/electric/freqchar.ipynb\" target=\"_parent\"><img src=\"https://colab.research.google.com/assets/colab-badge.svg\" alt=\"Open In Colab\"/></a>"
      ]
    },
    {
      "cell_type": "markdown",
      "metadata": {
        "id": "RUwXJPMu2kNN",
        "colab_type": "text"
      },
      "source": [
        "# Frekvenční charakteristika\n",
        "\n",
        "$F(\\omega)=\\frac{1}{1+j\\omega RC+\\omega^2LC}$"
      ]
    },
    {
      "cell_type": "code",
      "metadata": {
        "id": "q9z0fIuz2-qS",
        "colab_type": "code",
        "colab": {}
      },
      "source": [
        "import matplotlib.pyplot as plt\n",
        "import numpy as np\n",
        "import math\n",
        "%matplotlib inline"
      ],
      "execution_count": 0,
      "outputs": []
    },
    {
      "cell_type": "code",
      "metadata": {
        "id": "o7JF-f5a2Wpm",
        "colab_type": "code",
        "colab": {}
      },
      "source": [
        "R = 0.05\n",
        "L = 1.0\n",
        "C = 1.0"
      ],
      "execution_count": 0,
      "outputs": []
    },
    {
      "cell_type": "code",
      "metadata": {
        "id": "Do1dcZJB29uU",
        "colab_type": "code",
        "outputId": "a90123c6-d021-4ec9-a5be-69707e622904",
        "colab": {
          "base_uri": "https://localhost:8080/",
          "height": 265
        }
      },
      "source": [
        "w_max = 3 / math.sqrt(L * C)\n",
        "N = 10000\n",
        "w = np.linspace(0, w_max, N)\n",
        "\n",
        "F = 1. / (1 - w * w * L * C + 1j * w * R * C)\n",
        "plt.plot(w, abs(F))\n",
        "plt.grid(which='both')"
      ],
      "execution_count": 7,
      "outputs": [
        {
          "output_type": "display_data",
          "data": {
            "image/png": "[encoded data removed]",
            "text/plain": [
              "<Figure size 432x288 with 1 Axes>"
            ]
          },
          "metadata": {
            "tags": []
          }
        }
      ]
    }
  ]
}