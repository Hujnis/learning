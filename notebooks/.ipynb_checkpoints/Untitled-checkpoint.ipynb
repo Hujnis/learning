{
 "cells": [
  {
   "cell_type": "code",
   "execution_count": 5,
   "id": "a6bf135b-67a9-4e37-a143-4696f6552ea7",
   "metadata": {},
   "outputs": [
    {
     "name": "stdout",
     "output_type": "stream",
     "text": [
      "{\n",
      "  '$$typeof': Symbol(react.element),\n",
      "  type: [Function: G],\n",
      "  key: null,\n",
      "  ref: null,\n",
      "  props: {\n",
      "    name: 'g',\n",
      "    children: {\n",
      "      '$$typeof': Symbol(react.element),\n",
      "      type: [Function: F],\n",
      "      key: null,\n",
      "      ref: null,\n",
      "      props: [Object],\n",
      "      _owner: null,\n",
      "      _store: {}\n",
      "    }\n",
      "  },\n",
      "  _owner: null,\n",
      "  _store: {}\n",
      "}\n"
     ]
    }
   ],
   "source": [
    "import React from 'react'\n",
    "\n",
    "const F = ({name}) => <>{name}</>\n",
    "const G = ({name, children=null}) => <>{name}.{children}</>\n",
    "const f = <F name=\"name\" />\n",
    "const g = <G name=\"g\"><F name=\"name\" /></G>\n",
    "g"
   ]
  },
  {
   "cell_type": "code",
   "execution_count": 21,
   "id": "3e48e2cc-76cd-4a46-9179-dc381d74a61e",
   "metadata": {},
   "outputs": [
    {
     "name": "stdout",
     "output_type": "stream",
     "text": [
      "{\n",
      "  '$$typeof': Symbol(react.element),\n",
      "  type: [Function: A],\n",
      "  key: null,\n",
      "  ref: null,\n",
      "  props: {\n",
      "    children: {\n",
      "      '$$typeof': Symbol(react.element),\n",
      "      type: [Function: A],\n",
      "      key: null,\n",
      "      ref: null,\n",
      "      props: {},\n",
      "      _owner: null,\n",
      "      _store: {}\n",
      "    }\n",
      "  },\n",
      "  _owner: null,\n",
      "  _store: {}\n",
      "}\n"
     ]
    }
   ],
   "source": [
    "import React from 'react'\n",
    "\n",
    "const A = ({name=\"A\", children=null}) => <>{name}{\"[\"}{children}{\"]\"}</>\n",
    "const a = <A><A/></A>\n",
    "a"
   ]
  },
  {
   "cell_type": "code",
   "execution_count": 20,
   "id": "1131f88c-45fe-40bc-b37f-e418a4af3f30",
   "metadata": {},
   "outputs": [
    {
     "name": "stdout",
     "output_type": "stream",
     "text": [
      "{\n",
      "  '$$typeof': Symbol(react.element),\n",
      "  type: [Function: A],\n",
      "  key: null,\n",
      "  ref: null,\n",
      "  props: {\n",
      "    children: {\n",
      "      '$$typeof': Symbol(react.element),\n",
      "      type: [Function: A],\n",
      "      key: null,\n",
      "      ref: null,\n",
      "      props: {},\n",
      "      _owner: null,\n",
      "      _store: {}\n",
      "    }\n",
      "  },\n",
      "  _owner: null,\n",
      "  _store: {}\n",
      "}\n"
     ]
    }
   ],
   "source": [
    "import React from 'react'\n",
    "\n",
    "const A = ({name=\"A\", children=null}) => <>{name}{\"[\"}{children}{\"]\"}</>\n",
    "const a = <A><A/></A>\n",
    "const defitem = {}\n",
    "defitem.type=null\n",
    "defitem.props={}\n",
    "const resolveChildren = (item=defitem) => {\n",
    "    const {type, props} = item\n",
    "    const Component = type\n",
    "    const {children, ...newprops} = props\n",
    "    if (children) {\n",
    "        return <Component {...newprops}>{resolveChildren(children)}</Component>\n",
    "    } else {\n",
    "        return <Component {...newprops} />\n",
    "    }\n",
    "    \n",
    "}\n",
    "const aa = resolveChildren(a)\n",
    "aa"
   ]
  },
  {
   "cell_type": "code",
   "execution_count": 46,
   "id": "76a754c2-e01d-4053-ae83-9bc99084f767",
   "metadata": {},
   "outputs": [
    {
     "name": "stdout",
     "output_type": "stream",
     "text": [
      "{\n",
      "  '$$typeof': Symbol(react.element),\n",
      "  type: [Function: Result] { displayName: 'MC' },\n",
      "  key: null,\n",
      "  ref: null,\n",
      "  props: { value: 'value' },\n",
      "  _owner: null,\n",
      "  _store: {}\n",
      "}\n"
     ]
    }
   ],
   "source": [
    "import React from 'react'\n",
    "\n",
    "const MappedComponent = ({Component=<>undef</>, ...propertyMappers}) => {\n",
    "    const constantProperties = {}\n",
    "    const functionalProperties = {}\n",
    "    for(const key in propertyMappers) {\n",
    "        /**\n",
    "         * prochazime vsechny polozky v propertyMappers a na zaklade nazvu klice vytvarime novou property\n",
    "         * jeji nazev je nazvem klice, jeji hodnota je dana volanim mapovaci funkce\n",
    "         * parametrem mapovaci funkce jsou vsechny predane properties s vyjimkou children\n",
    "         * \n",
    "         * pokud v mapovani neni funkce, povazuje se to za konstantu a tato se primo preda\n",
    "         */\n",
    "        let value = propertyMappers[key]\n",
    "        if (typeof value === 'function') {\n",
    "            functionalProperties[key] = value\n",
    "        } else {\n",
    "            constantProperties[key] = value\n",
    "        }\n",
    "    }\n",
    "\n",
    "    const Result = ({children=null, ...props}) => {\n",
    "        const properties = {...constantProperties}\n",
    "        /**\n",
    "         * vezmou se properties, ktere jsou definovany jako konstanty\n",
    "         */\n",
    "\n",
    "        /**\n",
    "         * pridaji se dynamicke properties (definovane pomoci funkci)\n",
    "         */\n",
    "        for(const key in functionalProperties) {\n",
    "            properties[key] = functionalProperties[key](props)\n",
    "        }\n",
    "\n",
    "        /**\n",
    "         * properties jsou definovany, ted jen zavolame komponentu\n",
    "         */\n",
    "        return <Component {...properties}>{children}</Component>\n",
    "    }\n",
    "    Result.displayName = Component.displayName || \"MC\";\n",
    "    return Result\n",
    "}\n",
    "\n",
    "const A = ({...props}) => {\n",
    "    return <div>{JSON.stringify(props)}</div>\n",
    "}\n",
    "const a = <A />\n",
    "a\n",
    "const M = MappedComponent({Component: A, name: \"M\", value: props => props?.value})\n",
    "const m = <M value={\"value\"}/>\n",
    "m"
   ]
  },
  {
   "cell_type": "code",
   "execution_count": 47,
   "id": "b93b8194-06b1-4daf-980b-b0c14785f403",
   "metadata": {},
   "outputs": [
    {
     "data": {
      "text/html": [
       "<div>{&quot;name&quot;:&quot;M&quot;,&quot;value&quot;:&quot;value&quot;,&quot;children&quot;:null}</div>"
      ]
     },
     "metadata": {},
     "output_type": "display_data"
    }
   ],
   "source": [
    "import React from 'react'\n",
    "import ReactDOMServer from 'react-dom/server';\n",
    "import * as tslab from 'tslab';\n",
    "\n",
    "function DisplayReact(element) {\n",
    "    const html = ReactDOMServer.renderToString(element);\n",
    "    tslab.display.html(html);\n",
    "}\n",
    "\n",
    "const A = ({...props}) => {\n",
    "    return <div>{JSON.stringify(props)}</div>\n",
    "}\n",
    "const M = MappedComponent({Component: A, name: \"M\", value: props => props?.value})\n",
    "const m = <M value={\"value\"}/>\n",
    "m\n",
    "\n",
    "DisplayReact(m)"
   ]
  },
  {
   "cell_type": "code",
   "execution_count": 51,
   "id": "8ef60b8c-b77e-4761-aad0-9a4f3c2fc3a4",
   "metadata": {},
   "outputs": [
    {
     "name": "stdout",
     "output_type": "stream",
     "text": [
      "results [ [Function: Result] { displayName: 'MC' } ]\n"
     ]
    },
    {
     "name": "stderr",
     "output_type": "stream",
     "text": [
      "Warning: React.createElement: type is invalid -- expected a string (for built-in components) or a class/function (for composite components) but got: <Fragment />. Did you accidentally export a JSX literal instead of a component?\n",
      "    at Result (evalmachine.MC:27:23)\n",
      "    at Result (evalmachine.UI:47:23)\n",
      "/home/jovyan/node_modules/react-dom/cjs/react-dom-server-legacy.node.development.js:6984\n",
      "    throw fatalError;\n",
      "    ^\n",
      "\n",
      "Error: Element type is invalid: expected a string (for built-in components) or a class/function (for composite components) but got: object.\n",
      "    at renderElement (/home/jovyan/node_modules/react-dom/cjs/react-dom-server-legacy.node.development.js:6047:9)\n",
      "    at renderNodeDestructiveImpl (/home/jovyan/node_modules/react-dom/cjs/react-dom-server-legacy.node.development.js:6108:11)\n",
      "    at renderNodeDestructive (/home/jovyan/node_modules/react-dom/cjs/react-dom-server-legacy.node.development.js:6080:14)\n",
      "    at renderIndeterminateComponent (/home/jovyan/node_modules/react-dom/cjs/react-dom-server-legacy.node.development.js:5789:7)\n",
      "    at renderElement (/home/jovyan/node_modules/react-dom/cjs/react-dom-server-legacy.node.development.js:5950:7)\n",
      "    at renderNodeDestructiveImpl (/home/jovyan/node_modules/react-dom/cjs/react-dom-server-legacy.node.development.js:6108:11)\n",
      "    at renderNodeDestructive (/home/jovyan/node_modules/react-dom/cjs/react-dom-server-legacy.node.development.js:6080:14)\n",
      "    at renderIndeterminateComponent (/home/jovyan/node_modules/react-dom/cjs/react-dom-server-legacy.node.development.js:5789:7)\n",
      "    at renderElement (/home/jovyan/node_modules/react-dom/cjs/react-dom-server-legacy.node.development.js:5950:7)\n",
      "    at renderNodeDestructiveImpl (/home/jovyan/node_modules/react-dom/cjs/react-dom-server-legacy.node.development.js:6108:11)\n"
     ]
    }
   ],
   "source": [
    "import React from 'react'\n",
    "import ReactDOMServer from 'react-dom/server';\n",
    "import * as tslab from 'tslab';\n",
    "\n",
    "const createUI = (dataPattern={}, definition=[], Component=<>undef</>) => {\n",
    "    const results = []\n",
    "    const indexDefinition =  definition.find(d => !d?.path)\n",
    "    for(const key in dataPattern){\n",
    "        const datadefinition = definition.find(d => d?.path === key)\n",
    "        if (!datadefinition) { continue }\n",
    "        results.push(MappedComponent({\"Component\": datadefinition.element, ...datadefinition?.properties}))\n",
    "    }\n",
    "    console.log(\"results\", results)\n",
    "    const Encapsulator = MappedComponent({Component: indexDefinition.Component, ...indexDefinition.properties})\n",
    "    const Result = ({children=null, ...props}) => {\n",
    "        const ChildrenFromResults = results.map(\n",
    "            C => <C {...props} />\n",
    "        )\n",
    "        //return <Encapsulator {...props}>{ChildrenFromResults}{children}</Encapsulator>\n",
    "        return <Encapsulator {...props}>{JSON.stringify(props)}</Encapsulator>\n",
    "    }\n",
    "    Result.displayName = Component.displayName || \"UI\";\n",
    "    return Result\n",
    "}\n",
    "\n",
    "const A = ({children=null, ...props}) => {\n",
    "    return <div>{JSON.stringify(props)}<br />{children}</div>\n",
    "} \n",
    "const User = A\n",
    "const dp = {\n",
    "    user: {\n",
    "        name: \"username\",\n",
    "        group: {\n",
    "            name: \"groupname\"\n",
    "        }\n",
    "    }\n",
    "}\n",
    "const dd = [\n",
    "    {element: <A />, properties: {theme: \"a\", user: data => data?.user || \"user not found\"}},\n",
    "    {path: \"user\", element: <User />, properties: {theme: \"group\", group: data => data?.group || \"group not found\"}}\n",
    "]\n",
    "\n",
    "const UI = createUI(dp, dd, A)\n",
    "const ui = <UI user={dp.user} />\n",
    "DisplayReact(ui)\n"
   ]
  },
  {
   "cell_type": "code",
   "execution_count": null,
   "id": "cc63f70f-42bd-463a-b63c-cf074462a8f3",
   "metadata": {},
   "outputs": [],
   "source": []
  },
  {
   "cell_type": "code",
   "execution_count": null,
   "id": "b0c8f936-6ad1-48ea-a213-3cd99f40ce4b",
   "metadata": {},
   "outputs": [],
   "source": []
  }
 ],
 "metadata": {
  "kernelspec": {
   "display_name": "JavaScript",
   "language": "javascript",
   "name": "jslab"
  },
  "language_info": {
   "file_extension": ".js",
   "mimetype": "text/javascript",
   "name": "javascript",
   "version": ""
  }
 },
 "nbformat": 4,
 "nbformat_minor": 5
}
