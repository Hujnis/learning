{
  "nbformat": 4,
  "nbformat_minor": 0,
  "metadata": {
    "colab": {
      "name": "pythonindex.ipynb",
      "provenance": [],
      "authorship_tag": "ABX9TyNfUNrA34MlrA4ux8xOrL5U",
      "include_colab_link": true
    },
    "kernelspec": {
      "name": "python3",
      "display_name": "Python 3"
    }
  },
  "cells": [
    {
      "cell_type": "markdown",
      "metadata": {
        "id": "view-in-github",
        "colab_type": "text"
      },
      "source": [
        "<a href=\"https://colab.research.google.com/github/hrbolek/learning/blob/master/python/pythonindex.ipynb\" target=\"_parent\"><img src=\"https://colab.research.google.com/assets/colab-badge.svg\" alt=\"Open In Colab\"/></a>"
      ]
    },
    {
      "cell_type": "markdown",
      "metadata": {
        "id": "cyAxfScgW7OQ",
        "colab_type": "text"
      },
      "source": [
        "# Python"
      ]
    },
    {
      "cell_type": "markdown",
      "metadata": {
        "id": "KRCkLh1OXAB7",
        "colab_type": "text"
      },
      "source": [
        "Úvod  do kurzu\n",
        "\n",
        "Příprava prostředí\n",
        "- Jupyter\n",
        "- Google colab\n",
        "- Github\n",
        "\n",
        "Základní datové struktury\n",
        "- Čísla a jednoduchá aritmetika\n",
        "- Práce s proměnnými\n",
        "- Textové řetězce\n",
        "- Indexování v textu\n",
        "- Výběr části textu\n",
        "- Metody pro práci s textem\n",
        "- Formátování\n",
        "- Výstup ```print()```\n",
        "- Seznamy (list)\n",
        "- Slovníky (dictionary)\n",
        "- (tuple)\n",
        "- množiny (set)\n",
        "- logické proměnné\n",
        "- práce se soubory\n",
        "- test / řešení\n",
        "\n",
        "Operátory komparace\n",
        "- operátory\n",
        "- spojení operátorů s využitím and or\n",
        "\n",
        "Výrazy (statements)\n",
        "- if elif else \n",
        "- for\n",
        "- while\n",
        "- list comprehesion statements\n",
        "\n",
        "Metody a funkce\n",
        "- funkce\n",
        "- Hello World\n",
        "- Welcome John\n",
        "- Some calculation\n",
        "- Dělitelnost\n",
        "- Srovnání\n",
        "- *args\n",
        "- **kwargs\n",
        "- lambdas\n",
        "- map\n",
        "- filter\n",
        "- reduce *\n",
        "- platnost proměnných (scope)\n",
        "\n",
        "Projekt I\n",
        "\n",
        "Objektově orientované programování\n",
        "- motivace\n",
        "- class / zapouzdření / encapsulation\n",
        "- atributy\n",
        "- metody\n",
        "- dědičnost / inheritance\n",
        "- mnohotvárnost / polymorfismus\n",
        "\n",
        "Knihovny v Pythonu\n",
        "- balíčky\n",
        "- ```__main__```\n",
        "\n",
        "Projekt II\n",
        "\n",
        "Dekorátory\n",
        "\n",
        "Generátory\n",
        "\n",
        "Pokročilé knihovny\n",
        "- counter\n",
        "- defaultdict\n",
        "- OrderedDict\n",
        "- namedtuple\n",
        "- DateTime\n",
        "\n",
        "Další techniky pro Python\n",
        "- debuger pdb\n",
        "- měření timeit\n",
        "- regulární výrazy re\n",
        "- stringio\n",
        "\n",
        "Datové struktury pokročilé\n",
        "- čísla\n",
        "- řetězce\n",
        "- množiny\n",
        "- slovníky\n",
        "- seznamy\n",
        "\n",
        "Uživatelské prostředí\n",
        "- ipywidgets\n",
        "- interact\n",
        "- styly \n",
        "\n",
        "\n",
        "\n"
      ]
    },
    {
      "cell_type": "code",
      "metadata": {
        "id": "jvsrIuT2WjPE",
        "colab_type": "code",
        "colab": {}
      },
      "source": [
        ""
      ],
      "execution_count": 0,
      "outputs": []
    }
  ]
}