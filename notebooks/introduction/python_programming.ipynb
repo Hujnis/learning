{
  "nbformat": 4,
  "nbformat_minor": 0,
  "metadata": {
    "colab": {
      "name": "python_programming.ipynb",
      "provenance": [],
      "toc_visible": true,
      "authorship_tag": "ABX9TyM5oL+stQmON33zU/AATYd1",
      "include_colab_link": true
    },
    "kernelspec": {
      "name": "python3",
      "display_name": "Python 3"
    }
  },
  "cells": [
    {
      "cell_type": "markdown",
      "metadata": {
        "id": "view-in-github",
        "colab_type": "text"
      },
      "source": [
        "<a href=\"https://colab.research.google.com/github/hrbolek/learning/blob/master/introduction/python_programming.ipynb\" target=\"_parent\"><img src=\"https://colab.research.google.com/assets/colab-badge.svg\" alt=\"Open In Colab\"/></a>"
      ]
    },
    {
      "cell_type": "markdown",
      "metadata": {
        "id": "UEKurTi1gFCL"
      },
      "source": [
        "# Základy programování v Pythonu"
      ]
    },
    {
      "cell_type": "markdown",
      "metadata": {
        "id": "hujQ_uQW_EOF"
      },
      "source": [
        "Alternativa k tomuto průvodci je dostupná ve formě videa (anglicky) **[zde](https://youtu.be/dT_XDTarsjw?t=45)**, dokument si můžete otevřít **[zde](https://colab.research.google.com/drive/19QLO7-6Uu5PSRKZuSbpVzXzsdUcvyvPI)**.\r\n",
        "\r\n",
        "Stejný autor zpracoval i úvod do Pandas a Numpy **[video](https://www.youtube.com/watch?v=oxEak3HHUOM)** a **[dokument](https://colab.research.google.com/drive/1YgT8zlXjsPmGRAHfAa0GiVgs6WzZxPap)**."
      ]
    },
    {
      "cell_type": "markdown",
      "metadata": {
        "id": "nU8ay5TDg2-z"
      },
      "source": [
        "## Jednoduché datové struktury"
      ]
    },
    {
      "cell_type": "code",
      "metadata": {
        "id": "3KTTFfKRf83d",
        "colab": {
          "base_uri": "https://localhost:8080/",
          "height": 35
        },
        "outputId": "959da1ba-869c-41ce-9404-f7d31f5103e3"
      },
      "source": [
        "# cele cislo\n",
        "a = 4\n",
        "print(a)"
      ],
      "execution_count": null,
      "outputs": [
        {
          "output_type": "stream",
          "text": [
            "4\n"
          ],
          "name": "stdout"
        }
      ]
    },
    {
      "cell_type": "code",
      "metadata": {
        "id": "qXQDNPQyhFHP",
        "colab": {
          "base_uri": "https://localhost:8080/",
          "height": 35
        },
        "outputId": "12646220-c639-4518-fd27-c2c77c295449"
      },
      "source": [
        "# desetinne cislo\n",
        "b = 1.4\n",
        "print(b)"
      ],
      "execution_count": null,
      "outputs": [
        {
          "output_type": "stream",
          "text": [
            "1.4\n"
          ],
          "name": "stdout"
        }
      ]
    },
    {
      "cell_type": "code",
      "metadata": {
        "id": "QNLvLC6hhJn9",
        "colab": {
          "base_uri": "https://localhost:8080/",
          "height": 54
        },
        "outputId": "1baed6a1-85f8-486e-aa2d-e14f4d11cd70"
      },
      "source": [
        "# textovy retezec\n",
        "cstr = \"Ahoj\"\n",
        "print(cstr)\n",
        "dstr = 'Nazdar'\n",
        "print(dstr)"
      ],
      "execution_count": null,
      "outputs": [
        {
          "output_type": "stream",
          "text": [
            "Ahoj\n",
            "Nazdar\n"
          ],
          "name": "stdout"
        }
      ]
    },
    {
      "cell_type": "code",
      "metadata": {
        "id": "m876ZPtCkDra",
        "colab": {
          "base_uri": "https://localhost:8080/",
          "height": 54
        },
        "outputId": "6ee378f6-f4f7-4a9d-a542-7fc5e19cb190"
      },
      "source": [
        "# logicka promenna\n",
        "cbool = True\n",
        "dbool = False\n",
        "print(cbool)\n",
        "print(dbool)"
      ],
      "execution_count": null,
      "outputs": [
        {
          "output_type": "stream",
          "text": [
            "True\n",
            "False\n"
          ],
          "name": "stdout"
        }
      ]
    },
    {
      "cell_type": "markdown",
      "metadata": {
        "id": "dryhII46m-lI"
      },
      "source": [
        "### Operátory"
      ]
    },
    {
      "cell_type": "code",
      "metadata": {
        "id": "OwZIAf-knBl5",
        "colab": {
          "base_uri": "https://localhost:8080/",
          "height": 54
        },
        "outputId": "f0d34898-d7a1-4727-f36e-bfff99c99545"
      },
      "source": [
        "# plus\n",
        "print('soucet cisel', a + b)\n",
        "print('soucet retezcu', cstr + ' ' + dstr)"
      ],
      "execution_count": null,
      "outputs": [
        {
          "output_type": "stream",
          "text": [
            "soucet cisel 5.4\n",
            "soucet retezcu Ahoj Nazdar\n"
          ],
          "name": "stdout"
        }
      ]
    },
    {
      "cell_type": "code",
      "metadata": {
        "id": "y_j6cIjknXc_",
        "colab": {
          "base_uri": "https://localhost:8080/",
          "height": 35
        },
        "outputId": "f65a6d4b-7442-4ffb-808e-0da338cc86f5"
      },
      "source": [
        "# minus\n",
        "print('rozdil cisel', a - b)"
      ],
      "execution_count": null,
      "outputs": [
        {
          "output_type": "stream",
          "text": [
            "rozdil cisel 2.6\n"
          ],
          "name": "stdout"
        }
      ]
    },
    {
      "cell_type": "code",
      "metadata": {
        "id": "5-V3t_gHnipk",
        "colab": {
          "base_uri": "https://localhost:8080/",
          "height": 54
        },
        "outputId": "834f1443-4e5f-419b-da03-e3b045075135"
      },
      "source": [
        "# krat\n",
        "print('soucin', a * b)\n",
        "print('=' * 30)"
      ],
      "execution_count": null,
      "outputs": [
        {
          "output_type": "stream",
          "text": [
            "soucin 5.6\n",
            "==============================\n"
          ],
          "name": "stdout"
        }
      ]
    },
    {
      "cell_type": "code",
      "metadata": {
        "id": "1qOUPG82nrzG",
        "colab": {
          "base_uri": "https://localhost:8080/",
          "height": 35
        },
        "outputId": "9719e022-e2ec-456d-d337-a49ac6dcb4d0"
      },
      "source": [
        "# deleni\n",
        "print('podil', a / b)"
      ],
      "execution_count": null,
      "outputs": [
        {
          "output_type": "stream",
          "text": [
            "podil 2.857142857142857\n"
          ],
          "name": "stdout"
        }
      ]
    },
    {
      "cell_type": "code",
      "metadata": {
        "id": "A9tX4CHJny_x",
        "colab": {
          "base_uri": "https://localhost:8080/",
          "height": 54
        },
        "outputId": "d9ae5987-5358-4b09-fc32-97dde4368982"
      },
      "source": [
        "print('podil', a / 2)\n",
        "print('celociselny podil', a // 2)"
      ],
      "execution_count": null,
      "outputs": [
        {
          "output_type": "stream",
          "text": [
            "podil 2.0\n",
            "celociselny podil 2\n"
          ],
          "name": "stdout"
        }
      ]
    },
    {
      "cell_type": "code",
      "metadata": {
        "id": "zNCDPRfvn79T",
        "colab": {
          "base_uri": "https://localhost:8080/",
          "height": 35
        },
        "outputId": "bca8fec7-688e-4fb0-fdf0-5c2a661cdab6"
      },
      "source": [
        "# zbytek\n",
        "print('zbytek po deleni', a % 3)"
      ],
      "execution_count": null,
      "outputs": [
        {
          "output_type": "stream",
          "text": [
            "zbytek po deleni 1\n"
          ],
          "name": "stdout"
        }
      ]
    },
    {
      "cell_type": "markdown",
      "metadata": {
        "id": "koE8rsVUhVOH"
      },
      "source": [
        "## Složené datové struktury"
      ]
    },
    {
      "cell_type": "code",
      "metadata": {
        "id": "t67T6otrhaZR",
        "colab": {
          "base_uri": "https://localhost:8080/",
          "height": 54
        },
        "outputId": "aab94cd9-7691-4612-99a0-9cf2e3b87fdb"
      },
      "source": [
        "# list / vektor\n",
        "e = [1, 2, 3]\n",
        "print(e)\n",
        "f = ['Nazdar', \"svete\"]\n",
        "print(f)"
      ],
      "execution_count": null,
      "outputs": [
        {
          "output_type": "stream",
          "text": [
            "[1, 2, 3]\n",
            "['Nazdar', 'svete']\n"
          ],
          "name": "stdout"
        }
      ]
    },
    {
      "cell_type": "code",
      "metadata": {
        "id": "BI8-CZdHhlwD",
        "colab": {
          "base_uri": "https://localhost:8080/",
          "height": 54
        },
        "outputId": "fe596cff-747a-47d3-8a6d-89cec0c9a11c"
      },
      "source": [
        "# dictionary\n",
        "g = {'name': 'Josef', 'age': 5}\n",
        "print(g)\n",
        "print(g['name'])"
      ],
      "execution_count": null,
      "outputs": [
        {
          "output_type": "stream",
          "text": [
            "{'name': 'Josef', 'age': 5}\n",
            "Josef\n"
          ],
          "name": "stdout"
        }
      ]
    },
    {
      "cell_type": "code",
      "metadata": {
        "id": "Xk_YN8PerS90",
        "colab": {
          "base_uri": "https://localhost:8080/",
          "height": 54
        },
        "outputId": "0b04c4a2-5acb-4797-b668-7a02b7f7d77c"
      },
      "source": [
        "e = [1, 2, 3]\n",
        "print(e)\n",
        "\n",
        "# tuple\n",
        "et = (1, 2, 3)\n",
        "print(et)"
      ],
      "execution_count": null,
      "outputs": [
        {
          "output_type": "stream",
          "text": [
            "[1, 2, 3]\n",
            "(1, 2, 3)\n"
          ],
          "name": "stdout"
        }
      ]
    },
    {
      "cell_type": "code",
      "metadata": {
        "id": "a2aQEbnzh2K9"
      },
      "source": [
        "# tridy\n",
        "# jsou ponekud komplexnejsi"
      ],
      "execution_count": null,
      "outputs": []
    },
    {
      "cell_type": "code",
      "metadata": {
        "id": "1f7aYyp4qz7N",
        "colab": {
          "base_uri": "https://localhost:8080/",
          "height": 35
        },
        "outputId": "a7d48dda-033f-435d-e271-0573f885bb7c"
      },
      "source": [
        "# kombinace\n",
        "e = [1, 2, 3]\n",
        "gx = {'name': 'Josef', 'age': 5, 'indexes': e}\n",
        "print(gx)"
      ],
      "execution_count": null,
      "outputs": [
        {
          "output_type": "stream",
          "text": [
            "{'name': 'Josef', 'age': 5, 'indexes': [1, 2, 3]}\n"
          ],
          "name": "stdout"
        }
      ]
    },
    {
      "cell_type": "code",
      "metadata": {
        "id": "BLKXPGwmrAKa",
        "colab": {
          "base_uri": "https://localhost:8080/",
          "height": 35
        },
        "outputId": "56f2e0fe-a3b3-46df-fc9f-7417bfaf98ad"
      },
      "source": [
        "ex = [{'name': 'Josef', 'age': 5}, {'name': 'Petr', 'age': 4}, {'name': 'Jan', 'age': 6}]\n",
        "print(ex)"
      ],
      "execution_count": null,
      "outputs": [
        {
          "output_type": "stream",
          "text": [
            "[{'name': 'Josef', 'age': 5}, {'name': 'Petr', 'age': 4}, {'name': 'Jan', 'age': 6}]\n"
          ],
          "name": "stdout"
        }
      ]
    },
    {
      "cell_type": "markdown",
      "metadata": {
        "id": "JuI9VRTDoiR5"
      },
      "source": [
        "### Operátory"
      ]
    },
    {
      "cell_type": "code",
      "metadata": {
        "id": "lnaESDCsokTD",
        "colab": {
          "base_uri": "https://localhost:8080/",
          "height": 35
        },
        "outputId": "8cd337c5-d6e7-43fb-c01b-6cfa68165762"
      },
      "source": [
        "e = [1, 2, 3]\n",
        "print(e + [4])"
      ],
      "execution_count": null,
      "outputs": [
        {
          "output_type": "stream",
          "text": [
            "[1, 2, 3, 4]\n"
          ],
          "name": "stdout"
        }
      ]
    },
    {
      "cell_type": "code",
      "metadata": {
        "id": "bysC0cxepNDA",
        "colab": {
          "base_uri": "https://localhost:8080/",
          "height": 35
        },
        "outputId": "fa2d946d-d855-487f-e059-0e5b8118fd7f"
      },
      "source": [
        "print(e * 4)"
      ],
      "execution_count": null,
      "outputs": [
        {
          "output_type": "stream",
          "text": [
            "[1, 2, 3, 1, 2, 3, 1, 2, 3, 1, 2, 3]\n"
          ],
          "name": "stdout"
        }
      ]
    },
    {
      "cell_type": "code",
      "metadata": {
        "id": "nPyBFJt6o4M2",
        "colab": {
          "base_uri": "https://localhost:8080/",
          "height": 35
        },
        "outputId": "d3e8b8b8-f834-471d-eb04-e07479ca0991"
      },
      "source": [
        "# operator rozvinuti\n",
        "print(*e)"
      ],
      "execution_count": null,
      "outputs": [
        {
          "output_type": "stream",
          "text": [
            "1 2 3\n"
          ],
          "name": "stdout"
        }
      ]
    },
    {
      "cell_type": "code",
      "metadata": {
        "id": "RrcmsEr1p8Pd",
        "colab": {
          "base_uri": "https://localhost:8080/",
          "height": 54
        },
        "outputId": "cc97201b-49c4-44d5-df37-46648af24b1f"
      },
      "source": [
        "e = [1, 2, 3]\n",
        "print(e + [4])\n",
        "print([*e, 4])"
      ],
      "execution_count": null,
      "outputs": [
        {
          "output_type": "stream",
          "text": [
            "[1, 2, 3, 4]\n",
            "[1, 2, 3, 4]\n"
          ],
          "name": "stdout"
        }
      ]
    },
    {
      "cell_type": "code",
      "metadata": {
        "id": "FFGCkM0Sp00C",
        "colab": {
          "base_uri": "https://localhost:8080/",
          "height": 35
        },
        "outputId": "54d10d05-703c-4674-b0f5-e6d2101839d0"
      },
      "source": [
        "# dictionary\n",
        "g = {'name': 'Josef', 'age': 5}\n",
        "g2 = {**g, 'value': 12}\n",
        "print(g2)"
      ],
      "execution_count": null,
      "outputs": [
        {
          "output_type": "stream",
          "text": [
            "{'name': 'Josef', 'age': 5, 'value': 12}\n"
          ],
          "name": "stdout"
        }
      ]
    },
    {
      "cell_type": "markdown",
      "metadata": {
        "id": "x9odgV2Th6yV"
      },
      "source": [
        "## Řídící struktury"
      ]
    },
    {
      "cell_type": "markdown",
      "metadata": {
        "id": "6uUw1eOakbxk"
      },
      "source": [
        "### Podmínky"
      ]
    },
    {
      "cell_type": "code",
      "metadata": {
        "id": "gOTnR23Wked4",
        "colab": {
          "base_uri": "https://localhost:8080/",
          "height": 35
        },
        "outputId": "698741c2-b211-4346-a296-f478726e2410"
      },
      "source": [
        "# if\n",
        "b = 1.4\n",
        "if b < 2:\n",
        "  print(b, ' < 2')\n",
        "else:\n",
        "  print(b, '>= 2')"
      ],
      "execution_count": null,
      "outputs": [
        {
          "output_type": "stream",
          "text": [
            "1.4  < 2\n"
          ],
          "name": "stdout"
        }
      ]
    },
    {
      "cell_type": "code",
      "metadata": {
        "id": "4KkQ3TwhlKHk",
        "colab": {
          "base_uri": "https://localhost:8080/",
          "height": 35
        },
        "outputId": "0e6f7a3a-bbf9-4d74-d1c9-288d4ec91a8a"
      },
      "source": [
        "# \"multi\" if\n",
        "b = 1.4\n",
        "if b < 1:\n",
        "  print(b, ' < 1')\n",
        "elif b < 2:\n",
        "  print(b, ' < 2')\n",
        "else:\n",
        "  print(b, '>= 2')  "
      ],
      "execution_count": null,
      "outputs": [
        {
          "output_type": "stream",
          "text": [
            "1.4  < 2\n"
          ],
          "name": "stdout"
        }
      ]
    },
    {
      "cell_type": "markdown",
      "metadata": {
        "id": "6IJgLXsGh_Bf"
      },
      "source": [
        "### Cykly"
      ]
    },
    {
      "cell_type": "code",
      "metadata": {
        "id": "eRv0Wix_h9kd",
        "colab": {
          "base_uri": "https://localhost:8080/",
          "height": 90
        },
        "outputId": "c8dd9928-3f51-4586-8a2c-bf3e71aa1a1f"
      },
      "source": [
        "# for\n",
        "data = [1, 2, 3, 4]\n",
        "for item in data:\n",
        "  print(item)"
      ],
      "execution_count": null,
      "outputs": [
        {
          "output_type": "stream",
          "text": [
            "1\n",
            "2\n",
            "3\n",
            "4\n"
          ],
          "name": "stdout"
        }
      ]
    },
    {
      "cell_type": "code",
      "metadata": {
        "id": "viCU9qQpiKWX",
        "colab": {
          "base_uri": "https://localhost:8080/",
          "height": 90
        },
        "outputId": "ccc767fe-c288-4ddd-a5f7-5e0880686735"
      },
      "source": [
        "# for s indexem, porovnej s predchazejicim\n",
        "for index, item in enumerate(data):\n",
        "  print(index, item)"
      ],
      "execution_count": null,
      "outputs": [
        {
          "output_type": "stream",
          "text": [
            "0 1\n",
            "1 2\n",
            "2 3\n",
            "3 4\n"
          ],
          "name": "stdout"
        }
      ]
    },
    {
      "cell_type": "code",
      "metadata": {
        "id": "J3Zz3f5wjKBQ",
        "colab": {
          "base_uri": "https://localhost:8080/",
          "height": 72
        },
        "outputId": "e8e3facc-d932-4512-d2a8-1c3a8b380ec2"
      },
      "source": [
        "# https://docs.python.org/3/reference/compound_stmts.html?highlight=while#the-while-statement\n",
        "# while\n",
        "item = 0\n",
        "while item < 3:\n",
        "  item = item + 1\n",
        "  print(item)"
      ],
      "execution_count": null,
      "outputs": [
        {
          "output_type": "stream",
          "text": [
            "1\n",
            "2\n",
            "3\n"
          ],
          "name": "stdout"
        }
      ]
    },
    {
      "cell_type": "code",
      "metadata": {
        "id": "TMmIQyTBj93F",
        "colab": {
          "base_uri": "https://localhost:8080/",
          "height": 72
        },
        "outputId": "697ae2b4-b1e1-4941-e24f-a9c5657c4551"
      },
      "source": [
        "# while with break\n",
        "item = 0\n",
        "while True:\n",
        "  item = item + 1\n",
        "  print(item)\n",
        "  if item >= 3:\n",
        "    break\n",
        "  "
      ],
      "execution_count": null,
      "outputs": [
        {
          "output_type": "stream",
          "text": [
            "1\n",
            "2\n",
            "3\n"
          ],
          "name": "stdout"
        }
      ]
    },
    {
      "cell_type": "markdown",
      "metadata": {
        "id": "gAmPgzSJl_Gt"
      },
      "source": [
        "## Funkce"
      ]
    },
    {
      "cell_type": "code",
      "metadata": {
        "id": "t9smglYOmEUL",
        "colab": {
          "base_uri": "https://localhost:8080/",
          "height": 54
        },
        "outputId": "a30f73a4-e0c8-4db9-ce19-d8eb2b754015"
      },
      "source": [
        "def secti(x, y):\n",
        "  return x + y\n",
        "\n",
        "p = 2\n",
        "q = 3\n",
        "print(secti(p, q))\n",
        "\n",
        "pstr = '2'\n",
        "qstr = '3'\n",
        "print(secti(pstr, qstr)) # scitani textu"
      ],
      "execution_count": null,
      "outputs": [
        {
          "output_type": "stream",
          "text": [
            "5\n",
            "23\n"
          ],
          "name": "stdout"
        }
      ]
    }
  ]
}