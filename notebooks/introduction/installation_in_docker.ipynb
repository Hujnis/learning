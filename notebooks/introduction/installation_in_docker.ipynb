{
  "nbformat": 4,
  "nbformat_minor": 0,
  "metadata": {
    "colab": {
      "name": "installationInDocker.ipynb",
      "provenance": [],
      "authorship_tag": "ABX9TyP6NnnSBz7q8/Ihm+Ge8dUT",
      "include_colab_link": true
    },
    "kernelspec": {
      "name": "python3",
      "display_name": "Python 3"
    }
  },
  "cells": [
    {
      "cell_type": "markdown",
      "metadata": {
        "id": "view-in-github",
        "colab_type": "text"
      },
      "source": [
        "<a href=\"https://colab.research.google.com/github/hrbolek/learning/blob/master/introduction/installation_in_docker.ipynb\" target=\"_parent\"><img src=\"https://colab.research.google.com/assets/colab-badge.svg\" alt=\"Open In Colab\"/></a>"
      ]
    },
    {
      "cell_type": "markdown",
      "metadata": {
        "id": "BAi-lOsQ0OO9",
        "colab_type": "text"
      },
      "source": [
        "# Instalace v Dockeru"
      ]
    },
    {
      "cell_type": "markdown",
      "metadata": {
        "id": "aZPxv2Zi05T3",
        "colab_type": "text"
      },
      "source": [
        "## Jupyter hub\n",
        "\n",
        "joergklein/jupyterhub:latest"
      ]
    },
    {
      "cell_type": "markdown",
      "metadata": {
        "id": "1_VoYETV1D68",
        "colab_type": "text"
      },
      "source": [
        "## Jupyter notebook\n",
        "\n",
        "https://github.com/jupyter/docker-stacks\n",
        "\n",
        "```shell\n",
        "docker run -p 10000:8888 -e JUPYTER_ENABLE_LAB=yes -v \"$PWD\":/home/jovyan/work jupyter/datascience-notebook:9b06df75e445\n",
        "```\n",
        "\n",
        "```shell\n",
        "docker run -p 10000:8888 -e JUPYTER_ENABLE_LAB=yes -v \"$PWD\":/home/jovyan/work jupyter/tensorflow-notebook\n",
        "```"
      ]
    },
    {
      "cell_type": "code",
      "metadata": {
        "id": "z4yyALqEz7GD",
        "colab_type": "code",
        "colab": {}
      },
      "source": [
        "df"
      ],
      "execution_count": 0,
      "outputs": []
    }
  ]
}