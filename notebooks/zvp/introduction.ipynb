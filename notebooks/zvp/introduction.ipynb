{
  "nbformat": 4,
  "nbformat_minor": 0,
  "metadata": {
    "colab": {
      "name": "intro.ipynb",
      "provenance": [],
      "toc_visible": true,
      "authorship_tag": "ABX9TyP5kT3/eRtDlircVF8ZkMCM",
      "include_colab_link": true
    },
    "kernelspec": {
      "name": "python3",
      "display_name": "Python 3"
    },
    "language_info": {
      "name": "python"
    }
  },
  "cells": [
    {
      "cell_type": "markdown",
      "metadata": {
        "id": "view-in-github",
        "colab_type": "text"
      },
      "source": [
        "<a href=\"https://colab.research.google.com/github/hrbolek/learning/blob/master/zvp/introduction.ipynb\" target=\"_parent\"><img src=\"https://colab.research.google.com/assets/colab-badge.svg\" alt=\"Open In Colab\"/></a>"
      ]
    },
    {
      "cell_type": "markdown",
      "metadata": {
        "id": "zLm2B2lK9mJZ"
      },
      "source": [
        "# Metodologie vědecké práce"
      ]
    },
    {
      "cell_type": "markdown",
      "metadata": {
        "id": "-Xdsj9Gp-G_E"
      },
      "source": [
        "## Struktura semestru"
      ]
    },
    {
      "cell_type": "markdown",
      "metadata": {
        "id": "Vy10dlN_5vda"
      },
      "source": [
        "Prezenční studium (3 st.)\n",
        "- legislativní prostředí (P)\n",
        "- financování projektů (PPSS)\n",
        "- metody vědecké práce (PPSSS)\n",
        "- zveřejňování a ochrana výsledků (PS)\n",
        "\n",
        "Kombinované studium (11 st.)\n",
        "- legislativní prostředí (P)\n",
        "- financování projektů (PP)\n",
        "- metody vědecké práce (S)\n",
        "- zveřejňování a ochrana výsledků (S)"
      ]
    },
    {
      "cell_type": "markdown",
      "metadata": {
        "id": "oX9yBHAb-Kaz"
      },
      "source": [
        "## Podmínky ukončení předmětu"
      ]
    },
    {
      "cell_type": "markdown",
      "metadata": {
        "id": "8obfH9Xq-Ni0"
      },
      "source": [
        "1. Připravit článek do časopisu (WoS, SCOPUS, ERIH apod.)\n",
        "2. Aktivní vystoupení na semináři\n",
        "  \n",
        "  - Financování projektů (Prezentace finančních podmínek výzvy z období 9/21-3/22)\n",
        "  - Metody vědecké práce (Specifické metody v oboru studia, aplikace obecných metod, rozbor metod z článku z časopisu z 1Q v oboru studia)\n",
        "  - Zveřejňování a ochrana výsledků (Prezentace registrovaného patentu v oboru studia, Rozbor žebříčku časopisů WoS v oboru studia, Etický kodex)"
      ]
    },
    {
      "cell_type": "markdown",
      "metadata": {
        "id": "tt1eEib2BKgo"
      },
      "source": [
        "## Legislativní prostředí"
      ]
    },
    {
      "cell_type": "markdown",
      "metadata": {
        "id": "CvyYn_7YBP1R"
      },
      "source": [
        "### Vnější legislativa"
      ]
    },
    {
      "cell_type": "markdown",
      "metadata": {
        "id": "DjlJFHtoBWwq"
      },
      "source": [
        "[Zákon o vysokých školách 111/1998 § 47 a dále](https://www.zakonyprolidi.cz/cs/1998-111?text=%C2%A7%2047)\n",
        "\n",
        "- odst. 1 Doktorský studijní program je zaměřen na **vědecké bádání a samostatnou tvůrčí činnost** v oblasti výzkumu nebo vývoje nebo na samostatnou teoretickou a tvůrčí činnost v oblasti umění.\n",
        "\n",
        "- odst. 2 Standardní doba studia je nejméně tři a nejvýše **čtyři roky**.\n",
        "\n",
        "- odst. 3 Studium v doktorském studijním programu probíhá podle individuálního studijního plánu **pod vedením školitele**.\n",
        "\n",
        "- odst. 4 Studium se řádně ukončuje státní doktorskou zkouškou a veřejnou obhajobou disertační práce, kterými se prokazuje schopnost a připravenost k samostatné činnosti v oblasti výzkumu nebo vývoje nebo k samostatné teoretické a tvůrčí umělecké činnosti. **Disertační práce musí obsahovat původní a uveřejněné výsledky nebo výsledky přijaté k uveřejnění**.\n",
        "\n",
        "- odst. 5 Absolventům studia v doktorských studijních programech se uděluje akademický titul \"doktor\" (ve zkratce \"Ph.D.\" uváděné za jménem).\n",
        "\n",
        "- odst. 6 Studium v doktorském studijním programu sleduje a hodnotí **oborová rada** ustavená podle vnitřního předpisu vysoké školy nebo její součásti, která má akreditovaný příslušný studijní program. Pro studijní programy ze stejné oblasti studia mohou vysoké školy nebo jejich součásti na základě dohody vytvořit společnou oborovou radu. Předsedou oborové rady je **garant doktorského studijního programu**."
      ]
    },
    {
      "cell_type": "markdown",
      "metadata": {
        "id": "GgGKho47CuEx"
      },
      "source": [
        "**Garant** je osoba s adekvátní činností v oblasti vzdělávání.\n",
        "\n",
        "**Oborová rada** je skupina osob (i z VVŠ), která dohlíží na kvalitu vzdělávání v příslušném studijním programu.\n",
        "\n",
        "**NAÚ** Národní akreditační úřad je státní institucí, která stanoveným mechanismem posuzuje studijní programy, o jejichž akreditaci bylo požádáno a (ne)vyhovuje žádosti o akreditaci, tj. (ne)uděluje právo vzdělávat v požadovaném studijním programu a udělovat, po splnení všech povinností, tituly (Ph.D.)."
      ]
    },
    {
      "cell_type": "markdown",
      "metadata": {
        "id": "iOtjd0RPDtro"
      },
      "source": [
        "[Nařízení vlády č. 274/2016 Sb., o standardech pro akreditace ve vysokém školství](https://www.nauvs.cz/attachments/article/72/Narizeni_vlady_c_274_2016.pdf)\n",
        "\n",
        "[Nařízení vlády č. 275/2016 Sb., o oblastech vzdělávání ve vysokém školství](https://www.nauvs.cz/attachments/article/72/Narizeni_vlady_c_275_2016.pdf)\n",
        "\n"
      ]
    },
    {
      "cell_type": "markdown",
      "metadata": {
        "id": "NfJhs_QCBUPL"
      },
      "source": [
        "### Vnitřní legislativa"
      ]
    },
    {
      "cell_type": "markdown",
      "metadata": {
        "id": "yuDZkxgSFC_l"
      },
      "source": [
        "[Úplná legislativa podle zákona](https://intranet.unob.cz/dokum/predpisymsmt/Forms/AllItems.aspx)\n",
        "\n",
        "[Studijní a zkušební řád](https://intranet.unob.cz/dokum/predpisymsmt/%C2%A717_1_g.pdf?d=w7f5b96e29d9c4f4fa08770b791910a51&csf=1&e=HG7Ohm)\n",
        "\n",
        "- článek 25 Státní závěrečná zkouška a obhajoba disertační práce\n",
        "   \n",
        "   - (5) Státní závěrečná zkouška a obhajoba disertační práce se koná před příslušnou zkušební komisí; zkušební komise je nejméně pětičlenná. Předsedu a další členy zkušební komise jmenuje na návrh příslušného garanta studijního programu nebo oborové rady děkan, je-li studijní program uskutečňován fakultou, nebo rektor, je-li studijní program uskutečňován univerzitou. Členy zkušební komise mohou být profesoři a docenti nebo významní odborníci vědeckých nebo jiných pracovišť schválení příslušnou vědeckou radou; předsedou zkušební komise musí být profesor nebo docent. Členem komise pro obhajobu disertační práce nemůže být školitel, ani školitel-specialista.\n",
        "   - (15) Student je dále v rámci státní závěrečné zkoušky a obhajoby disertační práce hodnocen klasifikačním stupněm „nevyhověl(a)“ nebo „neprospěl(a)“\n",
        "    - ...\n",
        "\n",
        "[Disciplinární řád](https://intranet.unob.cz/dokum/predpisymsmt/%C2%A717_1_i.pdf?d=w1551a69f5b394b0287022c634744f1d9&csf=1&e=f1FElQ)\n",
        "\n",
        "Individuální studijní plán"
      ]
    }
  ]
}