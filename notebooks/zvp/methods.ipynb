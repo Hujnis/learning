{
 "cells": [
  {
   "cell_type": "markdown",
   "metadata": {
    "colab_type": "text",
    "id": "view-in-github"
   },
   "source": [
    "<a href=\"https://colab.research.google.com/github/hrbolek/learning/blob/master/notebooks/zvp/methods.ipynb\" target=\"_parent\"><img src=\"https://colab.research.google.com/assets/colab-badge.svg\" alt=\"Open In Colab\"/></a>"
   ]
  },
  {
   "cell_type": "markdown",
   "metadata": {
    "id": "aZd6ALA3MJdC"
   },
   "source": [
    "# Metody"
   ]
  },
  {
   "cell_type": "markdown",
   "metadata": {
    "id": "1GwVyvjlMNfp"
   },
   "source": [
    "Zdeněk Molnár, \"Úvod do základů vědecké práce\", https://people.fsv.cvut.cz/~dlaskpet/Help/ZakladyVedeckePrace.doc"
   ]
  },
  {
   "cell_type": "markdown",
   "metadata": {
    "id": "lek6K3oaMqsa"
   },
   "source": [
    "- Metody empirické\n",
    "  - Pozorování\n",
    "  - Měření\n",
    "  - Experimentování\n",
    "\n",
    "- Metody logické\n",
    "  - abstrakce - konkretizace\n",
    "  - analýza - syntéza\n",
    "  - indukce - dedukce"
   ]
  },
  {
   "cell_type": "markdown",
   "metadata": {
    "id": "5OEtgz2TNhcV"
   },
   "source": [
    "Abstrakce - Opomenutí nepodstatných charakteristik, vytváření zjednodušených modelů\n",
    "\n",
    "Konkretizace - Aplikace charakteristik (zákonů chování) na objekt příslušící skupině objektů"
   ]
  },
  {
   "cell_type": "markdown",
   "metadata": {
    "id": "M2lWT3QzONY5"
   },
   "source": [
    "Analýza - Rozklad na menší části\n",
    "\n",
    "Syntéza - Spojování menších prvků do větších celků\n",
    "\n",
    "(Teorie systémů)"
   ]
  },
  {
   "cell_type": "markdown",
   "metadata": {
    "id": "SDJ3OEUMQc7J"
   },
   "source": [
    "Indukce - Odvození generálních (obecných pravidel), vyvození obecného závěru na základě jednotlivostí\n",
    "\n",
    "Dedukce - Aplikace obecných pravidel na konkrétní objekt"
   ]
  },
  {
   "cell_type": "markdown",
   "metadata": {
    "id": "z9loXSvsWDKl"
   },
   "source": [
    "Teorie systémů\n",
    "\n",
    "- Struktura systému\n",
    "- Vlastnosti prvků\n",
    "- Hranice\n",
    "- Vnější okolí"
   ]
  },
  {
   "cell_type": "markdown",
   "metadata": {
    "id": "DiaqudUPXpBj"
   },
   "source": [
    "Modelování - z jistého pohledu základ poznání\n",
    "\n",
    "Simulace - v technických vědách nezastupitelná\n",
    "\n",
    "Diferenciální rovnice 😏"
   ]
  },
  {
   "cell_type": "code",
   "execution_count": null,
   "metadata": {
    "id": "tEhVyXJXL0pQ"
   },
   "outputs": [],
   "source": []
  }
 ],
 "metadata": {
  "colab": {
   "authorship_tag": "ABX9TyPuzBtaPpUrLsvt+gSkMIxd",
   "include_colab_link": true,
   "provenance": []
  },
  "kernelspec": {
   "display_name": "Python 3 (ipykernel)",
   "language": "python",
   "name": "python3"
  },
  "language_info": {
   "codemirror_mode": {
    "name": "ipython",
    "version": 3
   },
   "file_extension": ".py",
   "mimetype": "text/x-python",
   "name": "python",
   "nbconvert_exporter": "python",
   "pygments_lexer": "ipython3",
   "version": "3.10.6"
  }
 },
 "nbformat": 4,
 "nbformat_minor": 4
}
