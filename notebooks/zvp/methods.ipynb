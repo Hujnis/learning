{
  "nbformat": 4,
  "nbformat_minor": 0,
  "metadata": {
    "colab": {
      "provenance": [],
      "authorship_tag": "ABX9TyMzIxXJtjdVwJ5cOFfgmrs9",
      "include_colab_link": true
    },
    "kernelspec": {
      "name": "python3",
      "display_name": "Python 3"
    },
    "language_info": {
      "name": "python"
    }
  },
  "cells": [
    {
      "cell_type": "markdown",
      "metadata": {
        "id": "view-in-github",
        "colab_type": "text"
      },
      "source": [
        "<a href=\"https://colab.research.google.com/github/hrbolek/learning/blob/master/notebooks/zvp/methods.ipynb\" target=\"_parent\"><img src=\"https://colab.research.google.com/assets/colab-badge.svg\" alt=\"Open In Colab\"/></a>"
      ]
    },
    {
      "cell_type": "markdown",
      "source": [
        "# Metody"
      ],
      "metadata": {
        "id": "aZd6ALA3MJdC"
      }
    },
    {
      "cell_type": "markdown",
      "source": [
        "Zdeněk Molnár, \"Úvod do základů vědecké práce\", https://people.fsv.cvut.cz/~dlaskpet/Help/ZakladyVedeckePrace.doc"
      ],
      "metadata": {
        "id": "1GwVyvjlMNfp"
      }
    },
    {
      "cell_type": "markdown",
      "source": [
        "- Metody empirické\n",
        "  - Pozorování\n",
        "  - Měření\n",
        "  - Experimentování\n",
        "\n",
        "- Metody logické\n",
        "  - abstrakce - konkretizace\n",
        "  - analýza - syntéza\n",
        "  - indukce - dedukce"
      ],
      "metadata": {
        "id": "lek6K3oaMqsa"
      }
    },
    {
      "cell_type": "code",
      "execution_count": null,
      "metadata": {
        "id": "tEhVyXJXL0pQ"
      },
      "outputs": [],
      "source": []
    }
  ]
}