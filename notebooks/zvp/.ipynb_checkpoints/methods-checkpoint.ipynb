{
  "nbformat": 4,
  "nbformat_minor": 0,
  "metadata": {
    "colab": {
      "provenance": [],
      "authorship_tag": "ABX9TyPuzBtaPpUrLsvt+gSkMIxd",
      "include_colab_link": true
    },
    "kernelspec": {
      "name": "python3",
      "display_name": "Python 3"
    },
    "language_info": {
      "name": "python"
    }
  },
  "cells": [
    {
      "cell_type": "markdown",
      "metadata": {
        "id": "view-in-github",
        "colab_type": "text"
      },
      "source": [
        "<a href=\"https://colab.research.google.com/github/hrbolek/learning/blob/master/notebooks/zvp/methods.ipynb\" target=\"_parent\"><img src=\"https://colab.research.google.com/assets/colab-badge.svg\" alt=\"Open In Colab\"/></a>"
      ]
    },
    {
      "cell_type": "markdown",
      "source": [
        "# Metody"
      ],
      "metadata": {
        "id": "aZd6ALA3MJdC"
      }
    },
    {
      "cell_type": "markdown",
      "source": [
        "Zdeněk Molnár, \"Úvod do základů vědecké práce\", https://people.fsv.cvut.cz/~dlaskpet/Help/ZakladyVedeckePrace.doc"
      ],
      "metadata": {
        "id": "1GwVyvjlMNfp"
      }
    },
    {
      "cell_type": "markdown",
      "source": [
        "- Metody empirické\n",
        "  - Pozorování\n",
        "  - Měření\n",
        "  - Experimentování\n",
        "\n",
        "- Metody logické\n",
        "  - abstrakce - konkretizace\n",
        "  - analýza - syntéza\n",
        "  - indukce - dedukce"
      ],
      "metadata": {
        "id": "lek6K3oaMqsa"
      }
    },
    {
      "cell_type": "markdown",
      "source": [
        "Abstrakce - Opomenutí nepodstatných charakteristik, vytváření zjednodušených modelů\n",
        "\n",
        "Konkretizace - Aplikace charakteristik (zákonů chování) na objekt příslušící skupině objektů"
      ],
      "metadata": {
        "id": "5OEtgz2TNhcV"
      }
    },
    {
      "cell_type": "markdown",
      "source": [
        "Analýza - Rozklad na menší části\n",
        "\n",
        "Syntéza - Spojování menších prvků do větších celků\n",
        "\n",
        "(Teorie systémů)"
      ],
      "metadata": {
        "id": "M2lWT3QzONY5"
      }
    },
    {
      "cell_type": "markdown",
      "source": [
        "Indukce - Odvození generálních (obecných pravidel), vyvození obecného závěru na základě jednotlivostí\n",
        "\n",
        "Dedukce - Aplikace obecných pravidel na konkrétní objekt"
      ],
      "metadata": {
        "id": "SDJ3OEUMQc7J"
      }
    },
    {
      "cell_type": "markdown",
      "source": [
        "Teorie systémů\n",
        "\n",
        "- Struktura systému\n",
        "- Vlastnosti prvků\n",
        "- Hranice\n",
        "- Vnější okolí"
      ],
      "metadata": {
        "id": "z9loXSvsWDKl"
      }
    },
    {
      "cell_type": "markdown",
      "source": [
        "Modelování - z jistého pohledu základ poznání\n",
        "\n",
        "Simulace - v technických vědách nezastupitelná\n",
        "\n",
        "Diferenciální rovnice 😏"
      ],
      "metadata": {
        "id": "DiaqudUPXpBj"
      }
    },
    {
      "cell_type": "code",
      "execution_count": null,
      "metadata": {
        "id": "tEhVyXJXL0pQ"
      },
      "outputs": [],
      "source": []
    }
  ]
}