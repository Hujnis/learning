{
 "cells": [
  {
   "cell_type": "markdown",
   "metadata": {
    "colab_type": "text",
    "id": "view-in-github"
   },
   "source": [
    "<a href=\"https://colab.research.google.com/github/hrbolek/learning/blob/master/notebooks/zvp/publishing.ipynb\" target=\"_parent\"><img src=\"https://colab.research.google.com/assets/colab-badge.svg\" alt=\"Open In Colab\"/></a>"
   ]
  },
  {
   "cell_type": "markdown",
   "metadata": {
    "id": "E7Ltb_wQTCv8"
   },
   "source": [
    "# Publikování výsledků"
   ]
  },
  {
   "cell_type": "markdown",
   "metadata": {
    "id": "UFG-kgFMTFVr"
   },
   "source": [
    "## Struktura"
   ]
  },
  {
   "cell_type": "markdown",
   "metadata": {
    "id": "MSX3GBh6TQZb"
   },
   "source": [
    "Je potřeba mít co publikovat. \n",
    "  - Rešerše\n",
    "  - Vědecké metody \n",
    "  - Prokazatelné výsledky (nebo negativní zkušenosti 😀 )\n",
    "\n",
    "Nezapomeňte na:\n",
    "- **Ex**pozice\n",
    "- **Ko**lize\n",
    "- **Kr**ize\n",
    "- **P**eripetie\n",
    "- **Ka**tarze\n",
    "\n",
    "Nebo také:\n",
    "- Úvod\n",
    "  - problém\n",
    "  - otázky\n",
    "- Metody\n",
    "  - plán\n",
    "  - analýza\n",
    "- Výsledky\n",
    "  - data (naměřená)\n",
    "  - vztahy\n",
    "- Závěr\n",
    "  - diskuze nad získanými výsledky\n",
    "  - odpověď na úvodní problém a otázky\n",
    "\n",
    "V každém případě i tato publikace musí být příběhem, pokud má přilákat čtenáře. Neopomeňte, že již abstrakt ovlivňuje, zda bude článek čten. Klíčová slova spolu s názvem článku slouží pro jeho indexaci a tutíž kdy se k článku dostane hledající osoba. Zvažte i propagaci článku. Existují zákoutí sociálních sítí, která jsou určena pro tento cíl."
   ]
  },
  {
   "cell_type": "markdown",
   "metadata": {
    "id": "NzeXOEiETIYD"
   },
   "source": [
    "## Problémy a pasti"
   ]
  },
  {
   "cell_type": "markdown",
   "metadata": {
    "id": "0-2Ye1GMTZlW"
   },
   "source": [
    "- Pozor na konstanty, speciálně v kontextu české desetinné čárky vs. anglické desetinné tečky. A to i v obrázcích.\n",
    "\n",
    "- Počet platných číslic určuje přesnost! Neopomeňte dodat nuly!\n",
    "\n",
    "- Při přípravě grafů pamatujte na uložení dat. Může se stát, že graf budete muset překreslit. \n",
    "\n",
    "- Nepoužívejte obrázky, kde nejste autory nebo nemáte písemný souhlas s použitím. Pozor na \"volné\" knihovny.\n",
    "\n",
    "- **Nikdy neopomeňte citovat.**\n",
    "\n",
    "- **Nepublikujte své výsledky opakovaně.**\n",
    "\n",
    "- Svoji práci můžete rozšířit o nové poznatky.\n",
    "\n",
    "- Citace je zvykem uvádět v pořadí, v jakém se v textu vyskytují. Počítejte s finálními opravami.\n",
    "\n",
    "- Neuvádějte citace, které v textu nepoužijete.\n",
    "\n",
    "- Pravděpodobně budete citace přebírat ze svých jiných publikací. Upravte formát citace v kontextu cílové publikace.\n",
    "\n",
    "- Buďte si jisti souhlasem všech (spolu)autorů s publikací a skutečností, že práce není zaslána k publikaci jinam.\n",
    "\n",
    "- Nepřeceňujte své jazykové schopnosti. Mnohdy ani rodilý mluvčí nemá dostatečné znalosti.\n",
    "\n",
    "V případě, kdy si neuvědomíte, co je časopisem požadováno, může se veškeré vaše úsilí minout úspěchem. I skvělý a perfektně zpracovaný výsledek nemusí projít recenzním řízením. Důsledně dodržujte požadavky redakce."
   ]
  }
 ],
 "metadata": {
  "colab": {
   "authorship_tag": "ABX9TyNPUXz1DbG122wYSSfqHPBr",
   "include_colab_link": true,
   "name": "publishing.ipynb",
   "provenance": [],
   "toc_visible": true
  },
  "kernelspec": {
   "display_name": "Python 3 (ipykernel)",
   "language": "python",
   "name": "python3"
  },
  "language_info": {
   "codemirror_mode": {
    "name": "ipython",
    "version": 3
   },
   "file_extension": ".py",
   "mimetype": "text/x-python",
   "name": "python",
   "nbconvert_exporter": "python",
   "pygments_lexer": "ipython3",
   "version": "3.10.6"
  }
 },
 "nbformat": 4,
 "nbformat_minor": 4
}
