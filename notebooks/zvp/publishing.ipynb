{
  "nbformat": 4,
  "nbformat_minor": 0,
  "metadata": {
    "colab": {
      "name": "publishing.ipynb",
      "provenance": [],
      "toc_visible": true,
      "authorship_tag": "ABX9TyNPUXz1DbG122wYSSfqHPBr",
      "include_colab_link": true
    },
    "kernelspec": {
      "name": "python3",
      "display_name": "Python 3"
    },
    "language_info": {
      "name": "python"
    }
  },
  "cells": [
    {
      "cell_type": "markdown",
      "metadata": {
        "id": "view-in-github",
        "colab_type": "text"
      },
      "source": [
        "<a href=\"https://colab.research.google.com/github/hrbolek/learning/blob/master/zvp/publishing.ipynb\" target=\"_parent\"><img src=\"https://colab.research.google.com/assets/colab-badge.svg\" alt=\"Open In Colab\"/></a>"
      ]
    },
    {
      "cell_type": "markdown",
      "source": [
        "# Publikování výsledků"
      ],
      "metadata": {
        "id": "E7Ltb_wQTCv8"
      }
    },
    {
      "cell_type": "markdown",
      "source": [
        "## Struktura"
      ],
      "metadata": {
        "id": "UFG-kgFMTFVr"
      }
    },
    {
      "cell_type": "markdown",
      "source": [
        "Je potřeba mít co publikovat. \n",
        "  - Rešerše\n",
        "  - Vědecké metody \n",
        "  - Prokazatelné výsledky (nebo negativní zkušenosti 😀 )\n",
        "\n",
        "Nezapomeňte na:\n",
        "- **Ex**pozice\n",
        "- **Ko**lize\n",
        "- **Kr**ize\n",
        "- **P**eripetie\n",
        "- **Ka**tarze\n",
        "\n",
        "Nebo také:\n",
        "- Úvod\n",
        "  - problém\n",
        "  - otázky\n",
        "- Metody\n",
        "  - plán\n",
        "  - analýza\n",
        "- Výsledky\n",
        "  - data (naměřená)\n",
        "  - vztahy\n",
        "- Závěr\n",
        "  - diskuze nad získanými výsledky\n",
        "  - odpověď na úvodní problém a otázky\n",
        "\n",
        "V každém případě i tato publikace musí být příběhem, pokud má přilákat čtenáře. Neopomeňte, že již abstrakt ovlivňuje, zda bude článek čten. Klíčová slova spolu s názvem článku slouží pro jeho indexaci a tutíž kdy se k článku dostane hledající osoba. Zvažte i propagaci článku. Existují zákoutí sociálních sítí, která jsou určena pro tento cíl."
      ],
      "metadata": {
        "id": "MSX3GBh6TQZb"
      }
    },
    {
      "cell_type": "markdown",
      "source": [
        "## Problémy a pasti"
      ],
      "metadata": {
        "id": "NzeXOEiETIYD"
      }
    },
    {
      "cell_type": "markdown",
      "source": [
        "- Pozor na konstanty, speciálně v kontextu české desetinné čárky vs. anglické desetinné tečky. A to i v obrázcích.\n",
        "\n",
        "- Počet platných číslic určuje přesnost! Neopomeňte dodat nuly!\n",
        "\n",
        "- Při přípravě grafů pamatujte na uložení dat. Může se stát, že graf budete muset překreslit. \n",
        "\n",
        "- Nepoužívejte obrázky, kde nejste autory nebo nemáte písemný souhlas s použitím. Pozor na \"volné\" knihovny.\n",
        "\n",
        "- **Nikdy neopomeňte citovat.**\n",
        "\n",
        "- **Nepublikujte své výsledky opakovaně.**\n",
        "\n",
        "- Svoji práci můžete rozšířit o nové poznatky.\n",
        "\n",
        "- Citace je zvykem uvádět v pořadí, v jakém se v textu vyskytují. Počítejte s finálními opravami.\n",
        "\n",
        "- Neuvádějte citace, které v textu nepoužijete.\n",
        "\n",
        "- Pravděpodobně budete citace přebírat ze svých jiných publikací. Upravte formát citace v kontextu cílové publikace.\n",
        "\n",
        "- Buďte si jisti souhlasem všech (spolu)autorů s publikací a skutečností, že práce není zaslána k publikaci jinam.\n",
        "\n",
        "- Nepřeceňujte své jazykové schopnosti. Mnohdy ani rodilý mluvčí nemá dostatečné znalosti.\n",
        "\n",
        "V případě, kdy si neuvědomíte, co je časopisem požadováno, může se veškeré vaše úsilí minout úspěchem. I skvělý a perfektně zpracovaný výsledek nemusí projít recenzním řízením. Důsledně dodržujte požadavky redakce."
      ],
      "metadata": {
        "id": "0-2Ye1GMTZlW"
      }
    }
  ]
}