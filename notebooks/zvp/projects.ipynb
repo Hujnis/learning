{
 "cells": [
  {
   "cell_type": "markdown",
   "metadata": {
    "colab_type": "text",
    "id": "view-in-github"
   },
   "source": [
    "<a href=\"https://colab.research.google.com/github/hrbolek/learning/blob/master/zvp/projects.ipynb\" target=\"_parent\"><img src=\"https://colab.research.google.com/assets/colab-badge.svg\" alt=\"Open In Colab\"/></a>"
   ]
  },
  {
   "cell_type": "markdown",
   "metadata": {
    "id": "gQWfGNjb2kK1"
   },
   "source": [
    "# Projekty a jejich financování"
   ]
  },
  {
   "cell_type": "markdown",
   "metadata": {
    "id": "1Ff5PeUi2n1H"
   },
   "source": [
    "## Dělení financí pro tvůrčí činnost (projekty)\n",
    "- z hlediska úrovně\n",
    "  - mezinárodní (Evropské)\n",
    "  - národní\n",
    "  - institucionální (univerzitní)\n",
    "\n",
    "- z hlediska typu podpory\n",
    "  - účelové\n",
    "  - institucionální\n",
    "\n",
    "- z hlediska typu výzvy\n",
    "  - veřejná soutěž\n",
    "  - veřejná zakázka"
   ]
  },
  {
   "cell_type": "markdown",
   "metadata": {
    "id": "pGQB9HaJ3Mzc"
   },
   "source": [
    "## Poskytovalé \n",
    "- GA\n",
    "- TAČR\n",
    "- MŠMT\n",
    "- MPO\n",
    "- MV\n",
    "\n"
   ]
  },
  {
   "cell_type": "markdown",
   "metadata": {
    "id": "fhcpOkue3ygq"
   },
   "source": [
    "## Financování\n",
    "- s investicemi / bez\n",
    "- ex post / ex ante\n",
    "- spoluúčast"
   ]
  },
  {
   "cell_type": "markdown",
   "metadata": {
    "id": "AUIO3S8M39la"
   },
   "source": [
    "## Podání projektu\n",
    "- kam (výzva)\n",
    "- kdo (řešitelský kolektiv)\n",
    "- co (obsah projektu)\n",
    "- s kým (spoluřešitelé)\n",
    "- za kolik (finanční struktura)\n",
    "\n",
    "**PROČ**\n",
    "\n",
    "Žádoucí být si vědom\n",
    "- záměru poskytovatele\n",
    "- podmínky výzvy\n",
    "- erudice řešitelského kolektivu\n",
    "- rešeršní podklady\n",
    "- *recenze*?"
   ]
  },
  {
   "cell_type": "markdown",
   "metadata": {
    "id": "XepMvj055lSi"
   },
   "source": [
    "## Recenzní řízení\n",
    "\n",
    "Příklady otázek, které jsou recenzentům pokládány\n",
    "- Je obsah návrhu projektu strategicky zajímavý?\n",
    "- Prokázali navrhovatelé dostatečnou znalost?\n",
    "- Je brán v úvahu aktuální vývoj v předmětné oblasti?\n",
    "- Je zde návaznost na tematiku řešenou v mezinárocním prostředí?\n",
    "- Má řešitelský kolektiv předpoklady k vyřešení projektu?\n",
    "- Je formulace hypotéz adekvátní (správná)?\n",
    "- Jak budou výsledky využity?\n",
    "- Je analýza rizik a návrh vyhnutí se specifikován adekvátním způsobem?\n",
    "- Je časová souslednost realistická?\n",
    "- Požadované finanční prostředky jsou realistické (adekvátní)?\n"
   ]
  },
  {
   "cell_type": "code",
   "execution_count": null,
   "metadata": {
    "id": "hqA-mTzG2S_g"
   },
   "outputs": [],
   "source": []
  }
 ],
 "metadata": {
  "colab": {
   "authorship_tag": "ABX9TyNdxfI8LyAzuMoNmd55FHOX",
   "include_colab_link": true,
   "name": "projects.ipynb",
   "provenance": [],
   "toc_visible": true
  },
  "kernelspec": {
   "display_name": "Python 3 (ipykernel)",
   "language": "python",
   "name": "python3"
  },
  "language_info": {
   "codemirror_mode": {
    "name": "ipython",
    "version": 3
   },
   "file_extension": ".py",
   "mimetype": "text/x-python",
   "name": "python",
   "nbconvert_exporter": "python",
   "pygments_lexer": "ipython3",
   "version": "3.10.6"
  }
 },
 "nbformat": 4,
 "nbformat_minor": 4
}
