{
  "nbformat": 4,
  "nbformat_minor": 0,
  "metadata": {
    "colab": {
      "name": "maptheory.ipynb",
      "provenance": [],
      "toc_visible": true,
      "authorship_tag": "ABX9TyPCC/9so9uIgYEPuvQBULDB",
      "include_colab_link": true
    },
    "kernelspec": {
      "name": "python3",
      "display_name": "Python 3"
    }
  },
  "cells": [
    {
      "cell_type": "markdown",
      "metadata": {
        "id": "view-in-github",
        "colab_type": "text"
      },
      "source": [
        "<a href=\"https://colab.research.google.com/github/hrbolek/learning/blob/master/simulation/maptheory.ipynb\" target=\"_parent\"><img src=\"https://colab.research.google.com/assets/colab-badge.svg\" alt=\"Open In Colab\"/></a>"
      ]
    },
    {
      "cell_type": "markdown",
      "metadata": {
        "id": "wH-I8RfqcN2G",
        "colab_type": "text"
      },
      "source": [
        "# Teorie pro práci s mapami"
      ]
    },
    {
      "cell_type": "markdown",
      "metadata": {
        "id": "PZUxxhE_cTjL",
        "colab_type": "text"
      },
      "source": [
        "## Matematické základy"
      ]
    },
    {
      "cell_type": "markdown",
      "metadata": {
        "id": "QbFgY671cXaa",
        "colab_type": "text"
      },
      "source": [
        "### Lineární transformace"
      ]
    },
    {
      "cell_type": "markdown",
      "metadata": {
        "id": "EAArmTJGcb5l",
        "colab_type": "text"
      },
      "source": [
        "Chceme-li na určitém intervalu zobrazit jiný interval, můžeme toto provést s pomocí tzv. lineární transformace.\n",
        "\n",
        "Nechť zobrazovaný interval má rozsah $<a_0;a_1>$ a má být zobrazen na interval $<b_0;b_1>$. Hledáme funkci $f$, pro kterou platí $f(a_0)=b_0$ a $f(a_1)=b_1$. Vzhledem k povaze úlohy je dostatečné konstatovat, že tato funkce je ve tvaru $f(x) = k \\cdot x + c$. Odtud lze napsat soustavu rovnic\n",
        "$$b_0=k \\cdot a_0 + c$$\n",
        "$$b_1=k \\cdot a_1 + c$$\n",
        "Jedná se o systém dvou lineráních rovnic o dvou neznámých, jehož řešení je triviální.\n",
        "$$b_0-b_1=k \\cdot(a_0 - a_1)$$\n",
        "odtud\n",
        "$$k = \\frac{b_0-b_1}{a_0 - a_1}$$\n",
        "$$c = b_0 - a_0 \\cdot \\frac{b_0-b_1}{a_0 - a_1}$$\n"
      ]
    },
    {
      "cell_type": "code",
      "metadata": {
        "id": "0JeKM_EMb8FM",
        "colab_type": "code",
        "colab": {
          "base_uri": "https://localhost:8080/",
          "height": 54
        },
        "outputId": "6f0860cd-e84d-4a78-b079-68889a05c730"
      },
      "source": [
        "b0 = 0\n",
        "b1 = 5\n",
        "a0 = 45000\n",
        "a1 = 50000\n",
        "\n",
        "k = (b0 - b1) / (a0 - a1)\n",
        "c = b0 - a0 * k\n",
        "def transform(x):\n",
        "  result = k * x + c\n",
        "  return result\n",
        "\n",
        "print(a0, '=>', transform(a0), '\\t', b0)\n",
        "print(a1, '=>', transform(a1), '\\t', b1)"
      ],
      "execution_count": null,
      "outputs": [
        {
          "output_type": "stream",
          "text": [
            "45000 => 0.0 \t 0\n",
            "50000 => 5.0 \t 5\n"
          ],
          "name": "stdout"
        }
      ]
    },
    {
      "cell_type": "markdown",
      "metadata": {
        "id": "D8L09Dldih7M",
        "colab_type": "text"
      },
      "source": [
        "### Lineární transformace 2D"
      ]
    },
    {
      "cell_type": "markdown",
      "metadata": {
        "id": "PRjw_81-ioGk",
        "colab_type": "text"
      },
      "source": [
        "Při práci s mapou určujeme nikoliv souřadnici jednu, ale dvě. To znamená, že poloha na mapě je určena dvěma hodnotami.\n",
        "$$X=(x_x, x_y)$$\n",
        "V nejjednodušší variantě to znamená, že lineární transformace je definována v prostoru $R \\times R$. Jeví se, že pro popis takové transformace jsou potřeba 4 body. Vzhledem ke skutečnosti, že u mapy se požaduje stejné měřítko v obou osách, tedy koeficient $c$ je shodný pro obě osy, mohly by nám stačit dva body.\n",
        "$$b_{x0}=k \\cdot a_{x0} + c_x$$\n",
        "$$b_{x1}=k \\cdot a_{x1} + c_x$$\n",
        "$$b_{y0}=k \\cdot a_{y0} + c_y$$\n",
        "$$b_{y1}=k \\cdot a_{y1} + c_y$$\n",
        "Ve výše uvedené soustavě jsou tři neznámé $k_x$, $k_y$ a $c$. Soustava má ovšem čtyři rovnice. Lze ji rozdělit na dvě soustavy o dvou neznámých a aplikovat postup v předchozí podkapitole.\n"
      ]
    },
    {
      "cell_type": "code",
      "metadata": {
        "id": "yzvjZNztlPe9",
        "colab_type": "code",
        "colab": {
          "base_uri": "https://localhost:8080/",
          "height": 54
        },
        "outputId": "640feb35-6253-4e0e-b62a-fc2b9833a3de"
      },
      "source": [
        "b0 = {'x':0, 'y':0}\n",
        "b1 = {'x':5, 'y':5}\n",
        "a0 = {'x':45000, 'y':45000}\n",
        "a1 = {'x':50000, 'y':50000}\n",
        "\n",
        "k = (b0['x'] - b1['x']) / (a0['x'] - a1['y'])\n",
        "c_x = b0['x'] - a0['x'] * k\n",
        "c_y = b0['y'] - a0['y'] * k\n",
        "\n",
        "def transform2D(X):\n",
        "  result = {\n",
        "      'x': k * X['x'] + c_x,\n",
        "      'y': k * X['y'] + c_y\n",
        "      }\n",
        "  return result\n",
        "\n",
        "print(a0, '=>', transform2D(a0), '\\t', b0)\n",
        "print(a1, '=>', transform2D(a1), '\\t', b1)"
      ],
      "execution_count": 2,
      "outputs": [
        {
          "output_type": "stream",
          "text": [
            "{'x': 45000, 'y': 45000} => {'x': 0.0, 'y': 0.0} \t {'x': 0, 'y': 0}\n",
            "{'x': 50000, 'y': 50000} => {'x': 5.0, 'y': 5.0} \t {'x': 5, 'y': 5}\n"
          ],
          "name": "stdout"
        }
      ]
    },
    {
      "cell_type": "markdown",
      "metadata": {
        "id": "HoFiFOtua_Ei",
        "colab_type": "text"
      },
      "source": [
        "### Lineární transformace II"
      ]
    },
    {
      "cell_type": "markdown",
      "metadata": {
        "id": "p35SLcl2bEql",
        "colab_type": "text"
      },
      "source": [
        "Vztahy v první podkapitole mohou být prezentovány ve vektorové formě.\n",
        "$$\\vec{b_0}=k \\cdot \\vec{a_0} + c$$\n",
        "Je vhodné si vzpomenout na lineární algebru a tyto vztahy uvést v maticovém tvaru\n",
        "$$\\vec{b_0}=K \\cdot \\vec{a_0}$$\n",
        "kde \n",
        "$$\\vec{b_0}=\\begin{pmatrix}\n",
        "b_{x0}\\\\\n",
        "b_{y0}\\\\\n",
        "1\n",
        "\\end{pmatrix}$$\n",
        "$$\\vec{a_0}=\\begin{pmatrix}\n",
        "a_{x0}\\\\\n",
        "a_{y0}\\\\\n",
        "1\n",
        "\\end{pmatrix}$$\n",
        "$$K=\\begin{pmatrix}\n",
        "k & 0 & c_x\\\\\n",
        "0 & k & c_y\\\\\n",
        "0 & 0 & 1\n",
        "\\end{pmatrix}$$\n",
        "tedy v celkovém zápisu\n",
        "$$\\begin{pmatrix}\n",
        "b_{x0}\\\\\n",
        "b_{y0}\\\\\n",
        "1\n",
        "\\end{pmatrix}\n",
        "=\n",
        "\\begin{pmatrix}\n",
        "k & 0 & c_x\\\\\n",
        "0 & k & c_y\\\\\n",
        "0 & 0 & 1\n",
        "\\end{pmatrix}\n",
        "\\cdot\n",
        "\\begin{pmatrix}\n",
        "a_{x0}\\\\\n",
        "a_{y0}\\\\\n",
        "1\n",
        "\\end{pmatrix}$$\n"
      ]
    },
    {
      "cell_type": "markdown",
      "metadata": {
        "id": "QcHbN0FIdzOM",
        "colab_type": "text"
      },
      "source": [
        "### Lineární transformace III"
      ]
    },
    {
      "cell_type": "markdown",
      "metadata": {
        "id": "WVf9_Z5bd3Ix",
        "colab_type": "text"
      },
      "source": [
        "Rovnice\n",
        "$$\\vec{b_0}=K \\cdot \\vec{a_0}$$\n",
        "v rozepsaném tvaru\n",
        "$$\\begin{pmatrix}\n",
        "b_{x0}\\\\\n",
        "b_{y0}\\\\\n",
        "1\n",
        "\\end{pmatrix}\n",
        "=\n",
        "\\begin{pmatrix}\n",
        "k & 0 & c_x\\\\\n",
        "0 & k & c_y\\\\\n",
        "0 & 0 & 1\n",
        "\\end{pmatrix}\n",
        "\\cdot\n",
        "\\begin{pmatrix}\n",
        "a_{x0}\\\\\n",
        "a_{y0}\\\\\n",
        "1\n",
        "\\end{pmatrix}$$\n",
        "Umožňuje matici $K$ počítat jako součin matic\n",
        "$$K=K_1 \\cdot K_2 \\cdot K_3 \\dots K_n$$\n",
        "kde jednotlivé matice představují elementární operace\n",
        "- posun\n",
        "$$\\begin{pmatrix}\n",
        "1 & 0 & c_x\\\\\n",
        "0 & 1 & c_y\\\\\n",
        "0 & 0 & 1\n",
        "\\end{pmatrix}\n",
        "$$\n",
        "- zvětšení / zmenšení\n",
        "$$\\begin{pmatrix}\n",
        "z & 0 & 0\\\\\n",
        "0 & z & 0\\\\\n",
        "0 & 0 & 1\n",
        "\\end{pmatrix}\n",
        "$$\n",
        "- otočení\n",
        "$$\\begin{pmatrix}\n",
        "cos(\\alpha) & sin(\\alpha) & 0\\\\\n",
        "-sin(\\alpha) & cos(\\alpha) & 0\\\\\n",
        "0 & 0 & 1\n",
        "\\end{pmatrix}\n",
        "$$\n",
        "\n"
      ]
    },
    {
      "cell_type": "code",
      "metadata": {
        "id": "W2o2GKmojuwU",
        "colab_type": "code",
        "colab": {
          "base_uri": "https://localhost:8080/",
          "height": 265
        },
        "outputId": "7c981eb2-145f-4eb9-8f2d-490cb7c09892"
      },
      "source": [
        "import matplotlib.pyplot as plt\n",
        "from math import sin, cos, pi, sqrt\n",
        "\n",
        "segments = 8\n",
        "alpha = 2 * pi / segments\n",
        "cosalpha = cos(alpha)\n",
        "sinalpha = sin(alpha)\n",
        "\n",
        "cx = 1.0\n",
        "cy = 0.0\n",
        "\n",
        "x = [cx]\n",
        "y = [cy]\n",
        "for i in range(segments):\n",
        "  ncx = cx * cosalpha - cy * sinalpha\n",
        "  ncy = cx * sinalpha + cy * cosalpha\n",
        "  \n",
        "  cx = ncx\n",
        "  cy = ncy\n",
        "\n",
        "  x.append(cx)\n",
        "  y.append(cy)\n",
        "\n",
        "ax = plt.plot(x, y)\n",
        "plt.gca().set_aspect('equal')"
      ],
      "execution_count": null,
      "outputs": [
        {
          "output_type": "display_data",
          "data": {
            "image/png": "[encoded data removed]",
            "text/plain": [
              "<Figure size 432x288 with 1 Axes>"
            ]
          },
          "metadata": {
            "tags": [],
            "needs_background": "light"
          }
        }
      ]
    },
    {
      "cell_type": "markdown",
      "metadata": {
        "id": "el93vw1khw12",
        "colab_type": "text"
      },
      "source": [
        "## Zobrazení mapy"
      ]
    },
    {
      "cell_type": "markdown",
      "metadata": {
        "id": "_3s7cmtohzXe",
        "colab_type": "text"
      },
      "source": [
        "Při zobrazení mapy je využívána matice zobrazení, kterou jsou násobeny souřadnice a získávány body na obrazovce či na papíru, se kterými má být souřadnice ztotožněna.\n",
        "\n",
        "Využití nástrojů ZoomIn, ZoomOut a Pan je potom realizováno násobením aktuální matice zobrazení a matice definující elementární operaci.\n",
        "\n",
        "Pro čtení souřadnic z mapy je potřeba mít k dispozici inverzní matici zobrazení, kterou se násobí souřadnice na obrazovce a výsledkem jsou reálné souřadnice."
      ]
    },
    {
      "cell_type": "code",
      "metadata": {
        "id": "f_aINhChoUW6",
        "colab_type": "code",
        "colab": {
          "base_uri": "https://localhost:8080/",
          "height": 265
        },
        "outputId": "6c9aa8ee-b4fa-4df0-8c7f-b79ea170c3b6"
      },
      "source": [
        "domecek = [(0, 0), (1, 1), (0, 1), (1, 0), (0, 0), (0, 1), (0.5, 1.5), (1, 1), (1, 0)]\n",
        "x = []\n",
        "y = []\n",
        "for bod in domecek:\n",
        "  x.append(bod[0])\n",
        "  y.append(bod[1])\n",
        "\n",
        "plt.plot(x, y)\n",
        "plt.gca().set_aspect('equal')"
      ],
      "execution_count": null,
      "outputs": [
        {
          "output_type": "display_data",
          "data": {
            "image/png": "[encoded data removed]",
            "text/plain": [
              "<Figure size 432x288 with 1 Axes>"
            ]
          },
          "metadata": {
            "tags": [],
            "needs_background": "light"
          }
        }
      ]
    },
    {
      "cell_type": "code",
      "metadata": {
        "id": "GjFHjHLypkYg",
        "colab_type": "code",
        "colab": {
          "base_uri": "https://localhost:8080/",
          "height": 265
        },
        "outputId": "e6a586e3-2fcd-4e0e-ccc7-ae4b932e1f87"
      },
      "source": [
        "alpha = pi / 4\n",
        "cosalpha = cos(alpha)\n",
        "sinalpha = sin(alpha)\n",
        "\n",
        "matice = [\n",
        "  [1, 0, 5],\n",
        "  [0, 1, 5],\n",
        "  [0, 0, 1]\n",
        "          ]\n",
        "\n",
        "_matice = [\n",
        "  [cosalpha, -sinalpha, 5],\n",
        "  [sinalpha, cosalpha, 5],\n",
        "  [0, 0, 1]\n",
        "          ]\n",
        "\n",
        "_matice = [\n",
        "  [3, 0, 5],\n",
        "  [0, 3, 5],\n",
        "  [0, 0, 1]\n",
        "          ]\n",
        "\n",
        "def transformace(bod):\n",
        "  resultx = bod[0] * matice[0][0] + bod[1] * matice[0][1] + matice[0][2]\n",
        "  resulty = bod[0] * matice[1][0] + bod[1] * matice[1][1] + matice[1][2]  \n",
        "  return (resultx, resulty)\n",
        "\n",
        "novyDomecek = []\n",
        "for bod in domecek:\n",
        "  novyDomecek.append(transformace(bod))\n",
        "\n",
        "x2 = []\n",
        "y2 = []\n",
        "for bod in novyDomecek:\n",
        "  x2.append(bod[0])\n",
        "  y2.append(bod[1])\n",
        "\n",
        "plt.plot(x, y, 'b')\n",
        "plt.plot(x2, y2, 'g')\n",
        "plt.gca().set_aspect('equal')"
      ],
      "execution_count": null,
      "outputs": [
        {
          "output_type": "display_data",
          "data": {
            "image/png": "[encoded data removed]",
            "text/plain": [
              "<Figure size 432x288 with 1 Axes>"
            ]
          },
          "metadata": {
            "tags": [],
            "needs_background": "light"
          }
        }
      ]
    },
    {
      "cell_type": "markdown",
      "metadata": {
        "id": "s5L3nYDirnFT",
        "colab_type": "text"
      },
      "source": [
        "## Geoid a spol."
      ]
    },
    {
      "cell_type": "markdown",
      "metadata": {
        "id": "DHdTHdozrrEG",
        "colab_type": "text"
      },
      "source": [
        "Z Wikipedie:\n",
        "![Geoid](https://upload.wikimedia.org/wikipedia/commons/4/4a/Geoid_undulation_10k_scale.jpg)"
      ]
    },
    {
      "cell_type": "markdown",
      "metadata": {
        "id": "v3AZvQQRsn9R",
        "colab_type": "text"
      },
      "source": [
        ""
      ]
    },
    {
      "cell_type": "markdown",
      "metadata": {
        "id": "Pd1K33U_tcuv",
        "colab_type": "text"
      },
      "source": [
        "### Projekce"
      ]
    },
    {
      "cell_type": "markdown",
      "metadata": {
        "id": "OBAt0s3EtfLE",
        "colab_type": "text"
      },
      "source": [
        "[odkaz](https://is.mendelu.cz/eknihovna/opory/zobraz_cast.pl?cast=59996)\n",
        "\n",
        "Projekce:\n",
        "- do roviny (gnomic, stereographics)\n",
        "- do kužele ()\n",
        "- do válce (mercator, transverse mercator)\n",
        "\n",
        "Projekce:\n",
        "- délkojevná\n",
        "- úhlojevná\n",
        "- plochojevná\n",
        "\n",
        "Není možno kombinovat rastrové podklady s různými projekcemi."
      ]
    },
    {
      "cell_type": "markdown",
      "metadata": {
        "id": "OA4sz9rch7Nh",
        "colab_type": "text"
      },
      "source": [
        "## Souřadné systémy"
      ]
    },
    {
      "cell_type": "markdown",
      "metadata": {
        "id": "FnvUVWVk-P9U",
        "colab_type": "text"
      },
      "source": [
        "### Obrazovka"
      ]
    },
    {
      "cell_type": "markdown",
      "metadata": {
        "id": "ok0xEv6Nh-vQ",
        "colab_type": "text"
      },
      "source": [
        "Souřadný systém obrazovky je charakterizován polohou bodu (0, 0) v levém horním rohu monitoru. Obdobně to platí i pro obrázky. Osa x je orinetována vodorovně s rostoucí hodnotou zleva doprava. Osa y je orientována svisle s rostoucí hodnotou shora dolů."
      ]
    },
    {
      "cell_type": "markdown",
      "metadata": {
        "id": "qwJvoNtr-Uah",
        "colab_type": "text"
      },
      "source": [
        "### Mapy\n",
        "\n",
        "[odkaz](https://geoportal.cuzk.cz/(S(ktowci4sbplf1azd1ehqh2go))/Default.aspx?mode=TextMeta&side=sit.trans&text=souradsystemy)\n",
        "\n",
        "- JTSK (S-JTSK / Křovákovo zobrazení)\n",
        "- S42 (Varšavská smlouva)\n",
        "- WGS84 (World geodetic system)\n",
        "- MGRS"
      ]
    },
    {
      "cell_type": "markdown",
      "metadata": {
        "id": "01qQcyQO-Vol",
        "colab_type": "text"
      },
      "source": [
        "#### JTSK\n",
        "Historicky důležitý souřadný systém, který umožnil umístit celou bývalou Československou republiku do jedné souřadné soustavy.\n"
      ]
    },
    {
      "cell_type": "markdown",
      "metadata": {
        "id": "a5vOrH1RIxgZ",
        "colab_type": "text"
      },
      "source": [
        "#### S42\n",
        "Systém, který má obdobné charakteristiky jako WGS84 a který je spojen s Varšavskou smlouvou\n"
      ]
    },
    {
      "cell_type": "markdown",
      "metadata": {
        "id": "5_6TjZ4xIx5s",
        "colab_type": "text"
      },
      "source": [
        "#### WGS84\n",
        "Systém spojený s GPS. Pozor stejně jako S42 má dvě základní podoby. První používá souřadnice ve tvaru zeměpisná délka, zeměpisná šířka. Druhý používá souřadnice v metrech. Současně je druhý vázán na některou z 60 zón po 6°. České republiky se týká primárně zóna 33 a sekundárně zóna 34 (Ostravsko). Převod mezi první a druhým systémem je matematicky definován pomocí UTM, což je projekce na válec, který se koule dotýká ve středovém poledníku. Pro ČR (zóna 33) je to 15°. Pás se potom rozprostírá od 12° do 18°."
      ]
    },
    {
      "cell_type": "markdown",
      "metadata": {
        "id": "eOajQJ2wngsC",
        "colab_type": "text"
      },
      "source": [
        "# Standardy pro zpracování mapových dat"
      ]
    },
    {
      "cell_type": "markdown",
      "metadata": {
        "id": "neMu-0MHnplZ",
        "colab_type": "text"
      },
      "source": [
        "## Typy souborů"
      ]
    },
    {
      "cell_type": "markdown",
      "metadata": {
        "id": "aSp9RE1YoYuL",
        "colab_type": "text"
      },
      "source": [
        "[Wiki](https://en.wikipedia.org/wiki/GIS_file_formats)\n",
        "\n",
        "Rastrové\n",
        "- TIFF / GeoTIFF\n",
        "- JPEG\n",
        "- PNG\n",
        "- CADRG (MIL) (COMPRESSED ARC DIGITIZED RASTER GRAPHIC)\n",
        "\n",
        "Vektorové\n",
        "- SHP ([shapefile](https://cs.wikipedia.org/wiki/Shapefile))\n",
        "- DGN ([Microstation](http://www.gisoft.cz/Bentley/DGN))\n",
        "- VMAP (Vector Maps)\n",
        "\n",
        "Výškopisné\n",
        "- DTED (Digital Terrain Elevation Data)\n",
        "- DMR (Digitální model reliéfu)\n",
        "\n",
        "Speciální využití\n",
        "- TFW (matice zobrazení) [zde](http://www.omg.unb.ca/~jonnyb/processing/geotiff_tifw_format.html)"
      ]
    },
    {
      "cell_type": "code",
      "metadata": {
        "id": "pyBzq5PItVz7",
        "colab_type": "code",
        "colab": {
          "base_uri": "https://localhost:8080/",
          "height": 54
        },
        "outputId": "e7d8caed-9459-43b9-d51b-d3e602f04260"
      },
      "source": [
        "tfwSource = \"\"\"10000\n",
        "0\n",
        "0\n",
        "-10000\n",
        "-3683154.58\n",
        "4212096.53\"\"\"\n",
        "\n",
        "def createTransformation(tfwStr):\n",
        "  matrixStr = tfwStr.split('\\n')\n",
        "  matrixCoef = []\n",
        "  for s in matrixStr:\n",
        "    matrixCoef.append(float(s))\n",
        "  print(matrixCoef)  \n",
        "  def Transformation(point):\n",
        "    resultX = matrixCoef[0] * point[0] + matrixCoef[1] * point[1] + matrixCoef[4]\n",
        "    resultY = matrixCoef[2] * point[0] + matrixCoef[3] * point[1] + matrixCoef[5]\n",
        "    return (resultX, resultY)\n",
        "  return Transformation\n",
        "\n",
        "transformation = createTransformation(tfwSource)\n",
        "geoCoords = transformation((0, 0))\n",
        "print(geoCoords)"
      ],
      "execution_count": null,
      "outputs": [
        {
          "output_type": "stream",
          "text": [
            "[10000.0, 0.0, 0.0, -10000.0, -3683154.58, 4212096.53]\n",
            "(-3683154.58, 4212096.53)\n"
          ],
          "name": "stdout"
        }
      ]
    },
    {
      "cell_type": "markdown",
      "metadata": {
        "id": "OSAz7Xc4rvnO",
        "colab_type": "text"
      },
      "source": [
        "## Webové služby"
      ]
    },
    {
      "cell_type": "markdown",
      "metadata": {
        "id": "IydhVYS8BVoQ",
        "colab_type": "text"
      },
      "source": [
        "[WMS](https://en.wikipedia.org/wiki/Web_Map_Service)\n",
        "\n",
        "Standardizovaná služba poskytovaná na protokolu HTTP, poskytující rastr (obrázek) jako podklad pro zobrazení mapy. Obrázek je poskytnut jako celek (celé pozadí).\n",
        "\n",
        "[WMST](https://www.ogc.org/standards/wmts)\n",
        "\n",
        "Standardizovaná služba poskytovaná na protokolu HTTP, poskytující sadu rastrů (obrázků) typicky tvarů čtverce jako podklad pro zobrazení mapy.\n",
        "\n",
        "Vojenský kartografický ústav poskytuje data i na platformě WMST."
      ]
    },
    {
      "cell_type": "markdown",
      "metadata": {
        "id": "6svCjvkBGRqJ",
        "colab_type": "text"
      },
      "source": [
        "## Datové zdroje"
      ]
    },
    {
      "cell_type": "markdown",
      "metadata": {
        "id": "b4iEJJcIGVnG",
        "colab_type": "text"
      },
      "source": [
        "Existuje celá řada volně dostupných datových zdrojů."
      ]
    },
    {
      "cell_type": "markdown",
      "metadata": {
        "id": "IDrlOP6XHgZQ",
        "colab_type": "text"
      },
      "source": [
        "# Základy práce s mapami v prostředí Google Colab / Jupyter"
      ]
    },
    {
      "cell_type": "markdown",
      "metadata": {
        "id": "b4EhUAjdHy9z",
        "colab_type": "text"
      },
      "source": [
        "## Nevyhnutelné importy"
      ]
    },
    {
      "cell_type": "code",
      "metadata": {
        "id": "6rgkDPqlH03n",
        "colab_type": "code",
        "colab": {}
      },
      "source": [
        "import folium\n",
        "import folium.plugins"
      ],
      "execution_count": null,
      "outputs": []
    },
    {
      "cell_type": "markdown",
      "metadata": {
        "id": "9cnbkRxgH5Cz",
        "colab_type": "text"
      },
      "source": [
        "## Vytvoření mapového podkladu"
      ]
    },
    {
      "cell_type": "code",
      "metadata": {
        "id": "KJIbh5XFH5of",
        "colab_type": "code",
        "colab": {
          "base_uri": "https://localhost:8080/",
          "height": 912
        },
        "outputId": "b3b05d8b-fbe3-48e6-a979-77551f5ed9a4"
      },
      "source": [
        "# definice promenne uchovavajici mapu\n",
        "m = folium.Map(location=[49.1687516,16.6725822], zoom_start=12 )\n",
        "\n",
        "# zobrazeni mapy\n",
        "display(m)"
      ],
      "execution_count": null,
      "outputs": [
        {
          "output_type": "display_data",
          "data": {
            "text/html": [
              "<div style=\"width:100%;\"><div style=\"position:relative;width:100%;height:0;padding-bottom:60%;\"><span style=\"color:#565656\">Make this Notebook Trusted to load map: File -> Trust Notebook</span><iframe src=\"about:blank\" style=\"position:absolute;width:100%;height:100%;left:0;top:0;border:none !important;\" data-html=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 onload=\"this.contentDocument.open();this.contentDocument.write(atob(this.getAttribute('data-html')));this.contentDocument.close();\" allowfullscreen webkitallowfullscreen mozallowfullscreen></iframe></div></div>"
            ],
            "text/plain": [
              "<folium.folium.Map at 0x7f6d0ed1ff28>"
            ]
          },
          "metadata": {
            "tags": []
          }
        }
      ]
    },
    {
      "cell_type": "markdown",
      "metadata": {
        "id": "LXujrCVjICA3",
        "colab_type": "text"
      },
      "source": [
        "## Definice mapových vrstev (otevřená data)"
      ]
    },
    {
      "cell_type": "code",
      "metadata": {
        "id": "jaYAtbtTICnC",
        "colab_type": "code",
        "colab": {
          "base_uri": "https://localhost:8080/",
          "height": 912
        },
        "outputId": "19c1dae6-8f87-4de9-b0f5-b41426655f2b"
      },
      "source": [
        "# definice promenne uchovavajici mapu\n",
        "m = folium.Map(location=[49.1687516,16.6725822], zoom_start=12 )\n",
        "\n",
        "# sada otevrenych map\n",
        "urlhead = 'http://services.arcgisonline.com/arcgis/rest/services'\n",
        "urltail = '/MapServer/tile/{z}/{y}/{x}'\n",
        "maps = {\n",
        "  'World_Imagery': '/World_Imagery/MapServer',\n",
        "  'World_Shaded_Relief': '/World_Shaded_Relief/MapServer',\n",
        "  'World_Street_Map': '/World_Street_Map/MapServer',\n",
        "  'World_Topo_Map': '/World_Topo_Map/MapServer'\n",
        "}\n",
        "\n",
        "# pridani do volitelnych vrstev\n",
        "for tile_name, tile_url in maps.items():\n",
        "  wl = folium.WmsTileLayer(url = urlhead + tile_url + urltail, name = tile_name, show = False)\n",
        "  wl.add_to(m)\n",
        "\n",
        "# pridani ovladaciho prvku pro zapinani vrstev (objevi se v pravem hornim rohu)\n",
        "folium.LayerControl().add_to(m)\n",
        "\n",
        "# zobrazeni mapy\n",
        "display(m)"
      ],
      "execution_count": null,
      "outputs": [
        {
          "output_type": "display_data",
          "data": {
            "text/html": [
              "<div style=\"width:100%;\"><div style=\"position:relative;width:100%;height:0;padding-bottom:60%;\"><span style=\"color:#565656\">Make this Notebook Trusted to load map: File -> Trust Notebook</span><iframe src=\"about:blank\" style=\"position:absolute;width:100%;height:100%;left:0;top:0;border:none !important;\" data-html=PCFET0NUWVBFIGh0bWw+CjxoZWFkPiAgICAKICAgIDxtZXRhIGh0dHAtZXF1aXY9ImNvbnRlbnQtdHlwZSIgY29udGVudD0idGV4dC9odG1sOyBjaGFyc2V0PVVURi04IiAvPgogICAgPHNjcmlwdD5MX1BSRUZFUl9DQU5WQVM9ZmFsc2U7IExfTk9fVE9VQ0g9ZmFsc2U7IExfRElTQUJMRV8zRD1mYWxzZTs8L3NjcmlwdD4KICAgIDxzY3JpcHQgc3JjPSJodHRwczovL2Nkbi5qc2RlbGl2ci5uZXQvbnBtL2xlYWZsZXRAMS40LjAvZGlzdC9sZWFmbGV0LmpzIj48L3NjcmlwdD4KICAgIDxzY3JpcHQgc3JjPSJodHRwczovL2NvZGUuanF1ZXJ5LmNvbS9qcXVlcnktMS4xMi40Lm1pbi5qcyI+PC9zY3JpcHQ+CiAgICA8c2NyaXB0IHNyYz0iaHR0cHM6Ly9tYXhjZG4uYm9vdHN0cmFwY2RuLmNvbS9ib290c3RyYXAvMy4yLjAvanMvYm9vdHN0cmFwLm1pbi5qcyI+PC9zY3JpcHQ+CiAgICA8c2NyaXB0IHNyYz0iaHR0cHM6Ly9jZG5qcy5jbG91ZGZsYXJlLmNvbS9hamF4L2xpYnMvTGVhZmxldC5hd2Vzb21lLW1hcmtlcnMvMi4wLjIvbGVhZmxldC5hd2Vzb21lLW1hcmtlcnMuanMiPjwvc2NyaXB0PgogICAgPGxpbmsgcmVsPSJzdHlsZXNoZWV0IiBocmVmPSJodHRwczovL2Nkbi5qc2RlbGl2ci5uZXQvbnBtL2xlYWZsZXRAMS40LjAvZGlzdC9sZWFmbGV0LmNzcyIvPgogICAgPGxpbmsgcmVsPSJzdHlsZXNoZWV0IiBocmVmPSJodHRwczovL21heGNkbi5ib290c3RyYXBjZG4uY29tL2Jvb3RzdHJhcC8zLjIuMC9jc3MvYm9vdHN0cmFwLm1pbi5jc3MiLz4KICAgIDxsaW5rIHJlbD0ic3R5bGVzaGVldCIgaHJlZj0iaHR0cHM6Ly9tYXhjZG4uYm9vdHN0cmFwY2RuLmNvbS9ib290c3RyYXAvMy4yLjAvY3NzL2Jvb3RzdHJhcC10aGVtZS5taW4uY3NzIi8+CiAgICA8bGluayByZWw9InN0eWxlc2hlZXQiIGhyZWY9Imh0dHBzOi8vbWF4Y2RuLmJvb3RzdHJhcGNkbi5jb20vZm9udC1hd2Vzb21lLzQuNi4zL2Nzcy9mb250LWF3ZXNvbWUubWluLmNzcyIvPgogICAgPGxpbmsgcmVsPSJzdHlsZXNoZWV0IiBocmVmPSJodHRwczovL2NkbmpzLmNsb3VkZmxhcmUuY29tL2FqYXgvbGlicy9MZWFmbGV0LmF3ZXNvbWUtbWFya2Vycy8yLjAuMi9sZWFmbGV0LmF3ZXNvbWUtbWFya2Vycy5jc3MiLz4KICAgIDxsaW5rIHJlbD0ic3R5bGVzaGVldCIgaHJlZj0iaHR0cHM6Ly9yYXdjZG4uZ2l0aGFjay5jb20vcHl0aG9uLXZpc3VhbGl6YXRpb24vZm9saXVtL21hc3Rlci9mb2xpdW0vdGVtcGxhdGVzL2xlYWZsZXQuYXdlc29tZS5yb3RhdGUuY3NzIi8+CiAgICA8c3R5bGU+aHRtbCwgYm9keSB7d2lkdGg6IDEwMCU7aGVpZ2h0OiAxMDAlO21hcmdpbjogMDtwYWRkaW5nOiAwO308L3N0eWxlPgogICAgPHN0eWxlPiNtYXAge3Bvc2l0aW9uOmFic29sdXRlO3RvcDowO2JvdHRvbTowO3JpZ2h0OjA7bGVmdDowO308L3N0eWxlPgogICAgCiAgICA8bWV0YSBuYW1lPSJ2aWV3cG9ydCIgY29udGVudD0id2lkdGg9ZGV2aWNlLXdpZHRoLAogICAgICAgIGluaXRpYWwtc2NhbGU9MS4wLCBtYXhpbXVtLXNjYWxlPTEuMCwgdXNlci1zY2FsYWJsZT1ubyIgLz4KICAgIDxzdHlsZT4jbWFwXzY5ZTM4MmUzM2IwOTQyNWI5ZDEyZTVmOWVjMzAzZDFjIHsKICAgICAgICBwb3NpdGlvbjogcmVsYXRpdmU7CiAgICAgICAgd2lkdGg6IDEwMC4wJTsKICAgICAgICBoZWlnaHQ6IDEwMC4wJTsKICAgICAgICBsZWZ0OiAwLjAlOwogICAgICAgIHRvcDogMC4wJTsKICAgICAgICB9CiAgICA8L3N0eWxlPgo8L2hlYWQ+Cjxib2R5PiAgICAKICAgIAogICAgPGRpdiBjbGFzcz0iZm9saXVtLW1hcCIgaWQ9Im1hcF82OWUzODJlMzNiMDk0MjViOWQxMmU1ZjllYzMwM2QxYyIgPjwvZGl2Pgo8L2JvZHk+CjxzY3JpcHQ+ICAgIAogICAgCiAgICAKICAgICAgICB2YXIgYm91bmRzID0gbnVsbDsKICAgIAoKICAgIHZhciBtYXBfNjllMzgyZTMzYjA5NDI1YjlkMTJlNWY5ZWMzMDNkMWMgPSBMLm1hcCgKICAgICAgICAnbWFwXzY5ZTM4MmUzM2IwOTQyNWI5ZDEyZTVmOWVjMzAzZDFjJywgewogICAgICAgIGNlbnRlcjogWzQ5LjE2ODc1MTYsIDE2LjY3MjU4MjJdLAogICAgICAgIHpvb206IDEyLAogICAgICAgIG1heEJvdW5kczogYm91bmRzLAogICAgICAgIGxheWVyczogW10sCiAgICAgICAgd29ybGRDb3B5SnVtcDogZmFsc2UsCiAgICAgICAgY3JzOiBMLkNSUy5FUFNHMzg1NywKICAgICAgICB6b29tQ29udHJvbDogdHJ1ZSwKICAgICAgICB9KTsKCgogICAgCiAgICB2YXIgdGlsZV9sYXllcl9iMDFhMDMyNTZiYmE0ODk0YWZiMTg3MzYwNTMyZTA5MyA9IEwudGlsZUxheWVyKAogICAgICAgICdodHRwczovL3tzfS50aWxlLm9wZW5zdHJlZXRtYXAub3JnL3t6fS97eH0ve3l9LnBuZycsCiAgICAgICAgewogICAgICAgICJhdHRyaWJ1dGlvbiI6IG51bGwsCiAgICAgICAgImRldGVjdFJldGluYSI6IGZhbHNlLAogICAgICAgICJtYXhOYXRpdmVab29tIjogMTgsCiAgICAgICAgIm1heFpvb20iOiAxOCwKICAgICAgICAibWluWm9vbSI6IDAsCiAgICAgICAgIm5vV3JhcCI6IGZhbHNlLAogICAgICAgICJvcGFjaXR5IjogMSwKICAgICAgICAic3ViZG9tYWlucyI6ICJhYmMiLAogICAgICAgICJ0bXMiOiBmYWxzZQp9KS5hZGRUbyhtYXBfNjllMzgyZTMzYjA5NDI1YjlkMTJlNWY5ZWMzMDNkMWMpOwogICAgCiAgICAgICAgICAgIHZhciBtYWNyb19lbGVtZW50XzQxZWRlNzc3NGFhYTQ1MTJhYjc3NjU0YjhmODRjMzdiID0gTC50aWxlTGF5ZXIud21zKAogICAgICAgICAgICAgICAgJ2h0dHA6Ly9zZXJ2aWNlcy5hcmNnaXNvbmxpbmUuY29tL2FyY2dpcy9yZXN0L3NlcnZpY2VzL1dvcmxkX0ltYWdlcnkvTWFwU2VydmVyL01hcFNlcnZlci90aWxlL3t6fS97eX0ve3h9JywKICAgICAgICAgICAgICAgIHsKICAiYXR0cmlidXRpb24iOiAiIiwKICAiZm9ybWF0IjogImltYWdlL2pwZWciLAogICJsYXllcnMiOiAiIiwKICAic3R5bGVzIjogIiIsCiAgInRyYW5zcGFyZW50IjogZmFsc2UsCiAgInZlcnNpb24iOiAiMS4xLjEiCn0KICAgICAgICAgICAgICAgICkuYWRkVG8obWFwXzY5ZTM4MmUzM2IwOTQyNWI5ZDEyZTVmOWVjMzAzZDFjKTsKCiAgICAgICAgCiAgICAKICAgICAgICAgICAgdmFyIG1hY3JvX2VsZW1lbnRfMDViYWZmYTljZjc4NGM1Y2JiY2NlYTQwNGE0ODg0YzMgPSBMLnRpbGVMYXllci53bXMoCiAgICAgICAgICAgICAgICAnaHR0cDovL3NlcnZpY2VzLmFyY2dpc29ubGluZS5jb20vYXJjZ2lzL3Jlc3Qvc2VydmljZXMvV29ybGRfU2hhZGVkX1JlbGllZi9NYXBTZXJ2ZXIvTWFwU2VydmVyL3RpbGUve3p9L3t5fS97eH0nLAogICAgICAgICAgICAgICAgewogICJhdHRyaWJ1dGlvbiI6ICIiLAogICJmb3JtYXQiOiAiaW1hZ2UvanBlZyIsCiAgImxheWVycyI6ICIiLAogICJzdHlsZXMiOiAiIiwKICAidHJhbnNwYXJlbnQiOiBmYWxzZSwKICAidmVyc2lvbiI6ICIxLjEuMSIKfQogICAgICAgICAgICAgICAgKS5hZGRUbyhtYXBfNjllMzgyZTMzYjA5NDI1YjlkMTJlNWY5ZWMzMDNkMWMpOwoKICAgICAgICAKICAgIAogICAgICAgICAgICB2YXIgbWFjcm9fZWxlbWVudF9jMTZkOWZlNGQ2NGE0YWIyYjYxNGE3NjUwMTFiZDY4NCA9IEwudGlsZUxheWVyLndtcygKICAgICAgICAgICAgICAgICdodHRwOi8vc2VydmljZXMuYXJjZ2lzb25saW5lLmNvbS9hcmNnaXMvcmVzdC9zZXJ2aWNlcy9Xb3JsZF9TdHJlZXRfTWFwL01hcFNlcnZlci9NYXBTZXJ2ZXIvdGlsZS97en0ve3l9L3t4fScsCiAgICAgICAgICAgICAgICB7CiAgImF0dHJpYnV0aW9uIjogIiIsCiAgImZvcm1hdCI6ICJpbWFnZS9qcGVnIiwKICAibGF5ZXJzIjogIiIsCiAgInN0eWxlcyI6ICIiLAogICJ0cmFuc3BhcmVudCI6IGZhbHNlLAogICJ2ZXJzaW9uIjogIjEuMS4xIgp9CiAgICAgICAgICAgICAgICApLmFkZFRvKG1hcF82OWUzODJlMzNiMDk0MjViOWQxMmU1ZjllYzMwM2QxYyk7CgogICAgICAgIAogICAgCiAgICAgICAgICAgIHZhciBtYWNyb19lbGVtZW50XzJmYWZjNmU0NmNkYjQ5ZjU4OWE1OGMwMzMwZjAwMDY1ID0gTC50aWxlTGF5ZXIud21zKAogICAgICAgICAgICAgICAgJ2h0dHA6Ly9zZXJ2aWNlcy5hcmNnaXNvbmxpbmUuY29tL2FyY2dpcy9yZXN0L3NlcnZpY2VzL1dvcmxkX1RvcG9fTWFwL01hcFNlcnZlci9NYXBTZXJ2ZXIvdGlsZS97en0ve3l9L3t4fScsCiAgICAgICAgICAgICAgICB7CiAgImF0dHJpYnV0aW9uIjogIiIsCiAgImZvcm1hdCI6ICJpbWFnZS9qcGVnIiwKICAibGF5ZXJzIjogIiIsCiAgInN0eWxlcyI6ICIiLAogICJ0cmFuc3BhcmVudCI6IGZhbHNlLAogICJ2ZXJzaW9uIjogIjEuMS4xIgp9CiAgICAgICAgICAgICAgICApLmFkZFRvKG1hcF82OWUzODJlMzNiMDk0MjViOWQxMmU1ZjllYzMwM2QxYyk7CgogICAgICAgIAogICAgCiAgICAgICAgICAgIHZhciBsYXllcl9jb250cm9sX2QwYWFjNjQwMWJlMTQwYjE5MDMwOWJmYzQxNTUyOGQyID0gewogICAgICAgICAgICAgICAgYmFzZV9sYXllcnMgOiB7ICJvcGVuc3RyZWV0bWFwIiA6IHRpbGVfbGF5ZXJfYjAxYTAzMjU2YmJhNDg5NGFmYjE4NzM2MDUzMmUwOTMsIH0sCiAgICAgICAgICAgICAgICBvdmVybGF5cyA6IHsgIldvcmxkX0ltYWdlcnkiIDogbWFjcm9fZWxlbWVudF80MWVkZTc3NzRhYWE0NTEyYWI3NzY1NGI4Zjg0YzM3YiwiV29ybGRfU2hhZGVkX1JlbGllZiIgOiBtYWNyb19lbGVtZW50XzA1YmFmZmE5Y2Y3ODRjNWNiYmNjZWE0MDRhNDg4NGMzLCJXb3JsZF9TdHJlZXRfTWFwIiA6IG1hY3JvX2VsZW1lbnRfYzE2ZDlmZTRkNjRhNGFiMmI2MTRhNzY1MDExYmQ2ODQsIldvcmxkX1RvcG9fTWFwIiA6IG1hY3JvX2VsZW1lbnRfMmZhZmM2ZTQ2Y2RiNDlmNTg5YTU4YzAzMzBmMDAwNjUsIH0KICAgICAgICAgICAgICAgIH07CiAgICAgICAgICAgIEwuY29udHJvbC5sYXllcnMoCiAgICAgICAgICAgICAgICBsYXllcl9jb250cm9sX2QwYWFjNjQwMWJlMTQwYjE5MDMwOWJmYzQxNTUyOGQyLmJhc2VfbGF5ZXJzLAogICAgICAgICAgICAgICAgbGF5ZXJfY29udHJvbF9kMGFhYzY0MDFiZTE0MGIxOTAzMDliZmM0MTU1MjhkMi5vdmVybGF5cywKICAgICAgICAgICAgICAgIHtwb3NpdGlvbjogJ3RvcHJpZ2h0JywKICAgICAgICAgICAgICAgICBjb2xsYXBzZWQ6IHRydWUsCiAgICAgICAgICAgICAgICAgYXV0b1pJbmRleDogdHJ1ZQogICAgICAgICAgICAgICAgfSkuYWRkVG8obWFwXzY5ZTM4MmUzM2IwOTQyNWI5ZDEyZTVmOWVjMzAzZDFjKTsKICAgICAgICAgICAgCiAgICAgICAgICAgICAgICBtYWNyb19lbGVtZW50XzQxZWRlNzc3NGFhYTQ1MTJhYjc3NjU0YjhmODRjMzdiLnJlbW92ZSgpOwogICAgICAgICAgICAgICAgbWFjcm9fZWxlbWVudF8wNWJhZmZhOWNmNzg0YzVjYmJjY2VhNDA0YTQ4ODRjMy5yZW1vdmUoKTsKICAgICAgICAgICAgICAgIG1hY3JvX2VsZW1lbnRfYzE2ZDlmZTRkNjRhNGFiMmI2MTRhNzY1MDExYmQ2ODQucmVtb3ZlKCk7CiAgICAgICAgICAgICAgICBtYWNyb19lbGVtZW50XzJmYWZjNmU0NmNkYjQ5ZjU4OWE1OGMwMzMwZjAwMDY1LnJlbW92ZSgpOwogICAgICAgIAo8L3NjcmlwdD4= onload=\"this.contentDocument.open();this.contentDocument.write(atob(this.getAttribute('data-html')));this.contentDocument.close();\" allowfullscreen webkitallowfullscreen mozallowfullscreen></iframe></div></div>"
            ],
            "text/plain": [
              "<folium.folium.Map at 0x7f6d0e784c88>"
            ]
          },
          "metadata": {
            "tags": []
          }
        }
      ]
    },
    {
      "cell_type": "markdown",
      "metadata": {
        "id": "-CAtbfZmIINT",
        "colab_type": "text"
      },
      "source": [
        "## Metoda pro přípravu základní mapy"
      ]
    },
    {
      "cell_type": "code",
      "metadata": {
        "id": "UMCUJ-a2IK6o",
        "colab_type": "code",
        "colab": {}
      },
      "source": [
        "def prepareMap(location=[49.1687516,16.6725822], zoom = 12):\n",
        "  m = folium.Map(\n",
        "      location=location,\n",
        "      zoom_start=zoom,\n",
        "  #    tiles='Stamen Terrain'\n",
        "  )\n",
        "\n",
        "  urlhead = 'http://services.arcgisonline.com/arcgis/rest/services'\n",
        "  urltail = '/MapServer/tile/{z}/{y}/{x}'\n",
        "  maps = {\n",
        "    'World_Imagery': '/World_Imagery/MapServer',\n",
        "    'World_Shaded_Relief': '/World_Shaded_Relief/MapServer',\n",
        "    'World_Street_Map': '/World_Street_Map/MapServer',\n",
        "    'World_Topo_Map': '/World_Topo_Map/MapServer'\n",
        "  }\n",
        "\n",
        "  for tile_name, tile_url in maps.items():\n",
        "    wl = folium.WmsTileLayer(url = urlhead + tile_url + urltail, name = tile_name, show = False)\n",
        "    wl.add_to(m)\n",
        "\n",
        "  folium.LayerControl().add_to(m)\n",
        "\n",
        "#  fs = folium.plugins.Fullscreen()\n",
        "#  m.add_child(fs)\n",
        "\n",
        "  minimap = folium.plugins.MiniMap()\n",
        "  minimap.add_to(m)\n",
        "\n",
        "  return m"
      ],
      "execution_count": null,
      "outputs": []
    },
    {
      "cell_type": "code",
      "metadata": {
        "id": "iMtpVv5TILQM",
        "colab_type": "code",
        "colab": {
          "base_uri": "https://localhost:8080/",
          "height": 912
        },
        "outputId": "ba862bec-088d-479f-a593-dbf5a40bdbd8"
      },
      "source": [
        "# pouziti\n",
        "m = prepareMap()\n",
        "display(m)"
      ],
      "execution_count": null,
      "outputs": [
        {
          "output_type": "display_data",
          "data": {
            "text/html": [
              "<div style=\"width:100%;\"><div style=\"position:relative;width:100%;height:0;padding-bottom:60%;\"><span style=\"color:#565656\">Make this Notebook Trusted to load map: File -> Trust Notebook</span><iframe src=\"about:blank\" style=\"position:absolute;width:100%;height:100%;left:0;top:0;border:none !important;\" data-html=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 onload=\"this.contentDocument.open();this.contentDocument.write(atob(this.getAttribute('data-html')));this.contentDocument.close();\" allowfullscreen webkitallowfullscreen mozallowfullscreen></iframe></div></div>"
            ],
            "text/plain": [
              "<folium.folium.Map at 0x7f6d0ed1f668>"
            ]
          },
          "metadata": {
            "tags": []
          }
        }
      ]
    },
    {
      "cell_type": "markdown",
      "metadata": {
        "id": "qTONpr6UIVK4",
        "colab_type": "text"
      },
      "source": [
        "## Zákres základních prvků do mapy"
      ]
    },
    {
      "cell_type": "code",
      "metadata": {
        "id": "ED5jWMfKIXj8",
        "colab_type": "code",
        "colab": {
          "base_uri": "https://localhost:8080/",
          "height": 912
        },
        "outputId": "ee69d898-6a9f-48fa-9032-79a1a9f0f40c"
      },
      "source": [
        "m = prepareMap()\n",
        "\n",
        "# cara - Polyline\n",
        "rocketpath = [[49.1687516,16.6725822], [49.1, 16.7]]\n",
        "tooltip = 'Tooltip'\n",
        "folium.PolyLine(locations = rocketpath, color=\"red\", weight=2.5, opacity=0.8, popup = 'Rocket', tooltip = tooltip).add_to(m)\n",
        "\n",
        "# oblast - Polygon\n",
        "region = [[49.1,16.7], [49.2, 16.6], [49.2, 16.8]]\n",
        "folium.Polygon(locations = region, color=\"blue\", weight=2, opacity=0.8, fill_color='blue', fill_opacity=0.25).add_to(m)\n",
        "\n",
        "\n",
        "# bod / Custom Icon\n",
        "url = 'https://upload.wikimedia.org/wikipedia/commons/thumb/0/0f/APP-6_Radar.svg/200px-APP-6_Radar.svg.png'\n",
        "url = 'https://upload.wikimedia.org/wikipedia/commons/thumb/9/9d/NATO_Map_Symbol_-_Radar.svg/320px-NATO_Map_Symbol_-_Radar.svg.png'\n",
        "icon = folium.features.CustomIcon(url,icon_size=(66, 44))\n",
        "folium.Marker([49.15, 16.7], popup='Radar', icon=icon).add_to(m) \n",
        "\n",
        "display(m)"
      ],
      "execution_count": null,
      "outputs": [
        {
          "output_type": "display_data",
          "data": {
            "text/html": [
              "<div style=\"width:100%;\"><div style=\"position:relative;width:100%;height:0;padding-bottom:60%;\"><span style=\"color:#565656\">Make this Notebook Trusted to load map: File -> Trust Notebook</span><iframe src=\"about:blank\" style=\"position:absolute;width:100%;height:100%;left:0;top:0;border:none !important;\" data-html=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 onload=\"this.contentDocument.open();this.contentDocument.write(atob(this.getAttribute('data-html')));this.contentDocument.close();\" allowfullscreen webkitallowfullscreen mozallowfullscreen></iframe></div></div>"
            ],
            "text/plain": [
              "<folium.folium.Map at 0x7f6d0e76d9e8>"
            ]
          },
          "metadata": {
            "tags": []
          }
        }
      ]
    },
    {
      "cell_type": "markdown",
      "metadata": {
        "id": "ZCRpSoBlIbIX",
        "colab_type": "text"
      },
      "source": [
        "## Převod souřadnic"
      ]
    },
    {
      "cell_type": "code",
      "metadata": {
        "id": "5xTx3UrcIdwp",
        "colab_type": "code",
        "colab": {
          "base_uri": "https://localhost:8080/",
          "height": 109
        },
        "outputId": "e33074d7-5bfd-4079-f988-48d9744df81c"
      },
      "source": [
        "!pip install pyproj"
      ],
      "execution_count": null,
      "outputs": [
        {
          "output_type": "stream",
          "text": [
            "Collecting pyproj\n",
            "\u001b[?25l  Downloading https://files.pythonhosted.org/packages/e5/c3/071e080230ac4b6c64f1a2e2f9161c9737a2bc7b683d2c90b024825000c0/pyproj-2.6.1.post1-cp36-cp36m-manylinux2010_x86_64.whl (10.9MB)\n",
            "\u001b[K     |████████████████████████████████| 10.9MB 292kB/s \n",
            "\u001b[?25hInstalling collected packages: pyproj\n",
            "Successfully installed pyproj-2.6.1.post1\n"
          ],
          "name": "stdout"
        }
      ]
    },
    {
      "cell_type": "code",
      "metadata": {
        "id": "RmUu8doaIgeG",
        "colab_type": "code",
        "colab": {
          "base_uri": "https://localhost:8080/",
          "height": 35
        },
        "outputId": "2236dc7e-9788-432e-8b15-66c4add7063e"
      },
      "source": [
        "from pyproj import Proj\n",
        "\n",
        "Wgs84Bl = Proj(\"+proj=utm +zone=33, +south +ellps=WGS84 +datum=WGS84 +units=m +no_defs\")\n",
        "coordsBL = (49.15, 16.7)\n",
        "coordsXY = Wgs84Bl(coordsBL[0], coordsBL[1], inverse=False)\n",
        "print(coordsBL, '=>', coordsXY)"
      ],
      "execution_count": null,
      "outputs": [
        {
          "output_type": "stream",
          "text": [
            "(49.15, 16.7) => (4333504.151088663, 2206171.932909475)\n"
          ],
          "name": "stdout"
        }
      ]
    },
    {
      "cell_type": "markdown",
      "metadata": {
        "id": "PQ2RGJPyIg83",
        "colab_type": "text"
      },
      "source": [
        "## Další zdroje\n",
        "\n",
        "Základní dokumentace\n",
        "\n",
        "https://python-visualization.github.io/folium/index.html\n",
        "\n",
        "Příklady notebooků\n",
        "\n",
        "https://github.com/python-visualization/folium/tree/master/examples"
      ]
    }
  ]
}