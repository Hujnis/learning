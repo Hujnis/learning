{
  "nbformat": 4,
  "nbformat_minor": 0,
  "metadata": {
    "colab": {
      "name": "virtual.ipynb",
      "provenance": [],
      "authorship_tag": "ABX9TyNlK6GAbmNDKMp9+rUkoYJs",
      "include_colab_link": true
    },
    "kernelspec": {
      "name": "python3",
      "display_name": "Python 3"
    }
  },
  "cells": [
    {
      "cell_type": "markdown",
      "metadata": {
        "id": "view-in-github",
        "colab_type": "text"
      },
      "source": [
        "<a href=\"https://colab.research.google.com/github/hrbolek/learning/blob/master/itsystems/virtual.ipynb\" target=\"_parent\"><img src=\"https://colab.research.google.com/assets/colab-badge.svg\" alt=\"Open In Colab\"/></a>"
      ]
    },
    {
      "cell_type": "markdown",
      "metadata": {
        "id": "QMXOa3QIbLj6",
        "colab_type": "text"
      },
      "source": [
        "# Virtual\n",
        "Využijte Virtual Box\n",
        "\n",
        "https://www.virtualbox.org/\n",
        "\n",
        "po instalaci si připravte počítač s 2GB operační paměti a 50 GB diskem.\n",
        "Připojte virtuální optickou jednotku s ISO image Ubuntu Serveru\n",
        "\n",
        "https://ubuntu.com/download/server\n",
        "\n",
        "doporučuji Ubuntu Server 18.04.4 LTS. LTS znamená long term support, jinak řečeno delší garantovanou podporu. Pro naše experimenty to je ale celkem jedno.\n",
        "\n",
        "Jako síť nastavte most.\n",
        "\n",
        "Virtuální počítač spusťte a postupujte podle interakce.\n",
        "\n",
        "Zabezpečte si, aby měl počítač naistalované ssh. \n",
        "V případě nutnosti / problémů s ssh serverem postupujte podle:\n",
        "\n",
        "https://www.cyberciti.biz/faq/howto-start-stop-ssh-server/\n",
        "\n",
        "ssh server umožňuje připojit se k serveru přes např. Putty\n",
        "\n",
        "https://www.putty.org/\n",
        "\n"
      ]
    },
    {
      "cell_type": "markdown",
      "metadata": {
        "id": "CyoYzc69dDj9",
        "colab_type": "text"
      },
      "source": [
        "Pokud vše proběhlo v pořádku, můžete pokračovat další lekcí, ve které si nainstalujete docker a další nezbytnosti."
      ]
    }
  ]
}