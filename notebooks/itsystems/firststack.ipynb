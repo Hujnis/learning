{
  "nbformat": 4,
  "nbformat_minor": 0,
  "metadata": {
    "colab": {
      "name": "virtual.ipynb",
      "provenance": [],
      "authorship_tag": "ABX9TyNEm39l9uBp4gKwbQPdeSTQ",
      "include_colab_link": true
    },
    "kernelspec": {
      "name": "python3",
      "display_name": "Python 3"
    }
  },
  "cells": [
    {
      "cell_type": "markdown",
      "metadata": {
        "id": "view-in-github",
        "colab_type": "text"
      },
      "source": [
        "<a href=\"https://colab.research.google.com/github/hrbolek/learning/blob/master/itsystems/firststack.ipynb\" target=\"_parent\"><img src=\"https://colab.research.google.com/assets/colab-badge.svg\" alt=\"Open In Colab\"/></a>"
      ]
    },
    {
      "cell_type": "markdown",
      "metadata": {
        "id": "QMXOa3QIbLj6",
        "colab_type": "text"
      },
      "source": [
        "# První stack\n",
        "Toto je trochu předbíhání, ale určitě to zvládnete.\n",
        "S využitím Portaineru vytvořte stack:\n",
        "```yaml\n",
        "version: '3.1'\n",
        "services:\n",
        "\n",
        "  db:\n",
        "    image: mysql:5.6\n",
        "    restart: always\n",
        "    environment:\n",
        "      MYSQL_ROOT_PASSWORD: example\n",
        "    ports:\n",
        "      - 3333:3306\n",
        "\n",
        "  php:\n",
        "    image: phpmyadmin/phpmyadmin\n",
        "    environment:\n",
        "       - PMA_ARBITRARY=1\n",
        "       - PMA_HOST=db\n",
        "    restart: always\n",
        "    ports:\n",
        "       - 8081:80\n",
        "    links:\n",
        "       - db\n",
        "```\n",
        "Ve webovém rozhraní Portaineru si najdete položku Stacks, viz následující obrázek.\n",
        "![Portainer 1](https://raw.githubusercontent.com/hrbolek/learning/master/itsystems/images/portainer_stacks_01.png)\n",
        "\n",
        "Zvolte Add stack a podle následujícího obrázku vložte definici stacku a proveďte deploy (tlačítko není na obrázku vidět).\n",
        "![Portainer 2](https://raw.githubusercontent.com/hrbolek/learning/master/itsystems/images/portainer_stacks_02.png)\n"
      ]
    },
    {
      "cell_type": "markdown",
      "metadata": {
        "id": "14os3UAVyVHD",
        "colab_type": "text"
      },
      "source": [
        "# Experimenty\n",
        "Deploy chvíli trvá, takže trpělivost. Následně můžete vyzkoušet toto:\n",
        "## Funkcionalita kontejnerů / stacku\n",
        "Stejně jako jste se přihlásili do Portaineru (přes http port 9000) se nyní můžete přihlásit do phpmyadminu (přes http port 8081).\n",
        "\n",
        "![phpmyadmin 1](https://raw.githubusercontent.com/hrbolek/learning/master/itsystems/images/phpmyadmin_01.png)\n",
        "\n",
        "Položku Server nechte prázdnou, Jméno dejte root a jako Heslo použijte definované ve stacku (example).\n",
        "\n",
        "Pokud jste se dosud s phpmyadmin nesetkali, vězte, že se jedná o webovou aplikaci postavenou na php, která se dá docela dobře využít pro správu databáze typu MySQL či MariaDb.\n",
        "\n",
        "Něco o php:\n",
        "\n",
        "https://cs.wikipedia.org/wiki/PHP\n",
        "\n",
        "https://www.php.net/\n",
        "\n",
        "Něco o MySQL:\n",
        "\n",
        "https://cs.wikipedia.org/wiki/MySQL\n",
        "\n",
        "https://www.mysql.com/\n",
        "\n",
        "Něco o MariaDb:\n",
        "\n",
        "https://cs.wikipedia.org/wiki/MariaDB\n",
        "\n",
        "https://mariadb.org/\n",
        "\n",
        "Něco o phpmyadmin:\n",
        "\n",
        "https://cs.wikipedia.org/wiki/PhpMyAdmin\n",
        "\n",
        "https://www.phpmyadmin.net/\n",
        "\n",
        "\n",
        "\n"
      ]
    },
    {
      "cell_type": "markdown",
      "metadata": {
        "id": "hIcWP-ae3kIN",
        "colab_type": "text"
      },
      "source": [
        "## Simulace selhání kontejneru\n",
        "Přejděte do Containers, zvolte kontejner a klikněte na červené tlačítko Kill. Stránku obnovte a potvrďte si, že kontejner naběhne sám. \n"
      ]
    },
    {
      "cell_type": "markdown",
      "metadata": {
        "id": "kEF_w7u55J3-",
        "colab_type": "text"
      },
      "source": [
        "## Stav Stacku\n",
        "Běžte na Stacks, klitně na svůj stack.\n",
        "\n",
        "![Portainer 3](https://raw.githubusercontent.com/hrbolek/learning/master/itsystems/images/portainer_stacks_03.png)\n",
        "\n",
        "Pečlivě si prohlédněte informace. Zjistíte, kolik replik kontejneru vám běží, kde vám běží, jestli něco selhalo apod. \n",
        "\n",
        "V případě potřeby můžete stack předefinovat, nezapomeňte na Prune Services."
      ]
    },
    {
      "cell_type": "markdown",
      "metadata": {
        "id": "HgKct1Ex6bJv",
        "colab_type": "text"
      },
      "source": [
        "# Závěr\n",
        "Hrajte si, tady prakticky nemůžete nic pokazit, jen si neodstraňte kontejner Portainer, který vám zprostředovovává web UI. "
      ]
    }
  ]
}