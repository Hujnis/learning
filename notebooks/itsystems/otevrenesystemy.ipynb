{
  "nbformat": 4,
  "nbformat_minor": 0,
  "metadata": {
    "kernelspec": {
      "display_name": "Python 3",
      "language": "python",
      "name": "python3"
    },
    "language_info": {
      "codemirror_mode": {
        "name": "ipython",
        "version": 3
      },
      "file_extension": ".py",
      "mimetype": "text/x-python",
      "name": "python",
      "nbconvert_exporter": "python",
      "pygments_lexer": "ipython3",
      "version": "3.8.5"
    },
    "colab": {
      "name": "otevrenesystemy.ipynb",
      "provenance": [],
      "toc_visible": true,
      "include_colab_link": true
    }
  },
  "cells": [
    {
      "cell_type": "markdown",
      "metadata": {
        "id": "view-in-github",
        "colab_type": "text"
      },
      "source": [
        "<a href=\"https://colab.research.google.com/github/hrbolek/learning/blob/master/itsystems/otevrenesystemy.ipynb\" target=\"_parent\"><img src=\"https://colab.research.google.com/assets/colab-badge.svg\" alt=\"Open In Colab\"/></a>"
      ]
    },
    {
      "cell_type": "markdown",
      "metadata": {
        "id": "TVLY0tHWRm5C"
      },
      "source": [
        "# Otevřené systémy / Datové struktury"
      ]
    },
    {
      "cell_type": "markdown",
      "metadata": {
        "id": "9nJkIcoWRm5I"
      },
      "source": [
        "## Úvodní inicializace prostředí"
      ]
    },
    {
      "cell_type": "code",
      "metadata": {
        "id": "xEy-hJ59Rm5K"
      },
      "source": [
        "import pandas as pd\n",
        "def displayData(data):\n",
        "  df = pd.DataFrame(data)\n",
        "  display(df)"
      ],
      "execution_count": null,
      "outputs": []
    },
    {
      "cell_type": "markdown",
      "metadata": {
        "id": "n_vOWlQSRm5j"
      },
      "source": [
        "## Nástroje pro uchovávání datových struktur"
      ]
    },
    {
      "cell_type": "markdown",
      "metadata": {
        "id": "SkneSmtRRm5m"
      },
      "source": [
        "- SQL databáze\n",
        "    * MSSQL\n",
        "    * MYSQL / MariaDb\n",
        "    * Postgress\n",
        "- NOSQL databáze\n",
        "    * Mongo\n",
        "    * CouchDB"
      ]
    },
    {
      "cell_type": "markdown",
      "metadata": {
        "id": "_IXnZ7e5Rm5q"
      },
      "source": [
        "## Typy datových struktur z hlediska obsahu"
      ]
    },
    {
      "cell_type": "markdown",
      "metadata": {
        "id": "kF4FmcfkRm5t"
      },
      "source": [
        "- Homogenní datové struktury\n",
        "- Heterogenní datové struktury"
      ]
    },
    {
      "cell_type": "markdown",
      "metadata": {
        "id": "8X2jUlVaRm5v"
      },
      "source": [
        "## Typy datových struktur z hlediska formy"
      ]
    },
    {
      "cell_type": "markdown",
      "metadata": {
        "id": "anyGJlTPRm5x"
      },
      "source": [
        "- Binární\n",
        "- Textové\n",
        "    - CSV\n",
        "    - JSON\n",
        "    - XML"
      ]
    },
    {
      "cell_type": "markdown",
      "metadata": {
        "id": "0FDiCtC8Rm51"
      },
      "source": [
        "### Binární"
      ]
    },
    {
      "cell_type": "markdown",
      "metadata": {
        "id": "8xbWwZkwRm53"
      },
      "source": [
        "Celá řada, pravděpodobně nejznámější jsou:\n",
        "- EXE, - proveditelný soubor (Executable)\n",
        "- DOC, - Word, starší řada, dodnes často používán\n",
        "- ZIP, - původně jen komprimační formát, dnes využíván i jinde, např. DOCX, PPTX jsou ZIP, vyzkoušejte si"
      ]
    },
    {
      "cell_type": "markdown",
      "metadata": {
        "id": "D2LBsyCaRm57"
      },
      "source": [
        "### CSV"
      ]
    },
    {
      "cell_type": "markdown",
      "metadata": {
        "id": "OBVTSmj6Rm59"
      },
      "source": [
        "Textový dokument, tedy člověkem čitelný\n",
        "\n",
        "Přípona CSV, ale mnohdy i TXT\n",
        "\n",
        "Asi nejstarší, vychází z homogeních datových struktur"
      ]
    },
    {
      "cell_type": "markdown",
      "metadata": {
        "id": "rbHJ_R81Rm5_"
      },
      "source": [
        "### JSON"
      ]
    },
    {
      "cell_type": "markdown",
      "metadata": {
        "id": "Z3gaRY6fRm6B"
      },
      "source": [
        "Textový dokument, tedy člověkem čitelný\n",
        "\n",
        "Přípona JSON, ale může být i jiná (ipynb)\n"
      ]
    },
    {
      "cell_type": "markdown",
      "metadata": {
        "id": "cuDaoTbLRm6C"
      },
      "source": [
        "#### Data A"
      ]
    },
    {
      "cell_type": "code",
      "metadata": {
        "id": "7tUR8gqNRm6F"
      },
      "source": [
        "dataStudents = [\n",
        "  (1,'Monique Davis',400,'Literature','Monique@someOtherSchool.edu','2017-08-16 15:34:50','2017-09-02 19:33:56'),\n",
        "  (2,'Teri Gutierrez',800,'Programming','Teri@someOtherSchool.edu','2017-08-16 15:34:50','2017-09-02 19:33:56'),\n",
        "  (3,'Spencer Pautier',1000,'Programming','Spencer@someOtherSchool.edu','2017-08-16 15:34:50','2017-09-02 19:33:56'),\n",
        "  (4,'Louis Ramsey',1200,'Programming','Louis@someOtherSchool.edu','2017-08-16 15:34:50','2017-09-02 19:33:56'),\n",
        "  (5,'Alvin Greene',1200,'Programming','Alvin@someOtherSchool.edu','2017-08-16 15:34:50','2017-09-02 19:33:56'),\n",
        "  (6,'Sophie Freeman',1200,'Programming','Sophie@someOtherSchool.edu','2017-08-16 15:34:50','2017-09-02 19:33:56'),\n",
        "  (7,'Edgar Frank \\\"Ted\\\" \\\"Codd\\\"',2400,'Computer Science','Edgar@someOtherSchool.edu','2017-08-16 15:35:33','2017-09-02 19:33:56'),\n",
        "  (8,'Donald D. Chamberlin',2400,'Computer Science','Donald@someOtherSchool.edu','2017-08-16 15:35:33','2017-09-02 19:33:56'),\n",
        "  (9,'Raymond F. Boyce',2400,'Computer Science','Raymond@someOtherSchool.edu','2017-08-16 15:35:33','2017-09-02 19:33:56')]\n",
        "\n",
        "namesStudents = ['studentID', 'FullName', 'sat_score', 'programOfStudy', 'schoolEmailAdr', 'rcd_Created', 'rcd_Updated']"
      ],
      "execution_count": null,
      "outputs": []
    },
    {
      "cell_type": "markdown",
      "metadata": {
        "id": "dlJt84u8Rm6Q"
      },
      "source": [
        "#### Konverzní funkce"
      ]
    },
    {
      "cell_type": "code",
      "metadata": {
        "id": "mNkS2E-kRm6U"
      },
      "source": [
        "def tuple2dictionary(names, item):\n",
        "    return dict(zip(names, item))\n",
        "\n",
        "def tuple2dictionarySeq(names, sequence):\n",
        "    for item in sequence:\n",
        "        yield tuple2dictionary(names, item)"
      ],
      "execution_count": null,
      "outputs": []
    },
    {
      "cell_type": "markdown",
      "metadata": {
        "id": "jTtYdTbURm6k"
      },
      "source": [
        "#### Konverze"
      ]
    },
    {
      "cell_type": "code",
      "metadata": {
        "id": "S-cE7P4IRm6m",
        "outputId": "5d66c566-a6aa-4579-af07-e3d00e0dda9a"
      },
      "source": [
        "namedStudents = list(tuple2dictionarySeq(namesStudents, dataStudents))\n",
        "namedStudents"
      ],
      "execution_count": null,
      "outputs": [
        {
          "output_type": "execute_result",
          "data": {
            "text/plain": [
              "[{'studentID': 1,\n",
              "  'FullName': 'Monique Davis',\n",
              "  'sat_score': 400,\n",
              "  'programOfStudy': 'Literature',\n",
              "  'schoolEmailAdr': 'Monique@someOtherSchool.edu',\n",
              "  'rcd_Created': '2017-08-16 15:34:50',\n",
              "  'rcd_Updated': '2017-09-02 19:33:56'},\n",
              " {'studentID': 2,\n",
              "  'FullName': 'Teri Gutierrez',\n",
              "  'sat_score': 800,\n",
              "  'programOfStudy': 'Programming',\n",
              "  'schoolEmailAdr': 'Teri@someOtherSchool.edu',\n",
              "  'rcd_Created': '2017-08-16 15:34:50',\n",
              "  'rcd_Updated': '2017-09-02 19:33:56'},\n",
              " {'studentID': 3,\n",
              "  'FullName': 'Spencer Pautier',\n",
              "  'sat_score': 1000,\n",
              "  'programOfStudy': 'Programming',\n",
              "  'schoolEmailAdr': 'Spencer@someOtherSchool.edu',\n",
              "  'rcd_Created': '2017-08-16 15:34:50',\n",
              "  'rcd_Updated': '2017-09-02 19:33:56'},\n",
              " {'studentID': 4,\n",
              "  'FullName': 'Louis Ramsey',\n",
              "  'sat_score': 1200,\n",
              "  'programOfStudy': 'Programming',\n",
              "  'schoolEmailAdr': 'Louis@someOtherSchool.edu',\n",
              "  'rcd_Created': '2017-08-16 15:34:50',\n",
              "  'rcd_Updated': '2017-09-02 19:33:56'},\n",
              " {'studentID': 5,\n",
              "  'FullName': 'Alvin Greene',\n",
              "  'sat_score': 1200,\n",
              "  'programOfStudy': 'Programming',\n",
              "  'schoolEmailAdr': 'Alvin@someOtherSchool.edu',\n",
              "  'rcd_Created': '2017-08-16 15:34:50',\n",
              "  'rcd_Updated': '2017-09-02 19:33:56'},\n",
              " {'studentID': 6,\n",
              "  'FullName': 'Sophie Freeman',\n",
              "  'sat_score': 1200,\n",
              "  'programOfStudy': 'Programming',\n",
              "  'schoolEmailAdr': 'Sophie@someOtherSchool.edu',\n",
              "  'rcd_Created': '2017-08-16 15:34:50',\n",
              "  'rcd_Updated': '2017-09-02 19:33:56'},\n",
              " {'studentID': 7,\n",
              "  'FullName': 'Edgar Frank \"Ted\" \"Codd\"',\n",
              "  'sat_score': 2400,\n",
              "  'programOfStudy': 'Computer Science',\n",
              "  'schoolEmailAdr': 'Edgar@someOtherSchool.edu',\n",
              "  'rcd_Created': '2017-08-16 15:35:33',\n",
              "  'rcd_Updated': '2017-09-02 19:33:56'},\n",
              " {'studentID': 8,\n",
              "  'FullName': 'Donald D. Chamberlin',\n",
              "  'sat_score': 2400,\n",
              "  'programOfStudy': 'Computer Science',\n",
              "  'schoolEmailAdr': 'Donald@someOtherSchool.edu',\n",
              "  'rcd_Created': '2017-08-16 15:35:33',\n",
              "  'rcd_Updated': '2017-09-02 19:33:56'},\n",
              " {'studentID': 9,\n",
              "  'FullName': 'Raymond F. Boyce',\n",
              "  'sat_score': 2400,\n",
              "  'programOfStudy': 'Computer Science',\n",
              "  'schoolEmailAdr': 'Raymond@someOtherSchool.edu',\n",
              "  'rcd_Created': '2017-08-16 15:35:33',\n",
              "  'rcd_Updated': '2017-09-02 19:33:56'}]"
            ]
          },
          "metadata": {
            "tags": []
          },
          "execution_count": 19
        }
      ]
    },
    {
      "cell_type": "markdown",
      "metadata": {
        "id": "S6h9xNNSRm6y"
      },
      "source": [
        "#### Zobrazení dat ve fromě tabulky"
      ]
    },
    {
      "cell_type": "code",
      "metadata": {
        "id": "k7FF_WzRRm6z",
        "outputId": "d11e155e-c940-4c65-a4a2-4cde17921189"
      },
      "source": [
        "displayData(namedStudents)"
      ],
      "execution_count": null,
      "outputs": [
        {
          "output_type": "display_data",
          "data": {
            "text/html": [
              "<div>\n",
              "<style scoped>\n",
              "    .dataframe tbody tr th:only-of-type {\n",
              "        vertical-align: middle;\n",
              "    }\n",
              "\n",
              "    .dataframe tbody tr th {\n",
              "        vertical-align: top;\n",
              "    }\n",
              "\n",
              "    .dataframe thead th {\n",
              "        text-align: right;\n",
              "    }\n",
              "</style>\n",
              "<table border=\"1\" class=\"dataframe\">\n",
              "  <thead>\n",
              "    <tr style=\"text-align: right;\">\n",
              "      <th></th>\n",
              "      <th>studentID</th>\n",
              "      <th>FullName</th>\n",
              "      <th>sat_score</th>\n",
              "      <th>programOfStudy</th>\n",
              "      <th>schoolEmailAdr</th>\n",
              "      <th>rcd_Created</th>\n",
              "      <th>rcd_Updated</th>\n",
              "    </tr>\n",
              "  </thead>\n",
              "  <tbody>\n",
              "    <tr>\n",
              "      <th>0</th>\n",
              "      <td>1</td>\n",
              "      <td>Monique Davis</td>\n",
              "      <td>400</td>\n",
              "      <td>Literature</td>\n",
              "      <td>Monique@someOtherSchool.edu</td>\n",
              "      <td>2017-08-16 15:34:50</td>\n",
              "      <td>2017-09-02 19:33:56</td>\n",
              "    </tr>\n",
              "    <tr>\n",
              "      <th>1</th>\n",
              "      <td>2</td>\n",
              "      <td>Teri Gutierrez</td>\n",
              "      <td>800</td>\n",
              "      <td>Programming</td>\n",
              "      <td>Teri@someOtherSchool.edu</td>\n",
              "      <td>2017-08-16 15:34:50</td>\n",
              "      <td>2017-09-02 19:33:56</td>\n",
              "    </tr>\n",
              "    <tr>\n",
              "      <th>2</th>\n",
              "      <td>3</td>\n",
              "      <td>Spencer Pautier</td>\n",
              "      <td>1000</td>\n",
              "      <td>Programming</td>\n",
              "      <td>Spencer@someOtherSchool.edu</td>\n",
              "      <td>2017-08-16 15:34:50</td>\n",
              "      <td>2017-09-02 19:33:56</td>\n",
              "    </tr>\n",
              "    <tr>\n",
              "      <th>3</th>\n",
              "      <td>4</td>\n",
              "      <td>Louis Ramsey</td>\n",
              "      <td>1200</td>\n",
              "      <td>Programming</td>\n",
              "      <td>Louis@someOtherSchool.edu</td>\n",
              "      <td>2017-08-16 15:34:50</td>\n",
              "      <td>2017-09-02 19:33:56</td>\n",
              "    </tr>\n",
              "    <tr>\n",
              "      <th>4</th>\n",
              "      <td>5</td>\n",
              "      <td>Alvin Greene</td>\n",
              "      <td>1200</td>\n",
              "      <td>Programming</td>\n",
              "      <td>Alvin@someOtherSchool.edu</td>\n",
              "      <td>2017-08-16 15:34:50</td>\n",
              "      <td>2017-09-02 19:33:56</td>\n",
              "    </tr>\n",
              "    <tr>\n",
              "      <th>5</th>\n",
              "      <td>6</td>\n",
              "      <td>Sophie Freeman</td>\n",
              "      <td>1200</td>\n",
              "      <td>Programming</td>\n",
              "      <td>Sophie@someOtherSchool.edu</td>\n",
              "      <td>2017-08-16 15:34:50</td>\n",
              "      <td>2017-09-02 19:33:56</td>\n",
              "    </tr>\n",
              "    <tr>\n",
              "      <th>6</th>\n",
              "      <td>7</td>\n",
              "      <td>Edgar Frank \"Ted\" \"Codd\"</td>\n",
              "      <td>2400</td>\n",
              "      <td>Computer Science</td>\n",
              "      <td>Edgar@someOtherSchool.edu</td>\n",
              "      <td>2017-08-16 15:35:33</td>\n",
              "      <td>2017-09-02 19:33:56</td>\n",
              "    </tr>\n",
              "    <tr>\n",
              "      <th>7</th>\n",
              "      <td>8</td>\n",
              "      <td>Donald D. Chamberlin</td>\n",
              "      <td>2400</td>\n",
              "      <td>Computer Science</td>\n",
              "      <td>Donald@someOtherSchool.edu</td>\n",
              "      <td>2017-08-16 15:35:33</td>\n",
              "      <td>2017-09-02 19:33:56</td>\n",
              "    </tr>\n",
              "    <tr>\n",
              "      <th>8</th>\n",
              "      <td>9</td>\n",
              "      <td>Raymond F. Boyce</td>\n",
              "      <td>2400</td>\n",
              "      <td>Computer Science</td>\n",
              "      <td>Raymond@someOtherSchool.edu</td>\n",
              "      <td>2017-08-16 15:35:33</td>\n",
              "      <td>2017-09-02 19:33:56</td>\n",
              "    </tr>\n",
              "  </tbody>\n",
              "</table>\n",
              "</div>"
            ],
            "text/plain": [
              "   studentID                  FullName  sat_score    programOfStudy  \\\n",
              "0          1             Monique Davis        400        Literature   \n",
              "1          2            Teri Gutierrez        800       Programming   \n",
              "2          3           Spencer Pautier       1000       Programming   \n",
              "3          4              Louis Ramsey       1200       Programming   \n",
              "4          5              Alvin Greene       1200       Programming   \n",
              "5          6            Sophie Freeman       1200       Programming   \n",
              "6          7  Edgar Frank \"Ted\" \"Codd\"       2400  Computer Science   \n",
              "7          8      Donald D. Chamberlin       2400  Computer Science   \n",
              "8          9          Raymond F. Boyce       2400  Computer Science   \n",
              "\n",
              "                schoolEmailAdr          rcd_Created          rcd_Updated  \n",
              "0  Monique@someOtherSchool.edu  2017-08-16 15:34:50  2017-09-02 19:33:56  \n",
              "1     Teri@someOtherSchool.edu  2017-08-16 15:34:50  2017-09-02 19:33:56  \n",
              "2  Spencer@someOtherSchool.edu  2017-08-16 15:34:50  2017-09-02 19:33:56  \n",
              "3    Louis@someOtherSchool.edu  2017-08-16 15:34:50  2017-09-02 19:33:56  \n",
              "4    Alvin@someOtherSchool.edu  2017-08-16 15:34:50  2017-09-02 19:33:56  \n",
              "5   Sophie@someOtherSchool.edu  2017-08-16 15:34:50  2017-09-02 19:33:56  \n",
              "6    Edgar@someOtherSchool.edu  2017-08-16 15:35:33  2017-09-02 19:33:56  \n",
              "7   Donald@someOtherSchool.edu  2017-08-16 15:35:33  2017-09-02 19:33:56  \n",
              "8  Raymond@someOtherSchool.edu  2017-08-16 15:35:33  2017-09-02 19:33:56  "
            ]
          },
          "metadata": {
            "tags": []
          }
        }
      ]
    },
    {
      "cell_type": "markdown",
      "metadata": {
        "id": "Ic_Csqo0Rm68"
      },
      "source": [
        "#### Data B"
      ]
    },
    {
      "cell_type": "code",
      "metadata": {
        "id": "uofGsqyJRm69"
      },
      "source": [
        "dataContactInfo = [\n",
        "  (1,'Monique.Davis@freeCodeCamp.org','555-555-5551',97111),\n",
        "  (2,'Teri.Gutierrez@freeCodeCamp.org','555-555-5552',97112),\n",
        "  (3,'Spencer.Pautier@freeCodeCamp.org','555-555-5553',97113),\n",
        "  (4,'Louis.Ramsey@freeCodeCamp.org','555-555-5554',0),\n",
        "  (5,'Alvin.Green@freeCodeCamp.org','555-555-5555',97115),\n",
        "  (6,'Sophie.Freeman@freeCodeCamp.org','555-555-5556',97116),\n",
        "  (7,'Maximo.Smith@freeCodeCamp.org','555-555-5557',97117),\n",
        "  (8,'Michael.Roach@freeCodeCamp.ort','555-555-5558',97118)\n",
        "]\n",
        "\n",
        "namesContacts = ['studentID', 'studentEmailAddr',  'student-phone-cell', 'student-US-zipcode']"
      ],
      "execution_count": null,
      "outputs": []
    },
    {
      "cell_type": "markdown",
      "metadata": {
        "id": "2tPfYFxnRm7J"
      },
      "source": [
        "#### Konverze"
      ]
    },
    {
      "cell_type": "code",
      "metadata": {
        "id": "8tB-mb8IRm7L",
        "outputId": "790f5d75-bfc0-44a6-e857-3442c9e2a992"
      },
      "source": [
        "namedContacts = list(tuple2dictionarySeq(namesContacts, dataContactInfo))\n",
        "namedContacts"
      ],
      "execution_count": null,
      "outputs": [
        {
          "output_type": "execute_result",
          "data": {
            "text/plain": [
              "[{'studentID': 1,\n",
              "  'studentEmailAddr': 'Monique.Davis@freeCodeCamp.org',\n",
              "  'student-phone-cell': '555-555-5551',\n",
              "  'student-US-zipcode': 97111},\n",
              " {'studentID': 2,\n",
              "  'studentEmailAddr': 'Teri.Gutierrez@freeCodeCamp.org',\n",
              "  'student-phone-cell': '555-555-5552',\n",
              "  'student-US-zipcode': 97112},\n",
              " {'studentID': 3,\n",
              "  'studentEmailAddr': 'Spencer.Pautier@freeCodeCamp.org',\n",
              "  'student-phone-cell': '555-555-5553',\n",
              "  'student-US-zipcode': 97113},\n",
              " {'studentID': 4,\n",
              "  'studentEmailAddr': 'Louis.Ramsey@freeCodeCamp.org',\n",
              "  'student-phone-cell': '555-555-5554',\n",
              "  'student-US-zipcode': 0},\n",
              " {'studentID': 5,\n",
              "  'studentEmailAddr': 'Alvin.Green@freeCodeCamp.org',\n",
              "  'student-phone-cell': '555-555-5555',\n",
              "  'student-US-zipcode': 97115},\n",
              " {'studentID': 6,\n",
              "  'studentEmailAddr': 'Sophie.Freeman@freeCodeCamp.org',\n",
              "  'student-phone-cell': '555-555-5556',\n",
              "  'student-US-zipcode': 97116},\n",
              " {'studentID': 7,\n",
              "  'studentEmailAddr': 'Maximo.Smith@freeCodeCamp.org',\n",
              "  'student-phone-cell': '555-555-5557',\n",
              "  'student-US-zipcode': 97117},\n",
              " {'studentID': 8,\n",
              "  'studentEmailAddr': 'Michael.Roach@freeCodeCamp.ort',\n",
              "  'student-phone-cell': '555-555-5558',\n",
              "  'student-US-zipcode': 97118}]"
            ]
          },
          "metadata": {
            "tags": []
          },
          "execution_count": 23
        }
      ]
    },
    {
      "cell_type": "markdown",
      "metadata": {
        "id": "eDPT3k8RRm7T"
      },
      "source": [
        "#### Data ve fromě tabulky"
      ]
    },
    {
      "cell_type": "code",
      "metadata": {
        "id": "R5KulF_2Rm7Y",
        "outputId": "8ae0e2ae-565d-466b-e100-4ae89b5969f3"
      },
      "source": [
        "displayData(namedContacts)"
      ],
      "execution_count": null,
      "outputs": [
        {
          "output_type": "display_data",
          "data": {
            "text/html": [
              "<div>\n",
              "<style scoped>\n",
              "    .dataframe tbody tr th:only-of-type {\n",
              "        vertical-align: middle;\n",
              "    }\n",
              "\n",
              "    .dataframe tbody tr th {\n",
              "        vertical-align: top;\n",
              "    }\n",
              "\n",
              "    .dataframe thead th {\n",
              "        text-align: right;\n",
              "    }\n",
              "</style>\n",
              "<table border=\"1\" class=\"dataframe\">\n",
              "  <thead>\n",
              "    <tr style=\"text-align: right;\">\n",
              "      <th></th>\n",
              "      <th>studentID</th>\n",
              "      <th>studentEmailAddr</th>\n",
              "      <th>student-phone-cell</th>\n",
              "      <th>student-US-zipcode</th>\n",
              "    </tr>\n",
              "  </thead>\n",
              "  <tbody>\n",
              "    <tr>\n",
              "      <th>0</th>\n",
              "      <td>1</td>\n",
              "      <td>Monique.Davis@freeCodeCamp.org</td>\n",
              "      <td>555-555-5551</td>\n",
              "      <td>97111</td>\n",
              "    </tr>\n",
              "    <tr>\n",
              "      <th>1</th>\n",
              "      <td>2</td>\n",
              "      <td>Teri.Gutierrez@freeCodeCamp.org</td>\n",
              "      <td>555-555-5552</td>\n",
              "      <td>97112</td>\n",
              "    </tr>\n",
              "    <tr>\n",
              "      <th>2</th>\n",
              "      <td>3</td>\n",
              "      <td>Spencer.Pautier@freeCodeCamp.org</td>\n",
              "      <td>555-555-5553</td>\n",
              "      <td>97113</td>\n",
              "    </tr>\n",
              "    <tr>\n",
              "      <th>3</th>\n",
              "      <td>4</td>\n",
              "      <td>Louis.Ramsey@freeCodeCamp.org</td>\n",
              "      <td>555-555-5554</td>\n",
              "      <td>0</td>\n",
              "    </tr>\n",
              "    <tr>\n",
              "      <th>4</th>\n",
              "      <td>5</td>\n",
              "      <td>Alvin.Green@freeCodeCamp.org</td>\n",
              "      <td>555-555-5555</td>\n",
              "      <td>97115</td>\n",
              "    </tr>\n",
              "    <tr>\n",
              "      <th>5</th>\n",
              "      <td>6</td>\n",
              "      <td>Sophie.Freeman@freeCodeCamp.org</td>\n",
              "      <td>555-555-5556</td>\n",
              "      <td>97116</td>\n",
              "    </tr>\n",
              "    <tr>\n",
              "      <th>6</th>\n",
              "      <td>7</td>\n",
              "      <td>Maximo.Smith@freeCodeCamp.org</td>\n",
              "      <td>555-555-5557</td>\n",
              "      <td>97117</td>\n",
              "    </tr>\n",
              "    <tr>\n",
              "      <th>7</th>\n",
              "      <td>8</td>\n",
              "      <td>Michael.Roach@freeCodeCamp.ort</td>\n",
              "      <td>555-555-5558</td>\n",
              "      <td>97118</td>\n",
              "    </tr>\n",
              "  </tbody>\n",
              "</table>\n",
              "</div>"
            ],
            "text/plain": [
              "   studentID                  studentEmailAddr student-phone-cell  \\\n",
              "0          1    Monique.Davis@freeCodeCamp.org       555-555-5551   \n",
              "1          2   Teri.Gutierrez@freeCodeCamp.org       555-555-5552   \n",
              "2          3  Spencer.Pautier@freeCodeCamp.org       555-555-5553   \n",
              "3          4     Louis.Ramsey@freeCodeCamp.org       555-555-5554   \n",
              "4          5      Alvin.Green@freeCodeCamp.org       555-555-5555   \n",
              "5          6   Sophie.Freeman@freeCodeCamp.org       555-555-5556   \n",
              "6          7     Maximo.Smith@freeCodeCamp.org       555-555-5557   \n",
              "7          8    Michael.Roach@freeCodeCamp.ort       555-555-5558   \n",
              "\n",
              "   student-US-zipcode  \n",
              "0               97111  \n",
              "1               97112  \n",
              "2               97113  \n",
              "3                   0  \n",
              "4               97115  \n",
              "5               97116  \n",
              "6               97117  \n",
              "7               97118  "
            ]
          },
          "metadata": {
            "tags": []
          }
        }
      ]
    },
    {
      "cell_type": "markdown",
      "metadata": {
        "id": "BfXWaYXaRm7j"
      },
      "source": [
        "### CSV podruhé"
      ]
    },
    {
      "cell_type": "code",
      "metadata": {
        "id": "DbpiVAy8Rm7j",
        "outputId": "4b6a3648-ce5c-48d0-dba5-ab236213ffeb"
      },
      "source": [
        "dataFrame = pd.DataFrame(namedContacts)\n",
        "csv = dataFrame.to_csv(index = False, sep=';', quoting=2)\n",
        "print(csv)"
      ],
      "execution_count": null,
      "outputs": [
        {
          "output_type": "stream",
          "text": [
            "\"studentID\";\"studentEmailAddr\";\"student-phone-cell\";\"student-US-zipcode\"\n",
            "1;\"Monique.Davis@freeCodeCamp.org\";\"555-555-5551\";97111\n",
            "2;\"Teri.Gutierrez@freeCodeCamp.org\";\"555-555-5552\";97112\n",
            "3;\"Spencer.Pautier@freeCodeCamp.org\";\"555-555-5553\";97113\n",
            "4;\"Louis.Ramsey@freeCodeCamp.org\";\"555-555-5554\";0\n",
            "5;\"Alvin.Green@freeCodeCamp.org\";\"555-555-5555\";97115\n",
            "6;\"Sophie.Freeman@freeCodeCamp.org\";\"555-555-5556\";97116\n",
            "7;\"Maximo.Smith@freeCodeCamp.org\";\"555-555-5557\";97117\n",
            "8;\"Michael.Roach@freeCodeCamp.ort\";\"555-555-5558\";97118\n",
            "\n"
          ],
          "name": "stdout"
        }
      ]
    },
    {
      "cell_type": "markdown",
      "metadata": {
        "id": "Edx9GeevRm7u"
      },
      "source": [
        "### XML"
      ]
    },
    {
      "cell_type": "markdown",
      "metadata": {
        "id": "R18XSS0ORm7v"
      },
      "source": [
        "#### Instalace kniuhovny pro operace nad XML"
      ]
    },
    {
      "cell_type": "code",
      "metadata": {
        "id": "xSIM4wa2Rm7x",
        "outputId": "0f8e4c3d-374c-44e5-f6fc-67b9fffa4ffe"
      },
      "source": [
        "!pip install json2xml "
      ],
      "execution_count": null,
      "outputs": [
        {
          "output_type": "stream",
          "text": [
            "Collecting json2xml\n",
            "  Downloading json2xml-3.5.0-py2.py3-none-any.whl (4.6 kB)\n",
            "Collecting dicttoxml==1.7.4\n",
            "  Downloading dicttoxml-1.7.4.tar.gz (18 kB)\n",
            "Collecting xmltodict==0.11.0\n",
            "  Downloading xmltodict-0.11.0-py2.py3-none-any.whl (7.2 kB)\n",
            "Requirement already satisfied: requests>=2.20.0 in /opt/conda/lib/python3.8/site-packages (from json2xml) (2.24.0)\n",
            "Requirement already satisfied: urllib3!=1.25.0,!=1.25.1,<1.26,>=1.21.1 in /opt/conda/lib/python3.8/site-packages (from requests>=2.20.0->json2xml) (1.25.10)\n",
            "Requirement already satisfied: chardet<4,>=3.0.2 in /opt/conda/lib/python3.8/site-packages (from requests>=2.20.0->json2xml) (3.0.4)\n",
            "Requirement already satisfied: certifi>=2017.4.17 in /opt/conda/lib/python3.8/site-packages (from requests>=2.20.0->json2xml) (2020.6.20)\n",
            "Requirement already satisfied: idna<3,>=2.5 in /opt/conda/lib/python3.8/site-packages (from requests>=2.20.0->json2xml) (2.10)\n",
            "Building wheels for collected packages: dicttoxml\n",
            "  Building wheel for dicttoxml (setup.py) ... \u001b[?25ldone\n",
            "\u001b[?25h  Created wheel for dicttoxml: filename=dicttoxml-1.7.4-py3-none-any.whl size=17452 sha256=cdfb7951ee94fd8c558a8fd650992af8be5465a7a096cf45c2732ac74f0a3c32\n",
            "  Stored in directory: /home/jovyan/.cache/pip/wheels/6c/32/1d/09f338b837cdbb71f8889b866d50db3e0eaa02b8fc2be4c943\n",
            "Successfully built dicttoxml\n",
            "Installing collected packages: dicttoxml, xmltodict, json2xml\n",
            "Successfully installed dicttoxml-1.7.4 json2xml-3.5.0 xmltodict-0.11.0\n"
          ],
          "name": "stdout"
        }
      ]
    },
    {
      "cell_type": "code",
      "metadata": {
        "id": "elzI2YeXRm76"
      },
      "source": [
        "from json2xml import json2xml\n",
        "from json2xml.utils import readfromurl, readfromstring, readfromjson"
      ],
      "execution_count": null,
      "outputs": []
    },
    {
      "cell_type": "markdown",
      "metadata": {
        "id": "XP5eyvOJRm8E"
      },
      "source": [
        "#### Převod na XML"
      ]
    },
    {
      "cell_type": "code",
      "metadata": {
        "id": "8fXbSZ0ARm8F",
        "outputId": "f3323919-ecc5-4afc-82a2-cbab8eff8c91"
      },
      "source": [
        "dataAsXml = json2xml.Json2xml(namedStudents, wrapper=\"students\", pretty=True).to_xml()\n",
        "print(dataAsXml)"
      ],
      "execution_count": null,
      "outputs": [
        {
          "output_type": "stream",
          "text": [
            "<?xml version=\"1.0\" ?>\n",
            "<students>\n",
            "\t<item type=\"dict\">\n",
            "\t\t<studentID type=\"int\">1</studentID>\n",
            "\t\t<FullName type=\"str\">Monique Davis</FullName>\n",
            "\t\t<sat_score type=\"int\">400</sat_score>\n",
            "\t\t<programOfStudy type=\"str\">Literature</programOfStudy>\n",
            "\t\t<schoolEmailAdr type=\"str\">Monique@someOtherSchool.edu</schoolEmailAdr>\n",
            "\t\t<rcd_Created type=\"str\">2017-08-16 15:34:50</rcd_Created>\n",
            "\t\t<rcd_Updated type=\"str\">2017-09-02 19:33:56</rcd_Updated>\n",
            "\t</item>\n",
            "\t<item type=\"dict\">\n",
            "\t\t<studentID type=\"int\">2</studentID>\n",
            "\t\t<FullName type=\"str\">Teri Gutierrez</FullName>\n",
            "\t\t<sat_score type=\"int\">800</sat_score>\n",
            "\t\t<programOfStudy type=\"str\">Programming</programOfStudy>\n",
            "\t\t<schoolEmailAdr type=\"str\">Teri@someOtherSchool.edu</schoolEmailAdr>\n",
            "\t\t<rcd_Created type=\"str\">2017-08-16 15:34:50</rcd_Created>\n",
            "\t\t<rcd_Updated type=\"str\">2017-09-02 19:33:56</rcd_Updated>\n",
            "\t</item>\n",
            "\t<item type=\"dict\">\n",
            "\t\t<studentID type=\"int\">3</studentID>\n",
            "\t\t<FullName type=\"str\">Spencer Pautier</FullName>\n",
            "\t\t<sat_score type=\"int\">1000</sat_score>\n",
            "\t\t<programOfStudy type=\"str\">Programming</programOfStudy>\n",
            "\t\t<schoolEmailAdr type=\"str\">Spencer@someOtherSchool.edu</schoolEmailAdr>\n",
            "\t\t<rcd_Created type=\"str\">2017-08-16 15:34:50</rcd_Created>\n",
            "\t\t<rcd_Updated type=\"str\">2017-09-02 19:33:56</rcd_Updated>\n",
            "\t</item>\n",
            "\t<item type=\"dict\">\n",
            "\t\t<studentID type=\"int\">4</studentID>\n",
            "\t\t<FullName type=\"str\">Louis Ramsey</FullName>\n",
            "\t\t<sat_score type=\"int\">1200</sat_score>\n",
            "\t\t<programOfStudy type=\"str\">Programming</programOfStudy>\n",
            "\t\t<schoolEmailAdr type=\"str\">Louis@someOtherSchool.edu</schoolEmailAdr>\n",
            "\t\t<rcd_Created type=\"str\">2017-08-16 15:34:50</rcd_Created>\n",
            "\t\t<rcd_Updated type=\"str\">2017-09-02 19:33:56</rcd_Updated>\n",
            "\t</item>\n",
            "\t<item type=\"dict\">\n",
            "\t\t<studentID type=\"int\">5</studentID>\n",
            "\t\t<FullName type=\"str\">Alvin Greene</FullName>\n",
            "\t\t<sat_score type=\"int\">1200</sat_score>\n",
            "\t\t<programOfStudy type=\"str\">Programming</programOfStudy>\n",
            "\t\t<schoolEmailAdr type=\"str\">Alvin@someOtherSchool.edu</schoolEmailAdr>\n",
            "\t\t<rcd_Created type=\"str\">2017-08-16 15:34:50</rcd_Created>\n",
            "\t\t<rcd_Updated type=\"str\">2017-09-02 19:33:56</rcd_Updated>\n",
            "\t</item>\n",
            "\t<item type=\"dict\">\n",
            "\t\t<studentID type=\"int\">6</studentID>\n",
            "\t\t<FullName type=\"str\">Sophie Freeman</FullName>\n",
            "\t\t<sat_score type=\"int\">1200</sat_score>\n",
            "\t\t<programOfStudy type=\"str\">Programming</programOfStudy>\n",
            "\t\t<schoolEmailAdr type=\"str\">Sophie@someOtherSchool.edu</schoolEmailAdr>\n",
            "\t\t<rcd_Created type=\"str\">2017-08-16 15:34:50</rcd_Created>\n",
            "\t\t<rcd_Updated type=\"str\">2017-09-02 19:33:56</rcd_Updated>\n",
            "\t</item>\n",
            "\t<item type=\"dict\">\n",
            "\t\t<studentID type=\"int\">7</studentID>\n",
            "\t\t<FullName type=\"str\">Edgar Frank &quot;Ted&quot; &quot;Codd&quot;</FullName>\n",
            "\t\t<sat_score type=\"int\">2400</sat_score>\n",
            "\t\t<programOfStudy type=\"str\">Computer Science</programOfStudy>\n",
            "\t\t<schoolEmailAdr type=\"str\">Edgar@someOtherSchool.edu</schoolEmailAdr>\n",
            "\t\t<rcd_Created type=\"str\">2017-08-16 15:35:33</rcd_Created>\n",
            "\t\t<rcd_Updated type=\"str\">2017-09-02 19:33:56</rcd_Updated>\n",
            "\t</item>\n",
            "\t<item type=\"dict\">\n",
            "\t\t<studentID type=\"int\">8</studentID>\n",
            "\t\t<FullName type=\"str\">Donald D. Chamberlin</FullName>\n",
            "\t\t<sat_score type=\"int\">2400</sat_score>\n",
            "\t\t<programOfStudy type=\"str\">Computer Science</programOfStudy>\n",
            "\t\t<schoolEmailAdr type=\"str\">Donald@someOtherSchool.edu</schoolEmailAdr>\n",
            "\t\t<rcd_Created type=\"str\">2017-08-16 15:35:33</rcd_Created>\n",
            "\t\t<rcd_Updated type=\"str\">2017-09-02 19:33:56</rcd_Updated>\n",
            "\t</item>\n",
            "\t<item type=\"dict\">\n",
            "\t\t<studentID type=\"int\">9</studentID>\n",
            "\t\t<FullName type=\"str\">Raymond F. Boyce</FullName>\n",
            "\t\t<sat_score type=\"int\">2400</sat_score>\n",
            "\t\t<programOfStudy type=\"str\">Computer Science</programOfStudy>\n",
            "\t\t<schoolEmailAdr type=\"str\">Raymond@someOtherSchool.edu</schoolEmailAdr>\n",
            "\t\t<rcd_Created type=\"str\">2017-08-16 15:35:33</rcd_Created>\n",
            "\t\t<rcd_Updated type=\"str\">2017-09-02 19:33:56</rcd_Updated>\n",
            "\t</item>\n",
            "</students>\n",
            "\n"
          ],
          "name": "stdout"
        }
      ]
    },
    {
      "cell_type": "code",
      "metadata": {
        "id": "1bXTApYERm8c"
      },
      "source": [
        ""
      ],
      "execution_count": null,
      "outputs": []
    }
  ]
}