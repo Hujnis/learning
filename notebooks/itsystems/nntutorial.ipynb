{
  "nbformat": 4,
  "nbformat_minor": 0,
  "metadata": {
    "colab": {
      "name": "NNTutorial",
      "provenance": [],
      "collapsed_sections": [],
      "authorship_tag": "ABX9TyONMyWI/KfyoRxnMxjkNH3N",
      "include_colab_link": true
    },
    "kernelspec": {
      "name": "python3",
      "display_name": "Python 3"
    }
  },
  "cells": [
    {
      "cell_type": "markdown",
      "metadata": {
        "id": "view-in-github",
        "colab_type": "text"
      },
      "source": [
        "<a href=\"https://colab.research.google.com/github/hrbolek/learning/blob/master/itsystems/nntutorial.ipynb\" target=\"_parent\"><img src=\"https://colab.research.google.com/assets/colab-badge.svg\" alt=\"Open In Colab\"/></a>"
      ]
    },
    {
      "cell_type": "markdown",
      "metadata": {
        "id": "leCZqldNWw3-"
      },
      "source": [
        "# Úvodní příklad"
      ]
    },
    {
      "cell_type": "markdown",
      "metadata": {
        "id": "9n5hVFkClAcS"
      },
      "source": [
        "Inspirováno zdrojem\r\n",
        "\r\n",
        "https://machinelearningmastery.com/neural-networks-are-function-approximators/"
      ]
    },
    {
      "cell_type": "markdown",
      "metadata": {
        "id": "nQHo3qHEXBQz"
      },
      "source": [
        "## Definice funkce"
      ]
    },
    {
      "cell_type": "code",
      "metadata": {
        "id": "KMeebVarXDLo"
      },
      "source": [
        "def func(x):\r\n",
        "  return x * x\r\n",
        "\r\n",
        "def funcDomain():\r\n",
        "  return [i for i in range(-50, 51)]"
      ],
      "execution_count": 1,
      "outputs": []
    },
    {
      "cell_type": "markdown",
      "metadata": {
        "id": "6xy8WNvqaYul"
      },
      "source": [
        "## První, analytický pohled na funkci"
      ]
    },
    {
      "cell_type": "code",
      "metadata": {
        "colab": {
          "base_uri": "https://localhost:8080/",
          "height": 295
        },
        "id": "SzB5gWYAkeT1",
        "outputId": "f55834aa-83a3-4143-8542-16752cc295f9"
      },
      "source": [
        "# example of creating a univariate dataset with a given mapping function\r\n",
        "import matplotlib.pyplot as plt\r\n",
        "# define the input data\r\n",
        "x = funcDomain() #[i for i in range(-50,51)]\r\n",
        "# define the output data\r\n",
        "y = [func(i) for i in x]\r\n",
        "# plot the input versus the output\r\n",
        "plt.plot(x, y)\r\n",
        "plt.title('Input (x) versus Output (y)')\r\n",
        "plt.xlabel('Input Variable (x)')\r\n",
        "plt.ylabel('Output Variable (y)')\r\n",
        "plt.show()"
      ],
      "execution_count": 2,
      "outputs": [
        {
          "output_type": "display_data",
          "data": {
            "image/png": "[encoded data removed]",
            "text/plain": [
              "<Figure size 432x288 with 1 Axes>"
            ]
          },
          "metadata": {
            "tags": [],
            "needs_background": "light"
          }
        }
      ]
    },
    {
      "cell_type": "markdown",
      "metadata": {
        "id": "hw6E2LCFafGf"
      },
      "source": [
        "## Získání datové množiny"
      ]
    },
    {
      "cell_type": "code",
      "metadata": {
        "colab": {
          "base_uri": "https://localhost:8080/"
        },
        "id": "A5S7Ku16kjqP",
        "outputId": "7d43a59b-58f4-44ac-ae55-4995e76b871f"
      },
      "source": [
        "from numpy import asarray\r\n",
        "# define the dataset\r\n",
        "x = asarray(funcDomain())\r\n",
        "y = asarray([func(i) for i in x])\r\n",
        "print(x.min(), x.max(), y.min(), y.max())\r\n",
        "print(x)\r\n",
        "print(y)"
      ],
      "execution_count": 4,
      "outputs": [
        {
          "output_type": "stream",
          "text": [
            "-50 50 0 2500\n",
            "[-50 -49 -48 -47 -46 -45 -44 -43 -42 -41 -40 -39 -38 -37 -36 -35 -34 -33\n",
            " -32 -31 -30 -29 -28 -27 -26 -25 -24 -23 -22 -21 -20 -19 -18 -17 -16 -15\n",
            " -14 -13 -12 -11 -10  -9  -8  -7  -6  -5  -4  -3  -2  -1   0   1   2   3\n",
            "   4   5   6   7   8   9  10  11  12  13  14  15  16  17  18  19  20  21\n",
            "  22  23  24  25  26  27  28  29  30  31  32  33  34  35  36  37  38  39\n",
            "  40  41  42  43  44  45  46  47  48  49  50]\n",
            "[2500 2401 2304 2209 2116 2025 1936 1849 1764 1681 1600 1521 1444 1369\n",
            " 1296 1225 1156 1089 1024  961  900  841  784  729  676  625  576  529\n",
            "  484  441  400  361  324  289  256  225  196  169  144  121  100   81\n",
            "   64   49   36   25   16    9    4    1    0    1    4    9   16   25\n",
            "   36   49   64   81  100  121  144  169  196  225  256  289  324  361\n",
            "  400  441  484  529  576  625  676  729  784  841  900  961 1024 1089\n",
            " 1156 1225 1296 1369 1444 1521 1600 1681 1764 1849 1936 2025 2116 2209\n",
            " 2304 2401 2500]\n"
          ],
          "name": "stdout"
        }
      ]
    },
    {
      "cell_type": "markdown",
      "metadata": {
        "id": "18DYJtxSalA4"
      },
      "source": [
        "## Normalizace hodnot"
      ]
    },
    {
      "cell_type": "markdown",
      "metadata": {
        "id": "6QRWHmXIayTZ"
      },
      "source": [
        "### Normalizace datové struktury"
      ]
    },
    {
      "cell_type": "code",
      "metadata": {
        "id": "TXbXO958kmUx",
        "colab": {
          "base_uri": "https://localhost:8080/"
        },
        "outputId": "d07522ef-a304-4580-b8ce-4fad5ea66b7e"
      },
      "source": [
        "# reshape arrays into into rows and cols\r\n",
        "x = x.reshape((len(x), 1))\r\n",
        "y = y.reshape((len(y), 1))\r\n",
        "print(x)\r\n",
        "print(y)"
      ],
      "execution_count": 5,
      "outputs": [
        {
          "output_type": "stream",
          "text": [
            "[[-50]\n",
            " [-49]\n",
            " [-48]\n",
            " [-47]\n",
            " [-46]\n",
            " [-45]\n",
            " [-44]\n",
            " [-43]\n",
            " [-42]\n",
            " [-41]\n",
            " [-40]\n",
            " [-39]\n",
            " [-38]\n",
            " [-37]\n",
            " [-36]\n",
            " [-35]\n",
            " [-34]\n",
            " [-33]\n",
            " [-32]\n",
            " [-31]\n",
            " [-30]\n",
            " [-29]\n",
            " [-28]\n",
            " [-27]\n",
            " [-26]\n",
            " [-25]\n",
            " [-24]\n",
            " [-23]\n",
            " [-22]\n",
            " [-21]\n",
            " [-20]\n",
            " [-19]\n",
            " [-18]\n",
            " [-17]\n",
            " [-16]\n",
            " [-15]\n",
            " [-14]\n",
            " [-13]\n",
            " [-12]\n",
            " [-11]\n",
            " [-10]\n",
            " [ -9]\n",
            " [ -8]\n",
            " [ -7]\n",
            " [ -6]\n",
            " [ -5]\n",
            " [ -4]\n",
            " [ -3]\n",
            " [ -2]\n",
            " [ -1]\n",
            " [  0]\n",
            " [  1]\n",
            " [  2]\n",
            " [  3]\n",
            " [  4]\n",
            " [  5]\n",
            " [  6]\n",
            " [  7]\n",
            " [  8]\n",
            " [  9]\n",
            " [ 10]\n",
            " [ 11]\n",
            " [ 12]\n",
            " [ 13]\n",
            " [ 14]\n",
            " [ 15]\n",
            " [ 16]\n",
            " [ 17]\n",
            " [ 18]\n",
            " [ 19]\n",
            " [ 20]\n",
            " [ 21]\n",
            " [ 22]\n",
            " [ 23]\n",
            " [ 24]\n",
            " [ 25]\n",
            " [ 26]\n",
            " [ 27]\n",
            " [ 28]\n",
            " [ 29]\n",
            " [ 30]\n",
            " [ 31]\n",
            " [ 32]\n",
            " [ 33]\n",
            " [ 34]\n",
            " [ 35]\n",
            " [ 36]\n",
            " [ 37]\n",
            " [ 38]\n",
            " [ 39]\n",
            " [ 40]\n",
            " [ 41]\n",
            " [ 42]\n",
            " [ 43]\n",
            " [ 44]\n",
            " [ 45]\n",
            " [ 46]\n",
            " [ 47]\n",
            " [ 48]\n",
            " [ 49]\n",
            " [ 50]]\n",
            "[[2500]\n",
            " [2401]\n",
            " [2304]\n",
            " [2209]\n",
            " [2116]\n",
            " [2025]\n",
            " [1936]\n",
            " [1849]\n",
            " [1764]\n",
            " [1681]\n",
            " [1600]\n",
            " [1521]\n",
            " [1444]\n",
            " [1369]\n",
            " [1296]\n",
            " [1225]\n",
            " [1156]\n",
            " [1089]\n",
            " [1024]\n",
            " [ 961]\n",
            " [ 900]\n",
            " [ 841]\n",
            " [ 784]\n",
            " [ 729]\n",
            " [ 676]\n",
            " [ 625]\n",
            " [ 576]\n",
            " [ 529]\n",
            " [ 484]\n",
            " [ 441]\n",
            " [ 400]\n",
            " [ 361]\n",
            " [ 324]\n",
            " [ 289]\n",
            " [ 256]\n",
            " [ 225]\n",
            " [ 196]\n",
            " [ 169]\n",
            " [ 144]\n",
            " [ 121]\n",
            " [ 100]\n",
            " [  81]\n",
            " [  64]\n",
            " [  49]\n",
            " [  36]\n",
            " [  25]\n",
            " [  16]\n",
            " [   9]\n",
            " [   4]\n",
            " [   1]\n",
            " [   0]\n",
            " [   1]\n",
            " [   4]\n",
            " [   9]\n",
            " [  16]\n",
            " [  25]\n",
            " [  36]\n",
            " [  49]\n",
            " [  64]\n",
            " [  81]\n",
            " [ 100]\n",
            " [ 121]\n",
            " [ 144]\n",
            " [ 169]\n",
            " [ 196]\n",
            " [ 225]\n",
            " [ 256]\n",
            " [ 289]\n",
            " [ 324]\n",
            " [ 361]\n",
            " [ 400]\n",
            " [ 441]\n",
            " [ 484]\n",
            " [ 529]\n",
            " [ 576]\n",
            " [ 625]\n",
            " [ 676]\n",
            " [ 729]\n",
            " [ 784]\n",
            " [ 841]\n",
            " [ 900]\n",
            " [ 961]\n",
            " [1024]\n",
            " [1089]\n",
            " [1156]\n",
            " [1225]\n",
            " [1296]\n",
            " [1369]\n",
            " [1444]\n",
            " [1521]\n",
            " [1600]\n",
            " [1681]\n",
            " [1764]\n",
            " [1849]\n",
            " [1936]\n",
            " [2025]\n",
            " [2116]\n",
            " [2209]\n",
            " [2304]\n",
            " [2401]\n",
            " [2500]]\n"
          ],
          "name": "stdout"
        }
      ]
    },
    {
      "cell_type": "markdown",
      "metadata": {
        "id": "9Dba46ERa1l3"
      },
      "source": [
        "### Normalizace hodnot"
      ]
    },
    {
      "cell_type": "code",
      "metadata": {
        "colab": {
          "base_uri": "https://localhost:8080/"
        },
        "id": "LZ0TdF0NkoOi",
        "outputId": "0fbe00af-089a-4e77-d0a6-cb565ef267e1"
      },
      "source": [
        "from sklearn.preprocessing import MinMaxScaler\r\n",
        "\r\n",
        "# separately scale the input and output variables\r\n",
        "scale_x = MinMaxScaler()\r\n",
        "x = scale_x.fit_transform(x)\r\n",
        "scale_y = MinMaxScaler()\r\n",
        "y = scale_y.fit_transform(y)\r\n",
        "print(x.min(), x.max(), y.min(), y.max())"
      ],
      "execution_count": 7,
      "outputs": [
        {
          "output_type": "stream",
          "text": [
            "0.0 1.0 0.0 1.0\n"
          ],
          "name": "stdout"
        }
      ]
    },
    {
      "cell_type": "markdown",
      "metadata": {
        "id": "WXQzOfO4apc5"
      },
      "source": [
        "## Konstrukce neuronové sítě"
      ]
    },
    {
      "cell_type": "markdown",
      "metadata": {
        "id": "sB08BH2xbXVD"
      },
      "source": [
        "### Struktura"
      ]
    },
    {
      "cell_type": "code",
      "metadata": {
        "id": "KRmcipvhks3G"
      },
      "source": [
        "from keras.models import Sequential\r\n",
        "from keras.layers import Dense\r\n",
        "\r\n",
        "# design the neural network model\r\n",
        "model = Sequential()\r\n",
        "model.add(Dense(10, input_dim=1, activation='relu', kernel_initializer='he_uniform'))\r\n",
        "model.add(Dense(10, activation='relu', kernel_initializer='he_uniform'))\r\n",
        "model.add(Dense(1))"
      ],
      "execution_count": null,
      "outputs": []
    },
    {
      "cell_type": "markdown",
      "metadata": {
        "id": "dzmeSH_GbZs3"
      },
      "source": [
        "### Příprava modelu"
      ]
    },
    {
      "cell_type": "code",
      "metadata": {
        "id": "dRJwvJTAkvbH"
      },
      "source": [
        "# define the loss function and optimization algorithm\r\n",
        "model.compile(loss='mse', optimizer='adam')"
      ],
      "execution_count": null,
      "outputs": []
    },
    {
      "cell_type": "markdown",
      "metadata": {
        "id": "_xM_30fjbeJ4"
      },
      "source": [
        "### Trénování na datové množině"
      ]
    },
    {
      "cell_type": "markdown",
      "metadata": {
        "id": "NBlJAJhDbg_q"
      },
      "source": [
        "Tréning je obecně stochastickou operací, takže výsledky trénování se mohou lišit. Může být vhodné provést několik pokusů trénování a jako výsledný zvolit nejlepší z nich."
      ]
    },
    {
      "cell_type": "code",
      "metadata": {
        "colab": {
          "base_uri": "https://localhost:8080/"
        },
        "id": "R4OAcg9Xk0es",
        "outputId": "bb082e4e-d622-4365-adf4-94cf86690ab0"
      },
      "source": [
        "# fit the model on the training dataset\r\n",
        "model.fit(x, y, epochs=500, batch_size=10, verbose=0)"
      ],
      "execution_count": null,
      "outputs": [
        {
          "output_type": "execute_result",
          "data": {
            "text/plain": [
              "<tensorflow.python.keras.callbacks.History at 0x7fd749254dd8>"
            ]
          },
          "metadata": {
            "tags": []
          },
          "execution_count": 187
        }
      ]
    },
    {
      "cell_type": "markdown",
      "metadata": {
        "id": "-GfD_c38b1wh"
      },
      "source": [
        "## Predikce nad trénovací množinou"
      ]
    },
    {
      "cell_type": "markdown",
      "metadata": {
        "id": "7FIHG-zyb9A-"
      },
      "source": [
        "Predikce probíhá do normalizovaného prostoru, je nezbytné tedy provést zpětnou transformaci do původního prostoru funkce."
      ]
    },
    {
      "cell_type": "code",
      "metadata": {
        "id": "cg_15O9Zk3HE"
      },
      "source": [
        "# make predictions for the input data\r\n",
        "yhat = model.predict(x)"
      ],
      "execution_count": null,
      "outputs": []
    },
    {
      "cell_type": "code",
      "metadata": {
        "id": "srT1rGh7k5kD"
      },
      "source": [
        "# inverse transforms\r\n",
        "x_plot = scale_x.inverse_transform(x)\r\n",
        "y_plot = scale_y.inverse_transform(y)\r\n",
        "yhat_plot = scale_y.inverse_transform(yhat)"
      ],
      "execution_count": null,
      "outputs": []
    },
    {
      "cell_type": "code",
      "metadata": {
        "colab": {
          "base_uri": "https://localhost:8080/"
        },
        "id": "zLlHxm-Wk7r5",
        "outputId": "3e6cbc53-4afe-4c40-df53-5c508a545137"
      },
      "source": [
        "from sklearn.metrics import mean_squared_error\r\n",
        "# report model error\r\n",
        "print('MSE: %.3f' % mean_squared_error(y_plot, yhat_plot))"
      ],
      "execution_count": null,
      "outputs": [
        {
          "output_type": "stream",
          "text": [
            "MSE: 2570.536\n"
          ],
          "name": "stdout"
        }
      ]
    },
    {
      "cell_type": "markdown",
      "metadata": {
        "id": "v8vMSFKNcMNi"
      },
      "source": [
        "## Vizualizace predikovaných dat"
      ]
    },
    {
      "cell_type": "code",
      "metadata": {
        "colab": {
          "base_uri": "https://localhost:8080/",
          "height": 295
        },
        "id": "fjLGQMx4k-g1",
        "outputId": "816464cc-b0c6-473f-ed47-b73574f6ccb5"
      },
      "source": [
        "# plot x vs yhat\r\n",
        "plt.plot(x_plot,yhat_plot, label='Predicted')\r\n",
        "plt.plot(x_plot, y_plot, label='Original')\r\n",
        "plt.title('Input (x) versus Output (y)')\r\n",
        "plt.xlabel('Input Variable (x)')\r\n",
        "plt.ylabel('Output Variable (y)')\r\n",
        "plt.legend()\r\n",
        "plt.show()"
      ],
      "execution_count": null,
      "outputs": [
        {
          "output_type": "display_data",
          "data": {
            "image/png": "[encoded data removed]",
            "text/plain": [
              "<Figure size 432x288 with 1 Axes>"
            ]
          },
          "metadata": {
            "tags": [],
            "needs_background": "light"
          }
        }
      ]
    },
    {
      "cell_type": "markdown",
      "metadata": {
        "id": "qI_VunInciIM"
      },
      "source": [
        "# Aplikace"
      ]
    },
    {
      "cell_type": "markdown",
      "metadata": {
        "id": "_9SQgPUncuKV"
      },
      "source": [
        "## Definice funkce"
      ]
    },
    {
      "cell_type": "code",
      "metadata": {
        "id": "JuFoLFKwcxoS"
      },
      "source": [
        "from math import sin, pi\r\n",
        "\r\n",
        "# http://www.fyzika007.cz/gravitacni-pole/sikmy-vrh-vzhuaru\r\n",
        "\r\n",
        "def delka(v0, alfa):\r\n",
        "  g = 9.81\r\n",
        "  return v0 * v0 / g * sin(2 * alfa)\r\n",
        "\r\n",
        "def func(x):\r\n",
        "  return delka(x, pi / 4)\r\n",
        "\r\n",
        "def funcDomain():\r\n",
        "  return [i for i in range(10, 100)]\r\n"
      ],
      "execution_count": 8,
      "outputs": []
    },
    {
      "cell_type": "markdown",
      "metadata": {
        "id": "5KIvrAMQdOU6"
      },
      "source": [
        "## Získání datové množiny"
      ]
    },
    {
      "cell_type": "code",
      "metadata": {
        "id": "m9PiCNnCdOgY"
      },
      "source": [
        "x = asarray(funcDomain())\r\n",
        "y = asarray([func(i) for i in x])"
      ],
      "execution_count": 9,
      "outputs": []
    },
    {
      "cell_type": "markdown",
      "metadata": {
        "id": "lHo6UxhQdSIO"
      },
      "source": [
        "## Normalizace hodnot"
      ]
    },
    {
      "cell_type": "code",
      "metadata": {
        "colab": {
          "base_uri": "https://localhost:8080/"
        },
        "id": "qu8yGMFGdSYs",
        "outputId": "c2e5e78f-dfdc-481d-e0e8-7ad51ad2e9bb"
      },
      "source": [
        "x = x.reshape((len(x), 1))\r\n",
        "y = y.reshape((len(y), 1))\r\n",
        "\r\n",
        "scale_x = MinMaxScaler()\r\n",
        "x = scale_x.fit_transform(x)\r\n",
        "scale_y = MinMaxScaler()\r\n",
        "y = scale_y.fit_transform(y)\r\n",
        "print(x.min(), x.max(), y.min(), y.max())"
      ],
      "execution_count": 10,
      "outputs": [
        {
          "output_type": "stream",
          "text": [
            "0.0 1.0 0.0 1.0\n"
          ],
          "name": "stdout"
        }
      ]
    },
    {
      "cell_type": "markdown",
      "metadata": {
        "id": "P1Z54QaIddY2"
      },
      "source": [
        "## Konstrukce neuronové sítě"
      ]
    },
    {
      "cell_type": "code",
      "metadata": {
        "colab": {
          "base_uri": "https://localhost:8080/"
        },
        "id": "5sZOPqeldgmX",
        "outputId": "604ff6d1-6256-4486-f98f-0cbace055158"
      },
      "source": [
        "from keras.models import Sequential\r\n",
        "from keras.layers import Dense\r\n",
        "\r\n",
        "# design the neural network model\r\n",
        "model = Sequential()\r\n",
        "model.add(Dense(10, input_dim=1, activation='relu', kernel_initializer='he_uniform'))\r\n",
        "model.add(Dense(10, activation='relu', kernel_initializer='he_uniform'))\r\n",
        "model.add(Dense(1))\r\n",
        "\r\n",
        "model.compile(loss='mse', optimizer='adam')\r\n",
        "\r\n",
        "# fit the model on the training dataset\r\n",
        "model.fit(x, y, epochs=500, batch_size=10, verbose=0)"
      ],
      "execution_count": 11,
      "outputs": [
        {
          "output_type": "execute_result",
          "data": {
            "text/plain": [
              "<tensorflow.python.keras.callbacks.History at 0x7f11ae2cbbe0>"
            ]
          },
          "metadata": {
            "tags": []
          },
          "execution_count": 11
        }
      ]
    },
    {
      "cell_type": "markdown",
      "metadata": {
        "id": "tGg-htDTdp-U"
      },
      "source": [
        "## Predikce"
      ]
    },
    {
      "cell_type": "code",
      "metadata": {
        "id": "GpwjuU_rdrpc"
      },
      "source": [
        "# make predictions for the input data\r\n",
        "yhat = model.predict(x)\r\n",
        "\r\n",
        "# inverse transforms\r\n",
        "x_plot = scale_x.inverse_transform(x)\r\n",
        "y_plot = scale_y.inverse_transform(y)\r\n",
        "yhat_plot = scale_y.inverse_transform(yhat)"
      ],
      "execution_count": 12,
      "outputs": []
    },
    {
      "cell_type": "markdown",
      "metadata": {
        "id": "ZPf3RqgJdtwC"
      },
      "source": [
        "## Vizualizace"
      ]
    },
    {
      "cell_type": "code",
      "metadata": {
        "colab": {
          "base_uri": "https://localhost:8080/",
          "height": 295
        },
        "id": "RhySxV7PdwNx",
        "outputId": "50fdcece-c72b-49dd-fa7b-2503c918a53f"
      },
      "source": [
        "# plot x vs yhat\r\n",
        "plt.plot(x_plot,yhat_plot, label='Predicted')\r\n",
        "plt.plot(x_plot, y_plot, label='Original')\r\n",
        "plt.title('Input (x) versus Output (y)')\r\n",
        "plt.xlabel('Input Variable (x)')\r\n",
        "plt.ylabel('Output Variable (y)')\r\n",
        "plt.legend()\r\n",
        "plt.show()"
      ],
      "execution_count": 13,
      "outputs": [
        {
          "output_type": "display_data",
          "data": {
            "image/png": "[encoded data removed]",
            "text/plain": [
              "<Figure size 432x288 with 1 Axes>"
            ]
          },
          "metadata": {
            "tags": [],
            "needs_background": "light"
          }
        }
      ]
    }
  ]
}