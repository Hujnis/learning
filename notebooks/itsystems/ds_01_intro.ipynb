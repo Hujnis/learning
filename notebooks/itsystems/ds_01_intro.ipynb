{
 "cells": [
  {
   "cell_type": "markdown",
   "id": "higher-capability",
   "metadata": {},
   "source": [
    "# Úvod do předmětu"
   ]
  },
  {
   "cell_type": "markdown",
   "id": "significant-exploration",
   "metadata": {},
   "source": [
    "V tmto předmětu, relativně povrchně projdeme některé aspekty práce s daty. Součástí bude i vaše samostatná práce."
   ]
  },
  {
   "cell_type": "markdown",
   "id": "under-performance",
   "metadata": {},
   "source": [
    "## Samostatná práce - zadání"
   ]
  },
  {
   "cell_type": "markdown",
   "id": "recovered-charlotte",
   "metadata": {},
   "source": [
    "> Realizujte webcrawling s využitím knihovny pyppeteer (headless chromium) pro weby s autentizací. Testujte na IS UO. Připravte task pod Apache Airflow. "
   ]
  },
  {
   "cell_type": "markdown",
   "id": "announced-attraction",
   "metadata": {},
   "source": [
    "Webcrawling je technika, při které automaticky stahujete data z webových stránech analyzujete je a vytváříte výsledné datové kompozice.\n",
    "\n",
    "Jedním z efektivních způsobů realizace této úlohy je využití programovatelného prohlížeče. V tomto konkrétním případě lze využít tzv. headless Chromium, což je jádro prohlížeče Chrome. K němu vzniklo několik projektů jako jsou **[puppetter](https://pptr.dev/)** a od něj odvozený **[pyppetter](https://github.com/pyppeteer/pyppeteer)**. První z nich je založena na Javascriptu, druhá na Pythonu."
   ]
  },
  {
   "cell_type": "markdown",
   "id": "invalid-expert",
   "metadata": {},
   "source": [
    "**[Apache Airflow](https://airflow.apache.org/)** je open source projekt pro plánování úloh a jejich distribuované zpracování."
   ]
  },
  {
   "cell_type": "markdown",
   "id": "large-sector",
   "metadata": {},
   "source": [
    "Očekávný výsledek splňuje následující podmínky:\n",
    "\n",
    "- Výsledný projekt je uložený na public úložišti Github.\n",
    "- Klíčové funkcionality jsou popsány a demonstrovány pomocí notebooku v Jupyteru.\n",
    "- Je nastavena otevřená licence (MIT).\n"
   ]
  },
  {
   "cell_type": "markdown",
   "id": "inner-emission",
   "metadata": {},
   "source": [
    "## Nástroje pro práci "
   ]
  },
  {
   "cell_type": "markdown",
   "id": "posted-toilet",
   "metadata": {},
   "source": [
    "Budeme pracovat v prostředí \n",
    "- **[Docker](https://www.docker.com/)**, \n",
    "- **[Jupyter](https://jupyter.org/)**, \n",
    "- **[Postgres](https://www.postgresql.org/)**, \n",
    "- **[MongoDB](https://www.mongodb.com/)**, \n",
    "- **[CouchDB](https://couchdb.apache.org/)**\n",
    "\n",
    "Všechny tyto nástroje si zprovozníme v Dockeru na vašem počítači."
   ]
  },
  {
   "cell_type": "markdown",
   "id": "rising-conjunction",
   "metadata": {},
   "source": [
    "## Docker "
   ]
  },
  {
   "cell_type": "markdown",
   "id": "divine-order",
   "metadata": {},
   "source": [
    "Nástroj pro kontejnerizaci softwarového díla. Řeší problém \"na mém počítači to funguje, nevím, proč to nefunguje tady\".\n",
    "\n",
    "Program (Dockerfile):\n",
    "- definuje prostředí,\n",
    "- vytváří znovuvyužitelné bloky\n",
    "- zaručuje reproductibilitu"
   ]
  },
  {
   "cell_type": "markdown",
   "id": "civil-empty",
   "metadata": {},
   "source": [
    "> **Povinné video**\n",
    ">\n",
    "> [IBM talk](https://www.youtube.com/watch?v=0qotVMX-J5s)\n",
    "\n",
    "> **Doporučené video**\n",
    ">\n",
    "> [Docker in 2h 10min](https://www.youtube.com/watch?v=fqMOX6JJhGo)"
   ]
  },
  {
   "cell_type": "markdown",
   "id": "trying-relevance",
   "metadata": {},
   "source": [
    "### Docker Stack pro výuku"
   ]
  },
  {
   "cell_type": "markdown",
   "id": "turned-knitting",
   "metadata": {},
   "source": [
    "Pro práci v předmětu si nainstalujete následující stack (docker-compose.yml):\n",
    "\n",
    "```yaml\n",
    "version: '3.1'\n",
    "\n",
    "services:\n",
    "  db:\n",
    "    image: mysql:5.6\n",
    "    restart: always\n",
    "    environment:\n",
    "      MYSQL_ROOT_PASSWORD: example\n",
    "    volumes:\n",
    "      - ${CD}/mariadata:/var/lib/mysql\n",
    "\n",
    "  phpmyadmin:\n",
    "    image: phpmyadmin/phpmyadmin\n",
    "    environment:\n",
    "       - PMA_ARBITRARY=1\n",
    "       - PMA_HOST=db\n",
    "    restart: always\n",
    "    ports:\n",
    "       - 31003:80\n",
    "    links:\n",
    "       - db\n",
    "\n",
    "  postgres:\n",
    "    image: postgres\n",
    "    environment:\n",
    "      - POSTGRES_PASSWORD=example\n",
    "    \n",
    "  pgadmin:\n",
    "    image: dpage/pgadmin4\n",
    "    environment:\n",
    "      - PGADMIN_DEFAULT_EMAIL=anoyne@anywhere.com\n",
    "      - PGADMIN_DEFAULT_PASSWORD=example\n",
    "    ports:\n",
    "      - 31006:80\n",
    "\n",
    "  jupyter:\n",
    "    image: jupyter/tensorflow-notebook\n",
    "    restart: always\n",
    "    ports:\n",
    "      - 31002:8888\n",
    "      - 31100:9990\n",
    "      - 31101:9991\n",
    "      - 31102:9992\n",
    "      - 31103:9993\n",
    "    volumes:\n",
    "      - ${CD}/notebooks:/home/jovyan/work\n",
    "\n",
    "  mongo:\n",
    "    image: mongo\n",
    "    restart: always\n",
    "    environment:\n",
    "      MONGO_INITDB_ROOT_USERNAME: root\n",
    "      MONGO_INITDB_ROOT_PASSWORD: example\n",
    "    volumes:\n",
    "      - ${CD}/mongodata:/databackup/db\n",
    "\n",
    "\n",
    "  mongo-express:\n",
    "    image: mongo-express\n",
    "    restart: always\n",
    "    ports:\n",
    "      - 31004:8081\n",
    "    environment:\n",
    "      ME_CONFIG_MONGODB_ADMINUSERNAME: root\n",
    "      ME_CONFIG_MONGODB_ADMINPASSWORD: example\n",
    "    links:\n",
    "       - mongo\n",
    "\n",
    "  couch:\n",
    "    image: apache/couchdb\n",
    "    restart: always\n",
    "    ports:\n",
    "      - 31005:5984 \n",
    "    environment:\n",
    "      COUCHDB_USER: root\n",
    "      COUCHDB_PASSWORD: example\n",
    "    volumes:\n",
    "      - ${CD}/couchdata:/opt/couchdb/data\n",
    "      - ${CD}/couchinit:/opt/couchdb/etc/local.d\n",
    "```"
   ]
  },
  {
   "cell_type": "markdown",
   "id": "square-casino",
   "metadata": {
    "slideshow": {
     "slide_type": "subslide"
    }
   },
   "source": [
    "### Po jednotlivých prvcích"
   ]
  },
  {
   "cell_type": "markdown",
   "id": "double-cable",
   "metadata": {
    "slideshow": {
     "slide_type": "subslide"
    }
   },
   "source": [
    "```yaml\n",
    "version: '3.1'\n",
    "\n",
    "services:\n",
    "  db:\n",
    "    image: mysql:5.6\n",
    "    restart: always\n",
    "    environment:\n",
    "      MYSQL_ROOT_PASSWORD: example\n",
    "    volumes:\n",
    "      - ${CD}/mariadata:/var/lib/mysql\n",
    "\n",
    "  phpmyadmin:\n",
    "    image: phpmyadmin/phpmyadmin\n",
    "    environment:\n",
    "       - PMA_ARBITRARY=1\n",
    "       - PMA_HOST=db\n",
    "    restart: always\n",
    "    ports:\n",
    "       - 31003:80\n",
    "    links:\n",
    "       - db\n",
    "```"
   ]
  },
  {
   "cell_type": "markdown",
   "id": "welsh-stake",
   "metadata": {
    "slideshow": {
     "slide_type": "subslide"
    }
   },
   "source": [
    "```yaml\n",
    "  postgres:\n",
    "    image: postgres\n",
    "    environment:\n",
    "      - POSTGRES_PASSWORD=example\n",
    "\n",
    "  pgadmin:\n",
    "    image: dpage/pgadmin4\n",
    "    environment:\n",
    "      - PGADMIN_DEFAULT_EMAIL=anoyne@anywhere.com\n",
    "      - PGADMIN_DEFAULT_PASSWORD=example\n",
    "    ports:\n",
    "      - 31006:80\n",
    "```"
   ]
  },
  {
   "cell_type": "markdown",
   "id": "reverse-probability",
   "metadata": {
    "slideshow": {
     "slide_type": "subslide"
    }
   },
   "source": [
    "```yaml\n",
    "  jupyter:\n",
    "    image: jupyter/tensorflow-notebook\n",
    "    restart: always\n",
    "    ports:\n",
    "      - 31002:8888\n",
    "      - 31100:9990\n",
    "      - 31101:9991\n",
    "      - 31102:9992\n",
    "      - 31103:9993\n",
    "    volumes:\n",
    "      - ${CD}/notebooks:/home/jovyan/work\n",
    "```"
   ]
  },
  {
   "cell_type": "markdown",
   "id": "neither-windows",
   "metadata": {
    "slideshow": {
     "slide_type": "subslide"
    }
   },
   "source": [
    "```yaml\n",
    "  mongo:\n",
    "    image: mongo\n",
    "    restart: always\n",
    "    environment:\n",
    "      MONGO_INITDB_ROOT_USERNAME: root\n",
    "      MONGO_INITDB_ROOT_PASSWORD: example\n",
    "    volumes:\n",
    "      - ${CD}/mongodata:/databackup/db\n",
    "\n",
    "\n",
    "  mongo-express:\n",
    "    image: mongo-express\n",
    "    restart: always\n",
    "    ports:\n",
    "      - 31004:8081\n",
    "    environment:\n",
    "      ME_CONFIG_MONGODB_ADMINUSERNAME: root\n",
    "      ME_CONFIG_MONGODB_ADMINPASSWORD: example\n",
    "    links:\n",
    "       - mongo\n",
    "```"
   ]
  },
  {
   "cell_type": "markdown",
   "id": "concrete-texture",
   "metadata": {
    "slideshow": {
     "slide_type": "subslide"
    }
   },
   "source": [
    "```yaml\n",
    "  couch:\n",
    "    image: apache/couchdb\n",
    "    restart: always\n",
    "    ports:\n",
    "      - 31005:5984 \n",
    "    environment:\n",
    "      COUCHDB_USER: root\n",
    "      COUCHDB_PASSWORD: example\n",
    "    volumes:\n",
    "      - ${CD}/couchdata:/opt/couchdb/data\n",
    "      - ${CD}/couchinit:/opt/couchdb/etc/local.d\n",
    "```"
   ]
  },
  {
   "cell_type": "markdown",
   "id": "approved-serbia",
   "metadata": {},
   "source": [
    "Tento docker-compose.yml soubor je pro WSL2 na Windows, kde potřebujete i .env soubor ve stejném adresáři\n",
    "```text\n",
    "CD=C:\\develop\\_docker\\jupyter_II\n",
    "```\n",
    "Pro jiné prostředí (Linux) budete muset upravit volumes.\n",
    "\n",
    "V prostředí Windows si stack spustíte pomocí .bat souboru\n",
    "```bat\n",
    "set COMPOSE_CONVERT_WINDOWS_PATHS=1\n",
    "docker-compose -p jupyter_datas up -d\n",
    "pause\n",
    "```"
   ]
  },
  {
   "cell_type": "markdown",
   "id": "rising-public",
   "metadata": {},
   "source": [
    "Stack obsahuje prvky, které budete potřebovat, ale i některé další, bez kterých se obejdete.\n",
    "- **[Jupyter](https://jupyter.org/)** je prostředí pro interaktivní kódování, v tomto případě v \"bohaté konfiguraci\" s podporou jazyka Python.\n",
    "- **[MariaDB](https://mariadb.org/)** a **[Postgres](https://www.postgresql.org/)** jsou SQL databáze\n",
    "- **[phpmyadmin](https://www.phpmyadmin.net/)** a **[pgadmin](https://www.pgadmin.org/)** jsou webová rozhraní pro správu příslušných SQL databází\n",
    "- **[mongo](https://www.mongodb.com/)** a **[couch](https://couchdb.apache.org/)** jsou NoSQL databáze\n",
    "- **[mongo-express](https://github.com/mongo-express/mongo-express)** je webové rozhraní pro mongo, couch má webové rozhraní integrované\n",
    "\n",
    "U Jupytera je zpřístupněna řada portů, které umožňují v rámci kód notebooků tvořit servery.\n",
    "\n",
    "> PostgreSQL je instalovaný způsobem, který umožňuje přístup jen aplikacím ve stacku. Co musíte změnit, abyste jej mohli využívat i mimo stack?"
   ]
  },
  {
   "cell_type": "markdown",
   "id": "excellent-enlargement",
   "metadata": {
    "slideshow": {
     "slide_type": "subslide"
    }
   },
   "source": [
    "### Javascript Kernel in Jupyter"
   ]
  },
  {
   "cell_type": "markdown",
   "id": "premier-valuation",
   "metadata": {
    "slideshow": {
     "slide_type": "subslide"
    }
   },
   "source": [
    "Je potřeba kernel doinstalovat.\n",
    "\n",
    "Následující příkazy spustíte na příkazovém řádku kontejneru Jupyter\n",
    "```\n",
    "npm install -g tslab\n",
    "```\n",
    "Všimněte si hlášky `found xy vulnerabilities`."
   ]
  },
  {
   "cell_type": "markdown",
   "id": "imported-persian",
   "metadata": {
    "slideshow": {
     "slide_type": "fragment"
    }
   },
   "source": [
    "Ověřte si dostupnost tslab (není nezbytné)\n",
    "```\n",
    "tslab install --version\n",
    "```"
   ]
  },
  {
   "cell_type": "markdown",
   "id": "maritime-oxide",
   "metadata": {},
   "source": [
    "Vlastní registrace do seznamu kernelů\n",
    "```\n",
    "tslab install [--python=python3]\n",
    "```"
   ]
  },
  {
   "cell_type": "markdown",
   "id": "horizontal-export",
   "metadata": {},
   "source": [
    "možná bude třeba spustit bez parametrů\n",
    "```\n",
    "tslab install\n",
    "```"
   ]
  },
  {
   "cell_type": "markdown",
   "id": "subtle-differential",
   "metadata": {},
   "source": [
    "Ověřte si dostupnost kernelů\n",
    "```\n",
    "jupyter kernelspec list\n",
    "```"
   ]
  },
  {
   "cell_type": "markdown",
   "id": "periodic-bobby",
   "metadata": {
    "slideshow": {
     "slide_type": "subslide"
    }
   },
   "source": [
    "### Portainer"
   ]
  },
  {
   "cell_type": "markdown",
   "id": "reasonable-martin",
   "metadata": {
    "slideshow": {
     "slide_type": "subslide"
    }
   },
   "source": [
    "Portainer ve verzi CE je volně dostupný kontejner pro administraci kontejnerů.\n",
    "\n",
    "Nainstalujete jej následujícím způsobem.\n",
    "\n",
    "Vytvoříte persistent volume (kvůli potřebě uchovat pro případné reinstalace)\n",
    "\n",
    "```\n",
    "docker volume create portainer_data\n",
    "```\n",
    "\n",
    "```\n",
    "docker run -d -p 8000:8000 -p 9000:9000 --name=portainer --restart=always -v /var/run/docker.sock:/var/run/docker.sock -v portainer_data:/data portainer/portainer-ce\n",
    "```"
   ]
  }
 ],
 "metadata": {
  "kernelspec": {
   "display_name": "Python 3",
   "language": "python",
   "name": "python3"
  },
  "language_info": {
   "codemirror_mode": {
    "name": "ipython",
    "version": 3
   },
   "file_extension": ".py",
   "mimetype": "text/x-python",
   "name": "python",
   "nbconvert_exporter": "python",
   "pygments_lexer": "ipython3",
   "version": "3.8.8"
  }
 },
 "nbformat": 4,
 "nbformat_minor": 5
}
