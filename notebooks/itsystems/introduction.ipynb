{
  "nbformat": 4,
  "nbformat_minor": 0,
  "metadata": {
    "colab": {
      "name": "Uvod.ipynb",
      "provenance": [],
      "collapsed_sections": [],
      "authorship_tag": "ABX9TyOXAl8SQhq+OryBPfUTB2Uz",
      "include_colab_link": true
    },
    "kernelspec": {
      "name": "python3",
      "display_name": "Python 3"
    }
  },
  "cells": [
    {
      "cell_type": "markdown",
      "metadata": {
        "id": "view-in-github",
        "colab_type": "text"
      },
      "source": [
        "<a href=\"https://colab.research.google.com/github/hrbolek/learning/blob/master/itsystems/introduction.ipynb\" target=\"_parent\"><img src=\"https://colab.research.google.com/assets/colab-badge.svg\" alt=\"Open In Colab\"/></a>"
      ]
    },
    {
      "cell_type": "code",
      "metadata": {
        "id": "edNdvpyPKmdX",
        "colab_type": "code",
        "colab": {}
      },
      "source": [
        ""
      ],
      "execution_count": 0,
      "outputs": []
    },
    {
      "cell_type": "markdown",
      "metadata": {
        "id": "dAy6VpvuUJfu",
        "colab_type": "text"
      },
      "source": [
        "# Úvodní instalace\n",
        "Každý máte připravený virtuální počítač, na kterém si nainstalujete docker, spustíte Portainer a začnete vytvářet kontejnery."
      ]
    },
    {
      "cell_type": "markdown",
      "metadata": {
        "id": "3Ptxmf8fUNzv",
        "colab_type": "text"
      },
      "source": [
        "# Putty\n",
        "Program pro komunikaci přes ssh\n",
        "https://www.puttygen.com/download-putty\n",
        "s jeho pomocí se připojíte na server. Všechny následující příkazy jsou realizovatelné přes něj.\n",
        "\n",
        "Putty po instalaci spustíte a připojíte se na svůj server na port 22, což je standardní ssh port.\n",
        "\n",
        "Tady by se mohl objevit problém s tím, že musíte zjisti IP vašeho virtuálního počítače. Možná se budete muset vrátit ke konfiguraci vašeho virtuálního počítače z hlediska síťového připojení, kde je nejvhodnější most."
      ]
    },
    {
      "cell_type": "markdown",
      "metadata": {
        "id": "efZ1SixWK0-k",
        "colab_type": "text"
      },
      "source": [
        "## Docker příprava\n",
        "https://docs.docker.com/install/linux/docker-ce/ubuntu/\n",
        "```console\n",
        "$ sudo apt-get update\n",
        "```\n",
        "\n",
        "```console\n",
        "$ sudo apt-get install \\\n",
        "    apt-transport-https \\\n",
        "    ca-certificates \\\n",
        "    curl \\\n",
        "    gnupg-agent \\\n",
        "    software-properties-common\n",
        "```\n",
        "\n",
        "```console\n",
        "$ curl -fsSL https://download.docker.com/linux/ubuntu/gpg | sudo apt-key add -\n",
        "```\n",
        "Ověření otisku\n",
        "```console\n",
        "$ sudo apt-key fingerprint 0EBFCD88\n",
        "```\n",
        "Očekávaný výstup:\n",
        "```console\n",
        "pub   rsa4096 2017-02-22 [SCEA]\n",
        "      9DC8 5822 9FC7 DD38 854A  E2D8 8D81 803C 0EBF CD88\n",
        "uid           [ unknown] Docker Release (CE deb) <docker@docker.com>\n",
        "sub   rsa4096 2017-02-22 [S]\n",
        "```\n",
        "\n",
        "```console\n",
        "$ sudo add-apt-repository \\\n",
        "   \"deb [arch=amd64] https://download.docker.com/linux/ubuntu \\\n",
        "   $(lsb_release -cs) \\\n",
        "   stable\"\n",
        "```"
      ]
    },
    {
      "cell_type": "markdown",
      "metadata": {
        "id": "6B4dhMwWi-lA",
        "colab_type": "text"
      },
      "source": [
        "# Něco o Dockeru\n",
        "\n",
        "Dříve, že provedete instalaci podle následujícího návodu, shlédněte toto video:\n",
        "\n",
        "https://www.youtube.com/watch?v=fqMOX6JJhGo\n",
        "\n",
        "trvá to dvě hodiny, ale stojí to za to. Předpokládám, že angličina vám nedělá problémy."
      ]
    },
    {
      "cell_type": "markdown",
      "metadata": {
        "id": "bb71qTy6MwGl",
        "colab_type": "text"
      },
      "source": [
        "## Install Docker Comunity\n",
        "\n",
        "```console\n",
        "$ sudo apt-get update\n",
        "```\n",
        "```console\n",
        "$ sudo apt-get install docker-ce docker-ce-cli containerd.io\n",
        "```\n",
        "Ověření úspěšné instalace\n",
        "```console\n",
        "$ sudo docker run hello-world\n",
        "```\n",
        "```console\n",
        "Hello from Docker!\n",
        "This message shows that your installation appears to be working correctly.\n",
        "\n",
        "To generate this message, Docker took the following steps:\n",
        " 1. The Docker client contacted the Docker daemon.\n",
        " 2. The Docker daemon pulled the \"hello-world\" image from the Docker Hub.\n",
        "    (amd64)\n",
        " 3. The Docker daemon created a new container from that image which runs the\n",
        "    executable that produces the output you are currently reading.\n",
        " 4. The Docker daemon streamed that output to the Docker client, which sent it\n",
        "    to your terminal.\n",
        "\n",
        "To try something more ambitious, you can run an Ubuntu container with:\n",
        " $ docker run -it ubuntu bash\n",
        "\n",
        "Share images, automate workflows, and more with a free Docker ID:\n",
        " https://hub.docker.com/\n",
        "\n",
        "For more examples and ideas, visit:\n",
        " https://docs.docker.com/get-started/\n",
        "```"
      ]
    },
    {
      "cell_type": "markdown",
      "metadata": {
        "id": "ks9TonjCIeI6",
        "colab_type": "text"
      },
      "source": [
        "## Upozornění\n",
        "Předpokládá se, že svůj počítač máte za firewallem! Tímto firewallem není myšlen softwarový, ale firewall integrovaný typicky do routeru."
      ]
    },
    {
      "cell_type": "markdown",
      "metadata": {
        "id": "W-vtOMEiYBLx",
        "colab_type": "text"
      },
      "source": [
        "# Docker Swarm\n",
        "Swarm je mód ve kterém můžete propojit více počítačů a ty se poté společně tváří jako jeden počítač. Problematika je trochu složitější, ale pro tuto chvíli to stačí.\n",
        "\n",
        "Pro inicializaci musíte zadat následující příkaz:\n",
        "```console\n",
        "$ sudo docker swarm init\n",
        "```"
      ]
    },
    {
      "cell_type": "markdown",
      "metadata": {
        "id": "Z0RZOHJwjX-a",
        "colab_type": "text"
      },
      "source": [
        "# Správa Dockeru\n",
        "Předpokládá se použití příkazové řádky, ale mnohé lze automatizovat, případně využít různých webových aplikací. Jednou z nich je Portainer. Umí toho docela dost a nám leccos usnadní."
      ]
    },
    {
      "cell_type": "markdown",
      "metadata": {
        "id": "sp9HX48hNWuN",
        "colab_type": "text"
      },
      "source": [
        "# Instalace Portainer\n",
        "https://portainer.readthedocs.io/en/stable/deployment.html\n",
        "\n",
        "Vytvoření trvalého úložiště\n",
        "```console\n",
        "$ sudo docker volume create portainer_data\n",
        "```\n",
        "```console\n",
        "$ sudo docker run -d -p 9000:9000 --name portainer --restart always -v /var/run/docker.sock:/var/run/docker.sock -v portainer_data:/data portainer/portainer\n",
        "```"
      ]
    },
    {
      "cell_type": "markdown",
      "metadata": {
        "id": "t3QLGE_xORe0",
        "colab_type": "text"
      },
      "source": [
        "# Run Portainer\n",
        "V adresním řádku prohlížeče zadáte adresu:\n",
        "```console\n",
        "http://localhost:9000\n",
        "```\n",
        "\n",
        "Zvolte si jméno a heslo, obojí si zapamatujte, budete je potřebovat při dalších přihlášeních.\n",
        "\n",
        "Jako endpoint zvolte local.\n",
        "\n",
        "Více zase příště.\n"
      ]
    }
  ]
}