{
 "cells": [
  {
   "cell_type": "markdown",
   "id": "spoken-stake",
   "metadata": {},
   "source": [
    "# Úvod do II. části předmětu"
   ]
  },
  {
   "cell_type": "markdown",
   "id": "rubber-charles",
   "metadata": {},
   "source": [
    "V tomto předmětu, relativně povrchně projdeme některé aspekty práce s daty. Součástí bude i vaše samostatná práce."
   ]
  },
  {
   "cell_type": "markdown",
   "id": "private-findings",
   "metadata": {},
   "source": [
    "## Samostatná práce - zadání"
   ]
  },
  {
   "cell_type": "markdown",
   "id": "determined-buyer",
   "metadata": {},
   "source": [
    "1. Pomocí Docker (https://docker-curriculum.com/) zprovozněte Postgres (najděte patřičný image na docker hubu). Své DB schema ze zadání 1. části přeneste na PG. Připojte Apollo server pro Graph QL (https://www.apollographql.com/docs/apollo-server/). Využijte docker-compose. Připravte nejjednodušší klientskou aplikaci pro demonstraci funkčnosti. Výsledek publikujte s licencí MIT na Githubu (https://guides.github.com/activities/hello-world/). Prvky zadání si sami rozdělte mezi sebe.\n",
    "2. Zprovozněte PG jako cluster (pgpool_II https://www.pgpool.net/mediawiki/index.php/Main_Page nebo Citus https://www.citusdata.com/download/ )\n",
    "3. Zabezpečte inicializaci DB-schéma při spuštění kontejnerů.\n",
    "\n",
    "Úkol 1 je skupinový, prezentaci k němu si připravte na konec semestru. Úkoly 2 a 3 jsou dobrovolné, „nad rámec“.\n"
   ]
  },
  {
   "cell_type": "markdown",
   "id": "passing-acquisition",
   "metadata": {},
   "source": [
    "Očekávný výsledek splňuje následující podmínky:\n",
    "\n",
    "- Výsledný projekt je uložený na public úložišti Github.\n",
    "- Je nastavena otevřená licence (MIT).\n"
   ]
  },
  {
   "cell_type": "markdown",
   "id": "alone-carbon",
   "metadata": {},
   "source": [
    "## Nástroje pro práci "
   ]
  },
  {
   "cell_type": "markdown",
   "id": "functioning-service",
   "metadata": {},
   "source": [
    "Budeme pracovat v prostředí \n",
    "- **[Docker](https://www.docker.com/)**, \n",
    "- **[Jupyter](https://jupyter.org/)**, \n",
    "- **[Postgres](https://www.postgresql.org/)**, \n",
    "- **[MongoDB](https://www.mongodb.com/)**, \n",
    "- **[CouchDB](https://couchdb.apache.org/)**\n",
    "\n",
    "Všechny tyto nástroje si zprovozníme v Dockeru na vašem počítači."
   ]
  },
  {
   "cell_type": "markdown",
   "id": "potential-rally",
   "metadata": {},
   "source": [
    "## Docker "
   ]
  },
  {
   "cell_type": "markdown",
   "id": "polish-canadian",
   "metadata": {},
   "source": [
    "Nástroj pro kontejnerizaci softwarového díla. Řeší problém \"na mém počítači to funguje, nevím, proč to nefunguje tady\".\n",
    "\n",
    "Program (Dockerfile):\n",
    "- definuje prostředí,\n",
    "- vytváří znovuvyužitelné bloky\n",
    "- zaručuje reproductibilitu"
   ]
  },
  {
   "cell_type": "markdown",
   "id": "unlimited-uruguay",
   "metadata": {},
   "source": [
    "> **Povinné video**\n",
    ">\n",
    "> [IBM talk](https://www.youtube.com/watch?v=0qotVMX-J5s)\n",
    "\n",
    "> **Doporučené video**\n",
    ">\n",
    "> [Docker in 2h 10min](https://www.youtube.com/watch?v=fqMOX6JJhGo)"
   ]
  },
  {
   "cell_type": "markdown",
   "id": "magnetic-harrison",
   "metadata": {},
   "source": [
    "### Docker Stack pro výuku"
   ]
  },
  {
   "cell_type": "markdown",
   "id": "lasting-carry",
   "metadata": {},
   "source": [
    "Pro práci v předmětu si nainstalujete následující stack (docker-compose.yml):\n",
    "\n",
    "```yaml\n",
    "version: '3.1'\n",
    "\n",
    "services:\n",
    "  db:\n",
    "    image: mysql:5.6\n",
    "    restart: always\n",
    "    environment:\n",
    "      MYSQL_ROOT_PASSWORD: example\n",
    "    volumes:\n",
    "      - ${CD}/mariadata:/var/lib/mysql\n",
    "\n",
    "  phpmyadmin:\n",
    "    image: phpmyadmin/phpmyadmin\n",
    "    environment:\n",
    "       - PMA_ARBITRARY=1\n",
    "       - PMA_HOST=db\n",
    "    restart: always\n",
    "    ports:\n",
    "       - 31003:80\n",
    "    links:\n",
    "       - db\n",
    "\n",
    "  postgres:\n",
    "    image: postgres\n",
    "    environment:\n",
    "      - POSTGRES_PASSWORD=example\n",
    "    \n",
    "  pgadmin:\n",
    "    image: dpage/pgadmin4\n",
    "    environment:\n",
    "      - PGADMIN_DEFAULT_EMAIL=anoyne@anywhere.com\n",
    "      - PGADMIN_DEFAULT_PASSWORD=example\n",
    "    ports:\n",
    "      - 31006:80\n",
    "\n",
    "  jupyter:\n",
    "    image: jupyter/tensorflow-notebook\n",
    "    restart: always\n",
    "    ports:\n",
    "      - 31002:8888\n",
    "      - 31100:9990\n",
    "      - 31101:9991\n",
    "      - 31102:9992\n",
    "      - 31103:9993\n",
    "    volumes:\n",
    "      - ${CD}/notebooks:/home/jovyan/work\n",
    "\n",
    "  mongo:\n",
    "    image: mongo\n",
    "    restart: always\n",
    "    environment:\n",
    "      MONGO_INITDB_ROOT_USERNAME: root\n",
    "      MONGO_INITDB_ROOT_PASSWORD: example\n",
    "    volumes:\n",
    "      - ${CD}/mongodata:/databackup/db\n",
    "\n",
    "\n",
    "  mongo-express:\n",
    "    image: mongo-express\n",
    "    restart: always\n",
    "    ports:\n",
    "      - 31004:8081\n",
    "    environment:\n",
    "      ME_CONFIG_MONGODB_ADMINUSERNAME: root\n",
    "      ME_CONFIG_MONGODB_ADMINPASSWORD: example\n",
    "    links:\n",
    "       - mongo\n",
    "\n",
    "  couch:\n",
    "    image: apache/couchdb\n",
    "    restart: always\n",
    "    ports:\n",
    "      - 31005:5984 \n",
    "    environment:\n",
    "      COUCHDB_USER: root\n",
    "      COUCHDB_PASSWORD: example\n",
    "    volumes:\n",
    "      - ${CD}/couchdata:/opt/couchdb/data\n",
    "      - ${CD}/couchinit:/opt/couchdb/etc/local.d\n",
    "```"
   ]
  },
  {
   "cell_type": "markdown",
   "id": "wicked-print",
   "metadata": {
    "slideshow": {
     "slide_type": "subslide"
    }
   },
   "source": [
    "### Po jednotlivých prvcích"
   ]
  },
  {
   "cell_type": "markdown",
   "id": "wooden-survivor",
   "metadata": {
    "slideshow": {
     "slide_type": "subslide"
    }
   },
   "source": [
    "```yaml\n",
    "version: '3.1'\n",
    "\n",
    "services:\n",
    "  db:\n",
    "    image: mysql:5.6\n",
    "    restart: always\n",
    "    environment:\n",
    "      MYSQL_ROOT_PASSWORD: example\n",
    "    volumes:\n",
    "      - ${CD}/mariadata:/var/lib/mysql\n",
    "\n",
    "  phpmyadmin:\n",
    "    image: phpmyadmin/phpmyadmin\n",
    "    environment:\n",
    "       - PMA_ARBITRARY=1\n",
    "       - PMA_HOST=db\n",
    "    restart: always\n",
    "    ports:\n",
    "       - 31003:80\n",
    "    links:\n",
    "       - db\n",
    "```"
   ]
  },
  {
   "cell_type": "markdown",
   "id": "theoretical-october",
   "metadata": {
    "slideshow": {
     "slide_type": "subslide"
    }
   },
   "source": [
    "```yaml\n",
    "  postgres:\n",
    "    image: postgres\n",
    "    environment:\n",
    "      - POSTGRES_PASSWORD=example\n",
    "\n",
    "  pgadmin:\n",
    "    image: dpage/pgadmin4\n",
    "    environment:\n",
    "      - PGADMIN_DEFAULT_EMAIL=anoyne@anywhere.com\n",
    "      - PGADMIN_DEFAULT_PASSWORD=example\n",
    "    ports:\n",
    "      - 31006:80\n",
    "```"
   ]
  },
  {
   "cell_type": "markdown",
   "id": "labeled-summary",
   "metadata": {
    "slideshow": {
     "slide_type": "subslide"
    }
   },
   "source": [
    "```yaml\n",
    "  jupyter:\n",
    "    image: jupyter/tensorflow-notebook\n",
    "    restart: always\n",
    "    ports:\n",
    "      - 31002:8888\n",
    "      - 31100:9990\n",
    "      - 31101:9991\n",
    "      - 31102:9992\n",
    "      - 31103:9993\n",
    "    volumes:\n",
    "      - ${CD}/notebooks:/home/jovyan/work\n",
    "```"
   ]
  },
  {
   "cell_type": "markdown",
   "id": "advance-worthy",
   "metadata": {
    "slideshow": {
     "slide_type": "subslide"
    }
   },
   "source": [
    "```yaml\n",
    "  mongo:\n",
    "    image: mongo\n",
    "    restart: always\n",
    "    environment:\n",
    "      MONGO_INITDB_ROOT_USERNAME: root\n",
    "      MONGO_INITDB_ROOT_PASSWORD: example\n",
    "    volumes:\n",
    "      - ${CD}/mongodata:/databackup/db\n",
    "\n",
    "\n",
    "  mongo-express:\n",
    "    image: mongo-express\n",
    "    restart: always\n",
    "    ports:\n",
    "      - 31004:8081\n",
    "    environment:\n",
    "      ME_CONFIG_MONGODB_ADMINUSERNAME: root\n",
    "      ME_CONFIG_MONGODB_ADMINPASSWORD: example\n",
    "    links:\n",
    "       - mongo\n",
    "```"
   ]
  },
  {
   "cell_type": "markdown",
   "id": "perceived-daughter",
   "metadata": {
    "slideshow": {
     "slide_type": "subslide"
    }
   },
   "source": [
    "```yaml\n",
    "  couch:\n",
    "    image: apache/couchdb\n",
    "    restart: always\n",
    "    ports:\n",
    "      - 31005:5984 \n",
    "    environment:\n",
    "      COUCHDB_USER: root\n",
    "      COUCHDB_PASSWORD: example\n",
    "    volumes:\n",
    "      - ${CD}/couchdata:/opt/couchdb/data\n",
    "      - ${CD}/couchinit:/opt/couchdb/etc/local.d\n",
    "```"
   ]
  },
  {
   "cell_type": "markdown",
   "id": "advanced-vegetable",
   "metadata": {},
   "source": [
    "Tento docker-compose.yml soubor je pro WSL2 na Windows, kde potřebujete i .env soubor ve stejném adresáři\n",
    "```text\n",
    "CD=C:\\develop\\_docker\\jupyter_II\n",
    "```\n",
    "Pro jiné prostředí (Linux) budete muset upravit volumes.\n",
    "\n",
    "V prostředí Windows si stack spustíte pomocí .bat souboru\n",
    "```bat\n",
    "set COMPOSE_CONVERT_WINDOWS_PATHS=1\n",
    "docker-compose -p jupyter_datas up -d\n",
    "pause\n",
    "```"
   ]
  },
  {
   "cell_type": "markdown",
   "id": "adverse-karaoke",
   "metadata": {},
   "source": [
    "Stack obsahuje prvky, které budete potřebovat, ale i některé další, bez kterých se obejdete.\n",
    "- **[Jupyter](https://jupyter.org/)** je prostředí pro interaktivní kódování, v tomto případě v \"bohaté konfiguraci\" s podporou jazyka Python.\n",
    "- **[MariaDB](https://mariadb.org/)** a **[Postgres](https://www.postgresql.org/)** jsou SQL databáze\n",
    "- **[phpmyadmin](https://www.phpmyadmin.net/)** a **[pgadmin](https://www.pgadmin.org/)** jsou webová rozhraní pro správu příslušných SQL databází\n",
    "- **[mongo](https://www.mongodb.com/)** a **[couch](https://couchdb.apache.org/)** jsou NoSQL databáze\n",
    "- **[mongo-express](https://github.com/mongo-express/mongo-express)** je webové rozhraní pro mongo, couch má webové rozhraní integrované\n",
    "\n",
    "U Jupytera je zpřístupněna řada portů, které umožňují v rámci kód notebooků tvořit servery.\n",
    "\n",
    "> PostgreSQL je instalovaný způsobem, který umožňuje přístup jen aplikacím ve stacku. Co musíte změnit, abyste jej mohli využívat i mimo stack?"
   ]
  },
  {
   "cell_type": "markdown",
   "id": "finnish-blanket",
   "metadata": {
    "slideshow": {
     "slide_type": "subslide"
    }
   },
   "source": [
    "### Javascript Kernel in Jupyter"
   ]
  },
  {
   "cell_type": "markdown",
   "id": "moral-dining",
   "metadata": {
    "slideshow": {
     "slide_type": "subslide"
    }
   },
   "source": [
    "Je potřeba kernel doinstalovat.\n",
    "\n",
    "Následující příkazy spustíte na příkazovém řádku kontejneru Jupyter\n",
    "```\n",
    "npm install -g tslab\n",
    "```\n",
    "Všimněte si hlášky `found xy vulnerabilities`."
   ]
  },
  {
   "cell_type": "markdown",
   "id": "honest-merchant",
   "metadata": {
    "slideshow": {
     "slide_type": "fragment"
    }
   },
   "source": [
    "Ověřte si dostupnost tslab (není nezbytné)\n",
    "```\n",
    "tslab install --version\n",
    "```"
   ]
  },
  {
   "cell_type": "markdown",
   "id": "criminal-cincinnati",
   "metadata": {},
   "source": [
    "Vlastní registrace do seznamu kernelů\n",
    "```\n",
    "tslab install [--python=python3]\n",
    "```"
   ]
  },
  {
   "cell_type": "markdown",
   "id": "cardiac-edinburgh",
   "metadata": {},
   "source": [
    "možná bude třeba spustit bez parametrů\n",
    "```\n",
    "tslab install\n",
    "```"
   ]
  },
  {
   "cell_type": "markdown",
   "id": "bizarre-implementation",
   "metadata": {},
   "source": [
    "Ověřte si dostupnost kernelů\n",
    "```\n",
    "jupyter kernelspec list\n",
    "```"
   ]
  },
  {
   "cell_type": "markdown",
   "id": "amended-century",
   "metadata": {
    "slideshow": {
     "slide_type": "subslide"
    }
   },
   "source": [
    "### Portainer"
   ]
  },
  {
   "cell_type": "markdown",
   "id": "international-polish",
   "metadata": {
    "slideshow": {
     "slide_type": "subslide"
    }
   },
   "source": [
    "Portainer ve verzi CE je volně dostupný kontejner pro administraci kontejnerů.\n",
    "\n",
    "Nainstalujete jej následujícím způsobem.\n",
    "\n",
    "Vytvoříte persistent volume (kvůli potřebě uchovat pro případné reinstalace)\n",
    "\n",
    "```\n",
    "docker volume create portainer_data\n",
    "```\n",
    "\n",
    "```\n",
    "docker run -d -p 8000:8000 -p 9000:9000 --name=portainer --restart=always -v /var/run/docker.sock:/var/run/docker.sock -v portainer_data:/data portainer/portainer-ce\n",
    "```"
   ]
  }
 ],
 "metadata": {
  "kernelspec": {
   "display_name": "Python 3 (ipykernel)",
   "language": "python",
   "name": "python3"
  },
  "language_info": {
   "codemirror_mode": {
    "name": "ipython",
    "version": 3
   },
   "file_extension": ".py",
   "mimetype": "text/x-python",
   "name": "python",
   "nbconvert_exporter": "python",
   "pygments_lexer": "ipython3",
   "version": "3.9.7"
  }
 },
 "nbformat": 4,
 "nbformat_minor": 5
}
