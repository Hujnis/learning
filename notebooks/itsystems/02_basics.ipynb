{
 "cells": [
  {
   "cell_type": "markdown",
   "metadata": {
    "slideshow": {
     "slide_type": "slide"
    }
   },
   "source": [
    "# Základy"
   ]
  },
  {
   "cell_type": "markdown",
   "metadata": {
    "slideshow": {
     "slide_type": "subslide"
    }
   },
   "source": [
    "## Poznámky"
   ]
  },
  {
   "cell_type": "markdown",
   "metadata": {
    "slideshow": {
     "slide_type": "subslide"
    }
   },
   "source": [
    "> Pokud si myslíte, že jste vynikajícími programátory, velmi pravděpodobně se mýlíte.\n",
    "\n",
    "> Pokud si myslíte, že vám ve všem poradím, byť jen ohledně programování, určitě se mýlíte.\n",
    "\n",
    "> Pokud si myslíte, že někdy dospějete do bodu, že všemu rozumíte, určitě se mýlíte."
   ]
  },
  {
   "cell_type": "markdown",
   "metadata": {
    "slideshow": {
     "slide_type": "subslide"
    }
   },
   "source": [
    "Pravděpodobně nejdůležitější znalostí v IT je znalost systémové integrace. Generace vašich rodičů byla zvyklá si jednotlivé části IS naprogramovat sama. Dnes se nejdříve musíte pečlivě rozhlédnout, jestli části vašeho problému již nebyly vyřešeny a zda tato řešení jste schopni efektivně (a bezpečně) integrovat. Nezadbatelnou překážkou pro systémovou integraci je schopnost použít definované rozhraní (interface) a bezpečně odstínit implementaci (černou skříňku).\n",
    "\n",
    "Troufale si dovolím tvrdit, že vývoj čistě pro Windows (služby) je na konci svého života. Je zde několik ukazatelů, které tuto tezi podporují:\n",
    "1. Cloud a konteinerizace řešení.\n",
    "2. Snaha MS o integraci Linuxu (Azure je Linux based), .Net lze provozovat v kontejnerech.\n",
    "3. Trh, jehož služby jsou na Linuxu (Součást 1).\n",
    "4. Zásadní procento aplikací je ve formě web aplikací."
   ]
  },
  {
   "cell_type": "markdown",
   "metadata": {
    "slideshow": {
     "slide_type": "subslide"
    }
   },
   "source": [
    "V průběhu studia tohoto předmětu se zaměříme na dva jazyky (byť se při různých příležitostech dotkneme i dalších) a to [Python](https://www.python.org/) a [Javascript](https://developer.mozilla.org/en-US/docs/Web/JavaScript/Language_Resources). Komunita kolem Python sdílí své knihovny pomocí pypi https://pypi.org/, pro Javascript jsou zde npm balíčky https://www.npmjs.com/.\n",
    "\n",
    "Pro vývoj doporučuji využívat [Visual Studio Code](https://code.visualstudio.com/), které spolu s dostupnými rozšířeními pokryje veškeré naše aktuální potřeby.\n",
    "\n",
    "Chcete-li být hodně \"in\" a tak trochu \"edge\", rozjeďte si https://github.com/cdr/code-server v [Dockeru](https://www.docker.com)."
   ]
  },
  {
   "cell_type": "markdown",
   "metadata": {
    "slideshow": {
     "slide_type": "subslide"
    }
   },
   "source": [
    "### Windows"
   ]
  },
  {
   "cell_type": "markdown",
   "metadata": {
    "slideshow": {
     "slide_type": "fragment"
    }
   },
   "source": [
    "Pokud jste se rozhodli pracovat ve Windows, zajistěte si [WSL2](https://docs.microsoft.com/en-us/windows/wsl/), [Docker Desktop](https://www.docker.com/products/docker-desktop), připravte si [Portainer](https://www.portainer.io/). \n",
    "Přístup k souborů ve WSL2 lze řešit přes síťový název \\\\wsl$. Toto je preferovaná konfigurace.\n",
    "Alternativně můžete použít VirtualBox s nainstalovaným linuxem (**[Ubuntu](https://www.ubuntu.cz/)**)."
   ]
  },
  {
   "cell_type": "markdown",
   "metadata": {
    "slideshow": {
     "slide_type": "subslide"
    }
   },
   "source": [
    "### Linux"
   ]
  },
  {
   "cell_type": "markdown",
   "metadata": {
    "slideshow": {
     "slide_type": "fragment"
    }
   },
   "source": [
    "Pokud jste se rozhodli pracovat v Linuxu, nainstalujte si [Docker](https://docs.docker.com/engine/install/ubuntu/), připravte si [Portainer](https://www.portainer.io/). Visual Studio Code lze zprovoznit na Linuxu [též](https://code.visualstudio.com/docs/setup/linux).\n",
    "\n",
    "Lze docela dobře pracovat i Raspberry Pi 4 (8GB) nebo [Raspberry Pi 400](https://www.raspberrypi.org/blog/raspberry-pi-400-the-70-desktop-pc/)."
   ]
  },
  {
   "cell_type": "markdown",
   "metadata": {
    "slideshow": {
     "slide_type": "slide"
    }
   },
   "source": [
    "## GIT"
   ]
  },
  {
   "cell_type": "markdown",
   "metadata": {
    "slideshow": {
     "slide_type": "subslide"
    }
   },
   "source": [
    "Nástroj pro spolupráci při tvorbě a správu kódu.\n",
    "\n",
    "https://rogerdudler.github.io/git-guide/\n",
    "    \n",
    "[GIT](https://git-scm.com/) je nástroj pro distubovanou správu verzí. Spravovat verze můžete u mnohy věcí a docela dobře to pasuje na zdrojový kód projektů.\n",
    "\n",
    "Při vývoji, kdy nepracujete sami, ale v týmu musíte řešit správu kódu. Jední z klíčových problémů je \n",
    "\n",
    "GIT vznikl někdy kolem roku 2005 jako náhrada nefunkčního nástroje pro správu zdrojových kódu jádra Linuxu.\n",
    "\n",
    "- GIT pracuje na bázi celých souborů, které jsou uloženy s historií jejich verzí. To je odlišné od jiných podobných nástrojů, které ukládají změny. \n",
    "- GIT má veškeré informace uloženy lokálně.\n",
    "\n",
    "Znáte a používáte, ...\n",
    "  \n"
   ]
  },
  {
   "cell_type": "markdown",
   "metadata": {
    "slideshow": {
     "slide_type": "subslide"
    }
   },
   "source": [
    "> **Doporučené video**\n",
    "> \n",
    "> [Git and GitHub for Beginners - Crash Course, 1h 8min](https://www.youtube.com/watch?v=RGOj5yH7evk)"
   ]
  },
  {
   "cell_type": "markdown",
   "metadata": {
    "slideshow": {
     "slide_type": "subslide"
    }
   },
   "source": [
    "### Github"
   ]
  },
  {
   "cell_type": "markdown",
   "metadata": {
    "slideshow": {
     "slide_type": "fragment"
    }
   },
   "source": [
    "Github byl před několika lety koupen Microsoftem a je jedním z nejpoužívanějších řešení pro GIT.\n",
    "\n",
    "> **Doporučené video**\n",
    ">\n",
    "> [Git a Github, ve slovenštině](https://www.youtube.com/watch?v=0v5K4GvK4Gs)\n",
    "\n",
    "https://training.github.com/"
   ]
  },
  {
   "cell_type": "markdown",
   "metadata": {
    "slideshow": {
     "slide_type": "slide"
    }
   },
   "source": [
    "## Docker "
   ]
  },
  {
   "cell_type": "markdown",
   "metadata": {
    "slideshow": {
     "slide_type": "subslide"
    }
   },
   "source": [
    "Nástroj pro kontejnerizaci softwarového díla. Řeší problém \"na mém počítači to funguje, nevím, proč to nefunguje tady\".\n",
    "\n",
    "Program (Dockerfile):\n",
    "- definuje prostředí,\n",
    "- vytváří znovuvyužitelné bloky\n",
    "- zaručuje reproductibilitu"
   ]
  },
  {
   "cell_type": "markdown",
   "metadata": {
    "slideshow": {
     "slide_type": "subslide"
    }
   },
   "source": [
    "> **Povinné video**\n",
    ">\n",
    "> [IBM talk](https://www.youtube.com/watch?v=0qotVMX-J5s)\n",
    "\n",
    "> **Doporučené video**\n",
    ">\n",
    "> [Docker in 2h 10min](https://www.youtube.com/watch?v=fqMOX6JJhGo)"
   ]
  },
  {
   "cell_type": "markdown",
   "metadata": {
    "slideshow": {
     "slide_type": "subslide"
    }
   },
   "source": [
    "### Docker Stack"
   ]
  },
  {
   "cell_type": "markdown",
   "metadata": {},
   "source": [
    "Pro práci v předmětu doporučuji si nainstalovat následující stack (docker-compose.yml):\n",
    "\n",
    "```yaml\n",
    "version: '3.1'\n",
    "\n",
    "services:\n",
    "  db:\n",
    "    image: mysql:5.6\n",
    "    restart: always\n",
    "    environment:\n",
    "      MYSQL_ROOT_PASSWORD: example\n",
    "    volumes:\n",
    "      - ${CD}/mariadata:/var/lib/mysql\n",
    "\n",
    "  phpmyadmin:\n",
    "    image: phpmyadmin/phpmyadmin\n",
    "    environment:\n",
    "       - PMA_ARBITRARY=1\n",
    "       - PMA_HOST=db\n",
    "    restart: always\n",
    "    ports:\n",
    "       - 31003:80\n",
    "    links:\n",
    "       - db\n",
    "\n",
    "  postgres:\n",
    "    image: postgres\n",
    "    environment:\n",
    "      - POSTGRES_PASSWORD=example\n",
    "    \n",
    "  pgadmin:\n",
    "    image: dpage/pgadmin4\n",
    "    environment:\n",
    "      - PGADMIN_DEFAULT_EMAIL=anoyne@anywhere.com\n",
    "      - PGADMIN_DEFAULT_PASSWORD=example\n",
    "    ports:\n",
    "      - 31006:80\n",
    "\n",
    "  jupyter:\n",
    "    image: jupyter/tensorflow-notebook\n",
    "    restart: always\n",
    "    ports:\n",
    "      - 31002:8888\n",
    "      - 31100:9990\n",
    "      - 31101:9991\n",
    "      - 31102:9992\n",
    "      - 31103:9993\n",
    "    volumes:\n",
    "      - ${CD}/notebooks:/home/jovyan/work\n",
    "\n",
    "  mongo:\n",
    "    image: mongo\n",
    "    restart: always\n",
    "    environment:\n",
    "      MONGO_INITDB_ROOT_USERNAME: root\n",
    "      MONGO_INITDB_ROOT_PASSWORD: example\n",
    "    volumes:\n",
    "      - ${CD}/mongodata:/databackup/db\n",
    "\n",
    "\n",
    "  mongo-express:\n",
    "    image: mongo-express\n",
    "    restart: always\n",
    "    ports:\n",
    "      - 31004:8081\n",
    "    environment:\n",
    "      ME_CONFIG_MONGODB_ADMINUSERNAME: root\n",
    "      ME_CONFIG_MONGODB_ADMINPASSWORD: example\n",
    "    links:\n",
    "       - mongo\n",
    "\n",
    "  couch:\n",
    "    image: apache/couchdb\n",
    "    restart: always\n",
    "    ports:\n",
    "      - 31005:5984 \n",
    "    environment:\n",
    "      COUCHDB_USER: root\n",
    "      COUCHDB_PASSWORD: example\n",
    "    volumes:\n",
    "      - ${CD}/couchdata:/opt/couchdb/data\n",
    "      - ${CD}/couchinit:/opt/couchdb/etc/local.d\n",
    "```"
   ]
  },
  {
   "cell_type": "markdown",
   "metadata": {
    "slideshow": {
     "slide_type": "subslide"
    }
   },
   "source": [
    "### Po jednotlivých prvcích"
   ]
  },
  {
   "cell_type": "markdown",
   "metadata": {
    "slideshow": {
     "slide_type": "subslide"
    }
   },
   "source": [
    "```yaml\n",
    "version: '3.1'\n",
    "\n",
    "services:\n",
    "  db:\n",
    "    image: mysql:5.6\n",
    "    restart: always\n",
    "    environment:\n",
    "      MYSQL_ROOT_PASSWORD: example\n",
    "    volumes:\n",
    "      - ${CD}/mariadata:/var/lib/mysql\n",
    "\n",
    "  phpmyadmin:\n",
    "    image: phpmyadmin/phpmyadmin\n",
    "    environment:\n",
    "       - PMA_ARBITRARY=1\n",
    "       - PMA_HOST=db\n",
    "    restart: always\n",
    "    ports:\n",
    "       - 31003:80\n",
    "    links:\n",
    "       - db\n",
    "```"
   ]
  },
  {
   "cell_type": "markdown",
   "metadata": {
    "slideshow": {
     "slide_type": "subslide"
    }
   },
   "source": [
    "```yaml\n",
    "  postgres:\n",
    "    image: postgres\n",
    "    environment:\n",
    "      - POSTGRES_PASSWORD=example\n",
    "\n",
    "  pgadmin:\n",
    "    image: dpage/pgadmin4\n",
    "    environment:\n",
    "      - PGADMIN_DEFAULT_EMAIL=anoyne@anywhere.com\n",
    "      - PGADMIN_DEFAULT_PASSWORD=example\n",
    "    ports:\n",
    "      - 31006:80\n",
    "```"
   ]
  },
  {
   "cell_type": "markdown",
   "metadata": {
    "slideshow": {
     "slide_type": "subslide"
    }
   },
   "source": [
    "```yaml\n",
    "  jupyter:\n",
    "    image: jupyter/tensorflow-notebook\n",
    "    restart: always\n",
    "    ports:\n",
    "      - 31002:8888\n",
    "      - 31100:9990\n",
    "      - 31101:9991\n",
    "      - 31102:9992\n",
    "      - 31103:9993\n",
    "    volumes:\n",
    "      - ${CD}/notebooks:/home/jovyan/work\n",
    "```"
   ]
  },
  {
   "cell_type": "markdown",
   "metadata": {
    "slideshow": {
     "slide_type": "subslide"
    }
   },
   "source": [
    "```yaml\n",
    "  mongo:\n",
    "    image: mongo\n",
    "    restart: always\n",
    "    environment:\n",
    "      MONGO_INITDB_ROOT_USERNAME: root\n",
    "      MONGO_INITDB_ROOT_PASSWORD: example\n",
    "    volumes:\n",
    "      - ${CD}/mongodata:/databackup/db\n",
    "\n",
    "\n",
    "  mongo-express:\n",
    "    image: mongo-express\n",
    "    restart: always\n",
    "    ports:\n",
    "      - 31004:8081\n",
    "    environment:\n",
    "      ME_CONFIG_MONGODB_ADMINUSERNAME: root\n",
    "      ME_CONFIG_MONGODB_ADMINPASSWORD: example\n",
    "    links:\n",
    "       - mongo\n",
    "```"
   ]
  },
  {
   "cell_type": "markdown",
   "metadata": {
    "slideshow": {
     "slide_type": "subslide"
    }
   },
   "source": [
    "```yaml\n",
    "  couch:\n",
    "    image: apache/couchdb\n",
    "    restart: always\n",
    "    ports:\n",
    "      - 31005:5984 \n",
    "    environment:\n",
    "      COUCHDB_USER: root\n",
    "      COUCHDB_PASSWORD: example\n",
    "    volumes:\n",
    "      - ${CD}/couchdata:/opt/couchdb/data\n",
    "      - ${CD}/couchinit:/opt/couchdb/etc/local.d\n",
    "```"
   ]
  },
  {
   "cell_type": "markdown",
   "metadata": {},
   "source": [
    "Tento docker-compose.yml soubor je pro WSL2 na Windows, kde potřebujete i .env soubor ve stejném adresáři\n",
    "```text\n",
    "CD=C:\\develop\\_docker\\jupyter_II\n",
    "```\n",
    "Pro jiné prostředí (Linux) budete muset upravit volumes.\n",
    "\n",
    "V prostředí Windows si stack spustíte pomocí .bat souboru\n",
    "```bat\n",
    "set COMPOSE_CONVERT_WINDOWS_PATHS=1\n",
    "docker-compose -p jupyter_datas up -d\n",
    "pause\n",
    "```"
   ]
  },
  {
   "cell_type": "markdown",
   "metadata": {},
   "source": [
    "Stack obsahuje prvky, které budete potřebovat, ale i některé další, bez kterých se obejdete.\n",
    "- **[Jupyter](https://jupyter.org/)** je prostředí pro interaktivní kódování, v tomto případě v \"bohaté konfiguraci\" s podporou jazyka Python.\n",
    "- **[MariaDB](https://mariadb.org/)** a **[Postgres](https://www.postgresql.org/)** jsou SQL databáze\n",
    "- **[phpmyadmin](https://www.phpmyadmin.net/)** a **[pgadmin](https://www.pgadmin.org/)** jsou webová rozhraní pro správu příslušných SQL databází\n",
    "- **[mongo](https://www.mongodb.com/)** a **[couch](https://couchdb.apache.org/)** jsou NoSQL databáze\n",
    "- **[mongo-express](https://github.com/mongo-express/mongo-express)** je webové rozhraní pro mongo, couch má webové rozhraní integrované\n",
    "\n",
    "U Jupytera je zpřístupněna řada portů, které umožňují v rámci kód notebooků tvořit servery.\n",
    "\n",
    "> Postgre je instalovaný způsobem, který umožňuje přístup jen aplikacím ve stacku. Co musíte změnit, abyste jej mohli využívat i mimo stack?"
   ]
  },
  {
   "cell_type": "markdown",
   "metadata": {
    "slideshow": {
     "slide_type": "subslide"
    }
   },
   "source": [
    "### Javascript Kernel in Jupyter"
   ]
  },
  {
   "cell_type": "markdown",
   "metadata": {
    "slideshow": {
     "slide_type": "subslide"
    }
   },
   "source": [
    "Je potřeba kernel doinstalovat.\n",
    "\n",
    "Následující příkazy spustíte na příkazovém řádku kontejneru Jupyter\n",
    "```\n",
    "npm install -g tslab\n",
    "```\n",
    "Všimněte si hlášky `found xy vulnerabilities`."
   ]
  },
  {
   "cell_type": "markdown",
   "metadata": {
    "slideshow": {
     "slide_type": "fragment"
    }
   },
   "source": [
    "Ověřte si dostupnost tslab (není nezbytné)\n",
    "```\n",
    "tslab install --version\n",
    "```"
   ]
  },
  {
   "cell_type": "markdown",
   "metadata": {},
   "source": [
    "Vlastní registrace do seznamu kernelů\n",
    "```\n",
    "tslab install [--python=python3]\n",
    "```"
   ]
  },
  {
   "cell_type": "markdown",
   "metadata": {},
   "source": [
    "možná bude třeba spustit bez parametrů\n",
    "```\n",
    "tslab install\n",
    "```"
   ]
  },
  {
   "cell_type": "markdown",
   "metadata": {},
   "source": [
    "Ověřte si dostupnost kernelů\n",
    "```\n",
    "jupyter kernelspec list\n",
    "```"
   ]
  },
  {
   "cell_type": "markdown",
   "metadata": {
    "slideshow": {
     "slide_type": "subslide"
    }
   },
   "source": [
    "### Portainer"
   ]
  },
  {
   "cell_type": "markdown",
   "metadata": {
    "slideshow": {
     "slide_type": "subslide"
    }
   },
   "source": [
    "Portainer ve verzi CE je volně dostupný kontejner pro administraci kontejnerů.\n",
    "\n",
    "Nainstalujete jej následujícím způsobem.\n",
    "\n",
    "Vytvoříte persistent volume (kvůli potřebě uchovat pro případné reinstalace)\n",
    "\n",
    "```\n",
    "docker volume create portainer_data\n",
    "```\n",
    "\n",
    "```\n",
    "docker run -d -p 8000:8000 -p 9000:9000 --name=portainer --restart=always -v /var/run/docker.sock:/var/run/docker.sock -v portainer_data:/data portainer/portainer-ce\n",
    "```"
   ]
  },
  {
   "cell_type": "markdown",
   "metadata": {
    "slideshow": {
     "slide_type": "slide"
    }
   },
   "source": [
    "## CI a CD"
   ]
  },
  {
   "cell_type": "markdown",
   "metadata": {
    "slideshow": {
     "slide_type": "subslide"
    }
   },
   "source": [
    "Continuous integration\n",
    "\n",
    "Continuous delivery\n",
    "\n",
    "Programování / automatizace byrokratických částí vývoje\n",
    "- archivace\n",
    "    - git je základnou pro archivaci a zabezpečení spolupráce\n",
    "- testování\n",
    "- dokumentace\n",
    "- build\n",
    "- nasazení\n",
    "    - využití replikovatelného / sterilního prostředí, které je připravováno pomocí Dockeru\n",
    "\n",
    "Důležitou součástí je standardizace jednotlivých kroků ve \"sterilním prostředí\". \n"
   ]
  },
  {
   "cell_type": "markdown",
   "metadata": {
    "slideshow": {
     "slide_type": "subslide"
    }
   },
   "source": [
    "> **Povinné video**\n",
    ">\n",
    "> [IBM talk](https://www.youtube.com/watch?v=1er2cjUq1UI)\n",
    ">\n",
    "> [IBM talk II](https://www.youtube.com/watch?v=2TTU5BB-k9U)\n",
    "\n",
    "> **Doporučené video**\n",
    "> \n",
    "> [Úvod 18min](https://www.youtube.com/watch?v=YGYoYSR-d98)\n",
    ">\n",
    "> [Github actions 32min](https://www.youtube.com/watch?v=R8_veQiYBjI)"
   ]
  },
  {
   "cell_type": "markdown",
   "metadata": {
    "slideshow": {
     "slide_type": "subslide"
    }
   },
   "source": [
    "### DevOps"
   ]
  },
  {
   "cell_type": "markdown",
   "metadata": {
    "slideshow": {
     "slide_type": "subslide"
    }
   },
   "source": [
    "> **Povinné video**\n",
    ">\n",
    "> [IBM Talk o DevOps](https://www.youtube.com/watch?v=UbtB4sMaaNM)\n",
    "\n",
    "[Kniha od Microsoftu](https://dotnet.microsoft.com/download/e-book/microservices-devops/pdf)\n",
    "\n",
    "> **Doporučené video**\n",
    ">\n",
    "> [Edureka 7h full course](https://www.youtube.com/watch?v=hQcFE0RD0cQ)"
   ]
  },
  {
   "cell_type": "markdown",
   "metadata": {
    "slideshow": {
     "slide_type": "slide"
    }
   },
   "source": [
    "## Nástroje pro vývoj"
   ]
  },
  {
   "cell_type": "markdown",
   "metadata": {
    "slideshow": {
     "slide_type": "subslide"
    }
   },
   "source": [
    "**[Visual Studio](https://visualstudio.microsoft.com/cs/)**\n",
    "\n",
    "- Velmi silný nástroj s cenami v různých úrovních\n",
    "- Včetně nástrojů jako je pokročilý návrh architektu databází"
   ]
  },
  {
   "cell_type": "markdown",
   "metadata": {
    "slideshow": {
     "slide_type": "subslide"
    }
   },
   "source": [
    "**[Visual Code](https://code.visualstudio.com/)**\n",
    "\n",
    "- Opensource a z toho vyplývající (ne)výhody\n",
    "- Dokáže velmi mnoho\n",
    "> Doporučené video \n",
    "> \n",
    "> [Visual Studio Code Crash Course 1,5h](https://www.youtube.com/watch?v=WPqXP_kLzpo)"
   ]
  },
  {
   "cell_type": "markdown",
   "metadata": {
    "slideshow": {
     "slide_type": "subslide"
    }
   },
   "source": [
    "**[Jenkins](https://www.jenkins.io/)**\n",
    "- Nebudete potřebovat nyní\n",
    "- Silný nástroj pro strukturalizaci administrativních operací kolem vývoje"
   ]
  },
  {
   "cell_type": "code",
   "execution_count": null,
   "metadata": {},
   "outputs": [],
   "source": []
  }
 ],
 "metadata": {
  "kernelspec": {
   "display_name": "Python 3",
   "language": "python",
   "name": "python3"
  },
  "language_info": {
   "codemirror_mode": {
    "name": "ipython",
    "version": 3
   },
   "file_extension": ".py",
   "mimetype": "text/x-python",
   "name": "python",
   "nbconvert_exporter": "python",
   "pygments_lexer": "ipython3",
   "version": "3.8.8"
  },
  "toc-autonumbering": true
 },
 "nbformat": 4,
 "nbformat_minor": 4
}
