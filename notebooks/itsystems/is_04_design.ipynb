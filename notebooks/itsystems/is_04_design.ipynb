{
 "cells": [
  {
   "cell_type": "markdown",
   "id": "alternate-belfast",
   "metadata": {},
   "source": [
    "# Návrh / vzory"
   ]
  },
  {
   "cell_type": "markdown",
   "id": "damaged-black",
   "metadata": {},
   "source": [
    "## Úvod"
   ]
  },
  {
   "cell_type": "markdown",
   "id": "fitting-taxation",
   "metadata": {},
   "source": [
    "Definovat pravidla, která platí obecně a která když dodržíte, bude vámi vyvíjený systém skvělý ve funkčnosti, udržitelnost, výkonu a dalších atributech, je úsilí, které trvá od samotné odloučení oboru informatika a dosud se ho nikomu nepodařilo vyřešit definitivně. Cílem je vytvořit systém, který nebude omezen v budoucím rozvoji. Je důležité si uvědomit, že mnoho informační systémů (a platí i pro programy) je \"živých\", tedy že se s časem mění, jsou dodělávány funkcionality. Nesmí ovšem při dodatečném začlenění nových funkcionalit vznikat nesourodý systém, který by v jistém okamžiku se ukázal jako dále neudržitelný = nerozšiřitelný = příliš drahý. Takový požadavek úzce souvisí s architekturami otevřených systémů, kdy nově zaváděný systém má navazovat na systémy existující a omezující zavádění systémů v budoucnosti, systémů s funkcionalitou o níž není v danou chvíli ani vidu ani slechu.\n",
    "\n",
    "Je důležité se opírat o zkušenosti odborníků, kteří si mnohdy prošli vývojářským peklem, dopustili se mnoha chyb a sami se těchto chyb vyvarovat. Z tohoto důvodu se lze ve škole, ale i v praxi bavit o některých poučkách, jejichž platnost se může zdát univerzální.\n",
    "\n",
    "Přestože Dijkstra se na adresu objektového programování ozval několikrát a dosti silně, je objekt a jeho reprezentace v informačním systému stále jeden z problémů, který se řeší a tedy objektové programování má stále silný vliv na vývoj informačních systémů."
   ]
  },
  {
   "cell_type": "markdown",
   "id": "productive-suspension",
   "metadata": {},
   "source": [
    "> **Povinné video**\n",
    ">\n",
    "> [Design Patterns in Python by Peter Ullrich 28min](https://www.youtube.com/watch?v=bsyjSW46TDg)"
   ]
  },
  {
   "cell_type": "markdown",
   "id": "interim-sierra",
   "metadata": {},
   "source": [
    "Může se jevit, že persistence dat je triviální problém, který je navíc vyřešen definicí normálních forem. V informačním systému ovšem (a zcela jistě v aplikacích) nejde jen o persistentní data.\n",
    "\n",
    "> Persistentní data jsou reprezentována typicky záznamy v databázi (tabulce) nebo souboru. Nazýváme je persistentní neboť jejich existence je nezávislá na spuštěné aplikaci.\n",
    "\n",
    "Příkladem může být interakce uživatele nad mapou se zakreslenými objekty. Jak lze a jak má být realizováno propojení událostí, které vznikají při pohybu kurzoru myši v okně aplikace (případně nad canvasem ve webové aplikaci), s persistentními objekty (zakreslené prvky).\n",
    "\n",
    "- prvek zákresu\n",
    "    - draw\n",
    "    - createIndex\n",
    "    \n",
    "- index prvku\n",
    "    - prvek\n",
    "    - contains\n",
    "    \n",
    "- projekce\n",
    "    - toMap\n",
    "    - fromMap\n",
    "    \n",
    "- nástroj\n",
    "    - onClick\n",
    "    - onDblClick\n",
    "    - onMouseDown\n",
    "    - onMouseUp\n",
    "    - onMouseMove\n",
    "    \n",
    "- událost\n",
    "    - souřadnice okna\n",
    "    - souřadnice na mapě"
   ]
  },
  {
   "cell_type": "markdown",
   "id": "mysterious-salvation",
   "metadata": {},
   "source": [
    "## GRASP"
   ]
  },
  {
   "cell_type": "markdown",
   "id": "sufficient-parts",
   "metadata": {},
   "source": [
    "> **Povinné video**\n",
    ">\n",
    "> [Conceptual architecture GRASP 13min](https://www.youtube.com/watch?v=pIJbp5Q3jhQ)\n",
    "\n",
    "Následující část textu je silně inspirována sérií textů, které jsou dostupné [zde](https://zdrojak.cz/clanky/grasp-1-uvod-a-protected-variations/)."
   ]
  },
  {
   "cell_type": "markdown",
   "id": "empty-brunswick",
   "metadata": {},
   "source": [
    "GRASP je zkratka pocházející z anglických slov \n",
    "- General\n",
    "- Responsibility\n",
    "- Assigment\n",
    "- Software\n",
    "- Patterns"
   ]
  },
  {
   "cell_type": "markdown",
   "id": "express-cinema",
   "metadata": {},
   "source": [
    "Craig Larman ve své knize \"Applying UML and Patterns: An Introduction to Object-Oriented Analysis and Design and the Unified Process\" uvedl sadu principů, které by měly být zobecněním zkušeností z vývoje informačních systémů."
   ]
  },
  {
   "cell_type": "markdown",
   "id": "charged-footwear",
   "metadata": {},
   "source": [
    "### Protected variations – Chráněné změny"
   ]
  },
  {
   "cell_type": "markdown",
   "id": "adjustable-ballet",
   "metadata": {},
   "source": [
    "Tento princip míří na skutečnost, že systém podléhá změnám potřeb a návrh by měl být cílen tak, aby tyto nové potřeby nevedl ke změnám v mnoha částech systému.\n",
    "\n",
    "Velmi záleží na schopnosti návrháře předvídat a izolovat funkcionality. Příkladem dobré praxe je sedmivrstvý model ISO-OSI, kde každá vrstva má svoji odpovědnost za funkčnost. Funkčnost je popsána pomocí rozhraní a libovolný prvek tato rozhraní splňující může vrstvu nahradit. \n",
    "\n",
    "https://zdrojak.cz/clanky/grasp-1-uvod-a-protected-variations/"
   ]
  },
  {
   "cell_type": "markdown",
   "id": "centered-therapy",
   "metadata": {},
   "source": [
    "### High cohesion – Vysoká soudržnost"
   ]
  },
  {
   "cell_type": "markdown",
   "id": "surgical-running",
   "metadata": {},
   "source": [
    "Vysoká soudržnost a slabá provázanost spolu souvisí.\n",
    "\n",
    "Vysoká soudržnost je myšlenka, že jednotlivé funkcionality, které prvek poskytuje spolu souvisí. Míra souvislosti (soudržnosti) by měly být co nejvyšší. Tento princip navazuje na princip Chráněné změny. Jestliže je nezbytné v systému něco změnit, míra soudržnosti spolu s mírou provázanosti určuje které prvky budou touto požadovanou změnou zasaženy a bude tedy nutné u nich provést změny.\n",
    "\n",
    "Obecně prvky, které procházejí změnami jsou rizikem chybovosti a tedy nespolehlivosti informačního systému.\n",
    "\n",
    "https://zdrojak.cz/clanky/grasp-2-high-cohesion/"
   ]
  },
  {
   "cell_type": "markdown",
   "id": "further-income",
   "metadata": {},
   "source": [
    "### Low coupling – Slabá provázanost"
   ]
  },
  {
   "cell_type": "markdown",
   "id": "intensive-numbers",
   "metadata": {},
   "source": [
    "Libovolné dva prvky v systému by neměly poskytovat související funkcionalitu. Opačný přístup vede k situaci, kdy požadavek na případnou změnu vede k nutnosti měnit více prvků v systému. \n",
    "\n",
    "https://zdrojak.cz/clanky/grasp-3-low-coupling/"
   ]
  },
  {
   "cell_type": "markdown",
   "id": "attempted-corrections",
   "metadata": {},
   "source": [
    "### Pure fabrication – Čistá konstrukce"
   ]
  },
  {
   "cell_type": "markdown",
   "id": "scheduled-qualification",
   "metadata": {},
   "source": [
    "Princip Pure fabrication ukazuje na možný výskyt potřeby třídy (objektu), který nemá reprezentaci v reálném světě. \n"
   ]
  },
  {
   "cell_type": "markdown",
   "id": "rubber-carter",
   "metadata": {},
   "source": [
    "### Polymorphism"
   ]
  },
  {
   "cell_type": "markdown",
   "id": "military-shakespeare",
   "metadata": {},
   "source": [
    "Polymorfismus, někde česky nazývaný mnohotvárnost je jedním ze základních pojmů z oblasti objektově orientovaného programování.\n",
    "\n",
    "- encapsulation\n",
    "- polymorphism\n",
    "- inheritance\n",
    "\n",
    "Pokud chování závisí na typu objektu (třídě), přiřaďte zodpovědnost za toto chování pomocí polymorfických metod třídě, na které toto chování závisí."
   ]
  },
  {
   "cell_type": "markdown",
   "id": "color-powder",
   "metadata": {},
   "source": [
    "### Indirection – Nepřímé vazby"
   ]
  },
  {
   "cell_type": "markdown",
   "id": "mineral-profit",
   "metadata": {},
   "source": [
    "„Většina problémů může být vyřešena přidáním další úrovně nepřímosti.“ \n",
    "Zde je ovšem nutné také uvést komplementární poučku: „Většina problémů s výkonem může být vyřešena ubráním nějaké úrovně nepřímosti.“\n",
    "\n",
    "V ISO-OSI by mohlo být významně méně vrstev. Pokud analyzujete komunikaci frontend (web client) - backend (server) na protokolu http, dojdete k závěru, že si vystačíte s pěti vrstvami. Existenci vrstev 5, 6, 7 lze považovat za důsledek vyřešit některé nepřímé vazby v návrhu."
   ]
  },
  {
   "cell_type": "markdown",
   "id": "metallic-establishment",
   "metadata": {},
   "source": [
    "### Information expert – Informační expert/Expert"
   ]
  },
  {
   "cell_type": "markdown",
   "id": "administrative-approach",
   "metadata": {},
   "source": [
    "Zodpovědnost přidělte informačnímu expertovi – prvku, který má informace potřebné pro splnění této zodpovědnosti.\n",
    "\n",
    "Tento princip souvisí s Encaspulation. Datová struktura (objekt - třída) má veškeré nástroje k tomu, aby mohla realizovat všechny operace s ní. "
   ]
  },
  {
   "cell_type": "markdown",
   "id": "employed-shape",
   "metadata": {},
   "source": [
    "### Creator – Tvůrce"
   ]
  },
  {
   "cell_type": "markdown",
   "id": "certified-alliance",
   "metadata": {},
   "source": [
    "Přiřaďte třídě B zodpovědnost za vytváření instancí třídy A, pokud platí jedno nebo více z následujících:\n",
    "\n",
    "- B je agregátor objektů A\n",
    "- B obsahuje objekty A\n",
    "- B uchovává záznamy o objektech A\n",
    "- B úzce spolupracuje s objekty A\n",
    "- B má inicializační data pro A (B je informační expert pro inicializaci A)\n",
    "\n",
    "V API endpointu jsou spravovány kolekce, odpovědnost za prvky je dána kolekci (CRUD operace)"
   ]
  },
  {
   "cell_type": "markdown",
   "id": "extensive-pennsylvania",
   "metadata": {},
   "source": [
    "### Controller"
   ]
  },
  {
   "cell_type": "markdown",
   "id": "governmental-direction",
   "metadata": {},
   "source": [
    "V ASP.NET je controllerem prvek, který přijímá události přicházející po HTTP protokolu a realizuje odpovídající operace nad datovými strukturami. Trochu je zde kolize s principem Creator."
   ]
  },
  {
   "cell_type": "markdown",
   "id": "immune-assets",
   "metadata": {},
   "source": []
  },
  {
   "cell_type": "code",
   "execution_count": null,
   "id": "convinced-finance",
   "metadata": {},
   "outputs": [],
   "source": []
  }
 ],
 "metadata": {
  "kernelspec": {
   "display_name": "Python 3",
   "language": "python",
   "name": "python3"
  },
  "language_info": {
   "codemirror_mode": {
    "name": "ipython",
    "version": 3
   },
   "file_extension": ".py",
   "mimetype": "text/x-python",
   "name": "python",
   "nbconvert_exporter": "python",
   "pygments_lexer": "ipython3",
   "version": "3.8.8"
  }
 },
 "nbformat": 4,
 "nbformat_minor": 5
}
