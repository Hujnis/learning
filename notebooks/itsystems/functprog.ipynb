{
  "nbformat": 4,
  "nbformat_minor": 0,
  "metadata": {
    "colab": {
      "name": "FunctionalProgramming.ipynb",
      "provenance": [],
      "authorship_tag": "ABX9TyNTq9sFKfmjpZEtv2vcReqf",
      "include_colab_link": true
    },
    "kernelspec": {
      "name": "python3",
      "display_name": "Python 3"
    }
  },
  "cells": [
    {
      "cell_type": "markdown",
      "metadata": {
        "id": "view-in-github",
        "colab_type": "text"
      },
      "source": [
        "<a href=\"https://colab.research.google.com/github/hrbolek/learning/blob/master/itsystems/functprog.ipynb\" target=\"_parent\"><img src=\"https://colab.research.google.com/assets/colab-badge.svg\" alt=\"Open In Colab\"/></a>"
      ]
    },
    {
      "cell_type": "markdown",
      "metadata": {
        "id": "-zuJwZM1Ipyr",
        "colab_type": "text"
      },
      "source": [
        "# Functional Programming"
      ]
    },
    {
      "cell_type": "markdown",
      "metadata": {
        "id": "vXgdE3GnIuFY",
        "colab_type": "text"
      },
      "source": [
        "Heavily inspired by https://weblogs.asp.net/dixin/lambda-calculus-via-c-2-boolean-and-logic"
      ]
    },
    {
      "cell_type": "code",
      "metadata": {
        "id": "upmzYekKLzcR",
        "colab_type": "code",
        "colab": {}
      },
      "source": [
        "def true(t, f):\n",
        "  return t\n",
        "def false(t, f):\n",
        "  return f"
      ],
      "execution_count": 11,
      "outputs": []
    },
    {
      "cell_type": "code",
      "metadata": {
        "id": "LKTqpJmNH4cD",
        "colab_type": "code",
        "colab": {}
      },
      "source": [
        "true = lambda t: lambda f: t\n",
        "false = lambda t: lambda f: f"
      ],
      "execution_count": 12,
      "outputs": []
    },
    {
      "cell_type": "code",
      "metadata": {
        "id": "owtC3uqHRgjQ",
        "colab_type": "code",
        "colab": {}
      },
      "source": [
        "def true(t):\n",
        "  def truetrue(f):\n",
        "    return t\n",
        "  return truetrue\n",
        "\n",
        "def false(t):\n",
        "  def falsefalse(f):\n",
        "    return f\n",
        "  return falsefalse"
      ],
      "execution_count": 13,
      "outputs": []
    },
    {
      "cell_type": "code",
      "metadata": {
        "id": "8oJXib85Jhou",
        "colab_type": "code",
        "colab": {}
      },
      "source": [
        "def testOperator(operator):\n",
        "  print(\"op\", \"op\", \"result\", sep=\"\\t\")\n",
        "  print(\"-\"*30)\n",
        "  print(True, True, operator(true)(true) == true, operator(true)(true), sep=\"\\t\")\n",
        "  print(False, True, operator(false)(true) == true, operator(false)(true), sep=\"\\t\")\n",
        "  print(True, False, operator(true)(false) == true, operator(true)(false), sep=\"\\t\")\n",
        "  print(False, False, operator(false)(false) == true, operator(false)(false), sep=\"\\t\")\n",
        "  print()"
      ],
      "execution_count": 25,
      "outputs": []
    },
    {
      "cell_type": "code",
      "metadata": {
        "id": "yc-ya7DIdE4K",
        "colab_type": "code",
        "colab": {
          "base_uri": "https://localhost:8080/",
          "height": 439
        },
        "outputId": "ec2a330c-ba0a-4a12-f47b-b8793f08ef89"
      },
      "source": [
        "print(true(false)(true) == false)\n",
        "print(false(false)(true) == true)\n",
        "op = lambda a: lambda b: a(false)(true)\n",
        "testOperator(op)\n",
        "i1 = lambda a: lambda b: a\n",
        "i2 = lambda a: lambda b: b\n",
        "testOperator(i1)\n",
        "testOperator(i2)"
      ],
      "execution_count": 31,
      "outputs": [
        {
          "output_type": "stream",
          "text": [
            "True\n",
            "True\n",
            "op\top\tresult\n",
            "------------------------------\n",
            "True\tTrue\tFalse\t<function false at 0x7faec63fdbf8>\n",
            "False\tTrue\tTrue\t<function true at 0x7faec641ebf8>\n",
            "True\tFalse\tFalse\t<function false at 0x7faec63fdbf8>\n",
            "False\tFalse\tTrue\t<function true at 0x7faec641ebf8>\n",
            "\n",
            "op\top\tresult\n",
            "------------------------------\n",
            "True\tTrue\tTrue\t<function true at 0x7faec641ebf8>\n",
            "False\tTrue\tFalse\t<function false at 0x7faec63fdbf8>\n",
            "True\tFalse\tTrue\t<function true at 0x7faec641ebf8>\n",
            "False\tFalse\tFalse\t<function false at 0x7faec63fdbf8>\n",
            "\n",
            "op\top\tresult\n",
            "------------------------------\n",
            "True\tTrue\tTrue\t<function true at 0x7faec641ebf8>\n",
            "False\tTrue\tTrue\t<function true at 0x7faec641ebf8>\n",
            "True\tFalse\tFalse\t<function false at 0x7faec63fdbf8>\n",
            "False\tFalse\tFalse\t<function false at 0x7faec63fdbf8>\n",
            "\n"
          ],
          "name": "stdout"
        }
      ]
    },
    {
      "cell_type": "code",
      "metadata": {
        "id": "OFMynZJVgmyR",
        "colab_type": "code",
        "colab": {
          "base_uri": "https://localhost:8080/",
          "height": 403
        },
        "outputId": "056b69d4-a586-43d5-c2b6-f7976aa1fc2f"
      },
      "source": [
        "i3 = lambda a: lambda b: b(b)(a)\n",
        "testOperator(i3)\n",
        "i4 = lambda a: lambda b: a(b)(a)\n",
        "testOperator(i4)\n",
        "i5 = lambda a: lambda b: a(b)(false)\n",
        "testOperator(i5)"
      ],
      "execution_count": 46,
      "outputs": [
        {
          "output_type": "stream",
          "text": [
            "op\top\tresult\n",
            "------------------------------\n",
            "True\tTrue\tTrue\t<function true at 0x7faec641ebf8>\n",
            "False\tTrue\tTrue\t<function true at 0x7faec641ebf8>\n",
            "True\tFalse\tTrue\t<function true at 0x7faec641ebf8>\n",
            "False\tFalse\tFalse\t<function false at 0x7faec63fdbf8>\n",
            "\n",
            "op\top\tresult\n",
            "------------------------------\n",
            "True\tTrue\tTrue\t<function true at 0x7faec641ebf8>\n",
            "False\tTrue\tFalse\t<function false at 0x7faec63fdbf8>\n",
            "True\tFalse\tFalse\t<function false at 0x7faec63fdbf8>\n",
            "False\tFalse\tFalse\t<function false at 0x7faec63fdbf8>\n",
            "\n",
            "op\top\tresult\n",
            "------------------------------\n",
            "True\tTrue\tTrue\t<function true at 0x7faec641ebf8>\n",
            "False\tTrue\tFalse\t<function false at 0x7faec63fdbf8>\n",
            "True\tFalse\tFalse\t<function false at 0x7faec63fdbf8>\n",
            "False\tFalse\tFalse\t<function false at 0x7faec63fdbf8>\n",
            "\n"
          ],
          "name": "stdout"
        }
      ]
    },
    {
      "cell_type": "code",
      "metadata": {
        "id": "A0buYcPPI4nc",
        "colab_type": "code",
        "colab": {
          "base_uri": "https://localhost:8080/",
          "height": 146
        },
        "outputId": "f491d029-74f5-436d-ac1d-a9dcc394f064"
      },
      "source": [
        "And = lambda a: lambda b: a(b)(false)\n",
        "testOperator(And)"
      ],
      "execution_count": 15,
      "outputs": [
        {
          "output_type": "stream",
          "text": [
            "op\top\tresult\n",
            "------------------------------\n",
            "True\tTrue\tTrue\t<function true at 0x7faec641ebf8>\n",
            "False\tTrue\tFalse\t<function false at 0x7faec63fdbf8>\n",
            "True\tFalse\tFalse\t<function false at 0x7faec63fdbf8>\n",
            "False\tFalse\tFalse\t<function false at 0x7faec63fdbf8>\n",
            "\n"
          ],
          "name": "stdout"
        }
      ]
    },
    {
      "cell_type": "code",
      "metadata": {
        "id": "0XdX4UHaMSUG",
        "colab_type": "code",
        "colab": {
          "base_uri": "https://localhost:8080/",
          "height": 146
        },
        "outputId": "857b0098-20cf-4d79-cf2a-e05654088ad5"
      },
      "source": [
        "Or = lambda a: lambda b: a(true)(b)\n",
        "testOperator(Or)"
      ],
      "execution_count": 16,
      "outputs": [
        {
          "output_type": "stream",
          "text": [
            "op\top\tresult\n",
            "------------------------------\n",
            "True\tTrue\tTrue\t<function true at 0x7faec641ebf8>\n",
            "False\tTrue\tTrue\t<function true at 0x7faec641ebf8>\n",
            "True\tFalse\tTrue\t<function true at 0x7faec641ebf8>\n",
            "False\tFalse\tFalse\t<function false at 0x7faec63fdbf8>\n",
            "\n"
          ],
          "name": "stdout"
        }
      ]
    },
    {
      "cell_type": "code",
      "metadata": {
        "id": "xz3d4WK3MtFS",
        "colab_type": "code",
        "colab": {
          "base_uri": "https://localhost:8080/",
          "height": 146
        },
        "outputId": "432db569-ba53-4d76-ce05-5559d6ccf880"
      },
      "source": [
        "Not = lambda a: lambda b: a(false)(true)\n",
        "testOperator(Not)"
      ],
      "execution_count": 17,
      "outputs": [
        {
          "output_type": "stream",
          "text": [
            "op\top\tresult\n",
            "------------------------------\n",
            "True\tTrue\tFalse\t<function false at 0x7faec63fdbf8>\n",
            "False\tTrue\tTrue\t<function true at 0x7faec641ebf8>\n",
            "True\tFalse\tFalse\t<function false at 0x7faec63fdbf8>\n",
            "False\tFalse\tTrue\t<function true at 0x7faec641ebf8>\n",
            "\n"
          ],
          "name": "stdout"
        }
      ]
    },
    {
      "cell_type": "code",
      "metadata": {
        "id": "N4Zw-ol1RPIy",
        "colab_type": "code",
        "colab": {
          "base_uri": "https://localhost:8080/",
          "height": 274
        },
        "outputId": "078d2954-3d17-43d0-88dc-fe40d85626e2"
      },
      "source": [
        "x = Not(false)(true)\n",
        "y = Not(true)(false)\n",
        "testOperator(x)\n",
        "testOperator(y)"
      ],
      "execution_count": 18,
      "outputs": [
        {
          "output_type": "stream",
          "text": [
            "op\top\tresult\n",
            "------------------------------\n",
            "True\tTrue\tTrue\t<function true at 0x7faec641ebf8>\n",
            "False\tTrue\tFalse\t<function false at 0x7faec63fdbf8>\n",
            "True\tFalse\tTrue\t<function true at 0x7faec641ebf8>\n",
            "False\tFalse\tFalse\t<function false at 0x7faec63fdbf8>\n",
            "\n",
            "op\top\tresult\n",
            "------------------------------\n",
            "True\tTrue\tTrue\t<function true at 0x7faec641ebf8>\n",
            "False\tTrue\tTrue\t<function true at 0x7faec641ebf8>\n",
            "True\tFalse\tFalse\t<function false at 0x7faec63fdbf8>\n",
            "False\tFalse\tFalse\t<function false at 0x7faec63fdbf8>\n",
            "\n"
          ],
          "name": "stdout"
        }
      ]
    },
    {
      "cell_type": "code",
      "metadata": {
        "id": "RqT7AhOkS3Wf",
        "colab_type": "code",
        "colab": {
          "base_uri": "https://localhost:8080/",
          "height": 182
        },
        "outputId": "c6672db2-ee8e-4236-b6ea-70a33b169d85"
      },
      "source": [
        "testOperator(Not(Not))\n",
        "print(Not(Not(true)))\n",
        "print(Not(Not(false)))"
      ],
      "execution_count": 19,
      "outputs": [
        {
          "output_type": "stream",
          "text": [
            "op\top\tresult\n",
            "------------------------------\n",
            "True\tTrue\tFalse\t<function true.<locals>.truetrue at 0x7faec6431488>\n",
            "False\tTrue\tFalse\t<function true.<locals>.truetrue at 0x7faec6431488>\n",
            "True\tFalse\tFalse\t<function true.<locals>.truetrue at 0x7faec6431488>\n",
            "False\tFalse\tFalse\t<function true.<locals>.truetrue at 0x7faec6431488>\n",
            "\n",
            "<function <lambda>.<locals>.<lambda> at 0x7faec63d37b8>\n",
            "<function <lambda>.<locals>.<lambda> at 0x7faec63d37b8>\n"
          ],
          "name": "stdout"
        }
      ]
    },
    {
      "cell_type": "code",
      "metadata": {
        "id": "_ibegs-mNsKU",
        "colab_type": "code",
        "colab": {}
      },
      "source": [
        "If = lambda Condition: lambda Then: lambda Else: Condition(Then)(Else)\n",
        "#If2 = If()"
      ],
      "execution_count": 20,
      "outputs": []
    }
  ]
}