{
  "nbformat": 4,
  "nbformat_minor": 0,
  "metadata": {
    "colab": {
      "name": "hap.ipynb",
      "provenance": [],
      "toc_visible": true,
      "authorship_tag": "ABX9TyN91U1NPj1U3aQQXNM2O1V0",
      "include_colab_link": true
    },
    "kernelspec": {
      "name": "python3",
      "display_name": "Python 3"
    },
    "language_info": {
      "name": "python"
    }
  },
  "cells": [
    {
      "cell_type": "markdown",
      "metadata": {
        "id": "view-in-github",
        "colab_type": "text"
      },
      "source": [
        "<a href=\"https://colab.research.google.com/github/hrbolek/learning/blob/master/hap.ipynb\" target=\"_parent\"><img src=\"https://colab.research.google.com/assets/colab-badge.svg\" alt=\"Open In Colab\"/></a>"
      ]
    },
    {
      "cell_type": "markdown",
      "metadata": {
        "id": "GQEVd1l26LRY"
      },
      "source": [
        "# Hodnocení akademických pracovníků na Univerzitě obrany"
      ]
    },
    {
      "cell_type": "markdown",
      "metadata": {
        "id": "KwRr_rpN6Sxn"
      },
      "source": [
        "## Platforma pro tuto prezentaci\n",
        "\n",
        "![purple-divider](https://user-images.githubusercontent.com/7065401/52071927-c1cd7100-2562-11e9-908a-dde91ba14e59.png)"
      ]
    },
    {
      "cell_type": "markdown",
      "metadata": {
        "id": "NmCp70ym8XOg"
      },
      "source": [
        "Tuto prezentaci jsem vytvořil na platformě Jupyter, která spojuje programovací nástroje s interaktivním prostředím přístupným prostřednictvím webových služeb. Posluchač / student může takový výstup, jako máte před sebou, sledovat pasivně v rámci výkladu, ale i aktivně, za předpokladu, že připravený text obsahuje i části kódu připravené s cílem umožnit experimentování typu \"co se stane, když...\""
      ]
    },
    {
      "cell_type": "markdown",
      "metadata": {
        "id": "nFFxfVEE89gn"
      },
      "source": [
        "### Jupyter"
      ]
    },
    {
      "cell_type": "markdown",
      "metadata": {
        "id": "A9zlkWh5-K7f"
      },
      "source": [
        "Mnoho učitelů, především vysokoškolských, ale i vědeckých pracovníků hledá prostředí, ve kterém by bylo možno vytvářet texty a doplňovat je výpočty. V relativně nedávné době (cca rok 2014) byl veřejnosti představen projekt **[Jupyter](https://jupyter.org/)**. "
      ]
    },
    {
      "cell_type": "markdown",
      "metadata": {
        "id": "39qMtD1o-O_e"
      },
      "source": [
        "Projekt **Jupyter** představuje možnost integrace běžného textu a dílčích výpočtů. Primárně dílčí výpočty bylo možno dělat v programovacím jazyce Python, který je do dnes v této oblasti dominantní, ale portfolio jazyků se významně rozšířilo a dnes je možné používat prakticky všechny jazyky, a to včetně jazyků **C++**, **Javascript** a **R**. Uživatele **Matlabu** může překvapit, jak blízko Jupyter je jak z hlediska syntaxe, tak i z hlediska dostupných knihoven včetně knihovny pro vizualizaci výsledků."
      ]
    },
    {
      "cell_type": "markdown",
      "metadata": {
        "id": "jpMek37j-RcI"
      },
      "source": [
        "Jupyter je opensourcové řešení. Pro práci s ním je k dispozici celá řada nástrojů, pro jejich využití není potřeba instalovat speciální programy. Máte-li ale potřebu si vytvořit vlastní prostředí, lze to udělat jak na stolním počítači, se kterým pracujete jen vy, tak i na serveru a tento sdílet s ostatními.\n",
        "\n"
      ]
    },
    {
      "cell_type": "markdown",
      "metadata": {
        "id": "NV9O2FOE9_zh"
      },
      "source": [
        "\n",
        "\n",
        "\n",
        "\n",
        "\n",
        "\n",
        "\n",
        "\n",
        "Součástí produktu jsou knihovny **[Matplotlib](https://matplotlib.org/)** pro grafické výstupy, **[Scipy](https://www.scipy.org/)** pro matematické výpočty, řešení diferenciálních rovnic, symbolické výpočty apod., **[NumPy](https://numpy.org/)** pro Lineární algebru, ale i Fourierovu transformaci, **[Pandas](https://pandas.pydata.org/)** pro datovou analýzu.\n",
        "\n",
        "Zajímavým prostředím je [Kaggle](https://www.kaggle.com/). Jedná se o platformu pro vyhlašování soutěží."
      ]
    },
    {
      "cell_type": "markdown",
      "metadata": {
        "id": "4PXw2kRSIx5I"
      },
      "source": [
        "### Nástroje"
      ]
    },
    {
      "cell_type": "markdown",
      "metadata": {
        "id": "UySFDt0mI1oR"
      },
      "source": [
        "Pravděpodobně nejoblíběnějším \"volným\" nástrojem je **[Google Colab](https://colab.research.google.com)**, který poskytuje prostředí, ve kterém lze vytvářet, spouštět, ukládat či jiným způsobem zpracovávat tzv. **\"notebooky\"**, což je právě propojení volného textu a dílčích výpočtů."
      ]
    },
    {
      "cell_type": "markdown",
      "metadata": {
        "id": "CW8-Gs8D-V2m"
      },
      "source": [
        "Dalším nástrojem je **[Github](https://github.com)**, který je poskytován firmou Microsoft obecně pro správu zdrojových kódů, spolupráci na nich, jejich historii, apod. Github umožňuje integraci s Google Colab, kdy lze notebooky uložené v Githubu otevírat v prostředí Google Colab, zde spouštět a upravovat a zpětně ukládat do Githubu. Dokument, který nyní čtete vznikal právě tímto způsobem. Byl editován v prostředí Google Colab a ukládán na Github. Třetí nástrojem, který je vhodné zmínit je **[NBViewer](https://nbviewer.jupyter.org/)** a **[MyBinder](https://mybinder.org/)**. NBViewer umožňuje komfortněji prohlížet notebooky, MyBinder je umožňuje spouštět."
      ]
    },
    {
      "cell_type": "markdown",
      "metadata": {
        "id": "I4s3mvwG-dqe"
      },
      "source": [
        "Do rodiny produktů kolem Jupyteru patří i další. Jedná se o nástroj konverze notebooku do jiných formátů, **pdf**, **LaTEX** i dalších. Tímto nástrojem je **[NBConvert](https://nbconvert.readthedocs.io/en/latest/)**, který je integrovaný v instalacích Jupyteru. Není možné nezmínit nástroje jako je **[PaperMill](https://papermill.readthedocs.io/en/latest/)**, či **[Voilá](https://voila-gallery.org/)**, které patří zcela jistě do skupiny nástrojů pro velmi pokročilé uživatele. V roce 2019 byl založen projekt **[Jupyter-book](https://jupyterbook.org/intro.html)**, který umožňuje konverzi notebooků do webových stránek (knih) či do pdf. "
      ]
    },
    {
      "cell_type": "markdown",
      "metadata": {
        "id": "LBOlblQ3I3wI"
      },
      "source": [
        "### Aktivity"
      ]
    },
    {
      "cell_type": "markdown",
      "metadata": {
        "id": "PTnm326O-jO4"
      },
      "source": [
        "Vznikají aktivity, jejichž cílem je zakonzervovat výstupy z vědeckého výzkumu a publikovat tento stav. Díky tomu kdokoliv může ověřit, že výpočty nebyly zmanipulovány. Příkladem služby je **[CodeOcean](https://codeocean.com/)**. Jedná se o tzv reprodukovatelnou vědu. Na jednu archivovanou práci z oblasti BioInformatiky se můžete podívat zde **[FMRIPrep: a robust preprocessing pipeline for functional MRI](https://codeocean.com/capsule/3568017/tree/v1)**."
      ]
    },
    {
      "cell_type": "markdown",
      "metadata": {
        "id": "UoMXZftyI6hq"
      },
      "source": [
        "### Využití ve světě"
      ]
    },
    {
      "cell_type": "markdown",
      "metadata": {
        "id": "7HzypepP-FEm"
      },
      "source": [
        "Ve světě se produkt používá na celé řadě univerzit. Některé jsou vyjmenovány níže.\n",
        "\n",
        "- [MIT](https://supercloud.mit.edu/jupyter-notebooks)\n",
        "\n",
        "- [Standford](https://web.stanford.edu/group/farmshare/cgi-bin/wiki/index.php/Jupyter)\n",
        "\n",
        "- [Berkeley](https://bids.berkeley.edu/research/project-jupyter)\n",
        "\n",
        "- [Harward](https://atg.fas.harvard.edu/jupyterhub)\n",
        "\n",
        "- [UK](https://jupyter.kam.mff.cuni.cz/hub/login)\n",
        "\n",
        "- [MUNI](https://it.muni.cz/phil/lindat-clariah/clanky/jupyter-notebooks-v-humanitnich-vedach) \n",
        "\n",
        "- [Lomonosova univerzita](https://hub.vsb.fbb.msu.ru/hub/login)\n",
        "\n",
        "- [Univerzita v Heidelbergu](https://jupyter.kip.uni-heidelberg.de/hub/login)"
      ]
    },
    {
      "cell_type": "markdown",
      "metadata": {
        "id": "Xe3CpKiF78Ho"
      },
      "source": [
        "## Vícekriteriální hodnocení\n",
        "\n",
        "![purple-divider](https://user-images.githubusercontent.com/7065401/52071927-c1cd7100-2562-11e9-908a-dde91ba14e59.png)"
      ]
    },
    {
      "cell_type": "markdown",
      "metadata": {
        "id": "DR4NEwiU-1Ae"
      },
      "source": [
        "Úloha, při níž provádíme výběr nejlepší varianty, případně výběr nejhorší varianty je optimalizační úlohou. V takových úlohách je nutné definovat kritérium, jehož využitím / aplikací můžeme provést porovnání dvou přípustných řešení a konstatovat, které z řešení je lepší."
      ]
    },
    {
      "cell_type": "markdown",
      "metadata": {
        "id": "wpwnE3wjATPg"
      },
      "source": [
        "Označme nyní přípustné řešení jako $x_i \\in X$, kde $X$ je možina všech přípustných řešení, hodnotu kriteriální funkce $y_i=f(x_i)$. Hledáme-li přípustné řešení, které maximalizuje kriteriální funkci, potom řešení $x^*$ je hledaným řešením, jestliže $\\forall_{x\\in X}:x^*\\ge x$. "
      ]
    },
    {
      "cell_type": "markdown",
      "metadata": {
        "id": "9ffn_Gf3Bdq1"
      },
      "source": [
        "V případě, kdy pro hodnocení nepoužíváme pouze jedno kritérium, mluvíme o vícekriteriální optimalizaci. \n",
        "\n",
        "Nejjednodušším přístupem k řešení takové úlohy je stanovení vah pro jednotlivá kritéria a faktické převedení vektorové kriteriální funkce na funkci skalární.\n",
        "\n",
        "Předpokládejme, že máme množinu kritérií $F=\\{f_1, f_2, \\dots, f_n\\}$. Každému kritérii $f_i$ přiřadíme jeho váhu $\\alpha_i$. Výsledné kritérium lze poté vyjádřit jako $f(x)=\\sum_{i=1}^n \\alpha_i f_i(x)$."
      ]
    },
    {
      "cell_type": "markdown",
      "metadata": {
        "id": "FRGJJLsGCtTF"
      },
      "source": [
        "Úloha hodnocení akademických pracovníků je fakticky optimalizační úlohou, při níž je definováno více kritérií. Zcela automaticky se vybaví dvě kritéria a to je vytížení ve výuce a výsledky tvůrčí činnosti. Na základě výše uvedených vztahů se nabízí jednotlivým kritérií přiřadit váhy a pokrýt celé hodnocení jedinou matematicky definovanou funkcí.\n",
        "\n",
        "Pro hodnocení akademických pracovníků na Univerzitě obrany je využito vícekriteriálního hodnocení založeného na fuzzy logice."
      ]
    },
    {
      "cell_type": "markdown",
      "metadata": {
        "id": "dzWd-zHf7_kx"
      },
      "source": [
        "## Fuzzy logika\n",
        "\n",
        "![purple-divider](https://user-images.githubusercontent.com/7065401/52071927-c1cd7100-2562-11e9-908a-dde91ba14e59.png)"
      ]
    },
    {
      "cell_type": "markdown",
      "metadata": {
        "id": "GaDGpxs3HjYU"
      },
      "source": [
        "### Booleova algebra"
      ]
    },
    {
      "cell_type": "markdown",
      "metadata": {
        "id": "7CpEw6_pDsNI"
      },
      "source": [
        "Fuzzy logika je matematická oblast, která binarní svět rozšiřuje o další možné stavy. Nejdříve si připomeňme operace z Booleovy algebry."
      ]
    },
    {
      "cell_type": "code",
      "metadata": {
        "colab": {
          "base_uri": "https://localhost:8080/"
        },
        "id": "RnuDwqtBD8qy",
        "outputId": "28dc20e7-f2de-4655-a131-f7453391773a"
      },
      "source": [
        "a = True\n",
        "b = False\n",
        "c = a and b\n",
        "print(a, b, c)"
      ],
      "execution_count": 1,
      "outputs": [
        {
          "output_type": "stream",
          "text": [
            "True False False\n"
          ],
          "name": "stdout"
        }
      ]
    },
    {
      "cell_type": "markdown",
      "metadata": {
        "id": "YZFtBFV_ENET"
      },
      "source": [
        "Booleova algebra používá dvě hodnoty (výše uvedené jako `True` a `False`). Pravděpodobně všichni znáte celou řadu operátorů jako jsou `or` a `and`.\n",
        "\n",
        "Podívejme se na jednoduché pravdivostní tabulky."
      ]
    },
    {
      "cell_type": "code",
      "metadata": {
        "id": "a1CJ_IuIEqLm"
      },
      "source": [
        "def pravdivostniTabulka(trueValue, falseValue, function):\n",
        "    print('- P tabulka', '-'*30)\n",
        "    print(function)\n",
        "    print('-'*42)\n",
        "    print(falseValue, falseValue, function(falseValue, falseValue), sep='\\t')\n",
        "    print(trueValue, falseValue, function(trueValue, falseValue), sep='\\t')\n",
        "    print(falseValue, trueValue, function(falseValue, trueValue), sep='\\t')\n",
        "    print(trueValue, trueValue, function(trueValue, trueValue), sep='\\t')\n",
        "    print('='*42)\n",
        "\n",
        "def orFunction(a, b):\n",
        "    return a or b\n",
        "\n",
        "def andFunction(a, b):\n",
        "    return a and b"
      ],
      "execution_count": 2,
      "outputs": []
    },
    {
      "cell_type": "code",
      "metadata": {
        "colab": {
          "base_uri": "https://localhost:8080/"
        },
        "id": "yxhOeboZFK07",
        "outputId": "46785cac-9ed0-4e59-ff0d-9ef45f053c02"
      },
      "source": [
        "pravdivostniTabulka(True, False, orFunction)\n",
        "pravdivostniTabulka(True, False, andFunction)"
      ],
      "execution_count": 3,
      "outputs": [
        {
          "output_type": "stream",
          "text": [
            "- P tabulka ------------------------------\n",
            "<function orFunction at 0x7ff612b920e0>\n",
            "------------------------------------------\n",
            "False\tFalse\tFalse\n",
            "True\tFalse\tTrue\n",
            "False\tTrue\tTrue\n",
            "True\tTrue\tTrue\n",
            "==========================================\n",
            "- P tabulka ------------------------------\n",
            "<function andFunction at 0x7ff612b92dd0>\n",
            "------------------------------------------\n",
            "False\tFalse\tFalse\n",
            "True\tFalse\tFalse\n",
            "False\tTrue\tFalse\n",
            "True\tTrue\tTrue\n",
            "==========================================\n"
          ],
          "name": "stdout"
        }
      ]
    },
    {
      "cell_type": "markdown",
      "metadata": {
        "id": "0ml7Spj7Ho4M"
      },
      "source": [
        "### Fuzzy hodnoty a funkce"
      ]
    },
    {
      "cell_type": "markdown",
      "metadata": {
        "id": "7HxIrcTvF5fS"
      },
      "source": [
        "Výsledky, které jsme dostali odpovídají předpokladům. Fuzzy logika je založena na myšlence, že lidé používají neurčitosti ve svých vyjádřeních. Příkladem je např. vyjádření: \"Myslím si, že spíše přijde.\" Mlhavá hodnota výroku nabývá hodnot z intervalu $<0;1>$, kde hodnota $0$ odpovídá `False` a hodnota $1$ odpovídá hodnotě `True`.\n",
        "\n",
        "Jakým způsobem ale realizovat operace jako jsou `or` a `and`."
      ]
    },
    {
      "cell_type": "code",
      "metadata": {
        "id": "0qZqfA_EGyOv"
      },
      "source": [
        "def fuzzyOr(a, b):\n",
        "    return max(a, b)\n",
        "\n",
        "def fuzzyAnd(a, b):\n",
        "    return min(a, b)"
      ],
      "execution_count": 4,
      "outputs": []
    },
    {
      "cell_type": "code",
      "metadata": {
        "colab": {
          "base_uri": "https://localhost:8080/"
        },
        "id": "EVFFzPZJG_QC",
        "outputId": "bbbfa244-a2d4-4005-da93-7c0103363b5d"
      },
      "source": [
        "pravdivostniTabulka(1, 0, fuzzyOr)\n",
        "pravdivostniTabulka(1, 0, fuzzyAnd)"
      ],
      "execution_count": 5,
      "outputs": [
        {
          "output_type": "stream",
          "text": [
            "- P tabulka ------------------------------\n",
            "<function fuzzyOr at 0x7ff60f174f80>\n",
            "------------------------------------------\n",
            "0\t0\t0\n",
            "1\t0\t1\n",
            "0\t1\t1\n",
            "1\t1\t1\n",
            "==========================================\n",
            "- P tabulka ------------------------------\n",
            "<function fuzzyAnd at 0x7ff60f174290>\n",
            "------------------------------------------\n",
            "0\t0\t0\n",
            "1\t0\t0\n",
            "0\t1\t0\n",
            "1\t1\t1\n",
            "==========================================\n"
          ],
          "name": "stdout"
        }
      ]
    },
    {
      "cell_type": "markdown",
      "metadata": {
        "id": "4grmY1vTHGqx"
      },
      "source": [
        "Podívejme se, jak budou vypadat pravdivostní tabulky, pokud použijeme jiné hodnoty."
      ]
    },
    {
      "cell_type": "code",
      "metadata": {
        "colab": {
          "base_uri": "https://localhost:8080/"
        },
        "id": "ezSXQvIKHP7E",
        "outputId": "604c5aa0-f333-43df-f52b-38c1057e6fdc"
      },
      "source": [
        "pravdivostniTabulka(0.6, 0.4, fuzzyOr)\n",
        "pravdivostniTabulka(0.6, 0.4, fuzzyAnd)"
      ],
      "execution_count": 6,
      "outputs": [
        {
          "output_type": "stream",
          "text": [
            "- P tabulka ------------------------------\n",
            "<function fuzzyOr at 0x7ff60f174f80>\n",
            "------------------------------------------\n",
            "0.4\t0.4\t0.4\n",
            "0.6\t0.4\t0.6\n",
            "0.4\t0.6\t0.6\n",
            "0.6\t0.6\t0.6\n",
            "==========================================\n",
            "- P tabulka ------------------------------\n",
            "<function fuzzyAnd at 0x7ff60f174290>\n",
            "------------------------------------------\n",
            "0.4\t0.4\t0.4\n",
            "0.6\t0.4\t0.4\n",
            "0.4\t0.6\t0.4\n",
            "0.6\t0.6\t0.6\n",
            "==========================================\n"
          ],
          "name": "stdout"
        }
      ]
    },
    {
      "cell_type": "markdown",
      "metadata": {
        "id": "OFZU6_0tHzV3"
      },
      "source": [
        "### Fuzzyfikace"
      ]
    },
    {
      "cell_type": "markdown",
      "metadata": {
        "id": "pbLRzpCRIQlT"
      },
      "source": [
        "Pro fuzzyfikaci se používají funkce příslušnosti (membership function). Funkce příslušnosti umožňují vyjádřit například, co znamená pojem \"velmi špatný\" ve vztahu hodnocení v rozsahu 0-10 \"hvězdiček\".\n",
        "\n",
        "- 0 hvězdiček - určitě \"velmi špatný\"\n",
        "- 1 hvězdička - asi \"velmi špatný\"\n",
        "- 2 hvězdičky - neznamenají \"velmi špatný\""
      ]
    },
    {
      "cell_type": "code",
      "metadata": {
        "id": "sMTfy0mBuPu6"
      },
      "source": [
        "# import knihovny pro vizualizaci (velmi podobné funkcionality jako v Matlabu) \n",
        "import matplotlib.pyplot as plt"
      ],
      "execution_count": 7,
      "outputs": []
    },
    {
      "cell_type": "code",
      "metadata": {
        "id": "jTVISwituU0t"
      },
      "source": [
        "fuzzyUniversum = [0, 1, 2, 3, 4, 5, 6, 7, 8, 9, 10]\n",
        "\n",
        "def fuzzyVectorCreator(values=fuzzyUniversum):\n",
        "    'funkce pro vytvoření membership funkce nad definovaným universem'\n",
        "    def resultFunc(value, leftDelta=2, rightDelta=2):\n",
        "        leftValue = max(value - leftDelta, values[0])\n",
        "        rightValue = min(value + rightDelta, values[-1])\n",
        "        \n",
        "        result = []\n",
        "        for item in values:\n",
        "            if item < leftValue:\n",
        "                result.append(0)\n",
        "            elif item == value:\n",
        "                result.append(1)\n",
        "            elif item < value:\n",
        "                resultItem = (item - leftValue) / leftDelta\n",
        "                result.append(resultItem)\n",
        "            elif item <= rightValue:\n",
        "                resultItem = (rightValue - item) / rightDelta\n",
        "                result.append(resultItem)\n",
        "            else:\n",
        "                result.append(0)\n",
        "        return result\n",
        "    return resultFunc"
      ],
      "execution_count": 8,
      "outputs": []
    },
    {
      "cell_type": "code",
      "metadata": {
        "colab": {
          "base_uri": "https://localhost:8080/",
          "height": 283
        },
        "id": "2M_ywW10uZh0",
        "outputId": "7a6b3344-ce12-4700-a85f-0d874302cbf1"
      },
      "source": [
        "fuzzyMapper = fuzzyVectorCreator()\n",
        "fuzzyVectorA = fuzzyMapper(0.0)\n",
        "\n",
        "plt.plot(fuzzyUniversum, fuzzyVectorA)\n",
        "print(fuzzyVectorA)"
      ],
      "execution_count": 9,
      "outputs": [
        {
          "output_type": "stream",
          "text": [
            "[1, 0.5, 0.0, 0, 0, 0, 0, 0, 0, 0, 0]\n"
          ],
          "name": "stdout"
        },
        {
          "output_type": "display_data",
          "data": {
            "image/png": "[encoded data removed]",
            "text/plain": [
              "<Figure size 432x288 with 1 Axes>"
            ]
          },
          "metadata": {
            "tags": [],
            "needs_background": "light"
          }
        }
      ]
    },
    {
      "cell_type": "markdown",
      "metadata": {
        "id": "De_Z9snn6U9_"
      },
      "source": [
        "Při použití více \"kategorií\" lze tyto vizualizovat současně. Je to běžné vyjádření."
      ]
    },
    {
      "cell_type": "code",
      "metadata": {
        "colab": {
          "base_uri": "https://localhost:8080/",
          "height": 283
        },
        "id": "4HAdP70LuLoV",
        "outputId": "c310bf95-9668-403d-b8fa-821d8a3164eb"
      },
      "source": [
        "fuzzyMapper = fuzzyVectorCreator()\n",
        "mfVelmiSpatne = fuzzyMapper(0.0)\n",
        "mfSpatne = fuzzyMapper(3.0)\n",
        "mfPrumerne = fuzzyMapper(5.0)\n",
        "mfDobre = fuzzyMapper(7.0)\n",
        "mfVelmiDobre = fuzzyMapper(10)\n",
        "\n",
        "plt.plot(fuzzyUniversum, mfVelmiSpatne, label='Velmi špatně')\n",
        "plt.plot(fuzzyUniversum, mfSpatne, label='Špatně')\n",
        "plt.plot(fuzzyUniversum, mfPrumerne, label='Průměrně')\n",
        "plt.plot(fuzzyUniversum, mfDobre, label='Dobře')\n",
        "plt.plot(fuzzyUniversum, mfVelmiDobre, label='Velmi dobře')\n",
        "plt.legend()\n",
        "\n",
        "print(mfPrumerne)"
      ],
      "execution_count": 10,
      "outputs": [
        {
          "output_type": "stream",
          "text": [
            "[0, 0, 0, 0.0, 0.5, 1, 0.5, 0.0, 0, 0, 0]\n"
          ],
          "name": "stdout"
        },
        {
          "output_type": "display_data",
          "data": {
            "image/png": "[encoded data removed]",
            "text/plain": [
              "<Figure size 432x288 with 1 Axes>"
            ]
          },
          "metadata": {
            "tags": [],
            "needs_background": "light"
          }
        }
      ]
    },
    {
      "cell_type": "markdown",
      "metadata": {
        "id": "AstFdOMMygO9"
      },
      "source": [
        "Pro práci s fuzzy systémy je možné použít existující knihovny. Zde použijeme `scikit`"
      ]
    },
    {
      "cell_type": "code",
      "metadata": {
        "colab": {
          "base_uri": "https://localhost:8080/"
        },
        "id": "9FqGOBb8yqjB",
        "outputId": "892dc74c-900f-4ec1-9465-a37c8cc64d15"
      },
      "source": [
        "!pip install scikit-fuzzy"
      ],
      "execution_count": 11,
      "outputs": [
        {
          "output_type": "stream",
          "text": [
            "Collecting scikit-fuzzy\n",
            "\u001b[?25l  Downloading https://files.pythonhosted.org/packages/6c/f0/5eb5dbe0fd8dfe7d4651a8f4e591a196623a22b9e5339101e559695b4f6c/scikit-fuzzy-0.4.2.tar.gz (993kB)\n",
            "\u001b[K     |████████████████████████████████| 1.0MB 4.0MB/s \n",
            "\u001b[?25hRequirement already satisfied: numpy>=1.6.0 in /usr/local/lib/python3.7/dist-packages (from scikit-fuzzy) (1.19.5)\n",
            "Requirement already satisfied: scipy>=0.9.0 in /usr/local/lib/python3.7/dist-packages (from scikit-fuzzy) (1.4.1)\n",
            "Requirement already satisfied: networkx>=1.9.0 in /usr/local/lib/python3.7/dist-packages (from scikit-fuzzy) (2.5.1)\n",
            "Requirement already satisfied: decorator<5,>=4.3 in /usr/local/lib/python3.7/dist-packages (from networkx>=1.9.0->scikit-fuzzy) (4.4.2)\n",
            "Building wheels for collected packages: scikit-fuzzy\n",
            "  Building wheel for scikit-fuzzy (setup.py) ... \u001b[?25l\u001b[?25hdone\n",
            "  Created wheel for scikit-fuzzy: filename=scikit_fuzzy-0.4.2-cp37-none-any.whl size=894088 sha256=634dbbd19d530aafa633a3074fc796fc516fd4e64894eb59801cbc4025270c01\n",
            "  Stored in directory: /root/.cache/pip/wheels/b9/4e/77/da79b16f64ef1738d95486e2731eea09d73e90a72465096600\n",
            "Successfully built scikit-fuzzy\n",
            "Installing collected packages: scikit-fuzzy\n",
            "Successfully installed scikit-fuzzy-0.4.2\n"
          ],
          "name": "stdout"
        }
      ]
    },
    {
      "cell_type": "markdown",
      "metadata": {
        "id": "b1XdMYNqwqBK"
      },
      "source": [
        "#### Špatné a dobré jídlo, špatná a dobrá obsluha"
      ]
    },
    {
      "cell_type": "markdown",
      "metadata": {
        "id": "vPOOYhQd4S50"
      },
      "source": [
        "Následující příklad byl převzat a částečně upraven z https://pythonhosted.org/scikit-fuzzy/auto_examples/plot_tipping_problem.html"
      ]
    },
    {
      "cell_type": "markdown",
      "metadata": {
        "id": "ekzvSbgxxY3B"
      },
      "source": [
        "Jídlo (food) universum $<0;10>$:\n",
        "- špatné (low / lo): 0\n",
        "- průměrné (medium / md): 5\n",
        "- dobré (high / hi): 10"
      ]
    },
    {
      "cell_type": "code",
      "metadata": {
        "id": "aLkYItvjyRFN"
      },
      "source": [
        "import numpy as np\n",
        "import skfuzzy as fuzz\n",
        "import matplotlib.pyplot as plt"
      ],
      "execution_count": 12,
      "outputs": []
    },
    {
      "cell_type": "code",
      "metadata": {
        "id": "3HWhPpDY6n9l",
        "colab": {
          "base_uri": "https://localhost:8080/"
        },
        "outputId": "f77251bf-e1d0-4c2d-aaa1-a1d7259c7528"
      },
      "source": [
        "# prostor\n",
        "x_qual = np.arange(0, 11, 1)\n",
        "\n",
        "# clenske funkce\n",
        "qual_lo = fuzz.trimf(x_qual, [0, 0, 5])\n",
        "qual_md = fuzz.trimf(x_qual, [0, 5, 10])\n",
        "qual_hi = fuzz.trimf(x_qual, [5, 10, 10])\n",
        "\n",
        "# vypis\n",
        "print(x_qual)\n",
        "print(qual_lo)\n",
        "print(qual_md)\n",
        "print(qual_hi)"
      ],
      "execution_count": 13,
      "outputs": [
        {
          "output_type": "stream",
          "text": [
            "[ 0  1  2  3  4  5  6  7  8  9 10]\n",
            "[1.  0.8 0.6 0.4 0.2 0.  0.  0.  0.  0.  0. ]\n",
            "[0.  0.2 0.4 0.6 0.8 1.  0.8 0.6 0.4 0.2 0. ]\n",
            "[0.  0.  0.  0.  0.  0.  0.2 0.4 0.6 0.8 1. ]\n"
          ],
          "name": "stdout"
        }
      ]
    },
    {
      "cell_type": "code",
      "metadata": {
        "colab": {
          "base_uri": "https://localhost:8080/",
          "height": 299
        },
        "id": "rXbAJ6u6yTv0",
        "outputId": "eea97357-4eb0-4a6e-a7e1-4b6dbbff5d47"
      },
      "source": [
        "# prostor\n",
        "x_qual = np.arange(0, 11, 1)\n",
        "\n",
        "# clenske funkce\n",
        "qual_lo = fuzz.trimf(x_qual, [0, 0, 5])\n",
        "qual_md = fuzz.trimf(x_qual, [0, 5, 10])\n",
        "qual_hi = fuzz.trimf(x_qual, [5, 10, 10])\n",
        "\n",
        "# graficky vystup\n",
        "plt.plot(x_qual, qual_lo, 'b', linewidth=1.5, label='Low')\n",
        "plt.plot(x_qual, qual_md, 'g', linewidth=1.5, label='Medium')\n",
        "plt.plot(x_qual, qual_hi, 'r', linewidth=1.5, label='High')\n",
        "plt.title('Food quality')\n",
        "plt.legend()"
      ],
      "execution_count": 14,
      "outputs": [
        {
          "output_type": "execute_result",
          "data": {
            "text/plain": [
              "<matplotlib.legend.Legend at 0x7ff6056436d0>"
            ]
          },
          "metadata": {
            "tags": []
          },
          "execution_count": 14
        },
        {
          "output_type": "display_data",
          "data": {
            "image/png": "[encoded data removed]",
            "text/plain": [
              "<Figure size 432x288 with 1 Axes>"
            ]
          },
          "metadata": {
            "tags": [],
            "needs_background": "light"
          }
        }
      ]
    },
    {
      "cell_type": "markdown",
      "metadata": {
        "id": "wflknJPxx_oU"
      },
      "source": [
        "Obsluha (service) universum $<0;10>$:\n",
        "- špatná (low / lo): 0\n",
        "- průměrná (medium / md): 5\n",
        "- dobrá (high / hi): 10"
      ]
    },
    {
      "cell_type": "code",
      "metadata": {
        "colab": {
          "base_uri": "https://localhost:8080/",
          "height": 299
        },
        "id": "XllCAcgRzEOm",
        "outputId": "15954e06-e9ad-4a65-9818-2f60b2511c14"
      },
      "source": [
        "# prostor\n",
        "\n",
        "x_serv = np.arange(0, 11, 1)\n",
        "\n",
        "# clenske funkce\n",
        "serv_lo = fuzz.trimf(x_serv, [0, 0, 5])\n",
        "serv_md = fuzz.trimf(x_serv, [0, 5, 10])\n",
        "serv_hi = fuzz.trimf(x_serv, [5, 10, 10])\n",
        "\n",
        "# graficky vystup\n",
        "plt.plot(x_serv, serv_lo, 'b', linewidth=1.5, label='Low')\n",
        "plt.plot(x_serv, serv_md, 'g', linewidth=1.5, label='Medium')\n",
        "plt.plot(x_serv, serv_hi, 'r', linewidth=1.5, label='Good')\n",
        "plt.title('Service quality')\n",
        "plt.legend()"
      ],
      "execution_count": 15,
      "outputs": [
        {
          "output_type": "execute_result",
          "data": {
            "text/plain": [
              "<matplotlib.legend.Legend at 0x7ff6055ce090>"
            ]
          },
          "metadata": {
            "tags": []
          },
          "execution_count": 15
        },
        {
          "output_type": "display_data",
          "data": {
            "image/png": "[encoded data removed]",
            "text/plain": [
              "<Figure size 432x288 with 1 Axes>"
            ]
          },
          "metadata": {
            "tags": [],
            "needs_background": "light"
          }
        }
      ]
    },
    {
      "cell_type": "markdown",
      "metadata": {
        "id": "a305yl2nzYOC"
      },
      "source": [
        "Spropitné (tip) universum $<0;25>$:\n",
        "- Malé (low / lo): 0\n",
        "- Střední (medium / md): 13\n",
        "- Vysoké (high / hi): 25"
      ]
    },
    {
      "cell_type": "code",
      "metadata": {
        "colab": {
          "base_uri": "https://localhost:8080/",
          "height": 299
        },
        "id": "mI4zm1jxzXcN",
        "outputId": "cefce839-758a-4881-f5ea-c67db180ddad"
      },
      "source": [
        "# prostor\n",
        "x_tip  = np.arange(0, 26, 1)\n",
        "\n",
        "# clenske funkce\n",
        "tip_lo = fuzz.trimf(x_tip, [0, 0, 13])\n",
        "tip_md = fuzz.trimf(x_tip, [0, 13, 25])\n",
        "tip_hi = fuzz.trimf(x_tip, [13, 25, 25])\n",
        "\n",
        "# graficky vystup\n",
        "plt.plot(x_tip, tip_lo, 'b', linewidth=1.5, label='Low')\n",
        "plt.plot(x_tip, tip_md, 'g', linewidth=1.5, label='Medium')\n",
        "plt.plot(x_tip, tip_hi, 'r', linewidth=1.5, label='High')\n",
        "plt.title('Tip amount')\n",
        "plt.legend()"
      ],
      "execution_count": 16,
      "outputs": [
        {
          "output_type": "execute_result",
          "data": {
            "text/plain": [
              "<matplotlib.legend.Legend at 0x7ff60554f950>"
            ]
          },
          "metadata": {
            "tags": []
          },
          "execution_count": 16
        },
        {
          "output_type": "display_data",
          "data": {
            "image/png": "[encoded data removed]",
            "text/plain": [
              "<Figure size 432x288 with 1 Axes>"
            ]
          },
          "metadata": {
            "tags": [],
            "needs_background": "light"
          }
        }
      ]
    },
    {
      "cell_type": "markdown",
      "metadata": {
        "id": "SS3auyfI0AzT"
      },
      "source": [
        "Jídlo a obsluha nechť je ohodnocena  následujícím způsobem:\n",
        "\n",
        "- jídlo = 6.5 (stupnice 0 -10)\n",
        "- obsluha = 9.8 (stupnice 0 -10)"
      ]
    },
    {
      "cell_type": "code",
      "metadata": {
        "id": "iKgQqJy60MJR"
      },
      "source": [
        "foodQuality = 6.5\n",
        "serviceQuality = 9.8"
      ],
      "execution_count": 17,
      "outputs": []
    },
    {
      "cell_type": "markdown",
      "metadata": {
        "id": "gpxiSyGz2PDr"
      },
      "source": [
        "#### Kvalita jídla"
      ]
    },
    {
      "cell_type": "code",
      "metadata": {
        "colab": {
          "base_uri": "https://localhost:8080/",
          "height": 299
        },
        "id": "4HeylwZZ11Wj",
        "outputId": "868d2dc3-adad-420e-dc5f-17529bd169c4"
      },
      "source": [
        "# vykresleni clenskych funkci\n",
        "plt.plot(x_qual, qual_lo, 'b', linewidth=1.5, label='Low')\n",
        "plt.plot(x_qual, qual_md, 'g', linewidth=1.5, label='Medium')\n",
        "plt.plot(x_qual, qual_hi, 'r', linewidth=1.5, label='High')\n",
        "plt.title('Food quality')\n",
        "\n",
        "# zobrazeni cary odpovidajici ohodnoceni kvality jidla\n",
        "plt.axvline(x=foodQuality)"
      ],
      "execution_count": null,
      "outputs": [
        {
          "output_type": "execute_result",
          "data": {
            "text/plain": [
              "<matplotlib.lines.Line2D at 0x7fadf714fa90>"
            ]
          },
          "metadata": {
            "tags": []
          },
          "execution_count": 19
        },
        {
          "output_type": "display_data",
          "data": {
            "image/png": "[encoded data removed]",
            "text/plain": [
              "<Figure size 432x288 with 1 Axes>"
            ]
          },
          "metadata": {
            "tags": [],
            "needs_background": "light"
          }
        }
      ]
    },
    {
      "cell_type": "code",
      "metadata": {
        "colab": {
          "base_uri": "https://localhost:8080/"
        },
        "id": "fNPizK8G0o8G",
        "outputId": "96a7e47f-2c62-455d-ecd6-bd16f8eedd2a"
      },
      "source": [
        "# interpretace clenskych funkci na zaklade kvality jidla\n",
        "qual_level_lo = fuzz.interp_membership(x_qual, qual_lo, foodQuality)\n",
        "qual_level_md = fuzz.interp_membership(x_qual, qual_md, foodQuality)\n",
        "qual_level_hi = fuzz.interp_membership(x_qual, qual_hi, foodQuality)\n",
        "\n",
        "print('Bylo jídlo špatné?', qual_level_lo)\n",
        "print('Bylo jídlo průměrné?', qual_level_md)\n",
        "print('Bylo jídlo dobré?', qual_level_hi)"
      ],
      "execution_count": 18,
      "outputs": [
        {
          "output_type": "stream",
          "text": [
            "Bylo jídlo špatné? 0.0\n",
            "Bylo jídlo průměrné? 0.7\n",
            "Bylo jídlo dobré? 0.30000000000000004\n"
          ],
          "name": "stdout"
        }
      ]
    },
    {
      "cell_type": "markdown",
      "metadata": {
        "id": "M8RiZNqx2WvU"
      },
      "source": [
        "#### Kvalita obsluhy"
      ]
    },
    {
      "cell_type": "code",
      "metadata": {
        "colab": {
          "base_uri": "https://localhost:8080/",
          "height": 299
        },
        "id": "C-0W43e116cG",
        "outputId": "1883598e-d0ab-4662-f57f-fd79e4a6c978"
      },
      "source": [
        "plt.plot(x_serv, serv_lo, 'b', linewidth=1.5, label='Low')\n",
        "plt.plot(x_serv, serv_md, 'g', linewidth=1.5, label='Medium')\n",
        "plt.plot(x_serv, serv_hi, 'r', linewidth=1.5, label='Good')\n",
        "plt.title('Service quality')\n",
        "plt.axvline(x=serviceQuality)"
      ],
      "execution_count": 19,
      "outputs": [
        {
          "output_type": "execute_result",
          "data": {
            "text/plain": [
              "<matplotlib.lines.Line2D at 0x7ff6054a4190>"
            ]
          },
          "metadata": {
            "tags": []
          },
          "execution_count": 19
        },
        {
          "output_type": "display_data",
          "data": {
            "image/png": "[encoded data removed]",
            "text/plain": [
              "<Figure size 432x288 with 1 Axes>"
            ]
          },
          "metadata": {
            "tags": [],
            "needs_background": "light"
          }
        }
      ]
    },
    {
      "cell_type": "code",
      "metadata": {
        "colab": {
          "base_uri": "https://localhost:8080/"
        },
        "id": "vb1qe0Co0pwm",
        "outputId": "fe5e790e-d7d1-4b07-f45a-bdd136e284c4"
      },
      "source": [
        "serv_level_lo = fuzz.interp_membership(x_serv, serv_lo, 9.8)\n",
        "serv_level_md = fuzz.interp_membership(x_serv, serv_md, 9.8)\n",
        "serv_level_hi = fuzz.interp_membership(x_serv, serv_hi, 9.8)\n",
        "\n",
        "print('Byla obsluha špatná?', serv_level_lo)\n",
        "print('Byla obsluha průměrná?', serv_level_md)\n",
        "print('Byla obsluha dobrá?', serv_level_hi)"
      ],
      "execution_count": 20,
      "outputs": [
        {
          "output_type": "stream",
          "text": [
            "Byla obsluha špatná? 0.0\n",
            "Byla obsluha průměrná? 0.03999999999999987\n",
            "Byla obsluha dobrá? 0.9600000000000002\n"
          ],
          "name": "stdout"
        }
      ]
    },
    {
      "cell_type": "markdown",
      "metadata": {
        "id": "SveKOBPXH9lS"
      },
      "source": [
        "### Pravidlový systém"
      ]
    },
    {
      "cell_type": "markdown",
      "metadata": {
        "id": "rsbk-8bcIbzh"
      },
      "source": [
        "Pravidlový systém umožňuje definici if then pravidel nad fuzzy hodnotami.\n",
        "\n",
        "V našem příkladu pro výpočet spropitného definujeme tato pravidla:\n",
        "- **jestliže** jídlo bylo vynikající **nebo** obsluha byla skvělá **potom** je spropitné **vysoké**\n",
        "- **jestliže** obsluha byla dobrá **potom** je spropitné **střední**\n",
        "- **jestliže** jídlo bylo špatné **a** obsluha byla špatná **potom** je spropitné **nízké**"
      ]
    },
    {
      "cell_type": "markdown",
      "metadata": {
        "id": "t6Em9CCOIK6j"
      },
      "source": [
        "#### Pravidlo 1"
      ]
    },
    {
      "cell_type": "code",
      "metadata": {
        "colab": {
          "base_uri": "https://localhost:8080/"
        },
        "id": "EI1ycg7k2_8O",
        "outputId": "ddd7d4ab-2392-450e-d179-01bb8d446f23"
      },
      "source": [
        "active_rule1 = np.fmax(qual_level_lo, serv_level_lo)\n",
        "print(active_rule1)\n",
        "\n",
        "# Now we apply this by clipping the top off the corresponding output\n",
        "# membership function with `np.fmin`\n",
        "tip_activation_lo = np.fmin(active_rule1, tip_lo)  # removed entirely to 0\n",
        "print(tip_activation_lo)"
      ],
      "execution_count": 21,
      "outputs": [
        {
          "output_type": "stream",
          "text": [
            "0.0\n",
            "[0. 0. 0. 0. 0. 0. 0. 0. 0. 0. 0. 0. 0. 0. 0. 0. 0. 0. 0. 0. 0. 0. 0. 0.\n",
            " 0. 0.]\n"
          ],
          "name": "stdout"
        }
      ]
    },
    {
      "cell_type": "markdown",
      "metadata": {
        "id": "sWfu_J1nIXei"
      },
      "source": [
        "#### Pravidlo 2"
      ]
    },
    {
      "cell_type": "code",
      "metadata": {
        "colab": {
          "base_uri": "https://localhost:8080/"
        },
        "id": "IYVMZx453QNf",
        "outputId": "a503409e-3410-471b-9894-f160d9377dfa"
      },
      "source": [
        "active_rule2 = serv_level_md\n",
        "print(active_rule2)\n",
        "tip_activation_md = np.fmin(active_rule2, tip_md)\n",
        "print(tip_activation_md)"
      ],
      "execution_count": 22,
      "outputs": [
        {
          "output_type": "stream",
          "text": [
            "0.03999999999999987\n",
            "[0.   0.04 0.04 0.04 0.04 0.04 0.04 0.04 0.04 0.04 0.04 0.04 0.04 0.04\n",
            " 0.04 0.04 0.04 0.04 0.04 0.04 0.04 0.04 0.04 0.04 0.04 0.  ]\n"
          ],
          "name": "stdout"
        }
      ]
    },
    {
      "cell_type": "markdown",
      "metadata": {
        "id": "zFoTmuzJIZU1"
      },
      "source": [
        "#### Pravidlo 3"
      ]
    },
    {
      "cell_type": "code",
      "metadata": {
        "colab": {
          "base_uri": "https://localhost:8080/"
        },
        "id": "1eMtpi3H3W23",
        "outputId": "775bd460-6421-422b-ca57-cb65496f1124"
      },
      "source": [
        "active_rule3 = np.fmax(qual_level_hi, serv_level_hi)\n",
        "print(active_rule3)\n",
        "tip_activation_hi = np.fmin(active_rule3, tip_hi)\n",
        "print(tip_activation_hi)"
      ],
      "execution_count": 23,
      "outputs": [
        {
          "output_type": "stream",
          "text": [
            "0.9600000000000002\n",
            "[0.         0.         0.         0.         0.         0.\n",
            " 0.         0.         0.         0.         0.         0.\n",
            " 0.         0.         0.08333333 0.16666667 0.25       0.33333333\n",
            " 0.41666667 0.5        0.58333333 0.66666667 0.75       0.83333333\n",
            " 0.91666667 0.96      ]\n"
          ],
          "name": "stdout"
        }
      ]
    },
    {
      "cell_type": "markdown",
      "metadata": {
        "id": "tN4RjSHfIdHv"
      },
      "source": [
        "#### Fúze hodnot z pravidel"
      ]
    },
    {
      "cell_type": "code",
      "metadata": {
        "colab": {
          "base_uri": "https://localhost:8080/",
          "height": 299
        },
        "id": "CSADxuNt3ps2",
        "outputId": "966f30ad-67f6-4a50-cdf8-a03872a73fe5"
      },
      "source": [
        "tip0 = np.zeros_like(x_tip)\n",
        "\n",
        "# pravidlo 1\n",
        "plt.fill_between(x_tip, tip0, tip_activation_lo, facecolor='b', alpha=0.7)\n",
        "plt.plot(x_tip, tip_lo, 'b', linewidth=0.5, linestyle='--', )\n",
        "# pravidlo 2\n",
        "plt.fill_between(x_tip, tip0, tip_activation_md, facecolor='g', alpha=0.7)\n",
        "plt.plot(x_tip, tip_md, 'g', linewidth=0.5, linestyle='--')\n",
        "# pravidlo 3\n",
        "plt.fill_between(x_tip, tip0, tip_activation_hi, facecolor='r', alpha=0.7)\n",
        "plt.plot(x_tip, tip_hi, 'r', linewidth=0.5, linestyle='--')\n",
        "plt.title('Output membership activity')"
      ],
      "execution_count": 24,
      "outputs": [
        {
          "output_type": "execute_result",
          "data": {
            "text/plain": [
              "Text(0.5, 1.0, 'Output membership activity')"
            ]
          },
          "metadata": {
            "tags": []
          },
          "execution_count": 24
        },
        {
          "output_type": "display_data",
          "data": {
            "image/png": "[encoded data removed]",
            "text/plain": [
              "<Figure size 432x288 with 1 Axes>"
            ]
          },
          "metadata": {
            "tags": [],
            "needs_background": "light"
          }
        }
      ]
    },
    {
      "cell_type": "markdown",
      "metadata": {
        "id": "llnYw8A8IAWB"
      },
      "source": [
        "### Defuzzyfikace"
      ]
    },
    {
      "cell_type": "code",
      "metadata": {
        "colab": {
          "base_uri": "https://localhost:8080/",
          "height": 318
        },
        "id": "8BZhzfOV4A7_",
        "outputId": "b432a702-8453-492a-ef2a-85b53045fc67"
      },
      "source": [
        "aggregated = np.fmax(tip_activation_lo,\n",
        "    np.fmax(tip_activation_md, tip_activation_hi))\n",
        "\n",
        "# Calculate defuzzified result\n",
        "tip = fuzz.defuzz(x_tip, aggregated, 'centroid')\n",
        "print(tip)\n",
        "tip_activation = fuzz.interp_membership(x_tip, aggregated, tip)  # for plot\n",
        "\n",
        "# Visualize this\n",
        "plt.plot(x_tip, tip_lo, 'b', linewidth=0.5, linestyle='--', )\n",
        "plt.plot(x_tip, tip_md, 'g', linewidth=0.5, linestyle='--')\n",
        "plt.plot(x_tip, tip_hi, 'r', linewidth=0.5, linestyle='--')\n",
        "plt.fill_between(x_tip, tip0, aggregated, facecolor='Orange', alpha=0.7)\n",
        "plt.plot([tip, tip], [0, tip_activation], 'k', linewidth=1.5, alpha=0.9)\n",
        "plt.title('Aggregated membership and result (line)')\n"
      ],
      "execution_count": 25,
      "outputs": [
        {
          "output_type": "stream",
          "text": [
            "19.86871794871795\n"
          ],
          "name": "stdout"
        },
        {
          "output_type": "execute_result",
          "data": {
            "text/plain": [
              "Text(0.5, 1.0, 'Aggregated membership and result (line)')"
            ]
          },
          "metadata": {
            "tags": []
          },
          "execution_count": 25
        },
        {
          "output_type": "display_data",
          "data": {
            "image/png": "[encoded data removed]",
            "text/plain": [
              "<Figure size 432x288 with 1 Axes>"
            ]
          },
          "metadata": {
            "tags": [],
            "needs_background": "light"
          }
        }
      ]
    },
    {
      "cell_type": "markdown",
      "metadata": {
        "id": "OKzHg6mv8B5U"
      },
      "source": [
        "## Využití fuzzy logiky pro hodnocení (HAP)\n",
        "\n",
        "![purple-divider](https://user-images.githubusercontent.com/7065401/52071927-c1cd7100-2562-11e9-908a-dde91ba14e59.png)"
      ]
    },
    {
      "cell_type": "markdown",
      "metadata": {
        "id": "9zxpta7D4eIZ"
      },
      "source": [
        "Pro implementaci systému Hodnocení akademických pracovníků byl využit obdobný mechanismus, jako v příkladu o spropitném.\n",
        "\n",
        "Každá fakulta na Univerzitě obrany má vlastní nastavené (kalibrované) stupnice. Základem je vytížení ve výuce a výsledky tvůrčí činnosti. Je zohledněna pozice hodnoceného (VK, proděkan, děkan, prorektor, ...) a jsou zahrnuty dílčí aktivity.\n",
        "\n",
        "**Konkrétní nastavení (MF ve FL) mi není známo**."
      ]
    },
    {
      "cell_type": "markdown",
      "metadata": {
        "id": "_oM-DpxK69Wg"
      },
      "source": [
        "Dá se očekávat, že pravidlový systém má následující charakter:\n",
        "\n",
        "- **jestliže** je AP výukou velmi vytížený **nebo** AP má vynikající výsledky **potom** je AP vynikající\n",
        "- **jestliže** je AP výukou nevytížený **a** AP má nulové výsledky **potom** je AP špatný"
      ]
    },
    {
      "cell_type": "markdown",
      "metadata": {
        "id": "wflu8jEQ8Jr2"
      },
      "source": [
        "## Závěr\n",
        "\n",
        "![purple-divider](https://user-images.githubusercontent.com/7065401/52071927-c1cd7100-2562-11e9-908a-dde91ba14e59.png)"
      ]
    },
    {
      "cell_type": "markdown",
      "metadata": {
        "id": "C2TLcfC0L1Ev"
      },
      "source": [
        "Systém HAP je z principu systémem vícekriteriálního hodnocení. Je založen na fuzzy. Vnitřní struktura systému a případně jednotlivé koeficienty mi nejsou známé. Současně je vhodné vědět, že toto hodnocení bylo adaptováno na podmínky jednotlivých fakult."
      ]
    },
    {
      "cell_type": "code",
      "metadata": {
        "id": "H67Zt1jgT0kz"
      },
      "source": [
        ""
      ],
      "execution_count": null,
      "outputs": []
    }
  ]
}